{
 "cells": [
  {
   "cell_type": "code",
   "execution_count": 1,
   "id": "035f8e72-250d-4ffc-bfea-2403554b68b5",
   "metadata": {},
   "outputs": [
    {
     "name": "stdout",
     "output_type": "stream",
     "text": [
      "Added path '/rds/homes/g/gaddcz/Projects/CPRD/virtual-env-icelake/lib/python3.10/site-packages' at start of search paths.\n",
      "/rds/homes/g/gaddcz/Projects/CPRD/data/database\n"
     ]
    }
   ],
   "source": [
    "import os\n",
    "from pathlib import Path\n",
    "import sys\n",
    "node_type = os.getenv('BB_CPU')\n",
    "venv_dir = f'/rds/homes/g/gaddcz/Projects/CPRD/virtual-env-{node_type}'\n",
    "venv_site_pkgs = Path(venv_dir) / 'lib' / f'python{sys.version_info.major}.{sys.version_info.minor}' / 'site-packages'\n",
    "if venv_site_pkgs.exists():\n",
    "    sys.path.insert(0, str(venv_site_pkgs))\n",
    "    print(f\"Added path '{venv_site_pkgs}' at start of search paths.\")\n",
    "else:\n",
    "    print(f\"Path '{venv_site_pkgs}' not found. Check that it exists and/or that it exists for node-type '{node_type}'.\")\n",
    "\n",
    "!pwd\n",
    "%load_ext autoreload\n",
    "%autoreload 2"
   ]
  },
  {
   "cell_type": "code",
   "execution_count": 3,
   "id": "b4c9bdce-d6af-44ea-a33b-5b448b0e0254",
   "metadata": {},
   "outputs": [
    {
     "name": "stdout",
     "output_type": "stream",
     "text": [
      "Using device: cuda.\n"
     ]
    }
   ],
   "source": [
    "import pytorch_lightning\n",
    "import torch\n",
    "import numpy as np\n",
    "import matplotlib.pyplot as plt\n",
    "import random\n",
    "import sqlite3\n",
    "import logging\n",
    "from CPRD.data.database.build_static_db import build_static_table\n",
    "from CPRD.data.database.build_diagnosis_db import build_diagnosis_table\n",
    "from CPRD.data.database.build_measurements_and_tests_db import build_measurements_table\n",
    "\n",
    "torch.manual_seed(1337)\n",
    "logging.basicConfig(level=logging.INFO)\n",
    "device = 'cuda' if torch.cuda.is_available() else 'cpu'\n",
    "\n",
    "print(f\"Using device: {device}.\")"
   ]
  },
  {
   "cell_type": "code",
   "execution_count": 7,
   "id": "7c7cf52e-cc4c-4d7a-aaec-849a259c85e9",
   "metadata": {},
   "outputs": [],
   "source": [
    "def build_tables(connector, \n",
    "                 path_to_static=None,\n",
    "                 path_to_diagnoses=None,\n",
    "                 path_to_measurements=None, \n",
    "                 unzip_measuremements=False,\n",
    "                 verbose=0):\n",
    "        \n",
    "    if path_to_static is not None:\n",
    "        build_static_table(connector, path_to_static, verbose=verbose)\n",
    "    if path_to_diagnoses is not None:\n",
    "        build_diagnosis_table(connector, path_to_diagnoses, verbose=verbose)\n",
    "    if path_to_measurements is not None:\n",
    "        build_measurements_table(connector, path_to_measurements, unzip=unzip_measuremements, verbose=verbose)\n",
    "\n",
    "PATH_TO_DB = \"/rds/projects/g/gokhalkm-optimal/OPTIMAL_MASTER_DATASET/data/cprd.db\"\n"
   ]
  },
  {
   "cell_type": "code",
   "execution_count": 9,
   "id": "d66f1b2f-43f5-41bf-9936-9e300eb0bdb2",
   "metadata": {
    "scrolled": true
   },
   "outputs": [
    {
     "name": "stderr",
     "output_type": "stream",
     "text": [
      "Building static table: 141it [10:17,  4.38s/it]\n"
     ]
    },
    {
     "name": "stdout",
     "output_type": "stream",
     "text": [
      "\t Static table built with 28121517 records.\n"
     ]
    },
    {
     "name": "stderr",
     "output_type": "stream",
     "text": [
      "Building diagnosis table: 141it [17:16,  7.35s/it]\n"
     ]
    },
    {
     "name": "stdout",
     "output_type": "stream",
     "text": [
      "\t Diagnosis table built with 51003640 records.\n",
      "Building Serum_bilirubin_level_53 to the measurements/tests table from \n",
      "\t /rds/projects/g/gokhalkm-optimal/OPTIMAL_MASTER_DATASET/data/timeseries/measurement_and_tests/lab_measurements/AVF2_masterDataOptimal_v3_fullDB20231112045951_Serum_bilirubin_level_53.zip.\n"
     ]
    },
    {
     "name": "stderr",
     "output_type": "stream",
     "text": [
      "Adding Serum_bilirubin_level_53 measurements to table: 0it [00:00, ?it/s]"
     ]
    },
    {
     "name": "stdout",
     "output_type": "stream",
     "text": [
      "Index(['PRACTICE_PATIENT_ID', 'INDEX_DATE', 'EXIT_DATE',\n",
      "       'SERUM_BILIRUBIN_LEVEL_53EVENT_DATE', 'SERUM_BILIRUBIN_LEVEL_53Value',\n",
      "       'SERUM_BILIRUBIN_LEVEL_53NumUnit', 'SERUM_BILIRUBIN_LEVEL_53LowRange',\n",
      "       'SERUM_BILIRUBIN_LEVEL_53HighRange'],\n",
      "      dtype='object')\n",
      "Using event_date_col SERUM_BILIRUBIN_LEVEL_53EVENT_DATE, and event_value_col SERUM_BILIRUBIN_LEVEL_53Value\n"
     ]
    },
    {
     "name": "stderr",
     "output_type": "stream",
     "text": [
      "Adding Serum_bilirubin_level_53 measurements to table: 121it [02:21,  1.17s/it]\n"
     ]
    },
    {
     "name": "stdout",
     "output_type": "stream",
     "text": [
      "Building Total_alkaline_phosphatase_48 to the measurements/tests table from \n",
      "\t /rds/projects/g/gokhalkm-optimal/OPTIMAL_MASTER_DATASET/data/timeseries/measurement_and_tests/lab_measurements/AVF2_masterDataOptimal_v3_fullDB20231112045951_Total_alkaline_phosphatase_48.zip.\n"
     ]
    },
    {
     "name": "stderr",
     "output_type": "stream",
     "text": [
      "Adding Total_alkaline_phosphatase_48 measurements to table: 0it [00:00, ?it/s]"
     ]
    },
    {
     "name": "stdout",
     "output_type": "stream",
     "text": [
      "Index(['PRACTICE_PATIENT_ID', 'INDEX_DATE', 'EXIT_DATE',\n",
      "       'TOTAL_ALKALINE_PHOSPHATASE_48EVENT_DATE',\n",
      "       'TOTAL_ALKALINE_PHOSPHATASE_48Value',\n",
      "       'TOTAL_ALKALINE_PHOSPHATASE_48NumUnit',\n",
      "       'TOTAL_ALKALINE_PHOSPHATASE_48LowRange',\n",
      "       'TOTAL_ALKALINE_PHOSPHATASE_48HighRange'],\n",
      "      dtype='object')\n",
      "Using event_date_col TOTAL_ALKALINE_PHOSPHATASE_48EVENT_DATE, and event_value_col TOTAL_ALKALINE_PHOSPHATASE_48Value\n"
     ]
    },
    {
     "name": "stderr",
     "output_type": "stream",
     "text": [
      "Adding Total_alkaline_phosphatase_48 measurements to table: 33it [00:38,  1.17s/it]\n"
     ]
    },
    {
     "name": "stdout",
     "output_type": "stream",
     "text": [
      "Building AlcoholConsumption_Never to the measurements/tests table from \n",
      "\t /rds/projects/g/gokhalkm-optimal/OPTIMAL_MASTER_DATASET/data/timeseries/measurement_and_tests/lab_measurements/AVF2_masterDataOptimal_v3_fullDB20231112045951_AlcoholConsumption_Never.zip.\n"
     ]
    },
    {
     "name": "stderr",
     "output_type": "stream",
     "text": [
      "Adding AlcoholConsumption_Never measurements to table: 0it [00:00, ?it/s]"
     ]
    },
    {
     "name": "stdout",
     "output_type": "stream",
     "text": [
      "Index(['PRACTICE_PATIENT_ID', 'INDEX_DATE', 'EXIT_DATE',\n",
      "       'ALCOHOLCONSUMPTION_NEVER', 'EVENT_DATE'],\n",
      "      dtype='object')\n",
      "Using event_date_col EVENT_DATE, and event_value_col ALCOHOLCONSUMPTION_NEVER\n"
     ]
    },
    {
     "name": "stderr",
     "output_type": "stream",
     "text": [
      "Adding AlcoholConsumption_Never measurements to table: 30it [00:35,  1.20s/it]\n"
     ]
    },
    {
     "name": "stdout",
     "output_type": "stream",
     "text": [
      "Building Diastolic_blood_pressure_5 to the measurements/tests table from \n",
      "\t /rds/projects/g/gokhalkm-optimal/OPTIMAL_MASTER_DATASET/data/timeseries/measurement_and_tests/lab_measurements/AVF2_masterDataOptimal_v3_fullDB20231112045951_Diastolic_blood_pressure_5.zip.\n"
     ]
    },
    {
     "name": "stderr",
     "output_type": "stream",
     "text": [
      "Adding Diastolic_blood_pressure_5 measurements to table: 0it [00:00, ?it/s]"
     ]
    },
    {
     "name": "stdout",
     "output_type": "stream",
     "text": [
      "Index(['PRACTICE_PATIENT_ID', 'INDEX_DATE', 'EXIT_DATE',\n",
      "       'DIASTOLIC_BLOOD_PRESSURE_5EVENT_DATE',\n",
      "       'DIASTOLIC_BLOOD_PRESSURE_5Value', 'DIASTOLIC_BLOOD_PRESSURE_5NumUnit',\n",
      "       'DIASTOLIC_BLOOD_PRESSURE_5LowRange',\n",
      "       'DIASTOLIC_BLOOD_PRESSURE_5HighRange'],\n",
      "      dtype='object')\n",
      "Using event_date_col DIASTOLIC_BLOOD_PRESSURE_5EVENT_DATE, and event_value_col DIASTOLIC_BLOOD_PRESSURE_5Value\n"
     ]
    },
    {
     "name": "stderr",
     "output_type": "stream",
     "text": [
      "Adding Diastolic_blood_pressure_5 measurements to table: 1206it [23:22,  1.16s/it]\n"
     ]
    },
    {
     "name": "stdout",
     "output_type": "stream",
     "text": [
      "Building Plasma_creatinine_level_32 to the measurements/tests table from \n",
      "\t /rds/projects/g/gokhalkm-optimal/OPTIMAL_MASTER_DATASET/data/timeseries/measurement_and_tests/lab_measurements/AVF2_masterDataOptimal_v3_fullDB20231112045951_Plasma_creatinine_level_32.zip.\n"
     ]
    },
    {
     "name": "stderr",
     "output_type": "stream",
     "text": [
      "Adding Plasma_creatinine_level_32 measurements to table: 0it [00:00, ?it/s]"
     ]
    },
    {
     "name": "stdout",
     "output_type": "stream",
     "text": [
      "Index(['PRACTICE_PATIENT_ID', 'INDEX_DATE', 'EXIT_DATE',\n",
      "       'PLASMA_CREATININE_LEVEL_32EVENT_DATE',\n",
      "       'PLASMA_CREATININE_LEVEL_32Value', 'PLASMA_CREATININE_LEVEL_32NumUnit',\n",
      "       'PLASMA_CREATININE_LEVEL_32LowRange',\n",
      "       'PLASMA_CREATININE_LEVEL_32HighRange'],\n",
      "      dtype='object')\n",
      "Using event_date_col PLASMA_CREATININE_LEVEL_32EVENT_DATE, and event_value_col PLASMA_CREATININE_LEVEL_32Value\n"
     ]
    },
    {
     "name": "stderr",
     "output_type": "stream",
     "text": [
      "Adding Plasma_creatinine_level_32 measurements to table: 23it [00:26,  1.16s/it]\n"
     ]
    },
    {
     "name": "stdout",
     "output_type": "stream",
     "text": [
      "Building Plasma_cholesterol_HDL_ratio_96 to the measurements/tests table from \n",
      "\t /rds/projects/g/gokhalkm-optimal/OPTIMAL_MASTER_DATASET/data/timeseries/measurement_and_tests/lab_measurements/AVF2_masterDataOptimal_v3_fullDB20231112045951_Plasma_cholesterol_HDL_ratio_96.zip.\n"
     ]
    },
    {
     "name": "stderr",
     "output_type": "stream",
     "text": [
      "Adding Plasma_cholesterol_HDL_ratio_96 measurements to table: 0it [00:00, ?it/s]"
     ]
    },
    {
     "name": "stdout",
     "output_type": "stream",
     "text": [
      "Index(['PRACTICE_PATIENT_ID', 'INDEX_DATE', 'EXIT_DATE',\n",
      "       'PLASMA_CHOLESTEROL/HDL_RATIO_96EVENT_DATE',\n",
      "       'PLASMA_CHOLESTEROL/HDL_RATIO_96Value',\n",
      "       'PLASMA_CHOLESTEROL/HDL_RATIO_96NumUnit',\n",
      "       'PLASMA_CHOLESTEROL/HDL_RATIO_96LowRange',\n",
      "       'PLASMA_CHOLESTEROL/HDL_RATIO_96HighRange'],\n",
      "      dtype='object')\n",
      "Using event_date_col PLASMA_CHOLESTEROL/HDL_RATIO_96EVENT_DATE, and event_value_col PLASMA_CHOLESTEROL/HDL_RATIO_96Value\n"
     ]
    },
    {
     "name": "stderr",
     "output_type": "stream",
     "text": [
      "Adding Plasma_cholesterol_HDL_ratio_96 measurements to table: 3it [00:03,  1.14s/it]\n"
     ]
    },
    {
     "name": "stdout",
     "output_type": "stream",
     "text": [
      "Building Urine_microalbumin_creatinine_ratio_36 to the measurements/tests table from \n",
      "\t /rds/projects/g/gokhalkm-optimal/OPTIMAL_MASTER_DATASET/data/timeseries/measurement_and_tests/lab_measurements/AVF2_masterDataOptimal_v3_fullDB20231112045951_Urine_microalbumin_creatinine_ratio_36.zip.\n"
     ]
    },
    {
     "name": "stderr",
     "output_type": "stream",
     "text": [
      "Adding Urine_microalbumin_creatinine_ratio_36 measurements to table: 0it [00:00, ?it/s]"
     ]
    },
    {
     "name": "stdout",
     "output_type": "stream",
     "text": [
      "Index(['PRACTICE_PATIENT_ID', 'INDEX_DATE', 'EXIT_DATE',\n",
      "       'URINE_MICROALBUMIN:CREATININE_RATIO_36EVENT_DATE',\n",
      "       'URINE_MICROALBUMIN:CREATININE_RATIO_36Value',\n",
      "       'URINE_MICROALBUMIN:CREATININE_RATIO_36NumUnit',\n",
      "       'URINE_MICROALBUMIN:CREATININE_RATIO_36LowRange',\n",
      "       'URINE_MICROALBUMIN:CREATININE_RATIO_36HighRange'],\n",
      "      dtype='object')\n",
      "Using event_date_col URINE_MICROALBUMIN:CREATININE_RATIO_36EVENT_DATE, and event_value_col URINE_MICROALBUMIN:CREATININE_RATIO_36Value\n"
     ]
    },
    {
     "name": "stderr",
     "output_type": "stream",
     "text": [
      "Adding Urine_microalbumin_creatinine_ratio_36 measurements to table: 2it [00:01,  1.55it/s]\n"
     ]
    },
    {
     "name": "stdout",
     "output_type": "stream",
     "text": [
      "Building GFR_calculated_abbreviated_MDRD_34 to the measurements/tests table from \n",
      "\t /rds/projects/g/gokhalkm-optimal/OPTIMAL_MASTER_DATASET/data/timeseries/measurement_and_tests/lab_measurements/AVF2_masterDataOptimal_v3_fullDB20231112045951_GFR_calculated_abbreviated_MDRD_34.zip.\n"
     ]
    },
    {
     "name": "stderr",
     "output_type": "stream",
     "text": [
      "Adding GFR_calculated_abbreviated_MDRD_34 measurements to table: 0it [00:00, ?it/s]"
     ]
    },
    {
     "name": "stdout",
     "output_type": "stream",
     "text": [
      "Index(['PRACTICE_PATIENT_ID', 'INDEX_DATE', 'EXIT_DATE',\n",
      "       'GFR_CALCULATED_ABBREVIATED_MDRD_34EVENT_DATE',\n",
      "       'GFR_CALCULATED_ABBREVIATED_MDRD_34Value',\n",
      "       'GFR_CALCULATED_ABBREVIATED_MDRD_34NumUnit',\n",
      "       'GFR_CALCULATED_ABBREVIATED_MDRD_34LowRange',\n",
      "       'GFR_CALCULATED_ABBREVIATED_MDRD_34HighRange'],\n",
      "      dtype='object')\n",
      "Using event_date_col GFR_CALCULATED_ABBREVIATED_MDRD_34EVENT_DATE, and event_value_col GFR_CALCULATED_ABBREVIATED_MDRD_34Value\n"
     ]
    },
    {
     "name": "stderr",
     "output_type": "stream",
     "text": [
      "Adding GFR_calculated_abbreviated_MDRD_34 measurements to table: 369it [07:13,  1.18s/it]\n"
     ]
    },
    {
     "name": "stdout",
     "output_type": "stream",
     "text": [
      "Building Plasma_total_cholesterol_level_99 to the measurements/tests table from \n",
      "\t /rds/projects/g/gokhalkm-optimal/OPTIMAL_MASTER_DATASET/data/timeseries/measurement_and_tests/lab_measurements/AVF2_masterDataOptimal_v3_fullDB20231112045951_Plasma_total_cholesterol_level_99.zip.\n"
     ]
    },
    {
     "name": "stderr",
     "output_type": "stream",
     "text": [
      "Adding Plasma_total_cholesterol_level_99 measurements to table: 0it [00:00, ?it/s]"
     ]
    },
    {
     "name": "stdout",
     "output_type": "stream",
     "text": [
      "Index(['PRACTICE_PATIENT_ID', 'INDEX_DATE', 'EXIT_DATE',\n",
      "       'PLASMA_TOTAL_CHOLESTEROL_LEVEL_99EVENT_DATE',\n",
      "       'PLASMA_TOTAL_CHOLESTEROL_LEVEL_99Value',\n",
      "       'PLASMA_TOTAL_CHOLESTEROL_LEVEL_99NumUnit',\n",
      "       'PLASMA_TOTAL_CHOLESTEROL_LEVEL_99LowRange',\n",
      "       'PLASMA_TOTAL_CHOLESTEROL_LEVEL_99HighRange'],\n",
      "      dtype='object')\n",
      "Using event_date_col PLASMA_TOTAL_CHOLESTEROL_LEVEL_99EVENT_DATE, and event_value_col PLASMA_TOTAL_CHOLESTEROL_LEVEL_99Value\n"
     ]
    },
    {
     "name": "stderr",
     "output_type": "stream",
     "text": [
      "Adding Plasma_total_cholesterol_level_99 measurements to table: 12it [00:14,  1.17s/it]\n"
     ]
    },
    {
     "name": "stdout",
     "output_type": "stream",
     "text": [
      "Building Serum_cholesterol_HDL_ratio_94 to the measurements/tests table from \n",
      "\t /rds/projects/g/gokhalkm-optimal/OPTIMAL_MASTER_DATASET/data/timeseries/measurement_and_tests/lab_measurements/AVF2_masterDataOptimal_v3_fullDB20231112045951_Serum_cholesterol_HDL_ratio_94.zip.\n"
     ]
    },
    {
     "name": "stderr",
     "output_type": "stream",
     "text": [
      "Adding Serum_cholesterol_HDL_ratio_94 measurements to table: 0it [00:00, ?it/s]"
     ]
    },
    {
     "name": "stdout",
     "output_type": "stream",
     "text": [
      "Index(['PRACTICE_PATIENT_ID', 'INDEX_DATE', 'EXIT_DATE',\n",
      "       'SERUM_CHOLESTEROL/HDL_RATIO_94EVENT_DATE',\n",
      "       'SERUM_CHOLESTEROL/HDL_RATIO_94Value',\n",
      "       'SERUM_CHOLESTEROL/HDL_RATIO_94NumUnit',\n",
      "       'SERUM_CHOLESTEROL/HDL_RATIO_94LowRange',\n",
      "       'SERUM_CHOLESTEROL/HDL_RATIO_94HighRange'],\n",
      "      dtype='object')\n",
      "Using event_date_col SERUM_CHOLESTEROL/HDL_RATIO_94EVENT_DATE, and event_value_col SERUM_CHOLESTEROL/HDL_RATIO_94Value\n"
     ]
    },
    {
     "name": "stderr",
     "output_type": "stream",
     "text": [
      "Adding Serum_cholesterol_HDL_ratio_94 measurements to table: 143it [02:49,  1.18s/it]\n"
     ]
    },
    {
     "name": "stdout",
     "output_type": "stream",
     "text": [
      "Building Serum_calcium_39 to the measurements/tests table from \n",
      "\t /rds/projects/g/gokhalkm-optimal/OPTIMAL_MASTER_DATASET/data/timeseries/measurement_and_tests/lab_measurements/AVF2_masterDataOptimal_v3_fullDB20231112045951_Serum_calcium_39.zip.\n"
     ]
    },
    {
     "name": "stderr",
     "output_type": "stream",
     "text": [
      "Adding Serum_calcium_39 measurements to table: 0it [00:00, ?it/s]"
     ]
    },
    {
     "name": "stdout",
     "output_type": "stream",
     "text": [
      "Index(['PRACTICE_PATIENT_ID', 'INDEX_DATE', 'EXIT_DATE',\n",
      "       'SERUM_CALCIUM_39EVENT_DATE', 'SERUM_CALCIUM_39Value',\n",
      "       'SERUM_CALCIUM_39NumUnit', 'SERUM_CALCIUM_39LowRange',\n",
      "       'SERUM_CALCIUM_39HighRange'],\n",
      "      dtype='object')\n",
      "Using event_date_col SERUM_CALCIUM_39EVENT_DATE, and event_value_col SERUM_CALCIUM_39Value\n"
     ]
    },
    {
     "name": "stderr",
     "output_type": "stream",
     "text": [
      "Adding Serum_calcium_39 measurements to table: 141it [02:47,  1.19s/it]\n"
     ]
    },
    {
     "name": "stdout",
     "output_type": "stream",
     "text": [
      "Building Albumin___creatinine_ratio_37 to the measurements/tests table from \n",
      "\t /rds/projects/g/gokhalkm-optimal/OPTIMAL_MASTER_DATASET/data/timeseries/measurement_and_tests/lab_measurements/AVF2_masterDataOptimal_v3_fullDB20231112045951_Albumin___creatinine_ratio_37.zip.\n"
     ]
    },
    {
     "name": "stderr",
     "output_type": "stream",
     "text": [
      "Adding Albumin___creatinine_ratio_37 measurements to table: 0it [00:00, ?it/s]"
     ]
    },
    {
     "name": "stdout",
     "output_type": "stream",
     "text": [
      "Index(['PRACTICE_PATIENT_ID', 'INDEX_DATE', 'EXIT_DATE',\n",
      "       'ALBUMIN_/_CREATININE_RATIO_37EVENT_DATE',\n",
      "       'ALBUMIN_/_CREATININE_RATIO_37Value',\n",
      "       'ALBUMIN_/_CREATININE_RATIO_37NumUnit',\n",
      "       'ALBUMIN_/_CREATININE_RATIO_37LowRange',\n",
      "       'ALBUMIN_/_CREATININE_RATIO_37HighRange'],\n",
      "      dtype='object')\n",
      "Using event_date_col ALBUMIN_/_CREATININE_RATIO_37EVENT_DATE, and event_value_col ALBUMIN_/_CREATININE_RATIO_37Value\n"
     ]
    },
    {
     "name": "stderr",
     "output_type": "stream",
     "text": [
      "Adding Albumin___creatinine_ratio_37 measurements to table: 1it [00:01,  1.18s/it]\n"
     ]
    },
    {
     "name": "stdout",
     "output_type": "stream",
     "text": [
      "Building Mean_corpusc._haemoglobin_MCH__13 to the measurements/tests table from \n",
      "\t /rds/projects/g/gokhalkm-optimal/OPTIMAL_MASTER_DATASET/data/timeseries/measurement_and_tests/lab_measurements/AVF2_masterDataOptimal_v3_fullDB20231112045951_Mean_corpusc._haemoglobin_MCH__13.zip.\n"
     ]
    },
    {
     "name": "stderr",
     "output_type": "stream",
     "text": [
      "Adding Mean_corpusc._haemoglobin_MCH__13 measurements to table: 0it [00:00, ?it/s]"
     ]
    },
    {
     "name": "stdout",
     "output_type": "stream",
     "text": [
      "Index(['PRACTICE_PATIENT_ID', 'INDEX_DATE', 'EXIT_DATE',\n",
      "       'MEAN_CORPUSC._HAEMOGLOBIN(MCH)_13EVENT_DATE',\n",
      "       'MEAN_CORPUSC._HAEMOGLOBIN(MCH)_13Value',\n",
      "       'MEAN_CORPUSC._HAEMOGLOBIN(MCH)_13NumUnit',\n",
      "       'MEAN_CORPUSC._HAEMOGLOBIN(MCH)_13LowRange',\n",
      "       'MEAN_CORPUSC._HAEMOGLOBIN(MCH)_13HighRange'],\n",
      "      dtype='object')\n",
      "Using event_date_col MEAN_CORPUSC._HAEMOGLOBIN(MCH)_13EVENT_DATE, and event_value_col MEAN_CORPUSC._HAEMOGLOBIN(MCH)_13Value\n"
     ]
    },
    {
     "name": "stderr",
     "output_type": "stream",
     "text": [
      "Adding Mean_corpusc._haemoglobin_MCH__13 measurements to table: 453it [09:02,  1.20s/it]\n"
     ]
    },
    {
     "name": "stdout",
     "output_type": "stream",
     "text": [
      "Building Body_mass_index_3 to the measurements/tests table from \n",
      "\t /rds/projects/g/gokhalkm-optimal/OPTIMAL_MASTER_DATASET/data/timeseries/measurement_and_tests/lab_measurements/AVF2_masterDataOptimal_v3_fullDB20231112045951_Body_mass_index_3.zip.\n"
     ]
    },
    {
     "name": "stderr",
     "output_type": "stream",
     "text": [
      "Adding Body_mass_index_3 measurements to table: 0it [00:00, ?it/s]"
     ]
    },
    {
     "name": "stdout",
     "output_type": "stream",
     "text": [
      "Index(['PRACTICE_PATIENT_ID', 'INDEX_DATE', 'EXIT_DATE',\n",
      "       'BODY_MASS_INDEX_3EVENT_DATE', 'BODY_MASS_INDEX_3Value',\n",
      "       'BODY_MASS_INDEX_3NumUnit', 'BODY_MASS_INDEX_3LowRange',\n",
      "       'BODY_MASS_INDEX_3HighRange'],\n",
      "      dtype='object')\n",
      "Using event_date_col BODY_MASS_INDEX_3EVENT_DATE, and event_value_col BODY_MASS_INDEX_3Value\n"
     ]
    },
    {
     "name": "stderr",
     "output_type": "stream",
     "text": [
      "Adding Body_mass_index_3 measurements to table: 500it [09:50,  1.18s/it]\n"
     ]
    },
    {
     "name": "stdout",
     "output_type": "stream",
     "text": [
      "Building Plasma_potassium_level_27 to the measurements/tests table from \n",
      "\t /rds/projects/g/gokhalkm-optimal/OPTIMAL_MASTER_DATASET/data/timeseries/measurement_and_tests/lab_measurements/AVF2_masterDataOptimal_v3_fullDB20231112045951_Plasma_potassium_level_27.zip.\n"
     ]
    },
    {
     "name": "stderr",
     "output_type": "stream",
     "text": [
      "Adding Plasma_potassium_level_27 measurements to table: 0it [00:00, ?it/s]"
     ]
    },
    {
     "name": "stdout",
     "output_type": "stream",
     "text": [
      "Index(['PRACTICE_PATIENT_ID', 'INDEX_DATE', 'EXIT_DATE',\n",
      "       'PLASMA_POTASSIUM_LEVEL_27EVENT_DATE', 'PLASMA_POTASSIUM_LEVEL_27Value',\n",
      "       'PLASMA_POTASSIUM_LEVEL_27NumUnit', 'PLASMA_POTASSIUM_LEVEL_27LowRange',\n",
      "       'PLASMA_POTASSIUM_LEVEL_27HighRange'],\n",
      "      dtype='object')\n",
      "Using event_date_col PLASMA_POTASSIUM_LEVEL_27EVENT_DATE, and event_value_col PLASMA_POTASSIUM_LEVEL_27Value\n"
     ]
    },
    {
     "name": "stderr",
     "output_type": "stream",
     "text": [
      "Adding Plasma_potassium_level_27 measurements to table: 23it [00:26,  1.17s/it]\n"
     ]
    },
    {
     "name": "stdout",
     "output_type": "stream",
     "text": [
      "Building Serum_potassium_26 to the measurements/tests table from \n",
      "\t /rds/projects/g/gokhalkm-optimal/OPTIMAL_MASTER_DATASET/data/timeseries/measurement_and_tests/lab_measurements/AVF2_masterDataOptimal_v3_fullDB20231112045951_Serum_potassium_26.zip.\n"
     ]
    },
    {
     "name": "stderr",
     "output_type": "stream",
     "text": [
      "Adding Serum_potassium_26 measurements to table: 0it [00:00, ?it/s]"
     ]
    },
    {
     "name": "stdout",
     "output_type": "stream",
     "text": [
      "Index(['PRACTICE_PATIENT_ID', 'INDEX_DATE', 'EXIT_DATE',\n",
      "       'SERUM_POTASSIUM_26EVENT_DATE', 'SERUM_POTASSIUM_26Value',\n",
      "       'SERUM_POTASSIUM_26NumUnit', 'SERUM_POTASSIUM_26LowRange',\n",
      "       'SERUM_POTASSIUM_26HighRange'],\n",
      "      dtype='object')\n",
      "Using event_date_col SERUM_POTASSIUM_26EVENT_DATE, and event_value_col SERUM_POTASSIUM_26Value\n"
     ]
    },
    {
     "name": "stderr",
     "output_type": "stream",
     "text": [
      "Adding Serum_potassium_26 measurements to table: 496it [09:44,  1.18s/it]\n"
     ]
    },
    {
     "name": "stdout",
     "output_type": "stream",
     "text": [
      "Building Plasma_corrected_calcium_level_43 to the measurements/tests table from \n",
      "\t /rds/projects/g/gokhalkm-optimal/OPTIMAL_MASTER_DATASET/data/timeseries/measurement_and_tests/lab_measurements/AVF2_masterDataOptimal_v3_fullDB20231112045951_Plasma_corrected_calcium_level_43.zip.\n"
     ]
    },
    {
     "name": "stderr",
     "output_type": "stream",
     "text": [
      "Adding Plasma_corrected_calcium_level_43 measurements to table: 0it [00:00, ?it/s]"
     ]
    },
    {
     "name": "stdout",
     "output_type": "stream",
     "text": [
      "Index(['PRACTICE_PATIENT_ID', 'INDEX_DATE', 'EXIT_DATE',\n",
      "       'PLASMA_CORRECTED_CALCIUM_LEVEL_43EVENT_DATE',\n",
      "       'PLASMA_CORRECTED_CALCIUM_LEVEL_43Value',\n",
      "       'PLASMA_CORRECTED_CALCIUM_LEVEL_43NumUnit',\n",
      "       'PLASMA_CORRECTED_CALCIUM_LEVEL_43LowRange',\n",
      "       'PLASMA_CORRECTED_CALCIUM_LEVEL_43HighRange'],\n",
      "      dtype='object')\n",
      "Using event_date_col PLASMA_CORRECTED_CALCIUM_LEVEL_43EVENT_DATE, and event_value_col PLASMA_CORRECTED_CALCIUM_LEVEL_43Value\n"
     ]
    },
    {
     "name": "stderr",
     "output_type": "stream",
     "text": [
      "Adding Plasma_corrected_calcium_level_43 measurements to table: 6it [00:06,  1.17s/it]\n"
     ]
    },
    {
     "name": "stdout",
     "output_type": "stream",
     "text": [
      "Building Red_blood_cell__RBC__count_10 to the measurements/tests table from \n",
      "\t /rds/projects/g/gokhalkm-optimal/OPTIMAL_MASTER_DATASET/data/timeseries/measurement_and_tests/lab_measurements/AVF2_masterDataOptimal_v3_fullDB20231112045951_Red_blood_cell__RBC__count_10.zip.\n"
     ]
    },
    {
     "name": "stderr",
     "output_type": "stream",
     "text": [
      "Adding Red_blood_cell__RBC__count_10 measurements to table: 0it [00:00, ?it/s]"
     ]
    },
    {
     "name": "stdout",
     "output_type": "stream",
     "text": [
      "Index(['PRACTICE_PATIENT_ID', 'INDEX_DATE', 'EXIT_DATE',\n",
      "       'RED_BLOOD_CELL_(RBC)_COUNT_10EVENT_DATE',\n",
      "       'RED_BLOOD_CELL_(RBC)_COUNT_10Value',\n",
      "       'RED_BLOOD_CELL_(RBC)_COUNT_10NumUnit',\n",
      "       'RED_BLOOD_CELL_(RBC)_COUNT_10LowRange',\n",
      "       'RED_BLOOD_CELL_(RBC)_COUNT_10HighRange'],\n",
      "      dtype='object')\n",
      "Using event_date_col RED_BLOOD_CELL_(RBC)_COUNT_10EVENT_DATE, and event_value_col RED_BLOOD_CELL_(RBC)_COUNT_10Value\n"
     ]
    },
    {
     "name": "stderr",
     "output_type": "stream",
     "text": [
      "Adding Red_blood_cell__RBC__count_10 measurements to table: 462it [09:11,  1.19s/it]\n"
     ]
    },
    {
     "name": "stdout",
     "output_type": "stream",
     "text": [
      "Building Plasma_ferritin_level_62 to the measurements/tests table from \n",
      "\t /rds/projects/g/gokhalkm-optimal/OPTIMAL_MASTER_DATASET/data/timeseries/measurement_and_tests/lab_measurements/AVF2_masterDataOptimal_v3_fullDB20231112045951_Plasma_ferritin_level_62.zip.\n"
     ]
    },
    {
     "name": "stderr",
     "output_type": "stream",
     "text": [
      "Adding Plasma_ferritin_level_62 measurements to table: 0it [00:00, ?it/s]"
     ]
    },
    {
     "name": "stdout",
     "output_type": "stream",
     "text": [
      "Index(['PRACTICE_PATIENT_ID', 'INDEX_DATE', 'EXIT_DATE',\n",
      "       'PLASMA_FERRITIN_LEVEL_62EVENT_DATE', 'PLASMA_FERRITIN_LEVEL_62Value',\n",
      "       'PLASMA_FERRITIN_LEVEL_62NumUnit', 'PLASMA_FERRITIN_LEVEL_62LowRange',\n",
      "       'PLASMA_FERRITIN_LEVEL_62HighRange'],\n",
      "      dtype='object')\n",
      "Using event_date_col PLASMA_FERRITIN_LEVEL_62EVENT_DATE, and event_value_col PLASMA_FERRITIN_LEVEL_62Value\n"
     ]
    },
    {
     "name": "stderr",
     "output_type": "stream",
     "text": [
      "Adding Plasma_ferritin_level_62 measurements to table: 2it [00:01,  1.49it/s]\n"
     ]
    },
    {
     "name": "stdout",
     "output_type": "stream",
     "text": [
      "Building Haemoglobin_A1c_level_-_IFCC_standardised_6 to the measurements/tests table from \n",
      "\t /rds/projects/g/gokhalkm-optimal/OPTIMAL_MASTER_DATASET/data/timeseries/measurement_and_tests/lab_measurements/AVF2_masterDataOptimal_v3_fullDB20231112045951_Haemoglobin_A1c_level_-_IFCC_standardised_6.zip.\n"
     ]
    },
    {
     "name": "stderr",
     "output_type": "stream",
     "text": [
      "Adding Haemoglobin_A1c_level_-_IFCC_standardised_6 measurements to table: 0it [00:00, ?it/s]"
     ]
    },
    {
     "name": "stdout",
     "output_type": "stream",
     "text": [
      "Index(['PRACTICE_PATIENT_ID', 'INDEX_DATE', 'EXIT_DATE',\n",
      "       'HAEMOGLOBIN_A1C_LEVEL_-_IFCC_STANDARDISED_6EVENT_DATE',\n",
      "       'HAEMOGLOBIN_A1C_LEVEL_-_IFCC_STANDARDISED_6Value',\n",
      "       'HAEMOGLOBIN_A1C_LEVEL_-_IFCC_STANDARDISED_6NumUnit',\n",
      "       'HAEMOGLOBIN_A1C_LEVEL_-_IFCC_STANDARDISED_6LowRange',\n",
      "       'HAEMOGLOBIN_A1C_LEVEL_-_IFCC_STANDARDISED_6HighRange'],\n",
      "      dtype='object')\n",
      "Using event_date_col HAEMOGLOBIN_A1C_LEVEL_-_IFCC_STANDARDISED_6EVENT_DATE, and event_value_col HAEMOGLOBIN_A1C_LEVEL_-_IFCC_STANDARDISED_6Value\n"
     ]
    },
    {
     "name": "stderr",
     "output_type": "stream",
     "text": [
      "Adding Haemoglobin_A1c_level_-_IFCC_standardised_6 measurements to table: 176it [03:29,  1.19s/it]\n"
     ]
    },
    {
     "name": "stdout",
     "output_type": "stream",
     "text": [
      "Building Serum_cholesterol_97 to the measurements/tests table from \n",
      "\t /rds/projects/g/gokhalkm-optimal/OPTIMAL_MASTER_DATASET/data/timeseries/measurement_and_tests/lab_measurements/AVF2_masterDataOptimal_v3_fullDB20231112045951_Serum_cholesterol_97.zip.\n"
     ]
    },
    {
     "name": "stderr",
     "output_type": "stream",
     "text": [
      "Adding Serum_cholesterol_97 measurements to table: 0it [00:00, ?it/s]"
     ]
    },
    {
     "name": "stdout",
     "output_type": "stream",
     "text": [
      "Index(['PRACTICE_PATIENT_ID', 'INDEX_DATE', 'EXIT_DATE',\n",
      "       'SERUM_CHOLESTEROL_97EVENT_DATE', 'SERUM_CHOLESTEROL_97Value',\n",
      "       'SERUM_CHOLESTEROL_97NumUnit', 'SERUM_CHOLESTEROL_97LowRange',\n",
      "       'SERUM_CHOLESTEROL_97HighRange'],\n",
      "      dtype='object')\n",
      "Using event_date_col SERUM_CHOLESTEROL_97EVENT_DATE, and event_value_col SERUM_CHOLESTEROL_97Value\n"
     ]
    },
    {
     "name": "stderr",
     "output_type": "stream",
     "text": [
      "Adding Serum_cholesterol_97 measurements to table: 287it [05:38,  1.18s/it]\n"
     ]
    },
    {
     "name": "stdout",
     "output_type": "stream",
     "text": [
      "Building Plasma_sodium_level_25 to the measurements/tests table from \n",
      "\t /rds/projects/g/gokhalkm-optimal/OPTIMAL_MASTER_DATASET/data/timeseries/measurement_and_tests/lab_measurements/AVF2_masterDataOptimal_v3_fullDB20231112045951_Plasma_sodium_level_25.zip.\n"
     ]
    },
    {
     "name": "stderr",
     "output_type": "stream",
     "text": [
      "Adding Plasma_sodium_level_25 measurements to table: 0it [00:00, ?it/s]"
     ]
    },
    {
     "name": "stdout",
     "output_type": "stream",
     "text": [
      "Index(['PRACTICE_PATIENT_ID', 'INDEX_DATE', 'EXIT_DATE',\n",
      "       'PLASMA_SODIUM_LEVEL_25EVENT_DATE', 'PLASMA_SODIUM_LEVEL_25Value',\n",
      "       'PLASMA_SODIUM_LEVEL_25NumUnit', 'PLASMA_SODIUM_LEVEL_25LowRange',\n",
      "       'PLASMA_SODIUM_LEVEL_25HighRange'],\n",
      "      dtype='object')\n",
      "Using event_date_col PLASMA_SODIUM_LEVEL_25EVENT_DATE, and event_value_col PLASMA_SODIUM_LEVEL_25Value\n"
     ]
    },
    {
     "name": "stderr",
     "output_type": "stream",
     "text": [
      "Adding Plasma_sodium_level_25 measurements to table: 23it [00:26,  1.15s/it]\n"
     ]
    },
    {
     "name": "stdout",
     "output_type": "stream",
     "text": [
      "Building Plasma_LDL_cholesterol_level_104 to the measurements/tests table from \n",
      "\t /rds/projects/g/gokhalkm-optimal/OPTIMAL_MASTER_DATASET/data/timeseries/measurement_and_tests/lab_measurements/AVF2_masterDataOptimal_v3_fullDB20231112045951_Plasma_LDL_cholesterol_level_104.zip.\n"
     ]
    },
    {
     "name": "stderr",
     "output_type": "stream",
     "text": [
      "Adding Plasma_LDL_cholesterol_level_104 measurements to table: 0it [00:00, ?it/s]"
     ]
    },
    {
     "name": "stdout",
     "output_type": "stream",
     "text": [
      "Index(['PRACTICE_PATIENT_ID', 'INDEX_DATE', 'EXIT_DATE',\n",
      "       'PLASMA_LDL_CHOLESTEROL_LEVEL_104EVENT_DATE',\n",
      "       'PLASMA_LDL_CHOLESTEROL_LEVEL_104Value',\n",
      "       'PLASMA_LDL_CHOLESTEROL_LEVEL_104NumUnit',\n",
      "       'PLASMA_LDL_CHOLESTEROL_LEVEL_104LowRange',\n",
      "       'PLASMA_LDL_CHOLESTEROL_LEVEL_104HighRange'],\n",
      "      dtype='object')\n",
      "Using event_date_col PLASMA_LDL_CHOLESTEROL_LEVEL_104EVENT_DATE, and event_value_col PLASMA_LDL_CHOLESTEROL_LEVEL_104Value\n"
     ]
    },
    {
     "name": "stderr",
     "output_type": "stream",
     "text": [
      "Adding Plasma_LDL_cholesterol_level_104 measurements to table: 8it [00:08,  1.06s/it]\n"
     ]
    },
    {
     "name": "stdout",
     "output_type": "stream",
     "text": [
      "Building International_normalised_ratio_82 to the measurements/tests table from \n",
      "\t /rds/projects/g/gokhalkm-optimal/OPTIMAL_MASTER_DATASET/data/timeseries/measurement_and_tests/lab_measurements/AVF2_masterDataOptimal_v3_fullDB20231112045951_International_normalised_ratio_82.zip.\n"
     ]
    },
    {
     "name": "stderr",
     "output_type": "stream",
     "text": [
      "Adding International_normalised_ratio_82 measurements to table: 0it [00:00, ?it/s]"
     ]
    },
    {
     "name": "stdout",
     "output_type": "stream",
     "text": [
      "Index(['PRACTICE_PATIENT_ID', 'INDEX_DATE', 'EXIT_DATE',\n",
      "       'INTERNATIONAL_NORMALISED_RATIO_82EVENT_DATE',\n",
      "       'INTERNATIONAL_NORMALISED_RATIO_82Value',\n",
      "       'INTERNATIONAL_NORMALISED_RATIO_82NumUnit',\n",
      "       'INTERNATIONAL_NORMALISED_RATIO_82LowRange',\n",
      "       'INTERNATIONAL_NORMALISED_RATIO_82HighRange'],\n",
      "      dtype='object')\n",
      "Using event_date_col INTERNATIONAL_NORMALISED_RATIO_82EVENT_DATE, and event_value_col INTERNATIONAL_NORMALISED_RATIO_82Value\n"
     ]
    },
    {
     "name": "stderr",
     "output_type": "stream",
     "text": [
      "Adding International_normalised_ratio_82 measurements to table: 140it [02:44,  1.18s/it]\n"
     ]
    },
    {
     "name": "stdout",
     "output_type": "stream",
     "text": [
      "Building Brain_natriuretic_peptide_level_66 to the measurements/tests table from \n",
      "\t /rds/projects/g/gokhalkm-optimal/OPTIMAL_MASTER_DATASET/data/timeseries/measurement_and_tests/lab_measurements/AVF2_masterDataOptimal_v3_fullDB20231112045951_Brain_natriuretic_peptide_level_66.zip.\n"
     ]
    },
    {
     "name": "stderr",
     "output_type": "stream",
     "text": [
      "Adding Brain_natriuretic_peptide_level_66 measurements to table: 0it [00:00, ?it/s]"
     ]
    },
    {
     "name": "stdout",
     "output_type": "stream",
     "text": [
      "Index(['PRACTICE_PATIENT_ID', 'INDEX_DATE', 'EXIT_DATE',\n",
      "       'BRAIN_NATRIURETIC_PEPTIDE_LEVEL_66EVENT_DATE',\n",
      "       'BRAIN_NATRIURETIC_PEPTIDE_LEVEL_66Value',\n",
      "       'BRAIN_NATRIURETIC_PEPTIDE_LEVEL_66NumUnit',\n",
      "       'BRAIN_NATRIURETIC_PEPTIDE_LEVEL_66LowRange',\n",
      "       'BRAIN_NATRIURETIC_PEPTIDE_LEVEL_66HighRange'],\n",
      "      dtype='object')\n",
      "Using event_date_col BRAIN_NATRIURETIC_PEPTIDE_LEVEL_66EVENT_DATE, and event_value_col BRAIN_NATRIURETIC_PEPTIDE_LEVEL_66Value\n"
     ]
    },
    {
     "name": "stderr",
     "output_type": "stream",
     "text": [
      "Adding Brain_natriuretic_peptide_level_66 measurements to table: 2it [00:01,  1.36it/s]\n"
     ]
    },
    {
     "name": "stdout",
     "output_type": "stream",
     "text": [
      "Building Plasma_gamma-glutamyl_transferase_level_58 to the measurements/tests table from \n",
      "\t /rds/projects/g/gokhalkm-optimal/OPTIMAL_MASTER_DATASET/data/timeseries/measurement_and_tests/lab_measurements/AVF2_masterDataOptimal_v3_fullDB20231112045951_Plasma_gamma-glutamyl_transferase_level_58.zip.\n"
     ]
    },
    {
     "name": "stderr",
     "output_type": "stream",
     "text": [
      "Adding Plasma_gamma-glutamyl_transferase_level_58 measurements to table: 0it [00:00, ?it/s]"
     ]
    },
    {
     "name": "stdout",
     "output_type": "stream",
     "text": [
      "Index(['PRACTICE_PATIENT_ID', 'INDEX_DATE', 'EXIT_DATE',\n",
      "       'PLASMA_GAMMA-GLUTAMYL_TRANSFERASE_LEVEL_58EVENT_DATE',\n",
      "       'PLASMA_GAMMA-GLUTAMYL_TRANSFERASE_LEVEL_58Value',\n",
      "       'PLASMA_GAMMA-GLUTAMYL_TRANSFERASE_LEVEL_58NumUnit',\n",
      "       'PLASMA_GAMMA-GLUTAMYL_TRANSFERASE_LEVEL_58LowRange',\n",
      "       'PLASMA_GAMMA-GLUTAMYL_TRANSFERASE_LEVEL_58HighRange'],\n",
      "      dtype='object')\n",
      "Using event_date_col PLASMA_GAMMA-GLUTAMYL_TRANSFERASE_LEVEL_58EVENT_DATE, and event_value_col PLASMA_GAMMA-GLUTAMYL_TRANSFERASE_LEVEL_58Value\n"
     ]
    },
    {
     "name": "stderr",
     "output_type": "stream",
     "text": [
      "Adding Plasma_gamma-glutamyl_transferase_level_58 measurements to table: 9it [00:10,  1.19s/it]\n"
     ]
    },
    {
     "name": "stdout",
     "output_type": "stream",
     "text": [
      "Building 25-Hydroxyvitamin_D2_level_92 to the measurements/tests table from \n",
      "\t /rds/projects/g/gokhalkm-optimal/OPTIMAL_MASTER_DATASET/data/timeseries/measurement_and_tests/lab_measurements/AVF2_masterDataOptimal_v3_fullDB20231112045951_25-Hydroxyvitamin_D2_level_92.zip.\n"
     ]
    },
    {
     "name": "stderr",
     "output_type": "stream",
     "text": [
      "Adding 25-Hydroxyvitamin_D2_level_92 measurements to table: 0it [00:00, ?it/s]"
     ]
    },
    {
     "name": "stdout",
     "output_type": "stream",
     "text": [
      "Index(['PRACTICE_PATIENT_ID', 'INDEX_DATE', 'EXIT_DATE',\n",
      "       '25-HYDROXYVITAMIN_D2_LEVEL_92EVENT_DATE',\n",
      "       '25-HYDROXYVITAMIN_D2_LEVEL_92Value',\n",
      "       '25-HYDROXYVITAMIN_D2_LEVEL_92NumUnit',\n",
      "       '25-HYDROXYVITAMIN_D2_LEVEL_92LowRange',\n",
      "       '25-HYDROXYVITAMIN_D2_LEVEL_92HighRange'],\n",
      "      dtype='object')\n",
      "Using event_date_col 25-HYDROXYVITAMIN_D2_LEVEL_92EVENT_DATE, and event_value_col 25-HYDROXYVITAMIN_D2_LEVEL_92Value\n"
     ]
    },
    {
     "name": "stderr",
     "output_type": "stream",
     "text": [
      "Adding 25-Hydroxyvitamin_D2_level_92 measurements to table: 4it [00:04,  1.17s/it]\n"
     ]
    },
    {
     "name": "stdout",
     "output_type": "stream",
     "text": [
      "Building Neutrophil_count_19 to the measurements/tests table from \n",
      "\t /rds/projects/g/gokhalkm-optimal/OPTIMAL_MASTER_DATASET/data/timeseries/measurement_and_tests/lab_measurements/AVF2_masterDataOptimal_v3_fullDB20231112045951_Neutrophil_count_19.zip.\n"
     ]
    },
    {
     "name": "stderr",
     "output_type": "stream",
     "text": [
      "Adding Neutrophil_count_19 measurements to table: 0it [00:00, ?it/s]"
     ]
    },
    {
     "name": "stdout",
     "output_type": "stream",
     "text": [
      "Index(['PRACTICE_PATIENT_ID', 'INDEX_DATE', 'EXIT_DATE',\n",
      "       'NEUTROPHIL_COUNT_19EVENT_DATE', 'NEUTROPHIL_COUNT_19Value',\n",
      "       'NEUTROPHIL_COUNT_19NumUnit', 'NEUTROPHIL_COUNT_19LowRange',\n",
      "       'NEUTROPHIL_COUNT_19HighRange'],\n",
      "      dtype='object')\n",
      "Using event_date_col NEUTROPHIL_COUNT_19EVENT_DATE, and event_value_col NEUTROPHIL_COUNT_19Value\n"
     ]
    },
    {
     "name": "stderr",
     "output_type": "stream",
     "text": [
      "Adding Neutrophil_count_19 measurements to table: 468it [09:13,  1.18s/it]\n"
     ]
    },
    {
     "name": "stdout",
     "output_type": "stream",
     "text": [
      "Building Eosinophil_count_21 to the measurements/tests table from \n",
      "\t /rds/projects/g/gokhalkm-optimal/OPTIMAL_MASTER_DATASET/data/timeseries/measurement_and_tests/lab_measurements/AVF2_masterDataOptimal_v3_fullDB20231112045951_Eosinophil_count_21.zip.\n"
     ]
    },
    {
     "name": "stderr",
     "output_type": "stream",
     "text": [
      "Adding Eosinophil_count_21 measurements to table: 0it [00:00, ?it/s]"
     ]
    },
    {
     "name": "stdout",
     "output_type": "stream",
     "text": [
      "Index(['PRACTICE_PATIENT_ID', 'INDEX_DATE', 'EXIT_DATE',\n",
      "       'EOSINOPHIL_COUNT_21EVENT_DATE', 'EOSINOPHIL_COUNT_21Value',\n",
      "       'EOSINOPHIL_COUNT_21NumUnit', 'EOSINOPHIL_COUNT_21LowRange',\n",
      "       'EOSINOPHIL_COUNT_21HighRange'],\n",
      "      dtype='object')\n",
      "Using event_date_col EOSINOPHIL_COUNT_21EVENT_DATE, and event_value_col EOSINOPHIL_COUNT_21Value\n"
     ]
    },
    {
     "name": "stderr",
     "output_type": "stream",
     "text": [
      "Adding Eosinophil_count_21 measurements to table: 461it [09:03,  1.18s/it]\n"
     ]
    },
    {
     "name": "stdout",
     "output_type": "stream",
     "text": [
      "Building Never_smoked_tobacco_85 to the measurements/tests table from \n",
      "\t /rds/projects/g/gokhalkm-optimal/OPTIMAL_MASTER_DATASET/data/timeseries/measurement_and_tests/lab_measurements/AVF2_masterDataOptimal_v3_fullDB20231112045951_Never_smoked_tobacco_85.zip.\n"
     ]
    },
    {
     "name": "stderr",
     "output_type": "stream",
     "text": [
      "Adding Never_smoked_tobacco_85 measurements to table: 0it [00:00, ?it/s]"
     ]
    },
    {
     "name": "stdout",
     "output_type": "stream",
     "text": [
      "Index(['PRACTICE_PATIENT_ID', 'INDEX_DATE', 'EXIT_DATE',\n",
      "       'NEVER_SMOKED_TOBACCO_85EVENT_DATE', 'NEVER_SMOKED_TOBACCO_85Value',\n",
      "       'NEVER_SMOKED_TOBACCO_85NumUnit', 'NEVER_SMOKED_TOBACCO_85LowRange',\n",
      "       'NEVER_SMOKED_TOBACCO_85HighRange'],\n",
      "      dtype='object')\n",
      "Using event_date_col NEVER_SMOKED_TOBACCO_85EVENT_DATE, and event_value_col NEVER_SMOKED_TOBACCO_85Value\n"
     ]
    },
    {
     "name": "stderr",
     "output_type": "stream",
     "text": [
      "Adding Never_smoked_tobacco_85 measurements to table: 304it [05:56,  1.17s/it]\n"
     ]
    },
    {
     "name": "stdout",
     "output_type": "stream",
     "text": [
      "Building Mean_corpuscular_volume__MCV__11 to the measurements/tests table from \n",
      "\t /rds/projects/g/gokhalkm-optimal/OPTIMAL_MASTER_DATASET/data/timeseries/measurement_and_tests/lab_measurements/AVF2_masterDataOptimal_v3_fullDB20231112045951_Mean_corpuscular_volume__MCV__11.zip.\n"
     ]
    },
    {
     "name": "stderr",
     "output_type": "stream",
     "text": [
      "Adding Mean_corpuscular_volume__MCV__11 measurements to table: 0it [00:00, ?it/s]"
     ]
    },
    {
     "name": "stdout",
     "output_type": "stream",
     "text": [
      "Index(['PRACTICE_PATIENT_ID', 'INDEX_DATE', 'EXIT_DATE',\n",
      "       'MEAN_CORPUSCULAR_VOLUME_(MCV)_11EVENT_DATE',\n",
      "       'MEAN_CORPUSCULAR_VOLUME_(MCV)_11Value',\n",
      "       'MEAN_CORPUSCULAR_VOLUME_(MCV)_11NumUnit',\n",
      "       'MEAN_CORPUSCULAR_VOLUME_(MCV)_11LowRange',\n",
      "       'MEAN_CORPUSCULAR_VOLUME_(MCV)_11HighRange'],\n",
      "      dtype='object')\n",
      "Using event_date_col MEAN_CORPUSCULAR_VOLUME_(MCV)_11EVENT_DATE, and event_value_col MEAN_CORPUSCULAR_VOLUME_(MCV)_11Value\n"
     ]
    },
    {
     "name": "stderr",
     "output_type": "stream",
     "text": [
      "Adding Mean_corpuscular_volume__MCV__11 measurements to table: 474it [09:25,  1.19s/it]\n"
     ]
    },
    {
     "name": "stdout",
     "output_type": "stream",
     "text": [
      "Building Blood_urea_28 to the measurements/tests table from \n",
      "\t /rds/projects/g/gokhalkm-optimal/OPTIMAL_MASTER_DATASET/data/timeseries/measurement_and_tests/lab_measurements/AVF2_masterDataOptimal_v3_fullDB20231112045951_Blood_urea_28.zip.\n"
     ]
    },
    {
     "name": "stderr",
     "output_type": "stream",
     "text": [
      "Adding Blood_urea_28 measurements to table: 0it [00:00, ?it/s]"
     ]
    },
    {
     "name": "stdout",
     "output_type": "stream",
     "text": [
      "Index(['PRACTICE_PATIENT_ID', 'INDEX_DATE', 'EXIT_DATE',\n",
      "       'BLOOD_UREA_28EVENT_DATE', 'BLOOD_UREA_28Value', 'BLOOD_UREA_28NumUnit',\n",
      "       'BLOOD_UREA_28LowRange', 'BLOOD_UREA_28HighRange'],\n",
      "      dtype='object')\n",
      "Using event_date_col BLOOD_UREA_28EVENT_DATE, and event_value_col BLOOD_UREA_28Value\n"
     ]
    },
    {
     "name": "stderr",
     "output_type": "stream",
     "text": [
      "Adding Blood_urea_28 measurements to table: 4it [00:04,  1.16s/it]\n"
     ]
    },
    {
     "name": "stdout",
     "output_type": "stream",
     "text": [
      "Building Mean_corpusc._Hb._conc.__MCHC__14 to the measurements/tests table from \n",
      "\t /rds/projects/g/gokhalkm-optimal/OPTIMAL_MASTER_DATASET/data/timeseries/measurement_and_tests/lab_measurements/AVF2_masterDataOptimal_v3_fullDB20231112045951_Mean_corpusc._Hb._conc.__MCHC__14.zip.\n"
     ]
    },
    {
     "name": "stderr",
     "output_type": "stream",
     "text": [
      "Adding Mean_corpusc._Hb._conc.__MCHC__14 measurements to table: 0it [00:00, ?it/s]"
     ]
    },
    {
     "name": "stdout",
     "output_type": "stream",
     "text": [
      "Index(['PRACTICE_PATIENT_ID', 'INDEX_DATE', 'EXIT_DATE',\n",
      "       'MEAN_CORPUSC._HB._CONC._(MCHC)_14EVENT_DATE',\n",
      "       'MEAN_CORPUSC._HB._CONC._(MCHC)_14Value',\n",
      "       'MEAN_CORPUSC._HB._CONC._(MCHC)_14NumUnit',\n",
      "       'MEAN_CORPUSC._HB._CONC._(MCHC)_14LowRange',\n",
      "       'MEAN_CORPUSC._HB._CONC._(MCHC)_14HighRange'],\n",
      "      dtype='object')\n",
      "Using event_date_col MEAN_CORPUSC._HB._CONC._(MCHC)_14EVENT_DATE, and event_value_col MEAN_CORPUSC._HB._CONC._(MCHC)_14Value\n"
     ]
    },
    {
     "name": "stderr",
     "output_type": "stream",
     "text": [
      "Adding Mean_corpusc._Hb._conc.__MCHC__14 measurements to table: 355it [07:05,  1.20s/it]\n"
     ]
    },
    {
     "name": "stdout",
     "output_type": "stream",
     "text": [
      "Building Platelet_count_12 to the measurements/tests table from \n",
      "\t /rds/projects/g/gokhalkm-optimal/OPTIMAL_MASTER_DATASET/data/timeseries/measurement_and_tests/lab_measurements/AVF2_masterDataOptimal_v3_fullDB20231112045951_Platelet_count_12.zip.\n"
     ]
    },
    {
     "name": "stderr",
     "output_type": "stream",
     "text": [
      "Adding Platelet_count_12 measurements to table: 0it [00:00, ?it/s]"
     ]
    },
    {
     "name": "stdout",
     "output_type": "stream",
     "text": [
      "Index(['PRACTICE_PATIENT_ID', 'INDEX_DATE', 'EXIT_DATE',\n",
      "       'PLATELET_COUNT_12EVENT_DATE', 'PLATELET_COUNT_12Value',\n",
      "       'PLATELET_COUNT_12NumUnit', 'PLATELET_COUNT_12LowRange',\n",
      "       'PLATELET_COUNT_12HighRange'],\n",
      "      dtype='object')\n",
      "Using event_date_col PLATELET_COUNT_12EVENT_DATE, and event_value_col PLATELET_COUNT_12Value\n"
     ]
    },
    {
     "name": "stderr",
     "output_type": "stream",
     "text": [
      "Adding Platelet_count_12 measurements to table: 480it [09:28,  1.19s/it]\n"
     ]
    },
    {
     "name": "stdout",
     "output_type": "stream",
     "text": [
      "Building Serum_triglycerides_105 to the measurements/tests table from \n",
      "\t /rds/projects/g/gokhalkm-optimal/OPTIMAL_MASTER_DATASET/data/timeseries/measurement_and_tests/lab_measurements/AVF2_masterDataOptimal_v3_fullDB20231112045951_Serum_triglycerides_105.zip.\n"
     ]
    },
    {
     "name": "stderr",
     "output_type": "stream",
     "text": [
      "Adding Serum_triglycerides_105 measurements to table: 0it [00:00, ?it/s]"
     ]
    },
    {
     "name": "stdout",
     "output_type": "stream",
     "text": [
      "Index(['PRACTICE_PATIENT_ID', 'INDEX_DATE', 'EXIT_DATE',\n",
      "       'SERUM_TRIGLYCERIDES_105EVENT_DATE', 'SERUM_TRIGLYCERIDES_105Value',\n",
      "       'SERUM_TRIGLYCERIDES_105NumUnit', 'SERUM_TRIGLYCERIDES_105LowRange',\n",
      "       'SERUM_TRIGLYCERIDES_105HighRange'],\n",
      "      dtype='object')\n",
      "Using event_date_col SERUM_TRIGLYCERIDES_105EVENT_DATE, and event_value_col SERUM_TRIGLYCERIDES_105Value\n"
     ]
    },
    {
     "name": "stderr",
     "output_type": "stream",
     "text": [
      "Adding Serum_triglycerides_105 measurements to table: 213it [04:11,  1.18s/it]\n"
     ]
    },
    {
     "name": "stdout",
     "output_type": "stream",
     "text": [
      "Building Serum_free_T4_level_75 to the measurements/tests table from \n",
      "\t /rds/projects/g/gokhalkm-optimal/OPTIMAL_MASTER_DATASET/data/timeseries/measurement_and_tests/lab_measurements/AVF2_masterDataOptimal_v3_fullDB20231112045951_Serum_free_T4_level_75.zip.\n"
     ]
    },
    {
     "name": "stderr",
     "output_type": "stream",
     "text": [
      "Adding Serum_free_T4_level_75 measurements to table: 0it [00:00, ?it/s]"
     ]
    },
    {
     "name": "stdout",
     "output_type": "stream",
     "text": [
      "Index(['PRACTICE_PATIENT_ID', 'INDEX_DATE', 'EXIT_DATE',\n",
      "       'SERUM_FREE_T4_LEVEL_75EVENT_DATE', 'SERUM_FREE_T4_LEVEL_75Value',\n",
      "       'SERUM_FREE_T4_LEVEL_75NumUnit', 'SERUM_FREE_T4_LEVEL_75LowRange',\n",
      "       'SERUM_FREE_T4_LEVEL_75HighRange'],\n",
      "      dtype='object')\n",
      "Using event_date_col SERUM_FREE_T4_LEVEL_75EVENT_DATE, and event_value_col SERUM_FREE_T4_LEVEL_75Value\n"
     ]
    },
    {
     "name": "stderr",
     "output_type": "stream",
     "text": [
      "Adding Serum_free_T4_level_75 measurements to table: 113it [02:15,  1.20s/it]\n"
     ]
    },
    {
     "name": "stdout",
     "output_type": "stream",
     "text": [
      "Building Basophil_count_22 to the measurements/tests table from \n",
      "\t /rds/projects/g/gokhalkm-optimal/OPTIMAL_MASTER_DATASET/data/timeseries/measurement_and_tests/lab_measurements/AVF2_masterDataOptimal_v3_fullDB20231112045951_Basophil_count_22.zip.\n"
     ]
    },
    {
     "name": "stderr",
     "output_type": "stream",
     "text": [
      "Adding Basophil_count_22 measurements to table: 0it [00:00, ?it/s]"
     ]
    },
    {
     "name": "stdout",
     "output_type": "stream",
     "text": [
      "Index(['PRACTICE_PATIENT_ID', 'INDEX_DATE', 'EXIT_DATE',\n",
      "       'BASOPHIL_COUNT_22EVENT_DATE', 'BASOPHIL_COUNT_22Value',\n",
      "       'BASOPHIL_COUNT_22NumUnit', 'BASOPHIL_COUNT_22LowRange',\n",
      "       'BASOPHIL_COUNT_22HighRange'],\n",
      "      dtype='object')\n",
      "Using event_date_col BASOPHIL_COUNT_22EVENT_DATE, and event_value_col BASOPHIL_COUNT_22Value\n"
     ]
    },
    {
     "name": "stderr",
     "output_type": "stream",
     "text": [
      "Adding Basophil_count_22 measurements to table: 435it [08:32,  1.18s/it]\n"
     ]
    },
    {
     "name": "stdout",
     "output_type": "stream",
     "text": [
      "Building Serum_vitamin_D_86 to the measurements/tests table from \n",
      "\t /rds/projects/g/gokhalkm-optimal/OPTIMAL_MASTER_DATASET/data/timeseries/measurement_and_tests/lab_measurements/AVF2_masterDataOptimal_v3_fullDB20231112045951_Serum_vitamin_D_86.zip.\n"
     ]
    },
    {
     "name": "stderr",
     "output_type": "stream",
     "text": [
      "Adding Serum_vitamin_D_86 measurements to table: 0it [00:00, ?it/s]"
     ]
    },
    {
     "name": "stdout",
     "output_type": "stream",
     "text": [
      "Index(['PRACTICE_PATIENT_ID', 'INDEX_DATE', 'EXIT_DATE',\n",
      "       'SERUM_VITAMIN_D_86EVENT_DATE', 'SERUM_VITAMIN_D_86Value',\n",
      "       'SERUM_VITAMIN_D_86NumUnit', 'SERUM_VITAMIN_D_86LowRange',\n",
      "       'SERUM_VITAMIN_D_86HighRange'],\n",
      "      dtype='object')\n",
      "Using event_date_col SERUM_VITAMIN_D_86EVENT_DATE, and event_value_col SERUM_VITAMIN_D_86Value\n"
     ]
    },
    {
     "name": "stderr",
     "output_type": "stream",
     "text": [
      "Adding Serum_vitamin_D_86 measurements to table: 13it [00:14,  1.14s/it]\n"
     ]
    },
    {
     "name": "stdout",
     "output_type": "stream",
     "text": [
      "Building Total_25-hydroxyvitamin_D_level_91 to the measurements/tests table from \n",
      "\t /rds/projects/g/gokhalkm-optimal/OPTIMAL_MASTER_DATASET/data/timeseries/measurement_and_tests/lab_measurements/AVF2_masterDataOptimal_v3_fullDB20231112045951_Total_25-hydroxyvitamin_D_level_91.zip.\n"
     ]
    },
    {
     "name": "stderr",
     "output_type": "stream",
     "text": [
      "Adding Total_25-hydroxyvitamin_D_level_91 measurements to table: 0it [00:00, ?it/s]"
     ]
    },
    {
     "name": "stdout",
     "output_type": "stream",
     "text": [
      "Index(['PRACTICE_PATIENT_ID', 'INDEX_DATE', 'EXIT_DATE',\n",
      "       'TOTAL_25-HYDROXYVITAMIN_D_LEVEL_91EVENT_DATE',\n",
      "       'TOTAL_25-HYDROXYVITAMIN_D_LEVEL_91Value',\n",
      "       'TOTAL_25-HYDROXYVITAMIN_D_LEVEL_91NumUnit',\n",
      "       'TOTAL_25-HYDROXYVITAMIN_D_LEVEL_91LowRange',\n",
      "       'TOTAL_25-HYDROXYVITAMIN_D_LEVEL_91HighRange'],\n",
      "      dtype='object')\n",
      "Using event_date_col TOTAL_25-HYDROXYVITAMIN_D_LEVEL_91EVENT_DATE, and event_value_col TOTAL_25-HYDROXYVITAMIN_D_LEVEL_91Value\n"
     ]
    },
    {
     "name": "stderr",
     "output_type": "stream",
     "text": [
      "Adding Total_25-hydroxyvitamin_D_level_91 measurements to table: 2it [00:02,  1.02s/it]\n"
     ]
    },
    {
     "name": "stdout",
     "output_type": "stream",
     "text": [
      "Building Corrected_serum_calcium_level_42 to the measurements/tests table from \n",
      "\t /rds/projects/g/gokhalkm-optimal/OPTIMAL_MASTER_DATASET/data/timeseries/measurement_and_tests/lab_measurements/AVF2_masterDataOptimal_v3_fullDB20231112045951_Corrected_serum_calcium_level_42.zip.\n"
     ]
    },
    {
     "name": "stderr",
     "output_type": "stream",
     "text": [
      "Adding Corrected_serum_calcium_level_42 measurements to table: 0it [00:00, ?it/s]"
     ]
    },
    {
     "name": "stdout",
     "output_type": "stream",
     "text": [
      "Index(['PRACTICE_PATIENT_ID', 'INDEX_DATE', 'EXIT_DATE',\n",
      "       'CORRECTED_SERUM_CALCIUM_LEVEL_42EVENT_DATE',\n",
      "       'CORRECTED_SERUM_CALCIUM_LEVEL_42Value',\n",
      "       'CORRECTED_SERUM_CALCIUM_LEVEL_42NumUnit',\n",
      "       'CORRECTED_SERUM_CALCIUM_LEVEL_42LowRange',\n",
      "       'CORRECTED_SERUM_CALCIUM_LEVEL_42HighRange'],\n",
      "      dtype='object')\n",
      "Using event_date_col CORRECTED_SERUM_CALCIUM_LEVEL_42EVENT_DATE, and event_value_col CORRECTED_SERUM_CALCIUM_LEVEL_42Value\n"
     ]
    },
    {
     "name": "stderr",
     "output_type": "stream",
     "text": [
      "Adding Corrected_serum_calcium_level_42 measurements to table: 84it [01:41,  1.20s/it]\n"
     ]
    },
    {
     "name": "stdout",
     "output_type": "stream",
     "text": [
      "Building Urine_albumin_creatinine_ratio_35 to the measurements/tests table from \n",
      "\t /rds/projects/g/gokhalkm-optimal/OPTIMAL_MASTER_DATASET/data/timeseries/measurement_and_tests/lab_measurements/AVF2_masterDataOptimal_v3_fullDB20231112045951_Urine_albumin_creatinine_ratio_35.zip.\n"
     ]
    },
    {
     "name": "stderr",
     "output_type": "stream",
     "text": [
      "Adding Urine_albumin_creatinine_ratio_35 measurements to table: 0it [00:00, ?it/s]"
     ]
    },
    {
     "name": "stdout",
     "output_type": "stream",
     "text": [
      "Index(['PRACTICE_PATIENT_ID', 'INDEX_DATE', 'EXIT_DATE',\n",
      "       'URINE_ALBUMIN:CREATININE_RATIO_35EVENT_DATE',\n",
      "       'URINE_ALBUMIN:CREATININE_RATIO_35Value',\n",
      "       'URINE_ALBUMIN:CREATININE_RATIO_35NumUnit',\n",
      "       'URINE_ALBUMIN:CREATININE_RATIO_35LowRange',\n",
      "       'URINE_ALBUMIN:CREATININE_RATIO_35HighRange'],\n",
      "      dtype='object')\n",
      "Using event_date_col URINE_ALBUMIN:CREATININE_RATIO_35EVENT_DATE, and event_value_col URINE_ALBUMIN:CREATININE_RATIO_35Value\n"
     ]
    },
    {
     "name": "stderr",
     "output_type": "stream",
     "text": [
      "Adding Urine_albumin_creatinine_ratio_35 measurements to table: 76it [01:29,  1.18s/it]\n"
     ]
    },
    {
     "name": "stdout",
     "output_type": "stream",
     "text": [
      "Building Total_bilirubin_55 to the measurements/tests table from \n",
      "\t /rds/projects/g/gokhalkm-optimal/OPTIMAL_MASTER_DATASET/data/timeseries/measurement_and_tests/lab_measurements/AVF2_masterDataOptimal_v3_fullDB20231112045951_Total_bilirubin_55.zip.\n"
     ]
    },
    {
     "name": "stderr",
     "output_type": "stream",
     "text": [
      "Adding Total_bilirubin_55 measurements to table: 0it [00:00, ?it/s]"
     ]
    },
    {
     "name": "stdout",
     "output_type": "stream",
     "text": [
      "Index(['PRACTICE_PATIENT_ID', 'INDEX_DATE', 'EXIT_DATE',\n",
      "       'TOTAL_BILIRUBIN_55EVENT_DATE', 'TOTAL_BILIRUBIN_55Value',\n",
      "       'TOTAL_BILIRUBIN_55NumUnit', 'TOTAL_BILIRUBIN_55LowRange',\n",
      "       'TOTAL_BILIRUBIN_55HighRange'],\n",
      "      dtype='object')\n",
      "Using event_date_col TOTAL_BILIRUBIN_55EVENT_DATE, and event_value_col TOTAL_BILIRUBIN_55Value\n"
     ]
    },
    {
     "name": "stderr",
     "output_type": "stream",
     "text": [
      "Adding Total_bilirubin_55 measurements to table: 11it [00:13,  1.20s/it]\n"
     ]
    },
    {
     "name": "stdout",
     "output_type": "stream",
     "text": [
      "Building Plasma_urea_level_30 to the measurements/tests table from \n",
      "\t /rds/projects/g/gokhalkm-optimal/OPTIMAL_MASTER_DATASET/data/timeseries/measurement_and_tests/lab_measurements/AVF2_masterDataOptimal_v3_fullDB20231112045951_Plasma_urea_level_30.zip.\n"
     ]
    },
    {
     "name": "stderr",
     "output_type": "stream",
     "text": [
      "Adding Plasma_urea_level_30 measurements to table: 0it [00:00, ?it/s]"
     ]
    },
    {
     "name": "stdout",
     "output_type": "stream",
     "text": [
      "Index(['PRACTICE_PATIENT_ID', 'INDEX_DATE', 'EXIT_DATE',\n",
      "       'PLASMA_UREA_LEVEL_30EVENT_DATE', 'PLASMA_UREA_LEVEL_30Value',\n",
      "       'PLASMA_UREA_LEVEL_30NumUnit', 'PLASMA_UREA_LEVEL_30LowRange',\n",
      "       'PLASMA_UREA_LEVEL_30HighRange'],\n",
      "      dtype='object')\n",
      "Using event_date_col PLASMA_UREA_LEVEL_30EVENT_DATE, and event_value_col PLASMA_UREA_LEVEL_30Value\n"
     ]
    },
    {
     "name": "stderr",
     "output_type": "stream",
     "text": [
      "Adding Plasma_urea_level_30 measurements to table: 10it [00:12,  1.21s/it]\n"
     ]
    },
    {
     "name": "stdout",
     "output_type": "stream",
     "text": [
      "Building INR_-_international_normalised_ratio_81 to the measurements/tests table from \n",
      "\t /rds/projects/g/gokhalkm-optimal/OPTIMAL_MASTER_DATASET/data/timeseries/measurement_and_tests/lab_measurements/AVF2_masterDataOptimal_v3_fullDB20231112045951_INR_-_international_normalised_ratio_81.zip.\n"
     ]
    },
    {
     "name": "stderr",
     "output_type": "stream",
     "text": [
      "Adding INR_-_international_normalised_ratio_81 measurements to table: 0it [00:00, ?it/s]"
     ]
    },
    {
     "name": "stdout",
     "output_type": "stream",
     "text": [
      "Index(['PRACTICE_PATIENT_ID', 'INDEX_DATE', 'EXIT_DATE',\n",
      "       'INR_-_INTERNATIONAL_NORMALISED_RATIO_81EVENT_DATE',\n",
      "       'INR_-_INTERNATIONAL_NORMALISED_RATIO_81Value',\n",
      "       'INR_-_INTERNATIONAL_NORMALISED_RATIO_81NumUnit',\n",
      "       'INR_-_INTERNATIONAL_NORMALISED_RATIO_81LowRange',\n",
      "       'INR_-_INTERNATIONAL_NORMALISED_RATIO_81HighRange'],\n",
      "      dtype='object')\n",
      "Using event_date_col INR_-_INTERNATIONAL_NORMALISED_RATIO_81EVENT_DATE, and event_value_col INR_-_INTERNATIONAL_NORMALISED_RATIO_81Value\n"
     ]
    },
    {
     "name": "stderr",
     "output_type": "stream",
     "text": [
      "Adding INR_-_international_normalised_ratio_81 measurements to table: 3it [00:02,  1.18it/s]\n"
     ]
    },
    {
     "name": "stdout",
     "output_type": "stream",
     "text": [
      "Building Plasma_N-terminal_pro_B-type_natriuretic_peptide_conc_70 to the measurements/tests table from \n",
      "\t /rds/projects/g/gokhalkm-optimal/OPTIMAL_MASTER_DATASET/data/timeseries/measurement_and_tests/lab_measurements/AVF2_masterDataOptimal_v3_fullDB20231112045951_Plasma_N-terminal_pro_B-type_natriuretic_peptide_conc_70.zip.\n"
     ]
    },
    {
     "name": "stderr",
     "output_type": "stream",
     "text": [
      "Adding Plasma_N-terminal_pro_B-type_natriuretic_peptide_conc_70 measurements to table: 0it [00:00, ?it/s]"
     ]
    },
    {
     "name": "stdout",
     "output_type": "stream",
     "text": [
      "Index(['PRACTICE_PATIENT_ID', 'INDEX_DATE', 'EXIT_DATE',\n",
      "       'PLASMA_N-TERMINAL_PRO_B-TYPE_NATRIURETIC_PEPTIDE_CONC_70EVENT_DATE',\n",
      "       'PLASMA_N-TERMINAL_PRO_B-TYPE_NATRIURETIC_PEPTIDE_CONC_70Value',\n",
      "       'PLASMA_N-TERMINAL_PRO_B-TYPE_NATRIURETIC_PEPTIDE_CONC_70NumUnit',\n",
      "       'PLASMA_N-TERMINAL_PRO_B-TYPE_NATRIURETIC_PEPTIDE_CONC_70LowRange',\n",
      "       'PLASMA_N-TERMINAL_PRO_B-TYPE_NATRIURETIC_PEPTIDE_CONC_70HighRange'],\n",
      "      dtype='object')\n",
      "Using event_date_col PLASMA_N-TERMINAL_PRO_B-TYPE_NATRIURETIC_PEPTIDE_CONC_70EVENT_DATE, and event_value_col PLASMA_N-TERMINAL_PRO_B-TYPE_NATRIURETIC_PEPTIDE_CONC_70Value\n"
     ]
    },
    {
     "name": "stderr",
     "output_type": "stream",
     "text": [
      "Adding Plasma_N-terminal_pro_B-type_natriuretic_peptide_conc_70 measurements to table: 1it [00:00,  3.09it/s]\n"
     ]
    },
    {
     "name": "stdout",
     "output_type": "stream",
     "text": [
      "Building Haemoglobin_A1c_level_8 to the measurements/tests table from \n",
      "\t /rds/projects/g/gokhalkm-optimal/OPTIMAL_MASTER_DATASET/data/timeseries/measurement_and_tests/lab_measurements/AVF2_masterDataOptimal_v3_fullDB20231112045951_Haemoglobin_A1c_level_8.zip.\n"
     ]
    },
    {
     "name": "stderr",
     "output_type": "stream",
     "text": [
      "Adding Haemoglobin_A1c_level_8 measurements to table: 0it [00:00, ?it/s]"
     ]
    },
    {
     "name": "stdout",
     "output_type": "stream",
     "text": [
      "Index(['PRACTICE_PATIENT_ID', 'INDEX_DATE', 'EXIT_DATE',\n",
      "       'HAEMOGLOBIN_A1C_LEVEL_8EVENT_DATE', 'HAEMOGLOBIN_A1C_LEVEL_8Value',\n",
      "       'HAEMOGLOBIN_A1C_LEVEL_8NumUnit', 'HAEMOGLOBIN_A1C_LEVEL_8LowRange',\n",
      "       'HAEMOGLOBIN_A1C_LEVEL_8HighRange'],\n",
      "      dtype='object')\n",
      "Using event_date_col HAEMOGLOBIN_A1C_LEVEL_8EVENT_DATE, and event_value_col HAEMOGLOBIN_A1C_LEVEL_8Value\n"
     ]
    },
    {
     "name": "stderr",
     "output_type": "stream",
     "text": [
      "Adding Haemoglobin_A1c_level_8 measurements to table: 33it [00:39,  1.20s/it]\n"
     ]
    },
    {
     "name": "stdout",
     "output_type": "stream",
     "text": [
      "Building Haematocrit_15 to the measurements/tests table from \n",
      "\t /rds/projects/g/gokhalkm-optimal/OPTIMAL_MASTER_DATASET/data/timeseries/measurement_and_tests/lab_measurements/AVF2_masterDataOptimal_v3_fullDB20231112045951_Haematocrit_15.zip.\n"
     ]
    },
    {
     "name": "stderr",
     "output_type": "stream",
     "text": [
      "Adding Haematocrit_15 measurements to table: 0it [00:00, ?it/s]"
     ]
    },
    {
     "name": "stdout",
     "output_type": "stream",
     "text": [
      "Index(['PRACTICE_PATIENT_ID', 'INDEX_DATE', 'EXIT_DATE',\n",
      "       'HAEMATOCRIT_15EVENT_DATE', 'HAEMATOCRIT_15Value',\n",
      "       'HAEMATOCRIT_15NumUnit', 'HAEMATOCRIT_15LowRange',\n",
      "       'HAEMATOCRIT_15HighRange'],\n",
      "      dtype='object')\n",
      "Using event_date_col HAEMATOCRIT_15EVENT_DATE, and event_value_col HAEMATOCRIT_15Value\n"
     ]
    },
    {
     "name": "stderr",
     "output_type": "stream",
     "text": [
      "Adding Haematocrit_15 measurements to table: 383it [07:43,  1.21s/it]\n"
     ]
    },
    {
     "name": "stdout",
     "output_type": "stream",
     "text": [
      "Building Plasma_triglyceride_level_106 to the measurements/tests table from \n",
      "\t /rds/projects/g/gokhalkm-optimal/OPTIMAL_MASTER_DATASET/data/timeseries/measurement_and_tests/lab_measurements/AVF2_masterDataOptimal_v3_fullDB20231112045951_Plasma_triglyceride_level_106.zip.\n"
     ]
    },
    {
     "name": "stderr",
     "output_type": "stream",
     "text": [
      "Adding Plasma_triglyceride_level_106 measurements to table: 0it [00:00, ?it/s]"
     ]
    },
    {
     "name": "stdout",
     "output_type": "stream",
     "text": [
      "Index(['PRACTICE_PATIENT_ID', 'INDEX_DATE', 'EXIT_DATE',\n",
      "       'PLASMA_TRIGLYCERIDE_LEVEL_106EVENT_DATE',\n",
      "       'PLASMA_TRIGLYCERIDE_LEVEL_106Value',\n",
      "       'PLASMA_TRIGLYCERIDE_LEVEL_106NumUnit',\n",
      "       'PLASMA_TRIGLYCERIDE_LEVEL_106LowRange',\n",
      "       'PLASMA_TRIGLYCERIDE_LEVEL_106HighRange'],\n",
      "      dtype='object')\n",
      "Using event_date_col PLASMA_TRIGLYCERIDE_LEVEL_106EVENT_DATE, and event_value_col PLASMA_TRIGLYCERIDE_LEVEL_106Value\n"
     ]
    },
    {
     "name": "stderr",
     "output_type": "stream",
     "text": [
      "Adding Plasma_triglyceride_level_106 measurements to table: 8it [00:09,  1.18s/it]\n"
     ]
    },
    {
     "name": "stdout",
     "output_type": "stream",
     "text": [
      "Building Current_smoker_PUSHAsthma2 to the measurements/tests table from \n",
      "\t /rds/projects/g/gokhalkm-optimal/OPTIMAL_MASTER_DATASET/data/timeseries/measurement_and_tests/lab_measurements/AVF2_masterDataOptimal_v3_fullDB20231112045951_Current_smoker_PUSHAsthma2.zip.\n"
     ]
    },
    {
     "name": "stderr",
     "output_type": "stream",
     "text": [
      "Adding Current_smoker_PUSHAsthma2 measurements to table: 0it [00:00, ?it/s]"
     ]
    },
    {
     "name": "stdout",
     "output_type": "stream",
     "text": [
      "Index(['PRACTICE_PATIENT_ID', 'INDEX_DATE', 'EXIT_DATE',\n",
      "       'CURRENT_SMOKER_PUSHASTHMA2', 'EVENT_DATE'],\n",
      "      dtype='object')\n",
      "Using event_date_col EVENT_DATE, and event_value_col CURRENT_SMOKER_PUSHASTHMA2\n"
     ]
    },
    {
     "name": "stderr",
     "output_type": "stream",
     "text": [
      "Adding Current_smoker_PUSHAsthma2 measurements to table: 407it [08:12,  1.21s/it]\n"
     ]
    },
    {
     "name": "stdout",
     "output_type": "stream",
     "text": [
      "Building Calculated_LDL_cholesterol_level_103 to the measurements/tests table from \n",
      "\t /rds/projects/g/gokhalkm-optimal/OPTIMAL_MASTER_DATASET/data/timeseries/measurement_and_tests/lab_measurements/AVF2_masterDataOptimal_v3_fullDB20231112045951_Calculated_LDL_cholesterol_level_103.zip.\n"
     ]
    },
    {
     "name": "stderr",
     "output_type": "stream",
     "text": [
      "Adding Calculated_LDL_cholesterol_level_103 measurements to table: 0it [00:00, ?it/s]"
     ]
    },
    {
     "name": "stdout",
     "output_type": "stream",
     "text": [
      "Index(['PRACTICE_PATIENT_ID', 'INDEX_DATE', 'EXIT_DATE',\n",
      "       'CALCULATED_LDL_CHOLESTEROL_LEVEL_103EVENT_DATE',\n",
      "       'CALCULATED_LDL_CHOLESTEROL_LEVEL_103Value',\n",
      "       'CALCULATED_LDL_CHOLESTEROL_LEVEL_103NumUnit',\n",
      "       'CALCULATED_LDL_CHOLESTEROL_LEVEL_103LowRange',\n",
      "       'CALCULATED_LDL_CHOLESTEROL_LEVEL_103HighRange'],\n",
      "      dtype='object')\n",
      "Using event_date_col CALCULATED_LDL_CHOLESTEROL_LEVEL_103EVENT_DATE, and event_value_col CALCULATED_LDL_CHOLESTEROL_LEVEL_103Value\n"
     ]
    },
    {
     "name": "stderr",
     "output_type": "stream",
     "text": [
      "Adding Calculated_LDL_cholesterol_level_103 measurements to table: 35it [00:42,  1.23s/it]\n"
     ]
    },
    {
     "name": "stdout",
     "output_type": "stream",
     "text": [
      "Building HbA1c_level__DCCT_aligned__7 to the measurements/tests table from \n",
      "\t /rds/projects/g/gokhalkm-optimal/OPTIMAL_MASTER_DATASET/data/timeseries/measurement_and_tests/lab_measurements/AVF2_masterDataOptimal_v3_fullDB20231112045951_HbA1c_level__DCCT_aligned__7.zip.\n"
     ]
    },
    {
     "name": "stderr",
     "output_type": "stream",
     "text": [
      "Adding HbA1c_level__DCCT_aligned__7 measurements to table: 0it [00:00, ?it/s]"
     ]
    },
    {
     "name": "stdout",
     "output_type": "stream",
     "text": [
      "Index(['PRACTICE_PATIENT_ID', 'INDEX_DATE', 'EXIT_DATE',\n",
      "       'HBA1C_LEVEL_(DCCT_ALIGNED)_7EVENT_DATE',\n",
      "       'HBA1C_LEVEL_(DCCT_ALIGNED)_7Value',\n",
      "       'HBA1C_LEVEL_(DCCT_ALIGNED)_7NumUnit',\n",
      "       'HBA1C_LEVEL_(DCCT_ALIGNED)_7LowRange',\n",
      "       'HBA1C_LEVEL_(DCCT_ALIGNED)_7HighRange'],\n",
      "      dtype='object')\n",
      "Using event_date_col HBA1C_LEVEL_(DCCT_ALIGNED)_7EVENT_DATE, and event_value_col HBA1C_LEVEL_(DCCT_ALIGNED)_7Value\n"
     ]
    },
    {
     "name": "stderr",
     "output_type": "stream",
     "text": [
      "Adding HbA1c_level__DCCT_aligned__7 measurements to table: 75it [01:31,  1.21s/it]\n"
     ]
    },
    {
     "name": "stdout",
     "output_type": "stream",
     "text": [
      "Building Serum_urea_level_29 to the measurements/tests table from \n",
      "\t /rds/projects/g/gokhalkm-optimal/OPTIMAL_MASTER_DATASET/data/timeseries/measurement_and_tests/lab_measurements/AVF2_masterDataOptimal_v3_fullDB20231112045951_Serum_urea_level_29.zip.\n"
     ]
    },
    {
     "name": "stderr",
     "output_type": "stream",
     "text": [
      "Adding Serum_urea_level_29 measurements to table: 0it [00:00, ?it/s]"
     ]
    },
    {
     "name": "stdout",
     "output_type": "stream",
     "text": [
      "Index(['PRACTICE_PATIENT_ID', 'INDEX_DATE', 'EXIT_DATE',\n",
      "       'SERUM_UREA_LEVEL_29EVENT_DATE', 'SERUM_UREA_LEVEL_29Value',\n",
      "       'SERUM_UREA_LEVEL_29NumUnit', 'SERUM_UREA_LEVEL_29LowRange',\n",
      "       'SERUM_UREA_LEVEL_29HighRange'],\n",
      "      dtype='object')\n",
      "Using event_date_col SERUM_UREA_LEVEL_29EVENT_DATE, and event_value_col SERUM_UREA_LEVEL_29Value\n"
     ]
    },
    {
     "name": "stderr",
     "output_type": "stream",
     "text": [
      "Adding Serum_urea_level_29 measurements to table: 394it [08:17,  1.26s/it]\n"
     ]
    },
    {
     "name": "stdout",
     "output_type": "stream",
     "text": [
      "Building Serum_T4_level_78 to the measurements/tests table from \n",
      "\t /rds/projects/g/gokhalkm-optimal/OPTIMAL_MASTER_DATASET/data/timeseries/measurement_and_tests/lab_measurements/AVF2_masterDataOptimal_v3_fullDB20231112045951_Serum_T4_level_78.zip.\n"
     ]
    },
    {
     "name": "stderr",
     "output_type": "stream",
     "text": [
      "Adding Serum_T4_level_78 measurements to table: 0it [00:00, ?it/s]"
     ]
    },
    {
     "name": "stdout",
     "output_type": "stream",
     "text": [
      "Index(['PRACTICE_PATIENT_ID', 'INDEX_DATE', 'EXIT_DATE',\n",
      "       'SERUM_T4_LEVEL_78EVENT_DATE', 'SERUM_T4_LEVEL_78Value',\n",
      "       'SERUM_T4_LEVEL_78NumUnit', 'SERUM_T4_LEVEL_78LowRange',\n",
      "       'SERUM_T4_LEVEL_78HighRange'],\n",
      "      dtype='object')\n",
      "Using event_date_col SERUM_T4_LEVEL_78EVENT_DATE, and event_value_col SERUM_T4_LEVEL_78Value\n"
     ]
    },
    {
     "name": "stderr",
     "output_type": "stream",
     "text": [
      "Adding Serum_T4_level_78 measurements to table: 3it [00:03,  1.07s/it]\n"
     ]
    },
    {
     "name": "stdout",
     "output_type": "stream",
     "text": [
      "Building Serum_total_bilirubin_level_56 to the measurements/tests table from \n",
      "\t /rds/projects/g/gokhalkm-optimal/OPTIMAL_MASTER_DATASET/data/timeseries/measurement_and_tests/lab_measurements/AVF2_masterDataOptimal_v3_fullDB20231112045951_Serum_total_bilirubin_level_56.zip.\n"
     ]
    },
    {
     "name": "stderr",
     "output_type": "stream",
     "text": [
      "Adding Serum_total_bilirubin_level_56 measurements to table: 0it [00:00, ?it/s]"
     ]
    },
    {
     "name": "stdout",
     "output_type": "stream",
     "text": [
      "Index(['PRACTICE_PATIENT_ID', 'INDEX_DATE', 'EXIT_DATE',\n",
      "       'SERUM_TOTAL_BILIRUBIN_LEVEL_56EVENT_DATE',\n",
      "       'SERUM_TOTAL_BILIRUBIN_LEVEL_56Value',\n",
      "       'SERUM_TOTAL_BILIRUBIN_LEVEL_56NumUnit',\n",
      "       'SERUM_TOTAL_BILIRUBIN_LEVEL_56LowRange',\n",
      "       'SERUM_TOTAL_BILIRUBIN_LEVEL_56HighRange'],\n",
      "      dtype='object')\n",
      "Using event_date_col SERUM_TOTAL_BILIRUBIN_LEVEL_56EVENT_DATE, and event_value_col SERUM_TOTAL_BILIRUBIN_LEVEL_56Value\n"
     ]
    },
    {
     "name": "stderr",
     "output_type": "stream",
     "text": [
      "Adding Serum_total_bilirubin_level_56 measurements to table: 271it [05:53,  1.30s/it]\n"
     ]
    },
    {
     "name": "stdout",
     "output_type": "stream",
     "text": [
      "Building Plasma_HDL_cholesterol_level_101 to the measurements/tests table from \n",
      "\t /rds/projects/g/gokhalkm-optimal/OPTIMAL_MASTER_DATASET/data/timeseries/measurement_and_tests/lab_measurements/AVF2_masterDataOptimal_v3_fullDB20231112045951_Plasma_HDL_cholesterol_level_101.zip.\n"
     ]
    },
    {
     "name": "stderr",
     "output_type": "stream",
     "text": [
      "Adding Plasma_HDL_cholesterol_level_101 measurements to table: 0it [00:00, ?it/s]"
     ]
    },
    {
     "name": "stdout",
     "output_type": "stream",
     "text": [
      "Index(['PRACTICE_PATIENT_ID', 'INDEX_DATE', 'EXIT_DATE',\n",
      "       'PLASMA_HDL_CHOLESTEROL_LEVEL_101EVENT_DATE',\n",
      "       'PLASMA_HDL_CHOLESTEROL_LEVEL_101Value',\n",
      "       'PLASMA_HDL_CHOLESTEROL_LEVEL_101NumUnit',\n",
      "       'PLASMA_HDL_CHOLESTEROL_LEVEL_101LowRange',\n",
      "       'PLASMA_HDL_CHOLESTEROL_LEVEL_101HighRange'],\n",
      "      dtype='object')\n",
      "Using event_date_col PLASMA_HDL_CHOLESTEROL_LEVEL_101EVENT_DATE, and event_value_col PLASMA_HDL_CHOLESTEROL_LEVEL_101Value\n"
     ]
    },
    {
     "name": "stderr",
     "output_type": "stream",
     "text": [
      "Adding Plasma_HDL_cholesterol_level_101 measurements to table: 11it [00:15,  1.45s/it]\n"
     ]
    },
    {
     "name": "stdout",
     "output_type": "stream",
     "text": [
      "Building Blood_calcium_level_38 to the measurements/tests table from \n",
      "\t /rds/projects/g/gokhalkm-optimal/OPTIMAL_MASTER_DATASET/data/timeseries/measurement_and_tests/lab_measurements/AVF2_masterDataOptimal_v3_fullDB20231112045951_Blood_calcium_level_38.zip.\n"
     ]
    },
    {
     "name": "stderr",
     "output_type": "stream",
     "text": [
      "Adding Blood_calcium_level_38 measurements to table: 0it [00:00, ?it/s]"
     ]
    },
    {
     "name": "stdout",
     "output_type": "stream",
     "text": [
      "Index(['PRACTICE_PATIENT_ID', 'INDEX_DATE', 'EXIT_DATE',\n",
      "       'BLOOD_CALCIUM_LEVEL_38EVENT_DATE', 'BLOOD_CALCIUM_LEVEL_38Value',\n",
      "       'BLOOD_CALCIUM_LEVEL_38NumUnit', 'BLOOD_CALCIUM_LEVEL_38LowRange',\n",
      "       'BLOOD_CALCIUM_LEVEL_38HighRange'],\n",
      "      dtype='object')\n",
      "Using event_date_col BLOOD_CALCIUM_LEVEL_38EVENT_DATE, and event_value_col BLOOD_CALCIUM_LEVEL_38Value\n"
     ]
    },
    {
     "name": "stderr",
     "output_type": "stream",
     "text": [
      "Adding Blood_calcium_level_38 measurements to table: 3it [00:02,  1.18it/s]\n"
     ]
    },
    {
     "name": "stdout",
     "output_type": "stream",
     "text": [
      "Building Haematocrit_-_PCV_16 to the measurements/tests table from \n",
      "\t /rds/projects/g/gokhalkm-optimal/OPTIMAL_MASTER_DATASET/data/timeseries/measurement_and_tests/lab_measurements/AVF2_masterDataOptimal_v3_fullDB20231112045951_Haematocrit_-_PCV_16.zip.\n"
     ]
    },
    {
     "name": "stderr",
     "output_type": "stream",
     "text": [
      "Adding Haematocrit_-_PCV_16 measurements to table: 0it [00:00, ?it/s]"
     ]
    },
    {
     "name": "stdout",
     "output_type": "stream",
     "text": [
      "Index(['PRACTICE_PATIENT_ID', 'INDEX_DATE', 'EXIT_DATE',\n",
      "       'HAEMATOCRIT_-_PCV_16EVENT_DATE', 'HAEMATOCRIT_-_PCV_16Value',\n",
      "       'HAEMATOCRIT_-_PCV_16NumUnit', 'HAEMATOCRIT_-_PCV_16LowRange',\n",
      "       'HAEMATOCRIT_-_PCV_16HighRange'],\n",
      "      dtype='object')\n",
      "Using event_date_col HAEMATOCRIT_-_PCV_16EVENT_DATE, and event_value_col HAEMATOCRIT_-_PCV_16Value\n"
     ]
    },
    {
     "name": "stderr",
     "output_type": "stream",
     "text": [
      "Adding Haematocrit_-_PCV_16 measurements to table: 22it [00:30,  1.39s/it]\n"
     ]
    },
    {
     "name": "stdout",
     "output_type": "stream",
     "text": [
      "Building Serum_total_25-hydroxy_vitamin_D_level_87 to the measurements/tests table from \n",
      "\t /rds/projects/g/gokhalkm-optimal/OPTIMAL_MASTER_DATASET/data/timeseries/measurement_and_tests/lab_measurements/AVF2_masterDataOptimal_v3_fullDB20231112045951_Serum_total_25-hydroxy_vitamin_D_level_87.zip.\n"
     ]
    },
    {
     "name": "stderr",
     "output_type": "stream",
     "text": [
      "Adding Serum_total_25-hydroxy_vitamin_D_level_87 measurements to table: 0it [00:00, ?it/s]"
     ]
    },
    {
     "name": "stdout",
     "output_type": "stream",
     "text": [
      "Index(['PRACTICE_PATIENT_ID', 'INDEX_DATE', 'EXIT_DATE',\n",
      "       'SERUM_TOTAL_25-HYDROXY_VITAMIN_D_LEVEL_87EVENT_DATE',\n",
      "       'SERUM_TOTAL_25-HYDROXY_VITAMIN_D_LEVEL_87Value',\n",
      "       'SERUM_TOTAL_25-HYDROXY_VITAMIN_D_LEVEL_87NumUnit',\n",
      "       'SERUM_TOTAL_25-HYDROXY_VITAMIN_D_LEVEL_87LowRange',\n",
      "       'SERUM_TOTAL_25-HYDROXY_VITAMIN_D_LEVEL_87HighRange'],\n",
      "      dtype='object')\n",
      "Using event_date_col SERUM_TOTAL_25-HYDROXY_VITAMIN_D_LEVEL_87EVENT_DATE, and event_value_col SERUM_TOTAL_25-HYDROXY_VITAMIN_D_LEVEL_87Value\n"
     ]
    },
    {
     "name": "stderr",
     "output_type": "stream",
     "text": [
      "Adding Serum_total_25-hydroxy_vitamin_D_level_87 measurements to table: 11it [00:15,  1.38s/it]\n"
     ]
    },
    {
     "name": "stdout",
     "output_type": "stream",
     "text": [
      "Building Serum_TSH_level_71 to the measurements/tests table from \n",
      "\t /rds/projects/g/gokhalkm-optimal/OPTIMAL_MASTER_DATASET/data/timeseries/measurement_and_tests/lab_measurements/AVF2_masterDataOptimal_v3_fullDB20231112045951_Serum_TSH_level_71.zip.\n"
     ]
    },
    {
     "name": "stderr",
     "output_type": "stream",
     "text": [
      "Adding Serum_TSH_level_71 measurements to table: 0it [00:00, ?it/s]"
     ]
    },
    {
     "name": "stdout",
     "output_type": "stream",
     "text": [
      "Index(['PRACTICE_PATIENT_ID', 'INDEX_DATE', 'EXIT_DATE',\n",
      "       'SERUM_TSH_LEVEL_71EVENT_DATE', 'SERUM_TSH_LEVEL_71Value',\n",
      "       'SERUM_TSH_LEVEL_71NumUnit', 'SERUM_TSH_LEVEL_71LowRange',\n",
      "       'SERUM_TSH_LEVEL_71HighRange'],\n",
      "      dtype='object')\n",
      "Using event_date_col SERUM_TSH_LEVEL_71EVENT_DATE, and event_value_col SERUM_TSH_LEVEL_71Value\n"
     ]
    },
    {
     "name": "stderr",
     "output_type": "stream",
     "text": [
      "Adding Serum_TSH_level_71 measurements to table: 279it [06:11,  1.33s/it]\n"
     ]
    },
    {
     "name": "stdout",
     "output_type": "stream",
     "text": [
      "Building Ex_Smoker to the measurements/tests table from \n",
      "\t /rds/projects/g/gokhalkm-optimal/OPTIMAL_MASTER_DATASET/data/timeseries/measurement_and_tests/lab_measurements/AVF2_masterDataOptimal_v3_fullDB20231112045951_Ex_Smoker.zip.\n"
     ]
    },
    {
     "name": "stderr",
     "output_type": "stream",
     "text": [
      "Adding Ex_Smoker measurements to table: 0it [00:00, ?it/s]"
     ]
    },
    {
     "name": "stdout",
     "output_type": "stream",
     "text": [
      "Index(['PRACTICE_PATIENT_ID', 'INDEX_DATE', 'EXIT_DATE', 'EX_SMOKER',\n",
      "       'EVENT_DATE'],\n",
      "      dtype='object')\n",
      "Using event_date_col EVENT_DATE, and event_value_col EX_SMOKER\n"
     ]
    },
    {
     "name": "stderr",
     "output_type": "stream",
     "text": [
      "Adding Ex_Smoker measurements to table: 186it [03:43,  1.20s/it]\n"
     ]
    },
    {
     "name": "stdout",
     "output_type": "stream",
     "text": [
      "Building Serum_pro-brain_natriuretic_peptide_level_65 to the measurements/tests table from \n",
      "\t /rds/projects/g/gokhalkm-optimal/OPTIMAL_MASTER_DATASET/data/timeseries/measurement_and_tests/lab_measurements/AVF2_masterDataOptimal_v3_fullDB20231112045951_Serum_pro-brain_natriuretic_peptide_level_65.zip.\n"
     ]
    },
    {
     "name": "stderr",
     "output_type": "stream",
     "text": [
      "Adding Serum_pro-brain_natriuretic_peptide_level_65 measurements to table: 0it [00:00, ?it/s]"
     ]
    },
    {
     "name": "stdout",
     "output_type": "stream",
     "text": [
      "Index(['PRACTICE_PATIENT_ID', 'INDEX_DATE', 'EXIT_DATE',\n",
      "       'SERUM_PRO-BRAIN_NATRIURETIC_PEPTIDE_LEVEL_65EVENT_DATE',\n",
      "       'SERUM_PRO-BRAIN_NATRIURETIC_PEPTIDE_LEVEL_65Value',\n",
      "       'SERUM_PRO-BRAIN_NATRIURETIC_PEPTIDE_LEVEL_65NumUnit',\n",
      "       'SERUM_PRO-BRAIN_NATRIURETIC_PEPTIDE_LEVEL_65LowRange',\n",
      "       'SERUM_PRO-BRAIN_NATRIURETIC_PEPTIDE_LEVEL_65HighRange'],\n",
      "      dtype='object')\n",
      "Using event_date_col SERUM_PRO-BRAIN_NATRIURETIC_PEPTIDE_LEVEL_65EVENT_DATE, and event_value_col SERUM_PRO-BRAIN_NATRIURETIC_PEPTIDE_LEVEL_65Value\n"
     ]
    },
    {
     "name": "stderr",
     "output_type": "stream",
     "text": [
      "Adding Serum_pro-brain_natriuretic_peptide_level_65 measurements to table: 2it [00:01,  1.28it/s]\n"
     ]
    },
    {
     "name": "stdout",
     "output_type": "stream",
     "text": [
      "Building Plasma_calcium_level_40 to the measurements/tests table from \n",
      "\t /rds/projects/g/gokhalkm-optimal/OPTIMAL_MASTER_DATASET/data/timeseries/measurement_and_tests/lab_measurements/AVF2_masterDataOptimal_v3_fullDB20231112045951_Plasma_calcium_level_40.zip.\n"
     ]
    },
    {
     "name": "stderr",
     "output_type": "stream",
     "text": [
      "Adding Plasma_calcium_level_40 measurements to table: 0it [00:00, ?it/s]"
     ]
    },
    {
     "name": "stdout",
     "output_type": "stream",
     "text": [
      "Index(['PRACTICE_PATIENT_ID', 'INDEX_DATE', 'EXIT_DATE',\n",
      "       'PLASMA_CALCIUM_LEVEL_40EVENT_DATE', 'PLASMA_CALCIUM_LEVEL_40Value',\n",
      "       'PLASMA_CALCIUM_LEVEL_40NumUnit', 'PLASMA_CALCIUM_LEVEL_40LowRange',\n",
      "       'PLASMA_CALCIUM_LEVEL_40HighRange'],\n",
      "      dtype='object')\n",
      "Using event_date_col PLASMA_CALCIUM_LEVEL_40EVENT_DATE, and event_value_col PLASMA_CALCIUM_LEVEL_40Value\n"
     ]
    },
    {
     "name": "stderr",
     "output_type": "stream",
     "text": [
      "Adding Plasma_calcium_level_40 measurements to table: 7it [00:08,  1.15s/it]\n"
     ]
    },
    {
     "name": "stdout",
     "output_type": "stream",
     "text": [
      "Building Serum_N-terminal_pro_B-type_natriuretic_peptide_conc_68 to the measurements/tests table from \n",
      "\t /rds/projects/g/gokhalkm-optimal/OPTIMAL_MASTER_DATASET/data/timeseries/measurement_and_tests/lab_measurements/AVF2_masterDataOptimal_v3_fullDB20231112045951_Serum_N-terminal_pro_B-type_natriuretic_peptide_conc_68.zip.\n"
     ]
    },
    {
     "name": "stderr",
     "output_type": "stream",
     "text": [
      "Adding Serum_N-terminal_pro_B-type_natriuretic_peptide_conc_68 measurements to table: 0it [00:00, ?it/s]"
     ]
    },
    {
     "name": "stdout",
     "output_type": "stream",
     "text": [
      "Index(['PRACTICE_PATIENT_ID', 'INDEX_DATE', 'EXIT_DATE',\n",
      "       'SERUM_N-TERMINAL_PRO_B-TYPE_NATRIURETIC_PEPTIDE_CONC_68EVENT_DATE',\n",
      "       'SERUM_N-TERMINAL_PRO_B-TYPE_NATRIURETIC_PEPTIDE_CONC_68Value',\n",
      "       'SERUM_N-TERMINAL_PRO_B-TYPE_NATRIURETIC_PEPTIDE_CONC_68NumUnit',\n",
      "       'SERUM_N-TERMINAL_PRO_B-TYPE_NATRIURETIC_PEPTIDE_CONC_68LowRange',\n",
      "       'SERUM_N-TERMINAL_PRO_B-TYPE_NATRIURETIC_PEPTIDE_CONC_68HighRange'],\n",
      "      dtype='object')\n",
      "Using event_date_col SERUM_N-TERMINAL_PRO_B-TYPE_NATRIURETIC_PEPTIDE_CONC_68EVENT_DATE, and event_value_col SERUM_N-TERMINAL_PRO_B-TYPE_NATRIURETIC_PEPTIDE_CONC_68Value\n"
     ]
    },
    {
     "name": "stderr",
     "output_type": "stream",
     "text": [
      "Adding Serum_N-terminal_pro_B-type_natriuretic_peptide_conc_68 measurements to table: 2it [00:02,  1.20s/it]\n"
     ]
    },
    {
     "name": "stdout",
     "output_type": "stream",
     "text": [
      "Building Serum_alkaline_phosphatase_50 to the measurements/tests table from \n",
      "\t /rds/projects/g/gokhalkm-optimal/OPTIMAL_MASTER_DATASET/data/timeseries/measurement_and_tests/lab_measurements/AVF2_masterDataOptimal_v3_fullDB20231112045951_Serum_alkaline_phosphatase_50.zip.\n"
     ]
    },
    {
     "name": "stderr",
     "output_type": "stream",
     "text": [
      "Adding Serum_alkaline_phosphatase_50 measurements to table: 0it [00:00, ?it/s]"
     ]
    },
    {
     "name": "stdout",
     "output_type": "stream",
     "text": [
      "Index(['PRACTICE_PATIENT_ID', 'INDEX_DATE', 'EXIT_DATE',\n",
      "       'SERUM_ALKALINE_PHOSPHATASE_50EVENT_DATE',\n",
      "       'SERUM_ALKALINE_PHOSPHATASE_50Value',\n",
      "       'SERUM_ALKALINE_PHOSPHATASE_50NumUnit',\n",
      "       'SERUM_ALKALINE_PHOSPHATASE_50LowRange',\n",
      "       'SERUM_ALKALINE_PHOSPHATASE_50HighRange'],\n",
      "      dtype='object')\n",
      "Using event_date_col SERUM_ALKALINE_PHOSPHATASE_50EVENT_DATE, and event_value_col SERUM_ALKALINE_PHOSPHATASE_50Value\n"
     ]
    },
    {
     "name": "stderr",
     "output_type": "stream",
     "text": [
      "Adding Serum_alkaline_phosphatase_50 measurements to table: 381it [08:00,  1.26s/it]\n"
     ]
    },
    {
     "name": "stdout",
     "output_type": "stream",
     "text": [
      "Building Non_HDL_cholesterol_level_108 to the measurements/tests table from \n",
      "\t /rds/projects/g/gokhalkm-optimal/OPTIMAL_MASTER_DATASET/data/timeseries/measurement_and_tests/lab_measurements/AVF2_masterDataOptimal_v3_fullDB20231112045951_Non_HDL_cholesterol_level_108.zip.\n"
     ]
    },
    {
     "name": "stderr",
     "output_type": "stream",
     "text": [
      "Adding Non_HDL_cholesterol_level_108 measurements to table: 0it [00:00, ?it/s]"
     ]
    },
    {
     "name": "stdout",
     "output_type": "stream",
     "text": [
      "Index(['PRACTICE_PATIENT_ID', 'INDEX_DATE', 'EXIT_DATE',\n",
      "       'NON_HDL_CHOLESTEROL_LEVEL_108EVENT_DATE',\n",
      "       'NON_HDL_CHOLESTEROL_LEVEL_108Value',\n",
      "       'NON_HDL_CHOLESTEROL_LEVEL_108NumUnit',\n",
      "       'NON_HDL_CHOLESTEROL_LEVEL_108LowRange',\n",
      "       'NON_HDL_CHOLESTEROL_LEVEL_108HighRange'],\n",
      "      dtype='object')\n",
      "Using event_date_col NON_HDL_CHOLESTEROL_LEVEL_108EVENT_DATE, and event_value_col NON_HDL_CHOLESTEROL_LEVEL_108Value\n"
     ]
    },
    {
     "name": "stderr",
     "output_type": "stream",
     "text": [
      "Adding Non_HDL_cholesterol_level_108 measurements to table: 13it [00:14,  1.14s/it]\n"
     ]
    },
    {
     "name": "stdout",
     "output_type": "stream",
     "text": [
      "Building TSH_level_74 to the measurements/tests table from \n",
      "\t /rds/projects/g/gokhalkm-optimal/OPTIMAL_MASTER_DATASET/data/timeseries/measurement_and_tests/lab_measurements/AVF2_masterDataOptimal_v3_fullDB20231112045951_TSH_level_74.zip.\n"
     ]
    },
    {
     "name": "stderr",
     "output_type": "stream",
     "text": [
      "Adding TSH_level_74 measurements to table: 0it [00:00, ?it/s]"
     ]
    },
    {
     "name": "stdout",
     "output_type": "stream",
     "text": [
      "Index(['PRACTICE_PATIENT_ID', 'INDEX_DATE', 'EXIT_DATE',\n",
      "       'TSH_LEVEL_74EVENT_DATE', 'TSH_LEVEL_74Value', 'TSH_LEVEL_74NumUnit',\n",
      "       'TSH_LEVEL_74LowRange', 'TSH_LEVEL_74HighRange'],\n",
      "      dtype='object')\n",
      "Using event_date_col TSH_LEVEL_74EVENT_DATE, and event_value_col TSH_LEVEL_74Value\n"
     ]
    },
    {
     "name": "stderr",
     "output_type": "stream",
     "text": [
      "Adding TSH_level_74 measurements to table: 3it [00:03,  1.01s/it]\n"
     ]
    },
    {
     "name": "stdout",
     "output_type": "stream",
     "text": [
      "Building Serum_C_reactive_protein_level_59 to the measurements/tests table from \n",
      "\t /rds/projects/g/gokhalkm-optimal/OPTIMAL_MASTER_DATASET/data/timeseries/measurement_and_tests/lab_measurements/AVF2_masterDataOptimal_v3_fullDB20231112045951_Serum_C_reactive_protein_level_59.zip.\n"
     ]
    },
    {
     "name": "stderr",
     "output_type": "stream",
     "text": [
      "Adding Serum_C_reactive_protein_level_59 measurements to table: 0it [00:00, ?it/s]"
     ]
    },
    {
     "name": "stdout",
     "output_type": "stream",
     "text": [
      "Index(['PRACTICE_PATIENT_ID', 'INDEX_DATE', 'EXIT_DATE',\n",
      "       'SERUM_C_REACTIVE_PROTEIN_LEVEL_59EVENT_DATE',\n",
      "       'SERUM_C_REACTIVE_PROTEIN_LEVEL_59Value',\n",
      "       'SERUM_C_REACTIVE_PROTEIN_LEVEL_59NumUnit',\n",
      "       'SERUM_C_REACTIVE_PROTEIN_LEVEL_59LowRange',\n",
      "       'SERUM_C_REACTIVE_PROTEIN_LEVEL_59HighRange'],\n",
      "      dtype='object')\n",
      "Using event_date_col SERUM_C_REACTIVE_PROTEIN_LEVEL_59EVENT_DATE, and event_value_col SERUM_C_REACTIVE_PROTEIN_LEVEL_59Value\n"
     ]
    },
    {
     "name": "stderr",
     "output_type": "stream",
     "text": [
      "Adding Serum_C_reactive_protein_level_59 measurements to table: 97it [01:59,  1.23s/it]\n"
     ]
    },
    {
     "name": "stdout",
     "output_type": "stream",
     "text": [
      "Building Serum_vitamin_B12_79 to the measurements/tests table from \n",
      "\t /rds/projects/g/gokhalkm-optimal/OPTIMAL_MASTER_DATASET/data/timeseries/measurement_and_tests/lab_measurements/AVF2_masterDataOptimal_v3_fullDB20231112045951_Serum_vitamin_B12_79.zip.\n"
     ]
    },
    {
     "name": "stderr",
     "output_type": "stream",
     "text": [
      "Adding Serum_vitamin_B12_79 measurements to table: 0it [00:00, ?it/s]"
     ]
    },
    {
     "name": "stdout",
     "output_type": "stream",
     "text": [
      "Index(['PRACTICE_PATIENT_ID', 'INDEX_DATE', 'EXIT_DATE',\n",
      "       'SERUM_VITAMIN_B12_79EVENT_DATE', 'SERUM_VITAMIN_B12_79Value',\n",
      "       'SERUM_VITAMIN_B12_79NumUnit', 'SERUM_VITAMIN_B12_79LowRange',\n",
      "       'SERUM_VITAMIN_B12_79HighRange'],\n",
      "      dtype='object')\n",
      "Using event_date_col SERUM_VITAMIN_B12_79EVENT_DATE, and event_value_col SERUM_VITAMIN_B12_79Value\n"
     ]
    },
    {
     "name": "stderr",
     "output_type": "stream",
     "text": [
      "Adding Serum_vitamin_B12_79 measurements to table: 84it [01:44,  1.24s/it]\n"
     ]
    },
    {
     "name": "stdout",
     "output_type": "stream",
     "text": [
      "Building Plasma_albumin_level_52 to the measurements/tests table from \n",
      "\t /rds/projects/g/gokhalkm-optimal/OPTIMAL_MASTER_DATASET/data/timeseries/measurement_and_tests/lab_measurements/AVF2_masterDataOptimal_v3_fullDB20231112045951_Plasma_albumin_level_52.zip.\n"
     ]
    },
    {
     "name": "stderr",
     "output_type": "stream",
     "text": [
      "Adding Plasma_albumin_level_52 measurements to table: 0it [00:00, ?it/s]"
     ]
    },
    {
     "name": "stdout",
     "output_type": "stream",
     "text": [
      "Index(['PRACTICE_PATIENT_ID', 'INDEX_DATE', 'EXIT_DATE',\n",
      "       'PLASMA_ALBUMIN_LEVEL_52EVENT_DATE', 'PLASMA_ALBUMIN_LEVEL_52Value',\n",
      "       'PLASMA_ALBUMIN_LEVEL_52NumUnit', 'PLASMA_ALBUMIN_LEVEL_52LowRange',\n",
      "       'PLASMA_ALBUMIN_LEVEL_52HighRange'],\n",
      "      dtype='object')\n",
      "Using event_date_col PLASMA_ALBUMIN_LEVEL_52EVENT_DATE, and event_value_col PLASMA_ALBUMIN_LEVEL_52Value\n"
     ]
    },
    {
     "name": "stderr",
     "output_type": "stream",
     "text": [
      "Adding Plasma_albumin_level_52 measurements to table: 19it [00:28,  1.52s/it]\n"
     ]
    },
    {
     "name": "stdout",
     "output_type": "stream",
     "text": [
      "Building Serum_LDL_cholesterol_level_102 to the measurements/tests table from \n",
      "\t /rds/projects/g/gokhalkm-optimal/OPTIMAL_MASTER_DATASET/data/timeseries/measurement_and_tests/lab_measurements/AVF2_masterDataOptimal_v3_fullDB20231112045951_Serum_LDL_cholesterol_level_102.zip.\n"
     ]
    },
    {
     "name": "stderr",
     "output_type": "stream",
     "text": [
      "Adding Serum_LDL_cholesterol_level_102 measurements to table: 0it [00:00, ?it/s]"
     ]
    },
    {
     "name": "stdout",
     "output_type": "stream",
     "text": [
      "Index(['PRACTICE_PATIENT_ID', 'INDEX_DATE', 'EXIT_DATE',\n",
      "       'SERUM_LDL_CHOLESTEROL_LEVEL_102EVENT_DATE',\n",
      "       'SERUM_LDL_CHOLESTEROL_LEVEL_102Value',\n",
      "       'SERUM_LDL_CHOLESTEROL_LEVEL_102NumUnit',\n",
      "       'SERUM_LDL_CHOLESTEROL_LEVEL_102LowRange',\n",
      "       'SERUM_LDL_CHOLESTEROL_LEVEL_102HighRange'],\n",
      "      dtype='object')\n",
      "Using event_date_col SERUM_LDL_CHOLESTEROL_LEVEL_102EVENT_DATE, and event_value_col SERUM_LDL_CHOLESTEROL_LEVEL_102Value\n"
     ]
    },
    {
     "name": "stderr",
     "output_type": "stream",
     "text": [
      "Adding Serum_LDL_cholesterol_level_102 measurements to table: 151it [03:11,  1.27s/it]\n"
     ]
    },
    {
     "name": "stdout",
     "output_type": "stream",
     "text": [
      "Building O_E_-_height_1 to the measurements/tests table from \n",
      "\t /rds/projects/g/gokhalkm-optimal/OPTIMAL_MASTER_DATASET/data/timeseries/measurement_and_tests/lab_measurements/AVF2_masterDataOptimal_v3_fullDB20231112045951_O_E_-_height_1.zip.\n"
     ]
    },
    {
     "name": "stderr",
     "output_type": "stream",
     "text": [
      "Adding O_E_-_height_1 measurements to table: 0it [00:00, ?it/s]"
     ]
    },
    {
     "name": "stdout",
     "output_type": "stream",
     "text": [
      "Index(['PRACTICE_PATIENT_ID', 'INDEX_DATE', 'EXIT_DATE',\n",
      "       'O/E_-_HEIGHT_1EVENT_DATE', 'O/E_-_HEIGHT_1Value',\n",
      "       'O/E_-_HEIGHT_1NumUnit', 'O/E_-_HEIGHT_1LowRange',\n",
      "       'O/E_-_HEIGHT_1HighRange'],\n",
      "      dtype='object')\n",
      "Using event_date_col O/E_-_HEIGHT_1EVENT_DATE, and event_value_col O/E_-_HEIGHT_1Value\n"
     ]
    },
    {
     "name": "stderr",
     "output_type": "stream",
     "text": [
      "Adding O_E_-_height_1 measurements to table: 346it [07:18,  1.27s/it]\n"
     ]
    },
    {
     "name": "stdout",
     "output_type": "stream",
     "text": [
      "Building Free_T4_level_76 to the measurements/tests table from \n",
      "\t /rds/projects/g/gokhalkm-optimal/OPTIMAL_MASTER_DATASET/data/timeseries/measurement_and_tests/lab_measurements/AVF2_masterDataOptimal_v3_fullDB20231112045951_Free_T4_level_76.zip.\n"
     ]
    },
    {
     "name": "stderr",
     "output_type": "stream",
     "text": [
      "Adding Free_T4_level_76 measurements to table: 0it [00:00, ?it/s]"
     ]
    },
    {
     "name": "stdout",
     "output_type": "stream",
     "text": [
      "Index(['PRACTICE_PATIENT_ID', 'INDEX_DATE', 'EXIT_DATE',\n",
      "       'FREE_T4_LEVEL_76EVENT_DATE', 'FREE_T4_LEVEL_76Value',\n",
      "       'FREE_T4_LEVEL_76NumUnit', 'FREE_T4_LEVEL_76LowRange',\n",
      "       'FREE_T4_LEVEL_76HighRange'],\n",
      "      dtype='object')\n",
      "Using event_date_col FREE_T4_LEVEL_76EVENT_DATE, and event_value_col FREE_T4_LEVEL_76Value\n"
     ]
    },
    {
     "name": "stderr",
     "output_type": "stream",
     "text": [
      "Adding Free_T4_level_76 measurements to table: 8it [00:08,  1.07s/it]\n"
     ]
    },
    {
     "name": "stdout",
     "output_type": "stream",
     "text": [
      "Building Serum_alanine_aminotransferase_level_45 to the measurements/tests table from \n",
      "\t /rds/projects/g/gokhalkm-optimal/OPTIMAL_MASTER_DATASET/data/timeseries/measurement_and_tests/lab_measurements/AVF2_masterDataOptimal_v3_fullDB20231112045951_Serum_alanine_aminotransferase_level_45.zip.\n"
     ]
    },
    {
     "name": "stderr",
     "output_type": "stream",
     "text": [
      "Adding Serum_alanine_aminotransferase_level_45 measurements to table: 0it [00:00, ?it/s]"
     ]
    },
    {
     "name": "stdout",
     "output_type": "stream",
     "text": [
      "Index(['PRACTICE_PATIENT_ID', 'INDEX_DATE', 'EXIT_DATE',\n",
      "       'SERUM_ALANINE_AMINOTRANSFERASE_LEVEL_45EVENT_DATE',\n",
      "       'SERUM_ALANINE_AMINOTRANSFERASE_LEVEL_45Value',\n",
      "       'SERUM_ALANINE_AMINOTRANSFERASE_LEVEL_45NumUnit',\n",
      "       'SERUM_ALANINE_AMINOTRANSFERASE_LEVEL_45LowRange',\n",
      "       'SERUM_ALANINE_AMINOTRANSFERASE_LEVEL_45HighRange'],\n",
      "      dtype='object')\n",
      "Using event_date_col SERUM_ALANINE_AMINOTRANSFERASE_LEVEL_45EVENT_DATE, and event_value_col SERUM_ALANINE_AMINOTRANSFERASE_LEVEL_45Value\n"
     ]
    },
    {
     "name": "stderr",
     "output_type": "stream",
     "text": [
      "Adding Serum_alanine_aminotransferase_level_45 measurements to table: 235it [04:47,  1.22s/it]\n"
     ]
    },
    {
     "name": "stdout",
     "output_type": "stream",
     "text": [
      "Building Lymphocyte_count_20 to the measurements/tests table from \n",
      "\t /rds/projects/g/gokhalkm-optimal/OPTIMAL_MASTER_DATASET/data/timeseries/measurement_and_tests/lab_measurements/AVF2_masterDataOptimal_v3_fullDB20231112045951_Lymphocyte_count_20.zip.\n"
     ]
    },
    {
     "name": "stderr",
     "output_type": "stream",
     "text": [
      "Adding Lymphocyte_count_20 measurements to table: 0it [00:00, ?it/s]"
     ]
    },
    {
     "name": "stdout",
     "output_type": "stream",
     "text": [
      "Index(['PRACTICE_PATIENT_ID', 'INDEX_DATE', 'EXIT_DATE',\n",
      "       'LYMPHOCYTE_COUNT_20EVENT_DATE', 'LYMPHOCYTE_COUNT_20Value',\n",
      "       'LYMPHOCYTE_COUNT_20NumUnit', 'LYMPHOCYTE_COUNT_20LowRange',\n",
      "       'LYMPHOCYTE_COUNT_20HighRange'],\n",
      "      dtype='object')\n",
      "Using event_date_col LYMPHOCYTE_COUNT_20EVENT_DATE, and event_value_col LYMPHOCYTE_COUNT_20Value\n"
     ]
    },
    {
     "name": "stderr",
     "output_type": "stream",
     "text": [
      "Adding Lymphocyte_count_20 measurements to table: 465it [09:28,  1.22s/it]\n"
     ]
    },
    {
     "name": "stdout",
     "output_type": "stream",
     "text": [
      "Building Serum_non_high_density_lipoprotein_cholesterol_level_107 to the measurements/tests table from \n",
      "\t /rds/projects/g/gokhalkm-optimal/OPTIMAL_MASTER_DATASET/data/timeseries/measurement_and_tests/lab_measurements/AVF2_masterDataOptimal_v3_fullDB20231112045951_Serum_non_high_density_lipoprotein_cholesterol_level_107.zip.\n"
     ]
    },
    {
     "name": "stderr",
     "output_type": "stream",
     "text": [
      "Adding Serum_non_high_density_lipoprotein_cholesterol_level_107 measurements to table: 0it [00:00, ?it/s]"
     ]
    },
    {
     "name": "stdout",
     "output_type": "stream",
     "text": [
      "Index(['PRACTICE_PATIENT_ID', 'INDEX_DATE', 'EXIT_DATE',\n",
      "       'SERUM_NON_HIGH_DENSITY_LIPOPROTEIN_CHOLESTEROL_LEVEL_107EVENT_DATE',\n",
      "       'SERUM_NON_HIGH_DENSITY_LIPOPROTEIN_CHOLESTEROL_LEVEL_107Value',\n",
      "       'SERUM_NON_HIGH_DENSITY_LIPOPROTEIN_CHOLESTEROL_LEVEL_107NumUnit',\n",
      "       'SERUM_NON_HIGH_DENSITY_LIPOPROTEIN_CHOLESTEROL_LEVEL_107LowRange',\n",
      "       'SERUM_NON_HIGH_DENSITY_LIPOPROTEIN_CHOLESTEROL_LEVEL_107HighRange'],\n",
      "      dtype='object')\n",
      "Using event_date_col SERUM_NON_HIGH_DENSITY_LIPOPROTEIN_CHOLESTEROL_LEVEL_107EVENT_DATE, and event_value_col SERUM_NON_HIGH_DENSITY_LIPOPROTEIN_CHOLESTEROL_LEVEL_107Value\n"
     ]
    },
    {
     "name": "stderr",
     "output_type": "stream",
     "text": [
      "Adding Serum_non_high_density_lipoprotein_cholesterol_level_107 measurements to table: 54it [01:06,  1.24s/it]\n"
     ]
    },
    {
     "name": "stdout",
     "output_type": "stream",
     "text": [
      "Building TSH_-_thyroid_stim._hormone_72 to the measurements/tests table from \n",
      "\t /rds/projects/g/gokhalkm-optimal/OPTIMAL_MASTER_DATASET/data/timeseries/measurement_and_tests/lab_measurements/AVF2_masterDataOptimal_v3_fullDB20231112045951_TSH_-_thyroid_stim._hormone_72.zip.\n"
     ]
    },
    {
     "name": "stderr",
     "output_type": "stream",
     "text": [
      "Adding TSH_-_thyroid_stim._hormone_72 measurements to table: 0it [00:00, ?it/s]"
     ]
    },
    {
     "name": "stdout",
     "output_type": "stream",
     "text": [
      "Index(['PRACTICE_PATIENT_ID', 'INDEX_DATE', 'EXIT_DATE',\n",
      "       'TSH_-_THYROID_STIM._HORMONE_72EVENT_DATE',\n",
      "       'TSH_-_THYROID_STIM._HORMONE_72Value',\n",
      "       'TSH_-_THYROID_STIM._HORMONE_72NumUnit',\n",
      "       'TSH_-_THYROID_STIM._HORMONE_72LowRange',\n",
      "       'TSH_-_THYROID_STIM._HORMONE_72HighRange'],\n",
      "      dtype='object')\n",
      "Using event_date_col TSH_-_THYROID_STIM._HORMONE_72EVENT_DATE, and event_value_col TSH_-_THYROID_STIM._HORMONE_72Value\n"
     ]
    },
    {
     "name": "stderr",
     "output_type": "stream",
     "text": [
      "Adding TSH_-_thyroid_stim._hormone_72 measurements to table: 18it [00:22,  1.24s/it]\n"
     ]
    },
    {
     "name": "stdout",
     "output_type": "stream",
     "text": [
      "Building Plasma_alanine_aminotransferase_level_44 to the measurements/tests table from \n",
      "\t /rds/projects/g/gokhalkm-optimal/OPTIMAL_MASTER_DATASET/data/timeseries/measurement_and_tests/lab_measurements/AVF2_masterDataOptimal_v3_fullDB20231112045951_Plasma_alanine_aminotransferase_level_44.zip.\n"
     ]
    },
    {
     "name": "stderr",
     "output_type": "stream",
     "text": [
      "Adding Plasma_alanine_aminotransferase_level_44 measurements to table: 0it [00:00, ?it/s]"
     ]
    },
    {
     "name": "stdout",
     "output_type": "stream",
     "text": [
      "Index(['PRACTICE_PATIENT_ID', 'INDEX_DATE', 'EXIT_DATE',\n",
      "       'PLASMA_ALANINE_AMINOTRANSFERASE_LEVEL_44EVENT_DATE',\n",
      "       'PLASMA_ALANINE_AMINOTRANSFERASE_LEVEL_44Value',\n",
      "       'PLASMA_ALANINE_AMINOTRANSFERASE_LEVEL_44NumUnit',\n",
      "       'PLASMA_ALANINE_AMINOTRANSFERASE_LEVEL_44LowRange',\n",
      "       'PLASMA_ALANINE_AMINOTRANSFERASE_LEVEL_44HighRange'],\n",
      "      dtype='object')\n",
      "Using event_date_col PLASMA_ALANINE_AMINOTRANSFERASE_LEVEL_44EVENT_DATE, and event_value_col PLASMA_ALANINE_AMINOTRANSFERASE_LEVEL_44Value\n"
     ]
    },
    {
     "name": "stderr",
     "output_type": "stream",
     "text": [
      "Adding Plasma_alanine_aminotransferase_level_44 measurements to table: 21it [00:24,  1.17s/it]\n"
     ]
    },
    {
     "name": "stdout",
     "output_type": "stream",
     "text": [
      "Building 25-Hydroxyvitamin_D3_level_90 to the measurements/tests table from \n",
      "\t /rds/projects/g/gokhalkm-optimal/OPTIMAL_MASTER_DATASET/data/timeseries/measurement_and_tests/lab_measurements/AVF2_masterDataOptimal_v3_fullDB20231112045951_25-Hydroxyvitamin_D3_level_90.zip.\n"
     ]
    },
    {
     "name": "stderr",
     "output_type": "stream",
     "text": [
      "Adding 25-Hydroxyvitamin_D3_level_90 measurements to table: 0it [00:00, ?it/s]"
     ]
    },
    {
     "name": "stdout",
     "output_type": "stream",
     "text": [
      "Index(['PRACTICE_PATIENT_ID', 'INDEX_DATE', 'EXIT_DATE',\n",
      "       '25-HYDROXYVITAMIN_D3_LEVEL_90EVENT_DATE',\n",
      "       '25-HYDROXYVITAMIN_D3_LEVEL_90Value',\n",
      "       '25-HYDROXYVITAMIN_D3_LEVEL_90NumUnit',\n",
      "       '25-HYDROXYVITAMIN_D3_LEVEL_90LowRange',\n",
      "       '25-HYDROXYVITAMIN_D3_LEVEL_90HighRange'],\n",
      "      dtype='object')\n",
      "Using event_date_col 25-HYDROXYVITAMIN_D3_LEVEL_90EVENT_DATE, and event_value_col 25-HYDROXYVITAMIN_D3_LEVEL_90Value\n"
     ]
    },
    {
     "name": "stderr",
     "output_type": "stream",
     "text": [
      "Adding 25-Hydroxyvitamin_D3_level_90 measurements to table: 5it [00:05,  1.00s/it]\n"
     ]
    },
    {
     "name": "stdout",
     "output_type": "stream",
     "text": [
      "Building Serum_sodium_24 to the measurements/tests table from \n",
      "\t /rds/projects/g/gokhalkm-optimal/OPTIMAL_MASTER_DATASET/data/timeseries/measurement_and_tests/lab_measurements/AVF2_masterDataOptimal_v3_fullDB20231112045951_Serum_sodium_24.zip.\n"
     ]
    },
    {
     "name": "stderr",
     "output_type": "stream",
     "text": [
      "Adding Serum_sodium_24 measurements to table: 0it [00:00, ?it/s]"
     ]
    },
    {
     "name": "stdout",
     "output_type": "stream",
     "text": [
      "Index(['PRACTICE_PATIENT_ID', 'INDEX_DATE', 'EXIT_DATE',\n",
      "       'SERUM_SODIUM_24EVENT_DATE', 'SERUM_SODIUM_24Value',\n",
      "       'SERUM_SODIUM_24NumUnit', 'SERUM_SODIUM_24LowRange',\n",
      "       'SERUM_SODIUM_24HighRange'],\n",
      "      dtype='object')\n",
      "Using event_date_col SERUM_SODIUM_24EVENT_DATE, and event_value_col SERUM_SODIUM_24Value\n"
     ]
    },
    {
     "name": "stderr",
     "output_type": "stream",
     "text": [
      "Adding Serum_sodium_24 measurements to table: 498it [10:00,  1.21s/it]\n"
     ]
    },
    {
     "name": "stdout",
     "output_type": "stream",
     "text": [
      "Building N_terminal_pro-brain_natriuretic_peptide_level_67 to the measurements/tests table from \n",
      "\t /rds/projects/g/gokhalkm-optimal/OPTIMAL_MASTER_DATASET/data/timeseries/measurement_and_tests/lab_measurements/AVF2_masterDataOptimal_v3_fullDB20231112045951_N_terminal_pro-brain_natriuretic_peptide_level_67.zip.\n"
     ]
    },
    {
     "name": "stderr",
     "output_type": "stream",
     "text": [
      "Adding N_terminal_pro-brain_natriuretic_peptide_level_67 measurements to table: 0it [00:00, ?it/s]"
     ]
    },
    {
     "name": "stdout",
     "output_type": "stream",
     "text": [
      "Index(['PRACTICE_PATIENT_ID', 'INDEX_DATE', 'EXIT_DATE',\n",
      "       'N_TERMINAL_PRO-BRAIN_NATRIURETIC_PEPTIDE_LEVEL_67EVENT_DATE',\n",
      "       'N_TERMINAL_PRO-BRAIN_NATRIURETIC_PEPTIDE_LEVEL_67Value',\n",
      "       'N_TERMINAL_PRO-BRAIN_NATRIURETIC_PEPTIDE_LEVEL_67NumUnit',\n",
      "       'N_TERMINAL_PRO-BRAIN_NATRIURETIC_PEPTIDE_LEVEL_67LowRange',\n",
      "       'N_TERMINAL_PRO-BRAIN_NATRIURETIC_PEPTIDE_LEVEL_67HighRange'],\n",
      "      dtype='object')\n",
      "Using event_date_col N_TERMINAL_PRO-BRAIN_NATRIURETIC_PEPTIDE_LEVEL_67EVENT_DATE, and event_value_col N_TERMINAL_PRO-BRAIN_NATRIURETIC_PEPTIDE_LEVEL_67Value\n"
     ]
    },
    {
     "name": "stderr",
     "output_type": "stream",
     "text": [
      "Adding N_terminal_pro-brain_natriuretic_peptide_level_67 measurements to table: 1it [00:00,  2.83it/s]\n"
     ]
    },
    {
     "name": "stdout",
     "output_type": "stream",
     "text": [
      "Building Ex_smoker_84 to the measurements/tests table from \n",
      "\t /rds/projects/g/gokhalkm-optimal/OPTIMAL_MASTER_DATASET/data/timeseries/measurement_and_tests/lab_measurements/AVF2_masterDataOptimal_v3_fullDB20231112045951_Ex_smoker_84.zip.\n"
     ]
    },
    {
     "name": "stderr",
     "output_type": "stream",
     "text": [
      "Adding Ex_smoker_84 measurements to table: 0it [00:00, ?it/s]"
     ]
    },
    {
     "name": "stdout",
     "output_type": "stream",
     "text": [
      "Index(['PRACTICE_PATIENT_ID', 'INDEX_DATE', 'EXIT_DATE',\n",
      "       'EX_SMOKER_84EVENT_DATE', 'EX_SMOKER_84Value', 'EX_SMOKER_84NumUnit',\n",
      "       'EX_SMOKER_84LowRange', 'EX_SMOKER_84HighRange'],\n",
      "      dtype='object')\n",
      "Using event_date_col EX_SMOKER_84EVENT_DATE, and event_value_col EX_SMOKER_84Value\n"
     ]
    },
    {
     "name": "stderr",
     "output_type": "stream",
     "text": [
      "Adding Ex_smoker_84 measurements to table: 125it [02:29,  1.19s/it]\n"
     ]
    },
    {
     "name": "stdout",
     "output_type": "stream",
     "text": [
      "Building Red_blood_cell_distribution_width_17 to the measurements/tests table from \n",
      "\t /rds/projects/g/gokhalkm-optimal/OPTIMAL_MASTER_DATASET/data/timeseries/measurement_and_tests/lab_measurements/AVF2_masterDataOptimal_v3_fullDB20231112045951_Red_blood_cell_distribution_width_17.zip.\n"
     ]
    },
    {
     "name": "stderr",
     "output_type": "stream",
     "text": [
      "Adding Red_blood_cell_distribution_width_17 measurements to table: 0it [00:00, ?it/s]"
     ]
    },
    {
     "name": "stdout",
     "output_type": "stream",
     "text": [
      "Index(['PRACTICE_PATIENT_ID', 'INDEX_DATE', 'EXIT_DATE',\n",
      "       'RED_BLOOD_CELL_DISTRIBUTION_WIDTH_17EVENT_DATE',\n",
      "       'RED_BLOOD_CELL_DISTRIBUTION_WIDTH_17Value',\n",
      "       'RED_BLOOD_CELL_DISTRIBUTION_WIDTH_17NumUnit',\n",
      "       'RED_BLOOD_CELL_DISTRIBUTION_WIDTH_17LowRange',\n",
      "       'RED_BLOOD_CELL_DISTRIBUTION_WIDTH_17HighRange'],\n",
      "      dtype='object')\n",
      "Using event_date_col RED_BLOOD_CELL_DISTRIBUTION_WIDTH_17EVENT_DATE, and event_value_col RED_BLOOD_CELL_DISTRIBUTION_WIDTH_17Value\n"
     ]
    },
    {
     "name": "stderr",
     "output_type": "stream",
     "text": [
      "Adding Red_blood_cell_distribution_width_17 measurements to table: 249it [05:08,  1.24s/it]\n"
     ]
    },
    {
     "name": "stdout",
     "output_type": "stream",
     "text": [
      "Building Plasma_total_bilirubin_level_54 to the measurements/tests table from \n",
      "\t /rds/projects/g/gokhalkm-optimal/OPTIMAL_MASTER_DATASET/data/timeseries/measurement_and_tests/lab_measurements/AVF2_masterDataOptimal_v3_fullDB20231112045951_Plasma_total_bilirubin_level_54.zip.\n"
     ]
    },
    {
     "name": "stderr",
     "output_type": "stream",
     "text": [
      "Adding Plasma_total_bilirubin_level_54 measurements to table: 0it [00:00, ?it/s]"
     ]
    },
    {
     "name": "stdout",
     "output_type": "stream",
     "text": [
      "Index(['PRACTICE_PATIENT_ID', 'INDEX_DATE', 'EXIT_DATE',\n",
      "       'PLASMA_TOTAL_BILIRUBIN_LEVEL_54EVENT_DATE',\n",
      "       'PLASMA_TOTAL_BILIRUBIN_LEVEL_54Value',\n",
      "       'PLASMA_TOTAL_BILIRUBIN_LEVEL_54NumUnit',\n",
      "       'PLASMA_TOTAL_BILIRUBIN_LEVEL_54LowRange',\n",
      "       'PLASMA_TOTAL_BILIRUBIN_LEVEL_54HighRange'],\n",
      "      dtype='object')\n",
      "Using event_date_col PLASMA_TOTAL_BILIRUBIN_LEVEL_54EVENT_DATE, and event_value_col PLASMA_TOTAL_BILIRUBIN_LEVEL_54Value\n"
     ]
    },
    {
     "name": "stderr",
     "output_type": "stream",
     "text": [
      "Adding Plasma_total_bilirubin_level_54 measurements to table: 18it [00:21,  1.18s/it]\n"
     ]
    },
    {
     "name": "stdout",
     "output_type": "stream",
     "text": [
      "Building Serum_gamma-glutamyl_transferase_level_57 to the measurements/tests table from \n",
      "\t /rds/projects/g/gokhalkm-optimal/OPTIMAL_MASTER_DATASET/data/timeseries/measurement_and_tests/lab_measurements/AVF2_masterDataOptimal_v3_fullDB20231112045951_Serum_gamma-glutamyl_transferase_level_57.zip.\n"
     ]
    },
    {
     "name": "stderr",
     "output_type": "stream",
     "text": [
      "Adding Serum_gamma-glutamyl_transferase_level_57 measurements to table: 0it [00:00, ?it/s]"
     ]
    },
    {
     "name": "stdout",
     "output_type": "stream",
     "text": [
      "Index(['PRACTICE_PATIENT_ID', 'INDEX_DATE', 'EXIT_DATE',\n",
      "       'SERUM_GAMMA-GLUTAMYL_TRANSFERASE_LEVEL_57EVENT_DATE',\n",
      "       'SERUM_GAMMA-GLUTAMYL_TRANSFERASE_LEVEL_57Value',\n",
      "       'SERUM_GAMMA-GLUTAMYL_TRANSFERASE_LEVEL_57NumUnit',\n",
      "       'SERUM_GAMMA-GLUTAMYL_TRANSFERASE_LEVEL_57LowRange',\n",
      "       'SERUM_GAMMA-GLUTAMYL_TRANSFERASE_LEVEL_57HighRange'],\n",
      "      dtype='object')\n",
      "Using event_date_col SERUM_GAMMA-GLUTAMYL_TRANSFERASE_LEVEL_57EVENT_DATE, and event_value_col SERUM_GAMMA-GLUTAMYL_TRANSFERASE_LEVEL_57Value\n"
     ]
    },
    {
     "name": "stderr",
     "output_type": "stream",
     "text": [
      "Adding Serum_gamma-glutamyl_transferase_level_57 measurements to table: 113it [02:19,  1.23s/it]\n"
     ]
    },
    {
     "name": "stdout",
     "output_type": "stream",
     "text": [
      "Building Monocyte_count_23 to the measurements/tests table from \n",
      "\t /rds/projects/g/gokhalkm-optimal/OPTIMAL_MASTER_DATASET/data/timeseries/measurement_and_tests/lab_measurements/AVF2_masterDataOptimal_v3_fullDB20231112045951_Monocyte_count_23.zip.\n"
     ]
    },
    {
     "name": "stderr",
     "output_type": "stream",
     "text": [
      "Adding Monocyte_count_23 measurements to table: 0it [00:00, ?it/s]"
     ]
    },
    {
     "name": "stdout",
     "output_type": "stream",
     "text": [
      "Index(['PRACTICE_PATIENT_ID', 'INDEX_DATE', 'EXIT_DATE',\n",
      "       'MONOCYTE_COUNT_23EVENT_DATE', 'MONOCYTE_COUNT_23Value',\n",
      "       'MONOCYTE_COUNT_23NumUnit', 'MONOCYTE_COUNT_23LowRange',\n",
      "       'MONOCYTE_COUNT_23HighRange'],\n",
      "      dtype='object')\n",
      "Using event_date_col MONOCYTE_COUNT_23EVENT_DATE, and event_value_col MONOCYTE_COUNT_23Value\n"
     ]
    },
    {
     "name": "stderr",
     "output_type": "stream",
     "text": [
      "Adding Monocyte_count_23 measurements to table: 463it [09:21,  1.21s/it]\n"
     ]
    },
    {
     "name": "stdout",
     "output_type": "stream",
     "text": [
      "Building Serum_total_cholesterol_level_98 to the measurements/tests table from \n",
      "\t /rds/projects/g/gokhalkm-optimal/OPTIMAL_MASTER_DATASET/data/timeseries/measurement_and_tests/lab_measurements/AVF2_masterDataOptimal_v3_fullDB20231112045951_Serum_total_cholesterol_level_98.zip.\n"
     ]
    },
    {
     "name": "stderr",
     "output_type": "stream",
     "text": [
      "Adding Serum_total_cholesterol_level_98 measurements to table: 0it [00:00, ?it/s]"
     ]
    },
    {
     "name": "stdout",
     "output_type": "stream",
     "text": [
      "Index(['PRACTICE_PATIENT_ID', 'INDEX_DATE', 'EXIT_DATE',\n",
      "       'SERUM_TOTAL_CHOLESTEROL_LEVEL_98EVENT_DATE',\n",
      "       'SERUM_TOTAL_CHOLESTEROL_LEVEL_98Value',\n",
      "       'SERUM_TOTAL_CHOLESTEROL_LEVEL_98NumUnit',\n",
      "       'SERUM_TOTAL_CHOLESTEROL_LEVEL_98LowRange',\n",
      "       'SERUM_TOTAL_CHOLESTEROL_LEVEL_98HighRange'],\n",
      "      dtype='object')\n",
      "Using event_date_col SERUM_TOTAL_CHOLESTEROL_LEVEL_98EVENT_DATE, and event_value_col SERUM_TOTAL_CHOLESTEROL_LEVEL_98Value\n"
     ]
    },
    {
     "name": "stderr",
     "output_type": "stream",
     "text": [
      "Adding Serum_total_cholesterol_level_98 measurements to table: 26it [00:31,  1.23s/it]\n"
     ]
    },
    {
     "name": "stdout",
     "output_type": "stream",
     "text": [
      "Building Plasma_pro-brain_natriuretic_peptide_level_64 to the measurements/tests table from \n",
      "\t /rds/projects/g/gokhalkm-optimal/OPTIMAL_MASTER_DATASET/data/timeseries/measurement_and_tests/lab_measurements/AVF2_masterDataOptimal_v3_fullDB20231112045951_Plasma_pro-brain_natriuretic_peptide_level_64.zip.\n"
     ]
    },
    {
     "name": "stderr",
     "output_type": "stream",
     "text": [
      "Adding Plasma_pro-brain_natriuretic_peptide_level_64 measurements to table: 0it [00:00, ?it/s]"
     ]
    },
    {
     "name": "stdout",
     "output_type": "stream",
     "text": [
      "Index(['PRACTICE_PATIENT_ID', 'INDEX_DATE', 'EXIT_DATE',\n",
      "       'PLASMA_PRO-BRAIN_NATRIURETIC_PEPTIDE_LEVEL_64EVENT_DATE',\n",
      "       'PLASMA_PRO-BRAIN_NATRIURETIC_PEPTIDE_LEVEL_64Value',\n",
      "       'PLASMA_PRO-BRAIN_NATRIURETIC_PEPTIDE_LEVEL_64NumUnit',\n",
      "       'PLASMA_PRO-BRAIN_NATRIURETIC_PEPTIDE_LEVEL_64LowRange',\n",
      "       'PLASMA_PRO-BRAIN_NATRIURETIC_PEPTIDE_LEVEL_64HighRange'],\n",
      "      dtype='object')\n",
      "Using event_date_col PLASMA_PRO-BRAIN_NATRIURETIC_PEPTIDE_LEVEL_64EVENT_DATE, and event_value_col PLASMA_PRO-BRAIN_NATRIURETIC_PEPTIDE_LEVEL_64Value\n"
     ]
    },
    {
     "name": "stderr",
     "output_type": "stream",
     "text": [
      "Adding Plasma_pro-brain_natriuretic_peptide_level_64 measurements to table: 1it [00:00,  1.85it/s]\n"
     ]
    },
    {
     "name": "stdout",
     "output_type": "stream",
     "text": [
      "Building Erythrocyte_sedimentation_rate_61 to the measurements/tests table from \n",
      "\t /rds/projects/g/gokhalkm-optimal/OPTIMAL_MASTER_DATASET/data/timeseries/measurement_and_tests/lab_measurements/AVF2_masterDataOptimal_v3_fullDB20231112045951_Erythrocyte_sedimentation_rate_61.zip.\n"
     ]
    },
    {
     "name": "stderr",
     "output_type": "stream",
     "text": [
      "Adding Erythrocyte_sedimentation_rate_61 measurements to table: 0it [00:00, ?it/s]"
     ]
    },
    {
     "name": "stdout",
     "output_type": "stream",
     "text": [
      "Index(['PRACTICE_PATIENT_ID', 'INDEX_DATE', 'EXIT_DATE',\n",
      "       'ERYTHROCYTE_SEDIMENTATION_RATE_61EVENT_DATE',\n",
      "       'ERYTHROCYTE_SEDIMENTATION_RATE_61Value',\n",
      "       'ERYTHROCYTE_SEDIMENTATION_RATE_61NumUnit',\n",
      "       'ERYTHROCYTE_SEDIMENTATION_RATE_61LowRange',\n",
      "       'ERYTHROCYTE_SEDIMENTATION_RATE_61HighRange'],\n",
      "      dtype='object')\n",
      "Using event_date_col ERYTHROCYTE_SEDIMENTATION_RATE_61EVENT_DATE, and event_value_col ERYTHROCYTE_SEDIMENTATION_RATE_61Value\n"
     ]
    },
    {
     "name": "stderr",
     "output_type": "stream",
     "text": [
      "Adding Erythrocyte_sedimentation_rate_61 measurements to table: 150it [03:05,  1.23s/it]\n"
     ]
    },
    {
     "name": "stdout",
     "output_type": "stream",
     "text": [
      "Building Haemoglobin_estimation_9 to the measurements/tests table from \n",
      "\t /rds/projects/g/gokhalkm-optimal/OPTIMAL_MASTER_DATASET/data/timeseries/measurement_and_tests/lab_measurements/AVF2_masterDataOptimal_v3_fullDB20231112045951_Haemoglobin_estimation_9.zip.\n"
     ]
    },
    {
     "name": "stderr",
     "output_type": "stream",
     "text": [
      "Adding Haemoglobin_estimation_9 measurements to table: 0it [00:00, ?it/s]"
     ]
    },
    {
     "name": "stdout",
     "output_type": "stream",
     "text": [
      "Index(['PRACTICE_PATIENT_ID', 'INDEX_DATE', 'EXIT_DATE',\n",
      "       'HAEMOGLOBIN_ESTIMATION_9EVENT_DATE', 'HAEMOGLOBIN_ESTIMATION_9Value',\n",
      "       'HAEMOGLOBIN_ESTIMATION_9NumUnit', 'HAEMOGLOBIN_ESTIMATION_9LowRange',\n",
      "       'HAEMOGLOBIN_ESTIMATION_9HighRange'],\n",
      "      dtype='object')\n",
      "Using event_date_col HAEMOGLOBIN_ESTIMATION_9EVENT_DATE, and event_value_col HAEMOGLOBIN_ESTIMATION_9Value\n"
     ]
    },
    {
     "name": "stderr",
     "output_type": "stream",
     "text": [
      "Adding Haemoglobin_estimation_9 measurements to table: 487it [09:57,  1.23s/it]\n"
     ]
    },
    {
     "name": "stdout",
     "output_type": "stream",
     "text": [
      "Building Serum_albumin_51 to the measurements/tests table from \n",
      "\t /rds/projects/g/gokhalkm-optimal/OPTIMAL_MASTER_DATASET/data/timeseries/measurement_and_tests/lab_measurements/AVF2_masterDataOptimal_v3_fullDB20231112045951_Serum_albumin_51.zip.\n"
     ]
    },
    {
     "name": "stderr",
     "output_type": "stream",
     "text": [
      "Adding Serum_albumin_51 measurements to table: 0it [00:00, ?it/s]"
     ]
    },
    {
     "name": "stdout",
     "output_type": "stream",
     "text": [
      "Index(['PRACTICE_PATIENT_ID', 'INDEX_DATE', 'EXIT_DATE',\n",
      "       'SERUM_ALBUMIN_51EVENT_DATE', 'SERUM_ALBUMIN_51Value',\n",
      "       'SERUM_ALBUMIN_51NumUnit', 'SERUM_ALBUMIN_51LowRange',\n",
      "       'SERUM_ALBUMIN_51HighRange'],\n",
      "      dtype='object')\n",
      "Using event_date_col SERUM_ALBUMIN_51EVENT_DATE, and event_value_col SERUM_ALBUMIN_51Value\n"
     ]
    },
    {
     "name": "stderr",
     "output_type": "stream",
     "text": [
      "Adding Serum_albumin_51 measurements to table: 416it [08:18,  1.20s/it]\n"
     ]
    },
    {
     "name": "stdout",
     "output_type": "stream",
     "text": [
      "Building Plasma_C_reactive_protein_60 to the measurements/tests table from \n",
      "\t /rds/projects/g/gokhalkm-optimal/OPTIMAL_MASTER_DATASET/data/timeseries/measurement_and_tests/lab_measurements/AVF2_masterDataOptimal_v3_fullDB20231112045951_Plasma_C_reactive_protein_60.zip.\n"
     ]
    },
    {
     "name": "stderr",
     "output_type": "stream",
     "text": [
      "Adding Plasma_C_reactive_protein_60 measurements to table: 0it [00:00, ?it/s]"
     ]
    },
    {
     "name": "stdout",
     "output_type": "stream",
     "text": [
      "Index(['PRACTICE_PATIENT_ID', 'INDEX_DATE', 'EXIT_DATE',\n",
      "       'PLASMA_C_REACTIVE_PROTEIN_60EVENT_DATE',\n",
      "       'PLASMA_C_REACTIVE_PROTEIN_60Value',\n",
      "       'PLASMA_C_REACTIVE_PROTEIN_60NumUnit',\n",
      "       'PLASMA_C_REACTIVE_PROTEIN_60LowRange',\n",
      "       'PLASMA_C_REACTIVE_PROTEIN_60HighRange'],\n",
      "      dtype='object')\n",
      "Using event_date_col PLASMA_C_REACTIVE_PROTEIN_60EVENT_DATE, and event_value_col PLASMA_C_REACTIVE_PROTEIN_60Value\n"
     ]
    },
    {
     "name": "stderr",
     "output_type": "stream",
     "text": [
      "Adding Plasma_C_reactive_protein_60 measurements to table: 46it [00:56,  1.23s/it]\n"
     ]
    },
    {
     "name": "stdout",
     "output_type": "stream",
     "text": [
      "Building Plasma_TSH_level_73 to the measurements/tests table from \n",
      "\t /rds/projects/g/gokhalkm-optimal/OPTIMAL_MASTER_DATASET/data/timeseries/measurement_and_tests/lab_measurements/AVF2_masterDataOptimal_v3_fullDB20231112045951_Plasma_TSH_level_73.zip.\n"
     ]
    },
    {
     "name": "stderr",
     "output_type": "stream",
     "text": [
      "Adding Plasma_TSH_level_73 measurements to table: 0it [00:00, ?it/s]"
     ]
    },
    {
     "name": "stdout",
     "output_type": "stream",
     "text": [
      "Index(['PRACTICE_PATIENT_ID', 'INDEX_DATE', 'EXIT_DATE',\n",
      "       'PLASMA_TSH_LEVEL_73EVENT_DATE', 'PLASMA_TSH_LEVEL_73Value',\n",
      "       'PLASMA_TSH_LEVEL_73NumUnit', 'PLASMA_TSH_LEVEL_73LowRange',\n",
      "       'PLASMA_TSH_LEVEL_73HighRange'],\n",
      "      dtype='object')\n",
      "Using event_date_col PLASMA_TSH_LEVEL_73EVENT_DATE, and event_value_col PLASMA_TSH_LEVEL_73Value\n"
     ]
    },
    {
     "name": "stderr",
     "output_type": "stream",
     "text": [
      "Adding Plasma_TSH_level_73 measurements to table: 11it [00:12,  1.14s/it]\n"
     ]
    },
    {
     "name": "stdout",
     "output_type": "stream",
     "text": [
      "Building Total_cholesterol_HDL_ratio_95 to the measurements/tests table from \n",
      "\t /rds/projects/g/gokhalkm-optimal/OPTIMAL_MASTER_DATASET/data/timeseries/measurement_and_tests/lab_measurements/AVF2_masterDataOptimal_v3_fullDB20231112045951_Total_cholesterol_HDL_ratio_95.zip.\n"
     ]
    },
    {
     "name": "stderr",
     "output_type": "stream",
     "text": [
      "Adding Total_cholesterol_HDL_ratio_95 measurements to table: 0it [00:00, ?it/s]"
     ]
    },
    {
     "name": "stdout",
     "output_type": "stream",
     "text": [
      "Index(['PRACTICE_PATIENT_ID', 'INDEX_DATE', 'EXIT_DATE',\n",
      "       'TOTAL_CHOLESTEROL:HDL_RATIO_95EVENT_DATE',\n",
      "       'TOTAL_CHOLESTEROL:HDL_RATIO_95Value',\n",
      "       'TOTAL_CHOLESTEROL:HDL_RATIO_95NumUnit',\n",
      "       'TOTAL_CHOLESTEROL:HDL_RATIO_95LowRange',\n",
      "       'TOTAL_CHOLESTEROL:HDL_RATIO_95HighRange'],\n",
      "      dtype='object')\n",
      "Using event_date_col TOTAL_CHOLESTEROL:HDL_RATIO_95EVENT_DATE, and event_value_col TOTAL_CHOLESTEROL:HDL_RATIO_95Value\n"
     ]
    },
    {
     "name": "stderr",
     "output_type": "stream",
     "text": [
      "Adding Total_cholesterol_HDL_ratio_95 measurements to table: 79it [01:36,  1.22s/it]\n"
     ]
    },
    {
     "name": "stdout",
     "output_type": "stream",
     "text": [
      "Building Serum_25-Hydroxy_vitamin_D3_level_88 to the measurements/tests table from \n",
      "\t /rds/projects/g/gokhalkm-optimal/OPTIMAL_MASTER_DATASET/data/timeseries/measurement_and_tests/lab_measurements/AVF2_masterDataOptimal_v3_fullDB20231112045951_Serum_25-Hydroxy_vitamin_D3_level_88.zip.\n"
     ]
    },
    {
     "name": "stderr",
     "output_type": "stream",
     "text": [
      "Adding Serum_25-Hydroxy_vitamin_D3_level_88 measurements to table: 0it [00:00, ?it/s]"
     ]
    },
    {
     "name": "stdout",
     "output_type": "stream",
     "text": [
      "Index(['PRACTICE_PATIENT_ID', 'INDEX_DATE', 'EXIT_DATE',\n",
      "       'SERUM_25-HYDROXY_VITAMIN_D3_LEVEL_88EVENT_DATE',\n",
      "       'SERUM_25-HYDROXY_VITAMIN_D3_LEVEL_88Value',\n",
      "       'SERUM_25-HYDROXY_VITAMIN_D3_LEVEL_88NumUnit',\n",
      "       'SERUM_25-HYDROXY_VITAMIN_D3_LEVEL_88LowRange',\n",
      "       'SERUM_25-HYDROXY_VITAMIN_D3_LEVEL_88HighRange'],\n",
      "      dtype='object')\n",
      "Using event_date_col SERUM_25-HYDROXY_VITAMIN_D3_LEVEL_88EVENT_DATE, and event_value_col SERUM_25-HYDROXY_VITAMIN_D3_LEVEL_88Value\n"
     ]
    },
    {
     "name": "stderr",
     "output_type": "stream",
     "text": [
      "Adding Serum_25-Hydroxy_vitamin_D3_level_88 measurements to table: 7it [00:07,  1.12s/it]\n"
     ]
    },
    {
     "name": "stdout",
     "output_type": "stream",
     "text": [
      "Building eGFR_using_creatinine_CKD-EPI_per_1_73_square_metres_33 to the measurements/tests table from \n",
      "\t /rds/projects/g/gokhalkm-optimal/OPTIMAL_MASTER_DATASET/data/timeseries/measurement_and_tests/lab_measurements/AVF2_masterDataOptimal_v3_fullDB20231112045951_eGFR_using_creatinine_CKD-EPI_per_1_73_square_metres_33.zip.\n"
     ]
    },
    {
     "name": "stderr",
     "output_type": "stream",
     "text": [
      "Adding eGFR_using_creatinine_CKD-EPI_per_1_73_square_metres_33 measurements to table: 0it [00:00, ?it/s]"
     ]
    },
    {
     "name": "stdout",
     "output_type": "stream",
     "text": [
      "Index(['PRACTICE_PATIENT_ID', 'INDEX_DATE', 'EXIT_DATE',\n",
      "       'EGFR_USING_CREATININE_CKD-EPI_PER_1_73_SQUARE_METRES_33EVENT_DATE',\n",
      "       'EGFR_USING_CREATININE_CKD-EPI_PER_1_73_SQUARE_METRES_33Value',\n",
      "       'EGFR_USING_CREATININE_CKD-EPI_PER_1_73_SQUARE_METRES_33NumUnit',\n",
      "       'EGFR_USING_CREATININE_CKD-EPI_PER_1_73_SQUARE_METRES_33LowRange',\n",
      "       'EGFR_USING_CREATININE_CKD-EPI_PER_1_73_SQUARE_METRES_33HighRange'],\n",
      "      dtype='object')\n",
      "Using event_date_col EGFR_USING_CREATININE_CKD-EPI_PER_1_73_SQUARE_METRES_33EVENT_DATE, and event_value_col EGFR_USING_CREATININE_CKD-EPI_PER_1_73_SQUARE_METRES_33Value\n"
     ]
    },
    {
     "name": "stderr",
     "output_type": "stream",
     "text": [
      "Adding eGFR_using_creatinine_CKD-EPI_per_1_73_square_metres_33 measurements to table: 65it [01:19,  1.22s/it]\n"
     ]
    },
    {
     "name": "stdout",
     "output_type": "stream",
     "text": [
      "Building Systolic_blood_pressure_4 to the measurements/tests table from \n",
      "\t /rds/projects/g/gokhalkm-optimal/OPTIMAL_MASTER_DATASET/data/timeseries/measurement_and_tests/lab_measurements/AVF2_masterDataOptimal_v3_fullDB20231112045951_Systolic_blood_pressure_4.zip.\n"
     ]
    },
    {
     "name": "stderr",
     "output_type": "stream",
     "text": [
      "Adding Systolic_blood_pressure_4 measurements to table: 0it [00:00, ?it/s]"
     ]
    },
    {
     "name": "stdout",
     "output_type": "stream",
     "text": [
      "Index(['PRACTICE_PATIENT_ID', 'INDEX_DATE', 'EXIT_DATE',\n",
      "       'SYSTOLIC_BLOOD_PRESSURE_4EVENT_DATE', 'SYSTOLIC_BLOOD_PRESSURE_4Value',\n",
      "       'SYSTOLIC_BLOOD_PRESSURE_4NumUnit', 'SYSTOLIC_BLOOD_PRESSURE_4LowRange',\n",
      "       'SYSTOLIC_BLOOD_PRESSURE_4HighRange'],\n",
      "      dtype='object')\n",
      "Using event_date_col SYSTOLIC_BLOOD_PRESSURE_4EVENT_DATE, and event_value_col SYSTOLIC_BLOOD_PRESSURE_4Value\n"
     ]
    },
    {
     "name": "stderr",
     "output_type": "stream",
     "text": [
      "Adding Systolic_blood_pressure_4 measurements to table: 1208it [24:09,  1.20s/it]\n"
     ]
    },
    {
     "name": "stdout",
     "output_type": "stream",
     "text": [
      "Building Current_smoker_83 to the measurements/tests table from \n",
      "\t /rds/projects/g/gokhalkm-optimal/OPTIMAL_MASTER_DATASET/data/timeseries/measurement_and_tests/lab_measurements/AVF2_masterDataOptimal_v3_fullDB20231112045951_Current_smoker_83.zip.\n"
     ]
    },
    {
     "name": "stderr",
     "output_type": "stream",
     "text": [
      "Adding Current_smoker_83 measurements to table: 0it [00:00, ?it/s]"
     ]
    },
    {
     "name": "stdout",
     "output_type": "stream",
     "text": [
      "Index(['PRACTICE_PATIENT_ID', 'INDEX_DATE', 'EXIT_DATE',\n",
      "       'CURRENT_SMOKER_83EVENT_DATE', 'CURRENT_SMOKER_83Value',\n",
      "       'CURRENT_SMOKER_83NumUnit', 'CURRENT_SMOKER_83LowRange',\n",
      "       'CURRENT_SMOKER_83HighRange'],\n",
      "      dtype='object')\n",
      "Using event_date_col CURRENT_SMOKER_83EVENT_DATE, and event_value_col CURRENT_SMOKER_83Value\n"
     ]
    },
    {
     "name": "stderr",
     "output_type": "stream",
     "text": [
      "Adding Current_smoker_83 measurements to table: 53it [01:04,  1.21s/it]\n"
     ]
    },
    {
     "name": "stdout",
     "output_type": "stream",
     "text": [
      "Building AlcoholConsumption_Current to the measurements/tests table from \n",
      "\t /rds/projects/g/gokhalkm-optimal/OPTIMAL_MASTER_DATASET/data/timeseries/measurement_and_tests/lab_measurements/AVF2_masterDataOptimal_v3_fullDB20231112045951_AlcoholConsumption_Current.zip.\n"
     ]
    },
    {
     "name": "stderr",
     "output_type": "stream",
     "text": [
      "Adding AlcoholConsumption_Current measurements to table: 0it [00:00, ?it/s]"
     ]
    },
    {
     "name": "stdout",
     "output_type": "stream",
     "text": [
      "Index(['PRACTICE_PATIENT_ID', 'INDEX_DATE', 'EXIT_DATE',\n",
      "       'ALCOHOLCONSUMPTION_CURRENT', 'EVENT_DATE'],\n",
      "      dtype='object')\n",
      "Using event_date_col EVENT_DATE, and event_value_col ALCOHOLCONSUMPTION_CURRENT\n"
     ]
    },
    {
     "name": "stderr",
     "output_type": "stream",
     "text": [
      "Adding AlcoholConsumption_Current measurements to table: 427it [08:37,  1.21s/it]\n"
     ]
    },
    {
     "name": "stdout",
     "output_type": "stream",
     "text": [
      "Building SmokingStatus_NeverSmoked to the measurements/tests table from \n",
      "\t /rds/projects/g/gokhalkm-optimal/OPTIMAL_MASTER_DATASET/data/timeseries/measurement_and_tests/lab_measurements/AVF2_masterDataOptimal_v3_fullDB20231112045951_SmokingStatus_NeverSmoked.zip.\n"
     ]
    },
    {
     "name": "stderr",
     "output_type": "stream",
     "text": [
      "Adding SmokingStatus_NeverSmoked measurements to table: 0it [00:00, ?it/s]"
     ]
    },
    {
     "name": "stdout",
     "output_type": "stream",
     "text": [
      "Index(['PRACTICE_PATIENT_ID', 'INDEX_DATE', 'EXIT_DATE',\n",
      "       'SMOKINGSTATUS_NEVERSMOKED', 'EVENT_DATE'],\n",
      "      dtype='object')\n",
      "Using event_date_col EVENT_DATE, and event_value_col SMOKINGSTATUS_NEVERSMOKED\n"
     ]
    },
    {
     "name": "stderr",
     "output_type": "stream",
     "text": [
      "Adding SmokingStatus_NeverSmoked measurements to table: 311it [06:16,  1.21s/it]\n"
     ]
    },
    {
     "name": "stdout",
     "output_type": "stream",
     "text": [
      "Building Calcium_adjusted_level_41 to the measurements/tests table from \n",
      "\t /rds/projects/g/gokhalkm-optimal/OPTIMAL_MASTER_DATASET/data/timeseries/measurement_and_tests/lab_measurements/AVF2_masterDataOptimal_v3_fullDB20231112045951_Calcium_adjusted_level_41.zip.\n"
     ]
    },
    {
     "name": "stderr",
     "output_type": "stream",
     "text": [
      "Adding Calcium_adjusted_level_41 measurements to table: 0it [00:00, ?it/s]"
     ]
    },
    {
     "name": "stdout",
     "output_type": "stream",
     "text": [
      "Index(['PRACTICE_PATIENT_ID', 'INDEX_DATE', 'EXIT_DATE',\n",
      "       'CALCIUM_ADJUSTED_LEVEL_41EVENT_DATE', 'CALCIUM_ADJUSTED_LEVEL_41Value',\n",
      "       'CALCIUM_ADJUSTED_LEVEL_41NumUnit', 'CALCIUM_ADJUSTED_LEVEL_41LowRange',\n",
      "       'CALCIUM_ADJUSTED_LEVEL_41HighRange'],\n",
      "      dtype='object')\n",
      "Using event_date_col CALCIUM_ADJUSTED_LEVEL_41EVENT_DATE, and event_value_col CALCIUM_ADJUSTED_LEVEL_41Value\n"
     ]
    },
    {
     "name": "stderr",
     "output_type": "stream",
     "text": [
      "Adding Calcium_adjusted_level_41 measurements to table: 8it [00:09,  1.14s/it]\n"
     ]
    },
    {
     "name": "stdout",
     "output_type": "stream",
     "text": [
      "Building Combined_total_vitamin_D2_and_D3_level_93 to the measurements/tests table from \n",
      "\t /rds/projects/g/gokhalkm-optimal/OPTIMAL_MASTER_DATASET/data/timeseries/measurement_and_tests/lab_measurements/AVF2_masterDataOptimal_v3_fullDB20231112045951_Combined_total_vitamin_D2_and_D3_level_93.zip.\n"
     ]
    },
    {
     "name": "stderr",
     "output_type": "stream",
     "text": [
      "Adding Combined_total_vitamin_D2_and_D3_level_93 measurements to table: 0it [00:00, ?it/s]"
     ]
    },
    {
     "name": "stdout",
     "output_type": "stream",
     "text": [
      "Index(['PRACTICE_PATIENT_ID', 'INDEX_DATE', 'EXIT_DATE',\n",
      "       'COMBINED_TOTAL_VITAMIN_D2_AND_D3_LEVEL_93EVENT_DATE',\n",
      "       'COMBINED_TOTAL_VITAMIN_D2_AND_D3_LEVEL_93Value',\n",
      "       'COMBINED_TOTAL_VITAMIN_D2_AND_D3_LEVEL_93NumUnit',\n",
      "       'COMBINED_TOTAL_VITAMIN_D2_AND_D3_LEVEL_93LowRange',\n",
      "       'COMBINED_TOTAL_VITAMIN_D2_AND_D3_LEVEL_93HighRange'],\n",
      "      dtype='object')\n",
      "Using event_date_col COMBINED_TOTAL_VITAMIN_D2_AND_D3_LEVEL_93EVENT_DATE, and event_value_col COMBINED_TOTAL_VITAMIN_D2_AND_D3_LEVEL_93Value\n"
     ]
    },
    {
     "name": "stderr",
     "output_type": "stream",
     "text": [
      "Adding Combined_total_vitamin_D2_and_D3_level_93 measurements to table: 3it [00:02,  1.03it/s]\n"
     ]
    },
    {
     "name": "stdout",
     "output_type": "stream",
     "text": [
      "Building Serum_folate_80 to the measurements/tests table from \n",
      "\t /rds/projects/g/gokhalkm-optimal/OPTIMAL_MASTER_DATASET/data/timeseries/measurement_and_tests/lab_measurements/AVF2_masterDataOptimal_v3_fullDB20231112045951_Serum_folate_80.zip.\n"
     ]
    },
    {
     "name": "stderr",
     "output_type": "stream",
     "text": [
      "Adding Serum_folate_80 measurements to table: 0it [00:00, ?it/s]"
     ]
    },
    {
     "name": "stdout",
     "output_type": "stream",
     "text": [
      "Index(['PRACTICE_PATIENT_ID', 'INDEX_DATE', 'EXIT_DATE',\n",
      "       'SERUM_FOLATE_80EVENT_DATE', 'SERUM_FOLATE_80Value',\n",
      "       'SERUM_FOLATE_80NumUnit', 'SERUM_FOLATE_80LowRange',\n",
      "       'SERUM_FOLATE_80HighRange'],\n",
      "      dtype='object')\n",
      "Using event_date_col SERUM_FOLATE_80EVENT_DATE, and event_value_col SERUM_FOLATE_80Value\n"
     ]
    },
    {
     "name": "stderr",
     "output_type": "stream",
     "text": [
      "Adding Serum_folate_80 measurements to table: 74it [01:30,  1.22s/it]\n"
     ]
    },
    {
     "name": "stdout",
     "output_type": "stream",
     "text": [
      "Building Serum_creatinine_31 to the measurements/tests table from \n",
      "\t /rds/projects/g/gokhalkm-optimal/OPTIMAL_MASTER_DATASET/data/timeseries/measurement_and_tests/lab_measurements/AVF2_masterDataOptimal_v3_fullDB20231112045951_Serum_creatinine_31.zip.\n"
     ]
    },
    {
     "name": "stderr",
     "output_type": "stream",
     "text": [
      "Adding Serum_creatinine_31 measurements to table: 0it [00:00, ?it/s]"
     ]
    },
    {
     "name": "stdout",
     "output_type": "stream",
     "text": [
      "Index(['PRACTICE_PATIENT_ID', 'INDEX_DATE', 'EXIT_DATE',\n",
      "       'SERUM_CREATININE_31EVENT_DATE', 'SERUM_CREATININE_31Value',\n",
      "       'SERUM_CREATININE_31NumUnit', 'SERUM_CREATININE_31LowRange',\n",
      "       'SERUM_CREATININE_31HighRange'],\n",
      "      dtype='object')\n",
      "Using event_date_col SERUM_CREATININE_31EVENT_DATE, and event_value_col SERUM_CREATININE_31Value\n"
     ]
    },
    {
     "name": "stderr",
     "output_type": "stream",
     "text": [
      "Adding Serum_creatinine_31 measurements to table: 515it [10:19,  1.20s/it]\n"
     ]
    },
    {
     "name": "stdout",
     "output_type": "stream",
     "text": [
      "Building AlcoholConsumption_Ex to the measurements/tests table from \n",
      "\t /rds/projects/g/gokhalkm-optimal/OPTIMAL_MASTER_DATASET/data/timeseries/measurement_and_tests/lab_measurements/AVF2_masterDataOptimal_v3_fullDB20231112045951_AlcoholConsumption_Ex.zip.\n"
     ]
    },
    {
     "name": "stderr",
     "output_type": "stream",
     "text": [
      "Adding AlcoholConsumption_Ex measurements to table: 0it [00:00, ?it/s]"
     ]
    },
    {
     "name": "stdout",
     "output_type": "stream",
     "text": [
      "Index(['PRACTICE_PATIENT_ID', 'INDEX_DATE', 'EXIT_DATE',\n",
      "       'ALCOHOLCONSUMPTION_EX', 'EVENT_DATE'],\n",
      "      dtype='object')\n",
      "Using event_date_col EVENT_DATE, and event_value_col ALCOHOLCONSUMPTION_EX\n"
     ]
    },
    {
     "name": "stderr",
     "output_type": "stream",
     "text": [
      "Adding AlcoholConsumption_Ex measurements to table: 2it [00:02,  1.14s/it]\n"
     ]
    },
    {
     "name": "stdout",
     "output_type": "stream",
     "text": [
      "Building Serum_ferritin_63 to the measurements/tests table from \n",
      "\t /rds/projects/g/gokhalkm-optimal/OPTIMAL_MASTER_DATASET/data/timeseries/measurement_and_tests/lab_measurements/AVF2_masterDataOptimal_v3_fullDB20231112045951_Serum_ferritin_63.zip.\n"
     ]
    },
    {
     "name": "stderr",
     "output_type": "stream",
     "text": [
      "Adding Serum_ferritin_63 measurements to table: 0it [00:00, ?it/s]"
     ]
    },
    {
     "name": "stdout",
     "output_type": "stream",
     "text": [
      "Index(['PRACTICE_PATIENT_ID', 'INDEX_DATE', 'EXIT_DATE',\n",
      "       'SERUM_FERRITIN_63EVENT_DATE', 'SERUM_FERRITIN_63Value',\n",
      "       'SERUM_FERRITIN_63NumUnit', 'SERUM_FERRITIN_63LowRange',\n",
      "       'SERUM_FERRITIN_63HighRange'],\n",
      "      dtype='object')\n",
      "Using event_date_col SERUM_FERRITIN_63EVENT_DATE, and event_value_col SERUM_FERRITIN_63Value\n"
     ]
    },
    {
     "name": "stderr",
     "output_type": "stream",
     "text": [
      "Adding Serum_ferritin_63 measurements to table: 108it [02:11,  1.22s/it]\n"
     ]
    },
    {
     "name": "stdout",
     "output_type": "stream",
     "text": [
      "Building Plasma_free_T4_level_77 to the measurements/tests table from \n",
      "\t /rds/projects/g/gokhalkm-optimal/OPTIMAL_MASTER_DATASET/data/timeseries/measurement_and_tests/lab_measurements/AVF2_masterDataOptimal_v3_fullDB20231112045951_Plasma_free_T4_level_77.zip.\n"
     ]
    },
    {
     "name": "stderr",
     "output_type": "stream",
     "text": [
      "Adding Plasma_free_T4_level_77 measurements to table: 0it [00:00, ?it/s]"
     ]
    },
    {
     "name": "stdout",
     "output_type": "stream",
     "text": [
      "Index(['PRACTICE_PATIENT_ID', 'INDEX_DATE', 'EXIT_DATE',\n",
      "       'PLASMA_FREE_T4_LEVEL_77EVENT_DATE', 'PLASMA_FREE_T4_LEVEL_77Value',\n",
      "       'PLASMA_FREE_T4_LEVEL_77NumUnit', 'PLASMA_FREE_T4_LEVEL_77LowRange',\n",
      "       'PLASMA_FREE_T4_LEVEL_77HighRange'],\n",
      "      dtype='object')\n",
      "Using event_date_col PLASMA_FREE_T4_LEVEL_77EVENT_DATE, and event_value_col PLASMA_FREE_T4_LEVEL_77Value\n"
     ]
    },
    {
     "name": "stderr",
     "output_type": "stream",
     "text": [
      "Adding Plasma_free_T4_level_77 measurements to table: 4it [00:04,  1.10s/it]\n"
     ]
    },
    {
     "name": "stdout",
     "output_type": "stream",
     "text": [
      "Building O_E_-_weight_2 to the measurements/tests table from \n",
      "\t /rds/projects/g/gokhalkm-optimal/OPTIMAL_MASTER_DATASET/data/timeseries/measurement_and_tests/lab_measurements/AVF2_masterDataOptimal_v3_fullDB20231112045951_O_E_-_weight_2.zip.\n"
     ]
    },
    {
     "name": "stderr",
     "output_type": "stream",
     "text": [
      "Adding O_E_-_weight_2 measurements to table: 0it [00:00, ?it/s]"
     ]
    },
    {
     "name": "stdout",
     "output_type": "stream",
     "text": [
      "Index(['PRACTICE_PATIENT_ID', 'INDEX_DATE', 'EXIT_DATE',\n",
      "       'O/E_-_WEIGHT_2EVENT_DATE', 'O/E_-_WEIGHT_2Value',\n",
      "       'O/E_-_WEIGHT_2NumUnit', 'O/E_-_WEIGHT_2LowRange',\n",
      "       'O/E_-_WEIGHT_2HighRange'],\n",
      "      dtype='object')\n",
      "Using event_date_col O/E_-_WEIGHT_2EVENT_DATE, and event_value_col O/E_-_WEIGHT_2Value\n"
     ]
    },
    {
     "name": "stderr",
     "output_type": "stream",
     "text": [
      "Adding O_E_-_weight_2 measurements to table: 588it [11:47,  1.20s/it]\n"
     ]
    },
    {
     "name": "stdout",
     "output_type": "stream",
     "text": [
      "Building AST_serum_level_47 to the measurements/tests table from \n",
      "\t /rds/projects/g/gokhalkm-optimal/OPTIMAL_MASTER_DATASET/data/timeseries/measurement_and_tests/lab_measurements/AVF2_masterDataOptimal_v3_fullDB20231112045951_AST_serum_level_47.zip.\n"
     ]
    },
    {
     "name": "stderr",
     "output_type": "stream",
     "text": [
      "Adding AST_serum_level_47 measurements to table: 0it [00:00, ?it/s]"
     ]
    },
    {
     "name": "stdout",
     "output_type": "stream",
     "text": [
      "Index(['PRACTICE_PATIENT_ID', 'INDEX_DATE', 'EXIT_DATE',\n",
      "       'AST_SERUM_LEVEL_47EVENT_DATE', 'AST_SERUM_LEVEL_47Value',\n",
      "       'AST_SERUM_LEVEL_47NumUnit', 'AST_SERUM_LEVEL_47LowRange',\n",
      "       'AST_SERUM_LEVEL_47HighRange'],\n",
      "      dtype='object')\n",
      "Using event_date_col AST_SERUM_LEVEL_47EVENT_DATE, and event_value_col AST_SERUM_LEVEL_47Value\n"
     ]
    },
    {
     "name": "stderr",
     "output_type": "stream",
     "text": [
      "Adding AST_serum_level_47 measurements to table: 55it [01:05,  1.20s/it]\n"
     ]
    },
    {
     "name": "stdout",
     "output_type": "stream",
     "text": [
      "Building Serum_vitamin_D2_level_89 to the measurements/tests table from \n",
      "\t /rds/projects/g/gokhalkm-optimal/OPTIMAL_MASTER_DATASET/data/timeseries/measurement_and_tests/lab_measurements/AVF2_masterDataOptimal_v3_fullDB20231112045951_Serum_vitamin_D2_level_89.zip.\n"
     ]
    },
    {
     "name": "stderr",
     "output_type": "stream",
     "text": [
      "Adding Serum_vitamin_D2_level_89 measurements to table: 0it [00:00, ?it/s]"
     ]
    },
    {
     "name": "stdout",
     "output_type": "stream",
     "text": [
      "Index(['PRACTICE_PATIENT_ID', 'INDEX_DATE', 'EXIT_DATE',\n",
      "       'SERUM_VITAMIN_D2_LEVEL_89EVENT_DATE', 'SERUM_VITAMIN_D2_LEVEL_89Value',\n",
      "       'SERUM_VITAMIN_D2_LEVEL_89NumUnit', 'SERUM_VITAMIN_D2_LEVEL_89LowRange',\n",
      "       'SERUM_VITAMIN_D2_LEVEL_89HighRange'],\n",
      "      dtype='object')\n",
      "Using event_date_col SERUM_VITAMIN_D2_LEVEL_89EVENT_DATE, and event_value_col SERUM_VITAMIN_D2_LEVEL_89Value\n"
     ]
    },
    {
     "name": "stderr",
     "output_type": "stream",
     "text": [
      "Adding Serum_vitamin_D2_level_89 measurements to table: 2it [00:01,  1.29it/s]\n"
     ]
    },
    {
     "name": "stdout",
     "output_type": "stream",
     "text": [
      "Building Serum_HDL_cholesterol_level_100 to the measurements/tests table from \n",
      "\t /rds/projects/g/gokhalkm-optimal/OPTIMAL_MASTER_DATASET/data/timeseries/measurement_and_tests/lab_measurements/AVF2_masterDataOptimal_v3_fullDB20231112045951_Serum_HDL_cholesterol_level_100.zip.\n"
     ]
    },
    {
     "name": "stderr",
     "output_type": "stream",
     "text": [
      "Adding Serum_HDL_cholesterol_level_100 measurements to table: 0it [00:00, ?it/s]"
     ]
    },
    {
     "name": "stdout",
     "output_type": "stream",
     "text": [
      "Index(['PRACTICE_PATIENT_ID', 'INDEX_DATE', 'EXIT_DATE',\n",
      "       'SERUM_HDL_CHOLESTEROL_LEVEL_100EVENT_DATE',\n",
      "       'SERUM_HDL_CHOLESTEROL_LEVEL_100Value',\n",
      "       'SERUM_HDL_CHOLESTEROL_LEVEL_100NumUnit',\n",
      "       'SERUM_HDL_CHOLESTEROL_LEVEL_100LowRange',\n",
      "       'SERUM_HDL_CHOLESTEROL_LEVEL_100HighRange'],\n",
      "      dtype='object')\n",
      "Using event_date_col SERUM_HDL_CHOLESTEROL_LEVEL_100EVENT_DATE, and event_value_col SERUM_HDL_CHOLESTEROL_LEVEL_100Value\n"
     ]
    },
    {
     "name": "stderr",
     "output_type": "stream",
     "text": [
      "Adding Serum_HDL_cholesterol_level_100 measurements to table: 255it [05:14,  1.23s/it]\n"
     ]
    },
    {
     "name": "stdout",
     "output_type": "stream",
     "text": [
      "Building Plasma_alkaline_phosphatase_level_49 to the measurements/tests table from \n",
      "\t /rds/projects/g/gokhalkm-optimal/OPTIMAL_MASTER_DATASET/data/timeseries/measurement_and_tests/lab_measurements/AVF2_masterDataOptimal_v3_fullDB20231112045951_Plasma_alkaline_phosphatase_level_49.zip.\n"
     ]
    },
    {
     "name": "stderr",
     "output_type": "stream",
     "text": [
      "Adding Plasma_alkaline_phosphatase_level_49 measurements to table: 0it [00:00, ?it/s]"
     ]
    },
    {
     "name": "stdout",
     "output_type": "stream",
     "text": [
      "Index(['PRACTICE_PATIENT_ID', 'INDEX_DATE', 'EXIT_DATE',\n",
      "       'PLASMA_ALKALINE_PHOSPHATASE_LEVEL_49EVENT_DATE',\n",
      "       'PLASMA_ALKALINE_PHOSPHATASE_LEVEL_49Value',\n",
      "       'PLASMA_ALKALINE_PHOSPHATASE_LEVEL_49NumUnit',\n",
      "       'PLASMA_ALKALINE_PHOSPHATASE_LEVEL_49LowRange',\n",
      "       'PLASMA_ALKALINE_PHOSPHATASE_LEVEL_49HighRange'],\n",
      "      dtype='object')\n",
      "Using event_date_col PLASMA_ALKALINE_PHOSPHATASE_LEVEL_49EVENT_DATE, and event_value_col PLASMA_ALKALINE_PHOSPHATASE_LEVEL_49Value\n"
     ]
    },
    {
     "name": "stderr",
     "output_type": "stream",
     "text": [
      "Adding Plasma_alkaline_phosphatase_level_49 measurements to table: 17it [00:20,  1.20s/it]\n"
     ]
    },
    {
     "name": "stdout",
     "output_type": "stream",
     "text": [
      "Building Plasma_B_natriuretic_peptide_level_69 to the measurements/tests table from \n",
      "\t /rds/projects/g/gokhalkm-optimal/OPTIMAL_MASTER_DATASET/data/timeseries/measurement_and_tests/lab_measurements/AVF2_masterDataOptimal_v3_fullDB20231112045951_Plasma_B_natriuretic_peptide_level_69.zip.\n"
     ]
    },
    {
     "name": "stderr",
     "output_type": "stream",
     "text": [
      "Adding Plasma_B_natriuretic_peptide_level_69 measurements to table: 0it [00:00, ?it/s]"
     ]
    },
    {
     "name": "stdout",
     "output_type": "stream",
     "text": [
      "Index(['PRACTICE_PATIENT_ID', 'INDEX_DATE', 'EXIT_DATE',\n",
      "       'PLASMA_B_NATRIURETIC_PEPTIDE_LEVEL_69EVENT_DATE',\n",
      "       'PLASMA_B_NATRIURETIC_PEPTIDE_LEVEL_69Value',\n",
      "       'PLASMA_B_NATRIURETIC_PEPTIDE_LEVEL_69NumUnit',\n",
      "       'PLASMA_B_NATRIURETIC_PEPTIDE_LEVEL_69LowRange',\n",
      "       'PLASMA_B_NATRIURETIC_PEPTIDE_LEVEL_69HighRange'],\n",
      "      dtype='object')\n",
      "Using event_date_col PLASMA_B_NATRIURETIC_PEPTIDE_LEVEL_69EVENT_DATE, and event_value_col PLASMA_B_NATRIURETIC_PEPTIDE_LEVEL_69Value\n"
     ]
    },
    {
     "name": "stderr",
     "output_type": "stream",
     "text": [
      "Adding Plasma_B_natriuretic_peptide_level_69 measurements to table: 1it [00:00,  1.71it/s]\n"
     ]
    },
    {
     "name": "stdout",
     "output_type": "stream",
     "text": [
      "Building AST_-_aspartate_transam._SGOT__46 to the measurements/tests table from \n",
      "\t /rds/projects/g/gokhalkm-optimal/OPTIMAL_MASTER_DATASET/data/timeseries/measurement_and_tests/lab_measurements/AVF2_masterDataOptimal_v3_fullDB20231112045951_AST_-_aspartate_transam._SGOT__46.zip.\n"
     ]
    },
    {
     "name": "stderr",
     "output_type": "stream",
     "text": [
      "Adding AST_-_aspartate_transam._SGOT__46 measurements to table: 0it [00:00, ?it/s]"
     ]
    },
    {
     "name": "stdout",
     "output_type": "stream",
     "text": [
      "Index(['PRACTICE_PATIENT_ID', 'INDEX_DATE', 'EXIT_DATE',\n",
      "       'AST_-_ASPARTATE_TRANSAM.(SGOT)_46EVENT_DATE',\n",
      "       'AST_-_ASPARTATE_TRANSAM.(SGOT)_46Value',\n",
      "       'AST_-_ASPARTATE_TRANSAM.(SGOT)_46NumUnit',\n",
      "       'AST_-_ASPARTATE_TRANSAM.(SGOT)_46LowRange',\n",
      "       'AST_-_ASPARTATE_TRANSAM.(SGOT)_46HighRange'],\n",
      "      dtype='object')\n",
      "Using event_date_col AST_-_ASPARTATE_TRANSAM.(SGOT)_46EVENT_DATE, and event_value_col AST_-_ASPARTATE_TRANSAM.(SGOT)_46Value\n"
     ]
    },
    {
     "name": "stderr",
     "output_type": "stream",
     "text": [
      "Adding AST_-_aspartate_transam._SGOT__46 measurements to table: 9it [00:10,  1.22s/it]\n"
     ]
    },
    {
     "name": "stdout",
     "output_type": "stream",
     "text": [
      "Building Total_white_cell_count_18 to the measurements/tests table from \n",
      "\t /rds/projects/g/gokhalkm-optimal/OPTIMAL_MASTER_DATASET/data/timeseries/measurement_and_tests/lab_measurements/AVF2_masterDataOptimal_v3_fullDB20231112045951_Total_white_cell_count_18.zip.\n"
     ]
    },
    {
     "name": "stderr",
     "output_type": "stream",
     "text": [
      "Adding Total_white_cell_count_18 measurements to table: 0it [00:00, ?it/s]"
     ]
    },
    {
     "name": "stdout",
     "output_type": "stream",
     "text": [
      "Index(['PRACTICE_PATIENT_ID', 'INDEX_DATE', 'EXIT_DATE',\n",
      "       'TOTAL_WHITE_CELL_COUNT_18EVENT_DATE', 'TOTAL_WHITE_CELL_COUNT_18Value',\n",
      "       'TOTAL_WHITE_CELL_COUNT_18NumUnit', 'TOTAL_WHITE_CELL_COUNT_18LowRange',\n",
      "       'TOTAL_WHITE_CELL_COUNT_18HighRange'],\n",
      "      dtype='object')\n",
      "Using event_date_col TOTAL_WHITE_CELL_COUNT_18EVENT_DATE, and event_value_col TOTAL_WHITE_CELL_COUNT_18Value\n"
     ]
    },
    {
     "name": "stderr",
     "output_type": "stream",
     "text": [
      "Adding Total_white_cell_count_18 measurements to table: 475it [09:45,  1.23s/it]\n"
     ]
    },
    {
     "name": "stdout",
     "output_type": "stream",
     "text": [
      "\t Measurement and test table built with 3805578912 records.\n"
     ]
    }
   ],
   "source": [
    "conn = sqlite3.connect(PATH_TO_DB)\n",
    "# conn = sqlite3.connect(':memory:')              # For debugging\n",
    "\n",
    "if False:\n",
    "    # Static covariates \n",
    "    PATH_TO_STATIC = \"/rds/projects/g/gokhalkm-optimal/OPTIMAL_MASTER_DATASET/archive/Version2_DL/baseline/masterDataOptimal_v220230323015634.csv\"\n",
    "    # Diagnoses\n",
    "    PATH_TO_DIAGNOSIS = PATH_TO_STATIC\n",
    "    # Measurements\n",
    "    PATH_TO_MEASUREMENTS = \"/rds/projects/g/gokhalkm-optimal/OPTIMAL_MASTER_DATASET/archive/Version2_DL/timeseries/measurement_and_tests/\"\n",
    "else:\n",
    "    # Static covariates \n",
    "    PATH_TO_STATIC = \"/rds/projects/g/gokhalkm-optimal/OPTIMAL_MASTER_DATASET/data/baseline/masterDataOptimalWithIMD_v3.csv\"\n",
    "    # Diagnoses\n",
    "    PATH_TO_DIAGNOSIS = PATH_TO_STATIC\n",
    "    PATH_TO_MEASUREMENTS = \"/rds/projects/g/gokhalkm-optimal/OPTIMAL_MASTER_DATASET/data/timeseries/measurement_and_tests/lab_measurements/\"\n",
    "\n",
    "build_tables(conn, \n",
    "             path_to_static=PATH_TO_STATIC, \n",
    "             path_to_diagnoses=PATH_TO_DIAGNOSIS,\n",
    "             path_to_measurements=PATH_TO_MEASUREMENTS,\n",
    "             unzip_measuremements=True,\n",
    "             verbose=1) \n",
    "\n",
    "#close the connection\n",
    "conn.close()"
   ]
  },
  {
   "cell_type": "markdown",
   "id": "3981654d-42ac-4566-9cbc-04f1577fe269",
   "metadata": {},
   "source": [
    "## Test everything works by collecting the data"
   ]
  },
  {
   "cell_type": "code",
   "execution_count": 11,
   "id": "7aee35c9-6c90-46a0-9bf5-a3dc43dcf65c",
   "metadata": {},
   "outputs": [
    {
     "name": "stderr",
     "output_type": "stream",
     "text": [
      "INFO:root:Connected to SQLite database\n",
      "INFO:root:Disconnected from SQLite database\n"
     ]
    },
    {
     "name": "stdout",
     "output_type": "stream",
     "text": [
      "['p20358', 'p20534', 'p20229', 'p21185', 'p21259', 'p20145', 'p20753', 'p20328', 'p21612', 'p21266']\n",
      "1491\n"
     ]
    }
   ],
   "source": [
    "from CPRD.data.dataset.collector import SQLiteDataCollector\n",
    "import polars as pl\n",
    "import logging \n",
    "logging.basicConfig(level=logging.INFO)\n",
    "\n",
    "collector = SQLiteDataCollector(PATH_TO_DB)\n",
    "collector.connect()\n",
    "\n",
    "# Get the practice IDs \n",
    "tables = [\"diagnosis_table\"]\n",
    "\n",
    "conditions = None # [\"HEALTH_AUTH = 'North West'\"]\n",
    "practice_ids = collector.extract_practice_ids(tables, \"PRACTICE_PATIENT_ID\", conditions=conditions)\n",
    "print(practice_ids[:10])\n",
    "print(len(practice_ids))\n",
    "\n",
    "collector.disconnect()"
   ]
  },
  {
   "cell_type": "markdown",
   "id": "7f6ab2dd-b312-4ebf-ba5b-6aaccf290911",
   "metadata": {},
   "source": [
    "### Create a generator which chunks the .db tables by practice_id and lazily pre-processes"
   ]
  },
  {
   "cell_type": "code",
   "execution_count": 12,
   "id": "4a4e3060-6b89-4170-b5be-ac324b82d0be",
   "metadata": {},
   "outputs": [
    {
     "name": "stdout",
     "output_type": "stream",
     "text": [
      "p20358\n",
      "<class 'dict'>\n"
     ]
    }
   ],
   "source": [
    "generator = collector._lazy_generate_by_practice_id(practice_ids, [\"static_table\", \"measurement_table\", \"diagnosis_table\"], \"PRACTICE_PATIENT_ID\")\n",
    "for chunk_name, lazy_table_frames_dict in generator:\n",
    "    break\n",
    "\n",
    "print(chunk_name)\n",
    "print(type(lazy_table_frames_dict))\n"
   ]
  },
  {
   "cell_type": "markdown",
   "id": "c1c10947-2d93-4cff-8483-772231d66a67",
   "metadata": {},
   "source": [
    "### Test collation of generated lazy frames"
   ]
  },
  {
   "cell_type": "code",
   "execution_count": 13,
   "id": "d655d2d4-eac7-46fa-93a8-14445ca69bbb",
   "metadata": {},
   "outputs": [],
   "source": [
    "lazy_batch = collector._collate_lazy_tables(**lazy_table_frames_dict)"
   ]
  },
  {
   "cell_type": "markdown",
   "id": "b0982f94-fdcc-4cf9-bb46-854aea12bf68",
   "metadata": {},
   "source": [
    "### Check tables were aligned properly when collated"
   ]
  },
  {
   "cell_type": "code",
   "execution_count": 19,
   "id": "fff015bd-5247-443f-af90-2871635a0283",
   "metadata": {},
   "outputs": [
    {
     "data": {
      "text/plain": [
       "'p20358_1113382320358'"
      ]
     },
     "metadata": {},
     "output_type": "display_data"
    },
    {
     "data": {
      "text/html": [
       "<div><style>\n",
       ".dataframe > thead > tr > th,\n",
       ".dataframe > tbody > tr > td {\n",
       "  text-align: right;\n",
       "}\n",
       "</style>\n",
       "<small>shape: (1, 14)</small><table border=\"1\" class=\"dataframe\"><thead><tr><th>PRACTICE_PATIENT_ID</th><th>VALUE</th><th>EVENT</th><th>DAYS_SINCE_BIRTH</th><th>ETHNICITY</th><th>YEAR_OF_BIRTH</th><th>SEX</th><th>COUNTRY</th><th>HEALTH_AUTH</th><th>INDEX_DATE</th><th>START_DATE</th><th>END_DATE</th><th>PRACTICE_ID</th><th>PATIENT_ID</th></tr><tr><td>str</td><td>list[f64]</td><td>list[str]</td><td>list[i64]</td><td>str</td><td>datetime[μs]</td><td>str</td><td>str</td><td>str</td><td>datetime[μs]</td><td>datetime[μs]</td><td>datetime[μs]</td><td>str</td><td>str</td></tr></thead><tbody><tr><td>&quot;p20358_1113382…</td><td>[null, null, … 5.2]</td><td>[&quot;DEPRESSION&quot;, &quot;ANXIETY&quot;, … &quot;Total_white_cell_count_18&quot;]</td><td>[12215, 12215, … 17866]</td><td>&quot;MISSING&quot;</td><td>1968-07-15 00:00:00</td><td>&quot;M&quot;</td><td>&quot;E&quot;</td><td>&quot;North West&quot;</td><td>2005-01-01 00:00:00</td><td>2005-01-01 00:00:00</td><td>2020-09-17 00:00:00</td><td>&quot;p20358&quot;</td><td>&quot;1113382320358&quot;</td></tr></tbody></table></div>"
      ],
      "text/plain": [
       "shape: (1, 14)\n",
       "┌────────────┬───────────┬───────────┬────────────┬───┬──────────┬──────────┬───────────┬──────────┐\n",
       "│ PRACTICE_P ┆ VALUE     ┆ EVENT     ┆ DAYS_SINCE ┆ … ┆ START_DA ┆ END_DATE ┆ PRACTICE_ ┆ PATIENT_ │\n",
       "│ ATIENT_ID  ┆ ---       ┆ ---       ┆ _BIRTH     ┆   ┆ TE       ┆ ---      ┆ ID        ┆ ID       │\n",
       "│ ---        ┆ list[f64] ┆ list[str] ┆ ---        ┆   ┆ ---      ┆ datetime ┆ ---       ┆ ---      │\n",
       "│ str        ┆           ┆           ┆ list[i64]  ┆   ┆ datetime ┆ [μs]     ┆ str       ┆ str      │\n",
       "│            ┆           ┆           ┆            ┆   ┆ [μs]     ┆          ┆           ┆          │\n",
       "╞════════════╪═══════════╪═══════════╪════════════╪═══╪══════════╪══════════╪═══════════╪══════════╡\n",
       "│ p20358_111 ┆ [null,    ┆ [\"DEPRESS ┆ [12215,    ┆ … ┆ 2005-01- ┆ 2020-09- ┆ p20358    ┆ 11133823 │\n",
       "│ 3382320358 ┆ null, …   ┆ ION\", \"AN ┆ 12215, …   ┆   ┆ 01       ┆ 17       ┆           ┆ 20358    │\n",
       "│            ┆ 5.2]      ┆ XIETY\", … ┆ 17866]     ┆   ┆ 00:00:00 ┆ 00:00:00 ┆           ┆          │\n",
       "│            ┆           ┆ \"Tot…     ┆            ┆   ┆          ┆          ┆           ┆          │\n",
       "└────────────┴───────────┴───────────┴────────────┴───┴──────────┴──────────┴───────────┴──────────┘"
      ]
     },
     "metadata": {},
     "output_type": "display_data"
    },
    {
     "data": {
      "text/html": [
       "<div><style>\n",
       ".dataframe > thead > tr > th,\n",
       ".dataframe > tbody > tr > td {\n",
       "  text-align: right;\n",
       "}\n",
       "</style>\n",
       "<small>shape: (1, 9)</small><table border=\"1\" class=\"dataframe\"><thead><tr><th>PRACTICE_PATIENT_ID</th><th>ETHNICITY</th><th>YEAR_OF_BIRTH</th><th>SEX</th><th>COUNTRY</th><th>HEALTH_AUTH</th><th>INDEX_DATE</th><th>START_DATE</th><th>END_DATE</th></tr><tr><td>str</td><td>str</td><td>str</td><td>str</td><td>str</td><td>str</td><td>str</td><td>str</td><td>str</td></tr></thead><tbody><tr><td>&quot;p20358_1113382…</td><td>&quot;MISSING&quot;</td><td>&quot;1968-07-15&quot;</td><td>&quot;M&quot;</td><td>&quot;E&quot;</td><td>&quot;North West&quot;</td><td>&quot;2005-01-01&quot;</td><td>&quot;2005-01-01&quot;</td><td>&quot;2020-09-17&quot;</td></tr></tbody></table></div>"
      ],
      "text/plain": [
       "shape: (1, 9)\n",
       "┌────────────┬───────────┬────────────┬─────┬───┬───────────┬────────────┬────────────┬────────────┐\n",
       "│ PRACTICE_P ┆ ETHNICITY ┆ YEAR_OF_BI ┆ SEX ┆ … ┆ HEALTH_AU ┆ INDEX_DATE ┆ START_DATE ┆ END_DATE   │\n",
       "│ ATIENT_ID  ┆ ---       ┆ RTH        ┆ --- ┆   ┆ TH        ┆ ---        ┆ ---        ┆ ---        │\n",
       "│ ---        ┆ str       ┆ ---        ┆ str ┆   ┆ ---       ┆ str        ┆ str        ┆ str        │\n",
       "│ str        ┆           ┆ str        ┆     ┆   ┆ str       ┆            ┆            ┆            │\n",
       "╞════════════╪═══════════╪════════════╪═════╪═══╪═══════════╪════════════╪════════════╪════════════╡\n",
       "│ p20358_111 ┆ MISSING   ┆ 1968-07-15 ┆ M   ┆ … ┆ North     ┆ 2005-01-01 ┆ 2005-01-01 ┆ 2020-09-17 │\n",
       "│ 3382320358 ┆           ┆            ┆     ┆   ┆ West      ┆            ┆            ┆            │\n",
       "└────────────┴───────────┴────────────┴─────┴───┴───────────┴────────────┴────────────┴────────────┘"
      ]
     },
     "metadata": {},
     "output_type": "display_data"
    },
    {
     "data": {
      "text/html": [
       "<div><style>\n",
       ".dataframe > thead > tr > th,\n",
       ".dataframe > tbody > tr > td {\n",
       "  text-align: right;\n",
       "}\n",
       "</style>\n",
       "<small>shape: (2, 3)</small><table border=\"1\" class=\"dataframe\"><thead><tr><th>PRACTICE_PATIENT_ID</th><th>EVENT</th><th>DATE</th></tr><tr><td>str</td><td>str</td><td>str</td></tr></thead><tbody><tr><td>&quot;p20358_1113382…</td><td>&quot;DEPRESSION&quot;</td><td>&quot;2001-12-24&quot;</td></tr><tr><td>&quot;p20358_1113382…</td><td>&quot;ANXIETY&quot;</td><td>&quot;2001-12-24&quot;</td></tr></tbody></table></div>"
      ],
      "text/plain": [
       "shape: (2, 3)\n",
       "┌──────────────────────┬────────────┬────────────┐\n",
       "│ PRACTICE_PATIENT_ID  ┆ EVENT      ┆ DATE       │\n",
       "│ ---                  ┆ ---        ┆ ---        │\n",
       "│ str                  ┆ str        ┆ str        │\n",
       "╞══════════════════════╪════════════╪════════════╡\n",
       "│ p20358_1113382320358 ┆ DEPRESSION ┆ 2001-12-24 │\n",
       "│ p20358_1113382320358 ┆ ANXIETY    ┆ 2001-12-24 │\n",
       "└──────────────────────┴────────────┴────────────┘"
      ]
     },
     "metadata": {},
     "output_type": "display_data"
    },
    {
     "data": {
      "text/html": [
       "<div><style>\n",
       ".dataframe > thead > tr > th,\n",
       ".dataframe > tbody > tr > td {\n",
       "  text-align: right;\n",
       "}\n",
       "</style>\n",
       "<small>shape: (120, 4)</small><table border=\"1\" class=\"dataframe\"><thead><tr><th>PRACTICE_PATIENT_ID</th><th>VALUE</th><th>EVENT</th><th>DATE</th></tr><tr><td>str</td><td>f64</td><td>str</td><td>str</td></tr></thead><tbody><tr><td>&quot;p20358_1113382…</td><td>72.0</td><td>&quot;Diastolic_bloo…</td><td>&quot;2010-07-23&quot;</td></tr><tr><td>&quot;p20358_1113382…</td><td>92.0</td><td>&quot;Diastolic_bloo…</td><td>&quot;2015-01-16&quot;</td></tr><tr><td>&quot;p20358_1113382…</td><td>74.0</td><td>&quot;Diastolic_bloo…</td><td>&quot;2015-02-13&quot;</td></tr><tr><td>&quot;p20358_1113382…</td><td>90.0</td><td>&quot;Diastolic_bloo…</td><td>&quot;2017-06-14&quot;</td></tr><tr><td>&quot;p20358_1113382…</td><td>null</td><td>&quot;GFR_calculated…</td><td>&quot;2011-08-04&quot;</td></tr><tr><td>&quot;p20358_1113382…</td><td>83.0</td><td>&quot;GFR_calculated…</td><td>&quot;2014-07-18&quot;</td></tr><tr><td>&quot;p20358_1113382…</td><td>74.0</td><td>&quot;GFR_calculated…</td><td>&quot;2015-02-19&quot;</td></tr><tr><td>&quot;p20358_1113382…</td><td>78.0</td><td>&quot;GFR_calculated…</td><td>&quot;2017-06-14&quot;</td></tr><tr><td>&quot;p20358_1113382…</td><td>5.0</td><td>&quot;Serum_choleste…</td><td>&quot;2011-08-04&quot;</td></tr><tr><td>&quot;p20358_1113382…</td><td>2.3</td><td>&quot;Serum_calcium_…</td><td>&quot;2017-06-14&quot;</td></tr><tr><td>&quot;p20358_1113382…</td><td>28.3</td><td>&quot;Mean_corpusc._…</td><td>&quot;2011-08-04&quot;</td></tr><tr><td>&quot;p20358_1113382…</td><td>28.7</td><td>&quot;Mean_corpusc._…</td><td>&quot;2015-02-19&quot;</td></tr><tr><td>&hellip;</td><td>&hellip;</td><td>&hellip;</td><td>&hellip;</td></tr><tr><td>&quot;p20358_1113382…</td><td>3.97732011e8</td><td>&quot;SmokingStatus_…</td><td>&quot;2013-11-27&quot;</td></tr><tr><td>&quot;p20358_1113382…</td><td>2.18</td><td>&quot;Calcium_adjust…</td><td>&quot;2017-06-14&quot;</td></tr><tr><td>&quot;p20358_1113382…</td><td>93.0</td><td>&quot;Serum_creatini…</td><td>&quot;2011-08-04&quot;</td></tr><tr><td>&quot;p20358_1113382…</td><td>86.0</td><td>&quot;Serum_creatini…</td><td>&quot;2014-07-18&quot;</td></tr><tr><td>&quot;p20358_1113382…</td><td>95.0</td><td>&quot;Serum_creatini…</td><td>&quot;2015-02-19&quot;</td></tr><tr><td>&quot;p20358_1113382…</td><td>90.0</td><td>&quot;Serum_creatini…</td><td>&quot;2017-06-14&quot;</td></tr><tr><td>&quot;p20358_1113382…</td><td>291.0</td><td>&quot;Serum_ferritin…</td><td>&quot;2017-06-14&quot;</td></tr><tr><td>&quot;p20358_1113382…</td><td>1.2</td><td>&quot;Serum_HDL_chol…</td><td>&quot;2011-08-04&quot;</td></tr><tr><td>&quot;p20358_1113382…</td><td>4.3</td><td>&quot;Total_white_ce…</td><td>&quot;2011-08-04&quot;</td></tr><tr><td>&quot;p20358_1113382…</td><td>4.8</td><td>&quot;Total_white_ce…</td><td>&quot;2014-07-18&quot;</td></tr><tr><td>&quot;p20358_1113382…</td><td>6.1</td><td>&quot;Total_white_ce…</td><td>&quot;2015-02-19&quot;</td></tr><tr><td>&quot;p20358_1113382…</td><td>5.2</td><td>&quot;Total_white_ce…</td><td>&quot;2017-06-14&quot;</td></tr></tbody></table></div>"
      ],
      "text/plain": [
       "shape: (120, 4)\n",
       "┌──────────────────────┬───────┬────────────────────────────┬────────────┐\n",
       "│ PRACTICE_PATIENT_ID  ┆ VALUE ┆ EVENT                      ┆ DATE       │\n",
       "│ ---                  ┆ ---   ┆ ---                        ┆ ---        │\n",
       "│ str                  ┆ f64   ┆ str                        ┆ str        │\n",
       "╞══════════════════════╪═══════╪════════════════════════════╪════════════╡\n",
       "│ p20358_1113382320358 ┆ 72.0  ┆ Diastolic_blood_pressure_5 ┆ 2010-07-23 │\n",
       "│ p20358_1113382320358 ┆ 92.0  ┆ Diastolic_blood_pressure_5 ┆ 2015-01-16 │\n",
       "│ p20358_1113382320358 ┆ 74.0  ┆ Diastolic_blood_pressure_5 ┆ 2015-02-13 │\n",
       "│ p20358_1113382320358 ┆ 90.0  ┆ Diastolic_blood_pressure_5 ┆ 2017-06-14 │\n",
       "│ …                    ┆ …     ┆ …                          ┆ …          │\n",
       "│ p20358_1113382320358 ┆ 4.3   ┆ Total_white_cell_count_18  ┆ 2011-08-04 │\n",
       "│ p20358_1113382320358 ┆ 4.8   ┆ Total_white_cell_count_18  ┆ 2014-07-18 │\n",
       "│ p20358_1113382320358 ┆ 6.1   ┆ Total_white_cell_count_18  ┆ 2015-02-19 │\n",
       "│ p20358_1113382320358 ┆ 5.2   ┆ Total_white_cell_count_18  ┆ 2017-06-14 │\n",
       "└──────────────────────┴───────┴────────────────────────────┴────────────┘"
      ]
     },
     "metadata": {},
     "output_type": "display_data"
    },
    {
     "data": {
      "text/html": [
       "<div><style>\n",
       ".dataframe > thead > tr > th,\n",
       ".dataframe > tbody > tr > td {\n",
       "  text-align: right;\n",
       "}\n",
       "</style>\n",
       "<small>shape: (44_878, 4)</small><table border=\"1\" class=\"dataframe\"><thead><tr><th>PRACTICE_PATIENT_ID</th><th>VALUE</th><th>EVENT</th><th>DATE</th></tr><tr><td>str</td><td>f64</td><td>str</td><td>str</td></tr></thead><tbody><tr><td>&quot;p20358_1112372…</td><td>3.97732011e8</td><td>&quot;SmokingStatus_…</td><td>&quot;2004-02-25&quot;</td></tr><tr><td>&quot;p20358_1112373…</td><td>3.97732011e8</td><td>&quot;SmokingStatus_…</td><td>&quot;2014-05-23&quot;</td></tr><tr><td>&quot;p20358_1112373…</td><td>3.97732011e8</td><td>&quot;SmokingStatus_…</td><td>&quot;2015-01-30&quot;</td></tr><tr><td>&quot;p20358_1112373…</td><td>3.97732011e8</td><td>&quot;SmokingStatus_…</td><td>&quot;2015-10-06&quot;</td></tr><tr><td>&quot;p20358_1112373…</td><td>3.97732011e8</td><td>&quot;SmokingStatus_…</td><td>&quot;2015-11-10&quot;</td></tr><tr><td>&quot;p20358_1112373…</td><td>3.97732011e8</td><td>&quot;SmokingStatus_…</td><td>&quot;2016-09-15&quot;</td></tr><tr><td>&quot;p20358_1112373…</td><td>3.97732011e8</td><td>&quot;SmokingStatus_…</td><td>&quot;2016-11-22&quot;</td></tr><tr><td>&quot;p20358_1112373…</td><td>3.97732011e8</td><td>&quot;SmokingStatus_…</td><td>&quot;2017-07-17&quot;</td></tr><tr><td>&quot;p20358_1112373…</td><td>3.97732011e8</td><td>&quot;SmokingStatus_…</td><td>&quot;2018-02-06&quot;</td></tr><tr><td>&quot;p20358_1112373…</td><td>3.97732011e8</td><td>&quot;SmokingStatus_…</td><td>&quot;2018-03-20&quot;</td></tr><tr><td>&quot;p20358_1112373…</td><td>3.97732011e8</td><td>&quot;SmokingStatus_…</td><td>&quot;2018-07-25&quot;</td></tr><tr><td>&quot;p20358_1112373…</td><td>3.97732011e8</td><td>&quot;SmokingStatus_…</td><td>&quot;2019-01-28&quot;</td></tr><tr><td>&hellip;</td><td>&hellip;</td><td>&hellip;</td><td>&hellip;</td></tr><tr><td>&quot;p20358_5377454…</td><td>3.97732011e8</td><td>&quot;SmokingStatus_…</td><td>&quot;2008-09-24&quot;</td></tr><tr><td>&quot;p20358_5377454…</td><td>3.97732011e8</td><td>&quot;SmokingStatus_…</td><td>&quot;2010-04-23&quot;</td></tr><tr><td>&quot;p20358_5377454…</td><td>3.97732011e8</td><td>&quot;SmokingStatus_…</td><td>&quot;2012-05-15&quot;</td></tr><tr><td>&quot;p20358_5377454…</td><td>3.97732011e8</td><td>&quot;SmokingStatus_…</td><td>&quot;2017-10-25&quot;</td></tr><tr><td>&quot;p20358_5377454…</td><td>3.97732011e8</td><td>&quot;SmokingStatus_…</td><td>&quot;2017-11-06&quot;</td></tr><tr><td>&quot;p20358_5377454…</td><td>3.97732011e8</td><td>&quot;SmokingStatus_…</td><td>&quot;2019-09-12&quot;</td></tr><tr><td>&quot;p20358_5377454…</td><td>3.97732011e8</td><td>&quot;SmokingStatus_…</td><td>&quot;2019-09-13&quot;</td></tr><tr><td>&quot;p20358_5400533…</td><td>3.97732011e8</td><td>&quot;SmokingStatus_…</td><td>&quot;2007-06-22&quot;</td></tr><tr><td>&quot;p20358_5400533…</td><td>3.97732011e8</td><td>&quot;SmokingStatus_…</td><td>&quot;2014-08-12&quot;</td></tr><tr><td>&quot;p20358_5400533…</td><td>3.97732011e8</td><td>&quot;SmokingStatus_…</td><td>&quot;2018-11-13&quot;</td></tr><tr><td>&quot;p20358_5400533…</td><td>3.97732011e8</td><td>&quot;SmokingStatus_…</td><td>&quot;2019-09-16&quot;</td></tr><tr><td>&quot;p20358_5400533…</td><td>3.97732011e8</td><td>&quot;SmokingStatus_…</td><td>&quot;2019-11-04&quot;</td></tr></tbody></table></div>"
      ],
      "text/plain": [
       "shape: (44_878, 4)\n",
       "┌──────────────────────┬──────────────┬───────────────────────────┬────────────┐\n",
       "│ PRACTICE_PATIENT_ID  ┆ VALUE        ┆ EVENT                     ┆ DATE       │\n",
       "│ ---                  ┆ ---          ┆ ---                       ┆ ---        │\n",
       "│ str                  ┆ f64          ┆ str                       ┆ str        │\n",
       "╞══════════════════════╪══════════════╪═══════════════════════════╪════════════╡\n",
       "│ p20358_1112372920358 ┆ 3.97732011e8 ┆ SmokingStatus_NeverSmoked ┆ 2004-02-25 │\n",
       "│ p20358_1112373620358 ┆ 3.97732011e8 ┆ SmokingStatus_NeverSmoked ┆ 2014-05-23 │\n",
       "│ p20358_1112373620358 ┆ 3.97732011e8 ┆ SmokingStatus_NeverSmoked ┆ 2015-01-30 │\n",
       "│ p20358_1112373620358 ┆ 3.97732011e8 ┆ SmokingStatus_NeverSmoked ┆ 2015-10-06 │\n",
       "│ …                    ┆ …            ┆ …                         ┆ …          │\n",
       "│ p20358_5400533520358 ┆ 3.97732011e8 ┆ SmokingStatus_NeverSmoked ┆ 2014-08-12 │\n",
       "│ p20358_5400533520358 ┆ 3.97732011e8 ┆ SmokingStatus_NeverSmoked ┆ 2018-11-13 │\n",
       "│ p20358_5400533520358 ┆ 3.97732011e8 ┆ SmokingStatus_NeverSmoked ┆ 2019-09-16 │\n",
       "│ p20358_5400533520358 ┆ 3.97732011e8 ┆ SmokingStatus_NeverSmoked ┆ 2019-11-04 │\n",
       "└──────────────────────┴──────────────┴───────────────────────────┴────────────┘"
      ]
     },
     "metadata": {},
     "output_type": "display_data"
    }
   ],
   "source": [
    "batch = lazy_batch.collect()\n",
    "\n",
    "first_identifier = list(batch[\"PRACTICE_PATIENT_ID\"].unique())[0]\n",
    "display(first_identifier)\n",
    "                        \n",
    "static = lazy_table_frames_dict[\"lazy_static\"].collect()\n",
    "diagno = lazy_table_frames_dict[\"lazy_diagnosis\"].collect()\n",
    "measur = lazy_table_frames_dict[\"lazy_measurement\"].collect()\n",
    "\n",
    "# display(batch)\n",
    "for i_pf, pf in enumerate([batch, static, diagno, measur]):\n",
    "    row = pf.filter(pl.col(\"PRACTICE_PATIENT_ID\") == first_identifier)\n",
    "    display(row)\n",
    "\n",
    "\n",
    "for i_pf, pf in enumerate([measur]):\n",
    "    row = pf.filter(pl.col(\"EVENT\") == \"SmokingStatus_NeverSmoked\")\n",
    "    display(row)"
   ]
  },
  {
   "cell_type": "code",
   "execution_count": 15,
   "id": "aece1ff0-eb68-410a-86f6-d1a40cbf5dec",
   "metadata": {},
   "outputs": [
    {
     "name": "stderr",
     "output_type": "stream",
     "text": [
      "INFO:root:Disconnected from SQLite database\n"
     ]
    }
   ],
   "source": [
    "try:\n",
    "    collector.disconnect()\n",
    "except:\n",
    "    pass"
   ]
  },
  {
   "cell_type": "code",
   "execution_count": 16,
   "id": "7b93b43e-a670-4113-826c-350d500561fc",
   "metadata": {},
   "outputs": [
    {
     "name": "stdout",
     "output_type": "stream",
     "text": [
      "[NbConvertApp] Converting notebook build_all.ipynb to html\n",
      "[NbConvertApp] Writing 751761 bytes to build_all.html\n"
     ]
    }
   ],
   "source": [
    "!jupyter nbconvert --to html --no-input build_all.ipynb"
   ]
  },
  {
   "cell_type": "code",
   "execution_count": null,
   "id": "6e9f9ec8-e833-4590-81c1-e185c18ba3b4",
   "metadata": {},
   "outputs": [],
   "source": []
  }
 ],
 "metadata": {
  "kernelspec": {
   "display_name": "Python",
   "language": "python",
   "name": "sys_python"
  },
  "language_info": {
   "codemirror_mode": {
    "name": "ipython",
    "version": 3
   },
   "file_extension": ".py",
   "mimetype": "text/x-python",
   "name": "python",
   "nbconvert_exporter": "python",
   "pygments_lexer": "ipython3",
   "version": "3.10.4"
  }
 },
 "nbformat": 4,
 "nbformat_minor": 5
}
