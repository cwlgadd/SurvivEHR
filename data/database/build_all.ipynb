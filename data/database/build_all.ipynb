{
 "cells": [
  {
   "cell_type": "code",
   "execution_count": 1,
   "id": "035f8e72-250d-4ffc-bfea-2403554b68b5",
   "metadata": {},
   "outputs": [
    {
     "name": "stdout",
     "output_type": "stream",
     "text": [
      "Added path '/rds/homes/g/gaddcz/Projects/CPRD/virtual-env-icelake/lib/python3.10/site-packages' at start of search paths.\n",
      "/rds/homes/g/gaddcz/Projects/CPRD/data/database\n"
     ]
    }
   ],
   "source": [
    "import os\n",
    "from pathlib import Path\n",
    "import sys\n",
    "node_type = os.getenv('BB_CPU')\n",
    "venv_dir = f'/rds/homes/g/gaddcz/Projects/CPRD/virtual-env-{node_type}'\n",
    "venv_site_pkgs = Path(venv_dir) / 'lib' / f'python{sys.version_info.major}.{sys.version_info.minor}' / 'site-packages'\n",
    "if venv_site_pkgs.exists():\n",
    "    sys.path.insert(0, str(venv_site_pkgs))\n",
    "    print(f\"Added path '{venv_site_pkgs}' at start of search paths.\")\n",
    "else:\n",
    "    print(f\"Path '{venv_site_pkgs}' not found. Check that it exists and/or that it exists for node-type '{node_type}'.\")\n",
    "\n",
    "!pwd\n",
    "%load_ext autoreload\n",
    "%autoreload 2"
   ]
  },
  {
   "cell_type": "code",
   "execution_count": 5,
   "id": "b4c9bdce-d6af-44ea-a33b-5b448b0e0254",
   "metadata": {},
   "outputs": [
    {
     "name": "stdout",
     "output_type": "stream",
     "text": [
      "Using device: cuda.\n"
     ]
    }
   ],
   "source": [
    "import pytorch_lightning\n",
    "import torch\n",
    "import numpy as np\n",
    "import matplotlib.pyplot as plt\n",
    "import random\n",
    "import sqlite3\n",
    "import logging\n",
    "from CPRD.data.database.build_static_db import build_static_table\n",
    "from CPRD.data.database.build_diagnosis_db import build_diagnosis_table\n",
    "from CPRD.data.database.build_measurements_and_tests_db import build_measurements_table\n",
    "\n",
    "torch.manual_seed(1337)\n",
    "logging.basicConfig(level=logging.INFO)\n",
    "device = 'cuda' if torch.cuda.is_available() else 'cpu'\n",
    "\n",
    "print(f\"Using device: {device}.\")"
   ]
  },
  {
   "cell_type": "code",
   "execution_count": 6,
   "id": "7c7cf52e-cc4c-4d7a-aaec-849a259c85e9",
   "metadata": {},
   "outputs": [],
   "source": [
    "def build_tables(connector, \n",
    "                 path_to_static=None,\n",
    "                 path_to_diagnoses=None,\n",
    "                 path_to_measurements=None, \n",
    "                 unzip_measuremements=False,\n",
    "                 verbose=0):\n",
    "\n",
    "    if path_to_static is not None:\n",
    "        build_static_table(connector, path_to_static, verbose=verbose)\n",
    "        \n",
    "    if path_to_diagnoses is not None:\n",
    "        build_diagnosis_table(connector, path_to_diagnoses, verbose=verbose)\n",
    "        \n",
    "    if path_to_measurements is not None:\n",
    "        build_measurements_table(connector, path_to_measurements, unzip=unzip_measuremements, verbose=verbose)\n",
    "\n"
   ]
  },
  {
   "cell_type": "code",
   "execution_count": null,
   "id": "d66f1b2f-43f5-41bf-9936-9e300eb0bdb2",
   "metadata": {
    "scrolled": true
   },
   "outputs": [
    {
     "name": "stderr",
     "output_type": "stream",
     "text": [
      "Building static table: 141it [13:06,  5.58s/it]\n"
     ]
    },
    {
     "name": "stdout",
     "output_type": "stream",
     "text": [
      "\t Static table built with 28121517 records.\n"
     ]
    },
    {
     "name": "stderr",
     "output_type": "stream",
     "text": [
      "Building diagnosis table: 141it [56:59, 24.25s/it]\n"
     ]
    },
    {
     "name": "stdout",
     "output_type": "stream",
     "text": [
      "\t Diagnosis table built with 51003640 records.\n",
      "Building Serum_bilirubin_level_53 to the measurements/tests table from \n",
      "\t /rds/projects/g/gokhalkm-optimal/OPTIMAL_MASTER_DATASET/data/timeseries/measurement_and_tests/lab_measurements/AVF2_masterDataOptimal_v3_fullDB20231112045951_Serum_bilirubin_level_53.zip.\n"
     ]
    },
    {
     "name": "stderr",
     "output_type": "stream",
     "text": [
      "Adding Serum_bilirubin_level_53 measurements to table: 0it [00:00, ?it/s]"
     ]
    },
    {
     "name": "stdout",
     "output_type": "stream",
     "text": [
      "Index(['PRACTICE_PATIENT_ID', 'INDEX_DATE', 'EXIT_DATE',\n",
      "       'SERUM_BILIRUBIN_LEVEL_53EVENT_DATE', 'SERUM_BILIRUBIN_LEVEL_53Value',\n",
      "       'SERUM_BILIRUBIN_LEVEL_53NumUnit', 'SERUM_BILIRUBIN_LEVEL_53LowRange',\n",
      "       'SERUM_BILIRUBIN_LEVEL_53HighRange'],\n",
      "      dtype='object')\n",
      "Using event_date_col SERUM_BILIRUBIN_LEVEL_53EVENT_DATE, and event_value_col SERUM_BILIRUBIN_LEVEL_53Value\n",
      "[(20822, 1564652420822, 'Serum_bilirubin_level_53',  6., '2013-12-30')\n",
      " (20822, 1564654020822, 'Serum_bilirubin_level_53', 17., '2003-04-21')\n",
      " (20822, 1564655620822, 'Serum_bilirubin_level_53', 14., '2003-04-14') ...\n",
      " (20890, 2033482120890, 'Serum_bilirubin_level_53',  6., '2000-09-21')\n",
      " (20890, 2033482320890, 'Serum_bilirubin_level_53',  4., '2011-08-02')\n",
      " (20890, 2033482320890, 'Serum_bilirubin_level_53',  9., '2011-11-19')]\n"
     ]
    },
    {
     "name": "stderr",
     "output_type": "stream",
     "text": [
      "Adding Serum_bilirubin_level_53 measurements to table: 121it [04:32,  2.25s/it]\n"
     ]
    },
    {
     "name": "stdout",
     "output_type": "stream",
     "text": [
      "Building Total_alkaline_phosphatase_48 to the measurements/tests table from \n",
      "\t /rds/projects/g/gokhalkm-optimal/OPTIMAL_MASTER_DATASET/data/timeseries/measurement_and_tests/lab_measurements/AVF2_masterDataOptimal_v3_fullDB20231112045951_Total_alkaline_phosphatase_48.zip.\n"
     ]
    },
    {
     "name": "stderr",
     "output_type": "stream",
     "text": [
      "Adding Total_alkaline_phosphatase_48 measurements to table: 0it [00:00, ?it/s]"
     ]
    },
    {
     "name": "stdout",
     "output_type": "stream",
     "text": [
      "Index(['PRACTICE_PATIENT_ID', 'INDEX_DATE', 'EXIT_DATE',\n",
      "       'TOTAL_ALKALINE_PHOSPHATASE_48EVENT_DATE',\n",
      "       'TOTAL_ALKALINE_PHOSPHATASE_48Value',\n",
      "       'TOTAL_ALKALINE_PHOSPHATASE_48NumUnit',\n",
      "       'TOTAL_ALKALINE_PHOSPHATASE_48LowRange',\n",
      "       'TOTAL_ALKALINE_PHOSPHATASE_48HighRange'],\n",
      "      dtype='object')\n",
      "Using event_date_col TOTAL_ALKALINE_PHOSPHATASE_48EVENT_DATE, and event_value_col TOTAL_ALKALINE_PHOSPHATASE_48Value\n",
      "[(20822, 1564834120822, 'Total_alkaline_phosphatase_48',  47., '2015-12-21')\n",
      " (20822, 1564834120822, 'Total_alkaline_phosphatase_48',  43., '2016-04-21')\n",
      " (20822, 1565107720822, 'Total_alkaline_phosphatase_48',  90., '2014-02-13')\n",
      " ...\n",
      " (20897, 2906210920897, 'Total_alkaline_phosphatase_48',  70., '2009-02-16')\n",
      " (20897, 2906211320897, 'Total_alkaline_phosphatase_48',  84., '2011-01-25')\n",
      " (20897, 2906211420897, 'Total_alkaline_phosphatase_48', 116., '2013-10-30')]\n"
     ]
    },
    {
     "name": "stderr",
     "output_type": "stream",
     "text": [
      "Adding Total_alkaline_phosphatase_48 measurements to table: 33it [01:15,  2.30s/it]\n"
     ]
    },
    {
     "name": "stdout",
     "output_type": "stream",
     "text": [
      "Building AlcoholConsumption_Never to the measurements/tests table from \n",
      "\t /rds/projects/g/gokhalkm-optimal/OPTIMAL_MASTER_DATASET/data/timeseries/measurement_and_tests/lab_measurements/AVF2_masterDataOptimal_v3_fullDB20231112045951_AlcoholConsumption_Never.zip.\n"
     ]
    },
    {
     "name": "stderr",
     "output_type": "stream",
     "text": [
      "Adding AlcoholConsumption_Never measurements to table: 0it [00:00, ?it/s]"
     ]
    },
    {
     "name": "stdout",
     "output_type": "stream",
     "text": [
      "Index(['PRACTICE_PATIENT_ID', 'INDEX_DATE', 'EXIT_DATE',\n",
      "       'ALCOHOLCONSUMPTION_NEVER', 'EVENT_DATE'],\n",
      "      dtype='object')\n",
      "Using event_date_col EVENT_DATE, and event_value_col ALCOHOLCONSUMPTION_NEVER\n",
      "[(20822, 1564650720822, 'AlcoholConsumption_Never', 2.91355016e+08, '2009-06-24')\n",
      " (20822, 1564650720822, 'AlcoholConsumption_Never', 2.91355016e+08, '2009-06-24')\n",
      " (20822, 1564653220822, 'AlcoholConsumption_Never', 2.91355016e+08, '2006-05-30')\n",
      " ...\n",
      " (20446,  124426720446, 'AlcoholConsumption_Never', 2.91355016e+08, '2005-02-11')\n",
      " (20446,  124429420446, 'AlcoholConsumption_Never', 2.91355016e+08, '1992-09-15')\n",
      " (20446,  124429620446, 'AlcoholConsumption_Never', 2.91355016e+08, '2010-08-27')]\n"
     ]
    },
    {
     "name": "stderr",
     "output_type": "stream",
     "text": [
      "Adding AlcoholConsumption_Never measurements to table: 30it [01:07,  2.24s/it]\n"
     ]
    },
    {
     "name": "stdout",
     "output_type": "stream",
     "text": [
      "Building Diastolic_blood_pressure_5 to the measurements/tests table from \n",
      "\t /rds/projects/g/gokhalkm-optimal/OPTIMAL_MASTER_DATASET/data/timeseries/measurement_and_tests/lab_measurements/AVF2_masterDataOptimal_v3_fullDB20231112045951_Diastolic_blood_pressure_5.zip.\n"
     ]
    },
    {
     "name": "stderr",
     "output_type": "stream",
     "text": [
      "Adding Diastolic_blood_pressure_5 measurements to table: 0it [00:00, ?it/s]"
     ]
    },
    {
     "name": "stdout",
     "output_type": "stream",
     "text": [
      "Index(['PRACTICE_PATIENT_ID', 'INDEX_DATE', 'EXIT_DATE',\n",
      "       'DIASTOLIC_BLOOD_PRESSURE_5EVENT_DATE',\n",
      "       'DIASTOLIC_BLOOD_PRESSURE_5Value', 'DIASTOLIC_BLOOD_PRESSURE_5NumUnit',\n",
      "       'DIASTOLIC_BLOOD_PRESSURE_5LowRange',\n",
      "       'DIASTOLIC_BLOOD_PRESSURE_5HighRange'],\n",
      "      dtype='object')\n",
      "Using event_date_col DIASTOLIC_BLOOD_PRESSURE_5EVENT_DATE, and event_value_col DIASTOLIC_BLOOD_PRESSURE_5Value\n",
      "[(20822, 1564648920822, 'Diastolic_blood_pressure_5', 64., '2001-02-20')\n",
      " (20822, 1564648920822, 'Diastolic_blood_pressure_5', nan, '2011-08-19')\n",
      " (20822, 1564648920822, 'Diastolic_blood_pressure_5', nan, '2011-09-02')\n",
      " ...\n",
      " (20413,  339739720413, 'Diastolic_blood_pressure_5', 72., '2014-01-28')\n",
      " (20413,  339739720413, 'Diastolic_blood_pressure_5', 74., '2014-05-08')\n",
      " (20413,  339739720413, 'Diastolic_blood_pressure_5', 65., '2015-05-15')]\n"
     ]
    },
    {
     "name": "stderr",
     "output_type": "stream",
     "text": [
      "Adding Diastolic_blood_pressure_5 measurements to table: 1206it [48:40,  2.42s/it]\n"
     ]
    },
    {
     "name": "stdout",
     "output_type": "stream",
     "text": [
      "Building Plasma_creatinine_level_32 to the measurements/tests table from \n",
      "\t /rds/projects/g/gokhalkm-optimal/OPTIMAL_MASTER_DATASET/data/timeseries/measurement_and_tests/lab_measurements/AVF2_masterDataOptimal_v3_fullDB20231112045951_Plasma_creatinine_level_32.zip.\n"
     ]
    },
    {
     "name": "stderr",
     "output_type": "stream",
     "text": [
      "Adding Plasma_creatinine_level_32 measurements to table: 0it [00:00, ?it/s]"
     ]
    },
    {
     "name": "stdout",
     "output_type": "stream",
     "text": [
      "Index(['PRACTICE_PATIENT_ID', 'INDEX_DATE', 'EXIT_DATE',\n",
      "       'PLASMA_CREATININE_LEVEL_32EVENT_DATE',\n",
      "       'PLASMA_CREATININE_LEVEL_32Value', 'PLASMA_CREATININE_LEVEL_32NumUnit',\n",
      "       'PLASMA_CREATININE_LEVEL_32LowRange',\n",
      "       'PLASMA_CREATININE_LEVEL_32HighRange'],\n",
      "      dtype='object')\n",
      "Using event_date_col PLASMA_CREATININE_LEVEL_32EVENT_DATE, and event_value_col PLASMA_CREATININE_LEVEL_32Value\n",
      "[(20822, 1564790620822, 'Plasma_creatinine_level_32',  38., '2011-03-22')\n",
      " (20822, 1565500920822, 'Plasma_creatinine_level_32',  99., '2006-01-14')\n",
      " (20822, 1565649320822, 'Plasma_creatinine_level_32',  79., '2008-05-01')\n",
      " ...\n",
      " (20759, 1058640220759, 'Plasma_creatinine_level_32', 101., '2005-04-06')\n",
      " (20759, 1058640220759, 'Plasma_creatinine_level_32',  nan, '2006-01-03')\n",
      " (20759, 1058640220759, 'Plasma_creatinine_level_32', 111., '2006-01-11')]\n"
     ]
    },
    {
     "name": "stderr",
     "output_type": "stream",
     "text": [
      "Adding Plasma_creatinine_level_32 measurements to table: 23it [03:53, 10.17s/it]\n"
     ]
    },
    {
     "name": "stdout",
     "output_type": "stream",
     "text": [
      "Building Plasma_cholesterol_HDL_ratio_96 to the measurements/tests table from \n",
      "\t /rds/projects/g/gokhalkm-optimal/OPTIMAL_MASTER_DATASET/data/timeseries/measurement_and_tests/lab_measurements/AVF2_masterDataOptimal_v3_fullDB20231112045951_Plasma_cholesterol_HDL_ratio_96.zip.\n"
     ]
    },
    {
     "name": "stderr",
     "output_type": "stream",
     "text": [
      "Adding Plasma_cholesterol_HDL_ratio_96 measurements to table: 0it [00:00, ?it/s]"
     ]
    },
    {
     "name": "stdout",
     "output_type": "stream",
     "text": [
      "Index(['PRACTICE_PATIENT_ID', 'INDEX_DATE', 'EXIT_DATE',\n",
      "       'PLASMA_CHOLESTEROL/HDL_RATIO_96EVENT_DATE',\n",
      "       'PLASMA_CHOLESTEROL/HDL_RATIO_96Value',\n",
      "       'PLASMA_CHOLESTEROL/HDL_RATIO_96NumUnit',\n",
      "       'PLASMA_CHOLESTEROL/HDL_RATIO_96LowRange',\n",
      "       'PLASMA_CHOLESTEROL/HDL_RATIO_96HighRange'],\n",
      "      dtype='object')\n",
      "Using event_date_col PLASMA_CHOLESTEROL/HDL_RATIO_96EVENT_DATE, and event_value_col PLASMA_CHOLESTEROL/HDL_RATIO_96Value\n",
      "[(20822, 1565282720822, 'Plasma_cholesterol_HDL_ratio_96', 2.3, '2016-09-13')\n",
      " (20822, 2690499720822, 'Plasma_cholesterol_HDL_ratio_96', 4.7, '2002-01-31')\n",
      " (20822, 2690499720822, 'Plasma_cholesterol_HDL_ratio_96', 4.1, '2004-05-06')\n",
      " ...\n",
      " (21216, 3272027521216, 'Plasma_cholesterol_HDL_ratio_96', nan, '2012-12-19')\n",
      " (21216, 3272035521216, 'Plasma_cholesterol_HDL_ratio_96', nan, '2012-09-21')\n",
      " (21216, 3272042521216, 'Plasma_cholesterol_HDL_ratio_96', 4.1, '2016-12-30')]\n"
     ]
    },
    {
     "name": "stderr",
     "output_type": "stream",
     "text": [
      "Adding Plasma_cholesterol_HDL_ratio_96 measurements to table: 3it [01:58, 39.45s/it]\n"
     ]
    },
    {
     "name": "stdout",
     "output_type": "stream",
     "text": [
      "Building Urine_microalbumin_creatinine_ratio_36 to the measurements/tests table from \n",
      "\t /rds/projects/g/gokhalkm-optimal/OPTIMAL_MASTER_DATASET/data/timeseries/measurement_and_tests/lab_measurements/AVF2_masterDataOptimal_v3_fullDB20231112045951_Urine_microalbumin_creatinine_ratio_36.zip.\n"
     ]
    },
    {
     "name": "stderr",
     "output_type": "stream",
     "text": [
      "Adding Urine_microalbumin_creatinine_ratio_36 measurements to table: 0it [00:00, ?it/s]"
     ]
    },
    {
     "name": "stdout",
     "output_type": "stream",
     "text": [
      "Index(['PRACTICE_PATIENT_ID', 'INDEX_DATE', 'EXIT_DATE',\n",
      "       'URINE_MICROALBUMIN:CREATININE_RATIO_36EVENT_DATE',\n",
      "       'URINE_MICROALBUMIN:CREATININE_RATIO_36Value',\n",
      "       'URINE_MICROALBUMIN:CREATININE_RATIO_36NumUnit',\n",
      "       'URINE_MICROALBUMIN:CREATININE_RATIO_36LowRange',\n",
      "       'URINE_MICROALBUMIN:CREATININE_RATIO_36HighRange'],\n",
      "      dtype='object')\n",
      "Using event_date_col URINE_MICROALBUMIN:CREATININE_RATIO_36EVENT_DATE, and event_value_col URINE_MICROALBUMIN:CREATININE_RATIO_36Value\n",
      "[(20652, 1081178320652, 'Urine_microalbumin_creatinine_ratio_36', nan, '2008-11-07')\n",
      " (20652, 1081269620652, 'Urine_microalbumin_creatinine_ratio_36', nan, '2013-10-10')\n",
      " (20413, 1197988720413, 'Urine_microalbumin_creatinine_ratio_36', 11., '2016-03-09')\n",
      " ...\n",
      " (21298, 6172348021298, 'Urine_microalbumin_creatinine_ratio_36', nan, '2011-11-25')\n",
      " (21298, 6172359921298, 'Urine_microalbumin_creatinine_ratio_36', nan, '2010-03-30')\n",
      " (21298, 6172359921298, 'Urine_microalbumin_creatinine_ratio_36', nan, '2011-12-14')]\n"
     ]
    },
    {
     "name": "stderr",
     "output_type": "stream",
     "text": [
      "Adding Urine_microalbumin_creatinine_ratio_36 measurements to table: 2it [02:05, 62.51s/it] \n"
     ]
    },
    {
     "name": "stdout",
     "output_type": "stream",
     "text": [
      "Building GFR_calculated_abbreviated_MDRD_34 to the measurements/tests table from \n",
      "\t /rds/projects/g/gokhalkm-optimal/OPTIMAL_MASTER_DATASET/data/timeseries/measurement_and_tests/lab_measurements/AVF2_masterDataOptimal_v3_fullDB20231112045951_GFR_calculated_abbreviated_MDRD_34.zip.\n"
     ]
    },
    {
     "name": "stderr",
     "output_type": "stream",
     "text": [
      "Adding GFR_calculated_abbreviated_MDRD_34 measurements to table: 0it [00:00, ?it/s]"
     ]
    },
    {
     "name": "stdout",
     "output_type": "stream",
     "text": [
      "Index(['PRACTICE_PATIENT_ID', 'INDEX_DATE', 'EXIT_DATE',\n",
      "       'GFR_CALCULATED_ABBREVIATED_MDRD_34EVENT_DATE',\n",
      "       'GFR_CALCULATED_ABBREVIATED_MDRD_34Value',\n",
      "       'GFR_CALCULATED_ABBREVIATED_MDRD_34NumUnit',\n",
      "       'GFR_CALCULATED_ABBREVIATED_MDRD_34LowRange',\n",
      "       'GFR_CALCULATED_ABBREVIATED_MDRD_34HighRange'],\n",
      "      dtype='object')\n",
      "Using event_date_col GFR_CALCULATED_ABBREVIATED_MDRD_34EVENT_DATE, and event_value_col GFR_CALCULATED_ABBREVIATED_MDRD_34Value\n",
      "[(20822, 1564648920822, 'GFR_calculated_abbreviated_MDRD_34', 90., '2010-12-16')\n",
      " (20822, 1564648920822, 'GFR_calculated_abbreviated_MDRD_34', 90., '2011-08-24')\n",
      " (20822, 1564649120822, 'GFR_calculated_abbreviated_MDRD_34', 84., '2007-05-22')\n",
      " ...\n",
      " (21639, 6884519821639, 'GFR_calculated_abbreviated_MDRD_34', 70., '2018-08-31')\n",
      " (21639, 6884520021639, 'GFR_calculated_abbreviated_MDRD_34', 90., '2017-04-24')\n",
      " (21639, 6884520221639, 'GFR_calculated_abbreviated_MDRD_34', 90., '2011-05-03')]\n"
     ]
    },
    {
     "name": "stderr",
     "output_type": "stream",
     "text": [
      "Adding GFR_calculated_abbreviated_MDRD_34 measurements to table: 369it [18:10,  2.95s/it]\n"
     ]
    },
    {
     "name": "stdout",
     "output_type": "stream",
     "text": [
      "Building Plasma_total_cholesterol_level_99 to the measurements/tests table from \n",
      "\t /rds/projects/g/gokhalkm-optimal/OPTIMAL_MASTER_DATASET/data/timeseries/measurement_and_tests/lab_measurements/AVF2_masterDataOptimal_v3_fullDB20231112045951_Plasma_total_cholesterol_level_99.zip.\n"
     ]
    },
    {
     "name": "stderr",
     "output_type": "stream",
     "text": [
      "Adding Plasma_total_cholesterol_level_99 measurements to table: 0it [00:00, ?it/s]"
     ]
    },
    {
     "name": "stdout",
     "output_type": "stream",
     "text": [
      "Index(['PRACTICE_PATIENT_ID', 'INDEX_DATE', 'EXIT_DATE',\n",
      "       'PLASMA_TOTAL_CHOLESTEROL_LEVEL_99EVENT_DATE',\n",
      "       'PLASMA_TOTAL_CHOLESTEROL_LEVEL_99Value',\n",
      "       'PLASMA_TOTAL_CHOLESTEROL_LEVEL_99NumUnit',\n",
      "       'PLASMA_TOTAL_CHOLESTEROL_LEVEL_99LowRange',\n",
      "       'PLASMA_TOTAL_CHOLESTEROL_LEVEL_99HighRange'],\n",
      "      dtype='object')\n",
      "Using event_date_col PLASMA_TOTAL_CHOLESTEROL_LEVEL_99EVENT_DATE, and event_value_col PLASMA_TOTAL_CHOLESTEROL_LEVEL_99Value\n",
      "[(20822, 1565108920822, 'Plasma_total_cholesterol_level_99', 3.6, '2017-01-17')\n",
      " (20822, 1565282720822, 'Plasma_total_cholesterol_level_99', 3.9, '2016-09-13')\n",
      " (20822, 1565299320822, 'Plasma_total_cholesterol_level_99', 6.2, '2011-11-02')\n",
      " ...\n",
      " (21333, 8986609321333, 'Plasma_total_cholesterol_level_99', 5.4, '2010-09-10')\n",
      " (21333, 8986609321333, 'Plasma_total_cholesterol_level_99', 5.3, '2011-04-04')\n",
      " (21333, 8986609921333, 'Plasma_total_cholesterol_level_99', 4.4, '2007-02-14')]\n"
     ]
    },
    {
     "name": "stderr",
     "output_type": "stream",
     "text": [
      "Adding Plasma_total_cholesterol_level_99 measurements to table: 12it [03:16, 16.34s/it]\n"
     ]
    },
    {
     "name": "stdout",
     "output_type": "stream",
     "text": [
      "Building Serum_cholesterol_HDL_ratio_94 to the measurements/tests table from \n",
      "\t /rds/projects/g/gokhalkm-optimal/OPTIMAL_MASTER_DATASET/data/timeseries/measurement_and_tests/lab_measurements/AVF2_masterDataOptimal_v3_fullDB20231112045951_Serum_cholesterol_HDL_ratio_94.zip.\n"
     ]
    },
    {
     "name": "stderr",
     "output_type": "stream",
     "text": [
      "Adding Serum_cholesterol_HDL_ratio_94 measurements to table: 0it [00:00, ?it/s]"
     ]
    },
    {
     "name": "stdout",
     "output_type": "stream",
     "text": [
      "Index(['PRACTICE_PATIENT_ID', 'INDEX_DATE', 'EXIT_DATE',\n",
      "       'SERUM_CHOLESTEROL/HDL_RATIO_94EVENT_DATE',\n",
      "       'SERUM_CHOLESTEROL/HDL_RATIO_94Value',\n",
      "       'SERUM_CHOLESTEROL/HDL_RATIO_94NumUnit',\n",
      "       'SERUM_CHOLESTEROL/HDL_RATIO_94LowRange',\n",
      "       'SERUM_CHOLESTEROL/HDL_RATIO_94HighRange'],\n",
      "      dtype='object')\n",
      "Using event_date_col SERUM_CHOLESTEROL/HDL_RATIO_94EVENT_DATE, and event_value_col SERUM_CHOLESTEROL/HDL_RATIO_94Value\n",
      "[(20822, 1564650420822, 'Serum_cholesterol_HDL_ratio_94', 3.3, '2019-08-13')\n",
      " (20822, 1564650820822, 'Serum_cholesterol_HDL_ratio_94', 2.6, '2018-02-27')\n",
      " (20822, 1564650820822, 'Serum_cholesterol_HDL_ratio_94', 2.9, '2019-01-31')\n",
      " ...\n",
      " (20870, 1846868020870, 'Serum_cholesterol_HDL_ratio_94', 1.3, '2014-10-29')\n",
      " (20870, 1846868020870, 'Serum_cholesterol_HDL_ratio_94', 1.3, '2015-04-09')\n",
      " (20870, 1846868020870, 'Serum_cholesterol_HDL_ratio_94', 1.5, '2016-03-29')]\n"
     ]
    },
    {
     "name": "stderr",
     "output_type": "stream",
     "text": [
      "Adding Serum_cholesterol_HDL_ratio_94 measurements to table: 143it [09:08,  3.83s/it]\n"
     ]
    },
    {
     "name": "stdout",
     "output_type": "stream",
     "text": [
      "Building Serum_calcium_39 to the measurements/tests table from \n",
      "\t /rds/projects/g/gokhalkm-optimal/OPTIMAL_MASTER_DATASET/data/timeseries/measurement_and_tests/lab_measurements/AVF2_masterDataOptimal_v3_fullDB20231112045951_Serum_calcium_39.zip.\n"
     ]
    },
    {
     "name": "stderr",
     "output_type": "stream",
     "text": [
      "Adding Serum_calcium_39 measurements to table: 0it [00:00, ?it/s]"
     ]
    },
    {
     "name": "stdout",
     "output_type": "stream",
     "text": [
      "Index(['PRACTICE_PATIENT_ID', 'INDEX_DATE', 'EXIT_DATE',\n",
      "       'SERUM_CALCIUM_39EVENT_DATE', 'SERUM_CALCIUM_39Value',\n",
      "       'SERUM_CALCIUM_39NumUnit', 'SERUM_CALCIUM_39LowRange',\n",
      "       'SERUM_CALCIUM_39HighRange'],\n",
      "      dtype='object')\n",
      "Using event_date_col SERUM_CALCIUM_39EVENT_DATE, and event_value_col SERUM_CALCIUM_39Value\n",
      "[(20822, 1564648920822, 'Serum_calcium_39', 2.28, '2005-03-23')\n",
      " (20822, 1564649120822, 'Serum_calcium_39', 2.46, '2006-05-17')\n",
      " (20822, 1564649120822, 'Serum_calcium_39', 2.35, '2008-04-07') ...\n",
      " (21487, 6210819321487, 'Serum_calcium_39', 2.41, '2017-03-15')\n",
      " (21487, 6210819321487, 'Serum_calcium_39', 2.41, '2020-08-03')\n",
      " (21487, 6210819521487, 'Serum_calcium_39', 2.42, '2017-02-07')]\n"
     ]
    },
    {
     "name": "stderr",
     "output_type": "stream",
     "text": [
      "Adding Serum_calcium_39 measurements to table: 141it [09:02,  3.85s/it]\n"
     ]
    },
    {
     "name": "stdout",
     "output_type": "stream",
     "text": [
      "Building Albumin___creatinine_ratio_37 to the measurements/tests table from \n",
      "\t /rds/projects/g/gokhalkm-optimal/OPTIMAL_MASTER_DATASET/data/timeseries/measurement_and_tests/lab_measurements/AVF2_masterDataOptimal_v3_fullDB20231112045951_Albumin___creatinine_ratio_37.zip.\n"
     ]
    },
    {
     "name": "stderr",
     "output_type": "stream",
     "text": [
      "Adding Albumin___creatinine_ratio_37 measurements to table: 0it [00:00, ?it/s]"
     ]
    },
    {
     "name": "stdout",
     "output_type": "stream",
     "text": [
      "Index(['PRACTICE_PATIENT_ID', 'INDEX_DATE', 'EXIT_DATE',\n",
      "       'ALBUMIN_/_CREATININE_RATIO_37EVENT_DATE',\n",
      "       'ALBUMIN_/_CREATININE_RATIO_37Value',\n",
      "       'ALBUMIN_/_CREATININE_RATIO_37NumUnit',\n",
      "       'ALBUMIN_/_CREATININE_RATIO_37LowRange',\n",
      "       'ALBUMIN_/_CREATININE_RATIO_37HighRange'],\n",
      "      dtype='object')\n",
      "Using event_date_col ALBUMIN_/_CREATININE_RATIO_37EVENT_DATE, and event_value_col ALBUMIN_/_CREATININE_RATIO_37Value\n",
      "[(20822, 1565899120822, 'Albumin___creatinine_ratio_37',   nan, '2006-05-26')\n",
      " (20822, 1565899120822, 'Albumin___creatinine_ratio_37',   nan, '2007-06-19')\n",
      " (20652, 1081479220652, 'Albumin___creatinine_ratio_37',  0.39, '2008-10-13')\n",
      " ...\n",
      " (21299, 5521064021299, 'Albumin___creatinine_ratio_37',  1.66, '2007-12-10')\n",
      " (21299, 5521101721299, 'Albumin___creatinine_ratio_37',   nan, '2006-03-27')\n",
      " (21299, 5521102921299, 'Albumin___creatinine_ratio_37', 40.  , '2005-09-26')]\n"
     ]
    },
    {
     "name": "stderr",
     "output_type": "stream",
     "text": [
      "Adding Albumin___creatinine_ratio_37 measurements to table: 1it [01:57, 117.20s/it]\n"
     ]
    },
    {
     "name": "stdout",
     "output_type": "stream",
     "text": [
      "Building Mean_corpusc._haemoglobin_MCH__13 to the measurements/tests table from \n",
      "\t /rds/projects/g/gokhalkm-optimal/OPTIMAL_MASTER_DATASET/data/timeseries/measurement_and_tests/lab_measurements/AVF2_masterDataOptimal_v3_fullDB20231112045951_Mean_corpusc._haemoglobin_MCH__13.zip.\n"
     ]
    },
    {
     "name": "stderr",
     "output_type": "stream",
     "text": [
      "Adding Mean_corpusc._haemoglobin_MCH__13 measurements to table: 0it [00:00, ?it/s]"
     ]
    },
    {
     "name": "stdout",
     "output_type": "stream",
     "text": [
      "Index(['PRACTICE_PATIENT_ID', 'INDEX_DATE', 'EXIT_DATE',\n",
      "       'MEAN_CORPUSC._HAEMOGLOBIN(MCH)_13EVENT_DATE',\n",
      "       'MEAN_CORPUSC._HAEMOGLOBIN(MCH)_13Value',\n",
      "       'MEAN_CORPUSC._HAEMOGLOBIN(MCH)_13NumUnit',\n",
      "       'MEAN_CORPUSC._HAEMOGLOBIN(MCH)_13LowRange',\n",
      "       'MEAN_CORPUSC._HAEMOGLOBIN(MCH)_13HighRange'],\n",
      "      dtype='object')\n",
      "Using event_date_col MEAN_CORPUSC._HAEMOGLOBIN(MCH)_13EVENT_DATE, and event_value_col MEAN_CORPUSC._HAEMOGLOBIN(MCH)_13Value\n",
      "[(20822, 1564648920822, 'Mean_corpusc._haemoglobin_MCH__13', 29.8, '2005-03-23')\n",
      " (20822, 1564648920822, 'Mean_corpusc._haemoglobin_MCH__13', 31. , '2010-12-16')\n",
      " (20822, 1564648920822, 'Mean_corpusc._haemoglobin_MCH__13', 31.1, '2011-08-24')\n",
      " ...\n",
      " (21600, 6683374621600, 'Mean_corpusc._haemoglobin_MCH__13', 31.6, '2008-02-29')\n",
      " (21600, 6683374621600, 'Mean_corpusc._haemoglobin_MCH__13', 31.6, '2008-02-29')\n",
      " (21600, 6683374621600, 'Mean_corpusc._haemoglobin_MCH__13', 31.3, '2009-03-25')]\n"
     ]
    },
    {
     "name": "stderr",
     "output_type": "stream",
     "text": [
      "Adding Mean_corpusc._haemoglobin_MCH__13 measurements to table: 453it [24:14,  3.21s/it]\n"
     ]
    },
    {
     "name": "stdout",
     "output_type": "stream",
     "text": [
      "Building Body_mass_index_3 to the measurements/tests table from \n",
      "\t /rds/projects/g/gokhalkm-optimal/OPTIMAL_MASTER_DATASET/data/timeseries/measurement_and_tests/lab_measurements/AVF2_masterDataOptimal_v3_fullDB20231112045951_Body_mass_index_3.zip.\n"
     ]
    },
    {
     "name": "stderr",
     "output_type": "stream",
     "text": [
      "Adding Body_mass_index_3 measurements to table: 0it [00:00, ?it/s]"
     ]
    },
    {
     "name": "stdout",
     "output_type": "stream",
     "text": [
      "Index(['PRACTICE_PATIENT_ID', 'INDEX_DATE', 'EXIT_DATE',\n",
      "       'BODY_MASS_INDEX_3EVENT_DATE', 'BODY_MASS_INDEX_3Value',\n",
      "       'BODY_MASS_INDEX_3NumUnit', 'BODY_MASS_INDEX_3LowRange',\n",
      "       'BODY_MASS_INDEX_3HighRange'],\n",
      "      dtype='object')\n",
      "Using event_date_col BODY_MASS_INDEX_3EVENT_DATE, and event_value_col BODY_MASS_INDEX_3Value\n",
      "[(20822, 1564648920822, 'Body_mass_index_3', 22.18, '2001-02-20')\n",
      " (20822, 1564648920822, 'Body_mass_index_3',   nan, '2001-02-20')\n",
      " (20822, 1564649120822, 'Body_mass_index_3',   nan, '1997-05-21') ...\n",
      " (20631, 1032896420631, 'Body_mass_index_3', 28.1 , '2017-11-22')\n",
      " (20631, 1032896420631, 'Body_mass_index_3', 27.06, '2019-04-23')\n",
      " (20631, 1032896420631, 'Body_mass_index_3', 25.39, '2022-01-11')]\n"
     ]
    },
    {
     "name": "stderr",
     "output_type": "stream",
     "text": [
      "Adding Body_mass_index_3 measurements to table: 500it [26:38,  3.20s/it]\n"
     ]
    },
    {
     "name": "stdout",
     "output_type": "stream",
     "text": [
      "Building Plasma_potassium_level_27 to the measurements/tests table from \n",
      "\t /rds/projects/g/gokhalkm-optimal/OPTIMAL_MASTER_DATASET/data/timeseries/measurement_and_tests/lab_measurements/AVF2_masterDataOptimal_v3_fullDB20231112045951_Plasma_potassium_level_27.zip.\n"
     ]
    },
    {
     "name": "stderr",
     "output_type": "stream",
     "text": [
      "Adding Plasma_potassium_level_27 measurements to table: 0it [00:00, ?it/s]"
     ]
    },
    {
     "name": "stdout",
     "output_type": "stream",
     "text": [
      "Index(['PRACTICE_PATIENT_ID', 'INDEX_DATE', 'EXIT_DATE',\n",
      "       'PLASMA_POTASSIUM_LEVEL_27EVENT_DATE', 'PLASMA_POTASSIUM_LEVEL_27Value',\n",
      "       'PLASMA_POTASSIUM_LEVEL_27NumUnit', 'PLASMA_POTASSIUM_LEVEL_27LowRange',\n",
      "       'PLASMA_POTASSIUM_LEVEL_27HighRange'],\n",
      "      dtype='object')\n",
      "Using event_date_col PLASMA_POTASSIUM_LEVEL_27EVENT_DATE, and event_value_col PLASMA_POTASSIUM_LEVEL_27Value\n",
      "[(20822, 1564790620822, 'Plasma_potassium_level_27', 4.7, '2011-03-22')\n",
      " (20822, 1565500920822, 'Plasma_potassium_level_27', 3.9, '2006-01-14')\n",
      " (20822, 1565649320822, 'Plasma_potassium_level_27', 3.9, '2008-05-01')\n",
      " ...\n",
      " (20471,  216931520471, 'Plasma_potassium_level_27', 3.9, '2016-02-24')\n",
      " (20471,  216931520471, 'Plasma_potassium_level_27', 4. , '2016-10-06')\n",
      " (20471,  216931520471, 'Plasma_potassium_level_27', 4.6, '2017-01-16')]\n"
     ]
    },
    {
     "name": "stderr",
     "output_type": "stream",
     "text": [
      "Adding Plasma_potassium_level_27 measurements to table: 23it [03:00,  7.84s/it]\n"
     ]
    },
    {
     "name": "stdout",
     "output_type": "stream",
     "text": [
      "Building Serum_potassium_26 to the measurements/tests table from \n",
      "\t /rds/projects/g/gokhalkm-optimal/OPTIMAL_MASTER_DATASET/data/timeseries/measurement_and_tests/lab_measurements/AVF2_masterDataOptimal_v3_fullDB20231112045951_Serum_potassium_26.zip.\n"
     ]
    },
    {
     "name": "stderr",
     "output_type": "stream",
     "text": [
      "Adding Serum_potassium_26 measurements to table: 0it [00:00, ?it/s]"
     ]
    },
    {
     "name": "stdout",
     "output_type": "stream",
     "text": [
      "Index(['PRACTICE_PATIENT_ID', 'INDEX_DATE', 'EXIT_DATE',\n",
      "       'SERUM_POTASSIUM_26EVENT_DATE', 'SERUM_POTASSIUM_26Value',\n",
      "       'SERUM_POTASSIUM_26NumUnit', 'SERUM_POTASSIUM_26LowRange',\n",
      "       'SERUM_POTASSIUM_26HighRange'],\n",
      "      dtype='object')\n",
      "Using event_date_col SERUM_POTASSIUM_26EVENT_DATE, and event_value_col SERUM_POTASSIUM_26Value\n",
      "[(20822, 1564648920822, 'Serum_potassium_26', 4.1, '2005-03-23')\n",
      " (20822, 1564648920822, 'Serum_potassium_26', 3.9, '2010-12-16')\n",
      " (20822, 1564648920822, 'Serum_potassium_26', 3.9, '2011-08-24') ...\n",
      " (21600, 6683317321600, 'Serum_potassium_26', 4.8, '2008-09-10')\n",
      " (21600, 6683317321600, 'Serum_potassium_26', 4.8, '2008-09-10')\n",
      " (21600, 6683317321600, 'Serum_potassium_26', 4.4, '2009-10-09')]\n"
     ]
    },
    {
     "name": "stderr",
     "output_type": "stream",
     "text": [
      "Adding Serum_potassium_26 measurements to table: 496it [23:08,  2.80s/it]\n"
     ]
    },
    {
     "name": "stdout",
     "output_type": "stream",
     "text": [
      "Building Plasma_corrected_calcium_level_43 to the measurements/tests table from \n",
      "\t /rds/projects/g/gokhalkm-optimal/OPTIMAL_MASTER_DATASET/data/timeseries/measurement_and_tests/lab_measurements/AVF2_masterDataOptimal_v3_fullDB20231112045951_Plasma_corrected_calcium_level_43.zip.\n"
     ]
    },
    {
     "name": "stderr",
     "output_type": "stream",
     "text": [
      "Adding Plasma_corrected_calcium_level_43 measurements to table: 0it [00:00, ?it/s]"
     ]
    },
    {
     "name": "stdout",
     "output_type": "stream",
     "text": [
      "Index(['PRACTICE_PATIENT_ID', 'INDEX_DATE', 'EXIT_DATE',\n",
      "       'PLASMA_CORRECTED_CALCIUM_LEVEL_43EVENT_DATE',\n",
      "       'PLASMA_CORRECTED_CALCIUM_LEVEL_43Value',\n",
      "       'PLASMA_CORRECTED_CALCIUM_LEVEL_43NumUnit',\n",
      "       'PLASMA_CORRECTED_CALCIUM_LEVEL_43LowRange',\n",
      "       'PLASMA_CORRECTED_CALCIUM_LEVEL_43HighRange'],\n",
      "      dtype='object')\n",
      "Using event_date_col PLASMA_CORRECTED_CALCIUM_LEVEL_43EVENT_DATE, and event_value_col PLASMA_CORRECTED_CALCIUM_LEVEL_43Value\n",
      "[(20822, 1566086220822, 'Plasma_corrected_calcium_level_43',  nan, '2011-07-23')\n",
      " (20822, 2647234120822, 'Plasma_corrected_calcium_level_43', 2.33, '2017-03-22')\n",
      " (20822, 2927236320822, 'Plasma_corrected_calcium_level_43', 2.29, '2015-07-07')\n",
      " ...\n",
      " (20525, 2244794920525, 'Plasma_corrected_calcium_level_43', 2.4 , '2006-07-25')\n",
      " (20525, 2244796020525, 'Plasma_corrected_calcium_level_43', 2.19, '2003-11-07')\n",
      " (20525, 2244797220525, 'Plasma_corrected_calcium_level_43', 2.38, '2006-07-06')]\n"
     ]
    },
    {
     "name": "stderr",
     "output_type": "stream",
     "text": [
      "Adding Plasma_corrected_calcium_level_43 measurements to table: 6it [02:23, 23.84s/it]\n"
     ]
    },
    {
     "name": "stdout",
     "output_type": "stream",
     "text": [
      "Building Red_blood_cell__RBC__count_10 to the measurements/tests table from \n",
      "\t /rds/projects/g/gokhalkm-optimal/OPTIMAL_MASTER_DATASET/data/timeseries/measurement_and_tests/lab_measurements/AVF2_masterDataOptimal_v3_fullDB20231112045951_Red_blood_cell__RBC__count_10.zip.\n"
     ]
    },
    {
     "name": "stderr",
     "output_type": "stream",
     "text": [
      "Adding Red_blood_cell__RBC__count_10 measurements to table: 0it [00:00, ?it/s]"
     ]
    },
    {
     "name": "stdout",
     "output_type": "stream",
     "text": [
      "Index(['PRACTICE_PATIENT_ID', 'INDEX_DATE', 'EXIT_DATE',\n",
      "       'RED_BLOOD_CELL_(RBC)_COUNT_10EVENT_DATE',\n",
      "       'RED_BLOOD_CELL_(RBC)_COUNT_10Value',\n",
      "       'RED_BLOOD_CELL_(RBC)_COUNT_10NumUnit',\n",
      "       'RED_BLOOD_CELL_(RBC)_COUNT_10LowRange',\n",
      "       'RED_BLOOD_CELL_(RBC)_COUNT_10HighRange'],\n",
      "      dtype='object')\n",
      "Using event_date_col RED_BLOOD_CELL_(RBC)_COUNT_10EVENT_DATE, and event_value_col RED_BLOOD_CELL_(RBC)_COUNT_10Value\n",
      "[(20822, 1564648920822, 'Red_blood_cell__RBC__count_10', 5.09, '2005-03-23')\n",
      " (20822, 1564648920822, 'Red_blood_cell__RBC__count_10', 5.32, '2010-12-16')\n",
      " (20822, 1564648920822, 'Red_blood_cell__RBC__count_10', 5.11, '2011-08-24')\n",
      " ...\n",
      " (21600, 6683351121600, 'Red_blood_cell__RBC__count_10', 4.58, '2019-10-30')\n",
      " (21600, 6683351221600, 'Red_blood_cell__RBC__count_10', 4.67, '2004-06-28')\n",
      " (21600, 6683351221600, 'Red_blood_cell__RBC__count_10', 4.67, '2004-06-28')]\n"
     ]
    },
    {
     "name": "stderr",
     "output_type": "stream",
     "text": [
      "Adding Red_blood_cell__RBC__count_10 measurements to table: 462it [21:59,  2.86s/it]\n"
     ]
    },
    {
     "name": "stdout",
     "output_type": "stream",
     "text": [
      "Building Plasma_ferritin_level_62 to the measurements/tests table from \n",
      "\t /rds/projects/g/gokhalkm-optimal/OPTIMAL_MASTER_DATASET/data/timeseries/measurement_and_tests/lab_measurements/AVF2_masterDataOptimal_v3_fullDB20231112045951_Plasma_ferritin_level_62.zip.\n"
     ]
    },
    {
     "name": "stderr",
     "output_type": "stream",
     "text": [
      "Adding Plasma_ferritin_level_62 measurements to table: 0it [00:00, ?it/s]"
     ]
    },
    {
     "name": "stdout",
     "output_type": "stream",
     "text": [
      "Index(['PRACTICE_PATIENT_ID', 'INDEX_DATE', 'EXIT_DATE',\n",
      "       'PLASMA_FERRITIN_LEVEL_62EVENT_DATE', 'PLASMA_FERRITIN_LEVEL_62Value',\n",
      "       'PLASMA_FERRITIN_LEVEL_62NumUnit', 'PLASMA_FERRITIN_LEVEL_62LowRange',\n",
      "       'PLASMA_FERRITIN_LEVEL_62HighRange'],\n",
      "      dtype='object')\n",
      "Using event_date_col PLASMA_FERRITIN_LEVEL_62EVENT_DATE, and event_value_col PLASMA_FERRITIN_LEVEL_62Value\n",
      "[(20822, 1564973920822, 'Plasma_ferritin_level_62',  nan, '2008-01-16')\n",
      " (20822, 1565282720822, 'Plasma_ferritin_level_62',  35., '2015-01-21')\n",
      " (20822, 2690499720822, 'Plasma_ferritin_level_62', 312., '2012-01-18')\n",
      " ...\n",
      " (20165,  979662820165, 'Plasma_ferritin_level_62',  44., '2009-06-12')\n",
      " (20165,  979662820165, 'Plasma_ferritin_level_62',  48., '2010-07-06')\n",
      " (20165,  979662820165, 'Plasma_ferritin_level_62',  39., '2011-11-03')]\n"
     ]
    },
    {
     "name": "stderr",
     "output_type": "stream",
     "text": [
      "Adding Plasma_ferritin_level_62 measurements to table: 2it [02:02, 61.05s/it] \n"
     ]
    },
    {
     "name": "stdout",
     "output_type": "stream",
     "text": [
      "Building Haemoglobin_A1c_level_-_IFCC_standardised_6 to the measurements/tests table from \n",
      "\t /rds/projects/g/gokhalkm-optimal/OPTIMAL_MASTER_DATASET/data/timeseries/measurement_and_tests/lab_measurements/AVF2_masterDataOptimal_v3_fullDB20231112045951_Haemoglobin_A1c_level_-_IFCC_standardised_6.zip.\n"
     ]
    },
    {
     "name": "stderr",
     "output_type": "stream",
     "text": [
      "Adding Haemoglobin_A1c_level_-_IFCC_standardised_6 measurements to table: 0it [00:00, ?it/s]"
     ]
    },
    {
     "name": "stdout",
     "output_type": "stream",
     "text": [
      "Index(['PRACTICE_PATIENT_ID', 'INDEX_DATE', 'EXIT_DATE',\n",
      "       'HAEMOGLOBIN_A1C_LEVEL_-_IFCC_STANDARDISED_6EVENT_DATE',\n",
      "       'HAEMOGLOBIN_A1C_LEVEL_-_IFCC_STANDARDISED_6Value',\n",
      "       'HAEMOGLOBIN_A1C_LEVEL_-_IFCC_STANDARDISED_6NumUnit',\n",
      "       'HAEMOGLOBIN_A1C_LEVEL_-_IFCC_STANDARDISED_6LowRange',\n",
      "       'HAEMOGLOBIN_A1C_LEVEL_-_IFCC_STANDARDISED_6HighRange'],\n",
      "      dtype='object')\n",
      "Using event_date_col HAEMOGLOBIN_A1C_LEVEL_-_IFCC_STANDARDISED_6EVENT_DATE, and event_value_col HAEMOGLOBIN_A1C_LEVEL_-_IFCC_STANDARDISED_6Value\n",
      "[(20822, 1564649520822, 'Haemoglobin_A1c_level_-_IFCC_standardised_6', 32., '2018-04-23')\n",
      " (20822, 1564649520822, 'Haemoglobin_A1c_level_-_IFCC_standardised_6', 27., '2018-10-18')\n",
      " (20822, 1564650420822, 'Haemoglobin_A1c_level_-_IFCC_standardised_6', 29., '2019-08-13')\n",
      " ...\n",
      " (21537, 6174838021537, 'Haemoglobin_A1c_level_-_IFCC_standardised_6', 36., '2018-09-11')\n",
      " (21537, 6174838021537, 'Haemoglobin_A1c_level_-_IFCC_standardised_6', 39., '2021-07-20')\n",
      " (21537, 6174838021537, 'Haemoglobin_A1c_level_-_IFCC_standardised_6', 40., '2022-03-10')]\n"
     ]
    },
    {
     "name": "stderr",
     "output_type": "stream",
     "text": [
      "Adding Haemoglobin_A1c_level_-_IFCC_standardised_6 measurements to table: 176it [12:41,  4.32s/it]\n"
     ]
    },
    {
     "name": "stdout",
     "output_type": "stream",
     "text": [
      "Building Serum_cholesterol_97 to the measurements/tests table from \n",
      "\t /rds/projects/g/gokhalkm-optimal/OPTIMAL_MASTER_DATASET/data/timeseries/measurement_and_tests/lab_measurements/AVF2_masterDataOptimal_v3_fullDB20231112045951_Serum_cholesterol_97.zip.\n"
     ]
    },
    {
     "name": "stderr",
     "output_type": "stream",
     "text": [
      "Adding Serum_cholesterol_97 measurements to table: 0it [00:00, ?it/s]"
     ]
    },
    {
     "name": "stdout",
     "output_type": "stream",
     "text": [
      "Index(['PRACTICE_PATIENT_ID', 'INDEX_DATE', 'EXIT_DATE',\n",
      "       'SERUM_CHOLESTEROL_97EVENT_DATE', 'SERUM_CHOLESTEROL_97Value',\n",
      "       'SERUM_CHOLESTEROL_97NumUnit', 'SERUM_CHOLESTEROL_97LowRange',\n",
      "       'SERUM_CHOLESTEROL_97HighRange'],\n",
      "      dtype='object')\n",
      "Using event_date_col SERUM_CHOLESTEROL_97EVENT_DATE, and event_value_col SERUM_CHOLESTEROL_97Value\n",
      "[(20822, 1564649120822, 'Serum_cholesterol_97', 6.4, '2006-05-17')\n",
      " (20822, 1564649120822, 'Serum_cholesterol_97', 5.8, '2007-01-23')\n",
      " (20822, 1564649120822, 'Serum_cholesterol_97', 5.6, '2008-04-07') ...\n",
      " (20631, 1032253820631, 'Serum_cholesterol_97', 6.4, '2015-12-29')\n",
      " (20631, 1032253820631, 'Serum_cholesterol_97', 4.8, '2017-01-05')\n",
      " (20631, 1032253820631, 'Serum_cholesterol_97', 4.4, '2020-12-17')]\n"
     ]
    },
    {
     "name": "stderr",
     "output_type": "stream",
     "text": [
      "Adding Serum_cholesterol_97 measurements to table: 287it [16:56,  3.54s/it]\n"
     ]
    },
    {
     "name": "stdout",
     "output_type": "stream",
     "text": [
      "Building Plasma_sodium_level_25 to the measurements/tests table from \n",
      "\t /rds/projects/g/gokhalkm-optimal/OPTIMAL_MASTER_DATASET/data/timeseries/measurement_and_tests/lab_measurements/AVF2_masterDataOptimal_v3_fullDB20231112045951_Plasma_sodium_level_25.zip.\n"
     ]
    },
    {
     "name": "stderr",
     "output_type": "stream",
     "text": [
      "Adding Plasma_sodium_level_25 measurements to table: 0it [00:00, ?it/s]"
     ]
    },
    {
     "name": "stdout",
     "output_type": "stream",
     "text": [
      "Index(['PRACTICE_PATIENT_ID', 'INDEX_DATE', 'EXIT_DATE',\n",
      "       'PLASMA_SODIUM_LEVEL_25EVENT_DATE', 'PLASMA_SODIUM_LEVEL_25Value',\n",
      "       'PLASMA_SODIUM_LEVEL_25NumUnit', 'PLASMA_SODIUM_LEVEL_25LowRange',\n",
      "       'PLASMA_SODIUM_LEVEL_25HighRange'],\n",
      "      dtype='object')\n",
      "Using event_date_col PLASMA_SODIUM_LEVEL_25EVENT_DATE, and event_value_col PLASMA_SODIUM_LEVEL_25Value\n",
      "[(20822, 1564790620822, 'Plasma_sodium_level_25', 142., '2011-03-22')\n",
      " (20822, 1565500920822, 'Plasma_sodium_level_25', 142., '2006-01-14')\n",
      " (20822, 1565649320822, 'Plasma_sodium_level_25', 142., '2008-05-01') ...\n",
      " (20471,  216931320471, 'Plasma_sodium_level_25', 129., '2009-09-20')\n",
      " (20471,  216931420471, 'Plasma_sodium_level_25', 144., '2007-04-25')\n",
      " (20471,  216931420471, 'Plasma_sodium_level_25', 146., '2007-05-22')]\n"
     ]
    },
    {
     "name": "stderr",
     "output_type": "stream",
     "text": [
      "Adding Plasma_sodium_level_25 measurements to table: 23it [03:33,  9.27s/it]\n"
     ]
    },
    {
     "name": "stdout",
     "output_type": "stream",
     "text": [
      "Building Plasma_LDL_cholesterol_level_104 to the measurements/tests table from \n",
      "\t /rds/projects/g/gokhalkm-optimal/OPTIMAL_MASTER_DATASET/data/timeseries/measurement_and_tests/lab_measurements/AVF2_masterDataOptimal_v3_fullDB20231112045951_Plasma_LDL_cholesterol_level_104.zip.\n"
     ]
    },
    {
     "name": "stderr",
     "output_type": "stream",
     "text": [
      "Adding Plasma_LDL_cholesterol_level_104 measurements to table: 0it [00:00, ?it/s]"
     ]
    },
    {
     "name": "stdout",
     "output_type": "stream",
     "text": [
      "Index(['PRACTICE_PATIENT_ID', 'INDEX_DATE', 'EXIT_DATE',\n",
      "       'PLASMA_LDL_CHOLESTEROL_LEVEL_104EVENT_DATE',\n",
      "       'PLASMA_LDL_CHOLESTEROL_LEVEL_104Value',\n",
      "       'PLASMA_LDL_CHOLESTEROL_LEVEL_104NumUnit',\n",
      "       'PLASMA_LDL_CHOLESTEROL_LEVEL_104LowRange',\n",
      "       'PLASMA_LDL_CHOLESTEROL_LEVEL_104HighRange'],\n",
      "      dtype='object')\n",
      "Using event_date_col PLASMA_LDL_CHOLESTEROL_LEVEL_104EVENT_DATE, and event_value_col PLASMA_LDL_CHOLESTEROL_LEVEL_104Value\n",
      "[(20822, 1565282720822, 'Plasma_LDL_cholesterol_level_104', 1.84, '2016-09-13')\n",
      " (20822, 1565500920822, 'Plasma_LDL_cholesterol_level_104', 2.9 , '2006-01-14')\n",
      " (20822, 1565649320822, 'Plasma_LDL_cholesterol_level_104', 3.  , '2008-05-01')\n",
      " ...\n",
      " (20884, 2124596520884, 'Plasma_LDL_cholesterol_level_104',  nan, '2008-09-29')\n",
      " (20884, 2124596520884, 'Plasma_LDL_cholesterol_level_104', 1.55, '2009-04-01')\n",
      " (20884, 2124596520884, 'Plasma_LDL_cholesterol_level_104', 1.71, '2009-09-23')]\n"
     ]
    },
    {
     "name": "stderr",
     "output_type": "stream",
     "text": [
      "Adding Plasma_LDL_cholesterol_level_104 measurements to table: 8it [02:32, 19.08s/it]\n"
     ]
    },
    {
     "name": "stdout",
     "output_type": "stream",
     "text": [
      "Building International_normalised_ratio_82 to the measurements/tests table from \n",
      "\t /rds/projects/g/gokhalkm-optimal/OPTIMAL_MASTER_DATASET/data/timeseries/measurement_and_tests/lab_measurements/AVF2_masterDataOptimal_v3_fullDB20231112045951_International_normalised_ratio_82.zip.\n"
     ]
    },
    {
     "name": "stderr",
     "output_type": "stream",
     "text": [
      "Adding International_normalised_ratio_82 measurements to table: 0it [00:00, ?it/s]"
     ]
    },
    {
     "name": "stdout",
     "output_type": "stream",
     "text": [
      "Index(['PRACTICE_PATIENT_ID', 'INDEX_DATE', 'EXIT_DATE',\n",
      "       'INTERNATIONAL_NORMALISED_RATIO_82EVENT_DATE',\n",
      "       'INTERNATIONAL_NORMALISED_RATIO_82Value',\n",
      "       'INTERNATIONAL_NORMALISED_RATIO_82NumUnit',\n",
      "       'INTERNATIONAL_NORMALISED_RATIO_82LowRange',\n",
      "       'INTERNATIONAL_NORMALISED_RATIO_82HighRange'],\n",
      "      dtype='object')\n",
      "Using event_date_col INTERNATIONAL_NORMALISED_RATIO_82EVENT_DATE, and event_value_col INTERNATIONAL_NORMALISED_RATIO_82Value\n",
      "[(20822, 1564649020822, 'International_normalised_ratio_82', 1. , '2011-03-30')\n",
      " (20822, 1564650420822, 'International_normalised_ratio_82', 0.9, '2019-08-22')\n",
      " (20822, 1564654020822, 'International_normalised_ratio_82', 1.4, '2011-11-22')\n",
      " ...\n",
      " (20750, 1819709620750, 'International_normalised_ratio_82', 4.6, '2014-06-03')\n",
      " (20750, 1819709620750, 'International_normalised_ratio_82', 2.6, '2014-06-16')\n",
      " (20750, 1819709620750, 'International_normalised_ratio_82', 2.4, '2014-06-23')]\n"
     ]
    },
    {
     "name": "stderr",
     "output_type": "stream",
     "text": [
      "Adding International_normalised_ratio_82 measurements to table: 140it [09:30,  4.07s/it]\n"
     ]
    },
    {
     "name": "stdout",
     "output_type": "stream",
     "text": [
      "Building Brain_natriuretic_peptide_level_66 to the measurements/tests table from \n",
      "\t /rds/projects/g/gokhalkm-optimal/OPTIMAL_MASTER_DATASET/data/timeseries/measurement_and_tests/lab_measurements/AVF2_masterDataOptimal_v3_fullDB20231112045951_Brain_natriuretic_peptide_level_66.zip.\n"
     ]
    },
    {
     "name": "stderr",
     "output_type": "stream",
     "text": [
      "Adding Brain_natriuretic_peptide_level_66 measurements to table: 0it [00:00, ?it/s]"
     ]
    },
    {
     "name": "stdout",
     "output_type": "stream",
     "text": [
      "Index(['PRACTICE_PATIENT_ID', 'INDEX_DATE', 'EXIT_DATE',\n",
      "       'BRAIN_NATRIURETIC_PEPTIDE_LEVEL_66EVENT_DATE',\n",
      "       'BRAIN_NATRIURETIC_PEPTIDE_LEVEL_66Value',\n",
      "       'BRAIN_NATRIURETIC_PEPTIDE_LEVEL_66NumUnit',\n",
      "       'BRAIN_NATRIURETIC_PEPTIDE_LEVEL_66LowRange',\n",
      "       'BRAIN_NATRIURETIC_PEPTIDE_LEVEL_66HighRange'],\n",
      "      dtype='object')\n",
      "Using event_date_col BRAIN_NATRIURETIC_PEPTIDE_LEVEL_66EVENT_DATE, and event_value_col BRAIN_NATRIURETIC_PEPTIDE_LEVEL_66Value\n",
      "[(20413, 1061358820413, 'Brain_natriuretic_peptide_level_66',   20., '2021-06-11')\n",
      " (20413, 1938105220413, 'Brain_natriuretic_peptide_level_66',   nan, '2017-08-18')\n",
      " (20413, 2097482720413, 'Brain_natriuretic_peptide_level_66',   52., '2017-07-21')\n",
      " ...\n",
      " (20142,  890651420142, 'Brain_natriuretic_peptide_level_66',  385., '2020-07-21')\n",
      " (20142,  890671920142, 'Brain_natriuretic_peptide_level_66', 8402., '2013-03-04')\n",
      " (20142,  890702520142, 'Brain_natriuretic_peptide_level_66',  420., '2014-09-29')]\n"
     ]
    },
    {
     "name": "stderr",
     "output_type": "stream",
     "text": [
      "Adding Brain_natriuretic_peptide_level_66 measurements to table: 2it [02:12, 66.17s/it] \n"
     ]
    },
    {
     "name": "stdout",
     "output_type": "stream",
     "text": [
      "Building Plasma_gamma-glutamyl_transferase_level_58 to the measurements/tests table from \n",
      "\t /rds/projects/g/gokhalkm-optimal/OPTIMAL_MASTER_DATASET/data/timeseries/measurement_and_tests/lab_measurements/AVF2_masterDataOptimal_v3_fullDB20231112045951_Plasma_gamma-glutamyl_transferase_level_58.zip.\n"
     ]
    },
    {
     "name": "stderr",
     "output_type": "stream",
     "text": [
      "Adding Plasma_gamma-glutamyl_transferase_level_58 measurements to table: 0it [00:00, ?it/s]"
     ]
    },
    {
     "name": "stdout",
     "output_type": "stream",
     "text": [
      "Index(['PRACTICE_PATIENT_ID', 'INDEX_DATE', 'EXIT_DATE',\n",
      "       'PLASMA_GAMMA-GLUTAMYL_TRANSFERASE_LEVEL_58EVENT_DATE',\n",
      "       'PLASMA_GAMMA-GLUTAMYL_TRANSFERASE_LEVEL_58Value',\n",
      "       'PLASMA_GAMMA-GLUTAMYL_TRANSFERASE_LEVEL_58NumUnit',\n",
      "       'PLASMA_GAMMA-GLUTAMYL_TRANSFERASE_LEVEL_58LowRange',\n",
      "       'PLASMA_GAMMA-GLUTAMYL_TRANSFERASE_LEVEL_58HighRange'],\n",
      "      dtype='object')\n",
      "Using event_date_col PLASMA_GAMMA-GLUTAMYL_TRANSFERASE_LEVEL_58EVENT_DATE, and event_value_col PLASMA_GAMMA-GLUTAMYL_TRANSFERASE_LEVEL_58Value\n",
      "[(20822, 1565177220822, 'Plasma_gamma-glutamyl_transferase_level_58', 32., '2014-08-27')\n",
      " (20822, 1565500920822, 'Plasma_gamma-glutamyl_transferase_level_58', 15., '2006-01-14')\n",
      " (20822, 1565649320822, 'Plasma_gamma-glutamyl_transferase_level_58', 16., '2008-05-01')\n",
      " ...\n",
      " (20724, 1405729420724, 'Plasma_gamma-glutamyl_transferase_level_58', 47., '2008-10-20')\n",
      " (20724, 1405729420724, 'Plasma_gamma-glutamyl_transferase_level_58', 34., '2009-01-27')\n",
      " (20724, 1405729420724, 'Plasma_gamma-glutamyl_transferase_level_58', 39., '2009-06-17')]\n"
     ]
    },
    {
     "name": "stderr",
     "output_type": "stream",
     "text": [
      "Adding Plasma_gamma-glutamyl_transferase_level_58 measurements to table: 9it [02:55, 19.48s/it]\n"
     ]
    },
    {
     "name": "stdout",
     "output_type": "stream",
     "text": [
      "Building 25-Hydroxyvitamin_D2_level_92 to the measurements/tests table from \n",
      "\t /rds/projects/g/gokhalkm-optimal/OPTIMAL_MASTER_DATASET/data/timeseries/measurement_and_tests/lab_measurements/AVF2_masterDataOptimal_v3_fullDB20231112045951_25-Hydroxyvitamin_D2_level_92.zip.\n"
     ]
    },
    {
     "name": "stderr",
     "output_type": "stream",
     "text": [
      "Adding 25-Hydroxyvitamin_D2_level_92 measurements to table: 0it [00:00, ?it/s]"
     ]
    },
    {
     "name": "stdout",
     "output_type": "stream",
     "text": [
      "Index(['PRACTICE_PATIENT_ID', 'INDEX_DATE', 'EXIT_DATE',\n",
      "       '25-HYDROXYVITAMIN_D2_LEVEL_92EVENT_DATE',\n",
      "       '25-HYDROXYVITAMIN_D2_LEVEL_92Value',\n",
      "       '25-HYDROXYVITAMIN_D2_LEVEL_92NumUnit',\n",
      "       '25-HYDROXYVITAMIN_D2_LEVEL_92LowRange',\n",
      "       '25-HYDROXYVITAMIN_D2_LEVEL_92HighRange'],\n",
      "      dtype='object')\n",
      "Using event_date_col 25-HYDROXYVITAMIN_D2_LEVEL_92EVENT_DATE, and event_value_col 25-HYDROXYVITAMIN_D2_LEVEL_92Value\n",
      "[(20822, 1565303020822, '25-Hydroxyvitamin_D2_level_92', 0.8, '2014-06-25')\n",
      " (20822, 1565938720822, '25-Hydroxyvitamin_D2_level_92', 1. , '2016-05-24')\n",
      " (20822, 2927228620822, '25-Hydroxyvitamin_D2_level_92', 5. , '2019-03-05')\n",
      " ...\n",
      " (20203, 1507922920203, '25-Hydroxyvitamin_D2_level_92', 6. , '2015-06-17')\n",
      " (20203, 1507924320203, '25-Hydroxyvitamin_D2_level_92', 6. , '2012-10-08')\n",
      " (20203, 1507925220203, '25-Hydroxyvitamin_D2_level_92', 6. , '2016-04-11')]\n"
     ]
    },
    {
     "name": "stderr",
     "output_type": "stream",
     "text": [
      "Adding 25-Hydroxyvitamin_D2_level_92 measurements to table: 4it [02:05, 31.31s/it]\n"
     ]
    },
    {
     "name": "stdout",
     "output_type": "stream",
     "text": [
      "Building Neutrophil_count_19 to the measurements/tests table from \n",
      "\t /rds/projects/g/gokhalkm-optimal/OPTIMAL_MASTER_DATASET/data/timeseries/measurement_and_tests/lab_measurements/AVF2_masterDataOptimal_v3_fullDB20231112045951_Neutrophil_count_19.zip.\n"
     ]
    },
    {
     "name": "stderr",
     "output_type": "stream",
     "text": [
      "Adding Neutrophil_count_19 measurements to table: 0it [00:00, ?it/s]"
     ]
    },
    {
     "name": "stdout",
     "output_type": "stream",
     "text": [
      "Index(['PRACTICE_PATIENT_ID', 'INDEX_DATE', 'EXIT_DATE',\n",
      "       'NEUTROPHIL_COUNT_19EVENT_DATE', 'NEUTROPHIL_COUNT_19Value',\n",
      "       'NEUTROPHIL_COUNT_19NumUnit', 'NEUTROPHIL_COUNT_19LowRange',\n",
      "       'NEUTROPHIL_COUNT_19HighRange'],\n",
      "      dtype='object')\n",
      "Using event_date_col NEUTROPHIL_COUNT_19EVENT_DATE, and event_value_col NEUTROPHIL_COUNT_19Value\n",
      "[(20822, 1564648920822, 'Neutrophil_count_19', 2.4 , '2005-03-23')\n",
      " (20822, 1564648920822, 'Neutrophil_count_19', 3.87, '2010-12-16')\n",
      " (20822, 1564648920822, 'Neutrophil_count_19', 3.9 , '2011-08-24') ...\n",
      " (21600, 6683414921600, 'Neutrophil_count_19', 4.51, '2021-11-16')\n",
      " (21600, 6683415121600, 'Neutrophil_count_19', 3.25, '2018-09-14')\n",
      " (21600, 6683415121600, 'Neutrophil_count_19', 3.25, '2018-09-14')]\n"
     ]
    },
    {
     "name": "stderr",
     "output_type": "stream",
     "text": [
      "Adding Neutrophil_count_19 measurements to table: 468it [23:10,  2.97s/it]\n"
     ]
    },
    {
     "name": "stdout",
     "output_type": "stream",
     "text": [
      "Building Eosinophil_count_21 to the measurements/tests table from \n",
      "\t /rds/projects/g/gokhalkm-optimal/OPTIMAL_MASTER_DATASET/data/timeseries/measurement_and_tests/lab_measurements/AVF2_masterDataOptimal_v3_fullDB20231112045951_Eosinophil_count_21.zip.\n"
     ]
    },
    {
     "name": "stderr",
     "output_type": "stream",
     "text": [
      "Adding Eosinophil_count_21 measurements to table: 0it [00:00, ?it/s]"
     ]
    },
    {
     "name": "stdout",
     "output_type": "stream",
     "text": [
      "Index(['PRACTICE_PATIENT_ID', 'INDEX_DATE', 'EXIT_DATE',\n",
      "       'EOSINOPHIL_COUNT_21EVENT_DATE', 'EOSINOPHIL_COUNT_21Value',\n",
      "       'EOSINOPHIL_COUNT_21NumUnit', 'EOSINOPHIL_COUNT_21LowRange',\n",
      "       'EOSINOPHIL_COUNT_21HighRange'],\n",
      "      dtype='object')\n",
      "Using event_date_col EOSINOPHIL_COUNT_21EVENT_DATE, and event_value_col EOSINOPHIL_COUNT_21Value\n",
      "[(20822, 1564648920822, 'Eosinophil_count_21', 0.1 , '2005-03-23')\n",
      " (20822, 1564648920822, 'Eosinophil_count_21', 0.12, '2010-12-16')\n",
      " (20822, 1564648920822, 'Eosinophil_count_21', 0.2 , '2011-08-24') ...\n",
      " (21600, 6683474521600, 'Eosinophil_count_21', 0.13, '2005-01-21')\n",
      " (21600, 6683474521600, 'Eosinophil_count_21', 0.13, '2005-01-21')\n",
      " (21600, 6683474521600, 'Eosinophil_count_21', 0.08, '2005-02-21')]\n"
     ]
    },
    {
     "name": "stderr",
     "output_type": "stream",
     "text": [
      "Adding Eosinophil_count_21 measurements to table: 461it [23:33,  3.07s/it]\n"
     ]
    },
    {
     "name": "stdout",
     "output_type": "stream",
     "text": [
      "Building Never_smoked_tobacco_85 to the measurements/tests table from \n",
      "\t /rds/projects/g/gokhalkm-optimal/OPTIMAL_MASTER_DATASET/data/timeseries/measurement_and_tests/lab_measurements/AVF2_masterDataOptimal_v3_fullDB20231112045951_Never_smoked_tobacco_85.zip.\n"
     ]
    },
    {
     "name": "stderr",
     "output_type": "stream",
     "text": [
      "Adding Never_smoked_tobacco_85 measurements to table: 0it [00:00, ?it/s]"
     ]
    },
    {
     "name": "stdout",
     "output_type": "stream",
     "text": [
      "Index(['PRACTICE_PATIENT_ID', 'INDEX_DATE', 'EXIT_DATE',\n",
      "       'NEVER_SMOKED_TOBACCO_85EVENT_DATE', 'NEVER_SMOKED_TOBACCO_85Value',\n",
      "       'NEVER_SMOKED_TOBACCO_85NumUnit', 'NEVER_SMOKED_TOBACCO_85LowRange',\n",
      "       'NEVER_SMOKED_TOBACCO_85HighRange'],\n",
      "      dtype='object')\n",
      "Using event_date_col NEVER_SMOKED_TOBACCO_85EVENT_DATE, and event_value_col NEVER_SMOKED_TOBACCO_85Value\n",
      "[(20822, 1564648720822, 'Never_smoked_tobacco_85', nan, '2010-02-22')\n",
      " (20822, 1564648920822, 'Never_smoked_tobacco_85', nan, '2010-02-17')\n",
      " (20822, 1564649120822, 'Never_smoked_tobacco_85', nan, '2003-07-25') ...\n",
      " (20511, 2351853820511, 'Never_smoked_tobacco_85', nan, '2004-03-04')\n",
      " (20511, 2351853820511, 'Never_smoked_tobacco_85', nan, '2005-03-09')\n",
      " (20511, 2351853920511, 'Never_smoked_tobacco_85', nan, '2005-11-04')]\n"
     ]
    },
    {
     "name": "stderr",
     "output_type": "stream",
     "text": [
      "Adding Never_smoked_tobacco_85 measurements to table: 304it [17:40,  3.49s/it]\n"
     ]
    },
    {
     "name": "stdout",
     "output_type": "stream",
     "text": [
      "Building Mean_corpuscular_volume__MCV__11 to the measurements/tests table from \n",
      "\t /rds/projects/g/gokhalkm-optimal/OPTIMAL_MASTER_DATASET/data/timeseries/measurement_and_tests/lab_measurements/AVF2_masterDataOptimal_v3_fullDB20231112045951_Mean_corpuscular_volume__MCV__11.zip.\n"
     ]
    },
    {
     "name": "stderr",
     "output_type": "stream",
     "text": [
      "Adding Mean_corpuscular_volume__MCV__11 measurements to table: 0it [00:00, ?it/s]"
     ]
    },
    {
     "name": "stdout",
     "output_type": "stream",
     "text": [
      "Index(['PRACTICE_PATIENT_ID', 'INDEX_DATE', 'EXIT_DATE',\n",
      "       'MEAN_CORPUSCULAR_VOLUME_(MCV)_11EVENT_DATE',\n",
      "       'MEAN_CORPUSCULAR_VOLUME_(MCV)_11Value',\n",
      "       'MEAN_CORPUSCULAR_VOLUME_(MCV)_11NumUnit',\n",
      "       'MEAN_CORPUSCULAR_VOLUME_(MCV)_11LowRange',\n",
      "       'MEAN_CORPUSCULAR_VOLUME_(MCV)_11HighRange'],\n",
      "      dtype='object')\n",
      "Using event_date_col MEAN_CORPUSCULAR_VOLUME_(MCV)_11EVENT_DATE, and event_value_col MEAN_CORPUSCULAR_VOLUME_(MCV)_11Value\n",
      "[(20822, 1564648920822, 'Mean_corpuscular_volume__MCV__11', 88.4, '2005-03-23')\n",
      " (20822, 1564648920822, 'Mean_corpuscular_volume__MCV__11', 91.4, '2010-12-16')\n",
      " (20822, 1564648920822, 'Mean_corpuscular_volume__MCV__11', 87.9, '2011-08-24')\n",
      " ...\n",
      " (21600, 6683301221600, 'Mean_corpuscular_volume__MCV__11', 96. , '2011-11-08')\n",
      " (21600, 6683301221600, 'Mean_corpuscular_volume__MCV__11', 96. , '2011-11-08')\n",
      " (21600, 6683301221600, 'Mean_corpuscular_volume__MCV__11', 96.1, '2011-12-20')]\n"
     ]
    },
    {
     "name": "stderr",
     "output_type": "stream",
     "text": [
      "Adding Mean_corpuscular_volume__MCV__11 measurements to table: 474it [24:23,  3.09s/it]\n"
     ]
    },
    {
     "name": "stdout",
     "output_type": "stream",
     "text": [
      "Building Blood_urea_28 to the measurements/tests table from \n",
      "\t /rds/projects/g/gokhalkm-optimal/OPTIMAL_MASTER_DATASET/data/timeseries/measurement_and_tests/lab_measurements/AVF2_masterDataOptimal_v3_fullDB20231112045951_Blood_urea_28.zip.\n"
     ]
    },
    {
     "name": "stderr",
     "output_type": "stream",
     "text": [
      "Adding Blood_urea_28 measurements to table: 0it [00:00, ?it/s]"
     ]
    },
    {
     "name": "stdout",
     "output_type": "stream",
     "text": [
      "Index(['PRACTICE_PATIENT_ID', 'INDEX_DATE', 'EXIT_DATE',\n",
      "       'BLOOD_UREA_28EVENT_DATE', 'BLOOD_UREA_28Value', 'BLOOD_UREA_28NumUnit',\n",
      "       'BLOOD_UREA_28LowRange', 'BLOOD_UREA_28HighRange'],\n",
      "      dtype='object')\n",
      "Using event_date_col BLOOD_UREA_28EVENT_DATE, and event_value_col BLOOD_UREA_28Value\n",
      "[(20822, 1565122420822, 'Blood_urea_28', 4.4, '2002-06-27')\n",
      " (20822, 1565122420822, 'Blood_urea_28', 3.9, '2003-05-01')\n",
      " (20822, 1565376420822, 'Blood_urea_28', 4. , '2013-07-16') ...\n",
      " (20476,  818086420476, 'Blood_urea_28', 4.2, '1999-02-15')\n",
      " (20476,  818086420476, 'Blood_urea_28', 4.4, '2000-02-08')\n",
      " (20476,  818087520476, 'Blood_urea_28', 5.6, '1999-06-09')]\n"
     ]
    },
    {
     "name": "stderr",
     "output_type": "stream",
     "text": [
      "Adding Blood_urea_28 measurements to table: 4it [02:43, 40.81s/it]\n"
     ]
    },
    {
     "name": "stdout",
     "output_type": "stream",
     "text": [
      "Building Mean_corpusc._Hb._conc.__MCHC__14 to the measurements/tests table from \n",
      "\t /rds/projects/g/gokhalkm-optimal/OPTIMAL_MASTER_DATASET/data/timeseries/measurement_and_tests/lab_measurements/AVF2_masterDataOptimal_v3_fullDB20231112045951_Mean_corpusc._Hb._conc.__MCHC__14.zip.\n"
     ]
    },
    {
     "name": "stderr",
     "output_type": "stream",
     "text": [
      "Adding Mean_corpusc._Hb._conc.__MCHC__14 measurements to table: 0it [00:00, ?it/s]"
     ]
    },
    {
     "name": "stdout",
     "output_type": "stream",
     "text": [
      "Index(['PRACTICE_PATIENT_ID', 'INDEX_DATE', 'EXIT_DATE',\n",
      "       'MEAN_CORPUSC._HB._CONC._(MCHC)_14EVENT_DATE',\n",
      "       'MEAN_CORPUSC._HB._CONC._(MCHC)_14Value',\n",
      "       'MEAN_CORPUSC._HB._CONC._(MCHC)_14NumUnit',\n",
      "       'MEAN_CORPUSC._HB._CONC._(MCHC)_14LowRange',\n",
      "       'MEAN_CORPUSC._HB._CONC._(MCHC)_14HighRange'],\n",
      "      dtype='object')\n",
      "Using event_date_col MEAN_CORPUSC._HB._CONC._(MCHC)_14EVENT_DATE, and event_value_col MEAN_CORPUSC._HB._CONC._(MCHC)_14Value\n",
      "[(20822, 1564648920822, 'Mean_corpusc._Hb._conc.__MCHC__14',  33.8, '2005-03-23')\n",
      " (20822, 1564649120822, 'Mean_corpusc._Hb._conc.__MCHC__14',  33.4, '2002-06-19')\n",
      " (20822, 1564649120822, 'Mean_corpusc._Hb._conc.__MCHC__14',  33.9, '2003-01-22')\n",
      " ...\n",
      " (21600, 6685165121600, 'Mean_corpusc._Hb._conc.__MCHC__14', 346. , '2017-06-13')\n",
      " (21600, 6685165621600, 'Mean_corpusc._Hb._conc.__MCHC__14', 338. , '2015-02-13')\n",
      " (21600, 6685165621600, 'Mean_corpusc._Hb._conc.__MCHC__14', 338. , '2015-02-13')]\n"
     ]
    },
    {
     "name": "stderr",
     "output_type": "stream",
     "text": [
      "Adding Mean_corpusc._Hb._conc.__MCHC__14 measurements to table: 355it [20:18,  3.43s/it]\n"
     ]
    },
    {
     "name": "stdout",
     "output_type": "stream",
     "text": [
      "Building Platelet_count_12 to the measurements/tests table from \n",
      "\t /rds/projects/g/gokhalkm-optimal/OPTIMAL_MASTER_DATASET/data/timeseries/measurement_and_tests/lab_measurements/AVF2_masterDataOptimal_v3_fullDB20231112045951_Platelet_count_12.zip.\n"
     ]
    },
    {
     "name": "stderr",
     "output_type": "stream",
     "text": [
      "Adding Platelet_count_12 measurements to table: 0it [00:00, ?it/s]"
     ]
    },
    {
     "name": "stdout",
     "output_type": "stream",
     "text": [
      "Index(['PRACTICE_PATIENT_ID', 'INDEX_DATE', 'EXIT_DATE',\n",
      "       'PLATELET_COUNT_12EVENT_DATE', 'PLATELET_COUNT_12Value',\n",
      "       'PLATELET_COUNT_12NumUnit', 'PLATELET_COUNT_12LowRange',\n",
      "       'PLATELET_COUNT_12HighRange'],\n",
      "      dtype='object')\n",
      "Using event_date_col PLATELET_COUNT_12EVENT_DATE, and event_value_col PLATELET_COUNT_12Value\n",
      "[(20822, 1564648920822, 'Platelet_count_12', 211., '2005-03-23')\n",
      " (20822, 1564648920822, 'Platelet_count_12', 257., '2010-12-16')\n",
      " (20822, 1564648920822, 'Platelet_count_12', 265., '2011-08-24') ...\n",
      " (21600, 6683262921600, 'Platelet_count_12', 257., '2015-03-27')\n",
      " (21600, 6683262921600, 'Platelet_count_12', 257., '2015-03-27')\n",
      " (21600, 6683262921600, 'Platelet_count_12', 221., '2017-08-04')]\n"
     ]
    },
    {
     "name": "stderr",
     "output_type": "stream",
     "text": [
      "Adding Platelet_count_12 measurements to table: 480it [23:44,  2.97s/it]\n"
     ]
    },
    {
     "name": "stdout",
     "output_type": "stream",
     "text": [
      "Building Serum_triglycerides_105 to the measurements/tests table from \n",
      "\t /rds/projects/g/gokhalkm-optimal/OPTIMAL_MASTER_DATASET/data/timeseries/measurement_and_tests/lab_measurements/AVF2_masterDataOptimal_v3_fullDB20231112045951_Serum_triglycerides_105.zip.\n"
     ]
    },
    {
     "name": "stderr",
     "output_type": "stream",
     "text": [
      "Adding Serum_triglycerides_105 measurements to table: 0it [00:00, ?it/s]"
     ]
    },
    {
     "name": "stdout",
     "output_type": "stream",
     "text": [
      "Index(['PRACTICE_PATIENT_ID', 'INDEX_DATE', 'EXIT_DATE',\n",
      "       'SERUM_TRIGLYCERIDES_105EVENT_DATE', 'SERUM_TRIGLYCERIDES_105Value',\n",
      "       'SERUM_TRIGLYCERIDES_105NumUnit', 'SERUM_TRIGLYCERIDES_105LowRange',\n",
      "       'SERUM_TRIGLYCERIDES_105HighRange'],\n",
      "      dtype='object')\n",
      "Using event_date_col SERUM_TRIGLYCERIDES_105EVENT_DATE, and event_value_col SERUM_TRIGLYCERIDES_105Value\n",
      "[(20822, 1564649120822, 'Serum_triglycerides_105', 1.5 , '2006-05-17')\n",
      " (20822, 1564649120822, 'Serum_triglycerides_105', 0.9 , '2007-01-23')\n",
      " (20822, 1564649120822, 'Serum_triglycerides_105', 1.3 , '2008-04-07') ...\n",
      " (20631, 1033023420631, 'Serum_triglycerides_105', 1.83, '2018-11-13')\n",
      " (20631, 1033023420631, 'Serum_triglycerides_105', 0.62, '2021-01-22')\n",
      " (20631, 1033023520631, 'Serum_triglycerides_105', 0.9 , '2004-02-25')]\n"
     ]
    },
    {
     "name": "stderr",
     "output_type": "stream",
     "text": [
      "Adding Serum_triglycerides_105 measurements to table: 213it [12:23,  3.49s/it]\n"
     ]
    },
    {
     "name": "stdout",
     "output_type": "stream",
     "text": [
      "Building Serum_free_T4_level_75 to the measurements/tests table from \n",
      "\t /rds/projects/g/gokhalkm-optimal/OPTIMAL_MASTER_DATASET/data/timeseries/measurement_and_tests/lab_measurements/AVF2_masterDataOptimal_v3_fullDB20231112045951_Serum_free_T4_level_75.zip.\n"
     ]
    },
    {
     "name": "stderr",
     "output_type": "stream",
     "text": [
      "Adding Serum_free_T4_level_75 measurements to table: 0it [00:00, ?it/s]"
     ]
    },
    {
     "name": "stdout",
     "output_type": "stream",
     "text": [
      "Index(['PRACTICE_PATIENT_ID', 'INDEX_DATE', 'EXIT_DATE',\n",
      "       'SERUM_FREE_T4_LEVEL_75EVENT_DATE', 'SERUM_FREE_T4_LEVEL_75Value',\n",
      "       'SERUM_FREE_T4_LEVEL_75NumUnit', 'SERUM_FREE_T4_LEVEL_75LowRange',\n",
      "       'SERUM_FREE_T4_LEVEL_75HighRange'],\n",
      "      dtype='object')\n",
      "Using event_date_col SERUM_FREE_T4_LEVEL_75EVENT_DATE, and event_value_col SERUM_FREE_T4_LEVEL_75Value\n",
      "[(20822, 1564648920822, 'Serum_free_T4_level_75', 11.5, '2010-12-16')\n",
      " (20822, 1564648920822, 'Serum_free_T4_level_75',  9.9, '2011-08-24')\n",
      " (20822, 1564649120822, 'Serum_free_T4_level_75', 12.8, '2006-05-17') ...\n",
      " (20870, 1848330220870, 'Serum_free_T4_level_75', 14.8, '2010-12-09')\n",
      " (20870, 1848330220870, 'Serum_free_T4_level_75', 18. , '2012-02-02')\n",
      " (20870, 1848330220870, 'Serum_free_T4_level_75', 19. , '2013-06-04')]\n"
     ]
    },
    {
     "name": "stderr",
     "output_type": "stream",
     "text": [
      "Adding Serum_free_T4_level_75 measurements to table: 113it [08:06,  4.30s/it]\n"
     ]
    },
    {
     "name": "stdout",
     "output_type": "stream",
     "text": [
      "Building Basophil_count_22 to the measurements/tests table from \n",
      "\t /rds/projects/g/gokhalkm-optimal/OPTIMAL_MASTER_DATASET/data/timeseries/measurement_and_tests/lab_measurements/AVF2_masterDataOptimal_v3_fullDB20231112045951_Basophil_count_22.zip.\n"
     ]
    },
    {
     "name": "stderr",
     "output_type": "stream",
     "text": [
      "Adding Basophil_count_22 measurements to table: 0it [00:00, ?it/s]"
     ]
    },
    {
     "name": "stdout",
     "output_type": "stream",
     "text": [
      "Index(['PRACTICE_PATIENT_ID', 'INDEX_DATE', 'EXIT_DATE',\n",
      "       'BASOPHIL_COUNT_22EVENT_DATE', 'BASOPHIL_COUNT_22Value',\n",
      "       'BASOPHIL_COUNT_22NumUnit', 'BASOPHIL_COUNT_22LowRange',\n",
      "       'BASOPHIL_COUNT_22HighRange'],\n",
      "      dtype='object')\n",
      "Using event_date_col BASOPHIL_COUNT_22EVENT_DATE, and event_value_col BASOPHIL_COUNT_22Value\n",
      "[(20822, 1564648920822, 'Basophil_count_22',  nan, '2005-03-23')\n",
      " (20822, 1564648920822, 'Basophil_count_22', 0.06, '2010-12-16')\n",
      " (20822, 1564648920822, 'Basophil_count_22',  nan, '2011-08-24') ...\n",
      " (21600, 6683595721600, 'Basophil_count_22', 0.09, '2012-12-19')\n",
      " (21600, 6683595721600, 'Basophil_count_22', 0.07, '2013-01-16')\n",
      " (21600, 6683595721600, 'Basophil_count_22', 0.07, '2013-01-16')]\n"
     ]
    },
    {
     "name": "stderr",
     "output_type": "stream",
     "text": [
      "Adding Basophil_count_22 measurements to table: 435it [20:58,  2.89s/it]\n"
     ]
    },
    {
     "name": "stdout",
     "output_type": "stream",
     "text": [
      "Building Serum_vitamin_D_86 to the measurements/tests table from \n",
      "\t /rds/projects/g/gokhalkm-optimal/OPTIMAL_MASTER_DATASET/data/timeseries/measurement_and_tests/lab_measurements/AVF2_masterDataOptimal_v3_fullDB20231112045951_Serum_vitamin_D_86.zip.\n"
     ]
    },
    {
     "name": "stderr",
     "output_type": "stream",
     "text": [
      "Adding Serum_vitamin_D_86 measurements to table: 0it [00:00, ?it/s]"
     ]
    },
    {
     "name": "stdout",
     "output_type": "stream",
     "text": [
      "Index(['PRACTICE_PATIENT_ID', 'INDEX_DATE', 'EXIT_DATE',\n",
      "       'SERUM_VITAMIN_D_86EVENT_DATE', 'SERUM_VITAMIN_D_86Value',\n",
      "       'SERUM_VITAMIN_D_86NumUnit', 'SERUM_VITAMIN_D_86LowRange',\n",
      "       'SERUM_VITAMIN_D_86HighRange'],\n",
      "      dtype='object')\n",
      "Using event_date_col SERUM_VITAMIN_D_86EVENT_DATE, and event_value_col SERUM_VITAMIN_D_86Value\n",
      "[(20822, 1564651020822, 'Serum_vitamin_D_86',  nan, '2011-09-02')\n",
      " (20822, 1564663920822, 'Serum_vitamin_D_86',  nan, '2014-10-09')\n",
      " (20822, 1564664320822, 'Serum_vitamin_D_86',  nan, '2012-01-05') ...\n",
      " (20816, 2709283020816, 'Serum_vitamin_D_86',  87., '2014-09-24')\n",
      " (20816, 2709284520816, 'Serum_vitamin_D_86',  93., '2017-09-20')\n",
      " (20816, 2709286420816, 'Serum_vitamin_D_86', 108., '2015-04-18')]\n"
     ]
    },
    {
     "name": "stderr",
     "output_type": "stream",
     "text": [
      "Adding Serum_vitamin_D_86 measurements to table: 13it [04:09, 19.22s/it]\n"
     ]
    },
    {
     "name": "stdout",
     "output_type": "stream",
     "text": [
      "Building Total_25-hydroxyvitamin_D_level_91 to the measurements/tests table from \n",
      "\t /rds/projects/g/gokhalkm-optimal/OPTIMAL_MASTER_DATASET/data/timeseries/measurement_and_tests/lab_measurements/AVF2_masterDataOptimal_v3_fullDB20231112045951_Total_25-hydroxyvitamin_D_level_91.zip.\n"
     ]
    },
    {
     "name": "stderr",
     "output_type": "stream",
     "text": [
      "Adding Total_25-hydroxyvitamin_D_level_91 measurements to table: 0it [00:00, ?it/s]"
     ]
    },
    {
     "name": "stdout",
     "output_type": "stream",
     "text": [
      "Index(['PRACTICE_PATIENT_ID', 'INDEX_DATE', 'EXIT_DATE',\n",
      "       'TOTAL_25-HYDROXYVITAMIN_D_LEVEL_91EVENT_DATE',\n",
      "       'TOTAL_25-HYDROXYVITAMIN_D_LEVEL_91Value',\n",
      "       'TOTAL_25-HYDROXYVITAMIN_D_LEVEL_91NumUnit',\n",
      "       'TOTAL_25-HYDROXYVITAMIN_D_LEVEL_91LowRange',\n",
      "       'TOTAL_25-HYDROXYVITAMIN_D_LEVEL_91HighRange'],\n",
      "      dtype='object')\n",
      "Using event_date_col TOTAL_25-HYDROXYVITAMIN_D_LEVEL_91EVENT_DATE, and event_value_col TOTAL_25-HYDROXYVITAMIN_D_LEVEL_91Value\n",
      "[(20652, 1081804420652, 'Total_25-hydroxyvitamin_D_level_91', 27.41, '2016-03-15')\n",
      " (20413, 1095451020413, 'Total_25-hydroxyvitamin_D_level_91', 46.  , '2014-03-31')\n",
      " (20413, 1294889020413, 'Total_25-hydroxyvitamin_D_level_91', 25.  , '2017-01-24')\n",
      " ...\n",
      " (20222,  659805120222, 'Total_25-hydroxyvitamin_D_level_91',   nan, '2020-09-07')\n",
      " (20222,  659805120222, 'Total_25-hydroxyvitamin_D_level_91', 42.  , '2021-03-24')\n",
      " (20222,  659805120222, 'Total_25-hydroxyvitamin_D_level_91',   nan, '2021-03-24')]\n"
     ]
    },
    {
     "name": "stderr",
     "output_type": "stream",
     "text": [
      "Adding Total_25-hydroxyvitamin_D_level_91 measurements to table: 2it [01:23, 41.83s/it]\n"
     ]
    },
    {
     "name": "stdout",
     "output_type": "stream",
     "text": [
      "Building Corrected_serum_calcium_level_42 to the measurements/tests table from \n",
      "\t /rds/projects/g/gokhalkm-optimal/OPTIMAL_MASTER_DATASET/data/timeseries/measurement_and_tests/lab_measurements/AVF2_masterDataOptimal_v3_fullDB20231112045951_Corrected_serum_calcium_level_42.zip.\n"
     ]
    },
    {
     "name": "stderr",
     "output_type": "stream",
     "text": [
      "Adding Corrected_serum_calcium_level_42 measurements to table: 0it [00:00, ?it/s]"
     ]
    },
    {
     "name": "stdout",
     "output_type": "stream",
     "text": [
      "Index(['PRACTICE_PATIENT_ID', 'INDEX_DATE', 'EXIT_DATE',\n",
      "       'CORRECTED_SERUM_CALCIUM_LEVEL_42EVENT_DATE',\n",
      "       'CORRECTED_SERUM_CALCIUM_LEVEL_42Value',\n",
      "       'CORRECTED_SERUM_CALCIUM_LEVEL_42NumUnit',\n",
      "       'CORRECTED_SERUM_CALCIUM_LEVEL_42LowRange',\n",
      "       'CORRECTED_SERUM_CALCIUM_LEVEL_42HighRange'],\n",
      "      dtype='object')\n",
      "Using event_date_col CORRECTED_SERUM_CALCIUM_LEVEL_42EVENT_DATE, and event_value_col CORRECTED_SERUM_CALCIUM_LEVEL_42Value\n",
      "[(20822, 1564649120822, 'Corrected_serum_calcium_level_42', 2.43, '2008-04-07')\n",
      " (20822, 1564649120822, 'Corrected_serum_calcium_level_42', 2.43, '2008-04-07')\n",
      " (20822, 1564649120822, 'Corrected_serum_calcium_level_42', 2.46, '2012-07-05')\n",
      " ...\n",
      " (20644, 1144149120644, 'Corrected_serum_calcium_level_42', 2.39, '2003-08-14')\n",
      " (20644, 1144149420644, 'Corrected_serum_calcium_level_42', 2.13, '2011-04-21')\n",
      " (20644, 1144149420644, 'Corrected_serum_calcium_level_42', 2.44, '2013-01-24')]\n"
     ]
    },
    {
     "name": "stderr",
     "output_type": "stream",
     "text": [
      "Adding Corrected_serum_calcium_level_42 measurements to table: 84it [06:10,  4.41s/it]\n"
     ]
    },
    {
     "name": "stdout",
     "output_type": "stream",
     "text": [
      "Building Urine_albumin_creatinine_ratio_35 to the measurements/tests table from \n",
      "\t /rds/projects/g/gokhalkm-optimal/OPTIMAL_MASTER_DATASET/data/timeseries/measurement_and_tests/lab_measurements/AVF2_masterDataOptimal_v3_fullDB20231112045951_Urine_albumin_creatinine_ratio_35.zip.\n"
     ]
    },
    {
     "name": "stderr",
     "output_type": "stream",
     "text": [
      "Adding Urine_albumin_creatinine_ratio_35 measurements to table: 0it [00:00, ?it/s]"
     ]
    },
    {
     "name": "stdout",
     "output_type": "stream",
     "text": [
      "Index(['PRACTICE_PATIENT_ID', 'INDEX_DATE', 'EXIT_DATE',\n",
      "       'URINE_ALBUMIN:CREATININE_RATIO_35EVENT_DATE',\n",
      "       'URINE_ALBUMIN:CREATININE_RATIO_35Value',\n",
      "       'URINE_ALBUMIN:CREATININE_RATIO_35NumUnit',\n",
      "       'URINE_ALBUMIN:CREATININE_RATIO_35LowRange',\n",
      "       'URINE_ALBUMIN:CREATININE_RATIO_35HighRange'],\n",
      "      dtype='object')\n",
      "Using event_date_col URINE_ALBUMIN:CREATININE_RATIO_35EVENT_DATE, and event_value_col URINE_ALBUMIN:CREATININE_RATIO_35Value\n",
      "[(20822, 1564654020822, 'Urine_albumin_creatinine_ratio_35', 0.3, '2009-11-02')\n",
      " (20822, 1564654020822, 'Urine_albumin_creatinine_ratio_35', 1.5, '2011-12-23')\n",
      " (20822, 1564655620822, 'Urine_albumin_creatinine_ratio_35', 0.2, '2010-05-12')\n",
      " ...\n",
      " (20890, 2031525420890, 'Urine_albumin_creatinine_ratio_35', nan, '2021-11-22')\n",
      " (20890, 2031527820890, 'Urine_albumin_creatinine_ratio_35', 0.5, '2009-02-11')\n",
      " (20890, 2031527820890, 'Urine_albumin_creatinine_ratio_35', 0.6, '2009-08-25')]\n"
     ]
    },
    {
     "name": "stderr",
     "output_type": "stream",
     "text": [
      "Adding Urine_albumin_creatinine_ratio_35 measurements to table: 76it [06:44,  5.32s/it]\n"
     ]
    },
    {
     "name": "stdout",
     "output_type": "stream",
     "text": [
      "Building Total_bilirubin_55 to the measurements/tests table from \n",
      "\t /rds/projects/g/gokhalkm-optimal/OPTIMAL_MASTER_DATASET/data/timeseries/measurement_and_tests/lab_measurements/AVF2_masterDataOptimal_v3_fullDB20231112045951_Total_bilirubin_55.zip.\n"
     ]
    },
    {
     "name": "stderr",
     "output_type": "stream",
     "text": [
      "Adding Total_bilirubin_55 measurements to table: 0it [00:00, ?it/s]"
     ]
    },
    {
     "name": "stdout",
     "output_type": "stream",
     "text": [
      "Index(['PRACTICE_PATIENT_ID', 'INDEX_DATE', 'EXIT_DATE',\n",
      "       'TOTAL_BILIRUBIN_55EVENT_DATE', 'TOTAL_BILIRUBIN_55Value',\n",
      "       'TOTAL_BILIRUBIN_55NumUnit', 'TOTAL_BILIRUBIN_55LowRange',\n",
      "       'TOTAL_BILIRUBIN_55HighRange'],\n",
      "      dtype='object')\n",
      "Using event_date_col TOTAL_BILIRUBIN_55EVENT_DATE, and event_value_col TOTAL_BILIRUBIN_55Value\n",
      "[(20822, 1564976520822, 'Total_bilirubin_55', 51., '1999-02-25')\n",
      " (20822, 1564976520822, 'Total_bilirubin_55', 16., '1999-03-19')\n",
      " (20822, 1565086620822, 'Total_bilirubin_55',  7., '2008-01-04') ...\n",
      " (20758, 2523526820758, 'Total_bilirubin_55', 16., '2003-02-25')\n",
      " (20758, 2523528320758, 'Total_bilirubin_55',  6., '2002-07-08')\n",
      " (20758, 2523528320758, 'Total_bilirubin_55',  5., '2003-06-24')]\n"
     ]
    },
    {
     "name": "stderr",
     "output_type": "stream",
     "text": [
      "Adding Total_bilirubin_55 measurements to table: 11it [03:31, 19.27s/it]\n"
     ]
    },
    {
     "name": "stdout",
     "output_type": "stream",
     "text": [
      "Building Plasma_urea_level_30 to the measurements/tests table from \n",
      "\t /rds/projects/g/gokhalkm-optimal/OPTIMAL_MASTER_DATASET/data/timeseries/measurement_and_tests/lab_measurements/AVF2_masterDataOptimal_v3_fullDB20231112045951_Plasma_urea_level_30.zip.\n"
     ]
    },
    {
     "name": "stderr",
     "output_type": "stream",
     "text": [
      "Adding Plasma_urea_level_30 measurements to table: 0it [00:00, ?it/s]"
     ]
    },
    {
     "name": "stdout",
     "output_type": "stream",
     "text": [
      "Index(['PRACTICE_PATIENT_ID', 'INDEX_DATE', 'EXIT_DATE',\n",
      "       'PLASMA_UREA_LEVEL_30EVENT_DATE', 'PLASMA_UREA_LEVEL_30Value',\n",
      "       'PLASMA_UREA_LEVEL_30NumUnit', 'PLASMA_UREA_LEVEL_30LowRange',\n",
      "       'PLASMA_UREA_LEVEL_30HighRange'],\n",
      "      dtype='object')\n",
      "Using event_date_col PLASMA_UREA_LEVEL_30EVENT_DATE, and event_value_col PLASMA_UREA_LEVEL_30Value\n",
      "[(20822, 1564790620822, 'Plasma_urea_level_30', 6. , '2011-03-22')\n",
      " (20822, 1565500920822, 'Plasma_urea_level_30', 3.2, '2006-01-14')\n",
      " (20822, 1565649320822, 'Plasma_urea_level_30', 3.1, '2008-05-01') ...\n",
      " (20566, 2573766120566, 'Plasma_urea_level_30', 2.9, '2004-09-21')\n",
      " (20566, 2573766120566, 'Plasma_urea_level_30', 4.8, '2007-06-12')\n",
      " (20566, 2573766120566, 'Plasma_urea_level_30', 4.2, '2009-11-24')]\n"
     ]
    },
    {
     "name": "stderr",
     "output_type": "stream",
     "text": [
      "Adding Plasma_urea_level_30 measurements to table: 10it [02:21, 14.20s/it]\n"
     ]
    },
    {
     "name": "stdout",
     "output_type": "stream",
     "text": [
      "Building INR_-_international_normalised_ratio_81 to the measurements/tests table from \n",
      "\t /rds/projects/g/gokhalkm-optimal/OPTIMAL_MASTER_DATASET/data/timeseries/measurement_and_tests/lab_measurements/AVF2_masterDataOptimal_v3_fullDB20231112045951_INR_-_international_normalised_ratio_81.zip.\n"
     ]
    },
    {
     "name": "stderr",
     "output_type": "stream",
     "text": [
      "Adding INR_-_international_normalised_ratio_81 measurements to table: 0it [00:00, ?it/s]"
     ]
    },
    {
     "name": "stdout",
     "output_type": "stream",
     "text": [
      "Index(['PRACTICE_PATIENT_ID', 'INDEX_DATE', 'EXIT_DATE',\n",
      "       'INR_-_INTERNATIONAL_NORMALISED_RATIO_81EVENT_DATE',\n",
      "       'INR_-_INTERNATIONAL_NORMALISED_RATIO_81Value',\n",
      "       'INR_-_INTERNATIONAL_NORMALISED_RATIO_81NumUnit',\n",
      "       'INR_-_INTERNATIONAL_NORMALISED_RATIO_81LowRange',\n",
      "       'INR_-_INTERNATIONAL_NORMALISED_RATIO_81HighRange'],\n",
      "      dtype='object')\n",
      "Using event_date_col INR_-_INTERNATIONAL_NORMALISED_RATIO_81EVENT_DATE, and event_value_col INR_-_INTERNATIONAL_NORMALISED_RATIO_81Value\n",
      "[(20822, 1564855620822, 'INR_-_international_normalised_ratio_81', 2.6, '2020-04-09')\n",
      " (20822, 1564995420822, 'INR_-_international_normalised_ratio_81', 3.6, '2020-04-16')\n",
      " (20822, 1565199820822, 'INR_-_international_normalised_ratio_81', 2.3, '2020-04-06')\n",
      " ...\n",
      " (20509, 2093922420509, 'INR_-_international_normalised_ratio_81', 2.1, '2021-12-29')\n",
      " (20509, 2093922420509, 'INR_-_international_normalised_ratio_81', 3.2, '2022-01-06')\n",
      " (20509, 2093922420509, 'INR_-_international_normalised_ratio_81', 2. , '2022-01-19')]\n"
     ]
    },
    {
     "name": "stderr",
     "output_type": "stream",
     "text": [
      "Adding INR_-_international_normalised_ratio_81 measurements to table: 3it [01:37, 32.47s/it]\n"
     ]
    },
    {
     "name": "stdout",
     "output_type": "stream",
     "text": [
      "Building Plasma_N-terminal_pro_B-type_natriuretic_peptide_conc_70 to the measurements/tests table from \n",
      "\t /rds/projects/g/gokhalkm-optimal/OPTIMAL_MASTER_DATASET/data/timeseries/measurement_and_tests/lab_measurements/AVF2_masterDataOptimal_v3_fullDB20231112045951_Plasma_N-terminal_pro_B-type_natriuretic_peptide_conc_70.zip.\n"
     ]
    },
    {
     "name": "stderr",
     "output_type": "stream",
     "text": [
      "Adding Plasma_N-terminal_pro_B-type_natriuretic_peptide_conc_70 measurements to table: 0it [00:00, ?it/s]"
     ]
    },
    {
     "name": "stdout",
     "output_type": "stream",
     "text": [
      "Index(['PRACTICE_PATIENT_ID', 'INDEX_DATE', 'EXIT_DATE',\n",
      "       'PLASMA_N-TERMINAL_PRO_B-TYPE_NATRIURETIC_PEPTIDE_CONC_70EVENT_DATE',\n",
      "       'PLASMA_N-TERMINAL_PRO_B-TYPE_NATRIURETIC_PEPTIDE_CONC_70Value',\n",
      "       'PLASMA_N-TERMINAL_PRO_B-TYPE_NATRIURETIC_PEPTIDE_CONC_70NumUnit',\n",
      "       'PLASMA_N-TERMINAL_PRO_B-TYPE_NATRIURETIC_PEPTIDE_CONC_70LowRange',\n",
      "       'PLASMA_N-TERMINAL_PRO_B-TYPE_NATRIURETIC_PEPTIDE_CONC_70HighRange'],\n",
      "      dtype='object')\n",
      "Using event_date_col PLASMA_N-TERMINAL_PRO_B-TYPE_NATRIURETIC_PEPTIDE_CONC_70EVENT_DATE, and event_value_col PLASMA_N-TERMINAL_PRO_B-TYPE_NATRIURETIC_PEPTIDE_CONC_70Value\n",
      "[(21600, 6681916021600, 'Plasma_N-terminal_pro_B-type_natriuretic_peptide_conc_70',  23., '2015-05-29')\n",
      " (21600, 6681920021600, 'Plasma_N-terminal_pro_B-type_natriuretic_peptide_conc_70',   9., '2011-11-30')\n",
      " (21600, 6681939521600, 'Plasma_N-terminal_pro_B-type_natriuretic_peptide_conc_70',  nan, '2018-09-11')\n",
      " ...\n",
      " (21298, 6174061621298, 'Plasma_N-terminal_pro_B-type_natriuretic_peptide_conc_70',  65., '2022-01-25')\n",
      " (21298, 6723754521298, 'Plasma_N-terminal_pro_B-type_natriuretic_peptide_conc_70',  54., '2022-03-09')\n",
      " (21298, 6895202521298, 'Plasma_N-terminal_pro_B-type_natriuretic_peptide_conc_70', 104., '2022-03-01')]\n"
     ]
    },
    {
     "name": "stderr",
     "output_type": "stream",
     "text": [
      "Adding Plasma_N-terminal_pro_B-type_natriuretic_peptide_conc_70 measurements to table: 1it [00:19, 19.03s/it]\n"
     ]
    },
    {
     "name": "stdout",
     "output_type": "stream",
     "text": [
      "Building Haemoglobin_A1c_level_8 to the measurements/tests table from \n",
      "\t /rds/projects/g/gokhalkm-optimal/OPTIMAL_MASTER_DATASET/data/timeseries/measurement_and_tests/lab_measurements/AVF2_masterDataOptimal_v3_fullDB20231112045951_Haemoglobin_A1c_level_8.zip.\n"
     ]
    },
    {
     "name": "stderr",
     "output_type": "stream",
     "text": [
      "Adding Haemoglobin_A1c_level_8 measurements to table: 0it [00:00, ?it/s]"
     ]
    },
    {
     "name": "stdout",
     "output_type": "stream",
     "text": [
      "Index(['PRACTICE_PATIENT_ID', 'INDEX_DATE', 'EXIT_DATE',\n",
      "       'HAEMOGLOBIN_A1C_LEVEL_8EVENT_DATE', 'HAEMOGLOBIN_A1C_LEVEL_8Value',\n",
      "       'HAEMOGLOBIN_A1C_LEVEL_8NumUnit', 'HAEMOGLOBIN_A1C_LEVEL_8LowRange',\n",
      "       'HAEMOGLOBIN_A1C_LEVEL_8HighRange'],\n",
      "      dtype='object')\n",
      "Using event_date_col HAEMOGLOBIN_A1C_LEVEL_8EVENT_DATE, and event_value_col HAEMOGLOBIN_A1C_LEVEL_8Value\n",
      "[(20822, 1564650120822, 'Haemoglobin_A1c_level_8', 6.7, '2005-01-12')\n",
      " (20822, 1564650120822, 'Haemoglobin_A1c_level_8', 6.7, '2005-08-03')\n",
      " (20822, 1564650120822, 'Haemoglobin_A1c_level_8', 7.1, '2005-11-16') ...\n",
      " (21428, 5904558421428, 'Haemoglobin_A1c_level_8', 5.4, '2015-06-30')\n",
      " (21428, 5904558421428, 'Haemoglobin_A1c_level_8', nan, '2015-06-30')\n",
      " (21428, 5904558421428, 'Haemoglobin_A1c_level_8', 5.7, '2018-11-12')]\n"
     ]
    },
    {
     "name": "stderr",
     "output_type": "stream",
     "text": [
      "Adding Haemoglobin_A1c_level_8 measurements to table: 13it [01:24,  9.12s/it]"
     ]
    }
   ],
   "source": [
    "\n",
    "if False:\n",
    "    # Static covariates \n",
    "    PATH_TO_STATIC = \"/rds/projects/g/gokhalkm-optimal/OPTIMAL_MASTER_DATASET/archive/Version2/baseline/masterDataOptimal_v220230323015634.csv\"\n",
    "    # Diagnoses\n",
    "    PATH_TO_DIAGNOSIS = PATH_TO_STATIC\n",
    "    # Measurements\n",
    "    PATH_TO_MEASUREMENTS = \"/rds/projects/g/gokhalkm-optimal/OPTIMAL_MASTER_DATASET/archive/Version2/timeseries/measurement_and_tests/\"\n",
    "    # Database\n",
    "    PATH_TO_DB = \"/rds/projects/g/gokhalkm-optimal/OPTIMAL_MASTER_DATASET/archive/Version2/cprd.db\"\n",
    "else:\n",
    "    # Static covariates \n",
    "    PATH_TO_STATIC = \"/rds/projects/g/gokhalkm-optimal/OPTIMAL_MASTER_DATASET/data/baseline/masterDataOptimalWithIMD_v3.csv\"\n",
    "    # Diagnoses\n",
    "    PATH_TO_DIAGNOSIS = PATH_TO_STATIC\n",
    "    # Measurements\n",
    "    PATH_TO_MEASUREMENTS = \"/rds/projects/g/gokhalkm-optimal/OPTIMAL_MASTER_DATASET/data/timeseries/measurement_and_tests/lab_measurements/\"\n",
    "    # Database\n",
    "    PATH_TO_DB = \"/rds/projects/g/gokhalkm-optimal/OPTIMAL_MASTER_DATASET/data/cprd.db\"\n",
    "    \n",
    "conn = sqlite3.connect(PATH_TO_DB)\n",
    "# conn = sqlite3.connect(':memory:')              # For debugging\n",
    "\n",
    "build_tables(conn, \n",
    "             path_to_static=PATH_TO_STATIC, \n",
    "             path_to_diagnoses=PATH_TO_DIAGNOSIS,\n",
    "             path_to_measurements=PATH_TO_MEASUREMENTS,\n",
    "             unzip_measuremements=True,\n",
    "             verbose=1) \n",
    "\n",
    "#close the connection\n",
    "conn.close()"
   ]
  },
  {
   "cell_type": "markdown",
   "id": "3981654d-42ac-4566-9cbc-04f1577fe269",
   "metadata": {},
   "source": [
    "## Test everything works by collecting the data"
   ]
  },
  {
   "cell_type": "code",
   "execution_count": 11,
   "id": "7aee35c9-6c90-46a0-9bf5-a3dc43dcf65c",
   "metadata": {},
   "outputs": [
    {
     "name": "stderr",
     "output_type": "stream",
     "text": [
      "INFO:root:Connected to SQLite database\n",
      "INFO:root:Disconnected from SQLite database\n"
     ]
    },
    {
     "name": "stdout",
     "output_type": "stream",
     "text": [
      "['p20358', 'p20534', 'p20229', 'p21185', 'p21259', 'p20145', 'p20753', 'p20328', 'p21612', 'p21266']\n",
      "1491\n"
     ]
    }
   ],
   "source": [
    "from CPRD.data.dataset.collector import SQLiteDataCollector\n",
    "import polars as pl\n",
    "import logging \n",
    "logging.basicConfig(level=logging.INFO)\n",
    "\n",
    "collector = SQLiteDataCollector(PATH_TO_DB)\n",
    "collector.connect()\n",
    "\n",
    "# Get the practice IDs \n",
    "tables = [\"diagnosis_table\"]\n",
    "\n",
    "conditions = None # [\"HEALTH_AUTH = 'North West'\"]\n",
    "practice_ids = collector.extract_practice_ids(tables, \"PRACTICE_PATIENT_ID\", conditions=conditions)\n",
    "print(practice_ids[:10])\n",
    "print(len(practice_ids))\n",
    "\n",
    "collector.disconnect()"
   ]
  },
  {
   "cell_type": "markdown",
   "id": "7f6ab2dd-b312-4ebf-ba5b-6aaccf290911",
   "metadata": {},
   "source": [
    "### Create a generator which chunks the .db tables by practice_id and lazily pre-processes"
   ]
  },
  {
   "cell_type": "code",
   "execution_count": 12,
   "id": "4a4e3060-6b89-4170-b5be-ac324b82d0be",
   "metadata": {},
   "outputs": [
    {
     "name": "stdout",
     "output_type": "stream",
     "text": [
      "p20358\n",
      "<class 'dict'>\n"
     ]
    }
   ],
   "source": [
    "generator = collector._lazy_generate_by_practice_id(practice_ids, [\"static_table\", \"measurement_table\", \"diagnosis_table\"], \"PRACTICE_PATIENT_ID\")\n",
    "for chunk_name, lazy_table_frames_dict in generator:\n",
    "    break\n",
    "\n",
    "print(chunk_name)\n",
    "print(type(lazy_table_frames_dict))\n"
   ]
  },
  {
   "cell_type": "markdown",
   "id": "c1c10947-2d93-4cff-8483-772231d66a67",
   "metadata": {},
   "source": [
    "### Test collation of generated lazy frames"
   ]
  },
  {
   "cell_type": "code",
   "execution_count": 13,
   "id": "d655d2d4-eac7-46fa-93a8-14445ca69bbb",
   "metadata": {},
   "outputs": [],
   "source": [
    "lazy_batch = collector._collate_lazy_tables(**lazy_table_frames_dict)"
   ]
  },
  {
   "cell_type": "markdown",
   "id": "b0982f94-fdcc-4cf9-bb46-854aea12bf68",
   "metadata": {},
   "source": [
    "### Check tables were aligned properly when collated"
   ]
  },
  {
   "cell_type": "code",
   "execution_count": 19,
   "id": "fff015bd-5247-443f-af90-2871635a0283",
   "metadata": {},
   "outputs": [
    {
     "data": {
      "text/plain": [
       "'p20358_1113382320358'"
      ]
     },
     "metadata": {},
     "output_type": "display_data"
    },
    {
     "data": {
      "text/html": [
       "<div><style>\n",
       ".dataframe > thead > tr > th,\n",
       ".dataframe > tbody > tr > td {\n",
       "  text-align: right;\n",
       "}\n",
       "</style>\n",
       "<small>shape: (1, 14)</small><table border=\"1\" class=\"dataframe\"><thead><tr><th>PRACTICE_PATIENT_ID</th><th>VALUE</th><th>EVENT</th><th>DAYS_SINCE_BIRTH</th><th>ETHNICITY</th><th>YEAR_OF_BIRTH</th><th>SEX</th><th>COUNTRY</th><th>HEALTH_AUTH</th><th>INDEX_DATE</th><th>START_DATE</th><th>END_DATE</th><th>PRACTICE_ID</th><th>PATIENT_ID</th></tr><tr><td>str</td><td>list[f64]</td><td>list[str]</td><td>list[i64]</td><td>str</td><td>datetime[μs]</td><td>str</td><td>str</td><td>str</td><td>datetime[μs]</td><td>datetime[μs]</td><td>datetime[μs]</td><td>str</td><td>str</td></tr></thead><tbody><tr><td>&quot;p20358_1113382…</td><td>[null, null, … 5.2]</td><td>[&quot;DEPRESSION&quot;, &quot;ANXIETY&quot;, … &quot;Total_white_cell_count_18&quot;]</td><td>[12215, 12215, … 17866]</td><td>&quot;MISSING&quot;</td><td>1968-07-15 00:00:00</td><td>&quot;M&quot;</td><td>&quot;E&quot;</td><td>&quot;North West&quot;</td><td>2005-01-01 00:00:00</td><td>2005-01-01 00:00:00</td><td>2020-09-17 00:00:00</td><td>&quot;p20358&quot;</td><td>&quot;1113382320358&quot;</td></tr></tbody></table></div>"
      ],
      "text/plain": [
       "shape: (1, 14)\n",
       "┌────────────┬───────────┬───────────┬────────────┬───┬──────────┬──────────┬───────────┬──────────┐\n",
       "│ PRACTICE_P ┆ VALUE     ┆ EVENT     ┆ DAYS_SINCE ┆ … ┆ START_DA ┆ END_DATE ┆ PRACTICE_ ┆ PATIENT_ │\n",
       "│ ATIENT_ID  ┆ ---       ┆ ---       ┆ _BIRTH     ┆   ┆ TE       ┆ ---      ┆ ID        ┆ ID       │\n",
       "│ ---        ┆ list[f64] ┆ list[str] ┆ ---        ┆   ┆ ---      ┆ datetime ┆ ---       ┆ ---      │\n",
       "│ str        ┆           ┆           ┆ list[i64]  ┆   ┆ datetime ┆ [μs]     ┆ str       ┆ str      │\n",
       "│            ┆           ┆           ┆            ┆   ┆ [μs]     ┆          ┆           ┆          │\n",
       "╞════════════╪═══════════╪═══════════╪════════════╪═══╪══════════╪══════════╪═══════════╪══════════╡\n",
       "│ p20358_111 ┆ [null,    ┆ [\"DEPRESS ┆ [12215,    ┆ … ┆ 2005-01- ┆ 2020-09- ┆ p20358    ┆ 11133823 │\n",
       "│ 3382320358 ┆ null, …   ┆ ION\", \"AN ┆ 12215, …   ┆   ┆ 01       ┆ 17       ┆           ┆ 20358    │\n",
       "│            ┆ 5.2]      ┆ XIETY\", … ┆ 17866]     ┆   ┆ 00:00:00 ┆ 00:00:00 ┆           ┆          │\n",
       "│            ┆           ┆ \"Tot…     ┆            ┆   ┆          ┆          ┆           ┆          │\n",
       "└────────────┴───────────┴───────────┴────────────┴───┴──────────┴──────────┴───────────┴──────────┘"
      ]
     },
     "metadata": {},
     "output_type": "display_data"
    },
    {
     "data": {
      "text/html": [
       "<div><style>\n",
       ".dataframe > thead > tr > th,\n",
       ".dataframe > tbody > tr > td {\n",
       "  text-align: right;\n",
       "}\n",
       "</style>\n",
       "<small>shape: (1, 9)</small><table border=\"1\" class=\"dataframe\"><thead><tr><th>PRACTICE_PATIENT_ID</th><th>ETHNICITY</th><th>YEAR_OF_BIRTH</th><th>SEX</th><th>COUNTRY</th><th>HEALTH_AUTH</th><th>INDEX_DATE</th><th>START_DATE</th><th>END_DATE</th></tr><tr><td>str</td><td>str</td><td>str</td><td>str</td><td>str</td><td>str</td><td>str</td><td>str</td><td>str</td></tr></thead><tbody><tr><td>&quot;p20358_1113382…</td><td>&quot;MISSING&quot;</td><td>&quot;1968-07-15&quot;</td><td>&quot;M&quot;</td><td>&quot;E&quot;</td><td>&quot;North West&quot;</td><td>&quot;2005-01-01&quot;</td><td>&quot;2005-01-01&quot;</td><td>&quot;2020-09-17&quot;</td></tr></tbody></table></div>"
      ],
      "text/plain": [
       "shape: (1, 9)\n",
       "┌────────────┬───────────┬────────────┬─────┬───┬───────────┬────────────┬────────────┬────────────┐\n",
       "│ PRACTICE_P ┆ ETHNICITY ┆ YEAR_OF_BI ┆ SEX ┆ … ┆ HEALTH_AU ┆ INDEX_DATE ┆ START_DATE ┆ END_DATE   │\n",
       "│ ATIENT_ID  ┆ ---       ┆ RTH        ┆ --- ┆   ┆ TH        ┆ ---        ┆ ---        ┆ ---        │\n",
       "│ ---        ┆ str       ┆ ---        ┆ str ┆   ┆ ---       ┆ str        ┆ str        ┆ str        │\n",
       "│ str        ┆           ┆ str        ┆     ┆   ┆ str       ┆            ┆            ┆            │\n",
       "╞════════════╪═══════════╪════════════╪═════╪═══╪═══════════╪════════════╪════════════╪════════════╡\n",
       "│ p20358_111 ┆ MISSING   ┆ 1968-07-15 ┆ M   ┆ … ┆ North     ┆ 2005-01-01 ┆ 2005-01-01 ┆ 2020-09-17 │\n",
       "│ 3382320358 ┆           ┆            ┆     ┆   ┆ West      ┆            ┆            ┆            │\n",
       "└────────────┴───────────┴────────────┴─────┴───┴───────────┴────────────┴────────────┴────────────┘"
      ]
     },
     "metadata": {},
     "output_type": "display_data"
    },
    {
     "data": {
      "text/html": [
       "<div><style>\n",
       ".dataframe > thead > tr > th,\n",
       ".dataframe > tbody > tr > td {\n",
       "  text-align: right;\n",
       "}\n",
       "</style>\n",
       "<small>shape: (2, 3)</small><table border=\"1\" class=\"dataframe\"><thead><tr><th>PRACTICE_PATIENT_ID</th><th>EVENT</th><th>DATE</th></tr><tr><td>str</td><td>str</td><td>str</td></tr></thead><tbody><tr><td>&quot;p20358_1113382…</td><td>&quot;DEPRESSION&quot;</td><td>&quot;2001-12-24&quot;</td></tr><tr><td>&quot;p20358_1113382…</td><td>&quot;ANXIETY&quot;</td><td>&quot;2001-12-24&quot;</td></tr></tbody></table></div>"
      ],
      "text/plain": [
       "shape: (2, 3)\n",
       "┌──────────────────────┬────────────┬────────────┐\n",
       "│ PRACTICE_PATIENT_ID  ┆ EVENT      ┆ DATE       │\n",
       "│ ---                  ┆ ---        ┆ ---        │\n",
       "│ str                  ┆ str        ┆ str        │\n",
       "╞══════════════════════╪════════════╪════════════╡\n",
       "│ p20358_1113382320358 ┆ DEPRESSION ┆ 2001-12-24 │\n",
       "│ p20358_1113382320358 ┆ ANXIETY    ┆ 2001-12-24 │\n",
       "└──────────────────────┴────────────┴────────────┘"
      ]
     },
     "metadata": {},
     "output_type": "display_data"
    },
    {
     "data": {
      "text/html": [
       "<div><style>\n",
       ".dataframe > thead > tr > th,\n",
       ".dataframe > tbody > tr > td {\n",
       "  text-align: right;\n",
       "}\n",
       "</style>\n",
       "<small>shape: (120, 4)</small><table border=\"1\" class=\"dataframe\"><thead><tr><th>PRACTICE_PATIENT_ID</th><th>VALUE</th><th>EVENT</th><th>DATE</th></tr><tr><td>str</td><td>f64</td><td>str</td><td>str</td></tr></thead><tbody><tr><td>&quot;p20358_1113382…</td><td>72.0</td><td>&quot;Diastolic_bloo…</td><td>&quot;2010-07-23&quot;</td></tr><tr><td>&quot;p20358_1113382…</td><td>92.0</td><td>&quot;Diastolic_bloo…</td><td>&quot;2015-01-16&quot;</td></tr><tr><td>&quot;p20358_1113382…</td><td>74.0</td><td>&quot;Diastolic_bloo…</td><td>&quot;2015-02-13&quot;</td></tr><tr><td>&quot;p20358_1113382…</td><td>90.0</td><td>&quot;Diastolic_bloo…</td><td>&quot;2017-06-14&quot;</td></tr><tr><td>&quot;p20358_1113382…</td><td>null</td><td>&quot;GFR_calculated…</td><td>&quot;2011-08-04&quot;</td></tr><tr><td>&quot;p20358_1113382…</td><td>83.0</td><td>&quot;GFR_calculated…</td><td>&quot;2014-07-18&quot;</td></tr><tr><td>&quot;p20358_1113382…</td><td>74.0</td><td>&quot;GFR_calculated…</td><td>&quot;2015-02-19&quot;</td></tr><tr><td>&quot;p20358_1113382…</td><td>78.0</td><td>&quot;GFR_calculated…</td><td>&quot;2017-06-14&quot;</td></tr><tr><td>&quot;p20358_1113382…</td><td>5.0</td><td>&quot;Serum_choleste…</td><td>&quot;2011-08-04&quot;</td></tr><tr><td>&quot;p20358_1113382…</td><td>2.3</td><td>&quot;Serum_calcium_…</td><td>&quot;2017-06-14&quot;</td></tr><tr><td>&quot;p20358_1113382…</td><td>28.3</td><td>&quot;Mean_corpusc._…</td><td>&quot;2011-08-04&quot;</td></tr><tr><td>&quot;p20358_1113382…</td><td>28.7</td><td>&quot;Mean_corpusc._…</td><td>&quot;2015-02-19&quot;</td></tr><tr><td>&hellip;</td><td>&hellip;</td><td>&hellip;</td><td>&hellip;</td></tr><tr><td>&quot;p20358_1113382…</td><td>3.97732011e8</td><td>&quot;SmokingStatus_…</td><td>&quot;2013-11-27&quot;</td></tr><tr><td>&quot;p20358_1113382…</td><td>2.18</td><td>&quot;Calcium_adjust…</td><td>&quot;2017-06-14&quot;</td></tr><tr><td>&quot;p20358_1113382…</td><td>93.0</td><td>&quot;Serum_creatini…</td><td>&quot;2011-08-04&quot;</td></tr><tr><td>&quot;p20358_1113382…</td><td>86.0</td><td>&quot;Serum_creatini…</td><td>&quot;2014-07-18&quot;</td></tr><tr><td>&quot;p20358_1113382…</td><td>95.0</td><td>&quot;Serum_creatini…</td><td>&quot;2015-02-19&quot;</td></tr><tr><td>&quot;p20358_1113382…</td><td>90.0</td><td>&quot;Serum_creatini…</td><td>&quot;2017-06-14&quot;</td></tr><tr><td>&quot;p20358_1113382…</td><td>291.0</td><td>&quot;Serum_ferritin…</td><td>&quot;2017-06-14&quot;</td></tr><tr><td>&quot;p20358_1113382…</td><td>1.2</td><td>&quot;Serum_HDL_chol…</td><td>&quot;2011-08-04&quot;</td></tr><tr><td>&quot;p20358_1113382…</td><td>4.3</td><td>&quot;Total_white_ce…</td><td>&quot;2011-08-04&quot;</td></tr><tr><td>&quot;p20358_1113382…</td><td>4.8</td><td>&quot;Total_white_ce…</td><td>&quot;2014-07-18&quot;</td></tr><tr><td>&quot;p20358_1113382…</td><td>6.1</td><td>&quot;Total_white_ce…</td><td>&quot;2015-02-19&quot;</td></tr><tr><td>&quot;p20358_1113382…</td><td>5.2</td><td>&quot;Total_white_ce…</td><td>&quot;2017-06-14&quot;</td></tr></tbody></table></div>"
      ],
      "text/plain": [
       "shape: (120, 4)\n",
       "┌──────────────────────┬───────┬────────────────────────────┬────────────┐\n",
       "│ PRACTICE_PATIENT_ID  ┆ VALUE ┆ EVENT                      ┆ DATE       │\n",
       "│ ---                  ┆ ---   ┆ ---                        ┆ ---        │\n",
       "│ str                  ┆ f64   ┆ str                        ┆ str        │\n",
       "╞══════════════════════╪═══════╪════════════════════════════╪════════════╡\n",
       "│ p20358_1113382320358 ┆ 72.0  ┆ Diastolic_blood_pressure_5 ┆ 2010-07-23 │\n",
       "│ p20358_1113382320358 ┆ 92.0  ┆ Diastolic_blood_pressure_5 ┆ 2015-01-16 │\n",
       "│ p20358_1113382320358 ┆ 74.0  ┆ Diastolic_blood_pressure_5 ┆ 2015-02-13 │\n",
       "│ p20358_1113382320358 ┆ 90.0  ┆ Diastolic_blood_pressure_5 ┆ 2017-06-14 │\n",
       "│ …                    ┆ …     ┆ …                          ┆ …          │\n",
       "│ p20358_1113382320358 ┆ 4.3   ┆ Total_white_cell_count_18  ┆ 2011-08-04 │\n",
       "│ p20358_1113382320358 ┆ 4.8   ┆ Total_white_cell_count_18  ┆ 2014-07-18 │\n",
       "│ p20358_1113382320358 ┆ 6.1   ┆ Total_white_cell_count_18  ┆ 2015-02-19 │\n",
       "│ p20358_1113382320358 ┆ 5.2   ┆ Total_white_cell_count_18  ┆ 2017-06-14 │\n",
       "└──────────────────────┴───────┴────────────────────────────┴────────────┘"
      ]
     },
     "metadata": {},
     "output_type": "display_data"
    },
    {
     "data": {
      "text/html": [
       "<div><style>\n",
       ".dataframe > thead > tr > th,\n",
       ".dataframe > tbody > tr > td {\n",
       "  text-align: right;\n",
       "}\n",
       "</style>\n",
       "<small>shape: (44_878, 4)</small><table border=\"1\" class=\"dataframe\"><thead><tr><th>PRACTICE_PATIENT_ID</th><th>VALUE</th><th>EVENT</th><th>DATE</th></tr><tr><td>str</td><td>f64</td><td>str</td><td>str</td></tr></thead><tbody><tr><td>&quot;p20358_1112372…</td><td>3.97732011e8</td><td>&quot;SmokingStatus_…</td><td>&quot;2004-02-25&quot;</td></tr><tr><td>&quot;p20358_1112373…</td><td>3.97732011e8</td><td>&quot;SmokingStatus_…</td><td>&quot;2014-05-23&quot;</td></tr><tr><td>&quot;p20358_1112373…</td><td>3.97732011e8</td><td>&quot;SmokingStatus_…</td><td>&quot;2015-01-30&quot;</td></tr><tr><td>&quot;p20358_1112373…</td><td>3.97732011e8</td><td>&quot;SmokingStatus_…</td><td>&quot;2015-10-06&quot;</td></tr><tr><td>&quot;p20358_1112373…</td><td>3.97732011e8</td><td>&quot;SmokingStatus_…</td><td>&quot;2015-11-10&quot;</td></tr><tr><td>&quot;p20358_1112373…</td><td>3.97732011e8</td><td>&quot;SmokingStatus_…</td><td>&quot;2016-09-15&quot;</td></tr><tr><td>&quot;p20358_1112373…</td><td>3.97732011e8</td><td>&quot;SmokingStatus_…</td><td>&quot;2016-11-22&quot;</td></tr><tr><td>&quot;p20358_1112373…</td><td>3.97732011e8</td><td>&quot;SmokingStatus_…</td><td>&quot;2017-07-17&quot;</td></tr><tr><td>&quot;p20358_1112373…</td><td>3.97732011e8</td><td>&quot;SmokingStatus_…</td><td>&quot;2018-02-06&quot;</td></tr><tr><td>&quot;p20358_1112373…</td><td>3.97732011e8</td><td>&quot;SmokingStatus_…</td><td>&quot;2018-03-20&quot;</td></tr><tr><td>&quot;p20358_1112373…</td><td>3.97732011e8</td><td>&quot;SmokingStatus_…</td><td>&quot;2018-07-25&quot;</td></tr><tr><td>&quot;p20358_1112373…</td><td>3.97732011e8</td><td>&quot;SmokingStatus_…</td><td>&quot;2019-01-28&quot;</td></tr><tr><td>&hellip;</td><td>&hellip;</td><td>&hellip;</td><td>&hellip;</td></tr><tr><td>&quot;p20358_5377454…</td><td>3.97732011e8</td><td>&quot;SmokingStatus_…</td><td>&quot;2008-09-24&quot;</td></tr><tr><td>&quot;p20358_5377454…</td><td>3.97732011e8</td><td>&quot;SmokingStatus_…</td><td>&quot;2010-04-23&quot;</td></tr><tr><td>&quot;p20358_5377454…</td><td>3.97732011e8</td><td>&quot;SmokingStatus_…</td><td>&quot;2012-05-15&quot;</td></tr><tr><td>&quot;p20358_5377454…</td><td>3.97732011e8</td><td>&quot;SmokingStatus_…</td><td>&quot;2017-10-25&quot;</td></tr><tr><td>&quot;p20358_5377454…</td><td>3.97732011e8</td><td>&quot;SmokingStatus_…</td><td>&quot;2017-11-06&quot;</td></tr><tr><td>&quot;p20358_5377454…</td><td>3.97732011e8</td><td>&quot;SmokingStatus_…</td><td>&quot;2019-09-12&quot;</td></tr><tr><td>&quot;p20358_5377454…</td><td>3.97732011e8</td><td>&quot;SmokingStatus_…</td><td>&quot;2019-09-13&quot;</td></tr><tr><td>&quot;p20358_5400533…</td><td>3.97732011e8</td><td>&quot;SmokingStatus_…</td><td>&quot;2007-06-22&quot;</td></tr><tr><td>&quot;p20358_5400533…</td><td>3.97732011e8</td><td>&quot;SmokingStatus_…</td><td>&quot;2014-08-12&quot;</td></tr><tr><td>&quot;p20358_5400533…</td><td>3.97732011e8</td><td>&quot;SmokingStatus_…</td><td>&quot;2018-11-13&quot;</td></tr><tr><td>&quot;p20358_5400533…</td><td>3.97732011e8</td><td>&quot;SmokingStatus_…</td><td>&quot;2019-09-16&quot;</td></tr><tr><td>&quot;p20358_5400533…</td><td>3.97732011e8</td><td>&quot;SmokingStatus_…</td><td>&quot;2019-11-04&quot;</td></tr></tbody></table></div>"
      ],
      "text/plain": [
       "shape: (44_878, 4)\n",
       "┌──────────────────────┬──────────────┬───────────────────────────┬────────────┐\n",
       "│ PRACTICE_PATIENT_ID  ┆ VALUE        ┆ EVENT                     ┆ DATE       │\n",
       "│ ---                  ┆ ---          ┆ ---                       ┆ ---        │\n",
       "│ str                  ┆ f64          ┆ str                       ┆ str        │\n",
       "╞══════════════════════╪══════════════╪═══════════════════════════╪════════════╡\n",
       "│ p20358_1112372920358 ┆ 3.97732011e8 ┆ SmokingStatus_NeverSmoked ┆ 2004-02-25 │\n",
       "│ p20358_1112373620358 ┆ 3.97732011e8 ┆ SmokingStatus_NeverSmoked ┆ 2014-05-23 │\n",
       "│ p20358_1112373620358 ┆ 3.97732011e8 ┆ SmokingStatus_NeverSmoked ┆ 2015-01-30 │\n",
       "│ p20358_1112373620358 ┆ 3.97732011e8 ┆ SmokingStatus_NeverSmoked ┆ 2015-10-06 │\n",
       "│ …                    ┆ …            ┆ …                         ┆ …          │\n",
       "│ p20358_5400533520358 ┆ 3.97732011e8 ┆ SmokingStatus_NeverSmoked ┆ 2014-08-12 │\n",
       "│ p20358_5400533520358 ┆ 3.97732011e8 ┆ SmokingStatus_NeverSmoked ┆ 2018-11-13 │\n",
       "│ p20358_5400533520358 ┆ 3.97732011e8 ┆ SmokingStatus_NeverSmoked ┆ 2019-09-16 │\n",
       "│ p20358_5400533520358 ┆ 3.97732011e8 ┆ SmokingStatus_NeverSmoked ┆ 2019-11-04 │\n",
       "└──────────────────────┴──────────────┴───────────────────────────┴────────────┘"
      ]
     },
     "metadata": {},
     "output_type": "display_data"
    }
   ],
   "source": [
    "batch = lazy_batch.collect()\n",
    "\n",
    "first_identifier = list(batch[\"PRACTICE_PATIENT_ID\"].unique())[0]\n",
    "display(first_identifier)\n",
    "                        \n",
    "static = lazy_table_frames_dict[\"lazy_static\"].collect()\n",
    "diagno = lazy_table_frames_dict[\"lazy_diagnosis\"].collect()\n",
    "measur = lazy_table_frames_dict[\"lazy_measurement\"].collect()\n",
    "\n",
    "# display(batch)\n",
    "for i_pf, pf in enumerate([batch, static, diagno, measur]):\n",
    "    row = pf.filter(pl.col(\"PRACTICE_PATIENT_ID\") == first_identifier)\n",
    "    display(row)\n",
    "\n",
    "\n",
    "for i_pf, pf in enumerate([measur]):\n",
    "    row = pf.filter(pl.col(\"EVENT\") == \"SmokingStatus_NeverSmoked\")\n",
    "    display(row)"
   ]
  },
  {
   "cell_type": "code",
   "execution_count": 15,
   "id": "aece1ff0-eb68-410a-86f6-d1a40cbf5dec",
   "metadata": {},
   "outputs": [
    {
     "name": "stderr",
     "output_type": "stream",
     "text": [
      "INFO:root:Disconnected from SQLite database\n"
     ]
    }
   ],
   "source": [
    "try:\n",
    "    collector.disconnect()\n",
    "except:\n",
    "    pass"
   ]
  },
  {
   "cell_type": "code",
   "execution_count": 16,
   "id": "7b93b43e-a670-4113-826c-350d500561fc",
   "metadata": {},
   "outputs": [
    {
     "name": "stdout",
     "output_type": "stream",
     "text": [
      "[NbConvertApp] Converting notebook build_all.ipynb to html\n",
      "[NbConvertApp] Writing 751761 bytes to build_all.html\n"
     ]
    }
   ],
   "source": [
    "!jupyter nbconvert --to html --no-input build_all.ipynb"
   ]
  },
  {
   "cell_type": "code",
   "execution_count": null,
   "id": "6e9f9ec8-e833-4590-81c1-e185c18ba3b4",
   "metadata": {},
   "outputs": [],
   "source": []
  }
 ],
 "metadata": {
  "kernelspec": {
   "display_name": "Python",
   "language": "python",
   "name": "sys_python"
  },
  "language_info": {
   "codemirror_mode": {
    "name": "ipython",
    "version": 3
   },
   "file_extension": ".py",
   "mimetype": "text/x-python",
   "name": "python",
   "nbconvert_exporter": "python",
   "pygments_lexer": "ipython3",
   "version": "3.10.4"
  }
 },
 "nbformat": 4,
 "nbformat_minor": 5
}
