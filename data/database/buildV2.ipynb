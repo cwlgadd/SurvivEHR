{
 "cells": [
  {
   "cell_type": "code",
   "execution_count": 1,
   "id": "035f8e72-250d-4ffc-bfea-2403554b68b5",
   "metadata": {},
   "outputs": [
    {
     "name": "stdout",
     "output_type": "stream",
     "text": [
      "Added path '/rds/homes/g/gaddcz/Projects/CPRD/virtual-env-icelake/lib/python3.10/site-packages' at start of search paths.\n",
      "env: SQLITE_TMPDIR=/rds/projects/g/gokhalkm-optimal/DataforCharles\n",
      "env: TMPDIR=/rds/projects/g/gokhalkm-optimal/DataforCharles\n",
      "/rds/projects/g/gokhalkm-optimal/DataforCharles\n",
      "/rds/projects/g/gokhalkm-optimal/DataforCharles\n",
      "\n"
     ]
    }
   ],
   "source": [
    "import os\n",
    "from pathlib import Path\n",
    "import sys\n",
    "node_type = os.getenv('BB_CPU')\n",
    "venv_dir = f'/rds/homes/g/gaddcz/Projects/CPRD/virtual-env-{node_type}'\n",
    "venv_site_pkgs = Path(venv_dir) / 'lib' / f'python{sys.version_info.major}.{sys.version_info.minor}' / 'site-packages'\n",
    "if venv_site_pkgs.exists():\n",
    "    sys.path.insert(0, str(venv_site_pkgs))\n",
    "    print(f\"Added path '{venv_site_pkgs}' at start of search paths.\")\n",
    "else:\n",
    "    print(f\"Path '{venv_site_pkgs}' not found. Check that it exists and/or that it exists for node-type '{node_type}'.\")\n",
    "\n",
    "%load_ext autoreload\n",
    "%autoreload 2\n",
    "\n",
    "%env SQLITE_TMPDIR=/rds/projects/g/gokhalkm-optimal/DataforCharles\n",
    "%env TMPDIR=/rds/projects/g/gokhalkm-optimal/DataforCharles\n",
    "!echo $SQLITE_TMPDIR\n",
    "!echo $TMPDIR\n",
    "!echo $USERPROFILE"
   ]
  },
  {
   "cell_type": "code",
   "execution_count": 2,
   "id": "b4c9bdce-d6af-44ea-a33b-5b448b0e0254",
   "metadata": {},
   "outputs": [
    {
     "name": "stdout",
     "output_type": "stream",
     "text": [
      "Using device: cuda.\n",
      "/rds/homes/g/gaddcz/Projects/CPRD/data/database\n"
     ]
    }
   ],
   "source": [
    "import pytorch_lightning\n",
    "import torch\n",
    "import numpy as np\n",
    "import matplotlib.pyplot as plt\n",
    "import random\n",
    "import sqlite3\n",
    "import logging\n",
    "from CPRD.data.database.build_static_db import Static\n",
    "from CPRD.data.database.build_diagnosis_db import Diagnoses\n",
    "from CPRD.data.database.build_measurements_and_tests_db import Measurements\n",
    "\n",
    "torch.manual_seed(1337)\n",
    "logging.basicConfig(level=logging.INFO)\n",
    "device = 'cuda' if torch.cuda.is_available() else 'cpu'\n",
    "\n",
    "print(f\"Using device: {device}.\")\n",
    "\n",
    "!export TMPDIR=/rds/projects/g/gokhalkm-optimal/DataforCharles/tmp\n",
    "!pwd\n"
   ]
  },
  {
   "cell_type": "code",
   "execution_count": 3,
   "id": "2fd68b7b-b26f-4fe2-8484-7cd8b1b1af95",
   "metadata": {},
   "outputs": [],
   "source": [
    "PATH_TO_DB = \"/rds/projects/g/gokhalkm-optimal/OPTIMAL_MASTER_DATASET/archive/Version2/cprd.db\""
   ]
  },
  {
   "cell_type": "markdown",
   "id": "eaa723e6-97f2-4716-8f1e-7d2fd65a9e98",
   "metadata": {},
   "source": [
    "## Create/load tables"
   ]
  },
  {
   "cell_type": "code",
   "execution_count": 45,
   "id": "e09204e7-348e-42f8-81e1-0673b4f5cd5f",
   "metadata": {},
   "outputs": [],
   "source": [
    "PATH_TO_STATIC = \"/rds/projects/g/gokhalkm-optimal/OPTIMAL_MASTER_DATASET/archive/Version2/baseline/masterDataOptimal_v220230323015634.csv\"\n",
    "PATH_TO_DIAGNOSIS = \"/rds/projects/g/gokhalkm-optimal/OPTIMAL_MASTER_DATASET/archive/Version2/baseline/masterDataOptimal_v220230323015634.csv\"\n",
    "PATH_TO_MEASUREMENTS = \"/rds/projects/g/gokhalkm-optimal/OPTIMAL_MASTER_DATASET/archive/Version2/timeseries/measurement_and_tests/\"\n",
    "load = True\n",
    "\n",
    "static = Static(PATH_TO_DB, PATH_TO_STATIC, load=load)\n",
    "diagnosis = Diagnoses(PATH_TO_DB, PATH_TO_DIAGNOSIS, load=load)\n",
    "measurements = Measurements(PATH_TO_DB, PATH_TO_MEASUREMENTS, load=load)"
   ]
  },
  {
   "cell_type": "markdown",
   "id": "c501f6b2-ca6c-4429-8e84-56f39917f025",
   "metadata": {},
   "source": [
    "## Build tables if not loaded"
   ]
  },
  {
   "cell_type": "code",
   "execution_count": 47,
   "id": "6357d2db-ab48-4db6-88b2-e90e20cda213",
   "metadata": {},
   "outputs": [
    {
     "name": "stdout",
     "output_type": "stream",
     "text": [
      "Static table with 0.55M records.\n",
      "Diagnosis table with 1.19M records.\n",
      "Measurement tables with\n",
      "10102                                  25_Hydroxyvitamin_D2_level_92 records.:\n",
      "10010                                  25_Hydroxyvitamin_D3_level_90 records.:\n",
      "41243                                  AST___aspartate_transam_SGOT__46 records.:\n",
      "165378                                 AST_serum_level_47 records.:\n",
      "6758                                   Albumin___creatinine_ratio_37 records.:\n",
      "1936914                                Basophil_count_22 records.:\n",
      "1079                                   Blood_calcium_level_38 records.:\n",
      "20489                                  Blood_urea_28 records.:\n",
      "2176838                                Body_mass_index_3 records.:\n",
      "1836                                   Brain_natriuretic_peptide_level_66 records.:\n",
      "18661                                  Calcium_adjusted_level_41 records.:\n",
      "159794                                 Calculated_LDL_cholesterol_level_103 records.:\n",
      "13241                                  Combined_total_vitamin_D2_and_D3_level_93 records.:\n",
      "350804                                 Corrected_serum_calcium_level_42 records.:\n",
      "192388                                 Current_smoker_83 records.:\n",
      "5610826                                Diastolic_blood_pressure_5 records.:\n",
      "2060523                                Eosinophil_count_21 records.:\n",
      "658568                                 Erythrocyte_sedimentation_rate_61 records.:\n",
      "622081                                 Ex_smoker_84 records.:\n",
      "35394                                  Free_T4_level_76 records.:\n",
      "1712368                                GFR_calculated_abbreviated_MDRD_34 records.:\n",
      "121361                                 Haematocrit___PCV_16 records.:\n",
      "1541049                                Haematocrit_15 records.:\n",
      "732546                                 Haemoglobin_A1c_level___IFCC_standardised_6 records.:\n",
      "96109                                  Haemoglobin_A1c_level_8 records.:\n",
      "2202398                                Haemoglobin_estimation_9 records.:\n",
      "297120                                 HbA1c_level__DCCT_aligned__7 records.:\n",
      "9021                                   INR___international_normalised_ratio_81 records.:\n",
      "575296                                 International_normalised_ratio_82 records.:\n",
      "2080373                                Lymphocyte_count_20 records.:\n",
      "1272626                                Mean_corpusc_Hb_conc__MCHC__14 records.:\n",
      "1970759                                Mean_corpusc_haemoglobin_MCH__13 records.:\n",
      "2123197                                Mean_corpuscular_volume__MCV__11 records.:\n",
      "2076890                                Monocyte_count_23 records.:\n",
      "673                                    N_terminal_pro_brain_natriuretic_peptide_level_67 records.:\n",
      "2090490                                Neutrophil_count_19 records.:\n",
      "1266658                                Never_smoked_tobacco_85 records.:\n",
      "60638                                  Non_HDL_cholesterol_level_108 records.:\n",
      "1385957                                O_E___height_1 records.:\n",
      "2468235                                O_E___weight_2 records.:\n",
      "1435                                   Plasma_B_natriuretic_peptide_level_69 records.:\n",
      "214780                                 Plasma_C_reactive_protein_60 records.:\n",
      "101969                                 Plasma_HDL_cholesterol_level_101 records.:\n",
      "47291                                  Plasma_LDL_cholesterol_level_104 records.:\n",
      "39                                     Plasma_N_terminal_pro_B_type_natriuretic_peptide_conc_70 records.:\n",
      "64049                                  Plasma_TSH_level_73 records.:\n",
      "155162                                 Plasma_alanine_aminotransferase_level_45 records.:\n",
      "180982                                 Plasma_albumin_level_52 records.:\n",
      "155745                                 Plasma_alkaline_phosphatase_level_49 records.:\n",
      "67621                                  Plasma_calcium_level_40 records.:\n",
      "23878                                  Plasma_cholesterol_HDL_ratio_96 records.:\n",
      "43505                                  Plasma_corrected_calcium_level_43 records.:\n",
      "199382                                 Plasma_creatinine_level_32 records.:\n",
      "5002                                   Plasma_ferritin_level_62 records.:\n",
      "15085                                  Plasma_free_T4_level_77 records.:\n",
      "123332                                 Plasma_gamma_glutamyl_transferase_level_58 records.:\n",
      "193964                                 Plasma_potassium_level_27 records.:\n",
      "2628                                   Plasma_pro_brain_natriuretic_peptide_level_64 records.:\n",
      "194345                                 Plasma_sodium_level_25 records.:\n",
      "151298                                 Plasma_total_bilirubin_level_54 records.:\n",
      "109526                                 Plasma_total_cholesterol_level_99 records.:\n",
      "76153                                  Plasma_triglyceride_level_106 records.:\n",
      "91369                                  Plasma_urea_level_30 records.:\n",
      "2153718                                Platelet_count_12 records.:\n",
      "2083063                                Red_blood_cell__RBC__count_10 records.:\n",
      "1077920                                Red_blood_cell_distribution_width_17 records.:\n",
      "33883                                  Serum_25_Hydroxy_vitamin_D3_level_88 records.:\n",
      "374407                                 Serum_C_reactive_protein_level_59 records.:\n",
      "1076072                                Serum_HDL_cholesterol_level_100 records.:\n",
      "648760                                 Serum_LDL_cholesterol_level_102 records.:\n",
      "9243                                   Serum_N_terminal_pro_B_type_natriuretic_peptide_conc_68 records.:\n",
      "26956                                  Serum_T4_level_78 records.:\n",
      "1168345                                Serum_TSH_level_71 records.:\n",
      "1129542                                Serum_alanine_aminotransferase_level_44 records.:\n",
      "1828822                                Serum_albumin_51 records.:\n",
      "1772058                                Serum_alkaline_phosphatase_50 records.:\n",
      "494921                                 Serum_bilirubin_level_53 records.:\n",
      "680070                                 Serum_calcium_39 records.:\n",
      "1139633                                Serum_cholesterol_97 records.:\n",
      "531929                                 Serum_cholesterol_HDL_ratio_94 records.:\n",
      "2285768                                Serum_creatinine_31 records.:\n",
      "433898                                 Serum_ferritin_63 records.:\n",
      "309263                                 Serum_folate_80 records.:\n",
      "449966                                 Serum_free_T4_level_75 records.:\n",
      "535224                                 Serum_gamma_glutamyl_transferase_level_57 records.:\n",
      "223244                                 Serum_non_high_density_lipoprotein_cholesterol_level_107 records.:\n",
      "2180533                                Serum_potassium_26 records.:\n",
      "5092                                   Serum_pro_brain_natriuretic_peptide_level_65 records.:\n",
      "2219355                                Serum_sodium_24 records.:\n",
      "30979                                  Serum_total_25_hydroxy_vitamin_D_level_87 records.:\n",
      "1261412                                Serum_total_bilirubin_level_56 records.:\n",
      "199418                                 Serum_total_cholesterol_level_98 records.:\n",
      "948736                                 Serum_triglycerides_105 records.:\n",
      "1881258                                Serum_urea_level_29 records.:\n",
      "361201                                 Serum_vitamin_B12_79 records.:\n",
      "6898                                   Serum_vitamin_D2_level_89 records.:\n",
      "48442                                  Serum_vitamin_D_86 records.:\n",
      "5591149                                Systolic_blood_pressure_4 records.:\n",
      "102353                                 TSH___thyroid_stim_hormone_72 records.:\n",
      "15216                                  TSH_level_74 records.:\n",
      "5862                                   Total_25_hydroxyvitamin_D_level_91 records.:\n",
      "116121                                 Total_alkaline_phosphatase_48 records.:\n",
      "44241                                  Total_bilirubin_55 records.:\n",
      "350071                                 Total_cholesterol_HDL_ratio_95 records.:\n",
      "2156773                                Total_white_cell_count_18 records.:\n",
      "313919                                 Urine_albumin_creatinine_ratio_35 records.:\n",
      "5785                                   Urine_microalbumin_creatinine_ratio_36 records.:\n",
      "310164                                 eGFR_using_creatinine__CKD_EPI__per_173_square_metres_33 records.:\n"
     ]
    }
   ],
   "source": [
    "for table in [static, diagnosis, measurements]:\n",
    "    if load == False:\n",
    "        table.build_table(verbose=0, unzip=False, chunksize=1e5)\n",
    "    print(table)"
   ]
  },
  {
   "cell_type": "code",
   "execution_count": 28,
   "id": "ea16b251-6b65-4f41-ba41-018a8b152889",
   "metadata": {
    "scrolled": true
   },
   "outputs": [
    {
     "name": "stdout",
     "output_type": "stream",
     "text": [
      "measurement_eGFR_using_creatinine__CKD_EPI__per_173_square_metres_33 with 0.31M records.\n",
      "['measurement_25_Hydroxyvitamin_D2_level_92', 'measurement_25_Hydroxyvitamin_D3_level_90', 'measurement_AST___aspartate_transam_SGOT__46', 'measurement_AST_serum_level_47', 'measurement_Albumin___creatinine_ratio_37', 'measurement_Basophil_count_22', 'measurement_Blood_calcium_level_38', 'measurement_Blood_urea_28', 'measurement_Body_mass_index_3', 'measurement_Brain_natriuretic_peptide_level_66', 'measurement_Calcium_adjusted_level_41', 'measurement_Calculated_LDL_cholesterol_level_103', 'measurement_Combined_total_vitamin_D2_and_D3_level_93', 'measurement_Corrected_serum_calcium_level_42', 'measurement_Current_smoker_83', 'measurement_Diastolic_blood_pressure_5', 'measurement_Eosinophil_count_21', 'measurement_Erythrocyte_sedimentation_rate_61', 'measurement_Ex_smoker_84', 'measurement_Free_T4_level_76', 'measurement_GFR_calculated_abbreviated_MDRD_34', 'measurement_Haematocrit___PCV_16', 'measurement_Haematocrit_15', 'measurement_Haemoglobin_A1c_level___IFCC_standardised_6', 'measurement_Haemoglobin_A1c_level_8', 'measurement_Haemoglobin_estimation_9', 'measurement_HbA1c_level__DCCT_aligned__7', 'measurement_INR___international_normalised_ratio_81', 'measurement_International_normalised_ratio_82', 'measurement_Lymphocyte_count_20', 'measurement_Mean_corpusc_Hb_conc__MCHC__14', 'measurement_Mean_corpusc_haemoglobin_MCH__13', 'measurement_Mean_corpuscular_volume__MCV__11', 'measurement_Monocyte_count_23', 'measurement_N_terminal_pro_brain_natriuretic_peptide_level_67', 'measurement_Neutrophil_count_19', 'measurement_Never_smoked_tobacco_85', 'measurement_Non_HDL_cholesterol_level_108', 'measurement_O_E___height_1', 'measurement_O_E___weight_2', 'measurement_Plasma_B_natriuretic_peptide_level_69', 'measurement_Plasma_C_reactive_protein_60', 'measurement_Plasma_HDL_cholesterol_level_101', 'measurement_Plasma_LDL_cholesterol_level_104', 'measurement_Plasma_N_terminal_pro_B_type_natriuretic_peptide_conc_70', 'measurement_Plasma_TSH_level_73', 'measurement_Plasma_alanine_aminotransferase_level_45', 'measurement_Plasma_albumin_level_52', 'measurement_Plasma_alkaline_phosphatase_level_49', 'measurement_Plasma_calcium_level_40', 'measurement_Plasma_cholesterol_HDL_ratio_96', 'measurement_Plasma_corrected_calcium_level_43', 'measurement_Plasma_creatinine_level_32', 'measurement_Plasma_ferritin_level_62', 'measurement_Plasma_free_T4_level_77', 'measurement_Plasma_gamma_glutamyl_transferase_level_58', 'measurement_Plasma_potassium_level_27', 'measurement_Plasma_pro_brain_natriuretic_peptide_level_64', 'measurement_Plasma_sodium_level_25', 'measurement_Plasma_total_bilirubin_level_54', 'measurement_Plasma_total_cholesterol_level_99', 'measurement_Plasma_triglyceride_level_106', 'measurement_Plasma_urea_level_30', 'measurement_Platelet_count_12', 'measurement_Red_blood_cell__RBC__count_10', 'measurement_Red_blood_cell_distribution_width_17', 'measurement_Serum_25_Hydroxy_vitamin_D3_level_88', 'measurement_Serum_C_reactive_protein_level_59', 'measurement_Serum_HDL_cholesterol_level_100', 'measurement_Serum_LDL_cholesterol_level_102', 'measurement_Serum_N_terminal_pro_B_type_natriuretic_peptide_conc_68', 'measurement_Serum_T4_level_78', 'measurement_Serum_TSH_level_71', 'measurement_Serum_alanine_aminotransferase_level_44', 'measurement_Serum_albumin_51', 'measurement_Serum_alkaline_phosphatase_50', 'measurement_Serum_bilirubin_level_53', 'measurement_Serum_calcium_39', 'measurement_Serum_cholesterol_97', 'measurement_Serum_cholesterol_HDL_ratio_94', 'measurement_Serum_creatinine_31', 'measurement_Serum_ferritin_63', 'measurement_Serum_folate_80', 'measurement_Serum_free_T4_level_75', 'measurement_Serum_gamma_glutamyl_transferase_level_57', 'measurement_Serum_non_high_density_lipoprotein_cholesterol_level_107', 'measurement_Serum_potassium_26', 'measurement_Serum_pro_brain_natriuretic_peptide_level_65', 'measurement_Serum_sodium_24', 'measurement_Serum_total_25_hydroxy_vitamin_D_level_87', 'measurement_Serum_total_bilirubin_level_56', 'measurement_Serum_total_cholesterol_level_98', 'measurement_Serum_triglycerides_105', 'measurement_Serum_urea_level_29', 'measurement_Serum_vitamin_B12_79', 'measurement_Serum_vitamin_D2_level_89', 'measurement_Serum_vitamin_D_86', 'measurement_Systolic_blood_pressure_4', 'measurement_TSH___thyroid_stim_hormone_72', 'measurement_TSH_level_74', 'measurement_Total_25_hydroxyvitamin_D_level_91', 'measurement_Total_alkaline_phosphatase_48', 'measurement_Total_bilirubin_55', 'measurement_Total_cholesterol_HDL_ratio_95', 'measurement_Total_white_cell_count_18', 'measurement_Urine_albumin_creatinine_ratio_35', 'measurement_Urine_microalbumin_creatinine_ratio_36', 'measurement_eGFR_using_creatinine__CKD_EPI__per_173_square_metres_33']\n"
     ]
    }
   ],
   "source": [
    "print(measurements.measurement_table_names)"
   ]
  },
  {
   "cell_type": "markdown",
   "id": "7d6819bc-cd94-4006-b330-6a6299401145",
   "metadata": {},
   "source": [
    "## Check query execution time"
   ]
  },
  {
   "cell_type": "code",
   "execution_count": 44,
   "id": "16578577-c6fc-477b-ba65-92a3ed40fed4",
   "metadata": {},
   "outputs": [
    {
     "name": "stdout",
     "output_type": "stream",
     "text": [
      "[('p20684_2602314020684', 'Total_25_hydroxyvitamin_D_level_91', 73.7, '2014-05-23')]\n",
      "0.0009548664093017578\n"
     ]
    }
   ],
   "source": [
    "import time\n",
    "\n",
    "measurements.disconnect()\n",
    "\n",
    "measurements.connect()\n",
    "\n",
    "t = time.time()   #  EXPLAIN QUERY PLAN       diagnosis_table            measurement_table        static_table\n",
    "# measurements.cursor.execute(\"\"\" SELECT DISTINCT\n",
    "#                                 \tPRACTICE_PATIENT_ID\n",
    "#                                 FROM\n",
    "#                                 \tstatic_table\n",
    "#                                  ;\"\"\")\n",
    "\n",
    "measurements.cursor.execute(\"\"\" SELECT\n",
    "                                \t*\n",
    "                                FROM\n",
    "                                \tmeasurement_Total_25_hydroxyvitamin_D_level_91\n",
    "                                WHERE\n",
    "                                    PRACTICE_PATIENT_ID = 'p20684_2602314020684' \"\"\")\n",
    "a = measurements.cursor.fetchall()\n",
    "# print(a[:10])\n",
    "print(a)\n",
    "eval_time = (time.time() - t)\n",
    "print(eval_time )"
   ]
  },
  {
   "cell_type": "markdown",
   "id": "3981654d-42ac-4566-9cbc-04f1577fe269",
   "metadata": {},
   "source": [
    "# Collector demo\n",
    "\n",
    "We can extract unique distinct column values from any table, and use these to chunk the data for processing\n",
    "\n",
    "* We can add practice level conditions here,\n",
    "    * e.g. practices that are in the North West region. "
   ]
  },
  {
   "cell_type": "code",
   "execution_count": 37,
   "id": "7aee35c9-6c90-46a0-9bf5-a3dc43dcf65c",
   "metadata": {},
   "outputs": [
    {
     "name": "stdout",
     "output_type": "stream",
     "text": [
      "The first ten unique practice IDs: [20515, 20551, 20713, 20524, 20397, 20684, 20655, 20530, 20659, 20758] from 13 total\n"
     ]
    }
   ],
   "source": [
    "from CPRD.data.dataset.collector import SQLiteDataCollector\n",
    "import polars as pl\n",
    "import logging \n",
    "logging.basicConfig(level=logging.INFO)\n",
    "\n",
    "collector = SQLiteDataCollector(PATH_TO_DB)\n",
    "collector.connect()\n",
    "\n",
    "practice_ids = collector._extract_distinct([\"static_table\"], \"PRACTICE_ID\", conditions=[\"HEALTH_AUTH = 'North West'\"])\n",
    "\n",
    "print(f\"The first ten unique practice IDs: {practice_ids[:10]} from {len(practice_ids)} total\")"
   ]
  },
  {
   "cell_type": "markdown",
   "id": "252b3e25-3ebb-43ea-a54e-53cf34e289da",
   "metadata": {},
   "source": [
    "## Given these practice IDs, we can chain this query to get the pratice patient ID's in a practice\n",
    "\n",
    "* We do this as only the static table has all practice_patient_id, patient_id, and practice_id stored and indexed.\n",
    "    * This means we can very quickly find the keys needed to index on the other tables which only have practice_patient_id indexed.\n",
    "* We can add patient level conditions here\n",
    "    * For example, only male, people who died during a period, etc"
   ]
  },
  {
   "cell_type": "code",
   "execution_count": 38,
   "id": "7a4cf6c8-fddd-4941-8271-00312577a975",
   "metadata": {},
   "outputs": [
    {
     "name": "stdout",
     "output_type": "stream",
     "text": [
      "\n",
      "The first five unique practice_patient IDs from practice 20515:\n",
      "\t['p20515_297130520515', 'p20515_297797520515', 'p20515_297482620515', 'p20515_297741420515', 'p20515_297158120515'] from 3352 total\n",
      "\n",
      "Total male patients in each practice:\n",
      "\t [3352, 11147, 3346, 6035, 6019, 2332, 11073, 7837, 2112, 8992, 9742, 7067, 7739]\n"
     ]
    }
   ],
   "source": [
    "practice_patient_ids = []\n",
    "for p_id in practice_ids:\n",
    "    practice_patient_ids.append(collector._extract_distinct([\"static_table\"], \"PRACTICE_PATIENT_ID\", conditions=[f\"PRACTICE_ID = '{p_id}' AND SEX = 'M'\"]))\n",
    "                                \n",
    "print(f\"\\nThe first five unique practice_patient IDs from practice {practice_ids[0]}:\\n\\t{practice_patient_ids[0][:5]} from {len(practice_patient_ids[0])} total\")\n",
    "print(f\"\\nTotal male patients in each practice:\\n\\t {[len(ppid) for ppid in practice_patient_ids]}\")"
   ]
  },
  {
   "cell_type": "markdown",
   "id": "7f6ab2dd-b312-4ebf-ba5b-6aaccf290911",
   "metadata": {},
   "source": [
    "### Create a generator which chunks the .db tables by practice_id or practice_patient_id and lazily batch using Polars (Rust)\n",
    "\n",
    "* We can also choose to pass this method a list of conditions, one for each table.\n",
    "   * For example, we may only want to collect measurements within some predfined list, period etc"
   ]
  },
  {
   "cell_type": "markdown",
   "id": "93371030-a4d0-4988-94f9-9f3fd70a0941",
   "metadata": {},
   "source": [
    "In the first case, we may want to generate by individual level values. \n",
    "\n",
    "Here, we then pass in the list we generate over - which in this instance is the list of practice patient ID's belonging to the first chunk. Here we are then yielding one person per call to the generator."
   ]
  },
  {
   "cell_type": "code",
   "execution_count": 39,
   "id": "4a4e3060-6b89-4170-b5be-ac324b82d0be",
   "metadata": {
    "scrolled": true
   },
   "outputs": [
    {
     "data": {
      "text/html": [
       "<pre style=\"white-space:pre;overflow-x:auto;line-height:normal;font-family:Menlo,'DejaVu Sans Mono',consolas,'Courier New',monospace\"><span style=\"color: #800000; text-decoration-color: #800000\">╭─────────────────────────────── </span><span style=\"color: #800000; text-decoration-color: #800000; font-weight: bold\">Traceback </span><span style=\"color: #bf7f7f; text-decoration-color: #bf7f7f; font-weight: bold\">(most recent call last)</span><span style=\"color: #800000; text-decoration-color: #800000\"> ────────────────────────────────╮</span>\n",
       "<span style=\"color: #800000; text-decoration-color: #800000\">│</span> <span style=\"color: #bfbf7f; text-decoration-color: #bfbf7f\">/tmp/ipykernel_1143080/</span><span style=\"color: #808000; text-decoration-color: #808000; font-weight: bold\">3698694167.py</span>:<span style=\"color: #0000ff; text-decoration-color: #0000ff\">2</span> in <span style=\"color: #00ff00; text-decoration-color: #00ff00\">&lt;module&gt;</span>                                               <span style=\"color: #800000; text-decoration-color: #800000\">│</span>\n",
       "<span style=\"color: #800000; text-decoration-color: #800000\">│</span>                                                                                                  <span style=\"color: #800000; text-decoration-color: #800000\">│</span>\n",
       "<span style=\"color: #800000; text-decoration-color: #800000\">│</span> <span style=\"color: #800000; text-decoration-color: #800000; font-style: italic\">[Errno 2] No such file or directory: '/tmp/ipykernel_1143080/3698694167.py'</span>                      <span style=\"color: #800000; text-decoration-color: #800000\">│</span>\n",
       "<span style=\"color: #800000; text-decoration-color: #800000\">│</span>                                                                                                  <span style=\"color: #800000; text-decoration-color: #800000\">│</span>\n",
       "<span style=\"color: #800000; text-decoration-color: #800000\">│</span> <span style=\"color: #bfbf7f; text-decoration-color: #bfbf7f\">/rds/homes/g/gaddcz/Projects/CPRD/data/dataset/</span><span style=\"color: #808000; text-decoration-color: #808000; font-weight: bold\">collector.py</span>:<span style=\"color: #0000ff; text-decoration-color: #0000ff\">117</span> in <span style=\"color: #00ff00; text-decoration-color: #00ff00\">_lazy_generate_by_distinct</span>    <span style=\"color: #800000; text-decoration-color: #800000\">│</span>\n",
       "<span style=\"color: #800000; text-decoration-color: #800000\">│</span>                                                                                                  <span style=\"color: #800000; text-decoration-color: #800000\">│</span>\n",
       "<span style=\"color: #800000; text-decoration-color: #800000\">│</span>   <span style=\"color: #7f7f7f; text-decoration-color: #7f7f7f\">114 │   │   │   │   │   │   </span>query += <span style=\"color: #808000; text-decoration-color: #808000\">f\" WHERE {</span>conditions[idx_table]<span style=\"color: #808000; text-decoration-color: #808000\">}\"</span>                         <span style=\"color: #800000; text-decoration-color: #800000\">│</span>\n",
       "<span style=\"color: #800000; text-decoration-color: #800000\">│</span>   <span style=\"color: #7f7f7f; text-decoration-color: #7f7f7f\">115 │   │   │   │   </span>                                                                           <span style=\"color: #800000; text-decoration-color: #800000\">│</span>\n",
       "<span style=\"color: #800000; text-decoration-color: #800000\">│</span>   <span style=\"color: #7f7f7f; text-decoration-color: #7f7f7f\">116 │   │   │   │   </span>logging.debug(<span style=\"color: #808000; text-decoration-color: #808000\">f\"Query: {</span>query[:<span style=\"color: #0000ff; text-decoration-color: #0000ff\">100</span>] <span style=\"color: #0000ff; text-decoration-color: #0000ff\">if</span> <span style=\"color: #00ffff; text-decoration-color: #00ffff\">len</span>(query) &gt; <span style=\"color: #0000ff; text-decoration-color: #0000ff\">100</span> <span style=\"color: #0000ff; text-decoration-color: #0000ff\">else</span> query<span style=\"color: #808000; text-decoration-color: #808000\">}\"</span>)      <span style=\"color: #800000; text-decoration-color: #800000\">│</span>\n",
       "<span style=\"color: #800000; text-decoration-color: #800000\">│</span> <span style=\"color: #800000; text-decoration-color: #800000\">❱ </span>117 <span style=\"color: #7f7f7f; text-decoration-color: #7f7f7f\">│   │   │   │   </span>rows_by_table[<span style=\"color: #808000; text-decoration-color: #808000\">\"lazy_\"</span> + table.split(<span style=\"color: #808000; text-decoration-color: #808000\">\"_\"</span>)[<span style=\"color: #0000ff; text-decoration-color: #0000ff\">0</span>]] = pl.read_database(query=qu   <span style=\"color: #800000; text-decoration-color: #800000\">│</span>\n",
       "<span style=\"color: #800000; text-decoration-color: #800000\">│</span>   <span style=\"color: #7f7f7f; text-decoration-color: #7f7f7f\">118 │   │   │   </span>                                                                               <span style=\"color: #800000; text-decoration-color: #800000\">│</span>\n",
       "<span style=\"color: #800000; text-decoration-color: #800000\">│</span>   <span style=\"color: #7f7f7f; text-decoration-color: #7f7f7f\">119 │   │   │   # Yield the fetched rows as a chunk</span>                                            <span style=\"color: #800000; text-decoration-color: #800000\">│</span>\n",
       "<span style=\"color: #800000; text-decoration-color: #800000\">│</span>   <span style=\"color: #7f7f7f; text-decoration-color: #7f7f7f\">120 │   │   │   </span><span style=\"color: #0000ff; text-decoration-color: #0000ff\">yield</span> distinct_value, rows_by_table                                            <span style=\"color: #800000; text-decoration-color: #800000\">│</span>\n",
       "<span style=\"color: #800000; text-decoration-color: #800000\">│</span>                                                                                                  <span style=\"color: #800000; text-decoration-color: #800000\">│</span>\n",
       "<span style=\"color: #800000; text-decoration-color: #800000\">│</span> <span style=\"color: #bfbf7f; text-decoration-color: #bfbf7f\">/rds/bear-apps/2022a/EL8-ice/software/polars/0.17.12-foss-2022a/lib/python3.10/site-packages/pol</span> <span style=\"color: #800000; text-decoration-color: #800000\">│</span>\n",
       "<span style=\"color: #800000; text-decoration-color: #800000\">│</span> <span style=\"color: #bfbf7f; text-decoration-color: #bfbf7f\">ars/io/</span><span style=\"color: #808000; text-decoration-color: #808000; font-weight: bold\">database.py</span>:<span style=\"color: #0000ff; text-decoration-color: #0000ff\">95</span> in <span style=\"color: #00ff00; text-decoration-color: #00ff00\">read_database</span>                                                           <span style=\"color: #800000; text-decoration-color: #800000\">│</span>\n",
       "<span style=\"color: #800000; text-decoration-color: #800000\">│</span>                                                                                                  <span style=\"color: #800000; text-decoration-color: #800000\">│</span>\n",
       "<span style=\"color: #800000; text-decoration-color: #800000\">│</span>   <span style=\"color: #7f7f7f; text-decoration-color: #7f7f7f\"> 92 │   </span>                                                                                       <span style=\"color: #800000; text-decoration-color: #800000\">│</span>\n",
       "<span style=\"color: #800000; text-decoration-color: #800000\">│</span>   <span style=\"color: #7f7f7f; text-decoration-color: #7f7f7f\"> 93 </span><span style=\"color: #bfbf7f; text-decoration-color: #bfbf7f\">│   </span><span style=\"color: #808000; text-decoration-color: #808000\">\"\"\"</span>                                                                                    <span style=\"color: #800000; text-decoration-color: #800000\">│</span>\n",
       "<span style=\"color: #800000; text-decoration-color: #800000\">│</span>   <span style=\"color: #7f7f7f; text-decoration-color: #7f7f7f\"> 94 │   </span><span style=\"color: #0000ff; text-decoration-color: #0000ff\">if</span> engine == <span style=\"color: #808000; text-decoration-color: #808000\">\"connectorx\"</span>:                                                             <span style=\"color: #800000; text-decoration-color: #800000\">│</span>\n",
       "<span style=\"color: #800000; text-decoration-color: #800000\">│</span> <span style=\"color: #800000; text-decoration-color: #800000\">❱ </span> 95 <span style=\"color: #7f7f7f; text-decoration-color: #7f7f7f\">│   │   </span><span style=\"color: #0000ff; text-decoration-color: #0000ff\">return</span> _read_sql_connectorx(                                                       <span style=\"color: #800000; text-decoration-color: #800000\">│</span>\n",
       "<span style=\"color: #800000; text-decoration-color: #800000\">│</span>   <span style=\"color: #7f7f7f; text-decoration-color: #7f7f7f\"> 96 │   │   │   </span>query,                                                                         <span style=\"color: #800000; text-decoration-color: #800000\">│</span>\n",
       "<span style=\"color: #800000; text-decoration-color: #800000\">│</span>   <span style=\"color: #7f7f7f; text-decoration-color: #7f7f7f\"> 97 │   │   │   </span>connection_uri,                                                                <span style=\"color: #800000; text-decoration-color: #800000\">│</span>\n",
       "<span style=\"color: #800000; text-decoration-color: #800000\">│</span>   <span style=\"color: #7f7f7f; text-decoration-color: #7f7f7f\"> 98 │   │   │   </span>partition_on=partition_on,                                                     <span style=\"color: #800000; text-decoration-color: #800000\">│</span>\n",
       "<span style=\"color: #800000; text-decoration-color: #800000\">│</span>                                                                                                  <span style=\"color: #800000; text-decoration-color: #800000\">│</span>\n",
       "<span style=\"color: #800000; text-decoration-color: #800000\">│</span> <span style=\"color: #bfbf7f; text-decoration-color: #bfbf7f\">/rds/bear-apps/2022a/EL8-ice/software/polars/0.17.12-foss-2022a/lib/python3.10/site-packages/pol</span> <span style=\"color: #800000; text-decoration-color: #800000\">│</span>\n",
       "<span style=\"color: #800000; text-decoration-color: #800000\">│</span> <span style=\"color: #bfbf7f; text-decoration-color: #bfbf7f\">ars/io/</span><span style=\"color: #808000; text-decoration-color: #808000; font-weight: bold\">database.py</span>:<span style=\"color: #0000ff; text-decoration-color: #0000ff\">222</span> in <span style=\"color: #00ff00; text-decoration-color: #00ff00\">_read_sql_connectorx</span>                                                   <span style=\"color: #800000; text-decoration-color: #800000\">│</span>\n",
       "<span style=\"color: #800000; text-decoration-color: #800000\">│</span>                                                                                                  <span style=\"color: #800000; text-decoration-color: #800000\">│</span>\n",
       "<span style=\"color: #800000; text-decoration-color: #800000\">│</span>   <span style=\"color: #7f7f7f; text-decoration-color: #7f7f7f\">219 │   │   │   </span><span style=\"color: #808000; text-decoration-color: #808000\">\"connectorx is not installed. Please run `pip install connectorx&gt;=0.3.1`.\"</span>     <span style=\"color: #800000; text-decoration-color: #800000\">│</span>\n",
       "<span style=\"color: #800000; text-decoration-color: #800000\">│</span>   <span style=\"color: #7f7f7f; text-decoration-color: #7f7f7f\">220 │   │   </span>) <span style=\"color: #0000ff; text-decoration-color: #0000ff\">from</span> <span style=\"color: #00ffff; text-decoration-color: #00ffff\">None</span>                                                                        <span style=\"color: #800000; text-decoration-color: #800000\">│</span>\n",
       "<span style=\"color: #800000; text-decoration-color: #800000\">│</span>   <span style=\"color: #7f7f7f; text-decoration-color: #7f7f7f\">221 │   </span>                                                                                       <span style=\"color: #800000; text-decoration-color: #800000\">│</span>\n",
       "<span style=\"color: #800000; text-decoration-color: #800000\">│</span> <span style=\"color: #800000; text-decoration-color: #800000\">❱ </span>222 <span style=\"color: #7f7f7f; text-decoration-color: #7f7f7f\">│   </span>tbl = cx.read_sql(                                                                     <span style=\"color: #800000; text-decoration-color: #800000\">│</span>\n",
       "<span style=\"color: #800000; text-decoration-color: #800000\">│</span>   <span style=\"color: #7f7f7f; text-decoration-color: #7f7f7f\">223 │   │   </span>conn=connection_uri,                                                               <span style=\"color: #800000; text-decoration-color: #800000\">│</span>\n",
       "<span style=\"color: #800000; text-decoration-color: #800000\">│</span>   <span style=\"color: #7f7f7f; text-decoration-color: #7f7f7f\">224 │   │   </span>query=query,                                                                       <span style=\"color: #800000; text-decoration-color: #800000\">│</span>\n",
       "<span style=\"color: #800000; text-decoration-color: #800000\">│</span>   <span style=\"color: #7f7f7f; text-decoration-color: #7f7f7f\">225 │   │   </span>return_type=<span style=\"color: #808000; text-decoration-color: #808000\">\"arrow2\"</span>,                                                              <span style=\"color: #800000; text-decoration-color: #800000\">│</span>\n",
       "<span style=\"color: #800000; text-decoration-color: #800000\">│</span>                                                                                                  <span style=\"color: #800000; text-decoration-color: #800000\">│</span>\n",
       "<span style=\"color: #800000; text-decoration-color: #800000\">│</span> <span style=\"color: #bfbf7f; text-decoration-color: #bfbf7f\">/rds/bear-apps/2022a/EL8-ice/software/polars/0.17.12-foss-2022a/lib/python3.10/site-packages/con</span> <span style=\"color: #800000; text-decoration-color: #800000\">│</span>\n",
       "<span style=\"color: #800000; text-decoration-color: #800000\">│</span> <span style=\"color: #bfbf7f; text-decoration-color: #bfbf7f\">nectorx/</span><span style=\"color: #808000; text-decoration-color: #808000; font-weight: bold\">__init__.py</span>:<span style=\"color: #0000ff; text-decoration-color: #0000ff\">257</span> in <span style=\"color: #00ff00; text-decoration-color: #00ff00\">read_sql</span>                                                              <span style=\"color: #800000; text-decoration-color: #800000\">│</span>\n",
       "<span style=\"color: #800000; text-decoration-color: #800000\">│</span>                                                                                                  <span style=\"color: #800000; text-decoration-color: #800000\">│</span>\n",
       "<span style=\"color: #800000; text-decoration-color: #800000\">│</span>   <span style=\"color: #7f7f7f; text-decoration-color: #7f7f7f\">254 │   │   </span><span style=\"color: #0000ff; text-decoration-color: #0000ff\">except</span> <span style=\"color: #00ffff; text-decoration-color: #00ffff\">ModuleNotFoundError</span>:                                                        <span style=\"color: #800000; text-decoration-color: #800000\">│</span>\n",
       "<span style=\"color: #800000; text-decoration-color: #800000\">│</span>   <span style=\"color: #7f7f7f; text-decoration-color: #7f7f7f\">255 │   │   │   </span><span style=\"color: #0000ff; text-decoration-color: #0000ff\">raise</span> <span style=\"color: #00ffff; text-decoration-color: #00ffff\">ValueError</span>(<span style=\"color: #808000; text-decoration-color: #808000\">\"You need to install pyarrow first\"</span>)                          <span style=\"color: #800000; text-decoration-color: #800000\">│</span>\n",
       "<span style=\"color: #800000; text-decoration-color: #800000\">│</span>   <span style=\"color: #7f7f7f; text-decoration-color: #7f7f7f\">256 │   │   </span>                                                                                   <span style=\"color: #800000; text-decoration-color: #800000\">│</span>\n",
       "<span style=\"color: #800000; text-decoration-color: #800000\">│</span> <span style=\"color: #800000; text-decoration-color: #800000\">❱ </span>257 <span style=\"color: #7f7f7f; text-decoration-color: #7f7f7f\">│   │   </span>result = _read_sql(                                                                <span style=\"color: #800000; text-decoration-color: #800000\">│</span>\n",
       "<span style=\"color: #800000; text-decoration-color: #800000\">│</span>   <span style=\"color: #7f7f7f; text-decoration-color: #7f7f7f\">258 │   │   │   </span>conn,                                                                          <span style=\"color: #800000; text-decoration-color: #800000\">│</span>\n",
       "<span style=\"color: #800000; text-decoration-color: #800000\">│</span>   <span style=\"color: #7f7f7f; text-decoration-color: #7f7f7f\">259 │   │   │   </span><span style=\"color: #808000; text-decoration-color: #808000\">\"arrow\"</span> <span style=\"color: #0000ff; text-decoration-color: #0000ff\">if</span> return_type <span style=\"color: #ff00ff; text-decoration-color: #ff00ff\">in</span> {<span style=\"color: #808000; text-decoration-color: #808000\">\"arrow\"</span>, <span style=\"color: #808000; text-decoration-color: #808000\">\"polars\"</span>} <span style=\"color: #0000ff; text-decoration-color: #0000ff\">else</span> <span style=\"color: #808000; text-decoration-color: #808000\">\"arrow2\"</span>,                   <span style=\"color: #800000; text-decoration-color: #800000\">│</span>\n",
       "<span style=\"color: #800000; text-decoration-color: #800000\">│</span>   <span style=\"color: #7f7f7f; text-decoration-color: #7f7f7f\">260 │   │   │   </span>queries=queries,                                                               <span style=\"color: #800000; text-decoration-color: #800000\">│</span>\n",
       "<span style=\"color: #800000; text-decoration-color: #800000\">╰──────────────────────────────────────────────────────────────────────────────────────────────────╯</span>\n",
       "<span style=\"color: #ff0000; text-decoration-color: #ff0000; font-weight: bold\">RuntimeError: </span>no such table: measurement_table\n",
       "</pre>\n"
      ],
      "text/plain": [
       "\u001b[31m╭─\u001b[0m\u001b[31m──────────────────────────────\u001b[0m\u001b[31m \u001b[0m\u001b[1;31mTraceback \u001b[0m\u001b[1;2;31m(most recent call last)\u001b[0m\u001b[31m \u001b[0m\u001b[31m───────────────────────────────\u001b[0m\u001b[31m─╮\u001b[0m\n",
       "\u001b[31m│\u001b[0m \u001b[2;33m/tmp/ipykernel_1143080/\u001b[0m\u001b[1;33m3698694167.py\u001b[0m:\u001b[94m2\u001b[0m in \u001b[92m<module>\u001b[0m                                               \u001b[31m│\u001b[0m\n",
       "\u001b[31m│\u001b[0m                                                                                                  \u001b[31m│\u001b[0m\n",
       "\u001b[31m│\u001b[0m \u001b[3;31m[Errno 2] No such file or directory: '/tmp/ipykernel_1143080/3698694167.py'\u001b[0m                      \u001b[31m│\u001b[0m\n",
       "\u001b[31m│\u001b[0m                                                                                                  \u001b[31m│\u001b[0m\n",
       "\u001b[31m│\u001b[0m \u001b[2;33m/rds/homes/g/gaddcz/Projects/CPRD/data/dataset/\u001b[0m\u001b[1;33mcollector.py\u001b[0m:\u001b[94m117\u001b[0m in \u001b[92m_lazy_generate_by_distinct\u001b[0m    \u001b[31m│\u001b[0m\n",
       "\u001b[31m│\u001b[0m                                                                                                  \u001b[31m│\u001b[0m\n",
       "\u001b[31m│\u001b[0m   \u001b[2m114 \u001b[0m\u001b[2m│   │   │   │   │   │   \u001b[0mquery += \u001b[33mf\u001b[0m\u001b[33m\"\u001b[0m\u001b[33m WHERE \u001b[0m\u001b[33m{\u001b[0mconditions[idx_table]\u001b[33m}\u001b[0m\u001b[33m\"\u001b[0m                         \u001b[31m│\u001b[0m\n",
       "\u001b[31m│\u001b[0m   \u001b[2m115 \u001b[0m\u001b[2m│   │   │   │   \u001b[0m                                                                           \u001b[31m│\u001b[0m\n",
       "\u001b[31m│\u001b[0m   \u001b[2m116 \u001b[0m\u001b[2m│   │   │   │   \u001b[0mlogging.debug(\u001b[33mf\u001b[0m\u001b[33m\"\u001b[0m\u001b[33mQuery: \u001b[0m\u001b[33m{\u001b[0mquery[:\u001b[94m100\u001b[0m] \u001b[94mif\u001b[0m \u001b[96mlen\u001b[0m(query) > \u001b[94m100\u001b[0m \u001b[94melse\u001b[0m query\u001b[33m}\u001b[0m\u001b[33m\"\u001b[0m)      \u001b[31m│\u001b[0m\n",
       "\u001b[31m│\u001b[0m \u001b[31m❱ \u001b[0m117 \u001b[2m│   │   │   │   \u001b[0mrows_by_table[\u001b[33m\"\u001b[0m\u001b[33mlazy_\u001b[0m\u001b[33m\"\u001b[0m + table.split(\u001b[33m\"\u001b[0m\u001b[33m_\u001b[0m\u001b[33m\"\u001b[0m)[\u001b[94m0\u001b[0m]] = pl.read_database(query=qu   \u001b[31m│\u001b[0m\n",
       "\u001b[31m│\u001b[0m   \u001b[2m118 \u001b[0m\u001b[2m│   │   │   \u001b[0m                                                                               \u001b[31m│\u001b[0m\n",
       "\u001b[31m│\u001b[0m   \u001b[2m119 \u001b[0m\u001b[2m│   │   │   \u001b[0m\u001b[2m# Yield the fetched rows as a chunk\u001b[0m                                            \u001b[31m│\u001b[0m\n",
       "\u001b[31m│\u001b[0m   \u001b[2m120 \u001b[0m\u001b[2m│   │   │   \u001b[0m\u001b[94myield\u001b[0m distinct_value, rows_by_table                                            \u001b[31m│\u001b[0m\n",
       "\u001b[31m│\u001b[0m                                                                                                  \u001b[31m│\u001b[0m\n",
       "\u001b[31m│\u001b[0m \u001b[2;33m/rds/bear-apps/2022a/EL8-ice/software/polars/0.17.12-foss-2022a/lib/python3.10/site-packages/pol\u001b[0m \u001b[31m│\u001b[0m\n",
       "\u001b[31m│\u001b[0m \u001b[2;33mars/io/\u001b[0m\u001b[1;33mdatabase.py\u001b[0m:\u001b[94m95\u001b[0m in \u001b[92mread_database\u001b[0m                                                           \u001b[31m│\u001b[0m\n",
       "\u001b[31m│\u001b[0m                                                                                                  \u001b[31m│\u001b[0m\n",
       "\u001b[31m│\u001b[0m   \u001b[2m 92 \u001b[0m\u001b[2m│   \u001b[0m                                                                                       \u001b[31m│\u001b[0m\n",
       "\u001b[31m│\u001b[0m   \u001b[2m 93 \u001b[0m\u001b[2;33m│   \u001b[0m\u001b[33m\"\"\"\u001b[0m                                                                                    \u001b[31m│\u001b[0m\n",
       "\u001b[31m│\u001b[0m   \u001b[2m 94 \u001b[0m\u001b[2m│   \u001b[0m\u001b[94mif\u001b[0m engine == \u001b[33m\"\u001b[0m\u001b[33mconnectorx\u001b[0m\u001b[33m\"\u001b[0m:                                                             \u001b[31m│\u001b[0m\n",
       "\u001b[31m│\u001b[0m \u001b[31m❱ \u001b[0m 95 \u001b[2m│   │   \u001b[0m\u001b[94mreturn\u001b[0m _read_sql_connectorx(                                                       \u001b[31m│\u001b[0m\n",
       "\u001b[31m│\u001b[0m   \u001b[2m 96 \u001b[0m\u001b[2m│   │   │   \u001b[0mquery,                                                                         \u001b[31m│\u001b[0m\n",
       "\u001b[31m│\u001b[0m   \u001b[2m 97 \u001b[0m\u001b[2m│   │   │   \u001b[0mconnection_uri,                                                                \u001b[31m│\u001b[0m\n",
       "\u001b[31m│\u001b[0m   \u001b[2m 98 \u001b[0m\u001b[2m│   │   │   \u001b[0mpartition_on=partition_on,                                                     \u001b[31m│\u001b[0m\n",
       "\u001b[31m│\u001b[0m                                                                                                  \u001b[31m│\u001b[0m\n",
       "\u001b[31m│\u001b[0m \u001b[2;33m/rds/bear-apps/2022a/EL8-ice/software/polars/0.17.12-foss-2022a/lib/python3.10/site-packages/pol\u001b[0m \u001b[31m│\u001b[0m\n",
       "\u001b[31m│\u001b[0m \u001b[2;33mars/io/\u001b[0m\u001b[1;33mdatabase.py\u001b[0m:\u001b[94m222\u001b[0m in \u001b[92m_read_sql_connectorx\u001b[0m                                                   \u001b[31m│\u001b[0m\n",
       "\u001b[31m│\u001b[0m                                                                                                  \u001b[31m│\u001b[0m\n",
       "\u001b[31m│\u001b[0m   \u001b[2m219 \u001b[0m\u001b[2m│   │   │   \u001b[0m\u001b[33m\"\u001b[0m\u001b[33mconnectorx is not installed. Please run `pip install connectorx>=0.3.1`.\u001b[0m\u001b[33m\"\u001b[0m     \u001b[31m│\u001b[0m\n",
       "\u001b[31m│\u001b[0m   \u001b[2m220 \u001b[0m\u001b[2m│   │   \u001b[0m) \u001b[94mfrom\u001b[0m \u001b[96mNone\u001b[0m                                                                        \u001b[31m│\u001b[0m\n",
       "\u001b[31m│\u001b[0m   \u001b[2m221 \u001b[0m\u001b[2m│   \u001b[0m                                                                                       \u001b[31m│\u001b[0m\n",
       "\u001b[31m│\u001b[0m \u001b[31m❱ \u001b[0m222 \u001b[2m│   \u001b[0mtbl = cx.read_sql(                                                                     \u001b[31m│\u001b[0m\n",
       "\u001b[31m│\u001b[0m   \u001b[2m223 \u001b[0m\u001b[2m│   │   \u001b[0mconn=connection_uri,                                                               \u001b[31m│\u001b[0m\n",
       "\u001b[31m│\u001b[0m   \u001b[2m224 \u001b[0m\u001b[2m│   │   \u001b[0mquery=query,                                                                       \u001b[31m│\u001b[0m\n",
       "\u001b[31m│\u001b[0m   \u001b[2m225 \u001b[0m\u001b[2m│   │   \u001b[0mreturn_type=\u001b[33m\"\u001b[0m\u001b[33marrow2\u001b[0m\u001b[33m\"\u001b[0m,                                                              \u001b[31m│\u001b[0m\n",
       "\u001b[31m│\u001b[0m                                                                                                  \u001b[31m│\u001b[0m\n",
       "\u001b[31m│\u001b[0m \u001b[2;33m/rds/bear-apps/2022a/EL8-ice/software/polars/0.17.12-foss-2022a/lib/python3.10/site-packages/con\u001b[0m \u001b[31m│\u001b[0m\n",
       "\u001b[31m│\u001b[0m \u001b[2;33mnectorx/\u001b[0m\u001b[1;33m__init__.py\u001b[0m:\u001b[94m257\u001b[0m in \u001b[92mread_sql\u001b[0m                                                              \u001b[31m│\u001b[0m\n",
       "\u001b[31m│\u001b[0m                                                                                                  \u001b[31m│\u001b[0m\n",
       "\u001b[31m│\u001b[0m   \u001b[2m254 \u001b[0m\u001b[2m│   │   \u001b[0m\u001b[94mexcept\u001b[0m \u001b[96mModuleNotFoundError\u001b[0m:                                                        \u001b[31m│\u001b[0m\n",
       "\u001b[31m│\u001b[0m   \u001b[2m255 \u001b[0m\u001b[2m│   │   │   \u001b[0m\u001b[94mraise\u001b[0m \u001b[96mValueError\u001b[0m(\u001b[33m\"\u001b[0m\u001b[33mYou need to install pyarrow first\u001b[0m\u001b[33m\"\u001b[0m)                          \u001b[31m│\u001b[0m\n",
       "\u001b[31m│\u001b[0m   \u001b[2m256 \u001b[0m\u001b[2m│   │   \u001b[0m                                                                                   \u001b[31m│\u001b[0m\n",
       "\u001b[31m│\u001b[0m \u001b[31m❱ \u001b[0m257 \u001b[2m│   │   \u001b[0mresult = _read_sql(                                                                \u001b[31m│\u001b[0m\n",
       "\u001b[31m│\u001b[0m   \u001b[2m258 \u001b[0m\u001b[2m│   │   │   \u001b[0mconn,                                                                          \u001b[31m│\u001b[0m\n",
       "\u001b[31m│\u001b[0m   \u001b[2m259 \u001b[0m\u001b[2m│   │   │   \u001b[0m\u001b[33m\"\u001b[0m\u001b[33marrow\u001b[0m\u001b[33m\"\u001b[0m \u001b[94mif\u001b[0m return_type \u001b[95min\u001b[0m {\u001b[33m\"\u001b[0m\u001b[33marrow\u001b[0m\u001b[33m\"\u001b[0m, \u001b[33m\"\u001b[0m\u001b[33mpolars\u001b[0m\u001b[33m\"\u001b[0m} \u001b[94melse\u001b[0m \u001b[33m\"\u001b[0m\u001b[33marrow2\u001b[0m\u001b[33m\"\u001b[0m,                   \u001b[31m│\u001b[0m\n",
       "\u001b[31m│\u001b[0m   \u001b[2m260 \u001b[0m\u001b[2m│   │   │   \u001b[0mqueries=queries,                                                               \u001b[31m│\u001b[0m\n",
       "\u001b[31m╰──────────────────────────────────────────────────────────────────────────────────────────────────╯\u001b[0m\n",
       "\u001b[1;91mRuntimeError: \u001b[0mno such table: measurement_table\n"
      ]
     },
     "metadata": {},
     "output_type": "display_data"
    }
   ],
   "source": [
    "generator = collector._lazy_generate_by_distinct(practice_patient_ids[0], [\"static_table\", \"measurement_table\", \"diagnosis_table\"], \"PRACTICE_PATIENT_ID\")\n",
    "for _idx, (chunk_name, lazy_table_frames_dict) in enumerate(generator):\n",
    "    break\n",
    "    \n",
    "# print(f\"Chunk containing practice ID: {chunk_name}\\n\\n\")\n",
    "display(lazy_table_frames_dict[\"lazy_static\"].collect().head())\n",
    "display(lazy_table_frames_dict[\"lazy_measurement\"].collect().head())\n",
    "display(lazy_table_frames_dict[\"lazy_diagnosis\"].collect().head())"
   ]
  },
  {
   "cell_type": "markdown",
   "id": "db8aa0fd-30fd-43f5-ba8b-8ed6635ed5af",
   "metadata": {},
   "source": [
    "Alternatively, we may which to generate groups/batches of individuals for vectorisation. In that case we can pass in a list of lists. We generate over the outer list, and each call yields all the inner list values.\n",
    "\n",
    "For example, in the below we have an outer list of all practices, and an inner list of patients within the practice. Consequently, each call to generate yields all records of all patients within a practice."
   ]
  },
  {
   "cell_type": "code",
   "execution_count": 12,
   "id": "1de5986d-6534-4b5e-b34c-f5f8fd2783f5",
   "metadata": {},
   "outputs": [
    {
     "data": {
      "text/html": [
       "<div><style>\n",
       ".dataframe > thead > tr > th,\n",
       ".dataframe > tbody > tr > td {\n",
       "  text-align: right;\n",
       "}\n",
       "</style>\n",
       "<small>shape: (5, 11)</small><table border=\"1\" class=\"dataframe\"><thead><tr><th>PRACTICE_PATIENT_ID</th><th>PRACTICE_ID</th><th>PATIENT_ID</th><th>ETHNICITY</th><th>YEAR_OF_BIRTH</th><th>SEX</th><th>COUNTRY</th><th>HEALTH_AUTH</th><th>INDEX_DATE</th><th>START_DATE</th><th>END_DATE</th></tr><tr><td>str</td><td>i64</td><td>i64</td><td>str</td><td>str</td><td>str</td><td>str</td><td>str</td><td>str</td><td>str</td><td>str</td></tr></thead><tbody><tr><td>&quot;p20515_1099848…</td><td>20515</td><td>10998487420515</td><td>&quot;MISSING&quot;</td><td>&quot;1976-07-15&quot;</td><td>&quot;M&quot;</td><td>&quot;E&quot;</td><td>&quot;North West&quot;</td><td>&quot;2022-03-12&quot;</td><td>&quot;2022-03-12&quot;</td><td>&quot;2022-03-19&quot;</td></tr><tr><td>&quot;p20515_1037909…</td><td>20515</td><td>1037909720515</td><td>&quot;WHITE&quot;</td><td>&quot;1990-07-15&quot;</td><td>&quot;M&quot;</td><td>&quot;E&quot;</td><td>&quot;North West&quot;</td><td>&quot;2019-02-28&quot;</td><td>&quot;2019-02-28&quot;</td><td>&quot;2022-03-19&quot;</td></tr><tr><td>&quot;p20515_1066963…</td><td>20515</td><td>1066963220515</td><td>&quot;WHITE&quot;</td><td>&quot;1988-07-15&quot;</td><td>&quot;M&quot;</td><td>&quot;E&quot;</td><td>&quot;North West&quot;</td><td>&quot;2019-03-02&quot;</td><td>&quot;2019-03-02&quot;</td><td>&quot;2022-03-19&quot;</td></tr><tr><td>&quot;p20515_1066963…</td><td>20515</td><td>1066963320515</td><td>&quot;WHITE&quot;</td><td>&quot;1999-07-15&quot;</td><td>&quot;M&quot;</td><td>&quot;E&quot;</td><td>&quot;North West&quot;</td><td>&quot;2019-03-02&quot;</td><td>&quot;2019-03-02&quot;</td><td>&quot;2022-03-19&quot;</td></tr><tr><td>&quot;p20515_1066974…</td><td>20515</td><td>1066974920515</td><td>&quot;WHITE&quot;</td><td>&quot;1989-07-15&quot;</td><td>&quot;M&quot;</td><td>&quot;E&quot;</td><td>&quot;North West&quot;</td><td>&quot;2019-03-05&quot;</td><td>&quot;2019-03-05&quot;</td><td>&quot;2019-04-12&quot;</td></tr></tbody></table></div>"
      ],
      "text/plain": [
       "shape: (5, 11)\n",
       "┌────────────┬───────────┬──────────┬─────────┬───┬───────────┬──────────┬────────────┬────────────┐\n",
       "│ PRACTICE_P ┆ PRACTICE_ ┆ PATIENT_ ┆ ETHNICI ┆ … ┆ HEALTH_AU ┆ INDEX_DA ┆ START_DATE ┆ END_DATE   │\n",
       "│ ATIENT_ID  ┆ ID        ┆ ID       ┆ TY      ┆   ┆ TH        ┆ TE       ┆ ---        ┆ ---        │\n",
       "│ ---        ┆ ---       ┆ ---      ┆ ---     ┆   ┆ ---       ┆ ---      ┆ str        ┆ str        │\n",
       "│ str        ┆ i64       ┆ i64      ┆ str     ┆   ┆ str       ┆ str      ┆            ┆            │\n",
       "╞════════════╪═══════════╪══════════╪═════════╪═══╪═══════════╪══════════╪════════════╪════════════╡\n",
       "│ p20515_109 ┆ 20515     ┆ 10998487 ┆ MISSING ┆ … ┆ North     ┆ 2022-03- ┆ 2022-03-12 ┆ 2022-03-19 │\n",
       "│ 9848742051 ┆           ┆ 420515   ┆         ┆   ┆ West      ┆ 12       ┆            ┆            │\n",
       "│ 5          ┆           ┆          ┆         ┆   ┆           ┆          ┆            ┆            │\n",
       "│ p20515_103 ┆ 20515     ┆ 10379097 ┆ WHITE   ┆ … ┆ North     ┆ 2019-02- ┆ 2019-02-28 ┆ 2022-03-19 │\n",
       "│ 7909720515 ┆           ┆ 20515    ┆         ┆   ┆ West      ┆ 28       ┆            ┆            │\n",
       "│ p20515_106 ┆ 20515     ┆ 10669632 ┆ WHITE   ┆ … ┆ North     ┆ 2019-03- ┆ 2019-03-02 ┆ 2022-03-19 │\n",
       "│ 6963220515 ┆           ┆ 20515    ┆         ┆   ┆ West      ┆ 02       ┆            ┆            │\n",
       "│ p20515_106 ┆ 20515     ┆ 10669633 ┆ WHITE   ┆ … ┆ North     ┆ 2019-03- ┆ 2019-03-02 ┆ 2022-03-19 │\n",
       "│ 6963320515 ┆           ┆ 20515    ┆         ┆   ┆ West      ┆ 02       ┆            ┆            │\n",
       "│ p20515_106 ┆ 20515     ┆ 10669749 ┆ WHITE   ┆ … ┆ North     ┆ 2019-03- ┆ 2019-03-05 ┆ 2019-04-12 │\n",
       "│ 6974920515 ┆           ┆ 20515    ┆         ┆   ┆ West      ┆ 05       ┆            ┆            │\n",
       "└────────────┴───────────┴──────────┴─────────┴───┴───────────┴──────────┴────────────┴────────────┘"
      ]
     },
     "metadata": {},
     "output_type": "display_data"
    },
    {
     "data": {
      "text/html": [
       "<div><style>\n",
       ".dataframe > thead > tr > th,\n",
       ".dataframe > tbody > tr > td {\n",
       "  text-align: right;\n",
       "}\n",
       "</style>\n",
       "<small>shape: (5, 4)</small><table border=\"1\" class=\"dataframe\"><thead><tr><th>PRACTICE_PATIENT_ID</th><th>EVENT</th><th>VALUE</th><th>DATE</th></tr><tr><td>str</td><td>str</td><td>f64</td><td>str</td></tr></thead><tbody><tr><td>&quot;p20515_1002242…</td><td>&quot;AST_serum_leve…</td><td>27.0</td><td>&quot;2010-08-24&quot;</td></tr><tr><td>&quot;p20515_1002242…</td><td>&quot;AST_serum_leve…</td><td>42.0</td><td>&quot;2011-06-03&quot;</td></tr><tr><td>&quot;p20515_1002242…</td><td>&quot;AST_serum_leve…</td><td>29.0</td><td>&quot;2012-11-16&quot;</td></tr><tr><td>&quot;p20515_1002242…</td><td>&quot;AST_serum_leve…</td><td>30.0</td><td>&quot;2013-11-30&quot;</td></tr><tr><td>&quot;p20515_1002242…</td><td>&quot;AST_serum_leve…</td><td>28.0</td><td>&quot;2016-02-01&quot;</td></tr></tbody></table></div>"
      ],
      "text/plain": [
       "shape: (5, 4)\n",
       "┌──────────────────────┬────────────────────┬───────┬────────────┐\n",
       "│ PRACTICE_PATIENT_ID  ┆ EVENT              ┆ VALUE ┆ DATE       │\n",
       "│ ---                  ┆ ---                ┆ ---   ┆ ---        │\n",
       "│ str                  ┆ str                ┆ f64   ┆ str        │\n",
       "╞══════════════════════╪════════════════════╪═══════╪════════════╡\n",
       "│ p20515_1002242920515 ┆ AST_serum_level_47 ┆ 27.0  ┆ 2010-08-24 │\n",
       "│ p20515_1002242920515 ┆ AST_serum_level_47 ┆ 42.0  ┆ 2011-06-03 │\n",
       "│ p20515_1002242920515 ┆ AST_serum_level_47 ┆ 29.0  ┆ 2012-11-16 │\n",
       "│ p20515_1002242920515 ┆ AST_serum_level_47 ┆ 30.0  ┆ 2013-11-30 │\n",
       "│ p20515_1002242920515 ┆ AST_serum_level_47 ┆ 28.0  ┆ 2016-02-01 │\n",
       "└──────────────────────┴────────────────────┴───────┴────────────┘"
      ]
     },
     "metadata": {},
     "output_type": "display_data"
    },
    {
     "data": {
      "text/html": [
       "<div><style>\n",
       ".dataframe > thead > tr > th,\n",
       ".dataframe > tbody > tr > td {\n",
       "  text-align: right;\n",
       "}\n",
       "</style>\n",
       "<small>shape: (5, 3)</small><table border=\"1\" class=\"dataframe\"><thead><tr><th>PRACTICE_PATIENT_ID</th><th>EVENT</th><th>DATE</th></tr><tr><td>str</td><td>str</td><td>str</td></tr></thead><tbody><tr><td>&quot;p20515_1002242…</td><td>&quot;ALLCA_NOBCC_VF…</td><td>&quot;2017-10-01&quot;</td></tr><tr><td>&quot;p20515_1037909…</td><td>&quot;DEPRESSION&quot;</td><td>&quot;2010-05-20&quot;</td></tr><tr><td>&quot;p20515_1037909…</td><td>&quot;ANXIETY&quot;</td><td>&quot;2020-01-03&quot;</td></tr><tr><td>&quot;p20515_1037909…</td><td>&quot;ALLCA_NOBCC_VF…</td><td>&quot;2020-05-11&quot;</td></tr><tr><td>&quot;p20515_1037909…</td><td>&quot;LYMPHOMA_PREVA…</td><td>&quot;2020-04-02&quot;</td></tr></tbody></table></div>"
      ],
      "text/plain": [
       "shape: (5, 3)\n",
       "┌──────────────────────┬─────────────────────┬────────────┐\n",
       "│ PRACTICE_PATIENT_ID  ┆ EVENT               ┆ DATE       │\n",
       "│ ---                  ┆ ---                 ┆ ---        │\n",
       "│ str                  ┆ str                 ┆ str        │\n",
       "╞══════════════════════╪═════════════════════╪════════════╡\n",
       "│ p20515_1002242920515 ┆ ALLCA_NOBCC_VFINAL  ┆ 2017-10-01 │\n",
       "│ p20515_1037909720515 ┆ DEPRESSION          ┆ 2010-05-20 │\n",
       "│ p20515_1037909720515 ┆ ANXIETY             ┆ 2020-01-03 │\n",
       "│ p20515_1037909720515 ┆ ALLCA_NOBCC_VFINAL  ┆ 2020-05-11 │\n",
       "│ p20515_1037909720515 ┆ LYMPHOMA_PREVALENCE ┆ 2020-04-02 │\n",
       "└──────────────────────┴─────────────────────┴────────────┘"
      ]
     },
     "metadata": {},
     "output_type": "display_data"
    }
   ],
   "source": [
    "generator = collector._lazy_generate_by_distinct(practice_patient_ids, [\"static_table\", \"measurement_table\", \"diagnosis_table\"], \"PRACTICE_PATIENT_ID\")\n",
    "for _idx, (chunk_name, lazy_table_frames_dict) in enumerate(generator):\n",
    "    break\n",
    "    \n",
    "# print(f\"Chunk containing practice ID: {chunk_name}\\n\\n\")\n",
    "display(lazy_table_frames_dict[\"lazy_static\"].collect().head())\n",
    "display(lazy_table_frames_dict[\"lazy_measurement\"].collect().head())\n",
    "display(lazy_table_frames_dict[\"lazy_diagnosis\"].collect().head())\n"
   ]
  },
  {
   "cell_type": "markdown",
   "id": "c1c10947-2d93-4cff-8483-772231d66a67",
   "metadata": {},
   "source": [
    "### Test collation of generated lazy frames"
   ]
  },
  {
   "cell_type": "code",
   "execution_count": 13,
   "id": "d655d2d4-eac7-46fa-93a8-14445ca69bbb",
   "metadata": {},
   "outputs": [],
   "source": [
    "lazy_batch = collector._collate_lazy_tables(**lazy_table_frames_dict)"
   ]
  },
  {
   "cell_type": "markdown",
   "id": "b0982f94-fdcc-4cf9-bb46-854aea12bf68",
   "metadata": {},
   "source": [
    "### View how tables are aligned"
   ]
  },
  {
   "cell_type": "code",
   "execution_count": 14,
   "id": "fff015bd-5247-443f-af90-2871635a0283",
   "metadata": {},
   "outputs": [
    {
     "data": {
      "text/html": [
       "<div><style>\n",
       ".dataframe > thead > tr > th,\n",
       ".dataframe > tbody > tr > td {\n",
       "  text-align: right;\n",
       "}\n",
       "</style>\n",
       "<small>shape: (3_180, 14)</small><table border=\"1\" class=\"dataframe\"><thead><tr><th>PRACTICE_PATIENT_ID</th><th>VALUE</th><th>EVENT</th><th>DAYS_SINCE_BIRTH</th><th>PRACTICE_ID</th><th>PATIENT_ID</th><th>ETHNICITY</th><th>YEAR_OF_BIRTH</th><th>SEX</th><th>COUNTRY</th><th>HEALTH_AUTH</th><th>INDEX_DATE</th><th>START_DATE</th><th>END_DATE</th></tr><tr><td>str</td><td>list[f64]</td><td>list[str]</td><td>list[i64]</td><td>str</td><td>str</td><td>str</td><td>datetime[μs]</td><td>str</td><td>str</td><td>str</td><td>datetime[μs]</td><td>datetime[μs]</td><td>datetime[μs]</td></tr></thead><tbody><tr><td>&quot;p20515_1002242…</td><td>[28.8, 90.0, … 140.0]</td><td>[&quot;Body_mass_index_3&quot;, &quot;Diastolic_blood_pressure_5&quot;, … &quot;Systolic_blood_pressure_4&quot;]</td><td>[21961, 21961, … 26533]</td><td>&quot;p20515&quot;</td><td>&quot;1002242920515&quot;</td><td>&quot;WHITE&quot;</td><td>1946-07-15 00:00:00</td><td>&quot;M&quot;</td><td>&quot;E&quot;</td><td>&quot;North West&quot;</td><td>2019-02-22 00:00:00</td><td>2019-02-22 00:00:00</td><td>2020-11-13 00:00:00</td></tr><tr><td>&quot;p20515_1037909…</td><td>[null, null, … 110.0]</td><td>[&quot;O_E_-_weight_2&quot;, &quot;ATOPICECZEMA&quot;, … &quot;Systolic_blood_pressure_4&quot;]</td><td>[230, 1010, … 11272]</td><td>&quot;p20515&quot;</td><td>&quot;1037909720515&quot;</td><td>&quot;WHITE&quot;</td><td>1990-07-15 00:00:00</td><td>&quot;M&quot;</td><td>&quot;E&quot;</td><td>&quot;North West&quot;</td><td>2019-02-28 00:00:00</td><td>2019-02-28 00:00:00</td><td>2022-03-19 00:00:00</td></tr><tr><td>&quot;p20515_1066963…</td><td>[25.2, 81.0, … null]</td><td>[&quot;Body_mass_index_3&quot;, &quot;Diastolic_blood_pressure_5&quot;, … &quot;GOUT&quot;]</td><td>[6409, 6409, … 12110]</td><td>&quot;p20515&quot;</td><td>&quot;1066963220515&quot;</td><td>&quot;WHITE&quot;</td><td>1988-07-15 00:00:00</td><td>&quot;M&quot;</td><td>&quot;E&quot;</td><td>&quot;North West&quot;</td><td>2019-03-02 00:00:00</td><td>2019-03-02 00:00:00</td><td>2022-03-19 00:00:00</td></tr><tr><td>&quot;p20515_1066963…</td><td>[null, null, … 10.4]</td><td>[&quot;ATOPICECZEMA&quot;, &quot;ASTHMA_PUSHASTHMA&quot;, … &quot;Total_white_cell_count_18&quot;]</td><td>[644, 1876, … 8107]</td><td>&quot;p20515&quot;</td><td>&quot;1066963320515&quot;</td><td>&quot;WHITE&quot;</td><td>1999-07-15 00:00:00</td><td>&quot;M&quot;</td><td>&quot;E&quot;</td><td>&quot;North West&quot;</td><td>2019-03-02 00:00:00</td><td>2019-03-02 00:00:00</td><td>2022-03-19 00:00:00</td></tr><tr><td>&quot;p20515_1066974…</td><td>[null, null, … 130.0]</td><td>[&quot;ATOPICECZEMA&quot;, &quot;ASTHMA_PUSHASTHMA&quot;, … &quot;Systolic_blood_pressure_4&quot;]</td><td>[1266, 2693, … 10468]</td><td>&quot;p20515&quot;</td><td>&quot;1066974920515&quot;</td><td>&quot;WHITE&quot;</td><td>1989-07-15 00:00:00</td><td>&quot;M&quot;</td><td>&quot;E&quot;</td><td>&quot;North West&quot;</td><td>2019-03-05 00:00:00</td><td>2019-03-05 00:00:00</td><td>2019-04-12 00:00:00</td></tr><tr><td>&quot;p20515_1099618…</td><td>[18.3, null, … 53.0]</td><td>[&quot;Body_mass_index_3&quot;, &quot;Never_smoked_tobacco_85&quot;, … &quot;O_E_-_weight_2&quot;]</td><td>[9276, 9276, … 9276]</td><td>&quot;p20515&quot;</td><td>&quot;10996184120515…</td><td>&quot;WHITE&quot;</td><td>1991-07-15 00:00:00</td><td>&quot;M&quot;</td><td>&quot;E&quot;</td><td>&quot;North West&quot;</td><td>2022-03-15 00:00:00</td><td>2022-03-15 00:00:00</td><td>2022-03-19 00:00:00</td></tr><tr><td>&quot;p20515_1099848…</td><td>[null, null]</td><td>[&quot;DEPRESSION&quot;, &quot;ANXIETY&quot;]</td><td>[14271, 14271]</td><td>&quot;p20515&quot;</td><td>&quot;10998487420515…</td><td>&quot;MISSING&quot;</td><td>1976-07-15 00:00:00</td><td>&quot;M&quot;</td><td>&quot;E&quot;</td><td>&quot;North West&quot;</td><td>2022-03-12 00:00:00</td><td>2022-03-12 00:00:00</td><td>2022-03-19 00:00:00</td></tr><tr><td>&quot;p20515_1137545…</td><td>[null, null, … 66.8]</td><td>[&quot;ASTHMA_PUSHASTHMA&quot;, &quot;ATOPICECZEMA&quot;, … &quot;O_E_-_weight_2&quot;]</td><td>[219, 219, … 8970]</td><td>&quot;p20515&quot;</td><td>&quot;1137545520515&quot;</td><td>&quot;WHITE&quot;</td><td>1997-07-15 00:00:00</td><td>&quot;M&quot;</td><td>&quot;E&quot;</td><td>&quot;North West&quot;</td><td>2019-03-06 00:00:00</td><td>2019-03-06 00:00:00</td><td>2022-03-19 00:00:00</td></tr><tr><td>&quot;p20515_1142689…</td><td>[24.0, null, … 1.46]</td><td>[&quot;Body_mass_index_3&quot;, &quot;Ex_smoker_84&quot;, … &quot;Serum_triglycerides_105&quot;]</td><td>[9190, 9190, … 12214]</td><td>&quot;p20515&quot;</td><td>&quot;1142689720515&quot;</td><td>&quot;WHITE&quot;</td><td>1987-07-15 00:00:00</td><td>&quot;M&quot;</td><td>&quot;E&quot;</td><td>&quot;North West&quot;</td><td>2019-03-07 00:00:00</td><td>2019-03-07 00:00:00</td><td>2021-06-19 00:00:00</td></tr><tr><td>&quot;p20515_1147235…</td><td>[23.1, null, … 317.0]</td><td>[&quot;Body_mass_index_3&quot;, &quot;Never_smoked_tobacco_85&quot;, … &quot;Serum_vitamin_B12_79&quot;]</td><td>[9987, 9987, … 12060]</td><td>&quot;p20515&quot;</td><td>&quot;1147235520515&quot;</td><td>&quot;BLACK&quot;</td><td>1988-07-15 00:00:00</td><td>&quot;M&quot;</td><td>&quot;E&quot;</td><td>&quot;North West&quot;</td><td>2019-03-09 00:00:00</td><td>2019-03-09 00:00:00</td><td>2022-03-19 00:00:00</td></tr><tr><td>&quot;p20515_1198049…</td><td>[null, 121.0, … 115.0]</td><td>[&quot;Never_smoked_tobacco_85&quot;, &quot;Systolic_blood_pressure_4&quot;, … &quot;Systolic_blood_pressure_4&quot;]</td><td>[7327, 7327, … 11201]</td><td>&quot;p20515&quot;</td><td>&quot;1198049920515&quot;</td><td>&quot;WHITE&quot;</td><td>1987-07-15 00:00:00</td><td>&quot;M&quot;</td><td>&quot;E&quot;</td><td>&quot;North West&quot;</td><td>2019-03-13 00:00:00</td><td>2019-03-13 00:00:00</td><td>2021-04-20 00:00:00</td></tr><tr><td>&quot;p20515_1198050…</td><td>[60.0, 5.9]</td><td>[&quot;O_E_-_height_1&quot;, &quot;O_E_-_weight_2&quot;]</td><td>[54, 54]</td><td>&quot;p20515&quot;</td><td>&quot;1198050020515&quot;</td><td>&quot;MISSING&quot;</td><td>2018-02-15 00:00:00</td><td>&quot;M&quot;</td><td>&quot;E&quot;</td><td>&quot;North West&quot;</td><td>2019-03-13 00:00:00</td><td>2019-03-13 00:00:00</td><td>2022-03-19 00:00:00</td></tr><tr><td>&hellip;</td><td>&hellip;</td><td>&hellip;</td><td>&hellip;</td><td>&hellip;</td><td>&hellip;</td><td>&hellip;</td><td>&hellip;</td><td>&hellip;</td><td>&hellip;</td><td>&hellip;</td><td>&hellip;</td><td>&hellip;</td><td>&hellip;</td></tr><tr><td>&quot;p20515_9323013…</td><td>[36.7, 86.0, … 140.0]</td><td>[&quot;Body_mass_index_3&quot;, &quot;Diastolic_blood_pressure_5&quot;, … &quot;Systolic_blood_pressure_4&quot;]</td><td>[11371, 11371, … 11522]</td><td>&quot;p20515&quot;</td><td>&quot;932301320515&quot;</td><td>&quot;WHITE&quot;</td><td>1986-07-15 00:00:00</td><td>&quot;M&quot;</td><td>&quot;E&quot;</td><td>&quot;North West&quot;</td><td>2019-01-29 00:00:00</td><td>2019-01-29 00:00:00</td><td>2022-03-19 00:00:00</td></tr><tr><td>&quot;p20515_9323021…</td><td>[null, 16.44, … 140.0]</td><td>[&quot;ASTHMA_PUSHASTHMA&quot;, &quot;Body_mass_index_3&quot;, … &quot;Systolic_blood_pressure_4&quot;]</td><td>[2027, 3897, … 6957]</td><td>&quot;p20515&quot;</td><td>&quot;932302120515&quot;</td><td>&quot;WHITE&quot;</td><td>2000-07-15 00:00:00</td><td>&quot;M&quot;</td><td>&quot;E&quot;</td><td>&quot;North West&quot;</td><td>2019-01-30 00:00:00</td><td>2019-01-30 00:00:00</td><td>2020-10-01 00:00:00</td></tr><tr><td>&quot;p20515_9326047…</td><td>[24.6, 70.0, … 8.3]</td><td>[&quot;Body_mass_index_3&quot;, &quot;Diastolic_blood_pressure_5&quot;, … &quot;Total_white_cell_count_18&quot;]</td><td>[13357, 13357, … 14841]</td><td>&quot;p20515&quot;</td><td>&quot;932604720515&quot;</td><td>&quot;MIXED_RACE&quot;</td><td>1981-07-15 00:00:00</td><td>&quot;M&quot;</td><td>&quot;E&quot;</td><td>&quot;North West&quot;</td><td>2019-02-02 00:00:00</td><td>2019-02-02 00:00:00</td><td>2022-03-19 00:00:00</td></tr><tr><td>&quot;p20515_9326050…</td><td>[14.4, 59.0, … null]</td><td>[&quot;Body_mass_index_3&quot;, &quot;O_E_-_height_1&quot;, … &quot;AUTISM&quot;]</td><td>[160, 160, … 7897]</td><td>&quot;p20515&quot;</td><td>&quot;932605020515&quot;</td><td>&quot;WHITE&quot;</td><td>1997-07-15 00:00:00</td><td>&quot;M&quot;</td><td>&quot;E&quot;</td><td>&quot;North West&quot;</td><td>2019-02-02 00:00:00</td><td>2019-02-02 00:00:00</td><td>2022-03-19 00:00:00</td></tr><tr><td>&quot;p20515_9326051…</td><td>[null, 20.5, … 98.0]</td><td>[&quot;Ex_smoker_84&quot;, &quot;Body_mass_index_3&quot;, … &quot;Systolic_blood_pressure_4&quot;]</td><td>[7373, 7510, … 7689]</td><td>&quot;p20515&quot;</td><td>&quot;932605120515&quot;</td><td>&quot;WHITE&quot;</td><td>1997-07-15 00:00:00</td><td>&quot;M&quot;</td><td>&quot;E&quot;</td><td>&quot;North West&quot;</td><td>2019-02-02 00:00:00</td><td>2019-02-02 00:00:00</td><td>2022-03-19 00:00:00</td></tr><tr><td>&quot;p20515_9429013…</td><td>[null, 23.1, … 133.0]</td><td>[&quot;ATOPICECZEMA&quot;, &quot;Body_mass_index_3&quot;, … &quot;Systolic_blood_pressure_4&quot;]</td><td>[1437, 7146, … 8510]</td><td>&quot;p20515&quot;</td><td>&quot;942901320515&quot;</td><td>&quot;WHITE&quot;</td><td>1998-07-15 00:00:00</td><td>&quot;M&quot;</td><td>&quot;E&quot;</td><td>&quot;North West&quot;</td><td>2019-02-05 00:00:00</td><td>2019-02-05 00:00:00</td><td>2022-03-19 00:00:00</td></tr><tr><td>&quot;p20515_9657293…</td><td>[57.0, null]</td><td>[&quot;O_E_-_height_1&quot;, &quot;ATOPICECZEMA&quot;]</td><td>[64, 518]</td><td>&quot;p20515&quot;</td><td>&quot;965729320515&quot;</td><td>&quot;WHITE&quot;</td><td>2018-01-15 00:00:00</td><td>&quot;M&quot;</td><td>&quot;E&quot;</td><td>&quot;North West&quot;</td><td>2019-02-06 00:00:00</td><td>2019-02-06 00:00:00</td><td>2022-03-19 00:00:00</td></tr><tr><td>&quot;p20515_9658156…</td><td>[20.5, 143.0, … 122.0]</td><td>[&quot;Body_mass_index_3&quot;, &quot;O_E_-_height_1&quot;, … &quot;Systolic_blood_pressure_4&quot;]</td><td>[3512, 3512, … 6031]</td><td>&quot;p20515&quot;</td><td>&quot;965815620515&quot;</td><td>&quot;WHITE&quot;</td><td>2001-07-15 00:00:00</td><td>&quot;M&quot;</td><td>&quot;E&quot;</td><td>&quot;North West&quot;</td><td>2019-02-07 00:00:00</td><td>2019-02-07 00:00:00</td><td>2022-03-19 00:00:00</td></tr><tr><td>&quot;p20515_9658160…</td><td>[null, null, … null]</td><td>[&quot;ANY_DEAFNESS_HEARING_LOSS_V2&quot;, &quot;ALLERGICRHINITISCONJ&quot;, … &quot;DEPRESSION&quot;]</td><td>[691, 3269, … 9273]</td><td>&quot;p20515&quot;</td><td>&quot;965816020515&quot;</td><td>&quot;WHITE&quot;</td><td>1993-07-15 00:00:00</td><td>&quot;M&quot;</td><td>&quot;E&quot;</td><td>&quot;North West&quot;</td><td>2019-02-07 00:00:00</td><td>2019-02-07 00:00:00</td><td>2019-08-08 00:00:00</td></tr><tr><td>&quot;p20515_9767549…</td><td>[30.9, 78.0, … 7.9]</td><td>[&quot;Body_mass_index_3&quot;, &quot;Diastolic_blood_pressure_5&quot;, … &quot;Serum_urea_level_29&quot;]</td><td>[26877, 26877, … 26884]</td><td>&quot;p20515&quot;</td><td>&quot;976754920515&quot;</td><td>&quot;SOUTH_ASIAN&quot;</td><td>1944-07-15 00:00:00</td><td>&quot;M&quot;</td><td>&quot;E&quot;</td><td>&quot;North West&quot;</td><td>2019-02-14 00:00:00</td><td>2019-02-14 00:00:00</td><td>2022-03-19 00:00:00</td></tr><tr><td>&quot;p20515_9808116…</td><td>[58.0, 5.32]</td><td>[&quot;O_E_-_height_1&quot;, &quot;O_E_-_weight_2&quot;]</td><td>[67, 67]</td><td>&quot;p20515&quot;</td><td>&quot;980811620515&quot;</td><td>&quot;MISSING&quot;</td><td>2017-12-15 00:00:00</td><td>&quot;M&quot;</td><td>&quot;E&quot;</td><td>&quot;North West&quot;</td><td>2019-02-20 00:00:00</td><td>2019-02-20 00:00:00</td><td>2022-03-19 00:00:00</td></tr><tr><td>&quot;p20515_9808118…</td><td>[157.0, null, … 5.0]</td><td>[&quot;O_E_-_height_1&quot;, &quot;ASTHMA_PUSHASTHMA&quot;, … &quot;Serum_C_reactive_protein_level_59&quot;]</td><td>[4728, 5417, … 13797]</td><td>&quot;p20515&quot;</td><td>&quot;980811820515&quot;</td><td>&quot;WHITE&quot;</td><td>1980-07-15 00:00:00</td><td>&quot;M&quot;</td><td>&quot;E&quot;</td><td>&quot;North West&quot;</td><td>2019-02-19 00:00:00</td><td>2019-02-19 00:00:00</td><td>2019-07-29 00:00:00</td></tr></tbody></table></div>"
      ],
      "text/plain": [
       "shape: (3_180, 14)\n",
       "┌────────────┬───────────┬───────────┬────────────┬───┬───────────┬──────────┬──────────┬──────────┐\n",
       "│ PRACTICE_P ┆ VALUE     ┆ EVENT     ┆ DAYS_SINCE ┆ … ┆ HEALTH_AU ┆ INDEX_DA ┆ START_DA ┆ END_DATE │\n",
       "│ ATIENT_ID  ┆ ---       ┆ ---       ┆ _BIRTH     ┆   ┆ TH        ┆ TE       ┆ TE       ┆ ---      │\n",
       "│ ---        ┆ list[f64] ┆ list[str] ┆ ---        ┆   ┆ ---       ┆ ---      ┆ ---      ┆ datetime │\n",
       "│ str        ┆           ┆           ┆ list[i64]  ┆   ┆ str       ┆ datetime ┆ datetime ┆ [μs]     │\n",
       "│            ┆           ┆           ┆            ┆   ┆           ┆ [μs]     ┆ [μs]     ┆          │\n",
       "╞════════════╪═══════════╪═══════════╪════════════╪═══╪═══════════╪══════════╪══════════╪══════════╡\n",
       "│ p20515_100 ┆ [28.8,    ┆ [\"Body_ma ┆ [21961,    ┆ … ┆ North     ┆ 2019-02- ┆ 2019-02- ┆ 2020-11- │\n",
       "│ 2242920515 ┆ 90.0, …   ┆ ss_index_ ┆ 21961, …   ┆   ┆ West      ┆ 22       ┆ 22       ┆ 13       │\n",
       "│            ┆ 140.0]    ┆ 3\", \"Dias ┆ 26533]     ┆   ┆           ┆ 00:00:00 ┆ 00:00:00 ┆ 00:00:00 │\n",
       "│            ┆           ┆ tolic…    ┆            ┆   ┆           ┆          ┆          ┆          │\n",
       "│ p20515_103 ┆ [null,    ┆ [\"O_E_-_w ┆ [230,      ┆ … ┆ North     ┆ 2019-02- ┆ 2019-02- ┆ 2022-03- │\n",
       "│ 7909720515 ┆ null, …   ┆ eight_2\", ┆ 1010, …    ┆   ┆ West      ┆ 28       ┆ 28       ┆ 19       │\n",
       "│            ┆ 110.0]    ┆ \"ATOPICEC ┆ 11272]     ┆   ┆           ┆ 00:00:00 ┆ 00:00:00 ┆ 00:00:00 │\n",
       "│            ┆           ┆ ZEMA…     ┆            ┆   ┆           ┆          ┆          ┆          │\n",
       "│ p20515_106 ┆ [25.2,    ┆ [\"Body_ma ┆ [6409,     ┆ … ┆ North     ┆ 2019-03- ┆ 2019-03- ┆ 2022-03- │\n",
       "│ 6963220515 ┆ 81.0, …   ┆ ss_index_ ┆ 6409, …    ┆   ┆ West      ┆ 02       ┆ 02       ┆ 19       │\n",
       "│            ┆ null]     ┆ 3\", \"Dias ┆ 12110]     ┆   ┆           ┆ 00:00:00 ┆ 00:00:00 ┆ 00:00:00 │\n",
       "│            ┆           ┆ tolic…    ┆            ┆   ┆           ┆          ┆          ┆          │\n",
       "│ p20515_106 ┆ [null,    ┆ [\"ATOPICE ┆ [644,      ┆ … ┆ North     ┆ 2019-03- ┆ 2019-03- ┆ 2022-03- │\n",
       "│ 6963320515 ┆ null, …   ┆ CZEMA\",   ┆ 1876, …    ┆   ┆ West      ┆ 02       ┆ 02       ┆ 19       │\n",
       "│            ┆ 10.4]     ┆ \"ASTHMA_P ┆ 8107]      ┆   ┆           ┆ 00:00:00 ┆ 00:00:00 ┆ 00:00:00 │\n",
       "│            ┆           ┆ USHAST…   ┆            ┆   ┆           ┆          ┆          ┆          │\n",
       "│ …          ┆ …         ┆ …         ┆ …          ┆ … ┆ …         ┆ …        ┆ …        ┆ …        │\n",
       "│ p20515_965 ┆ [null,    ┆ [\"ANY_DEA ┆ [691,      ┆ … ┆ North     ┆ 2019-02- ┆ 2019-02- ┆ 2019-08- │\n",
       "│ 816020515  ┆ null, …   ┆ FNESS_HEA ┆ 3269, …    ┆   ┆ West      ┆ 07       ┆ 07       ┆ 08       │\n",
       "│            ┆ null]     ┆ RING_LOSS ┆ 9273]      ┆   ┆           ┆ 00:00:00 ┆ 00:00:00 ┆ 00:00:00 │\n",
       "│            ┆           ┆ _V2\",…    ┆            ┆   ┆           ┆          ┆          ┆          │\n",
       "│ p20515_976 ┆ [30.9,    ┆ [\"Body_ma ┆ [26877,    ┆ … ┆ North     ┆ 2019-02- ┆ 2019-02- ┆ 2022-03- │\n",
       "│ 754920515  ┆ 78.0, …   ┆ ss_index_ ┆ 26877, …   ┆   ┆ West      ┆ 14       ┆ 14       ┆ 19       │\n",
       "│            ┆ 7.9]      ┆ 3\", \"Dias ┆ 26884]     ┆   ┆           ┆ 00:00:00 ┆ 00:00:00 ┆ 00:00:00 │\n",
       "│            ┆           ┆ tolic…    ┆            ┆   ┆           ┆          ┆          ┆          │\n",
       "│ p20515_980 ┆ [58.0,    ┆ [\"O_E_-_h ┆ [67, 67]   ┆ … ┆ North     ┆ 2019-02- ┆ 2019-02- ┆ 2022-03- │\n",
       "│ 811620515  ┆ 5.32]     ┆ eight_1\", ┆            ┆   ┆ West      ┆ 20       ┆ 20       ┆ 19       │\n",
       "│            ┆           ┆ \"O_E_-_we ┆            ┆   ┆           ┆ 00:00:00 ┆ 00:00:00 ┆ 00:00:00 │\n",
       "│            ┆           ┆ ight…     ┆            ┆   ┆           ┆          ┆          ┆          │\n",
       "│ p20515_980 ┆ [157.0,   ┆ [\"O_E_-_h ┆ [4728,     ┆ … ┆ North     ┆ 2019-02- ┆ 2019-02- ┆ 2019-07- │\n",
       "│ 811820515  ┆ null, …   ┆ eight_1\", ┆ 5417, …    ┆   ┆ West      ┆ 19       ┆ 19       ┆ 29       │\n",
       "│            ┆ 5.0]      ┆ \"ASTHMA_P ┆ 13797]     ┆   ┆           ┆ 00:00:00 ┆ 00:00:00 ┆ 00:00:00 │\n",
       "│            ┆           ┆ USHA…     ┆            ┆   ┆           ┆          ┆          ┆          │\n",
       "└────────────┴───────────┴───────────┴────────────┴───┴───────────┴──────────┴──────────┴──────────┘"
      ]
     },
     "metadata": {},
     "output_type": "display_data"
    },
    {
     "data": {
      "text/plain": [
       "'p20515_297876720515'"
      ]
     },
     "metadata": {},
     "output_type": "display_data"
    },
    {
     "data": {
      "text/html": [
       "<div><style>\n",
       ".dataframe > thead > tr > th,\n",
       ".dataframe > tbody > tr > td {\n",
       "  text-align: right;\n",
       "}\n",
       "</style>\n",
       "<small>shape: (1, 14)</small><table border=\"1\" class=\"dataframe\"><thead><tr><th>PRACTICE_PATIENT_ID</th><th>VALUE</th><th>EVENT</th><th>DAYS_SINCE_BIRTH</th><th>PRACTICE_ID</th><th>PATIENT_ID</th><th>ETHNICITY</th><th>YEAR_OF_BIRTH</th><th>SEX</th><th>COUNTRY</th><th>HEALTH_AUTH</th><th>INDEX_DATE</th><th>START_DATE</th><th>END_DATE</th></tr><tr><td>str</td><td>list[f64]</td><td>list[str]</td><td>list[i64]</td><td>str</td><td>str</td><td>str</td><td>datetime[μs]</td><td>str</td><td>str</td><td>str</td><td>datetime[μs]</td><td>datetime[μs]</td><td>datetime[μs]</td></tr></thead><tbody><tr><td>&quot;p20515_2978767…</td><td>[null, 70.0, … null]</td><td>[&quot;ALCOHOLMISUSE&quot;, &quot;Diastolic_blood_pressure_5&quot;, … &quot;DEATH&quot;]</td><td>[18847, 19841, … 19905]</td><td>&quot;p20515&quot;</td><td>&quot;297876720515&quot;</td><td>&quot;MISSING&quot;</td><td>1961-07-15 00:00:00</td><td>&quot;M&quot;</td><td>&quot;E&quot;</td><td>&quot;North West&quot;</td><td>2015-08-11 00:00:00</td><td>2015-08-11 00:00:00</td><td>2016-01-13 00:00:00</td></tr></tbody></table></div>"
      ],
      "text/plain": [
       "shape: (1, 14)\n",
       "┌────────────┬───────────┬───────────┬────────────┬───┬───────────┬──────────┬──────────┬──────────┐\n",
       "│ PRACTICE_P ┆ VALUE     ┆ EVENT     ┆ DAYS_SINCE ┆ … ┆ HEALTH_AU ┆ INDEX_DA ┆ START_DA ┆ END_DATE │\n",
       "│ ATIENT_ID  ┆ ---       ┆ ---       ┆ _BIRTH     ┆   ┆ TH        ┆ TE       ┆ TE       ┆ ---      │\n",
       "│ ---        ┆ list[f64] ┆ list[str] ┆ ---        ┆   ┆ ---       ┆ ---      ┆ ---      ┆ datetime │\n",
       "│ str        ┆           ┆           ┆ list[i64]  ┆   ┆ str       ┆ datetime ┆ datetime ┆ [μs]     │\n",
       "│            ┆           ┆           ┆            ┆   ┆           ┆ [μs]     ┆ [μs]     ┆          │\n",
       "╞════════════╪═══════════╪═══════════╪════════════╪═══╪═══════════╪══════════╪══════════╪══════════╡\n",
       "│ p20515_297 ┆ [null,    ┆ [\"ALCOHOL ┆ [18847,    ┆ … ┆ North     ┆ 2015-08- ┆ 2015-08- ┆ 2016-01- │\n",
       "│ 876720515  ┆ 70.0, …   ┆ MISUSE\",  ┆ 19841, …   ┆   ┆ West      ┆ 11       ┆ 11       ┆ 13       │\n",
       "│            ┆ null]     ┆ \"Diastoli ┆ 19905]     ┆   ┆           ┆ 00:00:00 ┆ 00:00:00 ┆ 00:00:00 │\n",
       "│            ┆           ┆ c_blo…    ┆            ┆   ┆           ┆          ┆          ┆          │\n",
       "└────────────┴───────────┴───────────┴────────────┴───┴───────────┴──────────┴──────────┴──────────┘"
      ]
     },
     "metadata": {},
     "output_type": "display_data"
    },
    {
     "data": {
      "text/html": [
       "<div><style>\n",
       ".dataframe > thead > tr > th,\n",
       ".dataframe > tbody > tr > td {\n",
       "  text-align: right;\n",
       "}\n",
       "</style>\n",
       "<small>shape: (28_775, 4)</small><table border=\"1\" class=\"dataframe\"><thead><tr><th>PRACTICE_PATIENT_ID</th><th>EVENT</th><th>VALUE</th><th>DATE</th></tr><tr><td>str</td><td>str</td><td>f64</td><td>str</td></tr></thead><tbody><tr><td>&quot;p20515_1002242…</td><td>&quot;Diastolic_bloo…</td><td>90.0</td><td>&quot;2006-08-30&quot;</td></tr><tr><td>&quot;p20515_1002242…</td><td>&quot;Diastolic_bloo…</td><td>90.0</td><td>&quot;2008-09-04&quot;</td></tr><tr><td>&quot;p20515_1002242…</td><td>&quot;Diastolic_bloo…</td><td>80.0</td><td>&quot;2008-09-19&quot;</td></tr><tr><td>&quot;p20515_1002242…</td><td>&quot;Diastolic_bloo…</td><td>80.0</td><td>&quot;2008-10-03&quot;</td></tr><tr><td>&quot;p20515_1002242…</td><td>&quot;Diastolic_bloo…</td><td>80.0</td><td>&quot;2009-07-23&quot;</td></tr><tr><td>&quot;p20515_1002242…</td><td>&quot;Diastolic_bloo…</td><td>80.0</td><td>&quot;2010-08-13&quot;</td></tr><tr><td>&quot;p20515_1002242…</td><td>&quot;Diastolic_bloo…</td><td>78.0</td><td>&quot;2011-06-02&quot;</td></tr><tr><td>&quot;p20515_1002242…</td><td>&quot;Diastolic_bloo…</td><td>76.0</td><td>&quot;2012-11-15&quot;</td></tr><tr><td>&quot;p20515_1002242…</td><td>&quot;Diastolic_bloo…</td><td>82.0</td><td>&quot;2013-08-30&quot;</td></tr><tr><td>&quot;p20515_1002242…</td><td>&quot;Diastolic_bloo…</td><td>84.0</td><td>&quot;2013-11-29&quot;</td></tr><tr><td>&quot;p20515_1002242…</td><td>&quot;Diastolic_bloo…</td><td>85.0</td><td>&quot;2016-02-01&quot;</td></tr><tr><td>&quot;p20515_1002242…</td><td>&quot;Diastolic_bloo…</td><td>86.0</td><td>&quot;2017-10-24&quot;</td></tr><tr><td>&hellip;</td><td>&hellip;</td><td>&hellip;</td><td>&hellip;</td></tr><tr><td>&quot;p20515_9429013…</td><td>&quot;Diastolic_bloo…</td><td>66.0</td><td>&quot;2021-11-01&quot;</td></tr><tr><td>&quot;p20515_9658156…</td><td>&quot;Diastolic_bloo…</td><td>77.0</td><td>&quot;2018-01-18&quot;</td></tr><tr><td>&quot;p20515_9658160…</td><td>&quot;Diastolic_bloo…</td><td>90.0</td><td>&quot;2016-06-09&quot;</td></tr><tr><td>&quot;p20515_9658160…</td><td>&quot;Diastolic_bloo…</td><td>120.0</td><td>&quot;2016-06-09&quot;</td></tr><tr><td>&quot;p20515_9658160…</td><td>&quot;Diastolic_bloo…</td><td>164.0</td><td>&quot;2016-06-09&quot;</td></tr><tr><td>&quot;p20515_9658160…</td><td>&quot;Diastolic_bloo…</td><td>80.0</td><td>&quot;2017-09-11&quot;</td></tr><tr><td>&quot;p20515_9658160…</td><td>&quot;Diastolic_bloo…</td><td>80.0</td><td>&quot;2018-02-13&quot;</td></tr><tr><td>&quot;p20515_9658160…</td><td>&quot;Diastolic_bloo…</td><td>74.0</td><td>&quot;2018-04-10&quot;</td></tr><tr><td>&quot;p20515_9658160…</td><td>&quot;Diastolic_bloo…</td><td>85.0</td><td>&quot;2018-11-07&quot;</td></tr><tr><td>&quot;p20515_9767549…</td><td>&quot;Diastolic_bloo…</td><td>78.0</td><td>&quot;2018-02-14&quot;</td></tr><tr><td>&quot;p20515_9808118…</td><td>&quot;Diastolic_bloo…</td><td>84.0</td><td>&quot;2009-01-15&quot;</td></tr><tr><td>&quot;p20515_9808118…</td><td>&quot;Diastolic_bloo…</td><td>80.0</td><td>&quot;2018-02-20&quot;</td></tr></tbody></table></div>"
      ],
      "text/plain": [
       "shape: (28_775, 4)\n",
       "┌──────────────────────┬────────────────────────────┬───────┬────────────┐\n",
       "│ PRACTICE_PATIENT_ID  ┆ EVENT                      ┆ VALUE ┆ DATE       │\n",
       "│ ---                  ┆ ---                        ┆ ---   ┆ ---        │\n",
       "│ str                  ┆ str                        ┆ f64   ┆ str        │\n",
       "╞══════════════════════╪════════════════════════════╪═══════╪════════════╡\n",
       "│ p20515_1002242920515 ┆ Diastolic_blood_pressure_5 ┆ 90.0  ┆ 2006-08-30 │\n",
       "│ p20515_1002242920515 ┆ Diastolic_blood_pressure_5 ┆ 90.0  ┆ 2008-09-04 │\n",
       "│ p20515_1002242920515 ┆ Diastolic_blood_pressure_5 ┆ 80.0  ┆ 2008-09-19 │\n",
       "│ p20515_1002242920515 ┆ Diastolic_blood_pressure_5 ┆ 80.0  ┆ 2008-10-03 │\n",
       "│ …                    ┆ …                          ┆ …     ┆ …          │\n",
       "│ p20515_965816020515  ┆ Diastolic_blood_pressure_5 ┆ 85.0  ┆ 2018-11-07 │\n",
       "│ p20515_976754920515  ┆ Diastolic_blood_pressure_5 ┆ 78.0  ┆ 2018-02-14 │\n",
       "│ p20515_980811820515  ┆ Diastolic_blood_pressure_5 ┆ 84.0  ┆ 2009-01-15 │\n",
       "│ p20515_980811820515  ┆ Diastolic_blood_pressure_5 ┆ 80.0  ┆ 2018-02-20 │\n",
       "└──────────────────────┴────────────────────────────┴───────┴────────────┘"
      ]
     },
     "metadata": {},
     "output_type": "display_data"
    }
   ],
   "source": [
    "batch = lazy_batch.collect()\n",
    "display(batch)\n",
    "\n",
    "first_identifier = list(batch[\"PRACTICE_PATIENT_ID\"].unique())[0]\n",
    "display(first_identifier)\n",
    "                        \n",
    "row = batch.filter(pl.col(\"PRACTICE_PATIENT_ID\") == first_identifier)\n",
    "display(row)\n",
    "\n",
    "\n",
    "measur = lazy_table_frames_dict[\"lazy_measurement\"].collect()\n",
    "row = measur.filter(pl.col(\"EVENT\") == \"Diastolic_blood_pressure_5\")\n",
    "display(row)"
   ]
  },
  {
   "cell_type": "markdown",
   "id": "7e3d3e96-1989-4933-968c-b5da485b3162",
   "metadata": {},
   "source": [
    "# Demo wrapper\n",
    "\n",
    "All of this is wrapped together (without the option to filter - add your own wrapper specific to you application)"
   ]
  },
  {
   "cell_type": "code",
   "execution_count": 18,
   "id": "745248b8-4fbc-43e6-ae4c-c9383fa28bc4",
   "metadata": {},
   "outputs": [],
   "source": [
    "# for _idx, (chunk_name, lazy_table_frames_dict) in enumerate(collector.generator()):\n",
    "#     lazy_batch = collector._collate_lazy_tables(**lazy_table_frames_dict)\n",
    "#     break\n",
    "# print(_idx)\n",
    "# print(lazy_batch.collect())"
   ]
  },
  {
   "cell_type": "code",
   "execution_count": 15,
   "id": "7b93b43e-a670-4113-826c-350d500561fc",
   "metadata": {},
   "outputs": [
    {
     "name": "stdout",
     "output_type": "stream",
     "text": [
      "[NbConvertApp] Converting notebook buildV2.ipynb to html\n",
      "[NbConvertApp] Writing 671463 bytes to buildV2.html\n"
     ]
    }
   ],
   "source": [
    "!jupyter nbconvert --to html --no-input buildV2.ipynb"
   ]
  },
  {
   "cell_type": "code",
   "execution_count": null,
   "id": "6e9f9ec8-e833-4590-81c1-e185c18ba3b4",
   "metadata": {},
   "outputs": [],
   "source": []
  }
 ],
 "metadata": {
  "kernelspec": {
   "display_name": "Python",
   "language": "python",
   "name": "sys_python"
  },
  "language_info": {
   "codemirror_mode": {
    "name": "ipython",
    "version": 3
   },
   "file_extension": ".py",
   "mimetype": "text/x-python",
   "name": "python",
   "nbconvert_exporter": "python",
   "pygments_lexer": "ipython3",
   "version": "3.10.4"
  }
 },
 "nbformat": 4,
 "nbformat_minor": 5
}
