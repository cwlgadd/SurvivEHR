{
 "cells": [
  {
   "cell_type": "code",
   "execution_count": 1,
   "id": "035f8e72-250d-4ffc-bfea-2403554b68b5",
   "metadata": {},
   "outputs": [
    {
     "name": "stdout",
     "output_type": "stream",
     "text": [
      "Added path '/rds/homes/g/gaddcz/Projects/CPRD/virtual-env-icelake/lib/python3.10/site-packages' at start of search paths.\n",
      "env: SQLITE_TMPDIR=/rds/projects/g/gokhalkm-optimal/DataforCharles\n",
      "env: TMPDIR=/rds/projects/g/gokhalkm-optimal/DataforCharles\n",
      "/rds/projects/g/gokhalkm-optimal/DataforCharles\n",
      "/rds/projects/g/gokhalkm-optimal/DataforCharles\n",
      "\n"
     ]
    }
   ],
   "source": [
    "import os\n",
    "from pathlib import Path\n",
    "import sys\n",
    "node_type = os.getenv('BB_CPU')\n",
    "venv_dir = f'/rds/homes/g/gaddcz/Projects/CPRD/virtual-env-{node_type}'\n",
    "venv_site_pkgs = Path(venv_dir) / 'lib' / f'python{sys.version_info.major}.{sys.version_info.minor}' / 'site-packages'\n",
    "if venv_site_pkgs.exists():\n",
    "    sys.path.insert(0, str(venv_site_pkgs))\n",
    "    print(f\"Added path '{venv_site_pkgs}' at start of search paths.\")\n",
    "else:\n",
    "    print(f\"Path '{venv_site_pkgs}' not found. Check that it exists and/or that it exists for node-type '{node_type}'.\")\n",
    "\n",
    "%load_ext autoreload\n",
    "%autoreload 2\n",
    "\n",
    "%env SQLITE_TMPDIR=/rds/projects/g/gokhalkm-optimal/DataforCharles\n",
    "%env TMPDIR=/rds/projects/g/gokhalkm-optimal/DataforCharles\n",
    "!echo $SQLITE_TMPDIR\n",
    "!echo $TMPDIR\n",
    "!echo $USERPROFILE"
   ]
  },
  {
   "cell_type": "code",
   "execution_count": 11,
   "id": "b4c9bdce-d6af-44ea-a33b-5b448b0e0254",
   "metadata": {},
   "outputs": [
    {
     "name": "stdout",
     "output_type": "stream",
     "text": [
      "Using device: cuda.\n",
      "/rds/homes/g/gaddcz/Projects/CPRD/data/database\n"
     ]
    }
   ],
   "source": [
    "import pytorch_lightning\n",
    "import torch\n",
    "import numpy as np\n",
    "import matplotlib.pyplot as plt\n",
    "import random\n",
    "import sqlite3\n",
    "import logging\n",
    "import time\n",
    "from CPRD.data.database.build_static_db import Static\n",
    "from CPRD.data.database.build_diagnosis_db import Diagnoses\n",
    "from CPRD.data.database.build_measurements_and_tests_db import Measurements\n",
    "\n",
    "torch.manual_seed(1337)\n",
    "logging.basicConfig(level=logging.INFO)\n",
    "device = 'cuda' if torch.cuda.is_available() else 'cpu'\n",
    "\n",
    "print(f\"Using device: {device}.\")\n",
    "\n",
    "# !export TMPDIR=/rds/projects/g/gokhalkm-optimal/DataforCharles/tmp\n",
    "!pwd\n"
   ]
  },
  {
   "cell_type": "code",
   "execution_count": 3,
   "id": "2fd68b7b-b26f-4fe2-8484-7cd8b1b1af95",
   "metadata": {},
   "outputs": [],
   "source": [
    "PATH_TO_DB = \"/rds/projects/g/gokhalkm-optimal/OPTIMAL_MASTER_DATASET/data/cprd.db\""
   ]
  },
  {
   "cell_type": "markdown",
   "id": "eaa723e6-97f2-4716-8f1e-7d2fd65a9e98",
   "metadata": {},
   "source": [
    "## Create/load tables"
   ]
  },
  {
   "cell_type": "code",
   "execution_count": 7,
   "id": "e09204e7-348e-42f8-81e1-0673b4f5cd5f",
   "metadata": {},
   "outputs": [],
   "source": [
    "PATH_TO_STATIC = \"/rds/projects/g/gokhalkm-optimal/OPTIMAL_MASTER_DATASET/data/baseline/masterDataOptimalWithIMD_v3.csv\"\n",
    "PATH_TO_DIAGNOSIS = \"/rds/projects/g/gokhalkm-optimal/OPTIMAL_MASTER_DATASET/data/baseline/masterDataOptimalWithIMD_v3.csv\"\n",
    "PATH_TO_MEASUREMENTS = \"/rds/projects/g/gokhalkm-optimal/OPTIMAL_MASTER_DATASET/data/timeseries/measurement_and_tests/lab_measurements/\"\n",
    "load = True\n",
    "\n",
    "static = Static(PATH_TO_DB, PATH_TO_STATIC, load=load)\n",
    "diagnosis = Diagnoses(PATH_TO_DB, PATH_TO_DIAGNOSIS, load=load)\n",
    "measurements = Measurements(PATH_TO_DB, PATH_TO_MEASUREMENTS, load=load)"
   ]
  },
  {
   "cell_type": "markdown",
   "id": "c501f6b2-ca6c-4429-8e84-56f39917f025",
   "metadata": {},
   "source": [
    "## View tables\n",
    "\n",
    "These are built through a job script"
   ]
  },
  {
   "cell_type": "code",
   "execution_count": null,
   "id": "6357d2db-ab48-4db6-88b2-e90e20cda213",
   "metadata": {
    "scrolled": true
   },
   "outputs": [
    {
     "name": "stdout",
     "output_type": "stream",
     "text": [
      "Static table with 28.12M records.\n",
      "Diagnosis table with 51.00M records.\n"
     ]
    }
   ],
   "source": [
    "for table in [static, diagnosis, measurements]:\n",
    "    print(table)"
   ]
  },
  {
   "cell_type": "code",
   "execution_count": 9,
   "id": "ea16b251-6b65-4f41-ba41-018a8b152889",
   "metadata": {},
   "outputs": [
    {
     "name": "stdout",
     "output_type": "stream",
     "text": [
      "['measurement_25_Hydroxyvitamin_D2_level_92', 'measurement_25_Hydroxyvitamin_D3_level_90', 'measurement_AST___aspartate_transam_SGOT__46', 'measurement_AST_serum_level_47', 'measurement_Albumin___creatinine_ratio_37', 'measurement_Basophil_count_22', 'measurement_Blood_calcium_level_38', 'measurement_Blood_urea_28', 'measurement_Body_mass_index_3', 'measurement_Brain_natriuretic_peptide_level_66', 'measurement_Calcium_adjusted_level_41', 'measurement_Calculated_LDL_cholesterol_level_103', 'measurement_Combined_total_vitamin_D2_and_D3_level_93', 'measurement_Corrected_serum_calcium_level_42', 'measurement_Current_smoker_83', 'measurement_Diastolic_blood_pressure_5', 'measurement_Eosinophil_count_21', 'measurement_Erythrocyte_sedimentation_rate_61', 'measurement_Ex_smoker_84', 'measurement_Free_T4_level_76', 'measurement_GFR_calculated_abbreviated_MDRD_34', 'measurement_Haematocrit___PCV_16', 'measurement_Haematocrit_15', 'measurement_Haemoglobin_A1c_level___IFCC_standardised_6', 'measurement_Haemoglobin_A1c_level_8', 'measurement_Haemoglobin_estimation_9', 'measurement_HbA1c_level__DCCT_aligned__7', 'measurement_INR___international_normalised_ratio_81', 'measurement_International_normalised_ratio_82', 'measurement_Lymphocyte_count_20', 'measurement_Mean_corpusc_Hb_conc__MCHC__14', 'measurement_Mean_corpusc_haemoglobin_MCH__13', 'measurement_Mean_corpuscular_volume__MCV__11', 'measurement_Monocyte_count_23', 'measurement_N_terminal_pro_brain_natriuretic_peptide_level_67', 'measurement_Neutrophil_count_19', 'measurement_Never_smoked_tobacco_85', 'measurement_Non_HDL_cholesterol_level_108', 'measurement_O_E___height_1', 'measurement_O_E___weight_2', 'measurement_Plasma_B_natriuretic_peptide_level_69', 'measurement_Plasma_C_reactive_protein_60', 'measurement_Plasma_HDL_cholesterol_level_101', 'measurement_Plasma_LDL_cholesterol_level_104', 'measurement_Plasma_N_terminal_pro_B_type_natriuretic_peptide_conc_70', 'measurement_Plasma_TSH_level_73', 'measurement_Plasma_alanine_aminotransferase_level_44', 'measurement_Plasma_albumin_level_52', 'measurement_Plasma_alkaline_phosphatase_level_49', 'measurement_Plasma_calcium_level_40', 'measurement_Plasma_cholesterol_HDL_ratio_96', 'measurement_Plasma_corrected_calcium_level_43', 'measurement_Plasma_creatinine_level_32', 'measurement_Plasma_ferritin_level_62', 'measurement_Plasma_free_T4_level_77', 'measurement_Plasma_gamma_glutamyl_transferase_level_58', 'measurement_Plasma_potassium_level_27', 'measurement_Plasma_pro_brain_natriuretic_peptide_level_64', 'measurement_Plasma_sodium_level_25', 'measurement_Plasma_total_bilirubin_level_54', 'measurement_Plasma_total_cholesterol_level_99', 'measurement_Plasma_triglyceride_level_106', 'measurement_Plasma_urea_level_30', 'measurement_Platelet_count_12', 'measurement_Red_blood_cell__RBC__count_10', 'measurement_Red_blood_cell_distribution_width_17', 'measurement_Serum_25_Hydroxy_vitamin_D3_level_88', 'measurement_Serum_C_reactive_protein_level_59', 'measurement_Serum_HDL_cholesterol_level_100', 'measurement_Serum_LDL_cholesterol_level_102', 'measurement_Serum_N_terminal_pro_B_type_natriuretic_peptide_conc_68', 'measurement_Serum_T4_level_78', 'measurement_Serum_TSH_level_71', 'measurement_Serum_alanine_aminotransferase_level_45', 'measurement_Serum_albumin_51', 'measurement_Serum_alkaline_phosphatase_50', 'measurement_Serum_bilirubin_level_53', 'measurement_Serum_calcium_39', 'measurement_Serum_cholesterol_97', 'measurement_Serum_cholesterol_HDL_ratio_94', 'measurement_Serum_creatinine_31', 'measurement_Serum_ferritin_63', 'measurement_Serum_folate_80', 'measurement_Serum_free_T4_level_75', 'measurement_Serum_gamma_glutamyl_transferase_level_57', 'measurement_Serum_non_high_density_lipoprotein_cholesterol_level_107', 'measurement_Serum_potassium_26', 'measurement_Serum_pro_brain_natriuretic_peptide_level_65', 'measurement_Serum_sodium_24', 'measurement_Serum_total_25_hydroxy_vitamin_D_level_87', 'measurement_Serum_total_bilirubin_level_56', 'measurement_Serum_total_cholesterol_level_98', 'measurement_Serum_triglycerides_105', 'measurement_Serum_urea_level_29', 'measurement_Serum_vitamin_B12_79', 'measurement_Serum_vitamin_D2_level_89', 'measurement_Serum_vitamin_D_86', 'measurement_SmokingStatus_NeverSmoked', 'measurement_Systolic_blood_pressure_4', 'measurement_TSH___thyroid_stim_hormone_72', 'measurement_TSH_level_74', 'measurement_Total_25_hydroxyvitamin_D_level_91', 'measurement_Total_alkaline_phosphatase_48', 'measurement_Total_bilirubin_55', 'measurement_Total_cholesterol_HDL_ratio_95', 'measurement_Total_white_cell_count_18', 'measurement_Urine_albumin_creatinine_ratio_35', 'measurement_Urine_microalbumin_creatinine_ratio_36', 'measurement_eGFR_using_creatinine_CKD_EPI_per_1_73_square_metres_33']\n"
     ]
    }
   ],
   "source": [
    "# print(measurements.measurement_table_names)"
   ]
  },
  {
   "cell_type": "markdown",
   "id": "7d6819bc-cd94-4006-b330-6a6299401145",
   "metadata": {},
   "source": [
    "## Check query execution time"
   ]
  },
  {
   "cell_type": "code",
   "execution_count": 28,
   "id": "16578577-c6fc-477b-ba65-92a3ed40fed4",
   "metadata": {},
   "outputs": [
    {
     "name": "stdout",
     "output_type": "stream",
     "text": [
      "ADDISONS DISEASE                         & $6,691$ \\\\\n",
      "ADDISON DISEASE                          & $11,794$ \\\\\n",
      "AF                                       & $731,332$ \\\\\n",
      "ALCOHOLMISUSE V2                         & $1,125,212$ \\\\\n",
      "ALLCANCER NOHAEM NOBCC                   & $1,496,973$ \\\\\n",
      "ALLERGICRHINITISCONJ                     & $3,291,165$ \\\\\n",
      "ALL DEMENTIA                             & $528,602$ \\\\\n",
      "ANXIETY                                  & $3,560,978$ \\\\\n",
      "ANY DEAFNESS HEARING LOSS V2             & $2,282,766$ \\\\\n",
      "AORTICANEURYSM V2                        & $101,134$ \\\\\n",
      "ASTHMA PUSHASTHMA                        & $4,175,115$ \\\\\n",
      "ATOPICECZEMA                             & $4,369,082$ \\\\\n",
      "AUTISM                                   & $156,860$ \\\\\n",
      "BIPOLAR                                  & $108,852$ \\\\\n",
      "BRONCHIECTASIS                           & $112,618$ \\\\\n",
      "CHRONICFATIGUESYNDROMEMM V2              & $82,799$ \\\\\n",
      "CHRONIC LIVER DISEASE ALCOHOL            & $63,405$ \\\\\n",
      "CKDSTAGE3TO5                             & $1,088,754$ \\\\\n",
      "COPD                                     & $751,320$ \\\\\n",
      "CROHNS DISEASE                           & $81,250$ \\\\\n",
      "CYSTICFIBROSIS                           & $7,053$ \\\\\n",
      "DEATH                                    & $1,629,100$ \\\\\n",
      "DEPRESSION                               & $4,109,336$ \\\\\n",
      "DOWNSSYNDROME                            & $17,006$ \\\\\n",
      "EATINGDISORDERS                          & $191,873$ \\\\\n",
      "ENDOMETRIOSIS ADENOMYOSIS V2             & $209,157$ \\\\\n",
      "EPILEPSY                                 & $377,341$ \\\\\n",
      "FIBROMYALGIA                             & $153,213$ \\\\\n",
      "GOUT                                     & $632,089$ \\\\\n",
      "HAEMOCHROMATOSIS V2                      & $18,631$ \\\\\n",
      "HF V3                                    & $524,982$ \\\\\n",
      "HIVAIDS                                  & $41,951$ \\\\\n",
      "HYPERTENSION                             & $3,934,473$ \\\\\n",
      "HYPERTHYROIDISM V2                       & $217,964$ \\\\\n",
      "HYPOTHYROIDISM DRAFT V1                  & $932,079$ \\\\\n",
      "IHDINCLUDINGMI OPTIMALV2                 & $1,162,843$ \\\\\n",
      "ILD SH                                   & $58,104$ \\\\\n",
      "ISCHAEMICSTROKE V2                       & $178,437$ \\\\\n",
      "LEUKAEMIA PREVALENCEV2                   & $54,438$ \\\\\n",
      "LYMPHOMA PREVALENCE V2                   & $80,511$ \\\\\n",
      "MENIERESDISEASE                          & $73,688$ \\\\\n",
      "MINFARCTION                              & $477,556$ \\\\\n",
      "MS                                       & $53,204$ \\\\\n",
      "NAFLD V2                                 & $158,688$ \\\\\n",
      "OSA                                      & $234,938$ \\\\\n",
      "OSTEOARTHRITIS                           & $2,653,242$ \\\\\n",
      "OSTEOPOROSIS                             & $628,118$ \\\\\n",
      "OTHER CHRONIC LIVER DISEASE OPTIMAL      & $289,252$ \\\\\n",
      "PAD STRICT                               & $254,632$ \\\\\n",
      "PARKINSONS                               & $91,718$ \\\\\n",
      "PERIPHERAL NEUROPATHY                    & $840,638$ \\\\\n",
      "PERNICIOUSANAEMIA                        & $73,331$ \\\\\n",
      "PLASMACELL NEOPLASM V2                   & $20,301$ \\\\\n",
      "PMRANDGCA                                & $195,907$ \\\\\n",
      "POLYCYSTIC OVARIAN SYNDROME PCOS V2      & $332,297$ \\\\\n",
      "PREVALENT IBS V2                         & $1,210,229$ \\\\\n",
      "PSORIASIS                                & $743,897$ \\\\\n",
      "PSORIATICARTHRITIS2021                   & $51,273$ \\\\\n",
      "PTSDDIAGNOSIS                            & $126,269$ \\\\\n",
      "PVD V3                                   & $185,904$ \\\\\n",
      "RHEUMATOIDARTHRITIS                      & $197,253$ \\\\\n",
      "SCHIZOPHRENIAMM V2                       & $125,141$ \\\\\n",
      "SICKLE CELL DISEASE V2                   & $11,159$ \\\\\n",
      "SJOGRENSSYNDROME                         & $23,326$ \\\\\n",
      "STROKEUNSPECIFIED V2                     & $446,046$ \\\\\n",
      "STROKE HAEMRGIC                          & $83,609$ \\\\\n",
      "SUBSTANCEMISUSE                          & $502,552$ \\\\\n",
      "SYSTEMIC LUPUS ERYTHEMATOSUS             & $26,820$ \\\\\n",
      "SYSTEMIC SCLEROSIS                       & $8,772$ \\\\\n",
      "TYPE1DM                                  & $145,143$ \\\\\n",
      "TYPE2DIABETES                            & $1,404,325$ \\\\\n",
      "ULCERATIVE COLITIS                       & $120,361$ \\\\\n",
      "VALVULARDISEASES V2                      & $401,061$ \\\\\n",
      "VISUAL IMPAIRMENT                        & $155,707$ \\\\\n",
      "Total                                    & 51,003,640\n",
      "19.39475178718567\n"
     ]
    }
   ],
   "source": [
    "import time\n",
    "\n",
    "measurements.connect()\n",
    "\n",
    "t = time.time()   #  EXPLAIN QUERY PLAN        diagnosis_table           measurement_table        static_table\n",
    "measurements.cursor.execute(\"\"\" SELECT EVENT, COUNT(EVENT)\n",
    "                                FROM\n",
    "                                \tdiagnosis_table\n",
    "                                 GROUP BY \n",
    "                                     EVENT\n",
    "                                 ;\"\"\")\n",
    "total_count = 0\n",
    "for condition, count in measurements.cursor.fetchall():\n",
    "    print(f\"{condition}\".replace(\"_\",\" \").ljust(40) + f\" & ${count:,}$ \\\\\\\\\".rjust(10))\n",
    "    total_count += count\n",
    "print(\"Total\".ljust(40) + f\" & {total_count:,}\")\n",
    "\n",
    "eval_time = (time.time() - t)\n",
    "print(eval_time )"
   ]
  },
  {
   "cell_type": "code",
   "execution_count": null,
   "id": "66aad5da-fb0f-4160-a589-3d33f3891ef6",
   "metadata": {},
   "outputs": [],
   "source": [
    "\n",
    "count = 0\n",
    "for mtable in measurements.measurement_table_names:\n",
    "    measurements.cursor.execute(f\"\"\"  SELECT\n",
    "                                    \tCOUNT(*)\n",
    "                                    FROM\n",
    "                                    \t{mtable}\n",
    "                                    \"\"\")\n",
    "    # WHERE PRACTICE_PATIENT_ID = 'p20684_2602314020684' \n",
    "    a = measurements.cursor.fetchall()[0][0]\n",
    "    print(mtable.ljust(50) + f\"{a}\")\n",
    "    count += a\n",
    "# print(a[:10])\n",
    "print(count)"
   ]
  },
  {
   "cell_type": "markdown",
   "id": "3981654d-42ac-4566-9cbc-04f1577fe269",
   "metadata": {},
   "source": [
    "# Collector demo\n",
    "\n",
    "We can extract unique distinct column values from any table, and use these to chunk the data for processing\n",
    "\n",
    "* We can add practice level conditions here,\n",
    "    * e.g. practices that are in the North West region. "
   ]
  },
  {
   "cell_type": "code",
   "execution_count": 4,
   "id": "7aee35c9-6c90-46a0-9bf5-a3dc43dcf65c",
   "metadata": {},
   "outputs": [
    {
     "name": "stdout",
     "output_type": "stream",
     "text": [
      "The first ten unique practice IDs: [21505, 20995, 20996, 21508, 21000, 21514, 21515, 21007, 21008, 21010] from 305 total\n"
     ]
    }
   ],
   "source": [
    "from CPRD.data.dataset.collector import SQLiteDataCollector\n",
    "import polars as pl\n",
    "import logging \n",
    "logging.basicConfig(level=logging.INFO)\n",
    "\n",
    "collector = SQLiteDataCollector(PATH_TO_DB)\n",
    "collector.connect()\n",
    "\n",
    "practice_ids = collector._extract_distinct([\"static_table\"], \"PRACTICE_ID\", conditions=[\"HEALTH_AUTH = 'North West'\"])\n",
    "\n",
    "print(f\"The first ten unique practice IDs: {practice_ids[:10]} from {len(practice_ids)} total\")"
   ]
  },
  {
   "cell_type": "markdown",
   "id": "252b3e25-3ebb-43ea-a54e-53cf34e289da",
   "metadata": {},
   "source": [
    "## Given these practice IDs, we can chain this query to get the pratice patient ID's in a practice\n",
    "\n",
    "* We do this as only the static table has all practice_patient_id, patient_id, and practice_id stored and indexed.\n",
    "    * This means we can very quickly find the keys needed to index on the other tables which only have practice_patient_id indexed.\n",
    "* We can add patient level conditions here\n",
    "    * For example, only male, people who died during a period, etc"
   ]
  },
  {
   "cell_type": "code",
   "execution_count": 5,
   "id": "7a4cf6c8-fddd-4941-8271-00312577a975",
   "metadata": {},
   "outputs": [
    {
     "name": "stdout",
     "output_type": "stream",
     "text": [
      "\n",
      "The first five unique practice_patient IDs from practice 21505:\n",
      "\t['p21505_6499892121505', 'p21505_6721456421505', 'p21505_6499676121505', 'p21505_6499427021505', 'p21505_6499706721505'] from 2978 total\n",
      "\n",
      "Total male patients in each practice:\n",
      "\t [2978, 7353, 167, 10075, 3456, 10727, 5948, 10060, 3337, 4355, 4359, 4732, 9742, 9991, 7067, 7739, 5589, 2995, 12730, 15698, 8748, 6097, 4769, 7536, 6467, 10999, 8421, 3352, 4423, 13347, 6035, 8694, 11087, 12412, 7594, 2431, 7837, 7384, 4038, 9033, 7273, 6921, 14112, 7506, 6299, 8669, 4480, 2326, 8275, 10382, 3230, 6515, 5382, 3210, 4623, 11147, 4061, 7983, 4202, 9844, 7802, 9414, 6508, 6570, 17641, 14467, 2733, 5349, 36498, 36236, 4853, 13566, 4878, 6545, 231, 6101, 5236, 7443, 7149, 5396, 5926, 6347, 9721, 19320, 3748, 9388, 7912, 10456, 4048, 12342, 12121, 6510, 12210, 11697, 15807, 7896, 10871, 7275, 2947, 8767, 11560, 9993, 7809, 22261, 7067, 4748, 3451, 6236, 9718, 12605, 1077, 5160, 6008, 5280, 4139, 6202, 16834, 3648, 4768, 68067, 11073, 10346, 6716, 12517, 2112, 6095, 3990, 2316, 4959, 3229, 6307, 10423, 8499, 6009, 4102, 4425, 3681, 5796, 2332, 13750, 12158, 7182, 16368, 3390, 16867, 3981, 3346, 5276, 8399, 4490, 9405, 2326, 3721, 5952, 6340, 4431, 9213, 4038, 2601, 10431, 1930, 6388, 4473, 4008, 6665, 2491, 7712, 1938, 6558, 2224, 8992, 16841, 6118, 4935, 3264, 9787, 3696, 2243, 1772, 3861, 2875, 3065, 4925, 3940, 3727, 2318, 5866, 3878, 15994, 4240, 11354, 9401, 3839, 3007, 2174, 3972, 13249, 6919, 6595, 2812, 2414, 8707, 4902, 6683, 8025, 3930, 13999, 7459, 5220, 6417, 4598, 6342, 3341, 3707, 4539, 8400, 4086, 6894, 9794, 2777, 4206, 12716, 3917, 23129, 26719, 18685, 9177, 8175, 4438, 5008, 6890, 6625, 6015, 58229, 10745, 7268, 12136, 10484, 10309, 5878, 13033, 10113, 7568, 13680, 7112, 7278, 9559, 4615, 8357, 3432, 3773, 5708, 3649, 13179, 4395, 7167, 4215, 3563, 9251, 5780, 9360, 10611, 6400, 6019, 4467, 2242, 1857, 3565, 3491, 5273, 3082, 6458, 2052, 3426, 2071, 3829, 4353, 1560, 2156, 18184, 7997, 6454, 4960, 6806, 2988, 9294, 2187, 3624, 6759, 5731, 3070, 11792, 5973, 7719, 3779, 9638, 6975, 7852, 9225, 5920, 7313, 3348, 13381, 13297, 3613]\n"
     ]
    }
   ],
   "source": [
    "practice_patient_ids = []\n",
    "for p_id in practice_ids:\n",
    "    practice_patient_ids.append(collector._extract_distinct([\"static_table\"], \"PRACTICE_PATIENT_ID\", conditions=[f\"PRACTICE_ID = '{p_id}' AND SEX = 'M'\"]))\n",
    "                                \n",
    "print(f\"\\nThe first five unique practice_patient IDs from practice {practice_ids[0]}:\\n\\t{practice_patient_ids[0][:5]} from {len(practice_patient_ids[0])} total\")\n",
    "print(f\"\\nTotal male patients in each practice:\\n\\t {[len(ppid) for ppid in practice_patient_ids]}\")"
   ]
  },
  {
   "cell_type": "markdown",
   "id": "7f6ab2dd-b312-4ebf-ba5b-6aaccf290911",
   "metadata": {},
   "source": [
    "### Create a generator which chunks the .db tables by practice_id or practice_patient_id and lazily batch using Polars (Rust)\n",
    "\n",
    "* We can also choose to pass this method a list of conditions, one for each table.\n",
    "   * For example, we may only want to collect measurements within some predfined list, period etc"
   ]
  },
  {
   "cell_type": "markdown",
   "id": "93371030-a4d0-4988-94f9-9f3fd70a0941",
   "metadata": {},
   "source": [
    "In the first case, we may want to generate by individual level values. \n",
    "\n",
    "Here, we then pass in the list we generate over - which in this instance is the list of practice patient ID's belonging to the first chunk. Here we are then yielding one person per call to the generator."
   ]
  },
  {
   "cell_type": "code",
   "execution_count": 20,
   "id": "4a4e3060-6b89-4170-b5be-ac324b82d0be",
   "metadata": {
    "scrolled": true
   },
   "outputs": [
    {
     "name": "stderr",
     "output_type": "stream",
     "text": [
      "INFO:root:Query: SELECT * FROM static_table WHERE PRACTICE_PATIENT_ID IN ('p21505_6499892121505','p21505_672145642150\n",
      "INFO:root:Query: SELECT * FROM diagnosis_table WHERE PRACTICE_PATIENT_ID IN ('p21505_6499892121505','p21505_672145642\n",
      "INFO:root:Query: SELECT * FROM measurement_25_Hydroxyvitamin_D2_level_92 WHERE PRACTICE_PATIENT_ID IN ('p21505_649989\n",
      "INFO:root:Query: SELECT * FROM measurement_25_Hydroxyvitamin_D3_level_90 WHERE PRACTICE_PATIENT_ID IN ('p21505_649989\n",
      "INFO:root:Query: SELECT * FROM measurement_AST___aspartate_transam_SGOT__46 WHERE PRACTICE_PATIENT_ID IN ('p21505_649\n",
      "INFO:root:Query: SELECT * FROM measurement_AST_serum_level_47 WHERE PRACTICE_PATIENT_ID IN ('p21505_6499892121505','p\n",
      "INFO:root:Query: SELECT * FROM measurement_Albumin___creatinine_ratio_37 WHERE PRACTICE_PATIENT_ID IN ('p21505_649989\n",
      "INFO:root:Query: SELECT * FROM measurement_Basophil_count_22 WHERE PRACTICE_PATIENT_ID IN ('p21505_6499892121505','p2\n",
      "INFO:root:Query: SELECT * FROM measurement_Blood_calcium_level_38 WHERE PRACTICE_PATIENT_ID IN ('p21505_6499892121505\n",
      "INFO:root:Query: SELECT * FROM measurement_Blood_urea_28 WHERE PRACTICE_PATIENT_ID IN ('p21505_6499892121505','p21505\n",
      "INFO:root:Query: SELECT * FROM measurement_Body_mass_index_3 WHERE PRACTICE_PATIENT_ID IN ('p21505_6499892121505','p2\n",
      "INFO:root:Query: SELECT * FROM measurement_Brain_natriuretic_peptide_level_66 WHERE PRACTICE_PATIENT_ID IN ('p21505_6\n",
      "INFO:root:Query: SELECT * FROM measurement_Calcium_adjusted_level_41 WHERE PRACTICE_PATIENT_ID IN ('p21505_6499892121\n",
      "INFO:root:Query: SELECT * FROM measurement_Calculated_LDL_cholesterol_level_103 WHERE PRACTICE_PATIENT_ID IN ('p21505\n",
      "INFO:root:Query: SELECT * FROM measurement_Combined_total_vitamin_D2_and_D3_level_93 WHERE PRACTICE_PATIENT_ID IN ('p\n",
      "INFO:root:Query: SELECT * FROM measurement_Corrected_serum_calcium_level_42 WHERE PRACTICE_PATIENT_ID IN ('p21505_649\n",
      "INFO:root:Query: SELECT * FROM measurement_Current_smoker_83 WHERE PRACTICE_PATIENT_ID IN ('p21505_6499892121505','p2\n",
      "INFO:root:Query: SELECT * FROM measurement_Diastolic_blood_pressure_5 WHERE PRACTICE_PATIENT_ID IN ('p21505_649989212\n",
      "INFO:root:Query: SELECT * FROM measurement_Eosinophil_count_21 WHERE PRACTICE_PATIENT_ID IN ('p21505_6499892121505','\n",
      "INFO:root:Query: SELECT * FROM measurement_Erythrocyte_sedimentation_rate_61 WHERE PRACTICE_PATIENT_ID IN ('p21505_64\n",
      "INFO:root:Query: SELECT * FROM measurement_Ex_smoker_84 WHERE PRACTICE_PATIENT_ID IN ('p21505_6499892121505','p21505_\n",
      "INFO:root:Query: SELECT * FROM measurement_Free_T4_level_76 WHERE PRACTICE_PATIENT_ID IN ('p21505_6499892121505','p21\n",
      "INFO:root:Query: SELECT * FROM measurement_GFR_calculated_abbreviated_MDRD_34 WHERE PRACTICE_PATIENT_ID IN ('p21505_6\n",
      "INFO:root:Query: SELECT * FROM measurement_Haematocrit___PCV_16 WHERE PRACTICE_PATIENT_ID IN ('p21505_6499892121505',\n",
      "INFO:root:Query: SELECT * FROM measurement_Haematocrit_15 WHERE PRACTICE_PATIENT_ID IN ('p21505_6499892121505','p2150\n",
      "INFO:root:Query: SELECT * FROM measurement_Haemoglobin_A1c_level___IFCC_standardised_6 WHERE PRACTICE_PATIENT_ID IN (\n",
      "INFO:root:Query: SELECT * FROM measurement_Haemoglobin_A1c_level_8 WHERE PRACTICE_PATIENT_ID IN ('p21505_649989212150\n",
      "INFO:root:Query: SELECT * FROM measurement_Haemoglobin_estimation_9 WHERE PRACTICE_PATIENT_ID IN ('p21505_64998921215\n",
      "INFO:root:Query: SELECT * FROM measurement_HbA1c_level__DCCT_aligned__7 WHERE PRACTICE_PATIENT_ID IN ('p21505_6499892\n",
      "INFO:root:Query: SELECT * FROM measurement_INR___international_normalised_ratio_81 WHERE PRACTICE_PATIENT_ID IN ('p21\n",
      "INFO:root:Query: SELECT * FROM measurement_International_normalised_ratio_82 WHERE PRACTICE_PATIENT_ID IN ('p21505_64\n",
      "INFO:root:Query: SELECT * FROM measurement_Lymphocyte_count_20 WHERE PRACTICE_PATIENT_ID IN ('p21505_6499892121505','\n",
      "INFO:root:Query: SELECT * FROM measurement_Mean_corpusc_Hb_conc__MCHC__14 WHERE PRACTICE_PATIENT_ID IN ('p21505_64998\n",
      "INFO:root:Query: SELECT * FROM measurement_Mean_corpusc_haemoglobin_MCH__13 WHERE PRACTICE_PATIENT_ID IN ('p21505_649\n",
      "INFO:root:Query: SELECT * FROM measurement_Mean_corpuscular_volume__MCV__11 WHERE PRACTICE_PATIENT_ID IN ('p21505_649\n",
      "INFO:root:Query: SELECT * FROM measurement_Monocyte_count_23 WHERE PRACTICE_PATIENT_ID IN ('p21505_6499892121505','p2\n",
      "INFO:root:Query: SELECT * FROM measurement_N_terminal_pro_brain_natriuretic_peptide_level_67 WHERE PRACTICE_PATIENT_I\n",
      "INFO:root:Query: SELECT * FROM measurement_Neutrophil_count_19 WHERE PRACTICE_PATIENT_ID IN ('p21505_6499892121505','\n",
      "INFO:root:Query: SELECT * FROM measurement_Never_smoked_tobacco_85 WHERE PRACTICE_PATIENT_ID IN ('p21505_649989212150\n",
      "INFO:root:Query: SELECT * FROM measurement_Non_HDL_cholesterol_level_108 WHERE PRACTICE_PATIENT_ID IN ('p21505_649989\n",
      "INFO:root:Query: SELECT * FROM measurement_O_E___height_1 WHERE PRACTICE_PATIENT_ID IN ('p21505_6499892121505','p2150\n",
      "INFO:root:Query: SELECT * FROM measurement_O_E___weight_2 WHERE PRACTICE_PATIENT_ID IN ('p21505_6499892121505','p2150\n",
      "INFO:root:Query: SELECT * FROM measurement_Plasma_B_natriuretic_peptide_level_69 WHERE PRACTICE_PATIENT_ID IN ('p2150\n",
      "INFO:root:Query: SELECT * FROM measurement_Plasma_C_reactive_protein_60 WHERE PRACTICE_PATIENT_ID IN ('p21505_6499892\n",
      "INFO:root:Query: SELECT * FROM measurement_Plasma_HDL_cholesterol_level_101 WHERE PRACTICE_PATIENT_ID IN ('p21505_649\n",
      "INFO:root:Query: SELECT * FROM measurement_Plasma_LDL_cholesterol_level_104 WHERE PRACTICE_PATIENT_ID IN ('p21505_649\n",
      "INFO:root:Query: SELECT * FROM measurement_Plasma_N_terminal_pro_B_type_natriuretic_peptide_conc_70 WHERE PRACTICE_PA\n",
      "INFO:root:Query: SELECT * FROM measurement_Plasma_TSH_level_73 WHERE PRACTICE_PATIENT_ID IN ('p21505_6499892121505','\n",
      "INFO:root:Query: SELECT * FROM measurement_Plasma_alanine_aminotransferase_level_44 WHERE PRACTICE_PATIENT_ID IN ('p2\n",
      "INFO:root:Query: SELECT * FROM measurement_Plasma_albumin_level_52 WHERE PRACTICE_PATIENT_ID IN ('p21505_649989212150\n",
      "INFO:root:Query: SELECT * FROM measurement_Plasma_alkaline_phosphatase_level_49 WHERE PRACTICE_PATIENT_ID IN ('p21505\n",
      "INFO:root:Query: SELECT * FROM measurement_Plasma_calcium_level_40 WHERE PRACTICE_PATIENT_ID IN ('p21505_649989212150\n",
      "INFO:root:Query: SELECT * FROM measurement_Plasma_cholesterol_HDL_ratio_96 WHERE PRACTICE_PATIENT_ID IN ('p21505_6499\n",
      "INFO:root:Query: SELECT * FROM measurement_Plasma_corrected_calcium_level_43 WHERE PRACTICE_PATIENT_ID IN ('p21505_64\n",
      "INFO:root:Query: SELECT * FROM measurement_Plasma_creatinine_level_32 WHERE PRACTICE_PATIENT_ID IN ('p21505_649989212\n",
      "INFO:root:Query: SELECT * FROM measurement_Plasma_ferritin_level_62 WHERE PRACTICE_PATIENT_ID IN ('p21505_64998921215\n",
      "INFO:root:Query: SELECT * FROM measurement_Plasma_free_T4_level_77 WHERE PRACTICE_PATIENT_ID IN ('p21505_649989212150\n",
      "INFO:root:Query: SELECT * FROM measurement_Plasma_gamma_glutamyl_transferase_level_58 WHERE PRACTICE_PATIENT_ID IN ('\n",
      "INFO:root:Query: SELECT * FROM measurement_Plasma_potassium_level_27 WHERE PRACTICE_PATIENT_ID IN ('p21505_6499892121\n",
      "INFO:root:Query: SELECT * FROM measurement_Plasma_pro_brain_natriuretic_peptide_level_64 WHERE PRACTICE_PATIENT_ID IN\n",
      "INFO:root:Query: SELECT * FROM measurement_Plasma_sodium_level_25 WHERE PRACTICE_PATIENT_ID IN ('p21505_6499892121505\n",
      "INFO:root:Query: SELECT * FROM measurement_Plasma_total_bilirubin_level_54 WHERE PRACTICE_PATIENT_ID IN ('p21505_6499\n",
      "INFO:root:Query: SELECT * FROM measurement_Plasma_total_cholesterol_level_99 WHERE PRACTICE_PATIENT_ID IN ('p21505_64\n",
      "INFO:root:Query: SELECT * FROM measurement_Plasma_triglyceride_level_106 WHERE PRACTICE_PATIENT_ID IN ('p21505_649989\n",
      "INFO:root:Query: SELECT * FROM measurement_Plasma_urea_level_30 WHERE PRACTICE_PATIENT_ID IN ('p21505_6499892121505',\n",
      "INFO:root:Query: SELECT * FROM measurement_Platelet_count_12 WHERE PRACTICE_PATIENT_ID IN ('p21505_6499892121505','p2\n",
      "INFO:root:Query: SELECT * FROM measurement_Red_blood_cell__RBC__count_10 WHERE PRACTICE_PATIENT_ID IN ('p21505_649989\n",
      "INFO:root:Query: SELECT * FROM measurement_Red_blood_cell_distribution_width_17 WHERE PRACTICE_PATIENT_ID IN ('p21505\n",
      "INFO:root:Query: SELECT * FROM measurement_Serum_25_Hydroxy_vitamin_D3_level_88 WHERE PRACTICE_PATIENT_ID IN ('p21505\n",
      "INFO:root:Query: SELECT * FROM measurement_Serum_C_reactive_protein_level_59 WHERE PRACTICE_PATIENT_ID IN ('p21505_64\n",
      "INFO:root:Query: SELECT * FROM measurement_Serum_HDL_cholesterol_level_100 WHERE PRACTICE_PATIENT_ID IN ('p21505_6499\n",
      "INFO:root:Query: SELECT * FROM measurement_Serum_LDL_cholesterol_level_102 WHERE PRACTICE_PATIENT_ID IN ('p21505_6499\n",
      "INFO:root:Query: SELECT * FROM measurement_Serum_N_terminal_pro_B_type_natriuretic_peptide_conc_68 WHERE PRACTICE_PAT\n",
      "INFO:root:Query: SELECT * FROM measurement_Serum_T4_level_78 WHERE PRACTICE_PATIENT_ID IN ('p21505_6499892121505','p2\n",
      "INFO:root:Query: SELECT * FROM measurement_Serum_TSH_level_71 WHERE PRACTICE_PATIENT_ID IN ('p21505_6499892121505','p\n",
      "INFO:root:Query: SELECT * FROM measurement_Serum_alanine_aminotransferase_level_45 WHERE PRACTICE_PATIENT_ID IN ('p21\n",
      "INFO:root:Query: SELECT * FROM measurement_Serum_albumin_51 WHERE PRACTICE_PATIENT_ID IN ('p21505_6499892121505','p21\n",
      "INFO:root:Query: SELECT * FROM measurement_Serum_alkaline_phosphatase_50 WHERE PRACTICE_PATIENT_ID IN ('p21505_649989\n",
      "INFO:root:Query: SELECT * FROM measurement_Serum_bilirubin_level_53 WHERE PRACTICE_PATIENT_ID IN ('p21505_64998921215\n",
      "INFO:root:Query: SELECT * FROM measurement_Serum_calcium_39 WHERE PRACTICE_PATIENT_ID IN ('p21505_6499892121505','p21\n",
      "INFO:root:Query: SELECT * FROM measurement_Serum_cholesterol_97 WHERE PRACTICE_PATIENT_ID IN ('p21505_6499892121505',\n",
      "INFO:root:Query: SELECT * FROM measurement_Serum_cholesterol_HDL_ratio_94 WHERE PRACTICE_PATIENT_ID IN ('p21505_64998\n",
      "INFO:root:Query: SELECT * FROM measurement_Serum_creatinine_31 WHERE PRACTICE_PATIENT_ID IN ('p21505_6499892121505','\n",
      "INFO:root:Query: SELECT * FROM measurement_Serum_ferritin_63 WHERE PRACTICE_PATIENT_ID IN ('p21505_6499892121505','p2\n",
      "INFO:root:Query: SELECT * FROM measurement_Serum_folate_80 WHERE PRACTICE_PATIENT_ID IN ('p21505_6499892121505','p215\n",
      "INFO:root:Query: SELECT * FROM measurement_Serum_free_T4_level_75 WHERE PRACTICE_PATIENT_ID IN ('p21505_6499892121505\n",
      "INFO:root:Query: SELECT * FROM measurement_Serum_gamma_glutamyl_transferase_level_57 WHERE PRACTICE_PATIENT_ID IN ('p\n",
      "INFO:root:Query: SELECT * FROM measurement_Serum_non_high_density_lipoprotein_cholesterol_level_107 WHERE PRACTICE_PA\n",
      "INFO:root:Query: SELECT * FROM measurement_Serum_potassium_26 WHERE PRACTICE_PATIENT_ID IN ('p21505_6499892121505','p\n",
      "INFO:root:Query: SELECT * FROM measurement_Serum_pro_brain_natriuretic_peptide_level_65 WHERE PRACTICE_PATIENT_ID IN \n",
      "INFO:root:Query: SELECT * FROM measurement_Serum_sodium_24 WHERE PRACTICE_PATIENT_ID IN ('p21505_6499892121505','p215\n",
      "INFO:root:Query: SELECT * FROM measurement_Serum_total_25_hydroxy_vitamin_D_level_87 WHERE PRACTICE_PATIENT_ID IN ('p\n",
      "INFO:root:Query: SELECT * FROM measurement_Serum_total_bilirubin_level_56 WHERE PRACTICE_PATIENT_ID IN ('p21505_64998\n",
      "INFO:root:Query: SELECT * FROM measurement_Serum_total_cholesterol_level_98 WHERE PRACTICE_PATIENT_ID IN ('p21505_649\n",
      "INFO:root:Query: SELECT * FROM measurement_Serum_triglycerides_105 WHERE PRACTICE_PATIENT_ID IN ('p21505_649989212150\n",
      "INFO:root:Query: SELECT * FROM measurement_Serum_urea_level_29 WHERE PRACTICE_PATIENT_ID IN ('p21505_6499892121505','\n",
      "INFO:root:Query: SELECT * FROM measurement_Serum_vitamin_B12_79 WHERE PRACTICE_PATIENT_ID IN ('p21505_6499892121505',\n",
      "INFO:root:Query: SELECT * FROM measurement_Serum_vitamin_D2_level_89 WHERE PRACTICE_PATIENT_ID IN ('p21505_6499892121\n",
      "INFO:root:Query: SELECT * FROM measurement_Serum_vitamin_D_86 WHERE PRACTICE_PATIENT_ID IN ('p21505_6499892121505','p\n",
      "INFO:root:Query: SELECT * FROM measurement_SmokingStatus_NeverSmoked WHERE PRACTICE_PATIENT_ID IN ('p21505_6499892121\n",
      "INFO:root:Query: SELECT * FROM measurement_Systolic_blood_pressure_4 WHERE PRACTICE_PATIENT_ID IN ('p21505_6499892121\n",
      "INFO:root:Query: SELECT * FROM measurement_TSH___thyroid_stim_hormone_72 WHERE PRACTICE_PATIENT_ID IN ('p21505_649989\n",
      "INFO:root:Query: SELECT * FROM measurement_TSH_level_74 WHERE PRACTICE_PATIENT_ID IN ('p21505_6499892121505','p21505_\n",
      "INFO:root:Query: SELECT * FROM measurement_Total_25_hydroxyvitamin_D_level_91 WHERE PRACTICE_PATIENT_ID IN ('p21505_6\n",
      "INFO:root:Query: SELECT * FROM measurement_Total_alkaline_phosphatase_48 WHERE PRACTICE_PATIENT_ID IN ('p21505_649989\n",
      "INFO:root:Query: SELECT * FROM measurement_Total_bilirubin_55 WHERE PRACTICE_PATIENT_ID IN ('p21505_6499892121505','p\n",
      "INFO:root:Query: SELECT * FROM measurement_Total_cholesterol_HDL_ratio_95 WHERE PRACTICE_PATIENT_ID IN ('p21505_64998\n",
      "INFO:root:Query: SELECT * FROM measurement_Total_white_cell_count_18 WHERE PRACTICE_PATIENT_ID IN ('p21505_6499892121\n",
      "INFO:root:Query: SELECT * FROM measurement_Urine_albumin_creatinine_ratio_35 WHERE PRACTICE_PATIENT_ID IN ('p21505_64\n",
      "INFO:root:Query: SELECT * FROM measurement_Urine_microalbumin_creatinine_ratio_36 WHERE PRACTICE_PATIENT_ID IN ('p215\n",
      "INFO:root:Query: SELECT * FROM measurement_eGFR_using_creatinine_CKD_EPI_per_1_73_square_metres_33 WHERE PRACTICE_PAT\n",
      "INFO:root:Query: SELECT * FROM static_table WHERE PRACTICE_PATIENT_ID IN ('p20995_2648958120995','p20995_264880202099\n"
     ]
    },
    {
     "name": "stdout",
     "output_type": "stream",
     "text": [
      "collector took 16.61313271522522 seconds\n",
      "collating events took 0.08240914344787598 seconds\n"
     ]
    },
    {
     "name": "stderr",
     "output_type": "stream",
     "text": [
      "INFO:root:Query: SELECT * FROM diagnosis_table WHERE PRACTICE_PATIENT_ID IN ('p20995_2648958120995','p20995_264880202\n",
      "INFO:root:Query: SELECT * FROM measurement_25_Hydroxyvitamin_D2_level_92 WHERE PRACTICE_PATIENT_ID IN ('p20995_264895\n",
      "INFO:root:Query: SELECT * FROM measurement_25_Hydroxyvitamin_D3_level_90 WHERE PRACTICE_PATIENT_ID IN ('p20995_264895\n",
      "INFO:root:Query: SELECT * FROM measurement_AST___aspartate_transam_SGOT__46 WHERE PRACTICE_PATIENT_ID IN ('p20995_264\n",
      "INFO:root:Query: SELECT * FROM measurement_AST_serum_level_47 WHERE PRACTICE_PATIENT_ID IN ('p20995_2648958120995','p\n",
      "INFO:root:Query: SELECT * FROM measurement_Albumin___creatinine_ratio_37 WHERE PRACTICE_PATIENT_ID IN ('p20995_264895\n",
      "INFO:root:Query: SELECT * FROM measurement_Basophil_count_22 WHERE PRACTICE_PATIENT_ID IN ('p20995_2648958120995','p2\n",
      "INFO:root:Query: SELECT * FROM measurement_Blood_calcium_level_38 WHERE PRACTICE_PATIENT_ID IN ('p20995_2648958120995\n",
      "INFO:root:Query: SELECT * FROM measurement_Blood_urea_28 WHERE PRACTICE_PATIENT_ID IN ('p20995_2648958120995','p20995\n",
      "INFO:root:Query: SELECT * FROM measurement_Body_mass_index_3 WHERE PRACTICE_PATIENT_ID IN ('p20995_2648958120995','p2\n",
      "INFO:root:Query: SELECT * FROM measurement_Brain_natriuretic_peptide_level_66 WHERE PRACTICE_PATIENT_ID IN ('p20995_2\n",
      "INFO:root:Query: SELECT * FROM measurement_Calcium_adjusted_level_41 WHERE PRACTICE_PATIENT_ID IN ('p20995_2648958120\n",
      "INFO:root:Query: SELECT * FROM measurement_Calculated_LDL_cholesterol_level_103 WHERE PRACTICE_PATIENT_ID IN ('p20995\n",
      "INFO:root:Query: SELECT * FROM measurement_Combined_total_vitamin_D2_and_D3_level_93 WHERE PRACTICE_PATIENT_ID IN ('p\n",
      "INFO:root:Query: SELECT * FROM measurement_Corrected_serum_calcium_level_42 WHERE PRACTICE_PATIENT_ID IN ('p20995_264\n",
      "INFO:root:Query: SELECT * FROM measurement_Current_smoker_83 WHERE PRACTICE_PATIENT_ID IN ('p20995_2648958120995','p2\n",
      "INFO:root:Query: SELECT * FROM measurement_Diastolic_blood_pressure_5 WHERE PRACTICE_PATIENT_ID IN ('p20995_264895812\n",
      "INFO:root:Query: SELECT * FROM measurement_Eosinophil_count_21 WHERE PRACTICE_PATIENT_ID IN ('p20995_2648958120995','\n",
      "INFO:root:Query: SELECT * FROM measurement_Erythrocyte_sedimentation_rate_61 WHERE PRACTICE_PATIENT_ID IN ('p20995_26\n",
      "INFO:root:Query: SELECT * FROM measurement_Ex_smoker_84 WHERE PRACTICE_PATIENT_ID IN ('p20995_2648958120995','p20995_\n",
      "INFO:root:Query: SELECT * FROM measurement_Free_T4_level_76 WHERE PRACTICE_PATIENT_ID IN ('p20995_2648958120995','p20\n",
      "INFO:root:Query: SELECT * FROM measurement_GFR_calculated_abbreviated_MDRD_34 WHERE PRACTICE_PATIENT_ID IN ('p20995_2\n",
      "INFO:root:Query: SELECT * FROM measurement_Haematocrit___PCV_16 WHERE PRACTICE_PATIENT_ID IN ('p20995_2648958120995',\n",
      "INFO:root:Query: SELECT * FROM measurement_Haematocrit_15 WHERE PRACTICE_PATIENT_ID IN ('p20995_2648958120995','p2099\n",
      "INFO:root:Query: SELECT * FROM measurement_Haemoglobin_A1c_level___IFCC_standardised_6 WHERE PRACTICE_PATIENT_ID IN (\n",
      "INFO:root:Query: SELECT * FROM measurement_Haemoglobin_A1c_level_8 WHERE PRACTICE_PATIENT_ID IN ('p20995_264895812099\n",
      "INFO:root:Query: SELECT * FROM measurement_Haemoglobin_estimation_9 WHERE PRACTICE_PATIENT_ID IN ('p20995_26489581209\n",
      "INFO:root:Query: SELECT * FROM measurement_HbA1c_level__DCCT_aligned__7 WHERE PRACTICE_PATIENT_ID IN ('p20995_2648958\n",
      "INFO:root:Query: SELECT * FROM measurement_INR___international_normalised_ratio_81 WHERE PRACTICE_PATIENT_ID IN ('p20\n",
      "INFO:root:Query: SELECT * FROM measurement_International_normalised_ratio_82 WHERE PRACTICE_PATIENT_ID IN ('p20995_26\n",
      "INFO:root:Query: SELECT * FROM measurement_Lymphocyte_count_20 WHERE PRACTICE_PATIENT_ID IN ('p20995_2648958120995','\n",
      "INFO:root:Query: SELECT * FROM measurement_Mean_corpusc_Hb_conc__MCHC__14 WHERE PRACTICE_PATIENT_ID IN ('p20995_26489\n",
      "INFO:root:Query: SELECT * FROM measurement_Mean_corpusc_haemoglobin_MCH__13 WHERE PRACTICE_PATIENT_ID IN ('p20995_264\n",
      "INFO:root:Query: SELECT * FROM measurement_Mean_corpuscular_volume__MCV__11 WHERE PRACTICE_PATIENT_ID IN ('p20995_264\n",
      "INFO:root:Query: SELECT * FROM measurement_Monocyte_count_23 WHERE PRACTICE_PATIENT_ID IN ('p20995_2648958120995','p2\n",
      "INFO:root:Query: SELECT * FROM measurement_N_terminal_pro_brain_natriuretic_peptide_level_67 WHERE PRACTICE_PATIENT_I\n",
      "INFO:root:Query: SELECT * FROM measurement_Neutrophil_count_19 WHERE PRACTICE_PATIENT_ID IN ('p20995_2648958120995','\n",
      "INFO:root:Query: SELECT * FROM measurement_Never_smoked_tobacco_85 WHERE PRACTICE_PATIENT_ID IN ('p20995_264895812099\n",
      "INFO:root:Query: SELECT * FROM measurement_Non_HDL_cholesterol_level_108 WHERE PRACTICE_PATIENT_ID IN ('p20995_264895\n",
      "INFO:root:Query: SELECT * FROM measurement_O_E___height_1 WHERE PRACTICE_PATIENT_ID IN ('p20995_2648958120995','p2099\n",
      "INFO:root:Query: SELECT * FROM measurement_O_E___weight_2 WHERE PRACTICE_PATIENT_ID IN ('p20995_2648958120995','p2099\n",
      "INFO:root:Query: SELECT * FROM measurement_Plasma_B_natriuretic_peptide_level_69 WHERE PRACTICE_PATIENT_ID IN ('p2099\n",
      "INFO:root:Query: SELECT * FROM measurement_Plasma_C_reactive_protein_60 WHERE PRACTICE_PATIENT_ID IN ('p20995_2648958\n",
      "INFO:root:Query: SELECT * FROM measurement_Plasma_HDL_cholesterol_level_101 WHERE PRACTICE_PATIENT_ID IN ('p20995_264\n",
      "INFO:root:Query: SELECT * FROM measurement_Plasma_LDL_cholesterol_level_104 WHERE PRACTICE_PATIENT_ID IN ('p20995_264\n",
      "INFO:root:Query: SELECT * FROM measurement_Plasma_N_terminal_pro_B_type_natriuretic_peptide_conc_70 WHERE PRACTICE_PA\n",
      "INFO:root:Query: SELECT * FROM measurement_Plasma_TSH_level_73 WHERE PRACTICE_PATIENT_ID IN ('p20995_2648958120995','\n",
      "INFO:root:Query: SELECT * FROM measurement_Plasma_alanine_aminotransferase_level_44 WHERE PRACTICE_PATIENT_ID IN ('p2\n",
      "INFO:root:Query: SELECT * FROM measurement_Plasma_albumin_level_52 WHERE PRACTICE_PATIENT_ID IN ('p20995_264895812099\n",
      "INFO:root:Query: SELECT * FROM measurement_Plasma_alkaline_phosphatase_level_49 WHERE PRACTICE_PATIENT_ID IN ('p20995\n",
      "INFO:root:Query: SELECT * FROM measurement_Plasma_calcium_level_40 WHERE PRACTICE_PATIENT_ID IN ('p20995_264895812099\n",
      "INFO:root:Query: SELECT * FROM measurement_Plasma_cholesterol_HDL_ratio_96 WHERE PRACTICE_PATIENT_ID IN ('p20995_2648\n",
      "INFO:root:Query: SELECT * FROM measurement_Plasma_corrected_calcium_level_43 WHERE PRACTICE_PATIENT_ID IN ('p20995_26\n",
      "INFO:root:Query: SELECT * FROM measurement_Plasma_creatinine_level_32 WHERE PRACTICE_PATIENT_ID IN ('p20995_264895812\n",
      "INFO:root:Query: SELECT * FROM measurement_Plasma_ferritin_level_62 WHERE PRACTICE_PATIENT_ID IN ('p20995_26489581209\n",
      "INFO:root:Query: SELECT * FROM measurement_Plasma_free_T4_level_77 WHERE PRACTICE_PATIENT_ID IN ('p20995_264895812099\n",
      "INFO:root:Query: SELECT * FROM measurement_Plasma_gamma_glutamyl_transferase_level_58 WHERE PRACTICE_PATIENT_ID IN ('\n",
      "INFO:root:Query: SELECT * FROM measurement_Plasma_potassium_level_27 WHERE PRACTICE_PATIENT_ID IN ('p20995_2648958120\n",
      "INFO:root:Query: SELECT * FROM measurement_Plasma_pro_brain_natriuretic_peptide_level_64 WHERE PRACTICE_PATIENT_ID IN\n",
      "INFO:root:Query: SELECT * FROM measurement_Plasma_sodium_level_25 WHERE PRACTICE_PATIENT_ID IN ('p20995_2648958120995\n",
      "INFO:root:Query: SELECT * FROM measurement_Plasma_total_bilirubin_level_54 WHERE PRACTICE_PATIENT_ID IN ('p20995_2648\n",
      "INFO:root:Query: SELECT * FROM measurement_Plasma_total_cholesterol_level_99 WHERE PRACTICE_PATIENT_ID IN ('p20995_26\n",
      "INFO:root:Query: SELECT * FROM measurement_Plasma_triglyceride_level_106 WHERE PRACTICE_PATIENT_ID IN ('p20995_264895\n",
      "INFO:root:Query: SELECT * FROM measurement_Plasma_urea_level_30 WHERE PRACTICE_PATIENT_ID IN ('p20995_2648958120995',\n",
      "INFO:root:Query: SELECT * FROM measurement_Platelet_count_12 WHERE PRACTICE_PATIENT_ID IN ('p20995_2648958120995','p2\n",
      "INFO:root:Query: SELECT * FROM measurement_Red_blood_cell__RBC__count_10 WHERE PRACTICE_PATIENT_ID IN ('p20995_264895\n",
      "INFO:root:Query: SELECT * FROM measurement_Red_blood_cell_distribution_width_17 WHERE PRACTICE_PATIENT_ID IN ('p20995\n",
      "INFO:root:Query: SELECT * FROM measurement_Serum_25_Hydroxy_vitamin_D3_level_88 WHERE PRACTICE_PATIENT_ID IN ('p20995\n",
      "INFO:root:Query: SELECT * FROM measurement_Serum_C_reactive_protein_level_59 WHERE PRACTICE_PATIENT_ID IN ('p20995_26\n",
      "INFO:root:Query: SELECT * FROM measurement_Serum_HDL_cholesterol_level_100 WHERE PRACTICE_PATIENT_ID IN ('p20995_2648\n",
      "INFO:root:Query: SELECT * FROM measurement_Serum_LDL_cholesterol_level_102 WHERE PRACTICE_PATIENT_ID IN ('p20995_2648\n",
      "INFO:root:Query: SELECT * FROM measurement_Serum_N_terminal_pro_B_type_natriuretic_peptide_conc_68 WHERE PRACTICE_PAT\n",
      "INFO:root:Query: SELECT * FROM measurement_Serum_T4_level_78 WHERE PRACTICE_PATIENT_ID IN ('p20995_2648958120995','p2\n",
      "INFO:root:Query: SELECT * FROM measurement_Serum_TSH_level_71 WHERE PRACTICE_PATIENT_ID IN ('p20995_2648958120995','p\n",
      "INFO:root:Query: SELECT * FROM measurement_Serum_alanine_aminotransferase_level_45 WHERE PRACTICE_PATIENT_ID IN ('p20\n",
      "INFO:root:Query: SELECT * FROM measurement_Serum_albumin_51 WHERE PRACTICE_PATIENT_ID IN ('p20995_2648958120995','p20\n",
      "INFO:root:Query: SELECT * FROM measurement_Serum_alkaline_phosphatase_50 WHERE PRACTICE_PATIENT_ID IN ('p20995_264895\n",
      "INFO:root:Query: SELECT * FROM measurement_Serum_bilirubin_level_53 WHERE PRACTICE_PATIENT_ID IN ('p20995_26489581209\n",
      "INFO:root:Query: SELECT * FROM measurement_Serum_calcium_39 WHERE PRACTICE_PATIENT_ID IN ('p20995_2648958120995','p20\n",
      "INFO:root:Query: SELECT * FROM measurement_Serum_cholesterol_97 WHERE PRACTICE_PATIENT_ID IN ('p20995_2648958120995',\n",
      "INFO:root:Query: SELECT * FROM measurement_Serum_cholesterol_HDL_ratio_94 WHERE PRACTICE_PATIENT_ID IN ('p20995_26489\n",
      "INFO:root:Query: SELECT * FROM measurement_Serum_creatinine_31 WHERE PRACTICE_PATIENT_ID IN ('p20995_2648958120995','\n",
      "INFO:root:Query: SELECT * FROM measurement_Serum_ferritin_63 WHERE PRACTICE_PATIENT_ID IN ('p20995_2648958120995','p2\n",
      "INFO:root:Query: SELECT * FROM measurement_Serum_folate_80 WHERE PRACTICE_PATIENT_ID IN ('p20995_2648958120995','p209\n",
      "INFO:root:Query: SELECT * FROM measurement_Serum_free_T4_level_75 WHERE PRACTICE_PATIENT_ID IN ('p20995_2648958120995\n",
      "INFO:root:Query: SELECT * FROM measurement_Serum_gamma_glutamyl_transferase_level_57 WHERE PRACTICE_PATIENT_ID IN ('p\n",
      "INFO:root:Query: SELECT * FROM measurement_Serum_non_high_density_lipoprotein_cholesterol_level_107 WHERE PRACTICE_PA\n",
      "INFO:root:Query: SELECT * FROM measurement_Serum_potassium_26 WHERE PRACTICE_PATIENT_ID IN ('p20995_2648958120995','p\n",
      "INFO:root:Query: SELECT * FROM measurement_Serum_pro_brain_natriuretic_peptide_level_65 WHERE PRACTICE_PATIENT_ID IN \n",
      "INFO:root:Query: SELECT * FROM measurement_Serum_sodium_24 WHERE PRACTICE_PATIENT_ID IN ('p20995_2648958120995','p209\n",
      "INFO:root:Query: SELECT * FROM measurement_Serum_total_25_hydroxy_vitamin_D_level_87 WHERE PRACTICE_PATIENT_ID IN ('p\n",
      "INFO:root:Query: SELECT * FROM measurement_Serum_total_bilirubin_level_56 WHERE PRACTICE_PATIENT_ID IN ('p20995_26489\n",
      "INFO:root:Query: SELECT * FROM measurement_Serum_total_cholesterol_level_98 WHERE PRACTICE_PATIENT_ID IN ('p20995_264\n",
      "INFO:root:Query: SELECT * FROM measurement_Serum_triglycerides_105 WHERE PRACTICE_PATIENT_ID IN ('p20995_264895812099\n",
      "INFO:root:Query: SELECT * FROM measurement_Serum_urea_level_29 WHERE PRACTICE_PATIENT_ID IN ('p20995_2648958120995','\n",
      "INFO:root:Query: SELECT * FROM measurement_Serum_vitamin_B12_79 WHERE PRACTICE_PATIENT_ID IN ('p20995_2648958120995',\n",
      "INFO:root:Query: SELECT * FROM measurement_Serum_vitamin_D2_level_89 WHERE PRACTICE_PATIENT_ID IN ('p20995_2648958120\n",
      "INFO:root:Query: SELECT * FROM measurement_Serum_vitamin_D_86 WHERE PRACTICE_PATIENT_ID IN ('p20995_2648958120995','p\n",
      "INFO:root:Query: SELECT * FROM measurement_SmokingStatus_NeverSmoked WHERE PRACTICE_PATIENT_ID IN ('p20995_2648958120\n",
      "INFO:root:Query: SELECT * FROM measurement_Systolic_blood_pressure_4 WHERE PRACTICE_PATIENT_ID IN ('p20995_2648958120\n",
      "INFO:root:Query: SELECT * FROM measurement_TSH___thyroid_stim_hormone_72 WHERE PRACTICE_PATIENT_ID IN ('p20995_264895\n",
      "INFO:root:Query: SELECT * FROM measurement_TSH_level_74 WHERE PRACTICE_PATIENT_ID IN ('p20995_2648958120995','p20995_\n",
      "INFO:root:Query: SELECT * FROM measurement_Total_25_hydroxyvitamin_D_level_91 WHERE PRACTICE_PATIENT_ID IN ('p20995_2\n",
      "INFO:root:Query: SELECT * FROM measurement_Total_alkaline_phosphatase_48 WHERE PRACTICE_PATIENT_ID IN ('p20995_264895\n",
      "INFO:root:Query: SELECT * FROM measurement_Total_bilirubin_55 WHERE PRACTICE_PATIENT_ID IN ('p20995_2648958120995','p\n",
      "INFO:root:Query: SELECT * FROM measurement_Total_cholesterol_HDL_ratio_95 WHERE PRACTICE_PATIENT_ID IN ('p20995_26489\n",
      "INFO:root:Query: SELECT * FROM measurement_Total_white_cell_count_18 WHERE PRACTICE_PATIENT_ID IN ('p20995_2648958120\n",
      "INFO:root:Query: SELECT * FROM measurement_Urine_albumin_creatinine_ratio_35 WHERE PRACTICE_PATIENT_ID IN ('p20995_26\n",
      "INFO:root:Query: SELECT * FROM measurement_Urine_microalbumin_creatinine_ratio_36 WHERE PRACTICE_PATIENT_ID IN ('p209\n",
      "INFO:root:Query: SELECT * FROM measurement_eGFR_using_creatinine_CKD_EPI_per_1_73_square_metres_33 WHERE PRACTICE_PAT\n"
     ]
    },
    {
     "name": "stdout",
     "output_type": "stream",
     "text": [
      "collector took 21.815685987472534 seconds\n"
     ]
    },
    {
     "name": "stderr",
     "output_type": "stream",
     "text": [
      "INFO:root:Query: SELECT * FROM static_table WHERE PRACTICE_PATIENT_ID IN ('p20996_2622190820996','p20996_262131522099\n"
     ]
    },
    {
     "name": "stdout",
     "output_type": "stream",
     "text": [
      "collating events took 0.2861778736114502 seconds\n"
     ]
    },
    {
     "name": "stderr",
     "output_type": "stream",
     "text": [
      "INFO:root:Query: SELECT * FROM diagnosis_table WHERE PRACTICE_PATIENT_ID IN ('p20996_2622190820996','p20996_262131522\n",
      "INFO:root:Query: SELECT * FROM measurement_25_Hydroxyvitamin_D2_level_92 WHERE PRACTICE_PATIENT_ID IN ('p20996_262219\n",
      "INFO:root:Query: SELECT * FROM measurement_25_Hydroxyvitamin_D3_level_90 WHERE PRACTICE_PATIENT_ID IN ('p20996_262219\n",
      "INFO:root:Query: SELECT * FROM measurement_AST___aspartate_transam_SGOT__46 WHERE PRACTICE_PATIENT_ID IN ('p20996_262\n",
      "INFO:root:Query: SELECT * FROM measurement_AST_serum_level_47 WHERE PRACTICE_PATIENT_ID IN ('p20996_2622190820996','p\n",
      "INFO:root:Query: SELECT * FROM measurement_Albumin___creatinine_ratio_37 WHERE PRACTICE_PATIENT_ID IN ('p20996_262219\n",
      "INFO:root:Query: SELECT * FROM measurement_Basophil_count_22 WHERE PRACTICE_PATIENT_ID IN ('p20996_2622190820996','p2\n",
      "INFO:root:Query: SELECT * FROM measurement_Blood_calcium_level_38 WHERE PRACTICE_PATIENT_ID IN ('p20996_2622190820996\n",
      "INFO:root:Query: SELECT * FROM measurement_Blood_urea_28 WHERE PRACTICE_PATIENT_ID IN ('p20996_2622190820996','p20996\n",
      "INFO:root:Query: SELECT * FROM measurement_Body_mass_index_3 WHERE PRACTICE_PATIENT_ID IN ('p20996_2622190820996','p2\n",
      "INFO:root:Query: SELECT * FROM measurement_Brain_natriuretic_peptide_level_66 WHERE PRACTICE_PATIENT_ID IN ('p20996_2\n",
      "INFO:root:Query: SELECT * FROM measurement_Calcium_adjusted_level_41 WHERE PRACTICE_PATIENT_ID IN ('p20996_2622190820\n",
      "INFO:root:Query: SELECT * FROM measurement_Calculated_LDL_cholesterol_level_103 WHERE PRACTICE_PATIENT_ID IN ('p20996\n",
      "INFO:root:Query: SELECT * FROM measurement_Combined_total_vitamin_D2_and_D3_level_93 WHERE PRACTICE_PATIENT_ID IN ('p\n",
      "INFO:root:Query: SELECT * FROM measurement_Corrected_serum_calcium_level_42 WHERE PRACTICE_PATIENT_ID IN ('p20996_262\n",
      "INFO:root:Query: SELECT * FROM measurement_Current_smoker_83 WHERE PRACTICE_PATIENT_ID IN ('p20996_2622190820996','p2\n",
      "INFO:root:Query: SELECT * FROM measurement_Diastolic_blood_pressure_5 WHERE PRACTICE_PATIENT_ID IN ('p20996_262219082\n",
      "INFO:root:Query: SELECT * FROM measurement_Eosinophil_count_21 WHERE PRACTICE_PATIENT_ID IN ('p20996_2622190820996','\n",
      "INFO:root:Query: SELECT * FROM measurement_Erythrocyte_sedimentation_rate_61 WHERE PRACTICE_PATIENT_ID IN ('p20996_26\n",
      "INFO:root:Query: SELECT * FROM measurement_Ex_smoker_84 WHERE PRACTICE_PATIENT_ID IN ('p20996_2622190820996','p20996_\n",
      "INFO:root:Query: SELECT * FROM measurement_Free_T4_level_76 WHERE PRACTICE_PATIENT_ID IN ('p20996_2622190820996','p20\n",
      "INFO:root:Query: SELECT * FROM measurement_GFR_calculated_abbreviated_MDRD_34 WHERE PRACTICE_PATIENT_ID IN ('p20996_2\n",
      "INFO:root:Query: SELECT * FROM measurement_Haematocrit___PCV_16 WHERE PRACTICE_PATIENT_ID IN ('p20996_2622190820996',\n",
      "INFO:root:Query: SELECT * FROM measurement_Haematocrit_15 WHERE PRACTICE_PATIENT_ID IN ('p20996_2622190820996','p2099\n",
      "INFO:root:Query: SELECT * FROM measurement_Haemoglobin_A1c_level___IFCC_standardised_6 WHERE PRACTICE_PATIENT_ID IN (\n",
      "INFO:root:Query: SELECT * FROM measurement_Haemoglobin_A1c_level_8 WHERE PRACTICE_PATIENT_ID IN ('p20996_262219082099\n",
      "INFO:root:Query: SELECT * FROM measurement_Haemoglobin_estimation_9 WHERE PRACTICE_PATIENT_ID IN ('p20996_26221908209\n",
      "INFO:root:Query: SELECT * FROM measurement_HbA1c_level__DCCT_aligned__7 WHERE PRACTICE_PATIENT_ID IN ('p20996_2622190\n",
      "INFO:root:Query: SELECT * FROM measurement_INR___international_normalised_ratio_81 WHERE PRACTICE_PATIENT_ID IN ('p20\n",
      "INFO:root:Query: SELECT * FROM measurement_International_normalised_ratio_82 WHERE PRACTICE_PATIENT_ID IN ('p20996_26\n",
      "INFO:root:Query: SELECT * FROM measurement_Lymphocyte_count_20 WHERE PRACTICE_PATIENT_ID IN ('p20996_2622190820996','\n",
      "INFO:root:Query: SELECT * FROM measurement_Mean_corpusc_Hb_conc__MCHC__14 WHERE PRACTICE_PATIENT_ID IN ('p20996_26221\n",
      "INFO:root:Query: SELECT * FROM measurement_Mean_corpusc_haemoglobin_MCH__13 WHERE PRACTICE_PATIENT_ID IN ('p20996_262\n",
      "INFO:root:Query: SELECT * FROM measurement_Mean_corpuscular_volume__MCV__11 WHERE PRACTICE_PATIENT_ID IN ('p20996_262\n",
      "INFO:root:Query: SELECT * FROM measurement_Monocyte_count_23 WHERE PRACTICE_PATIENT_ID IN ('p20996_2622190820996','p2\n",
      "INFO:root:Query: SELECT * FROM measurement_N_terminal_pro_brain_natriuretic_peptide_level_67 WHERE PRACTICE_PATIENT_I\n",
      "INFO:root:Query: SELECT * FROM measurement_Neutrophil_count_19 WHERE PRACTICE_PATIENT_ID IN ('p20996_2622190820996','\n",
      "INFO:root:Query: SELECT * FROM measurement_Never_smoked_tobacco_85 WHERE PRACTICE_PATIENT_ID IN ('p20996_262219082099\n",
      "INFO:root:Query: SELECT * FROM measurement_Non_HDL_cholesterol_level_108 WHERE PRACTICE_PATIENT_ID IN ('p20996_262219\n",
      "INFO:root:Query: SELECT * FROM measurement_O_E___height_1 WHERE PRACTICE_PATIENT_ID IN ('p20996_2622190820996','p2099\n",
      "INFO:root:Query: SELECT * FROM measurement_O_E___weight_2 WHERE PRACTICE_PATIENT_ID IN ('p20996_2622190820996','p2099\n",
      "INFO:root:Query: SELECT * FROM measurement_Plasma_B_natriuretic_peptide_level_69 WHERE PRACTICE_PATIENT_ID IN ('p2099\n",
      "INFO:root:Query: SELECT * FROM measurement_Plasma_C_reactive_protein_60 WHERE PRACTICE_PATIENT_ID IN ('p20996_2622190\n",
      "INFO:root:Query: SELECT * FROM measurement_Plasma_HDL_cholesterol_level_101 WHERE PRACTICE_PATIENT_ID IN ('p20996_262\n",
      "INFO:root:Query: SELECT * FROM measurement_Plasma_LDL_cholesterol_level_104 WHERE PRACTICE_PATIENT_ID IN ('p20996_262\n",
      "INFO:root:Query: SELECT * FROM measurement_Plasma_N_terminal_pro_B_type_natriuretic_peptide_conc_70 WHERE PRACTICE_PA\n",
      "INFO:root:Query: SELECT * FROM measurement_Plasma_TSH_level_73 WHERE PRACTICE_PATIENT_ID IN ('p20996_2622190820996','\n",
      "INFO:root:Query: SELECT * FROM measurement_Plasma_alanine_aminotransferase_level_44 WHERE PRACTICE_PATIENT_ID IN ('p2\n",
      "INFO:root:Query: SELECT * FROM measurement_Plasma_albumin_level_52 WHERE PRACTICE_PATIENT_ID IN ('p20996_262219082099\n",
      "INFO:root:Query: SELECT * FROM measurement_Plasma_alkaline_phosphatase_level_49 WHERE PRACTICE_PATIENT_ID IN ('p20996\n",
      "INFO:root:Query: SELECT * FROM measurement_Plasma_calcium_level_40 WHERE PRACTICE_PATIENT_ID IN ('p20996_262219082099\n",
      "INFO:root:Query: SELECT * FROM measurement_Plasma_cholesterol_HDL_ratio_96 WHERE PRACTICE_PATIENT_ID IN ('p20996_2622\n",
      "INFO:root:Query: SELECT * FROM measurement_Plasma_corrected_calcium_level_43 WHERE PRACTICE_PATIENT_ID IN ('p20996_26\n",
      "INFO:root:Query: SELECT * FROM measurement_Plasma_creatinine_level_32 WHERE PRACTICE_PATIENT_ID IN ('p20996_262219082\n",
      "INFO:root:Query: SELECT * FROM measurement_Plasma_ferritin_level_62 WHERE PRACTICE_PATIENT_ID IN ('p20996_26221908209\n",
      "INFO:root:Query: SELECT * FROM measurement_Plasma_free_T4_level_77 WHERE PRACTICE_PATIENT_ID IN ('p20996_262219082099\n",
      "INFO:root:Query: SELECT * FROM measurement_Plasma_gamma_glutamyl_transferase_level_58 WHERE PRACTICE_PATIENT_ID IN ('\n",
      "INFO:root:Query: SELECT * FROM measurement_Plasma_potassium_level_27 WHERE PRACTICE_PATIENT_ID IN ('p20996_2622190820\n",
      "INFO:root:Query: SELECT * FROM measurement_Plasma_pro_brain_natriuretic_peptide_level_64 WHERE PRACTICE_PATIENT_ID IN\n",
      "INFO:root:Query: SELECT * FROM measurement_Plasma_sodium_level_25 WHERE PRACTICE_PATIENT_ID IN ('p20996_2622190820996\n",
      "INFO:root:Query: SELECT * FROM measurement_Plasma_total_bilirubin_level_54 WHERE PRACTICE_PATIENT_ID IN ('p20996_2622\n",
      "INFO:root:Query: SELECT * FROM measurement_Plasma_total_cholesterol_level_99 WHERE PRACTICE_PATIENT_ID IN ('p20996_26\n",
      "INFO:root:Query: SELECT * FROM measurement_Plasma_triglyceride_level_106 WHERE PRACTICE_PATIENT_ID IN ('p20996_262219\n",
      "INFO:root:Query: SELECT * FROM measurement_Plasma_urea_level_30 WHERE PRACTICE_PATIENT_ID IN ('p20996_2622190820996',\n",
      "INFO:root:Query: SELECT * FROM measurement_Platelet_count_12 WHERE PRACTICE_PATIENT_ID IN ('p20996_2622190820996','p2\n",
      "INFO:root:Query: SELECT * FROM measurement_Red_blood_cell__RBC__count_10 WHERE PRACTICE_PATIENT_ID IN ('p20996_262219\n",
      "INFO:root:Query: SELECT * FROM measurement_Red_blood_cell_distribution_width_17 WHERE PRACTICE_PATIENT_ID IN ('p20996\n",
      "INFO:root:Query: SELECT * FROM measurement_Serum_25_Hydroxy_vitamin_D3_level_88 WHERE PRACTICE_PATIENT_ID IN ('p20996\n",
      "INFO:root:Query: SELECT * FROM measurement_Serum_C_reactive_protein_level_59 WHERE PRACTICE_PATIENT_ID IN ('p20996_26\n",
      "INFO:root:Query: SELECT * FROM measurement_Serum_HDL_cholesterol_level_100 WHERE PRACTICE_PATIENT_ID IN ('p20996_2622\n",
      "INFO:root:Query: SELECT * FROM measurement_Serum_LDL_cholesterol_level_102 WHERE PRACTICE_PATIENT_ID IN ('p20996_2622\n",
      "INFO:root:Query: SELECT * FROM measurement_Serum_N_terminal_pro_B_type_natriuretic_peptide_conc_68 WHERE PRACTICE_PAT\n",
      "INFO:root:Query: SELECT * FROM measurement_Serum_T4_level_78 WHERE PRACTICE_PATIENT_ID IN ('p20996_2622190820996','p2\n",
      "INFO:root:Query: SELECT * FROM measurement_Serum_TSH_level_71 WHERE PRACTICE_PATIENT_ID IN ('p20996_2622190820996','p\n",
      "INFO:root:Query: SELECT * FROM measurement_Serum_alanine_aminotransferase_level_45 WHERE PRACTICE_PATIENT_ID IN ('p20\n",
      "INFO:root:Query: SELECT * FROM measurement_Serum_albumin_51 WHERE PRACTICE_PATIENT_ID IN ('p20996_2622190820996','p20\n",
      "INFO:root:Query: SELECT * FROM measurement_Serum_alkaline_phosphatase_50 WHERE PRACTICE_PATIENT_ID IN ('p20996_262219\n",
      "INFO:root:Query: SELECT * FROM measurement_Serum_bilirubin_level_53 WHERE PRACTICE_PATIENT_ID IN ('p20996_26221908209\n",
      "INFO:root:Query: SELECT * FROM measurement_Serum_calcium_39 WHERE PRACTICE_PATIENT_ID IN ('p20996_2622190820996','p20\n",
      "INFO:root:Query: SELECT * FROM measurement_Serum_cholesterol_97 WHERE PRACTICE_PATIENT_ID IN ('p20996_2622190820996',\n",
      "INFO:root:Query: SELECT * FROM measurement_Serum_cholesterol_HDL_ratio_94 WHERE PRACTICE_PATIENT_ID IN ('p20996_26221\n",
      "INFO:root:Query: SELECT * FROM measurement_Serum_creatinine_31 WHERE PRACTICE_PATIENT_ID IN ('p20996_2622190820996','\n",
      "INFO:root:Query: SELECT * FROM measurement_Serum_ferritin_63 WHERE PRACTICE_PATIENT_ID IN ('p20996_2622190820996','p2\n",
      "INFO:root:Query: SELECT * FROM measurement_Serum_folate_80 WHERE PRACTICE_PATIENT_ID IN ('p20996_2622190820996','p209\n",
      "INFO:root:Query: SELECT * FROM measurement_Serum_free_T4_level_75 WHERE PRACTICE_PATIENT_ID IN ('p20996_2622190820996\n",
      "INFO:root:Query: SELECT * FROM measurement_Serum_gamma_glutamyl_transferase_level_57 WHERE PRACTICE_PATIENT_ID IN ('p\n",
      "INFO:root:Query: SELECT * FROM measurement_Serum_non_high_density_lipoprotein_cholesterol_level_107 WHERE PRACTICE_PA\n",
      "INFO:root:Query: SELECT * FROM measurement_Serum_potassium_26 WHERE PRACTICE_PATIENT_ID IN ('p20996_2622190820996','p\n",
      "INFO:root:Query: SELECT * FROM measurement_Serum_pro_brain_natriuretic_peptide_level_65 WHERE PRACTICE_PATIENT_ID IN \n",
      "INFO:root:Query: SELECT * FROM measurement_Serum_sodium_24 WHERE PRACTICE_PATIENT_ID IN ('p20996_2622190820996','p209\n",
      "INFO:root:Query: SELECT * FROM measurement_Serum_total_25_hydroxy_vitamin_D_level_87 WHERE PRACTICE_PATIENT_ID IN ('p\n",
      "INFO:root:Query: SELECT * FROM measurement_Serum_total_bilirubin_level_56 WHERE PRACTICE_PATIENT_ID IN ('p20996_26221\n",
      "INFO:root:Query: SELECT * FROM measurement_Serum_total_cholesterol_level_98 WHERE PRACTICE_PATIENT_ID IN ('p20996_262\n",
      "INFO:root:Query: SELECT * FROM measurement_Serum_triglycerides_105 WHERE PRACTICE_PATIENT_ID IN ('p20996_262219082099\n",
      "INFO:root:Query: SELECT * FROM measurement_Serum_urea_level_29 WHERE PRACTICE_PATIENT_ID IN ('p20996_2622190820996','\n",
      "INFO:root:Query: SELECT * FROM measurement_Serum_vitamin_B12_79 WHERE PRACTICE_PATIENT_ID IN ('p20996_2622190820996',\n",
      "INFO:root:Query: SELECT * FROM measurement_Serum_vitamin_D2_level_89 WHERE PRACTICE_PATIENT_ID IN ('p20996_2622190820\n",
      "INFO:root:Query: SELECT * FROM measurement_Serum_vitamin_D_86 WHERE PRACTICE_PATIENT_ID IN ('p20996_2622190820996','p\n",
      "INFO:root:Query: SELECT * FROM measurement_SmokingStatus_NeverSmoked WHERE PRACTICE_PATIENT_ID IN ('p20996_2622190820\n",
      "INFO:root:Query: SELECT * FROM measurement_Systolic_blood_pressure_4 WHERE PRACTICE_PATIENT_ID IN ('p20996_2622190820\n",
      "INFO:root:Query: SELECT * FROM measurement_TSH___thyroid_stim_hormone_72 WHERE PRACTICE_PATIENT_ID IN ('p20996_262219\n",
      "INFO:root:Query: SELECT * FROM measurement_TSH_level_74 WHERE PRACTICE_PATIENT_ID IN ('p20996_2622190820996','p20996_\n",
      "INFO:root:Query: SELECT * FROM measurement_Total_25_hydroxyvitamin_D_level_91 WHERE PRACTICE_PATIENT_ID IN ('p20996_2\n",
      "INFO:root:Query: SELECT * FROM measurement_Total_alkaline_phosphatase_48 WHERE PRACTICE_PATIENT_ID IN ('p20996_262219\n",
      "INFO:root:Query: SELECT * FROM measurement_Total_bilirubin_55 WHERE PRACTICE_PATIENT_ID IN ('p20996_2622190820996','p\n",
      "INFO:root:Query: SELECT * FROM measurement_Total_cholesterol_HDL_ratio_95 WHERE PRACTICE_PATIENT_ID IN ('p20996_26221\n",
      "INFO:root:Query: SELECT * FROM measurement_Total_white_cell_count_18 WHERE PRACTICE_PATIENT_ID IN ('p20996_2622190820\n",
      "INFO:root:Query: SELECT * FROM measurement_Urine_albumin_creatinine_ratio_35 WHERE PRACTICE_PATIENT_ID IN ('p20996_26\n",
      "INFO:root:Query: SELECT * FROM measurement_Urine_microalbumin_creatinine_ratio_36 WHERE PRACTICE_PATIENT_ID IN ('p209\n",
      "INFO:root:Query: SELECT * FROM measurement_eGFR_using_creatinine_CKD_EPI_per_1_73_square_metres_33 WHERE PRACTICE_PAT\n",
      "INFO:root:Query: SELECT * FROM static_table WHERE PRACTICE_PATIENT_ID IN ('p21508_6404243521508','p21508_640302242150\n"
     ]
    },
    {
     "name": "stdout",
     "output_type": "stream",
     "text": [
      "collector took 9.88494873046875 seconds\n",
      "collating events took 0.00857234001159668 seconds\n"
     ]
    },
    {
     "name": "stderr",
     "output_type": "stream",
     "text": [
      "INFO:root:Query: SELECT * FROM diagnosis_table WHERE PRACTICE_PATIENT_ID IN ('p21508_6404243521508','p21508_640302242\n",
      "INFO:root:Query: SELECT * FROM measurement_25_Hydroxyvitamin_D2_level_92 WHERE PRACTICE_PATIENT_ID IN ('p21508_640424\n",
      "INFO:root:Query: SELECT * FROM measurement_25_Hydroxyvitamin_D3_level_90 WHERE PRACTICE_PATIENT_ID IN ('p21508_640424\n",
      "INFO:root:Query: SELECT * FROM measurement_AST___aspartate_transam_SGOT__46 WHERE PRACTICE_PATIENT_ID IN ('p21508_640\n",
      "INFO:root:Query: SELECT * FROM measurement_AST_serum_level_47 WHERE PRACTICE_PATIENT_ID IN ('p21508_6404243521508','p\n",
      "INFO:root:Query: SELECT * FROM measurement_Albumin___creatinine_ratio_37 WHERE PRACTICE_PATIENT_ID IN ('p21508_640424\n",
      "INFO:root:Query: SELECT * FROM measurement_Basophil_count_22 WHERE PRACTICE_PATIENT_ID IN ('p21508_6404243521508','p2\n",
      "INFO:root:Query: SELECT * FROM measurement_Blood_calcium_level_38 WHERE PRACTICE_PATIENT_ID IN ('p21508_6404243521508\n",
      "INFO:root:Query: SELECT * FROM measurement_Blood_urea_28 WHERE PRACTICE_PATIENT_ID IN ('p21508_6404243521508','p21508\n",
      "INFO:root:Query: SELECT * FROM measurement_Body_mass_index_3 WHERE PRACTICE_PATIENT_ID IN ('p21508_6404243521508','p2\n",
      "INFO:root:Query: SELECT * FROM measurement_Brain_natriuretic_peptide_level_66 WHERE PRACTICE_PATIENT_ID IN ('p21508_6\n",
      "INFO:root:Query: SELECT * FROM measurement_Calcium_adjusted_level_41 WHERE PRACTICE_PATIENT_ID IN ('p21508_6404243521\n",
      "INFO:root:Query: SELECT * FROM measurement_Calculated_LDL_cholesterol_level_103 WHERE PRACTICE_PATIENT_ID IN ('p21508\n",
      "INFO:root:Query: SELECT * FROM measurement_Combined_total_vitamin_D2_and_D3_level_93 WHERE PRACTICE_PATIENT_ID IN ('p\n",
      "INFO:root:Query: SELECT * FROM measurement_Corrected_serum_calcium_level_42 WHERE PRACTICE_PATIENT_ID IN ('p21508_640\n",
      "INFO:root:Query: SELECT * FROM measurement_Current_smoker_83 WHERE PRACTICE_PATIENT_ID IN ('p21508_6404243521508','p2\n",
      "INFO:root:Query: SELECT * FROM measurement_Diastolic_blood_pressure_5 WHERE PRACTICE_PATIENT_ID IN ('p21508_640424352\n",
      "INFO:root:Query: SELECT * FROM measurement_Eosinophil_count_21 WHERE PRACTICE_PATIENT_ID IN ('p21508_6404243521508','\n",
      "INFO:root:Query: SELECT * FROM measurement_Erythrocyte_sedimentation_rate_61 WHERE PRACTICE_PATIENT_ID IN ('p21508_64\n",
      "INFO:root:Query: SELECT * FROM measurement_Ex_smoker_84 WHERE PRACTICE_PATIENT_ID IN ('p21508_6404243521508','p21508_\n",
      "INFO:root:Query: SELECT * FROM measurement_Free_T4_level_76 WHERE PRACTICE_PATIENT_ID IN ('p21508_6404243521508','p21\n",
      "INFO:root:Query: SELECT * FROM measurement_GFR_calculated_abbreviated_MDRD_34 WHERE PRACTICE_PATIENT_ID IN ('p21508_6\n",
      "INFO:root:Query: SELECT * FROM measurement_Haematocrit___PCV_16 WHERE PRACTICE_PATIENT_ID IN ('p21508_6404243521508',\n",
      "INFO:root:Query: SELECT * FROM measurement_Haematocrit_15 WHERE PRACTICE_PATIENT_ID IN ('p21508_6404243521508','p2150\n",
      "INFO:root:Query: SELECT * FROM measurement_Haemoglobin_A1c_level___IFCC_standardised_6 WHERE PRACTICE_PATIENT_ID IN (\n",
      "INFO:root:Query: SELECT * FROM measurement_Haemoglobin_A1c_level_8 WHERE PRACTICE_PATIENT_ID IN ('p21508_640424352150\n",
      "INFO:root:Query: SELECT * FROM measurement_Haemoglobin_estimation_9 WHERE PRACTICE_PATIENT_ID IN ('p21508_64042435215\n",
      "INFO:root:Query: SELECT * FROM measurement_HbA1c_level__DCCT_aligned__7 WHERE PRACTICE_PATIENT_ID IN ('p21508_6404243\n",
      "INFO:root:Query: SELECT * FROM measurement_INR___international_normalised_ratio_81 WHERE PRACTICE_PATIENT_ID IN ('p21\n",
      "INFO:root:Query: SELECT * FROM measurement_International_normalised_ratio_82 WHERE PRACTICE_PATIENT_ID IN ('p21508_64\n",
      "INFO:root:Query: SELECT * FROM measurement_Lymphocyte_count_20 WHERE PRACTICE_PATIENT_ID IN ('p21508_6404243521508','\n",
      "INFO:root:Query: SELECT * FROM measurement_Mean_corpusc_Hb_conc__MCHC__14 WHERE PRACTICE_PATIENT_ID IN ('p21508_64042\n",
      "INFO:root:Query: SELECT * FROM measurement_Mean_corpusc_haemoglobin_MCH__13 WHERE PRACTICE_PATIENT_ID IN ('p21508_640\n",
      "INFO:root:Query: SELECT * FROM measurement_Mean_corpuscular_volume__MCV__11 WHERE PRACTICE_PATIENT_ID IN ('p21508_640\n",
      "INFO:root:Query: SELECT * FROM measurement_Monocyte_count_23 WHERE PRACTICE_PATIENT_ID IN ('p21508_6404243521508','p2\n",
      "INFO:root:Query: SELECT * FROM measurement_N_terminal_pro_brain_natriuretic_peptide_level_67 WHERE PRACTICE_PATIENT_I\n",
      "INFO:root:Query: SELECT * FROM measurement_Neutrophil_count_19 WHERE PRACTICE_PATIENT_ID IN ('p21508_6404243521508','\n",
      "INFO:root:Query: SELECT * FROM measurement_Never_smoked_tobacco_85 WHERE PRACTICE_PATIENT_ID IN ('p21508_640424352150\n",
      "INFO:root:Query: SELECT * FROM measurement_Non_HDL_cholesterol_level_108 WHERE PRACTICE_PATIENT_ID IN ('p21508_640424\n",
      "INFO:root:Query: SELECT * FROM measurement_O_E___height_1 WHERE PRACTICE_PATIENT_ID IN ('p21508_6404243521508','p2150\n",
      "INFO:root:Query: SELECT * FROM measurement_O_E___weight_2 WHERE PRACTICE_PATIENT_ID IN ('p21508_6404243521508','p2150\n",
      "INFO:root:Query: SELECT * FROM measurement_Plasma_B_natriuretic_peptide_level_69 WHERE PRACTICE_PATIENT_ID IN ('p2150\n",
      "INFO:root:Query: SELECT * FROM measurement_Plasma_C_reactive_protein_60 WHERE PRACTICE_PATIENT_ID IN ('p21508_6404243\n",
      "INFO:root:Query: SELECT * FROM measurement_Plasma_HDL_cholesterol_level_101 WHERE PRACTICE_PATIENT_ID IN ('p21508_640\n",
      "INFO:root:Query: SELECT * FROM measurement_Plasma_LDL_cholesterol_level_104 WHERE PRACTICE_PATIENT_ID IN ('p21508_640\n",
      "INFO:root:Query: SELECT * FROM measurement_Plasma_N_terminal_pro_B_type_natriuretic_peptide_conc_70 WHERE PRACTICE_PA\n",
      "INFO:root:Query: SELECT * FROM measurement_Plasma_TSH_level_73 WHERE PRACTICE_PATIENT_ID IN ('p21508_6404243521508','\n",
      "INFO:root:Query: SELECT * FROM measurement_Plasma_alanine_aminotransferase_level_44 WHERE PRACTICE_PATIENT_ID IN ('p2\n",
      "INFO:root:Query: SELECT * FROM measurement_Plasma_albumin_level_52 WHERE PRACTICE_PATIENT_ID IN ('p21508_640424352150\n",
      "INFO:root:Query: SELECT * FROM measurement_Plasma_alkaline_phosphatase_level_49 WHERE PRACTICE_PATIENT_ID IN ('p21508\n",
      "INFO:root:Query: SELECT * FROM measurement_Plasma_calcium_level_40 WHERE PRACTICE_PATIENT_ID IN ('p21508_640424352150\n",
      "INFO:root:Query: SELECT * FROM measurement_Plasma_cholesterol_HDL_ratio_96 WHERE PRACTICE_PATIENT_ID IN ('p21508_6404\n",
      "INFO:root:Query: SELECT * FROM measurement_Plasma_corrected_calcium_level_43 WHERE PRACTICE_PATIENT_ID IN ('p21508_64\n",
      "INFO:root:Query: SELECT * FROM measurement_Plasma_creatinine_level_32 WHERE PRACTICE_PATIENT_ID IN ('p21508_640424352\n",
      "INFO:root:Query: SELECT * FROM measurement_Plasma_ferritin_level_62 WHERE PRACTICE_PATIENT_ID IN ('p21508_64042435215\n",
      "INFO:root:Query: SELECT * FROM measurement_Plasma_free_T4_level_77 WHERE PRACTICE_PATIENT_ID IN ('p21508_640424352150\n",
      "INFO:root:Query: SELECT * FROM measurement_Plasma_gamma_glutamyl_transferase_level_58 WHERE PRACTICE_PATIENT_ID IN ('\n",
      "INFO:root:Query: SELECT * FROM measurement_Plasma_potassium_level_27 WHERE PRACTICE_PATIENT_ID IN ('p21508_6404243521\n",
      "INFO:root:Query: SELECT * FROM measurement_Plasma_pro_brain_natriuretic_peptide_level_64 WHERE PRACTICE_PATIENT_ID IN\n",
      "INFO:root:Query: SELECT * FROM measurement_Plasma_sodium_level_25 WHERE PRACTICE_PATIENT_ID IN ('p21508_6404243521508\n",
      "INFO:root:Query: SELECT * FROM measurement_Plasma_total_bilirubin_level_54 WHERE PRACTICE_PATIENT_ID IN ('p21508_6404\n",
      "INFO:root:Query: SELECT * FROM measurement_Plasma_total_cholesterol_level_99 WHERE PRACTICE_PATIENT_ID IN ('p21508_64\n",
      "INFO:root:Query: SELECT * FROM measurement_Plasma_triglyceride_level_106 WHERE PRACTICE_PATIENT_ID IN ('p21508_640424\n",
      "INFO:root:Query: SELECT * FROM measurement_Plasma_urea_level_30 WHERE PRACTICE_PATIENT_ID IN ('p21508_6404243521508',\n",
      "INFO:root:Query: SELECT * FROM measurement_Platelet_count_12 WHERE PRACTICE_PATIENT_ID IN ('p21508_6404243521508','p2\n",
      "INFO:root:Query: SELECT * FROM measurement_Red_blood_cell__RBC__count_10 WHERE PRACTICE_PATIENT_ID IN ('p21508_640424\n",
      "INFO:root:Query: SELECT * FROM measurement_Red_blood_cell_distribution_width_17 WHERE PRACTICE_PATIENT_ID IN ('p21508\n",
      "INFO:root:Query: SELECT * FROM measurement_Serum_25_Hydroxy_vitamin_D3_level_88 WHERE PRACTICE_PATIENT_ID IN ('p21508\n",
      "INFO:root:Query: SELECT * FROM measurement_Serum_C_reactive_protein_level_59 WHERE PRACTICE_PATIENT_ID IN ('p21508_64\n",
      "INFO:root:Query: SELECT * FROM measurement_Serum_HDL_cholesterol_level_100 WHERE PRACTICE_PATIENT_ID IN ('p21508_6404\n",
      "INFO:root:Query: SELECT * FROM measurement_Serum_LDL_cholesterol_level_102 WHERE PRACTICE_PATIENT_ID IN ('p21508_6404\n",
      "INFO:root:Query: SELECT * FROM measurement_Serum_N_terminal_pro_B_type_natriuretic_peptide_conc_68 WHERE PRACTICE_PAT\n",
      "INFO:root:Query: SELECT * FROM measurement_Serum_T4_level_78 WHERE PRACTICE_PATIENT_ID IN ('p21508_6404243521508','p2\n",
      "INFO:root:Query: SELECT * FROM measurement_Serum_TSH_level_71 WHERE PRACTICE_PATIENT_ID IN ('p21508_6404243521508','p\n",
      "INFO:root:Query: SELECT * FROM measurement_Serum_alanine_aminotransferase_level_45 WHERE PRACTICE_PATIENT_ID IN ('p21\n",
      "INFO:root:Query: SELECT * FROM measurement_Serum_albumin_51 WHERE PRACTICE_PATIENT_ID IN ('p21508_6404243521508','p21\n",
      "INFO:root:Query: SELECT * FROM measurement_Serum_alkaline_phosphatase_50 WHERE PRACTICE_PATIENT_ID IN ('p21508_640424\n",
      "INFO:root:Query: SELECT * FROM measurement_Serum_bilirubin_level_53 WHERE PRACTICE_PATIENT_ID IN ('p21508_64042435215\n",
      "INFO:root:Query: SELECT * FROM measurement_Serum_calcium_39 WHERE PRACTICE_PATIENT_ID IN ('p21508_6404243521508','p21\n",
      "INFO:root:Query: SELECT * FROM measurement_Serum_cholesterol_97 WHERE PRACTICE_PATIENT_ID IN ('p21508_6404243521508',\n",
      "INFO:root:Query: SELECT * FROM measurement_Serum_cholesterol_HDL_ratio_94 WHERE PRACTICE_PATIENT_ID IN ('p21508_64042\n",
      "INFO:root:Query: SELECT * FROM measurement_Serum_creatinine_31 WHERE PRACTICE_PATIENT_ID IN ('p21508_6404243521508','\n",
      "INFO:root:Query: SELECT * FROM measurement_Serum_ferritin_63 WHERE PRACTICE_PATIENT_ID IN ('p21508_6404243521508','p2\n",
      "INFO:root:Query: SELECT * FROM measurement_Serum_folate_80 WHERE PRACTICE_PATIENT_ID IN ('p21508_6404243521508','p215\n",
      "INFO:root:Query: SELECT * FROM measurement_Serum_free_T4_level_75 WHERE PRACTICE_PATIENT_ID IN ('p21508_6404243521508\n",
      "INFO:root:Query: SELECT * FROM measurement_Serum_gamma_glutamyl_transferase_level_57 WHERE PRACTICE_PATIENT_ID IN ('p\n",
      "INFO:root:Query: SELECT * FROM measurement_Serum_non_high_density_lipoprotein_cholesterol_level_107 WHERE PRACTICE_PA\n",
      "INFO:root:Query: SELECT * FROM measurement_Serum_potassium_26 WHERE PRACTICE_PATIENT_ID IN ('p21508_6404243521508','p\n",
      "INFO:root:Query: SELECT * FROM measurement_Serum_pro_brain_natriuretic_peptide_level_65 WHERE PRACTICE_PATIENT_ID IN \n",
      "INFO:root:Query: SELECT * FROM measurement_Serum_sodium_24 WHERE PRACTICE_PATIENT_ID IN ('p21508_6404243521508','p215\n",
      "INFO:root:Query: SELECT * FROM measurement_Serum_total_25_hydroxy_vitamin_D_level_87 WHERE PRACTICE_PATIENT_ID IN ('p\n",
      "INFO:root:Query: SELECT * FROM measurement_Serum_total_bilirubin_level_56 WHERE PRACTICE_PATIENT_ID IN ('p21508_64042\n",
      "INFO:root:Query: SELECT * FROM measurement_Serum_total_cholesterol_level_98 WHERE PRACTICE_PATIENT_ID IN ('p21508_640\n",
      "INFO:root:Query: SELECT * FROM measurement_Serum_triglycerides_105 WHERE PRACTICE_PATIENT_ID IN ('p21508_640424352150\n",
      "INFO:root:Query: SELECT * FROM measurement_Serum_urea_level_29 WHERE PRACTICE_PATIENT_ID IN ('p21508_6404243521508','\n",
      "INFO:root:Query: SELECT * FROM measurement_Serum_vitamin_B12_79 WHERE PRACTICE_PATIENT_ID IN ('p21508_6404243521508',\n",
      "INFO:root:Query: SELECT * FROM measurement_Serum_vitamin_D2_level_89 WHERE PRACTICE_PATIENT_ID IN ('p21508_6404243521\n",
      "INFO:root:Query: SELECT * FROM measurement_Serum_vitamin_D_86 WHERE PRACTICE_PATIENT_ID IN ('p21508_6404243521508','p\n",
      "INFO:root:Query: SELECT * FROM measurement_SmokingStatus_NeverSmoked WHERE PRACTICE_PATIENT_ID IN ('p21508_6404243521\n",
      "INFO:root:Query: SELECT * FROM measurement_Systolic_blood_pressure_4 WHERE PRACTICE_PATIENT_ID IN ('p21508_6404243521\n",
      "INFO:root:Query: SELECT * FROM measurement_TSH___thyroid_stim_hormone_72 WHERE PRACTICE_PATIENT_ID IN ('p21508_640424\n",
      "INFO:root:Query: SELECT * FROM measurement_TSH_level_74 WHERE PRACTICE_PATIENT_ID IN ('p21508_6404243521508','p21508_\n",
      "INFO:root:Query: SELECT * FROM measurement_Total_25_hydroxyvitamin_D_level_91 WHERE PRACTICE_PATIENT_ID IN ('p21508_6\n",
      "INFO:root:Query: SELECT * FROM measurement_Total_alkaline_phosphatase_48 WHERE PRACTICE_PATIENT_ID IN ('p21508_640424\n",
      "INFO:root:Query: SELECT * FROM measurement_Total_bilirubin_55 WHERE PRACTICE_PATIENT_ID IN ('p21508_6404243521508','p\n",
      "INFO:root:Query: SELECT * FROM measurement_Total_cholesterol_HDL_ratio_95 WHERE PRACTICE_PATIENT_ID IN ('p21508_64042\n",
      "INFO:root:Query: SELECT * FROM measurement_Total_white_cell_count_18 WHERE PRACTICE_PATIENT_ID IN ('p21508_6404243521\n",
      "INFO:root:Query: SELECT * FROM measurement_Urine_albumin_creatinine_ratio_35 WHERE PRACTICE_PATIENT_ID IN ('p21508_64\n",
      "INFO:root:Query: SELECT * FROM measurement_Urine_microalbumin_creatinine_ratio_36 WHERE PRACTICE_PATIENT_ID IN ('p215\n",
      "INFO:root:Query: SELECT * FROM measurement_eGFR_using_creatinine_CKD_EPI_per_1_73_square_metres_33 WHERE PRACTICE_PAT\n"
     ]
    },
    {
     "name": "stdout",
     "output_type": "stream",
     "text": [
      "collector took 19.76873016357422 seconds\n"
     ]
    },
    {
     "name": "stderr",
     "output_type": "stream",
     "text": [
      "INFO:root:Query: SELECT * FROM static_table WHERE PRACTICE_PATIENT_ID IN ('p21000_2716817321000','p21000_271631662100\n"
     ]
    },
    {
     "name": "stdout",
     "output_type": "stream",
     "text": [
      "collating events took 0.42193174362182617 seconds\n"
     ]
    },
    {
     "name": "stderr",
     "output_type": "stream",
     "text": [
      "INFO:root:Query: SELECT * FROM diagnosis_table WHERE PRACTICE_PATIENT_ID IN ('p21000_2716817321000','p21000_271631662\n",
      "INFO:root:Query: SELECT * FROM measurement_25_Hydroxyvitamin_D2_level_92 WHERE PRACTICE_PATIENT_ID IN ('p21000_271681\n",
      "INFO:root:Query: SELECT * FROM measurement_25_Hydroxyvitamin_D3_level_90 WHERE PRACTICE_PATIENT_ID IN ('p21000_271681\n",
      "INFO:root:Query: SELECT * FROM measurement_AST___aspartate_transam_SGOT__46 WHERE PRACTICE_PATIENT_ID IN ('p21000_271\n",
      "INFO:root:Query: SELECT * FROM measurement_AST_serum_level_47 WHERE PRACTICE_PATIENT_ID IN ('p21000_2716817321000','p\n",
      "INFO:root:Query: SELECT * FROM measurement_Albumin___creatinine_ratio_37 WHERE PRACTICE_PATIENT_ID IN ('p21000_271681\n",
      "INFO:root:Query: SELECT * FROM measurement_Basophil_count_22 WHERE PRACTICE_PATIENT_ID IN ('p21000_2716817321000','p2\n",
      "INFO:root:Query: SELECT * FROM measurement_Blood_calcium_level_38 WHERE PRACTICE_PATIENT_ID IN ('p21000_2716817321000\n",
      "INFO:root:Query: SELECT * FROM measurement_Blood_urea_28 WHERE PRACTICE_PATIENT_ID IN ('p21000_2716817321000','p21000\n",
      "INFO:root:Query: SELECT * FROM measurement_Body_mass_index_3 WHERE PRACTICE_PATIENT_ID IN ('p21000_2716817321000','p2\n",
      "INFO:root:Query: SELECT * FROM measurement_Brain_natriuretic_peptide_level_66 WHERE PRACTICE_PATIENT_ID IN ('p21000_2\n",
      "INFO:root:Query: SELECT * FROM measurement_Calcium_adjusted_level_41 WHERE PRACTICE_PATIENT_ID IN ('p21000_2716817321\n",
      "INFO:root:Query: SELECT * FROM measurement_Calculated_LDL_cholesterol_level_103 WHERE PRACTICE_PATIENT_ID IN ('p21000\n",
      "INFO:root:Query: SELECT * FROM measurement_Combined_total_vitamin_D2_and_D3_level_93 WHERE PRACTICE_PATIENT_ID IN ('p\n",
      "INFO:root:Query: SELECT * FROM measurement_Corrected_serum_calcium_level_42 WHERE PRACTICE_PATIENT_ID IN ('p21000_271\n",
      "INFO:root:Query: SELECT * FROM measurement_Current_smoker_83 WHERE PRACTICE_PATIENT_ID IN ('p21000_2716817321000','p2\n",
      "INFO:root:Query: SELECT * FROM measurement_Diastolic_blood_pressure_5 WHERE PRACTICE_PATIENT_ID IN ('p21000_271681732\n",
      "INFO:root:Query: SELECT * FROM measurement_Eosinophil_count_21 WHERE PRACTICE_PATIENT_ID IN ('p21000_2716817321000','\n",
      "INFO:root:Query: SELECT * FROM measurement_Erythrocyte_sedimentation_rate_61 WHERE PRACTICE_PATIENT_ID IN ('p21000_27\n",
      "INFO:root:Query: SELECT * FROM measurement_Ex_smoker_84 WHERE PRACTICE_PATIENT_ID IN ('p21000_2716817321000','p21000_\n",
      "INFO:root:Query: SELECT * FROM measurement_Free_T4_level_76 WHERE PRACTICE_PATIENT_ID IN ('p21000_2716817321000','p21\n",
      "INFO:root:Query: SELECT * FROM measurement_GFR_calculated_abbreviated_MDRD_34 WHERE PRACTICE_PATIENT_ID IN ('p21000_2\n",
      "INFO:root:Query: SELECT * FROM measurement_Haematocrit___PCV_16 WHERE PRACTICE_PATIENT_ID IN ('p21000_2716817321000',\n",
      "INFO:root:Query: SELECT * FROM measurement_Haematocrit_15 WHERE PRACTICE_PATIENT_ID IN ('p21000_2716817321000','p2100\n",
      "INFO:root:Query: SELECT * FROM measurement_Haemoglobin_A1c_level___IFCC_standardised_6 WHERE PRACTICE_PATIENT_ID IN (\n",
      "INFO:root:Query: SELECT * FROM measurement_Haemoglobin_A1c_level_8 WHERE PRACTICE_PATIENT_ID IN ('p21000_271681732100\n",
      "INFO:root:Query: SELECT * FROM measurement_Haemoglobin_estimation_9 WHERE PRACTICE_PATIENT_ID IN ('p21000_27168173210\n",
      "INFO:root:Query: SELECT * FROM measurement_HbA1c_level__DCCT_aligned__7 WHERE PRACTICE_PATIENT_ID IN ('p21000_2716817\n",
      "INFO:root:Query: SELECT * FROM measurement_INR___international_normalised_ratio_81 WHERE PRACTICE_PATIENT_ID IN ('p21\n",
      "INFO:root:Query: SELECT * FROM measurement_International_normalised_ratio_82 WHERE PRACTICE_PATIENT_ID IN ('p21000_27\n",
      "INFO:root:Query: SELECT * FROM measurement_Lymphocyte_count_20 WHERE PRACTICE_PATIENT_ID IN ('p21000_2716817321000','\n",
      "INFO:root:Query: SELECT * FROM measurement_Mean_corpusc_Hb_conc__MCHC__14 WHERE PRACTICE_PATIENT_ID IN ('p21000_27168\n",
      "INFO:root:Query: SELECT * FROM measurement_Mean_corpusc_haemoglobin_MCH__13 WHERE PRACTICE_PATIENT_ID IN ('p21000_271\n",
      "INFO:root:Query: SELECT * FROM measurement_Mean_corpuscular_volume__MCV__11 WHERE PRACTICE_PATIENT_ID IN ('p21000_271\n",
      "INFO:root:Query: SELECT * FROM measurement_Monocyte_count_23 WHERE PRACTICE_PATIENT_ID IN ('p21000_2716817321000','p2\n",
      "INFO:root:Query: SELECT * FROM measurement_N_terminal_pro_brain_natriuretic_peptide_level_67 WHERE PRACTICE_PATIENT_I\n",
      "INFO:root:Query: SELECT * FROM measurement_Neutrophil_count_19 WHERE PRACTICE_PATIENT_ID IN ('p21000_2716817321000','\n",
      "INFO:root:Query: SELECT * FROM measurement_Never_smoked_tobacco_85 WHERE PRACTICE_PATIENT_ID IN ('p21000_271681732100\n",
      "INFO:root:Query: SELECT * FROM measurement_Non_HDL_cholesterol_level_108 WHERE PRACTICE_PATIENT_ID IN ('p21000_271681\n",
      "INFO:root:Query: SELECT * FROM measurement_O_E___height_1 WHERE PRACTICE_PATIENT_ID IN ('p21000_2716817321000','p2100\n",
      "INFO:root:Query: SELECT * FROM measurement_O_E___weight_2 WHERE PRACTICE_PATIENT_ID IN ('p21000_2716817321000','p2100\n",
      "INFO:root:Query: SELECT * FROM measurement_Plasma_B_natriuretic_peptide_level_69 WHERE PRACTICE_PATIENT_ID IN ('p2100\n",
      "INFO:root:Query: SELECT * FROM measurement_Plasma_C_reactive_protein_60 WHERE PRACTICE_PATIENT_ID IN ('p21000_2716817\n",
      "INFO:root:Query: SELECT * FROM measurement_Plasma_HDL_cholesterol_level_101 WHERE PRACTICE_PATIENT_ID IN ('p21000_271\n",
      "INFO:root:Query: SELECT * FROM measurement_Plasma_LDL_cholesterol_level_104 WHERE PRACTICE_PATIENT_ID IN ('p21000_271\n",
      "INFO:root:Query: SELECT * FROM measurement_Plasma_N_terminal_pro_B_type_natriuretic_peptide_conc_70 WHERE PRACTICE_PA\n",
      "INFO:root:Query: SELECT * FROM measurement_Plasma_TSH_level_73 WHERE PRACTICE_PATIENT_ID IN ('p21000_2716817321000','\n",
      "INFO:root:Query: SELECT * FROM measurement_Plasma_alanine_aminotransferase_level_44 WHERE PRACTICE_PATIENT_ID IN ('p2\n",
      "INFO:root:Query: SELECT * FROM measurement_Plasma_albumin_level_52 WHERE PRACTICE_PATIENT_ID IN ('p21000_271681732100\n",
      "INFO:root:Query: SELECT * FROM measurement_Plasma_alkaline_phosphatase_level_49 WHERE PRACTICE_PATIENT_ID IN ('p21000\n",
      "INFO:root:Query: SELECT * FROM measurement_Plasma_calcium_level_40 WHERE PRACTICE_PATIENT_ID IN ('p21000_271681732100\n",
      "INFO:root:Query: SELECT * FROM measurement_Plasma_cholesterol_HDL_ratio_96 WHERE PRACTICE_PATIENT_ID IN ('p21000_2716\n",
      "INFO:root:Query: SELECT * FROM measurement_Plasma_corrected_calcium_level_43 WHERE PRACTICE_PATIENT_ID IN ('p21000_27\n",
      "INFO:root:Query: SELECT * FROM measurement_Plasma_creatinine_level_32 WHERE PRACTICE_PATIENT_ID IN ('p21000_271681732\n",
      "INFO:root:Query: SELECT * FROM measurement_Plasma_ferritin_level_62 WHERE PRACTICE_PATIENT_ID IN ('p21000_27168173210\n",
      "INFO:root:Query: SELECT * FROM measurement_Plasma_free_T4_level_77 WHERE PRACTICE_PATIENT_ID IN ('p21000_271681732100\n",
      "INFO:root:Query: SELECT * FROM measurement_Plasma_gamma_glutamyl_transferase_level_58 WHERE PRACTICE_PATIENT_ID IN ('\n",
      "INFO:root:Query: SELECT * FROM measurement_Plasma_potassium_level_27 WHERE PRACTICE_PATIENT_ID IN ('p21000_2716817321\n",
      "INFO:root:Query: SELECT * FROM measurement_Plasma_pro_brain_natriuretic_peptide_level_64 WHERE PRACTICE_PATIENT_ID IN\n",
      "INFO:root:Query: SELECT * FROM measurement_Plasma_sodium_level_25 WHERE PRACTICE_PATIENT_ID IN ('p21000_2716817321000\n",
      "INFO:root:Query: SELECT * FROM measurement_Plasma_total_bilirubin_level_54 WHERE PRACTICE_PATIENT_ID IN ('p21000_2716\n",
      "INFO:root:Query: SELECT * FROM measurement_Plasma_total_cholesterol_level_99 WHERE PRACTICE_PATIENT_ID IN ('p21000_27\n",
      "INFO:root:Query: SELECT * FROM measurement_Plasma_triglyceride_level_106 WHERE PRACTICE_PATIENT_ID IN ('p21000_271681\n",
      "INFO:root:Query: SELECT * FROM measurement_Plasma_urea_level_30 WHERE PRACTICE_PATIENT_ID IN ('p21000_2716817321000',\n",
      "INFO:root:Query: SELECT * FROM measurement_Platelet_count_12 WHERE PRACTICE_PATIENT_ID IN ('p21000_2716817321000','p2\n",
      "INFO:root:Query: SELECT * FROM measurement_Red_blood_cell__RBC__count_10 WHERE PRACTICE_PATIENT_ID IN ('p21000_271681\n",
      "INFO:root:Query: SELECT * FROM measurement_Red_blood_cell_distribution_width_17 WHERE PRACTICE_PATIENT_ID IN ('p21000\n",
      "INFO:root:Query: SELECT * FROM measurement_Serum_25_Hydroxy_vitamin_D3_level_88 WHERE PRACTICE_PATIENT_ID IN ('p21000\n",
      "INFO:root:Query: SELECT * FROM measurement_Serum_C_reactive_protein_level_59 WHERE PRACTICE_PATIENT_ID IN ('p21000_27\n",
      "INFO:root:Query: SELECT * FROM measurement_Serum_HDL_cholesterol_level_100 WHERE PRACTICE_PATIENT_ID IN ('p21000_2716\n",
      "INFO:root:Query: SELECT * FROM measurement_Serum_LDL_cholesterol_level_102 WHERE PRACTICE_PATIENT_ID IN ('p21000_2716\n",
      "INFO:root:Query: SELECT * FROM measurement_Serum_N_terminal_pro_B_type_natriuretic_peptide_conc_68 WHERE PRACTICE_PAT\n",
      "INFO:root:Query: SELECT * FROM measurement_Serum_T4_level_78 WHERE PRACTICE_PATIENT_ID IN ('p21000_2716817321000','p2\n",
      "INFO:root:Query: SELECT * FROM measurement_Serum_TSH_level_71 WHERE PRACTICE_PATIENT_ID IN ('p21000_2716817321000','p\n",
      "INFO:root:Query: SELECT * FROM measurement_Serum_alanine_aminotransferase_level_45 WHERE PRACTICE_PATIENT_ID IN ('p21\n",
      "INFO:root:Query: SELECT * FROM measurement_Serum_albumin_51 WHERE PRACTICE_PATIENT_ID IN ('p21000_2716817321000','p21\n",
      "INFO:root:Query: SELECT * FROM measurement_Serum_alkaline_phosphatase_50 WHERE PRACTICE_PATIENT_ID IN ('p21000_271681\n",
      "INFO:root:Query: SELECT * FROM measurement_Serum_bilirubin_level_53 WHERE PRACTICE_PATIENT_ID IN ('p21000_27168173210\n",
      "INFO:root:Query: SELECT * FROM measurement_Serum_calcium_39 WHERE PRACTICE_PATIENT_ID IN ('p21000_2716817321000','p21\n",
      "INFO:root:Query: SELECT * FROM measurement_Serum_cholesterol_97 WHERE PRACTICE_PATIENT_ID IN ('p21000_2716817321000',\n",
      "INFO:root:Query: SELECT * FROM measurement_Serum_cholesterol_HDL_ratio_94 WHERE PRACTICE_PATIENT_ID IN ('p21000_27168\n",
      "INFO:root:Query: SELECT * FROM measurement_Serum_creatinine_31 WHERE PRACTICE_PATIENT_ID IN ('p21000_2716817321000','\n",
      "INFO:root:Query: SELECT * FROM measurement_Serum_ferritin_63 WHERE PRACTICE_PATIENT_ID IN ('p21000_2716817321000','p2\n",
      "INFO:root:Query: SELECT * FROM measurement_Serum_folate_80 WHERE PRACTICE_PATIENT_ID IN ('p21000_2716817321000','p210\n",
      "INFO:root:Query: SELECT * FROM measurement_Serum_free_T4_level_75 WHERE PRACTICE_PATIENT_ID IN ('p21000_2716817321000\n",
      "INFO:root:Query: SELECT * FROM measurement_Serum_gamma_glutamyl_transferase_level_57 WHERE PRACTICE_PATIENT_ID IN ('p\n",
      "INFO:root:Query: SELECT * FROM measurement_Serum_non_high_density_lipoprotein_cholesterol_level_107 WHERE PRACTICE_PA\n",
      "INFO:root:Query: SELECT * FROM measurement_Serum_potassium_26 WHERE PRACTICE_PATIENT_ID IN ('p21000_2716817321000','p\n",
      "INFO:root:Query: SELECT * FROM measurement_Serum_pro_brain_natriuretic_peptide_level_65 WHERE PRACTICE_PATIENT_ID IN \n",
      "INFO:root:Query: SELECT * FROM measurement_Serum_sodium_24 WHERE PRACTICE_PATIENT_ID IN ('p21000_2716817321000','p210\n",
      "INFO:root:Query: SELECT * FROM measurement_Serum_total_25_hydroxy_vitamin_D_level_87 WHERE PRACTICE_PATIENT_ID IN ('p\n",
      "INFO:root:Query: SELECT * FROM measurement_Serum_total_bilirubin_level_56 WHERE PRACTICE_PATIENT_ID IN ('p21000_27168\n",
      "INFO:root:Query: SELECT * FROM measurement_Serum_total_cholesterol_level_98 WHERE PRACTICE_PATIENT_ID IN ('p21000_271\n",
      "INFO:root:Query: SELECT * FROM measurement_Serum_triglycerides_105 WHERE PRACTICE_PATIENT_ID IN ('p21000_271681732100\n",
      "INFO:root:Query: SELECT * FROM measurement_Serum_urea_level_29 WHERE PRACTICE_PATIENT_ID IN ('p21000_2716817321000','\n",
      "INFO:root:Query: SELECT * FROM measurement_Serum_vitamin_B12_79 WHERE PRACTICE_PATIENT_ID IN ('p21000_2716817321000',\n",
      "INFO:root:Query: SELECT * FROM measurement_Serum_vitamin_D2_level_89 WHERE PRACTICE_PATIENT_ID IN ('p21000_2716817321\n",
      "INFO:root:Query: SELECT * FROM measurement_Serum_vitamin_D_86 WHERE PRACTICE_PATIENT_ID IN ('p21000_2716817321000','p\n",
      "INFO:root:Query: SELECT * FROM measurement_SmokingStatus_NeverSmoked WHERE PRACTICE_PATIENT_ID IN ('p21000_2716817321\n",
      "INFO:root:Query: SELECT * FROM measurement_Systolic_blood_pressure_4 WHERE PRACTICE_PATIENT_ID IN ('p21000_2716817321\n",
      "INFO:root:Query: SELECT * FROM measurement_TSH___thyroid_stim_hormone_72 WHERE PRACTICE_PATIENT_ID IN ('p21000_271681\n",
      "INFO:root:Query: SELECT * FROM measurement_TSH_level_74 WHERE PRACTICE_PATIENT_ID IN ('p21000_2716817321000','p21000_\n",
      "INFO:root:Query: SELECT * FROM measurement_Total_25_hydroxyvitamin_D_level_91 WHERE PRACTICE_PATIENT_ID IN ('p21000_2\n",
      "INFO:root:Query: SELECT * FROM measurement_Total_alkaline_phosphatase_48 WHERE PRACTICE_PATIENT_ID IN ('p21000_271681\n",
      "INFO:root:Query: SELECT * FROM measurement_Total_bilirubin_55 WHERE PRACTICE_PATIENT_ID IN ('p21000_2716817321000','p\n",
      "INFO:root:Query: SELECT * FROM measurement_Total_cholesterol_HDL_ratio_95 WHERE PRACTICE_PATIENT_ID IN ('p21000_27168\n",
      "INFO:root:Query: SELECT * FROM measurement_Total_white_cell_count_18 WHERE PRACTICE_PATIENT_ID IN ('p21000_2716817321\n",
      "INFO:root:Query: SELECT * FROM measurement_Urine_albumin_creatinine_ratio_35 WHERE PRACTICE_PATIENT_ID IN ('p21000_27\n",
      "INFO:root:Query: SELECT * FROM measurement_Urine_microalbumin_creatinine_ratio_36 WHERE PRACTICE_PATIENT_ID IN ('p210\n",
      "INFO:root:Query: SELECT * FROM measurement_eGFR_using_creatinine_CKD_EPI_per_1_73_square_metres_33 WHERE PRACTICE_PAT\n",
      "INFO:root:Query: SELECT * FROM static_table WHERE PRACTICE_PATIENT_ID IN ('p21514_6301317921514','p21514_630007162151\n"
     ]
    },
    {
     "name": "stdout",
     "output_type": "stream",
     "text": [
      "collector took 18.629491567611694 seconds\n",
      "collating events took 0.14844012260437012 seconds\n"
     ]
    },
    {
     "name": "stderr",
     "output_type": "stream",
     "text": [
      "INFO:root:Query: SELECT * FROM diagnosis_table WHERE PRACTICE_PATIENT_ID IN ('p21514_6301317921514','p21514_630007162\n",
      "INFO:root:Query: SELECT * FROM measurement_25_Hydroxyvitamin_D2_level_92 WHERE PRACTICE_PATIENT_ID IN ('p21514_630131\n",
      "INFO:root:Query: SELECT * FROM measurement_25_Hydroxyvitamin_D3_level_90 WHERE PRACTICE_PATIENT_ID IN ('p21514_630131\n",
      "INFO:root:Query: SELECT * FROM measurement_AST___aspartate_transam_SGOT__46 WHERE PRACTICE_PATIENT_ID IN ('p21514_630\n",
      "INFO:root:Query: SELECT * FROM measurement_AST_serum_level_47 WHERE PRACTICE_PATIENT_ID IN ('p21514_6301317921514','p\n",
      "INFO:root:Query: SELECT * FROM measurement_Albumin___creatinine_ratio_37 WHERE PRACTICE_PATIENT_ID IN ('p21514_630131\n",
      "INFO:root:Query: SELECT * FROM measurement_Basophil_count_22 WHERE PRACTICE_PATIENT_ID IN ('p21514_6301317921514','p2\n",
      "INFO:root:Query: SELECT * FROM measurement_Blood_calcium_level_38 WHERE PRACTICE_PATIENT_ID IN ('p21514_6301317921514\n",
      "INFO:root:Query: SELECT * FROM measurement_Blood_urea_28 WHERE PRACTICE_PATIENT_ID IN ('p21514_6301317921514','p21514\n",
      "INFO:root:Query: SELECT * FROM measurement_Body_mass_index_3 WHERE PRACTICE_PATIENT_ID IN ('p21514_6301317921514','p2\n",
      "INFO:root:Query: SELECT * FROM measurement_Brain_natriuretic_peptide_level_66 WHERE PRACTICE_PATIENT_ID IN ('p21514_6\n",
      "INFO:root:Query: SELECT * FROM measurement_Calcium_adjusted_level_41 WHERE PRACTICE_PATIENT_ID IN ('p21514_6301317921\n",
      "INFO:root:Query: SELECT * FROM measurement_Calculated_LDL_cholesterol_level_103 WHERE PRACTICE_PATIENT_ID IN ('p21514\n",
      "INFO:root:Query: SELECT * FROM measurement_Combined_total_vitamin_D2_and_D3_level_93 WHERE PRACTICE_PATIENT_ID IN ('p\n",
      "INFO:root:Query: SELECT * FROM measurement_Corrected_serum_calcium_level_42 WHERE PRACTICE_PATIENT_ID IN ('p21514_630\n",
      "INFO:root:Query: SELECT * FROM measurement_Current_smoker_83 WHERE PRACTICE_PATIENT_ID IN ('p21514_6301317921514','p2\n",
      "INFO:root:Query: SELECT * FROM measurement_Diastolic_blood_pressure_5 WHERE PRACTICE_PATIENT_ID IN ('p21514_630131792\n",
      "INFO:root:Query: SELECT * FROM measurement_Eosinophil_count_21 WHERE PRACTICE_PATIENT_ID IN ('p21514_6301317921514','\n",
      "INFO:root:Query: SELECT * FROM measurement_Erythrocyte_sedimentation_rate_61 WHERE PRACTICE_PATIENT_ID IN ('p21514_63\n",
      "INFO:root:Query: SELECT * FROM measurement_Ex_smoker_84 WHERE PRACTICE_PATIENT_ID IN ('p21514_6301317921514','p21514_\n",
      "INFO:root:Query: SELECT * FROM measurement_Free_T4_level_76 WHERE PRACTICE_PATIENT_ID IN ('p21514_6301317921514','p21\n",
      "INFO:root:Query: SELECT * FROM measurement_GFR_calculated_abbreviated_MDRD_34 WHERE PRACTICE_PATIENT_ID IN ('p21514_6\n",
      "INFO:root:Query: SELECT * FROM measurement_Haematocrit___PCV_16 WHERE PRACTICE_PATIENT_ID IN ('p21514_6301317921514',\n",
      "INFO:root:Query: SELECT * FROM measurement_Haematocrit_15 WHERE PRACTICE_PATIENT_ID IN ('p21514_6301317921514','p2151\n",
      "INFO:root:Query: SELECT * FROM measurement_Haemoglobin_A1c_level___IFCC_standardised_6 WHERE PRACTICE_PATIENT_ID IN (\n",
      "INFO:root:Query: SELECT * FROM measurement_Haemoglobin_A1c_level_8 WHERE PRACTICE_PATIENT_ID IN ('p21514_630131792151\n",
      "INFO:root:Query: SELECT * FROM measurement_Haemoglobin_estimation_9 WHERE PRACTICE_PATIENT_ID IN ('p21514_63013179215\n",
      "INFO:root:Query: SELECT * FROM measurement_HbA1c_level__DCCT_aligned__7 WHERE PRACTICE_PATIENT_ID IN ('p21514_6301317\n",
      "INFO:root:Query: SELECT * FROM measurement_INR___international_normalised_ratio_81 WHERE PRACTICE_PATIENT_ID IN ('p21\n",
      "INFO:root:Query: SELECT * FROM measurement_International_normalised_ratio_82 WHERE PRACTICE_PATIENT_ID IN ('p21514_63\n",
      "INFO:root:Query: SELECT * FROM measurement_Lymphocyte_count_20 WHERE PRACTICE_PATIENT_ID IN ('p21514_6301317921514','\n",
      "INFO:root:Query: SELECT * FROM measurement_Mean_corpusc_Hb_conc__MCHC__14 WHERE PRACTICE_PATIENT_ID IN ('p21514_63013\n",
      "INFO:root:Query: SELECT * FROM measurement_Mean_corpusc_haemoglobin_MCH__13 WHERE PRACTICE_PATIENT_ID IN ('p21514_630\n",
      "INFO:root:Query: SELECT * FROM measurement_Mean_corpuscular_volume__MCV__11 WHERE PRACTICE_PATIENT_ID IN ('p21514_630\n",
      "INFO:root:Query: SELECT * FROM measurement_Monocyte_count_23 WHERE PRACTICE_PATIENT_ID IN ('p21514_6301317921514','p2\n",
      "INFO:root:Query: SELECT * FROM measurement_N_terminal_pro_brain_natriuretic_peptide_level_67 WHERE PRACTICE_PATIENT_I\n",
      "INFO:root:Query: SELECT * FROM measurement_Neutrophil_count_19 WHERE PRACTICE_PATIENT_ID IN ('p21514_6301317921514','\n",
      "INFO:root:Query: SELECT * FROM measurement_Never_smoked_tobacco_85 WHERE PRACTICE_PATIENT_ID IN ('p21514_630131792151\n",
      "INFO:root:Query: SELECT * FROM measurement_Non_HDL_cholesterol_level_108 WHERE PRACTICE_PATIENT_ID IN ('p21514_630131\n",
      "INFO:root:Query: SELECT * FROM measurement_O_E___height_1 WHERE PRACTICE_PATIENT_ID IN ('p21514_6301317921514','p2151\n",
      "INFO:root:Query: SELECT * FROM measurement_O_E___weight_2 WHERE PRACTICE_PATIENT_ID IN ('p21514_6301317921514','p2151\n",
      "INFO:root:Query: SELECT * FROM measurement_Plasma_B_natriuretic_peptide_level_69 WHERE PRACTICE_PATIENT_ID IN ('p2151\n",
      "INFO:root:Query: SELECT * FROM measurement_Plasma_C_reactive_protein_60 WHERE PRACTICE_PATIENT_ID IN ('p21514_6301317\n",
      "INFO:root:Query: SELECT * FROM measurement_Plasma_HDL_cholesterol_level_101 WHERE PRACTICE_PATIENT_ID IN ('p21514_630\n",
      "INFO:root:Query: SELECT * FROM measurement_Plasma_LDL_cholesterol_level_104 WHERE PRACTICE_PATIENT_ID IN ('p21514_630\n",
      "INFO:root:Query: SELECT * FROM measurement_Plasma_N_terminal_pro_B_type_natriuretic_peptide_conc_70 WHERE PRACTICE_PA\n",
      "INFO:root:Query: SELECT * FROM measurement_Plasma_TSH_level_73 WHERE PRACTICE_PATIENT_ID IN ('p21514_6301317921514','\n",
      "INFO:root:Query: SELECT * FROM measurement_Plasma_alanine_aminotransferase_level_44 WHERE PRACTICE_PATIENT_ID IN ('p2\n",
      "INFO:root:Query: SELECT * FROM measurement_Plasma_albumin_level_52 WHERE PRACTICE_PATIENT_ID IN ('p21514_630131792151\n",
      "INFO:root:Query: SELECT * FROM measurement_Plasma_alkaline_phosphatase_level_49 WHERE PRACTICE_PATIENT_ID IN ('p21514\n",
      "INFO:root:Query: SELECT * FROM measurement_Plasma_calcium_level_40 WHERE PRACTICE_PATIENT_ID IN ('p21514_630131792151\n",
      "INFO:root:Query: SELECT * FROM measurement_Plasma_cholesterol_HDL_ratio_96 WHERE PRACTICE_PATIENT_ID IN ('p21514_6301\n",
      "INFO:root:Query: SELECT * FROM measurement_Plasma_corrected_calcium_level_43 WHERE PRACTICE_PATIENT_ID IN ('p21514_63\n",
      "INFO:root:Query: SELECT * FROM measurement_Plasma_creatinine_level_32 WHERE PRACTICE_PATIENT_ID IN ('p21514_630131792\n",
      "INFO:root:Query: SELECT * FROM measurement_Plasma_ferritin_level_62 WHERE PRACTICE_PATIENT_ID IN ('p21514_63013179215\n",
      "INFO:root:Query: SELECT * FROM measurement_Plasma_free_T4_level_77 WHERE PRACTICE_PATIENT_ID IN ('p21514_630131792151\n",
      "INFO:root:Query: SELECT * FROM measurement_Plasma_gamma_glutamyl_transferase_level_58 WHERE PRACTICE_PATIENT_ID IN ('\n",
      "INFO:root:Query: SELECT * FROM measurement_Plasma_potassium_level_27 WHERE PRACTICE_PATIENT_ID IN ('p21514_6301317921\n",
      "INFO:root:Query: SELECT * FROM measurement_Plasma_pro_brain_natriuretic_peptide_level_64 WHERE PRACTICE_PATIENT_ID IN\n",
      "INFO:root:Query: SELECT * FROM measurement_Plasma_sodium_level_25 WHERE PRACTICE_PATIENT_ID IN ('p21514_6301317921514\n",
      "INFO:root:Query: SELECT * FROM measurement_Plasma_total_bilirubin_level_54 WHERE PRACTICE_PATIENT_ID IN ('p21514_6301\n",
      "INFO:root:Query: SELECT * FROM measurement_Plasma_total_cholesterol_level_99 WHERE PRACTICE_PATIENT_ID IN ('p21514_63\n",
      "INFO:root:Query: SELECT * FROM measurement_Plasma_triglyceride_level_106 WHERE PRACTICE_PATIENT_ID IN ('p21514_630131\n",
      "INFO:root:Query: SELECT * FROM measurement_Plasma_urea_level_30 WHERE PRACTICE_PATIENT_ID IN ('p21514_6301317921514',\n",
      "INFO:root:Query: SELECT * FROM measurement_Platelet_count_12 WHERE PRACTICE_PATIENT_ID IN ('p21514_6301317921514','p2\n",
      "INFO:root:Query: SELECT * FROM measurement_Red_blood_cell__RBC__count_10 WHERE PRACTICE_PATIENT_ID IN ('p21514_630131\n",
      "INFO:root:Query: SELECT * FROM measurement_Red_blood_cell_distribution_width_17 WHERE PRACTICE_PATIENT_ID IN ('p21514\n",
      "INFO:root:Query: SELECT * FROM measurement_Serum_25_Hydroxy_vitamin_D3_level_88 WHERE PRACTICE_PATIENT_ID IN ('p21514\n",
      "INFO:root:Query: SELECT * FROM measurement_Serum_C_reactive_protein_level_59 WHERE PRACTICE_PATIENT_ID IN ('p21514_63\n",
      "INFO:root:Query: SELECT * FROM measurement_Serum_HDL_cholesterol_level_100 WHERE PRACTICE_PATIENT_ID IN ('p21514_6301\n",
      "INFO:root:Query: SELECT * FROM measurement_Serum_LDL_cholesterol_level_102 WHERE PRACTICE_PATIENT_ID IN ('p21514_6301\n",
      "INFO:root:Query: SELECT * FROM measurement_Serum_N_terminal_pro_B_type_natriuretic_peptide_conc_68 WHERE PRACTICE_PAT\n",
      "INFO:root:Query: SELECT * FROM measurement_Serum_T4_level_78 WHERE PRACTICE_PATIENT_ID IN ('p21514_6301317921514','p2\n",
      "INFO:root:Query: SELECT * FROM measurement_Serum_TSH_level_71 WHERE PRACTICE_PATIENT_ID IN ('p21514_6301317921514','p\n",
      "INFO:root:Query: SELECT * FROM measurement_Serum_alanine_aminotransferase_level_45 WHERE PRACTICE_PATIENT_ID IN ('p21\n",
      "INFO:root:Query: SELECT * FROM measurement_Serum_albumin_51 WHERE PRACTICE_PATIENT_ID IN ('p21514_6301317921514','p21\n",
      "INFO:root:Query: SELECT * FROM measurement_Serum_alkaline_phosphatase_50 WHERE PRACTICE_PATIENT_ID IN ('p21514_630131\n",
      "INFO:root:Query: SELECT * FROM measurement_Serum_bilirubin_level_53 WHERE PRACTICE_PATIENT_ID IN ('p21514_63013179215\n",
      "INFO:root:Query: SELECT * FROM measurement_Serum_calcium_39 WHERE PRACTICE_PATIENT_ID IN ('p21514_6301317921514','p21\n",
      "INFO:root:Query: SELECT * FROM measurement_Serum_cholesterol_97 WHERE PRACTICE_PATIENT_ID IN ('p21514_6301317921514',\n",
      "INFO:root:Query: SELECT * FROM measurement_Serum_cholesterol_HDL_ratio_94 WHERE PRACTICE_PATIENT_ID IN ('p21514_63013\n",
      "INFO:root:Query: SELECT * FROM measurement_Serum_creatinine_31 WHERE PRACTICE_PATIENT_ID IN ('p21514_6301317921514','\n",
      "INFO:root:Query: SELECT * FROM measurement_Serum_ferritin_63 WHERE PRACTICE_PATIENT_ID IN ('p21514_6301317921514','p2\n",
      "INFO:root:Query: SELECT * FROM measurement_Serum_folate_80 WHERE PRACTICE_PATIENT_ID IN ('p21514_6301317921514','p215\n",
      "INFO:root:Query: SELECT * FROM measurement_Serum_free_T4_level_75 WHERE PRACTICE_PATIENT_ID IN ('p21514_6301317921514\n",
      "INFO:root:Query: SELECT * FROM measurement_Serum_gamma_glutamyl_transferase_level_57 WHERE PRACTICE_PATIENT_ID IN ('p\n",
      "INFO:root:Query: SELECT * FROM measurement_Serum_non_high_density_lipoprotein_cholesterol_level_107 WHERE PRACTICE_PA\n",
      "INFO:root:Query: SELECT * FROM measurement_Serum_potassium_26 WHERE PRACTICE_PATIENT_ID IN ('p21514_6301317921514','p\n",
      "INFO:root:Query: SELECT * FROM measurement_Serum_pro_brain_natriuretic_peptide_level_65 WHERE PRACTICE_PATIENT_ID IN \n",
      "INFO:root:Query: SELECT * FROM measurement_Serum_sodium_24 WHERE PRACTICE_PATIENT_ID IN ('p21514_6301317921514','p215\n",
      "INFO:root:Query: SELECT * FROM measurement_Serum_total_25_hydroxy_vitamin_D_level_87 WHERE PRACTICE_PATIENT_ID IN ('p\n",
      "INFO:root:Query: SELECT * FROM measurement_Serum_total_bilirubin_level_56 WHERE PRACTICE_PATIENT_ID IN ('p21514_63013\n",
      "INFO:root:Query: SELECT * FROM measurement_Serum_total_cholesterol_level_98 WHERE PRACTICE_PATIENT_ID IN ('p21514_630\n",
      "INFO:root:Query: SELECT * FROM measurement_Serum_triglycerides_105 WHERE PRACTICE_PATIENT_ID IN ('p21514_630131792151\n",
      "INFO:root:Query: SELECT * FROM measurement_Serum_urea_level_29 WHERE PRACTICE_PATIENT_ID IN ('p21514_6301317921514','\n",
      "INFO:root:Query: SELECT * FROM measurement_Serum_vitamin_B12_79 WHERE PRACTICE_PATIENT_ID IN ('p21514_6301317921514',\n",
      "INFO:root:Query: SELECT * FROM measurement_Serum_vitamin_D2_level_89 WHERE PRACTICE_PATIENT_ID IN ('p21514_6301317921\n",
      "INFO:root:Query: SELECT * FROM measurement_Serum_vitamin_D_86 WHERE PRACTICE_PATIENT_ID IN ('p21514_6301317921514','p\n",
      "INFO:root:Query: SELECT * FROM measurement_SmokingStatus_NeverSmoked WHERE PRACTICE_PATIENT_ID IN ('p21514_6301317921\n",
      "INFO:root:Query: SELECT * FROM measurement_Systolic_blood_pressure_4 WHERE PRACTICE_PATIENT_ID IN ('p21514_6301317921\n",
      "INFO:root:Query: SELECT * FROM measurement_TSH___thyroid_stim_hormone_72 WHERE PRACTICE_PATIENT_ID IN ('p21514_630131\n",
      "INFO:root:Query: SELECT * FROM measurement_TSH_level_74 WHERE PRACTICE_PATIENT_ID IN ('p21514_6301317921514','p21514_\n",
      "INFO:root:Query: SELECT * FROM measurement_Total_25_hydroxyvitamin_D_level_91 WHERE PRACTICE_PATIENT_ID IN ('p21514_6\n",
      "INFO:root:Query: SELECT * FROM measurement_Total_alkaline_phosphatase_48 WHERE PRACTICE_PATIENT_ID IN ('p21514_630131\n",
      "INFO:root:Query: SELECT * FROM measurement_Total_bilirubin_55 WHERE PRACTICE_PATIENT_ID IN ('p21514_6301317921514','p\n",
      "INFO:root:Query: SELECT * FROM measurement_Total_cholesterol_HDL_ratio_95 WHERE PRACTICE_PATIENT_ID IN ('p21514_63013\n",
      "INFO:root:Query: SELECT * FROM measurement_Total_white_cell_count_18 WHERE PRACTICE_PATIENT_ID IN ('p21514_6301317921\n",
      "INFO:root:Query: SELECT * FROM measurement_Urine_albumin_creatinine_ratio_35 WHERE PRACTICE_PATIENT_ID IN ('p21514_63\n",
      "INFO:root:Query: SELECT * FROM measurement_Urine_microalbumin_creatinine_ratio_36 WHERE PRACTICE_PATIENT_ID IN ('p215\n",
      "INFO:root:Query: SELECT * FROM measurement_eGFR_using_creatinine_CKD_EPI_per_1_73_square_metres_33 WHERE PRACTICE_PAT\n"
     ]
    },
    {
     "name": "stdout",
     "output_type": "stream",
     "text": [
      "collector took 27.422988891601562 seconds\n"
     ]
    },
    {
     "name": "stderr",
     "output_type": "stream",
     "text": [
      "INFO:root:Query: SELECT * FROM static_table WHERE PRACTICE_PATIENT_ID IN ('p21515_5956231421515','p21515_595624122151\n"
     ]
    },
    {
     "name": "stdout",
     "output_type": "stream",
     "text": [
      "collating events took 0.4910094738006592 seconds\n"
     ]
    },
    {
     "name": "stderr",
     "output_type": "stream",
     "text": [
      "INFO:root:Query: SELECT * FROM diagnosis_table WHERE PRACTICE_PATIENT_ID IN ('p21515_5956231421515','p21515_595624122\n",
      "INFO:root:Query: SELECT * FROM measurement_25_Hydroxyvitamin_D2_level_92 WHERE PRACTICE_PATIENT_ID IN ('p21515_595623\n",
      "INFO:root:Query: SELECT * FROM measurement_25_Hydroxyvitamin_D3_level_90 WHERE PRACTICE_PATIENT_ID IN ('p21515_595623\n",
      "INFO:root:Query: SELECT * FROM measurement_AST___aspartate_transam_SGOT__46 WHERE PRACTICE_PATIENT_ID IN ('p21515_595\n",
      "INFO:root:Query: SELECT * FROM measurement_AST_serum_level_47 WHERE PRACTICE_PATIENT_ID IN ('p21515_5956231421515','p\n",
      "INFO:root:Query: SELECT * FROM measurement_Albumin___creatinine_ratio_37 WHERE PRACTICE_PATIENT_ID IN ('p21515_595623\n",
      "INFO:root:Query: SELECT * FROM measurement_Basophil_count_22 WHERE PRACTICE_PATIENT_ID IN ('p21515_5956231421515','p2\n",
      "INFO:root:Query: SELECT * FROM measurement_Blood_calcium_level_38 WHERE PRACTICE_PATIENT_ID IN ('p21515_5956231421515\n",
      "INFO:root:Query: SELECT * FROM measurement_Blood_urea_28 WHERE PRACTICE_PATIENT_ID IN ('p21515_5956231421515','p21515\n",
      "INFO:root:Query: SELECT * FROM measurement_Body_mass_index_3 WHERE PRACTICE_PATIENT_ID IN ('p21515_5956231421515','p2\n",
      "INFO:root:Query: SELECT * FROM measurement_Brain_natriuretic_peptide_level_66 WHERE PRACTICE_PATIENT_ID IN ('p21515_5\n",
      "INFO:root:Query: SELECT * FROM measurement_Calcium_adjusted_level_41 WHERE PRACTICE_PATIENT_ID IN ('p21515_5956231421\n",
      "INFO:root:Query: SELECT * FROM measurement_Calculated_LDL_cholesterol_level_103 WHERE PRACTICE_PATIENT_ID IN ('p21515\n",
      "INFO:root:Query: SELECT * FROM measurement_Combined_total_vitamin_D2_and_D3_level_93 WHERE PRACTICE_PATIENT_ID IN ('p\n",
      "INFO:root:Query: SELECT * FROM measurement_Corrected_serum_calcium_level_42 WHERE PRACTICE_PATIENT_ID IN ('p21515_595\n",
      "INFO:root:Query: SELECT * FROM measurement_Current_smoker_83 WHERE PRACTICE_PATIENT_ID IN ('p21515_5956231421515','p2\n",
      "INFO:root:Query: SELECT * FROM measurement_Diastolic_blood_pressure_5 WHERE PRACTICE_PATIENT_ID IN ('p21515_595623142\n",
      "INFO:root:Query: SELECT * FROM measurement_Eosinophil_count_21 WHERE PRACTICE_PATIENT_ID IN ('p21515_5956231421515','\n",
      "INFO:root:Query: SELECT * FROM measurement_Erythrocyte_sedimentation_rate_61 WHERE PRACTICE_PATIENT_ID IN ('p21515_59\n",
      "INFO:root:Query: SELECT * FROM measurement_Ex_smoker_84 WHERE PRACTICE_PATIENT_ID IN ('p21515_5956231421515','p21515_\n",
      "INFO:root:Query: SELECT * FROM measurement_Free_T4_level_76 WHERE PRACTICE_PATIENT_ID IN ('p21515_5956231421515','p21\n",
      "INFO:root:Query: SELECT * FROM measurement_GFR_calculated_abbreviated_MDRD_34 WHERE PRACTICE_PATIENT_ID IN ('p21515_5\n",
      "INFO:root:Query: SELECT * FROM measurement_Haematocrit___PCV_16 WHERE PRACTICE_PATIENT_ID IN ('p21515_5956231421515',\n",
      "INFO:root:Query: SELECT * FROM measurement_Haematocrit_15 WHERE PRACTICE_PATIENT_ID IN ('p21515_5956231421515','p2151\n",
      "INFO:root:Query: SELECT * FROM measurement_Haemoglobin_A1c_level___IFCC_standardised_6 WHERE PRACTICE_PATIENT_ID IN (\n",
      "INFO:root:Query: SELECT * FROM measurement_Haemoglobin_A1c_level_8 WHERE PRACTICE_PATIENT_ID IN ('p21515_595623142151\n",
      "INFO:root:Query: SELECT * FROM measurement_Haemoglobin_estimation_9 WHERE PRACTICE_PATIENT_ID IN ('p21515_59562314215\n",
      "INFO:root:Query: SELECT * FROM measurement_HbA1c_level__DCCT_aligned__7 WHERE PRACTICE_PATIENT_ID IN ('p21515_5956231\n",
      "INFO:root:Query: SELECT * FROM measurement_INR___international_normalised_ratio_81 WHERE PRACTICE_PATIENT_ID IN ('p21\n",
      "INFO:root:Query: SELECT * FROM measurement_International_normalised_ratio_82 WHERE PRACTICE_PATIENT_ID IN ('p21515_59\n",
      "INFO:root:Query: SELECT * FROM measurement_Lymphocyte_count_20 WHERE PRACTICE_PATIENT_ID IN ('p21515_5956231421515','\n",
      "INFO:root:Query: SELECT * FROM measurement_Mean_corpusc_Hb_conc__MCHC__14 WHERE PRACTICE_PATIENT_ID IN ('p21515_59562\n",
      "INFO:root:Query: SELECT * FROM measurement_Mean_corpusc_haemoglobin_MCH__13 WHERE PRACTICE_PATIENT_ID IN ('p21515_595\n",
      "INFO:root:Query: SELECT * FROM measurement_Mean_corpuscular_volume__MCV__11 WHERE PRACTICE_PATIENT_ID IN ('p21515_595\n",
      "INFO:root:Query: SELECT * FROM measurement_Monocyte_count_23 WHERE PRACTICE_PATIENT_ID IN ('p21515_5956231421515','p2\n",
      "INFO:root:Query: SELECT * FROM measurement_N_terminal_pro_brain_natriuretic_peptide_level_67 WHERE PRACTICE_PATIENT_I\n",
      "INFO:root:Query: SELECT * FROM measurement_Neutrophil_count_19 WHERE PRACTICE_PATIENT_ID IN ('p21515_5956231421515','\n",
      "INFO:root:Query: SELECT * FROM measurement_Never_smoked_tobacco_85 WHERE PRACTICE_PATIENT_ID IN ('p21515_595623142151\n",
      "INFO:root:Query: SELECT * FROM measurement_Non_HDL_cholesterol_level_108 WHERE PRACTICE_PATIENT_ID IN ('p21515_595623\n",
      "INFO:root:Query: SELECT * FROM measurement_O_E___height_1 WHERE PRACTICE_PATIENT_ID IN ('p21515_5956231421515','p2151\n",
      "INFO:root:Query: SELECT * FROM measurement_O_E___weight_2 WHERE PRACTICE_PATIENT_ID IN ('p21515_5956231421515','p2151\n",
      "INFO:root:Query: SELECT * FROM measurement_Plasma_B_natriuretic_peptide_level_69 WHERE PRACTICE_PATIENT_ID IN ('p2151\n",
      "INFO:root:Query: SELECT * FROM measurement_Plasma_C_reactive_protein_60 WHERE PRACTICE_PATIENT_ID IN ('p21515_5956231\n",
      "INFO:root:Query: SELECT * FROM measurement_Plasma_HDL_cholesterol_level_101 WHERE PRACTICE_PATIENT_ID IN ('p21515_595\n",
      "INFO:root:Query: SELECT * FROM measurement_Plasma_LDL_cholesterol_level_104 WHERE PRACTICE_PATIENT_ID IN ('p21515_595\n",
      "INFO:root:Query: SELECT * FROM measurement_Plasma_N_terminal_pro_B_type_natriuretic_peptide_conc_70 WHERE PRACTICE_PA\n",
      "INFO:root:Query: SELECT * FROM measurement_Plasma_TSH_level_73 WHERE PRACTICE_PATIENT_ID IN ('p21515_5956231421515','\n",
      "INFO:root:Query: SELECT * FROM measurement_Plasma_alanine_aminotransferase_level_44 WHERE PRACTICE_PATIENT_ID IN ('p2\n",
      "INFO:root:Query: SELECT * FROM measurement_Plasma_albumin_level_52 WHERE PRACTICE_PATIENT_ID IN ('p21515_595623142151\n",
      "INFO:root:Query: SELECT * FROM measurement_Plasma_alkaline_phosphatase_level_49 WHERE PRACTICE_PATIENT_ID IN ('p21515\n",
      "INFO:root:Query: SELECT * FROM measurement_Plasma_calcium_level_40 WHERE PRACTICE_PATIENT_ID IN ('p21515_595623142151\n",
      "INFO:root:Query: SELECT * FROM measurement_Plasma_cholesterol_HDL_ratio_96 WHERE PRACTICE_PATIENT_ID IN ('p21515_5956\n",
      "INFO:root:Query: SELECT * FROM measurement_Plasma_corrected_calcium_level_43 WHERE PRACTICE_PATIENT_ID IN ('p21515_59\n",
      "INFO:root:Query: SELECT * FROM measurement_Plasma_creatinine_level_32 WHERE PRACTICE_PATIENT_ID IN ('p21515_595623142\n",
      "INFO:root:Query: SELECT * FROM measurement_Plasma_ferritin_level_62 WHERE PRACTICE_PATIENT_ID IN ('p21515_59562314215\n",
      "INFO:root:Query: SELECT * FROM measurement_Plasma_free_T4_level_77 WHERE PRACTICE_PATIENT_ID IN ('p21515_595623142151\n",
      "INFO:root:Query: SELECT * FROM measurement_Plasma_gamma_glutamyl_transferase_level_58 WHERE PRACTICE_PATIENT_ID IN ('\n",
      "INFO:root:Query: SELECT * FROM measurement_Plasma_potassium_level_27 WHERE PRACTICE_PATIENT_ID IN ('p21515_5956231421\n",
      "INFO:root:Query: SELECT * FROM measurement_Plasma_pro_brain_natriuretic_peptide_level_64 WHERE PRACTICE_PATIENT_ID IN\n",
      "INFO:root:Query: SELECT * FROM measurement_Plasma_sodium_level_25 WHERE PRACTICE_PATIENT_ID IN ('p21515_5956231421515\n",
      "INFO:root:Query: SELECT * FROM measurement_Plasma_total_bilirubin_level_54 WHERE PRACTICE_PATIENT_ID IN ('p21515_5956\n",
      "INFO:root:Query: SELECT * FROM measurement_Plasma_total_cholesterol_level_99 WHERE PRACTICE_PATIENT_ID IN ('p21515_59\n",
      "INFO:root:Query: SELECT * FROM measurement_Plasma_triglyceride_level_106 WHERE PRACTICE_PATIENT_ID IN ('p21515_595623\n",
      "INFO:root:Query: SELECT * FROM measurement_Plasma_urea_level_30 WHERE PRACTICE_PATIENT_ID IN ('p21515_5956231421515',\n",
      "INFO:root:Query: SELECT * FROM measurement_Platelet_count_12 WHERE PRACTICE_PATIENT_ID IN ('p21515_5956231421515','p2\n",
      "INFO:root:Query: SELECT * FROM measurement_Red_blood_cell__RBC__count_10 WHERE PRACTICE_PATIENT_ID IN ('p21515_595623\n",
      "INFO:root:Query: SELECT * FROM measurement_Red_blood_cell_distribution_width_17 WHERE PRACTICE_PATIENT_ID IN ('p21515\n",
      "INFO:root:Query: SELECT * FROM measurement_Serum_25_Hydroxy_vitamin_D3_level_88 WHERE PRACTICE_PATIENT_ID IN ('p21515\n",
      "INFO:root:Query: SELECT * FROM measurement_Serum_C_reactive_protein_level_59 WHERE PRACTICE_PATIENT_ID IN ('p21515_59\n",
      "INFO:root:Query: SELECT * FROM measurement_Serum_HDL_cholesterol_level_100 WHERE PRACTICE_PATIENT_ID IN ('p21515_5956\n",
      "INFO:root:Query: SELECT * FROM measurement_Serum_LDL_cholesterol_level_102 WHERE PRACTICE_PATIENT_ID IN ('p21515_5956\n",
      "INFO:root:Query: SELECT * FROM measurement_Serum_N_terminal_pro_B_type_natriuretic_peptide_conc_68 WHERE PRACTICE_PAT\n",
      "INFO:root:Query: SELECT * FROM measurement_Serum_T4_level_78 WHERE PRACTICE_PATIENT_ID IN ('p21515_5956231421515','p2\n",
      "INFO:root:Query: SELECT * FROM measurement_Serum_TSH_level_71 WHERE PRACTICE_PATIENT_ID IN ('p21515_5956231421515','p\n",
      "INFO:root:Query: SELECT * FROM measurement_Serum_alanine_aminotransferase_level_45 WHERE PRACTICE_PATIENT_ID IN ('p21\n",
      "INFO:root:Query: SELECT * FROM measurement_Serum_albumin_51 WHERE PRACTICE_PATIENT_ID IN ('p21515_5956231421515','p21\n",
      "INFO:root:Query: SELECT * FROM measurement_Serum_alkaline_phosphatase_50 WHERE PRACTICE_PATIENT_ID IN ('p21515_595623\n",
      "INFO:root:Query: SELECT * FROM measurement_Serum_bilirubin_level_53 WHERE PRACTICE_PATIENT_ID IN ('p21515_59562314215\n",
      "INFO:root:Query: SELECT * FROM measurement_Serum_calcium_39 WHERE PRACTICE_PATIENT_ID IN ('p21515_5956231421515','p21\n",
      "INFO:root:Query: SELECT * FROM measurement_Serum_cholesterol_97 WHERE PRACTICE_PATIENT_ID IN ('p21515_5956231421515',\n",
      "INFO:root:Query: SELECT * FROM measurement_Serum_cholesterol_HDL_ratio_94 WHERE PRACTICE_PATIENT_ID IN ('p21515_59562\n",
      "INFO:root:Query: SELECT * FROM measurement_Serum_creatinine_31 WHERE PRACTICE_PATIENT_ID IN ('p21515_5956231421515','\n",
      "INFO:root:Query: SELECT * FROM measurement_Serum_ferritin_63 WHERE PRACTICE_PATIENT_ID IN ('p21515_5956231421515','p2\n",
      "INFO:root:Query: SELECT * FROM measurement_Serum_folate_80 WHERE PRACTICE_PATIENT_ID IN ('p21515_5956231421515','p215\n",
      "INFO:root:Query: SELECT * FROM measurement_Serum_free_T4_level_75 WHERE PRACTICE_PATIENT_ID IN ('p21515_5956231421515\n",
      "INFO:root:Query: SELECT * FROM measurement_Serum_gamma_glutamyl_transferase_level_57 WHERE PRACTICE_PATIENT_ID IN ('p\n",
      "INFO:root:Query: SELECT * FROM measurement_Serum_non_high_density_lipoprotein_cholesterol_level_107 WHERE PRACTICE_PA\n",
      "INFO:root:Query: SELECT * FROM measurement_Serum_potassium_26 WHERE PRACTICE_PATIENT_ID IN ('p21515_5956231421515','p\n",
      "INFO:root:Query: SELECT * FROM measurement_Serum_pro_brain_natriuretic_peptide_level_65 WHERE PRACTICE_PATIENT_ID IN \n",
      "INFO:root:Query: SELECT * FROM measurement_Serum_sodium_24 WHERE PRACTICE_PATIENT_ID IN ('p21515_5956231421515','p215\n",
      "INFO:root:Query: SELECT * FROM measurement_Serum_total_25_hydroxy_vitamin_D_level_87 WHERE PRACTICE_PATIENT_ID IN ('p\n",
      "INFO:root:Query: SELECT * FROM measurement_Serum_total_bilirubin_level_56 WHERE PRACTICE_PATIENT_ID IN ('p21515_59562\n",
      "INFO:root:Query: SELECT * FROM measurement_Serum_total_cholesterol_level_98 WHERE PRACTICE_PATIENT_ID IN ('p21515_595\n",
      "INFO:root:Query: SELECT * FROM measurement_Serum_triglycerides_105 WHERE PRACTICE_PATIENT_ID IN ('p21515_595623142151\n",
      "INFO:root:Query: SELECT * FROM measurement_Serum_urea_level_29 WHERE PRACTICE_PATIENT_ID IN ('p21515_5956231421515','\n",
      "INFO:root:Query: SELECT * FROM measurement_Serum_vitamin_B12_79 WHERE PRACTICE_PATIENT_ID IN ('p21515_5956231421515',\n",
      "INFO:root:Query: SELECT * FROM measurement_Serum_vitamin_D2_level_89 WHERE PRACTICE_PATIENT_ID IN ('p21515_5956231421\n",
      "INFO:root:Query: SELECT * FROM measurement_Serum_vitamin_D_86 WHERE PRACTICE_PATIENT_ID IN ('p21515_5956231421515','p\n",
      "INFO:root:Query: SELECT * FROM measurement_SmokingStatus_NeverSmoked WHERE PRACTICE_PATIENT_ID IN ('p21515_5956231421\n",
      "INFO:root:Query: SELECT * FROM measurement_Systolic_blood_pressure_4 WHERE PRACTICE_PATIENT_ID IN ('p21515_5956231421\n",
      "INFO:root:Query: SELECT * FROM measurement_TSH___thyroid_stim_hormone_72 WHERE PRACTICE_PATIENT_ID IN ('p21515_595623\n",
      "INFO:root:Query: SELECT * FROM measurement_TSH_level_74 WHERE PRACTICE_PATIENT_ID IN ('p21515_5956231421515','p21515_\n",
      "INFO:root:Query: SELECT * FROM measurement_Total_25_hydroxyvitamin_D_level_91 WHERE PRACTICE_PATIENT_ID IN ('p21515_5\n",
      "INFO:root:Query: SELECT * FROM measurement_Total_alkaline_phosphatase_48 WHERE PRACTICE_PATIENT_ID IN ('p21515_595623\n",
      "INFO:root:Query: SELECT * FROM measurement_Total_bilirubin_55 WHERE PRACTICE_PATIENT_ID IN ('p21515_5956231421515','p\n",
      "INFO:root:Query: SELECT * FROM measurement_Total_cholesterol_HDL_ratio_95 WHERE PRACTICE_PATIENT_ID IN ('p21515_59562\n",
      "INFO:root:Query: SELECT * FROM measurement_Total_white_cell_count_18 WHERE PRACTICE_PATIENT_ID IN ('p21515_5956231421\n",
      "INFO:root:Query: SELECT * FROM measurement_Urine_albumin_creatinine_ratio_35 WHERE PRACTICE_PATIENT_ID IN ('p21515_59\n",
      "INFO:root:Query: SELECT * FROM measurement_Urine_microalbumin_creatinine_ratio_36 WHERE PRACTICE_PATIENT_ID IN ('p215\n",
      "INFO:root:Query: SELECT * FROM measurement_eGFR_using_creatinine_CKD_EPI_per_1_73_square_metres_33 WHERE PRACTICE_PAT\n"
     ]
    },
    {
     "name": "stdout",
     "output_type": "stream",
     "text": [
      "collector took 22.100784063339233 seconds\n",
      "collating events took 0.18568992614746094 seconds\n",
      "{'lazy_static_table': <polars.LazyFrame object at 0x7F64F4167550>, 'lazy_diagnosis_table': <polars.LazyFrame object at 0x7F651C0F4400>, 'lazy_measurement_25_Hydroxyvitamin_D2_level_92': <polars.LazyFrame object at 0x7F64F4164F40>, 'lazy_measurement_25_Hydroxyvitamin_D3_level_90': <polars.LazyFrame object at 0x7F64F4167F40>, 'lazy_measurement_AST___aspartate_transam_SGOT__46': <polars.LazyFrame object at 0x7F64F41652A0>, 'lazy_measurement_AST_serum_level_47': <polars.LazyFrame object at 0x7F64F4167700>, 'lazy_measurement_Albumin___creatinine_ratio_37': <polars.LazyFrame object at 0x7F64F4164B80>, 'lazy_measurement_Basophil_count_22': <polars.LazyFrame object at 0x7F64F4164940>, 'lazy_measurement_Blood_calcium_level_38': <polars.LazyFrame object at 0x7F64F4167E20>, 'lazy_measurement_Blood_urea_28': <polars.LazyFrame object at 0x7F64F4167B80>, 'lazy_measurement_Body_mass_index_3': <polars.LazyFrame object at 0x7F64F4165570>, 'lazy_measurement_Brain_natriuretic_peptide_level_66': <polars.LazyFrame object at 0x7F64F4166E30>, 'lazy_measurement_Calcium_adjusted_level_41': <polars.LazyFrame object at 0x7F64F4167310>, 'lazy_measurement_Calculated_LDL_cholesterol_level_103': <polars.LazyFrame object at 0x7F64F4167010>, 'lazy_measurement_Combined_total_vitamin_D2_and_D3_level_93': <polars.LazyFrame object at 0x7F64F4166350>, 'lazy_measurement_Corrected_serum_calcium_level_42': <polars.LazyFrame object at 0x7F64F41678E0>, 'lazy_measurement_Current_smoker_83': <polars.LazyFrame object at 0x7F64F4165D20>, 'lazy_measurement_Diastolic_blood_pressure_5': <polars.LazyFrame object at 0x7F64F41650C0>, 'lazy_measurement_Eosinophil_count_21': <polars.LazyFrame object at 0x7F64F4165F00>, 'lazy_measurement_Erythrocyte_sedimentation_rate_61': <polars.LazyFrame object at 0x7F64F41676A0>, 'lazy_measurement_Ex_smoker_84': <polars.LazyFrame object at 0x7F64F4167A00>, 'lazy_measurement_Free_T4_level_76': <polars.LazyFrame object at 0x7F64F4164910>, 'lazy_measurement_GFR_calculated_abbreviated_MDRD_34': <polars.LazyFrame object at 0x7F64F41667D0>, 'lazy_measurement_Haematocrit___PCV_16': <polars.LazyFrame object at 0x7F64F4164850>, 'lazy_measurement_Haematocrit_15': <polars.LazyFrame object at 0x7F64F4167DF0>, 'lazy_measurement_Haemoglobin_A1c_level___IFCC_standardised_6': <polars.LazyFrame object at 0x7F64F4164A30>, 'lazy_measurement_Haemoglobin_A1c_level_8': <polars.LazyFrame object at 0x7F64F4164A60>, 'lazy_measurement_Haemoglobin_estimation_9': <polars.LazyFrame object at 0x7F64F4167730>, 'lazy_measurement_HbA1c_level__DCCT_aligned__7': <polars.LazyFrame object at 0x7F64F4164730>, 'lazy_measurement_INR___international_normalised_ratio_81': <polars.LazyFrame object at 0x7F64F4166410>, 'lazy_measurement_International_normalised_ratio_82': <polars.LazyFrame object at 0x7F64F4167BB0>, 'lazy_measurement_Lymphocyte_count_20': <polars.LazyFrame object at 0x7F64F41668C0>, 'lazy_measurement_Mean_corpusc_Hb_conc__MCHC__14': <polars.LazyFrame object at 0x7F64F4164A90>, 'lazy_measurement_Mean_corpusc_haemoglobin_MCH__13': <polars.LazyFrame object at 0x7F64F41660B0>, 'lazy_measurement_Mean_corpuscular_volume__MCV__11': <polars.LazyFrame object at 0x7F64F4166E60>, 'lazy_measurement_Monocyte_count_23': <polars.LazyFrame object at 0x7F64F4166440>, 'lazy_measurement_N_terminal_pro_brain_natriuretic_peptide_level_67': <polars.LazyFrame object at 0x7F64F4167670>, 'lazy_measurement_Neutrophil_count_19': <polars.LazyFrame object at 0x7F64F4167C40>, 'lazy_measurement_Never_smoked_tobacco_85': <polars.LazyFrame object at 0x7F64F4166E90>, 'lazy_measurement_Non_HDL_cholesterol_level_108': <polars.LazyFrame object at 0x7F64F4167D90>, 'lazy_measurement_O_E___height_1': <polars.LazyFrame object at 0x7F64F4164D00>, 'lazy_measurement_O_E___weight_2': <polars.LazyFrame object at 0x7F64F41665C0>, 'lazy_measurement_Plasma_B_natriuretic_peptide_level_69': <polars.LazyFrame object at 0x7F64F4166A70>, 'lazy_measurement_Plasma_C_reactive_protein_60': <polars.LazyFrame object at 0x7F64F4164100>, 'lazy_measurement_Plasma_HDL_cholesterol_level_101': <polars.LazyFrame object at 0x7F64F4167CD0>, 'lazy_measurement_Plasma_LDL_cholesterol_level_104': <polars.LazyFrame object at 0x7F64F4167760>, 'lazy_measurement_Plasma_TSH_level_73': <polars.LazyFrame object at 0x7F64F41677F0>, 'lazy_measurement_Plasma_alanine_aminotransferase_level_44': <polars.LazyFrame object at 0x7F64F4165A20>, 'lazy_measurement_Plasma_albumin_level_52': <polars.LazyFrame object at 0x7F64F4164550>, 'lazy_measurement_Plasma_alkaline_phosphatase_level_49': <polars.LazyFrame object at 0x7F64F4167C10>, 'lazy_measurement_Plasma_calcium_level_40': <polars.LazyFrame object at 0x7F64F41679A0>, 'lazy_measurement_Plasma_cholesterol_HDL_ratio_96': <polars.LazyFrame object at 0x7F64F4167820>, 'lazy_measurement_Plasma_corrected_calcium_level_43': <polars.LazyFrame object at 0x7F64F41655D0>, 'lazy_measurement_Plasma_creatinine_level_32': <polars.LazyFrame object at 0x7F6550D16200>, 'lazy_measurement_Plasma_ferritin_level_62': <polars.LazyFrame object at 0x7F64F4166EC0>, 'lazy_measurement_Plasma_free_T4_level_77': <polars.LazyFrame object at 0x7F64F4167AC0>, 'lazy_measurement_Plasma_gamma_glutamyl_transferase_level_58': <polars.LazyFrame object at 0x7F64F4164460>, 'lazy_measurement_Plasma_potassium_level_27': <polars.LazyFrame object at 0x7F64F4167A60>, 'lazy_measurement_Plasma_pro_brain_natriuretic_peptide_level_64': <polars.LazyFrame object at 0x7F64F4164220>, 'lazy_measurement_Plasma_sodium_level_25': <polars.LazyFrame object at 0x7F6551873B20>, 'lazy_measurement_Plasma_total_bilirubin_level_54': <polars.LazyFrame object at 0x7F62CC1764D0>, 'lazy_measurement_Plasma_total_cholesterol_level_99': <polars.LazyFrame object at 0x7F62CC176590>, 'lazy_measurement_Plasma_triglyceride_level_106': <polars.LazyFrame object at 0x7F62CC1765F0>, 'lazy_measurement_Plasma_urea_level_30': <polars.LazyFrame object at 0x7F62CC176110>, 'lazy_measurement_Platelet_count_12': <polars.LazyFrame object at 0x7F62CC175F30>, 'lazy_measurement_Red_blood_cell__RBC__count_10': <polars.LazyFrame object at 0x7F62CC176830>, 'lazy_measurement_Red_blood_cell_distribution_width_17': <polars.LazyFrame object at 0x7F62CC175390>, 'lazy_measurement_Serum_25_Hydroxy_vitamin_D3_level_88': <polars.LazyFrame object at 0x7F62CC1760B0>, 'lazy_measurement_Serum_C_reactive_protein_level_59': <polars.LazyFrame object at 0x7F62CC1749D0>, 'lazy_measurement_Serum_HDL_cholesterol_level_100': <polars.LazyFrame object at 0x7F62CC175DB0>, 'lazy_measurement_Serum_LDL_cholesterol_level_102': <polars.LazyFrame object at 0x7F62CC175CF0>, 'lazy_measurement_Serum_N_terminal_pro_B_type_natriuretic_peptide_conc_68': <polars.LazyFrame object at 0x7F62CC175C30>, 'lazy_measurement_Serum_T4_level_78': <polars.LazyFrame object at 0x7F62CC1759F0>, 'lazy_measurement_Serum_TSH_level_71': <polars.LazyFrame object at 0x7F62CC175B70>, 'lazy_measurement_Serum_alanine_aminotransferase_level_45': <polars.LazyFrame object at 0x7F62CC175AB0>, 'lazy_measurement_Serum_albumin_51': <polars.LazyFrame object at 0x7F62CC174C70>, 'lazy_measurement_Serum_alkaline_phosphatase_50': <polars.LazyFrame object at 0x7F62CC175570>, 'lazy_measurement_Serum_bilirubin_level_53': <polars.LazyFrame object at 0x7F62CC175BD0>, 'lazy_measurement_Serum_calcium_39': <polars.LazyFrame object at 0x7F62CC175750>, 'lazy_measurement_Serum_cholesterol_97': <polars.LazyFrame object at 0x7F62CC1742E0>, 'lazy_measurement_Serum_cholesterol_HDL_ratio_94': <polars.LazyFrame object at 0x7F62CC175990>, 'lazy_measurement_Serum_creatinine_31': <polars.LazyFrame object at 0x7F62CC174CD0>, 'lazy_measurement_Serum_ferritin_63': <polars.LazyFrame object at 0x7F62CC175630>, 'lazy_measurement_Serum_folate_80': <polars.LazyFrame object at 0x7F62CC174130>, 'lazy_measurement_Serum_free_T4_level_75': <polars.LazyFrame object at 0x7F62CC1743A0>, 'lazy_measurement_Serum_gamma_glutamyl_transferase_level_57': <polars.LazyFrame object at 0x7F62CC174160>, 'lazy_measurement_Serum_non_high_density_lipoprotein_cholesterol_level_107': <polars.LazyFrame object at 0x7F62CC175270>, 'lazy_measurement_Serum_potassium_26': <polars.LazyFrame object at 0x7F62CC174340>, 'lazy_measurement_Serum_sodium_24': <polars.LazyFrame object at 0x7F62CC1740D0>, 'lazy_measurement_Serum_total_25_hydroxy_vitamin_D_level_87': <polars.LazyFrame object at 0x7F62CC174040>, 'lazy_measurement_Serum_total_bilirubin_level_56': <polars.LazyFrame object at 0x7F62CC175510>, 'lazy_measurement_Serum_total_cholesterol_level_98': <polars.LazyFrame object at 0x7F62CC1743D0>, 'lazy_measurement_Serum_triglycerides_105': <polars.LazyFrame object at 0x7F62CC174490>, 'lazy_measurement_Serum_urea_level_29': <polars.LazyFrame object at 0x7F62CC174400>, 'lazy_measurement_Serum_vitamin_B12_79': <polars.LazyFrame object at 0x7F62CC1744F0>, 'lazy_measurement_Serum_vitamin_D2_level_89': <polars.LazyFrame object at 0x7F62CC1746D0>, 'lazy_measurement_Serum_vitamin_D_86': <polars.LazyFrame object at 0x7F62CC174250>, 'lazy_measurement_SmokingStatus_NeverSmoked': <polars.LazyFrame object at 0x7F62CC174640>, 'lazy_measurement_Systolic_blood_pressure_4': <polars.LazyFrame object at 0x7F62CC174880>, 'lazy_measurement_TSH___thyroid_stim_hormone_72': <polars.LazyFrame object at 0x7F62CC174970>, 'lazy_measurement_TSH_level_74': <polars.LazyFrame object at 0x7F62CC1752D0>, 'lazy_measurement_Total_25_hydroxyvitamin_D_level_91': <polars.LazyFrame object at 0x7F62CC174430>, 'lazy_measurement_Total_alkaline_phosphatase_48': <polars.LazyFrame object at 0x7F62CC175330>, 'lazy_measurement_Total_bilirubin_55': <polars.LazyFrame object at 0x7F62CC174370>, 'lazy_measurement_Total_cholesterol_HDL_ratio_95': <polars.LazyFrame object at 0x7F62CC1747F0>, 'lazy_measurement_Total_white_cell_count_18': <polars.LazyFrame object at 0x7F62CC174670>, 'lazy_measurement_Urine_albumin_creatinine_ratio_35': <polars.LazyFrame object at 0x7F62CC176A70>, 'lazy_measurement_Urine_microalbumin_creatinine_ratio_36': <polars.LazyFrame object at 0x7F62CC1769B0>, 'lazy_measurement_eGFR_using_creatinine_CKD_EPI_per_1_73_square_metres_33': <polars.LazyFrame object at 0x7F62CC176350>}\n",
      "lazy_static_table\n"
     ]
    },
    {
     "data": {
      "text/html": [
       "<div><style>\n",
       ".dataframe > thead > tr > th,\n",
       ".dataframe > tbody > tr > td {\n",
       "  text-align: right;\n",
       "}\n",
       "</style>\n",
       "<small>shape: (5, 11)</small><table border=\"1\" class=\"dataframe\"><thead><tr><th>PRACTICE_PATIENT_ID</th><th>PRACTICE_ID</th><th>PATIENT_ID</th><th>ETHNICITY</th><th>YEAR_OF_BIRTH</th><th>SEX</th><th>COUNTRY</th><th>HEALTH_AUTH</th><th>INDEX_DATE</th><th>START_DATE</th><th>END_DATE</th></tr><tr><td>str</td><td>i64</td><td>i64</td><td>str</td><td>str</td><td>str</td><td>str</td><td>str</td><td>str</td><td>str</td><td>str</td></tr></thead><tbody><tr><td>&quot;p21515_5955117…</td><td>21515</td><td>5955117921515</td><td>&quot;WHITE&quot;</td><td>&quot;1991-07-15&quot;</td><td>&quot;M&quot;</td><td>&quot;E&quot;</td><td>&quot;North West&quot;</td><td>&quot;2018-04-28&quot;</td><td>&quot;2018-04-28&quot;</td><td>&quot;2022-03-19&quot;</td></tr><tr><td>&quot;p21515_5957059…</td><td>21515</td><td>5957059821515</td><td>&quot;WHITE&quot;</td><td>&quot;2000-07-15&quot;</td><td>&quot;M&quot;</td><td>&quot;E&quot;</td><td>&quot;North West&quot;</td><td>&quot;2005-01-01&quot;</td><td>&quot;2005-01-01&quot;</td><td>&quot;2022-03-19&quot;</td></tr><tr><td>&quot;p21515_6949896…</td><td>21515</td><td>6949896521515</td><td>&quot;WHITE&quot;</td><td>&quot;2009-09-15&quot;</td><td>&quot;M&quot;</td><td>&quot;E&quot;</td><td>&quot;North West&quot;</td><td>&quot;2021-12-30&quot;</td><td>&quot;2021-12-30&quot;</td><td>&quot;2022-03-19&quot;</td></tr><tr><td>&quot;p21515_6955926…</td><td>21515</td><td>6955926121515</td><td>&quot;WHITE&quot;</td><td>&quot;2020-11-15&quot;</td><td>&quot;M&quot;</td><td>&quot;E&quot;</td><td>&quot;North West&quot;</td><td>&quot;2022-01-06&quot;</td><td>&quot;2022-01-06&quot;</td><td>&quot;2022-03-19&quot;</td></tr><tr><td>&quot;p21515_6955926…</td><td>21515</td><td>6955926221515</td><td>&quot;WHITE&quot;</td><td>&quot;1991-07-15&quot;</td><td>&quot;M&quot;</td><td>&quot;E&quot;</td><td>&quot;North West&quot;</td><td>&quot;2022-01-06&quot;</td><td>&quot;2022-01-06&quot;</td><td>&quot;2022-03-19&quot;</td></tr></tbody></table></div>"
      ],
      "text/plain": [
       "shape: (5, 11)\n",
       "┌────────────┬───────────┬──────────┬─────────┬───┬───────────┬──────────┬────────────┬────────────┐\n",
       "│ PRACTICE_P ┆ PRACTICE_ ┆ PATIENT_ ┆ ETHNICI ┆ … ┆ HEALTH_AU ┆ INDEX_DA ┆ START_DATE ┆ END_DATE   │\n",
       "│ ATIENT_ID  ┆ ID        ┆ ID       ┆ TY      ┆   ┆ TH        ┆ TE       ┆ ---        ┆ ---        │\n",
       "│ ---        ┆ ---       ┆ ---      ┆ ---     ┆   ┆ ---       ┆ ---      ┆ str        ┆ str        │\n",
       "│ str        ┆ i64       ┆ i64      ┆ str     ┆   ┆ str       ┆ str      ┆            ┆            │\n",
       "╞════════════╪═══════════╪══════════╪═════════╪═══╪═══════════╪══════════╪════════════╪════════════╡\n",
       "│ p21515_595 ┆ 21515     ┆ 59551179 ┆ WHITE   ┆ … ┆ North     ┆ 2018-04- ┆ 2018-04-28 ┆ 2022-03-19 │\n",
       "│ 5117921515 ┆           ┆ 21515    ┆         ┆   ┆ West      ┆ 28       ┆            ┆            │\n",
       "│ p21515_595 ┆ 21515     ┆ 59570598 ┆ WHITE   ┆ … ┆ North     ┆ 2005-01- ┆ 2005-01-01 ┆ 2022-03-19 │\n",
       "│ 7059821515 ┆           ┆ 21515    ┆         ┆   ┆ West      ┆ 01       ┆            ┆            │\n",
       "│ p21515_694 ┆ 21515     ┆ 69498965 ┆ WHITE   ┆ … ┆ North     ┆ 2021-12- ┆ 2021-12-30 ┆ 2022-03-19 │\n",
       "│ 9896521515 ┆           ┆ 21515    ┆         ┆   ┆ West      ┆ 30       ┆            ┆            │\n",
       "│ p21515_695 ┆ 21515     ┆ 69559261 ┆ WHITE   ┆ … ┆ North     ┆ 2022-01- ┆ 2022-01-06 ┆ 2022-03-19 │\n",
       "│ 5926121515 ┆           ┆ 21515    ┆         ┆   ┆ West      ┆ 06       ┆            ┆            │\n",
       "│ p21515_695 ┆ 21515     ┆ 69559262 ┆ WHITE   ┆ … ┆ North     ┆ 2022-01- ┆ 2022-01-06 ┆ 2022-03-19 │\n",
       "│ 5926221515 ┆           ┆ 21515    ┆         ┆   ┆ West      ┆ 06       ┆            ┆            │\n",
       "└────────────┴───────────┴──────────┴─────────┴───┴───────────┴──────────┴────────────┴────────────┘"
      ]
     },
     "metadata": {},
     "output_type": "display_data"
    },
    {
     "name": "stdout",
     "output_type": "stream",
     "text": [
      "lazy_diagnosis_table\n"
     ]
    },
    {
     "data": {
      "text/html": [
       "<div><style>\n",
       ".dataframe > thead > tr > th,\n",
       ".dataframe > tbody > tr > td {\n",
       "  text-align: right;\n",
       "}\n",
       "</style>\n",
       "<small>shape: (5, 3)</small><table border=\"1\" class=\"dataframe\"><thead><tr><th>PRACTICE_PATIENT_ID</th><th>EVENT</th><th>DATE</th></tr><tr><td>str</td><td>str</td><td>str</td></tr></thead><tbody><tr><td>&quot;p21515_1099623…</td><td>&quot;OTHER_CHRONIC_…</td><td>&quot;2019-07-05&quot;</td></tr><tr><td>&quot;p21515_1099623…</td><td>&quot;PREVALENT_IBS_…</td><td>&quot;2019-08-15&quot;</td></tr><tr><td>&quot;p21515_1099623…</td><td>&quot;ANY_DEAFNESS_H…</td><td>&quot;1997-12-05&quot;</td></tr><tr><td>&quot;p21515_1099623…</td><td>&quot;ALLERGICRHINIT…</td><td>&quot;2006-05-12&quot;</td></tr><tr><td>&quot;p21515_1099623…</td><td>&quot;PSORIASIS&quot;</td><td>&quot;2002-09-20&quot;</td></tr></tbody></table></div>"
      ],
      "text/plain": [
       "shape: (5, 3)\n",
       "┌───────────────────────┬───────────────────────────────────┬────────────┐\n",
       "│ PRACTICE_PATIENT_ID   ┆ EVENT                             ┆ DATE       │\n",
       "│ ---                   ┆ ---                               ┆ ---        │\n",
       "│ str                   ┆ str                               ┆ str        │\n",
       "╞═══════════════════════╪═══════════════════════════════════╪════════════╡\n",
       "│ p21515_10996238121515 ┆ OTHER_CHRONIC_LIVER_DISEASE_OPTI… ┆ 2019-07-05 │\n",
       "│ p21515_10996238121515 ┆ PREVALENT_IBS_V2                  ┆ 2019-08-15 │\n",
       "│ p21515_10996238121515 ┆ ANY_DEAFNESS_HEARING_LOSS_V2      ┆ 1997-12-05 │\n",
       "│ p21515_10996238321515 ┆ ALLERGICRHINITISCONJ              ┆ 2006-05-12 │\n",
       "│ p21515_10996238321515 ┆ PSORIASIS                         ┆ 2002-09-20 │\n",
       "└───────────────────────┴───────────────────────────────────┴────────────┘"
      ]
     },
     "metadata": {},
     "output_type": "display_data"
    },
    {
     "name": "stdout",
     "output_type": "stream",
     "text": [
      "lazy_measurement_25_Hydroxyvitamin_D2_level_92\n"
     ]
    },
    {
     "data": {
      "text/html": [
       "<div><style>\n",
       ".dataframe > thead > tr > th,\n",
       ".dataframe > tbody > tr > td {\n",
       "  text-align: right;\n",
       "}\n",
       "</style>\n",
       "<small>shape: (5, 4)</small><table border=\"1\" class=\"dataframe\"><thead><tr><th>PRACTICE_PATIENT_ID</th><th>EVENT</th><th>VALUE</th><th>DATE</th></tr><tr><td>str</td><td>str</td><td>f64</td><td>str</td></tr></thead><tbody><tr><td>&quot;p21515_5954591…</td><td>&quot;25_Hydroxyvita…</td><td>5.0</td><td>&quot;2017-03-25&quot;</td></tr><tr><td>&quot;p21515_5955798…</td><td>&quot;25_Hydroxyvita…</td><td>5.0</td><td>&quot;2017-11-09&quot;</td></tr><tr><td>&quot;p21515_5956585…</td><td>&quot;25_Hydroxyvita…</td><td>1.0</td><td>&quot;2013-01-21&quot;</td></tr><tr><td>&quot;p21515_5956585…</td><td>&quot;25_Hydroxyvita…</td><td>1.0</td><td>&quot;2014-11-21&quot;</td></tr><tr><td>&quot;p21515_5956585…</td><td>&quot;25_Hydroxyvita…</td><td>1.0</td><td>&quot;2015-06-30&quot;</td></tr></tbody></table></div>"
      ],
      "text/plain": [
       "shape: (5, 4)\n",
       "┌──────────────────────┬───────────────────────────────┬───────┬────────────┐\n",
       "│ PRACTICE_PATIENT_ID  ┆ EVENT                         ┆ VALUE ┆ DATE       │\n",
       "│ ---                  ┆ ---                           ┆ ---   ┆ ---        │\n",
       "│ str                  ┆ str                           ┆ f64   ┆ str        │\n",
       "╞══════════════════════╪═══════════════════════════════╪═══════╪════════════╡\n",
       "│ p21515_5954591021515 ┆ 25_Hydroxyvitamin_D2_level_92 ┆ 5.0   ┆ 2017-03-25 │\n",
       "│ p21515_5955798521515 ┆ 25_Hydroxyvitamin_D2_level_92 ┆ 5.0   ┆ 2017-11-09 │\n",
       "│ p21515_5956585621515 ┆ 25_Hydroxyvitamin_D2_level_92 ┆ 1.0   ┆ 2013-01-21 │\n",
       "│ p21515_5956585621515 ┆ 25_Hydroxyvitamin_D2_level_92 ┆ 1.0   ┆ 2014-11-21 │\n",
       "│ p21515_5956585621515 ┆ 25_Hydroxyvitamin_D2_level_92 ┆ 1.0   ┆ 2015-06-30 │\n",
       "└──────────────────────┴───────────────────────────────┴───────┴────────────┘"
      ]
     },
     "metadata": {},
     "output_type": "display_data"
    },
    {
     "name": "stdout",
     "output_type": "stream",
     "text": [
      "lazy_measurement_25_Hydroxyvitamin_D3_level_90\n"
     ]
    },
    {
     "data": {
      "text/html": [
       "<div><style>\n",
       ".dataframe > thead > tr > th,\n",
       ".dataframe > tbody > tr > td {\n",
       "  text-align: right;\n",
       "}\n",
       "</style>\n",
       "<small>shape: (5, 4)</small><table border=\"1\" class=\"dataframe\"><thead><tr><th>PRACTICE_PATIENT_ID</th><th>EVENT</th><th>VALUE</th><th>DATE</th></tr><tr><td>str</td><td>str</td><td>f64</td><td>str</td></tr></thead><tbody><tr><td>&quot;p21515_5954591…</td><td>&quot;25_Hydroxyvita…</td><td>37.5</td><td>&quot;2017-03-25&quot;</td></tr><tr><td>&quot;p21515_5955166…</td><td>&quot;25_Hydroxyvita…</td><td>18.0</td><td>&quot;2017-09-26&quot;</td></tr><tr><td>&quot;p21515_5955166…</td><td>&quot;25_Hydroxyvita…</td><td>68.0</td><td>&quot;2017-12-08&quot;</td></tr><tr><td>&quot;p21515_5955798…</td><td>&quot;25_Hydroxyvita…</td><td>65.0</td><td>&quot;2017-11-09&quot;</td></tr><tr><td>&quot;p21515_5956585…</td><td>&quot;25_Hydroxyvita…</td><td>17.0</td><td>&quot;2013-01-21&quot;</td></tr></tbody></table></div>"
      ],
      "text/plain": [
       "shape: (5, 4)\n",
       "┌──────────────────────┬───────────────────────────────┬───────┬────────────┐\n",
       "│ PRACTICE_PATIENT_ID  ┆ EVENT                         ┆ VALUE ┆ DATE       │\n",
       "│ ---                  ┆ ---                           ┆ ---   ┆ ---        │\n",
       "│ str                  ┆ str                           ┆ f64   ┆ str        │\n",
       "╞══════════════════════╪═══════════════════════════════╪═══════╪════════════╡\n",
       "│ p21515_5954591021515 ┆ 25_Hydroxyvitamin_D3_level_90 ┆ 37.5  ┆ 2017-03-25 │\n",
       "│ p21515_5955166221515 ┆ 25_Hydroxyvitamin_D3_level_90 ┆ 18.0  ┆ 2017-09-26 │\n",
       "│ p21515_5955166221515 ┆ 25_Hydroxyvitamin_D3_level_90 ┆ 68.0  ┆ 2017-12-08 │\n",
       "│ p21515_5955798521515 ┆ 25_Hydroxyvitamin_D3_level_90 ┆ 65.0  ┆ 2017-11-09 │\n",
       "│ p21515_5956585621515 ┆ 25_Hydroxyvitamin_D3_level_90 ┆ 17.0  ┆ 2013-01-21 │\n",
       "└──────────────────────┴───────────────────────────────┴───────┴────────────┘"
      ]
     },
     "metadata": {},
     "output_type": "display_data"
    },
    {
     "name": "stdout",
     "output_type": "stream",
     "text": [
      "lazy_measurement_AST___aspartate_transam_SGOT__46\n"
     ]
    },
    {
     "data": {
      "text/html": [
       "<div><style>\n",
       ".dataframe > thead > tr > th,\n",
       ".dataframe > tbody > tr > td {\n",
       "  text-align: right;\n",
       "}\n",
       "</style>\n",
       "<small>shape: (5, 4)</small><table border=\"1\" class=\"dataframe\"><thead><tr><th>PRACTICE_PATIENT_ID</th><th>EVENT</th><th>VALUE</th><th>DATE</th></tr><tr><td>str</td><td>str</td><td>f64</td><td>str</td></tr></thead><tbody><tr><td>&quot;p21515_5954216…</td><td>&quot;AST___aspartat…</td><td>24.0</td><td>&quot;2000-06-22&quot;</td></tr><tr><td>&quot;p21515_5954414…</td><td>&quot;AST___aspartat…</td><td>30.0</td><td>&quot;2000-10-25&quot;</td></tr><tr><td>&quot;p21515_5954473…</td><td>&quot;AST___aspartat…</td><td>24.0</td><td>&quot;2007-05-02&quot;</td></tr><tr><td>&quot;p21515_5954522…</td><td>&quot;AST___aspartat…</td><td>53.0</td><td>&quot;2005-08-19&quot;</td></tr><tr><td>&quot;p21515_5954591…</td><td>&quot;AST___aspartat…</td><td>26.0</td><td>&quot;2000-06-01&quot;</td></tr></tbody></table></div>"
      ],
      "text/plain": [
       "shape: (5, 4)\n",
       "┌──────────────────────┬──────────────────────────────────┬───────┬────────────┐\n",
       "│ PRACTICE_PATIENT_ID  ┆ EVENT                            ┆ VALUE ┆ DATE       │\n",
       "│ ---                  ┆ ---                              ┆ ---   ┆ ---        │\n",
       "│ str                  ┆ str                              ┆ f64   ┆ str        │\n",
       "╞══════════════════════╪══════════════════════════════════╪═══════╪════════════╡\n",
       "│ p21515_5954216921515 ┆ AST___aspartate_transam_SGOT__46 ┆ 24.0  ┆ 2000-06-22 │\n",
       "│ p21515_5954414621515 ┆ AST___aspartate_transam_SGOT__46 ┆ 30.0  ┆ 2000-10-25 │\n",
       "│ p21515_5954473521515 ┆ AST___aspartate_transam_SGOT__46 ┆ 24.0  ┆ 2007-05-02 │\n",
       "│ p21515_5954522621515 ┆ AST___aspartate_transam_SGOT__46 ┆ 53.0  ┆ 2005-08-19 │\n",
       "│ p21515_5954591221515 ┆ AST___aspartate_transam_SGOT__46 ┆ 26.0  ┆ 2000-06-01 │\n",
       "└──────────────────────┴──────────────────────────────────┴───────┴────────────┘"
      ]
     },
     "metadata": {},
     "output_type": "display_data"
    },
    {
     "name": "stdout",
     "output_type": "stream",
     "text": [
      "lazy_measurement_AST_serum_level_47\n"
     ]
    },
    {
     "data": {
      "text/html": [
       "<div><style>\n",
       ".dataframe > thead > tr > th,\n",
       ".dataframe > tbody > tr > td {\n",
       "  text-align: right;\n",
       "}\n",
       "</style>\n",
       "<small>shape: (5, 4)</small><table border=\"1\" class=\"dataframe\"><thead><tr><th>PRACTICE_PATIENT_ID</th><th>EVENT</th><th>VALUE</th><th>DATE</th></tr><tr><td>str</td><td>str</td><td>f64</td><td>str</td></tr></thead><tbody><tr><td>&quot;p21515_5954271…</td><td>&quot;AST_serum_leve…</td><td>47.0</td><td>&quot;2013-03-25&quot;</td></tr><tr><td>&quot;p21515_5954290…</td><td>&quot;AST_serum_leve…</td><td>23.0</td><td>&quot;2007-03-27&quot;</td></tr><tr><td>&quot;p21515_5954292…</td><td>&quot;AST_serum_leve…</td><td>27.0</td><td>&quot;2004-10-06&quot;</td></tr><tr><td>&quot;p21515_5954292…</td><td>&quot;AST_serum_leve…</td><td>24.0</td><td>&quot;2007-04-30&quot;</td></tr><tr><td>&quot;p21515_5954292…</td><td>&quot;AST_serum_leve…</td><td>56.0</td><td>&quot;2008-12-09&quot;</td></tr></tbody></table></div>"
      ],
      "text/plain": [
       "shape: (5, 4)\n",
       "┌──────────────────────┬────────────────────┬───────┬────────────┐\n",
       "│ PRACTICE_PATIENT_ID  ┆ EVENT              ┆ VALUE ┆ DATE       │\n",
       "│ ---                  ┆ ---                ┆ ---   ┆ ---        │\n",
       "│ str                  ┆ str                ┆ f64   ┆ str        │\n",
       "╞══════════════════════╪════════════════════╪═══════╪════════════╡\n",
       "│ p21515_5954271021515 ┆ AST_serum_level_47 ┆ 47.0  ┆ 2013-03-25 │\n",
       "│ p21515_5954290821515 ┆ AST_serum_level_47 ┆ 23.0  ┆ 2007-03-27 │\n",
       "│ p21515_5954292221515 ┆ AST_serum_level_47 ┆ 27.0  ┆ 2004-10-06 │\n",
       "│ p21515_5954292221515 ┆ AST_serum_level_47 ┆ 24.0  ┆ 2007-04-30 │\n",
       "│ p21515_5954292221515 ┆ AST_serum_level_47 ┆ 56.0  ┆ 2008-12-09 │\n",
       "└──────────────────────┴────────────────────┴───────┴────────────┘"
      ]
     },
     "metadata": {},
     "output_type": "display_data"
    },
    {
     "name": "stdout",
     "output_type": "stream",
     "text": [
      "lazy_measurement_Albumin___creatinine_ratio_37\n"
     ]
    },
    {
     "data": {
      "text/html": [
       "<div><style>\n",
       ".dataframe > thead > tr > th,\n",
       ".dataframe > tbody > tr > td {\n",
       "  text-align: right;\n",
       "}\n",
       "</style>\n",
       "<small>shape: (3, 4)</small><table border=\"1\" class=\"dataframe\"><thead><tr><th>PRACTICE_PATIENT_ID</th><th>EVENT</th><th>VALUE</th><th>DATE</th></tr><tr><td>str</td><td>str</td><td>f64</td><td>str</td></tr></thead><tbody><tr><td>&quot;p21515_5954734…</td><td>&quot;Albumin___crea…</td><td>null</td><td>&quot;2016-05-10&quot;</td></tr><tr><td>&quot;p21515_5956422…</td><td>&quot;Albumin___crea…</td><td>null</td><td>&quot;2007-10-30&quot;</td></tr><tr><td>&quot;p21515_5956422…</td><td>&quot;Albumin___crea…</td><td>null</td><td>&quot;2008-06-17&quot;</td></tr></tbody></table></div>"
      ],
      "text/plain": [
       "shape: (3, 4)\n",
       "┌──────────────────────┬───────────────────────────────┬───────┬────────────┐\n",
       "│ PRACTICE_PATIENT_ID  ┆ EVENT                         ┆ VALUE ┆ DATE       │\n",
       "│ ---                  ┆ ---                           ┆ ---   ┆ ---        │\n",
       "│ str                  ┆ str                           ┆ f64   ┆ str        │\n",
       "╞══════════════════════╪═══════════════════════════════╪═══════╪════════════╡\n",
       "│ p21515_5954734521515 ┆ Albumin___creatinine_ratio_37 ┆ null  ┆ 2016-05-10 │\n",
       "│ p21515_5956422321515 ┆ Albumin___creatinine_ratio_37 ┆ null  ┆ 2007-10-30 │\n",
       "│ p21515_5956422321515 ┆ Albumin___creatinine_ratio_37 ┆ null  ┆ 2008-06-17 │\n",
       "└──────────────────────┴───────────────────────────────┴───────┴────────────┘"
      ]
     },
     "metadata": {},
     "output_type": "display_data"
    },
    {
     "name": "stdout",
     "output_type": "stream",
     "text": [
      "lazy_measurement_Basophil_count_22\n"
     ]
    },
    {
     "data": {
      "text/html": [
       "<div><style>\n",
       ".dataframe > thead > tr > th,\n",
       ".dataframe > tbody > tr > td {\n",
       "  text-align: right;\n",
       "}\n",
       "</style>\n",
       "<small>shape: (5, 4)</small><table border=\"1\" class=\"dataframe\"><thead><tr><th>PRACTICE_PATIENT_ID</th><th>EVENT</th><th>VALUE</th><th>DATE</th></tr><tr><td>str</td><td>str</td><td>f64</td><td>str</td></tr></thead><tbody><tr><td>&quot;p21515_5954193…</td><td>&quot;Basophil_count…</td><td>0.1</td><td>&quot;2021-12-01&quot;</td></tr><tr><td>&quot;p21515_5954205…</td><td>&quot;Basophil_count…</td><td>null</td><td>&quot;1999-10-15&quot;</td></tr><tr><td>&quot;p21515_5954216…</td><td>&quot;Basophil_count…</td><td>0.1</td><td>&quot;2000-08-18&quot;</td></tr><tr><td>&quot;p21515_5954223…</td><td>&quot;Basophil_count…</td><td>0.0</td><td>&quot;2021-11-08&quot;</td></tr><tr><td>&quot;p21515_5954235…</td><td>&quot;Basophil_count…</td><td>0.1</td><td>&quot;2021-11-22&quot;</td></tr></tbody></table></div>"
      ],
      "text/plain": [
       "shape: (5, 4)\n",
       "┌──────────────────────┬───────────────────┬───────┬────────────┐\n",
       "│ PRACTICE_PATIENT_ID  ┆ EVENT             ┆ VALUE ┆ DATE       │\n",
       "│ ---                  ┆ ---               ┆ ---   ┆ ---        │\n",
       "│ str                  ┆ str               ┆ f64   ┆ str        │\n",
       "╞══════════════════════╪═══════════════════╪═══════╪════════════╡\n",
       "│ p21515_5954193221515 ┆ Basophil_count_22 ┆ 0.1   ┆ 2021-12-01 │\n",
       "│ p21515_5954205021515 ┆ Basophil_count_22 ┆ null  ┆ 1999-10-15 │\n",
       "│ p21515_5954216921515 ┆ Basophil_count_22 ┆ 0.1   ┆ 2000-08-18 │\n",
       "│ p21515_5954223621515 ┆ Basophil_count_22 ┆ 0.0   ┆ 2021-11-08 │\n",
       "│ p21515_5954235321515 ┆ Basophil_count_22 ┆ 0.1   ┆ 2021-11-22 │\n",
       "└──────────────────────┴───────────────────┴───────┴────────────┘"
      ]
     },
     "metadata": {},
     "output_type": "display_data"
    },
    {
     "name": "stdout",
     "output_type": "stream",
     "text": [
      "lazy_measurement_Blood_calcium_level_38\n"
     ]
    },
    {
     "data": {
      "text/html": [
       "<div><style>\n",
       ".dataframe > thead > tr > th,\n",
       ".dataframe > tbody > tr > td {\n",
       "  text-align: right;\n",
       "}\n",
       "</style>\n",
       "<small>shape: (2, 4)</small><table border=\"1\" class=\"dataframe\"><thead><tr><th>PRACTICE_PATIENT_ID</th><th>EVENT</th><th>VALUE</th><th>DATE</th></tr><tr><td>str</td><td>str</td><td>f64</td><td>str</td></tr></thead><tbody><tr><td>&quot;p21515_6503695…</td><td>&quot;Blood_calcium_…</td><td>2.6</td><td>&quot;2014-02-04&quot;</td></tr><tr><td>&quot;p21515_6503695…</td><td>&quot;Blood_calcium_…</td><td>2.46</td><td>&quot;2014-02-18&quot;</td></tr></tbody></table></div>"
      ],
      "text/plain": [
       "shape: (2, 4)\n",
       "┌──────────────────────┬────────────────────────┬───────┬────────────┐\n",
       "│ PRACTICE_PATIENT_ID  ┆ EVENT                  ┆ VALUE ┆ DATE       │\n",
       "│ ---                  ┆ ---                    ┆ ---   ┆ ---        │\n",
       "│ str                  ┆ str                    ┆ f64   ┆ str        │\n",
       "╞══════════════════════╪════════════════════════╪═══════╪════════════╡\n",
       "│ p21515_6503695621515 ┆ Blood_calcium_level_38 ┆ 2.6   ┆ 2014-02-04 │\n",
       "│ p21515_6503695621515 ┆ Blood_calcium_level_38 ┆ 2.46  ┆ 2014-02-18 │\n",
       "└──────────────────────┴────────────────────────┴───────┴────────────┘"
      ]
     },
     "metadata": {},
     "output_type": "display_data"
    },
    {
     "name": "stdout",
     "output_type": "stream",
     "text": [
      "lazy_measurement_Blood_urea_28\n"
     ]
    },
    {
     "data": {
      "text/html": [
       "<div><style>\n",
       ".dataframe > thead > tr > th,\n",
       ".dataframe > tbody > tr > td {\n",
       "  text-align: right;\n",
       "}\n",
       "</style>\n",
       "<small>shape: (2, 4)</small><table border=\"1\" class=\"dataframe\"><thead><tr><th>PRACTICE_PATIENT_ID</th><th>EVENT</th><th>VALUE</th><th>DATE</th></tr><tr><td>str</td><td>str</td><td>f64</td><td>str</td></tr></thead><tbody><tr><td>&quot;p21515_5955213…</td><td>&quot;Blood_urea_28&quot;</td><td>7.6</td><td>&quot;2014-10-10&quot;</td></tr><tr><td>&quot;p21515_5957673…</td><td>&quot;Blood_urea_28&quot;</td><td>6.3</td><td>&quot;2002-01-31&quot;</td></tr></tbody></table></div>"
      ],
      "text/plain": [
       "shape: (2, 4)\n",
       "┌──────────────────────┬───────────────┬───────┬────────────┐\n",
       "│ PRACTICE_PATIENT_ID  ┆ EVENT         ┆ VALUE ┆ DATE       │\n",
       "│ ---                  ┆ ---           ┆ ---   ┆ ---        │\n",
       "│ str                  ┆ str           ┆ f64   ┆ str        │\n",
       "╞══════════════════════╪═══════════════╪═══════╪════════════╡\n",
       "│ p21515_5955213721515 ┆ Blood_urea_28 ┆ 7.6   ┆ 2014-10-10 │\n",
       "│ p21515_5957673321515 ┆ Blood_urea_28 ┆ 6.3   ┆ 2002-01-31 │\n",
       "└──────────────────────┴───────────────┴───────┴────────────┘"
      ]
     },
     "metadata": {},
     "output_type": "display_data"
    },
    {
     "name": "stdout",
     "output_type": "stream",
     "text": [
      "lazy_measurement_Body_mass_index_3\n"
     ]
    },
    {
     "data": {
      "text/html": [
       "<div><style>\n",
       ".dataframe > thead > tr > th,\n",
       ".dataframe > tbody > tr > td {\n",
       "  text-align: right;\n",
       "}\n",
       "</style>\n",
       "<small>shape: (5, 4)</small><table border=\"1\" class=\"dataframe\"><thead><tr><th>PRACTICE_PATIENT_ID</th><th>EVENT</th><th>VALUE</th><th>DATE</th></tr><tr><td>str</td><td>str</td><td>f64</td><td>str</td></tr></thead><tbody><tr><td>&quot;p21515_1099623…</td><td>&quot;Body_mass_inde…</td><td>20.4</td><td>&quot;2001-09-18&quot;</td></tr><tr><td>&quot;p21515_1099623…</td><td>&quot;Body_mass_inde…</td><td>25.4</td><td>&quot;2015-02-23&quot;</td></tr><tr><td>&quot;p21515_1099623…</td><td>&quot;Body_mass_inde…</td><td>25.0</td><td>&quot;2018-10-23&quot;</td></tr><tr><td>&quot;p21515_1099623…</td><td>&quot;Body_mass_inde…</td><td>25.3</td><td>&quot;2019-08-15&quot;</td></tr><tr><td>&quot;p21515_1099623…</td><td>&quot;Body_mass_inde…</td><td>23.4</td><td>&quot;2021-03-29&quot;</td></tr></tbody></table></div>"
      ],
      "text/plain": [
       "shape: (5, 4)\n",
       "┌───────────────────────┬───────────────────┬───────┬────────────┐\n",
       "│ PRACTICE_PATIENT_ID   ┆ EVENT             ┆ VALUE ┆ DATE       │\n",
       "│ ---                   ┆ ---               ┆ ---   ┆ ---        │\n",
       "│ str                   ┆ str               ┆ f64   ┆ str        │\n",
       "╞═══════════════════════╪═══════════════════╪═══════╪════════════╡\n",
       "│ p21515_10996238121515 ┆ Body_mass_index_3 ┆ 20.4  ┆ 2001-09-18 │\n",
       "│ p21515_10996238121515 ┆ Body_mass_index_3 ┆ 25.4  ┆ 2015-02-23 │\n",
       "│ p21515_10996238121515 ┆ Body_mass_index_3 ┆ 25.0  ┆ 2018-10-23 │\n",
       "│ p21515_10996238121515 ┆ Body_mass_index_3 ┆ 25.3  ┆ 2019-08-15 │\n",
       "│ p21515_10996238321515 ┆ Body_mass_index_3 ┆ 23.4  ┆ 2021-03-29 │\n",
       "└───────────────────────┴───────────────────┴───────┴────────────┘"
      ]
     },
     "metadata": {},
     "output_type": "display_data"
    },
    {
     "name": "stdout",
     "output_type": "stream",
     "text": [
      "lazy_measurement_Brain_natriuretic_peptide_level_66\n"
     ]
    },
    {
     "data": {
      "text/html": [
       "<div><style>\n",
       ".dataframe > thead > tr > th,\n",
       ".dataframe > tbody > tr > td {\n",
       "  text-align: right;\n",
       "}\n",
       "</style>\n",
       "<small>shape: (1, 4)</small><table border=\"1\" class=\"dataframe\"><thead><tr><th>PRACTICE_PATIENT_ID</th><th>EVENT</th><th>VALUE</th><th>DATE</th></tr><tr><td>str</td><td>str</td><td>f64</td><td>str</td></tr></thead><tbody><tr><td>&quot;p21515_6909473…</td><td>&quot;Brain_natriure…</td><td>null</td><td>&quot;2019-08-19&quot;</td></tr></tbody></table></div>"
      ],
      "text/plain": [
       "shape: (1, 4)\n",
       "┌──────────────────────┬───────────────────────────────────┬───────┬────────────┐\n",
       "│ PRACTICE_PATIENT_ID  ┆ EVENT                             ┆ VALUE ┆ DATE       │\n",
       "│ ---                  ┆ ---                               ┆ ---   ┆ ---        │\n",
       "│ str                  ┆ str                               ┆ f64   ┆ str        │\n",
       "╞══════════════════════╪═══════════════════════════════════╪═══════╪════════════╡\n",
       "│ p21515_6909473421515 ┆ Brain_natriuretic_peptide_level_… ┆ null  ┆ 2019-08-19 │\n",
       "└──────────────────────┴───────────────────────────────────┴───────┴────────────┘"
      ]
     },
     "metadata": {},
     "output_type": "display_data"
    },
    {
     "name": "stdout",
     "output_type": "stream",
     "text": [
      "lazy_measurement_Calcium_adjusted_level_41\n"
     ]
    },
    {
     "data": {
      "text/html": [
       "<div><style>\n",
       ".dataframe > thead > tr > th,\n",
       ".dataframe > tbody > tr > td {\n",
       "  text-align: right;\n",
       "}\n",
       "</style>\n",
       "<small>shape: (5, 4)</small><table border=\"1\" class=\"dataframe\"><thead><tr><th>PRACTICE_PATIENT_ID</th><th>EVENT</th><th>VALUE</th><th>DATE</th></tr><tr><td>str</td><td>str</td><td>f64</td><td>str</td></tr></thead><tbody><tr><td>&quot;p21515_5955899…</td><td>&quot;Calcium_adjust…</td><td>2.25</td><td>&quot;2016-10-12&quot;</td></tr><tr><td>&quot;p21515_5955928…</td><td>&quot;Calcium_adjust…</td><td>2.26</td><td>&quot;2017-01-19&quot;</td></tr><tr><td>&quot;p21515_5955928…</td><td>&quot;Calcium_adjust…</td><td>2.17</td><td>&quot;2018-01-08&quot;</td></tr><tr><td>&quot;p21515_6623561…</td><td>&quot;Calcium_adjust…</td><td>2.31</td><td>&quot;2017-03-31&quot;</td></tr><tr><td>&quot;p21515_6894621…</td><td>&quot;Calcium_adjust…</td><td>2.38</td><td>&quot;2018-01-18&quot;</td></tr></tbody></table></div>"
      ],
      "text/plain": [
       "shape: (5, 4)\n",
       "┌──────────────────────┬───────────────────────────┬───────┬────────────┐\n",
       "│ PRACTICE_PATIENT_ID  ┆ EVENT                     ┆ VALUE ┆ DATE       │\n",
       "│ ---                  ┆ ---                       ┆ ---   ┆ ---        │\n",
       "│ str                  ┆ str                       ┆ f64   ┆ str        │\n",
       "╞══════════════════════╪═══════════════════════════╪═══════╪════════════╡\n",
       "│ p21515_5955899121515 ┆ Calcium_adjusted_level_41 ┆ 2.25  ┆ 2016-10-12 │\n",
       "│ p21515_5955928221515 ┆ Calcium_adjusted_level_41 ┆ 2.26  ┆ 2017-01-19 │\n",
       "│ p21515_5955928221515 ┆ Calcium_adjusted_level_41 ┆ 2.17  ┆ 2018-01-08 │\n",
       "│ p21515_6623561721515 ┆ Calcium_adjusted_level_41 ┆ 2.31  ┆ 2017-03-31 │\n",
       "│ p21515_6894621321515 ┆ Calcium_adjusted_level_41 ┆ 2.38  ┆ 2018-01-18 │\n",
       "└──────────────────────┴───────────────────────────┴───────┴────────────┘"
      ]
     },
     "metadata": {},
     "output_type": "display_data"
    },
    {
     "name": "stdout",
     "output_type": "stream",
     "text": [
      "lazy_measurement_Calculated_LDL_cholesterol_level_103\n"
     ]
    },
    {
     "data": {
      "text/html": [
       "<div><style>\n",
       ".dataframe > thead > tr > th,\n",
       ".dataframe > tbody > tr > td {\n",
       "  text-align: right;\n",
       "}\n",
       "</style>\n",
       "<small>shape: (5, 4)</small><table border=\"1\" class=\"dataframe\"><thead><tr><th>PRACTICE_PATIENT_ID</th><th>EVENT</th><th>VALUE</th><th>DATE</th></tr><tr><td>str</td><td>str</td><td>f64</td><td>str</td></tr></thead><tbody><tr><td>&quot;p21515_5954236…</td><td>&quot;Calculated_LDL…</td><td>2.7</td><td>&quot;2015-05-07&quot;</td></tr><tr><td>&quot;p21515_5954308…</td><td>&quot;Calculated_LDL…</td><td>5.9</td><td>&quot;2022-02-18&quot;</td></tr><tr><td>&quot;p21515_5954414…</td><td>&quot;Calculated_LDL…</td><td>2.7</td><td>&quot;2021-11-23&quot;</td></tr><tr><td>&quot;p21515_5954467…</td><td>&quot;Calculated_LDL…</td><td>2.9</td><td>&quot;2022-02-21&quot;</td></tr><tr><td>&quot;p21515_5954476…</td><td>&quot;Calculated_LDL…</td><td>2.7</td><td>&quot;2021-10-04&quot;</td></tr></tbody></table></div>"
      ],
      "text/plain": [
       "shape: (5, 4)\n",
       "┌──────────────────────┬───────────────────────────────────┬───────┬────────────┐\n",
       "│ PRACTICE_PATIENT_ID  ┆ EVENT                             ┆ VALUE ┆ DATE       │\n",
       "│ ---                  ┆ ---                               ┆ ---   ┆ ---        │\n",
       "│ str                  ┆ str                               ┆ f64   ┆ str        │\n",
       "╞══════════════════════╪═══════════════════════════════════╪═══════╪════════════╡\n",
       "│ p21515_5954236621515 ┆ Calculated_LDL_cholesterol_level… ┆ 2.7   ┆ 2015-05-07 │\n",
       "│ p21515_5954308321515 ┆ Calculated_LDL_cholesterol_level… ┆ 5.9   ┆ 2022-02-18 │\n",
       "│ p21515_5954414421515 ┆ Calculated_LDL_cholesterol_level… ┆ 2.7   ┆ 2021-11-23 │\n",
       "│ p21515_5954467821515 ┆ Calculated_LDL_cholesterol_level… ┆ 2.9   ┆ 2022-02-21 │\n",
       "│ p21515_5954476621515 ┆ Calculated_LDL_cholesterol_level… ┆ 2.7   ┆ 2021-10-04 │\n",
       "└──────────────────────┴───────────────────────────────────┴───────┴────────────┘"
      ]
     },
     "metadata": {},
     "output_type": "display_data"
    },
    {
     "name": "stdout",
     "output_type": "stream",
     "text": [
      "lazy_measurement_Combined_total_vitamin_D2_and_D3_level_93\n"
     ]
    },
    {
     "data": {
      "text/html": [
       "<div><style>\n",
       ".dataframe > thead > tr > th,\n",
       ".dataframe > tbody > tr > td {\n",
       "  text-align: right;\n",
       "}\n",
       "</style>\n",
       "<small>shape: (5, 4)</small><table border=\"1\" class=\"dataframe\"><thead><tr><th>PRACTICE_PATIENT_ID</th><th>EVENT</th><th>VALUE</th><th>DATE</th></tr><tr><td>str</td><td>str</td><td>f64</td><td>str</td></tr></thead><tbody><tr><td>&quot;p21515_5954314…</td><td>&quot;Combined_total…</td><td>null</td><td>&quot;2013-06-06&quot;</td></tr><tr><td>&quot;p21515_5954643…</td><td>&quot;Combined_total…</td><td>null</td><td>&quot;2013-08-29&quot;</td></tr><tr><td>&quot;p21515_5954717…</td><td>&quot;Combined_total…</td><td>null</td><td>&quot;2014-03-11&quot;</td></tr><tr><td>&quot;p21515_5954773…</td><td>&quot;Combined_total…</td><td>null</td><td>&quot;2014-03-28&quot;</td></tr><tr><td>&quot;p21515_5955523…</td><td>&quot;Combined_total…</td><td>null</td><td>&quot;2014-02-28&quot;</td></tr></tbody></table></div>"
      ],
      "text/plain": [
       "shape: (5, 4)\n",
       "┌──────────────────────┬───────────────────────────────────┬───────┬────────────┐\n",
       "│ PRACTICE_PATIENT_ID  ┆ EVENT                             ┆ VALUE ┆ DATE       │\n",
       "│ ---                  ┆ ---                               ┆ ---   ┆ ---        │\n",
       "│ str                  ┆ str                               ┆ f64   ┆ str        │\n",
       "╞══════════════════════╪═══════════════════════════════════╪═══════╪════════════╡\n",
       "│ p21515_5954314621515 ┆ Combined_total_vitamin_D2_and_D3… ┆ null  ┆ 2013-06-06 │\n",
       "│ p21515_5954643121515 ┆ Combined_total_vitamin_D2_and_D3… ┆ null  ┆ 2013-08-29 │\n",
       "│ p21515_5954717221515 ┆ Combined_total_vitamin_D2_and_D3… ┆ null  ┆ 2014-03-11 │\n",
       "│ p21515_5954773321515 ┆ Combined_total_vitamin_D2_and_D3… ┆ null  ┆ 2014-03-28 │\n",
       "│ p21515_5955523921515 ┆ Combined_total_vitamin_D2_and_D3… ┆ null  ┆ 2014-02-28 │\n",
       "└──────────────────────┴───────────────────────────────────┴───────┴────────────┘"
      ]
     },
     "metadata": {},
     "output_type": "display_data"
    },
    {
     "name": "stdout",
     "output_type": "stream",
     "text": [
      "lazy_measurement_Corrected_serum_calcium_level_42\n"
     ]
    },
    {
     "data": {
      "text/html": [
       "<div><style>\n",
       ".dataframe > thead > tr > th,\n",
       ".dataframe > tbody > tr > td {\n",
       "  text-align: right;\n",
       "}\n",
       "</style>\n",
       "<small>shape: (5, 4)</small><table border=\"1\" class=\"dataframe\"><thead><tr><th>PRACTICE_PATIENT_ID</th><th>EVENT</th><th>VALUE</th><th>DATE</th></tr><tr><td>str</td><td>str</td><td>f64</td><td>str</td></tr></thead><tbody><tr><td>&quot;p21515_1099623…</td><td>&quot;Corrected_seru…</td><td>2.23</td><td>&quot;2006-08-25&quot;</td></tr><tr><td>&quot;p21515_5954188…</td><td>&quot;Corrected_seru…</td><td>2.44</td><td>&quot;2013-07-18&quot;</td></tr><tr><td>&quot;p21515_5954188…</td><td>&quot;Corrected_seru…</td><td>2.48</td><td>&quot;2014-06-12&quot;</td></tr><tr><td>&quot;p21515_5954193…</td><td>&quot;Corrected_seru…</td><td>2.34</td><td>&quot;2013-03-07&quot;</td></tr><tr><td>&quot;p21515_5954198…</td><td>&quot;Corrected_seru…</td><td>2.38</td><td>&quot;2014-05-30&quot;</td></tr></tbody></table></div>"
      ],
      "text/plain": [
       "shape: (5, 4)\n",
       "┌───────────────────────┬──────────────────────────────────┬───────┬────────────┐\n",
       "│ PRACTICE_PATIENT_ID   ┆ EVENT                            ┆ VALUE ┆ DATE       │\n",
       "│ ---                   ┆ ---                              ┆ ---   ┆ ---        │\n",
       "│ str                   ┆ str                              ┆ f64   ┆ str        │\n",
       "╞═══════════════════════╪══════════════════════════════════╪═══════╪════════════╡\n",
       "│ p21515_10996238121515 ┆ Corrected_serum_calcium_level_42 ┆ 2.23  ┆ 2006-08-25 │\n",
       "│ p21515_5954188221515  ┆ Corrected_serum_calcium_level_42 ┆ 2.44  ┆ 2013-07-18 │\n",
       "│ p21515_5954188221515  ┆ Corrected_serum_calcium_level_42 ┆ 2.48  ┆ 2014-06-12 │\n",
       "│ p21515_5954193721515  ┆ Corrected_serum_calcium_level_42 ┆ 2.34  ┆ 2013-03-07 │\n",
       "│ p21515_5954198221515  ┆ Corrected_serum_calcium_level_42 ┆ 2.38  ┆ 2014-05-30 │\n",
       "└───────────────────────┴──────────────────────────────────┴───────┴────────────┘"
      ]
     },
     "metadata": {},
     "output_type": "display_data"
    },
    {
     "name": "stdout",
     "output_type": "stream",
     "text": [
      "lazy_measurement_Current_smoker_83\n"
     ]
    },
    {
     "data": {
      "text/html": [
       "<div><style>\n",
       ".dataframe > thead > tr > th,\n",
       ".dataframe > tbody > tr > td {\n",
       "  text-align: right;\n",
       "}\n",
       "</style>\n",
       "<small>shape: (5, 4)</small><table border=\"1\" class=\"dataframe\"><thead><tr><th>PRACTICE_PATIENT_ID</th><th>EVENT</th><th>VALUE</th><th>DATE</th></tr><tr><td>str</td><td>str</td><td>f64</td><td>str</td></tr></thead><tbody><tr><td>&quot;p21515_5954188…</td><td>&quot;Current_smoker…</td><td>20.0</td><td>&quot;2003-06-24&quot;</td></tr><tr><td>&quot;p21515_5954190…</td><td>&quot;Current_smoker…</td><td>10.0</td><td>&quot;2012-01-27&quot;</td></tr><tr><td>&quot;p21515_5954193…</td><td>&quot;Current_smoker…</td><td>10.0</td><td>&quot;2007-06-29&quot;</td></tr><tr><td>&quot;p21515_5954193…</td><td>&quot;Current_smoker…</td><td>10.0</td><td>&quot;2011-02-04&quot;</td></tr><tr><td>&quot;p21515_5954193…</td><td>&quot;Current_smoker…</td><td>null</td><td>&quot;2017-04-12&quot;</td></tr></tbody></table></div>"
      ],
      "text/plain": [
       "shape: (5, 4)\n",
       "┌──────────────────────┬───────────────────┬───────┬────────────┐\n",
       "│ PRACTICE_PATIENT_ID  ┆ EVENT             ┆ VALUE ┆ DATE       │\n",
       "│ ---                  ┆ ---               ┆ ---   ┆ ---        │\n",
       "│ str                  ┆ str               ┆ f64   ┆ str        │\n",
       "╞══════════════════════╪═══════════════════╪═══════╪════════════╡\n",
       "│ p21515_5954188021515 ┆ Current_smoker_83 ┆ 20.0  ┆ 2003-06-24 │\n",
       "│ p21515_5954190521515 ┆ Current_smoker_83 ┆ 10.0  ┆ 2012-01-27 │\n",
       "│ p21515_5954193221515 ┆ Current_smoker_83 ┆ 10.0  ┆ 2007-06-29 │\n",
       "│ p21515_5954193221515 ┆ Current_smoker_83 ┆ 10.0  ┆ 2011-02-04 │\n",
       "│ p21515_5954193221515 ┆ Current_smoker_83 ┆ null  ┆ 2017-04-12 │\n",
       "└──────────────────────┴───────────────────┴───────┴────────────┘"
      ]
     },
     "metadata": {},
     "output_type": "display_data"
    },
    {
     "name": "stdout",
     "output_type": "stream",
     "text": [
      "lazy_measurement_Diastolic_blood_pressure_5\n"
     ]
    },
    {
     "data": {
      "text/html": [
       "<div><style>\n",
       ".dataframe > thead > tr > th,\n",
       ".dataframe > tbody > tr > td {\n",
       "  text-align: right;\n",
       "}\n",
       "</style>\n",
       "<small>shape: (5, 4)</small><table border=\"1\" class=\"dataframe\"><thead><tr><th>PRACTICE_PATIENT_ID</th><th>EVENT</th><th>VALUE</th><th>DATE</th></tr><tr><td>str</td><td>str</td><td>f64</td><td>str</td></tr></thead><tbody><tr><td>&quot;p21515_1099623…</td><td>&quot;Diastolic_bloo…</td><td>80.0</td><td>&quot;2001-09-18&quot;</td></tr><tr><td>&quot;p21515_1099623…</td><td>&quot;Diastolic_bloo…</td><td>90.0</td><td>&quot;2011-07-13&quot;</td></tr><tr><td>&quot;p21515_1099623…</td><td>&quot;Diastolic_bloo…</td><td>68.0</td><td>&quot;2015-01-12&quot;</td></tr><tr><td>&quot;p21515_1099623…</td><td>&quot;Diastolic_bloo…</td><td>76.0</td><td>&quot;2015-02-23&quot;</td></tr><tr><td>&quot;p21515_1099623…</td><td>&quot;Diastolic_bloo…</td><td>72.0</td><td>&quot;2016-05-17&quot;</td></tr></tbody></table></div>"
      ],
      "text/plain": [
       "shape: (5, 4)\n",
       "┌───────────────────────┬────────────────────────────┬───────┬────────────┐\n",
       "│ PRACTICE_PATIENT_ID   ┆ EVENT                      ┆ VALUE ┆ DATE       │\n",
       "│ ---                   ┆ ---                        ┆ ---   ┆ ---        │\n",
       "│ str                   ┆ str                        ┆ f64   ┆ str        │\n",
       "╞═══════════════════════╪════════════════════════════╪═══════╪════════════╡\n",
       "│ p21515_10996238121515 ┆ Diastolic_blood_pressure_5 ┆ 80.0  ┆ 2001-09-18 │\n",
       "│ p21515_10996238121515 ┆ Diastolic_blood_pressure_5 ┆ 90.0  ┆ 2011-07-13 │\n",
       "│ p21515_10996238121515 ┆ Diastolic_blood_pressure_5 ┆ 68.0  ┆ 2015-01-12 │\n",
       "│ p21515_10996238121515 ┆ Diastolic_blood_pressure_5 ┆ 76.0  ┆ 2015-02-23 │\n",
       "│ p21515_10996238121515 ┆ Diastolic_blood_pressure_5 ┆ 72.0  ┆ 2016-05-17 │\n",
       "└───────────────────────┴────────────────────────────┴───────┴────────────┘"
      ]
     },
     "metadata": {},
     "output_type": "display_data"
    },
    {
     "name": "stdout",
     "output_type": "stream",
     "text": [
      "lazy_measurement_Eosinophil_count_21\n"
     ]
    },
    {
     "data": {
      "text/html": [
       "<div><style>\n",
       ".dataframe > thead > tr > th,\n",
       ".dataframe > tbody > tr > td {\n",
       "  text-align: right;\n",
       "}\n",
       "</style>\n",
       "<small>shape: (5, 4)</small><table border=\"1\" class=\"dataframe\"><thead><tr><th>PRACTICE_PATIENT_ID</th><th>EVENT</th><th>VALUE</th><th>DATE</th></tr><tr><td>str</td><td>str</td><td>f64</td><td>str</td></tr></thead><tbody><tr><td>&quot;p21515_1099623…</td><td>&quot;Eosinophil_cou…</td><td>0.1</td><td>&quot;2006-08-24&quot;</td></tr><tr><td>&quot;p21515_1099623…</td><td>&quot;Eosinophil_cou…</td><td>0.5</td><td>&quot;2013-06-06&quot;</td></tr><tr><td>&quot;p21515_1099623…</td><td>&quot;Eosinophil_cou…</td><td>0.2</td><td>&quot;2013-08-08&quot;</td></tr><tr><td>&quot;p21515_1099623…</td><td>&quot;Eosinophil_cou…</td><td>0.2</td><td>&quot;2015-01-14&quot;</td></tr><tr><td>&quot;p21515_1099623…</td><td>&quot;Eosinophil_cou…</td><td>0.1</td><td>&quot;2015-11-03&quot;</td></tr></tbody></table></div>"
      ],
      "text/plain": [
       "shape: (5, 4)\n",
       "┌───────────────────────┬─────────────────────┬───────┬────────────┐\n",
       "│ PRACTICE_PATIENT_ID   ┆ EVENT               ┆ VALUE ┆ DATE       │\n",
       "│ ---                   ┆ ---                 ┆ ---   ┆ ---        │\n",
       "│ str                   ┆ str                 ┆ f64   ┆ str        │\n",
       "╞═══════════════════════╪═════════════════════╪═══════╪════════════╡\n",
       "│ p21515_10996238121515 ┆ Eosinophil_count_21 ┆ 0.1   ┆ 2006-08-24 │\n",
       "│ p21515_10996238121515 ┆ Eosinophil_count_21 ┆ 0.5   ┆ 2013-06-06 │\n",
       "│ p21515_10996238121515 ┆ Eosinophil_count_21 ┆ 0.2   ┆ 2013-08-08 │\n",
       "│ p21515_10996238121515 ┆ Eosinophil_count_21 ┆ 0.2   ┆ 2015-01-14 │\n",
       "│ p21515_10996238121515 ┆ Eosinophil_count_21 ┆ 0.1   ┆ 2015-11-03 │\n",
       "└───────────────────────┴─────────────────────┴───────┴────────────┘"
      ]
     },
     "metadata": {},
     "output_type": "display_data"
    },
    {
     "name": "stdout",
     "output_type": "stream",
     "text": [
      "lazy_measurement_Erythrocyte_sedimentation_rate_61\n"
     ]
    },
    {
     "data": {
      "text/html": [
       "<div><style>\n",
       ".dataframe > thead > tr > th,\n",
       ".dataframe > tbody > tr > td {\n",
       "  text-align: right;\n",
       "}\n",
       "</style>\n",
       "<small>shape: (5, 4)</small><table border=\"1\" class=\"dataframe\"><thead><tr><th>PRACTICE_PATIENT_ID</th><th>EVENT</th><th>VALUE</th><th>DATE</th></tr><tr><td>str</td><td>str</td><td>f64</td><td>str</td></tr></thead><tbody><tr><td>&quot;p21515_1099623…</td><td>&quot;Erythrocyte_se…</td><td>18.0</td><td>&quot;2016-07-22&quot;</td></tr><tr><td>&quot;p21515_1099623…</td><td>&quot;Erythrocyte_se…</td><td>16.0</td><td>&quot;2018-08-03&quot;</td></tr><tr><td>&quot;p21515_5954187…</td><td>&quot;Erythrocyte_se…</td><td>13.0</td><td>&quot;2011-07-19&quot;</td></tr><tr><td>&quot;p21515_5954187…</td><td>&quot;Erythrocyte_se…</td><td>null</td><td>&quot;2011-07-19&quot;</td></tr><tr><td>&quot;p21515_5954187…</td><td>&quot;Erythrocyte_se…</td><td>13.0</td><td>&quot;2013-04-24&quot;</td></tr></tbody></table></div>"
      ],
      "text/plain": [
       "shape: (5, 4)\n",
       "┌───────────────────────┬───────────────────────────────────┬───────┬────────────┐\n",
       "│ PRACTICE_PATIENT_ID   ┆ EVENT                             ┆ VALUE ┆ DATE       │\n",
       "│ ---                   ┆ ---                               ┆ ---   ┆ ---        │\n",
       "│ str                   ┆ str                               ┆ f64   ┆ str        │\n",
       "╞═══════════════════════╪═══════════════════════════════════╪═══════╪════════════╡\n",
       "│ p21515_10996238121515 ┆ Erythrocyte_sedimentation_rate_6… ┆ 18.0  ┆ 2016-07-22 │\n",
       "│ p21515_10996238121515 ┆ Erythrocyte_sedimentation_rate_6… ┆ 16.0  ┆ 2018-08-03 │\n",
       "│ p21515_5954187821515  ┆ Erythrocyte_sedimentation_rate_6… ┆ 13.0  ┆ 2011-07-19 │\n",
       "│ p21515_5954187821515  ┆ Erythrocyte_sedimentation_rate_6… ┆ null  ┆ 2011-07-19 │\n",
       "│ p21515_5954187821515  ┆ Erythrocyte_sedimentation_rate_6… ┆ 13.0  ┆ 2013-04-24 │\n",
       "└───────────────────────┴───────────────────────────────────┴───────┴────────────┘"
      ]
     },
     "metadata": {},
     "output_type": "display_data"
    },
    {
     "name": "stdout",
     "output_type": "stream",
     "text": [
      "lazy_measurement_Ex_smoker_84\n"
     ]
    },
    {
     "data": {
      "text/html": [
       "<div><style>\n",
       ".dataframe > thead > tr > th,\n",
       ".dataframe > tbody > tr > td {\n",
       "  text-align: right;\n",
       "}\n",
       "</style>\n",
       "<small>shape: (5, 4)</small><table border=\"1\" class=\"dataframe\"><thead><tr><th>PRACTICE_PATIENT_ID</th><th>EVENT</th><th>VALUE</th><th>DATE</th></tr><tr><td>str</td><td>str</td><td>f64</td><td>str</td></tr></thead><tbody><tr><td>&quot;p21515_1099623…</td><td>&quot;Ex_smoker_84&quot;</td><td>null</td><td>&quot;2012-08-03&quot;</td></tr><tr><td>&quot;p21515_1099623…</td><td>&quot;Ex_smoker_84&quot;</td><td>null</td><td>&quot;2021-03-29&quot;</td></tr><tr><td>&quot;p21515_5954189…</td><td>&quot;Ex_smoker_84&quot;</td><td>null</td><td>&quot;2009-01-23&quot;</td></tr><tr><td>&quot;p21515_5954189…</td><td>&quot;Ex_smoker_84&quot;</td><td>null</td><td>&quot;2009-04-14&quot;</td></tr><tr><td>&quot;p21515_5954189…</td><td>&quot;Ex_smoker_84&quot;</td><td>null</td><td>&quot;2010-04-19&quot;</td></tr></tbody></table></div>"
      ],
      "text/plain": [
       "shape: (5, 4)\n",
       "┌───────────────────────┬──────────────┬───────┬────────────┐\n",
       "│ PRACTICE_PATIENT_ID   ┆ EVENT        ┆ VALUE ┆ DATE       │\n",
       "│ ---                   ┆ ---          ┆ ---   ┆ ---        │\n",
       "│ str                   ┆ str          ┆ f64   ┆ str        │\n",
       "╞═══════════════════════╪══════════════╪═══════╪════════════╡\n",
       "│ p21515_10996238321515 ┆ Ex_smoker_84 ┆ null  ┆ 2012-08-03 │\n",
       "│ p21515_10996238321515 ┆ Ex_smoker_84 ┆ null  ┆ 2021-03-29 │\n",
       "│ p21515_5954189921515  ┆ Ex_smoker_84 ┆ null  ┆ 2009-01-23 │\n",
       "│ p21515_5954189921515  ┆ Ex_smoker_84 ┆ null  ┆ 2009-04-14 │\n",
       "│ p21515_5954189921515  ┆ Ex_smoker_84 ┆ null  ┆ 2010-04-19 │\n",
       "└───────────────────────┴──────────────┴───────┴────────────┘"
      ]
     },
     "metadata": {},
     "output_type": "display_data"
    },
    {
     "name": "stdout",
     "output_type": "stream",
     "text": [
      "lazy_measurement_Free_T4_level_76\n"
     ]
    },
    {
     "data": {
      "text/html": [
       "<div><style>\n",
       ".dataframe > thead > tr > th,\n",
       ".dataframe > tbody > tr > td {\n",
       "  text-align: right;\n",
       "}\n",
       "</style>\n",
       "<small>shape: (5, 4)</small><table border=\"1\" class=\"dataframe\"><thead><tr><th>PRACTICE_PATIENT_ID</th><th>EVENT</th><th>VALUE</th><th>DATE</th></tr><tr><td>str</td><td>str</td><td>f64</td><td>str</td></tr></thead><tbody><tr><td>&quot;p21515_5954205…</td><td>&quot;Free_T4_level_…</td><td>17.2</td><td>&quot;1999-10-15&quot;</td></tr><tr><td>&quot;p21515_5954219…</td><td>&quot;Free_T4_level_…</td><td>14.2</td><td>&quot;1997-05-23&quot;</td></tr><tr><td>&quot;p21515_5954265…</td><td>&quot;Free_T4_level_…</td><td>19.1</td><td>&quot;1999-04-17&quot;</td></tr><tr><td>&quot;p21515_5954268…</td><td>&quot;Free_T4_level_…</td><td>15.2</td><td>&quot;2000-10-31&quot;</td></tr><tr><td>&quot;p21515_5954268…</td><td>&quot;Free_T4_level_…</td><td>15.2</td><td>&quot;2000-11-01&quot;</td></tr></tbody></table></div>"
      ],
      "text/plain": [
       "shape: (5, 4)\n",
       "┌──────────────────────┬──────────────────┬───────┬────────────┐\n",
       "│ PRACTICE_PATIENT_ID  ┆ EVENT            ┆ VALUE ┆ DATE       │\n",
       "│ ---                  ┆ ---              ┆ ---   ┆ ---        │\n",
       "│ str                  ┆ str              ┆ f64   ┆ str        │\n",
       "╞══════════════════════╪══════════════════╪═══════╪════════════╡\n",
       "│ p21515_5954205021515 ┆ Free_T4_level_76 ┆ 17.2  ┆ 1999-10-15 │\n",
       "│ p21515_5954219121515 ┆ Free_T4_level_76 ┆ 14.2  ┆ 1997-05-23 │\n",
       "│ p21515_5954265621515 ┆ Free_T4_level_76 ┆ 19.1  ┆ 1999-04-17 │\n",
       "│ p21515_5954268321515 ┆ Free_T4_level_76 ┆ 15.2  ┆ 2000-10-31 │\n",
       "│ p21515_5954268321515 ┆ Free_T4_level_76 ┆ 15.2  ┆ 2000-11-01 │\n",
       "└──────────────────────┴──────────────────┴───────┴────────────┘"
      ]
     },
     "metadata": {},
     "output_type": "display_data"
    },
    {
     "name": "stdout",
     "output_type": "stream",
     "text": [
      "lazy_measurement_GFR_calculated_abbreviated_MDRD_34\n"
     ]
    },
    {
     "data": {
      "text/html": [
       "<div><style>\n",
       ".dataframe > thead > tr > th,\n",
       ".dataframe > tbody > tr > td {\n",
       "  text-align: right;\n",
       "}\n",
       "</style>\n",
       "<small>shape: (5, 4)</small><table border=\"1\" class=\"dataframe\"><thead><tr><th>PRACTICE_PATIENT_ID</th><th>EVENT</th><th>VALUE</th><th>DATE</th></tr><tr><td>str</td><td>str</td><td>f64</td><td>str</td></tr></thead><tbody><tr><td>&quot;p21515_1099623…</td><td>&quot;GFR_calculated…</td><td>71.1</td><td>&quot;2006-08-25&quot;</td></tr><tr><td>&quot;p21515_1099623…</td><td>&quot;GFR_calculated…</td><td>75.5</td><td>&quot;2013-06-06&quot;</td></tr><tr><td>&quot;p21515_1099623…</td><td>&quot;GFR_calculated…</td><td>67.5</td><td>&quot;2015-01-14&quot;</td></tr><tr><td>&quot;p21515_1099623…</td><td>&quot;GFR_calculated…</td><td>81.8</td><td>&quot;2015-11-03&quot;</td></tr><tr><td>&quot;p21515_1099623…</td><td>&quot;GFR_calculated…</td><td>76.0</td><td>&quot;2016-07-22&quot;</td></tr></tbody></table></div>"
      ],
      "text/plain": [
       "shape: (5, 4)\n",
       "┌───────────────────────┬───────────────────────────────────┬───────┬────────────┐\n",
       "│ PRACTICE_PATIENT_ID   ┆ EVENT                             ┆ VALUE ┆ DATE       │\n",
       "│ ---                   ┆ ---                               ┆ ---   ┆ ---        │\n",
       "│ str                   ┆ str                               ┆ f64   ┆ str        │\n",
       "╞═══════════════════════╪═══════════════════════════════════╪═══════╪════════════╡\n",
       "│ p21515_10996238121515 ┆ GFR_calculated_abbreviated_MDRD_… ┆ 71.1  ┆ 2006-08-25 │\n",
       "│ p21515_10996238121515 ┆ GFR_calculated_abbreviated_MDRD_… ┆ 75.5  ┆ 2013-06-06 │\n",
       "│ p21515_10996238121515 ┆ GFR_calculated_abbreviated_MDRD_… ┆ 67.5  ┆ 2015-01-14 │\n",
       "│ p21515_10996238121515 ┆ GFR_calculated_abbreviated_MDRD_… ┆ 81.8  ┆ 2015-11-03 │\n",
       "│ p21515_10996238121515 ┆ GFR_calculated_abbreviated_MDRD_… ┆ 76.0  ┆ 2016-07-22 │\n",
       "└───────────────────────┴───────────────────────────────────┴───────┴────────────┘"
      ]
     },
     "metadata": {},
     "output_type": "display_data"
    },
    {
     "name": "stdout",
     "output_type": "stream",
     "text": [
      "lazy_measurement_Haematocrit___PCV_16\n"
     ]
    },
    {
     "data": {
      "text/html": [
       "<div><style>\n",
       ".dataframe > thead > tr > th,\n",
       ".dataframe > tbody > tr > td {\n",
       "  text-align: right;\n",
       "}\n",
       "</style>\n",
       "<small>shape: (5, 4)</small><table border=\"1\" class=\"dataframe\"><thead><tr><th>PRACTICE_PATIENT_ID</th><th>EVENT</th><th>VALUE</th><th>DATE</th></tr><tr><td>str</td><td>str</td><td>f64</td><td>str</td></tr></thead><tbody><tr><td>&quot;p21515_5954205…</td><td>&quot;Haematocrit___…</td><td>0.47</td><td>&quot;1999-10-15&quot;</td></tr><tr><td>&quot;p21515_5954216…</td><td>&quot;Haematocrit___…</td><td>0.43</td><td>&quot;2000-08-18&quot;</td></tr><tr><td>&quot;p21515_5954265…</td><td>&quot;Haematocrit___…</td><td>0.4</td><td>&quot;1999-02-23&quot;</td></tr><tr><td>&quot;p21515_5954265…</td><td>&quot;Haematocrit___…</td><td>0.38</td><td>&quot;1999-03-23&quot;</td></tr><tr><td>&quot;p21515_5954265…</td><td>&quot;Haematocrit___…</td><td>0.4</td><td>&quot;1999-04-16&quot;</td></tr></tbody></table></div>"
      ],
      "text/plain": [
       "shape: (5, 4)\n",
       "┌──────────────────────┬──────────────────────┬───────┬────────────┐\n",
       "│ PRACTICE_PATIENT_ID  ┆ EVENT                ┆ VALUE ┆ DATE       │\n",
       "│ ---                  ┆ ---                  ┆ ---   ┆ ---        │\n",
       "│ str                  ┆ str                  ┆ f64   ┆ str        │\n",
       "╞══════════════════════╪══════════════════════╪═══════╪════════════╡\n",
       "│ p21515_5954205021515 ┆ Haematocrit___PCV_16 ┆ 0.47  ┆ 1999-10-15 │\n",
       "│ p21515_5954216921515 ┆ Haematocrit___PCV_16 ┆ 0.43  ┆ 2000-08-18 │\n",
       "│ p21515_5954265621515 ┆ Haematocrit___PCV_16 ┆ 0.4   ┆ 1999-02-23 │\n",
       "│ p21515_5954265621515 ┆ Haematocrit___PCV_16 ┆ 0.38  ┆ 1999-03-23 │\n",
       "│ p21515_5954265621515 ┆ Haematocrit___PCV_16 ┆ 0.4   ┆ 1999-04-16 │\n",
       "└──────────────────────┴──────────────────────┴───────┴────────────┘"
      ]
     },
     "metadata": {},
     "output_type": "display_data"
    },
    {
     "name": "stdout",
     "output_type": "stream",
     "text": [
      "lazy_measurement_Haematocrit_15\n"
     ]
    },
    {
     "data": {
      "text/html": [
       "<div><style>\n",
       ".dataframe > thead > tr > th,\n",
       ".dataframe > tbody > tr > td {\n",
       "  text-align: right;\n",
       "}\n",
       "</style>\n",
       "<small>shape: (5, 4)</small><table border=\"1\" class=\"dataframe\"><thead><tr><th>PRACTICE_PATIENT_ID</th><th>EVENT</th><th>VALUE</th><th>DATE</th></tr><tr><td>str</td><td>str</td><td>f64</td><td>str</td></tr></thead><tbody><tr><td>&quot;p21515_1099623…</td><td>&quot;Haematocrit_15…</td><td>0.47</td><td>&quot;2015-01-14&quot;</td></tr><tr><td>&quot;p21515_1099623…</td><td>&quot;Haematocrit_15…</td><td>0.49</td><td>&quot;2015-11-03&quot;</td></tr><tr><td>&quot;p21515_1099623…</td><td>&quot;Haematocrit_15…</td><td>0.44</td><td>&quot;2016-07-22&quot;</td></tr><tr><td>&quot;p21515_1099623…</td><td>&quot;Haematocrit_15…</td><td>0.47</td><td>&quot;2018-08-03&quot;</td></tr><tr><td>&quot;p21515_1099623…</td><td>&quot;Haematocrit_15…</td><td>0.48</td><td>&quot;2019-10-28&quot;</td></tr></tbody></table></div>"
      ],
      "text/plain": [
       "shape: (5, 4)\n",
       "┌───────────────────────┬────────────────┬───────┬────────────┐\n",
       "│ PRACTICE_PATIENT_ID   ┆ EVENT          ┆ VALUE ┆ DATE       │\n",
       "│ ---                   ┆ ---            ┆ ---   ┆ ---        │\n",
       "│ str                   ┆ str            ┆ f64   ┆ str        │\n",
       "╞═══════════════════════╪════════════════╪═══════╪════════════╡\n",
       "│ p21515_10996238121515 ┆ Haematocrit_15 ┆ 0.47  ┆ 2015-01-14 │\n",
       "│ p21515_10996238121515 ┆ Haematocrit_15 ┆ 0.49  ┆ 2015-11-03 │\n",
       "│ p21515_10996238121515 ┆ Haematocrit_15 ┆ 0.44  ┆ 2016-07-22 │\n",
       "│ p21515_10996238121515 ┆ Haematocrit_15 ┆ 0.47  ┆ 2018-08-03 │\n",
       "│ p21515_10996238121515 ┆ Haematocrit_15 ┆ 0.48  ┆ 2019-10-28 │\n",
       "└───────────────────────┴────────────────┴───────┴────────────┘"
      ]
     },
     "metadata": {},
     "output_type": "display_data"
    },
    {
     "name": "stdout",
     "output_type": "stream",
     "text": [
      "lazy_measurement_Haemoglobin_A1c_level___IFCC_standardised_6\n"
     ]
    },
    {
     "data": {
      "text/html": [
       "<div><style>\n",
       ".dataframe > thead > tr > th,\n",
       ".dataframe > tbody > tr > td {\n",
       "  text-align: right;\n",
       "}\n",
       "</style>\n",
       "<small>shape: (5, 4)</small><table border=\"1\" class=\"dataframe\"><thead><tr><th>PRACTICE_PATIENT_ID</th><th>EVENT</th><th>VALUE</th><th>DATE</th></tr><tr><td>str</td><td>str</td><td>f64</td><td>str</td></tr></thead><tbody><tr><td>&quot;p21515_5954187…</td><td>&quot;Haemoglobin_A1…</td><td>56.0</td><td>&quot;2011-07-15&quot;</td></tr><tr><td>&quot;p21515_5954188…</td><td>&quot;Haemoglobin_A1…</td><td>35.0</td><td>&quot;2013-04-19&quot;</td></tr><tr><td>&quot;p21515_5954188…</td><td>&quot;Haemoglobin_A1…</td><td>37.0</td><td>&quot;2013-07-18&quot;</td></tr><tr><td>&quot;p21515_5954188…</td><td>&quot;Haemoglobin_A1…</td><td>31.0</td><td>&quot;2014-06-12&quot;</td></tr><tr><td>&quot;p21515_5954189…</td><td>&quot;Haemoglobin_A1…</td><td>49.0</td><td>&quot;2009-08-17&quot;</td></tr></tbody></table></div>"
      ],
      "text/plain": [
       "shape: (5, 4)\n",
       "┌──────────────────────┬───────────────────────────────────┬───────┬────────────┐\n",
       "│ PRACTICE_PATIENT_ID  ┆ EVENT                             ┆ VALUE ┆ DATE       │\n",
       "│ ---                  ┆ ---                               ┆ ---   ┆ ---        │\n",
       "│ str                  ┆ str                               ┆ f64   ┆ str        │\n",
       "╞══════════════════════╪═══════════════════════════════════╪═══════╪════════════╡\n",
       "│ p21515_5954187521515 ┆ Haemoglobin_A1c_level___IFCC_sta… ┆ 56.0  ┆ 2011-07-15 │\n",
       "│ p21515_5954188221515 ┆ Haemoglobin_A1c_level___IFCC_sta… ┆ 35.0  ┆ 2013-04-19 │\n",
       "│ p21515_5954188221515 ┆ Haemoglobin_A1c_level___IFCC_sta… ┆ 37.0  ┆ 2013-07-18 │\n",
       "│ p21515_5954188221515 ┆ Haemoglobin_A1c_level___IFCC_sta… ┆ 31.0  ┆ 2014-06-12 │\n",
       "│ p21515_5954189921515 ┆ Haemoglobin_A1c_level___IFCC_sta… ┆ 49.0  ┆ 2009-08-17 │\n",
       "└──────────────────────┴───────────────────────────────────┴───────┴────────────┘"
      ]
     },
     "metadata": {},
     "output_type": "display_data"
    },
    {
     "name": "stdout",
     "output_type": "stream",
     "text": [
      "lazy_measurement_Haemoglobin_A1c_level_8\n"
     ]
    },
    {
     "data": {
      "text/html": [
       "<div><style>\n",
       ".dataframe > thead > tr > th,\n",
       ".dataframe > tbody > tr > td {\n",
       "  text-align: right;\n",
       "}\n",
       "</style>\n",
       "<small>shape: (5, 4)</small><table border=\"1\" class=\"dataframe\"><thead><tr><th>PRACTICE_PATIENT_ID</th><th>EVENT</th><th>VALUE</th><th>DATE</th></tr><tr><td>str</td><td>str</td><td>f64</td><td>str</td></tr></thead><tbody><tr><td>&quot;p21515_5954188…</td><td>&quot;Haemoglobin_A1…</td><td>null</td><td>&quot;2013-07-18&quot;</td></tr><tr><td>&quot;p21515_5954188…</td><td>&quot;Haemoglobin_A1…</td><td>null</td><td>&quot;2014-06-12&quot;</td></tr><tr><td>&quot;p21515_5954189…</td><td>&quot;Haemoglobin_A1…</td><td>7.1</td><td>&quot;2009-04-15&quot;</td></tr><tr><td>&quot;p21515_5954189…</td><td>&quot;Haemoglobin_A1…</td><td>null</td><td>&quot;2009-08-17&quot;</td></tr><tr><td>&quot;p21515_5954189…</td><td>&quot;Haemoglobin_A1…</td><td>null</td><td>&quot;2010-04-12&quot;</td></tr></tbody></table></div>"
      ],
      "text/plain": [
       "shape: (5, 4)\n",
       "┌──────────────────────┬─────────────────────────┬───────┬────────────┐\n",
       "│ PRACTICE_PATIENT_ID  ┆ EVENT                   ┆ VALUE ┆ DATE       │\n",
       "│ ---                  ┆ ---                     ┆ ---   ┆ ---        │\n",
       "│ str                  ┆ str                     ┆ f64   ┆ str        │\n",
       "╞══════════════════════╪═════════════════════════╪═══════╪════════════╡\n",
       "│ p21515_5954188221515 ┆ Haemoglobin_A1c_level_8 ┆ null  ┆ 2013-07-18 │\n",
       "│ p21515_5954188221515 ┆ Haemoglobin_A1c_level_8 ┆ null  ┆ 2014-06-12 │\n",
       "│ p21515_5954189921515 ┆ Haemoglobin_A1c_level_8 ┆ 7.1   ┆ 2009-04-15 │\n",
       "│ p21515_5954189921515 ┆ Haemoglobin_A1c_level_8 ┆ null  ┆ 2009-08-17 │\n",
       "│ p21515_5954189921515 ┆ Haemoglobin_A1c_level_8 ┆ null  ┆ 2010-04-12 │\n",
       "└──────────────────────┴─────────────────────────┴───────┴────────────┘"
      ]
     },
     "metadata": {},
     "output_type": "display_data"
    },
    {
     "name": "stdout",
     "output_type": "stream",
     "text": [
      "lazy_measurement_Haemoglobin_estimation_9\n"
     ]
    },
    {
     "data": {
      "text/html": [
       "<div><style>\n",
       ".dataframe > thead > tr > th,\n",
       ".dataframe > tbody > tr > td {\n",
       "  text-align: right;\n",
       "}\n",
       "</style>\n",
       "<small>shape: (5, 4)</small><table border=\"1\" class=\"dataframe\"><thead><tr><th>PRACTICE_PATIENT_ID</th><th>EVENT</th><th>VALUE</th><th>DATE</th></tr><tr><td>str</td><td>str</td><td>f64</td><td>str</td></tr></thead><tbody><tr><td>&quot;p21515_1099623…</td><td>&quot;Haemoglobin_es…</td><td>16.2</td><td>&quot;2006-08-24&quot;</td></tr><tr><td>&quot;p21515_1099623…</td><td>&quot;Haemoglobin_es…</td><td>152.0</td><td>&quot;2013-06-06&quot;</td></tr><tr><td>&quot;p21515_1099623…</td><td>&quot;Haemoglobin_es…</td><td>156.0</td><td>&quot;2013-08-08&quot;</td></tr><tr><td>&quot;p21515_1099623…</td><td>&quot;Haemoglobin_es…</td><td>153.0</td><td>&quot;2015-01-14&quot;</td></tr><tr><td>&quot;p21515_1099623…</td><td>&quot;Haemoglobin_es…</td><td>154.0</td><td>&quot;2015-11-03&quot;</td></tr></tbody></table></div>"
      ],
      "text/plain": [
       "shape: (5, 4)\n",
       "┌───────────────────────┬──────────────────────────┬───────┬────────────┐\n",
       "│ PRACTICE_PATIENT_ID   ┆ EVENT                    ┆ VALUE ┆ DATE       │\n",
       "│ ---                   ┆ ---                      ┆ ---   ┆ ---        │\n",
       "│ str                   ┆ str                      ┆ f64   ┆ str        │\n",
       "╞═══════════════════════╪══════════════════════════╪═══════╪════════════╡\n",
       "│ p21515_10996238121515 ┆ Haemoglobin_estimation_9 ┆ 16.2  ┆ 2006-08-24 │\n",
       "│ p21515_10996238121515 ┆ Haemoglobin_estimation_9 ┆ 152.0 ┆ 2013-06-06 │\n",
       "│ p21515_10996238121515 ┆ Haemoglobin_estimation_9 ┆ 156.0 ┆ 2013-08-08 │\n",
       "│ p21515_10996238121515 ┆ Haemoglobin_estimation_9 ┆ 153.0 ┆ 2015-01-14 │\n",
       "│ p21515_10996238121515 ┆ Haemoglobin_estimation_9 ┆ 154.0 ┆ 2015-11-03 │\n",
       "└───────────────────────┴──────────────────────────┴───────┴────────────┘"
      ]
     },
     "metadata": {},
     "output_type": "display_data"
    },
    {
     "name": "stdout",
     "output_type": "stream",
     "text": [
      "lazy_measurement_HbA1c_level__DCCT_aligned__7\n"
     ]
    },
    {
     "data": {
      "text/html": [
       "<div><style>\n",
       ".dataframe > thead > tr > th,\n",
       ".dataframe > tbody > tr > td {\n",
       "  text-align: right;\n",
       "}\n",
       "</style>\n",
       "<small>shape: (5, 4)</small><table border=\"1\" class=\"dataframe\"><thead><tr><th>PRACTICE_PATIENT_ID</th><th>EVENT</th><th>VALUE</th><th>DATE</th></tr><tr><td>str</td><td>str</td><td>f64</td><td>str</td></tr></thead><tbody><tr><td>&quot;p21515_5954187…</td><td>&quot;HbA1c_level__D…</td><td>7.3</td><td>&quot;2011-07-15&quot;</td></tr><tr><td>&quot;p21515_5954189…</td><td>&quot;HbA1c_level__D…</td><td>6.6</td><td>&quot;2009-08-17&quot;</td></tr><tr><td>&quot;p21515_5954189…</td><td>&quot;HbA1c_level__D…</td><td>6.5</td><td>&quot;2010-04-12&quot;</td></tr><tr><td>&quot;p21515_5954189…</td><td>&quot;HbA1c_level__D…</td><td>6.5</td><td>&quot;2010-10-01&quot;</td></tr><tr><td>&quot;p21515_5954189…</td><td>&quot;HbA1c_level__D…</td><td>6.8</td><td>&quot;2011-11-23&quot;</td></tr></tbody></table></div>"
      ],
      "text/plain": [
       "shape: (5, 4)\n",
       "┌──────────────────────┬──────────────────────────────┬───────┬────────────┐\n",
       "│ PRACTICE_PATIENT_ID  ┆ EVENT                        ┆ VALUE ┆ DATE       │\n",
       "│ ---                  ┆ ---                          ┆ ---   ┆ ---        │\n",
       "│ str                  ┆ str                          ┆ f64   ┆ str        │\n",
       "╞══════════════════════╪══════════════════════════════╪═══════╪════════════╡\n",
       "│ p21515_5954187521515 ┆ HbA1c_level__DCCT_aligned__7 ┆ 7.3   ┆ 2011-07-15 │\n",
       "│ p21515_5954189921515 ┆ HbA1c_level__DCCT_aligned__7 ┆ 6.6   ┆ 2009-08-17 │\n",
       "│ p21515_5954189921515 ┆ HbA1c_level__DCCT_aligned__7 ┆ 6.5   ┆ 2010-04-12 │\n",
       "│ p21515_5954189921515 ┆ HbA1c_level__DCCT_aligned__7 ┆ 6.5   ┆ 2010-10-01 │\n",
       "│ p21515_5954189921515 ┆ HbA1c_level__DCCT_aligned__7 ┆ 6.8   ┆ 2011-11-23 │\n",
       "└──────────────────────┴──────────────────────────────┴───────┴────────────┘"
      ]
     },
     "metadata": {},
     "output_type": "display_data"
    },
    {
     "name": "stdout",
     "output_type": "stream",
     "text": [
      "lazy_measurement_INR___international_normalised_ratio_81\n"
     ]
    },
    {
     "data": {
      "text/html": [
       "<div><style>\n",
       ".dataframe > thead > tr > th,\n",
       ".dataframe > tbody > tr > td {\n",
       "  text-align: right;\n",
       "}\n",
       "</style>\n",
       "<small>shape: (1, 4)</small><table border=\"1\" class=\"dataframe\"><thead><tr><th>PRACTICE_PATIENT_ID</th><th>EVENT</th><th>VALUE</th><th>DATE</th></tr><tr><td>str</td><td>str</td><td>f64</td><td>str</td></tr></thead><tbody><tr><td>&quot;p21515_5955357…</td><td>&quot;INR___internat…</td><td>5.1</td><td>&quot;2021-07-29&quot;</td></tr></tbody></table></div>"
      ],
      "text/plain": [
       "shape: (1, 4)\n",
       "┌──────────────────────┬───────────────────────────────────┬───────┬────────────┐\n",
       "│ PRACTICE_PATIENT_ID  ┆ EVENT                             ┆ VALUE ┆ DATE       │\n",
       "│ ---                  ┆ ---                               ┆ ---   ┆ ---        │\n",
       "│ str                  ┆ str                               ┆ f64   ┆ str        │\n",
       "╞══════════════════════╪═══════════════════════════════════╪═══════╪════════════╡\n",
       "│ p21515_5955357521515 ┆ INR___international_normalised_r… ┆ 5.1   ┆ 2021-07-29 │\n",
       "└──────────────────────┴───────────────────────────────────┴───────┴────────────┘"
      ]
     },
     "metadata": {},
     "output_type": "display_data"
    },
    {
     "name": "stdout",
     "output_type": "stream",
     "text": [
      "lazy_measurement_International_normalised_ratio_82\n"
     ]
    },
    {
     "data": {
      "text/html": [
       "<div><style>\n",
       ".dataframe > thead > tr > th,\n",
       ".dataframe > tbody > tr > td {\n",
       "  text-align: right;\n",
       "}\n",
       "</style>\n",
       "<small>shape: (5, 4)</small><table border=\"1\" class=\"dataframe\"><thead><tr><th>PRACTICE_PATIENT_ID</th><th>EVENT</th><th>VALUE</th><th>DATE</th></tr><tr><td>str</td><td>str</td><td>f64</td><td>str</td></tr></thead><tbody><tr><td>&quot;p21515_5954193…</td><td>&quot;International_…</td><td>1.8</td><td>&quot;2016-07-19&quot;</td></tr><tr><td>&quot;p21515_5954193…</td><td>&quot;International_…</td><td>2.8</td><td>&quot;2016-07-25&quot;</td></tr><tr><td>&quot;p21515_5954193…</td><td>&quot;International_…</td><td>4.0</td><td>&quot;2016-08-08&quot;</td></tr><tr><td>&quot;p21515_5954193…</td><td>&quot;International_…</td><td>3.0</td><td>&quot;2016-08-15&quot;</td></tr><tr><td>&quot;p21515_5954193…</td><td>&quot;International_…</td><td>2.9</td><td>&quot;2016-08-24&quot;</td></tr></tbody></table></div>"
      ],
      "text/plain": [
       "shape: (5, 4)\n",
       "┌──────────────────────┬───────────────────────────────────┬───────┬────────────┐\n",
       "│ PRACTICE_PATIENT_ID  ┆ EVENT                             ┆ VALUE ┆ DATE       │\n",
       "│ ---                  ┆ ---                               ┆ ---   ┆ ---        │\n",
       "│ str                  ┆ str                               ┆ f64   ┆ str        │\n",
       "╞══════════════════════╪═══════════════════════════════════╪═══════╪════════════╡\n",
       "│ p21515_5954193221515 ┆ International_normalised_ratio_8… ┆ 1.8   ┆ 2016-07-19 │\n",
       "│ p21515_5954193221515 ┆ International_normalised_ratio_8… ┆ 2.8   ┆ 2016-07-25 │\n",
       "│ p21515_5954193221515 ┆ International_normalised_ratio_8… ┆ 4.0   ┆ 2016-08-08 │\n",
       "│ p21515_5954193221515 ┆ International_normalised_ratio_8… ┆ 3.0   ┆ 2016-08-15 │\n",
       "│ p21515_5954193221515 ┆ International_normalised_ratio_8… ┆ 2.9   ┆ 2016-08-24 │\n",
       "└──────────────────────┴───────────────────────────────────┴───────┴────────────┘"
      ]
     },
     "metadata": {},
     "output_type": "display_data"
    },
    {
     "name": "stdout",
     "output_type": "stream",
     "text": [
      "lazy_measurement_Lymphocyte_count_20\n"
     ]
    },
    {
     "data": {
      "text/html": [
       "<div><style>\n",
       ".dataframe > thead > tr > th,\n",
       ".dataframe > tbody > tr > td {\n",
       "  text-align: right;\n",
       "}\n",
       "</style>\n",
       "<small>shape: (5, 4)</small><table border=\"1\" class=\"dataframe\"><thead><tr><th>PRACTICE_PATIENT_ID</th><th>EVENT</th><th>VALUE</th><th>DATE</th></tr><tr><td>str</td><td>str</td><td>f64</td><td>str</td></tr></thead><tbody><tr><td>&quot;p21515_1099623…</td><td>&quot;Lymphocyte_cou…</td><td>2.4</td><td>&quot;2006-08-24&quot;</td></tr><tr><td>&quot;p21515_1099623…</td><td>&quot;Lymphocyte_cou…</td><td>2.2</td><td>&quot;2013-06-06&quot;</td></tr><tr><td>&quot;p21515_1099623…</td><td>&quot;Lymphocyte_cou…</td><td>2.0</td><td>&quot;2013-08-08&quot;</td></tr><tr><td>&quot;p21515_1099623…</td><td>&quot;Lymphocyte_cou…</td><td>2.2</td><td>&quot;2015-01-14&quot;</td></tr><tr><td>&quot;p21515_1099623…</td><td>&quot;Lymphocyte_cou…</td><td>2.4</td><td>&quot;2015-11-03&quot;</td></tr></tbody></table></div>"
      ],
      "text/plain": [
       "shape: (5, 4)\n",
       "┌───────────────────────┬─────────────────────┬───────┬────────────┐\n",
       "│ PRACTICE_PATIENT_ID   ┆ EVENT               ┆ VALUE ┆ DATE       │\n",
       "│ ---                   ┆ ---                 ┆ ---   ┆ ---        │\n",
       "│ str                   ┆ str                 ┆ f64   ┆ str        │\n",
       "╞═══════════════════════╪═════════════════════╪═══════╪════════════╡\n",
       "│ p21515_10996238121515 ┆ Lymphocyte_count_20 ┆ 2.4   ┆ 2006-08-24 │\n",
       "│ p21515_10996238121515 ┆ Lymphocyte_count_20 ┆ 2.2   ┆ 2013-06-06 │\n",
       "│ p21515_10996238121515 ┆ Lymphocyte_count_20 ┆ 2.0   ┆ 2013-08-08 │\n",
       "│ p21515_10996238121515 ┆ Lymphocyte_count_20 ┆ 2.2   ┆ 2015-01-14 │\n",
       "│ p21515_10996238121515 ┆ Lymphocyte_count_20 ┆ 2.4   ┆ 2015-11-03 │\n",
       "└───────────────────────┴─────────────────────┴───────┴────────────┘"
      ]
     },
     "metadata": {},
     "output_type": "display_data"
    },
    {
     "name": "stdout",
     "output_type": "stream",
     "text": [
      "lazy_measurement_Mean_corpusc_Hb_conc__MCHC__14\n"
     ]
    },
    {
     "data": {
      "text/html": [
       "<div><style>\n",
       ".dataframe > thead > tr > th,\n",
       ".dataframe > tbody > tr > td {\n",
       "  text-align: right;\n",
       "}\n",
       "</style>\n",
       "<small>shape: (5, 4)</small><table border=\"1\" class=\"dataframe\"><thead><tr><th>PRACTICE_PATIENT_ID</th><th>EVENT</th><th>VALUE</th><th>DATE</th></tr><tr><td>str</td><td>str</td><td>f64</td><td>str</td></tr></thead><tbody><tr><td>&quot;p21515_1099623…</td><td>&quot;Mean_corpusc_H…</td><td>34.0</td><td>&quot;2006-08-24&quot;</td></tr><tr><td>&quot;p21515_1099623…</td><td>&quot;Mean_corpusc_H…</td><td>321.0</td><td>&quot;2013-06-06&quot;</td></tr><tr><td>&quot;p21515_1099623…</td><td>&quot;Mean_corpusc_H…</td><td>316.0</td><td>&quot;2013-08-08&quot;</td></tr><tr><td>&quot;p21515_1099623…</td><td>&quot;Mean_corpusc_H…</td><td>330.0</td><td>&quot;2015-01-14&quot;</td></tr><tr><td>&quot;p21515_1099623…</td><td>&quot;Mean_corpusc_H…</td><td>315.0</td><td>&quot;2015-11-03&quot;</td></tr></tbody></table></div>"
      ],
      "text/plain": [
       "shape: (5, 4)\n",
       "┌───────────────────────┬────────────────────────────────┬───────┬────────────┐\n",
       "│ PRACTICE_PATIENT_ID   ┆ EVENT                          ┆ VALUE ┆ DATE       │\n",
       "│ ---                   ┆ ---                            ┆ ---   ┆ ---        │\n",
       "│ str                   ┆ str                            ┆ f64   ┆ str        │\n",
       "╞═══════════════════════╪════════════════════════════════╪═══════╪════════════╡\n",
       "│ p21515_10996238121515 ┆ Mean_corpusc_Hb_conc__MCHC__14 ┆ 34.0  ┆ 2006-08-24 │\n",
       "│ p21515_10996238121515 ┆ Mean_corpusc_Hb_conc__MCHC__14 ┆ 321.0 ┆ 2013-06-06 │\n",
       "│ p21515_10996238121515 ┆ Mean_corpusc_Hb_conc__MCHC__14 ┆ 316.0 ┆ 2013-08-08 │\n",
       "│ p21515_10996238121515 ┆ Mean_corpusc_Hb_conc__MCHC__14 ┆ 330.0 ┆ 2015-01-14 │\n",
       "│ p21515_10996238121515 ┆ Mean_corpusc_Hb_conc__MCHC__14 ┆ 315.0 ┆ 2015-11-03 │\n",
       "└───────────────────────┴────────────────────────────────┴───────┴────────────┘"
      ]
     },
     "metadata": {},
     "output_type": "display_data"
    },
    {
     "name": "stdout",
     "output_type": "stream",
     "text": [
      "lazy_measurement_Mean_corpusc_haemoglobin_MCH__13\n"
     ]
    },
    {
     "data": {
      "text/html": [
       "<div><style>\n",
       ".dataframe > thead > tr > th,\n",
       ".dataframe > tbody > tr > td {\n",
       "  text-align: right;\n",
       "}\n",
       "</style>\n",
       "<small>shape: (5, 4)</small><table border=\"1\" class=\"dataframe\"><thead><tr><th>PRACTICE_PATIENT_ID</th><th>EVENT</th><th>VALUE</th><th>DATE</th></tr><tr><td>str</td><td>str</td><td>f64</td><td>str</td></tr></thead><tbody><tr><td>&quot;p21515_1099623…</td><td>&quot;Mean_corpusc_h…</td><td>25.9</td><td>&quot;2006-08-24&quot;</td></tr><tr><td>&quot;p21515_1099623…</td><td>&quot;Mean_corpusc_h…</td><td>25.0</td><td>&quot;2013-06-06&quot;</td></tr><tr><td>&quot;p21515_1099623…</td><td>&quot;Mean_corpusc_h…</td><td>24.7</td><td>&quot;2013-08-08&quot;</td></tr><tr><td>&quot;p21515_1099623…</td><td>&quot;Mean_corpusc_h…</td><td>25.5</td><td>&quot;2015-01-14&quot;</td></tr><tr><td>&quot;p21515_1099623…</td><td>&quot;Mean_corpusc_h…</td><td>24.5</td><td>&quot;2015-11-03&quot;</td></tr></tbody></table></div>"
      ],
      "text/plain": [
       "shape: (5, 4)\n",
       "┌───────────────────────┬──────────────────────────────────┬───────┬────────────┐\n",
       "│ PRACTICE_PATIENT_ID   ┆ EVENT                            ┆ VALUE ┆ DATE       │\n",
       "│ ---                   ┆ ---                              ┆ ---   ┆ ---        │\n",
       "│ str                   ┆ str                              ┆ f64   ┆ str        │\n",
       "╞═══════════════════════╪══════════════════════════════════╪═══════╪════════════╡\n",
       "│ p21515_10996238121515 ┆ Mean_corpusc_haemoglobin_MCH__13 ┆ 25.9  ┆ 2006-08-24 │\n",
       "│ p21515_10996238121515 ┆ Mean_corpusc_haemoglobin_MCH__13 ┆ 25.0  ┆ 2013-06-06 │\n",
       "│ p21515_10996238121515 ┆ Mean_corpusc_haemoglobin_MCH__13 ┆ 24.7  ┆ 2013-08-08 │\n",
       "│ p21515_10996238121515 ┆ Mean_corpusc_haemoglobin_MCH__13 ┆ 25.5  ┆ 2015-01-14 │\n",
       "│ p21515_10996238121515 ┆ Mean_corpusc_haemoglobin_MCH__13 ┆ 24.5  ┆ 2015-11-03 │\n",
       "└───────────────────────┴──────────────────────────────────┴───────┴────────────┘"
      ]
     },
     "metadata": {},
     "output_type": "display_data"
    },
    {
     "name": "stdout",
     "output_type": "stream",
     "text": [
      "lazy_measurement_Mean_corpuscular_volume__MCV__11\n"
     ]
    },
    {
     "data": {
      "text/html": [
       "<div><style>\n",
       ".dataframe > thead > tr > th,\n",
       ".dataframe > tbody > tr > td {\n",
       "  text-align: right;\n",
       "}\n",
       "</style>\n",
       "<small>shape: (5, 4)</small><table border=\"1\" class=\"dataframe\"><thead><tr><th>PRACTICE_PATIENT_ID</th><th>EVENT</th><th>VALUE</th><th>DATE</th></tr><tr><td>str</td><td>str</td><td>f64</td><td>str</td></tr></thead><tbody><tr><td>&quot;p21515_1099623…</td><td>&quot;Mean_corpuscul…</td><td>76.0</td><td>&quot;2006-08-24&quot;</td></tr><tr><td>&quot;p21515_1099623…</td><td>&quot;Mean_corpuscul…</td><td>78.0</td><td>&quot;2013-06-06&quot;</td></tr><tr><td>&quot;p21515_1099623…</td><td>&quot;Mean_corpuscul…</td><td>78.0</td><td>&quot;2013-08-08&quot;</td></tr><tr><td>&quot;p21515_1099623…</td><td>&quot;Mean_corpuscul…</td><td>77.0</td><td>&quot;2015-01-14&quot;</td></tr><tr><td>&quot;p21515_1099623…</td><td>&quot;Mean_corpuscul…</td><td>78.0</td><td>&quot;2015-11-03&quot;</td></tr></tbody></table></div>"
      ],
      "text/plain": [
       "shape: (5, 4)\n",
       "┌───────────────────────┬──────────────────────────────────┬───────┬────────────┐\n",
       "│ PRACTICE_PATIENT_ID   ┆ EVENT                            ┆ VALUE ┆ DATE       │\n",
       "│ ---                   ┆ ---                              ┆ ---   ┆ ---        │\n",
       "│ str                   ┆ str                              ┆ f64   ┆ str        │\n",
       "╞═══════════════════════╪══════════════════════════════════╪═══════╪════════════╡\n",
       "│ p21515_10996238121515 ┆ Mean_corpuscular_volume__MCV__11 ┆ 76.0  ┆ 2006-08-24 │\n",
       "│ p21515_10996238121515 ┆ Mean_corpuscular_volume__MCV__11 ┆ 78.0  ┆ 2013-06-06 │\n",
       "│ p21515_10996238121515 ┆ Mean_corpuscular_volume__MCV__11 ┆ 78.0  ┆ 2013-08-08 │\n",
       "│ p21515_10996238121515 ┆ Mean_corpuscular_volume__MCV__11 ┆ 77.0  ┆ 2015-01-14 │\n",
       "│ p21515_10996238121515 ┆ Mean_corpuscular_volume__MCV__11 ┆ 78.0  ┆ 2015-11-03 │\n",
       "└───────────────────────┴──────────────────────────────────┴───────┴────────────┘"
      ]
     },
     "metadata": {},
     "output_type": "display_data"
    },
    {
     "name": "stdout",
     "output_type": "stream",
     "text": [
      "lazy_measurement_Monocyte_count_23\n"
     ]
    },
    {
     "data": {
      "text/html": [
       "<div><style>\n",
       ".dataframe > thead > tr > th,\n",
       ".dataframe > tbody > tr > td {\n",
       "  text-align: right;\n",
       "}\n",
       "</style>\n",
       "<small>shape: (5, 4)</small><table border=\"1\" class=\"dataframe\"><thead><tr><th>PRACTICE_PATIENT_ID</th><th>EVENT</th><th>VALUE</th><th>DATE</th></tr><tr><td>str</td><td>str</td><td>f64</td><td>str</td></tr></thead><tbody><tr><td>&quot;p21515_1099623…</td><td>&quot;Monocyte_count…</td><td>0.4</td><td>&quot;2006-08-24&quot;</td></tr><tr><td>&quot;p21515_1099623…</td><td>&quot;Monocyte_count…</td><td>0.5</td><td>&quot;2013-06-06&quot;</td></tr><tr><td>&quot;p21515_1099623…</td><td>&quot;Monocyte_count…</td><td>0.4</td><td>&quot;2013-08-08&quot;</td></tr><tr><td>&quot;p21515_1099623…</td><td>&quot;Monocyte_count…</td><td>0.5</td><td>&quot;2015-01-14&quot;</td></tr><tr><td>&quot;p21515_1099623…</td><td>&quot;Monocyte_count…</td><td>0.5</td><td>&quot;2015-11-03&quot;</td></tr></tbody></table></div>"
      ],
      "text/plain": [
       "shape: (5, 4)\n",
       "┌───────────────────────┬───────────────────┬───────┬────────────┐\n",
       "│ PRACTICE_PATIENT_ID   ┆ EVENT             ┆ VALUE ┆ DATE       │\n",
       "│ ---                   ┆ ---               ┆ ---   ┆ ---        │\n",
       "│ str                   ┆ str               ┆ f64   ┆ str        │\n",
       "╞═══════════════════════╪═══════════════════╪═══════╪════════════╡\n",
       "│ p21515_10996238121515 ┆ Monocyte_count_23 ┆ 0.4   ┆ 2006-08-24 │\n",
       "│ p21515_10996238121515 ┆ Monocyte_count_23 ┆ 0.5   ┆ 2013-06-06 │\n",
       "│ p21515_10996238121515 ┆ Monocyte_count_23 ┆ 0.4   ┆ 2013-08-08 │\n",
       "│ p21515_10996238121515 ┆ Monocyte_count_23 ┆ 0.5   ┆ 2015-01-14 │\n",
       "│ p21515_10996238121515 ┆ Monocyte_count_23 ┆ 0.5   ┆ 2015-11-03 │\n",
       "└───────────────────────┴───────────────────┴───────┴────────────┘"
      ]
     },
     "metadata": {},
     "output_type": "display_data"
    },
    {
     "name": "stdout",
     "output_type": "stream",
     "text": [
      "lazy_measurement_N_terminal_pro_brain_natriuretic_peptide_level_67\n"
     ]
    },
    {
     "data": {
      "text/html": [
       "<div><style>\n",
       ".dataframe > thead > tr > th,\n",
       ".dataframe > tbody > tr > td {\n",
       "  text-align: right;\n",
       "}\n",
       "</style>\n",
       "<small>shape: (5, 4)</small><table border=\"1\" class=\"dataframe\"><thead><tr><th>PRACTICE_PATIENT_ID</th><th>EVENT</th><th>VALUE</th><th>DATE</th></tr><tr><td>str</td><td>str</td><td>f64</td><td>str</td></tr></thead><tbody><tr><td>&quot;p21515_5954327…</td><td>&quot;N_terminal_pro…</td><td>176.0</td><td>&quot;2013-07-25&quot;</td></tr><tr><td>&quot;p21515_5954620…</td><td>&quot;N_terminal_pro…</td><td>1747.0</td><td>&quot;2013-03-21&quot;</td></tr><tr><td>&quot;p21515_5954737…</td><td>&quot;N_terminal_pro…</td><td>79.0</td><td>&quot;2013-10-13&quot;</td></tr><tr><td>&quot;p21515_5954801…</td><td>&quot;N_terminal_pro…</td><td>null</td><td>&quot;2013-05-17&quot;</td></tr><tr><td>&quot;p21515_5954910…</td><td>&quot;N_terminal_pro…</td><td>null</td><td>&quot;2013-05-24&quot;</td></tr></tbody></table></div>"
      ],
      "text/plain": [
       "shape: (5, 4)\n",
       "┌──────────────────────┬───────────────────────────────────┬────────┬────────────┐\n",
       "│ PRACTICE_PATIENT_ID  ┆ EVENT                             ┆ VALUE  ┆ DATE       │\n",
       "│ ---                  ┆ ---                               ┆ ---    ┆ ---        │\n",
       "│ str                  ┆ str                               ┆ f64    ┆ str        │\n",
       "╞══════════════════════╪═══════════════════════════════════╪════════╪════════════╡\n",
       "│ p21515_5954327421515 ┆ N_terminal_pro_brain_natriuretic… ┆ 176.0  ┆ 2013-07-25 │\n",
       "│ p21515_5954620221515 ┆ N_terminal_pro_brain_natriuretic… ┆ 1747.0 ┆ 2013-03-21 │\n",
       "│ p21515_5954737121515 ┆ N_terminal_pro_brain_natriuretic… ┆ 79.0   ┆ 2013-10-13 │\n",
       "│ p21515_5954801421515 ┆ N_terminal_pro_brain_natriuretic… ┆ null   ┆ 2013-05-17 │\n",
       "│ p21515_5954910321515 ┆ N_terminal_pro_brain_natriuretic… ┆ null   ┆ 2013-05-24 │\n",
       "└──────────────────────┴───────────────────────────────────┴────────┴────────────┘"
      ]
     },
     "metadata": {},
     "output_type": "display_data"
    },
    {
     "name": "stdout",
     "output_type": "stream",
     "text": [
      "lazy_measurement_Neutrophil_count_19\n"
     ]
    },
    {
     "data": {
      "text/html": [
       "<div><style>\n",
       ".dataframe > thead > tr > th,\n",
       ".dataframe > tbody > tr > td {\n",
       "  text-align: right;\n",
       "}\n",
       "</style>\n",
       "<small>shape: (5, 4)</small><table border=\"1\" class=\"dataframe\"><thead><tr><th>PRACTICE_PATIENT_ID</th><th>EVENT</th><th>VALUE</th><th>DATE</th></tr><tr><td>str</td><td>str</td><td>f64</td><td>str</td></tr></thead><tbody><tr><td>&quot;p21515_1099623…</td><td>&quot;Neutrophil_cou…</td><td>4.2</td><td>&quot;2006-08-24&quot;</td></tr><tr><td>&quot;p21515_1099623…</td><td>&quot;Neutrophil_cou…</td><td>3.0</td><td>&quot;2013-06-06&quot;</td></tr><tr><td>&quot;p21515_1099623…</td><td>&quot;Neutrophil_cou…</td><td>3.9</td><td>&quot;2013-08-08&quot;</td></tr><tr><td>&quot;p21515_1099623…</td><td>&quot;Neutrophil_cou…</td><td>3.5</td><td>&quot;2015-01-14&quot;</td></tr><tr><td>&quot;p21515_1099623…</td><td>&quot;Neutrophil_cou…</td><td>4.1</td><td>&quot;2015-11-03&quot;</td></tr></tbody></table></div>"
      ],
      "text/plain": [
       "shape: (5, 4)\n",
       "┌───────────────────────┬─────────────────────┬───────┬────────────┐\n",
       "│ PRACTICE_PATIENT_ID   ┆ EVENT               ┆ VALUE ┆ DATE       │\n",
       "│ ---                   ┆ ---                 ┆ ---   ┆ ---        │\n",
       "│ str                   ┆ str                 ┆ f64   ┆ str        │\n",
       "╞═══════════════════════╪═════════════════════╪═══════╪════════════╡\n",
       "│ p21515_10996238121515 ┆ Neutrophil_count_19 ┆ 4.2   ┆ 2006-08-24 │\n",
       "│ p21515_10996238121515 ┆ Neutrophil_count_19 ┆ 3.0   ┆ 2013-06-06 │\n",
       "│ p21515_10996238121515 ┆ Neutrophil_count_19 ┆ 3.9   ┆ 2013-08-08 │\n",
       "│ p21515_10996238121515 ┆ Neutrophil_count_19 ┆ 3.5   ┆ 2015-01-14 │\n",
       "│ p21515_10996238121515 ┆ Neutrophil_count_19 ┆ 4.1   ┆ 2015-11-03 │\n",
       "└───────────────────────┴─────────────────────┴───────┴────────────┘"
      ]
     },
     "metadata": {},
     "output_type": "display_data"
    },
    {
     "name": "stdout",
     "output_type": "stream",
     "text": [
      "lazy_measurement_Never_smoked_tobacco_85\n"
     ]
    },
    {
     "data": {
      "text/html": [
       "<div><style>\n",
       ".dataframe > thead > tr > th,\n",
       ".dataframe > tbody > tr > td {\n",
       "  text-align: right;\n",
       "}\n",
       "</style>\n",
       "<small>shape: (5, 4)</small><table border=\"1\" class=\"dataframe\"><thead><tr><th>PRACTICE_PATIENT_ID</th><th>EVENT</th><th>VALUE</th><th>DATE</th></tr><tr><td>str</td><td>str</td><td>f64</td><td>str</td></tr></thead><tbody><tr><td>&quot;p21515_1099623…</td><td>&quot;Never_smoked_t…</td><td>null</td><td>&quot;2001-09-18&quot;</td></tr><tr><td>&quot;p21515_1099623…</td><td>&quot;Never_smoked_t…</td><td>null</td><td>&quot;2004-07-23&quot;</td></tr><tr><td>&quot;p21515_1099623…</td><td>&quot;Never_smoked_t…</td><td>null</td><td>&quot;2005-04-06&quot;</td></tr><tr><td>&quot;p21515_1099623…</td><td>&quot;Never_smoked_t…</td><td>null</td><td>&quot;2006-06-06&quot;</td></tr><tr><td>&quot;p21515_1099623…</td><td>&quot;Never_smoked_t…</td><td>null</td><td>&quot;2007-04-16&quot;</td></tr></tbody></table></div>"
      ],
      "text/plain": [
       "shape: (5, 4)\n",
       "┌───────────────────────┬─────────────────────────┬───────┬────────────┐\n",
       "│ PRACTICE_PATIENT_ID   ┆ EVENT                   ┆ VALUE ┆ DATE       │\n",
       "│ ---                   ┆ ---                     ┆ ---   ┆ ---        │\n",
       "│ str                   ┆ str                     ┆ f64   ┆ str        │\n",
       "╞═══════════════════════╪═════════════════════════╪═══════╪════════════╡\n",
       "│ p21515_10996238121515 ┆ Never_smoked_tobacco_85 ┆ null  ┆ 2001-09-18 │\n",
       "│ p21515_10996238121515 ┆ Never_smoked_tobacco_85 ┆ null  ┆ 2004-07-23 │\n",
       "│ p21515_10996238121515 ┆ Never_smoked_tobacco_85 ┆ null  ┆ 2005-04-06 │\n",
       "│ p21515_10996238121515 ┆ Never_smoked_tobacco_85 ┆ null  ┆ 2006-06-06 │\n",
       "│ p21515_10996238121515 ┆ Never_smoked_tobacco_85 ┆ null  ┆ 2007-04-16 │\n",
       "└───────────────────────┴─────────────────────────┴───────┴────────────┘"
      ]
     },
     "metadata": {},
     "output_type": "display_data"
    },
    {
     "name": "stdout",
     "output_type": "stream",
     "text": [
      "lazy_measurement_Non_HDL_cholesterol_level_108\n"
     ]
    },
    {
     "data": {
      "text/html": [
       "<div><style>\n",
       ".dataframe > thead > tr > th,\n",
       ".dataframe > tbody > tr > td {\n",
       "  text-align: right;\n",
       "}\n",
       "</style>\n",
       "<small>shape: (5, 4)</small><table border=\"1\" class=\"dataframe\"><thead><tr><th>PRACTICE_PATIENT_ID</th><th>EVENT</th><th>VALUE</th><th>DATE</th></tr><tr><td>str</td><td>str</td><td>f64</td><td>str</td></tr></thead><tbody><tr><td>&quot;p21515_5954236…</td><td>&quot;Non_HDL_choles…</td><td>2.9</td><td>&quot;2016-02-18&quot;</td></tr><tr><td>&quot;p21515_5954296…</td><td>&quot;Non_HDL_choles…</td><td>2.1</td><td>&quot;2015-10-16&quot;</td></tr><tr><td>&quot;p21515_5954629…</td><td>&quot;Non_HDL_choles…</td><td>3.0</td><td>&quot;2016-03-09&quot;</td></tr><tr><td>&quot;p21515_5954774…</td><td>&quot;Non_HDL_choles…</td><td>2.9</td><td>&quot;2015-10-21&quot;</td></tr><tr><td>&quot;p21515_5954807…</td><td>&quot;Non_HDL_choles…</td><td>2.2</td><td>&quot;2016-04-01&quot;</td></tr></tbody></table></div>"
      ],
      "text/plain": [
       "shape: (5, 4)\n",
       "┌──────────────────────┬───────────────────────────────┬───────┬────────────┐\n",
       "│ PRACTICE_PATIENT_ID  ┆ EVENT                         ┆ VALUE ┆ DATE       │\n",
       "│ ---                  ┆ ---                           ┆ ---   ┆ ---        │\n",
       "│ str                  ┆ str                           ┆ f64   ┆ str        │\n",
       "╞══════════════════════╪═══════════════════════════════╪═══════╪════════════╡\n",
       "│ p21515_5954236321515 ┆ Non_HDL_cholesterol_level_108 ┆ 2.9   ┆ 2016-02-18 │\n",
       "│ p21515_5954296021515 ┆ Non_HDL_cholesterol_level_108 ┆ 2.1   ┆ 2015-10-16 │\n",
       "│ p21515_5954629121515 ┆ Non_HDL_cholesterol_level_108 ┆ 3.0   ┆ 2016-03-09 │\n",
       "│ p21515_5954774021515 ┆ Non_HDL_cholesterol_level_108 ┆ 2.9   ┆ 2015-10-21 │\n",
       "│ p21515_5954807421515 ┆ Non_HDL_cholesterol_level_108 ┆ 2.2   ┆ 2016-04-01 │\n",
       "└──────────────────────┴───────────────────────────────┴───────┴────────────┘"
      ]
     },
     "metadata": {},
     "output_type": "display_data"
    },
    {
     "name": "stdout",
     "output_type": "stream",
     "text": [
      "lazy_measurement_O_E___height_1\n"
     ]
    },
    {
     "data": {
      "text/html": [
       "<div><style>\n",
       ".dataframe > thead > tr > th,\n",
       ".dataframe > tbody > tr > td {\n",
       "  text-align: right;\n",
       "}\n",
       "</style>\n",
       "<small>shape: (5, 4)</small><table border=\"1\" class=\"dataframe\"><thead><tr><th>PRACTICE_PATIENT_ID</th><th>EVENT</th><th>VALUE</th><th>DATE</th></tr><tr><td>str</td><td>str</td><td>f64</td><td>str</td></tr></thead><tbody><tr><td>&quot;p21515_1099623…</td><td>&quot;O_E___height_1…</td><td>187.96</td><td>&quot;2001-09-18&quot;</td></tr><tr><td>&quot;p21515_1099623…</td><td>&quot;O_E___height_1…</td><td>187.0</td><td>&quot;2015-02-23&quot;</td></tr><tr><td>&quot;p21515_1099623…</td><td>&quot;O_E___height_1…</td><td>188.0</td><td>&quot;2018-10-23&quot;</td></tr><tr><td>&quot;p21515_1099623…</td><td>&quot;O_E___height_1…</td><td>187.96</td><td>&quot;2021-03-29&quot;</td></tr><tr><td>&quot;p21515_1099623…</td><td>&quot;O_E___height_1…</td><td>180.34</td><td>&quot;2021-03-29&quot;</td></tr></tbody></table></div>"
      ],
      "text/plain": [
       "shape: (5, 4)\n",
       "┌───────────────────────┬────────────────┬────────┬────────────┐\n",
       "│ PRACTICE_PATIENT_ID   ┆ EVENT          ┆ VALUE  ┆ DATE       │\n",
       "│ ---                   ┆ ---            ┆ ---    ┆ ---        │\n",
       "│ str                   ┆ str            ┆ f64    ┆ str        │\n",
       "╞═══════════════════════╪════════════════╪════════╪════════════╡\n",
       "│ p21515_10996238121515 ┆ O_E___height_1 ┆ 187.96 ┆ 2001-09-18 │\n",
       "│ p21515_10996238121515 ┆ O_E___height_1 ┆ 187.0  ┆ 2015-02-23 │\n",
       "│ p21515_10996238121515 ┆ O_E___height_1 ┆ 188.0  ┆ 2018-10-23 │\n",
       "│ p21515_10996238121515 ┆ O_E___height_1 ┆ 187.96 ┆ 2021-03-29 │\n",
       "│ p21515_10996238321515 ┆ O_E___height_1 ┆ 180.34 ┆ 2021-03-29 │\n",
       "└───────────────────────┴────────────────┴────────┴────────────┘"
      ]
     },
     "metadata": {},
     "output_type": "display_data"
    },
    {
     "name": "stdout",
     "output_type": "stream",
     "text": [
      "lazy_measurement_O_E___weight_2\n"
     ]
    },
    {
     "data": {
      "text/html": [
       "<div><style>\n",
       ".dataframe > thead > tr > th,\n",
       ".dataframe > tbody > tr > td {\n",
       "  text-align: right;\n",
       "}\n",
       "</style>\n",
       "<small>shape: (5, 4)</small><table border=\"1\" class=\"dataframe\"><thead><tr><th>PRACTICE_PATIENT_ID</th><th>EVENT</th><th>VALUE</th><th>DATE</th></tr><tr><td>str</td><td>str</td><td>f64</td><td>str</td></tr></thead><tbody><tr><td>&quot;p21515_1099623…</td><td>&quot;O_E___weight_2…</td><td>72.0</td><td>&quot;2001-09-18&quot;</td></tr><tr><td>&quot;p21515_1099623…</td><td>&quot;O_E___weight_2…</td><td>88.9</td><td>&quot;2015-02-23&quot;</td></tr><tr><td>&quot;p21515_1099623…</td><td>&quot;O_E___weight_2…</td><td>88.2</td><td>&quot;2018-10-23&quot;</td></tr><tr><td>&quot;p21515_1099623…</td><td>&quot;O_E___weight_2…</td><td>87.7</td><td>&quot;2019-05-30&quot;</td></tr><tr><td>&quot;p21515_1099623…</td><td>&quot;O_E___weight_2…</td><td>89.4</td><td>&quot;2019-08-15&quot;</td></tr></tbody></table></div>"
      ],
      "text/plain": [
       "shape: (5, 4)\n",
       "┌───────────────────────┬────────────────┬───────┬────────────┐\n",
       "│ PRACTICE_PATIENT_ID   ┆ EVENT          ┆ VALUE ┆ DATE       │\n",
       "│ ---                   ┆ ---            ┆ ---   ┆ ---        │\n",
       "│ str                   ┆ str            ┆ f64   ┆ str        │\n",
       "╞═══════════════════════╪════════════════╪═══════╪════════════╡\n",
       "│ p21515_10996238121515 ┆ O_E___weight_2 ┆ 72.0  ┆ 2001-09-18 │\n",
       "│ p21515_10996238121515 ┆ O_E___weight_2 ┆ 88.9  ┆ 2015-02-23 │\n",
       "│ p21515_10996238121515 ┆ O_E___weight_2 ┆ 88.2  ┆ 2018-10-23 │\n",
       "│ p21515_10996238121515 ┆ O_E___weight_2 ┆ 87.7  ┆ 2019-05-30 │\n",
       "│ p21515_10996238121515 ┆ O_E___weight_2 ┆ 89.4  ┆ 2019-08-15 │\n",
       "└───────────────────────┴────────────────┴───────┴────────────┘"
      ]
     },
     "metadata": {},
     "output_type": "display_data"
    },
    {
     "name": "stdout",
     "output_type": "stream",
     "text": [
      "lazy_measurement_Plasma_B_natriuretic_peptide_level_69\n"
     ]
    },
    {
     "data": {
      "text/html": [
       "<div><style>\n",
       ".dataframe > thead > tr > th,\n",
       ".dataframe > tbody > tr > td {\n",
       "  text-align: right;\n",
       "}\n",
       "</style>\n",
       "<small>shape: (2, 4)</small><table border=\"1\" class=\"dataframe\"><thead><tr><th>PRACTICE_PATIENT_ID</th><th>EVENT</th><th>VALUE</th><th>DATE</th></tr><tr><td>str</td><td>str</td><td>f64</td><td>str</td></tr></thead><tbody><tr><td>&quot;p21515_5954898…</td><td>&quot;Plasma_B_natri…</td><td>32.0</td><td>&quot;2019-04-18&quot;</td></tr><tr><td>&quot;p21515_6909473…</td><td>&quot;Plasma_B_natri…</td><td>31.0</td><td>&quot;2019-08-19&quot;</td></tr></tbody></table></div>"
      ],
      "text/plain": [
       "shape: (2, 4)\n",
       "┌──────────────────────┬───────────────────────────────────┬───────┬────────────┐\n",
       "│ PRACTICE_PATIENT_ID  ┆ EVENT                             ┆ VALUE ┆ DATE       │\n",
       "│ ---                  ┆ ---                               ┆ ---   ┆ ---        │\n",
       "│ str                  ┆ str                               ┆ f64   ┆ str        │\n",
       "╞══════════════════════╪═══════════════════════════════════╪═══════╪════════════╡\n",
       "│ p21515_5954898821515 ┆ Plasma_B_natriuretic_peptide_lev… ┆ 32.0  ┆ 2019-04-18 │\n",
       "│ p21515_6909473421515 ┆ Plasma_B_natriuretic_peptide_lev… ┆ 31.0  ┆ 2019-08-19 │\n",
       "└──────────────────────┴───────────────────────────────────┴───────┴────────────┘"
      ]
     },
     "metadata": {},
     "output_type": "display_data"
    },
    {
     "name": "stdout",
     "output_type": "stream",
     "text": [
      "lazy_measurement_Plasma_C_reactive_protein_60\n"
     ]
    },
    {
     "data": {
      "text/html": [
       "<div><style>\n",
       ".dataframe > thead > tr > th,\n",
       ".dataframe > tbody > tr > td {\n",
       "  text-align: right;\n",
       "}\n",
       "</style>\n",
       "<small>shape: (5, 4)</small><table border=\"1\" class=\"dataframe\"><thead><tr><th>PRACTICE_PATIENT_ID</th><th>EVENT</th><th>VALUE</th><th>DATE</th></tr><tr><td>str</td><td>str</td><td>f64</td><td>str</td></tr></thead><tbody><tr><td>&quot;p21515_1099623…</td><td>&quot;Plasma_C_react…</td><td>2.0</td><td>&quot;2013-06-06&quot;</td></tr><tr><td>&quot;p21515_1099623…</td><td>&quot;Plasma_C_react…</td><td>2.0</td><td>&quot;2016-07-22&quot;</td></tr><tr><td>&quot;p21515_1099623…</td><td>&quot;Plasma_C_react…</td><td>1.0</td><td>&quot;2018-08-03&quot;</td></tr><tr><td>&quot;p21515_1099623…</td><td>&quot;Plasma_C_react…</td><td>2.0</td><td>&quot;2019-10-28&quot;</td></tr><tr><td>&quot;p21515_5954187…</td><td>&quot;Plasma_C_react…</td><td>1.0</td><td>&quot;2011-07-19&quot;</td></tr></tbody></table></div>"
      ],
      "text/plain": [
       "shape: (5, 4)\n",
       "┌───────────────────────┬──────────────────────────────┬───────┬────────────┐\n",
       "│ PRACTICE_PATIENT_ID   ┆ EVENT                        ┆ VALUE ┆ DATE       │\n",
       "│ ---                   ┆ ---                          ┆ ---   ┆ ---        │\n",
       "│ str                   ┆ str                          ┆ f64   ┆ str        │\n",
       "╞═══════════════════════╪══════════════════════════════╪═══════╪════════════╡\n",
       "│ p21515_10996238121515 ┆ Plasma_C_reactive_protein_60 ┆ 2.0   ┆ 2013-06-06 │\n",
       "│ p21515_10996238121515 ┆ Plasma_C_reactive_protein_60 ┆ 2.0   ┆ 2016-07-22 │\n",
       "│ p21515_10996238121515 ┆ Plasma_C_reactive_protein_60 ┆ 1.0   ┆ 2018-08-03 │\n",
       "│ p21515_10996238121515 ┆ Plasma_C_reactive_protein_60 ┆ 2.0   ┆ 2019-10-28 │\n",
       "│ p21515_5954187821515  ┆ Plasma_C_reactive_protein_60 ┆ 1.0   ┆ 2011-07-19 │\n",
       "└───────────────────────┴──────────────────────────────┴───────┴────────────┘"
      ]
     },
     "metadata": {},
     "output_type": "display_data"
    },
    {
     "name": "stdout",
     "output_type": "stream",
     "text": [
      "lazy_measurement_Plasma_HDL_cholesterol_level_101\n"
     ]
    },
    {
     "data": {
      "text/html": [
       "<div><style>\n",
       ".dataframe > thead > tr > th,\n",
       ".dataframe > tbody > tr > td {\n",
       "  text-align: right;\n",
       "}\n",
       "</style>\n",
       "<small>shape: (4, 4)</small><table border=\"1\" class=\"dataframe\"><thead><tr><th>PRACTICE_PATIENT_ID</th><th>EVENT</th><th>VALUE</th><th>DATE</th></tr><tr><td>str</td><td>str</td><td>f64</td><td>str</td></tr></thead><tbody><tr><td>&quot;p21515_5954841…</td><td>&quot;Plasma_HDL_cho…</td><td>1.6</td><td>&quot;2011-02-18&quot;</td></tr><tr><td>&quot;p21515_5955883…</td><td>&quot;Plasma_HDL_cho…</td><td>1.53</td><td>&quot;2013-07-17&quot;</td></tr><tr><td>&quot;p21515_5957225…</td><td>&quot;Plasma_HDL_cho…</td><td>null</td><td>&quot;1995-05-25&quot;</td></tr><tr><td>&quot;p21515_6500089…</td><td>&quot;Plasma_HDL_cho…</td><td>1.23</td><td>&quot;2016-12-09&quot;</td></tr></tbody></table></div>"
      ],
      "text/plain": [
       "shape: (4, 4)\n",
       "┌──────────────────────┬──────────────────────────────────┬───────┬────────────┐\n",
       "│ PRACTICE_PATIENT_ID  ┆ EVENT                            ┆ VALUE ┆ DATE       │\n",
       "│ ---                  ┆ ---                              ┆ ---   ┆ ---        │\n",
       "│ str                  ┆ str                              ┆ f64   ┆ str        │\n",
       "╞══════════════════════╪══════════════════════════════════╪═══════╪════════════╡\n",
       "│ p21515_5954841521515 ┆ Plasma_HDL_cholesterol_level_101 ┆ 1.6   ┆ 2011-02-18 │\n",
       "│ p21515_5955883321515 ┆ Plasma_HDL_cholesterol_level_101 ┆ 1.53  ┆ 2013-07-17 │\n",
       "│ p21515_5957225621515 ┆ Plasma_HDL_cholesterol_level_101 ┆ null  ┆ 1995-05-25 │\n",
       "│ p21515_6500089621515 ┆ Plasma_HDL_cholesterol_level_101 ┆ 1.23  ┆ 2016-12-09 │\n",
       "└──────────────────────┴──────────────────────────────────┴───────┴────────────┘"
      ]
     },
     "metadata": {},
     "output_type": "display_data"
    },
    {
     "name": "stdout",
     "output_type": "stream",
     "text": [
      "lazy_measurement_Plasma_LDL_cholesterol_level_104\n"
     ]
    },
    {
     "data": {
      "text/html": [
       "<div><style>\n",
       ".dataframe > thead > tr > th,\n",
       ".dataframe > tbody > tr > td {\n",
       "  text-align: right;\n",
       "}\n",
       "</style>\n",
       "<small>shape: (3, 4)</small><table border=\"1\" class=\"dataframe\"><thead><tr><th>PRACTICE_PATIENT_ID</th><th>EVENT</th><th>VALUE</th><th>DATE</th></tr><tr><td>str</td><td>str</td><td>f64</td><td>str</td></tr></thead><tbody><tr><td>&quot;p21515_5954841…</td><td>&quot;Plasma_LDL_cho…</td><td>3.2</td><td>&quot;2011-02-18&quot;</td></tr><tr><td>&quot;p21515_5955883…</td><td>&quot;Plasma_LDL_cho…</td><td>null</td><td>&quot;2013-07-17&quot;</td></tr><tr><td>&quot;p21515_6500089…</td><td>&quot;Plasma_LDL_cho…</td><td>3.16</td><td>&quot;2016-12-09&quot;</td></tr></tbody></table></div>"
      ],
      "text/plain": [
       "shape: (3, 4)\n",
       "┌──────────────────────┬──────────────────────────────────┬───────┬────────────┐\n",
       "│ PRACTICE_PATIENT_ID  ┆ EVENT                            ┆ VALUE ┆ DATE       │\n",
       "│ ---                  ┆ ---                              ┆ ---   ┆ ---        │\n",
       "│ str                  ┆ str                              ┆ f64   ┆ str        │\n",
       "╞══════════════════════╪══════════════════════════════════╪═══════╪════════════╡\n",
       "│ p21515_5954841521515 ┆ Plasma_LDL_cholesterol_level_104 ┆ 3.2   ┆ 2011-02-18 │\n",
       "│ p21515_5955883321515 ┆ Plasma_LDL_cholesterol_level_104 ┆ null  ┆ 2013-07-17 │\n",
       "│ p21515_6500089621515 ┆ Plasma_LDL_cholesterol_level_104 ┆ 3.16  ┆ 2016-12-09 │\n",
       "└──────────────────────┴──────────────────────────────────┴───────┴────────────┘"
      ]
     },
     "metadata": {},
     "output_type": "display_data"
    },
    {
     "name": "stdout",
     "output_type": "stream",
     "text": [
      "lazy_measurement_Plasma_TSH_level_73\n"
     ]
    },
    {
     "data": {
      "text/html": [
       "<div><style>\n",
       ".dataframe > thead > tr > th,\n",
       ".dataframe > tbody > tr > td {\n",
       "  text-align: right;\n",
       "}\n",
       "</style>\n",
       "<small>shape: (5, 4)</small><table border=\"1\" class=\"dataframe\"><thead><tr><th>PRACTICE_PATIENT_ID</th><th>EVENT</th><th>VALUE</th><th>DATE</th></tr><tr><td>str</td><td>str</td><td>f64</td><td>str</td></tr></thead><tbody><tr><td>&quot;p21515_5954841…</td><td>&quot;Plasma_TSH_lev…</td><td>0.95</td><td>&quot;2011-02-18&quot;</td></tr><tr><td>&quot;p21515_5955883…</td><td>&quot;Plasma_TSH_lev…</td><td>0.04</td><td>&quot;2013-07-17&quot;</td></tr><tr><td>&quot;p21515_5955883…</td><td>&quot;Plasma_TSH_lev…</td><td>0.03</td><td>&quot;2013-09-20&quot;</td></tr><tr><td>&quot;p21515_5955883…</td><td>&quot;Plasma_TSH_lev…</td><td>0.41</td><td>&quot;2014-01-27&quot;</td></tr><tr><td>&quot;p21515_5955883…</td><td>&quot;Plasma_TSH_lev…</td><td>0.21</td><td>&quot;2014-03-24&quot;</td></tr></tbody></table></div>"
      ],
      "text/plain": [
       "shape: (5, 4)\n",
       "┌──────────────────────┬─────────────────────┬───────┬────────────┐\n",
       "│ PRACTICE_PATIENT_ID  ┆ EVENT               ┆ VALUE ┆ DATE       │\n",
       "│ ---                  ┆ ---                 ┆ ---   ┆ ---        │\n",
       "│ str                  ┆ str                 ┆ f64   ┆ str        │\n",
       "╞══════════════════════╪═════════════════════╪═══════╪════════════╡\n",
       "│ p21515_5954841521515 ┆ Plasma_TSH_level_73 ┆ 0.95  ┆ 2011-02-18 │\n",
       "│ p21515_5955883321515 ┆ Plasma_TSH_level_73 ┆ 0.04  ┆ 2013-07-17 │\n",
       "│ p21515_5955883321515 ┆ Plasma_TSH_level_73 ┆ 0.03  ┆ 2013-09-20 │\n",
       "│ p21515_5955883321515 ┆ Plasma_TSH_level_73 ┆ 0.41  ┆ 2014-01-27 │\n",
       "│ p21515_5955883321515 ┆ Plasma_TSH_level_73 ┆ 0.21  ┆ 2014-03-24 │\n",
       "└──────────────────────┴─────────────────────┴───────┴────────────┘"
      ]
     },
     "metadata": {},
     "output_type": "display_data"
    },
    {
     "name": "stdout",
     "output_type": "stream",
     "text": [
      "lazy_measurement_Plasma_alanine_aminotransferase_level_44\n"
     ]
    },
    {
     "data": {
      "text/html": [
       "<div><style>\n",
       ".dataframe > thead > tr > th,\n",
       ".dataframe > tbody > tr > td {\n",
       "  text-align: right;\n",
       "}\n",
       "</style>\n",
       "<small>shape: (5, 4)</small><table border=\"1\" class=\"dataframe\"><thead><tr><th>PRACTICE_PATIENT_ID</th><th>EVENT</th><th>VALUE</th><th>DATE</th></tr><tr><td>str</td><td>str</td><td>f64</td><td>str</td></tr></thead><tbody><tr><td>&quot;p21515_5954591…</td><td>&quot;Plasma_alanine…</td><td>39.0</td><td>&quot;2015-11-14&quot;</td></tr><tr><td>&quot;p21515_5954591…</td><td>&quot;Plasma_alanine…</td><td>74.0</td><td>&quot;2016-06-25&quot;</td></tr><tr><td>&quot;p21515_5954591…</td><td>&quot;Plasma_alanine…</td><td>76.0</td><td>&quot;2016-10-18&quot;</td></tr><tr><td>&quot;p21515_5954591…</td><td>&quot;Plasma_alanine…</td><td>73.0</td><td>&quot;2017-10-21&quot;</td></tr><tr><td>&quot;p21515_5954591…</td><td>&quot;Plasma_alanine…</td><td>130.0</td><td>&quot;2018-01-13&quot;</td></tr></tbody></table></div>"
      ],
      "text/plain": [
       "shape: (5, 4)\n",
       "┌──────────────────────┬───────────────────────────────────┬───────┬────────────┐\n",
       "│ PRACTICE_PATIENT_ID  ┆ EVENT                             ┆ VALUE ┆ DATE       │\n",
       "│ ---                  ┆ ---                               ┆ ---   ┆ ---        │\n",
       "│ str                  ┆ str                               ┆ f64   ┆ str        │\n",
       "╞══════════════════════╪═══════════════════════════════════╪═══════╪════════════╡\n",
       "│ p21515_5954591021515 ┆ Plasma_alanine_aminotransferase_… ┆ 39.0  ┆ 2015-11-14 │\n",
       "│ p21515_5954591021515 ┆ Plasma_alanine_aminotransferase_… ┆ 74.0  ┆ 2016-06-25 │\n",
       "│ p21515_5954591021515 ┆ Plasma_alanine_aminotransferase_… ┆ 76.0  ┆ 2016-10-18 │\n",
       "│ p21515_5954591021515 ┆ Plasma_alanine_aminotransferase_… ┆ 73.0  ┆ 2017-10-21 │\n",
       "│ p21515_5954591021515 ┆ Plasma_alanine_aminotransferase_… ┆ 130.0 ┆ 2018-01-13 │\n",
       "└──────────────────────┴───────────────────────────────────┴───────┴────────────┘"
      ]
     },
     "metadata": {},
     "output_type": "display_data"
    },
    {
     "name": "stdout",
     "output_type": "stream",
     "text": [
      "lazy_measurement_Plasma_albumin_level_52\n"
     ]
    },
    {
     "data": {
      "text/html": [
       "<div><style>\n",
       ".dataframe > thead > tr > th,\n",
       ".dataframe > tbody > tr > td {\n",
       "  text-align: right;\n",
       "}\n",
       "</style>\n",
       "<small>shape: (5, 4)</small><table border=\"1\" class=\"dataframe\"><thead><tr><th>PRACTICE_PATIENT_ID</th><th>EVENT</th><th>VALUE</th><th>DATE</th></tr><tr><td>str</td><td>str</td><td>f64</td><td>str</td></tr></thead><tbody><tr><td>&quot;p21515_5954841…</td><td>&quot;Plasma_albumin…</td><td>44.0</td><td>&quot;2011-02-18&quot;</td></tr><tr><td>&quot;p21515_5954896…</td><td>&quot;Plasma_albumin…</td><td>48.0</td><td>&quot;2006-07-24&quot;</td></tr><tr><td>&quot;p21515_5954896…</td><td>&quot;Plasma_albumin…</td><td>48.0</td><td>&quot;2008-02-01&quot;</td></tr><tr><td>&quot;p21515_5954896…</td><td>&quot;Plasma_albumin…</td><td>46.0</td><td>&quot;2008-02-28&quot;</td></tr><tr><td>&quot;p21515_5955739…</td><td>&quot;Plasma_albumin…</td><td>47.0</td><td>&quot;2004-09-16&quot;</td></tr></tbody></table></div>"
      ],
      "text/plain": [
       "shape: (5, 4)\n",
       "┌──────────────────────┬─────────────────────────┬───────┬────────────┐\n",
       "│ PRACTICE_PATIENT_ID  ┆ EVENT                   ┆ VALUE ┆ DATE       │\n",
       "│ ---                  ┆ ---                     ┆ ---   ┆ ---        │\n",
       "│ str                  ┆ str                     ┆ f64   ┆ str        │\n",
       "╞══════════════════════╪═════════════════════════╪═══════╪════════════╡\n",
       "│ p21515_5954841521515 ┆ Plasma_albumin_level_52 ┆ 44.0  ┆ 2011-02-18 │\n",
       "│ p21515_5954896821515 ┆ Plasma_albumin_level_52 ┆ 48.0  ┆ 2006-07-24 │\n",
       "│ p21515_5954896821515 ┆ Plasma_albumin_level_52 ┆ 48.0  ┆ 2008-02-01 │\n",
       "│ p21515_5954896821515 ┆ Plasma_albumin_level_52 ┆ 46.0  ┆ 2008-02-28 │\n",
       "│ p21515_5955739621515 ┆ Plasma_albumin_level_52 ┆ 47.0  ┆ 2004-09-16 │\n",
       "└──────────────────────┴─────────────────────────┴───────┴────────────┘"
      ]
     },
     "metadata": {},
     "output_type": "display_data"
    },
    {
     "name": "stdout",
     "output_type": "stream",
     "text": [
      "lazy_measurement_Plasma_alkaline_phosphatase_level_49\n"
     ]
    },
    {
     "data": {
      "text/html": [
       "<div><style>\n",
       ".dataframe > thead > tr > th,\n",
       ".dataframe > tbody > tr > td {\n",
       "  text-align: right;\n",
       "}\n",
       "</style>\n",
       "<small>shape: (3, 4)</small><table border=\"1\" class=\"dataframe\"><thead><tr><th>PRACTICE_PATIENT_ID</th><th>EVENT</th><th>VALUE</th><th>DATE</th></tr><tr><td>str</td><td>str</td><td>f64</td><td>str</td></tr></thead><tbody><tr><td>&quot;p21515_5954841…</td><td>&quot;Plasma_alkalin…</td><td>726.0</td><td>&quot;2011-02-18&quot;</td></tr><tr><td>&quot;p21515_5955883…</td><td>&quot;Plasma_alkalin…</td><td>190.0</td><td>&quot;2013-07-17&quot;</td></tr><tr><td>&quot;p21515_6500089…</td><td>&quot;Plasma_alkalin…</td><td>65.0</td><td>&quot;2016-12-09&quot;</td></tr></tbody></table></div>"
      ],
      "text/plain": [
       "shape: (3, 4)\n",
       "┌──────────────────────┬───────────────────────────────────┬───────┬────────────┐\n",
       "│ PRACTICE_PATIENT_ID  ┆ EVENT                             ┆ VALUE ┆ DATE       │\n",
       "│ ---                  ┆ ---                               ┆ ---   ┆ ---        │\n",
       "│ str                  ┆ str                               ┆ f64   ┆ str        │\n",
       "╞══════════════════════╪═══════════════════════════════════╪═══════╪════════════╡\n",
       "│ p21515_5954841521515 ┆ Plasma_alkaline_phosphatase_leve… ┆ 726.0 ┆ 2011-02-18 │\n",
       "│ p21515_5955883321515 ┆ Plasma_alkaline_phosphatase_leve… ┆ 190.0 ┆ 2013-07-17 │\n",
       "│ p21515_6500089621515 ┆ Plasma_alkaline_phosphatase_leve… ┆ 65.0  ┆ 2016-12-09 │\n",
       "└──────────────────────┴───────────────────────────────────┴───────┴────────────┘"
      ]
     },
     "metadata": {},
     "output_type": "display_data"
    },
    {
     "name": "stdout",
     "output_type": "stream",
     "text": [
      "lazy_measurement_Plasma_calcium_level_40\n"
     ]
    },
    {
     "data": {
      "text/html": [
       "<div><style>\n",
       ".dataframe > thead > tr > th,\n",
       ".dataframe > tbody > tr > td {\n",
       "  text-align: right;\n",
       "}\n",
       "</style>\n",
       "<small>shape: (3, 4)</small><table border=\"1\" class=\"dataframe\"><thead><tr><th>PRACTICE_PATIENT_ID</th><th>EVENT</th><th>VALUE</th><th>DATE</th></tr><tr><td>str</td><td>str</td><td>f64</td><td>str</td></tr></thead><tbody><tr><td>&quot;p21515_5954841…</td><td>&quot;Plasma_calcium…</td><td>2.51</td><td>&quot;2011-02-18&quot;</td></tr><tr><td>&quot;p21515_5955883…</td><td>&quot;Plasma_calcium…</td><td>2.62</td><td>&quot;2013-07-17&quot;</td></tr><tr><td>&quot;p21515_6500089…</td><td>&quot;Plasma_calcium…</td><td>2.37</td><td>&quot;2016-12-09&quot;</td></tr></tbody></table></div>"
      ],
      "text/plain": [
       "shape: (3, 4)\n",
       "┌──────────────────────┬─────────────────────────┬───────┬────────────┐\n",
       "│ PRACTICE_PATIENT_ID  ┆ EVENT                   ┆ VALUE ┆ DATE       │\n",
       "│ ---                  ┆ ---                     ┆ ---   ┆ ---        │\n",
       "│ str                  ┆ str                     ┆ f64   ┆ str        │\n",
       "╞══════════════════════╪═════════════════════════╪═══════╪════════════╡\n",
       "│ p21515_5954841521515 ┆ Plasma_calcium_level_40 ┆ 2.51  ┆ 2011-02-18 │\n",
       "│ p21515_5955883321515 ┆ Plasma_calcium_level_40 ┆ 2.62  ┆ 2013-07-17 │\n",
       "│ p21515_6500089621515 ┆ Plasma_calcium_level_40 ┆ 2.37  ┆ 2016-12-09 │\n",
       "└──────────────────────┴─────────────────────────┴───────┴────────────┘"
      ]
     },
     "metadata": {},
     "output_type": "display_data"
    },
    {
     "name": "stdout",
     "output_type": "stream",
     "text": [
      "lazy_measurement_Plasma_cholesterol_HDL_ratio_96\n"
     ]
    },
    {
     "data": {
      "text/html": [
       "<div><style>\n",
       ".dataframe > thead > tr > th,\n",
       ".dataframe > tbody > tr > td {\n",
       "  text-align: right;\n",
       "}\n",
       "</style>\n",
       "<small>shape: (1, 4)</small><table border=\"1\" class=\"dataframe\"><thead><tr><th>PRACTICE_PATIENT_ID</th><th>EVENT</th><th>VALUE</th><th>DATE</th></tr><tr><td>str</td><td>str</td><td>f64</td><td>str</td></tr></thead><tbody><tr><td>&quot;p21515_5955883…</td><td>&quot;Plasma_cholest…</td><td>3.1</td><td>&quot;2013-07-17&quot;</td></tr></tbody></table></div>"
      ],
      "text/plain": [
       "shape: (1, 4)\n",
       "┌──────────────────────┬─────────────────────────────────┬───────┬────────────┐\n",
       "│ PRACTICE_PATIENT_ID  ┆ EVENT                           ┆ VALUE ┆ DATE       │\n",
       "│ ---                  ┆ ---                             ┆ ---   ┆ ---        │\n",
       "│ str                  ┆ str                             ┆ f64   ┆ str        │\n",
       "╞══════════════════════╪═════════════════════════════════╪═══════╪════════════╡\n",
       "│ p21515_5955883321515 ┆ Plasma_cholesterol_HDL_ratio_96 ┆ 3.1   ┆ 2013-07-17 │\n",
       "└──────────────────────┴─────────────────────────────────┴───────┴────────────┘"
      ]
     },
     "metadata": {},
     "output_type": "display_data"
    },
    {
     "name": "stdout",
     "output_type": "stream",
     "text": [
      "lazy_measurement_Plasma_corrected_calcium_level_43\n"
     ]
    },
    {
     "data": {
      "text/html": [
       "<div><style>\n",
       ".dataframe > thead > tr > th,\n",
       ".dataframe > tbody > tr > td {\n",
       "  text-align: right;\n",
       "}\n",
       "</style>\n",
       "<small>shape: (5, 4)</small><table border=\"1\" class=\"dataframe\"><thead><tr><th>PRACTICE_PATIENT_ID</th><th>EVENT</th><th>VALUE</th><th>DATE</th></tr><tr><td>str</td><td>str</td><td>f64</td><td>str</td></tr></thead><tbody><tr><td>&quot;p21515_5954841…</td><td>&quot;Plasma_correct…</td><td>2.43</td><td>&quot;2011-02-18&quot;</td></tr><tr><td>&quot;p21515_5955883…</td><td>&quot;Plasma_correct…</td><td>2.65</td><td>&quot;2013-07-17&quot;</td></tr><tr><td>&quot;p21515_5957730…</td><td>&quot;Plasma_correct…</td><td>2.1</td><td>&quot;2005-11-21&quot;</td></tr><tr><td>&quot;p21515_5957730…</td><td>&quot;Plasma_correct…</td><td>2.05</td><td>&quot;2006-07-10&quot;</td></tr><tr><td>&quot;p21515_5957730…</td><td>&quot;Plasma_correct…</td><td>1.84</td><td>&quot;2006-12-04&quot;</td></tr></tbody></table></div>"
      ],
      "text/plain": [
       "shape: (5, 4)\n",
       "┌──────────────────────┬───────────────────────────────────┬───────┬────────────┐\n",
       "│ PRACTICE_PATIENT_ID  ┆ EVENT                             ┆ VALUE ┆ DATE       │\n",
       "│ ---                  ┆ ---                               ┆ ---   ┆ ---        │\n",
       "│ str                  ┆ str                               ┆ f64   ┆ str        │\n",
       "╞══════════════════════╪═══════════════════════════════════╪═══════╪════════════╡\n",
       "│ p21515_5954841521515 ┆ Plasma_corrected_calcium_level_4… ┆ 2.43  ┆ 2011-02-18 │\n",
       "│ p21515_5955883321515 ┆ Plasma_corrected_calcium_level_4… ┆ 2.65  ┆ 2013-07-17 │\n",
       "│ p21515_5957730821515 ┆ Plasma_corrected_calcium_level_4… ┆ 2.1   ┆ 2005-11-21 │\n",
       "│ p21515_5957730821515 ┆ Plasma_corrected_calcium_level_4… ┆ 2.05  ┆ 2006-07-10 │\n",
       "│ p21515_5957730821515 ┆ Plasma_corrected_calcium_level_4… ┆ 1.84  ┆ 2006-12-04 │\n",
       "└──────────────────────┴───────────────────────────────────┴───────┴────────────┘"
      ]
     },
     "metadata": {},
     "output_type": "display_data"
    },
    {
     "name": "stdout",
     "output_type": "stream",
     "text": [
      "lazy_measurement_Plasma_creatinine_level_32\n"
     ]
    },
    {
     "data": {
      "text/html": [
       "<div><style>\n",
       ".dataframe > thead > tr > th,\n",
       ".dataframe > tbody > tr > td {\n",
       "  text-align: right;\n",
       "}\n",
       "</style>\n",
       "<small>shape: (2, 4)</small><table border=\"1\" class=\"dataframe\"><thead><tr><th>PRACTICE_PATIENT_ID</th><th>EVENT</th><th>VALUE</th><th>DATE</th></tr><tr><td>str</td><td>str</td><td>f64</td><td>str</td></tr></thead><tbody><tr><td>&quot;p21515_5955883…</td><td>&quot;Plasma_creatin…</td><td>83.0</td><td>&quot;2013-07-17&quot;</td></tr><tr><td>&quot;p21515_6500089…</td><td>&quot;Plasma_creatin…</td><td>93.0</td><td>&quot;2016-12-09&quot;</td></tr></tbody></table></div>"
      ],
      "text/plain": [
       "shape: (2, 4)\n",
       "┌──────────────────────┬────────────────────────────┬───────┬────────────┐\n",
       "│ PRACTICE_PATIENT_ID  ┆ EVENT                      ┆ VALUE ┆ DATE       │\n",
       "│ ---                  ┆ ---                        ┆ ---   ┆ ---        │\n",
       "│ str                  ┆ str                        ┆ f64   ┆ str        │\n",
       "╞══════════════════════╪════════════════════════════╪═══════╪════════════╡\n",
       "│ p21515_5955883321515 ┆ Plasma_creatinine_level_32 ┆ 83.0  ┆ 2013-07-17 │\n",
       "│ p21515_6500089621515 ┆ Plasma_creatinine_level_32 ┆ 93.0  ┆ 2016-12-09 │\n",
       "└──────────────────────┴────────────────────────────┴───────┴────────────┘"
      ]
     },
     "metadata": {},
     "output_type": "display_data"
    },
    {
     "name": "stdout",
     "output_type": "stream",
     "text": [
      "lazy_measurement_Plasma_ferritin_level_62\n"
     ]
    },
    {
     "data": {
      "text/html": [
       "<div><style>\n",
       ".dataframe > thead > tr > th,\n",
       ".dataframe > tbody > tr > td {\n",
       "  text-align: right;\n",
       "}\n",
       "</style>\n",
       "<small>shape: (4, 4)</small><table border=\"1\" class=\"dataframe\"><thead><tr><th>PRACTICE_PATIENT_ID</th><th>EVENT</th><th>VALUE</th><th>DATE</th></tr><tr><td>str</td><td>str</td><td>f64</td><td>str</td></tr></thead><tbody><tr><td>&quot;p21515_5954236…</td><td>&quot;Plasma_ferriti…</td><td>null</td><td>&quot;2012-06-12&quot;</td></tr><tr><td>&quot;p21515_5954236…</td><td>&quot;Plasma_ferriti…</td><td>null</td><td>&quot;2013-06-14&quot;</td></tr><tr><td>&quot;p21515_5956318…</td><td>&quot;Plasma_ferriti…</td><td>null</td><td>&quot;2014-12-16&quot;</td></tr><tr><td>&quot;p21515_5957732…</td><td>&quot;Plasma_ferriti…</td><td>null</td><td>&quot;2017-03-10&quot;</td></tr></tbody></table></div>"
      ],
      "text/plain": [
       "shape: (4, 4)\n",
       "┌──────────────────────┬──────────────────────────┬───────┬────────────┐\n",
       "│ PRACTICE_PATIENT_ID  ┆ EVENT                    ┆ VALUE ┆ DATE       │\n",
       "│ ---                  ┆ ---                      ┆ ---   ┆ ---        │\n",
       "│ str                  ┆ str                      ┆ f64   ┆ str        │\n",
       "╞══════════════════════╪══════════════════════════╪═══════╪════════════╡\n",
       "│ p21515_5954236621515 ┆ Plasma_ferritin_level_62 ┆ null  ┆ 2012-06-12 │\n",
       "│ p21515_5954236621515 ┆ Plasma_ferritin_level_62 ┆ null  ┆ 2013-06-14 │\n",
       "│ p21515_5956318321515 ┆ Plasma_ferritin_level_62 ┆ null  ┆ 2014-12-16 │\n",
       "│ p21515_5957732421515 ┆ Plasma_ferritin_level_62 ┆ null  ┆ 2017-03-10 │\n",
       "└──────────────────────┴──────────────────────────┴───────┴────────────┘"
      ]
     },
     "metadata": {},
     "output_type": "display_data"
    },
    {
     "name": "stdout",
     "output_type": "stream",
     "text": [
      "lazy_measurement_Plasma_free_T4_level_77\n"
     ]
    },
    {
     "data": {
      "text/html": [
       "<div><style>\n",
       ".dataframe > thead > tr > th,\n",
       ".dataframe > tbody > tr > td {\n",
       "  text-align: right;\n",
       "}\n",
       "</style>\n",
       "<small>shape: (5, 4)</small><table border=\"1\" class=\"dataframe\"><thead><tr><th>PRACTICE_PATIENT_ID</th><th>EVENT</th><th>VALUE</th><th>DATE</th></tr><tr><td>str</td><td>str</td><td>f64</td><td>str</td></tr></thead><tbody><tr><td>&quot;p21515_5954841…</td><td>&quot;Plasma_free_T4…</td><td>15.7</td><td>&quot;2011-02-18&quot;</td></tr><tr><td>&quot;p21515_5955883…</td><td>&quot;Plasma_free_T4…</td><td>32.8</td><td>&quot;2013-07-17&quot;</td></tr><tr><td>&quot;p21515_5955883…</td><td>&quot;Plasma_free_T4…</td><td>16.5</td><td>&quot;2013-09-20&quot;</td></tr><tr><td>&quot;p21515_5955883…</td><td>&quot;Plasma_free_T4…</td><td>7.3</td><td>&quot;2014-01-27&quot;</td></tr><tr><td>&quot;p21515_5955883…</td><td>&quot;Plasma_free_T4…</td><td>10.3</td><td>&quot;2014-03-24&quot;</td></tr></tbody></table></div>"
      ],
      "text/plain": [
       "shape: (5, 4)\n",
       "┌──────────────────────┬─────────────────────────┬───────┬────────────┐\n",
       "│ PRACTICE_PATIENT_ID  ┆ EVENT                   ┆ VALUE ┆ DATE       │\n",
       "│ ---                  ┆ ---                     ┆ ---   ┆ ---        │\n",
       "│ str                  ┆ str                     ┆ f64   ┆ str        │\n",
       "╞══════════════════════╪═════════════════════════╪═══════╪════════════╡\n",
       "│ p21515_5954841521515 ┆ Plasma_free_T4_level_77 ┆ 15.7  ┆ 2011-02-18 │\n",
       "│ p21515_5955883321515 ┆ Plasma_free_T4_level_77 ┆ 32.8  ┆ 2013-07-17 │\n",
       "│ p21515_5955883321515 ┆ Plasma_free_T4_level_77 ┆ 16.5  ┆ 2013-09-20 │\n",
       "│ p21515_5955883321515 ┆ Plasma_free_T4_level_77 ┆ 7.3   ┆ 2014-01-27 │\n",
       "│ p21515_5955883321515 ┆ Plasma_free_T4_level_77 ┆ 10.3  ┆ 2014-03-24 │\n",
       "└──────────────────────┴─────────────────────────┴───────┴────────────┘"
      ]
     },
     "metadata": {},
     "output_type": "display_data"
    },
    {
     "name": "stdout",
     "output_type": "stream",
     "text": [
      "lazy_measurement_Plasma_gamma_glutamyl_transferase_level_58\n"
     ]
    },
    {
     "data": {
      "text/html": [
       "<div><style>\n",
       ".dataframe > thead > tr > th,\n",
       ".dataframe > tbody > tr > td {\n",
       "  text-align: right;\n",
       "}\n",
       "</style>\n",
       "<small>shape: (5, 4)</small><table border=\"1\" class=\"dataframe\"><thead><tr><th>PRACTICE_PATIENT_ID</th><th>EVENT</th><th>VALUE</th><th>DATE</th></tr><tr><td>str</td><td>str</td><td>f64</td><td>str</td></tr></thead><tbody><tr><td>&quot;p21515_5954599…</td><td>&quot;Plasma_gamma_g…</td><td>5.0</td><td>&quot;2018-04-11&quot;</td></tr><tr><td>&quot;p21515_5955042…</td><td>&quot;Plasma_gamma_g…</td><td>24.0</td><td>&quot;2016-04-22&quot;</td></tr><tr><td>&quot;p21515_5955609…</td><td>&quot;Plasma_gamma_g…</td><td>12.0</td><td>&quot;2012-09-26&quot;</td></tr><tr><td>&quot;p21515_5955609…</td><td>&quot;Plasma_gamma_g…</td><td>10.0</td><td>&quot;2013-07-24&quot;</td></tr><tr><td>&quot;p21515_5955609…</td><td>&quot;Plasma_gamma_g…</td><td>12.0</td><td>&quot;2015-01-24&quot;</td></tr></tbody></table></div>"
      ],
      "text/plain": [
       "shape: (5, 4)\n",
       "┌──────────────────────┬───────────────────────────────────┬───────┬────────────┐\n",
       "│ PRACTICE_PATIENT_ID  ┆ EVENT                             ┆ VALUE ┆ DATE       │\n",
       "│ ---                  ┆ ---                               ┆ ---   ┆ ---        │\n",
       "│ str                  ┆ str                               ┆ f64   ┆ str        │\n",
       "╞══════════════════════╪═══════════════════════════════════╪═══════╪════════════╡\n",
       "│ p21515_5954599421515 ┆ Plasma_gamma_glutamyl_transferas… ┆ 5.0   ┆ 2018-04-11 │\n",
       "│ p21515_5955042321515 ┆ Plasma_gamma_glutamyl_transferas… ┆ 24.0  ┆ 2016-04-22 │\n",
       "│ p21515_5955609521515 ┆ Plasma_gamma_glutamyl_transferas… ┆ 12.0  ┆ 2012-09-26 │\n",
       "│ p21515_5955609521515 ┆ Plasma_gamma_glutamyl_transferas… ┆ 10.0  ┆ 2013-07-24 │\n",
       "│ p21515_5955609521515 ┆ Plasma_gamma_glutamyl_transferas… ┆ 12.0  ┆ 2015-01-24 │\n",
       "└──────────────────────┴───────────────────────────────────┴───────┴────────────┘"
      ]
     },
     "metadata": {},
     "output_type": "display_data"
    },
    {
     "name": "stdout",
     "output_type": "stream",
     "text": [
      "lazy_measurement_Plasma_potassium_level_27\n"
     ]
    },
    {
     "data": {
      "text/html": [
       "<div><style>\n",
       ".dataframe > thead > tr > th,\n",
       ".dataframe > tbody > tr > td {\n",
       "  text-align: right;\n",
       "}\n",
       "</style>\n",
       "<small>shape: (2, 4)</small><table border=\"1\" class=\"dataframe\"><thead><tr><th>PRACTICE_PATIENT_ID</th><th>EVENT</th><th>VALUE</th><th>DATE</th></tr><tr><td>str</td><td>str</td><td>f64</td><td>str</td></tr></thead><tbody><tr><td>&quot;p21515_5955883…</td><td>&quot;Plasma_potassi…</td><td>4.8</td><td>&quot;2013-07-17&quot;</td></tr><tr><td>&quot;p21515_6500089…</td><td>&quot;Plasma_potassi…</td><td>4.6</td><td>&quot;2016-12-09&quot;</td></tr></tbody></table></div>"
      ],
      "text/plain": [
       "shape: (2, 4)\n",
       "┌──────────────────────┬───────────────────────────┬───────┬────────────┐\n",
       "│ PRACTICE_PATIENT_ID  ┆ EVENT                     ┆ VALUE ┆ DATE       │\n",
       "│ ---                  ┆ ---                       ┆ ---   ┆ ---        │\n",
       "│ str                  ┆ str                       ┆ f64   ┆ str        │\n",
       "╞══════════════════════╪═══════════════════════════╪═══════╪════════════╡\n",
       "│ p21515_5955883321515 ┆ Plasma_potassium_level_27 ┆ 4.8   ┆ 2013-07-17 │\n",
       "│ p21515_6500089621515 ┆ Plasma_potassium_level_27 ┆ 4.6   ┆ 2016-12-09 │\n",
       "└──────────────────────┴───────────────────────────┴───────┴────────────┘"
      ]
     },
     "metadata": {},
     "output_type": "display_data"
    },
    {
     "name": "stdout",
     "output_type": "stream",
     "text": [
      "lazy_measurement_Plasma_pro_brain_natriuretic_peptide_level_64\n"
     ]
    },
    {
     "data": {
      "text/html": [
       "<div><style>\n",
       ".dataframe > thead > tr > th,\n",
       ".dataframe > tbody > tr > td {\n",
       "  text-align: right;\n",
       "}\n",
       "</style>\n",
       "<small>shape: (1, 4)</small><table border=\"1\" class=\"dataframe\"><thead><tr><th>PRACTICE_PATIENT_ID</th><th>EVENT</th><th>VALUE</th><th>DATE</th></tr><tr><td>str</td><td>str</td><td>f64</td><td>str</td></tr></thead><tbody><tr><td>&quot;p21515_5955739…</td><td>&quot;Plasma_pro_bra…</td><td>10.17</td><td>&quot;2017-12-19&quot;</td></tr></tbody></table></div>"
      ],
      "text/plain": [
       "shape: (1, 4)\n",
       "┌──────────────────────┬───────────────────────────────────┬───────┬────────────┐\n",
       "│ PRACTICE_PATIENT_ID  ┆ EVENT                             ┆ VALUE ┆ DATE       │\n",
       "│ ---                  ┆ ---                               ┆ ---   ┆ ---        │\n",
       "│ str                  ┆ str                               ┆ f64   ┆ str        │\n",
       "╞══════════════════════╪═══════════════════════════════════╪═══════╪════════════╡\n",
       "│ p21515_5955739621515 ┆ Plasma_pro_brain_natriuretic_pep… ┆ 10.17 ┆ 2017-12-19 │\n",
       "└──────────────────────┴───────────────────────────────────┴───────┴────────────┘"
      ]
     },
     "metadata": {},
     "output_type": "display_data"
    },
    {
     "name": "stdout",
     "output_type": "stream",
     "text": [
      "lazy_measurement_Plasma_sodium_level_25\n"
     ]
    },
    {
     "data": {
      "text/html": [
       "<div><style>\n",
       ".dataframe > thead > tr > th,\n",
       ".dataframe > tbody > tr > td {\n",
       "  text-align: right;\n",
       "}\n",
       "</style>\n",
       "<small>shape: (2, 4)</small><table border=\"1\" class=\"dataframe\"><thead><tr><th>PRACTICE_PATIENT_ID</th><th>EVENT</th><th>VALUE</th><th>DATE</th></tr><tr><td>str</td><td>str</td><td>f64</td><td>str</td></tr></thead><tbody><tr><td>&quot;p21515_5955883…</td><td>&quot;Plasma_sodium_…</td><td>141.0</td><td>&quot;2013-07-17&quot;</td></tr><tr><td>&quot;p21515_6500089…</td><td>&quot;Plasma_sodium_…</td><td>137.0</td><td>&quot;2016-12-09&quot;</td></tr></tbody></table></div>"
      ],
      "text/plain": [
       "shape: (2, 4)\n",
       "┌──────────────────────┬────────────────────────┬───────┬────────────┐\n",
       "│ PRACTICE_PATIENT_ID  ┆ EVENT                  ┆ VALUE ┆ DATE       │\n",
       "│ ---                  ┆ ---                    ┆ ---   ┆ ---        │\n",
       "│ str                  ┆ str                    ┆ f64   ┆ str        │\n",
       "╞══════════════════════╪════════════════════════╪═══════╪════════════╡\n",
       "│ p21515_5955883321515 ┆ Plasma_sodium_level_25 ┆ 141.0 ┆ 2013-07-17 │\n",
       "│ p21515_6500089621515 ┆ Plasma_sodium_level_25 ┆ 137.0 ┆ 2016-12-09 │\n",
       "└──────────────────────┴────────────────────────┴───────┴────────────┘"
      ]
     },
     "metadata": {},
     "output_type": "display_data"
    },
    {
     "name": "stdout",
     "output_type": "stream",
     "text": [
      "lazy_measurement_Plasma_total_bilirubin_level_54\n"
     ]
    },
    {
     "data": {
      "text/html": [
       "<div><style>\n",
       ".dataframe > thead > tr > th,\n",
       ".dataframe > tbody > tr > td {\n",
       "  text-align: right;\n",
       "}\n",
       "</style>\n",
       "<small>shape: (3, 4)</small><table border=\"1\" class=\"dataframe\"><thead><tr><th>PRACTICE_PATIENT_ID</th><th>EVENT</th><th>VALUE</th><th>DATE</th></tr><tr><td>str</td><td>str</td><td>f64</td><td>str</td></tr></thead><tbody><tr><td>&quot;p21515_5954841…</td><td>&quot;Plasma_total_b…</td><td>11.0</td><td>&quot;2011-02-18&quot;</td></tr><tr><td>&quot;p21515_5955883…</td><td>&quot;Plasma_total_b…</td><td>11.0</td><td>&quot;2013-07-17&quot;</td></tr><tr><td>&quot;p21515_6500089…</td><td>&quot;Plasma_total_b…</td><td>16.0</td><td>&quot;2016-12-09&quot;</td></tr></tbody></table></div>"
      ],
      "text/plain": [
       "shape: (3, 4)\n",
       "┌──────────────────────┬─────────────────────────────────┬───────┬────────────┐\n",
       "│ PRACTICE_PATIENT_ID  ┆ EVENT                           ┆ VALUE ┆ DATE       │\n",
       "│ ---                  ┆ ---                             ┆ ---   ┆ ---        │\n",
       "│ str                  ┆ str                             ┆ f64   ┆ str        │\n",
       "╞══════════════════════╪═════════════════════════════════╪═══════╪════════════╡\n",
       "│ p21515_5954841521515 ┆ Plasma_total_bilirubin_level_54 ┆ 11.0  ┆ 2011-02-18 │\n",
       "│ p21515_5955883321515 ┆ Plasma_total_bilirubin_level_54 ┆ 11.0  ┆ 2013-07-17 │\n",
       "│ p21515_6500089621515 ┆ Plasma_total_bilirubin_level_54 ┆ 16.0  ┆ 2016-12-09 │\n",
       "└──────────────────────┴─────────────────────────────────┴───────┴────────────┘"
      ]
     },
     "metadata": {},
     "output_type": "display_data"
    },
    {
     "name": "stdout",
     "output_type": "stream",
     "text": [
      "lazy_measurement_Plasma_total_cholesterol_level_99\n"
     ]
    },
    {
     "data": {
      "text/html": [
       "<div><style>\n",
       ".dataframe > thead > tr > th,\n",
       ".dataframe > tbody > tr > td {\n",
       "  text-align: right;\n",
       "}\n",
       "</style>\n",
       "<small>shape: (1, 4)</small><table border=\"1\" class=\"dataframe\"><thead><tr><th>PRACTICE_PATIENT_ID</th><th>EVENT</th><th>VALUE</th><th>DATE</th></tr><tr><td>str</td><td>str</td><td>f64</td><td>str</td></tr></thead><tbody><tr><td>&quot;p21515_5955883…</td><td>&quot;Plasma_total_c…</td><td>4.8</td><td>&quot;2013-07-17&quot;</td></tr></tbody></table></div>"
      ],
      "text/plain": [
       "shape: (1, 4)\n",
       "┌──────────────────────┬───────────────────────────────────┬───────┬────────────┐\n",
       "│ PRACTICE_PATIENT_ID  ┆ EVENT                             ┆ VALUE ┆ DATE       │\n",
       "│ ---                  ┆ ---                               ┆ ---   ┆ ---        │\n",
       "│ str                  ┆ str                               ┆ f64   ┆ str        │\n",
       "╞══════════════════════╪═══════════════════════════════════╪═══════╪════════════╡\n",
       "│ p21515_5955883321515 ┆ Plasma_total_cholesterol_level_9… ┆ 4.8   ┆ 2013-07-17 │\n",
       "└──────────────────────┴───────────────────────────────────┴───────┴────────────┘"
      ]
     },
     "metadata": {},
     "output_type": "display_data"
    },
    {
     "name": "stdout",
     "output_type": "stream",
     "text": [
      "lazy_measurement_Plasma_triglyceride_level_106\n"
     ]
    },
    {
     "data": {
      "text/html": [
       "<div><style>\n",
       ".dataframe > thead > tr > th,\n",
       ".dataframe > tbody > tr > td {\n",
       "  text-align: right;\n",
       "}\n",
       "</style>\n",
       "<small>shape: (2, 4)</small><table border=\"1\" class=\"dataframe\"><thead><tr><th>PRACTICE_PATIENT_ID</th><th>EVENT</th><th>VALUE</th><th>DATE</th></tr><tr><td>str</td><td>str</td><td>f64</td><td>str</td></tr></thead><tbody><tr><td>&quot;p21515_5954841…</td><td>&quot;Plasma_triglyc…</td><td>0.45</td><td>&quot;2011-02-18&quot;</td></tr><tr><td>&quot;p21515_6500089…</td><td>&quot;Plasma_triglyc…</td><td>0.78</td><td>&quot;2016-12-09&quot;</td></tr></tbody></table></div>"
      ],
      "text/plain": [
       "shape: (2, 4)\n",
       "┌──────────────────────┬───────────────────────────────┬───────┬────────────┐\n",
       "│ PRACTICE_PATIENT_ID  ┆ EVENT                         ┆ VALUE ┆ DATE       │\n",
       "│ ---                  ┆ ---                           ┆ ---   ┆ ---        │\n",
       "│ str                  ┆ str                           ┆ f64   ┆ str        │\n",
       "╞══════════════════════╪═══════════════════════════════╪═══════╪════════════╡\n",
       "│ p21515_5954841521515 ┆ Plasma_triglyceride_level_106 ┆ 0.45  ┆ 2011-02-18 │\n",
       "│ p21515_6500089621515 ┆ Plasma_triglyceride_level_106 ┆ 0.78  ┆ 2016-12-09 │\n",
       "└──────────────────────┴───────────────────────────────┴───────┴────────────┘"
      ]
     },
     "metadata": {},
     "output_type": "display_data"
    },
    {
     "name": "stdout",
     "output_type": "stream",
     "text": [
      "lazy_measurement_Plasma_urea_level_30\n"
     ]
    },
    {
     "data": {
      "text/html": [
       "<div><style>\n",
       ".dataframe > thead > tr > th,\n",
       ".dataframe > tbody > tr > td {\n",
       "  text-align: right;\n",
       "}\n",
       "</style>\n",
       "<small>shape: (2, 4)</small><table border=\"1\" class=\"dataframe\"><thead><tr><th>PRACTICE_PATIENT_ID</th><th>EVENT</th><th>VALUE</th><th>DATE</th></tr><tr><td>str</td><td>str</td><td>f64</td><td>str</td></tr></thead><tbody><tr><td>&quot;p21515_5955883…</td><td>&quot;Plasma_urea_le…</td><td>6.4</td><td>&quot;2013-07-17&quot;</td></tr><tr><td>&quot;p21515_6500089…</td><td>&quot;Plasma_urea_le…</td><td>5.0</td><td>&quot;2016-12-09&quot;</td></tr></tbody></table></div>"
      ],
      "text/plain": [
       "shape: (2, 4)\n",
       "┌──────────────────────┬──────────────────────┬───────┬────────────┐\n",
       "│ PRACTICE_PATIENT_ID  ┆ EVENT                ┆ VALUE ┆ DATE       │\n",
       "│ ---                  ┆ ---                  ┆ ---   ┆ ---        │\n",
       "│ str                  ┆ str                  ┆ f64   ┆ str        │\n",
       "╞══════════════════════╪══════════════════════╪═══════╪════════════╡\n",
       "│ p21515_5955883321515 ┆ Plasma_urea_level_30 ┆ 6.4   ┆ 2013-07-17 │\n",
       "│ p21515_6500089621515 ┆ Plasma_urea_level_30 ┆ 5.0   ┆ 2016-12-09 │\n",
       "└──────────────────────┴──────────────────────┴───────┴────────────┘"
      ]
     },
     "metadata": {},
     "output_type": "display_data"
    },
    {
     "name": "stdout",
     "output_type": "stream",
     "text": [
      "lazy_measurement_Platelet_count_12\n"
     ]
    },
    {
     "data": {
      "text/html": [
       "<div><style>\n",
       ".dataframe > thead > tr > th,\n",
       ".dataframe > tbody > tr > td {\n",
       "  text-align: right;\n",
       "}\n",
       "</style>\n",
       "<small>shape: (5, 4)</small><table border=\"1\" class=\"dataframe\"><thead><tr><th>PRACTICE_PATIENT_ID</th><th>EVENT</th><th>VALUE</th><th>DATE</th></tr><tr><td>str</td><td>str</td><td>f64</td><td>str</td></tr></thead><tbody><tr><td>&quot;p21515_1099623…</td><td>&quot;Platelet_count…</td><td>249.0</td><td>&quot;2006-08-24&quot;</td></tr><tr><td>&quot;p21515_1099623…</td><td>&quot;Platelet_count…</td><td>199.0</td><td>&quot;2013-06-06&quot;</td></tr><tr><td>&quot;p21515_1099623…</td><td>&quot;Platelet_count…</td><td>212.0</td><td>&quot;2013-08-08&quot;</td></tr><tr><td>&quot;p21515_1099623…</td><td>&quot;Platelet_count…</td><td>223.0</td><td>&quot;2015-01-14&quot;</td></tr><tr><td>&quot;p21515_1099623…</td><td>&quot;Platelet_count…</td><td>232.0</td><td>&quot;2015-11-03&quot;</td></tr></tbody></table></div>"
      ],
      "text/plain": [
       "shape: (5, 4)\n",
       "┌───────────────────────┬───────────────────┬───────┬────────────┐\n",
       "│ PRACTICE_PATIENT_ID   ┆ EVENT             ┆ VALUE ┆ DATE       │\n",
       "│ ---                   ┆ ---               ┆ ---   ┆ ---        │\n",
       "│ str                   ┆ str               ┆ f64   ┆ str        │\n",
       "╞═══════════════════════╪═══════════════════╪═══════╪════════════╡\n",
       "│ p21515_10996238121515 ┆ Platelet_count_12 ┆ 249.0 ┆ 2006-08-24 │\n",
       "│ p21515_10996238121515 ┆ Platelet_count_12 ┆ 199.0 ┆ 2013-06-06 │\n",
       "│ p21515_10996238121515 ┆ Platelet_count_12 ┆ 212.0 ┆ 2013-08-08 │\n",
       "│ p21515_10996238121515 ┆ Platelet_count_12 ┆ 223.0 ┆ 2015-01-14 │\n",
       "│ p21515_10996238121515 ┆ Platelet_count_12 ┆ 232.0 ┆ 2015-11-03 │\n",
       "└───────────────────────┴───────────────────┴───────┴────────────┘"
      ]
     },
     "metadata": {},
     "output_type": "display_data"
    },
    {
     "name": "stdout",
     "output_type": "stream",
     "text": [
      "lazy_measurement_Red_blood_cell__RBC__count_10\n"
     ]
    },
    {
     "data": {
      "text/html": [
       "<div><style>\n",
       ".dataframe > thead > tr > th,\n",
       ".dataframe > tbody > tr > td {\n",
       "  text-align: right;\n",
       "}\n",
       "</style>\n",
       "<small>shape: (5, 4)</small><table border=\"1\" class=\"dataframe\"><thead><tr><th>PRACTICE_PATIENT_ID</th><th>EVENT</th><th>VALUE</th><th>DATE</th></tr><tr><td>str</td><td>str</td><td>f64</td><td>str</td></tr></thead><tbody><tr><td>&quot;p21515_1099623…</td><td>&quot;Red_blood_cell…</td><td>6.26</td><td>&quot;2006-08-24&quot;</td></tr><tr><td>&quot;p21515_1099623…</td><td>&quot;Red_blood_cell…</td><td>6.09</td><td>&quot;2013-06-06&quot;</td></tr><tr><td>&quot;p21515_1099623…</td><td>&quot;Red_blood_cell…</td><td>6.33</td><td>&quot;2013-08-08&quot;</td></tr><tr><td>&quot;p21515_1099623…</td><td>&quot;Red_blood_cell…</td><td>6.02</td><td>&quot;2015-01-14&quot;</td></tr><tr><td>&quot;p21515_1099623…</td><td>&quot;Red_blood_cell…</td><td>6.29</td><td>&quot;2015-11-03&quot;</td></tr></tbody></table></div>"
      ],
      "text/plain": [
       "shape: (5, 4)\n",
       "┌───────────────────────┬───────────────────────────────┬───────┬────────────┐\n",
       "│ PRACTICE_PATIENT_ID   ┆ EVENT                         ┆ VALUE ┆ DATE       │\n",
       "│ ---                   ┆ ---                           ┆ ---   ┆ ---        │\n",
       "│ str                   ┆ str                           ┆ f64   ┆ str        │\n",
       "╞═══════════════════════╪═══════════════════════════════╪═══════╪════════════╡\n",
       "│ p21515_10996238121515 ┆ Red_blood_cell__RBC__count_10 ┆ 6.26  ┆ 2006-08-24 │\n",
       "│ p21515_10996238121515 ┆ Red_blood_cell__RBC__count_10 ┆ 6.09  ┆ 2013-06-06 │\n",
       "│ p21515_10996238121515 ┆ Red_blood_cell__RBC__count_10 ┆ 6.33  ┆ 2013-08-08 │\n",
       "│ p21515_10996238121515 ┆ Red_blood_cell__RBC__count_10 ┆ 6.02  ┆ 2015-01-14 │\n",
       "│ p21515_10996238121515 ┆ Red_blood_cell__RBC__count_10 ┆ 6.29  ┆ 2015-11-03 │\n",
       "└───────────────────────┴───────────────────────────────┴───────┴────────────┘"
      ]
     },
     "metadata": {},
     "output_type": "display_data"
    },
    {
     "name": "stdout",
     "output_type": "stream",
     "text": [
      "lazy_measurement_Red_blood_cell_distribution_width_17\n"
     ]
    },
    {
     "data": {
      "text/html": [
       "<div><style>\n",
       ".dataframe > thead > tr > th,\n",
       ".dataframe > tbody > tr > td {\n",
       "  text-align: right;\n",
       "}\n",
       "</style>\n",
       "<small>shape: (5, 4)</small><table border=\"1\" class=\"dataframe\"><thead><tr><th>PRACTICE_PATIENT_ID</th><th>EVENT</th><th>VALUE</th><th>DATE</th></tr><tr><td>str</td><td>str</td><td>f64</td><td>str</td></tr></thead><tbody><tr><td>&quot;p21515_5954223…</td><td>&quot;Red_blood_cell…</td><td>13.1</td><td>&quot;2021-11-08&quot;</td></tr><tr><td>&quot;p21515_5954235…</td><td>&quot;Red_blood_cell…</td><td>17.3</td><td>&quot;2021-11-22&quot;</td></tr><tr><td>&quot;p21515_5954236…</td><td>&quot;Red_blood_cell…</td><td>12.5</td><td>&quot;2008-07-11&quot;</td></tr><tr><td>&quot;p21515_5954236…</td><td>&quot;Red_blood_cell…</td><td>12.9</td><td>&quot;2008-12-29&quot;</td></tr><tr><td>&quot;p21515_5954236…</td><td>&quot;Red_blood_cell…</td><td>12.9</td><td>&quot;2009-06-26&quot;</td></tr></tbody></table></div>"
      ],
      "text/plain": [
       "shape: (5, 4)\n",
       "┌──────────────────────┬───────────────────────────────────┬───────┬────────────┐\n",
       "│ PRACTICE_PATIENT_ID  ┆ EVENT                             ┆ VALUE ┆ DATE       │\n",
       "│ ---                  ┆ ---                               ┆ ---   ┆ ---        │\n",
       "│ str                  ┆ str                               ┆ f64   ┆ str        │\n",
       "╞══════════════════════╪═══════════════════════════════════╪═══════╪════════════╡\n",
       "│ p21515_5954223621515 ┆ Red_blood_cell_distribution_widt… ┆ 13.1  ┆ 2021-11-08 │\n",
       "│ p21515_5954235321515 ┆ Red_blood_cell_distribution_widt… ┆ 17.3  ┆ 2021-11-22 │\n",
       "│ p21515_5954236621515 ┆ Red_blood_cell_distribution_widt… ┆ 12.5  ┆ 2008-07-11 │\n",
       "│ p21515_5954236621515 ┆ Red_blood_cell_distribution_widt… ┆ 12.9  ┆ 2008-12-29 │\n",
       "│ p21515_5954236621515 ┆ Red_blood_cell_distribution_widt… ┆ 12.9  ┆ 2009-06-26 │\n",
       "└──────────────────────┴───────────────────────────────────┴───────┴────────────┘"
      ]
     },
     "metadata": {},
     "output_type": "display_data"
    },
    {
     "name": "stdout",
     "output_type": "stream",
     "text": [
      "lazy_measurement_Serum_25_Hydroxy_vitamin_D3_level_88\n"
     ]
    },
    {
     "data": {
      "text/html": [
       "<div><style>\n",
       ".dataframe > thead > tr > th,\n",
       ".dataframe > tbody > tr > td {\n",
       "  text-align: right;\n",
       "}\n",
       "</style>\n",
       "<small>shape: (5, 4)</small><table border=\"1\" class=\"dataframe\"><thead><tr><th>PRACTICE_PATIENT_ID</th><th>EVENT</th><th>VALUE</th><th>DATE</th></tr><tr><td>str</td><td>str</td><td>f64</td><td>str</td></tr></thead><tbody><tr><td>&quot;p21515_5954314…</td><td>&quot;Serum_25_Hydro…</td><td>20.2</td><td>&quot;2013-06-06&quot;</td></tr><tr><td>&quot;p21515_5954643…</td><td>&quot;Serum_25_Hydro…</td><td>96.1</td><td>&quot;2013-08-29&quot;</td></tr><tr><td>&quot;p21515_5954717…</td><td>&quot;Serum_25_Hydro…</td><td>13.6</td><td>&quot;2014-03-11&quot;</td></tr><tr><td>&quot;p21515_5954737…</td><td>&quot;Serum_25_Hydro…</td><td>55.4</td><td>&quot;2012-06-20&quot;</td></tr><tr><td>&quot;p21515_5954773…</td><td>&quot;Serum_25_Hydro…</td><td>88.9</td><td>&quot;2012-08-08&quot;</td></tr></tbody></table></div>"
      ],
      "text/plain": [
       "shape: (5, 4)\n",
       "┌──────────────────────┬───────────────────────────────────┬───────┬────────────┐\n",
       "│ PRACTICE_PATIENT_ID  ┆ EVENT                             ┆ VALUE ┆ DATE       │\n",
       "│ ---                  ┆ ---                               ┆ ---   ┆ ---        │\n",
       "│ str                  ┆ str                               ┆ f64   ┆ str        │\n",
       "╞══════════════════════╪═══════════════════════════════════╪═══════╪════════════╡\n",
       "│ p21515_5954314621515 ┆ Serum_25_Hydroxy_vitamin_D3_leve… ┆ 20.2  ┆ 2013-06-06 │\n",
       "│ p21515_5954643121515 ┆ Serum_25_Hydroxy_vitamin_D3_leve… ┆ 96.1  ┆ 2013-08-29 │\n",
       "│ p21515_5954717221515 ┆ Serum_25_Hydroxy_vitamin_D3_leve… ┆ 13.6  ┆ 2014-03-11 │\n",
       "│ p21515_5954737121515 ┆ Serum_25_Hydroxy_vitamin_D3_leve… ┆ 55.4  ┆ 2012-06-20 │\n",
       "│ p21515_5954773321515 ┆ Serum_25_Hydroxy_vitamin_D3_leve… ┆ 88.9  ┆ 2012-08-08 │\n",
       "└──────────────────────┴───────────────────────────────────┴───────┴────────────┘"
      ]
     },
     "metadata": {},
     "output_type": "display_data"
    },
    {
     "name": "stdout",
     "output_type": "stream",
     "text": [
      "lazy_measurement_Serum_C_reactive_protein_level_59\n"
     ]
    },
    {
     "data": {
      "text/html": [
       "<div><style>\n",
       ".dataframe > thead > tr > th,\n",
       ".dataframe > tbody > tr > td {\n",
       "  text-align: right;\n",
       "}\n",
       "</style>\n",
       "<small>shape: (5, 4)</small><table border=\"1\" class=\"dataframe\"><thead><tr><th>PRACTICE_PATIENT_ID</th><th>EVENT</th><th>VALUE</th><th>DATE</th></tr><tr><td>str</td><td>str</td><td>f64</td><td>str</td></tr></thead><tbody><tr><td>&quot;p21515_5954188…</td><td>&quot;Serum_C_reacti…</td><td>null</td><td>&quot;2020-06-02&quot;</td></tr><tr><td>&quot;p21515_5954235…</td><td>&quot;Serum_C_reacti…</td><td>17.0</td><td>&quot;2021-11-22&quot;</td></tr><tr><td>&quot;p21515_5954236…</td><td>&quot;Serum_C_reacti…</td><td>18.0</td><td>&quot;2008-12-29&quot;</td></tr><tr><td>&quot;p21515_5954236…</td><td>&quot;Serum_C_reacti…</td><td>9.0</td><td>&quot;2010-12-10&quot;</td></tr><tr><td>&quot;p21515_5954236…</td><td>&quot;Serum_C_reacti…</td><td>2.0</td><td>&quot;2013-06-14&quot;</td></tr></tbody></table></div>"
      ],
      "text/plain": [
       "shape: (5, 4)\n",
       "┌──────────────────────┬───────────────────────────────────┬───────┬────────────┐\n",
       "│ PRACTICE_PATIENT_ID  ┆ EVENT                             ┆ VALUE ┆ DATE       │\n",
       "│ ---                  ┆ ---                               ┆ ---   ┆ ---        │\n",
       "│ str                  ┆ str                               ┆ f64   ┆ str        │\n",
       "╞══════════════════════╪═══════════════════════════════════╪═══════╪════════════╡\n",
       "│ p21515_5954188221515 ┆ Serum_C_reactive_protein_level_5… ┆ null  ┆ 2020-06-02 │\n",
       "│ p21515_5954235321515 ┆ Serum_C_reactive_protein_level_5… ┆ 17.0  ┆ 2021-11-22 │\n",
       "│ p21515_5954236621515 ┆ Serum_C_reactive_protein_level_5… ┆ 18.0  ┆ 2008-12-29 │\n",
       "│ p21515_5954236621515 ┆ Serum_C_reactive_protein_level_5… ┆ 9.0   ┆ 2010-12-10 │\n",
       "│ p21515_5954236621515 ┆ Serum_C_reactive_protein_level_5… ┆ 2.0   ┆ 2013-06-14 │\n",
       "└──────────────────────┴───────────────────────────────────┴───────┴────────────┘"
      ]
     },
     "metadata": {},
     "output_type": "display_data"
    },
    {
     "name": "stdout",
     "output_type": "stream",
     "text": [
      "lazy_measurement_Serum_HDL_cholesterol_level_100\n"
     ]
    },
    {
     "data": {
      "text/html": [
       "<div><style>\n",
       ".dataframe > thead > tr > th,\n",
       ".dataframe > tbody > tr > td {\n",
       "  text-align: right;\n",
       "}\n",
       "</style>\n",
       "<small>shape: (5, 4)</small><table border=\"1\" class=\"dataframe\"><thead><tr><th>PRACTICE_PATIENT_ID</th><th>EVENT</th><th>VALUE</th><th>DATE</th></tr><tr><td>str</td><td>str</td><td>f64</td><td>str</td></tr></thead><tbody><tr><td>&quot;p21515_1099623…</td><td>&quot;Serum_HDL_chol…</td><td>1.0</td><td>&quot;2015-01-14&quot;</td></tr><tr><td>&quot;p21515_5954187…</td><td>&quot;Serum_HDL_chol…</td><td>1.3</td><td>&quot;2011-07-15&quot;</td></tr><tr><td>&quot;p21515_5954187…</td><td>&quot;Serum_HDL_chol…</td><td>1.3</td><td>&quot;2018-09-24&quot;</td></tr><tr><td>&quot;p21515_5954187…</td><td>&quot;Serum_HDL_chol…</td><td>1.1</td><td>&quot;2019-03-15&quot;</td></tr><tr><td>&quot;p21515_5954188…</td><td>&quot;Serum_HDL_chol…</td><td>0.9</td><td>&quot;2017-12-12&quot;</td></tr></tbody></table></div>"
      ],
      "text/plain": [
       "shape: (5, 4)\n",
       "┌───────────────────────┬─────────────────────────────────┬───────┬────────────┐\n",
       "│ PRACTICE_PATIENT_ID   ┆ EVENT                           ┆ VALUE ┆ DATE       │\n",
       "│ ---                   ┆ ---                             ┆ ---   ┆ ---        │\n",
       "│ str                   ┆ str                             ┆ f64   ┆ str        │\n",
       "╞═══════════════════════╪═════════════════════════════════╪═══════╪════════════╡\n",
       "│ p21515_10996238121515 ┆ Serum_HDL_cholesterol_level_100 ┆ 1.0   ┆ 2015-01-14 │\n",
       "│ p21515_5954187521515  ┆ Serum_HDL_cholesterol_level_100 ┆ 1.3   ┆ 2011-07-15 │\n",
       "│ p21515_5954187621515  ┆ Serum_HDL_cholesterol_level_100 ┆ 1.3   ┆ 2018-09-24 │\n",
       "│ p21515_5954187621515  ┆ Serum_HDL_cholesterol_level_100 ┆ 1.1   ┆ 2019-03-15 │\n",
       "│ p21515_5954188221515  ┆ Serum_HDL_cholesterol_level_100 ┆ 0.9   ┆ 2017-12-12 │\n",
       "└───────────────────────┴─────────────────────────────────┴───────┴────────────┘"
      ]
     },
     "metadata": {},
     "output_type": "display_data"
    },
    {
     "name": "stdout",
     "output_type": "stream",
     "text": [
      "lazy_measurement_Serum_LDL_cholesterol_level_102\n"
     ]
    },
    {
     "data": {
      "text/html": [
       "<div><style>\n",
       ".dataframe > thead > tr > th,\n",
       ".dataframe > tbody > tr > td {\n",
       "  text-align: right;\n",
       "}\n",
       "</style>\n",
       "<small>shape: (5, 4)</small><table border=\"1\" class=\"dataframe\"><thead><tr><th>PRACTICE_PATIENT_ID</th><th>EVENT</th><th>VALUE</th><th>DATE</th></tr><tr><td>str</td><td>str</td><td>f64</td><td>str</td></tr></thead><tbody><tr><td>&quot;p21515_1099623…</td><td>&quot;Serum_LDL_chol…</td><td>3.5</td><td>&quot;2015-01-14&quot;</td></tr><tr><td>&quot;p21515_5954187…</td><td>&quot;Serum_LDL_chol…</td><td>null</td><td>&quot;2011-07-15&quot;</td></tr><tr><td>&quot;p21515_5954187…</td><td>&quot;Serum_LDL_chol…</td><td>2.5</td><td>&quot;2018-09-24&quot;</td></tr><tr><td>&quot;p21515_5954189…</td><td>&quot;Serum_LDL_chol…</td><td>2.7</td><td>&quot;2009-04-15&quot;</td></tr><tr><td>&quot;p21515_5954189…</td><td>&quot;Serum_LDL_chol…</td><td>1.2</td><td>&quot;2009-08-17&quot;</td></tr></tbody></table></div>"
      ],
      "text/plain": [
       "shape: (5, 4)\n",
       "┌───────────────────────┬─────────────────────────────────┬───────┬────────────┐\n",
       "│ PRACTICE_PATIENT_ID   ┆ EVENT                           ┆ VALUE ┆ DATE       │\n",
       "│ ---                   ┆ ---                             ┆ ---   ┆ ---        │\n",
       "│ str                   ┆ str                             ┆ f64   ┆ str        │\n",
       "╞═══════════════════════╪═════════════════════════════════╪═══════╪════════════╡\n",
       "│ p21515_10996238121515 ┆ Serum_LDL_cholesterol_level_102 ┆ 3.5   ┆ 2015-01-14 │\n",
       "│ p21515_5954187521515  ┆ Serum_LDL_cholesterol_level_102 ┆ null  ┆ 2011-07-15 │\n",
       "│ p21515_5954187621515  ┆ Serum_LDL_cholesterol_level_102 ┆ 2.5   ┆ 2018-09-24 │\n",
       "│ p21515_5954189921515  ┆ Serum_LDL_cholesterol_level_102 ┆ 2.7   ┆ 2009-04-15 │\n",
       "│ p21515_5954189921515  ┆ Serum_LDL_cholesterol_level_102 ┆ 1.2   ┆ 2009-08-17 │\n",
       "└───────────────────────┴─────────────────────────────────┴───────┴────────────┘"
      ]
     },
     "metadata": {},
     "output_type": "display_data"
    },
    {
     "name": "stdout",
     "output_type": "stream",
     "text": [
      "lazy_measurement_Serum_N_terminal_pro_B_type_natriuretic_peptide_conc_68\n"
     ]
    },
    {
     "data": {
      "text/html": [
       "<div><style>\n",
       ".dataframe > thead > tr > th,\n",
       ".dataframe > tbody > tr > td {\n",
       "  text-align: right;\n",
       "}\n",
       "</style>\n",
       "<small>shape: (5, 4)</small><table border=\"1\" class=\"dataframe\"><thead><tr><th>PRACTICE_PATIENT_ID</th><th>EVENT</th><th>VALUE</th><th>DATE</th></tr><tr><td>str</td><td>str</td><td>f64</td><td>str</td></tr></thead><tbody><tr><td>&quot;p21515_5954236…</td><td>&quot;Serum_N_termin…</td><td>50.0</td><td>&quot;2018-01-26&quot;</td></tr><tr><td>&quot;p21515_5954309…</td><td>&quot;Serum_N_termin…</td><td>266.0</td><td>&quot;2017-06-19&quot;</td></tr><tr><td>&quot;p21515_5954314…</td><td>&quot;Serum_N_termin…</td><td>2968.0</td><td>&quot;2015-12-08&quot;</td></tr><tr><td>&quot;p21515_5954327…</td><td>&quot;Serum_N_termin…</td><td>260.0</td><td>&quot;2015-06-08&quot;</td></tr><tr><td>&quot;p21515_5954353…</td><td>&quot;Serum_N_termin…</td><td>296.0</td><td>&quot;2015-12-10&quot;</td></tr></tbody></table></div>"
      ],
      "text/plain": [
       "shape: (5, 4)\n",
       "┌──────────────────────┬───────────────────────────────────┬────────┬────────────┐\n",
       "│ PRACTICE_PATIENT_ID  ┆ EVENT                             ┆ VALUE  ┆ DATE       │\n",
       "│ ---                  ┆ ---                               ┆ ---    ┆ ---        │\n",
       "│ str                  ┆ str                               ┆ f64    ┆ str        │\n",
       "╞══════════════════════╪═══════════════════════════════════╪════════╪════════════╡\n",
       "│ p21515_5954236321515 ┆ Serum_N_terminal_pro_B_type_natr… ┆ 50.0   ┆ 2018-01-26 │\n",
       "│ p21515_5954309821515 ┆ Serum_N_terminal_pro_B_type_natr… ┆ 266.0  ┆ 2017-06-19 │\n",
       "│ p21515_5954314621515 ┆ Serum_N_terminal_pro_B_type_natr… ┆ 2968.0 ┆ 2015-12-08 │\n",
       "│ p21515_5954327421515 ┆ Serum_N_terminal_pro_B_type_natr… ┆ 260.0  ┆ 2015-06-08 │\n",
       "│ p21515_5954353221515 ┆ Serum_N_terminal_pro_B_type_natr… ┆ 296.0  ┆ 2015-12-10 │\n",
       "└──────────────────────┴───────────────────────────────────┴────────┴────────────┘"
      ]
     },
     "metadata": {},
     "output_type": "display_data"
    },
    {
     "name": "stdout",
     "output_type": "stream",
     "text": [
      "lazy_measurement_Serum_T4_level_78\n"
     ]
    },
    {
     "data": {
      "text/html": [
       "<div><style>\n",
       ".dataframe > thead > tr > th,\n",
       ".dataframe > tbody > tr > td {\n",
       "  text-align: right;\n",
       "}\n",
       "</style>\n",
       "<small>shape: (5, 4)</small><table border=\"1\" class=\"dataframe\"><thead><tr><th>PRACTICE_PATIENT_ID</th><th>EVENT</th><th>VALUE</th><th>DATE</th></tr><tr><td>str</td><td>str</td><td>f64</td><td>str</td></tr></thead><tbody><tr><td>&quot;p21515_5954261…</td><td>&quot;Serum_T4_level…</td><td>14.2</td><td>&quot;2020-02-24&quot;</td></tr><tr><td>&quot;p21515_5954292…</td><td>&quot;Serum_T4_level…</td><td>73.0</td><td>&quot;2004-10-06&quot;</td></tr><tr><td>&quot;p21515_5954331…</td><td>&quot;Serum_T4_level…</td><td>null</td><td>&quot;2004-12-08&quot;</td></tr><tr><td>&quot;p21515_5954331…</td><td>&quot;Serum_T4_level…</td><td>25.5</td><td>&quot;2005-10-06&quot;</td></tr><tr><td>&quot;p21515_5954331…</td><td>&quot;Serum_T4_level…</td><td>26.1</td><td>&quot;2006-10-05&quot;</td></tr></tbody></table></div>"
      ],
      "text/plain": [
       "shape: (5, 4)\n",
       "┌──────────────────────┬───────────────────┬───────┬────────────┐\n",
       "│ PRACTICE_PATIENT_ID  ┆ EVENT             ┆ VALUE ┆ DATE       │\n",
       "│ ---                  ┆ ---               ┆ ---   ┆ ---        │\n",
       "│ str                  ┆ str               ┆ f64   ┆ str        │\n",
       "╞══════════════════════╪═══════════════════╪═══════╪════════════╡\n",
       "│ p21515_5954261421515 ┆ Serum_T4_level_78 ┆ 14.2  ┆ 2020-02-24 │\n",
       "│ p21515_5954292221515 ┆ Serum_T4_level_78 ┆ 73.0  ┆ 2004-10-06 │\n",
       "│ p21515_5954331621515 ┆ Serum_T4_level_78 ┆ null  ┆ 2004-12-08 │\n",
       "│ p21515_5954331621515 ┆ Serum_T4_level_78 ┆ 25.5  ┆ 2005-10-06 │\n",
       "│ p21515_5954331621515 ┆ Serum_T4_level_78 ┆ 26.1  ┆ 2006-10-05 │\n",
       "└──────────────────────┴───────────────────┴───────┴────────────┘"
      ]
     },
     "metadata": {},
     "output_type": "display_data"
    },
    {
     "name": "stdout",
     "output_type": "stream",
     "text": [
      "lazy_measurement_Serum_TSH_level_71\n"
     ]
    },
    {
     "data": {
      "text/html": [
       "<div><style>\n",
       ".dataframe > thead > tr > th,\n",
       ".dataframe > tbody > tr > td {\n",
       "  text-align: right;\n",
       "}\n",
       "</style>\n",
       "<small>shape: (5, 4)</small><table border=\"1\" class=\"dataframe\"><thead><tr><th>PRACTICE_PATIENT_ID</th><th>EVENT</th><th>VALUE</th><th>DATE</th></tr><tr><td>str</td><td>str</td><td>f64</td><td>str</td></tr></thead><tbody><tr><td>&quot;p21515_1099623…</td><td>&quot;Serum_TSH_leve…</td><td>3.13</td><td>&quot;2015-01-14&quot;</td></tr><tr><td>&quot;p21515_1099623…</td><td>&quot;Serum_TSH_leve…</td><td>1.25</td><td>&quot;2018-08-03&quot;</td></tr><tr><td>&quot;p21515_5954187…</td><td>&quot;Serum_TSH_leve…</td><td>0.98</td><td>&quot;2019-03-15&quot;</td></tr><tr><td>&quot;p21515_5954188…</td><td>&quot;Serum_TSH_leve…</td><td>2.91</td><td>&quot;2011-01-11&quot;</td></tr><tr><td>&quot;p21515_5954188…</td><td>&quot;Serum_TSH_leve…</td><td>2.71</td><td>&quot;2012-08-08&quot;</td></tr></tbody></table></div>"
      ],
      "text/plain": [
       "shape: (5, 4)\n",
       "┌───────────────────────┬────────────────────┬───────┬────────────┐\n",
       "│ PRACTICE_PATIENT_ID   ┆ EVENT              ┆ VALUE ┆ DATE       │\n",
       "│ ---                   ┆ ---                ┆ ---   ┆ ---        │\n",
       "│ str                   ┆ str                ┆ f64   ┆ str        │\n",
       "╞═══════════════════════╪════════════════════╪═══════╪════════════╡\n",
       "│ p21515_10996238121515 ┆ Serum_TSH_level_71 ┆ 3.13  ┆ 2015-01-14 │\n",
       "│ p21515_10996238121515 ┆ Serum_TSH_level_71 ┆ 1.25  ┆ 2018-08-03 │\n",
       "│ p21515_5954187621515  ┆ Serum_TSH_level_71 ┆ 0.98  ┆ 2019-03-15 │\n",
       "│ p21515_5954188221515  ┆ Serum_TSH_level_71 ┆ 2.91  ┆ 2011-01-11 │\n",
       "│ p21515_5954188221515  ┆ Serum_TSH_level_71 ┆ 2.71  ┆ 2012-08-08 │\n",
       "└───────────────────────┴────────────────────┴───────┴────────────┘"
      ]
     },
     "metadata": {},
     "output_type": "display_data"
    },
    {
     "name": "stdout",
     "output_type": "stream",
     "text": [
      "lazy_measurement_Serum_alanine_aminotransferase_level_45\n"
     ]
    },
    {
     "data": {
      "text/html": [
       "<div><style>\n",
       ".dataframe > thead > tr > th,\n",
       ".dataframe > tbody > tr > td {\n",
       "  text-align: right;\n",
       "}\n",
       "</style>\n",
       "<small>shape: (5, 4)</small><table border=\"1\" class=\"dataframe\"><thead><tr><th>PRACTICE_PATIENT_ID</th><th>EVENT</th><th>VALUE</th><th>DATE</th></tr><tr><td>str</td><td>str</td><td>f64</td><td>str</td></tr></thead><tbody><tr><td>&quot;p21515_1099623…</td><td>&quot;Serum_alanine_…</td><td>106.0</td><td>&quot;2013-06-06&quot;</td></tr><tr><td>&quot;p21515_1099623…</td><td>&quot;Serum_alanine_…</td><td>123.0</td><td>&quot;2015-01-14&quot;</td></tr><tr><td>&quot;p21515_1099623…</td><td>&quot;Serum_alanine_…</td><td>38.0</td><td>&quot;2015-01-27&quot;</td></tr><tr><td>&quot;p21515_1099623…</td><td>&quot;Serum_alanine_…</td><td>29.0</td><td>&quot;2015-11-03&quot;</td></tr><tr><td>&quot;p21515_1099623…</td><td>&quot;Serum_alanine_…</td><td>36.0</td><td>&quot;2016-07-22&quot;</td></tr></tbody></table></div>"
      ],
      "text/plain": [
       "shape: (5, 4)\n",
       "┌───────────────────────┬───────────────────────────────────┬───────┬────────────┐\n",
       "│ PRACTICE_PATIENT_ID   ┆ EVENT                             ┆ VALUE ┆ DATE       │\n",
       "│ ---                   ┆ ---                               ┆ ---   ┆ ---        │\n",
       "│ str                   ┆ str                               ┆ f64   ┆ str        │\n",
       "╞═══════════════════════╪═══════════════════════════════════╪═══════╪════════════╡\n",
       "│ p21515_10996238121515 ┆ Serum_alanine_aminotransferase_l… ┆ 106.0 ┆ 2013-06-06 │\n",
       "│ p21515_10996238121515 ┆ Serum_alanine_aminotransferase_l… ┆ 123.0 ┆ 2015-01-14 │\n",
       "│ p21515_10996238121515 ┆ Serum_alanine_aminotransferase_l… ┆ 38.0  ┆ 2015-01-27 │\n",
       "│ p21515_10996238121515 ┆ Serum_alanine_aminotransferase_l… ┆ 29.0  ┆ 2015-11-03 │\n",
       "│ p21515_10996238121515 ┆ Serum_alanine_aminotransferase_l… ┆ 36.0  ┆ 2016-07-22 │\n",
       "└───────────────────────┴───────────────────────────────────┴───────┴────────────┘"
      ]
     },
     "metadata": {},
     "output_type": "display_data"
    },
    {
     "name": "stdout",
     "output_type": "stream",
     "text": [
      "lazy_measurement_Serum_albumin_51\n"
     ]
    },
    {
     "data": {
      "text/html": [
       "<div><style>\n",
       ".dataframe > thead > tr > th,\n",
       ".dataframe > tbody > tr > td {\n",
       "  text-align: right;\n",
       "}\n",
       "</style>\n",
       "<small>shape: (5, 4)</small><table border=\"1\" class=\"dataframe\"><thead><tr><th>PRACTICE_PATIENT_ID</th><th>EVENT</th><th>VALUE</th><th>DATE</th></tr><tr><td>str</td><td>str</td><td>f64</td><td>str</td></tr></thead><tbody><tr><td>&quot;p21515_1099623…</td><td>&quot;Serum_albumin_…</td><td>50.0</td><td>&quot;2006-08-25&quot;</td></tr><tr><td>&quot;p21515_1099623…</td><td>&quot;Serum_albumin_…</td><td>41.0</td><td>&quot;2013-06-06&quot;</td></tr><tr><td>&quot;p21515_1099623…</td><td>&quot;Serum_albumin_…</td><td>46.0</td><td>&quot;2015-01-14&quot;</td></tr><tr><td>&quot;p21515_1099623…</td><td>&quot;Serum_albumin_…</td><td>46.0</td><td>&quot;2015-01-27&quot;</td></tr><tr><td>&quot;p21515_1099623…</td><td>&quot;Serum_albumin_…</td><td>44.0</td><td>&quot;2015-11-03&quot;</td></tr></tbody></table></div>"
      ],
      "text/plain": [
       "shape: (5, 4)\n",
       "┌───────────────────────┬──────────────────┬───────┬────────────┐\n",
       "│ PRACTICE_PATIENT_ID   ┆ EVENT            ┆ VALUE ┆ DATE       │\n",
       "│ ---                   ┆ ---              ┆ ---   ┆ ---        │\n",
       "│ str                   ┆ str              ┆ f64   ┆ str        │\n",
       "╞═══════════════════════╪══════════════════╪═══════╪════════════╡\n",
       "│ p21515_10996238121515 ┆ Serum_albumin_51 ┆ 50.0  ┆ 2006-08-25 │\n",
       "│ p21515_10996238121515 ┆ Serum_albumin_51 ┆ 41.0  ┆ 2013-06-06 │\n",
       "│ p21515_10996238121515 ┆ Serum_albumin_51 ┆ 46.0  ┆ 2015-01-14 │\n",
       "│ p21515_10996238121515 ┆ Serum_albumin_51 ┆ 46.0  ┆ 2015-01-27 │\n",
       "│ p21515_10996238121515 ┆ Serum_albumin_51 ┆ 44.0  ┆ 2015-11-03 │\n",
       "└───────────────────────┴──────────────────┴───────┴────────────┘"
      ]
     },
     "metadata": {},
     "output_type": "display_data"
    },
    {
     "name": "stdout",
     "output_type": "stream",
     "text": [
      "lazy_measurement_Serum_alkaline_phosphatase_50\n"
     ]
    },
    {
     "data": {
      "text/html": [
       "<div><style>\n",
       ".dataframe > thead > tr > th,\n",
       ".dataframe > tbody > tr > td {\n",
       "  text-align: right;\n",
       "}\n",
       "</style>\n",
       "<small>shape: (5, 4)</small><table border=\"1\" class=\"dataframe\"><thead><tr><th>PRACTICE_PATIENT_ID</th><th>EVENT</th><th>VALUE</th><th>DATE</th></tr><tr><td>str</td><td>str</td><td>f64</td><td>str</td></tr></thead><tbody><tr><td>&quot;p21515_1099623…</td><td>&quot;Serum_alkaline…</td><td>78.0</td><td>&quot;2006-08-25&quot;</td></tr><tr><td>&quot;p21515_1099623…</td><td>&quot;Serum_alkaline…</td><td>64.0</td><td>&quot;2013-06-06&quot;</td></tr><tr><td>&quot;p21515_1099623…</td><td>&quot;Serum_alkaline…</td><td>90.0</td><td>&quot;2015-01-14&quot;</td></tr><tr><td>&quot;p21515_1099623…</td><td>&quot;Serum_alkaline…</td><td>107.0</td><td>&quot;2015-01-27&quot;</td></tr><tr><td>&quot;p21515_1099623…</td><td>&quot;Serum_alkaline…</td><td>82.0</td><td>&quot;2015-11-03&quot;</td></tr></tbody></table></div>"
      ],
      "text/plain": [
       "shape: (5, 4)\n",
       "┌───────────────────────┬───────────────────────────────┬───────┬────────────┐\n",
       "│ PRACTICE_PATIENT_ID   ┆ EVENT                         ┆ VALUE ┆ DATE       │\n",
       "│ ---                   ┆ ---                           ┆ ---   ┆ ---        │\n",
       "│ str                   ┆ str                           ┆ f64   ┆ str        │\n",
       "╞═══════════════════════╪═══════════════════════════════╪═══════╪════════════╡\n",
       "│ p21515_10996238121515 ┆ Serum_alkaline_phosphatase_50 ┆ 78.0  ┆ 2006-08-25 │\n",
       "│ p21515_10996238121515 ┆ Serum_alkaline_phosphatase_50 ┆ 64.0  ┆ 2013-06-06 │\n",
       "│ p21515_10996238121515 ┆ Serum_alkaline_phosphatase_50 ┆ 90.0  ┆ 2015-01-14 │\n",
       "│ p21515_10996238121515 ┆ Serum_alkaline_phosphatase_50 ┆ 107.0 ┆ 2015-01-27 │\n",
       "│ p21515_10996238121515 ┆ Serum_alkaline_phosphatase_50 ┆ 82.0  ┆ 2015-11-03 │\n",
       "└───────────────────────┴───────────────────────────────┴───────┴────────────┘"
      ]
     },
     "metadata": {},
     "output_type": "display_data"
    },
    {
     "name": "stdout",
     "output_type": "stream",
     "text": [
      "lazy_measurement_Serum_bilirubin_level_53\n"
     ]
    },
    {
     "data": {
      "text/html": [
       "<div><style>\n",
       ".dataframe > thead > tr > th,\n",
       ".dataframe > tbody > tr > td {\n",
       "  text-align: right;\n",
       "}\n",
       "</style>\n",
       "<small>shape: (5, 4)</small><table border=\"1\" class=\"dataframe\"><thead><tr><th>PRACTICE_PATIENT_ID</th><th>EVENT</th><th>VALUE</th><th>DATE</th></tr><tr><td>str</td><td>str</td><td>f64</td><td>str</td></tr></thead><tbody><tr><td>&quot;p21515_5954236…</td><td>&quot;Serum_bilirubi…</td><td>9.0</td><td>&quot;2017-08-23&quot;</td></tr><tr><td>&quot;p21515_5954236…</td><td>&quot;Serum_bilirubi…</td><td>7.0</td><td>&quot;2017-12-29&quot;</td></tr><tr><td>&quot;p21515_5954236…</td><td>&quot;Serum_bilirubi…</td><td>8.0</td><td>&quot;2018-03-09&quot;</td></tr><tr><td>&quot;p21515_5954265…</td><td>&quot;Serum_bilirubi…</td><td>4.0</td><td>&quot;1997-12-24&quot;</td></tr><tr><td>&quot;p21515_5954265…</td><td>&quot;Serum_bilirubi…</td><td>11.0</td><td>&quot;1999-02-23&quot;</td></tr></tbody></table></div>"
      ],
      "text/plain": [
       "shape: (5, 4)\n",
       "┌──────────────────────┬──────────────────────────┬───────┬────────────┐\n",
       "│ PRACTICE_PATIENT_ID  ┆ EVENT                    ┆ VALUE ┆ DATE       │\n",
       "│ ---                  ┆ ---                      ┆ ---   ┆ ---        │\n",
       "│ str                  ┆ str                      ┆ f64   ┆ str        │\n",
       "╞══════════════════════╪══════════════════════════╪═══════╪════════════╡\n",
       "│ p21515_5954236621515 ┆ Serum_bilirubin_level_53 ┆ 9.0   ┆ 2017-08-23 │\n",
       "│ p21515_5954236621515 ┆ Serum_bilirubin_level_53 ┆ 7.0   ┆ 2017-12-29 │\n",
       "│ p21515_5954236621515 ┆ Serum_bilirubin_level_53 ┆ 8.0   ┆ 2018-03-09 │\n",
       "│ p21515_5954265621515 ┆ Serum_bilirubin_level_53 ┆ 4.0   ┆ 1997-12-24 │\n",
       "│ p21515_5954265621515 ┆ Serum_bilirubin_level_53 ┆ 11.0  ┆ 1999-02-23 │\n",
       "└──────────────────────┴──────────────────────────┴───────┴────────────┘"
      ]
     },
     "metadata": {},
     "output_type": "display_data"
    },
    {
     "name": "stdout",
     "output_type": "stream",
     "text": [
      "lazy_measurement_Serum_calcium_39\n"
     ]
    },
    {
     "data": {
      "text/html": [
       "<div><style>\n",
       ".dataframe > thead > tr > th,\n",
       ".dataframe > tbody > tr > td {\n",
       "  text-align: right;\n",
       "}\n",
       "</style>\n",
       "<small>shape: (5, 4)</small><table border=\"1\" class=\"dataframe\"><thead><tr><th>PRACTICE_PATIENT_ID</th><th>EVENT</th><th>VALUE</th><th>DATE</th></tr><tr><td>str</td><td>str</td><td>f64</td><td>str</td></tr></thead><tbody><tr><td>&quot;p21515_1099623…</td><td>&quot;Serum_calcium_…</td><td>2.48</td><td>&quot;2006-08-25&quot;</td></tr><tr><td>&quot;p21515_1099623…</td><td>&quot;Serum_calcium_…</td><td>null</td><td>&quot;2006-08-25&quot;</td></tr><tr><td>&quot;p21515_1099623…</td><td>&quot;Serum_calcium_…</td><td>2.44</td><td>&quot;2018-08-03&quot;</td></tr><tr><td>&quot;p21515_5954188…</td><td>&quot;Serum_calcium_…</td><td>2.29</td><td>&quot;2013-07-18&quot;</td></tr><tr><td>&quot;p21515_5954188…</td><td>&quot;Serum_calcium_…</td><td>2.33</td><td>&quot;2014-06-12&quot;</td></tr></tbody></table></div>"
      ],
      "text/plain": [
       "shape: (5, 4)\n",
       "┌───────────────────────┬──────────────────┬───────┬────────────┐\n",
       "│ PRACTICE_PATIENT_ID   ┆ EVENT            ┆ VALUE ┆ DATE       │\n",
       "│ ---                   ┆ ---              ┆ ---   ┆ ---        │\n",
       "│ str                   ┆ str              ┆ f64   ┆ str        │\n",
       "╞═══════════════════════╪══════════════════╪═══════╪════════════╡\n",
       "│ p21515_10996238121515 ┆ Serum_calcium_39 ┆ 2.48  ┆ 2006-08-25 │\n",
       "│ p21515_10996238121515 ┆ Serum_calcium_39 ┆ null  ┆ 2006-08-25 │\n",
       "│ p21515_10996238121515 ┆ Serum_calcium_39 ┆ 2.44  ┆ 2018-08-03 │\n",
       "│ p21515_5954188221515  ┆ Serum_calcium_39 ┆ 2.29  ┆ 2013-07-18 │\n",
       "│ p21515_5954188221515  ┆ Serum_calcium_39 ┆ 2.33  ┆ 2014-06-12 │\n",
       "└───────────────────────┴──────────────────┴───────┴────────────┘"
      ]
     },
     "metadata": {},
     "output_type": "display_data"
    },
    {
     "name": "stdout",
     "output_type": "stream",
     "text": [
      "lazy_measurement_Serum_cholesterol_97\n"
     ]
    },
    {
     "data": {
      "text/html": [
       "<div><style>\n",
       ".dataframe > thead > tr > th,\n",
       ".dataframe > tbody > tr > td {\n",
       "  text-align: right;\n",
       "}\n",
       "</style>\n",
       "<small>shape: (5, 4)</small><table border=\"1\" class=\"dataframe\"><thead><tr><th>PRACTICE_PATIENT_ID</th><th>EVENT</th><th>VALUE</th><th>DATE</th></tr><tr><td>str</td><td>str</td><td>f64</td><td>str</td></tr></thead><tbody><tr><td>&quot;p21515_1099623…</td><td>&quot;Serum_choleste…</td><td>5.3</td><td>&quot;2006-08-25&quot;</td></tr><tr><td>&quot;p21515_1099623…</td><td>&quot;Serum_choleste…</td><td>5.6</td><td>&quot;2015-01-14&quot;</td></tr><tr><td>&quot;p21515_5954187…</td><td>&quot;Serum_choleste…</td><td>4.1</td><td>&quot;2011-07-15&quot;</td></tr><tr><td>&quot;p21515_5954187…</td><td>&quot;Serum_choleste…</td><td>4.1</td><td>&quot;2018-09-24&quot;</td></tr><tr><td>&quot;p21515_5954187…</td><td>&quot;Serum_choleste…</td><td>4.2</td><td>&quot;2019-03-15&quot;</td></tr></tbody></table></div>"
      ],
      "text/plain": [
       "shape: (5, 4)\n",
       "┌───────────────────────┬──────────────────────┬───────┬────────────┐\n",
       "│ PRACTICE_PATIENT_ID   ┆ EVENT                ┆ VALUE ┆ DATE       │\n",
       "│ ---                   ┆ ---                  ┆ ---   ┆ ---        │\n",
       "│ str                   ┆ str                  ┆ f64   ┆ str        │\n",
       "╞═══════════════════════╪══════════════════════╪═══════╪════════════╡\n",
       "│ p21515_10996238121515 ┆ Serum_cholesterol_97 ┆ 5.3   ┆ 2006-08-25 │\n",
       "│ p21515_10996238121515 ┆ Serum_cholesterol_97 ┆ 5.6   ┆ 2015-01-14 │\n",
       "│ p21515_5954187521515  ┆ Serum_cholesterol_97 ┆ 4.1   ┆ 2011-07-15 │\n",
       "│ p21515_5954187621515  ┆ Serum_cholesterol_97 ┆ 4.1   ┆ 2018-09-24 │\n",
       "│ p21515_5954187621515  ┆ Serum_cholesterol_97 ┆ 4.2   ┆ 2019-03-15 │\n",
       "└───────────────────────┴──────────────────────┴───────┴────────────┘"
      ]
     },
     "metadata": {},
     "output_type": "display_data"
    },
    {
     "name": "stdout",
     "output_type": "stream",
     "text": [
      "lazy_measurement_Serum_cholesterol_HDL_ratio_94\n"
     ]
    },
    {
     "data": {
      "text/html": [
       "<div><style>\n",
       ".dataframe > thead > tr > th,\n",
       ".dataframe > tbody > tr > td {\n",
       "  text-align: right;\n",
       "}\n",
       "</style>\n",
       "<small>shape: (5, 4)</small><table border=\"1\" class=\"dataframe\"><thead><tr><th>PRACTICE_PATIENT_ID</th><th>EVENT</th><th>VALUE</th><th>DATE</th></tr><tr><td>str</td><td>str</td><td>f64</td><td>str</td></tr></thead><tbody><tr><td>&quot;p21515_1099623…</td><td>&quot;Serum_choleste…</td><td>5.6</td><td>&quot;2015-01-14&quot;</td></tr><tr><td>&quot;p21515_5954187…</td><td>&quot;Serum_choleste…</td><td>3.15</td><td>&quot;2018-09-24&quot;</td></tr><tr><td>&quot;p21515_5954187…</td><td>&quot;Serum_choleste…</td><td>3.82</td><td>&quot;2019-03-15&quot;</td></tr><tr><td>&quot;p21515_5954188…</td><td>&quot;Serum_choleste…</td><td>4.78</td><td>&quot;2017-12-12&quot;</td></tr><tr><td>&quot;p21515_5954189…</td><td>&quot;Serum_choleste…</td><td>1.87</td><td>&quot;2015-06-08&quot;</td></tr></tbody></table></div>"
      ],
      "text/plain": [
       "shape: (5, 4)\n",
       "┌───────────────────────┬────────────────────────────────┬───────┬────────────┐\n",
       "│ PRACTICE_PATIENT_ID   ┆ EVENT                          ┆ VALUE ┆ DATE       │\n",
       "│ ---                   ┆ ---                            ┆ ---   ┆ ---        │\n",
       "│ str                   ┆ str                            ┆ f64   ┆ str        │\n",
       "╞═══════════════════════╪════════════════════════════════╪═══════╪════════════╡\n",
       "│ p21515_10996238121515 ┆ Serum_cholesterol_HDL_ratio_94 ┆ 5.6   ┆ 2015-01-14 │\n",
       "│ p21515_5954187621515  ┆ Serum_cholesterol_HDL_ratio_94 ┆ 3.15  ┆ 2018-09-24 │\n",
       "│ p21515_5954187621515  ┆ Serum_cholesterol_HDL_ratio_94 ┆ 3.82  ┆ 2019-03-15 │\n",
       "│ p21515_5954188221515  ┆ Serum_cholesterol_HDL_ratio_94 ┆ 4.78  ┆ 2017-12-12 │\n",
       "│ p21515_5954189921515  ┆ Serum_cholesterol_HDL_ratio_94 ┆ 1.87  ┆ 2015-06-08 │\n",
       "└───────────────────────┴────────────────────────────────┴───────┴────────────┘"
      ]
     },
     "metadata": {},
     "output_type": "display_data"
    },
    {
     "name": "stdout",
     "output_type": "stream",
     "text": [
      "lazy_measurement_Serum_creatinine_31\n"
     ]
    },
    {
     "data": {
      "text/html": [
       "<div><style>\n",
       ".dataframe > thead > tr > th,\n",
       ".dataframe > tbody > tr > td {\n",
       "  text-align: right;\n",
       "}\n",
       "</style>\n",
       "<small>shape: (5, 4)</small><table border=\"1\" class=\"dataframe\"><thead><tr><th>PRACTICE_PATIENT_ID</th><th>EVENT</th><th>VALUE</th><th>DATE</th></tr><tr><td>str</td><td>str</td><td>f64</td><td>str</td></tr></thead><tbody><tr><td>&quot;p21515_1099623…</td><td>&quot;Serum_creatini…</td><td>116.0</td><td>&quot;2006-08-25&quot;</td></tr><tr><td>&quot;p21515_1099623…</td><td>&quot;Serum_creatini…</td><td>105.0</td><td>&quot;2013-06-06&quot;</td></tr><tr><td>&quot;p21515_1099623…</td><td>&quot;Serum_creatini…</td><td>108.0</td><td>&quot;2015-01-14&quot;</td></tr><tr><td>&quot;p21515_1099623…</td><td>&quot;Serum_creatini…</td><td>91.0</td><td>&quot;2015-11-03&quot;</td></tr><tr><td>&quot;p21515_1099623…</td><td>&quot;Serum_creatini…</td><td>97.0</td><td>&quot;2016-07-22&quot;</td></tr></tbody></table></div>"
      ],
      "text/plain": [
       "shape: (5, 4)\n",
       "┌───────────────────────┬─────────────────────┬───────┬────────────┐\n",
       "│ PRACTICE_PATIENT_ID   ┆ EVENT               ┆ VALUE ┆ DATE       │\n",
       "│ ---                   ┆ ---                 ┆ ---   ┆ ---        │\n",
       "│ str                   ┆ str                 ┆ f64   ┆ str        │\n",
       "╞═══════════════════════╪═════════════════════╪═══════╪════════════╡\n",
       "│ p21515_10996238121515 ┆ Serum_creatinine_31 ┆ 116.0 ┆ 2006-08-25 │\n",
       "│ p21515_10996238121515 ┆ Serum_creatinine_31 ┆ 105.0 ┆ 2013-06-06 │\n",
       "│ p21515_10996238121515 ┆ Serum_creatinine_31 ┆ 108.0 ┆ 2015-01-14 │\n",
       "│ p21515_10996238121515 ┆ Serum_creatinine_31 ┆ 91.0  ┆ 2015-11-03 │\n",
       "│ p21515_10996238121515 ┆ Serum_creatinine_31 ┆ 97.0  ┆ 2016-07-22 │\n",
       "└───────────────────────┴─────────────────────┴───────┴────────────┘"
      ]
     },
     "metadata": {},
     "output_type": "display_data"
    },
    {
     "name": "stdout",
     "output_type": "stream",
     "text": [
      "lazy_measurement_Serum_ferritin_63\n"
     ]
    },
    {
     "data": {
      "text/html": [
       "<div><style>\n",
       ".dataframe > thead > tr > th,\n",
       ".dataframe > tbody > tr > td {\n",
       "  text-align: right;\n",
       "}\n",
       "</style>\n",
       "<small>shape: (5, 4)</small><table border=\"1\" class=\"dataframe\"><thead><tr><th>PRACTICE_PATIENT_ID</th><th>EVENT</th><th>VALUE</th><th>DATE</th></tr><tr><td>str</td><td>str</td><td>f64</td><td>str</td></tr></thead><tbody><tr><td>&quot;p21515_1099623…</td><td>&quot;Serum_ferritin…</td><td>122.5</td><td>&quot;2015-01-27&quot;</td></tr><tr><td>&quot;p21515_5954187…</td><td>&quot;Serum_ferritin…</td><td>18.4</td><td>&quot;2018-09-24&quot;</td></tr><tr><td>&quot;p21515_5954187…</td><td>&quot;Serum_ferritin…</td><td>20.8</td><td>&quot;2019-03-15&quot;</td></tr><tr><td>&quot;p21515_5954187…</td><td>&quot;Serum_ferritin…</td><td>308.9</td><td>&quot;2021-09-03&quot;</td></tr><tr><td>&quot;p21515_5954188…</td><td>&quot;Serum_ferritin…</td><td>281.9</td><td>&quot;2014-06-12&quot;</td></tr></tbody></table></div>"
      ],
      "text/plain": [
       "shape: (5, 4)\n",
       "┌───────────────────────┬───────────────────┬───────┬────────────┐\n",
       "│ PRACTICE_PATIENT_ID   ┆ EVENT             ┆ VALUE ┆ DATE       │\n",
       "│ ---                   ┆ ---               ┆ ---   ┆ ---        │\n",
       "│ str                   ┆ str               ┆ f64   ┆ str        │\n",
       "╞═══════════════════════╪═══════════════════╪═══════╪════════════╡\n",
       "│ p21515_10996238121515 ┆ Serum_ferritin_63 ┆ 122.5 ┆ 2015-01-27 │\n",
       "│ p21515_5954187621515  ┆ Serum_ferritin_63 ┆ 18.4  ┆ 2018-09-24 │\n",
       "│ p21515_5954187621515  ┆ Serum_ferritin_63 ┆ 20.8  ┆ 2019-03-15 │\n",
       "│ p21515_5954187821515  ┆ Serum_ferritin_63 ┆ 308.9 ┆ 2021-09-03 │\n",
       "│ p21515_5954188221515  ┆ Serum_ferritin_63 ┆ 281.9 ┆ 2014-06-12 │\n",
       "└───────────────────────┴───────────────────┴───────┴────────────┘"
      ]
     },
     "metadata": {},
     "output_type": "display_data"
    },
    {
     "name": "stdout",
     "output_type": "stream",
     "text": [
      "lazy_measurement_Serum_folate_80\n"
     ]
    },
    {
     "data": {
      "text/html": [
       "<div><style>\n",
       ".dataframe > thead > tr > th,\n",
       ".dataframe > tbody > tr > td {\n",
       "  text-align: right;\n",
       "}\n",
       "</style>\n",
       "<small>shape: (5, 4)</small><table border=\"1\" class=\"dataframe\"><thead><tr><th>PRACTICE_PATIENT_ID</th><th>EVENT</th><th>VALUE</th><th>DATE</th></tr><tr><td>str</td><td>str</td><td>f64</td><td>str</td></tr></thead><tbody><tr><td>&quot;p21515_1099623…</td><td>&quot;Serum_folate_8…</td><td>6.5</td><td>&quot;2006-09-08&quot;</td></tr><tr><td>&quot;p21515_1099623…</td><td>&quot;Serum_folate_8…</td><td>6.1</td><td>&quot;2015-01-27&quot;</td></tr><tr><td>&quot;p21515_5954188…</td><td>&quot;Serum_folate_8…</td><td>1.3</td><td>&quot;2014-06-12&quot;</td></tr><tr><td>&quot;p21515_5954197…</td><td>&quot;Serum_folate_8…</td><td>7.2</td><td>&quot;2017-11-22&quot;</td></tr><tr><td>&quot;p21515_5954197…</td><td>&quot;Serum_folate_8…</td><td>5.1</td><td>&quot;2018-05-31&quot;</td></tr></tbody></table></div>"
      ],
      "text/plain": [
       "shape: (5, 4)\n",
       "┌───────────────────────┬─────────────────┬───────┬────────────┐\n",
       "│ PRACTICE_PATIENT_ID   ┆ EVENT           ┆ VALUE ┆ DATE       │\n",
       "│ ---                   ┆ ---             ┆ ---   ┆ ---        │\n",
       "│ str                   ┆ str             ┆ f64   ┆ str        │\n",
       "╞═══════════════════════╪═════════════════╪═══════╪════════════╡\n",
       "│ p21515_10996238121515 ┆ Serum_folate_80 ┆ 6.5   ┆ 2006-09-08 │\n",
       "│ p21515_10996238121515 ┆ Serum_folate_80 ┆ 6.1   ┆ 2015-01-27 │\n",
       "│ p21515_5954188221515  ┆ Serum_folate_80 ┆ 1.3   ┆ 2014-06-12 │\n",
       "│ p21515_5954197821515  ┆ Serum_folate_80 ┆ 7.2   ┆ 2017-11-22 │\n",
       "│ p21515_5954197821515  ┆ Serum_folate_80 ┆ 5.1   ┆ 2018-05-31 │\n",
       "└───────────────────────┴─────────────────┴───────┴────────────┘"
      ]
     },
     "metadata": {},
     "output_type": "display_data"
    },
    {
     "name": "stdout",
     "output_type": "stream",
     "text": [
      "lazy_measurement_Serum_free_T4_level_75\n"
     ]
    },
    {
     "data": {
      "text/html": [
       "<div><style>\n",
       ".dataframe > thead > tr > th,\n",
       ".dataframe > tbody > tr > td {\n",
       "  text-align: right;\n",
       "}\n",
       "</style>\n",
       "<small>shape: (5, 4)</small><table border=\"1\" class=\"dataframe\"><thead><tr><th>PRACTICE_PATIENT_ID</th><th>EVENT</th><th>VALUE</th><th>DATE</th></tr><tr><td>str</td><td>str</td><td>f64</td><td>str</td></tr></thead><tbody><tr><td>&quot;p21515_1099623…</td><td>&quot;Serum_free_T4_…</td><td>11.4</td><td>&quot;2015-01-14&quot;</td></tr><tr><td>&quot;p21515_1099623…</td><td>&quot;Serum_free_T4_…</td><td>11.2</td><td>&quot;2018-08-03&quot;</td></tr><tr><td>&quot;p21515_5954187…</td><td>&quot;Serum_free_T4_…</td><td>10.8</td><td>&quot;2019-03-15&quot;</td></tr><tr><td>&quot;p21515_5954188…</td><td>&quot;Serum_free_T4_…</td><td>10.7</td><td>&quot;2011-01-11&quot;</td></tr><tr><td>&quot;p21515_5954188…</td><td>&quot;Serum_free_T4_…</td><td>9.6</td><td>&quot;2012-08-08&quot;</td></tr></tbody></table></div>"
      ],
      "text/plain": [
       "shape: (5, 4)\n",
       "┌───────────────────────┬────────────────────────┬───────┬────────────┐\n",
       "│ PRACTICE_PATIENT_ID   ┆ EVENT                  ┆ VALUE ┆ DATE       │\n",
       "│ ---                   ┆ ---                    ┆ ---   ┆ ---        │\n",
       "│ str                   ┆ str                    ┆ f64   ┆ str        │\n",
       "╞═══════════════════════╪════════════════════════╪═══════╪════════════╡\n",
       "│ p21515_10996238121515 ┆ Serum_free_T4_level_75 ┆ 11.4  ┆ 2015-01-14 │\n",
       "│ p21515_10996238121515 ┆ Serum_free_T4_level_75 ┆ 11.2  ┆ 2018-08-03 │\n",
       "│ p21515_5954187621515  ┆ Serum_free_T4_level_75 ┆ 10.8  ┆ 2019-03-15 │\n",
       "│ p21515_5954188221515  ┆ Serum_free_T4_level_75 ┆ 10.7  ┆ 2011-01-11 │\n",
       "│ p21515_5954188221515  ┆ Serum_free_T4_level_75 ┆ 9.6   ┆ 2012-08-08 │\n",
       "└───────────────────────┴────────────────────────┴───────┴────────────┘"
      ]
     },
     "metadata": {},
     "output_type": "display_data"
    },
    {
     "name": "stdout",
     "output_type": "stream",
     "text": [
      "lazy_measurement_Serum_gamma_glutamyl_transferase_level_57\n"
     ]
    },
    {
     "data": {
      "text/html": [
       "<div><style>\n",
       ".dataframe > thead > tr > th,\n",
       ".dataframe > tbody > tr > td {\n",
       "  text-align: right;\n",
       "}\n",
       "</style>\n",
       "<small>shape: (5, 4)</small><table border=\"1\" class=\"dataframe\"><thead><tr><th>PRACTICE_PATIENT_ID</th><th>EVENT</th><th>VALUE</th><th>DATE</th></tr><tr><td>str</td><td>str</td><td>f64</td><td>str</td></tr></thead><tbody><tr><td>&quot;p21515_1099623…</td><td>&quot;Serum_gamma_gl…</td><td>16.0</td><td>&quot;2006-08-25&quot;</td></tr><tr><td>&quot;p21515_1099623…</td><td>&quot;Serum_gamma_gl…</td><td>27.0</td><td>&quot;2013-06-06&quot;</td></tr><tr><td>&quot;p21515_1099623…</td><td>&quot;Serum_gamma_gl…</td><td>44.0</td><td>&quot;2015-01-14&quot;</td></tr><tr><td>&quot;p21515_1099623…</td><td>&quot;Serum_gamma_gl…</td><td>35.0</td><td>&quot;2015-01-27&quot;</td></tr><tr><td>&quot;p21515_1099623…</td><td>&quot;Serum_gamma_gl…</td><td>27.0</td><td>&quot;2015-11-03&quot;</td></tr></tbody></table></div>"
      ],
      "text/plain": [
       "shape: (5, 4)\n",
       "┌───────────────────────┬───────────────────────────────────┬───────┬────────────┐\n",
       "│ PRACTICE_PATIENT_ID   ┆ EVENT                             ┆ VALUE ┆ DATE       │\n",
       "│ ---                   ┆ ---                               ┆ ---   ┆ ---        │\n",
       "│ str                   ┆ str                               ┆ f64   ┆ str        │\n",
       "╞═══════════════════════╪═══════════════════════════════════╪═══════╪════════════╡\n",
       "│ p21515_10996238121515 ┆ Serum_gamma_glutamyl_transferase… ┆ 16.0  ┆ 2006-08-25 │\n",
       "│ p21515_10996238121515 ┆ Serum_gamma_glutamyl_transferase… ┆ 27.0  ┆ 2013-06-06 │\n",
       "│ p21515_10996238121515 ┆ Serum_gamma_glutamyl_transferase… ┆ 44.0  ┆ 2015-01-14 │\n",
       "│ p21515_10996238121515 ┆ Serum_gamma_glutamyl_transferase… ┆ 35.0  ┆ 2015-01-27 │\n",
       "│ p21515_10996238121515 ┆ Serum_gamma_glutamyl_transferase… ┆ 27.0  ┆ 2015-11-03 │\n",
       "└───────────────────────┴───────────────────────────────────┴───────┴────────────┘"
      ]
     },
     "metadata": {},
     "output_type": "display_data"
    },
    {
     "name": "stdout",
     "output_type": "stream",
     "text": [
      "lazy_measurement_Serum_non_high_density_lipoprotein_cholesterol_level_107\n"
     ]
    },
    {
     "data": {
      "text/html": [
       "<div><style>\n",
       ".dataframe > thead > tr > th,\n",
       ".dataframe > tbody > tr > td {\n",
       "  text-align: right;\n",
       "}\n",
       "</style>\n",
       "<small>shape: (5, 4)</small><table border=\"1\" class=\"dataframe\"><thead><tr><th>PRACTICE_PATIENT_ID</th><th>EVENT</th><th>VALUE</th><th>DATE</th></tr><tr><td>str</td><td>str</td><td>f64</td><td>str</td></tr></thead><tbody><tr><td>&quot;p21515_5954187…</td><td>&quot;Serum_non_high…</td><td>2.8</td><td>&quot;2018-09-24&quot;</td></tr><tr><td>&quot;p21515_5954187…</td><td>&quot;Serum_non_high…</td><td>3.1</td><td>&quot;2019-03-15&quot;</td></tr><tr><td>&quot;p21515_5954188…</td><td>&quot;Serum_non_high…</td><td>3.4</td><td>&quot;2017-12-12&quot;</td></tr><tr><td>&quot;p21515_5954189…</td><td>&quot;Serum_non_high…</td><td>1.5</td><td>&quot;2016-07-13&quot;</td></tr><tr><td>&quot;p21515_5954189…</td><td>&quot;Serum_non_high…</td><td>1.2</td><td>&quot;2018-06-26&quot;</td></tr></tbody></table></div>"
      ],
      "text/plain": [
       "shape: (5, 4)\n",
       "┌──────────────────────┬───────────────────────────────────┬───────┬────────────┐\n",
       "│ PRACTICE_PATIENT_ID  ┆ EVENT                             ┆ VALUE ┆ DATE       │\n",
       "│ ---                  ┆ ---                               ┆ ---   ┆ ---        │\n",
       "│ str                  ┆ str                               ┆ f64   ┆ str        │\n",
       "╞══════════════════════╪═══════════════════════════════════╪═══════╪════════════╡\n",
       "│ p21515_5954187621515 ┆ Serum_non_high_density_lipoprote… ┆ 2.8   ┆ 2018-09-24 │\n",
       "│ p21515_5954187621515 ┆ Serum_non_high_density_lipoprote… ┆ 3.1   ┆ 2019-03-15 │\n",
       "│ p21515_5954188221515 ┆ Serum_non_high_density_lipoprote… ┆ 3.4   ┆ 2017-12-12 │\n",
       "│ p21515_5954189921515 ┆ Serum_non_high_density_lipoprote… ┆ 1.5   ┆ 2016-07-13 │\n",
       "│ p21515_5954189921515 ┆ Serum_non_high_density_lipoprote… ┆ 1.2   ┆ 2018-06-26 │\n",
       "└──────────────────────┴───────────────────────────────────┴───────┴────────────┘"
      ]
     },
     "metadata": {},
     "output_type": "display_data"
    },
    {
     "name": "stdout",
     "output_type": "stream",
     "text": [
      "lazy_measurement_Serum_potassium_26\n"
     ]
    },
    {
     "data": {
      "text/html": [
       "<div><style>\n",
       ".dataframe > thead > tr > th,\n",
       ".dataframe > tbody > tr > td {\n",
       "  text-align: right;\n",
       "}\n",
       "</style>\n",
       "<small>shape: (5, 4)</small><table border=\"1\" class=\"dataframe\"><thead><tr><th>PRACTICE_PATIENT_ID</th><th>EVENT</th><th>VALUE</th><th>DATE</th></tr><tr><td>str</td><td>str</td><td>f64</td><td>str</td></tr></thead><tbody><tr><td>&quot;p21515_1099623…</td><td>&quot;Serum_potassiu…</td><td>4.5</td><td>&quot;2006-08-25&quot;</td></tr><tr><td>&quot;p21515_1099623…</td><td>&quot;Serum_potassiu…</td><td>4.1</td><td>&quot;2013-06-06&quot;</td></tr><tr><td>&quot;p21515_1099623…</td><td>&quot;Serum_potassiu…</td><td>4.7</td><td>&quot;2015-01-14&quot;</td></tr><tr><td>&quot;p21515_1099623…</td><td>&quot;Serum_potassiu…</td><td>4.1</td><td>&quot;2015-11-03&quot;</td></tr><tr><td>&quot;p21515_1099623…</td><td>&quot;Serum_potassiu…</td><td>3.9</td><td>&quot;2016-07-22&quot;</td></tr></tbody></table></div>"
      ],
      "text/plain": [
       "shape: (5, 4)\n",
       "┌───────────────────────┬────────────────────┬───────┬────────────┐\n",
       "│ PRACTICE_PATIENT_ID   ┆ EVENT              ┆ VALUE ┆ DATE       │\n",
       "│ ---                   ┆ ---                ┆ ---   ┆ ---        │\n",
       "│ str                   ┆ str                ┆ f64   ┆ str        │\n",
       "╞═══════════════════════╪════════════════════╪═══════╪════════════╡\n",
       "│ p21515_10996238121515 ┆ Serum_potassium_26 ┆ 4.5   ┆ 2006-08-25 │\n",
       "│ p21515_10996238121515 ┆ Serum_potassium_26 ┆ 4.1   ┆ 2013-06-06 │\n",
       "│ p21515_10996238121515 ┆ Serum_potassium_26 ┆ 4.7   ┆ 2015-01-14 │\n",
       "│ p21515_10996238121515 ┆ Serum_potassium_26 ┆ 4.1   ┆ 2015-11-03 │\n",
       "│ p21515_10996238121515 ┆ Serum_potassium_26 ┆ 3.9   ┆ 2016-07-22 │\n",
       "└───────────────────────┴────────────────────┴───────┴────────────┘"
      ]
     },
     "metadata": {},
     "output_type": "display_data"
    },
    {
     "name": "stdout",
     "output_type": "stream",
     "text": [
      "lazy_measurement_Serum_sodium_24\n"
     ]
    },
    {
     "data": {
      "text/html": [
       "<div><style>\n",
       ".dataframe > thead > tr > th,\n",
       ".dataframe > tbody > tr > td {\n",
       "  text-align: right;\n",
       "}\n",
       "</style>\n",
       "<small>shape: (5, 4)</small><table border=\"1\" class=\"dataframe\"><thead><tr><th>PRACTICE_PATIENT_ID</th><th>EVENT</th><th>VALUE</th><th>DATE</th></tr><tr><td>str</td><td>str</td><td>f64</td><td>str</td></tr></thead><tbody><tr><td>&quot;p21515_1099623…</td><td>&quot;Serum_sodium_2…</td><td>146.0</td><td>&quot;2006-08-25&quot;</td></tr><tr><td>&quot;p21515_1099623…</td><td>&quot;Serum_sodium_2…</td><td>137.0</td><td>&quot;2013-06-06&quot;</td></tr><tr><td>&quot;p21515_1099623…</td><td>&quot;Serum_sodium_2…</td><td>138.0</td><td>&quot;2015-01-14&quot;</td></tr><tr><td>&quot;p21515_1099623…</td><td>&quot;Serum_sodium_2…</td><td>139.0</td><td>&quot;2015-11-03&quot;</td></tr><tr><td>&quot;p21515_1099623…</td><td>&quot;Serum_sodium_2…</td><td>137.0</td><td>&quot;2016-07-22&quot;</td></tr></tbody></table></div>"
      ],
      "text/plain": [
       "shape: (5, 4)\n",
       "┌───────────────────────┬─────────────────┬───────┬────────────┐\n",
       "│ PRACTICE_PATIENT_ID   ┆ EVENT           ┆ VALUE ┆ DATE       │\n",
       "│ ---                   ┆ ---             ┆ ---   ┆ ---        │\n",
       "│ str                   ┆ str             ┆ f64   ┆ str        │\n",
       "╞═══════════════════════╪═════════════════╪═══════╪════════════╡\n",
       "│ p21515_10996238121515 ┆ Serum_sodium_24 ┆ 146.0 ┆ 2006-08-25 │\n",
       "│ p21515_10996238121515 ┆ Serum_sodium_24 ┆ 137.0 ┆ 2013-06-06 │\n",
       "│ p21515_10996238121515 ┆ Serum_sodium_24 ┆ 138.0 ┆ 2015-01-14 │\n",
       "│ p21515_10996238121515 ┆ Serum_sodium_24 ┆ 139.0 ┆ 2015-11-03 │\n",
       "│ p21515_10996238121515 ┆ Serum_sodium_24 ┆ 137.0 ┆ 2016-07-22 │\n",
       "└───────────────────────┴─────────────────┴───────┴────────────┘"
      ]
     },
     "metadata": {},
     "output_type": "display_data"
    },
    {
     "name": "stdout",
     "output_type": "stream",
     "text": [
      "lazy_measurement_Serum_total_25_hydroxy_vitamin_D_level_87\n"
     ]
    },
    {
     "data": {
      "text/html": [
       "<div><style>\n",
       ".dataframe > thead > tr > th,\n",
       ".dataframe > tbody > tr > td {\n",
       "  text-align: right;\n",
       "}\n",
       "</style>\n",
       "<small>shape: (5, 4)</small><table border=\"1\" class=\"dataframe\"><thead><tr><th>PRACTICE_PATIENT_ID</th><th>EVENT</th><th>VALUE</th><th>DATE</th></tr><tr><td>str</td><td>str</td><td>f64</td><td>str</td></tr></thead><tbody><tr><td>&quot;p21515_5954188…</td><td>&quot;Serum_total_25…</td><td>24.9</td><td>&quot;2017-06-13&quot;</td></tr><tr><td>&quot;p21515_5954193…</td><td>&quot;Serum_total_25…</td><td>23.8</td><td>&quot;2018-04-11&quot;</td></tr><tr><td>&quot;p21515_5954193…</td><td>&quot;Serum_total_25…</td><td>79.7</td><td>&quot;2019-04-18&quot;</td></tr><tr><td>&quot;p21515_5954193…</td><td>&quot;Serum_total_25…</td><td>95.9</td><td>&quot;2020-07-23&quot;</td></tr><tr><td>&quot;p21515_5954200…</td><td>&quot;Serum_total_25…</td><td>28.4</td><td>&quot;2019-06-21&quot;</td></tr></tbody></table></div>"
      ],
      "text/plain": [
       "shape: (5, 4)\n",
       "┌──────────────────────┬───────────────────────────────────┬───────┬────────────┐\n",
       "│ PRACTICE_PATIENT_ID  ┆ EVENT                             ┆ VALUE ┆ DATE       │\n",
       "│ ---                  ┆ ---                               ┆ ---   ┆ ---        │\n",
       "│ str                  ┆ str                               ┆ f64   ┆ str        │\n",
       "╞══════════════════════╪═══════════════════════════════════╪═══════╪════════════╡\n",
       "│ p21515_5954188221515 ┆ Serum_total_25_hydroxy_vitamin_D… ┆ 24.9  ┆ 2017-06-13 │\n",
       "│ p21515_5954193221515 ┆ Serum_total_25_hydroxy_vitamin_D… ┆ 23.8  ┆ 2018-04-11 │\n",
       "│ p21515_5954193221515 ┆ Serum_total_25_hydroxy_vitamin_D… ┆ 79.7  ┆ 2019-04-18 │\n",
       "│ p21515_5954193221515 ┆ Serum_total_25_hydroxy_vitamin_D… ┆ 95.9  ┆ 2020-07-23 │\n",
       "│ p21515_5954200321515 ┆ Serum_total_25_hydroxy_vitamin_D… ┆ 28.4  ┆ 2019-06-21 │\n",
       "└──────────────────────┴───────────────────────────────────┴───────┴────────────┘"
      ]
     },
     "metadata": {},
     "output_type": "display_data"
    },
    {
     "name": "stdout",
     "output_type": "stream",
     "text": [
      "lazy_measurement_Serum_total_bilirubin_level_56\n"
     ]
    },
    {
     "data": {
      "text/html": [
       "<div><style>\n",
       ".dataframe > thead > tr > th,\n",
       ".dataframe > tbody > tr > td {\n",
       "  text-align: right;\n",
       "}\n",
       "</style>\n",
       "<small>shape: (5, 4)</small><table border=\"1\" class=\"dataframe\"><thead><tr><th>PRACTICE_PATIENT_ID</th><th>EVENT</th><th>VALUE</th><th>DATE</th></tr><tr><td>str</td><td>str</td><td>f64</td><td>str</td></tr></thead><tbody><tr><td>&quot;p21515_1099623…</td><td>&quot;Serum_total_bi…</td><td>13.0</td><td>&quot;2006-08-25&quot;</td></tr><tr><td>&quot;p21515_1099623…</td><td>&quot;Serum_total_bi…</td><td>12.0</td><td>&quot;2013-06-06&quot;</td></tr><tr><td>&quot;p21515_1099623…</td><td>&quot;Serum_total_bi…</td><td>13.0</td><td>&quot;2015-01-14&quot;</td></tr><tr><td>&quot;p21515_1099623…</td><td>&quot;Serum_total_bi…</td><td>6.0</td><td>&quot;2015-01-27&quot;</td></tr><tr><td>&quot;p21515_1099623…</td><td>&quot;Serum_total_bi…</td><td>9.0</td><td>&quot;2015-11-03&quot;</td></tr></tbody></table></div>"
      ],
      "text/plain": [
       "shape: (5, 4)\n",
       "┌───────────────────────┬────────────────────────────────┬───────┬────────────┐\n",
       "│ PRACTICE_PATIENT_ID   ┆ EVENT                          ┆ VALUE ┆ DATE       │\n",
       "│ ---                   ┆ ---                            ┆ ---   ┆ ---        │\n",
       "│ str                   ┆ str                            ┆ f64   ┆ str        │\n",
       "╞═══════════════════════╪════════════════════════════════╪═══════╪════════════╡\n",
       "│ p21515_10996238121515 ┆ Serum_total_bilirubin_level_56 ┆ 13.0  ┆ 2006-08-25 │\n",
       "│ p21515_10996238121515 ┆ Serum_total_bilirubin_level_56 ┆ 12.0  ┆ 2013-06-06 │\n",
       "│ p21515_10996238121515 ┆ Serum_total_bilirubin_level_56 ┆ 13.0  ┆ 2015-01-14 │\n",
       "│ p21515_10996238121515 ┆ Serum_total_bilirubin_level_56 ┆ 6.0   ┆ 2015-01-27 │\n",
       "│ p21515_10996238121515 ┆ Serum_total_bilirubin_level_56 ┆ 9.0   ┆ 2015-11-03 │\n",
       "└───────────────────────┴────────────────────────────────┴───────┴────────────┘"
      ]
     },
     "metadata": {},
     "output_type": "display_data"
    },
    {
     "name": "stdout",
     "output_type": "stream",
     "text": [
      "lazy_measurement_Serum_total_cholesterol_level_98\n"
     ]
    },
    {
     "data": {
      "text/html": [
       "<div><style>\n",
       ".dataframe > thead > tr > th,\n",
       ".dataframe > tbody > tr > td {\n",
       "  text-align: right;\n",
       "}\n",
       "</style>\n",
       "<small>shape: (5, 4)</small><table border=\"1\" class=\"dataframe\"><thead><tr><th>PRACTICE_PATIENT_ID</th><th>EVENT</th><th>VALUE</th><th>DATE</th></tr><tr><td>str</td><td>str</td><td>f64</td><td>str</td></tr></thead><tbody><tr><td>&quot;p21515_5954203…</td><td>&quot;Serum_total_ch…</td><td>6.4</td><td>&quot;2015-09-03&quot;</td></tr><tr><td>&quot;p21515_5954306…</td><td>&quot;Serum_total_ch…</td><td>4.32</td><td>&quot;2012-09-10&quot;</td></tr><tr><td>&quot;p21515_5954316…</td><td>&quot;Serum_total_ch…</td><td>7.83</td><td>&quot;2014-09-22&quot;</td></tr><tr><td>&quot;p21515_5954353…</td><td>&quot;Serum_total_ch…</td><td>7.2</td><td>&quot;2002-03-22&quot;</td></tr><tr><td>&quot;p21515_5954353…</td><td>&quot;Serum_total_ch…</td><td>7.4</td><td>&quot;2006-01-26&quot;</td></tr></tbody></table></div>"
      ],
      "text/plain": [
       "shape: (5, 4)\n",
       "┌──────────────────────┬──────────────────────────────────┬───────┬────────────┐\n",
       "│ PRACTICE_PATIENT_ID  ┆ EVENT                            ┆ VALUE ┆ DATE       │\n",
       "│ ---                  ┆ ---                              ┆ ---   ┆ ---        │\n",
       "│ str                  ┆ str                              ┆ f64   ┆ str        │\n",
       "╞══════════════════════╪══════════════════════════════════╪═══════╪════════════╡\n",
       "│ p21515_5954203021515 ┆ Serum_total_cholesterol_level_98 ┆ 6.4   ┆ 2015-09-03 │\n",
       "│ p21515_5954306421515 ┆ Serum_total_cholesterol_level_98 ┆ 4.32  ┆ 2012-09-10 │\n",
       "│ p21515_5954316421515 ┆ Serum_total_cholesterol_level_98 ┆ 7.83  ┆ 2014-09-22 │\n",
       "│ p21515_5954353621515 ┆ Serum_total_cholesterol_level_98 ┆ 7.2   ┆ 2002-03-22 │\n",
       "│ p21515_5954353621515 ┆ Serum_total_cholesterol_level_98 ┆ 7.4   ┆ 2006-01-26 │\n",
       "└──────────────────────┴──────────────────────────────────┴───────┴────────────┘"
      ]
     },
     "metadata": {},
     "output_type": "display_data"
    },
    {
     "name": "stdout",
     "output_type": "stream",
     "text": [
      "lazy_measurement_Serum_triglycerides_105\n"
     ]
    },
    {
     "data": {
      "text/html": [
       "<div><style>\n",
       ".dataframe > thead > tr > th,\n",
       ".dataframe > tbody > tr > td {\n",
       "  text-align: right;\n",
       "}\n",
       "</style>\n",
       "<small>shape: (5, 4)</small><table border=\"1\" class=\"dataframe\"><thead><tr><th>PRACTICE_PATIENT_ID</th><th>EVENT</th><th>VALUE</th><th>DATE</th></tr><tr><td>str</td><td>str</td><td>f64</td><td>str</td></tr></thead><tbody><tr><td>&quot;p21515_1099623…</td><td>&quot;Serum_triglyce…</td><td>2.08</td><td>&quot;2006-08-25&quot;</td></tr><tr><td>&quot;p21515_1099623…</td><td>&quot;Serum_triglyce…</td><td>2.5</td><td>&quot;2015-01-14&quot;</td></tr><tr><td>&quot;p21515_5954187…</td><td>&quot;Serum_triglyce…</td><td>1.1</td><td>&quot;2011-07-15&quot;</td></tr><tr><td>&quot;p21515_5954187…</td><td>&quot;Serum_triglyce…</td><td>0.7</td><td>&quot;2018-09-24&quot;</td></tr><tr><td>&quot;p21515_5954187…</td><td>&quot;Serum_triglyce…</td><td>0.7</td><td>&quot;2019-03-15&quot;</td></tr></tbody></table></div>"
      ],
      "text/plain": [
       "shape: (5, 4)\n",
       "┌───────────────────────┬─────────────────────────┬───────┬────────────┐\n",
       "│ PRACTICE_PATIENT_ID   ┆ EVENT                   ┆ VALUE ┆ DATE       │\n",
       "│ ---                   ┆ ---                     ┆ ---   ┆ ---        │\n",
       "│ str                   ┆ str                     ┆ f64   ┆ str        │\n",
       "╞═══════════════════════╪═════════════════════════╪═══════╪════════════╡\n",
       "│ p21515_10996238121515 ┆ Serum_triglycerides_105 ┆ 2.08  ┆ 2006-08-25 │\n",
       "│ p21515_10996238121515 ┆ Serum_triglycerides_105 ┆ 2.5   ┆ 2015-01-14 │\n",
       "│ p21515_5954187521515  ┆ Serum_triglycerides_105 ┆ 1.1   ┆ 2011-07-15 │\n",
       "│ p21515_5954187621515  ┆ Serum_triglycerides_105 ┆ 0.7   ┆ 2018-09-24 │\n",
       "│ p21515_5954187621515  ┆ Serum_triglycerides_105 ┆ 0.7   ┆ 2019-03-15 │\n",
       "└───────────────────────┴─────────────────────────┴───────┴────────────┘"
      ]
     },
     "metadata": {},
     "output_type": "display_data"
    },
    {
     "name": "stdout",
     "output_type": "stream",
     "text": [
      "lazy_measurement_Serum_urea_level_29\n"
     ]
    },
    {
     "data": {
      "text/html": [
       "<div><style>\n",
       ".dataframe > thead > tr > th,\n",
       ".dataframe > tbody > tr > td {\n",
       "  text-align: right;\n",
       "}\n",
       "</style>\n",
       "<small>shape: (5, 4)</small><table border=\"1\" class=\"dataframe\"><thead><tr><th>PRACTICE_PATIENT_ID</th><th>EVENT</th><th>VALUE</th><th>DATE</th></tr><tr><td>str</td><td>str</td><td>f64</td><td>str</td></tr></thead><tbody><tr><td>&quot;p21515_1099623…</td><td>&quot;Serum_urea_lev…</td><td>4.8</td><td>&quot;2006-08-25&quot;</td></tr><tr><td>&quot;p21515_1099623…</td><td>&quot;Serum_urea_lev…</td><td>4.9</td><td>&quot;2013-06-06&quot;</td></tr><tr><td>&quot;p21515_1099623…</td><td>&quot;Serum_urea_lev…</td><td>6.0</td><td>&quot;2015-01-14&quot;</td></tr><tr><td>&quot;p21515_1099623…</td><td>&quot;Serum_urea_lev…</td><td>7.0</td><td>&quot;2015-11-03&quot;</td></tr><tr><td>&quot;p21515_1099623…</td><td>&quot;Serum_urea_lev…</td><td>6.2</td><td>&quot;2016-07-22&quot;</td></tr></tbody></table></div>"
      ],
      "text/plain": [
       "shape: (5, 4)\n",
       "┌───────────────────────┬─────────────────────┬───────┬────────────┐\n",
       "│ PRACTICE_PATIENT_ID   ┆ EVENT               ┆ VALUE ┆ DATE       │\n",
       "│ ---                   ┆ ---                 ┆ ---   ┆ ---        │\n",
       "│ str                   ┆ str                 ┆ f64   ┆ str        │\n",
       "╞═══════════════════════╪═════════════════════╪═══════╪════════════╡\n",
       "│ p21515_10996238121515 ┆ Serum_urea_level_29 ┆ 4.8   ┆ 2006-08-25 │\n",
       "│ p21515_10996238121515 ┆ Serum_urea_level_29 ┆ 4.9   ┆ 2013-06-06 │\n",
       "│ p21515_10996238121515 ┆ Serum_urea_level_29 ┆ 6.0   ┆ 2015-01-14 │\n",
       "│ p21515_10996238121515 ┆ Serum_urea_level_29 ┆ 7.0   ┆ 2015-11-03 │\n",
       "│ p21515_10996238121515 ┆ Serum_urea_level_29 ┆ 6.2   ┆ 2016-07-22 │\n",
       "└───────────────────────┴─────────────────────┴───────┴────────────┘"
      ]
     },
     "metadata": {},
     "output_type": "display_data"
    },
    {
     "name": "stdout",
     "output_type": "stream",
     "text": [
      "lazy_measurement_Serum_vitamin_B12_79\n"
     ]
    },
    {
     "data": {
      "text/html": [
       "<div><style>\n",
       ".dataframe > thead > tr > th,\n",
       ".dataframe > tbody > tr > td {\n",
       "  text-align: right;\n",
       "}\n",
       "</style>\n",
       "<small>shape: (5, 4)</small><table border=\"1\" class=\"dataframe\"><thead><tr><th>PRACTICE_PATIENT_ID</th><th>EVENT</th><th>VALUE</th><th>DATE</th></tr><tr><td>str</td><td>str</td><td>f64</td><td>str</td></tr></thead><tbody><tr><td>&quot;p21515_1099623…</td><td>&quot;Serum_vitamin_…</td><td>676.0</td><td>&quot;2006-09-08&quot;</td></tr><tr><td>&quot;p21515_1099623…</td><td>&quot;Serum_vitamin_…</td><td>250.0</td><td>&quot;2015-01-27&quot;</td></tr><tr><td>&quot;p21515_5954188…</td><td>&quot;Serum_vitamin_…</td><td>175.0</td><td>&quot;2014-06-12&quot;</td></tr><tr><td>&quot;p21515_5954197…</td><td>&quot;Serum_vitamin_…</td><td>459.0</td><td>&quot;2017-11-22&quot;</td></tr><tr><td>&quot;p21515_5954197…</td><td>&quot;Serum_vitamin_…</td><td>122.0</td><td>&quot;2018-05-31&quot;</td></tr></tbody></table></div>"
      ],
      "text/plain": [
       "shape: (5, 4)\n",
       "┌───────────────────────┬──────────────────────┬───────┬────────────┐\n",
       "│ PRACTICE_PATIENT_ID   ┆ EVENT                ┆ VALUE ┆ DATE       │\n",
       "│ ---                   ┆ ---                  ┆ ---   ┆ ---        │\n",
       "│ str                   ┆ str                  ┆ f64   ┆ str        │\n",
       "╞═══════════════════════╪══════════════════════╪═══════╪════════════╡\n",
       "│ p21515_10996238121515 ┆ Serum_vitamin_B12_79 ┆ 676.0 ┆ 2006-09-08 │\n",
       "│ p21515_10996238121515 ┆ Serum_vitamin_B12_79 ┆ 250.0 ┆ 2015-01-27 │\n",
       "│ p21515_5954188221515  ┆ Serum_vitamin_B12_79 ┆ 175.0 ┆ 2014-06-12 │\n",
       "│ p21515_5954197821515  ┆ Serum_vitamin_B12_79 ┆ 459.0 ┆ 2017-11-22 │\n",
       "│ p21515_5954197821515  ┆ Serum_vitamin_B12_79 ┆ 122.0 ┆ 2018-05-31 │\n",
       "└───────────────────────┴──────────────────────┴───────┴────────────┘"
      ]
     },
     "metadata": {},
     "output_type": "display_data"
    },
    {
     "name": "stdout",
     "output_type": "stream",
     "text": [
      "lazy_measurement_Serum_vitamin_D2_level_89\n"
     ]
    },
    {
     "data": {
      "text/html": [
       "<div><style>\n",
       ".dataframe > thead > tr > th,\n",
       ".dataframe > tbody > tr > td {\n",
       "  text-align: right;\n",
       "}\n",
       "</style>\n",
       "<small>shape: (2, 4)</small><table border=\"1\" class=\"dataframe\"><thead><tr><th>PRACTICE_PATIENT_ID</th><th>EVENT</th><th>VALUE</th><th>DATE</th></tr><tr><td>str</td><td>str</td><td>f64</td><td>str</td></tr></thead><tbody><tr><td>&quot;p21515_5955520…</td><td>&quot;Serum_vitamin_…</td><td>10.0</td><td>&quot;2013-06-10&quot;</td></tr><tr><td>&quot;p21515_5955813…</td><td>&quot;Serum_vitamin_…</td><td>7.3</td><td>&quot;2014-01-08&quot;</td></tr></tbody></table></div>"
      ],
      "text/plain": [
       "shape: (2, 4)\n",
       "┌──────────────────────┬───────────────────────────┬───────┬────────────┐\n",
       "│ PRACTICE_PATIENT_ID  ┆ EVENT                     ┆ VALUE ┆ DATE       │\n",
       "│ ---                  ┆ ---                       ┆ ---   ┆ ---        │\n",
       "│ str                  ┆ str                       ┆ f64   ┆ str        │\n",
       "╞══════════════════════╪═══════════════════════════╪═══════╪════════════╡\n",
       "│ p21515_5955520521515 ┆ Serum_vitamin_D2_level_89 ┆ 10.0  ┆ 2013-06-10 │\n",
       "│ p21515_5955813521515 ┆ Serum_vitamin_D2_level_89 ┆ 7.3   ┆ 2014-01-08 │\n",
       "└──────────────────────┴───────────────────────────┴───────┴────────────┘"
      ]
     },
     "metadata": {},
     "output_type": "display_data"
    },
    {
     "name": "stdout",
     "output_type": "stream",
     "text": [
      "lazy_measurement_Serum_vitamin_D_86\n"
     ]
    },
    {
     "data": {
      "text/html": [
       "<div><style>\n",
       ".dataframe > thead > tr > th,\n",
       ".dataframe > tbody > tr > td {\n",
       "  text-align: right;\n",
       "}\n",
       "</style>\n",
       "<small>shape: (5, 4)</small><table border=\"1\" class=\"dataframe\"><thead><tr><th>PRACTICE_PATIENT_ID</th><th>EVENT</th><th>VALUE</th><th>DATE</th></tr><tr><td>str</td><td>str</td><td>f64</td><td>str</td></tr></thead><tbody><tr><td>&quot;p21515_5954896…</td><td>&quot;Serum_vitamin_…</td><td>55.0</td><td>&quot;2015-10-15&quot;</td></tr><tr><td>&quot;p21515_5954996…</td><td>&quot;Serum_vitamin_…</td><td>38.3</td><td>&quot;2013-08-12&quot;</td></tr><tr><td>&quot;p21515_5955105…</td><td>&quot;Serum_vitamin_…</td><td>45.6</td><td>&quot;2015-12-01&quot;</td></tr><tr><td>&quot;p21515_5955282…</td><td>&quot;Serum_vitamin_…</td><td>64.0</td><td>&quot;2014-08-09&quot;</td></tr><tr><td>&quot;p21515_5955406…</td><td>&quot;Serum_vitamin_…</td><td>31.6</td><td>&quot;2014-07-04&quot;</td></tr></tbody></table></div>"
      ],
      "text/plain": [
       "shape: (5, 4)\n",
       "┌──────────────────────┬────────────────────┬───────┬────────────┐\n",
       "│ PRACTICE_PATIENT_ID  ┆ EVENT              ┆ VALUE ┆ DATE       │\n",
       "│ ---                  ┆ ---                ┆ ---   ┆ ---        │\n",
       "│ str                  ┆ str                ┆ f64   ┆ str        │\n",
       "╞══════════════════════╪════════════════════╪═══════╪════════════╡\n",
       "│ p21515_5954896821515 ┆ Serum_vitamin_D_86 ┆ 55.0  ┆ 2015-10-15 │\n",
       "│ p21515_5954996821515 ┆ Serum_vitamin_D_86 ┆ 38.3  ┆ 2013-08-12 │\n",
       "│ p21515_5955105021515 ┆ Serum_vitamin_D_86 ┆ 45.6  ┆ 2015-12-01 │\n",
       "│ p21515_5955282121515 ┆ Serum_vitamin_D_86 ┆ 64.0  ┆ 2014-08-09 │\n",
       "│ p21515_5955406621515 ┆ Serum_vitamin_D_86 ┆ 31.6  ┆ 2014-07-04 │\n",
       "└──────────────────────┴────────────────────┴───────┴────────────┘"
      ]
     },
     "metadata": {},
     "output_type": "display_data"
    },
    {
     "name": "stdout",
     "output_type": "stream",
     "text": [
      "lazy_measurement_SmokingStatus_NeverSmoked\n"
     ]
    },
    {
     "data": {
      "text/html": [
       "<div><style>\n",
       ".dataframe > thead > tr > th,\n",
       ".dataframe > tbody > tr > td {\n",
       "  text-align: right;\n",
       "}\n",
       "</style>\n",
       "<small>shape: (5, 4)</small><table border=\"1\" class=\"dataframe\"><thead><tr><th>PRACTICE_PATIENT_ID</th><th>EVENT</th><th>VALUE</th><th>DATE</th></tr><tr><td>str</td><td>str</td><td>f64</td><td>str</td></tr></thead><tbody><tr><td>&quot;p21515_1099623…</td><td>&quot;SmokingStatus_…</td><td>3.97732011e8</td><td>&quot;2001-09-18&quot;</td></tr><tr><td>&quot;p21515_1099623…</td><td>&quot;SmokingStatus_…</td><td>3.97732011e8</td><td>&quot;2004-07-23&quot;</td></tr><tr><td>&quot;p21515_1099623…</td><td>&quot;SmokingStatus_…</td><td>3.97732011e8</td><td>&quot;2005-04-06&quot;</td></tr><tr><td>&quot;p21515_1099623…</td><td>&quot;SmokingStatus_…</td><td>3.97732011e8</td><td>&quot;2006-06-06&quot;</td></tr><tr><td>&quot;p21515_1099623…</td><td>&quot;SmokingStatus_…</td><td>3.97732011e8</td><td>&quot;2007-04-16&quot;</td></tr></tbody></table></div>"
      ],
      "text/plain": [
       "shape: (5, 4)\n",
       "┌───────────────────────┬───────────────────────────┬──────────────┬────────────┐\n",
       "│ PRACTICE_PATIENT_ID   ┆ EVENT                     ┆ VALUE        ┆ DATE       │\n",
       "│ ---                   ┆ ---                       ┆ ---          ┆ ---        │\n",
       "│ str                   ┆ str                       ┆ f64          ┆ str        │\n",
       "╞═══════════════════════╪═══════════════════════════╪══════════════╪════════════╡\n",
       "│ p21515_10996238121515 ┆ SmokingStatus_NeverSmoked ┆ 3.97732011e8 ┆ 2001-09-18 │\n",
       "│ p21515_10996238121515 ┆ SmokingStatus_NeverSmoked ┆ 3.97732011e8 ┆ 2004-07-23 │\n",
       "│ p21515_10996238121515 ┆ SmokingStatus_NeverSmoked ┆ 3.97732011e8 ┆ 2005-04-06 │\n",
       "│ p21515_10996238121515 ┆ SmokingStatus_NeverSmoked ┆ 3.97732011e8 ┆ 2006-06-06 │\n",
       "│ p21515_10996238121515 ┆ SmokingStatus_NeverSmoked ┆ 3.97732011e8 ┆ 2007-04-16 │\n",
       "└───────────────────────┴───────────────────────────┴──────────────┴────────────┘"
      ]
     },
     "metadata": {},
     "output_type": "display_data"
    },
    {
     "name": "stdout",
     "output_type": "stream",
     "text": [
      "lazy_measurement_Systolic_blood_pressure_4\n"
     ]
    },
    {
     "data": {
      "text/html": [
       "<div><style>\n",
       ".dataframe > thead > tr > th,\n",
       ".dataframe > tbody > tr > td {\n",
       "  text-align: right;\n",
       "}\n",
       "</style>\n",
       "<small>shape: (5, 4)</small><table border=\"1\" class=\"dataframe\"><thead><tr><th>PRACTICE_PATIENT_ID</th><th>EVENT</th><th>VALUE</th><th>DATE</th></tr><tr><td>str</td><td>str</td><td>f64</td><td>str</td></tr></thead><tbody><tr><td>&quot;p21515_1099623…</td><td>&quot;Systolic_blood…</td><td>123.0</td><td>&quot;2001-09-18&quot;</td></tr><tr><td>&quot;p21515_1099623…</td><td>&quot;Systolic_blood…</td><td>130.0</td><td>&quot;2011-07-13&quot;</td></tr><tr><td>&quot;p21515_1099623…</td><td>&quot;Systolic_blood…</td><td>130.0</td><td>&quot;2015-01-12&quot;</td></tr><tr><td>&quot;p21515_1099623…</td><td>&quot;Systolic_blood…</td><td>118.0</td><td>&quot;2015-02-23&quot;</td></tr><tr><td>&quot;p21515_1099623…</td><td>&quot;Systolic_blood…</td><td>118.0</td><td>&quot;2016-05-17&quot;</td></tr></tbody></table></div>"
      ],
      "text/plain": [
       "shape: (5, 4)\n",
       "┌───────────────────────┬───────────────────────────┬───────┬────────────┐\n",
       "│ PRACTICE_PATIENT_ID   ┆ EVENT                     ┆ VALUE ┆ DATE       │\n",
       "│ ---                   ┆ ---                       ┆ ---   ┆ ---        │\n",
       "│ str                   ┆ str                       ┆ f64   ┆ str        │\n",
       "╞═══════════════════════╪═══════════════════════════╪═══════╪════════════╡\n",
       "│ p21515_10996238121515 ┆ Systolic_blood_pressure_4 ┆ 123.0 ┆ 2001-09-18 │\n",
       "│ p21515_10996238121515 ┆ Systolic_blood_pressure_4 ┆ 130.0 ┆ 2011-07-13 │\n",
       "│ p21515_10996238121515 ┆ Systolic_blood_pressure_4 ┆ 130.0 ┆ 2015-01-12 │\n",
       "│ p21515_10996238121515 ┆ Systolic_blood_pressure_4 ┆ 118.0 ┆ 2015-02-23 │\n",
       "│ p21515_10996238121515 ┆ Systolic_blood_pressure_4 ┆ 118.0 ┆ 2016-05-17 │\n",
       "└───────────────────────┴───────────────────────────┴───────┴────────────┘"
      ]
     },
     "metadata": {},
     "output_type": "display_data"
    },
    {
     "name": "stdout",
     "output_type": "stream",
     "text": [
      "lazy_measurement_TSH___thyroid_stim_hormone_72\n"
     ]
    },
    {
     "data": {
      "text/html": [
       "<div><style>\n",
       ".dataframe > thead > tr > th,\n",
       ".dataframe > tbody > tr > td {\n",
       "  text-align: right;\n",
       "}\n",
       "</style>\n",
       "<small>shape: (5, 4)</small><table border=\"1\" class=\"dataframe\"><thead><tr><th>PRACTICE_PATIENT_ID</th><th>EVENT</th><th>VALUE</th><th>DATE</th></tr><tr><td>str</td><td>str</td><td>f64</td><td>str</td></tr></thead><tbody><tr><td>&quot;p21515_5954265…</td><td>&quot;TSH___thyroid_…</td><td>1.03</td><td>&quot;1999-04-17&quot;</td></tr><tr><td>&quot;p21515_5954268…</td><td>&quot;TSH___thyroid_…</td><td>1.07</td><td>&quot;2000-11-01&quot;</td></tr><tr><td>&quot;p21515_5954270…</td><td>&quot;TSH___thyroid_…</td><td>2.48</td><td>&quot;2001-01-05&quot;</td></tr><tr><td>&quot;p21515_5954279…</td><td>&quot;TSH___thyroid_…</td><td>1.85</td><td>&quot;2000-05-25&quot;</td></tr><tr><td>&quot;p21515_5954372…</td><td>&quot;TSH___thyroid_…</td><td>0.78</td><td>&quot;2000-06-14&quot;</td></tr></tbody></table></div>"
      ],
      "text/plain": [
       "shape: (5, 4)\n",
       "┌──────────────────────┬───────────────────────────────┬───────┬────────────┐\n",
       "│ PRACTICE_PATIENT_ID  ┆ EVENT                         ┆ VALUE ┆ DATE       │\n",
       "│ ---                  ┆ ---                           ┆ ---   ┆ ---        │\n",
       "│ str                  ┆ str                           ┆ f64   ┆ str        │\n",
       "╞══════════════════════╪═══════════════════════════════╪═══════╪════════════╡\n",
       "│ p21515_5954265621515 ┆ TSH___thyroid_stim_hormone_72 ┆ 1.03  ┆ 1999-04-17 │\n",
       "│ p21515_5954268321515 ┆ TSH___thyroid_stim_hormone_72 ┆ 1.07  ┆ 2000-11-01 │\n",
       "│ p21515_5954270421515 ┆ TSH___thyroid_stim_hormone_72 ┆ 2.48  ┆ 2001-01-05 │\n",
       "│ p21515_5954279921515 ┆ TSH___thyroid_stim_hormone_72 ┆ 1.85  ┆ 2000-05-25 │\n",
       "│ p21515_5954372921515 ┆ TSH___thyroid_stim_hormone_72 ┆ 0.78  ┆ 2000-06-14 │\n",
       "└──────────────────────┴───────────────────────────────┴───────┴────────────┘"
      ]
     },
     "metadata": {},
     "output_type": "display_data"
    },
    {
     "name": "stdout",
     "output_type": "stream",
     "text": [
      "lazy_measurement_TSH_level_74\n"
     ]
    },
    {
     "data": {
      "text/html": [
       "<div><style>\n",
       ".dataframe > thead > tr > th,\n",
       ".dataframe > tbody > tr > td {\n",
       "  text-align: right;\n",
       "}\n",
       "</style>\n",
       "<small>shape: (5, 4)</small><table border=\"1\" class=\"dataframe\"><thead><tr><th>PRACTICE_PATIENT_ID</th><th>EVENT</th><th>VALUE</th><th>DATE</th></tr><tr><td>str</td><td>str</td><td>f64</td><td>str</td></tr></thead><tbody><tr><td>&quot;p21515_5954236…</td><td>&quot;TSH_level_74&quot;</td><td>null</td><td>&quot;2012-06-12&quot;</td></tr><tr><td>&quot;p21515_5955287…</td><td>&quot;TSH_level_74&quot;</td><td>null</td><td>&quot;2004-06-01&quot;</td></tr><tr><td>&quot;p21515_5956896…</td><td>&quot;TSH_level_74&quot;</td><td>null</td><td>&quot;2004-05-19&quot;</td></tr><tr><td>&quot;p21515_5957057…</td><td>&quot;TSH_level_74&quot;</td><td>null</td><td>&quot;2018-05-11&quot;</td></tr><tr><td>&quot;p21515_5957090…</td><td>&quot;TSH_level_74&quot;</td><td>null</td><td>&quot;2011-07-14&quot;</td></tr></tbody></table></div>"
      ],
      "text/plain": [
       "shape: (5, 4)\n",
       "┌──────────────────────┬──────────────┬───────┬────────────┐\n",
       "│ PRACTICE_PATIENT_ID  ┆ EVENT        ┆ VALUE ┆ DATE       │\n",
       "│ ---                  ┆ ---          ┆ ---   ┆ ---        │\n",
       "│ str                  ┆ str          ┆ f64   ┆ str        │\n",
       "╞══════════════════════╪══════════════╪═══════╪════════════╡\n",
       "│ p21515_5954236621515 ┆ TSH_level_74 ┆ null  ┆ 2012-06-12 │\n",
       "│ p21515_5955287921515 ┆ TSH_level_74 ┆ null  ┆ 2004-06-01 │\n",
       "│ p21515_5956896521515 ┆ TSH_level_74 ┆ null  ┆ 2004-05-19 │\n",
       "│ p21515_5957057621515 ┆ TSH_level_74 ┆ null  ┆ 2018-05-11 │\n",
       "│ p21515_5957090821515 ┆ TSH_level_74 ┆ null  ┆ 2011-07-14 │\n",
       "└──────────────────────┴──────────────┴───────┴────────────┘"
      ]
     },
     "metadata": {},
     "output_type": "display_data"
    },
    {
     "name": "stdout",
     "output_type": "stream",
     "text": [
      "lazy_measurement_Total_25_hydroxyvitamin_D_level_91\n"
     ]
    },
    {
     "data": {
      "text/html": [
       "<div><style>\n",
       ".dataframe > thead > tr > th,\n",
       ".dataframe > tbody > tr > td {\n",
       "  text-align: right;\n",
       "}\n",
       "</style>\n",
       "<small>shape: (2, 4)</small><table border=\"1\" class=\"dataframe\"><thead><tr><th>PRACTICE_PATIENT_ID</th><th>EVENT</th><th>VALUE</th><th>DATE</th></tr><tr><td>str</td><td>str</td><td>f64</td><td>str</td></tr></thead><tbody><tr><td>&quot;p21515_5956585…</td><td>&quot;Total_25_hydro…</td><td>18.0</td><td>&quot;2013-01-21&quot;</td></tr><tr><td>&quot;p21515_5957240…</td><td>&quot;Total_25_hydro…</td><td>74.0</td><td>&quot;2016-09-06&quot;</td></tr></tbody></table></div>"
      ],
      "text/plain": [
       "shape: (2, 4)\n",
       "┌──────────────────────┬───────────────────────────────────┬───────┬────────────┐\n",
       "│ PRACTICE_PATIENT_ID  ┆ EVENT                             ┆ VALUE ┆ DATE       │\n",
       "│ ---                  ┆ ---                               ┆ ---   ┆ ---        │\n",
       "│ str                  ┆ str                               ┆ f64   ┆ str        │\n",
       "╞══════════════════════╪═══════════════════════════════════╪═══════╪════════════╡\n",
       "│ p21515_5956585621515 ┆ Total_25_hydroxyvitamin_D_level_… ┆ 18.0  ┆ 2013-01-21 │\n",
       "│ p21515_5957240821515 ┆ Total_25_hydroxyvitamin_D_level_… ┆ 74.0  ┆ 2016-09-06 │\n",
       "└──────────────────────┴───────────────────────────────────┴───────┴────────────┘"
      ]
     },
     "metadata": {},
     "output_type": "display_data"
    },
    {
     "name": "stdout",
     "output_type": "stream",
     "text": [
      "lazy_measurement_Total_alkaline_phosphatase_48\n"
     ]
    },
    {
     "data": {
      "text/html": [
       "<div><style>\n",
       ".dataframe > thead > tr > th,\n",
       ".dataframe > tbody > tr > td {\n",
       "  text-align: right;\n",
       "}\n",
       "</style>\n",
       "<small>shape: (2, 4)</small><table border=\"1\" class=\"dataframe\"><thead><tr><th>PRACTICE_PATIENT_ID</th><th>EVENT</th><th>VALUE</th><th>DATE</th></tr><tr><td>str</td><td>str</td><td>f64</td><td>str</td></tr></thead><tbody><tr><td>&quot;p21515_5957192…</td><td>&quot;Total_alkaline…</td><td>241.0</td><td>&quot;2016-05-12&quot;</td></tr><tr><td>&quot;p21515_5957192…</td><td>&quot;Total_alkaline…</td><td>253.0</td><td>&quot;2016-05-26&quot;</td></tr></tbody></table></div>"
      ],
      "text/plain": [
       "shape: (2, 4)\n",
       "┌──────────────────────┬───────────────────────────────┬───────┬────────────┐\n",
       "│ PRACTICE_PATIENT_ID  ┆ EVENT                         ┆ VALUE ┆ DATE       │\n",
       "│ ---                  ┆ ---                           ┆ ---   ┆ ---        │\n",
       "│ str                  ┆ str                           ┆ f64   ┆ str        │\n",
       "╞══════════════════════╪═══════════════════════════════╪═══════╪════════════╡\n",
       "│ p21515_5957192021515 ┆ Total_alkaline_phosphatase_48 ┆ 241.0 ┆ 2016-05-12 │\n",
       "│ p21515_5957192021515 ┆ Total_alkaline_phosphatase_48 ┆ 253.0 ┆ 2016-05-26 │\n",
       "└──────────────────────┴───────────────────────────────┴───────┴────────────┘"
      ]
     },
     "metadata": {},
     "output_type": "display_data"
    },
    {
     "name": "stdout",
     "output_type": "stream",
     "text": [
      "lazy_measurement_Total_bilirubin_55\n"
     ]
    },
    {
     "data": {
      "text/html": [
       "<div><style>\n",
       ".dataframe > thead > tr > th,\n",
       ".dataframe > tbody > tr > td {\n",
       "  text-align: right;\n",
       "}\n",
       "</style>\n",
       "<small>shape: (5, 4)</small><table border=\"1\" class=\"dataframe\"><thead><tr><th>PRACTICE_PATIENT_ID</th><th>EVENT</th><th>VALUE</th><th>DATE</th></tr><tr><td>str</td><td>str</td><td>f64</td><td>str</td></tr></thead><tbody><tr><td>&quot;p21515_5954306…</td><td>&quot;Total_bilirubi…</td><td>13.0</td><td>&quot;1995-02-28&quot;</td></tr><tr><td>&quot;p21515_5954306…</td><td>&quot;Total_bilirubi…</td><td>14.0</td><td>&quot;1995-04-12&quot;</td></tr><tr><td>&quot;p21515_5954327…</td><td>&quot;Total_bilirubi…</td><td>7.0</td><td>&quot;2003-06-19&quot;</td></tr><tr><td>&quot;p21515_5954355…</td><td>&quot;Total_bilirubi…</td><td>6.0</td><td>&quot;1997-02-06&quot;</td></tr><tr><td>&quot;p21515_5954547…</td><td>&quot;Total_bilirubi…</td><td>11.0</td><td>&quot;1997-08-07&quot;</td></tr></tbody></table></div>"
      ],
      "text/plain": [
       "shape: (5, 4)\n",
       "┌──────────────────────┬────────────────────┬───────┬────────────┐\n",
       "│ PRACTICE_PATIENT_ID  ┆ EVENT              ┆ VALUE ┆ DATE       │\n",
       "│ ---                  ┆ ---                ┆ ---   ┆ ---        │\n",
       "│ str                  ┆ str                ┆ f64   ┆ str        │\n",
       "╞══════════════════════╪════════════════════╪═══════╪════════════╡\n",
       "│ p21515_5954306021515 ┆ Total_bilirubin_55 ┆ 13.0  ┆ 1995-02-28 │\n",
       "│ p21515_5954306021515 ┆ Total_bilirubin_55 ┆ 14.0  ┆ 1995-04-12 │\n",
       "│ p21515_5954327421515 ┆ Total_bilirubin_55 ┆ 7.0   ┆ 2003-06-19 │\n",
       "│ p21515_5954355021515 ┆ Total_bilirubin_55 ┆ 6.0   ┆ 1997-02-06 │\n",
       "│ p21515_5954547921515 ┆ Total_bilirubin_55 ┆ 11.0  ┆ 1997-08-07 │\n",
       "└──────────────────────┴────────────────────┴───────┴────────────┘"
      ]
     },
     "metadata": {},
     "output_type": "display_data"
    },
    {
     "name": "stdout",
     "output_type": "stream",
     "text": [
      "lazy_measurement_Total_cholesterol_HDL_ratio_95\n"
     ]
    },
    {
     "data": {
      "text/html": [
       "<div><style>\n",
       ".dataframe > thead > tr > th,\n",
       ".dataframe > tbody > tr > td {\n",
       "  text-align: right;\n",
       "}\n",
       "</style>\n",
       "<small>shape: (5, 4)</small><table border=\"1\" class=\"dataframe\"><thead><tr><th>PRACTICE_PATIENT_ID</th><th>EVENT</th><th>VALUE</th><th>DATE</th></tr><tr><td>str</td><td>str</td><td>f64</td><td>str</td></tr></thead><tbody><tr><td>&quot;p21515_5954189…</td><td>&quot;Total_choleste…</td><td>3.0</td><td>&quot;2009-04-15&quot;</td></tr><tr><td>&quot;p21515_5954189…</td><td>&quot;Total_choleste…</td><td>2.08</td><td>&quot;2009-08-17&quot;</td></tr><tr><td>&quot;p21515_5954189…</td><td>&quot;Total_choleste…</td><td>2.07</td><td>&quot;2013-06-12&quot;</td></tr><tr><td>&quot;p21515_5954189…</td><td>&quot;Total_choleste…</td><td>1.72</td><td>&quot;2014-06-16&quot;</td></tr><tr><td>&quot;p21515_5954190…</td><td>&quot;Total_choleste…</td><td>4.89</td><td>&quot;2007-10-15&quot;</td></tr></tbody></table></div>"
      ],
      "text/plain": [
       "shape: (5, 4)\n",
       "┌──────────────────────┬────────────────────────────────┬───────┬────────────┐\n",
       "│ PRACTICE_PATIENT_ID  ┆ EVENT                          ┆ VALUE ┆ DATE       │\n",
       "│ ---                  ┆ ---                            ┆ ---   ┆ ---        │\n",
       "│ str                  ┆ str                            ┆ f64   ┆ str        │\n",
       "╞══════════════════════╪════════════════════════════════╪═══════╪════════════╡\n",
       "│ p21515_5954189921515 ┆ Total_cholesterol_HDL_ratio_95 ┆ 3.0   ┆ 2009-04-15 │\n",
       "│ p21515_5954189921515 ┆ Total_cholesterol_HDL_ratio_95 ┆ 2.08  ┆ 2009-08-17 │\n",
       "│ p21515_5954189921515 ┆ Total_cholesterol_HDL_ratio_95 ┆ 2.07  ┆ 2013-06-12 │\n",
       "│ p21515_5954189921515 ┆ Total_cholesterol_HDL_ratio_95 ┆ 1.72  ┆ 2014-06-16 │\n",
       "│ p21515_5954190521515 ┆ Total_cholesterol_HDL_ratio_95 ┆ 4.89  ┆ 2007-10-15 │\n",
       "└──────────────────────┴────────────────────────────────┴───────┴────────────┘"
      ]
     },
     "metadata": {},
     "output_type": "display_data"
    },
    {
     "name": "stdout",
     "output_type": "stream",
     "text": [
      "lazy_measurement_Total_white_cell_count_18\n"
     ]
    },
    {
     "data": {
      "text/html": [
       "<div><style>\n",
       ".dataframe > thead > tr > th,\n",
       ".dataframe > tbody > tr > td {\n",
       "  text-align: right;\n",
       "}\n",
       "</style>\n",
       "<small>shape: (5, 4)</small><table border=\"1\" class=\"dataframe\"><thead><tr><th>PRACTICE_PATIENT_ID</th><th>EVENT</th><th>VALUE</th><th>DATE</th></tr><tr><td>str</td><td>str</td><td>f64</td><td>str</td></tr></thead><tbody><tr><td>&quot;p21515_1099623…</td><td>&quot;Total_white_ce…</td><td>7.3</td><td>&quot;2006-08-24&quot;</td></tr><tr><td>&quot;p21515_1099623…</td><td>&quot;Total_white_ce…</td><td>6.2</td><td>&quot;2013-06-06&quot;</td></tr><tr><td>&quot;p21515_1099623…</td><td>&quot;Total_white_ce…</td><td>6.5</td><td>&quot;2013-08-08&quot;</td></tr><tr><td>&quot;p21515_1099623…</td><td>&quot;Total_white_ce…</td><td>6.4</td><td>&quot;2015-01-14&quot;</td></tr><tr><td>&quot;p21515_1099623…</td><td>&quot;Total_white_ce…</td><td>7.2</td><td>&quot;2015-11-03&quot;</td></tr></tbody></table></div>"
      ],
      "text/plain": [
       "shape: (5, 4)\n",
       "┌───────────────────────┬───────────────────────────┬───────┬────────────┐\n",
       "│ PRACTICE_PATIENT_ID   ┆ EVENT                     ┆ VALUE ┆ DATE       │\n",
       "│ ---                   ┆ ---                       ┆ ---   ┆ ---        │\n",
       "│ str                   ┆ str                       ┆ f64   ┆ str        │\n",
       "╞═══════════════════════╪═══════════════════════════╪═══════╪════════════╡\n",
       "│ p21515_10996238121515 ┆ Total_white_cell_count_18 ┆ 7.3   ┆ 2006-08-24 │\n",
       "│ p21515_10996238121515 ┆ Total_white_cell_count_18 ┆ 6.2   ┆ 2013-06-06 │\n",
       "│ p21515_10996238121515 ┆ Total_white_cell_count_18 ┆ 6.5   ┆ 2013-08-08 │\n",
       "│ p21515_10996238121515 ┆ Total_white_cell_count_18 ┆ 6.4   ┆ 2015-01-14 │\n",
       "│ p21515_10996238121515 ┆ Total_white_cell_count_18 ┆ 7.2   ┆ 2015-11-03 │\n",
       "└───────────────────────┴───────────────────────────┴───────┴────────────┘"
      ]
     },
     "metadata": {},
     "output_type": "display_data"
    },
    {
     "name": "stdout",
     "output_type": "stream",
     "text": [
      "lazy_measurement_Urine_albumin_creatinine_ratio_35\n"
     ]
    },
    {
     "data": {
      "text/html": [
       "<div><style>\n",
       ".dataframe > thead > tr > th,\n",
       ".dataframe > tbody > tr > td {\n",
       "  text-align: right;\n",
       "}\n",
       "</style>\n",
       "<small>shape: (5, 4)</small><table border=\"1\" class=\"dataframe\"><thead><tr><th>PRACTICE_PATIENT_ID</th><th>EVENT</th><th>VALUE</th><th>DATE</th></tr><tr><td>str</td><td>str</td><td>f64</td><td>str</td></tr></thead><tbody><tr><td>&quot;p21515_5954187…</td><td>&quot;Urine_albumin_…</td><td>2.11</td><td>&quot;2011-07-15&quot;</td></tr><tr><td>&quot;p21515_5954189…</td><td>&quot;Urine_albumin_…</td><td>2.33</td><td>&quot;2009-04-16&quot;</td></tr><tr><td>&quot;p21515_5954189…</td><td>&quot;Urine_albumin_…</td><td>1.88</td><td>&quot;2010-04-13&quot;</td></tr><tr><td>&quot;p21515_5954189…</td><td>&quot;Urine_albumin_…</td><td>2.11</td><td>&quot;2011-09-16&quot;</td></tr><tr><td>&quot;p21515_5954189…</td><td>&quot;Urine_albumin_…</td><td>3.39</td><td>&quot;2012-05-16&quot;</td></tr></tbody></table></div>"
      ],
      "text/plain": [
       "shape: (5, 4)\n",
       "┌──────────────────────┬───────────────────────────────────┬───────┬────────────┐\n",
       "│ PRACTICE_PATIENT_ID  ┆ EVENT                             ┆ VALUE ┆ DATE       │\n",
       "│ ---                  ┆ ---                               ┆ ---   ┆ ---        │\n",
       "│ str                  ┆ str                               ┆ f64   ┆ str        │\n",
       "╞══════════════════════╪═══════════════════════════════════╪═══════╪════════════╡\n",
       "│ p21515_5954187521515 ┆ Urine_albumin_creatinine_ratio_3… ┆ 2.11  ┆ 2011-07-15 │\n",
       "│ p21515_5954189921515 ┆ Urine_albumin_creatinine_ratio_3… ┆ 2.33  ┆ 2009-04-16 │\n",
       "│ p21515_5954189921515 ┆ Urine_albumin_creatinine_ratio_3… ┆ 1.88  ┆ 2010-04-13 │\n",
       "│ p21515_5954189921515 ┆ Urine_albumin_creatinine_ratio_3… ┆ 2.11  ┆ 2011-09-16 │\n",
       "│ p21515_5954189921515 ┆ Urine_albumin_creatinine_ratio_3… ┆ 3.39  ┆ 2012-05-16 │\n",
       "└──────────────────────┴───────────────────────────────────┴───────┴────────────┘"
      ]
     },
     "metadata": {},
     "output_type": "display_data"
    },
    {
     "name": "stdout",
     "output_type": "stream",
     "text": [
      "lazy_measurement_Urine_microalbumin_creatinine_ratio_36\n"
     ]
    },
    {
     "data": {
      "text/html": [
       "<div><style>\n",
       ".dataframe > thead > tr > th,\n",
       ".dataframe > tbody > tr > td {\n",
       "  text-align: right;\n",
       "}\n",
       "</style>\n",
       "<small>shape: (5, 4)</small><table border=\"1\" class=\"dataframe\"><thead><tr><th>PRACTICE_PATIENT_ID</th><th>EVENT</th><th>VALUE</th><th>DATE</th></tr><tr><td>str</td><td>str</td><td>f64</td><td>str</td></tr></thead><tbody><tr><td>&quot;p21515_5955287…</td><td>&quot;Urine_microalb…</td><td>1.0</td><td>&quot;2000-12-11&quot;</td></tr><tr><td>&quot;p21515_5955287…</td><td>&quot;Urine_microalb…</td><td>2.9</td><td>&quot;2000-12-16&quot;</td></tr><tr><td>&quot;p21515_5955899…</td><td>&quot;Urine_microalb…</td><td>1.1</td><td>&quot;2014-06-17&quot;</td></tr><tr><td>&quot;p21515_5956855…</td><td>&quot;Urine_microalb…</td><td>15.46</td><td>&quot;2013-04-25&quot;</td></tr><tr><td>&quot;p21515_5957534…</td><td>&quot;Urine_microalb…</td><td>null</td><td>&quot;2004-05-26&quot;</td></tr></tbody></table></div>"
      ],
      "text/plain": [
       "shape: (5, 4)\n",
       "┌──────────────────────┬───────────────────────────────────┬───────┬────────────┐\n",
       "│ PRACTICE_PATIENT_ID  ┆ EVENT                             ┆ VALUE ┆ DATE       │\n",
       "│ ---                  ┆ ---                               ┆ ---   ┆ ---        │\n",
       "│ str                  ┆ str                               ┆ f64   ┆ str        │\n",
       "╞══════════════════════╪═══════════════════════════════════╪═══════╪════════════╡\n",
       "│ p21515_5955287921515 ┆ Urine_microalbumin_creatinine_ra… ┆ 1.0   ┆ 2000-12-11 │\n",
       "│ p21515_5955287921515 ┆ Urine_microalbumin_creatinine_ra… ┆ 2.9   ┆ 2000-12-16 │\n",
       "│ p21515_5955899121515 ┆ Urine_microalbumin_creatinine_ra… ┆ 1.1   ┆ 2014-06-17 │\n",
       "│ p21515_5956855821515 ┆ Urine_microalbumin_creatinine_ra… ┆ 15.46 ┆ 2013-04-25 │\n",
       "│ p21515_5957534821515 ┆ Urine_microalbumin_creatinine_ra… ┆ null  ┆ 2004-05-26 │\n",
       "└──────────────────────┴───────────────────────────────────┴───────┴────────────┘"
      ]
     },
     "metadata": {},
     "output_type": "display_data"
    },
    {
     "name": "stdout",
     "output_type": "stream",
     "text": [
      "lazy_measurement_eGFR_using_creatinine_CKD_EPI_per_1_73_square_metres_33\n"
     ]
    },
    {
     "data": {
      "text/html": [
       "<div><style>\n",
       ".dataframe > thead > tr > th,\n",
       ".dataframe > tbody > tr > td {\n",
       "  text-align: right;\n",
       "}\n",
       "</style>\n",
       "<small>shape: (5, 4)</small><table border=\"1\" class=\"dataframe\"><thead><tr><th>PRACTICE_PATIENT_ID</th><th>EVENT</th><th>VALUE</th><th>DATE</th></tr><tr><td>str</td><td>str</td><td>f64</td><td>str</td></tr></thead><tbody><tr><td>&quot;p21515_5954187…</td><td>&quot;eGFR_using_cre…</td><td>90.0</td><td>&quot;2019-09-18&quot;</td></tr><tr><td>&quot;p21515_5954187…</td><td>&quot;eGFR_using_cre…</td><td>90.0</td><td>&quot;2021-09-03&quot;</td></tr><tr><td>&quot;p21515_5954188…</td><td>&quot;eGFR_using_cre…</td><td>11.6</td><td>&quot;2019-01-07&quot;</td></tr><tr><td>&quot;p21515_5954188…</td><td>&quot;eGFR_using_cre…</td><td>3.8</td><td>&quot;2020-05-30&quot;</td></tr><tr><td>&quot;p21515_5954188…</td><td>&quot;eGFR_using_cre…</td><td>3.0</td><td>&quot;2022-02-03&quot;</td></tr></tbody></table></div>"
      ],
      "text/plain": [
       "shape: (5, 4)\n",
       "┌──────────────────────┬───────────────────────────────────┬───────┬────────────┐\n",
       "│ PRACTICE_PATIENT_ID  ┆ EVENT                             ┆ VALUE ┆ DATE       │\n",
       "│ ---                  ┆ ---                               ┆ ---   ┆ ---        │\n",
       "│ str                  ┆ str                               ┆ f64   ┆ str        │\n",
       "╞══════════════════════╪═══════════════════════════════════╪═══════╪════════════╡\n",
       "│ p21515_5954187821515 ┆ eGFR_using_creatinine_CKD_EPI_pe… ┆ 90.0  ┆ 2019-09-18 │\n",
       "│ p21515_5954187821515 ┆ eGFR_using_creatinine_CKD_EPI_pe… ┆ 90.0  ┆ 2021-09-03 │\n",
       "│ p21515_5954188221515 ┆ eGFR_using_creatinine_CKD_EPI_pe… ┆ 11.6  ┆ 2019-01-07 │\n",
       "│ p21515_5954188221515 ┆ eGFR_using_creatinine_CKD_EPI_pe… ┆ 3.8   ┆ 2020-05-30 │\n",
       "│ p21515_5954188221515 ┆ eGFR_using_creatinine_CKD_EPI_pe… ┆ 3.0   ┆ 2022-02-03 │\n",
       "└──────────────────────┴───────────────────────────────────┴───────┴────────────┘"
      ]
     },
     "metadata": {},
     "output_type": "display_data"
    }
   ],
   "source": [
    "generator = collector._lazy_generate_by_distinct(distinct_values=practice_patient_ids, \n",
    "                                                 identifier_column=\"PRACTICE_PATIENT_ID\",)\n",
    "start = time.time()\n",
    "for _idx, (chunk_name, lazy_table_frames_dict) in enumerate(generator):\n",
    "    \n",
    "    print(f\"collector took {time.time() - start} seconds\")\n",
    "\n",
    "    start = time.time()\n",
    "    batch = collector._collate_lazy_tables(lazy_table_frames_dict).collect()\n",
    "    print(f\"collating events took {time.time() - start} seconds\")\n",
    "\n",
    "    start = time.time()\n",
    "    if _idx > 5:\n",
    "        break\n",
    "    \n",
    "print(lazy_table_frames_dict)\n",
    "# print(f\"Chunk containing practice ID: {chunk_name}\\n\\n\")\n",
    "for key in lazy_table_frames_dict.keys():\n",
    "    print(key)\n",
    "    display(lazy_table_frames_dict[key].collect().head())\n"
   ]
  },
  {
   "cell_type": "code",
   "execution_count": 15,
   "id": "c7c3a1bd-93ef-4186-bcf4-d37a418d8245",
   "metadata": {},
   "outputs": [
    {
     "data": {
      "text/plain": [
       "{'lazy_static_table': <polars.LazyFrame object at 0x7F653F62A170>}"
      ]
     },
     "metadata": {},
     "output_type": "display_data"
    }
   ],
   "source": [
    "display(lazy_table_frames_dict)"
   ]
  },
  {
   "cell_type": "markdown",
   "id": "db8aa0fd-30fd-43f5-ba8b-8ed6635ed5af",
   "metadata": {},
   "source": [
    "Alternatively, we may which to generate groups/batches of individuals for vectorisation. In that case we can pass in a list of lists. We generate over the outer list, and each call yields all the inner list values.\n",
    "\n",
    "For example, in the below we have an outer list of all practices, and an inner list of patients within the practice. Consequently, each call to generate yields all records of all patients within a practice."
   ]
  },
  {
   "cell_type": "code",
   "execution_count": null,
   "id": "1de5986d-6534-4b5e-b34c-f5f8fd2783f5",
   "metadata": {},
   "outputs": [],
   "source": [
    "generator = collector._lazy_generate_by_distinct(practice_patient_ids, [\"static_table\", \"measurement_table\", \"diagnosis_table\"], \"PRACTICE_PATIENT_ID\")\n",
    "for _idx, (chunk_name, lazy_table_frames_dict) in enumerate(generator):\n",
    "    break\n",
    "    \n",
    "# print(f\"Chunk containing practice ID: {chunk_name}\\n\\n\")\n",
    "display(lazy_table_frames_dict[\"lazy_static\"].collect().head())\n",
    "display(lazy_table_frames_dict[\"lazy_measurement\"].collect().head())\n",
    "display(lazy_table_frames_dict[\"lazy_diagnosis\"].collect().head())\n"
   ]
  },
  {
   "cell_type": "markdown",
   "id": "c1c10947-2d93-4cff-8483-772231d66a67",
   "metadata": {},
   "source": [
    "### Test collation of generated lazy frames"
   ]
  },
  {
   "cell_type": "code",
   "execution_count": null,
   "id": "d655d2d4-eac7-46fa-93a8-14445ca69bbb",
   "metadata": {},
   "outputs": [],
   "source": [
    "lazy_batch = collector._collate_lazy_tables(**lazy_table_frames_dict)"
   ]
  },
  {
   "cell_type": "markdown",
   "id": "b0982f94-fdcc-4cf9-bb46-854aea12bf68",
   "metadata": {},
   "source": [
    "### View how tables are aligned"
   ]
  },
  {
   "cell_type": "code",
   "execution_count": null,
   "id": "fff015bd-5247-443f-af90-2871635a0283",
   "metadata": {},
   "outputs": [],
   "source": [
    "batch = lazy_batch.collect()\n",
    "display(batch)\n",
    "\n",
    "first_identifier = list(batch[\"PRACTICE_PATIENT_ID\"].unique())[0]\n",
    "display(first_identifier)\n",
    "                        \n",
    "row = batch.filter(pl.col(\"PRACTICE_PATIENT_ID\") == first_identifier)\n",
    "display(row)\n",
    "\n",
    "\n",
    "measur = lazy_table_frames_dict[\"lazy_measurement\"].collect()\n",
    "row = measur.filter(pl.col(\"EVENT\") == \"Diastolic_blood_pressure_5\")\n",
    "display(row)"
   ]
  },
  {
   "cell_type": "markdown",
   "id": "7e3d3e96-1989-4933-968c-b5da485b3162",
   "metadata": {},
   "source": [
    "# Demo wrapper\n",
    "\n",
    "All of this is wrapped together (without the option to filter - add your own wrapper specific to you application)"
   ]
  },
  {
   "cell_type": "code",
   "execution_count": null,
   "id": "745248b8-4fbc-43e6-ae4c-c9383fa28bc4",
   "metadata": {},
   "outputs": [],
   "source": [
    "# for _idx, (chunk_name, lazy_table_frames_dict) in enumerate(collector.generator()):\n",
    "#     lazy_batch = collector._collate_lazy_tables(**lazy_table_frames_dict)\n",
    "#     break\n",
    "# print(_idx)\n",
    "# print(lazy_batch.collect())"
   ]
  },
  {
   "cell_type": "code",
   "execution_count": null,
   "id": "7b93b43e-a670-4113-826c-350d500561fc",
   "metadata": {},
   "outputs": [],
   "source": [
    "!jupyter nbconvert --to html --no-input buildV2.ipynb"
   ]
  },
  {
   "cell_type": "code",
   "execution_count": null,
   "id": "6e9f9ec8-e833-4590-81c1-e185c18ba3b4",
   "metadata": {},
   "outputs": [],
   "source": []
  }
 ],
 "metadata": {
  "kernelspec": {
   "display_name": "Python",
   "language": "python",
   "name": "sys_python"
  },
  "language_info": {
   "codemirror_mode": {
    "name": "ipython",
    "version": 3
   },
   "file_extension": ".py",
   "mimetype": "text/x-python",
   "name": "python",
   "nbconvert_exporter": "python",
   "pygments_lexer": "ipython3",
   "version": "3.10.4"
  }
 },
 "nbformat": 4,
 "nbformat_minor": 5
}
