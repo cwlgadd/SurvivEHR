{
 "cells": [
  {
   "cell_type": "code",
   "execution_count": 1,
   "id": "035f8e72-250d-4ffc-bfea-2403554b68b5",
   "metadata": {},
   "outputs": [
    {
     "name": "stdout",
     "output_type": "stream",
     "text": [
      "test\n",
      "Added path '/rds/homes/g/gaddcz/Projects/CPRD/virtual-env-icelake/lib/python3.10/site-packages' at start of search paths.\n",
      "env: SQLITE_TMPDIR=/rds/projects/g/gokhalkm-optimal/DataforCharles\n",
      "env: TMPDIR=/rds/projects/g/gokhalkm-optimal/DataforCharles\n",
      "/rds/projects/g/gokhalkm-optimal/DataforCharles\n",
      "/rds/projects/g/gokhalkm-optimal/DataforCharles\n",
      "\n"
     ]
    }
   ],
   "source": [
    "print(\"test\")\n",
    "import os\n",
    "from pathlib import Path\n",
    "import sys\n",
    "node_type = os.getenv('BB_CPU')\n",
    "venv_dir = f'/rds/homes/g/gaddcz/Projects/CPRD/virtual-env-{node_type}'\n",
    "venv_site_pkgs = Path(venv_dir) / 'lib' / f'python{sys.version_info.major}.{sys.version_info.minor}' / 'site-packages'\n",
    "if venv_site_pkgs.exists():\n",
    "    sys.path.insert(0, str(venv_site_pkgs))\n",
    "    print(f\"Added path '{venv_site_pkgs}' at start of search paths.\")\n",
    "else:\n",
    "    print(f\"Path '{venv_site_pkgs}' not found. Check that it exists and/or that it exists for node-type '{node_type}'.\")\n",
    "\n",
    "%load_ext autoreload\n",
    "%autoreload 2\n",
    "\n",
    "%env SQLITE_TMPDIR=/rds/projects/g/gokhalkm-optimal/DataforCharles\n",
    "%env TMPDIR=/rds/projects/g/gokhalkm-optimal/DataforCharles\n",
    "!echo $SQLITE_TMPDIR\n",
    "!echo $TMPDIR\n",
    "!echo $USERPROFILE"
   ]
  },
  {
   "cell_type": "code",
   "execution_count": 2,
   "id": "b4c9bdce-d6af-44ea-a33b-5b448b0e0254",
   "metadata": {},
   "outputs": [
    {
     "name": "stdout",
     "output_type": "stream",
     "text": [
      "Using device: cuda.\n",
      "/rds/homes/g/gaddcz/Projects/CPRD/data/database\n"
     ]
    }
   ],
   "source": [
    "import pytorch_lightning\n",
    "import torch\n",
    "import numpy as np\n",
    "import matplotlib.pyplot as plt\n",
    "import random\n",
    "import sqlite3\n",
    "import logging\n",
    "import time\n",
    "from CPRD.data.database.build_static_db import Static\n",
    "from CPRD.data.database.build_diagnosis_db import Diagnoses\n",
    "from CPRD.data.database.build_measurements_and_tests_db import Measurements\n",
    "\n",
    "torch.manual_seed(1337)\n",
    "logging.basicConfig(level=logging.DEBUG)\n",
    "device = 'cuda' if torch.cuda.is_available() else 'cpu'\n",
    "\n",
    "print(f\"Using device: {device}.\")\n",
    "\n",
    "# !export TMPDIR=/rds/projects/g/gokhalkm-optimal/DataforCharles/tmp\n",
    "!pwd\n"
   ]
  },
  {
   "cell_type": "code",
   "execution_count": 3,
   "id": "26ca2ecf-92a0-4970-82b1-d3f1ff20be25",
   "metadata": {},
   "outputs": [],
   "source": [
    "# import pandas as pd\n",
    "# generator = pd.read_csv(PATH_TO_STATIC, chunksize=10, iterator=True, encoding='utf-8', low_memory=False,\n",
    "#                                dtype={'PATIENT_ID': 'str'}\n",
    "#                                )\n",
    "# for _idx, df in enumerate(generator):\n",
    "#     display(df[\"IMD\"])\n",
    "#     if _idx > 100:\n",
    "#         break"
   ]
  },
  {
   "cell_type": "code",
   "execution_count": 11,
   "id": "2fd68b7b-b26f-4fe2-8484-7cd8b1b1af95",
   "metadata": {},
   "outputs": [],
   "source": [
    "PATH_TO_DB = \"/rds/projects/g/gokhalkm-optimal/OPTIMAL_MASTER_DATASET/data/cprd.db\""
   ]
  },
  {
   "cell_type": "markdown",
   "id": "eaa723e6-97f2-4716-8f1e-7d2fd65a9e98",
   "metadata": {},
   "source": [
    "## Create/load tables"
   ]
  },
  {
   "cell_type": "code",
   "execution_count": 12,
   "id": "e09204e7-348e-42f8-81e1-0673b4f5cd5f",
   "metadata": {
    "scrolled": true
   },
   "outputs": [],
   "source": [
    "PATH_TO_STATIC = \"/rds/projects/g/gokhalkm-optimal/OPTIMAL_MASTER_DATASET/data/baseline/masterDataOptimalWithIMD_v3.csv\"\n",
    "PATH_TO_DIAGNOSIS = \"/rds/projects/g/gokhalkm-optimal/OPTIMAL_MASTER_DATASET/data/baseline/masterDataOptimalWithIMD_v3.csv\"\n",
    "PATH_TO_MEASUREMENTS = \"/rds/projects/g/gokhalkm-optimal/OPTIMAL_MASTER_DATASET/data/timeseries/measurement_and_tests/lab_measurements/\"\n",
    "PATH_TO_MEDICATIONS = \"/rds/projects/g/gokhalkm-optimal/OPTIMAL_MASTER_DATASET/data/timeseries/medications/\"\n",
    "\n",
    "load = True\n",
    "\n",
    "static = Static(PATH_TO_DB, PATH_TO_STATIC, load=load)\n",
    "diagnosis = Diagnoses(PATH_TO_DB, PATH_TO_DIAGNOSIS, load=load)\n",
    "measurements = Measurements(PATH_TO_DB, PATH_TO_MEASUREMENTS, load=load)\n",
    "medications = Measurements(PATH_TO_DB, PATH_TO_MEDICATIONS, load=load)"
   ]
  },
  {
   "cell_type": "markdown",
   "id": "c501f6b2-ca6c-4429-8e84-56f39917f025",
   "metadata": {},
   "source": [
    "## View tables\n",
    "\n",
    "These are built through a job script"
   ]
  },
  {
   "cell_type": "code",
   "execution_count": 13,
   "id": "6357d2db-ab48-4db6-88b2-e90e20cda213",
   "metadata": {
    "scrolled": true
   },
   "outputs": [
    {
     "name": "stderr",
     "output_type": "stream",
     "text": [
      "DEBUG:root:Connected to SQLite database\n",
      "DEBUG:root:Disconnected from SQLite database\n",
      "DEBUG:root:Connected to SQLite database\n"
     ]
    },
    {
     "name": "stdout",
     "output_type": "stream",
     "text": [
      "Static table with 28.12M records.\n"
     ]
    },
    {
     "name": "stderr",
     "output_type": "stream",
     "text": [
      "DEBUG:root:Disconnected from SQLite database\n",
      "DEBUG:root:Connected to SQLite database\n"
     ]
    },
    {
     "name": "stdout",
     "output_type": "stream",
     "text": [
      "Diagnosis table with 51.00M records.\n"
     ]
    },
    {
     "ename": "KeyboardInterrupt",
     "evalue": "",
     "output_type": "error",
     "traceback": [
      "\u001b[0;31m---------------------------------------------------------------------------\u001b[0m",
      "\u001b[0;31mKeyboardInterrupt\u001b[0m                         Traceback (most recent call last)",
      "Cell \u001b[0;32mIn [13], line 2\u001b[0m\n\u001b[1;32m      1\u001b[0m \u001b[38;5;28;01mfor\u001b[39;00m table \u001b[38;5;129;01min\u001b[39;00m [static, diagnosis, measurements, medications]:\n\u001b[0;32m----> 2\u001b[0m     \u001b[38;5;28;43mprint\u001b[39;49m\u001b[43m(\u001b[49m\u001b[43mtable\u001b[49m\u001b[43m)\u001b[49m\n",
      "File \u001b[0;32m~/Projects/CPRD/data/database/build_measurements_and_tests_db.py:63\u001b[0m, in \u001b[0;36mMeasurements.__str__\u001b[0;34m(self)\u001b[0m\n\u001b[1;32m     61\u001b[0m total_count \u001b[38;5;241m=\u001b[39m \u001b[38;5;241m0\u001b[39m\n\u001b[1;32m     62\u001b[0m \u001b[38;5;28;01mfor\u001b[39;00m table \u001b[38;5;129;01min\u001b[39;00m \u001b[38;5;28mself\u001b[39m\u001b[38;5;241m.\u001b[39mmeasurement_table_names:\n\u001b[0;32m---> 63\u001b[0m     \u001b[38;5;28;43mself\u001b[39;49m\u001b[38;5;241;43m.\u001b[39;49m\u001b[43mcursor\u001b[49m\u001b[38;5;241;43m.\u001b[39;49m\u001b[43mexecute\u001b[49m\u001b[43m(\u001b[49m\u001b[38;5;124;43mf\u001b[39;49m\u001b[38;5;124;43m\"\u001b[39;49m\u001b[38;5;124;43mSELECT COUNT(*) FROM \u001b[39;49m\u001b[38;5;132;43;01m{\u001b[39;49;00m\u001b[43mtable\u001b[49m\u001b[38;5;132;43;01m}\u001b[39;49;00m\u001b[38;5;124;43m\"\u001b[39;49m\u001b[43m)\u001b[49m\n\u001b[1;32m     64\u001b[0m     measurement \u001b[38;5;241m=\u001b[39m table[\u001b[38;5;241m12\u001b[39m:]\n\u001b[1;32m     65\u001b[0m     count \u001b[38;5;241m=\u001b[39m \u001b[38;5;28mself\u001b[39m\u001b[38;5;241m.\u001b[39mcursor\u001b[38;5;241m.\u001b[39mfetchone()[\u001b[38;5;241m0\u001b[39m]\n",
      "\u001b[0;31mKeyboardInterrupt\u001b[0m: "
     ]
    }
   ],
   "source": [
    "for table in [static, diagnosis, measurements, medications]:\n",
    "    print(table)"
   ]
  },
  {
   "cell_type": "markdown",
   "id": "a2b19643-454b-4b71-ac02-2ae3e6349555",
   "metadata": {},
   "source": [
    "## Temporary manual fix to rename table names (so i dont need to rebuild the entire database from a bug fix)"
   ]
  },
  {
   "cell_type": "code",
   "execution_count": 26,
   "id": "da158830-dcbf-446a-90d3-2d55fec5deeb",
   "metadata": {},
   "outputs": [],
   "source": [
    "# for table in measurements.measurement_table_names:\n",
    "#     # print(table)\n",
    "#     prefix = \"measurement_AVF1_masterDataOptimal_v3_fullDB20231112044822_\"\n",
    "#     if table.startswith(prefix):\n",
    "#         new_table = \"measurement_\" + table[len(prefix):]\n",
    "#         print(table)\n",
    "#         print(new_table)\n",
    "#         measurements.cursor.execute(f\"ALTER TABLE {table}  RENAME TO {new_table};\")"
   ]
  },
  {
   "cell_type": "code",
   "execution_count": 25,
   "id": "0b711141-3515-44e8-899f-0922e8d78aff",
   "metadata": {},
   "outputs": [
    {
     "name": "stderr",
     "output_type": "stream",
     "text": [
      "DEBUG:root:Connected to SQLite database\n"
     ]
    },
    {
     "name": "stdout",
     "output_type": "stream",
     "text": [
      "['measurement_25_Hydroxyvitamin_D2_level_92', 'measurement_25_Hydroxyvitamin_D3_level_90', 'measurement_AST___aspartate_transam_SGOT__46', 'measurement_AST_serum_level_47', 'measurement_Albumin___creatinine_ratio_37', 'measurement_Basophil_count_22', 'measurement_Blood_calcium_level_38', 'measurement_Blood_urea_28', 'measurement_Body_mass_index_3', 'measurement_Brain_natriuretic_peptide_level_66', 'measurement_Calcium_adjusted_level_41', 'measurement_Calculated_LDL_cholesterol_level_103', 'measurement_Combined_total_vitamin_D2_and_D3_level_93', 'measurement_Corrected_serum_calcium_level_42', 'measurement_Current_smoker_83', 'measurement_Diastolic_blood_pressure_5', 'measurement_Eosinophil_count_21', 'measurement_Erythrocyte_sedimentation_rate_61', 'measurement_Ex_smoker_84', 'measurement_Free_T4_level_76', 'measurement_GFR_calculated_abbreviated_MDRD_34', 'measurement_Haematocrit___PCV_16', 'measurement_Haematocrit_15', 'measurement_Haemoglobin_A1c_level___IFCC_standardised_6', 'measurement_Haemoglobin_A1c_level_8', 'measurement_Haemoglobin_estimation_9', 'measurement_HbA1c_level__DCCT_aligned__7', 'measurement_INR___international_normalised_ratio_81', 'measurement_International_normalised_ratio_82', 'measurement_Lymphocyte_count_20', 'measurement_Mean_corpusc_Hb_conc__MCHC__14', 'measurement_Mean_corpusc_haemoglobin_MCH__13', 'measurement_Mean_corpuscular_volume__MCV__11', 'measurement_Monocyte_count_23', 'measurement_N_terminal_pro_brain_natriuretic_peptide_level_67', 'measurement_Neutrophil_count_19', 'measurement_Never_smoked_tobacco_85', 'measurement_Non_HDL_cholesterol_level_108', 'measurement_O_E___height_1', 'measurement_O_E___weight_2', 'measurement_Plasma_B_natriuretic_peptide_level_69', 'measurement_Plasma_C_reactive_protein_60', 'measurement_Plasma_HDL_cholesterol_level_101', 'measurement_Plasma_LDL_cholesterol_level_104', 'measurement_Plasma_N_terminal_pro_B_type_natriuretic_peptide_conc_70', 'measurement_Plasma_TSH_level_73', 'measurement_Plasma_alanine_aminotransferase_level_44', 'measurement_Plasma_albumin_level_52', 'measurement_Plasma_alkaline_phosphatase_level_49', 'measurement_Plasma_calcium_level_40', 'measurement_Plasma_cholesterol_HDL_ratio_96', 'measurement_Plasma_corrected_calcium_level_43', 'measurement_Plasma_creatinine_level_32', 'measurement_Plasma_ferritin_level_62', 'measurement_Plasma_free_T4_level_77', 'measurement_Plasma_gamma_glutamyl_transferase_level_58', 'measurement_Plasma_potassium_level_27', 'measurement_Plasma_pro_brain_natriuretic_peptide_level_64', 'measurement_Plasma_sodium_level_25', 'measurement_Plasma_total_bilirubin_level_54', 'measurement_Plasma_total_cholesterol_level_99', 'measurement_Plasma_triglyceride_level_106', 'measurement_Plasma_urea_level_30', 'measurement_Platelet_count_12', 'measurement_Red_blood_cell__RBC__count_10', 'measurement_Red_blood_cell_distribution_width_17', 'measurement_Serum_25_Hydroxy_vitamin_D3_level_88', 'measurement_Serum_C_reactive_protein_level_59', 'measurement_Serum_HDL_cholesterol_level_100', 'measurement_Serum_LDL_cholesterol_level_102', 'measurement_Serum_N_terminal_pro_B_type_natriuretic_peptide_conc_68', 'measurement_Serum_T4_level_78', 'measurement_Serum_TSH_level_71', 'measurement_Serum_alanine_aminotransferase_level_45', 'measurement_Serum_albumin_51', 'measurement_Serum_alkaline_phosphatase_50', 'measurement_Serum_bilirubin_level_53', 'measurement_Serum_calcium_39', 'measurement_Serum_cholesterol_97', 'measurement_Serum_cholesterol_HDL_ratio_94', 'measurement_Serum_creatinine_31', 'measurement_Serum_ferritin_63', 'measurement_Serum_folate_80', 'measurement_Serum_free_T4_level_75', 'measurement_Serum_gamma_glutamyl_transferase_level_57', 'measurement_Serum_non_high_density_lipoprotein_cholesterol_level_107', 'measurement_Serum_potassium_26', 'measurement_Serum_pro_brain_natriuretic_peptide_level_65', 'measurement_Serum_sodium_24', 'measurement_Serum_total_25_hydroxy_vitamin_D_level_87', 'measurement_Serum_total_bilirubin_level_56', 'measurement_Serum_total_cholesterol_level_98', 'measurement_Serum_triglycerides_105', 'measurement_Serum_urea_level_29', 'measurement_Serum_vitamin_B12_79', 'measurement_Serum_vitamin_D2_level_89', 'measurement_Serum_vitamin_D_86', 'measurement_Systolic_blood_pressure_4', 'measurement_TSH___thyroid_stim_hormone_72', 'measurement_TSH_level_74', 'measurement_Total_25_hydroxyvitamin_D_level_91', 'measurement_Total_alkaline_phosphatase_48', 'measurement_Total_bilirubin_55', 'measurement_Total_cholesterol_HDL_ratio_95', 'measurement_Total_white_cell_count_18', 'measurement_Urine_albumin_creatinine_ratio_35', 'measurement_Urine_microalbumin_creatinine_ratio_36', 'measurement_eGFR_using_creatinine_CKD_EPI_per_1_73_square_metres_33', 'measurement_ACE_Inhibitors_D2T', 'measurement_AMD_DH_Donepezil', 'measurement_AMD_DH_Memantine', 'measurement_ARBs_Luyuan', 'measurement_Acarbose_AURUM', 'measurement_AldosteroneAntagonist_D2T', 'measurement_AllHIVdrugs_HIV', 'measurement_All_AntiArrhythmics_D2T', 'measurement_All_Antiplatelets', 'measurement_All_Diuretics_D2T', 'measurement_All_Diuretics_ExclLactones_D2T', 'measurement_AlphaBlocker', 'measurement_Amantadine', 'measurement_Amitriptyline_optimal', 'measurement_Anticonvulsants_OPTIMAL', 'measurement_Antihistamines_second_generation_H1_antagonists', 'measurement_Antipsychotics_OPTIMAL', 'measurement_Anxiolytics_mumpredict', 'measurement_Aspirin_OPTIMAL', 'measurement_Benzodiazepines', 'measurement_BetaBlockers_OPTIMAL', 'measurement_Bisphosphonates_osteoporosis', 'measurement_COCP_reg_contraception', 'measurement_COMT_Optimal', 'measurement_CalciumChannelBlck_D2T', 'measurement_Calcium_supplements_Optimal', 'measurement_Carbamazepine_Optimal', 'measurement_DPP4inhibitors_OPTIMAL', 'measurement_Dementia', 'measurement_Digoxin_', 'measurement_Direct_Acting_Oral_Anticoagulants_DOAC', 'measurement_Fibrate_FenofibrateOnly', 'measurement_First_gen_H1_antihistamines', 'measurement_GLP_1Aurum', 'measurement_Gabapentin_Oral_OPTIMAL', 'measurement_Galantamine_NEW', 'measurement_HydroxychloroquineAURUM_Zhaonan', 'measurement_ICS_PUSHAsthma', 'measurement_Insulin_Aurum_v2', 'measurement_LABA_PUSH_Asthma', 'measurement_LAMA_PUSHAsthma', 'measurement_LKA_PUSHAsthma', 'measurement_LeflunomideAURUM_Zhaonan', 'measurement_Levothyroxine_', 'measurement_Lipid_lowering_drugs_Optimal', 'measurement_Lithium_OPTIMAL', 'measurement_MAO_B_Optimal', 'measurement_Meglitinides_Aurum', 'measurement_Metformin_612_A10BD2', 'measurement_MethotrexateAURUM_Zhaonan', 'measurement_Mirtazapine', 'measurement_Monoamine_Oxidase_Inhibitors_OPTIMAL', 'measurement_NSAIDS_oral_OPTIMAL_final', 'measurement_Nasal_steroids_optimal', 'measurement_OCS_PUSHAsthma2', 'measurement_POP_reg_contraceptive', 'measurement_Paracetamol_OPTIMAL', 'measurement_Pregabalin_Optimal', 'measurement_PropranololAnxiety_mumpredict', 'measurement_Rivastigmine', 'measurement_SABA_PUSHAsthma', 'measurement_SGLT2inhibitors_Optimal', 'measurement_SNRIs_OPTIMAL', 'measurement_SSRIs_Optimal', 'measurement_Statins', 'measurement_Strong_Opioids_2022_Final', 'measurement_SulfasalazineAURUM_Zhaonan', 'measurement_Sulphonylureas_Aurum', 'measurement_Systemic_oral_corticosteroids_optimal', 'measurement_Thiazide_Diuretics_v2', 'measurement_Thiazolidinediones_Aurum_JC', 'measurement_Tricyclic_Antidepressants_final', 'measurement_UricAcid_LoweringDrugs_optimal', 'measurement_ValproateMigraine', 'measurement_Vitamin_D', 'measurement_Warfarin_', 'measurement_Weak_Opioids_Final', 'measurement_all_contraceptive', 'measurement_asthma_combined_inhalers', 'measurement_levodopa_Optimal', 'measurement_phosphodiesterasetype5inhibitor_OPTIMAL']\n"
     ]
    }
   ],
   "source": [
    "measurements.connect()\n",
    "\n",
    "print(measurements.measurement_table_names)"
   ]
  },
  {
   "cell_type": "code",
   "execution_count": 8,
   "id": "ea16b251-6b65-4f41-ba41-018a8b152889",
   "metadata": {},
   "outputs": [
    {
     "name": "stderr",
     "output_type": "stream",
     "text": [
      "DEBUG:root:Connected to SQLite database\n"
     ]
    },
    {
     "data": {
      "text/plain": [
       "<sqlite3.Cursor at 0x7f412810c7c0>"
      ]
     },
     "execution_count": 8,
     "metadata": {},
     "output_type": "execute_result"
    }
   ],
   "source": [
    "\n",
    "# measurements.cursor.execute(\"\"\" DROP TABLE measurement_SmokingStatus_NeverSmoked;\"\"\")\n",
    "diagnosis.connect()\n",
    "# diagnosis.cursor.execute(\"\"\" ALTER TABLE diagnosis_table\n",
    "#                              RENAME COLUMN PRACTICE_PATIENT_ID TO PATIENT_ID;\"\"\")\n",
    "\n"
   ]
  },
  {
   "cell_type": "markdown",
   "id": "0be52d2c-f4e5-4142-9463-fdac16e604ca",
   "metadata": {},
   "source": [
    "## Test speed of SQLite table read"
   ]
  },
  {
   "cell_type": "code",
   "execution_count": null,
   "id": "77d99709-09db-4b10-980f-b4c8526ca23b",
   "metadata": {},
   "outputs": [],
   "source": [
    "\n",
    "for mtable in measurements.measurement_table_names:\n",
    "    measurements.cursor.execute(f\"\"\"SELECT\n",
    "                                    \tCOUNT(*)\n",
    "                                    FROM\n",
    "                                    \t{mtable}\n",
    "                                    \"\"\")\n",
    "    # WHERE PRACTICE_PATIENT_ID = 'p20684_2602314020684' \n",
    "    a = measurements.cursor.fetchall()[0][0]\n",
    "    print(mtable.ljust(50) + f\"{a}\")\n",
    "    count += a\n",
    "# print(a[:10])\n",
    "print(count)"
   ]
  },
  {
   "cell_type": "code",
   "execution_count": 28,
   "id": "16578577-c6fc-477b-ba65-92a3ed40fed4",
   "metadata": {},
   "outputs": [
    {
     "name": "stdout",
     "output_type": "stream",
     "text": [
      "ADDISONS DISEASE                         & $6,691$ \\\\\n",
      "ADDISON DISEASE                          & $11,794$ \\\\\n",
      "AF                                       & $731,332$ \\\\\n",
      "ALCOHOLMISUSE V2                         & $1,125,212$ \\\\\n",
      "ALLCANCER NOHAEM NOBCC                   & $1,496,973$ \\\\\n",
      "ALLERGICRHINITISCONJ                     & $3,291,165$ \\\\\n",
      "ALL DEMENTIA                             & $528,602$ \\\\\n",
      "ANXIETY                                  & $3,560,978$ \\\\\n",
      "ANY DEAFNESS HEARING LOSS V2             & $2,282,766$ \\\\\n",
      "AORTICANEURYSM V2                        & $101,134$ \\\\\n",
      "ASTHMA PUSHASTHMA                        & $4,175,115$ \\\\\n",
      "ATOPICECZEMA                             & $4,369,082$ \\\\\n",
      "AUTISM                                   & $156,860$ \\\\\n",
      "BIPOLAR                                  & $108,852$ \\\\\n",
      "BRONCHIECTASIS                           & $112,618$ \\\\\n",
      "CHRONICFATIGUESYNDROMEMM V2              & $82,799$ \\\\\n",
      "CHRONIC LIVER DISEASE ALCOHOL            & $63,405$ \\\\\n",
      "CKDSTAGE3TO5                             & $1,088,754$ \\\\\n",
      "COPD                                     & $751,320$ \\\\\n",
      "CROHNS DISEASE                           & $81,250$ \\\\\n",
      "CYSTICFIBROSIS                           & $7,053$ \\\\\n",
      "DEATH                                    & $1,629,100$ \\\\\n",
      "DEPRESSION                               & $4,109,336$ \\\\\n",
      "DOWNSSYNDROME                            & $17,006$ \\\\\n",
      "EATINGDISORDERS                          & $191,873$ \\\\\n",
      "ENDOMETRIOSIS ADENOMYOSIS V2             & $209,157$ \\\\\n",
      "EPILEPSY                                 & $377,341$ \\\\\n",
      "FIBROMYALGIA                             & $153,213$ \\\\\n",
      "GOUT                                     & $632,089$ \\\\\n",
      "HAEMOCHROMATOSIS V2                      & $18,631$ \\\\\n",
      "HF V3                                    & $524,982$ \\\\\n",
      "HIVAIDS                                  & $41,951$ \\\\\n",
      "HYPERTENSION                             & $3,934,473$ \\\\\n",
      "HYPERTHYROIDISM V2                       & $217,964$ \\\\\n",
      "HYPOTHYROIDISM DRAFT V1                  & $932,079$ \\\\\n",
      "IHDINCLUDINGMI OPTIMALV2                 & $1,162,843$ \\\\\n",
      "ILD SH                                   & $58,104$ \\\\\n",
      "ISCHAEMICSTROKE V2                       & $178,437$ \\\\\n",
      "LEUKAEMIA PREVALENCEV2                   & $54,438$ \\\\\n",
      "LYMPHOMA PREVALENCE V2                   & $80,511$ \\\\\n",
      "MENIERESDISEASE                          & $73,688$ \\\\\n",
      "MINFARCTION                              & $477,556$ \\\\\n",
      "MS                                       & $53,204$ \\\\\n",
      "NAFLD V2                                 & $158,688$ \\\\\n",
      "OSA                                      & $234,938$ \\\\\n",
      "OSTEOARTHRITIS                           & $2,653,242$ \\\\\n",
      "OSTEOPOROSIS                             & $628,118$ \\\\\n",
      "OTHER CHRONIC LIVER DISEASE OPTIMAL      & $289,252$ \\\\\n",
      "PAD STRICT                               & $254,632$ \\\\\n",
      "PARKINSONS                               & $91,718$ \\\\\n",
      "PERIPHERAL NEUROPATHY                    & $840,638$ \\\\\n",
      "PERNICIOUSANAEMIA                        & $73,331$ \\\\\n",
      "PLASMACELL NEOPLASM V2                   & $20,301$ \\\\\n",
      "PMRANDGCA                                & $195,907$ \\\\\n",
      "POLYCYSTIC OVARIAN SYNDROME PCOS V2      & $332,297$ \\\\\n",
      "PREVALENT IBS V2                         & $1,210,229$ \\\\\n",
      "PSORIASIS                                & $743,897$ \\\\\n",
      "PSORIATICARTHRITIS2021                   & $51,273$ \\\\\n",
      "PTSDDIAGNOSIS                            & $126,269$ \\\\\n",
      "PVD V3                                   & $185,904$ \\\\\n",
      "RHEUMATOIDARTHRITIS                      & $197,253$ \\\\\n",
      "SCHIZOPHRENIAMM V2                       & $125,141$ \\\\\n",
      "SICKLE CELL DISEASE V2                   & $11,159$ \\\\\n",
      "SJOGRENSSYNDROME                         & $23,326$ \\\\\n",
      "STROKEUNSPECIFIED V2                     & $446,046$ \\\\\n",
      "STROKE HAEMRGIC                          & $83,609$ \\\\\n",
      "SUBSTANCEMISUSE                          & $502,552$ \\\\\n",
      "SYSTEMIC LUPUS ERYTHEMATOSUS             & $26,820$ \\\\\n",
      "SYSTEMIC SCLEROSIS                       & $8,772$ \\\\\n",
      "TYPE1DM                                  & $145,143$ \\\\\n",
      "TYPE2DIABETES                            & $1,404,325$ \\\\\n",
      "ULCERATIVE COLITIS                       & $120,361$ \\\\\n",
      "VALVULARDISEASES V2                      & $401,061$ \\\\\n",
      "VISUAL IMPAIRMENT                        & $155,707$ \\\\\n",
      "Total                                    & 51,003,640\n",
      "19.39475178718567\n"
     ]
    }
   ],
   "source": [
    "import time\n",
    "\n",
    "measurements.connect()\n",
    "\n",
    "t = time.time()   #  EXPLAIN QUERY PLAN        diagnosis_table           measurement_table        static_table\n",
    "measurements.cursor.execute(\"\"\" SELECT EVENT, COUNT(EVENT)\n",
    "                                FROM\n",
    "                                \tdiagnosis_table\n",
    "                                 GROUP BY \n",
    "                                     EVENT\n",
    "                                 ;\"\"\")\n",
    "total_count = 0\n",
    "for condition, count in measurements.cursor.fetchall():\n",
    "    print(f\"{condition}\".replace(\"_\",\" \").ljust(40) + f\" & ${count:,}$ \\\\\\\\\".rjust(10))\n",
    "    total_count += count\n",
    "print(\"Total\".ljust(40) + f\" & {total_count:,}\")\n",
    "\n",
    "eval_time = (time.time() - t)\n",
    "print(eval_time )"
   ]
  },
  {
   "cell_type": "code",
   "execution_count": 45,
   "id": "3b2e8713-f639-4017-a070-2e5add221638",
   "metadata": {},
   "outputs": [
    {
     "name": "stderr",
     "output_type": "stream",
     "text": [
      "DEBUG:root:Connected to SQLite database\n"
     ]
    },
    {
     "name": "stdout",
     "output_type": "stream",
     "text": [
      "<class 'int'>\n"
     ]
    }
   ],
   "source": [
    "static.connect()\n",
    "static.cursor.execute(\"\"\" SELECT *\n",
    "                                FROM\n",
    "                                \tmeasurement_25_Hydroxyvitamin_D2_level_92\n",
    "                                 ;\"\"\")\n",
    "print(static.cursor.fetchone())"
   ]
  },
  {
   "cell_type": "markdown",
   "id": "7d6819bc-cd94-4006-b330-6a6299401145",
   "metadata": {},
   "source": [
    "## Check query execution time"
   ]
  },
  {
   "cell_type": "code",
   "execution_count": 26,
   "id": "7671dbec-801e-4dd9-a500-f1dadc8e8b25",
   "metadata": {},
   "outputs": [
    {
     "name": "stdout",
     "output_type": "stream",
     "text": [
      "[(2960868120005,), (2960872920005,), (2960876820005,), (2960885820005,), (2960911920005,), (2960913820005,), (2960942420005,), (2960947320005,), (2960954920005,), (2960956720005,), (2960959120005,), (2960964320005,), (2960964620005,), (2981333420005,), (2984313520005,), (2984364120005,), (3142441820005,), (3231447320005,), (5410815220005,), (5610591420005,), (5610594420005,), (5690040620005,), (5690040920005,), (5702914820005,), (6060129520005,), (627688820005,), (628222420005,), (628591420005,), (628681820005,), (628841020005,), (629002720005,), (629950220005,), (629970320005,), (630276120005,), (630496820005,), (630637220005,), (630754220005,), (630825320005,), (630971220005,), (6606814520005,), (6618757120005,), (6621001220005,), (6688129820005,), (6717503120005,), (6910109220005,), (6917787120005,), (768817020005,), (8958004320005,), (8990528620005,), (8990529020005,), (8991433320005,), (8991433420005,)]\n"
     ]
    }
   ],
   "source": [
    "measurements.cursor.execute(f\"\"\"SELECT DISTINCT\n",
    "                                    PATIENT_ID\n",
    "                                FROM\n",
    "                                    {mtable}\n",
    "                                WHERE \n",
    "                                    PRACTICE_ID='20005'\n",
    "                                \"\"\")\n",
    "print(measurements.cursor.fetchall()[:100])"
   ]
  },
  {
   "cell_type": "code",
   "execution_count": 31,
   "id": "66aad5da-fb0f-4160-a589-3d33f3891ef6",
   "metadata": {},
   "outputs": [
    {
     "name": "stdout",
     "output_type": "stream",
     "text": [
      "0.3020632266998291\n"
     ]
    }
   ],
   "source": [
    "import time\n",
    "start_time = time.time()\n",
    "for mtable in measurements.measurement_table_names:\n",
    "    measurements.cursor.execute(f\"\"\"SELECT\n",
    "                                        *\n",
    "                                    FROM\n",
    "                                    \t{mtable}\n",
    "                                     WHERE\n",
    "                                         PRACTICE_ID='20005' AND PATIENT_ID='30637220005'\n",
    "                                    \"\"\")\n",
    "    a = measurements.cursor.fetchall()\n",
    "    # if len(a) > 0:\n",
    "    #     print(a)\n",
    "\n",
    "for table in [\"diagnosis_table\", \"static_table\"]:\n",
    "    measurements.cursor.execute(f\"\"\"SELECT\n",
    "                                        *\n",
    "                                    FROM\n",
    "                                    \t{table}\n",
    "                                     WHERE\n",
    "                                         PRACTICE_ID='20005' AND PATIENT_ID='30637220005'\n",
    "                                    \"\"\")\n",
    "    \n",
    "    # WHERE PRACTICE_PATIENT_ID = 'p20684_2602314020684' \n",
    "    a = measurements.cursor.fetchall()\n",
    "    # print(a)\n",
    "print(time.time()-start_time)"
   ]
  },
  {
   "cell_type": "markdown",
   "id": "3981654d-42ac-4566-9cbc-04f1577fe269",
   "metadata": {},
   "source": [
    "# Collector demo\n",
    "\n",
    "We can extract unique distinct column values from any table, and use these to chunk the data for processing\n",
    "\n",
    "* We can add practice level conditions here,\n",
    "    * e.g. practices that are in the North West region. "
   ]
  },
  {
   "cell_type": "code",
   "execution_count": 9,
   "id": "7aee35c9-6c90-46a0-9bf5-a3dc43dcf65c",
   "metadata": {},
   "outputs": [
    {
     "name": "stderr",
     "output_type": "stream",
     "text": [
      "DEBUG:root:Connected to SQLite database\n",
      "DEBUG:root:Query: SELECT DISTINCT PRACTICE_ID FROM static_table WHERE HEALTH_AUTH = 'North West'\n"
     ]
    },
    {
     "name": "stdout",
     "output_type": "stream",
     "text": [
      "The first ten unique practice IDs: [21505, 20995, 20996, 21508, 21000, 21514, 21515, 21007, 21008, 21010] from 305 total\n"
     ]
    }
   ],
   "source": [
    "from CPRD.data.dataset.collector import SQLiteDataCollector\n",
    "import polars as pl\n",
    "import logging \n",
    "logging.basicConfig(level=logging.INFO)\n",
    "\n",
    "collector = SQLiteDataCollector(PATH_TO_DB)\n",
    "collector.connect()\n",
    "\n",
    "practice_ids = collector._extract_distinct([\"static_table\"], \"PRACTICE_ID\", conditions=[\"HEALTH_AUTH = 'North West'\"])\n",
    "\n",
    "print(f\"The first ten unique practice IDs: {practice_ids[:10]} from {len(practice_ids)} total\")"
   ]
  },
  {
   "cell_type": "markdown",
   "id": "252b3e25-3ebb-43ea-a54e-53cf34e289da",
   "metadata": {},
   "source": [
    "## Given these practice IDs, we can chain this query to get the pratice patient ID's in a practice\n",
    "\n",
    "* We do this as only the static table has all practice_patient_id, patient_id, and practice_id stored and indexed.\n",
    "    * This means we can very quickly find the keys needed to index on the other tables which only have practice_patient_id indexed.\n",
    "* We can add patient level conditions here\n",
    "    * For example, only male, people who died during a period, etc"
   ]
  },
  {
   "cell_type": "code",
   "execution_count": 11,
   "id": "7a4cf6c8-fddd-4941-8271-00312577a975",
   "metadata": {
    "scrolled": true
   },
   "outputs": [
    {
     "name": "stderr",
     "output_type": "stream",
     "text": [
      "DEBUG:root:Query: SELECT DISTINCT PATIENT_ID FROM static_table WHERE PRACTICE_ID = '21505' AND SEX = 'M'\n",
      "DEBUG:root:Query: SELECT DISTINCT PATIENT_ID FROM static_table WHERE PRACTICE_ID = '20995' AND SEX = 'M'\n",
      "DEBUG:root:Query: SELECT DISTINCT PATIENT_ID FROM static_table WHERE PRACTICE_ID = '20996' AND SEX = 'M'\n",
      "DEBUG:root:Query: SELECT DISTINCT PATIENT_ID FROM static_table WHERE PRACTICE_ID = '21508' AND SEX = 'M'\n",
      "DEBUG:root:Query: SELECT DISTINCT PATIENT_ID FROM static_table WHERE PRACTICE_ID = '21000' AND SEX = 'M'\n",
      "DEBUG:root:Query: SELECT DISTINCT PATIENT_ID FROM static_table WHERE PRACTICE_ID = '21514' AND SEX = 'M'\n",
      "DEBUG:root:Query: SELECT DISTINCT PATIENT_ID FROM static_table WHERE PRACTICE_ID = '21515' AND SEX = 'M'\n",
      "DEBUG:root:Query: SELECT DISTINCT PATIENT_ID FROM static_table WHERE PRACTICE_ID = '21007' AND SEX = 'M'\n",
      "DEBUG:root:Query: SELECT DISTINCT PATIENT_ID FROM static_table WHERE PRACTICE_ID = '21008' AND SEX = 'M'\n",
      "DEBUG:root:Query: SELECT DISTINCT PATIENT_ID FROM static_table WHERE PRACTICE_ID = '21010' AND SEX = 'M'\n",
      "DEBUG:root:Query: SELECT DISTINCT PATIENT_ID FROM static_table WHERE PRACTICE_ID = '20506' AND SEX = 'M'\n",
      "DEBUG:root:Query: SELECT DISTINCT PATIENT_ID FROM static_table WHERE PRACTICE_ID = '20507' AND SEX = 'M'\n",
      "DEBUG:root:Query: SELECT DISTINCT PATIENT_ID FROM static_table WHERE PRACTICE_ID = '20508' AND SEX = 'M'\n",
      "DEBUG:root:Query: SELECT DISTINCT PATIENT_ID FROM static_table WHERE PRACTICE_ID = '20509' AND SEX = 'M'\n",
      "DEBUG:root:Query: SELECT DISTINCT PATIENT_ID FROM static_table WHERE PRACTICE_ID = '20510' AND SEX = 'M'\n",
      "DEBUG:root:Query: SELECT DISTINCT PATIENT_ID FROM static_table WHERE PRACTICE_ID = '20511' AND SEX = 'M'\n",
      "DEBUG:root:Query: SELECT DISTINCT PATIENT_ID FROM static_table WHERE PRACTICE_ID = '20512' AND SEX = 'M'\n",
      "DEBUG:root:Query: SELECT DISTINCT PATIENT_ID FROM static_table WHERE PRACTICE_ID = '20513' AND SEX = 'M'\n",
      "DEBUG:root:Query: SELECT DISTINCT PATIENT_ID FROM static_table WHERE PRACTICE_ID = '20002' AND SEX = 'M'\n",
      "DEBUG:root:Query: SELECT DISTINCT PATIENT_ID FROM static_table WHERE PRACTICE_ID = '20003' AND SEX = 'M'\n",
      "DEBUG:root:Query: SELECT DISTINCT PATIENT_ID FROM static_table WHERE PRACTICE_ID = '20004' AND SEX = 'M'\n",
      "DEBUG:root:Query: SELECT DISTINCT PATIENT_ID FROM static_table WHERE PRACTICE_ID = '20005' AND SEX = 'M'\n",
      "DEBUG:root:Query: SELECT DISTINCT PATIENT_ID FROM static_table WHERE PRACTICE_ID = '20006' AND SEX = 'M'\n",
      "DEBUG:root:Query: SELECT DISTINCT PATIENT_ID FROM static_table WHERE PRACTICE_ID = '20514' AND SEX = 'M'\n",
      "DEBUG:root:Query: SELECT DISTINCT PATIENT_ID FROM static_table WHERE PRACTICE_ID = '20518' AND SEX = 'M'\n",
      "DEBUG:root:Query: SELECT DISTINCT PATIENT_ID FROM static_table WHERE PRACTICE_ID = '20519' AND SEX = 'M'\n",
      "DEBUG:root:Query: SELECT DISTINCT PATIENT_ID FROM static_table WHERE PRACTICE_ID = '20521' AND SEX = 'M'\n",
      "DEBUG:root:Query: SELECT DISTINCT PATIENT_ID FROM static_table WHERE PRACTICE_ID = '20515' AND SEX = 'M'\n",
      "DEBUG:root:Query: SELECT DISTINCT PATIENT_ID FROM static_table WHERE PRACTICE_ID = '20522' AND SEX = 'M'\n",
      "DEBUG:root:Query: SELECT DISTINCT PATIENT_ID FROM static_table WHERE PRACTICE_ID = '20523' AND SEX = 'M'\n",
      "DEBUG:root:Query: SELECT DISTINCT PATIENT_ID FROM static_table WHERE PRACTICE_ID = '20524' AND SEX = 'M'\n",
      "DEBUG:root:Query: SELECT DISTINCT PATIENT_ID FROM static_table WHERE PRACTICE_ID = '20525' AND SEX = 'M'\n",
      "DEBUG:root:Query: SELECT DISTINCT PATIENT_ID FROM static_table WHERE PRACTICE_ID = '20526' AND SEX = 'M'\n",
      "DEBUG:root:Query: SELECT DISTINCT PATIENT_ID FROM static_table WHERE PRACTICE_ID = '20527' AND SEX = 'M'\n",
      "DEBUG:root:Query: SELECT DISTINCT PATIENT_ID FROM static_table WHERE PRACTICE_ID = '20528' AND SEX = 'M'\n",
      "DEBUG:root:Query: SELECT DISTINCT PATIENT_ID FROM static_table WHERE PRACTICE_ID = '20529' AND SEX = 'M'\n",
      "DEBUG:root:Query: SELECT DISTINCT PATIENT_ID FROM static_table WHERE PRACTICE_ID = '20530' AND SEX = 'M'\n",
      "DEBUG:root:Query: SELECT DISTINCT PATIENT_ID FROM static_table WHERE PRACTICE_ID = '20531' AND SEX = 'M'\n",
      "DEBUG:root:Query: SELECT DISTINCT PATIENT_ID FROM static_table WHERE PRACTICE_ID = '20532' AND SEX = 'M'\n",
      "DEBUG:root:Query: SELECT DISTINCT PATIENT_ID FROM static_table WHERE PRACTICE_ID = '20533' AND SEX = 'M'\n",
      "DEBUG:root:Query: SELECT DISTINCT PATIENT_ID FROM static_table WHERE PRACTICE_ID = '20534' AND SEX = 'M'\n",
      "DEBUG:root:Query: SELECT DISTINCT PATIENT_ID FROM static_table WHERE PRACTICE_ID = '20535' AND SEX = 'M'\n",
      "DEBUG:root:Query: SELECT DISTINCT PATIENT_ID FROM static_table WHERE PRACTICE_ID = '20536' AND SEX = 'M'\n",
      "DEBUG:root:Query: SELECT DISTINCT PATIENT_ID FROM static_table WHERE PRACTICE_ID = '20537' AND SEX = 'M'\n",
      "DEBUG:root:Query: SELECT DISTINCT PATIENT_ID FROM static_table WHERE PRACTICE_ID = '20538' AND SEX = 'M'\n",
      "DEBUG:root:Query: SELECT DISTINCT PATIENT_ID FROM static_table WHERE PRACTICE_ID = '20539' AND SEX = 'M'\n",
      "DEBUG:root:Query: SELECT DISTINCT PATIENT_ID FROM static_table WHERE PRACTICE_ID = '20541' AND SEX = 'M'\n",
      "DEBUG:root:Query: SELECT DISTINCT PATIENT_ID FROM static_table WHERE PRACTICE_ID = '20873' AND SEX = 'M'\n",
      "DEBUG:root:Query: SELECT DISTINCT PATIENT_ID FROM static_table WHERE PRACTICE_ID = '20874' AND SEX = 'M'\n",
      "DEBUG:root:Query: SELECT DISTINCT PATIENT_ID FROM static_table WHERE PRACTICE_ID = '21053' AND SEX = 'M'\n",
      "DEBUG:root:Query: SELECT DISTINCT PATIENT_ID FROM static_table WHERE PRACTICE_ID = '21382' AND SEX = 'M'\n",
      "DEBUG:root:Query: SELECT DISTINCT PATIENT_ID FROM static_table WHERE PRACTICE_ID = '21566' AND SEX = 'M'\n",
      "DEBUG:root:Query: SELECT DISTINCT PATIENT_ID FROM static_table WHERE PRACTICE_ID = '21060' AND SEX = 'M'\n",
      "DEBUG:root:Query: SELECT DISTINCT PATIENT_ID FROM static_table WHERE PRACTICE_ID = '21567' AND SEX = 'M'\n",
      "DEBUG:root:Query: SELECT DISTINCT PATIENT_ID FROM static_table WHERE PRACTICE_ID = '21572' AND SEX = 'M'\n",
      "DEBUG:root:Query: SELECT DISTINCT PATIENT_ID FROM static_table WHERE PRACTICE_ID = '20551' AND SEX = 'M'\n",
      "DEBUG:root:Query: SELECT DISTINCT PATIENT_ID FROM static_table WHERE PRACTICE_ID = '20552' AND SEX = 'M'\n",
      "DEBUG:root:Query: SELECT DISTINCT PATIENT_ID FROM static_table WHERE PRACTICE_ID = '20876' AND SEX = 'M'\n",
      "DEBUG:root:Query: SELECT DISTINCT PATIENT_ID FROM static_table WHERE PRACTICE_ID = '20554' AND SEX = 'M'\n",
      "DEBUG:root:Query: SELECT DISTINCT PATIENT_ID FROM static_table WHERE PRACTICE_ID = '20555' AND SEX = 'M'\n",
      "DEBUG:root:Query: SELECT DISTINCT PATIENT_ID FROM static_table WHERE PRACTICE_ID = '20556' AND SEX = 'M'\n",
      "DEBUG:root:Query: SELECT DISTINCT PATIENT_ID FROM static_table WHERE PRACTICE_ID = '20557' AND SEX = 'M'\n",
      "DEBUG:root:Query: SELECT DISTINCT PATIENT_ID FROM static_table WHERE PRACTICE_ID = '20558' AND SEX = 'M'\n",
      "DEBUG:root:Query: SELECT DISTINCT PATIENT_ID FROM static_table WHERE PRACTICE_ID = '21577' AND SEX = 'M'\n",
      "DEBUG:root:Query: SELECT DISTINCT PATIENT_ID FROM static_table WHERE PRACTICE_ID = '21581' AND SEX = 'M'\n",
      "DEBUG:root:Query: SELECT DISTINCT PATIENT_ID FROM static_table WHERE PRACTICE_ID = '21583' AND SEX = 'M'\n",
      "DEBUG:root:Query: SELECT DISTINCT PATIENT_ID FROM static_table WHERE PRACTICE_ID = '20878' AND SEX = 'M'\n",
      "DEBUG:root:Query: SELECT DISTINCT PATIENT_ID FROM static_table WHERE PRACTICE_ID = '21077' AND SEX = 'M'\n",
      "DEBUG:root:Query: SELECT DISTINCT PATIENT_ID FROM static_table WHERE PRACTICE_ID = '20879' AND SEX = 'M'\n",
      "DEBUG:root:Query: SELECT DISTINCT PATIENT_ID FROM static_table WHERE PRACTICE_ID = '20569' AND SEX = 'M'\n",
      "DEBUG:root:Query: SELECT DISTINCT PATIENT_ID FROM static_table WHERE PRACTICE_ID = '20570' AND SEX = 'M'\n",
      "DEBUG:root:Query: SELECT DISTINCT PATIENT_ID FROM static_table WHERE PRACTICE_ID = '20576' AND SEX = 'M'\n",
      "DEBUG:root:Query: SELECT DISTINCT PATIENT_ID FROM static_table WHERE PRACTICE_ID = '21090' AND SEX = 'M'\n",
      "DEBUG:root:Query: SELECT DISTINCT PATIENT_ID FROM static_table WHERE PRACTICE_ID = '21603' AND SEX = 'M'\n",
      "DEBUG:root:Query: SELECT DISTINCT PATIENT_ID FROM static_table WHERE PRACTICE_ID = '21606' AND SEX = 'M'\n",
      "DEBUG:root:Query: SELECT DISTINCT PATIENT_ID FROM static_table WHERE PRACTICE_ID = '20583' AND SEX = 'M'\n",
      "DEBUG:root:Query: SELECT DISTINCT PATIENT_ID FROM static_table WHERE PRACTICE_ID = '21095' AND SEX = 'M'\n",
      "DEBUG:root:Query: SELECT DISTINCT PATIENT_ID FROM static_table WHERE PRACTICE_ID = '20585' AND SEX = 'M'\n",
      "DEBUG:root:Query: SELECT DISTINCT PATIENT_ID FROM static_table WHERE PRACTICE_ID = '21097' AND SEX = 'M'\n",
      "DEBUG:root:Query: SELECT DISTINCT PATIENT_ID FROM static_table WHERE PRACTICE_ID = '21099' AND SEX = 'M'\n",
      "DEBUG:root:Query: SELECT DISTINCT PATIENT_ID FROM static_table WHERE PRACTICE_ID = '21609' AND SEX = 'M'\n",
      "DEBUG:root:Query: SELECT DISTINCT PATIENT_ID FROM static_table WHERE PRACTICE_ID = '21392' AND SEX = 'M'\n",
      "DEBUG:root:Query: SELECT DISTINCT PATIENT_ID FROM static_table WHERE PRACTICE_ID = '21611' AND SEX = 'M'\n",
      "DEBUG:root:Query: SELECT DISTINCT PATIENT_ID FROM static_table WHERE PRACTICE_ID = '21613' AND SEX = 'M'\n",
      "DEBUG:root:Query: SELECT DISTINCT PATIENT_ID FROM static_table WHERE PRACTICE_ID = '21104' AND SEX = 'M'\n",
      "DEBUG:root:Query: SELECT DISTINCT PATIENT_ID FROM static_table WHERE PRACTICE_ID = '21614' AND SEX = 'M'\n",
      "DEBUG:root:Query: SELECT DISTINCT PATIENT_ID FROM static_table WHERE PRACTICE_ID = '21615' AND SEX = 'M'\n",
      "DEBUG:root:Query: SELECT DISTINCT PATIENT_ID FROM static_table WHERE PRACTICE_ID = '20595' AND SEX = 'M'\n",
      "DEBUG:root:Query: SELECT DISTINCT PATIENT_ID FROM static_table WHERE PRACTICE_ID = '21617' AND SEX = 'M'\n",
      "DEBUG:root:Query: SELECT DISTINCT PATIENT_ID FROM static_table WHERE PRACTICE_ID = '21618' AND SEX = 'M'\n",
      "DEBUG:root:Query: SELECT DISTINCT PATIENT_ID FROM static_table WHERE PRACTICE_ID = '21620' AND SEX = 'M'\n",
      "DEBUG:root:Query: SELECT DISTINCT PATIENT_ID FROM static_table WHERE PRACTICE_ID = '21111' AND SEX = 'M'\n",
      "DEBUG:root:Query: SELECT DISTINCT PATIENT_ID FROM static_table WHERE PRACTICE_ID = '21623' AND SEX = 'M'\n",
      "DEBUG:root:Query: SELECT DISTINCT PATIENT_ID FROM static_table WHERE PRACTICE_ID = '20601' AND SEX = 'M'\n",
      "DEBUG:root:Query: SELECT DISTINCT PATIENT_ID FROM static_table WHERE PRACTICE_ID = '21624' AND SEX = 'M'\n",
      "DEBUG:root:Query: SELECT DISTINCT PATIENT_ID FROM static_table WHERE PRACTICE_ID = '21625' AND SEX = 'M'\n",
      "DEBUG:root:Query: SELECT DISTINCT PATIENT_ID FROM static_table WHERE PRACTICE_ID = '21626' AND SEX = 'M'\n",
      "DEBUG:root:Query: SELECT DISTINCT PATIENT_ID FROM static_table WHERE PRACTICE_ID = '21117' AND SEX = 'M'\n",
      "DEBUG:root:Query: SELECT DISTINCT PATIENT_ID FROM static_table WHERE PRACTICE_ID = '20608' AND SEX = 'M'\n",
      "DEBUG:root:Query: SELECT DISTINCT PATIENT_ID FROM static_table WHERE PRACTICE_ID = '21122' AND SEX = 'M'\n",
      "DEBUG:root:Query: SELECT DISTINCT PATIENT_ID FROM static_table WHERE PRACTICE_ID = '20614' AND SEX = 'M'\n",
      "DEBUG:root:Query: SELECT DISTINCT PATIENT_ID FROM static_table WHERE PRACTICE_ID = '21126' AND SEX = 'M'\n",
      "DEBUG:root:Query: SELECT DISTINCT PATIENT_ID FROM static_table WHERE PRACTICE_ID = '21128' AND SEX = 'M'\n",
      "DEBUG:root:Query: SELECT DISTINCT PATIENT_ID FROM static_table WHERE PRACTICE_ID = '20622' AND SEX = 'M'\n",
      "DEBUG:root:Query: SELECT DISTINCT PATIENT_ID FROM static_table WHERE PRACTICE_ID = '20625' AND SEX = 'M'\n",
      "DEBUG:root:Query: SELECT DISTINCT PATIENT_ID FROM static_table WHERE PRACTICE_ID = '21139' AND SEX = 'M'\n",
      "DEBUG:root:Query: SELECT DISTINCT PATIENT_ID FROM static_table WHERE PRACTICE_ID = '20632' AND SEX = 'M'\n",
      "DEBUG:root:Query: SELECT DISTINCT PATIENT_ID FROM static_table WHERE PRACTICE_ID = '21145' AND SEX = 'M'\n",
      "DEBUG:root:Query: SELECT DISTINCT PATIENT_ID FROM static_table WHERE PRACTICE_ID = '20634' AND SEX = 'M'\n",
      "DEBUG:root:Query: SELECT DISTINCT PATIENT_ID FROM static_table WHERE PRACTICE_ID = '21147' AND SEX = 'M'\n",
      "DEBUG:root:Query: SELECT DISTINCT PATIENT_ID FROM static_table WHERE PRACTICE_ID = '21152' AND SEX = 'M'\n",
      "DEBUG:root:Query: SELECT DISTINCT PATIENT_ID FROM static_table WHERE PRACTICE_ID = '21153' AND SEX = 'M'\n",
      "DEBUG:root:Query: SELECT DISTINCT PATIENT_ID FROM static_table WHERE PRACTICE_ID = '21156' AND SEX = 'M'\n",
      "DEBUG:root:Query: SELECT DISTINCT PATIENT_ID FROM static_table WHERE PRACTICE_ID = '21157' AND SEX = 'M'\n",
      "DEBUG:root:Query: SELECT DISTINCT PATIENT_ID FROM static_table WHERE PRACTICE_ID = '21160' AND SEX = 'M'\n",
      "DEBUG:root:Query: SELECT DISTINCT PATIENT_ID FROM static_table WHERE PRACTICE_ID = '20649' AND SEX = 'M'\n",
      "DEBUG:root:Query: SELECT DISTINCT PATIENT_ID FROM static_table WHERE PRACTICE_ID = '21163' AND SEX = 'M'\n",
      "DEBUG:root:Query: SELECT DISTINCT PATIENT_ID FROM static_table WHERE PRACTICE_ID = '21164' AND SEX = 'M'\n",
      "DEBUG:root:Query: SELECT DISTINCT PATIENT_ID FROM static_table WHERE PRACTICE_ID = '21165' AND SEX = 'M'\n",
      "DEBUG:root:Query: SELECT DISTINCT PATIENT_ID FROM static_table WHERE PRACTICE_ID = '21166' AND SEX = 'M'\n",
      "DEBUG:root:Query: SELECT DISTINCT PATIENT_ID FROM static_table WHERE PRACTICE_ID = '20655' AND SEX = 'M'\n",
      "DEBUG:root:Query: SELECT DISTINCT PATIENT_ID FROM static_table WHERE PRACTICE_ID = '20656' AND SEX = 'M'\n",
      "DEBUG:root:Query: SELECT DISTINCT PATIENT_ID FROM static_table WHERE PRACTICE_ID = '21167' AND SEX = 'M'\n",
      "DEBUG:root:Query: SELECT DISTINCT PATIENT_ID FROM static_table WHERE PRACTICE_ID = '20658' AND SEX = 'M'\n",
      "DEBUG:root:Query: SELECT DISTINCT PATIENT_ID FROM static_table WHERE PRACTICE_ID = '20659' AND SEX = 'M'\n",
      "DEBUG:root:Query: SELECT DISTINCT PATIENT_ID FROM static_table WHERE PRACTICE_ID = '21169' AND SEX = 'M'\n",
      "DEBUG:root:Query: SELECT DISTINCT PATIENT_ID FROM static_table WHERE PRACTICE_ID = '20661' AND SEX = 'M'\n",
      "DEBUG:root:Query: SELECT DISTINCT PATIENT_ID FROM static_table WHERE PRACTICE_ID = '21172' AND SEX = 'M'\n",
      "DEBUG:root:Query: SELECT DISTINCT PATIENT_ID FROM static_table WHERE PRACTICE_ID = '21174' AND SEX = 'M'\n",
      "DEBUG:root:Query: SELECT DISTINCT PATIENT_ID FROM static_table WHERE PRACTICE_ID = '20665' AND SEX = 'M'\n",
      "DEBUG:root:Query: SELECT DISTINCT PATIENT_ID FROM static_table WHERE PRACTICE_ID = '21177' AND SEX = 'M'\n",
      "DEBUG:root:Query: SELECT DISTINCT PATIENT_ID FROM static_table WHERE PRACTICE_ID = '20670' AND SEX = 'M'\n",
      "DEBUG:root:Query: SELECT DISTINCT PATIENT_ID FROM static_table WHERE PRACTICE_ID = '20671' AND SEX = 'M'\n",
      "DEBUG:root:Query: SELECT DISTINCT PATIENT_ID FROM static_table WHERE PRACTICE_ID = '20672' AND SEX = 'M'\n",
      "DEBUG:root:Query: SELECT DISTINCT PATIENT_ID FROM static_table WHERE PRACTICE_ID = '20676' AND SEX = 'M'\n",
      "DEBUG:root:Query: SELECT DISTINCT PATIENT_ID FROM static_table WHERE PRACTICE_ID = '21188' AND SEX = 'M'\n",
      "DEBUG:root:Query: SELECT DISTINCT PATIENT_ID FROM static_table WHERE PRACTICE_ID = '21189' AND SEX = 'M'\n",
      "DEBUG:root:Query: SELECT DISTINCT PATIENT_ID FROM static_table WHERE PRACTICE_ID = '21191' AND SEX = 'M'\n",
      "DEBUG:root:Query: SELECT DISTINCT PATIENT_ID FROM static_table WHERE PRACTICE_ID = '20684' AND SEX = 'M'\n",
      "DEBUG:root:Query: SELECT DISTINCT PATIENT_ID FROM static_table WHERE PRACTICE_ID = '21198' AND SEX = 'M'\n",
      "DEBUG:root:Query: SELECT DISTINCT PATIENT_ID FROM static_table WHERE PRACTICE_ID = '20691' AND SEX = 'M'\n",
      "DEBUG:root:Query: SELECT DISTINCT PATIENT_ID FROM static_table WHERE PRACTICE_ID = '20702' AND SEX = 'M'\n",
      "DEBUG:root:Query: SELECT DISTINCT PATIENT_ID FROM static_table WHERE PRACTICE_ID = '21215' AND SEX = 'M'\n",
      "DEBUG:root:Query: SELECT DISTINCT PATIENT_ID FROM static_table WHERE PRACTICE_ID = '21220' AND SEX = 'M'\n",
      "DEBUG:root:Query: SELECT DISTINCT PATIENT_ID FROM static_table WHERE PRACTICE_ID = '20711' AND SEX = 'M'\n",
      "DEBUG:root:Query: SELECT DISTINCT PATIENT_ID FROM static_table WHERE PRACTICE_ID = '21224' AND SEX = 'M'\n",
      "DEBUG:root:Query: SELECT DISTINCT PATIENT_ID FROM static_table WHERE PRACTICE_ID = '20713' AND SEX = 'M'\n",
      "DEBUG:root:Query: SELECT DISTINCT PATIENT_ID FROM static_table WHERE PRACTICE_ID = '20714' AND SEX = 'M'\n",
      "DEBUG:root:Query: SELECT DISTINCT PATIENT_ID FROM static_table WHERE PRACTICE_ID = '20716' AND SEX = 'M'\n",
      "DEBUG:root:Query: SELECT DISTINCT PATIENT_ID FROM static_table WHERE PRACTICE_ID = '20717' AND SEX = 'M'\n",
      "DEBUG:root:Query: SELECT DISTINCT PATIENT_ID FROM static_table WHERE PRACTICE_ID = '20870' AND SEX = 'M'\n",
      "DEBUG:root:Query: SELECT DISTINCT PATIENT_ID FROM static_table WHERE PRACTICE_ID = '21228' AND SEX = 'M'\n",
      "DEBUG:root:Query: SELECT DISTINCT PATIENT_ID FROM static_table WHERE PRACTICE_ID = '21229' AND SEX = 'M'\n",
      "DEBUG:root:Query: SELECT DISTINCT PATIENT_ID FROM static_table WHERE PRACTICE_ID = '21230' AND SEX = 'M'\n",
      "DEBUG:root:Query: SELECT DISTINCT PATIENT_ID FROM static_table WHERE PRACTICE_ID = '20724' AND SEX = 'M'\n",
      "DEBUG:root:Query: SELECT DISTINCT PATIENT_ID FROM static_table WHERE PRACTICE_ID = '20726' AND SEX = 'M'\n",
      "DEBUG:root:Query: SELECT DISTINCT PATIENT_ID FROM static_table WHERE PRACTICE_ID = '20727' AND SEX = 'M'\n",
      "DEBUG:root:Query: SELECT DISTINCT PATIENT_ID FROM static_table WHERE PRACTICE_ID = '20728' AND SEX = 'M'\n",
      "DEBUG:root:Query: SELECT DISTINCT PATIENT_ID FROM static_table WHERE PRACTICE_ID = '21245' AND SEX = 'M'\n",
      "DEBUG:root:Query: SELECT DISTINCT PATIENT_ID FROM static_table WHERE PRACTICE_ID = '21254' AND SEX = 'M'\n",
      "DEBUG:root:Query: SELECT DISTINCT PATIENT_ID FROM static_table WHERE PRACTICE_ID = '21255' AND SEX = 'M'\n",
      "DEBUG:root:Query: SELECT DISTINCT PATIENT_ID FROM static_table WHERE PRACTICE_ID = '20745' AND SEX = 'M'\n",
      "DEBUG:root:Query: SELECT DISTINCT PATIENT_ID FROM static_table WHERE PRACTICE_ID = '21257' AND SEX = 'M'\n",
      "DEBUG:root:Query: SELECT DISTINCT PATIENT_ID FROM static_table WHERE PRACTICE_ID = '21258' AND SEX = 'M'\n",
      "DEBUG:root:Query: SELECT DISTINCT PATIENT_ID FROM static_table WHERE PRACTICE_ID = '21259' AND SEX = 'M'\n",
      "DEBUG:root:Query: SELECT DISTINCT PATIENT_ID FROM static_table WHERE PRACTICE_ID = '21260' AND SEX = 'M'\n",
      "DEBUG:root:Query: SELECT DISTINCT PATIENT_ID FROM static_table WHERE PRACTICE_ID = '20750' AND SEX = 'M'\n",
      "DEBUG:root:Query: SELECT DISTINCT PATIENT_ID FROM static_table WHERE PRACTICE_ID = '21261' AND SEX = 'M'\n",
      "DEBUG:root:Query: SELECT DISTINCT PATIENT_ID FROM static_table WHERE PRACTICE_ID = '21263' AND SEX = 'M'\n",
      "DEBUG:root:Query: SELECT DISTINCT PATIENT_ID FROM static_table WHERE PRACTICE_ID = '21268' AND SEX = 'M'\n",
      "DEBUG:root:Query: SELECT DISTINCT PATIENT_ID FROM static_table WHERE PRACTICE_ID = '20758' AND SEX = 'M'\n",
      "DEBUG:root:Query: SELECT DISTINCT PATIENT_ID FROM static_table WHERE PRACTICE_ID = '21270' AND SEX = 'M'\n",
      "DEBUG:root:Query: SELECT DISTINCT PATIENT_ID FROM static_table WHERE PRACTICE_ID = '21274' AND SEX = 'M'\n",
      "DEBUG:root:Query: SELECT DISTINCT PATIENT_ID FROM static_table WHERE PRACTICE_ID = '21277' AND SEX = 'M'\n",
      "DEBUG:root:Query: SELECT DISTINCT PATIENT_ID FROM static_table WHERE PRACTICE_ID = '21281' AND SEX = 'M'\n",
      "DEBUG:root:Query: SELECT DISTINCT PATIENT_ID FROM static_table WHERE PRACTICE_ID = '20770' AND SEX = 'M'\n",
      "DEBUG:root:Query: SELECT DISTINCT PATIENT_ID FROM static_table WHERE PRACTICE_ID = '21282' AND SEX = 'M'\n",
      "DEBUG:root:Query: SELECT DISTINCT PATIENT_ID FROM static_table WHERE PRACTICE_ID = '21283' AND SEX = 'M'\n",
      "DEBUG:root:Query: SELECT DISTINCT PATIENT_ID FROM static_table WHERE PRACTICE_ID = '21287' AND SEX = 'M'\n",
      "DEBUG:root:Query: SELECT DISTINCT PATIENT_ID FROM static_table WHERE PRACTICE_ID = '21289' AND SEX = 'M'\n",
      "DEBUG:root:Query: SELECT DISTINCT PATIENT_ID FROM static_table WHERE PRACTICE_ID = '21292' AND SEX = 'M'\n",
      "DEBUG:root:Query: SELECT DISTINCT PATIENT_ID FROM static_table WHERE PRACTICE_ID = '21294' AND SEX = 'M'\n",
      "DEBUG:root:Query: SELECT DISTINCT PATIENT_ID FROM static_table WHERE PRACTICE_ID = '21297' AND SEX = 'M'\n",
      "DEBUG:root:Query: SELECT DISTINCT PATIENT_ID FROM static_table WHERE PRACTICE_ID = '21299' AND SEX = 'M'\n",
      "DEBUG:root:Query: SELECT DISTINCT PATIENT_ID FROM static_table WHERE PRACTICE_ID = '21300' AND SEX = 'M'\n",
      "DEBUG:root:Query: SELECT DISTINCT PATIENT_ID FROM static_table WHERE PRACTICE_ID = '20516' AND SEX = 'M'\n",
      "DEBUG:root:Query: SELECT DISTINCT PATIENT_ID FROM static_table WHERE PRACTICE_ID = '21302' AND SEX = 'M'\n",
      "DEBUG:root:Query: SELECT DISTINCT PATIENT_ID FROM static_table WHERE PRACTICE_ID = '21303' AND SEX = 'M'\n",
      "DEBUG:root:Query: SELECT DISTINCT PATIENT_ID FROM static_table WHERE PRACTICE_ID = '20793' AND SEX = 'M'\n",
      "DEBUG:root:Query: SELECT DISTINCT PATIENT_ID FROM static_table WHERE PRACTICE_ID = '21304' AND SEX = 'M'\n",
      "DEBUG:root:Query: SELECT DISTINCT PATIENT_ID FROM static_table WHERE PRACTICE_ID = '21307' AND SEX = 'M'\n",
      "DEBUG:root:Query: SELECT DISTINCT PATIENT_ID FROM static_table WHERE PRACTICE_ID = '20796' AND SEX = 'M'\n",
      "DEBUG:root:Query: SELECT DISTINCT PATIENT_ID FROM static_table WHERE PRACTICE_ID = '21535' AND SEX = 'M'\n",
      "DEBUG:root:Query: SELECT DISTINCT PATIENT_ID FROM static_table WHERE PRACTICE_ID = '20798' AND SEX = 'M'\n",
      "DEBUG:root:Query: SELECT DISTINCT PATIENT_ID FROM static_table WHERE PRACTICE_ID = '20803' AND SEX = 'M'\n",
      "DEBUG:root:Query: SELECT DISTINCT PATIENT_ID FROM static_table WHERE PRACTICE_ID = '21315' AND SEX = 'M'\n",
      "DEBUG:root:Query: SELECT DISTINCT PATIENT_ID FROM static_table WHERE PRACTICE_ID = '20807' AND SEX = 'M'\n",
      "DEBUG:root:Query: SELECT DISTINCT PATIENT_ID FROM static_table WHERE PRACTICE_ID = '20808' AND SEX = 'M'\n",
      "DEBUG:root:Query: SELECT DISTINCT PATIENT_ID FROM static_table WHERE PRACTICE_ID = '21322' AND SEX = 'M'\n",
      "DEBUG:root:Query: SELECT DISTINCT PATIENT_ID FROM static_table WHERE PRACTICE_ID = '20815' AND SEX = 'M'\n",
      "DEBUG:root:Query: SELECT DISTINCT PATIENT_ID FROM static_table WHERE PRACTICE_ID = '21332' AND SEX = 'M'\n",
      "DEBUG:root:Query: SELECT DISTINCT PATIENT_ID FROM static_table WHERE PRACTICE_ID = '21333' AND SEX = 'M'\n",
      "DEBUG:root:Query: SELECT DISTINCT PATIENT_ID FROM static_table WHERE PRACTICE_ID = '20822' AND SEX = 'M'\n",
      "DEBUG:root:Query: SELECT DISTINCT PATIENT_ID FROM static_table WHERE PRACTICE_ID = '20825' AND SEX = 'M'\n",
      "DEBUG:root:Query: SELECT DISTINCT PATIENT_ID FROM static_table WHERE PRACTICE_ID = '20826' AND SEX = 'M'\n",
      "DEBUG:root:Query: SELECT DISTINCT PATIENT_ID FROM static_table WHERE PRACTICE_ID = '21339' AND SEX = 'M'\n",
      "DEBUG:root:Query: SELECT DISTINCT PATIENT_ID FROM static_table WHERE PRACTICE_ID = '20831' AND SEX = 'M'\n",
      "DEBUG:root:Query: SELECT DISTINCT PATIENT_ID FROM static_table WHERE PRACTICE_ID = '20832' AND SEX = 'M'\n",
      "DEBUG:root:Query: SELECT DISTINCT PATIENT_ID FROM static_table WHERE PRACTICE_ID = '21343' AND SEX = 'M'\n",
      "DEBUG:root:Query: SELECT DISTINCT PATIENT_ID FROM static_table WHERE PRACTICE_ID = '20834' AND SEX = 'M'\n",
      "DEBUG:root:Query: SELECT DISTINCT PATIENT_ID FROM static_table WHERE PRACTICE_ID = '21344' AND SEX = 'M'\n",
      "DEBUG:root:Query: SELECT DISTINCT PATIENT_ID FROM static_table WHERE PRACTICE_ID = '20836' AND SEX = 'M'\n",
      "DEBUG:root:Query: SELECT DISTINCT PATIENT_ID FROM static_table WHERE PRACTICE_ID = '21349' AND SEX = 'M'\n",
      "DEBUG:root:Query: SELECT DISTINCT PATIENT_ID FROM static_table WHERE PRACTICE_ID = '20838' AND SEX = 'M'\n",
      "DEBUG:root:Query: SELECT DISTINCT PATIENT_ID FROM static_table WHERE PRACTICE_ID = '21542' AND SEX = 'M'\n",
      "DEBUG:root:Query: SELECT DISTINCT PATIENT_ID FROM static_table WHERE PRACTICE_ID = '21543' AND SEX = 'M'\n",
      "DEBUG:root:Query: SELECT DISTINCT PATIENT_ID FROM static_table WHERE PRACTICE_ID = '21035' AND SEX = 'M'\n",
      "DEBUG:root:Query: SELECT DISTINCT PATIENT_ID FROM static_table WHERE PRACTICE_ID = '21353' AND SEX = 'M'\n",
      "DEBUG:root:Query: SELECT DISTINCT PATIENT_ID FROM static_table WHERE PRACTICE_ID = '21354' AND SEX = 'M'\n",
      "DEBUG:root:Query: SELECT DISTINCT PATIENT_ID FROM static_table WHERE PRACTICE_ID = '21545' AND SEX = 'M'\n",
      "DEBUG:root:Query: SELECT DISTINCT PATIENT_ID FROM static_table WHERE PRACTICE_ID = '20849' AND SEX = 'M'\n",
      "DEBUG:root:Query: SELECT DISTINCT PATIENT_ID FROM static_table WHERE PRACTICE_ID = '20850' AND SEX = 'M'\n",
      "DEBUG:root:Query: SELECT DISTINCT PATIENT_ID FROM static_table WHERE PRACTICE_ID = '21364' AND SEX = 'M'\n",
      "DEBUG:root:Query: SELECT DISTINCT PATIENT_ID FROM static_table WHERE PRACTICE_ID = '20854' AND SEX = 'M'\n",
      "DEBUG:root:Query: SELECT DISTINCT PATIENT_ID FROM static_table WHERE PRACTICE_ID = '20347' AND SEX = 'M'\n",
      "DEBUG:root:Query: SELECT DISTINCT PATIENT_ID FROM static_table WHERE PRACTICE_ID = '20348' AND SEX = 'M'\n",
      "DEBUG:root:Query: SELECT DISTINCT PATIENT_ID FROM static_table WHERE PRACTICE_ID = '20349' AND SEX = 'M'\n",
      "DEBUG:root:Query: SELECT DISTINCT PATIENT_ID FROM static_table WHERE PRACTICE_ID = '20350' AND SEX = 'M'\n",
      "DEBUG:root:Query: SELECT DISTINCT PATIENT_ID FROM static_table WHERE PRACTICE_ID = '20351' AND SEX = 'M'\n",
      "DEBUG:root:Query: SELECT DISTINCT PATIENT_ID FROM static_table WHERE PRACTICE_ID = '20353' AND SEX = 'M'\n",
      "DEBUG:root:Query: SELECT DISTINCT PATIENT_ID FROM static_table WHERE PRACTICE_ID = '20354' AND SEX = 'M'\n",
      "DEBUG:root:Query: SELECT DISTINCT PATIENT_ID FROM static_table WHERE PRACTICE_ID = '20355' AND SEX = 'M'\n",
      "DEBUG:root:Query: SELECT DISTINCT PATIENT_ID FROM static_table WHERE PRACTICE_ID = '20356' AND SEX = 'M'\n",
      "DEBUG:root:Query: SELECT DISTINCT PATIENT_ID FROM static_table WHERE PRACTICE_ID = '20357' AND SEX = 'M'\n",
      "DEBUG:root:Query: SELECT DISTINCT PATIENT_ID FROM static_table WHERE PRACTICE_ID = '20358' AND SEX = 'M'\n",
      "DEBUG:root:Query: SELECT DISTINCT PATIENT_ID FROM static_table WHERE PRACTICE_ID = '20359' AND SEX = 'M'\n",
      "DEBUG:root:Query: SELECT DISTINCT PATIENT_ID FROM static_table WHERE PRACTICE_ID = '20360' AND SEX = 'M'\n",
      "DEBUG:root:Query: SELECT DISTINCT PATIENT_ID FROM static_table WHERE PRACTICE_ID = '20361' AND SEX = 'M'\n",
      "DEBUG:root:Query: SELECT DISTINCT PATIENT_ID FROM static_table WHERE PRACTICE_ID = '20362' AND SEX = 'M'\n",
      "DEBUG:root:Query: SELECT DISTINCT PATIENT_ID FROM static_table WHERE PRACTICE_ID = '20363' AND SEX = 'M'\n",
      "DEBUG:root:Query: SELECT DISTINCT PATIENT_ID FROM static_table WHERE PRACTICE_ID = '20364' AND SEX = 'M'\n",
      "DEBUG:root:Query: SELECT DISTINCT PATIENT_ID FROM static_table WHERE PRACTICE_ID = '20365' AND SEX = 'M'\n",
      "DEBUG:root:Query: SELECT DISTINCT PATIENT_ID FROM static_table WHERE PRACTICE_ID = '20366' AND SEX = 'M'\n",
      "DEBUG:root:Query: SELECT DISTINCT PATIENT_ID FROM static_table WHERE PRACTICE_ID = '20367' AND SEX = 'M'\n",
      "DEBUG:root:Query: SELECT DISTINCT PATIENT_ID FROM static_table WHERE PRACTICE_ID = '20368' AND SEX = 'M'\n",
      "DEBUG:root:Query: SELECT DISTINCT PATIENT_ID FROM static_table WHERE PRACTICE_ID = '20872' AND SEX = 'M'\n",
      "DEBUG:root:Query: SELECT DISTINCT PATIENT_ID FROM static_table WHERE PRACTICE_ID = '20370' AND SEX = 'M'\n",
      "DEBUG:root:Query: SELECT DISTINCT PATIENT_ID FROM static_table WHERE PRACTICE_ID = '20371' AND SEX = 'M'\n",
      "DEBUG:root:Query: SELECT DISTINCT PATIENT_ID FROM static_table WHERE PRACTICE_ID = '20372' AND SEX = 'M'\n",
      "DEBUG:root:Query: SELECT DISTINCT PATIENT_ID FROM static_table WHERE PRACTICE_ID = '20373' AND SEX = 'M'\n",
      "DEBUG:root:Query: SELECT DISTINCT PATIENT_ID FROM static_table WHERE PRACTICE_ID = '20374' AND SEX = 'M'\n",
      "DEBUG:root:Query: SELECT DISTINCT PATIENT_ID FROM static_table WHERE PRACTICE_ID = '20375' AND SEX = 'M'\n",
      "DEBUG:root:Query: SELECT DISTINCT PATIENT_ID FROM static_table WHERE PRACTICE_ID = '20376' AND SEX = 'M'\n",
      "DEBUG:root:Query: SELECT DISTINCT PATIENT_ID FROM static_table WHERE PRACTICE_ID = '20377' AND SEX = 'M'\n",
      "DEBUG:root:Query: SELECT DISTINCT PATIENT_ID FROM static_table WHERE PRACTICE_ID = '20889' AND SEX = 'M'\n",
      "DEBUG:root:Query: SELECT DISTINCT PATIENT_ID FROM static_table WHERE PRACTICE_ID = '21397' AND SEX = 'M'\n",
      "DEBUG:root:Query: SELECT DISTINCT PATIENT_ID FROM static_table WHERE PRACTICE_ID = '20892' AND SEX = 'M'\n",
      "DEBUG:root:Query: SELECT DISTINCT PATIENT_ID FROM static_table WHERE PRACTICE_ID = '20385' AND SEX = 'M'\n",
      "DEBUG:root:Query: SELECT DISTINCT PATIENT_ID FROM static_table WHERE PRACTICE_ID = '21549' AND SEX = 'M'\n",
      "DEBUG:root:Query: SELECT DISTINCT PATIENT_ID FROM static_table WHERE PRACTICE_ID = '20393' AND SEX = 'M'\n",
      "DEBUG:root:Query: SELECT DISTINCT PATIENT_ID FROM static_table WHERE PRACTICE_ID = '20394' AND SEX = 'M'\n",
      "DEBUG:root:Query: SELECT DISTINCT PATIENT_ID FROM static_table WHERE PRACTICE_ID = '20395' AND SEX = 'M'\n",
      "DEBUG:root:Query: SELECT DISTINCT PATIENT_ID FROM static_table WHERE PRACTICE_ID = '20396' AND SEX = 'M'\n",
      "DEBUG:root:Query: SELECT DISTINCT PATIENT_ID FROM static_table WHERE PRACTICE_ID = '20397' AND SEX = 'M'\n",
      "DEBUG:root:Query: SELECT DISTINCT PATIENT_ID FROM static_table WHERE PRACTICE_ID = '20908' AND SEX = 'M'\n",
      "DEBUG:root:Query: SELECT DISTINCT PATIENT_ID FROM static_table WHERE PRACTICE_ID = '21418' AND SEX = 'M'\n",
      "DEBUG:root:Query: SELECT DISTINCT PATIENT_ID FROM static_table WHERE PRACTICE_ID = '21421' AND SEX = 'M'\n",
      "DEBUG:root:Query: SELECT DISTINCT PATIENT_ID FROM static_table WHERE PRACTICE_ID = '21558' AND SEX = 'M'\n",
      "DEBUG:root:Query: SELECT DISTINCT PATIENT_ID FROM static_table WHERE PRACTICE_ID = '21426' AND SEX = 'M'\n",
      "DEBUG:root:Query: SELECT DISTINCT PATIENT_ID FROM static_table WHERE PRACTICE_ID = '21431' AND SEX = 'M'\n",
      "DEBUG:root:Query: SELECT DISTINCT PATIENT_ID FROM static_table WHERE PRACTICE_ID = '21433' AND SEX = 'M'\n",
      "DEBUG:root:Query: SELECT DISTINCT PATIENT_ID FROM static_table WHERE PRACTICE_ID = '21436' AND SEX = 'M'\n",
      "DEBUG:root:Query: SELECT DISTINCT PATIENT_ID FROM static_table WHERE PRACTICE_ID = '21446' AND SEX = 'M'\n",
      "DEBUG:root:Query: SELECT DISTINCT PATIENT_ID FROM static_table WHERE PRACTICE_ID = '21448' AND SEX = 'M'\n",
      "DEBUG:root:Query: SELECT DISTINCT PATIENT_ID FROM static_table WHERE PRACTICE_ID = '20937' AND SEX = 'M'\n",
      "DEBUG:root:Query: SELECT DISTINCT PATIENT_ID FROM static_table WHERE PRACTICE_ID = '21449' AND SEX = 'M'\n",
      "DEBUG:root:Query: SELECT DISTINCT PATIENT_ID FROM static_table WHERE PRACTICE_ID = '21450' AND SEX = 'M'\n",
      "DEBUG:root:Query: SELECT DISTINCT PATIENT_ID FROM static_table WHERE PRACTICE_ID = '21451' AND SEX = 'M'\n",
      "DEBUG:root:Query: SELECT DISTINCT PATIENT_ID FROM static_table WHERE PRACTICE_ID = '21452' AND SEX = 'M'\n",
      "DEBUG:root:Query: SELECT DISTINCT PATIENT_ID FROM static_table WHERE PRACTICE_ID = '20945' AND SEX = 'M'\n",
      "DEBUG:root:Query: SELECT DISTINCT PATIENT_ID FROM static_table WHERE PRACTICE_ID = '21461' AND SEX = 'M'\n",
      "DEBUG:root:Query: SELECT DISTINCT PATIENT_ID FROM static_table WHERE PRACTICE_ID = '21462' AND SEX = 'M'\n",
      "DEBUG:root:Query: SELECT DISTINCT PATIENT_ID FROM static_table WHERE PRACTICE_ID = '21464' AND SEX = 'M'\n",
      "DEBUG:root:Query: SELECT DISTINCT PATIENT_ID FROM static_table WHERE PRACTICE_ID = '20953' AND SEX = 'M'\n",
      "DEBUG:root:Query: SELECT DISTINCT PATIENT_ID FROM static_table WHERE PRACTICE_ID = '21468' AND SEX = 'M'\n",
      "DEBUG:root:Query: SELECT DISTINCT PATIENT_ID FROM static_table WHERE PRACTICE_ID = '20959' AND SEX = 'M'\n",
      "DEBUG:root:Query: SELECT DISTINCT PATIENT_ID FROM static_table WHERE PRACTICE_ID = '20960' AND SEX = 'M'\n",
      "DEBUG:root:Query: SELECT DISTINCT PATIENT_ID FROM static_table WHERE PRACTICE_ID = '20961' AND SEX = 'M'\n",
      "DEBUG:root:Query: SELECT DISTINCT PATIENT_ID FROM static_table WHERE PRACTICE_ID = '20962' AND SEX = 'M'\n",
      "DEBUG:root:Query: SELECT DISTINCT PATIENT_ID FROM static_table WHERE PRACTICE_ID = '21472' AND SEX = 'M'\n",
      "DEBUG:root:Query: SELECT DISTINCT PATIENT_ID FROM static_table WHERE PRACTICE_ID = '21474' AND SEX = 'M'\n",
      "DEBUG:root:Query: SELECT DISTINCT PATIENT_ID FROM static_table WHERE PRACTICE_ID = '20965' AND SEX = 'M'\n",
      "DEBUG:root:Query: SELECT DISTINCT PATIENT_ID FROM static_table WHERE PRACTICE_ID = '21475' AND SEX = 'M'\n",
      "DEBUG:root:Query: SELECT DISTINCT PATIENT_ID FROM static_table WHERE PRACTICE_ID = '21478' AND SEX = 'M'\n",
      "DEBUG:root:Query: SELECT DISTINCT PATIENT_ID FROM static_table WHERE PRACTICE_ID = '21481' AND SEX = 'M'\n",
      "DEBUG:root:Query: SELECT DISTINCT PATIENT_ID FROM static_table WHERE PRACTICE_ID = '21482' AND SEX = 'M'\n",
      "DEBUG:root:Query: SELECT DISTINCT PATIENT_ID FROM static_table WHERE PRACTICE_ID = '20972' AND SEX = 'M'\n",
      "DEBUG:root:Query: SELECT DISTINCT PATIENT_ID FROM static_table WHERE PRACTICE_ID = '21490' AND SEX = 'M'\n",
      "DEBUG:root:Query: SELECT DISTINCT PATIENT_ID FROM static_table WHERE PRACTICE_ID = '20981' AND SEX = 'M'\n",
      "DEBUG:root:Query: SELECT DISTINCT PATIENT_ID FROM static_table WHERE PRACTICE_ID = '20984' AND SEX = 'M'\n",
      "DEBUG:root:Query: SELECT DISTINCT PATIENT_ID FROM static_table WHERE PRACTICE_ID = '20985' AND SEX = 'M'\n",
      "DEBUG:root:Query: SELECT DISTINCT PATIENT_ID FROM static_table WHERE PRACTICE_ID = '20987' AND SEX = 'M'\n",
      "DEBUG:root:Query: SELECT DISTINCT PATIENT_ID FROM static_table WHERE PRACTICE_ID = '21573' AND SEX = 'M'\n",
      "DEBUG:root:Query: SELECT DISTINCT PATIENT_ID FROM static_table WHERE PRACTICE_ID = '20989' AND SEX = 'M'\n",
      "DEBUG:root:Query: SELECT DISTINCT PATIENT_ID FROM static_table WHERE PRACTICE_ID = '21502' AND SEX = 'M'\n"
     ]
    },
    {
     "name": "stdout",
     "output_type": "stream",
     "text": [
      "\n",
      "The first five unique practice_patient IDs from practice 21505:\n",
      "\t[6499299221505, 6499427221505, 6499478421505, 6499452821505, 6499606421505] from 2978 total\n",
      "\n",
      "Total male patients in each practice:\n",
      "\t [2978, 7353, 167, 10075, 3456, 10727, 5948, 10060, 3337, 4355, 4359, 4732, 9742, 9991, 7067, 7739, 5589, 2995, 12730, 15698, 8748, 6097, 4769, 7536, 6467, 10999, 8421, 3352, 4423, 13347, 6035, 8694, 11087, 12412, 7594, 2431, 7837, 7384, 4038, 9033, 7273, 6921, 14112, 7506, 6299, 8669, 4480, 2326, 8275, 10382, 3230, 6515, 5382, 3210, 4623, 11147, 4061, 7983, 4202, 9844, 7802, 9414, 6508, 6570, 17641, 14467, 2733, 5349, 36498, 36236, 4853, 13566, 4878, 6545, 231, 6101, 5236, 7443, 7149, 5396, 5926, 6347, 9721, 19320, 3748, 9388, 7912, 10456, 4048, 12342, 12121, 6510, 12210, 11697, 15807, 7896, 10871, 7275, 2947, 8767, 11560, 9993, 7809, 22261, 7067, 4748, 3451, 6236, 9718, 12605, 1077, 5160, 6008, 5280, 4139, 6202, 16834, 3648, 4768, 68067, 11073, 10346, 6716, 12517, 2112, 6095, 3990, 2316, 4959, 3229, 6307, 10423, 8499, 6009, 4102, 4425, 3681, 5796, 2332, 13750, 12158, 7182, 16368, 3390, 16867, 3981, 3346, 5276, 8399, 4490, 9405, 2326, 3721, 5952, 6340, 4431, 9213, 4038, 2601, 10431, 1930, 6388, 4473, 4008, 6665, 2491, 7712, 1938, 6558, 2224, 8992, 16841, 6118, 4935, 3264, 9787, 3696, 2243, 1772, 3861, 2875, 3065, 4925, 3940, 3727, 2318, 5866, 3878, 15994, 4240, 11354, 9401, 3839, 3007, 2174, 3972, 13249, 6919, 6595, 2812, 2414, 8707, 4902, 6683, 8025, 3930, 13999, 7459, 5220, 6417, 4598, 6342, 3341, 3707, 4539, 8400, 4086, 6894, 9794, 2777, 4206, 12716, 3917, 23129, 26719, 18685, 9177, 8175, 4438, 5008, 6890, 6625, 6015, 58229, 10745, 7268, 12136, 10484, 10309, 5878, 13033, 10113, 7568, 13680, 7112, 7278, 9559, 4615, 8357, 3432, 3773, 5708, 3649, 13179, 4395, 7167, 4215, 3563, 9251, 5780, 9360, 10611, 6400, 6019, 4467, 2242, 1857, 3565, 3491, 5273, 3082, 6458, 2052, 3426, 2071, 3829, 4353, 1560, 2156, 18184, 7997, 6454, 4960, 6806, 2988, 9294, 2187, 3624, 6759, 5731, 3070, 11792, 5973, 7719, 3779, 9638, 6975, 7852, 9225, 5920, 7313, 3348, 13381, 13297, 3613]\n"
     ]
    }
   ],
   "source": [
    "practice_patient_ids = []\n",
    "for p_id in practice_ids:\n",
    "    practice_patient_ids.append(collector._extract_distinct([\"static_table\"], \"PATIENT_ID\", conditions=[f\"PRACTICE_ID = '{p_id}' AND SEX = 'M'\"]))\n",
    "                                \n",
    "print(f\"\\nThe first five unique patient IDs from practice {practice_ids[0]}:\\n\\t{practice_patient_ids[0][:5]} from {len(practice_patient_ids[0])} total\")\n",
    "print(f\"\\nTotal male patients in each practice:\\n\\t {[len(ppid) for ppid in practice_patient_ids]}\")"
   ]
  },
  {
   "cell_type": "markdown",
   "id": "7f6ab2dd-b312-4ebf-ba5b-6aaccf290911",
   "metadata": {},
   "source": [
    "### Create a generator which chunks the .db tables by practice_id or practice_patient_id and lazily batch using Polars (Rust)\n",
    "\n",
    "* We can also choose to pass this method a list of conditions, one for each table.\n",
    "   * For example, we may only want to collect measurements within some predfined list, period etc"
   ]
  },
  {
   "cell_type": "markdown",
   "id": "93371030-a4d0-4988-94f9-9f3fd70a0941",
   "metadata": {},
   "source": [
    "In the first case, we may want to generate by individual level values. \n",
    "\n",
    "Here, we then pass in the list we generate over - which in this instance is the list of practice patient ID's belonging to the first chunk. Here we are then yielding one person per call to the generator."
   ]
  },
  {
   "cell_type": "code",
   "execution_count": 13,
   "id": "4a4e3060-6b89-4170-b5be-ac324b82d0be",
   "metadata": {
    "scrolled": true
   },
   "outputs": [
    {
     "name": "stderr",
     "output_type": "stream",
     "text": [
      "DEBUG:root:Query: SELECT * FROM static_table WHERE PRACTICE_ID = '21505'\n",
      "DEBUG:root:loaded 1 practices from table in 0.08716821670532227 seconds/practice\n",
      "DEBUG:root:Query: SELECT * FROM diagnosis_table WHERE PRACTICE_ID = '21505'\n",
      "DEBUG:root:loaded 1 practices from table in 0.28239917755126953 seconds/practice\n",
      "DEBUG:root:Query: SELECT * FROM measurement_25_Hydroxyvitamin_D2_level_92 WHERE PRACTICE_ID = '21505'\n",
      "DEBUG:root:loaded 1 practices from table in 0.19316744804382324 seconds/practice\n",
      "DEBUG:root:Query: SELECT * FROM measurement_25_Hydroxyvitamin_D3_level_90 WHERE PRACTICE_ID = '21505'\n",
      "DEBUG:root:loaded 1 practices from table in 0.07250165939331055 seconds/practice\n",
      "DEBUG:root:Query: SELECT * FROM measurement_AST___aspartate_transam_SGOT__46 WHERE PRACTICE_ID = '21505'\n",
      "DEBUG:root:loaded 1 practices from table in 0.16443133354187012 seconds/practice\n",
      "DEBUG:root:Query: SELECT * FROM measurement_AST_serum_level_47 WHERE PRACTICE_ID = '21505'\n",
      "DEBUG:root:loaded 1 practices from table in 0.16618871688842773 seconds/practice\n",
      "DEBUG:root:Query: SELECT * FROM measurement_Albumin___creatinine_ratio_37 WHERE PRACTICE_ID = '21505'\n",
      "DEBUG:root:loaded 1 practices from table in 0.10820198059082031 seconds/practice\n",
      "DEBUG:root:Query: SELECT * FROM measurement_Basophil_count_22 WHERE PRACTICE_ID = '21505'\n",
      "DEBUG:root:loaded 1 practices from table in 0.21849894523620605 seconds/practice\n",
      "DEBUG:root:Query: SELECT * FROM measurement_Blood_calcium_level_38 WHERE PRACTICE_ID = '21505'\n",
      "DEBUG:root:loaded 1 practices from table in 0.08892989158630371 seconds/practice\n",
      "DEBUG:root:Query: SELECT * FROM measurement_Blood_urea_28 WHERE PRACTICE_ID = '21505'\n",
      "DEBUG:root:loaded 1 practices from table in 0.021558761596679688 seconds/practice\n",
      "DEBUG:root:Query: SELECT * FROM measurement_Body_mass_index_3 WHERE PRACTICE_ID = '21505'\n",
      "DEBUG:root:loaded 1 practices from table in 0.21808934211730957 seconds/practice\n",
      "DEBUG:root:Query: SELECT * FROM measurement_Brain_natriuretic_peptide_level_66 WHERE PRACTICE_ID = '21505'\n",
      "DEBUG:root:loaded 1 practices from table in 0.12940526008605957 seconds/practice\n",
      "DEBUG:root:Query: SELECT * FROM measurement_Calcium_adjusted_level_41 WHERE PRACTICE_ID = '21505'\n",
      "DEBUG:root:loaded 1 practices from table in 0.15851879119873047 seconds/practice\n",
      "DEBUG:root:Query: SELECT * FROM measurement_Calculated_LDL_cholesterol_level_103 WHERE PRACTICE_ID = '21505'\n",
      "DEBUG:root:loaded 1 practices from table in 0.14792537689208984 seconds/practice\n",
      "DEBUG:root:Query: SELECT * FROM measurement_Combined_total_vitamin_D2_and_D3_level_93 WHERE PRACTICE_ID = '21505'\n",
      "DEBUG:root:loaded 1 practices from table in 0.1739060878753662 seconds/practice\n",
      "DEBUG:root:Query: SELECT * FROM measurement_Corrected_serum_calcium_level_42 WHERE PRACTICE_ID = '21505'\n",
      "DEBUG:root:loaded 1 practices from table in 0.12376666069030762 seconds/practice\n",
      "DEBUG:root:Query: SELECT * FROM measurement_Current_smoker_83 WHERE PRACTICE_ID = '21505'\n",
      "DEBUG:root:loaded 1 practices from table in 0.18126821517944336 seconds/practice\n",
      "DEBUG:root:Query: SELECT * FROM measurement_Diastolic_blood_pressure_5 WHERE PRACTICE_ID = '21505'\n",
      "DEBUG:root:loaded 1 practices from table in 0.25130176544189453 seconds/practice\n",
      "DEBUG:root:Query: SELECT * FROM measurement_Eosinophil_count_21 WHERE PRACTICE_ID = '21505'\n",
      "DEBUG:root:loaded 1 practices from table in 0.19012975692749023 seconds/practice\n",
      "DEBUG:root:Query: SELECT * FROM measurement_Erythrocyte_sedimentation_rate_61 WHERE PRACTICE_ID = '21505'\n",
      "DEBUG:root:loaded 1 practices from table in 0.18129372596740723 seconds/practice\n",
      "DEBUG:root:Query: SELECT * FROM measurement_Ex_smoker_84 WHERE PRACTICE_ID = '21505'\n",
      "DEBUG:root:loaded 1 practices from table in 0.22761797904968262 seconds/practice\n",
      "DEBUG:root:Query: SELECT * FROM measurement_Free_T4_level_76 WHERE PRACTICE_ID = '21505'\n",
      "DEBUG:root:loaded 1 practices from table in 0.1648247241973877 seconds/practice\n",
      "DEBUG:root:Query: SELECT * FROM measurement_GFR_calculated_abbreviated_MDRD_34 WHERE PRACTICE_ID = '21505'\n",
      "DEBUG:root:loaded 1 practices from table in 0.19379663467407227 seconds/practice\n",
      "DEBUG:root:Query: SELECT * FROM measurement_Haematocrit___PCV_16 WHERE PRACTICE_ID = '21505'\n",
      "DEBUG:root:loaded 1 practices from table in 0.19705939292907715 seconds/practice\n",
      "DEBUG:root:Query: SELECT * FROM measurement_Haematocrit_15 WHERE PRACTICE_ID = '21505'\n",
      "DEBUG:root:loaded 1 practices from table in 0.21257591247558594 seconds/practice\n",
      "DEBUG:root:Query: SELECT * FROM measurement_Haemoglobin_A1c_level___IFCC_standardised_6 WHERE PRACTICE_ID = '21505'\n",
      "DEBUG:root:loaded 1 practices from table in 0.21897220611572266 seconds/practice\n",
      "DEBUG:root:Query: SELECT * FROM measurement_Haemoglobin_A1c_level_8 WHERE PRACTICE_ID = '21505'\n",
      "DEBUG:root:loaded 1 practices from table in 0.1481609344482422 seconds/practice\n",
      "DEBUG:root:Query: SELECT * FROM measurement_Haemoglobin_estimation_9 WHERE PRACTICE_ID = '21505'\n",
      "DEBUG:root:loaded 1 practices from table in 0.18581461906433105 seconds/practice\n",
      "DEBUG:root:Query: SELECT * FROM measurement_HbA1c_level__DCCT_aligned__7 WHERE PRACTICE_ID = '21505'\n",
      "DEBUG:root:loaded 1 practices from table in 0.25928401947021484 seconds/practice\n",
      "DEBUG:root:Query: SELECT * FROM measurement_INR___international_normalised_ratio_81 WHERE PRACTICE_ID = '21505'\n",
      "DEBUG:root:loaded 1 practices from table in 0.12574172019958496 seconds/practice\n",
      "DEBUG:root:Query: SELECT * FROM measurement_International_normalised_ratio_82 WHERE PRACTICE_ID = '21505'\n",
      "DEBUG:root:loaded 1 practices from table in 0.18075180053710938 seconds/practice\n",
      "DEBUG:root:Query: SELECT * FROM measurement_Lymphocyte_count_20 WHERE PRACTICE_ID = '21505'\n",
      "DEBUG:root:loaded 1 practices from table in 0.1991887092590332 seconds/practice\n",
      "DEBUG:root:Query: SELECT * FROM measurement_Mean_corpusc_Hb_conc__MCHC__14 WHERE PRACTICE_ID = '21505'\n",
      "DEBUG:root:loaded 1 practices from table in 0.21371865272521973 seconds/practice\n",
      "DEBUG:root:Query: SELECT * FROM measurement_Mean_corpusc_haemoglobin_MCH__13 WHERE PRACTICE_ID = '21505'\n",
      "DEBUG:root:loaded 1 practices from table in 0.18573331832885742 seconds/practice\n",
      "DEBUG:root:Query: SELECT * FROM measurement_Mean_corpuscular_volume__MCV__11 WHERE PRACTICE_ID = '21505'\n",
      "DEBUG:root:loaded 1 practices from table in 0.2149519920349121 seconds/practice\n",
      "DEBUG:root:Query: SELECT * FROM measurement_Monocyte_count_23 WHERE PRACTICE_ID = '21505'\n",
      "DEBUG:root:loaded 1 practices from table in 0.22050046920776367 seconds/practice\n",
      "DEBUG:root:Query: SELECT * FROM measurement_N_terminal_pro_brain_natriuretic_peptide_level_67 WHERE PRACTICE_ID = '21505'\n",
      "DEBUG:root:loaded 1 practices from table in 0.1223304271697998 seconds/practice\n",
      "DEBUG:root:Query: SELECT * FROM measurement_Neutrophil_count_19 WHERE PRACTICE_ID = '21505'\n",
      "DEBUG:root:loaded 1 practices from table in 0.18451762199401855 seconds/practice\n",
      "DEBUG:root:Query: SELECT * FROM measurement_Never_smoked_tobacco_85 WHERE PRACTICE_ID = '21505'\n",
      "DEBUG:root:loaded 1 practices from table in 0.17987656593322754 seconds/practice\n",
      "DEBUG:root:Query: SELECT * FROM measurement_Non_HDL_cholesterol_level_108 WHERE PRACTICE_ID = '21505'\n",
      "DEBUG:root:loaded 1 practices from table in 0.19498753547668457 seconds/practice\n",
      "DEBUG:root:Query: SELECT * FROM measurement_O_E___height_1 WHERE PRACTICE_ID = '21505'\n",
      "DEBUG:root:loaded 1 practices from table in 0.2118978500366211 seconds/practice\n",
      "DEBUG:root:Query: SELECT * FROM measurement_O_E___weight_2 WHERE PRACTICE_ID = '21505'\n",
      "DEBUG:root:loaded 1 practices from table in 0.22224187850952148 seconds/practice\n",
      "DEBUG:root:Query: SELECT * FROM measurement_Plasma_B_natriuretic_peptide_level_69 WHERE PRACTICE_ID = '21505'\n",
      "DEBUG:root:loaded 1 practices from table in 0.09810805320739746 seconds/practice\n",
      "DEBUG:root:Query: SELECT * FROM measurement_Plasma_C_reactive_protein_60 WHERE PRACTICE_ID = '21505'\n",
      "DEBUG:root:loaded 1 practices from table in 0.1020505428314209 seconds/practice\n",
      "DEBUG:root:Query: SELECT * FROM measurement_Plasma_HDL_cholesterol_level_101 WHERE PRACTICE_ID = '21505'\n",
      "DEBUG:root:loaded 1 practices from table in 0.12340736389160156 seconds/practice\n",
      "DEBUG:root:Query: SELECT * FROM measurement_Plasma_LDL_cholesterol_level_104 WHERE PRACTICE_ID = '21505'\n",
      "DEBUG:root:loaded 1 practices from table in 0.11713409423828125 seconds/practice\n",
      "DEBUG:root:Query: SELECT * FROM measurement_Plasma_N_terminal_pro_B_type_natriuretic_peptide_conc_70 WHERE PRACTICE_ID = '21505'\n",
      "DEBUG:root:loaded 1 practices from table in 0.06441569328308105 seconds/practice\n",
      "DEBUG:root:Query: SELECT * FROM measurement_Plasma_TSH_level_73 WHERE PRACTICE_ID = '21505'\n",
      "DEBUG:root:loaded 1 practices from table in 0.014041900634765625 seconds/practice\n",
      "DEBUG:root:Query: SELECT * FROM measurement_Plasma_alanine_aminotransferase_level_44 WHERE PRACTICE_ID = '21505'\n",
      "DEBUG:root:loaded 1 practices from table in 0.1435534954071045 seconds/practice\n",
      "DEBUG:root:Query: SELECT * FROM measurement_Plasma_albumin_level_52 WHERE PRACTICE_ID = '21505'\n",
      "DEBUG:root:loaded 1 practices from table in 0.17327427864074707 seconds/practice\n",
      "DEBUG:root:Query: SELECT * FROM measurement_Plasma_alkaline_phosphatase_level_49 WHERE PRACTICE_ID = '21505'\n",
      "DEBUG:root:loaded 1 practices from table in 0.127763032913208 seconds/practice\n",
      "DEBUG:root:Query: SELECT * FROM measurement_Plasma_calcium_level_40 WHERE PRACTICE_ID = '21505'\n",
      "DEBUG:root:loaded 1 practices from table in 0.11635041236877441 seconds/practice\n",
      "DEBUG:root:Query: SELECT * FROM measurement_Plasma_cholesterol_HDL_ratio_96 WHERE PRACTICE_ID = '21505'\n",
      "DEBUG:root:loaded 1 practices from table in 0.09991168975830078 seconds/practice\n",
      "DEBUG:root:Query: SELECT * FROM measurement_Plasma_corrected_calcium_level_43 WHERE PRACTICE_ID = '21505'\n",
      "DEBUG:root:loaded 1 practices from table in 0.13659930229187012 seconds/practice\n",
      "DEBUG:root:Query: SELECT * FROM measurement_Plasma_creatinine_level_32 WHERE PRACTICE_ID = '21505'\n",
      "DEBUG:root:loaded 1 practices from table in 0.08336377143859863 seconds/practice\n",
      "DEBUG:root:Query: SELECT * FROM measurement_Plasma_ferritin_level_62 WHERE PRACTICE_ID = '21505'\n",
      "DEBUG:root:loaded 1 practices from table in 0.1874256134033203 seconds/practice\n",
      "DEBUG:root:Query: SELECT * FROM measurement_Plasma_free_T4_level_77 WHERE PRACTICE_ID = '21505'\n",
      "DEBUG:root:loaded 1 practices from table in 0.02929401397705078 seconds/practice\n",
      "DEBUG:root:Query: SELECT * FROM measurement_Plasma_gamma_glutamyl_transferase_level_58 WHERE PRACTICE_ID = '21505'\n",
      "DEBUG:root:loaded 1 practices from table in 0.155869722366333 seconds/practice\n",
      "DEBUG:root:Query: SELECT * FROM measurement_Plasma_potassium_level_27 WHERE PRACTICE_ID = '21505'\n",
      "DEBUG:root:loaded 1 practices from table in 0.14548921585083008 seconds/practice\n",
      "DEBUG:root:Query: SELECT * FROM measurement_Plasma_pro_brain_natriuretic_peptide_level_64 WHERE PRACTICE_ID = '21505'\n",
      "DEBUG:root:loaded 1 practices from table in 0.02249908447265625 seconds/practice\n",
      "DEBUG:root:Query: SELECT * FROM measurement_Plasma_sodium_level_25 WHERE PRACTICE_ID = '21505'\n",
      "DEBUG:root:loaded 1 practices from table in 0.11966204643249512 seconds/practice\n",
      "DEBUG:root:Query: SELECT * FROM measurement_Plasma_total_bilirubin_level_54 WHERE PRACTICE_ID = '21505'\n",
      "DEBUG:root:loaded 1 practices from table in 0.17946505546569824 seconds/practice\n",
      "DEBUG:root:Query: SELECT * FROM measurement_Plasma_total_cholesterol_level_99 WHERE PRACTICE_ID = '21505'\n",
      "DEBUG:root:loaded 1 practices from table in 0.16566681861877441 seconds/practice\n",
      "DEBUG:root:Query: SELECT * FROM measurement_Plasma_triglyceride_level_106 WHERE PRACTICE_ID = '21505'\n",
      "DEBUG:root:loaded 1 practices from table in 0.17631888389587402 seconds/practice\n",
      "DEBUG:root:Query: SELECT * FROM measurement_Plasma_urea_level_30 WHERE PRACTICE_ID = '21505'\n",
      "DEBUG:root:loaded 1 practices from table in 0.11355900764465332 seconds/practice\n",
      "DEBUG:root:Query: SELECT * FROM measurement_Platelet_count_12 WHERE PRACTICE_ID = '21505'\n",
      "DEBUG:root:loaded 1 practices from table in 0.22142314910888672 seconds/practice\n",
      "DEBUG:root:Query: SELECT * FROM measurement_Red_blood_cell__RBC__count_10 WHERE PRACTICE_ID = '21505'\n",
      "DEBUG:root:loaded 1 practices from table in 0.20999932289123535 seconds/practice\n",
      "DEBUG:root:Query: SELECT * FROM measurement_Red_blood_cell_distribution_width_17 WHERE PRACTICE_ID = '21505'\n",
      "DEBUG:root:loaded 1 practices from table in 0.21580958366394043 seconds/practice\n",
      "DEBUG:root:Query: SELECT * FROM measurement_Serum_25_Hydroxy_vitamin_D3_level_88 WHERE PRACTICE_ID = '21505'\n",
      "DEBUG:root:loaded 1 practices from table in 0.12478828430175781 seconds/practice\n",
      "DEBUG:root:Query: SELECT * FROM measurement_Serum_C_reactive_protein_level_59 WHERE PRACTICE_ID = '21505'\n",
      "DEBUG:root:loaded 1 practices from table in 0.1921372413635254 seconds/practice\n",
      "DEBUG:root:Query: SELECT * FROM measurement_Serum_HDL_cholesterol_level_100 WHERE PRACTICE_ID = '21505'\n",
      "DEBUG:root:loaded 1 practices from table in 0.19482827186584473 seconds/practice\n",
      "DEBUG:root:Query: SELECT * FROM measurement_Serum_LDL_cholesterol_level_102 WHERE PRACTICE_ID = '21505'\n",
      "DEBUG:root:loaded 1 practices from table in 0.16982674598693848 seconds/practice\n",
      "DEBUG:root:Query: SELECT * FROM measurement_Serum_N_terminal_pro_B_type_natriuretic_peptide_conc_68 WHERE PRACTICE_ID = '21505'\n",
      "DEBUG:root:loaded 1 practices from table in 0.1604602336883545 seconds/practice\n",
      "DEBUG:root:Query: SELECT * FROM measurement_Serum_T4_level_78 WHERE PRACTICE_ID = '21505'\n",
      "DEBUG:root:loaded 1 practices from table in 0.23767757415771484 seconds/practice\n",
      "DEBUG:root:Query: SELECT * FROM measurement_Serum_TSH_level_71 WHERE PRACTICE_ID = '21505'\n",
      "DEBUG:root:loaded 1 practices from table in 0.17454957962036133 seconds/practice\n",
      "DEBUG:root:Query: SELECT * FROM measurement_Serum_alanine_aminotransferase_level_45 WHERE PRACTICE_ID = '21505'\n",
      "DEBUG:root:loaded 1 practices from table in 0.24129819869995117 seconds/practice\n",
      "DEBUG:root:Query: SELECT * FROM measurement_Serum_albumin_51 WHERE PRACTICE_ID = '21505'\n",
      "DEBUG:root:loaded 1 practices from table in 0.15226101875305176 seconds/practice\n",
      "DEBUG:root:Query: SELECT * FROM measurement_Serum_alkaline_phosphatase_50 WHERE PRACTICE_ID = '21505'\n",
      "DEBUG:root:loaded 1 practices from table in 0.17487001419067383 seconds/practice\n",
      "DEBUG:root:Query: SELECT * FROM measurement_Serum_bilirubin_level_53 WHERE PRACTICE_ID = '21505'\n",
      "DEBUG:root:loaded 1 practices from table in 0.20041418075561523 seconds/practice\n",
      "DEBUG:root:Query: SELECT * FROM measurement_Serum_calcium_39 WHERE PRACTICE_ID = '21505'\n",
      "DEBUG:root:loaded 1 practices from table in 0.1943037509918213 seconds/practice\n",
      "DEBUG:root:Query: SELECT * FROM measurement_Serum_cholesterol_97 WHERE PRACTICE_ID = '21505'\n",
      "DEBUG:root:loaded 1 practices from table in 0.24063611030578613 seconds/practice\n",
      "DEBUG:root:Query: SELECT * FROM measurement_Serum_cholesterol_HDL_ratio_94 WHERE PRACTICE_ID = '21505'\n",
      "DEBUG:root:loaded 1 practices from table in 0.2811086177825928 seconds/practice\n",
      "DEBUG:root:Query: SELECT * FROM measurement_Serum_creatinine_31 WHERE PRACTICE_ID = '21505'\n",
      "DEBUG:root:loaded 1 practices from table in 0.2288341522216797 seconds/practice\n",
      "DEBUG:root:Query: SELECT * FROM measurement_Serum_ferritin_63 WHERE PRACTICE_ID = '21505'\n",
      "DEBUG:root:loaded 1 practices from table in 0.17743325233459473 seconds/practice\n",
      "DEBUG:root:Query: SELECT * FROM measurement_Serum_folate_80 WHERE PRACTICE_ID = '21505'\n",
      "DEBUG:root:loaded 1 practices from table in 0.3592815399169922 seconds/practice\n",
      "DEBUG:root:Query: SELECT * FROM measurement_Serum_free_T4_level_75 WHERE PRACTICE_ID = '21505'\n",
      "DEBUG:root:loaded 1 practices from table in 0.2683889865875244 seconds/practice\n",
      "DEBUG:root:Query: SELECT * FROM measurement_Serum_gamma_glutamyl_transferase_level_57 WHERE PRACTICE_ID = '21505'\n",
      "DEBUG:root:loaded 1 practices from table in 0.1952657699584961 seconds/practice\n",
      "DEBUG:root:Query: SELECT * FROM measurement_Serum_non_high_density_lipoprotein_cholesterol_level_107 WHERE PRACTICE_ID = '21505'\n",
      "DEBUG:root:loaded 1 practices from table in 0.15587449073791504 seconds/practice\n",
      "DEBUG:root:Query: SELECT * FROM measurement_Serum_potassium_26 WHERE PRACTICE_ID = '21505'\n",
      "DEBUG:root:loaded 1 practices from table in 0.17784667015075684 seconds/practice\n",
      "DEBUG:root:Query: SELECT * FROM measurement_Serum_pro_brain_natriuretic_peptide_level_65 WHERE PRACTICE_ID = '21505'\n",
      "DEBUG:root:loaded 1 practices from table in 0.14392304420471191 seconds/practice\n",
      "DEBUG:root:Query: SELECT * FROM measurement_Serum_sodium_24 WHERE PRACTICE_ID = '21505'\n",
      "DEBUG:root:loaded 1 practices from table in 0.1604468822479248 seconds/practice\n",
      "DEBUG:root:Query: SELECT * FROM measurement_Serum_total_25_hydroxy_vitamin_D_level_87 WHERE PRACTICE_ID = '21505'\n",
      "DEBUG:root:loaded 1 practices from table in 0.21698307991027832 seconds/practice\n",
      "DEBUG:root:Query: SELECT * FROM measurement_Serum_total_bilirubin_level_56 WHERE PRACTICE_ID = '21505'\n",
      "DEBUG:root:loaded 1 practices from table in 0.22394776344299316 seconds/practice\n",
      "DEBUG:root:Query: SELECT * FROM measurement_Serum_total_cholesterol_level_98 WHERE PRACTICE_ID = '21505'\n",
      "DEBUG:root:loaded 1 practices from table in 0.1546769142150879 seconds/practice\n",
      "DEBUG:root:Query: SELECT * FROM measurement_Serum_triglycerides_105 WHERE PRACTICE_ID = '21505'\n",
      "DEBUG:root:loaded 1 practices from table in 0.22836661338806152 seconds/practice\n",
      "DEBUG:root:Query: SELECT * FROM measurement_Serum_urea_level_29 WHERE PRACTICE_ID = '21505'\n",
      "DEBUG:root:loaded 1 practices from table in 0.18699121475219727 seconds/practice\n",
      "DEBUG:root:Query: SELECT * FROM measurement_Serum_vitamin_B12_79 WHERE PRACTICE_ID = '21505'\n",
      "DEBUG:root:loaded 1 practices from table in 0.24862003326416016 seconds/practice\n",
      "DEBUG:root:Query: SELECT * FROM measurement_Serum_vitamin_D2_level_89 WHERE PRACTICE_ID = '21505'\n",
      "DEBUG:root:loaded 1 practices from table in 0.08484435081481934 seconds/practice\n",
      "DEBUG:root:Query: SELECT * FROM measurement_Serum_vitamin_D_86 WHERE PRACTICE_ID = '21505'\n",
      "DEBUG:root:loaded 1 practices from table in 0.020712614059448242 seconds/practice\n",
      "DEBUG:root:Query: SELECT * FROM measurement_Systolic_blood_pressure_4 WHERE PRACTICE_ID = '21505'\n",
      "DEBUG:root:loaded 1 practices from table in 0.26375341415405273 seconds/practice\n",
      "DEBUG:root:Query: SELECT * FROM measurement_TSH___thyroid_stim_hormone_72 WHERE PRACTICE_ID = '21505'\n",
      "DEBUG:root:loaded 1 practices from table in 0.17922401428222656 seconds/practice\n",
      "DEBUG:root:Query: SELECT * FROM measurement_TSH_level_74 WHERE PRACTICE_ID = '21505'\n",
      "DEBUG:root:loaded 1 practices from table in 0.13391566276550293 seconds/practice\n",
      "DEBUG:root:Query: SELECT * FROM measurement_Total_25_hydroxyvitamin_D_level_91 WHERE PRACTICE_ID = '21505'\n",
      "DEBUG:root:loaded 1 practices from table in 0.07939529418945312 seconds/practice\n",
      "DEBUG:root:Query: SELECT * FROM measurement_Total_alkaline_phosphatase_48 WHERE PRACTICE_ID = '21505'\n",
      "DEBUG:root:loaded 1 practices from table in 0.10954952239990234 seconds/practice\n",
      "DEBUG:root:Query: SELECT * FROM measurement_Total_bilirubin_55 WHERE PRACTICE_ID = '21505'\n",
      "DEBUG:root:loaded 1 practices from table in 0.12813162803649902 seconds/practice\n",
      "DEBUG:root:Query: SELECT * FROM measurement_Total_cholesterol_HDL_ratio_95 WHERE PRACTICE_ID = '21505'\n",
      "DEBUG:root:loaded 1 practices from table in 0.1490767002105713 seconds/practice\n",
      "DEBUG:root:Query: SELECT * FROM measurement_Total_white_cell_count_18 WHERE PRACTICE_ID = '21505'\n",
      "DEBUG:root:loaded 1 practices from table in 0.18540334701538086 seconds/practice\n",
      "DEBUG:root:Query: SELECT * FROM measurement_Urine_albumin_creatinine_ratio_35 WHERE PRACTICE_ID = '21505'\n",
      "DEBUG:root:loaded 1 practices from table in 0.18052339553833008 seconds/practice\n",
      "DEBUG:root:Query: SELECT * FROM measurement_Urine_microalbumin_creatinine_ratio_36 WHERE PRACTICE_ID = '21505'\n",
      "DEBUG:root:loaded 1 practices from table in 0.07034611701965332 seconds/practice\n",
      "DEBUG:root:Query: SELECT * FROM measurement_eGFR_using_creatinine_CKD_EPI_per_1_73_square_metres_33 WHERE PRACTICE_ID = '21505'\n",
      "DEBUG:root:loaded 1 practices from table in 0.1777181625366211 seconds/practice\n",
      "DEBUG:root:Dropping missing measurements\n",
      "DEBUG:root:Removing patients with no observed events\n",
      "DEBUG:root:Query: SELECT * FROM static_table WHERE PRACTICE_ID = '20995'\n"
     ]
    },
    {
     "name": "stdout",
     "output_type": "stream",
     "text": [
      "collector took 18.426275491714478 seconds\n",
      "collating events took 0.19113659858703613 seconds\n"
     ]
    },
    {
     "name": "stderr",
     "output_type": "stream",
     "text": [
      "DEBUG:root:loaded 1 practices from table in 0.12081551551818848 seconds/practice\n",
      "DEBUG:root:Query: SELECT * FROM diagnosis_table WHERE PRACTICE_ID = '20995'\n",
      "DEBUG:root:loaded 1 practices from table in 0.45955848693847656 seconds/practice\n",
      "DEBUG:root:Query: SELECT * FROM measurement_25_Hydroxyvitamin_D2_level_92 WHERE PRACTICE_ID = '20995'\n",
      "DEBUG:root:loaded 1 practices from table in 0.0019221305847167969 seconds/practice\n",
      "DEBUG:root:Query: SELECT * FROM measurement_25_Hydroxyvitamin_D3_level_90 WHERE PRACTICE_ID = '20995'\n",
      "DEBUG:root:loaded 1 practices from table in 0.006295919418334961 seconds/practice\n",
      "DEBUG:root:Query: SELECT * FROM measurement_AST___aspartate_transam_SGOT__46 WHERE PRACTICE_ID = '20995'\n",
      "DEBUG:root:loaded 1 practices from table in 0.10662031173706055 seconds/practice\n",
      "DEBUG:root:Query: SELECT * FROM measurement_AST_serum_level_47 WHERE PRACTICE_ID = '20995'\n",
      "DEBUG:root:loaded 1 practices from table in 0.1645832061767578 seconds/practice\n",
      "DEBUG:root:Query: SELECT * FROM measurement_Albumin___creatinine_ratio_37 WHERE PRACTICE_ID = '20995'\n",
      "DEBUG:root:loaded 1 practices from table in 0.0019481182098388672 seconds/practice\n",
      "DEBUG:root:Query: SELECT * FROM measurement_Basophil_count_22 WHERE PRACTICE_ID = '20995'\n",
      "DEBUG:root:loaded 1 practices from table in 0.31087541580200195 seconds/practice\n",
      "DEBUG:root:Query: SELECT * FROM measurement_Blood_calcium_level_38 WHERE PRACTICE_ID = '20995'\n",
      "DEBUG:root:loaded 1 practices from table in 0.07117080688476562 seconds/practice\n",
      "DEBUG:root:Query: SELECT * FROM measurement_Blood_urea_28 WHERE PRACTICE_ID = '20995'\n",
      "DEBUG:root:loaded 1 practices from table in 0.0034322738647460938 seconds/practice\n",
      "DEBUG:root:Query: SELECT * FROM measurement_Body_mass_index_3 WHERE PRACTICE_ID = '20995'\n",
      "DEBUG:root:loaded 1 practices from table in 0.2315201759338379 seconds/practice\n",
      "DEBUG:root:Query: SELECT * FROM measurement_Brain_natriuretic_peptide_level_66 WHERE PRACTICE_ID = '20995'\n",
      "DEBUG:root:loaded 1 practices from table in 0.001867055892944336 seconds/practice\n",
      "DEBUG:root:Query: SELECT * FROM measurement_Calcium_adjusted_level_41 WHERE PRACTICE_ID = '20995'\n",
      "DEBUG:root:loaded 1 practices from table in 0.006750822067260742 seconds/practice\n",
      "DEBUG:root:Query: SELECT * FROM measurement_Calculated_LDL_cholesterol_level_103 WHERE PRACTICE_ID = '20995'\n",
      "DEBUG:root:loaded 1 practices from table in 0.15033960342407227 seconds/practice\n",
      "DEBUG:root:Query: SELECT * FROM measurement_Combined_total_vitamin_D2_and_D3_level_93 WHERE PRACTICE_ID = '20995'\n",
      "DEBUG:root:loaded 1 practices from table in 0.006325960159301758 seconds/practice\n",
      "DEBUG:root:Query: SELECT * FROM measurement_Corrected_serum_calcium_level_42 WHERE PRACTICE_ID = '20995'\n",
      "DEBUG:root:loaded 1 practices from table in 0.1649489402770996 seconds/practice\n",
      "DEBUG:root:Query: SELECT * FROM measurement_Current_smoker_83 WHERE PRACTICE_ID = '20995'\n",
      "DEBUG:root:loaded 1 practices from table in 0.15717124938964844 seconds/practice\n",
      "DEBUG:root:Query: SELECT * FROM measurement_Diastolic_blood_pressure_5 WHERE PRACTICE_ID = '20995'\n",
      "DEBUG:root:loaded 1 practices from table in 0.2707953453063965 seconds/practice\n",
      "DEBUG:root:Query: SELECT * FROM measurement_Eosinophil_count_21 WHERE PRACTICE_ID = '20995'\n",
      "DEBUG:root:loaded 1 practices from table in 0.2373969554901123 seconds/practice\n",
      "DEBUG:root:Query: SELECT * FROM measurement_Erythrocyte_sedimentation_rate_61 WHERE PRACTICE_ID = '20995'\n",
      "DEBUG:root:loaded 1 practices from table in 0.1906123161315918 seconds/practice\n",
      "DEBUG:root:Query: SELECT * FROM measurement_Ex_smoker_84 WHERE PRACTICE_ID = '20995'\n",
      "DEBUG:root:loaded 1 practices from table in 0.19948053359985352 seconds/practice\n",
      "DEBUG:root:Query: SELECT * FROM measurement_Free_T4_level_76 WHERE PRACTICE_ID = '20995'\n",
      "DEBUG:root:loaded 1 practices from table in 0.007376670837402344 seconds/practice\n",
      "DEBUG:root:Query: SELECT * FROM measurement_GFR_calculated_abbreviated_MDRD_34 WHERE PRACTICE_ID = '20995'\n",
      "DEBUG:root:loaded 1 practices from table in 0.21563315391540527 seconds/practice\n",
      "DEBUG:root:Query: SELECT * FROM measurement_Haematocrit___PCV_16 WHERE PRACTICE_ID = '20995'\n",
      "DEBUG:root:loaded 1 practices from table in 0.1919848918914795 seconds/practice\n",
      "DEBUG:root:Query: SELECT * FROM measurement_Haematocrit_15 WHERE PRACTICE_ID = '20995'\n",
      "DEBUG:root:loaded 1 practices from table in 0.21836328506469727 seconds/practice\n",
      "DEBUG:root:Query: SELECT * FROM measurement_Haemoglobin_A1c_level___IFCC_standardised_6 WHERE PRACTICE_ID = '20995'\n",
      "DEBUG:root:loaded 1 practices from table in 0.20237398147583008 seconds/practice\n",
      "DEBUG:root:Query: SELECT * FROM measurement_Haemoglobin_A1c_level_8 WHERE PRACTICE_ID = '20995'\n",
      "DEBUG:root:loaded 1 practices from table in 0.1578381061553955 seconds/practice\n",
      "DEBUG:root:Query: SELECT * FROM measurement_Haemoglobin_estimation_9 WHERE PRACTICE_ID = '20995'\n",
      "DEBUG:root:loaded 1 practices from table in 0.22595810890197754 seconds/practice\n",
      "DEBUG:root:Query: SELECT * FROM measurement_HbA1c_level__DCCT_aligned__7 WHERE PRACTICE_ID = '20995'\n",
      "DEBUG:root:loaded 1 practices from table in 0.14821481704711914 seconds/practice\n",
      "DEBUG:root:Query: SELECT * FROM measurement_INR___international_normalised_ratio_81 WHERE PRACTICE_ID = '20995'\n",
      "DEBUG:root:loaded 1 practices from table in 0.18106508255004883 seconds/practice\n",
      "DEBUG:root:Query: SELECT * FROM measurement_International_normalised_ratio_82 WHERE PRACTICE_ID = '20995'\n",
      "DEBUG:root:loaded 1 practices from table in 0.17498564720153809 seconds/practice\n",
      "DEBUG:root:Query: SELECT * FROM measurement_Lymphocyte_count_20 WHERE PRACTICE_ID = '20995'\n",
      "DEBUG:root:loaded 1 practices from table in 0.24586749076843262 seconds/practice\n",
      "DEBUG:root:Query: SELECT * FROM measurement_Mean_corpusc_Hb_conc__MCHC__14 WHERE PRACTICE_ID = '20995'\n",
      "DEBUG:root:loaded 1 practices from table in 0.20224475860595703 seconds/practice\n",
      "DEBUG:root:Query: SELECT * FROM measurement_Mean_corpusc_haemoglobin_MCH__13 WHERE PRACTICE_ID = '20995'\n",
      "DEBUG:root:loaded 1 practices from table in 0.21065020561218262 seconds/practice\n",
      "DEBUG:root:Query: SELECT * FROM measurement_Mean_corpuscular_volume__MCV__11 WHERE PRACTICE_ID = '20995'\n",
      "DEBUG:root:loaded 1 practices from table in 0.22909164428710938 seconds/practice\n",
      "DEBUG:root:Query: SELECT * FROM measurement_Monocyte_count_23 WHERE PRACTICE_ID = '20995'\n",
      "DEBUG:root:loaded 1 practices from table in 0.2170412540435791 seconds/practice\n",
      "DEBUG:root:Query: SELECT * FROM measurement_N_terminal_pro_brain_natriuretic_peptide_level_67 WHERE PRACTICE_ID = '20995'\n",
      "DEBUG:root:loaded 1 practices from table in 0.00183868408203125 seconds/practice\n",
      "DEBUG:root:Query: SELECT * FROM measurement_Neutrophil_count_19 WHERE PRACTICE_ID = '20995'\n",
      "DEBUG:root:loaded 1 practices from table in 0.325439453125 seconds/practice\n",
      "DEBUG:root:Query: SELECT * FROM measurement_Never_smoked_tobacco_85 WHERE PRACTICE_ID = '20995'\n",
      "DEBUG:root:loaded 1 practices from table in 0.17963385581970215 seconds/practice\n",
      "DEBUG:root:Query: SELECT * FROM measurement_Non_HDL_cholesterol_level_108 WHERE PRACTICE_ID = '20995'\n",
      "DEBUG:root:loaded 1 practices from table in 0.050234079360961914 seconds/practice\n",
      "DEBUG:root:Query: SELECT * FROM measurement_O_E___height_1 WHERE PRACTICE_ID = '20995'\n",
      "DEBUG:root:loaded 1 practices from table in 0.22104215621948242 seconds/practice\n",
      "DEBUG:root:Query: SELECT * FROM measurement_O_E___weight_2 WHERE PRACTICE_ID = '20995'\n",
      "DEBUG:root:loaded 1 practices from table in 0.36112260818481445 seconds/practice\n",
      "DEBUG:root:Query: SELECT * FROM measurement_Plasma_B_natriuretic_peptide_level_69 WHERE PRACTICE_ID = '20995'\n",
      "DEBUG:root:loaded 1 practices from table in 0.0022072792053222656 seconds/practice\n",
      "DEBUG:root:Query: SELECT * FROM measurement_Plasma_C_reactive_protein_60 WHERE PRACTICE_ID = '20995'\n",
      "DEBUG:root:loaded 1 practices from table in 0.06421780586242676 seconds/practice\n",
      "DEBUG:root:Query: SELECT * FROM measurement_Plasma_HDL_cholesterol_level_101 WHERE PRACTICE_ID = '20995'\n",
      "DEBUG:root:loaded 1 practices from table in 0.11193680763244629 seconds/practice\n",
      "DEBUG:root:Query: SELECT * FROM measurement_Plasma_LDL_cholesterol_level_104 WHERE PRACTICE_ID = '20995'\n",
      "DEBUG:root:loaded 1 practices from table in 0.016214370727539062 seconds/practice\n",
      "DEBUG:root:Query: SELECT * FROM measurement_Plasma_N_terminal_pro_B_type_natriuretic_peptide_conc_70 WHERE PRACTICE_ID = '20995'\n",
      "DEBUG:root:loaded 1 practices from table in 0.001986265182495117 seconds/practice\n",
      "DEBUG:root:Query: SELECT * FROM measurement_Plasma_TSH_level_73 WHERE PRACTICE_ID = '20995'\n",
      "DEBUG:root:loaded 1 practices from table in 0.06084799766540527 seconds/practice\n",
      "DEBUG:root:Query: SELECT * FROM measurement_Plasma_alanine_aminotransferase_level_44 WHERE PRACTICE_ID = '20995'\n",
      "DEBUG:root:loaded 1 practices from table in 0.1256873607635498 seconds/practice\n",
      "DEBUG:root:Query: SELECT * FROM measurement_Plasma_albumin_level_52 WHERE PRACTICE_ID = '20995'\n",
      "DEBUG:root:loaded 1 practices from table in 0.07914257049560547 seconds/practice\n",
      "DEBUG:root:Query: SELECT * FROM measurement_Plasma_alkaline_phosphatase_level_49 WHERE PRACTICE_ID = '20995'\n",
      "DEBUG:root:loaded 1 practices from table in 0.12190008163452148 seconds/practice\n",
      "DEBUG:root:Query: SELECT * FROM measurement_Plasma_calcium_level_40 WHERE PRACTICE_ID = '20995'\n",
      "DEBUG:root:loaded 1 practices from table in 0.10122466087341309 seconds/practice\n",
      "DEBUG:root:Query: SELECT * FROM measurement_Plasma_cholesterol_HDL_ratio_96 WHERE PRACTICE_ID = '20995'\n",
      "DEBUG:root:loaded 1 practices from table in 0.08792734146118164 seconds/practice\n",
      "DEBUG:root:Query: SELECT * FROM measurement_Plasma_corrected_calcium_level_43 WHERE PRACTICE_ID = '20995'\n",
      "DEBUG:root:loaded 1 practices from table in 0.05025506019592285 seconds/practice\n",
      "DEBUG:root:Query: SELECT * FROM measurement_Plasma_creatinine_level_32 WHERE PRACTICE_ID = '20995'\n",
      "DEBUG:root:loaded 1 practices from table in 0.17496275901794434 seconds/practice\n",
      "DEBUG:root:Query: SELECT * FROM measurement_Plasma_ferritin_level_62 WHERE PRACTICE_ID = '20995'\n",
      "DEBUG:root:loaded 1 practices from table in 0.009958744049072266 seconds/practice\n",
      "DEBUG:root:Query: SELECT * FROM measurement_Plasma_free_T4_level_77 WHERE PRACTICE_ID = '20995'\n",
      "DEBUG:root:loaded 1 practices from table in 0.0017936229705810547 seconds/practice\n",
      "DEBUG:root:Query: SELECT * FROM measurement_Plasma_gamma_glutamyl_transferase_level_58 WHERE PRACTICE_ID = '20995'\n",
      "DEBUG:root:loaded 1 practices from table in 0.05777692794799805 seconds/practice\n",
      "DEBUG:root:Query: SELECT * FROM measurement_Plasma_potassium_level_27 WHERE PRACTICE_ID = '20995'\n",
      "DEBUG:root:loaded 1 practices from table in 0.10322999954223633 seconds/practice\n",
      "DEBUG:root:Query: SELECT * FROM measurement_Plasma_pro_brain_natriuretic_peptide_level_64 WHERE PRACTICE_ID = '20995'\n",
      "DEBUG:root:loaded 1 practices from table in 0.09429025650024414 seconds/practice\n",
      "DEBUG:root:Query: SELECT * FROM measurement_Plasma_sodium_level_25 WHERE PRACTICE_ID = '20995'\n",
      "DEBUG:root:loaded 1 practices from table in 0.1258389949798584 seconds/practice\n",
      "DEBUG:root:Query: SELECT * FROM measurement_Plasma_total_bilirubin_level_54 WHERE PRACTICE_ID = '20995'\n",
      "DEBUG:root:loaded 1 practices from table in 0.0019385814666748047 seconds/practice\n",
      "DEBUG:root:Query: SELECT * FROM measurement_Plasma_total_cholesterol_level_99 WHERE PRACTICE_ID = '20995'\n",
      "DEBUG:root:loaded 1 practices from table in 0.10163283348083496 seconds/practice\n",
      "DEBUG:root:Query: SELECT * FROM measurement_Plasma_triglyceride_level_106 WHERE PRACTICE_ID = '20995'\n",
      "DEBUG:root:loaded 1 practices from table in 0.0832056999206543 seconds/practice\n",
      "DEBUG:root:Query: SELECT * FROM measurement_Plasma_urea_level_30 WHERE PRACTICE_ID = '20995'\n",
      "DEBUG:root:loaded 1 practices from table in 0.04031181335449219 seconds/practice\n",
      "DEBUG:root:Query: SELECT * FROM measurement_Platelet_count_12 WHERE PRACTICE_ID = '20995'\n",
      "DEBUG:root:loaded 1 practices from table in 0.2595679759979248 seconds/practice\n",
      "DEBUG:root:Query: SELECT * FROM measurement_Red_blood_cell__RBC__count_10 WHERE PRACTICE_ID = '20995'\n",
      "DEBUG:root:loaded 1 practices from table in 0.2302989959716797 seconds/practice\n",
      "DEBUG:root:Query: SELECT * FROM measurement_Red_blood_cell_distribution_width_17 WHERE PRACTICE_ID = '20995'\n",
      "DEBUG:root:loaded 1 practices from table in 0.25338149070739746 seconds/practice\n",
      "DEBUG:root:Query: SELECT * FROM measurement_Serum_25_Hydroxy_vitamin_D3_level_88 WHERE PRACTICE_ID = '20995'\n",
      "DEBUG:root:loaded 1 practices from table in 0.08581352233886719 seconds/practice\n",
      "DEBUG:root:Query: SELECT * FROM measurement_Serum_C_reactive_protein_level_59 WHERE PRACTICE_ID = '20995'\n",
      "DEBUG:root:loaded 1 practices from table in 0.17534208297729492 seconds/practice\n",
      "DEBUG:root:Query: SELECT * FROM measurement_Serum_HDL_cholesterol_level_100 WHERE PRACTICE_ID = '20995'\n",
      "DEBUG:root:loaded 1 practices from table in 0.18302226066589355 seconds/practice\n",
      "DEBUG:root:Query: SELECT * FROM measurement_Serum_LDL_cholesterol_level_102 WHERE PRACTICE_ID = '20995'\n",
      "DEBUG:root:loaded 1 practices from table in 0.2107563018798828 seconds/practice\n",
      "DEBUG:root:Query: SELECT * FROM measurement_Serum_N_terminal_pro_B_type_natriuretic_peptide_conc_68 WHERE PRACTICE_ID = '20995'\n",
      "DEBUG:root:loaded 1 practices from table in 0.006778240203857422 seconds/practice\n",
      "DEBUG:root:Query: SELECT * FROM measurement_Serum_T4_level_78 WHERE PRACTICE_ID = '20995'\n",
      "DEBUG:root:loaded 1 practices from table in 0.001794576644897461 seconds/practice\n",
      "DEBUG:root:Query: SELECT * FROM measurement_Serum_TSH_level_71 WHERE PRACTICE_ID = '20995'\n",
      "DEBUG:root:loaded 1 practices from table in 0.22564959526062012 seconds/practice\n",
      "DEBUG:root:Query: SELECT * FROM measurement_Serum_alanine_aminotransferase_level_45 WHERE PRACTICE_ID = '20995'\n",
      "DEBUG:root:loaded 1 practices from table in 0.2051234245300293 seconds/practice\n",
      "DEBUG:root:Query: SELECT * FROM measurement_Serum_albumin_51 WHERE PRACTICE_ID = '20995'\n",
      "DEBUG:root:loaded 1 practices from table in 0.2985382080078125 seconds/practice\n",
      "DEBUG:root:Query: SELECT * FROM measurement_Serum_alkaline_phosphatase_50 WHERE PRACTICE_ID = '20995'\n",
      "DEBUG:root:loaded 1 practices from table in 0.2527484893798828 seconds/practice\n",
      "DEBUG:root:Query: SELECT * FROM measurement_Serum_bilirubin_level_53 WHERE PRACTICE_ID = '20995'\n",
      "DEBUG:root:loaded 1 practices from table in 0.23947906494140625 seconds/practice\n",
      "DEBUG:root:Query: SELECT * FROM measurement_Serum_calcium_39 WHERE PRACTICE_ID = '20995'\n",
      "DEBUG:root:loaded 1 practices from table in 0.19640111923217773 seconds/practice\n",
      "DEBUG:root:Query: SELECT * FROM measurement_Serum_cholesterol_97 WHERE PRACTICE_ID = '20995'\n",
      "DEBUG:root:loaded 1 practices from table in 0.1874396800994873 seconds/practice\n",
      "DEBUG:root:Query: SELECT * FROM measurement_Serum_cholesterol_HDL_ratio_94 WHERE PRACTICE_ID = '20995'\n",
      "DEBUG:root:loaded 1 practices from table in 0.1396336555480957 seconds/practice\n",
      "DEBUG:root:Query: SELECT * FROM measurement_Serum_creatinine_31 WHERE PRACTICE_ID = '20995'\n",
      "DEBUG:root:loaded 1 practices from table in 0.22883129119873047 seconds/practice\n",
      "DEBUG:root:Query: SELECT * FROM measurement_Serum_ferritin_63 WHERE PRACTICE_ID = '20995'\n",
      "DEBUG:root:loaded 1 practices from table in 0.13826465606689453 seconds/practice\n",
      "DEBUG:root:Query: SELECT * FROM measurement_Serum_folate_80 WHERE PRACTICE_ID = '20995'\n",
      "DEBUG:root:loaded 1 practices from table in 0.13600373268127441 seconds/practice\n",
      "DEBUG:root:Query: SELECT * FROM measurement_Serum_free_T4_level_75 WHERE PRACTICE_ID = '20995'\n",
      "DEBUG:root:loaded 1 practices from table in 0.13956570625305176 seconds/practice\n",
      "DEBUG:root:Query: SELECT * FROM measurement_Serum_gamma_glutamyl_transferase_level_57 WHERE PRACTICE_ID = '20995'\n",
      "DEBUG:root:loaded 1 practices from table in 0.2034609317779541 seconds/practice\n",
      "DEBUG:root:Query: SELECT * FROM measurement_Serum_non_high_density_lipoprotein_cholesterol_level_107 WHERE PRACTICE_ID = '20995'\n",
      "DEBUG:root:loaded 1 practices from table in 0.12831544876098633 seconds/practice\n",
      "DEBUG:root:Query: SELECT * FROM measurement_Serum_potassium_26 WHERE PRACTICE_ID = '20995'\n",
      "DEBUG:root:loaded 1 practices from table in 0.22962498664855957 seconds/practice\n",
      "DEBUG:root:Query: SELECT * FROM measurement_Serum_pro_brain_natriuretic_peptide_level_65 WHERE PRACTICE_ID = '20995'\n",
      "DEBUG:root:loaded 1 practices from table in 0.0018558502197265625 seconds/practice\n",
      "DEBUG:root:Query: SELECT * FROM measurement_Serum_sodium_24 WHERE PRACTICE_ID = '20995'\n",
      "DEBUG:root:loaded 1 practices from table in 0.28245997428894043 seconds/practice\n",
      "DEBUG:root:Query: SELECT * FROM measurement_Serum_total_25_hydroxy_vitamin_D_level_87 WHERE PRACTICE_ID = '20995'\n",
      "DEBUG:root:loaded 1 practices from table in 0.010614395141601562 seconds/practice\n",
      "DEBUG:root:Query: SELECT * FROM measurement_Serum_total_bilirubin_level_56 WHERE PRACTICE_ID = '20995'\n",
      "DEBUG:root:loaded 1 practices from table in 0.22053742408752441 seconds/practice\n",
      "DEBUG:root:Query: SELECT * FROM measurement_Serum_total_cholesterol_level_98 WHERE PRACTICE_ID = '20995'\n",
      "DEBUG:root:loaded 1 practices from table in 0.15066814422607422 seconds/practice\n",
      "DEBUG:root:Query: SELECT * FROM measurement_Serum_triglycerides_105 WHERE PRACTICE_ID = '20995'\n",
      "DEBUG:root:loaded 1 practices from table in 0.1828293800354004 seconds/practice\n",
      "DEBUG:root:Query: SELECT * FROM measurement_Serum_urea_level_29 WHERE PRACTICE_ID = '20995'\n",
      "DEBUG:root:loaded 1 practices from table in 0.20333623886108398 seconds/practice\n",
      "DEBUG:root:Query: SELECT * FROM measurement_Serum_vitamin_B12_79 WHERE PRACTICE_ID = '20995'\n",
      "DEBUG:root:loaded 1 practices from table in 0.1344127655029297 seconds/practice\n",
      "DEBUG:root:Query: SELECT * FROM measurement_Serum_vitamin_D2_level_89 WHERE PRACTICE_ID = '20995'\n",
      "DEBUG:root:loaded 1 practices from table in 0.006635427474975586 seconds/practice\n",
      "DEBUG:root:Query: SELECT * FROM measurement_Serum_vitamin_D_86 WHERE PRACTICE_ID = '20995'\n",
      "DEBUG:root:loaded 1 practices from table in 0.12579846382141113 seconds/practice\n",
      "DEBUG:root:Query: SELECT * FROM measurement_Systolic_blood_pressure_4 WHERE PRACTICE_ID = '20995'\n",
      "DEBUG:root:loaded 1 practices from table in 0.2993910312652588 seconds/practice\n",
      "DEBUG:root:Query: SELECT * FROM measurement_TSH___thyroid_stim_hormone_72 WHERE PRACTICE_ID = '20995'\n",
      "DEBUG:root:loaded 1 practices from table in 0.132537841796875 seconds/practice\n",
      "DEBUG:root:Query: SELECT * FROM measurement_TSH_level_74 WHERE PRACTICE_ID = '20995'\n",
      "DEBUG:root:loaded 1 practices from table in 0.011758089065551758 seconds/practice\n",
      "DEBUG:root:Query: SELECT * FROM measurement_Total_25_hydroxyvitamin_D_level_91 WHERE PRACTICE_ID = '20995'\n",
      "DEBUG:root:loaded 1 practices from table in 0.0017533302307128906 seconds/practice\n",
      "DEBUG:root:Query: SELECT * FROM measurement_Total_alkaline_phosphatase_48 WHERE PRACTICE_ID = '20995'\n",
      "DEBUG:root:loaded 1 practices from table in 0.11534237861633301 seconds/practice\n",
      "DEBUG:root:Query: SELECT * FROM measurement_Total_bilirubin_55 WHERE PRACTICE_ID = '20995'\n",
      "DEBUG:root:loaded 1 practices from table in 0.01549220085144043 seconds/practice\n",
      "DEBUG:root:Query: SELECT * FROM measurement_Total_cholesterol_HDL_ratio_95 WHERE PRACTICE_ID = '20995'\n",
      "DEBUG:root:loaded 1 practices from table in 0.1419384479522705 seconds/practice\n",
      "DEBUG:root:Query: SELECT * FROM measurement_Total_white_cell_count_18 WHERE PRACTICE_ID = '20995'\n",
      "DEBUG:root:loaded 1 practices from table in 0.28411054611206055 seconds/practice\n",
      "DEBUG:root:Query: SELECT * FROM measurement_Urine_albumin_creatinine_ratio_35 WHERE PRACTICE_ID = '20995'\n",
      "DEBUG:root:loaded 1 practices from table in 0.17557048797607422 seconds/practice\n",
      "DEBUG:root:Query: SELECT * FROM measurement_Urine_microalbumin_creatinine_ratio_36 WHERE PRACTICE_ID = '20995'\n",
      "DEBUG:root:loaded 1 practices from table in 0.006119251251220703 seconds/practice\n",
      "DEBUG:root:Query: SELECT * FROM measurement_eGFR_using_creatinine_CKD_EPI_per_1_73_square_metres_33 WHERE PRACTICE_ID = '20995'\n",
      "DEBUG:root:loaded 1 practices from table in 0.21469569206237793 seconds/practice\n",
      "DEBUG:root:Dropping missing measurements\n",
      "DEBUG:root:Removing patients with no observed events\n"
     ]
    },
    {
     "name": "stdout",
     "output_type": "stream",
     "text": [
      "collector took 15.557485580444336 seconds\n"
     ]
    },
    {
     "name": "stderr",
     "output_type": "stream",
     "text": [
      "DEBUG:root:Query: SELECT * FROM static_table WHERE PRACTICE_ID = '20996'\n",
      "DEBUG:root:loaded 1 practices from table in 0.16534662246704102 seconds/practice\n",
      "DEBUG:root:Query: SELECT * FROM diagnosis_table WHERE PRACTICE_ID = '20996'\n",
      "DEBUG:root:loaded 1 practices from table in 0.008449077606201172 seconds/practice\n",
      "DEBUG:root:Query: SELECT * FROM measurement_25_Hydroxyvitamin_D2_level_92 WHERE PRACTICE_ID = '20996'\n",
      "DEBUG:root:loaded 1 practices from table in 0.0018794536590576172 seconds/practice\n",
      "DEBUG:root:Query: SELECT * FROM measurement_25_Hydroxyvitamin_D3_level_90 WHERE PRACTICE_ID = '20996'\n",
      "DEBUG:root:loaded 1 practices from table in 0.00196075439453125 seconds/practice\n",
      "DEBUG:root:Query: SELECT * FROM measurement_AST___aspartate_transam_SGOT__46 WHERE PRACTICE_ID = '20996'\n",
      "DEBUG:root:loaded 1 practices from table in 0.006097078323364258 seconds/practice\n",
      "DEBUG:root:Query: SELECT * FROM measurement_AST_serum_level_47 WHERE PRACTICE_ID = '20996'\n",
      "DEBUG:root:loaded 1 practices from table in 0.0018084049224853516 seconds/practice\n",
      "DEBUG:root:Query: SELECT * FROM measurement_Albumin___creatinine_ratio_37 WHERE PRACTICE_ID = '20996'\n",
      "DEBUG:root:loaded 1 practices from table in 0.005891561508178711 seconds/practice\n",
      "DEBUG:root:Query: SELECT * FROM measurement_Basophil_count_22 WHERE PRACTICE_ID = '20996'\n"
     ]
    },
    {
     "name": "stdout",
     "output_type": "stream",
     "text": [
      "collating events took 0.5720841884613037 seconds\n"
     ]
    },
    {
     "name": "stderr",
     "output_type": "stream",
     "text": [
      "DEBUG:root:loaded 1 practices from table in 0.12181448936462402 seconds/practice\n",
      "DEBUG:root:Query: SELECT * FROM measurement_Blood_calcium_level_38 WHERE PRACTICE_ID = '20996'\n",
      "DEBUG:root:loaded 1 practices from table in 0.0016584396362304688 seconds/practice\n",
      "DEBUG:root:Query: SELECT * FROM measurement_Blood_urea_28 WHERE PRACTICE_ID = '20996'\n",
      "DEBUG:root:loaded 1 practices from table in 0.0017712116241455078 seconds/practice\n",
      "DEBUG:root:Query: SELECT * FROM measurement_Body_mass_index_3 WHERE PRACTICE_ID = '20996'\n",
      "DEBUG:root:loaded 1 practices from table in 0.10567069053649902 seconds/practice\n",
      "DEBUG:root:Query: SELECT * FROM measurement_Brain_natriuretic_peptide_level_66 WHERE PRACTICE_ID = '20996'\n",
      "DEBUG:root:loaded 1 practices from table in 0.0017085075378417969 seconds/practice\n",
      "DEBUG:root:Query: SELECT * FROM measurement_Calcium_adjusted_level_41 WHERE PRACTICE_ID = '20996'\n",
      "DEBUG:root:loaded 1 practices from table in 0.007191181182861328 seconds/practice\n",
      "DEBUG:root:Query: SELECT * FROM measurement_Calculated_LDL_cholesterol_level_103 WHERE PRACTICE_ID = '20996'\n",
      "DEBUG:root:loaded 1 practices from table in 0.0017981529235839844 seconds/practice\n",
      "DEBUG:root:Query: SELECT * FROM measurement_Combined_total_vitamin_D2_and_D3_level_93 WHERE PRACTICE_ID = '20996'\n",
      "DEBUG:root:loaded 1 practices from table in 0.006157875061035156 seconds/practice\n",
      "DEBUG:root:Query: SELECT * FROM measurement_Corrected_serum_calcium_level_42 WHERE PRACTICE_ID = '20996'\n",
      "DEBUG:root:loaded 1 practices from table in 0.08746123313903809 seconds/practice\n",
      "DEBUG:root:Query: SELECT * FROM measurement_Current_smoker_83 WHERE PRACTICE_ID = '20996'\n",
      "DEBUG:root:loaded 1 practices from table in 0.09217977523803711 seconds/practice\n",
      "DEBUG:root:Query: SELECT * FROM measurement_Diastolic_blood_pressure_5 WHERE PRACTICE_ID = '20996'\n",
      "DEBUG:root:loaded 1 practices from table in 0.08704066276550293 seconds/practice\n",
      "DEBUG:root:Query: SELECT * FROM measurement_Eosinophil_count_21 WHERE PRACTICE_ID = '20996'\n",
      "DEBUG:root:loaded 1 practices from table in 0.12462329864501953 seconds/practice\n",
      "DEBUG:root:Query: SELECT * FROM measurement_Erythrocyte_sedimentation_rate_61 WHERE PRACTICE_ID = '20996'\n",
      "DEBUG:root:loaded 1 practices from table in 0.07252240180969238 seconds/practice\n",
      "DEBUG:root:Query: SELECT * FROM measurement_Ex_smoker_84 WHERE PRACTICE_ID = '20996'\n",
      "DEBUG:root:loaded 1 practices from table in 0.07262802124023438 seconds/practice\n",
      "DEBUG:root:Query: SELECT * FROM measurement_Free_T4_level_76 WHERE PRACTICE_ID = '20996'\n",
      "DEBUG:root:loaded 1 practices from table in 0.0020415782928466797 seconds/practice\n",
      "DEBUG:root:Query: SELECT * FROM measurement_GFR_calculated_abbreviated_MDRD_34 WHERE PRACTICE_ID = '20996'\n",
      "DEBUG:root:loaded 1 practices from table in 0.21437478065490723 seconds/practice\n",
      "DEBUG:root:Query: SELECT * FROM measurement_Haematocrit___PCV_16 WHERE PRACTICE_ID = '20996'\n",
      "DEBUG:root:loaded 1 practices from table in 0.0020198822021484375 seconds/practice\n",
      "DEBUG:root:Query: SELECT * FROM measurement_Haematocrit_15 WHERE PRACTICE_ID = '20996'\n",
      "DEBUG:root:loaded 1 practices from table in 0.11575627326965332 seconds/practice\n",
      "DEBUG:root:Query: SELECT * FROM measurement_Haemoglobin_A1c_level___IFCC_standardised_6 WHERE PRACTICE_ID = '20996'\n",
      "DEBUG:root:loaded 1 practices from table in 0.10119295120239258 seconds/practice\n",
      "DEBUG:root:Query: SELECT * FROM measurement_Haemoglobin_A1c_level_8 WHERE PRACTICE_ID = '20996'\n",
      "DEBUG:root:loaded 1 practices from table in 0.0019757747650146484 seconds/practice\n",
      "DEBUG:root:Query: SELECT * FROM measurement_Haemoglobin_estimation_9 WHERE PRACTICE_ID = '20996'\n",
      "DEBUG:root:loaded 1 practices from table in 0.10559797286987305 seconds/practice\n",
      "DEBUG:root:Query: SELECT * FROM measurement_HbA1c_level__DCCT_aligned__7 WHERE PRACTICE_ID = '20996'\n",
      "DEBUG:root:loaded 1 practices from table in 0.06424427032470703 seconds/practice\n",
      "DEBUG:root:Query: SELECT * FROM measurement_INR___international_normalised_ratio_81 WHERE PRACTICE_ID = '20996'\n",
      "DEBUG:root:loaded 1 practices from table in 0.001964092254638672 seconds/practice\n",
      "DEBUG:root:Query: SELECT * FROM measurement_International_normalised_ratio_82 WHERE PRACTICE_ID = '20996'\n",
      "DEBUG:root:loaded 1 practices from table in 0.09233903884887695 seconds/practice\n",
      "DEBUG:root:Query: SELECT * FROM measurement_Lymphocyte_count_20 WHERE PRACTICE_ID = '20996'\n",
      "DEBUG:root:loaded 1 practices from table in 0.09526419639587402 seconds/practice\n",
      "DEBUG:root:Query: SELECT * FROM measurement_Mean_corpusc_Hb_conc__MCHC__14 WHERE PRACTICE_ID = '20996'\n",
      "DEBUG:root:loaded 1 practices from table in 0.10386323928833008 seconds/practice\n",
      "DEBUG:root:Query: SELECT * FROM measurement_Mean_corpusc_haemoglobin_MCH__13 WHERE PRACTICE_ID = '20996'\n",
      "DEBUG:root:loaded 1 practices from table in 0.11050176620483398 seconds/practice\n",
      "DEBUG:root:Query: SELECT * FROM measurement_Mean_corpuscular_volume__MCV__11 WHERE PRACTICE_ID = '20996'\n",
      "DEBUG:root:loaded 1 practices from table in 0.1519174575805664 seconds/practice\n",
      "DEBUG:root:Query: SELECT * FROM measurement_Monocyte_count_23 WHERE PRACTICE_ID = '20996'\n",
      "DEBUG:root:loaded 1 practices from table in 0.10091972351074219 seconds/practice\n",
      "DEBUG:root:Query: SELECT * FROM measurement_N_terminal_pro_brain_natriuretic_peptide_level_67 WHERE PRACTICE_ID = '20996'\n",
      "DEBUG:root:loaded 1 practices from table in 0.0017154216766357422 seconds/practice\n",
      "DEBUG:root:Query: SELECT * FROM measurement_Neutrophil_count_19 WHERE PRACTICE_ID = '20996'\n",
      "DEBUG:root:loaded 1 practices from table in 0.09391474723815918 seconds/practice\n",
      "DEBUG:root:Query: SELECT * FROM measurement_Never_smoked_tobacco_85 WHERE PRACTICE_ID = '20996'\n",
      "DEBUG:root:loaded 1 practices from table in 0.09581875801086426 seconds/practice\n",
      "DEBUG:root:Query: SELECT * FROM measurement_Non_HDL_cholesterol_level_108 WHERE PRACTICE_ID = '20996'\n",
      "DEBUG:root:loaded 1 practices from table in 0.006258726119995117 seconds/practice\n",
      "DEBUG:root:Query: SELECT * FROM measurement_O_E___height_1 WHERE PRACTICE_ID = '20996'\n",
      "DEBUG:root:loaded 1 practices from table in 0.11273574829101562 seconds/practice\n",
      "DEBUG:root:Query: SELECT * FROM measurement_O_E___weight_2 WHERE PRACTICE_ID = '20996'\n",
      "DEBUG:root:loaded 1 practices from table in 0.12961721420288086 seconds/practice\n",
      "DEBUG:root:Query: SELECT * FROM measurement_Plasma_B_natriuretic_peptide_level_69 WHERE PRACTICE_ID = '20996'\n",
      "DEBUG:root:loaded 1 practices from table in 0.0017104148864746094 seconds/practice\n",
      "DEBUG:root:Query: SELECT * FROM measurement_Plasma_C_reactive_protein_60 WHERE PRACTICE_ID = '20996'\n",
      "DEBUG:root:loaded 1 practices from table in 0.0017478466033935547 seconds/practice\n",
      "DEBUG:root:Query: SELECT * FROM measurement_Plasma_HDL_cholesterol_level_101 WHERE PRACTICE_ID = '20996'\n",
      "DEBUG:root:loaded 1 practices from table in 0.0061151981353759766 seconds/practice\n",
      "DEBUG:root:Query: SELECT * FROM measurement_Plasma_LDL_cholesterol_level_104 WHERE PRACTICE_ID = '20996'\n",
      "DEBUG:root:loaded 1 practices from table in 0.0018742084503173828 seconds/practice\n",
      "DEBUG:root:Query: SELECT * FROM measurement_Plasma_N_terminal_pro_B_type_natriuretic_peptide_conc_70 WHERE PRACTICE_ID = '20996'\n",
      "DEBUG:root:loaded 1 practices from table in 0.001733541488647461 seconds/practice\n",
      "DEBUG:root:Query: SELECT * FROM measurement_Plasma_TSH_level_73 WHERE PRACTICE_ID = '20996'\n",
      "DEBUG:root:loaded 1 practices from table in 0.007717609405517578 seconds/practice\n",
      "DEBUG:root:Query: SELECT * FROM measurement_Plasma_alanine_aminotransferase_level_44 WHERE PRACTICE_ID = '20996'\n",
      "DEBUG:root:loaded 1 practices from table in 0.0018930435180664062 seconds/practice\n",
      "DEBUG:root:Query: SELECT * FROM measurement_Plasma_albumin_level_52 WHERE PRACTICE_ID = '20996'\n",
      "DEBUG:root:loaded 1 practices from table in 0.006851911544799805 seconds/practice\n",
      "DEBUG:root:Query: SELECT * FROM measurement_Plasma_alkaline_phosphatase_level_49 WHERE PRACTICE_ID = '20996'\n",
      "DEBUG:root:loaded 1 practices from table in 0.0021295547485351562 seconds/practice\n",
      "DEBUG:root:Query: SELECT * FROM measurement_Plasma_calcium_level_40 WHERE PRACTICE_ID = '20996'\n",
      "DEBUG:root:loaded 1 practices from table in 0.00663447380065918 seconds/practice\n",
      "DEBUG:root:Query: SELECT * FROM measurement_Plasma_cholesterol_HDL_ratio_96 WHERE PRACTICE_ID = '20996'\n",
      "DEBUG:root:loaded 1 practices from table in 0.0016016960144042969 seconds/practice\n",
      "DEBUG:root:Query: SELECT * FROM measurement_Plasma_corrected_calcium_level_43 WHERE PRACTICE_ID = '20996'\n",
      "DEBUG:root:loaded 1 practices from table in 0.0016515254974365234 seconds/practice\n",
      "DEBUG:root:Query: SELECT * FROM measurement_Plasma_creatinine_level_32 WHERE PRACTICE_ID = '20996'\n",
      "DEBUG:root:loaded 1 practices from table in 0.006157398223876953 seconds/practice\n",
      "DEBUG:root:Query: SELECT * FROM measurement_Plasma_ferritin_level_62 WHERE PRACTICE_ID = '20996'\n",
      "DEBUG:root:loaded 1 practices from table in 0.00177764892578125 seconds/practice\n",
      "DEBUG:root:Query: SELECT * FROM measurement_Plasma_free_T4_level_77 WHERE PRACTICE_ID = '20996'\n",
      "DEBUG:root:loaded 1 practices from table in 0.0017266273498535156 seconds/practice\n",
      "DEBUG:root:Query: SELECT * FROM measurement_Plasma_gamma_glutamyl_transferase_level_58 WHERE PRACTICE_ID = '20996'\n",
      "DEBUG:root:loaded 1 practices from table in 0.0016922950744628906 seconds/practice\n",
      "DEBUG:root:Query: SELECT * FROM measurement_Plasma_potassium_level_27 WHERE PRACTICE_ID = '20996'\n",
      "DEBUG:root:loaded 1 practices from table in 0.0018143653869628906 seconds/practice\n",
      "DEBUG:root:Query: SELECT * FROM measurement_Plasma_pro_brain_natriuretic_peptide_level_64 WHERE PRACTICE_ID = '20996'\n",
      "DEBUG:root:loaded 1 practices from table in 0.00634765625 seconds/practice\n",
      "DEBUG:root:Query: SELECT * FROM measurement_Plasma_sodium_level_25 WHERE PRACTICE_ID = '20996'\n",
      "DEBUG:root:loaded 1 practices from table in 0.001967906951904297 seconds/practice\n",
      "DEBUG:root:Query: SELECT * FROM measurement_Plasma_total_bilirubin_level_54 WHERE PRACTICE_ID = '20996'\n",
      "DEBUG:root:loaded 1 practices from table in 0.001934051513671875 seconds/practice\n",
      "DEBUG:root:Query: SELECT * FROM measurement_Plasma_total_cholesterol_level_99 WHERE PRACTICE_ID = '20996'\n",
      "DEBUG:root:loaded 1 practices from table in 0.0017728805541992188 seconds/practice\n",
      "DEBUG:root:Query: SELECT * FROM measurement_Plasma_triglyceride_level_106 WHERE PRACTICE_ID = '20996'\n",
      "DEBUG:root:loaded 1 practices from table in 0.0017266273498535156 seconds/practice\n",
      "DEBUG:root:Query: SELECT * FROM measurement_Plasma_urea_level_30 WHERE PRACTICE_ID = '20996'\n",
      "DEBUG:root:loaded 1 practices from table in 0.001711130142211914 seconds/practice\n",
      "DEBUG:root:Query: SELECT * FROM measurement_Platelet_count_12 WHERE PRACTICE_ID = '20996'\n",
      "DEBUG:root:loaded 1 practices from table in 0.11281132698059082 seconds/practice\n",
      "DEBUG:root:Query: SELECT * FROM measurement_Red_blood_cell__RBC__count_10 WHERE PRACTICE_ID = '20996'\n",
      "DEBUG:root:loaded 1 practices from table in 0.11098718643188477 seconds/practice\n",
      "DEBUG:root:Query: SELECT * FROM measurement_Red_blood_cell_distribution_width_17 WHERE PRACTICE_ID = '20996'\n",
      "DEBUG:root:loaded 1 practices from table in 0.09397745132446289 seconds/practice\n",
      "DEBUG:root:Query: SELECT * FROM measurement_Serum_25_Hydroxy_vitamin_D3_level_88 WHERE PRACTICE_ID = '20996'\n",
      "DEBUG:root:loaded 1 practices from table in 0.006133317947387695 seconds/practice\n",
      "DEBUG:root:Query: SELECT * FROM measurement_Serum_C_reactive_protein_level_59 WHERE PRACTICE_ID = '20996'\n",
      "DEBUG:root:loaded 1 practices from table in 0.08719778060913086 seconds/practice\n",
      "DEBUG:root:Query: SELECT * FROM measurement_Serum_HDL_cholesterol_level_100 WHERE PRACTICE_ID = '20996'\n",
      "DEBUG:root:loaded 1 practices from table in 0.0778651237487793 seconds/practice\n",
      "DEBUG:root:Query: SELECT * FROM measurement_Serum_LDL_cholesterol_level_102 WHERE PRACTICE_ID = '20996'\n",
      "DEBUG:root:loaded 1 practices from table in 0.05573391914367676 seconds/practice\n",
      "DEBUG:root:Query: SELECT * FROM measurement_Serum_N_terminal_pro_B_type_natriuretic_peptide_conc_68 WHERE PRACTICE_ID = '20996'\n",
      "DEBUG:root:loaded 1 practices from table in 0.0017189979553222656 seconds/practice\n",
      "DEBUG:root:Query: SELECT * FROM measurement_Serum_T4_level_78 WHERE PRACTICE_ID = '20996'\n",
      "DEBUG:root:loaded 1 practices from table in 0.0017406940460205078 seconds/practice\n",
      "DEBUG:root:Query: SELECT * FROM measurement_Serum_TSH_level_71 WHERE PRACTICE_ID = '20996'\n",
      "DEBUG:root:loaded 1 practices from table in 0.12869644165039062 seconds/practice\n",
      "DEBUG:root:Query: SELECT * FROM measurement_Serum_alanine_aminotransferase_level_45 WHERE PRACTICE_ID = '20996'\n",
      "DEBUG:root:loaded 1 practices from table in 0.09049248695373535 seconds/practice\n",
      "DEBUG:root:Query: SELECT * FROM measurement_Serum_albumin_51 WHERE PRACTICE_ID = '20996'\n",
      "DEBUG:root:loaded 1 practices from table in 0.10231399536132812 seconds/practice\n",
      "DEBUG:root:Query: SELECT * FROM measurement_Serum_alkaline_phosphatase_50 WHERE PRACTICE_ID = '20996'\n",
      "DEBUG:root:loaded 1 practices from table in 0.08249282836914062 seconds/practice\n",
      "DEBUG:root:Query: SELECT * FROM measurement_Serum_bilirubin_level_53 WHERE PRACTICE_ID = '20996'\n",
      "DEBUG:root:loaded 1 practices from table in 0.0017900466918945312 seconds/practice\n",
      "DEBUG:root:Query: SELECT * FROM measurement_Serum_calcium_39 WHERE PRACTICE_ID = '20996'\n",
      "DEBUG:root:loaded 1 practices from table in 0.08495044708251953 seconds/practice\n",
      "DEBUG:root:Query: SELECT * FROM measurement_Serum_cholesterol_97 WHERE PRACTICE_ID = '20996'\n",
      "DEBUG:root:loaded 1 practices from table in 0.11329030990600586 seconds/practice\n",
      "DEBUG:root:Query: SELECT * FROM measurement_Serum_cholesterol_HDL_ratio_94 WHERE PRACTICE_ID = '20996'\n",
      "DEBUG:root:loaded 1 practices from table in 0.061066389083862305 seconds/practice\n",
      "DEBUG:root:Query: SELECT * FROM measurement_Serum_creatinine_31 WHERE PRACTICE_ID = '20996'\n",
      "DEBUG:root:loaded 1 practices from table in 0.09283971786499023 seconds/practice\n",
      "DEBUG:root:Query: SELECT * FROM measurement_Serum_ferritin_63 WHERE PRACTICE_ID = '20996'\n",
      "DEBUG:root:loaded 1 practices from table in 0.09914803504943848 seconds/practice\n",
      "DEBUG:root:Query: SELECT * FROM measurement_Serum_folate_80 WHERE PRACTICE_ID = '20996'\n",
      "DEBUG:root:loaded 1 practices from table in 0.09925103187561035 seconds/practice\n",
      "DEBUG:root:Query: SELECT * FROM measurement_Serum_free_T4_level_75 WHERE PRACTICE_ID = '20996'\n",
      "DEBUG:root:loaded 1 practices from table in 0.1832256317138672 seconds/practice\n",
      "DEBUG:root:Query: SELECT * FROM measurement_Serum_gamma_glutamyl_transferase_level_57 WHERE PRACTICE_ID = '20996'\n",
      "DEBUG:root:loaded 1 practices from table in 0.08811736106872559 seconds/practice\n",
      "DEBUG:root:Query: SELECT * FROM measurement_Serum_non_high_density_lipoprotein_cholesterol_level_107 WHERE PRACTICE_ID = '20996'\n",
      "DEBUG:root:loaded 1 practices from table in 0.0841825008392334 seconds/practice\n",
      "DEBUG:root:Query: SELECT * FROM measurement_Serum_potassium_26 WHERE PRACTICE_ID = '20996'\n",
      "DEBUG:root:loaded 1 practices from table in 0.11112475395202637 seconds/practice\n",
      "DEBUG:root:Query: SELECT * FROM measurement_Serum_pro_brain_natriuretic_peptide_level_65 WHERE PRACTICE_ID = '20996'\n",
      "DEBUG:root:loaded 1 practices from table in 0.0018210411071777344 seconds/practice\n",
      "DEBUG:root:Query: SELECT * FROM measurement_Serum_sodium_24 WHERE PRACTICE_ID = '20996'\n",
      "DEBUG:root:loaded 1 practices from table in 0.1453561782836914 seconds/practice\n",
      "DEBUG:root:Query: SELECT * FROM measurement_Serum_total_25_hydroxy_vitamin_D_level_87 WHERE PRACTICE_ID = '20996'\n",
      "DEBUG:root:loaded 1 practices from table in 0.001783132553100586 seconds/practice\n",
      "DEBUG:root:Query: SELECT * FROM measurement_Serum_total_bilirubin_level_56 WHERE PRACTICE_ID = '20996'\n",
      "DEBUG:root:loaded 1 practices from table in 0.17236113548278809 seconds/practice\n",
      "DEBUG:root:Query: SELECT * FROM measurement_Serum_total_cholesterol_level_98 WHERE PRACTICE_ID = '20996'\n",
      "DEBUG:root:loaded 1 practices from table in 0.0017857551574707031 seconds/practice\n",
      "DEBUG:root:Query: SELECT * FROM measurement_Serum_triglycerides_105 WHERE PRACTICE_ID = '20996'\n",
      "DEBUG:root:loaded 1 practices from table in 0.13465619087219238 seconds/practice\n",
      "DEBUG:root:Query: SELECT * FROM measurement_Serum_urea_level_29 WHERE PRACTICE_ID = '20996'\n",
      "DEBUG:root:loaded 1 practices from table in 0.12627196311950684 seconds/practice\n",
      "DEBUG:root:Query: SELECT * FROM measurement_Serum_vitamin_B12_79 WHERE PRACTICE_ID = '20996'\n",
      "DEBUG:root:loaded 1 practices from table in 0.1283705234527588 seconds/practice\n",
      "DEBUG:root:Query: SELECT * FROM measurement_Serum_vitamin_D2_level_89 WHERE PRACTICE_ID = '20996'\n",
      "DEBUG:root:loaded 1 practices from table in 0.0016989707946777344 seconds/practice\n",
      "DEBUG:root:Query: SELECT * FROM measurement_Serum_vitamin_D_86 WHERE PRACTICE_ID = '20996'\n",
      "DEBUG:root:loaded 1 practices from table in 0.0017580986022949219 seconds/practice\n",
      "DEBUG:root:Query: SELECT * FROM measurement_Systolic_blood_pressure_4 WHERE PRACTICE_ID = '20996'\n",
      "DEBUG:root:loaded 1 practices from table in 0.10831141471862793 seconds/practice\n",
      "DEBUG:root:Query: SELECT * FROM measurement_TSH___thyroid_stim_hormone_72 WHERE PRACTICE_ID = '20996'\n",
      "DEBUG:root:loaded 1 practices from table in 0.10718536376953125 seconds/practice\n",
      "DEBUG:root:Query: SELECT * FROM measurement_TSH_level_74 WHERE PRACTICE_ID = '20996'\n",
      "DEBUG:root:loaded 1 practices from table in 0.0017771720886230469 seconds/practice\n",
      "DEBUG:root:Query: SELECT * FROM measurement_Total_25_hydroxyvitamin_D_level_91 WHERE PRACTICE_ID = '20996'\n",
      "DEBUG:root:loaded 1 practices from table in 0.0017457008361816406 seconds/practice\n",
      "DEBUG:root:Query: SELECT * FROM measurement_Total_alkaline_phosphatase_48 WHERE PRACTICE_ID = '20996'\n",
      "DEBUG:root:loaded 1 practices from table in 0.0016083717346191406 seconds/practice\n",
      "DEBUG:root:Query: SELECT * FROM measurement_Total_bilirubin_55 WHERE PRACTICE_ID = '20996'\n",
      "DEBUG:root:loaded 1 practices from table in 0.0016689300537109375 seconds/practice\n",
      "DEBUG:root:Query: SELECT * FROM measurement_Total_cholesterol_HDL_ratio_95 WHERE PRACTICE_ID = '20996'\n",
      "DEBUG:root:loaded 1 practices from table in 0.13520574569702148 seconds/practice\n",
      "DEBUG:root:Query: SELECT * FROM measurement_Total_white_cell_count_18 WHERE PRACTICE_ID = '20996'\n",
      "DEBUG:root:loaded 1 practices from table in 0.11269783973693848 seconds/practice\n",
      "DEBUG:root:Query: SELECT * FROM measurement_Urine_albumin_creatinine_ratio_35 WHERE PRACTICE_ID = '20996'\n",
      "DEBUG:root:loaded 1 practices from table in 0.10797810554504395 seconds/practice\n",
      "DEBUG:root:Query: SELECT * FROM measurement_Urine_microalbumin_creatinine_ratio_36 WHERE PRACTICE_ID = '20996'\n",
      "DEBUG:root:loaded 1 practices from table in 0.0017402172088623047 seconds/practice\n",
      "DEBUG:root:Query: SELECT * FROM measurement_eGFR_using_creatinine_CKD_EPI_per_1_73_square_metres_33 WHERE PRACTICE_ID = '20996'\n",
      "DEBUG:root:loaded 1 practices from table in 0.0017688274383544922 seconds/practice\n",
      "DEBUG:root:Dropping missing measurements\n",
      "DEBUG:root:Removing patients with no observed events\n",
      "DEBUG:root:Query: SELECT * FROM static_table WHERE PRACTICE_ID = '21508'\n",
      "DEBUG:root:loaded 1 practices from table in 0.15692591667175293 seconds/practice\n",
      "DEBUG:root:Query: SELECT * FROM diagnosis_table WHERE PRACTICE_ID = '21508'\n"
     ]
    },
    {
     "name": "stdout",
     "output_type": "stream",
     "text": [
      "collector took 6.051788330078125 seconds\n",
      "collating events took 0.011142253875732422 seconds\n"
     ]
    },
    {
     "name": "stderr",
     "output_type": "stream",
     "text": [
      "DEBUG:root:loaded 1 practices from table in 0.038919925689697266 seconds/practice\n",
      "DEBUG:root:Query: SELECT * FROM measurement_25_Hydroxyvitamin_D2_level_92 WHERE PRACTICE_ID = '21508'\n",
      "DEBUG:root:loaded 1 practices from table in 0.13079214096069336 seconds/practice\n",
      "DEBUG:root:Query: SELECT * FROM measurement_25_Hydroxyvitamin_D3_level_90 WHERE PRACTICE_ID = '21508'\n",
      "DEBUG:root:loaded 1 practices from table in 0.006444692611694336 seconds/practice\n",
      "DEBUG:root:Query: SELECT * FROM measurement_AST___aspartate_transam_SGOT__46 WHERE PRACTICE_ID = '21508'\n",
      "DEBUG:root:loaded 1 practices from table in 0.010477066040039062 seconds/practice\n",
      "DEBUG:root:Query: SELECT * FROM measurement_AST_serum_level_47 WHERE PRACTICE_ID = '21508'\n",
      "DEBUG:root:loaded 1 practices from table in 0.10537004470825195 seconds/practice\n",
      "DEBUG:root:Query: SELECT * FROM measurement_Albumin___creatinine_ratio_37 WHERE PRACTICE_ID = '21508'\n",
      "DEBUG:root:loaded 1 practices from table in 0.0017616748809814453 seconds/practice\n",
      "DEBUG:root:Query: SELECT * FROM measurement_Basophil_count_22 WHERE PRACTICE_ID = '21508'\n",
      "DEBUG:root:loaded 1 practices from table in 0.2647435665130615 seconds/practice\n",
      "DEBUG:root:Query: SELECT * FROM measurement_Blood_calcium_level_38 WHERE PRACTICE_ID = '21508'\n",
      "DEBUG:root:loaded 1 practices from table in 0.00179290771484375 seconds/practice\n",
      "DEBUG:root:Query: SELECT * FROM measurement_Blood_urea_28 WHERE PRACTICE_ID = '21508'\n",
      "DEBUG:root:loaded 1 practices from table in 0.013053178787231445 seconds/practice\n",
      "DEBUG:root:Query: SELECT * FROM measurement_Body_mass_index_3 WHERE PRACTICE_ID = '21508'\n",
      "DEBUG:root:loaded 1 practices from table in 0.22716379165649414 seconds/practice\n",
      "DEBUG:root:Query: SELECT * FROM measurement_Brain_natriuretic_peptide_level_66 WHERE PRACTICE_ID = '21508'\n",
      "DEBUG:root:loaded 1 practices from table in 0.0016562938690185547 seconds/practice\n",
      "DEBUG:root:Query: SELECT * FROM measurement_Calcium_adjusted_level_41 WHERE PRACTICE_ID = '21508'\n",
      "DEBUG:root:loaded 1 practices from table in 0.0019104480743408203 seconds/practice\n",
      "DEBUG:root:Query: SELECT * FROM measurement_Calculated_LDL_cholesterol_level_103 WHERE PRACTICE_ID = '21508'\n",
      "DEBUG:root:loaded 1 practices from table in 0.13228106498718262 seconds/practice\n",
      "DEBUG:root:Query: SELECT * FROM measurement_Combined_total_vitamin_D2_and_D3_level_93 WHERE PRACTICE_ID = '21508'\n",
      "DEBUG:root:loaded 1 practices from table in 0.001708984375 seconds/practice\n",
      "DEBUG:root:Query: SELECT * FROM measurement_Corrected_serum_calcium_level_42 WHERE PRACTICE_ID = '21508'\n",
      "DEBUG:root:loaded 1 practices from table in 0.13280105590820312 seconds/practice\n",
      "DEBUG:root:Query: SELECT * FROM measurement_Current_smoker_83 WHERE PRACTICE_ID = '21508'\n",
      "DEBUG:root:loaded 1 practices from table in 0.15920448303222656 seconds/practice\n",
      "DEBUG:root:Query: SELECT * FROM measurement_Diastolic_blood_pressure_5 WHERE PRACTICE_ID = '21508'\n",
      "DEBUG:root:loaded 1 practices from table in 0.387737512588501 seconds/practice\n",
      "DEBUG:root:Query: SELECT * FROM measurement_Eosinophil_count_21 WHERE PRACTICE_ID = '21508'\n",
      "DEBUG:root:loaded 1 practices from table in 0.2135910987854004 seconds/practice\n",
      "DEBUG:root:Query: SELECT * FROM measurement_Erythrocyte_sedimentation_rate_61 WHERE PRACTICE_ID = '21508'\n",
      "DEBUG:root:loaded 1 practices from table in 0.2852132320404053 seconds/practice\n",
      "DEBUG:root:Query: SELECT * FROM measurement_Ex_smoker_84 WHERE PRACTICE_ID = '21508'\n",
      "DEBUG:root:loaded 1 practices from table in 0.1011962890625 seconds/practice\n",
      "DEBUG:root:Query: SELECT * FROM measurement_Free_T4_level_76 WHERE PRACTICE_ID = '21508'\n",
      "DEBUG:root:loaded 1 practices from table in 0.010711669921875 seconds/practice\n",
      "DEBUG:root:Query: SELECT * FROM measurement_GFR_calculated_abbreviated_MDRD_34 WHERE PRACTICE_ID = '21508'\n",
      "DEBUG:root:loaded 1 practices from table in 0.13908839225769043 seconds/practice\n",
      "DEBUG:root:Query: SELECT * FROM measurement_Haematocrit___PCV_16 WHERE PRACTICE_ID = '21508'\n",
      "DEBUG:root:loaded 1 practices from table in 0.10458087921142578 seconds/practice\n",
      "DEBUG:root:Query: SELECT * FROM measurement_Haematocrit_15 WHERE PRACTICE_ID = '21508'\n",
      "DEBUG:root:loaded 1 practices from table in 0.22573208808898926 seconds/practice\n",
      "DEBUG:root:Query: SELECT * FROM measurement_Haemoglobin_A1c_level___IFCC_standardised_6 WHERE PRACTICE_ID = '21508'\n",
      "DEBUG:root:loaded 1 practices from table in 0.1387803554534912 seconds/practice\n",
      "DEBUG:root:Query: SELECT * FROM measurement_Haemoglobin_A1c_level_8 WHERE PRACTICE_ID = '21508'\n",
      "DEBUG:root:loaded 1 practices from table in 0.15403270721435547 seconds/practice\n",
      "DEBUG:root:Query: SELECT * FROM measurement_Haemoglobin_estimation_9 WHERE PRACTICE_ID = '21508'\n",
      "DEBUG:root:loaded 1 practices from table in 0.21882295608520508 seconds/practice\n",
      "DEBUG:root:Query: SELECT * FROM measurement_HbA1c_level__DCCT_aligned__7 WHERE PRACTICE_ID = '21508'\n",
      "DEBUG:root:loaded 1 practices from table in 0.11855149269104004 seconds/practice\n",
      "DEBUG:root:Query: SELECT * FROM measurement_INR___international_normalised_ratio_81 WHERE PRACTICE_ID = '21508'\n",
      "DEBUG:root:loaded 1 practices from table in 0.0065920352935791016 seconds/practice\n",
      "DEBUG:root:Query: SELECT * FROM measurement_International_normalised_ratio_82 WHERE PRACTICE_ID = '21508'\n",
      "DEBUG:root:loaded 1 practices from table in 0.12239503860473633 seconds/practice\n",
      "DEBUG:root:Query: SELECT * FROM measurement_Lymphocyte_count_20 WHERE PRACTICE_ID = '21508'\n",
      "DEBUG:root:loaded 1 practices from table in 0.30103158950805664 seconds/practice\n",
      "DEBUG:root:Query: SELECT * FROM measurement_Mean_corpusc_Hb_conc__MCHC__14 WHERE PRACTICE_ID = '21508'\n",
      "DEBUG:root:loaded 1 practices from table in 0.3105940818786621 seconds/practice\n",
      "DEBUG:root:Query: SELECT * FROM measurement_Mean_corpusc_haemoglobin_MCH__13 WHERE PRACTICE_ID = '21508'\n",
      "DEBUG:root:loaded 1 practices from table in 0.2766227722167969 seconds/practice\n",
      "DEBUG:root:Query: SELECT * FROM measurement_Mean_corpuscular_volume__MCV__11 WHERE PRACTICE_ID = '21508'\n",
      "DEBUG:root:loaded 1 practices from table in 0.22397708892822266 seconds/practice\n",
      "DEBUG:root:Query: SELECT * FROM measurement_Monocyte_count_23 WHERE PRACTICE_ID = '21508'\n",
      "DEBUG:root:loaded 1 practices from table in 0.23305940628051758 seconds/practice\n",
      "DEBUG:root:Query: SELECT * FROM measurement_N_terminal_pro_brain_natriuretic_peptide_level_67 WHERE PRACTICE_ID = '21508'\n",
      "DEBUG:root:loaded 1 practices from table in 0.0017452239990234375 seconds/practice\n",
      "DEBUG:root:Query: SELECT * FROM measurement_Neutrophil_count_19 WHERE PRACTICE_ID = '21508'\n",
      "DEBUG:root:loaded 1 practices from table in 0.23557615280151367 seconds/practice\n",
      "DEBUG:root:Query: SELECT * FROM measurement_Never_smoked_tobacco_85 WHERE PRACTICE_ID = '21508'\n",
      "DEBUG:root:loaded 1 practices from table in 0.12685871124267578 seconds/practice\n",
      "DEBUG:root:Query: SELECT * FROM measurement_Non_HDL_cholesterol_level_108 WHERE PRACTICE_ID = '21508'\n",
      "DEBUG:root:loaded 1 practices from table in 0.0019073486328125 seconds/practice\n",
      "DEBUG:root:Query: SELECT * FROM measurement_O_E___height_1 WHERE PRACTICE_ID = '21508'\n",
      "DEBUG:root:loaded 1 practices from table in 0.2399899959564209 seconds/practice\n",
      "DEBUG:root:Query: SELECT * FROM measurement_O_E___weight_2 WHERE PRACTICE_ID = '21508'\n",
      "DEBUG:root:loaded 1 practices from table in 0.23686814308166504 seconds/practice\n",
      "DEBUG:root:Query: SELECT * FROM measurement_Plasma_B_natriuretic_peptide_level_69 WHERE PRACTICE_ID = '21508'\n",
      "DEBUG:root:loaded 1 practices from table in 0.001798391342163086 seconds/practice\n",
      "DEBUG:root:Query: SELECT * FROM measurement_Plasma_C_reactive_protein_60 WHERE PRACTICE_ID = '21508'\n",
      "DEBUG:root:loaded 1 practices from table in 0.10194563865661621 seconds/practice\n",
      "DEBUG:root:Query: SELECT * FROM measurement_Plasma_HDL_cholesterol_level_101 WHERE PRACTICE_ID = '21508'\n",
      "DEBUG:root:loaded 1 practices from table in 0.05251765251159668 seconds/practice\n",
      "DEBUG:root:Query: SELECT * FROM measurement_Plasma_LDL_cholesterol_level_104 WHERE PRACTICE_ID = '21508'\n",
      "DEBUG:root:loaded 1 practices from table in 0.07375693321228027 seconds/practice\n",
      "DEBUG:root:Query: SELECT * FROM measurement_Plasma_N_terminal_pro_B_type_natriuretic_peptide_conc_70 WHERE PRACTICE_ID = '21508'\n",
      "DEBUG:root:loaded 1 practices from table in 0.002218961715698242 seconds/practice\n",
      "DEBUG:root:Query: SELECT * FROM measurement_Plasma_TSH_level_73 WHERE PRACTICE_ID = '21508'\n",
      "DEBUG:root:loaded 1 practices from table in 0.0019030570983886719 seconds/practice\n",
      "DEBUG:root:Query: SELECT * FROM measurement_Plasma_alanine_aminotransferase_level_44 WHERE PRACTICE_ID = '21508'\n",
      "DEBUG:root:loaded 1 practices from table in 0.125565767288208 seconds/practice\n",
      "DEBUG:root:Query: SELECT * FROM measurement_Plasma_albumin_level_52 WHERE PRACTICE_ID = '21508'\n",
      "DEBUG:root:loaded 1 practices from table in 0.08060860633850098 seconds/practice\n",
      "DEBUG:root:Query: SELECT * FROM measurement_Plasma_alkaline_phosphatase_level_49 WHERE PRACTICE_ID = '21508'\n",
      "DEBUG:root:loaded 1 practices from table in 0.10464882850646973 seconds/practice\n",
      "DEBUG:root:Query: SELECT * FROM measurement_Plasma_calcium_level_40 WHERE PRACTICE_ID = '21508'\n",
      "DEBUG:root:loaded 1 practices from table in 0.010260581970214844 seconds/practice\n",
      "DEBUG:root:Query: SELECT * FROM measurement_Plasma_cholesterol_HDL_ratio_96 WHERE PRACTICE_ID = '21508'\n",
      "DEBUG:root:loaded 1 practices from table in 0.0017240047454833984 seconds/practice\n",
      "DEBUG:root:Query: SELECT * FROM measurement_Plasma_corrected_calcium_level_43 WHERE PRACTICE_ID = '21508'\n",
      "DEBUG:root:loaded 1 practices from table in 0.0607914924621582 seconds/practice\n",
      "DEBUG:root:Query: SELECT * FROM measurement_Plasma_creatinine_level_32 WHERE PRACTICE_ID = '21508'\n",
      "DEBUG:root:loaded 1 practices from table in 0.14435076713562012 seconds/practice\n",
      "DEBUG:root:Query: SELECT * FROM measurement_Plasma_ferritin_level_62 WHERE PRACTICE_ID = '21508'\n",
      "DEBUG:root:loaded 1 practices from table in 0.001684427261352539 seconds/practice\n",
      "DEBUG:root:Query: SELECT * FROM measurement_Plasma_free_T4_level_77 WHERE PRACTICE_ID = '21508'\n",
      "DEBUG:root:loaded 1 practices from table in 0.0016584396362304688 seconds/practice\n",
      "DEBUG:root:Query: SELECT * FROM measurement_Plasma_gamma_glutamyl_transferase_level_58 WHERE PRACTICE_ID = '21508'\n",
      "DEBUG:root:loaded 1 practices from table in 0.019072771072387695 seconds/practice\n",
      "DEBUG:root:Query: SELECT * FROM measurement_Plasma_potassium_level_27 WHERE PRACTICE_ID = '21508'\n",
      "DEBUG:root:loaded 1 practices from table in 0.18420743942260742 seconds/practice\n",
      "DEBUG:root:Query: SELECT * FROM measurement_Plasma_pro_brain_natriuretic_peptide_level_64 WHERE PRACTICE_ID = '21508'\n",
      "DEBUG:root:loaded 1 practices from table in 0.0065839290618896484 seconds/practice\n",
      "DEBUG:root:Query: SELECT * FROM measurement_Plasma_sodium_level_25 WHERE PRACTICE_ID = '21508'\n",
      "DEBUG:root:loaded 1 practices from table in 0.016480207443237305 seconds/practice\n",
      "DEBUG:root:Query: SELECT * FROM measurement_Plasma_total_bilirubin_level_54 WHERE PRACTICE_ID = '21508'\n",
      "DEBUG:root:loaded 1 practices from table in 0.0937659740447998 seconds/practice\n",
      "DEBUG:root:Query: SELECT * FROM measurement_Plasma_total_cholesterol_level_99 WHERE PRACTICE_ID = '21508'\n",
      "DEBUG:root:loaded 1 practices from table in 0.05429196357727051 seconds/practice\n",
      "DEBUG:root:Query: SELECT * FROM measurement_Plasma_triglyceride_level_106 WHERE PRACTICE_ID = '21508'\n",
      "DEBUG:root:loaded 1 practices from table in 0.010637998580932617 seconds/practice\n",
      "DEBUG:root:Query: SELECT * FROM measurement_Plasma_urea_level_30 WHERE PRACTICE_ID = '21508'\n",
      "DEBUG:root:loaded 1 practices from table in 0.04845166206359863 seconds/practice\n",
      "DEBUG:root:Query: SELECT * FROM measurement_Platelet_count_12 WHERE PRACTICE_ID = '21508'\n",
      "DEBUG:root:loaded 1 practices from table in 0.14730548858642578 seconds/practice\n",
      "DEBUG:root:Query: SELECT * FROM measurement_Red_blood_cell__RBC__count_10 WHERE PRACTICE_ID = '21508'\n",
      "DEBUG:root:loaded 1 practices from table in 0.21896815299987793 seconds/practice\n",
      "DEBUG:root:Query: SELECT * FROM measurement_Red_blood_cell_distribution_width_17 WHERE PRACTICE_ID = '21508'\n",
      "DEBUG:root:loaded 1 practices from table in 0.15394282341003418 seconds/practice\n",
      "DEBUG:root:Query: SELECT * FROM measurement_Serum_25_Hydroxy_vitamin_D3_level_88 WHERE PRACTICE_ID = '21508'\n",
      "DEBUG:root:loaded 1 practices from table in 0.060233116149902344 seconds/practice\n",
      "DEBUG:root:Query: SELECT * FROM measurement_Serum_C_reactive_protein_level_59 WHERE PRACTICE_ID = '21508'\n",
      "DEBUG:root:loaded 1 practices from table in 0.08289003372192383 seconds/practice\n",
      "DEBUG:root:Query: SELECT * FROM measurement_Serum_HDL_cholesterol_level_100 WHERE PRACTICE_ID = '21508'\n",
      "DEBUG:root:loaded 1 practices from table in 0.20534014701843262 seconds/practice\n",
      "DEBUG:root:Query: SELECT * FROM measurement_Serum_LDL_cholesterol_level_102 WHERE PRACTICE_ID = '21508'\n",
      "DEBUG:root:loaded 1 practices from table in 0.13853955268859863 seconds/practice\n",
      "DEBUG:root:Query: SELECT * FROM measurement_Serum_N_terminal_pro_B_type_natriuretic_peptide_conc_68 WHERE PRACTICE_ID = '21508'\n",
      "DEBUG:root:loaded 1 practices from table in 0.001695871353149414 seconds/practice\n",
      "DEBUG:root:Query: SELECT * FROM measurement_Serum_T4_level_78 WHERE PRACTICE_ID = '21508'\n",
      "DEBUG:root:loaded 1 practices from table in 0.004786491394042969 seconds/practice\n",
      "DEBUG:root:Query: SELECT * FROM measurement_Serum_TSH_level_71 WHERE PRACTICE_ID = '21508'\n",
      "DEBUG:root:loaded 1 practices from table in 0.14723873138427734 seconds/practice\n",
      "DEBUG:root:Query: SELECT * FROM measurement_Serum_alanine_aminotransferase_level_45 WHERE PRACTICE_ID = '21508'\n",
      "DEBUG:root:loaded 1 practices from table in 0.21669340133666992 seconds/practice\n",
      "DEBUG:root:Query: SELECT * FROM measurement_Serum_albumin_51 WHERE PRACTICE_ID = '21508'\n",
      "DEBUG:root:loaded 1 practices from table in 0.1842334270477295 seconds/practice\n",
      "DEBUG:root:Query: SELECT * FROM measurement_Serum_alkaline_phosphatase_50 WHERE PRACTICE_ID = '21508'\n",
      "DEBUG:root:loaded 1 practices from table in 0.19423866271972656 seconds/practice\n",
      "DEBUG:root:Query: SELECT * FROM measurement_Serum_bilirubin_level_53 WHERE PRACTICE_ID = '21508'\n",
      "DEBUG:root:loaded 1 practices from table in 0.24642372131347656 seconds/practice\n",
      "DEBUG:root:Query: SELECT * FROM measurement_Serum_calcium_39 WHERE PRACTICE_ID = '21508'\n",
      "DEBUG:root:loaded 1 practices from table in 0.14463329315185547 seconds/practice\n",
      "DEBUG:root:Query: SELECT * FROM measurement_Serum_cholesterol_97 WHERE PRACTICE_ID = '21508'\n",
      "DEBUG:root:loaded 1 practices from table in 0.16662025451660156 seconds/practice\n",
      "DEBUG:root:Query: SELECT * FROM measurement_Serum_cholesterol_HDL_ratio_94 WHERE PRACTICE_ID = '21508'\n",
      "DEBUG:root:loaded 1 practices from table in 0.2431168556213379 seconds/practice\n",
      "DEBUG:root:Query: SELECT * FROM measurement_Serum_creatinine_31 WHERE PRACTICE_ID = '21508'\n",
      "DEBUG:root:loaded 1 practices from table in 0.2312180995941162 seconds/practice\n",
      "DEBUG:root:Query: SELECT * FROM measurement_Serum_ferritin_63 WHERE PRACTICE_ID = '21508'\n",
      "DEBUG:root:loaded 1 practices from table in 0.2134554386138916 seconds/practice\n",
      "DEBUG:root:Query: SELECT * FROM measurement_Serum_folate_80 WHERE PRACTICE_ID = '21508'\n",
      "DEBUG:root:loaded 1 practices from table in 0.1988539695739746 seconds/practice\n",
      "DEBUG:root:Query: SELECT * FROM measurement_Serum_free_T4_level_75 WHERE PRACTICE_ID = '21508'\n",
      "DEBUG:root:loaded 1 practices from table in 0.13559389114379883 seconds/practice\n",
      "DEBUG:root:Query: SELECT * FROM measurement_Serum_gamma_glutamyl_transferase_level_57 WHERE PRACTICE_ID = '21508'\n",
      "DEBUG:root:loaded 1 practices from table in 0.10730195045471191 seconds/practice\n",
      "DEBUG:root:Query: SELECT * FROM measurement_Serum_non_high_density_lipoprotein_cholesterol_level_107 WHERE PRACTICE_ID = '21508'\n",
      "DEBUG:root:loaded 1 practices from table in 0.18186450004577637 seconds/practice\n",
      "DEBUG:root:Query: SELECT * FROM measurement_Serum_potassium_26 WHERE PRACTICE_ID = '21508'\n",
      "DEBUG:root:loaded 1 practices from table in 0.18819665908813477 seconds/practice\n",
      "DEBUG:root:Query: SELECT * FROM measurement_Serum_pro_brain_natriuretic_peptide_level_65 WHERE PRACTICE_ID = '21508'\n",
      "DEBUG:root:loaded 1 practices from table in 0.0017447471618652344 seconds/practice\n",
      "DEBUG:root:Query: SELECT * FROM measurement_Serum_sodium_24 WHERE PRACTICE_ID = '21508'\n",
      "DEBUG:root:loaded 1 practices from table in 0.24638676643371582 seconds/practice\n",
      "DEBUG:root:Query: SELECT * FROM measurement_Serum_total_25_hydroxy_vitamin_D_level_87 WHERE PRACTICE_ID = '21508'\n",
      "DEBUG:root:loaded 1 practices from table in 0.008413076400756836 seconds/practice\n",
      "DEBUG:root:Query: SELECT * FROM measurement_Serum_total_bilirubin_level_56 WHERE PRACTICE_ID = '21508'\n",
      "DEBUG:root:loaded 1 practices from table in 0.1747264862060547 seconds/practice\n",
      "DEBUG:root:Query: SELECT * FROM measurement_Serum_total_cholesterol_level_98 WHERE PRACTICE_ID = '21508'\n",
      "DEBUG:root:loaded 1 practices from table in 0.11516690254211426 seconds/practice\n",
      "DEBUG:root:Query: SELECT * FROM measurement_Serum_triglycerides_105 WHERE PRACTICE_ID = '21508'\n",
      "DEBUG:root:loaded 1 practices from table in 0.13759517669677734 seconds/practice\n",
      "DEBUG:root:Query: SELECT * FROM measurement_Serum_urea_level_29 WHERE PRACTICE_ID = '21508'\n",
      "DEBUG:root:loaded 1 practices from table in 0.2092134952545166 seconds/practice\n",
      "DEBUG:root:Query: SELECT * FROM measurement_Serum_vitamin_B12_79 WHERE PRACTICE_ID = '21508'\n",
      "DEBUG:root:loaded 1 practices from table in 0.16460514068603516 seconds/practice\n",
      "DEBUG:root:Query: SELECT * FROM measurement_Serum_vitamin_D2_level_89 WHERE PRACTICE_ID = '21508'\n",
      "DEBUG:root:loaded 1 practices from table in 0.0070743560791015625 seconds/practice\n",
      "DEBUG:root:Query: SELECT * FROM measurement_Serum_vitamin_D_86 WHERE PRACTICE_ID = '21508'\n",
      "DEBUG:root:loaded 1 practices from table in 0.0018231868743896484 seconds/practice\n",
      "DEBUG:root:Query: SELECT * FROM measurement_Systolic_blood_pressure_4 WHERE PRACTICE_ID = '21508'\n",
      "DEBUG:root:loaded 1 practices from table in 0.3464782238006592 seconds/practice\n",
      "DEBUG:root:Query: SELECT * FROM measurement_TSH___thyroid_stim_hormone_72 WHERE PRACTICE_ID = '21508'\n",
      "DEBUG:root:loaded 1 practices from table in 0.10280394554138184 seconds/practice\n",
      "DEBUG:root:Query: SELECT * FROM measurement_TSH_level_74 WHERE PRACTICE_ID = '21508'\n",
      "DEBUG:root:loaded 1 practices from table in 0.006308794021606445 seconds/practice\n",
      "DEBUG:root:Query: SELECT * FROM measurement_Total_25_hydroxyvitamin_D_level_91 WHERE PRACTICE_ID = '21508'\n",
      "DEBUG:root:loaded 1 practices from table in 0.0019271373748779297 seconds/practice\n",
      "DEBUG:root:Query: SELECT * FROM measurement_Total_alkaline_phosphatase_48 WHERE PRACTICE_ID = '21508'\n",
      "DEBUG:root:loaded 1 practices from table in 0.020625829696655273 seconds/practice\n",
      "DEBUG:root:Query: SELECT * FROM measurement_Total_bilirubin_55 WHERE PRACTICE_ID = '21508'\n",
      "DEBUG:root:loaded 1 practices from table in 0.007837295532226562 seconds/practice\n",
      "DEBUG:root:Query: SELECT * FROM measurement_Total_cholesterol_HDL_ratio_95 WHERE PRACTICE_ID = '21508'\n",
      "DEBUG:root:loaded 1 practices from table in 0.11838507652282715 seconds/practice\n",
      "DEBUG:root:Query: SELECT * FROM measurement_Total_white_cell_count_18 WHERE PRACTICE_ID = '21508'\n",
      "DEBUG:root:loaded 1 practices from table in 0.2631807327270508 seconds/practice\n",
      "DEBUG:root:Query: SELECT * FROM measurement_Urine_albumin_creatinine_ratio_35 WHERE PRACTICE_ID = '21508'\n",
      "DEBUG:root:loaded 1 practices from table in 0.09113883972167969 seconds/practice\n",
      "DEBUG:root:Query: SELECT * FROM measurement_Urine_microalbumin_creatinine_ratio_36 WHERE PRACTICE_ID = '21508'\n",
      "DEBUG:root:loaded 1 practices from table in 0.006772041320800781 seconds/practice\n",
      "DEBUG:root:Query: SELECT * FROM measurement_eGFR_using_creatinine_CKD_EPI_per_1_73_square_metres_33 WHERE PRACTICE_ID = '21508'\n",
      "DEBUG:root:loaded 1 practices from table in 0.10001683235168457 seconds/practice\n",
      "DEBUG:root:Dropping missing measurements\n",
      "DEBUG:root:Removing patients with no observed events\n"
     ]
    },
    {
     "name": "stdout",
     "output_type": "stream",
     "text": [
      "collector took 12.978153228759766 seconds\n"
     ]
    },
    {
     "name": "stderr",
     "output_type": "stream",
     "text": [
      "DEBUG:root:Query: SELECT * FROM static_table WHERE PRACTICE_ID = '21000'\n",
      "DEBUG:root:loaded 1 practices from table in 0.08043193817138672 seconds/practice\n",
      "DEBUG:root:Query: SELECT * FROM diagnosis_table WHERE PRACTICE_ID = '21000'\n",
      "DEBUG:root:loaded 1 practices from table in 0.02461528778076172 seconds/practice\n",
      "DEBUG:root:Query: SELECT * FROM measurement_25_Hydroxyvitamin_D2_level_92 WHERE PRACTICE_ID = '21000'\n",
      "DEBUG:root:loaded 1 practices from table in 0.006426811218261719 seconds/practice\n",
      "DEBUG:root:Query: SELECT * FROM measurement_25_Hydroxyvitamin_D3_level_90 WHERE PRACTICE_ID = '21000'\n",
      "DEBUG:root:loaded 1 practices from table in 0.006297588348388672 seconds/practice\n",
      "DEBUG:root:Query: SELECT * FROM measurement_AST___aspartate_transam_SGOT__46 WHERE PRACTICE_ID = '21000'\n",
      "DEBUG:root:loaded 1 practices from table in 0.0017955303192138672 seconds/practice\n",
      "DEBUG:root:Query: SELECT * FROM measurement_AST_serum_level_47 WHERE PRACTICE_ID = '21000'\n",
      "DEBUG:root:loaded 1 practices from table in 0.05009651184082031 seconds/practice\n",
      "DEBUG:root:Query: SELECT * FROM measurement_Albumin___creatinine_ratio_37 WHERE PRACTICE_ID = '21000'\n",
      "DEBUG:root:loaded 1 practices from table in 0.0062944889068603516 seconds/practice\n",
      "DEBUG:root:Query: SELECT * FROM measurement_Basophil_count_22 WHERE PRACTICE_ID = '21000'\n"
     ]
    },
    {
     "name": "stdout",
     "output_type": "stream",
     "text": [
      "collating events took 0.9415302276611328 seconds\n"
     ]
    },
    {
     "name": "stderr",
     "output_type": "stream",
     "text": [
      "DEBUG:root:loaded 1 practices from table in 0.20028376579284668 seconds/practice\n",
      "DEBUG:root:Query: SELECT * FROM measurement_Blood_calcium_level_38 WHERE PRACTICE_ID = '21000'\n",
      "DEBUG:root:loaded 1 practices from table in 0.0021271705627441406 seconds/practice\n",
      "DEBUG:root:Query: SELECT * FROM measurement_Blood_urea_28 WHERE PRACTICE_ID = '21000'\n",
      "DEBUG:root:loaded 1 practices from table in 0.00229644775390625 seconds/practice\n",
      "DEBUG:root:Query: SELECT * FROM measurement_Body_mass_index_3 WHERE PRACTICE_ID = '21000'\n",
      "DEBUG:root:loaded 1 practices from table in 0.2428276538848877 seconds/practice\n",
      "DEBUG:root:Query: SELECT * FROM measurement_Brain_natriuretic_peptide_level_66 WHERE PRACTICE_ID = '21000'\n",
      "DEBUG:root:loaded 1 practices from table in 0.0022919178009033203 seconds/practice\n",
      "DEBUG:root:Query: SELECT * FROM measurement_Calcium_adjusted_level_41 WHERE PRACTICE_ID = '21000'\n",
      "DEBUG:root:loaded 1 practices from table in 0.006473541259765625 seconds/practice\n",
      "DEBUG:root:Query: SELECT * FROM measurement_Calculated_LDL_cholesterol_level_103 WHERE PRACTICE_ID = '21000'\n",
      "DEBUG:root:loaded 1 practices from table in 0.10559940338134766 seconds/practice\n",
      "DEBUG:root:Query: SELECT * FROM measurement_Combined_total_vitamin_D2_and_D3_level_93 WHERE PRACTICE_ID = '21000'\n",
      "DEBUG:root:loaded 1 practices from table in 0.010852336883544922 seconds/practice\n",
      "DEBUG:root:Query: SELECT * FROM measurement_Corrected_serum_calcium_level_42 WHERE PRACTICE_ID = '21000'\n",
      "DEBUG:root:loaded 1 practices from table in 0.11574769020080566 seconds/practice\n",
      "DEBUG:root:Query: SELECT * FROM measurement_Current_smoker_83 WHERE PRACTICE_ID = '21000'\n",
      "DEBUG:root:loaded 1 practices from table in 0.04781055450439453 seconds/practice\n",
      "DEBUG:root:Query: SELECT * FROM measurement_Diastolic_blood_pressure_5 WHERE PRACTICE_ID = '21000'\n",
      "DEBUG:root:loaded 1 practices from table in 0.2804431915283203 seconds/practice\n",
      "DEBUG:root:Query: SELECT * FROM measurement_Eosinophil_count_21 WHERE PRACTICE_ID = '21000'\n",
      "DEBUG:root:loaded 1 practices from table in 0.21706080436706543 seconds/practice\n",
      "DEBUG:root:Query: SELECT * FROM measurement_Erythrocyte_sedimentation_rate_61 WHERE PRACTICE_ID = '21000'\n",
      "DEBUG:root:loaded 1 practices from table in 0.1200408935546875 seconds/practice\n",
      "DEBUG:root:Query: SELECT * FROM measurement_Ex_smoker_84 WHERE PRACTICE_ID = '21000'\n",
      "DEBUG:root:loaded 1 practices from table in 0.12150716781616211 seconds/practice\n",
      "DEBUG:root:Query: SELECT * FROM measurement_Free_T4_level_76 WHERE PRACTICE_ID = '21000'\n",
      "DEBUG:root:loaded 1 practices from table in 0.07192087173461914 seconds/practice\n",
      "DEBUG:root:Query: SELECT * FROM measurement_GFR_calculated_abbreviated_MDRD_34 WHERE PRACTICE_ID = '21000'\n",
      "DEBUG:root:loaded 1 practices from table in 0.1860520839691162 seconds/practice\n",
      "DEBUG:root:Query: SELECT * FROM measurement_Haematocrit___PCV_16 WHERE PRACTICE_ID = '21000'\n",
      "DEBUG:root:loaded 1 practices from table in 0.018510818481445312 seconds/practice\n",
      "DEBUG:root:Query: SELECT * FROM measurement_Haematocrit_15 WHERE PRACTICE_ID = '21000'\n",
      "DEBUG:root:loaded 1 practices from table in 0.15085768699645996 seconds/practice\n",
      "DEBUG:root:Query: SELECT * FROM measurement_Haemoglobin_A1c_level___IFCC_standardised_6 WHERE PRACTICE_ID = '21000'\n",
      "DEBUG:root:loaded 1 practices from table in 0.16222524642944336 seconds/practice\n",
      "DEBUG:root:Query: SELECT * FROM measurement_Haemoglobin_A1c_level_8 WHERE PRACTICE_ID = '21000'\n",
      "DEBUG:root:loaded 1 practices from table in 0.06000375747680664 seconds/practice\n",
      "DEBUG:root:Query: SELECT * FROM measurement_Haemoglobin_estimation_9 WHERE PRACTICE_ID = '21000'\n",
      "DEBUG:root:loaded 1 practices from table in 0.2764601707458496 seconds/practice\n",
      "DEBUG:root:Query: SELECT * FROM measurement_HbA1c_level__DCCT_aligned__7 WHERE PRACTICE_ID = '21000'\n",
      "DEBUG:root:loaded 1 practices from table in 0.1656811237335205 seconds/practice\n",
      "DEBUG:root:Query: SELECT * FROM measurement_INR___international_normalised_ratio_81 WHERE PRACTICE_ID = '21000'\n",
      "DEBUG:root:loaded 1 practices from table in 0.0019571781158447266 seconds/practice\n",
      "DEBUG:root:Query: SELECT * FROM measurement_International_normalised_ratio_82 WHERE PRACTICE_ID = '21000'\n",
      "DEBUG:root:loaded 1 practices from table in 0.176347017288208 seconds/practice\n",
      "DEBUG:root:Query: SELECT * FROM measurement_Lymphocyte_count_20 WHERE PRACTICE_ID = '21000'\n",
      "DEBUG:root:loaded 1 practices from table in 0.18897771835327148 seconds/practice\n",
      "DEBUG:root:Query: SELECT * FROM measurement_Mean_corpusc_Hb_conc__MCHC__14 WHERE PRACTICE_ID = '21000'\n",
      "DEBUG:root:loaded 1 practices from table in 0.2148149013519287 seconds/practice\n",
      "DEBUG:root:Query: SELECT * FROM measurement_Mean_corpusc_haemoglobin_MCH__13 WHERE PRACTICE_ID = '21000'\n",
      "DEBUG:root:loaded 1 practices from table in 0.1870894432067871 seconds/practice\n",
      "DEBUG:root:Query: SELECT * FROM measurement_Mean_corpuscular_volume__MCV__11 WHERE PRACTICE_ID = '21000'\n",
      "DEBUG:root:loaded 1 practices from table in 0.13805747032165527 seconds/practice\n",
      "DEBUG:root:Query: SELECT * FROM measurement_Monocyte_count_23 WHERE PRACTICE_ID = '21000'\n",
      "DEBUG:root:loaded 1 practices from table in 0.19060087203979492 seconds/practice\n",
      "DEBUG:root:Query: SELECT * FROM measurement_N_terminal_pro_brain_natriuretic_peptide_level_67 WHERE PRACTICE_ID = '21000'\n",
      "DEBUG:root:loaded 1 practices from table in 0.0018072128295898438 seconds/practice\n",
      "DEBUG:root:Query: SELECT * FROM measurement_Neutrophil_count_19 WHERE PRACTICE_ID = '21000'\n",
      "DEBUG:root:loaded 1 practices from table in 0.17354798316955566 seconds/practice\n",
      "DEBUG:root:Query: SELECT * FROM measurement_Never_smoked_tobacco_85 WHERE PRACTICE_ID = '21000'\n",
      "DEBUG:root:loaded 1 practices from table in 0.17067790031433105 seconds/practice\n",
      "DEBUG:root:Query: SELECT * FROM measurement_Non_HDL_cholesterol_level_108 WHERE PRACTICE_ID = '21000'\n",
      "DEBUG:root:loaded 1 practices from table in 0.009575128555297852 seconds/practice\n",
      "DEBUG:root:Query: SELECT * FROM measurement_O_E___height_1 WHERE PRACTICE_ID = '21000'\n",
      "DEBUG:root:loaded 1 practices from table in 0.15516233444213867 seconds/practice\n",
      "DEBUG:root:Query: SELECT * FROM measurement_O_E___weight_2 WHERE PRACTICE_ID = '21000'\n",
      "DEBUG:root:loaded 1 practices from table in 0.2071232795715332 seconds/practice\n",
      "DEBUG:root:Query: SELECT * FROM measurement_Plasma_B_natriuretic_peptide_level_69 WHERE PRACTICE_ID = '21000'\n",
      "DEBUG:root:loaded 1 practices from table in 0.0017750263214111328 seconds/practice\n",
      "DEBUG:root:Query: SELECT * FROM measurement_Plasma_C_reactive_protein_60 WHERE PRACTICE_ID = '21000'\n",
      "DEBUG:root:loaded 1 practices from table in 0.08838772773742676 seconds/practice\n",
      "DEBUG:root:Query: SELECT * FROM measurement_Plasma_HDL_cholesterol_level_101 WHERE PRACTICE_ID = '21000'\n",
      "DEBUG:root:loaded 1 practices from table in 0.010309457778930664 seconds/practice\n",
      "DEBUG:root:Query: SELECT * FROM measurement_Plasma_LDL_cholesterol_level_104 WHERE PRACTICE_ID = '21000'\n",
      "DEBUG:root:loaded 1 practices from table in 0.006691694259643555 seconds/practice\n",
      "DEBUG:root:Query: SELECT * FROM measurement_Plasma_N_terminal_pro_B_type_natriuretic_peptide_conc_70 WHERE PRACTICE_ID = '21000'\n",
      "DEBUG:root:loaded 1 practices from table in 0.006066799163818359 seconds/practice\n",
      "DEBUG:root:Query: SELECT * FROM measurement_Plasma_TSH_level_73 WHERE PRACTICE_ID = '21000'\n",
      "DEBUG:root:loaded 1 practices from table in 0.006993293762207031 seconds/practice\n",
      "DEBUG:root:Query: SELECT * FROM measurement_Plasma_alanine_aminotransferase_level_44 WHERE PRACTICE_ID = '21000'\n",
      "DEBUG:root:loaded 1 practices from table in 0.00719451904296875 seconds/practice\n",
      "DEBUG:root:Query: SELECT * FROM measurement_Plasma_albumin_level_52 WHERE PRACTICE_ID = '21000'\n",
      "DEBUG:root:loaded 1 practices from table in 0.010327339172363281 seconds/practice\n",
      "DEBUG:root:Query: SELECT * FROM measurement_Plasma_alkaline_phosphatase_level_49 WHERE PRACTICE_ID = '21000'\n",
      "DEBUG:root:loaded 1 practices from table in 0.0065364837646484375 seconds/practice\n",
      "DEBUG:root:Query: SELECT * FROM measurement_Plasma_calcium_level_40 WHERE PRACTICE_ID = '21000'\n",
      "DEBUG:root:loaded 1 practices from table in 0.005873680114746094 seconds/practice\n",
      "DEBUG:root:Query: SELECT * FROM measurement_Plasma_cholesterol_HDL_ratio_96 WHERE PRACTICE_ID = '21000'\n",
      "DEBUG:root:loaded 1 practices from table in 0.0064144134521484375 seconds/practice\n",
      "DEBUG:root:Query: SELECT * FROM measurement_Plasma_corrected_calcium_level_43 WHERE PRACTICE_ID = '21000'\n",
      "DEBUG:root:loaded 1 practices from table in 0.0017833709716796875 seconds/practice\n",
      "DEBUG:root:Query: SELECT * FROM measurement_Plasma_creatinine_level_32 WHERE PRACTICE_ID = '21000'\n",
      "DEBUG:root:loaded 1 practices from table in 0.08291268348693848 seconds/practice\n",
      "DEBUG:root:Query: SELECT * FROM measurement_Plasma_ferritin_level_62 WHERE PRACTICE_ID = '21000'\n",
      "DEBUG:root:loaded 1 practices from table in 0.006053924560546875 seconds/practice\n",
      "DEBUG:root:Query: SELECT * FROM measurement_Plasma_free_T4_level_77 WHERE PRACTICE_ID = '21000'\n",
      "DEBUG:root:loaded 1 practices from table in 0.06688928604125977 seconds/practice\n",
      "DEBUG:root:Query: SELECT * FROM measurement_Plasma_gamma_glutamyl_transferase_level_58 WHERE PRACTICE_ID = '21000'\n",
      "DEBUG:root:loaded 1 practices from table in 0.0064275264739990234 seconds/practice\n",
      "DEBUG:root:Query: SELECT * FROM measurement_Plasma_potassium_level_27 WHERE PRACTICE_ID = '21000'\n",
      "DEBUG:root:loaded 1 practices from table in 0.010552644729614258 seconds/practice\n",
      "DEBUG:root:Query: SELECT * FROM measurement_Plasma_pro_brain_natriuretic_peptide_level_64 WHERE PRACTICE_ID = '21000'\n",
      "DEBUG:root:loaded 1 practices from table in 0.0018367767333984375 seconds/practice\n",
      "DEBUG:root:Query: SELECT * FROM measurement_Plasma_sodium_level_25 WHERE PRACTICE_ID = '21000'\n",
      "DEBUG:root:loaded 1 practices from table in 0.010563850402832031 seconds/practice\n",
      "DEBUG:root:Query: SELECT * FROM measurement_Plasma_total_bilirubin_level_54 WHERE PRACTICE_ID = '21000'\n",
      "DEBUG:root:loaded 1 practices from table in 0.017853260040283203 seconds/practice\n",
      "DEBUG:root:Query: SELECT * FROM measurement_Plasma_total_cholesterol_level_99 WHERE PRACTICE_ID = '21000'\n",
      "DEBUG:root:loaded 1 practices from table in 0.007464170455932617 seconds/practice\n",
      "DEBUG:root:Query: SELECT * FROM measurement_Plasma_triglyceride_level_106 WHERE PRACTICE_ID = '21000'\n",
      "DEBUG:root:loaded 1 practices from table in 0.026805400848388672 seconds/practice\n",
      "DEBUG:root:Query: SELECT * FROM measurement_Plasma_urea_level_30 WHERE PRACTICE_ID = '21000'\n",
      "DEBUG:root:loaded 1 practices from table in 0.010822057723999023 seconds/practice\n",
      "DEBUG:root:Query: SELECT * FROM measurement_Platelet_count_12 WHERE PRACTICE_ID = '21000'\n",
      "DEBUG:root:loaded 1 practices from table in 0.23239874839782715 seconds/practice\n",
      "DEBUG:root:Query: SELECT * FROM measurement_Red_blood_cell__RBC__count_10 WHERE PRACTICE_ID = '21000'\n",
      "DEBUG:root:loaded 1 practices from table in 0.20968413352966309 seconds/practice\n",
      "DEBUG:root:Query: SELECT * FROM measurement_Red_blood_cell_distribution_width_17 WHERE PRACTICE_ID = '21000'\n",
      "DEBUG:root:loaded 1 practices from table in 0.16806912422180176 seconds/practice\n",
      "DEBUG:root:Query: SELECT * FROM measurement_Serum_25_Hydroxy_vitamin_D3_level_88 WHERE PRACTICE_ID = '21000'\n",
      "DEBUG:root:loaded 1 practices from table in 0.007055044174194336 seconds/practice\n",
      "DEBUG:root:Query: SELECT * FROM measurement_Serum_C_reactive_protein_level_59 WHERE PRACTICE_ID = '21000'\n",
      "DEBUG:root:loaded 1 practices from table in 0.17702054977416992 seconds/practice\n",
      "DEBUG:root:Query: SELECT * FROM measurement_Serum_HDL_cholesterol_level_100 WHERE PRACTICE_ID = '21000'\n",
      "DEBUG:root:loaded 1 practices from table in 0.19627618789672852 seconds/practice\n",
      "DEBUG:root:Query: SELECT * FROM measurement_Serum_LDL_cholesterol_level_102 WHERE PRACTICE_ID = '21000'\n",
      "DEBUG:root:loaded 1 practices from table in 0.1005549430847168 seconds/practice\n",
      "DEBUG:root:Query: SELECT * FROM measurement_Serum_N_terminal_pro_B_type_natriuretic_peptide_conc_68 WHERE PRACTICE_ID = '21000'\n",
      "DEBUG:root:loaded 1 practices from table in 0.006654500961303711 seconds/practice\n",
      "DEBUG:root:Query: SELECT * FROM measurement_Serum_T4_level_78 WHERE PRACTICE_ID = '21000'\n",
      "DEBUG:root:loaded 1 practices from table in 0.006775856018066406 seconds/practice\n",
      "DEBUG:root:Query: SELECT * FROM measurement_Serum_TSH_level_71 WHERE PRACTICE_ID = '21000'\n",
      "DEBUG:root:loaded 1 practices from table in 0.17639422416687012 seconds/practice\n",
      "DEBUG:root:Query: SELECT * FROM measurement_Serum_alanine_aminotransferase_level_45 WHERE PRACTICE_ID = '21000'\n",
      "DEBUG:root:loaded 1 practices from table in 0.1673731803894043 seconds/practice\n",
      "DEBUG:root:Query: SELECT * FROM measurement_Serum_albumin_51 WHERE PRACTICE_ID = '21000'\n",
      "DEBUG:root:loaded 1 practices from table in 0.23857998847961426 seconds/practice\n",
      "DEBUG:root:Query: SELECT * FROM measurement_Serum_alkaline_phosphatase_50 WHERE PRACTICE_ID = '21000'\n",
      "DEBUG:root:loaded 1 practices from table in 0.16185975074768066 seconds/practice\n",
      "DEBUG:root:Query: SELECT * FROM measurement_Serum_bilirubin_level_53 WHERE PRACTICE_ID = '21000'\n",
      "DEBUG:root:loaded 1 practices from table in 0.1451857089996338 seconds/practice\n",
      "DEBUG:root:Query: SELECT * FROM measurement_Serum_calcium_39 WHERE PRACTICE_ID = '21000'\n",
      "DEBUG:root:loaded 1 practices from table in 0.17738795280456543 seconds/practice\n",
      "DEBUG:root:Query: SELECT * FROM measurement_Serum_cholesterol_97 WHERE PRACTICE_ID = '21000'\n",
      "DEBUG:root:loaded 1 practices from table in 0.13871097564697266 seconds/practice\n",
      "DEBUG:root:Query: SELECT * FROM measurement_Serum_cholesterol_HDL_ratio_94 WHERE PRACTICE_ID = '21000'\n",
      "DEBUG:root:loaded 1 practices from table in 0.13369965553283691 seconds/practice\n",
      "DEBUG:root:Query: SELECT * FROM measurement_Serum_creatinine_31 WHERE PRACTICE_ID = '21000'\n",
      "DEBUG:root:loaded 1 practices from table in 0.20584940910339355 seconds/practice\n",
      "DEBUG:root:Query: SELECT * FROM measurement_Serum_ferritin_63 WHERE PRACTICE_ID = '21000'\n",
      "DEBUG:root:loaded 1 practices from table in 0.13266825675964355 seconds/practice\n",
      "DEBUG:root:Query: SELECT * FROM measurement_Serum_folate_80 WHERE PRACTICE_ID = '21000'\n",
      "DEBUG:root:loaded 1 practices from table in 0.08725452423095703 seconds/practice\n",
      "DEBUG:root:Query: SELECT * FROM measurement_Serum_free_T4_level_75 WHERE PRACTICE_ID = '21000'\n",
      "DEBUG:root:loaded 1 practices from table in 0.17748069763183594 seconds/practice\n",
      "DEBUG:root:Query: SELECT * FROM measurement_Serum_gamma_glutamyl_transferase_level_57 WHERE PRACTICE_ID = '21000'\n",
      "DEBUG:root:loaded 1 practices from table in 0.1224970817565918 seconds/practice\n",
      "DEBUG:root:Query: SELECT * FROM measurement_Serum_non_high_density_lipoprotein_cholesterol_level_107 WHERE PRACTICE_ID = '21000'\n",
      "DEBUG:root:loaded 1 practices from table in 0.1373000144958496 seconds/practice\n",
      "DEBUG:root:Query: SELECT * FROM measurement_Serum_potassium_26 WHERE PRACTICE_ID = '21000'\n",
      "DEBUG:root:loaded 1 practices from table in 0.285494327545166 seconds/practice\n",
      "DEBUG:root:Query: SELECT * FROM measurement_Serum_pro_brain_natriuretic_peptide_level_65 WHERE PRACTICE_ID = '21000'\n",
      "DEBUG:root:loaded 1 practices from table in 0.0018801689147949219 seconds/practice\n",
      "DEBUG:root:Query: SELECT * FROM measurement_Serum_sodium_24 WHERE PRACTICE_ID = '21000'\n",
      "DEBUG:root:loaded 1 practices from table in 0.17506933212280273 seconds/practice\n",
      "DEBUG:root:Query: SELECT * FROM measurement_Serum_total_25_hydroxy_vitamin_D_level_87 WHERE PRACTICE_ID = '21000'\n",
      "DEBUG:root:loaded 1 practices from table in 0.05792403221130371 seconds/practice\n",
      "DEBUG:root:Query: SELECT * FROM measurement_Serum_total_bilirubin_level_56 WHERE PRACTICE_ID = '21000'\n",
      "DEBUG:root:loaded 1 practices from table in 0.16960930824279785 seconds/practice\n",
      "DEBUG:root:Query: SELECT * FROM measurement_Serum_total_cholesterol_level_98 WHERE PRACTICE_ID = '21000'\n",
      "DEBUG:root:loaded 1 practices from table in 0.07459664344787598 seconds/practice\n",
      "DEBUG:root:Query: SELECT * FROM measurement_Serum_triglycerides_105 WHERE PRACTICE_ID = '21000'\n",
      "DEBUG:root:loaded 1 practices from table in 0.16189312934875488 seconds/practice\n",
      "DEBUG:root:Query: SELECT * FROM measurement_Serum_urea_level_29 WHERE PRACTICE_ID = '21000'\n",
      "DEBUG:root:loaded 1 practices from table in 0.18719935417175293 seconds/practice\n",
      "DEBUG:root:Query: SELECT * FROM measurement_Serum_vitamin_B12_79 WHERE PRACTICE_ID = '21000'\n",
      "DEBUG:root:loaded 1 practices from table in 0.1594233512878418 seconds/practice\n",
      "DEBUG:root:Query: SELECT * FROM measurement_Serum_vitamin_D2_level_89 WHERE PRACTICE_ID = '21000'\n",
      "DEBUG:root:loaded 1 practices from table in 0.0017497539520263672 seconds/practice\n",
      "DEBUG:root:Query: SELECT * FROM measurement_Serum_vitamin_D_86 WHERE PRACTICE_ID = '21000'\n",
      "DEBUG:root:loaded 1 practices from table in 0.08577728271484375 seconds/practice\n",
      "DEBUG:root:Query: SELECT * FROM measurement_Systolic_blood_pressure_4 WHERE PRACTICE_ID = '21000'\n",
      "DEBUG:root:loaded 1 practices from table in 0.26608920097351074 seconds/practice\n",
      "DEBUG:root:Query: SELECT * FROM measurement_TSH___thyroid_stim_hormone_72 WHERE PRACTICE_ID = '21000'\n",
      "DEBUG:root:loaded 1 practices from table in 0.0065500736236572266 seconds/practice\n",
      "DEBUG:root:Query: SELECT * FROM measurement_TSH_level_74 WHERE PRACTICE_ID = '21000'\n",
      "DEBUG:root:loaded 1 practices from table in 0.0063936710357666016 seconds/practice\n",
      "DEBUG:root:Query: SELECT * FROM measurement_Total_25_hydroxyvitamin_D_level_91 WHERE PRACTICE_ID = '21000'\n",
      "DEBUG:root:loaded 1 practices from table in 0.0018014907836914062 seconds/practice\n",
      "DEBUG:root:Query: SELECT * FROM measurement_Total_alkaline_phosphatase_48 WHERE PRACTICE_ID = '21000'\n",
      "DEBUG:root:loaded 1 practices from table in 0.024760723114013672 seconds/practice\n",
      "DEBUG:root:Query: SELECT * FROM measurement_Total_bilirubin_55 WHERE PRACTICE_ID = '21000'\n",
      "DEBUG:root:loaded 1 practices from table in 0.09950661659240723 seconds/practice\n",
      "DEBUG:root:Query: SELECT * FROM measurement_Total_cholesterol_HDL_ratio_95 WHERE PRACTICE_ID = '21000'\n",
      "DEBUG:root:loaded 1 practices from table in 0.14974474906921387 seconds/practice\n",
      "DEBUG:root:Query: SELECT * FROM measurement_Total_white_cell_count_18 WHERE PRACTICE_ID = '21000'\n",
      "DEBUG:root:loaded 1 practices from table in 0.23677778244018555 seconds/practice\n",
      "DEBUG:root:Query: SELECT * FROM measurement_Urine_albumin_creatinine_ratio_35 WHERE PRACTICE_ID = '21000'\n",
      "DEBUG:root:loaded 1 practices from table in 0.18706154823303223 seconds/practice\n",
      "DEBUG:root:Query: SELECT * FROM measurement_Urine_microalbumin_creatinine_ratio_36 WHERE PRACTICE_ID = '21000'\n",
      "DEBUG:root:loaded 1 practices from table in 0.0017898082733154297 seconds/practice\n",
      "DEBUG:root:Query: SELECT * FROM measurement_eGFR_using_creatinine_CKD_EPI_per_1_73_square_metres_33 WHERE PRACTICE_ID = '21000'\n",
      "DEBUG:root:loaded 1 practices from table in 0.1427898406982422 seconds/practice\n",
      "DEBUG:root:Dropping missing measurements\n",
      "DEBUG:root:Removing patients with no observed events\n"
     ]
    },
    {
     "name": "stdout",
     "output_type": "stream",
     "text": [
      "collector took 10.78837251663208 seconds\n"
     ]
    },
    {
     "name": "stderr",
     "output_type": "stream",
     "text": [
      "DEBUG:root:Query: SELECT * FROM static_table WHERE PRACTICE_ID = '21514'\n",
      "DEBUG:root:loaded 1 practices from table in 0.1922609806060791 seconds/practice\n",
      "DEBUG:root:Query: SELECT * FROM diagnosis_table WHERE PRACTICE_ID = '21514'\n"
     ]
    },
    {
     "name": "stdout",
     "output_type": "stream",
     "text": [
      "collating events took 0.33164453506469727 seconds\n"
     ]
    },
    {
     "name": "stderr",
     "output_type": "stream",
     "text": [
      "DEBUG:root:loaded 1 practices from table in 0.23877859115600586 seconds/practice\n",
      "DEBUG:root:Query: SELECT * FROM measurement_25_Hydroxyvitamin_D2_level_92 WHERE PRACTICE_ID = '21514'\n",
      "DEBUG:root:loaded 1 practices from table in 0.006879091262817383 seconds/practice\n",
      "DEBUG:root:Query: SELECT * FROM measurement_25_Hydroxyvitamin_D3_level_90 WHERE PRACTICE_ID = '21514'\n",
      "DEBUG:root:loaded 1 practices from table in 0.012119293212890625 seconds/practice\n",
      "DEBUG:root:Query: SELECT * FROM measurement_AST___aspartate_transam_SGOT__46 WHERE PRACTICE_ID = '21514'\n",
      "DEBUG:root:loaded 1 practices from table in 0.10561871528625488 seconds/practice\n",
      "DEBUG:root:Query: SELECT * FROM measurement_AST_serum_level_47 WHERE PRACTICE_ID = '21514'\n",
      "DEBUG:root:loaded 1 practices from table in 0.15514373779296875 seconds/practice\n",
      "DEBUG:root:Query: SELECT * FROM measurement_Albumin___creatinine_ratio_37 WHERE PRACTICE_ID = '21514'\n",
      "DEBUG:root:loaded 1 practices from table in 0.007025718688964844 seconds/practice\n",
      "DEBUG:root:Query: SELECT * FROM measurement_Basophil_count_22 WHERE PRACTICE_ID = '21514'\n",
      "DEBUG:root:loaded 1 practices from table in 0.23958086967468262 seconds/practice\n",
      "DEBUG:root:Query: SELECT * FROM measurement_Blood_calcium_level_38 WHERE PRACTICE_ID = '21514'\n",
      "DEBUG:root:loaded 1 practices from table in 0.010615348815917969 seconds/practice\n",
      "DEBUG:root:Query: SELECT * FROM measurement_Blood_urea_28 WHERE PRACTICE_ID = '21514'\n",
      "DEBUG:root:loaded 1 practices from table in 0.003133535385131836 seconds/practice\n",
      "DEBUG:root:Query: SELECT * FROM measurement_Body_mass_index_3 WHERE PRACTICE_ID = '21514'\n",
      "DEBUG:root:loaded 1 practices from table in 0.25220417976379395 seconds/practice\n",
      "DEBUG:root:Query: SELECT * FROM measurement_Brain_natriuretic_peptide_level_66 WHERE PRACTICE_ID = '21514'\n",
      "DEBUG:root:loaded 1 practices from table in 0.006251811981201172 seconds/practice\n",
      "DEBUG:root:Query: SELECT * FROM measurement_Calcium_adjusted_level_41 WHERE PRACTICE_ID = '21514'\n",
      "DEBUG:root:loaded 1 practices from table in 0.04421377182006836 seconds/practice\n",
      "DEBUG:root:Query: SELECT * FROM measurement_Calculated_LDL_cholesterol_level_103 WHERE PRACTICE_ID = '21514'\n",
      "DEBUG:root:loaded 1 practices from table in 0.08402514457702637 seconds/practice\n",
      "DEBUG:root:Query: SELECT * FROM measurement_Combined_total_vitamin_D2_and_D3_level_93 WHERE PRACTICE_ID = '21514'\n",
      "DEBUG:root:loaded 1 practices from table in 0.006438493728637695 seconds/practice\n",
      "DEBUG:root:Query: SELECT * FROM measurement_Corrected_serum_calcium_level_42 WHERE PRACTICE_ID = '21514'\n",
      "DEBUG:root:loaded 1 practices from table in 0.16369414329528809 seconds/practice\n",
      "DEBUG:root:Query: SELECT * FROM measurement_Current_smoker_83 WHERE PRACTICE_ID = '21514'\n",
      "DEBUG:root:loaded 1 practices from table in 0.16986894607543945 seconds/practice\n",
      "DEBUG:root:Query: SELECT * FROM measurement_Diastolic_blood_pressure_5 WHERE PRACTICE_ID = '21514'\n",
      "DEBUG:root:loaded 1 practices from table in 0.3674466609954834 seconds/practice\n",
      "DEBUG:root:Query: SELECT * FROM measurement_Eosinophil_count_21 WHERE PRACTICE_ID = '21514'\n",
      "DEBUG:root:loaded 1 practices from table in 0.25369882583618164 seconds/practice\n",
      "DEBUG:root:Query: SELECT * FROM measurement_Erythrocyte_sedimentation_rate_61 WHERE PRACTICE_ID = '21514'\n",
      "DEBUG:root:loaded 1 practices from table in 0.28774428367614746 seconds/practice\n",
      "DEBUG:root:Query: SELECT * FROM measurement_Ex_smoker_84 WHERE PRACTICE_ID = '21514'\n",
      "DEBUG:root:loaded 1 practices from table in 0.1498878002166748 seconds/practice\n",
      "DEBUG:root:Query: SELECT * FROM measurement_Free_T4_level_76 WHERE PRACTICE_ID = '21514'\n",
      "DEBUG:root:loaded 1 practices from table in 0.04407358169555664 seconds/practice\n",
      "DEBUG:root:Query: SELECT * FROM measurement_GFR_calculated_abbreviated_MDRD_34 WHERE PRACTICE_ID = '21514'\n",
      "DEBUG:root:loaded 1 practices from table in 0.26393747329711914 seconds/practice\n",
      "DEBUG:root:Query: SELECT * FROM measurement_Haematocrit___PCV_16 WHERE PRACTICE_ID = '21514'\n",
      "DEBUG:root:loaded 1 practices from table in 0.13726115226745605 seconds/practice\n",
      "DEBUG:root:Query: SELECT * FROM measurement_Haematocrit_15 WHERE PRACTICE_ID = '21514'\n",
      "DEBUG:root:loaded 1 practices from table in 0.25716090202331543 seconds/practice\n",
      "DEBUG:root:Query: SELECT * FROM measurement_Haemoglobin_A1c_level___IFCC_standardised_6 WHERE PRACTICE_ID = '21514'\n",
      "DEBUG:root:loaded 1 practices from table in 0.20509767532348633 seconds/practice\n",
      "DEBUG:root:Query: SELECT * FROM measurement_Haemoglobin_A1c_level_8 WHERE PRACTICE_ID = '21514'\n",
      "DEBUG:root:loaded 1 practices from table in 0.1269969940185547 seconds/practice\n",
      "DEBUG:root:Query: SELECT * FROM measurement_Haemoglobin_estimation_9 WHERE PRACTICE_ID = '21514'\n",
      "DEBUG:root:loaded 1 practices from table in 0.3424563407897949 seconds/practice\n",
      "DEBUG:root:Query: SELECT * FROM measurement_HbA1c_level__DCCT_aligned__7 WHERE PRACTICE_ID = '21514'\n",
      "DEBUG:root:loaded 1 practices from table in 0.2696495056152344 seconds/practice\n",
      "DEBUG:root:Query: SELECT * FROM measurement_INR___international_normalised_ratio_81 WHERE PRACTICE_ID = '21514'\n",
      "DEBUG:root:loaded 1 practices from table in 0.009958505630493164 seconds/practice\n",
      "DEBUG:root:Query: SELECT * FROM measurement_International_normalised_ratio_82 WHERE PRACTICE_ID = '21514'\n",
      "DEBUG:root:loaded 1 practices from table in 0.29138708114624023 seconds/practice\n",
      "DEBUG:root:Query: SELECT * FROM measurement_Lymphocyte_count_20 WHERE PRACTICE_ID = '21514'\n",
      "DEBUG:root:loaded 1 practices from table in 0.2568671703338623 seconds/practice\n",
      "DEBUG:root:Query: SELECT * FROM measurement_Mean_corpusc_Hb_conc__MCHC__14 WHERE PRACTICE_ID = '21514'\n",
      "DEBUG:root:loaded 1 practices from table in 0.29370594024658203 seconds/practice\n",
      "DEBUG:root:Query: SELECT * FROM measurement_Mean_corpusc_haemoglobin_MCH__13 WHERE PRACTICE_ID = '21514'\n",
      "DEBUG:root:loaded 1 practices from table in 0.3578193187713623 seconds/practice\n",
      "DEBUG:root:Query: SELECT * FROM measurement_Mean_corpuscular_volume__MCV__11 WHERE PRACTICE_ID = '21514'\n",
      "DEBUG:root:loaded 1 practices from table in 0.27655959129333496 seconds/practice\n",
      "DEBUG:root:Query: SELECT * FROM measurement_Monocyte_count_23 WHERE PRACTICE_ID = '21514'\n",
      "DEBUG:root:loaded 1 practices from table in 0.2990591526031494 seconds/practice\n",
      "DEBUG:root:Query: SELECT * FROM measurement_N_terminal_pro_brain_natriuretic_peptide_level_67 WHERE PRACTICE_ID = '21514'\n",
      "DEBUG:root:loaded 1 practices from table in 0.0019221305847167969 seconds/practice\n",
      "DEBUG:root:Query: SELECT * FROM measurement_Neutrophil_count_19 WHERE PRACTICE_ID = '21514'\n",
      "DEBUG:root:loaded 1 practices from table in 0.26755189895629883 seconds/practice\n",
      "DEBUG:root:Query: SELECT * FROM measurement_Never_smoked_tobacco_85 WHERE PRACTICE_ID = '21514'\n",
      "DEBUG:root:loaded 1 practices from table in 0.2648587226867676 seconds/practice\n",
      "DEBUG:root:Query: SELECT * FROM measurement_Non_HDL_cholesterol_level_108 WHERE PRACTICE_ID = '21514'\n",
      "DEBUG:root:loaded 1 practices from table in 0.08832716941833496 seconds/practice\n",
      "DEBUG:root:Query: SELECT * FROM measurement_O_E___height_1 WHERE PRACTICE_ID = '21514'\n",
      "DEBUG:root:loaded 1 practices from table in 0.2937784194946289 seconds/practice\n",
      "DEBUG:root:Query: SELECT * FROM measurement_O_E___weight_2 WHERE PRACTICE_ID = '21514'\n",
      "DEBUG:root:loaded 1 practices from table in 0.22942209243774414 seconds/practice\n",
      "DEBUG:root:Query: SELECT * FROM measurement_Plasma_B_natriuretic_peptide_level_69 WHERE PRACTICE_ID = '21514'\n",
      "DEBUG:root:loaded 1 practices from table in 0.0018112659454345703 seconds/practice\n",
      "DEBUG:root:Query: SELECT * FROM measurement_Plasma_C_reactive_protein_60 WHERE PRACTICE_ID = '21514'\n",
      "DEBUG:root:loaded 1 practices from table in 0.10195088386535645 seconds/practice\n",
      "DEBUG:root:Query: SELECT * FROM measurement_Plasma_HDL_cholesterol_level_101 WHERE PRACTICE_ID = '21514'\n",
      "DEBUG:root:loaded 1 practices from table in 0.09463787078857422 seconds/practice\n",
      "DEBUG:root:Query: SELECT * FROM measurement_Plasma_LDL_cholesterol_level_104 WHERE PRACTICE_ID = '21514'\n",
      "DEBUG:root:loaded 1 practices from table in 0.11323142051696777 seconds/practice\n",
      "DEBUG:root:Query: SELECT * FROM measurement_Plasma_N_terminal_pro_B_type_natriuretic_peptide_conc_70 WHERE PRACTICE_ID = '21514'\n",
      "DEBUG:root:loaded 1 practices from table in 0.0022568702697753906 seconds/practice\n",
      "DEBUG:root:Query: SELECT * FROM measurement_Plasma_TSH_level_73 WHERE PRACTICE_ID = '21514'\n",
      "DEBUG:root:loaded 1 practices from table in 0.0025489330291748047 seconds/practice\n",
      "DEBUG:root:Query: SELECT * FROM measurement_Plasma_alanine_aminotransferase_level_44 WHERE PRACTICE_ID = '21514'\n",
      "DEBUG:root:loaded 1 practices from table in 0.08030986785888672 seconds/practice\n",
      "DEBUG:root:Query: SELECT * FROM measurement_Plasma_albumin_level_52 WHERE PRACTICE_ID = '21514'\n",
      "DEBUG:root:loaded 1 practices from table in 0.143096923828125 seconds/practice\n",
      "DEBUG:root:Query: SELECT * FROM measurement_Plasma_alkaline_phosphatase_level_49 WHERE PRACTICE_ID = '21514'\n",
      "DEBUG:root:loaded 1 practices from table in 0.16797852516174316 seconds/practice\n",
      "DEBUG:root:Query: SELECT * FROM measurement_Plasma_calcium_level_40 WHERE PRACTICE_ID = '21514'\n",
      "DEBUG:root:loaded 1 practices from table in 0.08164620399475098 seconds/practice\n",
      "DEBUG:root:Query: SELECT * FROM measurement_Plasma_cholesterol_HDL_ratio_96 WHERE PRACTICE_ID = '21514'\n",
      "DEBUG:root:loaded 1 practices from table in 0.006645679473876953 seconds/practice\n",
      "DEBUG:root:Query: SELECT * FROM measurement_Plasma_corrected_calcium_level_43 WHERE PRACTICE_ID = '21514'\n",
      "DEBUG:root:loaded 1 practices from table in 0.0026078224182128906 seconds/practice\n",
      "DEBUG:root:Query: SELECT * FROM measurement_Plasma_creatinine_level_32 WHERE PRACTICE_ID = '21514'\n",
      "DEBUG:root:loaded 1 practices from table in 0.08864450454711914 seconds/practice\n",
      "DEBUG:root:Query: SELECT * FROM measurement_Plasma_ferritin_level_62 WHERE PRACTICE_ID = '21514'\n",
      "DEBUG:root:loaded 1 practices from table in 0.0019550323486328125 seconds/practice\n",
      "DEBUG:root:Query: SELECT * FROM measurement_Plasma_free_T4_level_77 WHERE PRACTICE_ID = '21514'\n",
      "DEBUG:root:loaded 1 practices from table in 0.0021386146545410156 seconds/practice\n",
      "DEBUG:root:Query: SELECT * FROM measurement_Plasma_gamma_glutamyl_transferase_level_58 WHERE PRACTICE_ID = '21514'\n",
      "DEBUG:root:loaded 1 practices from table in 0.09131240844726562 seconds/practice\n",
      "DEBUG:root:Query: SELECT * FROM measurement_Plasma_potassium_level_27 WHERE PRACTICE_ID = '21514'\n",
      "DEBUG:root:loaded 1 practices from table in 0.09355306625366211 seconds/practice\n",
      "DEBUG:root:Query: SELECT * FROM measurement_Plasma_pro_brain_natriuretic_peptide_level_64 WHERE PRACTICE_ID = '21514'\n",
      "DEBUG:root:loaded 1 practices from table in 0.006647348403930664 seconds/practice\n",
      "DEBUG:root:Query: SELECT * FROM measurement_Plasma_sodium_level_25 WHERE PRACTICE_ID = '21514'\n",
      "DEBUG:root:loaded 1 practices from table in 0.08794808387756348 seconds/practice\n",
      "DEBUG:root:Query: SELECT * FROM measurement_Plasma_total_bilirubin_level_54 WHERE PRACTICE_ID = '21514'\n",
      "DEBUG:root:loaded 1 practices from table in 0.08366847038269043 seconds/practice\n",
      "DEBUG:root:Query: SELECT * FROM measurement_Plasma_total_cholesterol_level_99 WHERE PRACTICE_ID = '21514'\n",
      "DEBUG:root:loaded 1 practices from table in 0.07760739326477051 seconds/practice\n",
      "DEBUG:root:Query: SELECT * FROM measurement_Plasma_triglyceride_level_106 WHERE PRACTICE_ID = '21514'\n",
      "DEBUG:root:loaded 1 practices from table in 0.00698399543762207 seconds/practice\n",
      "DEBUG:root:Query: SELECT * FROM measurement_Plasma_urea_level_30 WHERE PRACTICE_ID = '21514'\n",
      "DEBUG:root:loaded 1 practices from table in 0.04080557823181152 seconds/practice\n",
      "DEBUG:root:Query: SELECT * FROM measurement_Platelet_count_12 WHERE PRACTICE_ID = '21514'\n",
      "DEBUG:root:loaded 1 practices from table in 0.25653839111328125 seconds/practice\n",
      "DEBUG:root:Query: SELECT * FROM measurement_Red_blood_cell__RBC__count_10 WHERE PRACTICE_ID = '21514'\n",
      "DEBUG:root:loaded 1 practices from table in 0.24502897262573242 seconds/practice\n",
      "DEBUG:root:Query: SELECT * FROM measurement_Red_blood_cell_distribution_width_17 WHERE PRACTICE_ID = '21514'\n",
      "DEBUG:root:loaded 1 practices from table in 0.21343779563903809 seconds/practice\n",
      "DEBUG:root:Query: SELECT * FROM measurement_Serum_25_Hydroxy_vitamin_D3_level_88 WHERE PRACTICE_ID = '21514'\n",
      "DEBUG:root:loaded 1 practices from table in 0.08371162414550781 seconds/practice\n",
      "DEBUG:root:Query: SELECT * FROM measurement_Serum_C_reactive_protein_level_59 WHERE PRACTICE_ID = '21514'\n",
      "DEBUG:root:loaded 1 practices from table in 0.21387028694152832 seconds/practice\n",
      "DEBUG:root:Query: SELECT * FROM measurement_Serum_HDL_cholesterol_level_100 WHERE PRACTICE_ID = '21514'\n",
      "DEBUG:root:loaded 1 practices from table in 0.21078181266784668 seconds/practice\n",
      "DEBUG:root:Query: SELECT * FROM measurement_Serum_LDL_cholesterol_level_102 WHERE PRACTICE_ID = '21514'\n",
      "DEBUG:root:loaded 1 practices from table in 0.20240092277526855 seconds/practice\n",
      "DEBUG:root:Query: SELECT * FROM measurement_Serum_N_terminal_pro_B_type_natriuretic_peptide_conc_68 WHERE PRACTICE_ID = '21514'\n",
      "DEBUG:root:loaded 1 practices from table in 0.00606083869934082 seconds/practice\n",
      "DEBUG:root:Query: SELECT * FROM measurement_Serum_T4_level_78 WHERE PRACTICE_ID = '21514'\n",
      "DEBUG:root:loaded 1 practices from table in 0.00414276123046875 seconds/practice\n",
      "DEBUG:root:Query: SELECT * FROM measurement_Serum_TSH_level_71 WHERE PRACTICE_ID = '21514'\n",
      "DEBUG:root:loaded 1 practices from table in 0.135359525680542 seconds/practice\n",
      "DEBUG:root:Query: SELECT * FROM measurement_Serum_alanine_aminotransferase_level_45 WHERE PRACTICE_ID = '21514'\n",
      "DEBUG:root:loaded 1 practices from table in 0.1566157341003418 seconds/practice\n",
      "DEBUG:root:Query: SELECT * FROM measurement_Serum_albumin_51 WHERE PRACTICE_ID = '21514'\n",
      "DEBUG:root:loaded 1 practices from table in 0.25259852409362793 seconds/practice\n",
      "DEBUG:root:Query: SELECT * FROM measurement_Serum_alkaline_phosphatase_50 WHERE PRACTICE_ID = '21514'\n",
      "DEBUG:root:loaded 1 practices from table in 0.277665376663208 seconds/practice\n",
      "DEBUG:root:Query: SELECT * FROM measurement_Serum_bilirubin_level_53 WHERE PRACTICE_ID = '21514'\n",
      "DEBUG:root:loaded 1 practices from table in 0.14786410331726074 seconds/practice\n",
      "DEBUG:root:Query: SELECT * FROM measurement_Serum_calcium_39 WHERE PRACTICE_ID = '21514'\n",
      "DEBUG:root:loaded 1 practices from table in 0.2439408302307129 seconds/practice\n",
      "DEBUG:root:Query: SELECT * FROM measurement_Serum_cholesterol_97 WHERE PRACTICE_ID = '21514'\n",
      "DEBUG:root:loaded 1 practices from table in 0.20961809158325195 seconds/practice\n",
      "DEBUG:root:Query: SELECT * FROM measurement_Serum_cholesterol_HDL_ratio_94 WHERE PRACTICE_ID = '21514'\n",
      "DEBUG:root:loaded 1 practices from table in 0.2510986328125 seconds/practice\n",
      "DEBUG:root:Query: SELECT * FROM measurement_Serum_creatinine_31 WHERE PRACTICE_ID = '21514'\n",
      "DEBUG:root:loaded 1 practices from table in 0.2759990692138672 seconds/practice\n",
      "DEBUG:root:Query: SELECT * FROM measurement_Serum_ferritin_63 WHERE PRACTICE_ID = '21514'\n",
      "DEBUG:root:loaded 1 practices from table in 0.2030937671661377 seconds/practice\n",
      "DEBUG:root:Query: SELECT * FROM measurement_Serum_folate_80 WHERE PRACTICE_ID = '21514'\n",
      "DEBUG:root:loaded 1 practices from table in 0.2181379795074463 seconds/practice\n",
      "DEBUG:root:Query: SELECT * FROM measurement_Serum_free_T4_level_75 WHERE PRACTICE_ID = '21514'\n",
      "DEBUG:root:loaded 1 practices from table in 0.1365337371826172 seconds/practice\n",
      "DEBUG:root:Query: SELECT * FROM measurement_Serum_gamma_glutamyl_transferase_level_57 WHERE PRACTICE_ID = '21514'\n",
      "DEBUG:root:loaded 1 practices from table in 0.2152848243713379 seconds/practice\n",
      "DEBUG:root:Query: SELECT * FROM measurement_Serum_non_high_density_lipoprotein_cholesterol_level_107 WHERE PRACTICE_ID = '21514'\n",
      "DEBUG:root:loaded 1 practices from table in 0.12368249893188477 seconds/practice\n",
      "DEBUG:root:Query: SELECT * FROM measurement_Serum_potassium_26 WHERE PRACTICE_ID = '21514'\n",
      "DEBUG:root:loaded 1 practices from table in 0.27143335342407227 seconds/practice\n",
      "DEBUG:root:Query: SELECT * FROM measurement_Serum_pro_brain_natriuretic_peptide_level_65 WHERE PRACTICE_ID = '21514'\n",
      "DEBUG:root:loaded 1 practices from table in 0.006715297698974609 seconds/practice\n",
      "DEBUG:root:Query: SELECT * FROM measurement_Serum_sodium_24 WHERE PRACTICE_ID = '21514'\n",
      "DEBUG:root:loaded 1 practices from table in 0.27417492866516113 seconds/practice\n",
      "DEBUG:root:Query: SELECT * FROM measurement_Serum_total_25_hydroxy_vitamin_D_level_87 WHERE PRACTICE_ID = '21514'\n",
      "DEBUG:root:loaded 1 practices from table in 0.06236600875854492 seconds/practice\n",
      "DEBUG:root:Query: SELECT * FROM measurement_Serum_total_bilirubin_level_56 WHERE PRACTICE_ID = '21514'\n",
      "DEBUG:root:loaded 1 practices from table in 0.26854896545410156 seconds/practice\n",
      "DEBUG:root:Query: SELECT * FROM measurement_Serum_total_cholesterol_level_98 WHERE PRACTICE_ID = '21514'\n",
      "DEBUG:root:loaded 1 practices from table in 0.1452956199645996 seconds/practice\n",
      "DEBUG:root:Query: SELECT * FROM measurement_Serum_triglycerides_105 WHERE PRACTICE_ID = '21514'\n",
      "DEBUG:root:loaded 1 practices from table in 0.26851367950439453 seconds/practice\n",
      "DEBUG:root:Query: SELECT * FROM measurement_Serum_urea_level_29 WHERE PRACTICE_ID = '21514'\n",
      "DEBUG:root:loaded 1 practices from table in 0.27623939514160156 seconds/practice\n",
      "DEBUG:root:Query: SELECT * FROM measurement_Serum_vitamin_B12_79 WHERE PRACTICE_ID = '21514'\n",
      "DEBUG:root:loaded 1 practices from table in 0.2315077781677246 seconds/practice\n",
      "DEBUG:root:Query: SELECT * FROM measurement_Serum_vitamin_D2_level_89 WHERE PRACTICE_ID = '21514'\n",
      "DEBUG:root:loaded 1 practices from table in 0.006734371185302734 seconds/practice\n",
      "DEBUG:root:Query: SELECT * FROM measurement_Serum_vitamin_D_86 WHERE PRACTICE_ID = '21514'\n",
      "DEBUG:root:loaded 1 practices from table in 0.08013224601745605 seconds/practice\n",
      "DEBUG:root:Query: SELECT * FROM measurement_Systolic_blood_pressure_4 WHERE PRACTICE_ID = '21514'\n",
      "DEBUG:root:loaded 1 practices from table in 0.37142276763916016 seconds/practice\n",
      "DEBUG:root:Query: SELECT * FROM measurement_TSH___thyroid_stim_hormone_72 WHERE PRACTICE_ID = '21514'\n",
      "DEBUG:root:loaded 1 practices from table in 0.11060428619384766 seconds/practice\n",
      "DEBUG:root:Query: SELECT * FROM measurement_TSH_level_74 WHERE PRACTICE_ID = '21514'\n",
      "DEBUG:root:loaded 1 practices from table in 0.008190155029296875 seconds/practice\n",
      "DEBUG:root:Query: SELECT * FROM measurement_Total_25_hydroxyvitamin_D_level_91 WHERE PRACTICE_ID = '21514'\n",
      "DEBUG:root:loaded 1 practices from table in 0.0017440319061279297 seconds/practice\n",
      "DEBUG:root:Query: SELECT * FROM measurement_Total_alkaline_phosphatase_48 WHERE PRACTICE_ID = '21514'\n",
      "DEBUG:root:loaded 1 practices from table in 0.1106874942779541 seconds/practice\n",
      "DEBUG:root:Query: SELECT * FROM measurement_Total_bilirubin_55 WHERE PRACTICE_ID = '21514'\n",
      "DEBUG:root:loaded 1 practices from table in 0.07269024848937988 seconds/practice\n",
      "DEBUG:root:Query: SELECT * FROM measurement_Total_cholesterol_HDL_ratio_95 WHERE PRACTICE_ID = '21514'\n",
      "DEBUG:root:loaded 1 practices from table in 0.18308734893798828 seconds/practice\n",
      "DEBUG:root:Query: SELECT * FROM measurement_Total_white_cell_count_18 WHERE PRACTICE_ID = '21514'\n",
      "DEBUG:root:loaded 1 practices from table in 0.2443861961364746 seconds/practice\n",
      "DEBUG:root:Query: SELECT * FROM measurement_Urine_albumin_creatinine_ratio_35 WHERE PRACTICE_ID = '21514'\n",
      "DEBUG:root:loaded 1 practices from table in 0.2241818904876709 seconds/practice\n",
      "DEBUG:root:Query: SELECT * FROM measurement_Urine_microalbumin_creatinine_ratio_36 WHERE PRACTICE_ID = '21514'\n",
      "DEBUG:root:loaded 1 practices from table in 0.006338834762573242 seconds/practice\n",
      "DEBUG:root:Query: SELECT * FROM measurement_eGFR_using_creatinine_CKD_EPI_per_1_73_square_metres_33 WHERE PRACTICE_ID = '21514'\n",
      "DEBUG:root:loaded 1 practices from table in 0.18911409378051758 seconds/practice\n",
      "DEBUG:root:Dropping missing measurements\n",
      "DEBUG:root:Removing patients with no observed events\n"
     ]
    },
    {
     "name": "stdout",
     "output_type": "stream",
     "text": [
      "collector took 16.444940328598022 seconds\n"
     ]
    },
    {
     "name": "stderr",
     "output_type": "stream",
     "text": [
      "DEBUG:root:Query: SELECT * FROM static_table WHERE PRACTICE_ID = '21515'\n",
      "DEBUG:root:loaded 1 practices from table in 0.06447529792785645 seconds/practice\n",
      "DEBUG:root:Query: SELECT * FROM diagnosis_table WHERE PRACTICE_ID = '21515'\n"
     ]
    },
    {
     "name": "stdout",
     "output_type": "stream",
     "text": [
      "collating events took 1.0621833801269531 seconds\n"
     ]
    },
    {
     "name": "stderr",
     "output_type": "stream",
     "text": [
      "DEBUG:root:loaded 1 practices from table in 0.20670533180236816 seconds/practice\n",
      "DEBUG:root:Query: SELECT * FROM measurement_25_Hydroxyvitamin_D2_level_92 WHERE PRACTICE_ID = '21515'\n",
      "DEBUG:root:loaded 1 practices from table in 0.001932382583618164 seconds/practice\n",
      "DEBUG:root:Query: SELECT * FROM measurement_25_Hydroxyvitamin_D3_level_90 WHERE PRACTICE_ID = '21515'\n",
      "DEBUG:root:loaded 1 practices from table in 0.0018014907836914062 seconds/practice\n",
      "DEBUG:root:Query: SELECT * FROM measurement_AST___aspartate_transam_SGOT__46 WHERE PRACTICE_ID = '21515'\n",
      "DEBUG:root:loaded 1 practices from table in 0.038562774658203125 seconds/practice\n",
      "DEBUG:root:Query: SELECT * FROM measurement_AST_serum_level_47 WHERE PRACTICE_ID = '21515'\n",
      "DEBUG:root:loaded 1 practices from table in 0.08255815505981445 seconds/practice\n",
      "DEBUG:root:Query: SELECT * FROM measurement_Albumin___creatinine_ratio_37 WHERE PRACTICE_ID = '21515'\n",
      "DEBUG:root:loaded 1 practices from table in 0.0017278194427490234 seconds/practice\n",
      "DEBUG:root:Query: SELECT * FROM measurement_Basophil_count_22 WHERE PRACTICE_ID = '21515'\n",
      "DEBUG:root:loaded 1 practices from table in 0.08713030815124512 seconds/practice\n",
      "DEBUG:root:Query: SELECT * FROM measurement_Blood_calcium_level_38 WHERE PRACTICE_ID = '21515'\n",
      "DEBUG:root:loaded 1 practices from table in 0.007366180419921875 seconds/practice\n",
      "DEBUG:root:Query: SELECT * FROM measurement_Blood_urea_28 WHERE PRACTICE_ID = '21515'\n",
      "DEBUG:root:loaded 1 practices from table in 0.09354615211486816 seconds/practice\n",
      "DEBUG:root:Query: SELECT * FROM measurement_Body_mass_index_3 WHERE PRACTICE_ID = '21515'\n",
      "DEBUG:root:loaded 1 practices from table in 0.11273336410522461 seconds/practice\n",
      "DEBUG:root:Query: SELECT * FROM measurement_Brain_natriuretic_peptide_level_66 WHERE PRACTICE_ID = '21515'\n",
      "DEBUG:root:loaded 1 practices from table in 0.0017592906951904297 seconds/practice\n",
      "DEBUG:root:Query: SELECT * FROM measurement_Calcium_adjusted_level_41 WHERE PRACTICE_ID = '21515'\n",
      "DEBUG:root:loaded 1 practices from table in 0.00750279426574707 seconds/practice\n",
      "DEBUG:root:Query: SELECT * FROM measurement_Calculated_LDL_cholesterol_level_103 WHERE PRACTICE_ID = '21515'\n",
      "DEBUG:root:loaded 1 practices from table in 0.07399392127990723 seconds/practice\n",
      "DEBUG:root:Query: SELECT * FROM measurement_Combined_total_vitamin_D2_and_D3_level_93 WHERE PRACTICE_ID = '21515'\n",
      "DEBUG:root:loaded 1 practices from table in 0.001749277114868164 seconds/practice\n",
      "DEBUG:root:Query: SELECT * FROM measurement_Corrected_serum_calcium_level_42 WHERE PRACTICE_ID = '21515'\n",
      "DEBUG:root:loaded 1 practices from table in 0.08295655250549316 seconds/practice\n",
      "DEBUG:root:Query: SELECT * FROM measurement_Current_smoker_83 WHERE PRACTICE_ID = '21515'\n",
      "DEBUG:root:loaded 1 practices from table in 0.07894349098205566 seconds/practice\n",
      "DEBUG:root:Query: SELECT * FROM measurement_Diastolic_blood_pressure_5 WHERE PRACTICE_ID = '21515'\n",
      "DEBUG:root:loaded 1 practices from table in 0.16231822967529297 seconds/practice\n",
      "DEBUG:root:Query: SELECT * FROM measurement_Eosinophil_count_21 WHERE PRACTICE_ID = '21515'\n",
      "DEBUG:root:loaded 1 practices from table in 0.12549090385437012 seconds/practice\n",
      "DEBUG:root:Query: SELECT * FROM measurement_Erythrocyte_sedimentation_rate_61 WHERE PRACTICE_ID = '21515'\n",
      "DEBUG:root:loaded 1 practices from table in 0.13275671005249023 seconds/practice\n",
      "DEBUG:root:Query: SELECT * FROM measurement_Ex_smoker_84 WHERE PRACTICE_ID = '21515'\n",
      "DEBUG:root:loaded 1 practices from table in 0.10147714614868164 seconds/practice\n",
      "DEBUG:root:Query: SELECT * FROM measurement_Free_T4_level_76 WHERE PRACTICE_ID = '21515'\n",
      "DEBUG:root:loaded 1 practices from table in 0.03409743309020996 seconds/practice\n",
      "DEBUG:root:Query: SELECT * FROM measurement_GFR_calculated_abbreviated_MDRD_34 WHERE PRACTICE_ID = '21515'\n",
      "DEBUG:root:loaded 1 practices from table in 0.11406731605529785 seconds/practice\n",
      "DEBUG:root:Query: SELECT * FROM measurement_Haematocrit___PCV_16 WHERE PRACTICE_ID = '21515'\n",
      "DEBUG:root:loaded 1 practices from table in 0.1197052001953125 seconds/practice\n",
      "DEBUG:root:Query: SELECT * FROM measurement_Haematocrit_15 WHERE PRACTICE_ID = '21515'\n",
      "DEBUG:root:loaded 1 practices from table in 0.15816807746887207 seconds/practice\n",
      "DEBUG:root:Query: SELECT * FROM measurement_Haemoglobin_A1c_level___IFCC_standardised_6 WHERE PRACTICE_ID = '21515'\n",
      "DEBUG:root:loaded 1 practices from table in 0.12147951126098633 seconds/practice\n",
      "DEBUG:root:Query: SELECT * FROM measurement_Haemoglobin_A1c_level_8 WHERE PRACTICE_ID = '21515'\n",
      "DEBUG:root:loaded 1 practices from table in 0.10104823112487793 seconds/practice\n",
      "DEBUG:root:Query: SELECT * FROM measurement_Haemoglobin_estimation_9 WHERE PRACTICE_ID = '21515'\n",
      "DEBUG:root:loaded 1 practices from table in 0.13573765754699707 seconds/practice\n",
      "DEBUG:root:Query: SELECT * FROM measurement_HbA1c_level__DCCT_aligned__7 WHERE PRACTICE_ID = '21515'\n",
      "DEBUG:root:loaded 1 practices from table in 0.1025400161743164 seconds/practice\n",
      "DEBUG:root:Query: SELECT * FROM measurement_INR___international_normalised_ratio_81 WHERE PRACTICE_ID = '21515'\n",
      "DEBUG:root:loaded 1 practices from table in 0.006269216537475586 seconds/practice\n",
      "DEBUG:root:Query: SELECT * FROM measurement_International_normalised_ratio_82 WHERE PRACTICE_ID = '21515'\n",
      "DEBUG:root:loaded 1 practices from table in 0.13480520248413086 seconds/practice\n",
      "DEBUG:root:Query: SELECT * FROM measurement_Lymphocyte_count_20 WHERE PRACTICE_ID = '21515'\n",
      "DEBUG:root:loaded 1 practices from table in 0.10320782661437988 seconds/practice\n",
      "DEBUG:root:Query: SELECT * FROM measurement_Mean_corpusc_Hb_conc__MCHC__14 WHERE PRACTICE_ID = '21515'\n",
      "DEBUG:root:loaded 1 practices from table in 0.12450170516967773 seconds/practice\n",
      "DEBUG:root:Query: SELECT * FROM measurement_Mean_corpusc_haemoglobin_MCH__13 WHERE PRACTICE_ID = '21515'\n",
      "DEBUG:root:loaded 1 practices from table in 0.12062811851501465 seconds/practice\n",
      "DEBUG:root:Query: SELECT * FROM measurement_Mean_corpuscular_volume__MCV__11 WHERE PRACTICE_ID = '21515'\n",
      "DEBUG:root:loaded 1 practices from table in 0.14857006072998047 seconds/practice\n",
      "DEBUG:root:Query: SELECT * FROM measurement_Monocyte_count_23 WHERE PRACTICE_ID = '21515'\n",
      "DEBUG:root:loaded 1 practices from table in 0.14858198165893555 seconds/practice\n",
      "DEBUG:root:Query: SELECT * FROM measurement_N_terminal_pro_brain_natriuretic_peptide_level_67 WHERE PRACTICE_ID = '21515'\n",
      "DEBUG:root:loaded 1 practices from table in 0.001800537109375 seconds/practice\n",
      "DEBUG:root:Query: SELECT * FROM measurement_Neutrophil_count_19 WHERE PRACTICE_ID = '21515'\n",
      "DEBUG:root:loaded 1 practices from table in 0.08940911293029785 seconds/practice\n",
      "DEBUG:root:Query: SELECT * FROM measurement_Never_smoked_tobacco_85 WHERE PRACTICE_ID = '21515'\n",
      "DEBUG:root:loaded 1 practices from table in 0.12632250785827637 seconds/practice\n",
      "DEBUG:root:Query: SELECT * FROM measurement_Non_HDL_cholesterol_level_108 WHERE PRACTICE_ID = '21515'\n",
      "DEBUG:root:loaded 1 practices from table in 0.047350168228149414 seconds/practice\n",
      "DEBUG:root:Query: SELECT * FROM measurement_O_E___height_1 WHERE PRACTICE_ID = '21515'\n",
      "DEBUG:root:loaded 1 practices from table in 0.08162903785705566 seconds/practice\n",
      "DEBUG:root:Query: SELECT * FROM measurement_O_E___weight_2 WHERE PRACTICE_ID = '21515'\n",
      "DEBUG:root:loaded 1 practices from table in 0.1288590431213379 seconds/practice\n",
      "DEBUG:root:Query: SELECT * FROM measurement_Plasma_B_natriuretic_peptide_level_69 WHERE PRACTICE_ID = '21515'\n",
      "DEBUG:root:loaded 1 practices from table in 0.0016605854034423828 seconds/practice\n",
      "DEBUG:root:Query: SELECT * FROM measurement_Plasma_C_reactive_protein_60 WHERE PRACTICE_ID = '21515'\n",
      "DEBUG:root:loaded 1 practices from table in 0.07211589813232422 seconds/practice\n",
      "DEBUG:root:Query: SELECT * FROM measurement_Plasma_HDL_cholesterol_level_101 WHERE PRACTICE_ID = '21515'\n",
      "DEBUG:root:loaded 1 practices from table in 0.08369779586791992 seconds/practice\n",
      "DEBUG:root:Query: SELECT * FROM measurement_Plasma_LDL_cholesterol_level_104 WHERE PRACTICE_ID = '21515'\n",
      "DEBUG:root:loaded 1 practices from table in 0.03908562660217285 seconds/practice\n",
      "DEBUG:root:Query: SELECT * FROM measurement_Plasma_N_terminal_pro_B_type_natriuretic_peptide_conc_70 WHERE PRACTICE_ID = '21515'\n",
      "DEBUG:root:loaded 1 practices from table in 0.001806020736694336 seconds/practice\n",
      "DEBUG:root:Query: SELECT * FROM measurement_Plasma_TSH_level_73 WHERE PRACTICE_ID = '21515'\n",
      "DEBUG:root:loaded 1 practices from table in 0.0903465747833252 seconds/practice\n",
      "DEBUG:root:Query: SELECT * FROM measurement_Plasma_alanine_aminotransferase_level_44 WHERE PRACTICE_ID = '21515'\n",
      "DEBUG:root:loaded 1 practices from table in 0.10002994537353516 seconds/practice\n",
      "DEBUG:root:Query: SELECT * FROM measurement_Plasma_albumin_level_52 WHERE PRACTICE_ID = '21515'\n",
      "DEBUG:root:loaded 1 practices from table in 0.08817195892333984 seconds/practice\n",
      "DEBUG:root:Query: SELECT * FROM measurement_Plasma_alkaline_phosphatase_level_49 WHERE PRACTICE_ID = '21515'\n",
      "DEBUG:root:loaded 1 practices from table in 0.07660531997680664 seconds/practice\n",
      "DEBUG:root:Query: SELECT * FROM measurement_Plasma_calcium_level_40 WHERE PRACTICE_ID = '21515'\n",
      "DEBUG:root:loaded 1 practices from table in 0.006120443344116211 seconds/practice\n",
      "DEBUG:root:Query: SELECT * FROM measurement_Plasma_cholesterol_HDL_ratio_96 WHERE PRACTICE_ID = '21515'\n",
      "DEBUG:root:loaded 1 practices from table in 0.0016906261444091797 seconds/practice\n",
      "DEBUG:root:Query: SELECT * FROM measurement_Plasma_corrected_calcium_level_43 WHERE PRACTICE_ID = '21515'\n",
      "DEBUG:root:loaded 1 practices from table in 0.08753442764282227 seconds/practice\n",
      "DEBUG:root:Query: SELECT * FROM measurement_Plasma_creatinine_level_32 WHERE PRACTICE_ID = '21515'\n",
      "DEBUG:root:loaded 1 practices from table in 0.07052159309387207 seconds/practice\n",
      "DEBUG:root:Query: SELECT * FROM measurement_Plasma_ferritin_level_62 WHERE PRACTICE_ID = '21515'\n",
      "DEBUG:root:loaded 1 practices from table in 0.006280660629272461 seconds/practice\n",
      "DEBUG:root:Query: SELECT * FROM measurement_Plasma_free_T4_level_77 WHERE PRACTICE_ID = '21515'\n",
      "DEBUG:root:loaded 1 practices from table in 0.0016977787017822266 seconds/practice\n",
      "DEBUG:root:Query: SELECT * FROM measurement_Plasma_gamma_glutamyl_transferase_level_58 WHERE PRACTICE_ID = '21515'\n",
      "DEBUG:root:loaded 1 practices from table in 0.11913657188415527 seconds/practice\n",
      "DEBUG:root:Query: SELECT * FROM measurement_Plasma_potassium_level_27 WHERE PRACTICE_ID = '21515'\n",
      "DEBUG:root:loaded 1 practices from table in 0.06987929344177246 seconds/practice\n",
      "DEBUG:root:Query: SELECT * FROM measurement_Plasma_pro_brain_natriuretic_peptide_level_64 WHERE PRACTICE_ID = '21515'\n",
      "DEBUG:root:loaded 1 practices from table in 0.010161161422729492 seconds/practice\n",
      "DEBUG:root:Query: SELECT * FROM measurement_Plasma_sodium_level_25 WHERE PRACTICE_ID = '21515'\n",
      "DEBUG:root:loaded 1 practices from table in 0.0945892333984375 seconds/practice\n",
      "DEBUG:root:Query: SELECT * FROM measurement_Plasma_total_bilirubin_level_54 WHERE PRACTICE_ID = '21515'\n",
      "DEBUG:root:loaded 1 practices from table in 0.06387734413146973 seconds/practice\n",
      "DEBUG:root:Query: SELECT * FROM measurement_Plasma_total_cholesterol_level_99 WHERE PRACTICE_ID = '21515'\n",
      "DEBUG:root:loaded 1 practices from table in 0.04026460647583008 seconds/practice\n",
      "DEBUG:root:Query: SELECT * FROM measurement_Plasma_triglyceride_level_106 WHERE PRACTICE_ID = '21515'\n",
      "DEBUG:root:loaded 1 practices from table in 0.006535530090332031 seconds/practice\n",
      "DEBUG:root:Query: SELECT * FROM measurement_Plasma_urea_level_30 WHERE PRACTICE_ID = '21515'\n",
      "DEBUG:root:loaded 1 practices from table in 0.07478117942810059 seconds/practice\n",
      "DEBUG:root:Query: SELECT * FROM measurement_Platelet_count_12 WHERE PRACTICE_ID = '21515'\n",
      "DEBUG:root:loaded 1 practices from table in 0.1196889877319336 seconds/practice\n",
      "DEBUG:root:Query: SELECT * FROM measurement_Red_blood_cell__RBC__count_10 WHERE PRACTICE_ID = '21515'\n",
      "DEBUG:root:loaded 1 practices from table in 0.10211420059204102 seconds/practice\n",
      "DEBUG:root:Query: SELECT * FROM measurement_Red_blood_cell_distribution_width_17 WHERE PRACTICE_ID = '21515'\n",
      "DEBUG:root:loaded 1 practices from table in 0.10933589935302734 seconds/practice\n",
      "DEBUG:root:Query: SELECT * FROM measurement_Serum_25_Hydroxy_vitamin_D3_level_88 WHERE PRACTICE_ID = '21515'\n",
      "DEBUG:root:loaded 1 practices from table in 0.0065534114837646484 seconds/practice\n",
      "DEBUG:root:Query: SELECT * FROM measurement_Serum_C_reactive_protein_level_59 WHERE PRACTICE_ID = '21515'\n",
      "DEBUG:root:loaded 1 practices from table in 0.11868619918823242 seconds/practice\n",
      "DEBUG:root:Query: SELECT * FROM measurement_Serum_HDL_cholesterol_level_100 WHERE PRACTICE_ID = '21515'\n",
      "DEBUG:root:loaded 1 practices from table in 0.10095953941345215 seconds/practice\n",
      "DEBUG:root:Query: SELECT * FROM measurement_Serum_LDL_cholesterol_level_102 WHERE PRACTICE_ID = '21515'\n",
      "DEBUG:root:loaded 1 practices from table in 0.1289386749267578 seconds/practice\n",
      "DEBUG:root:Query: SELECT * FROM measurement_Serum_N_terminal_pro_B_type_natriuretic_peptide_conc_68 WHERE PRACTICE_ID = '21515'\n",
      "DEBUG:root:loaded 1 practices from table in 0.0060465335845947266 seconds/practice\n",
      "DEBUG:root:Query: SELECT * FROM measurement_Serum_T4_level_78 WHERE PRACTICE_ID = '21515'\n",
      "DEBUG:root:loaded 1 practices from table in 0.0018208026885986328 seconds/practice\n",
      "DEBUG:root:Query: SELECT * FROM measurement_Serum_TSH_level_71 WHERE PRACTICE_ID = '21515'\n",
      "DEBUG:root:loaded 1 practices from table in 0.11152791976928711 seconds/practice\n",
      "DEBUG:root:Query: SELECT * FROM measurement_Serum_alanine_aminotransferase_level_45 WHERE PRACTICE_ID = '21515'\n",
      "DEBUG:root:loaded 1 practices from table in 0.10795450210571289 seconds/practice\n",
      "DEBUG:root:Query: SELECT * FROM measurement_Serum_albumin_51 WHERE PRACTICE_ID = '21515'\n",
      "DEBUG:root:loaded 1 practices from table in 0.11408829689025879 seconds/practice\n",
      "DEBUG:root:Query: SELECT * FROM measurement_Serum_alkaline_phosphatase_50 WHERE PRACTICE_ID = '21515'\n",
      "DEBUG:root:loaded 1 practices from table in 0.11474347114562988 seconds/practice\n",
      "DEBUG:root:Query: SELECT * FROM measurement_Serum_bilirubin_level_53 WHERE PRACTICE_ID = '21515'\n",
      "DEBUG:root:loaded 1 practices from table in 0.10021209716796875 seconds/practice\n",
      "DEBUG:root:Query: SELECT * FROM measurement_Serum_calcium_39 WHERE PRACTICE_ID = '21515'\n",
      "DEBUG:root:loaded 1 practices from table in 0.12627124786376953 seconds/practice\n",
      "DEBUG:root:Query: SELECT * FROM measurement_Serum_cholesterol_97 WHERE PRACTICE_ID = '21515'\n",
      "DEBUG:root:loaded 1 practices from table in 0.12419986724853516 seconds/practice\n",
      "DEBUG:root:Query: SELECT * FROM measurement_Serum_cholesterol_HDL_ratio_94 WHERE PRACTICE_ID = '21515'\n",
      "DEBUG:root:loaded 1 practices from table in 0.08095049858093262 seconds/practice\n",
      "DEBUG:root:Query: SELECT * FROM measurement_Serum_creatinine_31 WHERE PRACTICE_ID = '21515'\n",
      "DEBUG:root:loaded 1 practices from table in 0.130875825881958 seconds/practice\n",
      "DEBUG:root:Query: SELECT * FROM measurement_Serum_ferritin_63 WHERE PRACTICE_ID = '21515'\n",
      "DEBUG:root:loaded 1 practices from table in 0.0990760326385498 seconds/practice\n",
      "DEBUG:root:Query: SELECT * FROM measurement_Serum_folate_80 WHERE PRACTICE_ID = '21515'\n",
      "DEBUG:root:loaded 1 practices from table in 0.1457064151763916 seconds/practice\n",
      "DEBUG:root:Query: SELECT * FROM measurement_Serum_free_T4_level_75 WHERE PRACTICE_ID = '21515'\n",
      "DEBUG:root:loaded 1 practices from table in 0.11449313163757324 seconds/practice\n",
      "DEBUG:root:Query: SELECT * FROM measurement_Serum_gamma_glutamyl_transferase_level_57 WHERE PRACTICE_ID = '21515'\n",
      "DEBUG:root:loaded 1 practices from table in 0.14237070083618164 seconds/practice\n",
      "DEBUG:root:Query: SELECT * FROM measurement_Serum_non_high_density_lipoprotein_cholesterol_level_107 WHERE PRACTICE_ID = '21515'\n",
      "DEBUG:root:loaded 1 practices from table in 0.12404465675354004 seconds/practice\n",
      "DEBUG:root:Query: SELECT * FROM measurement_Serum_potassium_26 WHERE PRACTICE_ID = '21515'\n",
      "DEBUG:root:loaded 1 practices from table in 0.14856266975402832 seconds/practice\n",
      "DEBUG:root:Query: SELECT * FROM measurement_Serum_pro_brain_natriuretic_peptide_level_65 WHERE PRACTICE_ID = '21515'\n",
      "DEBUG:root:loaded 1 practices from table in 0.0018143653869628906 seconds/practice\n",
      "DEBUG:root:Query: SELECT * FROM measurement_Serum_sodium_24 WHERE PRACTICE_ID = '21515'\n",
      "DEBUG:root:loaded 1 practices from table in 0.18848180770874023 seconds/practice\n",
      "DEBUG:root:Query: SELECT * FROM measurement_Serum_total_25_hydroxy_vitamin_D_level_87 WHERE PRACTICE_ID = '21515'\n",
      "DEBUG:root:loaded 1 practices from table in 0.04188680648803711 seconds/practice\n",
      "DEBUG:root:Query: SELECT * FROM measurement_Serum_total_bilirubin_level_56 WHERE PRACTICE_ID = '21515'\n",
      "DEBUG:root:loaded 1 practices from table in 0.16308379173278809 seconds/practice\n",
      "DEBUG:root:Query: SELECT * FROM measurement_Serum_total_cholesterol_level_98 WHERE PRACTICE_ID = '21515'\n",
      "DEBUG:root:loaded 1 practices from table in 0.08025741577148438 seconds/practice\n",
      "DEBUG:root:Query: SELECT * FROM measurement_Serum_triglycerides_105 WHERE PRACTICE_ID = '21515'\n",
      "DEBUG:root:loaded 1 practices from table in 0.09988927841186523 seconds/practice\n",
      "DEBUG:root:Query: SELECT * FROM measurement_Serum_urea_level_29 WHERE PRACTICE_ID = '21515'\n",
      "DEBUG:root:loaded 1 practices from table in 0.12218141555786133 seconds/practice\n",
      "DEBUG:root:Query: SELECT * FROM measurement_Serum_vitamin_B12_79 WHERE PRACTICE_ID = '21515'\n",
      "DEBUG:root:loaded 1 practices from table in 0.16422390937805176 seconds/practice\n",
      "DEBUG:root:Query: SELECT * FROM measurement_Serum_vitamin_D2_level_89 WHERE PRACTICE_ID = '21515'\n",
      "DEBUG:root:loaded 1 practices from table in 0.0017323493957519531 seconds/practice\n",
      "DEBUG:root:Query: SELECT * FROM measurement_Serum_vitamin_D_86 WHERE PRACTICE_ID = '21515'\n",
      "DEBUG:root:loaded 1 practices from table in 0.006391286849975586 seconds/practice\n",
      "DEBUG:root:Query: SELECT * FROM measurement_Systolic_blood_pressure_4 WHERE PRACTICE_ID = '21515'\n",
      "DEBUG:root:loaded 1 practices from table in 0.1966686248779297 seconds/practice\n",
      "DEBUG:root:Query: SELECT * FROM measurement_TSH___thyroid_stim_hormone_72 WHERE PRACTICE_ID = '21515'\n",
      "DEBUG:root:loaded 1 practices from table in 0.048657894134521484 seconds/practice\n",
      "DEBUG:root:Query: SELECT * FROM measurement_TSH_level_74 WHERE PRACTICE_ID = '21515'\n",
      "DEBUG:root:loaded 1 practices from table in 0.001706838607788086 seconds/practice\n",
      "DEBUG:root:Query: SELECT * FROM measurement_Total_25_hydroxyvitamin_D_level_91 WHERE PRACTICE_ID = '21515'\n",
      "DEBUG:root:loaded 1 practices from table in 0.006506204605102539 seconds/practice\n",
      "DEBUG:root:Query: SELECT * FROM measurement_Total_alkaline_phosphatase_48 WHERE PRACTICE_ID = '21515'\n",
      "DEBUG:root:loaded 1 practices from table in 0.10138297080993652 seconds/practice\n",
      "DEBUG:root:Query: SELECT * FROM measurement_Total_bilirubin_55 WHERE PRACTICE_ID = '21515'\n",
      "DEBUG:root:loaded 1 practices from table in 0.03672981262207031 seconds/practice\n",
      "DEBUG:root:Query: SELECT * FROM measurement_Total_cholesterol_HDL_ratio_95 WHERE PRACTICE_ID = '21515'\n",
      "DEBUG:root:loaded 1 practices from table in 0.11889839172363281 seconds/practice\n",
      "DEBUG:root:Query: SELECT * FROM measurement_Total_white_cell_count_18 WHERE PRACTICE_ID = '21515'\n",
      "DEBUG:root:loaded 1 practices from table in 0.12627196311950684 seconds/practice\n",
      "DEBUG:root:Query: SELECT * FROM measurement_Urine_albumin_creatinine_ratio_35 WHERE PRACTICE_ID = '21515'\n",
      "DEBUG:root:loaded 1 practices from table in 0.07872653007507324 seconds/practice\n",
      "DEBUG:root:Query: SELECT * FROM measurement_Urine_microalbumin_creatinine_ratio_36 WHERE PRACTICE_ID = '21515'\n",
      "DEBUG:root:loaded 1 practices from table in 0.0062408447265625 seconds/practice\n",
      "DEBUG:root:Query: SELECT * FROM measurement_eGFR_using_creatinine_CKD_EPI_per_1_73_square_metres_33 WHERE PRACTICE_ID = '21515'\n",
      "DEBUG:root:loaded 1 practices from table in 0.07482290267944336 seconds/practice\n",
      "DEBUG:root:Dropping missing measurements\n",
      "DEBUG:root:Removing patients with no observed events\n"
     ]
    },
    {
     "name": "stdout",
     "output_type": "stream",
     "text": [
      "collector took 9.00394058227539 seconds\n",
      "collating events took 0.4264397621154785 seconds\n",
      "{'lazy_static_table': <polars.LazyFrame object at 0x7F41C85A7040>, 'lazy_diagnosis_table': <polars.LazyFrame object at 0x7F413E9DC6A0>, 'lazy_measurement_25_Hydroxyvitamin_D2_level_92': <polars.LazyFrame object at 0x7F410F9CD690>, 'lazy_measurement_25_Hydroxyvitamin_D3_level_90': <polars.LazyFrame object at 0x7F41CFA10E80>, 'lazy_measurement_AST___aspartate_transam_SGOT__46': <polars.LazyFrame object at 0x7F410F9CCAF0>, 'lazy_measurement_AST_serum_level_47': <polars.LazyFrame object at 0x7F410F9CD8A0>, 'lazy_measurement_Albumin___creatinine_ratio_37': <polars.LazyFrame object at 0x7F410F9CD840>, 'lazy_measurement_Basophil_count_22': <polars.LazyFrame object at 0x7F410F9CE4D0>, 'lazy_measurement_Blood_calcium_level_38': <polars.LazyFrame object at 0x7F4121A9DCC0>, 'lazy_measurement_Blood_urea_28': <polars.LazyFrame object at 0x7F410F9CE1A0>, 'lazy_measurement_Body_mass_index_3': <polars.LazyFrame object at 0x7F410F9CD780>, 'lazy_measurement_Brain_natriuretic_peptide_level_66': <polars.LazyFrame object at 0x7F410F9CE2F0>, 'lazy_measurement_Calcium_adjusted_level_41': <polars.LazyFrame object at 0x7F410F9CDE70>, 'lazy_measurement_Calculated_LDL_cholesterol_level_103': <polars.LazyFrame object at 0x7F410F9CE1D0>, 'lazy_measurement_Combined_total_vitamin_D2_and_D3_level_93': <polars.LazyFrame object at 0x7F410F9CE260>, 'lazy_measurement_Corrected_serum_calcium_level_42': <polars.LazyFrame object at 0x7F410F9CE6E0>, 'lazy_measurement_Current_smoker_83': <polars.LazyFrame object at 0x7F410F9CE620>, 'lazy_measurement_Diastolic_blood_pressure_5': <polars.LazyFrame object at 0x7F410F9CE680>, 'lazy_measurement_Eosinophil_count_21': <polars.LazyFrame object at 0x7F410F9CD120>, 'lazy_measurement_Erythrocyte_sedimentation_rate_61': <polars.LazyFrame object at 0x7F410F9CD8D0>, 'lazy_measurement_Ex_smoker_84': <polars.LazyFrame object at 0x7F410F9CD2D0>, 'lazy_measurement_Free_T4_level_76': <polars.LazyFrame object at 0x7F410F9CE350>, 'lazy_measurement_GFR_calculated_abbreviated_MDRD_34': <polars.LazyFrame object at 0x7F410F9CC070>, 'lazy_measurement_Haematocrit___PCV_16': <polars.LazyFrame object at 0x7F410F9CD270>, 'lazy_measurement_Haematocrit_15': <polars.LazyFrame object at 0x7F410F9CE320>, 'lazy_measurement_Haemoglobin_A1c_level___IFCC_standardised_6': <polars.LazyFrame object at 0x7F410F9CDC00>, 'lazy_measurement_Haemoglobin_A1c_level_8': <polars.LazyFrame object at 0x7F410F9CDF00>, 'lazy_measurement_Haemoglobin_estimation_9': <polars.LazyFrame object at 0x7F410F9CC130>, 'lazy_measurement_HbA1c_level__DCCT_aligned__7': <polars.LazyFrame object at 0x7F410F9CE710>, 'lazy_measurement_INR___international_normalised_ratio_81': <polars.LazyFrame object at 0x7F410F9CE230>, 'lazy_measurement_International_normalised_ratio_82': <polars.LazyFrame object at 0x7F410F9CE050>, 'lazy_measurement_Lymphocyte_count_20': <polars.LazyFrame object at 0x7F410F9CD240>, 'lazy_measurement_Mean_corpusc_Hb_conc__MCHC__14': <polars.LazyFrame object at 0x7F410F9CDCF0>, 'lazy_measurement_Mean_corpusc_haemoglobin_MCH__13': <polars.LazyFrame object at 0x7F410F9CCA30>, 'lazy_measurement_Mean_corpuscular_volume__MCV__11': <polars.LazyFrame object at 0x7F410F9CD720>, 'lazy_measurement_Monocyte_count_23': <polars.LazyFrame object at 0x7F410F9CDF60>, 'lazy_measurement_N_terminal_pro_brain_natriuretic_peptide_level_67': <polars.LazyFrame object at 0x7F410F9CD900>, 'lazy_measurement_Neutrophil_count_19': <polars.LazyFrame object at 0x7F410F9CD870>, 'lazy_measurement_Never_smoked_tobacco_85': <polars.LazyFrame object at 0x7F410F9CE380>, 'lazy_measurement_Non_HDL_cholesterol_level_108': <polars.LazyFrame object at 0x7F410F9CDED0>, 'lazy_measurement_O_E___height_1': <polars.LazyFrame object at 0x7F410F9CCF40>, 'lazy_measurement_O_E___weight_2': <polars.LazyFrame object at 0x7F410F9CCD30>, 'lazy_measurement_Plasma_B_natriuretic_peptide_level_69': <polars.LazyFrame object at 0x7F410F9CD360>, 'lazy_measurement_Plasma_C_reactive_protein_60': <polars.LazyFrame object at 0x7F410F9CC7C0>, 'lazy_measurement_Plasma_HDL_cholesterol_level_101': <polars.LazyFrame object at 0x7F410F9CD990>, 'lazy_measurement_Plasma_LDL_cholesterol_level_104': <polars.LazyFrame object at 0x7F410F9CE410>, 'lazy_measurement_Plasma_TSH_level_73': <polars.LazyFrame object at 0x7F413ADCDDB0>, 'lazy_measurement_Plasma_alanine_aminotransferase_level_44': <polars.LazyFrame object at 0x7F410F9CE440>, 'lazy_measurement_Plasma_albumin_level_52': <polars.LazyFrame object at 0x7F410C610760>, 'lazy_measurement_Plasma_alkaline_phosphatase_level_49': <polars.LazyFrame object at 0x7F410C6106D0>, 'lazy_measurement_Plasma_calcium_level_40': <polars.LazyFrame object at 0x7F410F9CD390>, 'lazy_measurement_Plasma_cholesterol_HDL_ratio_96': <polars.LazyFrame object at 0x7F410F9CD300>, 'lazy_measurement_Plasma_corrected_calcium_level_43': <polars.LazyFrame object at 0x7F410C61E830>, 'lazy_measurement_Plasma_creatinine_level_32': <polars.LazyFrame object at 0x7F410F9CD090>, 'lazy_measurement_Plasma_ferritin_level_62': <polars.LazyFrame object at 0x7F410F9CD1E0>, 'lazy_measurement_Plasma_free_T4_level_77': <polars.LazyFrame object at 0x7F410F9CD810>, 'lazy_measurement_Plasma_gamma_glutamyl_transferase_level_58': <polars.LazyFrame object at 0x7F410F9CD1B0>, 'lazy_measurement_Plasma_potassium_level_27': <polars.LazyFrame object at 0x7F412034C4C0>, 'lazy_measurement_Plasma_pro_brain_natriuretic_peptide_level_64': <polars.LazyFrame object at 0x7F412034C250>, 'lazy_measurement_Plasma_sodium_level_25': <polars.LazyFrame object at 0x7F412034C0D0>, 'lazy_measurement_Plasma_total_bilirubin_level_54': <polars.LazyFrame object at 0x7F412034C340>, 'lazy_measurement_Plasma_total_cholesterol_level_99': <polars.LazyFrame object at 0x7F412034C280>, 'lazy_measurement_Plasma_triglyceride_level_106': <polars.LazyFrame object at 0x7F412034C430>, 'lazy_measurement_Plasma_urea_level_30': <polars.LazyFrame object at 0x7F412034CCA0>, 'lazy_measurement_Platelet_count_12': <polars.LazyFrame object at 0x7F412034C1F0>, 'lazy_measurement_Red_blood_cell__RBC__count_10': <polars.LazyFrame object at 0x7F412034C160>, 'lazy_measurement_Red_blood_cell_distribution_width_17': <polars.LazyFrame object at 0x7F412034C070>, 'lazy_measurement_Serum_25_Hydroxy_vitamin_D3_level_88': <polars.LazyFrame object at 0x7F412034CDC0>, 'lazy_measurement_Serum_C_reactive_protein_level_59': <polars.LazyFrame object at 0x7F412034CE20>, 'lazy_measurement_Serum_HDL_cholesterol_level_100': <polars.LazyFrame object at 0x7F412034D150>, 'lazy_measurement_Serum_LDL_cholesterol_level_102': <polars.LazyFrame object at 0x7F412034C370>, 'lazy_measurement_Serum_N_terminal_pro_B_type_natriuretic_peptide_conc_68': <polars.LazyFrame object at 0x7F412034C0A0>, 'lazy_measurement_Serum_T4_level_78': <polars.LazyFrame object at 0x7F412034C220>, 'lazy_measurement_Serum_TSH_level_71': <polars.LazyFrame object at 0x7F412034C6D0>, 'lazy_measurement_Serum_alanine_aminotransferase_level_45': <polars.LazyFrame object at 0x7F412034C040>, 'lazy_measurement_Serum_albumin_51': <polars.LazyFrame object at 0x7F412034D090>, 'lazy_measurement_Serum_alkaline_phosphatase_50': <polars.LazyFrame object at 0x7F412034C790>, 'lazy_measurement_Serum_bilirubin_level_53': <polars.LazyFrame object at 0x7F412034D1B0>, 'lazy_measurement_Serum_calcium_39': <polars.LazyFrame object at 0x7F412034C580>, 'lazy_measurement_Serum_cholesterol_97': <polars.LazyFrame object at 0x7F412034CF40>, 'lazy_measurement_Serum_cholesterol_HDL_ratio_94': <polars.LazyFrame object at 0x7F412034CA90>, 'lazy_measurement_Serum_creatinine_31': <polars.LazyFrame object at 0x7F412034D0C0>, 'lazy_measurement_Serum_ferritin_63': <polars.LazyFrame object at 0x7F412034C310>, 'lazy_measurement_Serum_folate_80': <polars.LazyFrame object at 0x7F412034C670>, 'lazy_measurement_Serum_free_T4_level_75': <polars.LazyFrame object at 0x7F412034C6A0>, 'lazy_measurement_Serum_gamma_glutamyl_transferase_level_57': <polars.LazyFrame object at 0x7F412034CCD0>, 'lazy_measurement_Serum_non_high_density_lipoprotein_cholesterol_level_107': <polars.LazyFrame object at 0x7F412034C7F0>, 'lazy_measurement_Serum_potassium_26': <polars.LazyFrame object at 0x7F412034C910>, 'lazy_measurement_Serum_pro_brain_natriuretic_peptide_level_65': <polars.LazyFrame object at 0x7F412034C130>, 'lazy_measurement_Serum_sodium_24': <polars.LazyFrame object at 0x7F412034CC40>, 'lazy_measurement_Serum_total_25_hydroxy_vitamin_D_level_87': <polars.LazyFrame object at 0x7F412034D0F0>, 'lazy_measurement_Serum_total_bilirubin_level_56': <polars.LazyFrame object at 0x7F412034CD90>, 'lazy_measurement_Serum_total_cholesterol_level_98': <polars.LazyFrame object at 0x7F412034C4F0>, 'lazy_measurement_Serum_triglycerides_105': <polars.LazyFrame object at 0x7F412034C700>, 'lazy_measurement_Serum_urea_level_29': <polars.LazyFrame object at 0x7F412034CAC0>, 'lazy_measurement_Serum_vitamin_B12_79': <polars.LazyFrame object at 0x7F412034CEB0>, 'lazy_measurement_Serum_vitamin_D2_level_89': <polars.LazyFrame object at 0x7F412034C9D0>, 'lazy_measurement_Serum_vitamin_D_86': <polars.LazyFrame object at 0x7F412034C820>, 'lazy_measurement_Systolic_blood_pressure_4': <polars.LazyFrame object at 0x7F412034CE50>, 'lazy_measurement_TSH___thyroid_stim_hormone_72': <polars.LazyFrame object at 0x7F4120270FD0>, 'lazy_measurement_TSH_level_74': <polars.LazyFrame object at 0x7F412034C940>, 'lazy_measurement_Total_25_hydroxyvitamin_D_level_91': <polars.LazyFrame object at 0x7F4120271000>, 'lazy_measurement_Total_alkaline_phosphatase_48': <polars.LazyFrame object at 0x7F412034CD60>, 'lazy_measurement_Total_bilirubin_55': <polars.LazyFrame object at 0x7F4120272440>, 'lazy_measurement_Total_cholesterol_HDL_ratio_95': <polars.LazyFrame object at 0x7F41215995D0>, 'lazy_measurement_Total_white_cell_count_18': <polars.LazyFrame object at 0x7F4121599D20>, 'lazy_measurement_Urine_albumin_creatinine_ratio_35': <polars.LazyFrame object at 0x7F412159B550>, 'lazy_measurement_Urine_microalbumin_creatinine_ratio_36': <polars.LazyFrame object at 0x7F412159B6D0>, 'lazy_measurement_eGFR_using_creatinine_CKD_EPI_per_1_73_square_metres_33': <polars.LazyFrame object at 0x7F412159ADA0>}\n",
      "lazy_static_table\n"
     ]
    },
    {
     "data": {
      "text/html": [
       "<div><style>\n",
       ".dataframe > thead > tr > th,\n",
       ".dataframe > tbody > tr > td {\n",
       "  text-align: right;\n",
       "}\n",
       "</style>\n",
       "<small>shape: (5, 10)</small><table border=\"1\" class=\"dataframe\"><thead><tr><th>PRACTICE_ID</th><th>PATIENT_ID</th><th>ETHNICITY</th><th>YEAR_OF_BIRTH</th><th>SEX</th><th>COUNTRY</th><th>HEALTH_AUTH</th><th>INDEX_DATE</th><th>START_DATE</th><th>END_DATE</th></tr><tr><td>i64</td><td>i64</td><td>str</td><td>str</td><td>str</td><td>str</td><td>str</td><td>str</td><td>str</td><td>str</td></tr></thead><tbody><tr><td>21515</td><td>5954183621515</td><td>&quot;WHITE&quot;</td><td>&quot;2018-06-15&quot;</td><td>&quot;M&quot;</td><td>&quot;E&quot;</td><td>&quot;North West&quot;</td><td>&quot;2019-06-18&quot;</td><td>&quot;2019-06-18&quot;</td><td>&quot;2022-03-19&quot;</td></tr><tr><td>21515</td><td>5954184321515</td><td>&quot;WHITE&quot;</td><td>&quot;1990-07-15&quot;</td><td>&quot;F&quot;</td><td>&quot;E&quot;</td><td>&quot;North West&quot;</td><td>&quot;2005-05-14&quot;</td><td>&quot;2005-05-14&quot;</td><td>&quot;2022-03-19&quot;</td></tr><tr><td>21515</td><td>5954184721515</td><td>&quot;WHITE&quot;</td><td>&quot;2011-02-15&quot;</td><td>&quot;M&quot;</td><td>&quot;E&quot;</td><td>&quot;North West&quot;</td><td>&quot;2012-03-22&quot;</td><td>&quot;2012-03-22&quot;</td><td>&quot;2013-11-16&quot;</td></tr><tr><td>21515</td><td>5954185221515</td><td>&quot;MISSING&quot;</td><td>&quot;2003-07-15&quot;</td><td>&quot;M&quot;</td><td>&quot;E&quot;</td><td>&quot;North West&quot;</td><td>&quot;2005-01-01&quot;</td><td>&quot;2005-01-01&quot;</td><td>&quot;2022-03-19&quot;</td></tr><tr><td>21515</td><td>5954185421515</td><td>&quot;MISSING&quot;</td><td>&quot;2001-07-15&quot;</td><td>&quot;M&quot;</td><td>&quot;E&quot;</td><td>&quot;North West&quot;</td><td>&quot;2005-02-25&quot;</td><td>&quot;2005-02-25&quot;</td><td>&quot;2022-03-19&quot;</td></tr></tbody></table></div>"
      ],
      "text/plain": [
       "shape: (5, 10)\n",
       "┌───────────┬──────────┬────────────┬────────────┬───┬───────────┬──────────┬──────────┬───────────┐\n",
       "│ PRACTICE_ ┆ PATIENT_ ┆ ETHNICITY  ┆ YEAR_OF_BI ┆ … ┆ HEALTH_AU ┆ INDEX_DA ┆ START_DA ┆ END_DATE  │\n",
       "│ ID        ┆ ID       ┆ ---        ┆ RTH        ┆   ┆ TH        ┆ TE       ┆ TE       ┆ ---       │\n",
       "│ ---       ┆ ---      ┆ str        ┆ ---        ┆   ┆ ---       ┆ ---      ┆ ---      ┆ str       │\n",
       "│ i64       ┆ i64      ┆            ┆ str        ┆   ┆ str       ┆ str      ┆ str      ┆           │\n",
       "╞═══════════╪══════════╪════════════╪════════════╪═══╪═══════════╪══════════╪══════════╪═══════════╡\n",
       "│ 21515     ┆ 59541836 ┆ WHITE      ┆ 2018-06-15 ┆ … ┆ North     ┆ 2019-06- ┆ 2019-06- ┆ 2022-03-1 │\n",
       "│           ┆ 21515    ┆            ┆            ┆   ┆ West      ┆ 18       ┆ 18       ┆ 9         │\n",
       "│ 21515     ┆ 59541843 ┆ WHITE      ┆ 1990-07-15 ┆ … ┆ North     ┆ 2005-05- ┆ 2005-05- ┆ 2022-03-1 │\n",
       "│           ┆ 21515    ┆            ┆            ┆   ┆ West      ┆ 14       ┆ 14       ┆ 9         │\n",
       "│ 21515     ┆ 59541847 ┆ WHITE      ┆ 2011-02-15 ┆ … ┆ North     ┆ 2012-03- ┆ 2012-03- ┆ 2013-11-1 │\n",
       "│           ┆ 21515    ┆            ┆            ┆   ┆ West      ┆ 22       ┆ 22       ┆ 6         │\n",
       "│ 21515     ┆ 59541852 ┆ MISSING    ┆ 2003-07-15 ┆ … ┆ North     ┆ 2005-01- ┆ 2005-01- ┆ 2022-03-1 │\n",
       "│           ┆ 21515    ┆            ┆            ┆   ┆ West      ┆ 01       ┆ 01       ┆ 9         │\n",
       "│ 21515     ┆ 59541854 ┆ MISSING    ┆ 2001-07-15 ┆ … ┆ North     ┆ 2005-02- ┆ 2005-02- ┆ 2022-03-1 │\n",
       "│           ┆ 21515    ┆            ┆            ┆   ┆ West      ┆ 25       ┆ 25       ┆ 9         │\n",
       "└───────────┴──────────┴────────────┴────────────┴───┴───────────┴──────────┴──────────┴───────────┘"
      ]
     },
     "metadata": {},
     "output_type": "display_data"
    },
    {
     "name": "stdout",
     "output_type": "stream",
     "text": [
      "lazy_diagnosis_table\n"
     ]
    },
    {
     "data": {
      "text/html": [
       "<div><style>\n",
       ".dataframe > thead > tr > th,\n",
       ".dataframe > tbody > tr > td {\n",
       "  text-align: right;\n",
       "}\n",
       "</style>\n",
       "<small>shape: (5, 4)</small><table border=\"1\" class=\"dataframe\"><thead><tr><th>PRACTICE_ID</th><th>PATIENT_ID</th><th>EVENT</th><th>DATE</th></tr><tr><td>i64</td><td>i64</td><td>str</td><td>str</td></tr></thead><tbody><tr><td>21515</td><td>5954578221515</td><td>&quot;AF&quot;</td><td>&quot;1999-12-03&quot;</td></tr><tr><td>21515</td><td>5954766021515</td><td>&quot;AF&quot;</td><td>&quot;2008-05-21&quot;</td></tr><tr><td>21515</td><td>5954422621515</td><td>&quot;AF&quot;</td><td>&quot;2017-04-24&quot;</td></tr><tr><td>21515</td><td>5954257921515</td><td>&quot;AF&quot;</td><td>&quot;2001-08-17&quot;</td></tr><tr><td>21515</td><td>5955535121515</td><td>&quot;AF&quot;</td><td>&quot;2004-01-27&quot;</td></tr></tbody></table></div>"
      ],
      "text/plain": [
       "shape: (5, 4)\n",
       "┌─────────────┬───────────────┬───────┬────────────┐\n",
       "│ PRACTICE_ID ┆ PATIENT_ID    ┆ EVENT ┆ DATE       │\n",
       "│ ---         ┆ ---           ┆ ---   ┆ ---        │\n",
       "│ i64         ┆ i64           ┆ str   ┆ str        │\n",
       "╞═════════════╪═══════════════╪═══════╪════════════╡\n",
       "│ 21515       ┆ 5954578221515 ┆ AF    ┆ 1999-12-03 │\n",
       "│ 21515       ┆ 5954766021515 ┆ AF    ┆ 2008-05-21 │\n",
       "│ 21515       ┆ 5954422621515 ┆ AF    ┆ 2017-04-24 │\n",
       "│ 21515       ┆ 5954257921515 ┆ AF    ┆ 2001-08-17 │\n",
       "│ 21515       ┆ 5955535121515 ┆ AF    ┆ 2004-01-27 │\n",
       "└─────────────┴───────────────┴───────┴────────────┘"
      ]
     },
     "metadata": {},
     "output_type": "display_data"
    },
    {
     "name": "stdout",
     "output_type": "stream",
     "text": [
      "lazy_measurement_25_Hydroxyvitamin_D2_level_92\n"
     ]
    },
    {
     "data": {
      "text/html": [
       "<div><style>\n",
       ".dataframe > thead > tr > th,\n",
       ".dataframe > tbody > tr > td {\n",
       "  text-align: right;\n",
       "}\n",
       "</style>\n",
       "<small>shape: (5, 5)</small><table border=\"1\" class=\"dataframe\"><thead><tr><th>PRACTICE_ID</th><th>PATIENT_ID</th><th>EVENT</th><th>VALUE</th><th>DATE</th></tr><tr><td>i64</td><td>i64</td><td>str</td><td>f64</td><td>str</td></tr></thead><tbody><tr><td>21515</td><td>5954189621515</td><td>&quot;25_Hydroxyvita…</td><td>1.0</td><td>&quot;2013-01-30&quot;</td></tr><tr><td>21515</td><td>5954189621515</td><td>&quot;25_Hydroxyvita…</td><td>1.0</td><td>&quot;2013-07-29&quot;</td></tr><tr><td>21515</td><td>5954189621515</td><td>&quot;25_Hydroxyvita…</td><td>1.0</td><td>&quot;2014-02-18&quot;</td></tr><tr><td>21515</td><td>5954189621515</td><td>&quot;25_Hydroxyvita…</td><td>1.0</td><td>&quot;2016-04-26&quot;</td></tr><tr><td>21515</td><td>5954591021515</td><td>&quot;25_Hydroxyvita…</td><td>5.0</td><td>&quot;2017-03-25&quot;</td></tr></tbody></table></div>"
      ],
      "text/plain": [
       "shape: (5, 5)\n",
       "┌─────────────┬───────────────┬───────────────────────────────┬───────┬────────────┐\n",
       "│ PRACTICE_ID ┆ PATIENT_ID    ┆ EVENT                         ┆ VALUE ┆ DATE       │\n",
       "│ ---         ┆ ---           ┆ ---                           ┆ ---   ┆ ---        │\n",
       "│ i64         ┆ i64           ┆ str                           ┆ f64   ┆ str        │\n",
       "╞═════════════╪═══════════════╪═══════════════════════════════╪═══════╪════════════╡\n",
       "│ 21515       ┆ 5954189621515 ┆ 25_Hydroxyvitamin_D2_level_92 ┆ 1.0   ┆ 2013-01-30 │\n",
       "│ 21515       ┆ 5954189621515 ┆ 25_Hydroxyvitamin_D2_level_92 ┆ 1.0   ┆ 2013-07-29 │\n",
       "│ 21515       ┆ 5954189621515 ┆ 25_Hydroxyvitamin_D2_level_92 ┆ 1.0   ┆ 2014-02-18 │\n",
       "│ 21515       ┆ 5954189621515 ┆ 25_Hydroxyvitamin_D2_level_92 ┆ 1.0   ┆ 2016-04-26 │\n",
       "│ 21515       ┆ 5954591021515 ┆ 25_Hydroxyvitamin_D2_level_92 ┆ 5.0   ┆ 2017-03-25 │\n",
       "└─────────────┴───────────────┴───────────────────────────────┴───────┴────────────┘"
      ]
     },
     "metadata": {},
     "output_type": "display_data"
    },
    {
     "name": "stdout",
     "output_type": "stream",
     "text": [
      "lazy_measurement_25_Hydroxyvitamin_D3_level_90\n"
     ]
    },
    {
     "data": {
      "text/html": [
       "<div><style>\n",
       ".dataframe > thead > tr > th,\n",
       ".dataframe > tbody > tr > td {\n",
       "  text-align: right;\n",
       "}\n",
       "</style>\n",
       "<small>shape: (5, 5)</small><table border=\"1\" class=\"dataframe\"><thead><tr><th>PRACTICE_ID</th><th>PATIENT_ID</th><th>EVENT</th><th>VALUE</th><th>DATE</th></tr><tr><td>i64</td><td>i64</td><td>str</td><td>f64</td><td>str</td></tr></thead><tbody><tr><td>21515</td><td>5954189621515</td><td>&quot;25_Hydroxyvita…</td><td>21.0</td><td>&quot;2013-01-30&quot;</td></tr><tr><td>21515</td><td>5954189621515</td><td>&quot;25_Hydroxyvita…</td><td>37.0</td><td>&quot;2013-07-29&quot;</td></tr><tr><td>21515</td><td>5954189621515</td><td>&quot;25_Hydroxyvita…</td><td>53.0</td><td>&quot;2014-02-18&quot;</td></tr><tr><td>21515</td><td>5954189621515</td><td>&quot;25_Hydroxyvita…</td><td>30.0</td><td>&quot;2016-04-26&quot;</td></tr><tr><td>21515</td><td>5954591021515</td><td>&quot;25_Hydroxyvita…</td><td>37.5</td><td>&quot;2017-03-25&quot;</td></tr></tbody></table></div>"
      ],
      "text/plain": [
       "shape: (5, 5)\n",
       "┌─────────────┬───────────────┬───────────────────────────────┬───────┬────────────┐\n",
       "│ PRACTICE_ID ┆ PATIENT_ID    ┆ EVENT                         ┆ VALUE ┆ DATE       │\n",
       "│ ---         ┆ ---           ┆ ---                           ┆ ---   ┆ ---        │\n",
       "│ i64         ┆ i64           ┆ str                           ┆ f64   ┆ str        │\n",
       "╞═════════════╪═══════════════╪═══════════════════════════════╪═══════╪════════════╡\n",
       "│ 21515       ┆ 5954189621515 ┆ 25_Hydroxyvitamin_D3_level_90 ┆ 21.0  ┆ 2013-01-30 │\n",
       "│ 21515       ┆ 5954189621515 ┆ 25_Hydroxyvitamin_D3_level_90 ┆ 37.0  ┆ 2013-07-29 │\n",
       "│ 21515       ┆ 5954189621515 ┆ 25_Hydroxyvitamin_D3_level_90 ┆ 53.0  ┆ 2014-02-18 │\n",
       "│ 21515       ┆ 5954189621515 ┆ 25_Hydroxyvitamin_D3_level_90 ┆ 30.0  ┆ 2016-04-26 │\n",
       "│ 21515       ┆ 5954591021515 ┆ 25_Hydroxyvitamin_D3_level_90 ┆ 37.5  ┆ 2017-03-25 │\n",
       "└─────────────┴───────────────┴───────────────────────────────┴───────┴────────────┘"
      ]
     },
     "metadata": {},
     "output_type": "display_data"
    },
    {
     "name": "stdout",
     "output_type": "stream",
     "text": [
      "lazy_measurement_AST___aspartate_transam_SGOT__46\n"
     ]
    },
    {
     "data": {
      "text/html": [
       "<div><style>\n",
       ".dataframe > thead > tr > th,\n",
       ".dataframe > tbody > tr > td {\n",
       "  text-align: right;\n",
       "}\n",
       "</style>\n",
       "<small>shape: (5, 5)</small><table border=\"1\" class=\"dataframe\"><thead><tr><th>PRACTICE_ID</th><th>PATIENT_ID</th><th>EVENT</th><th>VALUE</th><th>DATE</th></tr><tr><td>i64</td><td>i64</td><td>str</td><td>f64</td><td>str</td></tr></thead><tbody><tr><td>21515</td><td>5954216921515</td><td>&quot;AST___aspartat…</td><td>24.0</td><td>&quot;2000-06-22&quot;</td></tr><tr><td>21515</td><td>5954414621515</td><td>&quot;AST___aspartat…</td><td>30.0</td><td>&quot;2000-10-25&quot;</td></tr><tr><td>21515</td><td>5954421221515</td><td>&quot;AST___aspartat…</td><td>21.0</td><td>&quot;2000-12-09&quot;</td></tr><tr><td>21515</td><td>5954473521515</td><td>&quot;AST___aspartat…</td><td>24.0</td><td>&quot;2007-05-02&quot;</td></tr><tr><td>21515</td><td>5954479521515</td><td>&quot;AST___aspartat…</td><td>22.0</td><td>&quot;2001-06-11&quot;</td></tr></tbody></table></div>"
      ],
      "text/plain": [
       "shape: (5, 5)\n",
       "┌─────────────┬───────────────┬──────────────────────────────────┬───────┬────────────┐\n",
       "│ PRACTICE_ID ┆ PATIENT_ID    ┆ EVENT                            ┆ VALUE ┆ DATE       │\n",
       "│ ---         ┆ ---           ┆ ---                              ┆ ---   ┆ ---        │\n",
       "│ i64         ┆ i64           ┆ str                              ┆ f64   ┆ str        │\n",
       "╞═════════════╪═══════════════╪══════════════════════════════════╪═══════╪════════════╡\n",
       "│ 21515       ┆ 5954216921515 ┆ AST___aspartate_transam_SGOT__46 ┆ 24.0  ┆ 2000-06-22 │\n",
       "│ 21515       ┆ 5954414621515 ┆ AST___aspartate_transam_SGOT__46 ┆ 30.0  ┆ 2000-10-25 │\n",
       "│ 21515       ┆ 5954421221515 ┆ AST___aspartate_transam_SGOT__46 ┆ 21.0  ┆ 2000-12-09 │\n",
       "│ 21515       ┆ 5954473521515 ┆ AST___aspartate_transam_SGOT__46 ┆ 24.0  ┆ 2007-05-02 │\n",
       "│ 21515       ┆ 5954479521515 ┆ AST___aspartate_transam_SGOT__46 ┆ 22.0  ┆ 2001-06-11 │\n",
       "└─────────────┴───────────────┴──────────────────────────────────┴───────┴────────────┘"
      ]
     },
     "metadata": {},
     "output_type": "display_data"
    },
    {
     "name": "stdout",
     "output_type": "stream",
     "text": [
      "lazy_measurement_AST_serum_level_47\n"
     ]
    },
    {
     "data": {
      "text/html": [
       "<div><style>\n",
       ".dataframe > thead > tr > th,\n",
       ".dataframe > tbody > tr > td {\n",
       "  text-align: right;\n",
       "}\n",
       "</style>\n",
       "<small>shape: (5, 5)</small><table border=\"1\" class=\"dataframe\"><thead><tr><th>PRACTICE_ID</th><th>PATIENT_ID</th><th>EVENT</th><th>VALUE</th><th>DATE</th></tr><tr><td>i64</td><td>i64</td><td>str</td><td>f64</td><td>str</td></tr></thead><tbody><tr><td>21515</td><td>5954208721515</td><td>&quot;AST_serum_leve…</td><td>19.0</td><td>&quot;2014-04-22&quot;</td></tr><tr><td>21515</td><td>5954208721515</td><td>&quot;AST_serum_leve…</td><td>19.0</td><td>&quot;2016-04-01&quot;</td></tr><tr><td>21515</td><td>5954208721515</td><td>&quot;AST_serum_leve…</td><td>14.0</td><td>&quot;2016-11-02&quot;</td></tr><tr><td>21515</td><td>5954208721515</td><td>&quot;AST_serum_leve…</td><td>14.0</td><td>&quot;2018-03-16&quot;</td></tr><tr><td>21515</td><td>5954271021515</td><td>&quot;AST_serum_leve…</td><td>47.0</td><td>&quot;2013-03-25&quot;</td></tr></tbody></table></div>"
      ],
      "text/plain": [
       "shape: (5, 5)\n",
       "┌─────────────┬───────────────┬────────────────────┬───────┬────────────┐\n",
       "│ PRACTICE_ID ┆ PATIENT_ID    ┆ EVENT              ┆ VALUE ┆ DATE       │\n",
       "│ ---         ┆ ---           ┆ ---                ┆ ---   ┆ ---        │\n",
       "│ i64         ┆ i64           ┆ str                ┆ f64   ┆ str        │\n",
       "╞═════════════╪═══════════════╪════════════════════╪═══════╪════════════╡\n",
       "│ 21515       ┆ 5954208721515 ┆ AST_serum_level_47 ┆ 19.0  ┆ 2014-04-22 │\n",
       "│ 21515       ┆ 5954208721515 ┆ AST_serum_level_47 ┆ 19.0  ┆ 2016-04-01 │\n",
       "│ 21515       ┆ 5954208721515 ┆ AST_serum_level_47 ┆ 14.0  ┆ 2016-11-02 │\n",
       "│ 21515       ┆ 5954208721515 ┆ AST_serum_level_47 ┆ 14.0  ┆ 2018-03-16 │\n",
       "│ 21515       ┆ 5954271021515 ┆ AST_serum_level_47 ┆ 47.0  ┆ 2013-03-25 │\n",
       "└─────────────┴───────────────┴────────────────────┴───────┴────────────┘"
      ]
     },
     "metadata": {},
     "output_type": "display_data"
    },
    {
     "name": "stdout",
     "output_type": "stream",
     "text": [
      "lazy_measurement_Albumin___creatinine_ratio_37\n"
     ]
    },
    {
     "data": {
      "text/html": [
       "<div><style>\n",
       ".dataframe > thead > tr > th,\n",
       ".dataframe > tbody > tr > td {\n",
       "  text-align: right;\n",
       "}\n",
       "</style>\n",
       "<small>shape: (5, 5)</small><table border=\"1\" class=\"dataframe\"><thead><tr><th>PRACTICE_ID</th><th>PATIENT_ID</th><th>EVENT</th><th>VALUE</th><th>DATE</th></tr><tr><td>i64</td><td>i64</td><td>str</td><td>f64</td><td>str</td></tr></thead><tbody><tr><td>21515</td><td>5954295621515</td><td>&quot;Albumin___crea…</td><td>null</td><td>&quot;2006-12-05&quot;</td></tr><tr><td>21515</td><td>5954734521515</td><td>&quot;Albumin___crea…</td><td>null</td><td>&quot;2016-05-10&quot;</td></tr><tr><td>21515</td><td>5955855621515</td><td>&quot;Albumin___crea…</td><td>4.19</td><td>&quot;2013-01-09&quot;</td></tr><tr><td>21515</td><td>5955958221515</td><td>&quot;Albumin___crea…</td><td>null</td><td>&quot;2008-06-20&quot;</td></tr><tr><td>21515</td><td>5956074521515</td><td>&quot;Albumin___crea…</td><td>null</td><td>&quot;2006-07-07&quot;</td></tr></tbody></table></div>"
      ],
      "text/plain": [
       "shape: (5, 5)\n",
       "┌─────────────┬───────────────┬───────────────────────────────┬───────┬────────────┐\n",
       "│ PRACTICE_ID ┆ PATIENT_ID    ┆ EVENT                         ┆ VALUE ┆ DATE       │\n",
       "│ ---         ┆ ---           ┆ ---                           ┆ ---   ┆ ---        │\n",
       "│ i64         ┆ i64           ┆ str                           ┆ f64   ┆ str        │\n",
       "╞═════════════╪═══════════════╪═══════════════════════════════╪═══════╪════════════╡\n",
       "│ 21515       ┆ 5954295621515 ┆ Albumin___creatinine_ratio_37 ┆ null  ┆ 2006-12-05 │\n",
       "│ 21515       ┆ 5954734521515 ┆ Albumin___creatinine_ratio_37 ┆ null  ┆ 2016-05-10 │\n",
       "│ 21515       ┆ 5955855621515 ┆ Albumin___creatinine_ratio_37 ┆ 4.19  ┆ 2013-01-09 │\n",
       "│ 21515       ┆ 5955958221515 ┆ Albumin___creatinine_ratio_37 ┆ null  ┆ 2008-06-20 │\n",
       "│ 21515       ┆ 5956074521515 ┆ Albumin___creatinine_ratio_37 ┆ null  ┆ 2006-07-07 │\n",
       "└─────────────┴───────────────┴───────────────────────────────┴───────┴────────────┘"
      ]
     },
     "metadata": {},
     "output_type": "display_data"
    },
    {
     "name": "stdout",
     "output_type": "stream",
     "text": [
      "lazy_measurement_Basophil_count_22\n"
     ]
    },
    {
     "data": {
      "text/html": [
       "<div><style>\n",
       ".dataframe > thead > tr > th,\n",
       ".dataframe > tbody > tr > td {\n",
       "  text-align: right;\n",
       "}\n",
       "</style>\n",
       "<small>shape: (5, 5)</small><table border=\"1\" class=\"dataframe\"><thead><tr><th>PRACTICE_ID</th><th>PATIENT_ID</th><th>EVENT</th><th>VALUE</th><th>DATE</th></tr><tr><td>i64</td><td>i64</td><td>str</td><td>f64</td><td>str</td></tr></thead><tbody><tr><td>21515</td><td>10995640321515</td><td>&quot;Basophil_count…</td><td>0.0</td><td>&quot;2022-01-13&quot;</td></tr><tr><td>21515</td><td>5954187021515</td><td>&quot;Basophil_count…</td><td>0.0</td><td>&quot;2021-11-26&quot;</td></tr><tr><td>21515</td><td>5954187421515</td><td>&quot;Basophil_count…</td><td>0.1</td><td>&quot;2022-01-28&quot;</td></tr><tr><td>21515</td><td>5954188521515</td><td>&quot;Basophil_count…</td><td>0.0</td><td>&quot;2001-12-17&quot;</td></tr><tr><td>21515</td><td>5954189221515</td><td>&quot;Basophil_count…</td><td>0.0</td><td>&quot;2001-01-18&quot;</td></tr></tbody></table></div>"
      ],
      "text/plain": [
       "shape: (5, 5)\n",
       "┌─────────────┬────────────────┬───────────────────┬───────┬────────────┐\n",
       "│ PRACTICE_ID ┆ PATIENT_ID     ┆ EVENT             ┆ VALUE ┆ DATE       │\n",
       "│ ---         ┆ ---            ┆ ---               ┆ ---   ┆ ---        │\n",
       "│ i64         ┆ i64            ┆ str               ┆ f64   ┆ str        │\n",
       "╞═════════════╪════════════════╪═══════════════════╪═══════╪════════════╡\n",
       "│ 21515       ┆ 10995640321515 ┆ Basophil_count_22 ┆ 0.0   ┆ 2022-01-13 │\n",
       "│ 21515       ┆ 5954187021515  ┆ Basophil_count_22 ┆ 0.0   ┆ 2021-11-26 │\n",
       "│ 21515       ┆ 5954187421515  ┆ Basophil_count_22 ┆ 0.1   ┆ 2022-01-28 │\n",
       "│ 21515       ┆ 5954188521515  ┆ Basophil_count_22 ┆ 0.0   ┆ 2001-12-17 │\n",
       "│ 21515       ┆ 5954189221515  ┆ Basophil_count_22 ┆ 0.0   ┆ 2001-01-18 │\n",
       "└─────────────┴────────────────┴───────────────────┴───────┴────────────┘"
      ]
     },
     "metadata": {},
     "output_type": "display_data"
    },
    {
     "name": "stdout",
     "output_type": "stream",
     "text": [
      "lazy_measurement_Blood_calcium_level_38\n"
     ]
    },
    {
     "data": {
      "text/html": [
       "<div><style>\n",
       ".dataframe > thead > tr > th,\n",
       ".dataframe > tbody > tr > td {\n",
       "  text-align: right;\n",
       "}\n",
       "</style>\n",
       "<small>shape: (2, 5)</small><table border=\"1\" class=\"dataframe\"><thead><tr><th>PRACTICE_ID</th><th>PATIENT_ID</th><th>EVENT</th><th>VALUE</th><th>DATE</th></tr><tr><td>i64</td><td>i64</td><td>str</td><td>f64</td><td>str</td></tr></thead><tbody><tr><td>21515</td><td>6503695621515</td><td>&quot;Blood_calcium_…</td><td>2.6</td><td>&quot;2014-02-04&quot;</td></tr><tr><td>21515</td><td>6503695621515</td><td>&quot;Blood_calcium_…</td><td>2.46</td><td>&quot;2014-02-18&quot;</td></tr></tbody></table></div>"
      ],
      "text/plain": [
       "shape: (2, 5)\n",
       "┌─────────────┬───────────────┬────────────────────────┬───────┬────────────┐\n",
       "│ PRACTICE_ID ┆ PATIENT_ID    ┆ EVENT                  ┆ VALUE ┆ DATE       │\n",
       "│ ---         ┆ ---           ┆ ---                    ┆ ---   ┆ ---        │\n",
       "│ i64         ┆ i64           ┆ str                    ┆ f64   ┆ str        │\n",
       "╞═════════════╪═══════════════╪════════════════════════╪═══════╪════════════╡\n",
       "│ 21515       ┆ 6503695621515 ┆ Blood_calcium_level_38 ┆ 2.6   ┆ 2014-02-04 │\n",
       "│ 21515       ┆ 6503695621515 ┆ Blood_calcium_level_38 ┆ 2.46  ┆ 2014-02-18 │\n",
       "└─────────────┴───────────────┴────────────────────────┴───────┴────────────┘"
      ]
     },
     "metadata": {},
     "output_type": "display_data"
    },
    {
     "name": "stdout",
     "output_type": "stream",
     "text": [
      "lazy_measurement_Blood_urea_28\n"
     ]
    },
    {
     "data": {
      "text/html": [
       "<div><style>\n",
       ".dataframe > thead > tr > th,\n",
       ".dataframe > tbody > tr > td {\n",
       "  text-align: right;\n",
       "}\n",
       "</style>\n",
       "<small>shape: (3, 5)</small><table border=\"1\" class=\"dataframe\"><thead><tr><th>PRACTICE_ID</th><th>PATIENT_ID</th><th>EVENT</th><th>VALUE</th><th>DATE</th></tr><tr><td>i64</td><td>i64</td><td>str</td><td>f64</td><td>str</td></tr></thead><tbody><tr><td>21515</td><td>5955213721515</td><td>&quot;Blood_urea_28&quot;</td><td>7.6</td><td>&quot;2014-10-10&quot;</td></tr><tr><td>21515</td><td>5955413721515</td><td>&quot;Blood_urea_28&quot;</td><td>null</td><td>&quot;2006-11-16&quot;</td></tr><tr><td>21515</td><td>5957673321515</td><td>&quot;Blood_urea_28&quot;</td><td>6.3</td><td>&quot;2002-01-31&quot;</td></tr></tbody></table></div>"
      ],
      "text/plain": [
       "shape: (3, 5)\n",
       "┌─────────────┬───────────────┬───────────────┬───────┬────────────┐\n",
       "│ PRACTICE_ID ┆ PATIENT_ID    ┆ EVENT         ┆ VALUE ┆ DATE       │\n",
       "│ ---         ┆ ---           ┆ ---           ┆ ---   ┆ ---        │\n",
       "│ i64         ┆ i64           ┆ str           ┆ f64   ┆ str        │\n",
       "╞═════════════╪═══════════════╪═══════════════╪═══════╪════════════╡\n",
       "│ 21515       ┆ 5955213721515 ┆ Blood_urea_28 ┆ 7.6   ┆ 2014-10-10 │\n",
       "│ 21515       ┆ 5955413721515 ┆ Blood_urea_28 ┆ null  ┆ 2006-11-16 │\n",
       "│ 21515       ┆ 5957673321515 ┆ Blood_urea_28 ┆ 6.3   ┆ 2002-01-31 │\n",
       "└─────────────┴───────────────┴───────────────┴───────┴────────────┘"
      ]
     },
     "metadata": {},
     "output_type": "display_data"
    },
    {
     "name": "stdout",
     "output_type": "stream",
     "text": [
      "lazy_measurement_Body_mass_index_3\n"
     ]
    },
    {
     "data": {
      "text/html": [
       "<div><style>\n",
       ".dataframe > thead > tr > th,\n",
       ".dataframe > tbody > tr > td {\n",
       "  text-align: right;\n",
       "}\n",
       "</style>\n",
       "<small>shape: (5, 5)</small><table border=\"1\" class=\"dataframe\"><thead><tr><th>PRACTICE_ID</th><th>PATIENT_ID</th><th>EVENT</th><th>VALUE</th><th>DATE</th></tr><tr><td>i64</td><td>i64</td><td>str</td><td>f64</td><td>str</td></tr></thead><tbody><tr><td>21515</td><td>10995640321515</td><td>&quot;Body_mass_inde…</td><td>28.28</td><td>&quot;2021-03-25&quot;</td></tr><tr><td>21515</td><td>10995640321515</td><td>&quot;Body_mass_inde…</td><td>28.3</td><td>&quot;2021-03-25&quot;</td></tr><tr><td>21515</td><td>10995640321515</td><td>&quot;Body_mass_inde…</td><td>31.46</td><td>&quot;2021-08-10&quot;</td></tr><tr><td>21515</td><td>10996238021515</td><td>&quot;Body_mass_inde…</td><td>31.9</td><td>&quot;2021-03-25&quot;</td></tr><tr><td>21515</td><td>10996238021515</td><td>&quot;Body_mass_inde…</td><td>31.93</td><td>&quot;2021-03-25&quot;</td></tr></tbody></table></div>"
      ],
      "text/plain": [
       "shape: (5, 5)\n",
       "┌─────────────┬────────────────┬───────────────────┬───────┬────────────┐\n",
       "│ PRACTICE_ID ┆ PATIENT_ID     ┆ EVENT             ┆ VALUE ┆ DATE       │\n",
       "│ ---         ┆ ---            ┆ ---               ┆ ---   ┆ ---        │\n",
       "│ i64         ┆ i64            ┆ str               ┆ f64   ┆ str        │\n",
       "╞═════════════╪════════════════╪═══════════════════╪═══════╪════════════╡\n",
       "│ 21515       ┆ 10995640321515 ┆ Body_mass_index_3 ┆ 28.28 ┆ 2021-03-25 │\n",
       "│ 21515       ┆ 10995640321515 ┆ Body_mass_index_3 ┆ 28.3  ┆ 2021-03-25 │\n",
       "│ 21515       ┆ 10995640321515 ┆ Body_mass_index_3 ┆ 31.46 ┆ 2021-08-10 │\n",
       "│ 21515       ┆ 10996238021515 ┆ Body_mass_index_3 ┆ 31.9  ┆ 2021-03-25 │\n",
       "│ 21515       ┆ 10996238021515 ┆ Body_mass_index_3 ┆ 31.93 ┆ 2021-03-25 │\n",
       "└─────────────┴────────────────┴───────────────────┴───────┴────────────┘"
      ]
     },
     "metadata": {},
     "output_type": "display_data"
    },
    {
     "name": "stdout",
     "output_type": "stream",
     "text": [
      "lazy_measurement_Brain_natriuretic_peptide_level_66\n"
     ]
    },
    {
     "data": {
      "text/html": [
       "<div><style>\n",
       ".dataframe > thead > tr > th,\n",
       ".dataframe > tbody > tr > td {\n",
       "  text-align: right;\n",
       "}\n",
       "</style>\n",
       "<small>shape: (2, 5)</small><table border=\"1\" class=\"dataframe\"><thead><tr><th>PRACTICE_ID</th><th>PATIENT_ID</th><th>EVENT</th><th>VALUE</th><th>DATE</th></tr><tr><td>i64</td><td>i64</td><td>str</td><td>f64</td><td>str</td></tr></thead><tbody><tr><td>21515</td><td>5955957121515</td><td>&quot;Brain_natriure…</td><td>13.0</td><td>&quot;2012-09-07&quot;</td></tr><tr><td>21515</td><td>6909473421515</td><td>&quot;Brain_natriure…</td><td>null</td><td>&quot;2019-08-19&quot;</td></tr></tbody></table></div>"
      ],
      "text/plain": [
       "shape: (2, 5)\n",
       "┌─────────────┬───────────────┬───────────────────────────────────┬───────┬────────────┐\n",
       "│ PRACTICE_ID ┆ PATIENT_ID    ┆ EVENT                             ┆ VALUE ┆ DATE       │\n",
       "│ ---         ┆ ---           ┆ ---                               ┆ ---   ┆ ---        │\n",
       "│ i64         ┆ i64           ┆ str                               ┆ f64   ┆ str        │\n",
       "╞═════════════╪═══════════════╪═══════════════════════════════════╪═══════╪════════════╡\n",
       "│ 21515       ┆ 5955957121515 ┆ Brain_natriuretic_peptide_level_… ┆ 13.0  ┆ 2012-09-07 │\n",
       "│ 21515       ┆ 6909473421515 ┆ Brain_natriuretic_peptide_level_… ┆ null  ┆ 2019-08-19 │\n",
       "└─────────────┴───────────────┴───────────────────────────────────┴───────┴────────────┘"
      ]
     },
     "metadata": {},
     "output_type": "display_data"
    },
    {
     "name": "stdout",
     "output_type": "stream",
     "text": [
      "lazy_measurement_Calcium_adjusted_level_41\n"
     ]
    },
    {
     "data": {
      "text/html": [
       "<div><style>\n",
       ".dataframe > thead > tr > th,\n",
       ".dataframe > tbody > tr > td {\n",
       "  text-align: right;\n",
       "}\n",
       "</style>\n",
       "<small>shape: (5, 5)</small><table border=\"1\" class=\"dataframe\"><thead><tr><th>PRACTICE_ID</th><th>PATIENT_ID</th><th>EVENT</th><th>VALUE</th><th>DATE</th></tr><tr><td>i64</td><td>i64</td><td>str</td><td>f64</td><td>str</td></tr></thead><tbody><tr><td>21515</td><td>5954980921515</td><td>&quot;Calcium_adjust…</td><td>2.24</td><td>&quot;2016-08-16&quot;</td></tr><tr><td>21515</td><td>5955169521515</td><td>&quot;Calcium_adjust…</td><td>2.27</td><td>&quot;2018-02-01&quot;</td></tr><tr><td>21515</td><td>5955277221515</td><td>&quot;Calcium_adjust…</td><td>2.76</td><td>&quot;2018-09-10&quot;</td></tr><tr><td>21515</td><td>5955442021515</td><td>&quot;Calcium_adjust…</td><td>2.48</td><td>&quot;2021-06-14&quot;</td></tr><tr><td>21515</td><td>5955899121515</td><td>&quot;Calcium_adjust…</td><td>2.25</td><td>&quot;2016-10-12&quot;</td></tr></tbody></table></div>"
      ],
      "text/plain": [
       "shape: (5, 5)\n",
       "┌─────────────┬───────────────┬───────────────────────────┬───────┬────────────┐\n",
       "│ PRACTICE_ID ┆ PATIENT_ID    ┆ EVENT                     ┆ VALUE ┆ DATE       │\n",
       "│ ---         ┆ ---           ┆ ---                       ┆ ---   ┆ ---        │\n",
       "│ i64         ┆ i64           ┆ str                       ┆ f64   ┆ str        │\n",
       "╞═════════════╪═══════════════╪═══════════════════════════╪═══════╪════════════╡\n",
       "│ 21515       ┆ 5954980921515 ┆ Calcium_adjusted_level_41 ┆ 2.24  ┆ 2016-08-16 │\n",
       "│ 21515       ┆ 5955169521515 ┆ Calcium_adjusted_level_41 ┆ 2.27  ┆ 2018-02-01 │\n",
       "│ 21515       ┆ 5955277221515 ┆ Calcium_adjusted_level_41 ┆ 2.76  ┆ 2018-09-10 │\n",
       "│ 21515       ┆ 5955442021515 ┆ Calcium_adjusted_level_41 ┆ 2.48  ┆ 2021-06-14 │\n",
       "│ 21515       ┆ 5955899121515 ┆ Calcium_adjusted_level_41 ┆ 2.25  ┆ 2016-10-12 │\n",
       "└─────────────┴───────────────┴───────────────────────────┴───────┴────────────┘"
      ]
     },
     "metadata": {},
     "output_type": "display_data"
    },
    {
     "name": "stdout",
     "output_type": "stream",
     "text": [
      "lazy_measurement_Calculated_LDL_cholesterol_level_103\n"
     ]
    },
    {
     "data": {
      "text/html": [
       "<div><style>\n",
       ".dataframe > thead > tr > th,\n",
       ".dataframe > tbody > tr > td {\n",
       "  text-align: right;\n",
       "}\n",
       "</style>\n",
       "<small>shape: (5, 5)</small><table border=\"1\" class=\"dataframe\"><thead><tr><th>PRACTICE_ID</th><th>PATIENT_ID</th><th>EVENT</th><th>VALUE</th><th>DATE</th></tr><tr><td>i64</td><td>i64</td><td>str</td><td>f64</td><td>str</td></tr></thead><tbody><tr><td>21515</td><td>5954236621515</td><td>&quot;Calculated_LDL…</td><td>2.7</td><td>&quot;2015-05-07&quot;</td></tr><tr><td>21515</td><td>5954308321515</td><td>&quot;Calculated_LDL…</td><td>5.9</td><td>&quot;2022-02-18&quot;</td></tr><tr><td>21515</td><td>5954414421515</td><td>&quot;Calculated_LDL…</td><td>2.7</td><td>&quot;2021-11-23&quot;</td></tr><tr><td>21515</td><td>5954467821515</td><td>&quot;Calculated_LDL…</td><td>2.9</td><td>&quot;2022-02-21&quot;</td></tr><tr><td>21515</td><td>5954476621515</td><td>&quot;Calculated_LDL…</td><td>2.7</td><td>&quot;2021-10-04&quot;</td></tr></tbody></table></div>"
      ],
      "text/plain": [
       "shape: (5, 5)\n",
       "┌─────────────┬───────────────┬───────────────────────────────────┬───────┬────────────┐\n",
       "│ PRACTICE_ID ┆ PATIENT_ID    ┆ EVENT                             ┆ VALUE ┆ DATE       │\n",
       "│ ---         ┆ ---           ┆ ---                               ┆ ---   ┆ ---        │\n",
       "│ i64         ┆ i64           ┆ str                               ┆ f64   ┆ str        │\n",
       "╞═════════════╪═══════════════╪═══════════════════════════════════╪═══════╪════════════╡\n",
       "│ 21515       ┆ 5954236621515 ┆ Calculated_LDL_cholesterol_level… ┆ 2.7   ┆ 2015-05-07 │\n",
       "│ 21515       ┆ 5954308321515 ┆ Calculated_LDL_cholesterol_level… ┆ 5.9   ┆ 2022-02-18 │\n",
       "│ 21515       ┆ 5954414421515 ┆ Calculated_LDL_cholesterol_level… ┆ 2.7   ┆ 2021-11-23 │\n",
       "│ 21515       ┆ 5954467821515 ┆ Calculated_LDL_cholesterol_level… ┆ 2.9   ┆ 2022-02-21 │\n",
       "│ 21515       ┆ 5954476621515 ┆ Calculated_LDL_cholesterol_level… ┆ 2.7   ┆ 2021-10-04 │\n",
       "└─────────────┴───────────────┴───────────────────────────────────┴───────┴────────────┘"
      ]
     },
     "metadata": {},
     "output_type": "display_data"
    },
    {
     "name": "stdout",
     "output_type": "stream",
     "text": [
      "lazy_measurement_Combined_total_vitamin_D2_and_D3_level_93\n"
     ]
    },
    {
     "data": {
      "text/html": [
       "<div><style>\n",
       ".dataframe > thead > tr > th,\n",
       ".dataframe > tbody > tr > td {\n",
       "  text-align: right;\n",
       "}\n",
       "</style>\n",
       "<small>shape: (5, 5)</small><table border=\"1\" class=\"dataframe\"><thead><tr><th>PRACTICE_ID</th><th>PATIENT_ID</th><th>EVENT</th><th>VALUE</th><th>DATE</th></tr><tr><td>i64</td><td>i64</td><td>str</td><td>f64</td><td>str</td></tr></thead><tbody><tr><td>21515</td><td>5954224721515</td><td>&quot;Combined_total…</td><td>null</td><td>&quot;2013-04-22&quot;</td></tr><tr><td>21515</td><td>5954314621515</td><td>&quot;Combined_total…</td><td>null</td><td>&quot;2013-06-06&quot;</td></tr><tr><td>21515</td><td>5954455321515</td><td>&quot;Combined_total…</td><td>null</td><td>&quot;2014-04-17&quot;</td></tr><tr><td>21515</td><td>5954479521515</td><td>&quot;Combined_total…</td><td>null</td><td>&quot;2013-08-29&quot;</td></tr><tr><td>21515</td><td>5954596321515</td><td>&quot;Combined_total…</td><td>23.0</td><td>&quot;2017-07-26&quot;</td></tr></tbody></table></div>"
      ],
      "text/plain": [
       "shape: (5, 5)\n",
       "┌─────────────┬───────────────┬───────────────────────────────────┬───────┬────────────┐\n",
       "│ PRACTICE_ID ┆ PATIENT_ID    ┆ EVENT                             ┆ VALUE ┆ DATE       │\n",
       "│ ---         ┆ ---           ┆ ---                               ┆ ---   ┆ ---        │\n",
       "│ i64         ┆ i64           ┆ str                               ┆ f64   ┆ str        │\n",
       "╞═════════════╪═══════════════╪═══════════════════════════════════╪═══════╪════════════╡\n",
       "│ 21515       ┆ 5954224721515 ┆ Combined_total_vitamin_D2_and_D3… ┆ null  ┆ 2013-04-22 │\n",
       "│ 21515       ┆ 5954314621515 ┆ Combined_total_vitamin_D2_and_D3… ┆ null  ┆ 2013-06-06 │\n",
       "│ 21515       ┆ 5954455321515 ┆ Combined_total_vitamin_D2_and_D3… ┆ null  ┆ 2014-04-17 │\n",
       "│ 21515       ┆ 5954479521515 ┆ Combined_total_vitamin_D2_and_D3… ┆ null  ┆ 2013-08-29 │\n",
       "│ 21515       ┆ 5954596321515 ┆ Combined_total_vitamin_D2_and_D3… ┆ 23.0  ┆ 2017-07-26 │\n",
       "└─────────────┴───────────────┴───────────────────────────────────┴───────┴────────────┘"
      ]
     },
     "metadata": {},
     "output_type": "display_data"
    },
    {
     "name": "stdout",
     "output_type": "stream",
     "text": [
      "lazy_measurement_Corrected_serum_calcium_level_42\n"
     ]
    },
    {
     "data": {
      "text/html": [
       "<div><style>\n",
       ".dataframe > thead > tr > th,\n",
       ".dataframe > tbody > tr > td {\n",
       "  text-align: right;\n",
       "}\n",
       "</style>\n",
       "<small>shape: (5, 5)</small><table border=\"1\" class=\"dataframe\"><thead><tr><th>PRACTICE_ID</th><th>PATIENT_ID</th><th>EVENT</th><th>VALUE</th><th>DATE</th></tr><tr><td>i64</td><td>i64</td><td>str</td><td>f64</td><td>str</td></tr></thead><tbody><tr><td>21515</td><td>10996238121515</td><td>&quot;Corrected_seru…</td><td>2.23</td><td>&quot;2006-08-25&quot;</td></tr><tr><td>21515</td><td>5954187021515</td><td>&quot;Corrected_seru…</td><td>2.28</td><td>&quot;2013-10-09&quot;</td></tr><tr><td>21515</td><td>5954188221515</td><td>&quot;Corrected_seru…</td><td>2.44</td><td>&quot;2013-07-18&quot;</td></tr><tr><td>21515</td><td>5954188221515</td><td>&quot;Corrected_seru…</td><td>2.48</td><td>&quot;2014-06-12&quot;</td></tr><tr><td>21515</td><td>5954189621515</td><td>&quot;Corrected_seru…</td><td>2.21</td><td>&quot;2004-07-19&quot;</td></tr></tbody></table></div>"
      ],
      "text/plain": [
       "shape: (5, 5)\n",
       "┌─────────────┬────────────────┬──────────────────────────────────┬───────┬────────────┐\n",
       "│ PRACTICE_ID ┆ PATIENT_ID     ┆ EVENT                            ┆ VALUE ┆ DATE       │\n",
       "│ ---         ┆ ---            ┆ ---                              ┆ ---   ┆ ---        │\n",
       "│ i64         ┆ i64            ┆ str                              ┆ f64   ┆ str        │\n",
       "╞═════════════╪════════════════╪══════════════════════════════════╪═══════╪════════════╡\n",
       "│ 21515       ┆ 10996238121515 ┆ Corrected_serum_calcium_level_42 ┆ 2.23  ┆ 2006-08-25 │\n",
       "│ 21515       ┆ 5954187021515  ┆ Corrected_serum_calcium_level_42 ┆ 2.28  ┆ 2013-10-09 │\n",
       "│ 21515       ┆ 5954188221515  ┆ Corrected_serum_calcium_level_42 ┆ 2.44  ┆ 2013-07-18 │\n",
       "│ 21515       ┆ 5954188221515  ┆ Corrected_serum_calcium_level_42 ┆ 2.48  ┆ 2014-06-12 │\n",
       "│ 21515       ┆ 5954189621515  ┆ Corrected_serum_calcium_level_42 ┆ 2.21  ┆ 2004-07-19 │\n",
       "└─────────────┴────────────────┴──────────────────────────────────┴───────┴────────────┘"
      ]
     },
     "metadata": {},
     "output_type": "display_data"
    },
    {
     "name": "stdout",
     "output_type": "stream",
     "text": [
      "lazy_measurement_Current_smoker_83\n"
     ]
    },
    {
     "data": {
      "text/html": [
       "<div><style>\n",
       ".dataframe > thead > tr > th,\n",
       ".dataframe > tbody > tr > td {\n",
       "  text-align: right;\n",
       "}\n",
       "</style>\n",
       "<small>shape: (5, 5)</small><table border=\"1\" class=\"dataframe\"><thead><tr><th>PRACTICE_ID</th><th>PATIENT_ID</th><th>EVENT</th><th>VALUE</th><th>DATE</th></tr><tr><td>i64</td><td>i64</td><td>str</td><td>f64</td><td>str</td></tr></thead><tbody><tr><td>21515</td><td>5954188021515</td><td>&quot;Current_smoker…</td><td>20.0</td><td>&quot;2003-06-24&quot;</td></tr><tr><td>21515</td><td>5954189221515</td><td>&quot;Current_smoker…</td><td>7.0</td><td>&quot;2006-12-14&quot;</td></tr><tr><td>21515</td><td>5954190521515</td><td>&quot;Current_smoker…</td><td>10.0</td><td>&quot;2012-01-27&quot;</td></tr><tr><td>21515</td><td>5954193221515</td><td>&quot;Current_smoker…</td><td>10.0</td><td>&quot;2007-06-29&quot;</td></tr><tr><td>21515</td><td>5954193221515</td><td>&quot;Current_smoker…</td><td>10.0</td><td>&quot;2011-02-04&quot;</td></tr></tbody></table></div>"
      ],
      "text/plain": [
       "shape: (5, 5)\n",
       "┌─────────────┬───────────────┬───────────────────┬───────┬────────────┐\n",
       "│ PRACTICE_ID ┆ PATIENT_ID    ┆ EVENT             ┆ VALUE ┆ DATE       │\n",
       "│ ---         ┆ ---           ┆ ---               ┆ ---   ┆ ---        │\n",
       "│ i64         ┆ i64           ┆ str               ┆ f64   ┆ str        │\n",
       "╞═════════════╪═══════════════╪═══════════════════╪═══════╪════════════╡\n",
       "│ 21515       ┆ 5954188021515 ┆ Current_smoker_83 ┆ 20.0  ┆ 2003-06-24 │\n",
       "│ 21515       ┆ 5954189221515 ┆ Current_smoker_83 ┆ 7.0   ┆ 2006-12-14 │\n",
       "│ 21515       ┆ 5954190521515 ┆ Current_smoker_83 ┆ 10.0  ┆ 2012-01-27 │\n",
       "│ 21515       ┆ 5954193221515 ┆ Current_smoker_83 ┆ 10.0  ┆ 2007-06-29 │\n",
       "│ 21515       ┆ 5954193221515 ┆ Current_smoker_83 ┆ 10.0  ┆ 2011-02-04 │\n",
       "└─────────────┴───────────────┴───────────────────┴───────┴────────────┘"
      ]
     },
     "metadata": {},
     "output_type": "display_data"
    },
    {
     "name": "stdout",
     "output_type": "stream",
     "text": [
      "lazy_measurement_Diastolic_blood_pressure_5\n"
     ]
    },
    {
     "data": {
      "text/html": [
       "<div><style>\n",
       ".dataframe > thead > tr > th,\n",
       ".dataframe > tbody > tr > td {\n",
       "  text-align: right;\n",
       "}\n",
       "</style>\n",
       "<small>shape: (5, 5)</small><table border=\"1\" class=\"dataframe\"><thead><tr><th>PRACTICE_ID</th><th>PATIENT_ID</th><th>EVENT</th><th>VALUE</th><th>DATE</th></tr><tr><td>i64</td><td>i64</td><td>str</td><td>f64</td><td>str</td></tr></thead><tbody><tr><td>21515</td><td>10995640321515</td><td>&quot;Diastolic_bloo…</td><td>77.0</td><td>&quot;2022-01-13&quot;</td></tr><tr><td>21515</td><td>10996237721515</td><td>&quot;Diastolic_bloo…</td><td>75.0</td><td>&quot;2021-09-10&quot;</td></tr><tr><td>21515</td><td>10996238121515</td><td>&quot;Diastolic_bloo…</td><td>80.0</td><td>&quot;2001-09-18&quot;</td></tr><tr><td>21515</td><td>10996238121515</td><td>&quot;Diastolic_bloo…</td><td>90.0</td><td>&quot;2011-07-13&quot;</td></tr><tr><td>21515</td><td>10996238121515</td><td>&quot;Diastolic_bloo…</td><td>68.0</td><td>&quot;2015-01-12&quot;</td></tr></tbody></table></div>"
      ],
      "text/plain": [
       "shape: (5, 5)\n",
       "┌─────────────┬────────────────┬────────────────────────────┬───────┬────────────┐\n",
       "│ PRACTICE_ID ┆ PATIENT_ID     ┆ EVENT                      ┆ VALUE ┆ DATE       │\n",
       "│ ---         ┆ ---            ┆ ---                        ┆ ---   ┆ ---        │\n",
       "│ i64         ┆ i64            ┆ str                        ┆ f64   ┆ str        │\n",
       "╞═════════════╪════════════════╪════════════════════════════╪═══════╪════════════╡\n",
       "│ 21515       ┆ 10995640321515 ┆ Diastolic_blood_pressure_5 ┆ 77.0  ┆ 2022-01-13 │\n",
       "│ 21515       ┆ 10996237721515 ┆ Diastolic_blood_pressure_5 ┆ 75.0  ┆ 2021-09-10 │\n",
       "│ 21515       ┆ 10996238121515 ┆ Diastolic_blood_pressure_5 ┆ 80.0  ┆ 2001-09-18 │\n",
       "│ 21515       ┆ 10996238121515 ┆ Diastolic_blood_pressure_5 ┆ 90.0  ┆ 2011-07-13 │\n",
       "│ 21515       ┆ 10996238121515 ┆ Diastolic_blood_pressure_5 ┆ 68.0  ┆ 2015-01-12 │\n",
       "└─────────────┴────────────────┴────────────────────────────┴───────┴────────────┘"
      ]
     },
     "metadata": {},
     "output_type": "display_data"
    },
    {
     "name": "stdout",
     "output_type": "stream",
     "text": [
      "lazy_measurement_Eosinophil_count_21\n"
     ]
    },
    {
     "data": {
      "text/html": [
       "<div><style>\n",
       ".dataframe > thead > tr > th,\n",
       ".dataframe > tbody > tr > td {\n",
       "  text-align: right;\n",
       "}\n",
       "</style>\n",
       "<small>shape: (5, 5)</small><table border=\"1\" class=\"dataframe\"><thead><tr><th>PRACTICE_ID</th><th>PATIENT_ID</th><th>EVENT</th><th>VALUE</th><th>DATE</th></tr><tr><td>i64</td><td>i64</td><td>str</td><td>f64</td><td>str</td></tr></thead><tbody><tr><td>21515</td><td>10995640321515</td><td>&quot;Eosinophil_cou…</td><td>0.1</td><td>&quot;2022-01-13&quot;</td></tr><tr><td>21515</td><td>10996238121515</td><td>&quot;Eosinophil_cou…</td><td>0.1</td><td>&quot;2006-08-24&quot;</td></tr><tr><td>21515</td><td>10996238121515</td><td>&quot;Eosinophil_cou…</td><td>0.5</td><td>&quot;2013-06-06&quot;</td></tr><tr><td>21515</td><td>10996238121515</td><td>&quot;Eosinophil_cou…</td><td>0.2</td><td>&quot;2013-08-08&quot;</td></tr><tr><td>21515</td><td>10996238121515</td><td>&quot;Eosinophil_cou…</td><td>0.2</td><td>&quot;2015-01-14&quot;</td></tr></tbody></table></div>"
      ],
      "text/plain": [
       "shape: (5, 5)\n",
       "┌─────────────┬────────────────┬─────────────────────┬───────┬────────────┐\n",
       "│ PRACTICE_ID ┆ PATIENT_ID     ┆ EVENT               ┆ VALUE ┆ DATE       │\n",
       "│ ---         ┆ ---            ┆ ---                 ┆ ---   ┆ ---        │\n",
       "│ i64         ┆ i64            ┆ str                 ┆ f64   ┆ str        │\n",
       "╞═════════════╪════════════════╪═════════════════════╪═══════╪════════════╡\n",
       "│ 21515       ┆ 10995640321515 ┆ Eosinophil_count_21 ┆ 0.1   ┆ 2022-01-13 │\n",
       "│ 21515       ┆ 10996238121515 ┆ Eosinophil_count_21 ┆ 0.1   ┆ 2006-08-24 │\n",
       "│ 21515       ┆ 10996238121515 ┆ Eosinophil_count_21 ┆ 0.5   ┆ 2013-06-06 │\n",
       "│ 21515       ┆ 10996238121515 ┆ Eosinophil_count_21 ┆ 0.2   ┆ 2013-08-08 │\n",
       "│ 21515       ┆ 10996238121515 ┆ Eosinophil_count_21 ┆ 0.2   ┆ 2015-01-14 │\n",
       "└─────────────┴────────────────┴─────────────────────┴───────┴────────────┘"
      ]
     },
     "metadata": {},
     "output_type": "display_data"
    },
    {
     "name": "stdout",
     "output_type": "stream",
     "text": [
      "lazy_measurement_Erythrocyte_sedimentation_rate_61\n"
     ]
    },
    {
     "data": {
      "text/html": [
       "<div><style>\n",
       ".dataframe > thead > tr > th,\n",
       ".dataframe > tbody > tr > td {\n",
       "  text-align: right;\n",
       "}\n",
       "</style>\n",
       "<small>shape: (5, 5)</small><table border=\"1\" class=\"dataframe\"><thead><tr><th>PRACTICE_ID</th><th>PATIENT_ID</th><th>EVENT</th><th>VALUE</th><th>DATE</th></tr><tr><td>i64</td><td>i64</td><td>str</td><td>f64</td><td>str</td></tr></thead><tbody><tr><td>21515</td><td>10996238121515</td><td>&quot;Erythrocyte_se…</td><td>18.0</td><td>&quot;2016-07-22&quot;</td></tr><tr><td>21515</td><td>10996238121515</td><td>&quot;Erythrocyte_se…</td><td>16.0</td><td>&quot;2018-08-03&quot;</td></tr><tr><td>21515</td><td>5954184321515</td><td>&quot;Erythrocyte_se…</td><td>5.0</td><td>&quot;2005-02-04&quot;</td></tr><tr><td>21515</td><td>5954184321515</td><td>&quot;Erythrocyte_se…</td><td>4.0</td><td>&quot;2009-09-16&quot;</td></tr><tr><td>21515</td><td>5954184321515</td><td>&quot;Erythrocyte_se…</td><td>8.0</td><td>&quot;2013-04-25&quot;</td></tr></tbody></table></div>"
      ],
      "text/plain": [
       "shape: (5, 5)\n",
       "┌─────────────┬────────────────┬───────────────────────────────────┬───────┬────────────┐\n",
       "│ PRACTICE_ID ┆ PATIENT_ID     ┆ EVENT                             ┆ VALUE ┆ DATE       │\n",
       "│ ---         ┆ ---            ┆ ---                               ┆ ---   ┆ ---        │\n",
       "│ i64         ┆ i64            ┆ str                               ┆ f64   ┆ str        │\n",
       "╞═════════════╪════════════════╪═══════════════════════════════════╪═══════╪════════════╡\n",
       "│ 21515       ┆ 10996238121515 ┆ Erythrocyte_sedimentation_rate_6… ┆ 18.0  ┆ 2016-07-22 │\n",
       "│ 21515       ┆ 10996238121515 ┆ Erythrocyte_sedimentation_rate_6… ┆ 16.0  ┆ 2018-08-03 │\n",
       "│ 21515       ┆ 5954184321515  ┆ Erythrocyte_sedimentation_rate_6… ┆ 5.0   ┆ 2005-02-04 │\n",
       "│ 21515       ┆ 5954184321515  ┆ Erythrocyte_sedimentation_rate_6… ┆ 4.0   ┆ 2009-09-16 │\n",
       "│ 21515       ┆ 5954184321515  ┆ Erythrocyte_sedimentation_rate_6… ┆ 8.0   ┆ 2013-04-25 │\n",
       "└─────────────┴────────────────┴───────────────────────────────────┴───────┴────────────┘"
      ]
     },
     "metadata": {},
     "output_type": "display_data"
    },
    {
     "name": "stdout",
     "output_type": "stream",
     "text": [
      "lazy_measurement_Ex_smoker_84\n"
     ]
    },
    {
     "data": {
      "text/html": [
       "<div><style>\n",
       ".dataframe > thead > tr > th,\n",
       ".dataframe > tbody > tr > td {\n",
       "  text-align: right;\n",
       "}\n",
       "</style>\n",
       "<small>shape: (5, 5)</small><table border=\"1\" class=\"dataframe\"><thead><tr><th>PRACTICE_ID</th><th>PATIENT_ID</th><th>EVENT</th><th>VALUE</th><th>DATE</th></tr><tr><td>i64</td><td>i64</td><td>str</td><td>f64</td><td>str</td></tr></thead><tbody><tr><td>21515</td><td>10996238321515</td><td>&quot;Ex_smoker_84&quot;</td><td>null</td><td>&quot;2012-08-03&quot;</td></tr><tr><td>21515</td><td>10996238321515</td><td>&quot;Ex_smoker_84&quot;</td><td>null</td><td>&quot;2021-03-29&quot;</td></tr><tr><td>21515</td><td>5954187021515</td><td>&quot;Ex_smoker_84&quot;</td><td>null</td><td>&quot;2001-05-11&quot;</td></tr><tr><td>21515</td><td>5954187021515</td><td>&quot;Ex_smoker_84&quot;</td><td>null</td><td>&quot;2008-10-01&quot;</td></tr><tr><td>21515</td><td>5954189921515</td><td>&quot;Ex_smoker_84&quot;</td><td>null</td><td>&quot;2009-01-23&quot;</td></tr></tbody></table></div>"
      ],
      "text/plain": [
       "shape: (5, 5)\n",
       "┌─────────────┬────────────────┬──────────────┬───────┬────────────┐\n",
       "│ PRACTICE_ID ┆ PATIENT_ID     ┆ EVENT        ┆ VALUE ┆ DATE       │\n",
       "│ ---         ┆ ---            ┆ ---          ┆ ---   ┆ ---        │\n",
       "│ i64         ┆ i64            ┆ str          ┆ f64   ┆ str        │\n",
       "╞═════════════╪════════════════╪══════════════╪═══════╪════════════╡\n",
       "│ 21515       ┆ 10996238321515 ┆ Ex_smoker_84 ┆ null  ┆ 2012-08-03 │\n",
       "│ 21515       ┆ 10996238321515 ┆ Ex_smoker_84 ┆ null  ┆ 2021-03-29 │\n",
       "│ 21515       ┆ 5954187021515  ┆ Ex_smoker_84 ┆ null  ┆ 2001-05-11 │\n",
       "│ 21515       ┆ 5954187021515  ┆ Ex_smoker_84 ┆ null  ┆ 2008-10-01 │\n",
       "│ 21515       ┆ 5954189921515  ┆ Ex_smoker_84 ┆ null  ┆ 2009-01-23 │\n",
       "└─────────────┴────────────────┴──────────────┴───────┴────────────┘"
      ]
     },
     "metadata": {},
     "output_type": "display_data"
    },
    {
     "name": "stdout",
     "output_type": "stream",
     "text": [
      "lazy_measurement_Free_T4_level_76\n"
     ]
    },
    {
     "data": {
      "text/html": [
       "<div><style>\n",
       ".dataframe > thead > tr > th,\n",
       ".dataframe > tbody > tr > td {\n",
       "  text-align: right;\n",
       "}\n",
       "</style>\n",
       "<small>shape: (5, 5)</small><table border=\"1\" class=\"dataframe\"><thead><tr><th>PRACTICE_ID</th><th>PATIENT_ID</th><th>EVENT</th><th>VALUE</th><th>DATE</th></tr><tr><td>i64</td><td>i64</td><td>str</td><td>f64</td><td>str</td></tr></thead><tbody><tr><td>21515</td><td>5954196321515</td><td>&quot;Free_T4_level_…</td><td>11.6</td><td>&quot;1999-09-27&quot;</td></tr><tr><td>21515</td><td>5954196521515</td><td>&quot;Free_T4_level_…</td><td>34.2</td><td>&quot;2001-11-21&quot;</td></tr><tr><td>21515</td><td>5954196521515</td><td>&quot;Free_T4_level_…</td><td>22.5</td><td>&quot;2005-09-12&quot;</td></tr><tr><td>21515</td><td>5954198421515</td><td>&quot;Free_T4_level_…</td><td>12.9</td><td>&quot;1999-11-02&quot;</td></tr><tr><td>21515</td><td>5954205021515</td><td>&quot;Free_T4_level_…</td><td>17.2</td><td>&quot;1999-10-15&quot;</td></tr></tbody></table></div>"
      ],
      "text/plain": [
       "shape: (5, 5)\n",
       "┌─────────────┬───────────────┬──────────────────┬───────┬────────────┐\n",
       "│ PRACTICE_ID ┆ PATIENT_ID    ┆ EVENT            ┆ VALUE ┆ DATE       │\n",
       "│ ---         ┆ ---           ┆ ---              ┆ ---   ┆ ---        │\n",
       "│ i64         ┆ i64           ┆ str              ┆ f64   ┆ str        │\n",
       "╞═════════════╪═══════════════╪══════════════════╪═══════╪════════════╡\n",
       "│ 21515       ┆ 5954196321515 ┆ Free_T4_level_76 ┆ 11.6  ┆ 1999-09-27 │\n",
       "│ 21515       ┆ 5954196521515 ┆ Free_T4_level_76 ┆ 34.2  ┆ 2001-11-21 │\n",
       "│ 21515       ┆ 5954196521515 ┆ Free_T4_level_76 ┆ 22.5  ┆ 2005-09-12 │\n",
       "│ 21515       ┆ 5954198421515 ┆ Free_T4_level_76 ┆ 12.9  ┆ 1999-11-02 │\n",
       "│ 21515       ┆ 5954205021515 ┆ Free_T4_level_76 ┆ 17.2  ┆ 1999-10-15 │\n",
       "└─────────────┴───────────────┴──────────────────┴───────┴────────────┘"
      ]
     },
     "metadata": {},
     "output_type": "display_data"
    },
    {
     "name": "stdout",
     "output_type": "stream",
     "text": [
      "lazy_measurement_GFR_calculated_abbreviated_MDRD_34\n"
     ]
    },
    {
     "data": {
      "text/html": [
       "<div><style>\n",
       ".dataframe > thead > tr > th,\n",
       ".dataframe > tbody > tr > td {\n",
       "  text-align: right;\n",
       "}\n",
       "</style>\n",
       "<small>shape: (5, 5)</small><table border=\"1\" class=\"dataframe\"><thead><tr><th>PRACTICE_ID</th><th>PATIENT_ID</th><th>EVENT</th><th>VALUE</th><th>DATE</th></tr><tr><td>i64</td><td>i64</td><td>str</td><td>f64</td><td>str</td></tr></thead><tbody><tr><td>21515</td><td>10996238121515</td><td>&quot;GFR_calculated…</td><td>71.1</td><td>&quot;2006-08-25&quot;</td></tr><tr><td>21515</td><td>10996238121515</td><td>&quot;GFR_calculated…</td><td>75.5</td><td>&quot;2013-06-06&quot;</td></tr><tr><td>21515</td><td>10996238121515</td><td>&quot;GFR_calculated…</td><td>67.5</td><td>&quot;2015-01-14&quot;</td></tr><tr><td>21515</td><td>10996238121515</td><td>&quot;GFR_calculated…</td><td>81.8</td><td>&quot;2015-11-03&quot;</td></tr><tr><td>21515</td><td>10996238121515</td><td>&quot;GFR_calculated…</td><td>76.0</td><td>&quot;2016-07-22&quot;</td></tr></tbody></table></div>"
      ],
      "text/plain": [
       "shape: (5, 5)\n",
       "┌─────────────┬────────────────┬───────────────────────────────────┬───────┬────────────┐\n",
       "│ PRACTICE_ID ┆ PATIENT_ID     ┆ EVENT                             ┆ VALUE ┆ DATE       │\n",
       "│ ---         ┆ ---            ┆ ---                               ┆ ---   ┆ ---        │\n",
       "│ i64         ┆ i64            ┆ str                               ┆ f64   ┆ str        │\n",
       "╞═════════════╪════════════════╪═══════════════════════════════════╪═══════╪════════════╡\n",
       "│ 21515       ┆ 10996238121515 ┆ GFR_calculated_abbreviated_MDRD_… ┆ 71.1  ┆ 2006-08-25 │\n",
       "│ 21515       ┆ 10996238121515 ┆ GFR_calculated_abbreviated_MDRD_… ┆ 75.5  ┆ 2013-06-06 │\n",
       "│ 21515       ┆ 10996238121515 ┆ GFR_calculated_abbreviated_MDRD_… ┆ 67.5  ┆ 2015-01-14 │\n",
       "│ 21515       ┆ 10996238121515 ┆ GFR_calculated_abbreviated_MDRD_… ┆ 81.8  ┆ 2015-11-03 │\n",
       "│ 21515       ┆ 10996238121515 ┆ GFR_calculated_abbreviated_MDRD_… ┆ 76.0  ┆ 2016-07-22 │\n",
       "└─────────────┴────────────────┴───────────────────────────────────┴───────┴────────────┘"
      ]
     },
     "metadata": {},
     "output_type": "display_data"
    },
    {
     "name": "stdout",
     "output_type": "stream",
     "text": [
      "lazy_measurement_Haematocrit___PCV_16\n"
     ]
    },
    {
     "data": {
      "text/html": [
       "<div><style>\n",
       ".dataframe > thead > tr > th,\n",
       ".dataframe > tbody > tr > td {\n",
       "  text-align: right;\n",
       "}\n",
       "</style>\n",
       "<small>shape: (5, 5)</small><table border=\"1\" class=\"dataframe\"><thead><tr><th>PRACTICE_ID</th><th>PATIENT_ID</th><th>EVENT</th><th>VALUE</th><th>DATE</th></tr><tr><td>i64</td><td>i64</td><td>str</td><td>f64</td><td>str</td></tr></thead><tbody><tr><td>21515</td><td>5954188521515</td><td>&quot;Haematocrit___…</td><td>0.35</td><td>&quot;2001-12-17&quot;</td></tr><tr><td>21515</td><td>5954189221515</td><td>&quot;Haematocrit___…</td><td>0.39</td><td>&quot;2001-01-18&quot;</td></tr><tr><td>21515</td><td>5954189221515</td><td>&quot;Haematocrit___…</td><td>0.39</td><td>&quot;2001-02-03&quot;</td></tr><tr><td>21515</td><td>5954198421515</td><td>&quot;Haematocrit___…</td><td>0.46</td><td>&quot;1999-11-01&quot;</td></tr><tr><td>21515</td><td>5954205021515</td><td>&quot;Haematocrit___…</td><td>0.47</td><td>&quot;1999-10-15&quot;</td></tr></tbody></table></div>"
      ],
      "text/plain": [
       "shape: (5, 5)\n",
       "┌─────────────┬───────────────┬──────────────────────┬───────┬────────────┐\n",
       "│ PRACTICE_ID ┆ PATIENT_ID    ┆ EVENT                ┆ VALUE ┆ DATE       │\n",
       "│ ---         ┆ ---           ┆ ---                  ┆ ---   ┆ ---        │\n",
       "│ i64         ┆ i64           ┆ str                  ┆ f64   ┆ str        │\n",
       "╞═════════════╪═══════════════╪══════════════════════╪═══════╪════════════╡\n",
       "│ 21515       ┆ 5954188521515 ┆ Haematocrit___PCV_16 ┆ 0.35  ┆ 2001-12-17 │\n",
       "│ 21515       ┆ 5954189221515 ┆ Haematocrit___PCV_16 ┆ 0.39  ┆ 2001-01-18 │\n",
       "│ 21515       ┆ 5954189221515 ┆ Haematocrit___PCV_16 ┆ 0.39  ┆ 2001-02-03 │\n",
       "│ 21515       ┆ 5954198421515 ┆ Haematocrit___PCV_16 ┆ 0.46  ┆ 1999-11-01 │\n",
       "│ 21515       ┆ 5954205021515 ┆ Haematocrit___PCV_16 ┆ 0.47  ┆ 1999-10-15 │\n",
       "└─────────────┴───────────────┴──────────────────────┴───────┴────────────┘"
      ]
     },
     "metadata": {},
     "output_type": "display_data"
    },
    {
     "name": "stdout",
     "output_type": "stream",
     "text": [
      "lazy_measurement_Haematocrit_15\n"
     ]
    },
    {
     "data": {
      "text/html": [
       "<div><style>\n",
       ".dataframe > thead > tr > th,\n",
       ".dataframe > tbody > tr > td {\n",
       "  text-align: right;\n",
       "}\n",
       "</style>\n",
       "<small>shape: (5, 5)</small><table border=\"1\" class=\"dataframe\"><thead><tr><th>PRACTICE_ID</th><th>PATIENT_ID</th><th>EVENT</th><th>VALUE</th><th>DATE</th></tr><tr><td>i64</td><td>i64</td><td>str</td><td>f64</td><td>str</td></tr></thead><tbody><tr><td>21515</td><td>10995640321515</td><td>&quot;Haematocrit_15…</td><td>0.34</td><td>&quot;2022-01-13&quot;</td></tr><tr><td>21515</td><td>10996238121515</td><td>&quot;Haematocrit_15…</td><td>0.47</td><td>&quot;2015-01-14&quot;</td></tr><tr><td>21515</td><td>10996238121515</td><td>&quot;Haematocrit_15…</td><td>0.49</td><td>&quot;2015-11-03&quot;</td></tr><tr><td>21515</td><td>10996238121515</td><td>&quot;Haematocrit_15…</td><td>0.44</td><td>&quot;2016-07-22&quot;</td></tr><tr><td>21515</td><td>10996238121515</td><td>&quot;Haematocrit_15…</td><td>0.47</td><td>&quot;2018-08-03&quot;</td></tr></tbody></table></div>"
      ],
      "text/plain": [
       "shape: (5, 5)\n",
       "┌─────────────┬────────────────┬────────────────┬───────┬────────────┐\n",
       "│ PRACTICE_ID ┆ PATIENT_ID     ┆ EVENT          ┆ VALUE ┆ DATE       │\n",
       "│ ---         ┆ ---            ┆ ---            ┆ ---   ┆ ---        │\n",
       "│ i64         ┆ i64            ┆ str            ┆ f64   ┆ str        │\n",
       "╞═════════════╪════════════════╪════════════════╪═══════╪════════════╡\n",
       "│ 21515       ┆ 10995640321515 ┆ Haematocrit_15 ┆ 0.34  ┆ 2022-01-13 │\n",
       "│ 21515       ┆ 10996238121515 ┆ Haematocrit_15 ┆ 0.47  ┆ 2015-01-14 │\n",
       "│ 21515       ┆ 10996238121515 ┆ Haematocrit_15 ┆ 0.49  ┆ 2015-11-03 │\n",
       "│ 21515       ┆ 10996238121515 ┆ Haematocrit_15 ┆ 0.44  ┆ 2016-07-22 │\n",
       "│ 21515       ┆ 10996238121515 ┆ Haematocrit_15 ┆ 0.47  ┆ 2018-08-03 │\n",
       "└─────────────┴────────────────┴────────────────┴───────┴────────────┘"
      ]
     },
     "metadata": {},
     "output_type": "display_data"
    },
    {
     "name": "stdout",
     "output_type": "stream",
     "text": [
      "lazy_measurement_Haemoglobin_A1c_level___IFCC_standardised_6\n"
     ]
    },
    {
     "data": {
      "text/html": [
       "<div><style>\n",
       ".dataframe > thead > tr > th,\n",
       ".dataframe > tbody > tr > td {\n",
       "  text-align: right;\n",
       "}\n",
       "</style>\n",
       "<small>shape: (5, 5)</small><table border=\"1\" class=\"dataframe\"><thead><tr><th>PRACTICE_ID</th><th>PATIENT_ID</th><th>EVENT</th><th>VALUE</th><th>DATE</th></tr><tr><td>i64</td><td>i64</td><td>str</td><td>f64</td><td>str</td></tr></thead><tbody><tr><td>21515</td><td>5954184321515</td><td>&quot;Haemoglobin_A1…</td><td>34.0</td><td>&quot;2013-04-25&quot;</td></tr><tr><td>21515</td><td>5954184321515</td><td>&quot;Haemoglobin_A1…</td><td>32.0</td><td>&quot;2021-10-19&quot;</td></tr><tr><td>21515</td><td>5954184321515</td><td>&quot;Haemoglobin_A1…</td><td>null</td><td>&quot;2021-10-19&quot;</td></tr><tr><td>21515</td><td>5954187021515</td><td>&quot;Haemoglobin_A1…</td><td>38.0</td><td>&quot;2013-10-09&quot;</td></tr><tr><td>21515</td><td>5954187521515</td><td>&quot;Haemoglobin_A1…</td><td>56.0</td><td>&quot;2011-07-15&quot;</td></tr></tbody></table></div>"
      ],
      "text/plain": [
       "shape: (5, 5)\n",
       "┌─────────────┬───────────────┬───────────────────────────────────┬───────┬────────────┐\n",
       "│ PRACTICE_ID ┆ PATIENT_ID    ┆ EVENT                             ┆ VALUE ┆ DATE       │\n",
       "│ ---         ┆ ---           ┆ ---                               ┆ ---   ┆ ---        │\n",
       "│ i64         ┆ i64           ┆ str                               ┆ f64   ┆ str        │\n",
       "╞═════════════╪═══════════════╪═══════════════════════════════════╪═══════╪════════════╡\n",
       "│ 21515       ┆ 5954184321515 ┆ Haemoglobin_A1c_level___IFCC_sta… ┆ 34.0  ┆ 2013-04-25 │\n",
       "│ 21515       ┆ 5954184321515 ┆ Haemoglobin_A1c_level___IFCC_sta… ┆ 32.0  ┆ 2021-10-19 │\n",
       "│ 21515       ┆ 5954184321515 ┆ Haemoglobin_A1c_level___IFCC_sta… ┆ null  ┆ 2021-10-19 │\n",
       "│ 21515       ┆ 5954187021515 ┆ Haemoglobin_A1c_level___IFCC_sta… ┆ 38.0  ┆ 2013-10-09 │\n",
       "│ 21515       ┆ 5954187521515 ┆ Haemoglobin_A1c_level___IFCC_sta… ┆ 56.0  ┆ 2011-07-15 │\n",
       "└─────────────┴───────────────┴───────────────────────────────────┴───────┴────────────┘"
      ]
     },
     "metadata": {},
     "output_type": "display_data"
    },
    {
     "name": "stdout",
     "output_type": "stream",
     "text": [
      "lazy_measurement_Haemoglobin_A1c_level_8\n"
     ]
    },
    {
     "data": {
      "text/html": [
       "<div><style>\n",
       ".dataframe > thead > tr > th,\n",
       ".dataframe > tbody > tr > td {\n",
       "  text-align: right;\n",
       "}\n",
       "</style>\n",
       "<small>shape: (5, 5)</small><table border=\"1\" class=\"dataframe\"><thead><tr><th>PRACTICE_ID</th><th>PATIENT_ID</th><th>EVENT</th><th>VALUE</th><th>DATE</th></tr><tr><td>i64</td><td>i64</td><td>str</td><td>f64</td><td>str</td></tr></thead><tbody><tr><td>21515</td><td>5954188221515</td><td>&quot;Haemoglobin_A1…</td><td>null</td><td>&quot;2013-07-18&quot;</td></tr><tr><td>21515</td><td>5954188221515</td><td>&quot;Haemoglobin_A1…</td><td>null</td><td>&quot;2014-06-12&quot;</td></tr><tr><td>21515</td><td>5954189921515</td><td>&quot;Haemoglobin_A1…</td><td>7.1</td><td>&quot;2009-04-15&quot;</td></tr><tr><td>21515</td><td>5954189921515</td><td>&quot;Haemoglobin_A1…</td><td>null</td><td>&quot;2009-08-17&quot;</td></tr><tr><td>21515</td><td>5954189921515</td><td>&quot;Haemoglobin_A1…</td><td>null</td><td>&quot;2010-04-12&quot;</td></tr></tbody></table></div>"
      ],
      "text/plain": [
       "shape: (5, 5)\n",
       "┌─────────────┬───────────────┬─────────────────────────┬───────┬────────────┐\n",
       "│ PRACTICE_ID ┆ PATIENT_ID    ┆ EVENT                   ┆ VALUE ┆ DATE       │\n",
       "│ ---         ┆ ---           ┆ ---                     ┆ ---   ┆ ---        │\n",
       "│ i64         ┆ i64           ┆ str                     ┆ f64   ┆ str        │\n",
       "╞═════════════╪═══════════════╪═════════════════════════╪═══════╪════════════╡\n",
       "│ 21515       ┆ 5954188221515 ┆ Haemoglobin_A1c_level_8 ┆ null  ┆ 2013-07-18 │\n",
       "│ 21515       ┆ 5954188221515 ┆ Haemoglobin_A1c_level_8 ┆ null  ┆ 2014-06-12 │\n",
       "│ 21515       ┆ 5954189921515 ┆ Haemoglobin_A1c_level_8 ┆ 7.1   ┆ 2009-04-15 │\n",
       "│ 21515       ┆ 5954189921515 ┆ Haemoglobin_A1c_level_8 ┆ null  ┆ 2009-08-17 │\n",
       "│ 21515       ┆ 5954189921515 ┆ Haemoglobin_A1c_level_8 ┆ null  ┆ 2010-04-12 │\n",
       "└─────────────┴───────────────┴─────────────────────────┴───────┴────────────┘"
      ]
     },
     "metadata": {},
     "output_type": "display_data"
    },
    {
     "name": "stdout",
     "output_type": "stream",
     "text": [
      "lazy_measurement_Haemoglobin_estimation_9\n"
     ]
    },
    {
     "data": {
      "text/html": [
       "<div><style>\n",
       ".dataframe > thead > tr > th,\n",
       ".dataframe > tbody > tr > td {\n",
       "  text-align: right;\n",
       "}\n",
       "</style>\n",
       "<small>shape: (5, 5)</small><table border=\"1\" class=\"dataframe\"><thead><tr><th>PRACTICE_ID</th><th>PATIENT_ID</th><th>EVENT</th><th>VALUE</th><th>DATE</th></tr><tr><td>i64</td><td>i64</td><td>str</td><td>f64</td><td>str</td></tr></thead><tbody><tr><td>21515</td><td>10995640321515</td><td>&quot;Haemoglobin_es…</td><td>116.0</td><td>&quot;2022-01-13&quot;</td></tr><tr><td>21515</td><td>10996238121515</td><td>&quot;Haemoglobin_es…</td><td>16.2</td><td>&quot;2006-08-24&quot;</td></tr><tr><td>21515</td><td>10996238121515</td><td>&quot;Haemoglobin_es…</td><td>152.0</td><td>&quot;2013-06-06&quot;</td></tr><tr><td>21515</td><td>10996238121515</td><td>&quot;Haemoglobin_es…</td><td>156.0</td><td>&quot;2013-08-08&quot;</td></tr><tr><td>21515</td><td>10996238121515</td><td>&quot;Haemoglobin_es…</td><td>153.0</td><td>&quot;2015-01-14&quot;</td></tr></tbody></table></div>"
      ],
      "text/plain": [
       "shape: (5, 5)\n",
       "┌─────────────┬────────────────┬──────────────────────────┬───────┬────────────┐\n",
       "│ PRACTICE_ID ┆ PATIENT_ID     ┆ EVENT                    ┆ VALUE ┆ DATE       │\n",
       "│ ---         ┆ ---            ┆ ---                      ┆ ---   ┆ ---        │\n",
       "│ i64         ┆ i64            ┆ str                      ┆ f64   ┆ str        │\n",
       "╞═════════════╪════════════════╪══════════════════════════╪═══════╪════════════╡\n",
       "│ 21515       ┆ 10995640321515 ┆ Haemoglobin_estimation_9 ┆ 116.0 ┆ 2022-01-13 │\n",
       "│ 21515       ┆ 10996238121515 ┆ Haemoglobin_estimation_9 ┆ 16.2  ┆ 2006-08-24 │\n",
       "│ 21515       ┆ 10996238121515 ┆ Haemoglobin_estimation_9 ┆ 152.0 ┆ 2013-06-06 │\n",
       "│ 21515       ┆ 10996238121515 ┆ Haemoglobin_estimation_9 ┆ 156.0 ┆ 2013-08-08 │\n",
       "│ 21515       ┆ 10996238121515 ┆ Haemoglobin_estimation_9 ┆ 153.0 ┆ 2015-01-14 │\n",
       "└─────────────┴────────────────┴──────────────────────────┴───────┴────────────┘"
      ]
     },
     "metadata": {},
     "output_type": "display_data"
    },
    {
     "name": "stdout",
     "output_type": "stream",
     "text": [
      "lazy_measurement_HbA1c_level__DCCT_aligned__7\n"
     ]
    },
    {
     "data": {
      "text/html": [
       "<div><style>\n",
       ".dataframe > thead > tr > th,\n",
       ".dataframe > tbody > tr > td {\n",
       "  text-align: right;\n",
       "}\n",
       "</style>\n",
       "<small>shape: (5, 5)</small><table border=\"1\" class=\"dataframe\"><thead><tr><th>PRACTICE_ID</th><th>PATIENT_ID</th><th>EVENT</th><th>VALUE</th><th>DATE</th></tr><tr><td>i64</td><td>i64</td><td>str</td><td>f64</td><td>str</td></tr></thead><tbody><tr><td>21515</td><td>5954187521515</td><td>&quot;HbA1c_level__D…</td><td>7.3</td><td>&quot;2011-07-15&quot;</td></tr><tr><td>21515</td><td>5954189921515</td><td>&quot;HbA1c_level__D…</td><td>6.6</td><td>&quot;2009-08-17&quot;</td></tr><tr><td>21515</td><td>5954189921515</td><td>&quot;HbA1c_level__D…</td><td>6.5</td><td>&quot;2010-04-12&quot;</td></tr><tr><td>21515</td><td>5954189921515</td><td>&quot;HbA1c_level__D…</td><td>6.5</td><td>&quot;2010-10-01&quot;</td></tr><tr><td>21515</td><td>5954189921515</td><td>&quot;HbA1c_level__D…</td><td>6.8</td><td>&quot;2011-11-23&quot;</td></tr></tbody></table></div>"
      ],
      "text/plain": [
       "shape: (5, 5)\n",
       "┌─────────────┬───────────────┬──────────────────────────────┬───────┬────────────┐\n",
       "│ PRACTICE_ID ┆ PATIENT_ID    ┆ EVENT                        ┆ VALUE ┆ DATE       │\n",
       "│ ---         ┆ ---           ┆ ---                          ┆ ---   ┆ ---        │\n",
       "│ i64         ┆ i64           ┆ str                          ┆ f64   ┆ str        │\n",
       "╞═════════════╪═══════════════╪══════════════════════════════╪═══════╪════════════╡\n",
       "│ 21515       ┆ 5954187521515 ┆ HbA1c_level__DCCT_aligned__7 ┆ 7.3   ┆ 2011-07-15 │\n",
       "│ 21515       ┆ 5954189921515 ┆ HbA1c_level__DCCT_aligned__7 ┆ 6.6   ┆ 2009-08-17 │\n",
       "│ 21515       ┆ 5954189921515 ┆ HbA1c_level__DCCT_aligned__7 ┆ 6.5   ┆ 2010-04-12 │\n",
       "│ 21515       ┆ 5954189921515 ┆ HbA1c_level__DCCT_aligned__7 ┆ 6.5   ┆ 2010-10-01 │\n",
       "│ 21515       ┆ 5954189921515 ┆ HbA1c_level__DCCT_aligned__7 ┆ 6.8   ┆ 2011-11-23 │\n",
       "└─────────────┴───────────────┴──────────────────────────────┴───────┴────────────┘"
      ]
     },
     "metadata": {},
     "output_type": "display_data"
    },
    {
     "name": "stdout",
     "output_type": "stream",
     "text": [
      "lazy_measurement_INR___international_normalised_ratio_81\n"
     ]
    },
    {
     "data": {
      "text/html": [
       "<div><style>\n",
       ".dataframe > thead > tr > th,\n",
       ".dataframe > tbody > tr > td {\n",
       "  text-align: right;\n",
       "}\n",
       "</style>\n",
       "<small>shape: (5, 5)</small><table border=\"1\" class=\"dataframe\"><thead><tr><th>PRACTICE_ID</th><th>PATIENT_ID</th><th>EVENT</th><th>VALUE</th><th>DATE</th></tr><tr><td>i64</td><td>i64</td><td>str</td><td>f64</td><td>str</td></tr></thead><tbody><tr><td>21515</td><td>5955357521515</td><td>&quot;INR___internat…</td><td>5.1</td><td>&quot;2021-07-29&quot;</td></tr><tr><td>21515</td><td>5955620221515</td><td>&quot;INR___internat…</td><td>10.3</td><td>&quot;2020-01-02&quot;</td></tr><tr><td>21515</td><td>5956659021515</td><td>&quot;INR___internat…</td><td>6.0</td><td>&quot;2022-01-10&quot;</td></tr><tr><td>21515</td><td>5956659021515</td><td>&quot;INR___internat…</td><td>6.4</td><td>&quot;2022-01-17&quot;</td></tr><tr><td>21515</td><td>5957325321515</td><td>&quot;INR___internat…</td><td>9.2</td><td>&quot;2021-12-30&quot;</td></tr></tbody></table></div>"
      ],
      "text/plain": [
       "shape: (5, 5)\n",
       "┌─────────────┬───────────────┬───────────────────────────────────┬───────┬────────────┐\n",
       "│ PRACTICE_ID ┆ PATIENT_ID    ┆ EVENT                             ┆ VALUE ┆ DATE       │\n",
       "│ ---         ┆ ---           ┆ ---                               ┆ ---   ┆ ---        │\n",
       "│ i64         ┆ i64           ┆ str                               ┆ f64   ┆ str        │\n",
       "╞═════════════╪═══════════════╪═══════════════════════════════════╪═══════╪════════════╡\n",
       "│ 21515       ┆ 5955357521515 ┆ INR___international_normalised_r… ┆ 5.1   ┆ 2021-07-29 │\n",
       "│ 21515       ┆ 5955620221515 ┆ INR___international_normalised_r… ┆ 10.3  ┆ 2020-01-02 │\n",
       "│ 21515       ┆ 5956659021515 ┆ INR___international_normalised_r… ┆ 6.0   ┆ 2022-01-10 │\n",
       "│ 21515       ┆ 5956659021515 ┆ INR___international_normalised_r… ┆ 6.4   ┆ 2022-01-17 │\n",
       "│ 21515       ┆ 5957325321515 ┆ INR___international_normalised_r… ┆ 9.2   ┆ 2021-12-30 │\n",
       "└─────────────┴───────────────┴───────────────────────────────────┴───────┴────────────┘"
      ]
     },
     "metadata": {},
     "output_type": "display_data"
    },
    {
     "name": "stdout",
     "output_type": "stream",
     "text": [
      "lazy_measurement_International_normalised_ratio_82\n"
     ]
    },
    {
     "data": {
      "text/html": [
       "<div><style>\n",
       ".dataframe > thead > tr > th,\n",
       ".dataframe > tbody > tr > td {\n",
       "  text-align: right;\n",
       "}\n",
       "</style>\n",
       "<small>shape: (5, 5)</small><table border=\"1\" class=\"dataframe\"><thead><tr><th>PRACTICE_ID</th><th>PATIENT_ID</th><th>EVENT</th><th>VALUE</th><th>DATE</th></tr><tr><td>i64</td><td>i64</td><td>str</td><td>f64</td><td>str</td></tr></thead><tbody><tr><td>21515</td><td>5954193221515</td><td>&quot;International_…</td><td>1.8</td><td>&quot;2016-07-19&quot;</td></tr><tr><td>21515</td><td>5954193221515</td><td>&quot;International_…</td><td>2.8</td><td>&quot;2016-07-25&quot;</td></tr><tr><td>21515</td><td>5954193221515</td><td>&quot;International_…</td><td>4.0</td><td>&quot;2016-08-08&quot;</td></tr><tr><td>21515</td><td>5954193221515</td><td>&quot;International_…</td><td>3.0</td><td>&quot;2016-08-15&quot;</td></tr><tr><td>21515</td><td>5954193221515</td><td>&quot;International_…</td><td>2.9</td><td>&quot;2016-08-24&quot;</td></tr></tbody></table></div>"
      ],
      "text/plain": [
       "shape: (5, 5)\n",
       "┌─────────────┬───────────────┬───────────────────────────────────┬───────┬────────────┐\n",
       "│ PRACTICE_ID ┆ PATIENT_ID    ┆ EVENT                             ┆ VALUE ┆ DATE       │\n",
       "│ ---         ┆ ---           ┆ ---                               ┆ ---   ┆ ---        │\n",
       "│ i64         ┆ i64           ┆ str                               ┆ f64   ┆ str        │\n",
       "╞═════════════╪═══════════════╪═══════════════════════════════════╪═══════╪════════════╡\n",
       "│ 21515       ┆ 5954193221515 ┆ International_normalised_ratio_8… ┆ 1.8   ┆ 2016-07-19 │\n",
       "│ 21515       ┆ 5954193221515 ┆ International_normalised_ratio_8… ┆ 2.8   ┆ 2016-07-25 │\n",
       "│ 21515       ┆ 5954193221515 ┆ International_normalised_ratio_8… ┆ 4.0   ┆ 2016-08-08 │\n",
       "│ 21515       ┆ 5954193221515 ┆ International_normalised_ratio_8… ┆ 3.0   ┆ 2016-08-15 │\n",
       "│ 21515       ┆ 5954193221515 ┆ International_normalised_ratio_8… ┆ 2.9   ┆ 2016-08-24 │\n",
       "└─────────────┴───────────────┴───────────────────────────────────┴───────┴────────────┘"
      ]
     },
     "metadata": {},
     "output_type": "display_data"
    },
    {
     "name": "stdout",
     "output_type": "stream",
     "text": [
      "lazy_measurement_Lymphocyte_count_20\n"
     ]
    },
    {
     "data": {
      "text/html": [
       "<div><style>\n",
       ".dataframe > thead > tr > th,\n",
       ".dataframe > tbody > tr > td {\n",
       "  text-align: right;\n",
       "}\n",
       "</style>\n",
       "<small>shape: (5, 5)</small><table border=\"1\" class=\"dataframe\"><thead><tr><th>PRACTICE_ID</th><th>PATIENT_ID</th><th>EVENT</th><th>VALUE</th><th>DATE</th></tr><tr><td>i64</td><td>i64</td><td>str</td><td>f64</td><td>str</td></tr></thead><tbody><tr><td>21515</td><td>10995640321515</td><td>&quot;Lymphocyte_cou…</td><td>2.9</td><td>&quot;2022-01-13&quot;</td></tr><tr><td>21515</td><td>10996238121515</td><td>&quot;Lymphocyte_cou…</td><td>2.4</td><td>&quot;2006-08-24&quot;</td></tr><tr><td>21515</td><td>10996238121515</td><td>&quot;Lymphocyte_cou…</td><td>2.2</td><td>&quot;2013-06-06&quot;</td></tr><tr><td>21515</td><td>10996238121515</td><td>&quot;Lymphocyte_cou…</td><td>2.0</td><td>&quot;2013-08-08&quot;</td></tr><tr><td>21515</td><td>10996238121515</td><td>&quot;Lymphocyte_cou…</td><td>2.2</td><td>&quot;2015-01-14&quot;</td></tr></tbody></table></div>"
      ],
      "text/plain": [
       "shape: (5, 5)\n",
       "┌─────────────┬────────────────┬─────────────────────┬───────┬────────────┐\n",
       "│ PRACTICE_ID ┆ PATIENT_ID     ┆ EVENT               ┆ VALUE ┆ DATE       │\n",
       "│ ---         ┆ ---            ┆ ---                 ┆ ---   ┆ ---        │\n",
       "│ i64         ┆ i64            ┆ str                 ┆ f64   ┆ str        │\n",
       "╞═════════════╪════════════════╪═════════════════════╪═══════╪════════════╡\n",
       "│ 21515       ┆ 10995640321515 ┆ Lymphocyte_count_20 ┆ 2.9   ┆ 2022-01-13 │\n",
       "│ 21515       ┆ 10996238121515 ┆ Lymphocyte_count_20 ┆ 2.4   ┆ 2006-08-24 │\n",
       "│ 21515       ┆ 10996238121515 ┆ Lymphocyte_count_20 ┆ 2.2   ┆ 2013-06-06 │\n",
       "│ 21515       ┆ 10996238121515 ┆ Lymphocyte_count_20 ┆ 2.0   ┆ 2013-08-08 │\n",
       "│ 21515       ┆ 10996238121515 ┆ Lymphocyte_count_20 ┆ 2.2   ┆ 2015-01-14 │\n",
       "└─────────────┴────────────────┴─────────────────────┴───────┴────────────┘"
      ]
     },
     "metadata": {},
     "output_type": "display_data"
    },
    {
     "name": "stdout",
     "output_type": "stream",
     "text": [
      "lazy_measurement_Mean_corpusc_Hb_conc__MCHC__14\n"
     ]
    },
    {
     "data": {
      "text/html": [
       "<div><style>\n",
       ".dataframe > thead > tr > th,\n",
       ".dataframe > tbody > tr > td {\n",
       "  text-align: right;\n",
       "}\n",
       "</style>\n",
       "<small>shape: (5, 5)</small><table border=\"1\" class=\"dataframe\"><thead><tr><th>PRACTICE_ID</th><th>PATIENT_ID</th><th>EVENT</th><th>VALUE</th><th>DATE</th></tr><tr><td>i64</td><td>i64</td><td>str</td><td>f64</td><td>str</td></tr></thead><tbody><tr><td>21515</td><td>10995640321515</td><td>&quot;Mean_corpusc_H…</td><td>344.0</td><td>&quot;2022-01-13&quot;</td></tr><tr><td>21515</td><td>10996238121515</td><td>&quot;Mean_corpusc_H…</td><td>34.0</td><td>&quot;2006-08-24&quot;</td></tr><tr><td>21515</td><td>10996238121515</td><td>&quot;Mean_corpusc_H…</td><td>321.0</td><td>&quot;2013-06-06&quot;</td></tr><tr><td>21515</td><td>10996238121515</td><td>&quot;Mean_corpusc_H…</td><td>316.0</td><td>&quot;2013-08-08&quot;</td></tr><tr><td>21515</td><td>10996238121515</td><td>&quot;Mean_corpusc_H…</td><td>330.0</td><td>&quot;2015-01-14&quot;</td></tr></tbody></table></div>"
      ],
      "text/plain": [
       "shape: (5, 5)\n",
       "┌─────────────┬────────────────┬────────────────────────────────┬───────┬────────────┐\n",
       "│ PRACTICE_ID ┆ PATIENT_ID     ┆ EVENT                          ┆ VALUE ┆ DATE       │\n",
       "│ ---         ┆ ---            ┆ ---                            ┆ ---   ┆ ---        │\n",
       "│ i64         ┆ i64            ┆ str                            ┆ f64   ┆ str        │\n",
       "╞═════════════╪════════════════╪════════════════════════════════╪═══════╪════════════╡\n",
       "│ 21515       ┆ 10995640321515 ┆ Mean_corpusc_Hb_conc__MCHC__14 ┆ 344.0 ┆ 2022-01-13 │\n",
       "│ 21515       ┆ 10996238121515 ┆ Mean_corpusc_Hb_conc__MCHC__14 ┆ 34.0  ┆ 2006-08-24 │\n",
       "│ 21515       ┆ 10996238121515 ┆ Mean_corpusc_Hb_conc__MCHC__14 ┆ 321.0 ┆ 2013-06-06 │\n",
       "│ 21515       ┆ 10996238121515 ┆ Mean_corpusc_Hb_conc__MCHC__14 ┆ 316.0 ┆ 2013-08-08 │\n",
       "│ 21515       ┆ 10996238121515 ┆ Mean_corpusc_Hb_conc__MCHC__14 ┆ 330.0 ┆ 2015-01-14 │\n",
       "└─────────────┴────────────────┴────────────────────────────────┴───────┴────────────┘"
      ]
     },
     "metadata": {},
     "output_type": "display_data"
    },
    {
     "name": "stdout",
     "output_type": "stream",
     "text": [
      "lazy_measurement_Mean_corpusc_haemoglobin_MCH__13\n"
     ]
    },
    {
     "data": {
      "text/html": [
       "<div><style>\n",
       ".dataframe > thead > tr > th,\n",
       ".dataframe > tbody > tr > td {\n",
       "  text-align: right;\n",
       "}\n",
       "</style>\n",
       "<small>shape: (5, 5)</small><table border=\"1\" class=\"dataframe\"><thead><tr><th>PRACTICE_ID</th><th>PATIENT_ID</th><th>EVENT</th><th>VALUE</th><th>DATE</th></tr><tr><td>i64</td><td>i64</td><td>str</td><td>f64</td><td>str</td></tr></thead><tbody><tr><td>21515</td><td>10995640321515</td><td>&quot;Mean_corpusc_h…</td><td>29.8</td><td>&quot;2022-01-13&quot;</td></tr><tr><td>21515</td><td>10996238121515</td><td>&quot;Mean_corpusc_h…</td><td>25.9</td><td>&quot;2006-08-24&quot;</td></tr><tr><td>21515</td><td>10996238121515</td><td>&quot;Mean_corpusc_h…</td><td>25.0</td><td>&quot;2013-06-06&quot;</td></tr><tr><td>21515</td><td>10996238121515</td><td>&quot;Mean_corpusc_h…</td><td>24.7</td><td>&quot;2013-08-08&quot;</td></tr><tr><td>21515</td><td>10996238121515</td><td>&quot;Mean_corpusc_h…</td><td>25.5</td><td>&quot;2015-01-14&quot;</td></tr></tbody></table></div>"
      ],
      "text/plain": [
       "shape: (5, 5)\n",
       "┌─────────────┬────────────────┬──────────────────────────────────┬───────┬────────────┐\n",
       "│ PRACTICE_ID ┆ PATIENT_ID     ┆ EVENT                            ┆ VALUE ┆ DATE       │\n",
       "│ ---         ┆ ---            ┆ ---                              ┆ ---   ┆ ---        │\n",
       "│ i64         ┆ i64            ┆ str                              ┆ f64   ┆ str        │\n",
       "╞═════════════╪════════════════╪══════════════════════════════════╪═══════╪════════════╡\n",
       "│ 21515       ┆ 10995640321515 ┆ Mean_corpusc_haemoglobin_MCH__13 ┆ 29.8  ┆ 2022-01-13 │\n",
       "│ 21515       ┆ 10996238121515 ┆ Mean_corpusc_haemoglobin_MCH__13 ┆ 25.9  ┆ 2006-08-24 │\n",
       "│ 21515       ┆ 10996238121515 ┆ Mean_corpusc_haemoglobin_MCH__13 ┆ 25.0  ┆ 2013-06-06 │\n",
       "│ 21515       ┆ 10996238121515 ┆ Mean_corpusc_haemoglobin_MCH__13 ┆ 24.7  ┆ 2013-08-08 │\n",
       "│ 21515       ┆ 10996238121515 ┆ Mean_corpusc_haemoglobin_MCH__13 ┆ 25.5  ┆ 2015-01-14 │\n",
       "└─────────────┴────────────────┴──────────────────────────────────┴───────┴────────────┘"
      ]
     },
     "metadata": {},
     "output_type": "display_data"
    },
    {
     "name": "stdout",
     "output_type": "stream",
     "text": [
      "lazy_measurement_Mean_corpuscular_volume__MCV__11\n"
     ]
    },
    {
     "data": {
      "text/html": [
       "<div><style>\n",
       ".dataframe > thead > tr > th,\n",
       ".dataframe > tbody > tr > td {\n",
       "  text-align: right;\n",
       "}\n",
       "</style>\n",
       "<small>shape: (5, 5)</small><table border=\"1\" class=\"dataframe\"><thead><tr><th>PRACTICE_ID</th><th>PATIENT_ID</th><th>EVENT</th><th>VALUE</th><th>DATE</th></tr><tr><td>i64</td><td>i64</td><td>str</td><td>f64</td><td>str</td></tr></thead><tbody><tr><td>21515</td><td>10995640321515</td><td>&quot;Mean_corpuscul…</td><td>87.0</td><td>&quot;2022-01-13&quot;</td></tr><tr><td>21515</td><td>10996238121515</td><td>&quot;Mean_corpuscul…</td><td>76.0</td><td>&quot;2006-08-24&quot;</td></tr><tr><td>21515</td><td>10996238121515</td><td>&quot;Mean_corpuscul…</td><td>78.0</td><td>&quot;2013-06-06&quot;</td></tr><tr><td>21515</td><td>10996238121515</td><td>&quot;Mean_corpuscul…</td><td>78.0</td><td>&quot;2013-08-08&quot;</td></tr><tr><td>21515</td><td>10996238121515</td><td>&quot;Mean_corpuscul…</td><td>77.0</td><td>&quot;2015-01-14&quot;</td></tr></tbody></table></div>"
      ],
      "text/plain": [
       "shape: (5, 5)\n",
       "┌─────────────┬────────────────┬──────────────────────────────────┬───────┬────────────┐\n",
       "│ PRACTICE_ID ┆ PATIENT_ID     ┆ EVENT                            ┆ VALUE ┆ DATE       │\n",
       "│ ---         ┆ ---            ┆ ---                              ┆ ---   ┆ ---        │\n",
       "│ i64         ┆ i64            ┆ str                              ┆ f64   ┆ str        │\n",
       "╞═════════════╪════════════════╪══════════════════════════════════╪═══════╪════════════╡\n",
       "│ 21515       ┆ 10995640321515 ┆ Mean_corpuscular_volume__MCV__11 ┆ 87.0  ┆ 2022-01-13 │\n",
       "│ 21515       ┆ 10996238121515 ┆ Mean_corpuscular_volume__MCV__11 ┆ 76.0  ┆ 2006-08-24 │\n",
       "│ 21515       ┆ 10996238121515 ┆ Mean_corpuscular_volume__MCV__11 ┆ 78.0  ┆ 2013-06-06 │\n",
       "│ 21515       ┆ 10996238121515 ┆ Mean_corpuscular_volume__MCV__11 ┆ 78.0  ┆ 2013-08-08 │\n",
       "│ 21515       ┆ 10996238121515 ┆ Mean_corpuscular_volume__MCV__11 ┆ 77.0  ┆ 2015-01-14 │\n",
       "└─────────────┴────────────────┴──────────────────────────────────┴───────┴────────────┘"
      ]
     },
     "metadata": {},
     "output_type": "display_data"
    },
    {
     "name": "stdout",
     "output_type": "stream",
     "text": [
      "lazy_measurement_Monocyte_count_23\n"
     ]
    },
    {
     "data": {
      "text/html": [
       "<div><style>\n",
       ".dataframe > thead > tr > th,\n",
       ".dataframe > tbody > tr > td {\n",
       "  text-align: right;\n",
       "}\n",
       "</style>\n",
       "<small>shape: (5, 5)</small><table border=\"1\" class=\"dataframe\"><thead><tr><th>PRACTICE_ID</th><th>PATIENT_ID</th><th>EVENT</th><th>VALUE</th><th>DATE</th></tr><tr><td>i64</td><td>i64</td><td>str</td><td>f64</td><td>str</td></tr></thead><tbody><tr><td>21515</td><td>10995640321515</td><td>&quot;Monocyte_count…</td><td>0.9</td><td>&quot;2022-01-13&quot;</td></tr><tr><td>21515</td><td>10996238121515</td><td>&quot;Monocyte_count…</td><td>0.4</td><td>&quot;2006-08-24&quot;</td></tr><tr><td>21515</td><td>10996238121515</td><td>&quot;Monocyte_count…</td><td>0.5</td><td>&quot;2013-06-06&quot;</td></tr><tr><td>21515</td><td>10996238121515</td><td>&quot;Monocyte_count…</td><td>0.4</td><td>&quot;2013-08-08&quot;</td></tr><tr><td>21515</td><td>10996238121515</td><td>&quot;Monocyte_count…</td><td>0.5</td><td>&quot;2015-01-14&quot;</td></tr></tbody></table></div>"
      ],
      "text/plain": [
       "shape: (5, 5)\n",
       "┌─────────────┬────────────────┬───────────────────┬───────┬────────────┐\n",
       "│ PRACTICE_ID ┆ PATIENT_ID     ┆ EVENT             ┆ VALUE ┆ DATE       │\n",
       "│ ---         ┆ ---            ┆ ---               ┆ ---   ┆ ---        │\n",
       "│ i64         ┆ i64            ┆ str               ┆ f64   ┆ str        │\n",
       "╞═════════════╪════════════════╪═══════════════════╪═══════╪════════════╡\n",
       "│ 21515       ┆ 10995640321515 ┆ Monocyte_count_23 ┆ 0.9   ┆ 2022-01-13 │\n",
       "│ 21515       ┆ 10996238121515 ┆ Monocyte_count_23 ┆ 0.4   ┆ 2006-08-24 │\n",
       "│ 21515       ┆ 10996238121515 ┆ Monocyte_count_23 ┆ 0.5   ┆ 2013-06-06 │\n",
       "│ 21515       ┆ 10996238121515 ┆ Monocyte_count_23 ┆ 0.4   ┆ 2013-08-08 │\n",
       "│ 21515       ┆ 10996238121515 ┆ Monocyte_count_23 ┆ 0.5   ┆ 2015-01-14 │\n",
       "└─────────────┴────────────────┴───────────────────┴───────┴────────────┘"
      ]
     },
     "metadata": {},
     "output_type": "display_data"
    },
    {
     "name": "stdout",
     "output_type": "stream",
     "text": [
      "lazy_measurement_N_terminal_pro_brain_natriuretic_peptide_level_67\n"
     ]
    },
    {
     "data": {
      "text/html": [
       "<div><style>\n",
       ".dataframe > thead > tr > th,\n",
       ".dataframe > tbody > tr > td {\n",
       "  text-align: right;\n",
       "}\n",
       "</style>\n",
       "<small>shape: (5, 5)</small><table border=\"1\" class=\"dataframe\"><thead><tr><th>PRACTICE_ID</th><th>PATIENT_ID</th><th>EVENT</th><th>VALUE</th><th>DATE</th></tr><tr><td>i64</td><td>i64</td><td>str</td><td>f64</td><td>str</td></tr></thead><tbody><tr><td>21515</td><td>5954327421515</td><td>&quot;N_terminal_pro…</td><td>176.0</td><td>&quot;2013-07-25&quot;</td></tr><tr><td>21515</td><td>5954620221515</td><td>&quot;N_terminal_pro…</td><td>1747.0</td><td>&quot;2013-03-21&quot;</td></tr><tr><td>21515</td><td>5954649721515</td><td>&quot;N_terminal_pro…</td><td>73.0</td><td>&quot;2013-04-15&quot;</td></tr><tr><td>21515</td><td>5954706921515</td><td>&quot;N_terminal_pro…</td><td>7256.0</td><td>&quot;2012-04-30&quot;</td></tr><tr><td>21515</td><td>5954737121515</td><td>&quot;N_terminal_pro…</td><td>79.0</td><td>&quot;2013-10-13&quot;</td></tr></tbody></table></div>"
      ],
      "text/plain": [
       "shape: (5, 5)\n",
       "┌─────────────┬───────────────┬───────────────────────────────────┬────────┬────────────┐\n",
       "│ PRACTICE_ID ┆ PATIENT_ID    ┆ EVENT                             ┆ VALUE  ┆ DATE       │\n",
       "│ ---         ┆ ---           ┆ ---                               ┆ ---    ┆ ---        │\n",
       "│ i64         ┆ i64           ┆ str                               ┆ f64    ┆ str        │\n",
       "╞═════════════╪═══════════════╪═══════════════════════════════════╪════════╪════════════╡\n",
       "│ 21515       ┆ 5954327421515 ┆ N_terminal_pro_brain_natriuretic… ┆ 176.0  ┆ 2013-07-25 │\n",
       "│ 21515       ┆ 5954620221515 ┆ N_terminal_pro_brain_natriuretic… ┆ 1747.0 ┆ 2013-03-21 │\n",
       "│ 21515       ┆ 5954649721515 ┆ N_terminal_pro_brain_natriuretic… ┆ 73.0   ┆ 2013-04-15 │\n",
       "│ 21515       ┆ 5954706921515 ┆ N_terminal_pro_brain_natriuretic… ┆ 7256.0 ┆ 2012-04-30 │\n",
       "│ 21515       ┆ 5954737121515 ┆ N_terminal_pro_brain_natriuretic… ┆ 79.0   ┆ 2013-10-13 │\n",
       "└─────────────┴───────────────┴───────────────────────────────────┴────────┴────────────┘"
      ]
     },
     "metadata": {},
     "output_type": "display_data"
    },
    {
     "name": "stdout",
     "output_type": "stream",
     "text": [
      "lazy_measurement_Neutrophil_count_19\n"
     ]
    },
    {
     "data": {
      "text/html": [
       "<div><style>\n",
       ".dataframe > thead > tr > th,\n",
       ".dataframe > tbody > tr > td {\n",
       "  text-align: right;\n",
       "}\n",
       "</style>\n",
       "<small>shape: (5, 5)</small><table border=\"1\" class=\"dataframe\"><thead><tr><th>PRACTICE_ID</th><th>PATIENT_ID</th><th>EVENT</th><th>VALUE</th><th>DATE</th></tr><tr><td>i64</td><td>i64</td><td>str</td><td>f64</td><td>str</td></tr></thead><tbody><tr><td>21515</td><td>10995640321515</td><td>&quot;Neutrophil_cou…</td><td>10.7</td><td>&quot;2022-01-13&quot;</td></tr><tr><td>21515</td><td>10996238121515</td><td>&quot;Neutrophil_cou…</td><td>4.2</td><td>&quot;2006-08-24&quot;</td></tr><tr><td>21515</td><td>10996238121515</td><td>&quot;Neutrophil_cou…</td><td>3.0</td><td>&quot;2013-06-06&quot;</td></tr><tr><td>21515</td><td>10996238121515</td><td>&quot;Neutrophil_cou…</td><td>3.9</td><td>&quot;2013-08-08&quot;</td></tr><tr><td>21515</td><td>10996238121515</td><td>&quot;Neutrophil_cou…</td><td>3.5</td><td>&quot;2015-01-14&quot;</td></tr></tbody></table></div>"
      ],
      "text/plain": [
       "shape: (5, 5)\n",
       "┌─────────────┬────────────────┬─────────────────────┬───────┬────────────┐\n",
       "│ PRACTICE_ID ┆ PATIENT_ID     ┆ EVENT               ┆ VALUE ┆ DATE       │\n",
       "│ ---         ┆ ---            ┆ ---                 ┆ ---   ┆ ---        │\n",
       "│ i64         ┆ i64            ┆ str                 ┆ f64   ┆ str        │\n",
       "╞═════════════╪════════════════╪═════════════════════╪═══════╪════════════╡\n",
       "│ 21515       ┆ 10995640321515 ┆ Neutrophil_count_19 ┆ 10.7  ┆ 2022-01-13 │\n",
       "│ 21515       ┆ 10996238121515 ┆ Neutrophil_count_19 ┆ 4.2   ┆ 2006-08-24 │\n",
       "│ 21515       ┆ 10996238121515 ┆ Neutrophil_count_19 ┆ 3.0   ┆ 2013-06-06 │\n",
       "│ 21515       ┆ 10996238121515 ┆ Neutrophil_count_19 ┆ 3.9   ┆ 2013-08-08 │\n",
       "│ 21515       ┆ 10996238121515 ┆ Neutrophil_count_19 ┆ 3.5   ┆ 2015-01-14 │\n",
       "└─────────────┴────────────────┴─────────────────────┴───────┴────────────┘"
      ]
     },
     "metadata": {},
     "output_type": "display_data"
    },
    {
     "name": "stdout",
     "output_type": "stream",
     "text": [
      "lazy_measurement_Never_smoked_tobacco_85\n"
     ]
    },
    {
     "data": {
      "text/html": [
       "<div><style>\n",
       ".dataframe > thead > tr > th,\n",
       ".dataframe > tbody > tr > td {\n",
       "  text-align: right;\n",
       "}\n",
       "</style>\n",
       "<small>shape: (5, 5)</small><table border=\"1\" class=\"dataframe\"><thead><tr><th>PRACTICE_ID</th><th>PATIENT_ID</th><th>EVENT</th><th>VALUE</th><th>DATE</th></tr><tr><td>i64</td><td>i64</td><td>str</td><td>f64</td><td>str</td></tr></thead><tbody><tr><td>21515</td><td>10996238121515</td><td>&quot;Never_smoked_t…</td><td>null</td><td>&quot;2001-09-18&quot;</td></tr><tr><td>21515</td><td>10996238121515</td><td>&quot;Never_smoked_t…</td><td>null</td><td>&quot;2004-07-23&quot;</td></tr><tr><td>21515</td><td>10996238121515</td><td>&quot;Never_smoked_t…</td><td>null</td><td>&quot;2005-04-06&quot;</td></tr><tr><td>21515</td><td>10996238121515</td><td>&quot;Never_smoked_t…</td><td>null</td><td>&quot;2006-06-06&quot;</td></tr><tr><td>21515</td><td>10996238121515</td><td>&quot;Never_smoked_t…</td><td>null</td><td>&quot;2007-04-16&quot;</td></tr></tbody></table></div>"
      ],
      "text/plain": [
       "shape: (5, 5)\n",
       "┌─────────────┬────────────────┬─────────────────────────┬───────┬────────────┐\n",
       "│ PRACTICE_ID ┆ PATIENT_ID     ┆ EVENT                   ┆ VALUE ┆ DATE       │\n",
       "│ ---         ┆ ---            ┆ ---                     ┆ ---   ┆ ---        │\n",
       "│ i64         ┆ i64            ┆ str                     ┆ f64   ┆ str        │\n",
       "╞═════════════╪════════════════╪═════════════════════════╪═══════╪════════════╡\n",
       "│ 21515       ┆ 10996238121515 ┆ Never_smoked_tobacco_85 ┆ null  ┆ 2001-09-18 │\n",
       "│ 21515       ┆ 10996238121515 ┆ Never_smoked_tobacco_85 ┆ null  ┆ 2004-07-23 │\n",
       "│ 21515       ┆ 10996238121515 ┆ Never_smoked_tobacco_85 ┆ null  ┆ 2005-04-06 │\n",
       "│ 21515       ┆ 10996238121515 ┆ Never_smoked_tobacco_85 ┆ null  ┆ 2006-06-06 │\n",
       "│ 21515       ┆ 10996238121515 ┆ Never_smoked_tobacco_85 ┆ null  ┆ 2007-04-16 │\n",
       "└─────────────┴────────────────┴─────────────────────────┴───────┴────────────┘"
      ]
     },
     "metadata": {},
     "output_type": "display_data"
    },
    {
     "name": "stdout",
     "output_type": "stream",
     "text": [
      "lazy_measurement_Non_HDL_cholesterol_level_108\n"
     ]
    },
    {
     "data": {
      "text/html": [
       "<div><style>\n",
       ".dataframe > thead > tr > th,\n",
       ".dataframe > tbody > tr > td {\n",
       "  text-align: right;\n",
       "}\n",
       "</style>\n",
       "<small>shape: (5, 5)</small><table border=\"1\" class=\"dataframe\"><thead><tr><th>PRACTICE_ID</th><th>PATIENT_ID</th><th>EVENT</th><th>VALUE</th><th>DATE</th></tr><tr><td>i64</td><td>i64</td><td>str</td><td>f64</td><td>str</td></tr></thead><tbody><tr><td>21515</td><td>5954236321515</td><td>&quot;Non_HDL_choles…</td><td>2.9</td><td>&quot;2016-02-18&quot;</td></tr><tr><td>21515</td><td>5954246121515</td><td>&quot;Non_HDL_choles…</td><td>3.5</td><td>&quot;2015-12-31&quot;</td></tr><tr><td>21515</td><td>5954296021515</td><td>&quot;Non_HDL_choles…</td><td>2.1</td><td>&quot;2015-10-16&quot;</td></tr><tr><td>21515</td><td>5954533721515</td><td>&quot;Non_HDL_choles…</td><td>3.2</td><td>&quot;2014-11-14&quot;</td></tr><tr><td>21515</td><td>5954533721515</td><td>&quot;Non_HDL_choles…</td><td>3.1</td><td>&quot;2015-10-16&quot;</td></tr></tbody></table></div>"
      ],
      "text/plain": [
       "shape: (5, 5)\n",
       "┌─────────────┬───────────────┬───────────────────────────────┬───────┬────────────┐\n",
       "│ PRACTICE_ID ┆ PATIENT_ID    ┆ EVENT                         ┆ VALUE ┆ DATE       │\n",
       "│ ---         ┆ ---           ┆ ---                           ┆ ---   ┆ ---        │\n",
       "│ i64         ┆ i64           ┆ str                           ┆ f64   ┆ str        │\n",
       "╞═════════════╪═══════════════╪═══════════════════════════════╪═══════╪════════════╡\n",
       "│ 21515       ┆ 5954236321515 ┆ Non_HDL_cholesterol_level_108 ┆ 2.9   ┆ 2016-02-18 │\n",
       "│ 21515       ┆ 5954246121515 ┆ Non_HDL_cholesterol_level_108 ┆ 3.5   ┆ 2015-12-31 │\n",
       "│ 21515       ┆ 5954296021515 ┆ Non_HDL_cholesterol_level_108 ┆ 2.1   ┆ 2015-10-16 │\n",
       "│ 21515       ┆ 5954533721515 ┆ Non_HDL_cholesterol_level_108 ┆ 3.2   ┆ 2014-11-14 │\n",
       "│ 21515       ┆ 5954533721515 ┆ Non_HDL_cholesterol_level_108 ┆ 3.1   ┆ 2015-10-16 │\n",
       "└─────────────┴───────────────┴───────────────────────────────┴───────┴────────────┘"
      ]
     },
     "metadata": {},
     "output_type": "display_data"
    },
    {
     "name": "stdout",
     "output_type": "stream",
     "text": [
      "lazy_measurement_O_E___height_1\n"
     ]
    },
    {
     "data": {
      "text/html": [
       "<div><style>\n",
       ".dataframe > thead > tr > th,\n",
       ".dataframe > tbody > tr > td {\n",
       "  text-align: right;\n",
       "}\n",
       "</style>\n",
       "<small>shape: (5, 5)</small><table border=\"1\" class=\"dataframe\"><thead><tr><th>PRACTICE_ID</th><th>PATIENT_ID</th><th>EVENT</th><th>VALUE</th><th>DATE</th></tr><tr><td>i64</td><td>i64</td><td>str</td><td>f64</td><td>str</td></tr></thead><tbody><tr><td>21515</td><td>10995640321515</td><td>&quot;O_E___height_1…</td><td>149.86</td><td>&quot;2021-03-25&quot;</td></tr><tr><td>21515</td><td>10995640321515</td><td>&quot;O_E___height_1…</td><td>149.0</td><td>&quot;2021-08-10&quot;</td></tr><tr><td>21515</td><td>10996238021515</td><td>&quot;O_E___height_1…</td><td>172.72</td><td>&quot;2021-03-25&quot;</td></tr><tr><td>21515</td><td>10996238121515</td><td>&quot;O_E___height_1…</td><td>187.96</td><td>&quot;2001-09-18&quot;</td></tr><tr><td>21515</td><td>10996238121515</td><td>&quot;O_E___height_1…</td><td>187.0</td><td>&quot;2015-02-23&quot;</td></tr></tbody></table></div>"
      ],
      "text/plain": [
       "shape: (5, 5)\n",
       "┌─────────────┬────────────────┬────────────────┬────────┬────────────┐\n",
       "│ PRACTICE_ID ┆ PATIENT_ID     ┆ EVENT          ┆ VALUE  ┆ DATE       │\n",
       "│ ---         ┆ ---            ┆ ---            ┆ ---    ┆ ---        │\n",
       "│ i64         ┆ i64            ┆ str            ┆ f64    ┆ str        │\n",
       "╞═════════════╪════════════════╪════════════════╪════════╪════════════╡\n",
       "│ 21515       ┆ 10995640321515 ┆ O_E___height_1 ┆ 149.86 ┆ 2021-03-25 │\n",
       "│ 21515       ┆ 10995640321515 ┆ O_E___height_1 ┆ 149.0  ┆ 2021-08-10 │\n",
       "│ 21515       ┆ 10996238021515 ┆ O_E___height_1 ┆ 172.72 ┆ 2021-03-25 │\n",
       "│ 21515       ┆ 10996238121515 ┆ O_E___height_1 ┆ 187.96 ┆ 2001-09-18 │\n",
       "│ 21515       ┆ 10996238121515 ┆ O_E___height_1 ┆ 187.0  ┆ 2015-02-23 │\n",
       "└─────────────┴────────────────┴────────────────┴────────┴────────────┘"
      ]
     },
     "metadata": {},
     "output_type": "display_data"
    },
    {
     "name": "stdout",
     "output_type": "stream",
     "text": [
      "lazy_measurement_O_E___weight_2\n"
     ]
    },
    {
     "data": {
      "text/html": [
       "<div><style>\n",
       ".dataframe > thead > tr > th,\n",
       ".dataframe > tbody > tr > td {\n",
       "  text-align: right;\n",
       "}\n",
       "</style>\n",
       "<small>shape: (5, 5)</small><table border=\"1\" class=\"dataframe\"><thead><tr><th>PRACTICE_ID</th><th>PATIENT_ID</th><th>EVENT</th><th>VALUE</th><th>DATE</th></tr><tr><td>i64</td><td>i64</td><td>str</td><td>f64</td><td>str</td></tr></thead><tbody><tr><td>21515</td><td>10995640321515</td><td>&quot;O_E___weight_2…</td><td>63.504</td><td>&quot;2021-03-25&quot;</td></tr><tr><td>21515</td><td>10995640321515</td><td>&quot;O_E___weight_2…</td><td>69.854</td><td>&quot;2021-08-10&quot;</td></tr><tr><td>21515</td><td>10996237921515</td><td>&quot;O_E___weight_2…</td><td>null</td><td>&quot;2018-10-30&quot;</td></tr><tr><td>21515</td><td>10996238021515</td><td>&quot;O_E___weight_2…</td><td>95.256</td><td>&quot;2021-03-25&quot;</td></tr><tr><td>21515</td><td>10996238121515</td><td>&quot;O_E___weight_2…</td><td>72.0</td><td>&quot;2001-09-18&quot;</td></tr></tbody></table></div>"
      ],
      "text/plain": [
       "shape: (5, 5)\n",
       "┌─────────────┬────────────────┬────────────────┬────────┬────────────┐\n",
       "│ PRACTICE_ID ┆ PATIENT_ID     ┆ EVENT          ┆ VALUE  ┆ DATE       │\n",
       "│ ---         ┆ ---            ┆ ---            ┆ ---    ┆ ---        │\n",
       "│ i64         ┆ i64            ┆ str            ┆ f64    ┆ str        │\n",
       "╞═════════════╪════════════════╪════════════════╪════════╪════════════╡\n",
       "│ 21515       ┆ 10995640321515 ┆ O_E___weight_2 ┆ 63.504 ┆ 2021-03-25 │\n",
       "│ 21515       ┆ 10995640321515 ┆ O_E___weight_2 ┆ 69.854 ┆ 2021-08-10 │\n",
       "│ 21515       ┆ 10996237921515 ┆ O_E___weight_2 ┆ null   ┆ 2018-10-30 │\n",
       "│ 21515       ┆ 10996238021515 ┆ O_E___weight_2 ┆ 95.256 ┆ 2021-03-25 │\n",
       "│ 21515       ┆ 10996238121515 ┆ O_E___weight_2 ┆ 72.0   ┆ 2001-09-18 │\n",
       "└─────────────┴────────────────┴────────────────┴────────┴────────────┘"
      ]
     },
     "metadata": {},
     "output_type": "display_data"
    },
    {
     "name": "stdout",
     "output_type": "stream",
     "text": [
      "lazy_measurement_Plasma_B_natriuretic_peptide_level_69\n"
     ]
    },
    {
     "data": {
      "text/html": [
       "<div><style>\n",
       ".dataframe > thead > tr > th,\n",
       ".dataframe > tbody > tr > td {\n",
       "  text-align: right;\n",
       "}\n",
       "</style>\n",
       "<small>shape: (2, 5)</small><table border=\"1\" class=\"dataframe\"><thead><tr><th>PRACTICE_ID</th><th>PATIENT_ID</th><th>EVENT</th><th>VALUE</th><th>DATE</th></tr><tr><td>i64</td><td>i64</td><td>str</td><td>f64</td><td>str</td></tr></thead><tbody><tr><td>21515</td><td>5954898821515</td><td>&quot;Plasma_B_natri…</td><td>32.0</td><td>&quot;2019-04-18&quot;</td></tr><tr><td>21515</td><td>6909473421515</td><td>&quot;Plasma_B_natri…</td><td>31.0</td><td>&quot;2019-08-19&quot;</td></tr></tbody></table></div>"
      ],
      "text/plain": [
       "shape: (2, 5)\n",
       "┌─────────────┬───────────────┬───────────────────────────────────┬───────┬────────────┐\n",
       "│ PRACTICE_ID ┆ PATIENT_ID    ┆ EVENT                             ┆ VALUE ┆ DATE       │\n",
       "│ ---         ┆ ---           ┆ ---                               ┆ ---   ┆ ---        │\n",
       "│ i64         ┆ i64           ┆ str                               ┆ f64   ┆ str        │\n",
       "╞═════════════╪═══════════════╪═══════════════════════════════════╪═══════╪════════════╡\n",
       "│ 21515       ┆ 5954898821515 ┆ Plasma_B_natriuretic_peptide_lev… ┆ 32.0  ┆ 2019-04-18 │\n",
       "│ 21515       ┆ 6909473421515 ┆ Plasma_B_natriuretic_peptide_lev… ┆ 31.0  ┆ 2019-08-19 │\n",
       "└─────────────┴───────────────┴───────────────────────────────────┴───────┴────────────┘"
      ]
     },
     "metadata": {},
     "output_type": "display_data"
    },
    {
     "name": "stdout",
     "output_type": "stream",
     "text": [
      "lazy_measurement_Plasma_C_reactive_protein_60\n"
     ]
    },
    {
     "data": {
      "text/html": [
       "<div><style>\n",
       ".dataframe > thead > tr > th,\n",
       ".dataframe > tbody > tr > td {\n",
       "  text-align: right;\n",
       "}\n",
       "</style>\n",
       "<small>shape: (5, 5)</small><table border=\"1\" class=\"dataframe\"><thead><tr><th>PRACTICE_ID</th><th>PATIENT_ID</th><th>EVENT</th><th>VALUE</th><th>DATE</th></tr><tr><td>i64</td><td>i64</td><td>str</td><td>f64</td><td>str</td></tr></thead><tbody><tr><td>21515</td><td>10996238121515</td><td>&quot;Plasma_C_react…</td><td>2.0</td><td>&quot;2013-06-06&quot;</td></tr><tr><td>21515</td><td>10996238121515</td><td>&quot;Plasma_C_react…</td><td>2.0</td><td>&quot;2016-07-22&quot;</td></tr><tr><td>21515</td><td>10996238121515</td><td>&quot;Plasma_C_react…</td><td>1.0</td><td>&quot;2018-08-03&quot;</td></tr><tr><td>21515</td><td>10996238121515</td><td>&quot;Plasma_C_react…</td><td>2.0</td><td>&quot;2019-10-28&quot;</td></tr><tr><td>21515</td><td>5954184321515</td><td>&quot;Plasma_C_react…</td><td>1.0</td><td>&quot;2013-04-25&quot;</td></tr></tbody></table></div>"
      ],
      "text/plain": [
       "shape: (5, 5)\n",
       "┌─────────────┬────────────────┬──────────────────────────────┬───────┬────────────┐\n",
       "│ PRACTICE_ID ┆ PATIENT_ID     ┆ EVENT                        ┆ VALUE ┆ DATE       │\n",
       "│ ---         ┆ ---            ┆ ---                          ┆ ---   ┆ ---        │\n",
       "│ i64         ┆ i64            ┆ str                          ┆ f64   ┆ str        │\n",
       "╞═════════════╪════════════════╪══════════════════════════════╪═══════╪════════════╡\n",
       "│ 21515       ┆ 10996238121515 ┆ Plasma_C_reactive_protein_60 ┆ 2.0   ┆ 2013-06-06 │\n",
       "│ 21515       ┆ 10996238121515 ┆ Plasma_C_reactive_protein_60 ┆ 2.0   ┆ 2016-07-22 │\n",
       "│ 21515       ┆ 10996238121515 ┆ Plasma_C_reactive_protein_60 ┆ 1.0   ┆ 2018-08-03 │\n",
       "│ 21515       ┆ 10996238121515 ┆ Plasma_C_reactive_protein_60 ┆ 2.0   ┆ 2019-10-28 │\n",
       "│ 21515       ┆ 5954184321515  ┆ Plasma_C_reactive_protein_60 ┆ 1.0   ┆ 2013-04-25 │\n",
       "└─────────────┴────────────────┴──────────────────────────────┴───────┴────────────┘"
      ]
     },
     "metadata": {},
     "output_type": "display_data"
    },
    {
     "name": "stdout",
     "output_type": "stream",
     "text": [
      "lazy_measurement_Plasma_HDL_cholesterol_level_101\n"
     ]
    },
    {
     "data": {
      "text/html": [
       "<div><style>\n",
       ".dataframe > thead > tr > th,\n",
       ".dataframe > tbody > tr > td {\n",
       "  text-align: right;\n",
       "}\n",
       "</style>\n",
       "<small>shape: (5, 5)</small><table border=\"1\" class=\"dataframe\"><thead><tr><th>PRACTICE_ID</th><th>PATIENT_ID</th><th>EVENT</th><th>VALUE</th><th>DATE</th></tr><tr><td>i64</td><td>i64</td><td>str</td><td>f64</td><td>str</td></tr></thead><tbody><tr><td>21515</td><td>5954841521515</td><td>&quot;Plasma_HDL_cho…</td><td>1.6</td><td>&quot;2011-02-18&quot;</td></tr><tr><td>21515</td><td>5955883321515</td><td>&quot;Plasma_HDL_cho…</td><td>1.53</td><td>&quot;2013-07-17&quot;</td></tr><tr><td>21515</td><td>5956689421515</td><td>&quot;Plasma_HDL_cho…</td><td>1.83</td><td>&quot;2017-03-14&quot;</td></tr><tr><td>21515</td><td>5957225621515</td><td>&quot;Plasma_HDL_cho…</td><td>null</td><td>&quot;1995-05-25&quot;</td></tr><tr><td>21515</td><td>6500089621515</td><td>&quot;Plasma_HDL_cho…</td><td>1.23</td><td>&quot;2016-12-09&quot;</td></tr></tbody></table></div>"
      ],
      "text/plain": [
       "shape: (5, 5)\n",
       "┌─────────────┬───────────────┬──────────────────────────────────┬───────┬────────────┐\n",
       "│ PRACTICE_ID ┆ PATIENT_ID    ┆ EVENT                            ┆ VALUE ┆ DATE       │\n",
       "│ ---         ┆ ---           ┆ ---                              ┆ ---   ┆ ---        │\n",
       "│ i64         ┆ i64           ┆ str                              ┆ f64   ┆ str        │\n",
       "╞═════════════╪═══════════════╪══════════════════════════════════╪═══════╪════════════╡\n",
       "│ 21515       ┆ 5954841521515 ┆ Plasma_HDL_cholesterol_level_101 ┆ 1.6   ┆ 2011-02-18 │\n",
       "│ 21515       ┆ 5955883321515 ┆ Plasma_HDL_cholesterol_level_101 ┆ 1.53  ┆ 2013-07-17 │\n",
       "│ 21515       ┆ 5956689421515 ┆ Plasma_HDL_cholesterol_level_101 ┆ 1.83  ┆ 2017-03-14 │\n",
       "│ 21515       ┆ 5957225621515 ┆ Plasma_HDL_cholesterol_level_101 ┆ null  ┆ 1995-05-25 │\n",
       "│ 21515       ┆ 6500089621515 ┆ Plasma_HDL_cholesterol_level_101 ┆ 1.23  ┆ 2016-12-09 │\n",
       "└─────────────┴───────────────┴──────────────────────────────────┴───────┴────────────┘"
      ]
     },
     "metadata": {},
     "output_type": "display_data"
    },
    {
     "name": "stdout",
     "output_type": "stream",
     "text": [
      "lazy_measurement_Plasma_LDL_cholesterol_level_104\n"
     ]
    },
    {
     "data": {
      "text/html": [
       "<div><style>\n",
       ".dataframe > thead > tr > th,\n",
       ".dataframe > tbody > tr > td {\n",
       "  text-align: right;\n",
       "}\n",
       "</style>\n",
       "<small>shape: (3, 5)</small><table border=\"1\" class=\"dataframe\"><thead><tr><th>PRACTICE_ID</th><th>PATIENT_ID</th><th>EVENT</th><th>VALUE</th><th>DATE</th></tr><tr><td>i64</td><td>i64</td><td>str</td><td>f64</td><td>str</td></tr></thead><tbody><tr><td>21515</td><td>5954841521515</td><td>&quot;Plasma_LDL_cho…</td><td>3.2</td><td>&quot;2011-02-18&quot;</td></tr><tr><td>21515</td><td>5955883321515</td><td>&quot;Plasma_LDL_cho…</td><td>null</td><td>&quot;2013-07-17&quot;</td></tr><tr><td>21515</td><td>6500089621515</td><td>&quot;Plasma_LDL_cho…</td><td>3.16</td><td>&quot;2016-12-09&quot;</td></tr></tbody></table></div>"
      ],
      "text/plain": [
       "shape: (3, 5)\n",
       "┌─────────────┬───────────────┬──────────────────────────────────┬───────┬────────────┐\n",
       "│ PRACTICE_ID ┆ PATIENT_ID    ┆ EVENT                            ┆ VALUE ┆ DATE       │\n",
       "│ ---         ┆ ---           ┆ ---                              ┆ ---   ┆ ---        │\n",
       "│ i64         ┆ i64           ┆ str                              ┆ f64   ┆ str        │\n",
       "╞═════════════╪═══════════════╪══════════════════════════════════╪═══════╪════════════╡\n",
       "│ 21515       ┆ 5954841521515 ┆ Plasma_LDL_cholesterol_level_104 ┆ 3.2   ┆ 2011-02-18 │\n",
       "│ 21515       ┆ 5955883321515 ┆ Plasma_LDL_cholesterol_level_104 ┆ null  ┆ 2013-07-17 │\n",
       "│ 21515       ┆ 6500089621515 ┆ Plasma_LDL_cholesterol_level_104 ┆ 3.16  ┆ 2016-12-09 │\n",
       "└─────────────┴───────────────┴──────────────────────────────────┴───────┴────────────┘"
      ]
     },
     "metadata": {},
     "output_type": "display_data"
    },
    {
     "name": "stdout",
     "output_type": "stream",
     "text": [
      "lazy_measurement_Plasma_TSH_level_73\n"
     ]
    },
    {
     "data": {
      "text/html": [
       "<div><style>\n",
       ".dataframe > thead > tr > th,\n",
       ".dataframe > tbody > tr > td {\n",
       "  text-align: right;\n",
       "}\n",
       "</style>\n",
       "<small>shape: (5, 5)</small><table border=\"1\" class=\"dataframe\"><thead><tr><th>PRACTICE_ID</th><th>PATIENT_ID</th><th>EVENT</th><th>VALUE</th><th>DATE</th></tr><tr><td>i64</td><td>i64</td><td>str</td><td>f64</td><td>str</td></tr></thead><tbody><tr><td>21515</td><td>5954841521515</td><td>&quot;Plasma_TSH_lev…</td><td>0.95</td><td>&quot;2011-02-18&quot;</td></tr><tr><td>21515</td><td>5955883321515</td><td>&quot;Plasma_TSH_lev…</td><td>0.04</td><td>&quot;2013-07-17&quot;</td></tr><tr><td>21515</td><td>5955883321515</td><td>&quot;Plasma_TSH_lev…</td><td>0.03</td><td>&quot;2013-09-20&quot;</td></tr><tr><td>21515</td><td>5955883321515</td><td>&quot;Plasma_TSH_lev…</td><td>0.41</td><td>&quot;2014-01-27&quot;</td></tr><tr><td>21515</td><td>5955883321515</td><td>&quot;Plasma_TSH_lev…</td><td>0.21</td><td>&quot;2014-03-24&quot;</td></tr></tbody></table></div>"
      ],
      "text/plain": [
       "shape: (5, 5)\n",
       "┌─────────────┬───────────────┬─────────────────────┬───────┬────────────┐\n",
       "│ PRACTICE_ID ┆ PATIENT_ID    ┆ EVENT               ┆ VALUE ┆ DATE       │\n",
       "│ ---         ┆ ---           ┆ ---                 ┆ ---   ┆ ---        │\n",
       "│ i64         ┆ i64           ┆ str                 ┆ f64   ┆ str        │\n",
       "╞═════════════╪═══════════════╪═════════════════════╪═══════╪════════════╡\n",
       "│ 21515       ┆ 5954841521515 ┆ Plasma_TSH_level_73 ┆ 0.95  ┆ 2011-02-18 │\n",
       "│ 21515       ┆ 5955883321515 ┆ Plasma_TSH_level_73 ┆ 0.04  ┆ 2013-07-17 │\n",
       "│ 21515       ┆ 5955883321515 ┆ Plasma_TSH_level_73 ┆ 0.03  ┆ 2013-09-20 │\n",
       "│ 21515       ┆ 5955883321515 ┆ Plasma_TSH_level_73 ┆ 0.41  ┆ 2014-01-27 │\n",
       "│ 21515       ┆ 5955883321515 ┆ Plasma_TSH_level_73 ┆ 0.21  ┆ 2014-03-24 │\n",
       "└─────────────┴───────────────┴─────────────────────┴───────┴────────────┘"
      ]
     },
     "metadata": {},
     "output_type": "display_data"
    },
    {
     "name": "stdout",
     "output_type": "stream",
     "text": [
      "lazy_measurement_Plasma_alanine_aminotransferase_level_44\n"
     ]
    },
    {
     "data": {
      "text/html": [
       "<div><style>\n",
       ".dataframe > thead > tr > th,\n",
       ".dataframe > tbody > tr > td {\n",
       "  text-align: right;\n",
       "}\n",
       "</style>\n",
       "<small>shape: (5, 5)</small><table border=\"1\" class=\"dataframe\"><thead><tr><th>PRACTICE_ID</th><th>PATIENT_ID</th><th>EVENT</th><th>VALUE</th><th>DATE</th></tr><tr><td>i64</td><td>i64</td><td>str</td><td>f64</td><td>str</td></tr></thead><tbody><tr><td>21515</td><td>5954591021515</td><td>&quot;Plasma_alanine…</td><td>39.0</td><td>&quot;2015-11-14&quot;</td></tr><tr><td>21515</td><td>5954591021515</td><td>&quot;Plasma_alanine…</td><td>74.0</td><td>&quot;2016-06-25&quot;</td></tr><tr><td>21515</td><td>5954591021515</td><td>&quot;Plasma_alanine…</td><td>76.0</td><td>&quot;2016-10-18&quot;</td></tr><tr><td>21515</td><td>5954591021515</td><td>&quot;Plasma_alanine…</td><td>73.0</td><td>&quot;2017-10-21&quot;</td></tr><tr><td>21515</td><td>5954591021515</td><td>&quot;Plasma_alanine…</td><td>130.0</td><td>&quot;2018-01-13&quot;</td></tr></tbody></table></div>"
      ],
      "text/plain": [
       "shape: (5, 5)\n",
       "┌─────────────┬───────────────┬───────────────────────────────────┬───────┬────────────┐\n",
       "│ PRACTICE_ID ┆ PATIENT_ID    ┆ EVENT                             ┆ VALUE ┆ DATE       │\n",
       "│ ---         ┆ ---           ┆ ---                               ┆ ---   ┆ ---        │\n",
       "│ i64         ┆ i64           ┆ str                               ┆ f64   ┆ str        │\n",
       "╞═════════════╪═══════════════╪═══════════════════════════════════╪═══════╪════════════╡\n",
       "│ 21515       ┆ 5954591021515 ┆ Plasma_alanine_aminotransferase_… ┆ 39.0  ┆ 2015-11-14 │\n",
       "│ 21515       ┆ 5954591021515 ┆ Plasma_alanine_aminotransferase_… ┆ 74.0  ┆ 2016-06-25 │\n",
       "│ 21515       ┆ 5954591021515 ┆ Plasma_alanine_aminotransferase_… ┆ 76.0  ┆ 2016-10-18 │\n",
       "│ 21515       ┆ 5954591021515 ┆ Plasma_alanine_aminotransferase_… ┆ 73.0  ┆ 2017-10-21 │\n",
       "│ 21515       ┆ 5954591021515 ┆ Plasma_alanine_aminotransferase_… ┆ 130.0 ┆ 2018-01-13 │\n",
       "└─────────────┴───────────────┴───────────────────────────────────┴───────┴────────────┘"
      ]
     },
     "metadata": {},
     "output_type": "display_data"
    },
    {
     "name": "stdout",
     "output_type": "stream",
     "text": [
      "lazy_measurement_Plasma_albumin_level_52\n"
     ]
    },
    {
     "data": {
      "text/html": [
       "<div><style>\n",
       ".dataframe > thead > tr > th,\n",
       ".dataframe > tbody > tr > td {\n",
       "  text-align: right;\n",
       "}\n",
       "</style>\n",
       "<small>shape: (5, 5)</small><table border=\"1\" class=\"dataframe\"><thead><tr><th>PRACTICE_ID</th><th>PATIENT_ID</th><th>EVENT</th><th>VALUE</th><th>DATE</th></tr><tr><td>i64</td><td>i64</td><td>str</td><td>f64</td><td>str</td></tr></thead><tbody><tr><td>21515</td><td>5954841521515</td><td>&quot;Plasma_albumin…</td><td>44.0</td><td>&quot;2011-02-18&quot;</td></tr><tr><td>21515</td><td>5954896821515</td><td>&quot;Plasma_albumin…</td><td>48.0</td><td>&quot;2006-07-24&quot;</td></tr><tr><td>21515</td><td>5954896821515</td><td>&quot;Plasma_albumin…</td><td>48.0</td><td>&quot;2008-02-01&quot;</td></tr><tr><td>21515</td><td>5954896821515</td><td>&quot;Plasma_albumin…</td><td>46.0</td><td>&quot;2008-02-28&quot;</td></tr><tr><td>21515</td><td>5955650521515</td><td>&quot;Plasma_albumin…</td><td>43.0</td><td>&quot;2004-12-09&quot;</td></tr></tbody></table></div>"
      ],
      "text/plain": [
       "shape: (5, 5)\n",
       "┌─────────────┬───────────────┬─────────────────────────┬───────┬────────────┐\n",
       "│ PRACTICE_ID ┆ PATIENT_ID    ┆ EVENT                   ┆ VALUE ┆ DATE       │\n",
       "│ ---         ┆ ---           ┆ ---                     ┆ ---   ┆ ---        │\n",
       "│ i64         ┆ i64           ┆ str                     ┆ f64   ┆ str        │\n",
       "╞═════════════╪═══════════════╪═════════════════════════╪═══════╪════════════╡\n",
       "│ 21515       ┆ 5954841521515 ┆ Plasma_albumin_level_52 ┆ 44.0  ┆ 2011-02-18 │\n",
       "│ 21515       ┆ 5954896821515 ┆ Plasma_albumin_level_52 ┆ 48.0  ┆ 2006-07-24 │\n",
       "│ 21515       ┆ 5954896821515 ┆ Plasma_albumin_level_52 ┆ 48.0  ┆ 2008-02-01 │\n",
       "│ 21515       ┆ 5954896821515 ┆ Plasma_albumin_level_52 ┆ 46.0  ┆ 2008-02-28 │\n",
       "│ 21515       ┆ 5955650521515 ┆ Plasma_albumin_level_52 ┆ 43.0  ┆ 2004-12-09 │\n",
       "└─────────────┴───────────────┴─────────────────────────┴───────┴────────────┘"
      ]
     },
     "metadata": {},
     "output_type": "display_data"
    },
    {
     "name": "stdout",
     "output_type": "stream",
     "text": [
      "lazy_measurement_Plasma_alkaline_phosphatase_level_49\n"
     ]
    },
    {
     "data": {
      "text/html": [
       "<div><style>\n",
       ".dataframe > thead > tr > th,\n",
       ".dataframe > tbody > tr > td {\n",
       "  text-align: right;\n",
       "}\n",
       "</style>\n",
       "<small>shape: (5, 5)</small><table border=\"1\" class=\"dataframe\"><thead><tr><th>PRACTICE_ID</th><th>PATIENT_ID</th><th>EVENT</th><th>VALUE</th><th>DATE</th></tr><tr><td>i64</td><td>i64</td><td>str</td><td>f64</td><td>str</td></tr></thead><tbody><tr><td>21515</td><td>5954361921515</td><td>&quot;Plasma_alkalin…</td><td>null</td><td>&quot;2005-05-06&quot;</td></tr><tr><td>21515</td><td>5954841521515</td><td>&quot;Plasma_alkalin…</td><td>726.0</td><td>&quot;2011-02-18&quot;</td></tr><tr><td>21515</td><td>5955883321515</td><td>&quot;Plasma_alkalin…</td><td>190.0</td><td>&quot;2013-07-17&quot;</td></tr><tr><td>21515</td><td>5956790921515</td><td>&quot;Plasma_alkalin…</td><td>46.0</td><td>&quot;2004-07-02&quot;</td></tr><tr><td>21515</td><td>5956790921515</td><td>&quot;Plasma_alkalin…</td><td>42.0</td><td>&quot;2007-12-24&quot;</td></tr></tbody></table></div>"
      ],
      "text/plain": [
       "shape: (5, 5)\n",
       "┌─────────────┬───────────────┬───────────────────────────────────┬───────┬────────────┐\n",
       "│ PRACTICE_ID ┆ PATIENT_ID    ┆ EVENT                             ┆ VALUE ┆ DATE       │\n",
       "│ ---         ┆ ---           ┆ ---                               ┆ ---   ┆ ---        │\n",
       "│ i64         ┆ i64           ┆ str                               ┆ f64   ┆ str        │\n",
       "╞═════════════╪═══════════════╪═══════════════════════════════════╪═══════╪════════════╡\n",
       "│ 21515       ┆ 5954361921515 ┆ Plasma_alkaline_phosphatase_leve… ┆ null  ┆ 2005-05-06 │\n",
       "│ 21515       ┆ 5954841521515 ┆ Plasma_alkaline_phosphatase_leve… ┆ 726.0 ┆ 2011-02-18 │\n",
       "│ 21515       ┆ 5955883321515 ┆ Plasma_alkaline_phosphatase_leve… ┆ 190.0 ┆ 2013-07-17 │\n",
       "│ 21515       ┆ 5956790921515 ┆ Plasma_alkaline_phosphatase_leve… ┆ 46.0  ┆ 2004-07-02 │\n",
       "│ 21515       ┆ 5956790921515 ┆ Plasma_alkaline_phosphatase_leve… ┆ 42.0  ┆ 2007-12-24 │\n",
       "└─────────────┴───────────────┴───────────────────────────────────┴───────┴────────────┘"
      ]
     },
     "metadata": {},
     "output_type": "display_data"
    },
    {
     "name": "stdout",
     "output_type": "stream",
     "text": [
      "lazy_measurement_Plasma_calcium_level_40\n"
     ]
    },
    {
     "data": {
      "text/html": [
       "<div><style>\n",
       ".dataframe > thead > tr > th,\n",
       ".dataframe > tbody > tr > td {\n",
       "  text-align: right;\n",
       "}\n",
       "</style>\n",
       "<small>shape: (4, 5)</small><table border=\"1\" class=\"dataframe\"><thead><tr><th>PRACTICE_ID</th><th>PATIENT_ID</th><th>EVENT</th><th>VALUE</th><th>DATE</th></tr><tr><td>i64</td><td>i64</td><td>str</td><td>f64</td><td>str</td></tr></thead><tbody><tr><td>21515</td><td>5954841521515</td><td>&quot;Plasma_calcium…</td><td>2.51</td><td>&quot;2011-02-18&quot;</td></tr><tr><td>21515</td><td>5955883321515</td><td>&quot;Plasma_calcium…</td><td>2.62</td><td>&quot;2013-07-17&quot;</td></tr><tr><td>21515</td><td>5956790921515</td><td>&quot;Plasma_calcium…</td><td>2.32</td><td>&quot;2007-12-24&quot;</td></tr><tr><td>21515</td><td>6500089621515</td><td>&quot;Plasma_calcium…</td><td>2.37</td><td>&quot;2016-12-09&quot;</td></tr></tbody></table></div>"
      ],
      "text/plain": [
       "shape: (4, 5)\n",
       "┌─────────────┬───────────────┬─────────────────────────┬───────┬────────────┐\n",
       "│ PRACTICE_ID ┆ PATIENT_ID    ┆ EVENT                   ┆ VALUE ┆ DATE       │\n",
       "│ ---         ┆ ---           ┆ ---                     ┆ ---   ┆ ---        │\n",
       "│ i64         ┆ i64           ┆ str                     ┆ f64   ┆ str        │\n",
       "╞═════════════╪═══════════════╪═════════════════════════╪═══════╪════════════╡\n",
       "│ 21515       ┆ 5954841521515 ┆ Plasma_calcium_level_40 ┆ 2.51  ┆ 2011-02-18 │\n",
       "│ 21515       ┆ 5955883321515 ┆ Plasma_calcium_level_40 ┆ 2.62  ┆ 2013-07-17 │\n",
       "│ 21515       ┆ 5956790921515 ┆ Plasma_calcium_level_40 ┆ 2.32  ┆ 2007-12-24 │\n",
       "│ 21515       ┆ 6500089621515 ┆ Plasma_calcium_level_40 ┆ 2.37  ┆ 2016-12-09 │\n",
       "└─────────────┴───────────────┴─────────────────────────┴───────┴────────────┘"
      ]
     },
     "metadata": {},
     "output_type": "display_data"
    },
    {
     "name": "stdout",
     "output_type": "stream",
     "text": [
      "lazy_measurement_Plasma_cholesterol_HDL_ratio_96\n"
     ]
    },
    {
     "data": {
      "text/html": [
       "<div><style>\n",
       ".dataframe > thead > tr > th,\n",
       ".dataframe > tbody > tr > td {\n",
       "  text-align: right;\n",
       "}\n",
       "</style>\n",
       "<small>shape: (2, 5)</small><table border=\"1\" class=\"dataframe\"><thead><tr><th>PRACTICE_ID</th><th>PATIENT_ID</th><th>EVENT</th><th>VALUE</th><th>DATE</th></tr><tr><td>i64</td><td>i64</td><td>str</td><td>f64</td><td>str</td></tr></thead><tbody><tr><td>21515</td><td>5955130021515</td><td>&quot;Plasma_cholest…</td><td>6.1</td><td>&quot;2017-02-10&quot;</td></tr><tr><td>21515</td><td>5955883321515</td><td>&quot;Plasma_cholest…</td><td>3.1</td><td>&quot;2013-07-17&quot;</td></tr></tbody></table></div>"
      ],
      "text/plain": [
       "shape: (2, 5)\n",
       "┌─────────────┬───────────────┬─────────────────────────────────┬───────┬────────────┐\n",
       "│ PRACTICE_ID ┆ PATIENT_ID    ┆ EVENT                           ┆ VALUE ┆ DATE       │\n",
       "│ ---         ┆ ---           ┆ ---                             ┆ ---   ┆ ---        │\n",
       "│ i64         ┆ i64           ┆ str                             ┆ f64   ┆ str        │\n",
       "╞═════════════╪═══════════════╪═════════════════════════════════╪═══════╪════════════╡\n",
       "│ 21515       ┆ 5955130021515 ┆ Plasma_cholesterol_HDL_ratio_96 ┆ 6.1   ┆ 2017-02-10 │\n",
       "│ 21515       ┆ 5955883321515 ┆ Plasma_cholesterol_HDL_ratio_96 ┆ 3.1   ┆ 2013-07-17 │\n",
       "└─────────────┴───────────────┴─────────────────────────────────┴───────┴────────────┘"
      ]
     },
     "metadata": {},
     "output_type": "display_data"
    },
    {
     "name": "stdout",
     "output_type": "stream",
     "text": [
      "lazy_measurement_Plasma_corrected_calcium_level_43\n"
     ]
    },
    {
     "data": {
      "text/html": [
       "<div><style>\n",
       ".dataframe > thead > tr > th,\n",
       ".dataframe > tbody > tr > td {\n",
       "  text-align: right;\n",
       "}\n",
       "</style>\n",
       "<small>shape: (5, 5)</small><table border=\"1\" class=\"dataframe\"><thead><tr><th>PRACTICE_ID</th><th>PATIENT_ID</th><th>EVENT</th><th>VALUE</th><th>DATE</th></tr><tr><td>i64</td><td>i64</td><td>str</td><td>f64</td><td>str</td></tr></thead><tbody><tr><td>21515</td><td>5954295621515</td><td>&quot;Plasma_correct…</td><td>0.0</td><td>&quot;2006-01-06&quot;</td></tr><tr><td>21515</td><td>5954832221515</td><td>&quot;Plasma_correct…</td><td>1.9</td><td>&quot;2005-07-18&quot;</td></tr><tr><td>21515</td><td>5954841521515</td><td>&quot;Plasma_correct…</td><td>2.43</td><td>&quot;2011-02-18&quot;</td></tr><tr><td>21515</td><td>5954980421515</td><td>&quot;Plasma_correct…</td><td>2.64</td><td>&quot;2005-03-21&quot;</td></tr><tr><td>21515</td><td>5955169521515</td><td>&quot;Plasma_correct…</td><td>null</td><td>&quot;2007-01-29&quot;</td></tr></tbody></table></div>"
      ],
      "text/plain": [
       "shape: (5, 5)\n",
       "┌─────────────┬───────────────┬───────────────────────────────────┬───────┬────────────┐\n",
       "│ PRACTICE_ID ┆ PATIENT_ID    ┆ EVENT                             ┆ VALUE ┆ DATE       │\n",
       "│ ---         ┆ ---           ┆ ---                               ┆ ---   ┆ ---        │\n",
       "│ i64         ┆ i64           ┆ str                               ┆ f64   ┆ str        │\n",
       "╞═════════════╪═══════════════╪═══════════════════════════════════╪═══════╪════════════╡\n",
       "│ 21515       ┆ 5954295621515 ┆ Plasma_corrected_calcium_level_4… ┆ 0.0   ┆ 2006-01-06 │\n",
       "│ 21515       ┆ 5954832221515 ┆ Plasma_corrected_calcium_level_4… ┆ 1.9   ┆ 2005-07-18 │\n",
       "│ 21515       ┆ 5954841521515 ┆ Plasma_corrected_calcium_level_4… ┆ 2.43  ┆ 2011-02-18 │\n",
       "│ 21515       ┆ 5954980421515 ┆ Plasma_corrected_calcium_level_4… ┆ 2.64  ┆ 2005-03-21 │\n",
       "│ 21515       ┆ 5955169521515 ┆ Plasma_corrected_calcium_level_4… ┆ null  ┆ 2007-01-29 │\n",
       "└─────────────┴───────────────┴───────────────────────────────────┴───────┴────────────┘"
      ]
     },
     "metadata": {},
     "output_type": "display_data"
    },
    {
     "name": "stdout",
     "output_type": "stream",
     "text": [
      "lazy_measurement_Plasma_creatinine_level_32\n"
     ]
    },
    {
     "data": {
      "text/html": [
       "<div><style>\n",
       ".dataframe > thead > tr > th,\n",
       ".dataframe > tbody > tr > td {\n",
       "  text-align: right;\n",
       "}\n",
       "</style>\n",
       "<small>shape: (5, 5)</small><table border=\"1\" class=\"dataframe\"><thead><tr><th>PRACTICE_ID</th><th>PATIENT_ID</th><th>EVENT</th><th>VALUE</th><th>DATE</th></tr><tr><td>i64</td><td>i64</td><td>str</td><td>f64</td><td>str</td></tr></thead><tbody><tr><td>21515</td><td>5955883321515</td><td>&quot;Plasma_creatin…</td><td>83.0</td><td>&quot;2013-07-17&quot;</td></tr><tr><td>21515</td><td>5956790921515</td><td>&quot;Plasma_creatin…</td><td>92.0</td><td>&quot;2004-07-02&quot;</td></tr><tr><td>21515</td><td>5956790921515</td><td>&quot;Plasma_creatin…</td><td>74.0</td><td>&quot;2007-12-24&quot;</td></tr><tr><td>21515</td><td>5957224121515</td><td>&quot;Plasma_creatin…</td><td>38.0</td><td>&quot;2012-05-25&quot;</td></tr><tr><td>21515</td><td>6081385321515</td><td>&quot;Plasma_creatin…</td><td>60.0</td><td>&quot;2018-04-20&quot;</td></tr></tbody></table></div>"
      ],
      "text/plain": [
       "shape: (5, 5)\n",
       "┌─────────────┬───────────────┬────────────────────────────┬───────┬────────────┐\n",
       "│ PRACTICE_ID ┆ PATIENT_ID    ┆ EVENT                      ┆ VALUE ┆ DATE       │\n",
       "│ ---         ┆ ---           ┆ ---                        ┆ ---   ┆ ---        │\n",
       "│ i64         ┆ i64           ┆ str                        ┆ f64   ┆ str        │\n",
       "╞═════════════╪═══════════════╪════════════════════════════╪═══════╪════════════╡\n",
       "│ 21515       ┆ 5955883321515 ┆ Plasma_creatinine_level_32 ┆ 83.0  ┆ 2013-07-17 │\n",
       "│ 21515       ┆ 5956790921515 ┆ Plasma_creatinine_level_32 ┆ 92.0  ┆ 2004-07-02 │\n",
       "│ 21515       ┆ 5956790921515 ┆ Plasma_creatinine_level_32 ┆ 74.0  ┆ 2007-12-24 │\n",
       "│ 21515       ┆ 5957224121515 ┆ Plasma_creatinine_level_32 ┆ 38.0  ┆ 2012-05-25 │\n",
       "│ 21515       ┆ 6081385321515 ┆ Plasma_creatinine_level_32 ┆ 60.0  ┆ 2018-04-20 │\n",
       "└─────────────┴───────────────┴────────────────────────────┴───────┴────────────┘"
      ]
     },
     "metadata": {},
     "output_type": "display_data"
    },
    {
     "name": "stdout",
     "output_type": "stream",
     "text": [
      "lazy_measurement_Plasma_ferritin_level_62\n"
     ]
    },
    {
     "data": {
      "text/html": [
       "<div><style>\n",
       ".dataframe > thead > tr > th,\n",
       ".dataframe > tbody > tr > td {\n",
       "  text-align: right;\n",
       "}\n",
       "</style>\n",
       "<small>shape: (5, 5)</small><table border=\"1\" class=\"dataframe\"><thead><tr><th>PRACTICE_ID</th><th>PATIENT_ID</th><th>EVENT</th><th>VALUE</th><th>DATE</th></tr><tr><td>i64</td><td>i64</td><td>str</td><td>f64</td><td>str</td></tr></thead><tbody><tr><td>21515</td><td>5954236621515</td><td>&quot;Plasma_ferriti…</td><td>null</td><td>&quot;2012-06-12&quot;</td></tr><tr><td>21515</td><td>5954236621515</td><td>&quot;Plasma_ferriti…</td><td>null</td><td>&quot;2013-06-14&quot;</td></tr><tr><td>21515</td><td>5954295621515</td><td>&quot;Plasma_ferriti…</td><td>null</td><td>&quot;2015-12-01&quot;</td></tr><tr><td>21515</td><td>5956232821515</td><td>&quot;Plasma_ferriti…</td><td>null</td><td>&quot;2017-10-11&quot;</td></tr><tr><td>21515</td><td>5956318321515</td><td>&quot;Plasma_ferriti…</td><td>null</td><td>&quot;2014-12-16&quot;</td></tr></tbody></table></div>"
      ],
      "text/plain": [
       "shape: (5, 5)\n",
       "┌─────────────┬───────────────┬──────────────────────────┬───────┬────────────┐\n",
       "│ PRACTICE_ID ┆ PATIENT_ID    ┆ EVENT                    ┆ VALUE ┆ DATE       │\n",
       "│ ---         ┆ ---           ┆ ---                      ┆ ---   ┆ ---        │\n",
       "│ i64         ┆ i64           ┆ str                      ┆ f64   ┆ str        │\n",
       "╞═════════════╪═══════════════╪══════════════════════════╪═══════╪════════════╡\n",
       "│ 21515       ┆ 5954236621515 ┆ Plasma_ferritin_level_62 ┆ null  ┆ 2012-06-12 │\n",
       "│ 21515       ┆ 5954236621515 ┆ Plasma_ferritin_level_62 ┆ null  ┆ 2013-06-14 │\n",
       "│ 21515       ┆ 5954295621515 ┆ Plasma_ferritin_level_62 ┆ null  ┆ 2015-12-01 │\n",
       "│ 21515       ┆ 5956232821515 ┆ Plasma_ferritin_level_62 ┆ null  ┆ 2017-10-11 │\n",
       "│ 21515       ┆ 5956318321515 ┆ Plasma_ferritin_level_62 ┆ null  ┆ 2014-12-16 │\n",
       "└─────────────┴───────────────┴──────────────────────────┴───────┴────────────┘"
      ]
     },
     "metadata": {},
     "output_type": "display_data"
    },
    {
     "name": "stdout",
     "output_type": "stream",
     "text": [
      "lazy_measurement_Plasma_free_T4_level_77\n"
     ]
    },
    {
     "data": {
      "text/html": [
       "<div><style>\n",
       ".dataframe > thead > tr > th,\n",
       ".dataframe > tbody > tr > td {\n",
       "  text-align: right;\n",
       "}\n",
       "</style>\n",
       "<small>shape: (5, 5)</small><table border=\"1\" class=\"dataframe\"><thead><tr><th>PRACTICE_ID</th><th>PATIENT_ID</th><th>EVENT</th><th>VALUE</th><th>DATE</th></tr><tr><td>i64</td><td>i64</td><td>str</td><td>f64</td><td>str</td></tr></thead><tbody><tr><td>21515</td><td>5954841521515</td><td>&quot;Plasma_free_T4…</td><td>15.7</td><td>&quot;2011-02-18&quot;</td></tr><tr><td>21515</td><td>5955883321515</td><td>&quot;Plasma_free_T4…</td><td>32.8</td><td>&quot;2013-07-17&quot;</td></tr><tr><td>21515</td><td>5955883321515</td><td>&quot;Plasma_free_T4…</td><td>16.5</td><td>&quot;2013-09-20&quot;</td></tr><tr><td>21515</td><td>5955883321515</td><td>&quot;Plasma_free_T4…</td><td>7.3</td><td>&quot;2014-01-27&quot;</td></tr><tr><td>21515</td><td>5955883321515</td><td>&quot;Plasma_free_T4…</td><td>10.3</td><td>&quot;2014-03-24&quot;</td></tr></tbody></table></div>"
      ],
      "text/plain": [
       "shape: (5, 5)\n",
       "┌─────────────┬───────────────┬─────────────────────────┬───────┬────────────┐\n",
       "│ PRACTICE_ID ┆ PATIENT_ID    ┆ EVENT                   ┆ VALUE ┆ DATE       │\n",
       "│ ---         ┆ ---           ┆ ---                     ┆ ---   ┆ ---        │\n",
       "│ i64         ┆ i64           ┆ str                     ┆ f64   ┆ str        │\n",
       "╞═════════════╪═══════════════╪═════════════════════════╪═══════╪════════════╡\n",
       "│ 21515       ┆ 5954841521515 ┆ Plasma_free_T4_level_77 ┆ 15.7  ┆ 2011-02-18 │\n",
       "│ 21515       ┆ 5955883321515 ┆ Plasma_free_T4_level_77 ┆ 32.8  ┆ 2013-07-17 │\n",
       "│ 21515       ┆ 5955883321515 ┆ Plasma_free_T4_level_77 ┆ 16.5  ┆ 2013-09-20 │\n",
       "│ 21515       ┆ 5955883321515 ┆ Plasma_free_T4_level_77 ┆ 7.3   ┆ 2014-01-27 │\n",
       "│ 21515       ┆ 5955883321515 ┆ Plasma_free_T4_level_77 ┆ 10.3  ┆ 2014-03-24 │\n",
       "└─────────────┴───────────────┴─────────────────────────┴───────┴────────────┘"
      ]
     },
     "metadata": {},
     "output_type": "display_data"
    },
    {
     "name": "stdout",
     "output_type": "stream",
     "text": [
      "lazy_measurement_Plasma_gamma_glutamyl_transferase_level_58\n"
     ]
    },
    {
     "data": {
      "text/html": [
       "<div><style>\n",
       ".dataframe > thead > tr > th,\n",
       ".dataframe > tbody > tr > td {\n",
       "  text-align: right;\n",
       "}\n",
       "</style>\n",
       "<small>shape: (5, 5)</small><table border=\"1\" class=\"dataframe\"><thead><tr><th>PRACTICE_ID</th><th>PATIENT_ID</th><th>EVENT</th><th>VALUE</th><th>DATE</th></tr><tr><td>i64</td><td>i64</td><td>str</td><td>f64</td><td>str</td></tr></thead><tbody><tr><td>21515</td><td>5954440821515</td><td>&quot;Plasma_gamma_g…</td><td>51.0</td><td>&quot;2014-06-10&quot;</td></tr><tr><td>21515</td><td>5954440821515</td><td>&quot;Plasma_gamma_g…</td><td>20.0</td><td>&quot;2014-07-23&quot;</td></tr><tr><td>21515</td><td>5954440821515</td><td>&quot;Plasma_gamma_g…</td><td>31.0</td><td>&quot;2015-06-24&quot;</td></tr><tr><td>21515</td><td>5954440821515</td><td>&quot;Plasma_gamma_g…</td><td>23.0</td><td>&quot;2016-04-07&quot;</td></tr><tr><td>21515</td><td>5954440821515</td><td>&quot;Plasma_gamma_g…</td><td>23.0</td><td>&quot;2016-04-14&quot;</td></tr></tbody></table></div>"
      ],
      "text/plain": [
       "shape: (5, 5)\n",
       "┌─────────────┬───────────────┬───────────────────────────────────┬───────┬────────────┐\n",
       "│ PRACTICE_ID ┆ PATIENT_ID    ┆ EVENT                             ┆ VALUE ┆ DATE       │\n",
       "│ ---         ┆ ---           ┆ ---                               ┆ ---   ┆ ---        │\n",
       "│ i64         ┆ i64           ┆ str                               ┆ f64   ┆ str        │\n",
       "╞═════════════╪═══════════════╪═══════════════════════════════════╪═══════╪════════════╡\n",
       "│ 21515       ┆ 5954440821515 ┆ Plasma_gamma_glutamyl_transferas… ┆ 51.0  ┆ 2014-06-10 │\n",
       "│ 21515       ┆ 5954440821515 ┆ Plasma_gamma_glutamyl_transferas… ┆ 20.0  ┆ 2014-07-23 │\n",
       "│ 21515       ┆ 5954440821515 ┆ Plasma_gamma_glutamyl_transferas… ┆ 31.0  ┆ 2015-06-24 │\n",
       "│ 21515       ┆ 5954440821515 ┆ Plasma_gamma_glutamyl_transferas… ┆ 23.0  ┆ 2016-04-07 │\n",
       "│ 21515       ┆ 5954440821515 ┆ Plasma_gamma_glutamyl_transferas… ┆ 23.0  ┆ 2016-04-14 │\n",
       "└─────────────┴───────────────┴───────────────────────────────────┴───────┴────────────┘"
      ]
     },
     "metadata": {},
     "output_type": "display_data"
    },
    {
     "name": "stdout",
     "output_type": "stream",
     "text": [
      "lazy_measurement_Plasma_potassium_level_27\n"
     ]
    },
    {
     "data": {
      "text/html": [
       "<div><style>\n",
       ".dataframe > thead > tr > th,\n",
       ".dataframe > tbody > tr > td {\n",
       "  text-align: right;\n",
       "}\n",
       "</style>\n",
       "<small>shape: (5, 5)</small><table border=\"1\" class=\"dataframe\"><thead><tr><th>PRACTICE_ID</th><th>PATIENT_ID</th><th>EVENT</th><th>VALUE</th><th>DATE</th></tr><tr><td>i64</td><td>i64</td><td>str</td><td>f64</td><td>str</td></tr></thead><tbody><tr><td>21515</td><td>5954551021515</td><td>&quot;Plasma_potassi…</td><td>null</td><td>&quot;2016-05-09&quot;</td></tr><tr><td>21515</td><td>5955883321515</td><td>&quot;Plasma_potassi…</td><td>4.8</td><td>&quot;2013-07-17&quot;</td></tr><tr><td>21515</td><td>5956790921515</td><td>&quot;Plasma_potassi…</td><td>3.6</td><td>&quot;2004-07-02&quot;</td></tr><tr><td>21515</td><td>5956790921515</td><td>&quot;Plasma_potassi…</td><td>4.2</td><td>&quot;2007-12-24&quot;</td></tr><tr><td>21515</td><td>5957224121515</td><td>&quot;Plasma_potassi…</td><td>3.8</td><td>&quot;2012-05-25&quot;</td></tr></tbody></table></div>"
      ],
      "text/plain": [
       "shape: (5, 5)\n",
       "┌─────────────┬───────────────┬───────────────────────────┬───────┬────────────┐\n",
       "│ PRACTICE_ID ┆ PATIENT_ID    ┆ EVENT                     ┆ VALUE ┆ DATE       │\n",
       "│ ---         ┆ ---           ┆ ---                       ┆ ---   ┆ ---        │\n",
       "│ i64         ┆ i64           ┆ str                       ┆ f64   ┆ str        │\n",
       "╞═════════════╪═══════════════╪═══════════════════════════╪═══════╪════════════╡\n",
       "│ 21515       ┆ 5954551021515 ┆ Plasma_potassium_level_27 ┆ null  ┆ 2016-05-09 │\n",
       "│ 21515       ┆ 5955883321515 ┆ Plasma_potassium_level_27 ┆ 4.8   ┆ 2013-07-17 │\n",
       "│ 21515       ┆ 5956790921515 ┆ Plasma_potassium_level_27 ┆ 3.6   ┆ 2004-07-02 │\n",
       "│ 21515       ┆ 5956790921515 ┆ Plasma_potassium_level_27 ┆ 4.2   ┆ 2007-12-24 │\n",
       "│ 21515       ┆ 5957224121515 ┆ Plasma_potassium_level_27 ┆ 3.8   ┆ 2012-05-25 │\n",
       "└─────────────┴───────────────┴───────────────────────────┴───────┴────────────┘"
      ]
     },
     "metadata": {},
     "output_type": "display_data"
    },
    {
     "name": "stdout",
     "output_type": "stream",
     "text": [
      "lazy_measurement_Plasma_pro_brain_natriuretic_peptide_level_64\n"
     ]
    },
    {
     "data": {
      "text/html": [
       "<div><style>\n",
       ".dataframe > thead > tr > th,\n",
       ".dataframe > tbody > tr > td {\n",
       "  text-align: right;\n",
       "}\n",
       "</style>\n",
       "<small>shape: (2, 5)</small><table border=\"1\" class=\"dataframe\"><thead><tr><th>PRACTICE_ID</th><th>PATIENT_ID</th><th>EVENT</th><th>VALUE</th><th>DATE</th></tr><tr><td>i64</td><td>i64</td><td>str</td><td>f64</td><td>str</td></tr></thead><tbody><tr><td>21515</td><td>5955739621515</td><td>&quot;Plasma_pro_bra…</td><td>10.17</td><td>&quot;2017-12-19&quot;</td></tr><tr><td>21515</td><td>5956483721515</td><td>&quot;Plasma_pro_bra…</td><td>53.87</td><td>&quot;2013-11-29&quot;</td></tr></tbody></table></div>"
      ],
      "text/plain": [
       "shape: (2, 5)\n",
       "┌─────────────┬───────────────┬───────────────────────────────────┬───────┬────────────┐\n",
       "│ PRACTICE_ID ┆ PATIENT_ID    ┆ EVENT                             ┆ VALUE ┆ DATE       │\n",
       "│ ---         ┆ ---           ┆ ---                               ┆ ---   ┆ ---        │\n",
       "│ i64         ┆ i64           ┆ str                               ┆ f64   ┆ str        │\n",
       "╞═════════════╪═══════════════╪═══════════════════════════════════╪═══════╪════════════╡\n",
       "│ 21515       ┆ 5955739621515 ┆ Plasma_pro_brain_natriuretic_pep… ┆ 10.17 ┆ 2017-12-19 │\n",
       "│ 21515       ┆ 5956483721515 ┆ Plasma_pro_brain_natriuretic_pep… ┆ 53.87 ┆ 2013-11-29 │\n",
       "└─────────────┴───────────────┴───────────────────────────────────┴───────┴────────────┘"
      ]
     },
     "metadata": {},
     "output_type": "display_data"
    },
    {
     "name": "stdout",
     "output_type": "stream",
     "text": [
      "lazy_measurement_Plasma_sodium_level_25\n"
     ]
    },
    {
     "data": {
      "text/html": [
       "<div><style>\n",
       ".dataframe > thead > tr > th,\n",
       ".dataframe > tbody > tr > td {\n",
       "  text-align: right;\n",
       "}\n",
       "</style>\n",
       "<small>shape: (5, 5)</small><table border=\"1\" class=\"dataframe\"><thead><tr><th>PRACTICE_ID</th><th>PATIENT_ID</th><th>EVENT</th><th>VALUE</th><th>DATE</th></tr><tr><td>i64</td><td>i64</td><td>str</td><td>f64</td><td>str</td></tr></thead><tbody><tr><td>21515</td><td>5955883321515</td><td>&quot;Plasma_sodium_…</td><td>141.0</td><td>&quot;2013-07-17&quot;</td></tr><tr><td>21515</td><td>5956790921515</td><td>&quot;Plasma_sodium_…</td><td>140.0</td><td>&quot;2004-07-02&quot;</td></tr><tr><td>21515</td><td>5956790921515</td><td>&quot;Plasma_sodium_…</td><td>140.0</td><td>&quot;2007-12-24&quot;</td></tr><tr><td>21515</td><td>5957224121515</td><td>&quot;Plasma_sodium_…</td><td>139.0</td><td>&quot;2012-05-25&quot;</td></tr><tr><td>21515</td><td>6081385321515</td><td>&quot;Plasma_sodium_…</td><td>141.0</td><td>&quot;2018-04-20&quot;</td></tr></tbody></table></div>"
      ],
      "text/plain": [
       "shape: (5, 5)\n",
       "┌─────────────┬───────────────┬────────────────────────┬───────┬────────────┐\n",
       "│ PRACTICE_ID ┆ PATIENT_ID    ┆ EVENT                  ┆ VALUE ┆ DATE       │\n",
       "│ ---         ┆ ---           ┆ ---                    ┆ ---   ┆ ---        │\n",
       "│ i64         ┆ i64           ┆ str                    ┆ f64   ┆ str        │\n",
       "╞═════════════╪═══════════════╪════════════════════════╪═══════╪════════════╡\n",
       "│ 21515       ┆ 5955883321515 ┆ Plasma_sodium_level_25 ┆ 141.0 ┆ 2013-07-17 │\n",
       "│ 21515       ┆ 5956790921515 ┆ Plasma_sodium_level_25 ┆ 140.0 ┆ 2004-07-02 │\n",
       "│ 21515       ┆ 5956790921515 ┆ Plasma_sodium_level_25 ┆ 140.0 ┆ 2007-12-24 │\n",
       "│ 21515       ┆ 5957224121515 ┆ Plasma_sodium_level_25 ┆ 139.0 ┆ 2012-05-25 │\n",
       "│ 21515       ┆ 6081385321515 ┆ Plasma_sodium_level_25 ┆ 141.0 ┆ 2018-04-20 │\n",
       "└─────────────┴───────────────┴────────────────────────┴───────┴────────────┘"
      ]
     },
     "metadata": {},
     "output_type": "display_data"
    },
    {
     "name": "stdout",
     "output_type": "stream",
     "text": [
      "lazy_measurement_Plasma_total_bilirubin_level_54\n"
     ]
    },
    {
     "data": {
      "text/html": [
       "<div><style>\n",
       ".dataframe > thead > tr > th,\n",
       ".dataframe > tbody > tr > td {\n",
       "  text-align: right;\n",
       "}\n",
       "</style>\n",
       "<small>shape: (5, 5)</small><table border=\"1\" class=\"dataframe\"><thead><tr><th>PRACTICE_ID</th><th>PATIENT_ID</th><th>EVENT</th><th>VALUE</th><th>DATE</th></tr><tr><td>i64</td><td>i64</td><td>str</td><td>f64</td><td>str</td></tr></thead><tbody><tr><td>21515</td><td>5954841521515</td><td>&quot;Plasma_total_b…</td><td>11.0</td><td>&quot;2011-02-18&quot;</td></tr><tr><td>21515</td><td>5955883321515</td><td>&quot;Plasma_total_b…</td><td>11.0</td><td>&quot;2013-07-17&quot;</td></tr><tr><td>21515</td><td>5956790921515</td><td>&quot;Plasma_total_b…</td><td>16.0</td><td>&quot;2004-07-02&quot;</td></tr><tr><td>21515</td><td>5956790921515</td><td>&quot;Plasma_total_b…</td><td>14.0</td><td>&quot;2007-12-24&quot;</td></tr><tr><td>21515</td><td>5956790921515</td><td>&quot;Plasma_total_b…</td><td>13.0</td><td>&quot;2008-03-13&quot;</td></tr></tbody></table></div>"
      ],
      "text/plain": [
       "shape: (5, 5)\n",
       "┌─────────────┬───────────────┬─────────────────────────────────┬───────┬────────────┐\n",
       "│ PRACTICE_ID ┆ PATIENT_ID    ┆ EVENT                           ┆ VALUE ┆ DATE       │\n",
       "│ ---         ┆ ---           ┆ ---                             ┆ ---   ┆ ---        │\n",
       "│ i64         ┆ i64           ┆ str                             ┆ f64   ┆ str        │\n",
       "╞═════════════╪═══════════════╪═════════════════════════════════╪═══════╪════════════╡\n",
       "│ 21515       ┆ 5954841521515 ┆ Plasma_total_bilirubin_level_54 ┆ 11.0  ┆ 2011-02-18 │\n",
       "│ 21515       ┆ 5955883321515 ┆ Plasma_total_bilirubin_level_54 ┆ 11.0  ┆ 2013-07-17 │\n",
       "│ 21515       ┆ 5956790921515 ┆ Plasma_total_bilirubin_level_54 ┆ 16.0  ┆ 2004-07-02 │\n",
       "│ 21515       ┆ 5956790921515 ┆ Plasma_total_bilirubin_level_54 ┆ 14.0  ┆ 2007-12-24 │\n",
       "│ 21515       ┆ 5956790921515 ┆ Plasma_total_bilirubin_level_54 ┆ 13.0  ┆ 2008-03-13 │\n",
       "└─────────────┴───────────────┴─────────────────────────────────┴───────┴────────────┘"
      ]
     },
     "metadata": {},
     "output_type": "display_data"
    },
    {
     "name": "stdout",
     "output_type": "stream",
     "text": [
      "lazy_measurement_Plasma_total_cholesterol_level_99\n"
     ]
    },
    {
     "data": {
      "text/html": [
       "<div><style>\n",
       ".dataframe > thead > tr > th,\n",
       ".dataframe > tbody > tr > td {\n",
       "  text-align: right;\n",
       "}\n",
       "</style>\n",
       "<small>shape: (5, 5)</small><table border=\"1\" class=\"dataframe\"><thead><tr><th>PRACTICE_ID</th><th>PATIENT_ID</th><th>EVENT</th><th>VALUE</th><th>DATE</th></tr><tr><td>i64</td><td>i64</td><td>str</td><td>f64</td><td>str</td></tr></thead><tbody><tr><td>21515</td><td>5955412421515</td><td>&quot;Plasma_total_c…</td><td>5.0</td><td>&quot;2017-12-13&quot;</td></tr><tr><td>21515</td><td>5955883321515</td><td>&quot;Plasma_total_c…</td><td>4.8</td><td>&quot;2013-07-17&quot;</td></tr><tr><td>21515</td><td>5955958321515</td><td>&quot;Plasma_total_c…</td><td>4.8</td><td>&quot;2021-10-18&quot;</td></tr><tr><td>21515</td><td>5956422821515</td><td>&quot;Plasma_total_c…</td><td>4.47</td><td>&quot;2021-12-02&quot;</td></tr><tr><td>21515</td><td>5957495921515</td><td>&quot;Plasma_total_c…</td><td>5.89</td><td>&quot;2021-07-19&quot;</td></tr></tbody></table></div>"
      ],
      "text/plain": [
       "shape: (5, 5)\n",
       "┌─────────────┬───────────────┬───────────────────────────────────┬───────┬────────────┐\n",
       "│ PRACTICE_ID ┆ PATIENT_ID    ┆ EVENT                             ┆ VALUE ┆ DATE       │\n",
       "│ ---         ┆ ---           ┆ ---                               ┆ ---   ┆ ---        │\n",
       "│ i64         ┆ i64           ┆ str                               ┆ f64   ┆ str        │\n",
       "╞═════════════╪═══════════════╪═══════════════════════════════════╪═══════╪════════════╡\n",
       "│ 21515       ┆ 5955412421515 ┆ Plasma_total_cholesterol_level_9… ┆ 5.0   ┆ 2017-12-13 │\n",
       "│ 21515       ┆ 5955883321515 ┆ Plasma_total_cholesterol_level_9… ┆ 4.8   ┆ 2013-07-17 │\n",
       "│ 21515       ┆ 5955958321515 ┆ Plasma_total_cholesterol_level_9… ┆ 4.8   ┆ 2021-10-18 │\n",
       "│ 21515       ┆ 5956422821515 ┆ Plasma_total_cholesterol_level_9… ┆ 4.47  ┆ 2021-12-02 │\n",
       "│ 21515       ┆ 5957495921515 ┆ Plasma_total_cholesterol_level_9… ┆ 5.89  ┆ 2021-07-19 │\n",
       "└─────────────┴───────────────┴───────────────────────────────────┴───────┴────────────┘"
      ]
     },
     "metadata": {},
     "output_type": "display_data"
    },
    {
     "name": "stdout",
     "output_type": "stream",
     "text": [
      "lazy_measurement_Plasma_triglyceride_level_106\n"
     ]
    },
    {
     "data": {
      "text/html": [
       "<div><style>\n",
       ".dataframe > thead > tr > th,\n",
       ".dataframe > tbody > tr > td {\n",
       "  text-align: right;\n",
       "}\n",
       "</style>\n",
       "<small>shape: (3, 5)</small><table border=\"1\" class=\"dataframe\"><thead><tr><th>PRACTICE_ID</th><th>PATIENT_ID</th><th>EVENT</th><th>VALUE</th><th>DATE</th></tr><tr><td>i64</td><td>i64</td><td>str</td><td>f64</td><td>str</td></tr></thead><tbody><tr><td>21515</td><td>5954841521515</td><td>&quot;Plasma_triglyc…</td><td>0.45</td><td>&quot;2011-02-18&quot;</td></tr><tr><td>21515</td><td>5955876521515</td><td>&quot;Plasma_triglyc…</td><td>null</td><td>&quot;2019-08-21&quot;</td></tr><tr><td>21515</td><td>6500089621515</td><td>&quot;Plasma_triglyc…</td><td>0.78</td><td>&quot;2016-12-09&quot;</td></tr></tbody></table></div>"
      ],
      "text/plain": [
       "shape: (3, 5)\n",
       "┌─────────────┬───────────────┬───────────────────────────────┬───────┬────────────┐\n",
       "│ PRACTICE_ID ┆ PATIENT_ID    ┆ EVENT                         ┆ VALUE ┆ DATE       │\n",
       "│ ---         ┆ ---           ┆ ---                           ┆ ---   ┆ ---        │\n",
       "│ i64         ┆ i64           ┆ str                           ┆ f64   ┆ str        │\n",
       "╞═════════════╪═══════════════╪═══════════════════════════════╪═══════╪════════════╡\n",
       "│ 21515       ┆ 5954841521515 ┆ Plasma_triglyceride_level_106 ┆ 0.45  ┆ 2011-02-18 │\n",
       "│ 21515       ┆ 5955876521515 ┆ Plasma_triglyceride_level_106 ┆ null  ┆ 2019-08-21 │\n",
       "│ 21515       ┆ 6500089621515 ┆ Plasma_triglyceride_level_106 ┆ 0.78  ┆ 2016-12-09 │\n",
       "└─────────────┴───────────────┴───────────────────────────────┴───────┴────────────┘"
      ]
     },
     "metadata": {},
     "output_type": "display_data"
    },
    {
     "name": "stdout",
     "output_type": "stream",
     "text": [
      "lazy_measurement_Plasma_urea_level_30\n"
     ]
    },
    {
     "data": {
      "text/html": [
       "<div><style>\n",
       ".dataframe > thead > tr > th,\n",
       ".dataframe > tbody > tr > td {\n",
       "  text-align: right;\n",
       "}\n",
       "</style>\n",
       "<small>shape: (4, 5)</small><table border=\"1\" class=\"dataframe\"><thead><tr><th>PRACTICE_ID</th><th>PATIENT_ID</th><th>EVENT</th><th>VALUE</th><th>DATE</th></tr><tr><td>i64</td><td>i64</td><td>str</td><td>f64</td><td>str</td></tr></thead><tbody><tr><td>21515</td><td>5955883321515</td><td>&quot;Plasma_urea_le…</td><td>6.4</td><td>&quot;2013-07-17&quot;</td></tr><tr><td>21515</td><td>5956790921515</td><td>&quot;Plasma_urea_le…</td><td>3.6</td><td>&quot;2004-07-02&quot;</td></tr><tr><td>21515</td><td>5956790921515</td><td>&quot;Plasma_urea_le…</td><td>4.4</td><td>&quot;2007-12-24&quot;</td></tr><tr><td>21515</td><td>6500089621515</td><td>&quot;Plasma_urea_le…</td><td>5.0</td><td>&quot;2016-12-09&quot;</td></tr></tbody></table></div>"
      ],
      "text/plain": [
       "shape: (4, 5)\n",
       "┌─────────────┬───────────────┬──────────────────────┬───────┬────────────┐\n",
       "│ PRACTICE_ID ┆ PATIENT_ID    ┆ EVENT                ┆ VALUE ┆ DATE       │\n",
       "│ ---         ┆ ---           ┆ ---                  ┆ ---   ┆ ---        │\n",
       "│ i64         ┆ i64           ┆ str                  ┆ f64   ┆ str        │\n",
       "╞═════════════╪═══════════════╪══════════════════════╪═══════╪════════════╡\n",
       "│ 21515       ┆ 5955883321515 ┆ Plasma_urea_level_30 ┆ 6.4   ┆ 2013-07-17 │\n",
       "│ 21515       ┆ 5956790921515 ┆ Plasma_urea_level_30 ┆ 3.6   ┆ 2004-07-02 │\n",
       "│ 21515       ┆ 5956790921515 ┆ Plasma_urea_level_30 ┆ 4.4   ┆ 2007-12-24 │\n",
       "│ 21515       ┆ 6500089621515 ┆ Plasma_urea_level_30 ┆ 5.0   ┆ 2016-12-09 │\n",
       "└─────────────┴───────────────┴──────────────────────┴───────┴────────────┘"
      ]
     },
     "metadata": {},
     "output_type": "display_data"
    },
    {
     "name": "stdout",
     "output_type": "stream",
     "text": [
      "lazy_measurement_Platelet_count_12\n"
     ]
    },
    {
     "data": {
      "text/html": [
       "<div><style>\n",
       ".dataframe > thead > tr > th,\n",
       ".dataframe > tbody > tr > td {\n",
       "  text-align: right;\n",
       "}\n",
       "</style>\n",
       "<small>shape: (5, 5)</small><table border=\"1\" class=\"dataframe\"><thead><tr><th>PRACTICE_ID</th><th>PATIENT_ID</th><th>EVENT</th><th>VALUE</th><th>DATE</th></tr><tr><td>i64</td><td>i64</td><td>str</td><td>f64</td><td>str</td></tr></thead><tbody><tr><td>21515</td><td>10995640321515</td><td>&quot;Platelet_count…</td><td>395.0</td><td>&quot;2022-01-13&quot;</td></tr><tr><td>21515</td><td>10996238121515</td><td>&quot;Platelet_count…</td><td>249.0</td><td>&quot;2006-08-24&quot;</td></tr><tr><td>21515</td><td>10996238121515</td><td>&quot;Platelet_count…</td><td>199.0</td><td>&quot;2013-06-06&quot;</td></tr><tr><td>21515</td><td>10996238121515</td><td>&quot;Platelet_count…</td><td>212.0</td><td>&quot;2013-08-08&quot;</td></tr><tr><td>21515</td><td>10996238121515</td><td>&quot;Platelet_count…</td><td>223.0</td><td>&quot;2015-01-14&quot;</td></tr></tbody></table></div>"
      ],
      "text/plain": [
       "shape: (5, 5)\n",
       "┌─────────────┬────────────────┬───────────────────┬───────┬────────────┐\n",
       "│ PRACTICE_ID ┆ PATIENT_ID     ┆ EVENT             ┆ VALUE ┆ DATE       │\n",
       "│ ---         ┆ ---            ┆ ---               ┆ ---   ┆ ---        │\n",
       "│ i64         ┆ i64            ┆ str               ┆ f64   ┆ str        │\n",
       "╞═════════════╪════════════════╪═══════════════════╪═══════╪════════════╡\n",
       "│ 21515       ┆ 10995640321515 ┆ Platelet_count_12 ┆ 395.0 ┆ 2022-01-13 │\n",
       "│ 21515       ┆ 10996238121515 ┆ Platelet_count_12 ┆ 249.0 ┆ 2006-08-24 │\n",
       "│ 21515       ┆ 10996238121515 ┆ Platelet_count_12 ┆ 199.0 ┆ 2013-06-06 │\n",
       "│ 21515       ┆ 10996238121515 ┆ Platelet_count_12 ┆ 212.0 ┆ 2013-08-08 │\n",
       "│ 21515       ┆ 10996238121515 ┆ Platelet_count_12 ┆ 223.0 ┆ 2015-01-14 │\n",
       "└─────────────┴────────────────┴───────────────────┴───────┴────────────┘"
      ]
     },
     "metadata": {},
     "output_type": "display_data"
    },
    {
     "name": "stdout",
     "output_type": "stream",
     "text": [
      "lazy_measurement_Red_blood_cell__RBC__count_10\n"
     ]
    },
    {
     "data": {
      "text/html": [
       "<div><style>\n",
       ".dataframe > thead > tr > th,\n",
       ".dataframe > tbody > tr > td {\n",
       "  text-align: right;\n",
       "}\n",
       "</style>\n",
       "<small>shape: (5, 5)</small><table border=\"1\" class=\"dataframe\"><thead><tr><th>PRACTICE_ID</th><th>PATIENT_ID</th><th>EVENT</th><th>VALUE</th><th>DATE</th></tr><tr><td>i64</td><td>i64</td><td>str</td><td>f64</td><td>str</td></tr></thead><tbody><tr><td>21515</td><td>10995640321515</td><td>&quot;Red_blood_cell…</td><td>3.9</td><td>&quot;2022-01-13&quot;</td></tr><tr><td>21515</td><td>10996238121515</td><td>&quot;Red_blood_cell…</td><td>6.26</td><td>&quot;2006-08-24&quot;</td></tr><tr><td>21515</td><td>10996238121515</td><td>&quot;Red_blood_cell…</td><td>6.09</td><td>&quot;2013-06-06&quot;</td></tr><tr><td>21515</td><td>10996238121515</td><td>&quot;Red_blood_cell…</td><td>6.33</td><td>&quot;2013-08-08&quot;</td></tr><tr><td>21515</td><td>10996238121515</td><td>&quot;Red_blood_cell…</td><td>6.02</td><td>&quot;2015-01-14&quot;</td></tr></tbody></table></div>"
      ],
      "text/plain": [
       "shape: (5, 5)\n",
       "┌─────────────┬────────────────┬───────────────────────────────┬───────┬────────────┐\n",
       "│ PRACTICE_ID ┆ PATIENT_ID     ┆ EVENT                         ┆ VALUE ┆ DATE       │\n",
       "│ ---         ┆ ---            ┆ ---                           ┆ ---   ┆ ---        │\n",
       "│ i64         ┆ i64            ┆ str                           ┆ f64   ┆ str        │\n",
       "╞═════════════╪════════════════╪═══════════════════════════════╪═══════╪════════════╡\n",
       "│ 21515       ┆ 10995640321515 ┆ Red_blood_cell__RBC__count_10 ┆ 3.9   ┆ 2022-01-13 │\n",
       "│ 21515       ┆ 10996238121515 ┆ Red_blood_cell__RBC__count_10 ┆ 6.26  ┆ 2006-08-24 │\n",
       "│ 21515       ┆ 10996238121515 ┆ Red_blood_cell__RBC__count_10 ┆ 6.09  ┆ 2013-06-06 │\n",
       "│ 21515       ┆ 10996238121515 ┆ Red_blood_cell__RBC__count_10 ┆ 6.33  ┆ 2013-08-08 │\n",
       "│ 21515       ┆ 10996238121515 ┆ Red_blood_cell__RBC__count_10 ┆ 6.02  ┆ 2015-01-14 │\n",
       "└─────────────┴────────────────┴───────────────────────────────┴───────┴────────────┘"
      ]
     },
     "metadata": {},
     "output_type": "display_data"
    },
    {
     "name": "stdout",
     "output_type": "stream",
     "text": [
      "lazy_measurement_Red_blood_cell_distribution_width_17\n"
     ]
    },
    {
     "data": {
      "text/html": [
       "<div><style>\n",
       ".dataframe > thead > tr > th,\n",
       ".dataframe > tbody > tr > td {\n",
       "  text-align: right;\n",
       "}\n",
       "</style>\n",
       "<small>shape: (5, 5)</small><table border=\"1\" class=\"dataframe\"><thead><tr><th>PRACTICE_ID</th><th>PATIENT_ID</th><th>EVENT</th><th>VALUE</th><th>DATE</th></tr><tr><td>i64</td><td>i64</td><td>str</td><td>f64</td><td>str</td></tr></thead><tbody><tr><td>21515</td><td>5954184321515</td><td>&quot;Red_blood_cell…</td><td>12.9</td><td>&quot;2021-10-19&quot;</td></tr><tr><td>21515</td><td>5954189521515</td><td>&quot;Red_blood_cell…</td><td>13.0</td><td>&quot;2021-09-27&quot;</td></tr><tr><td>21515</td><td>5954189621515</td><td>&quot;Red_blood_cell…</td><td>12.9</td><td>&quot;2004-01-02&quot;</td></tr><tr><td>21515</td><td>5954189621515</td><td>&quot;Red_blood_cell…</td><td>12.9</td><td>&quot;2004-01-03&quot;</td></tr><tr><td>21515</td><td>5954189621515</td><td>&quot;Red_blood_cell…</td><td>13.1</td><td>&quot;2004-01-19&quot;</td></tr></tbody></table></div>"
      ],
      "text/plain": [
       "shape: (5, 5)\n",
       "┌─────────────┬───────────────┬───────────────────────────────────┬───────┬────────────┐\n",
       "│ PRACTICE_ID ┆ PATIENT_ID    ┆ EVENT                             ┆ VALUE ┆ DATE       │\n",
       "│ ---         ┆ ---           ┆ ---                               ┆ ---   ┆ ---        │\n",
       "│ i64         ┆ i64           ┆ str                               ┆ f64   ┆ str        │\n",
       "╞═════════════╪═══════════════╪═══════════════════════════════════╪═══════╪════════════╡\n",
       "│ 21515       ┆ 5954184321515 ┆ Red_blood_cell_distribution_widt… ┆ 12.9  ┆ 2021-10-19 │\n",
       "│ 21515       ┆ 5954189521515 ┆ Red_blood_cell_distribution_widt… ┆ 13.0  ┆ 2021-09-27 │\n",
       "│ 21515       ┆ 5954189621515 ┆ Red_blood_cell_distribution_widt… ┆ 12.9  ┆ 2004-01-02 │\n",
       "│ 21515       ┆ 5954189621515 ┆ Red_blood_cell_distribution_widt… ┆ 12.9  ┆ 2004-01-03 │\n",
       "│ 21515       ┆ 5954189621515 ┆ Red_blood_cell_distribution_widt… ┆ 13.1  ┆ 2004-01-19 │\n",
       "└─────────────┴───────────────┴───────────────────────────────────┴───────┴────────────┘"
      ]
     },
     "metadata": {},
     "output_type": "display_data"
    },
    {
     "name": "stdout",
     "output_type": "stream",
     "text": [
      "lazy_measurement_Serum_25_Hydroxy_vitamin_D3_level_88\n"
     ]
    },
    {
     "data": {
      "text/html": [
       "<div><style>\n",
       ".dataframe > thead > tr > th,\n",
       ".dataframe > tbody > tr > td {\n",
       "  text-align: right;\n",
       "}\n",
       "</style>\n",
       "<small>shape: (5, 5)</small><table border=\"1\" class=\"dataframe\"><thead><tr><th>PRACTICE_ID</th><th>PATIENT_ID</th><th>EVENT</th><th>VALUE</th><th>DATE</th></tr><tr><td>i64</td><td>i64</td><td>str</td><td>f64</td><td>str</td></tr></thead><tbody><tr><td>21515</td><td>5954189621515</td><td>&quot;Serum_25_Hydro…</td><td>null</td><td>&quot;2016-04-26&quot;</td></tr><tr><td>21515</td><td>5954224721515</td><td>&quot;Serum_25_Hydro…</td><td>15.2</td><td>&quot;2013-04-22&quot;</td></tr><tr><td>21515</td><td>5954246121515</td><td>&quot;Serum_25_Hydro…</td><td>28.4</td><td>&quot;2017-02-27&quot;</td></tr><tr><td>21515</td><td>5954314621515</td><td>&quot;Serum_25_Hydro…</td><td>20.2</td><td>&quot;2013-06-06&quot;</td></tr><tr><td>21515</td><td>5954333121515</td><td>&quot;Serum_25_Hydro…</td><td>63.6</td><td>&quot;2012-10-09&quot;</td></tr></tbody></table></div>"
      ],
      "text/plain": [
       "shape: (5, 5)\n",
       "┌─────────────┬───────────────┬───────────────────────────────────┬───────┬────────────┐\n",
       "│ PRACTICE_ID ┆ PATIENT_ID    ┆ EVENT                             ┆ VALUE ┆ DATE       │\n",
       "│ ---         ┆ ---           ┆ ---                               ┆ ---   ┆ ---        │\n",
       "│ i64         ┆ i64           ┆ str                               ┆ f64   ┆ str        │\n",
       "╞═════════════╪═══════════════╪═══════════════════════════════════╪═══════╪════════════╡\n",
       "│ 21515       ┆ 5954189621515 ┆ Serum_25_Hydroxy_vitamin_D3_leve… ┆ null  ┆ 2016-04-26 │\n",
       "│ 21515       ┆ 5954224721515 ┆ Serum_25_Hydroxy_vitamin_D3_leve… ┆ 15.2  ┆ 2013-04-22 │\n",
       "│ 21515       ┆ 5954246121515 ┆ Serum_25_Hydroxy_vitamin_D3_leve… ┆ 28.4  ┆ 2017-02-27 │\n",
       "│ 21515       ┆ 5954314621515 ┆ Serum_25_Hydroxy_vitamin_D3_leve… ┆ 20.2  ┆ 2013-06-06 │\n",
       "│ 21515       ┆ 5954333121515 ┆ Serum_25_Hydroxy_vitamin_D3_leve… ┆ 63.6  ┆ 2012-10-09 │\n",
       "└─────────────┴───────────────┴───────────────────────────────────┴───────┴────────────┘"
      ]
     },
     "metadata": {},
     "output_type": "display_data"
    },
    {
     "name": "stdout",
     "output_type": "stream",
     "text": [
      "lazy_measurement_Serum_C_reactive_protein_level_59\n"
     ]
    },
    {
     "data": {
      "text/html": [
       "<div><style>\n",
       ".dataframe > thead > tr > th,\n",
       ".dataframe > tbody > tr > td {\n",
       "  text-align: right;\n",
       "}\n",
       "</style>\n",
       "<small>shape: (5, 5)</small><table border=\"1\" class=\"dataframe\"><thead><tr><th>PRACTICE_ID</th><th>PATIENT_ID</th><th>EVENT</th><th>VALUE</th><th>DATE</th></tr><tr><td>i64</td><td>i64</td><td>str</td><td>f64</td><td>str</td></tr></thead><tbody><tr><td>21515</td><td>5954188221515</td><td>&quot;Serum_C_reacti…</td><td>null</td><td>&quot;2020-06-02&quot;</td></tr><tr><td>21515</td><td>5954202121515</td><td>&quot;Serum_C_reacti…</td><td>6.0</td><td>&quot;2021-12-13&quot;</td></tr><tr><td>21515</td><td>5954208721515</td><td>&quot;Serum_C_reacti…</td><td>8.0</td><td>&quot;2014-06-13&quot;</td></tr><tr><td>21515</td><td>5954230521515</td><td>&quot;Serum_C_reacti…</td><td>2.0</td><td>&quot;2022-02-16&quot;</td></tr><tr><td>21515</td><td>5954235321515</td><td>&quot;Serum_C_reacti…</td><td>17.0</td><td>&quot;2021-11-22&quot;</td></tr></tbody></table></div>"
      ],
      "text/plain": [
       "shape: (5, 5)\n",
       "┌─────────────┬───────────────┬───────────────────────────────────┬───────┬────────────┐\n",
       "│ PRACTICE_ID ┆ PATIENT_ID    ┆ EVENT                             ┆ VALUE ┆ DATE       │\n",
       "│ ---         ┆ ---           ┆ ---                               ┆ ---   ┆ ---        │\n",
       "│ i64         ┆ i64           ┆ str                               ┆ f64   ┆ str        │\n",
       "╞═════════════╪═══════════════╪═══════════════════════════════════╪═══════╪════════════╡\n",
       "│ 21515       ┆ 5954188221515 ┆ Serum_C_reactive_protein_level_5… ┆ null  ┆ 2020-06-02 │\n",
       "│ 21515       ┆ 5954202121515 ┆ Serum_C_reactive_protein_level_5… ┆ 6.0   ┆ 2021-12-13 │\n",
       "│ 21515       ┆ 5954208721515 ┆ Serum_C_reactive_protein_level_5… ┆ 8.0   ┆ 2014-06-13 │\n",
       "│ 21515       ┆ 5954230521515 ┆ Serum_C_reactive_protein_level_5… ┆ 2.0   ┆ 2022-02-16 │\n",
       "│ 21515       ┆ 5954235321515 ┆ Serum_C_reactive_protein_level_5… ┆ 17.0  ┆ 2021-11-22 │\n",
       "└─────────────┴───────────────┴───────────────────────────────────┴───────┴────────────┘"
      ]
     },
     "metadata": {},
     "output_type": "display_data"
    },
    {
     "name": "stdout",
     "output_type": "stream",
     "text": [
      "lazy_measurement_Serum_HDL_cholesterol_level_100\n"
     ]
    },
    {
     "data": {
      "text/html": [
       "<div><style>\n",
       ".dataframe > thead > tr > th,\n",
       ".dataframe > tbody > tr > td {\n",
       "  text-align: right;\n",
       "}\n",
       "</style>\n",
       "<small>shape: (5, 5)</small><table border=\"1\" class=\"dataframe\"><thead><tr><th>PRACTICE_ID</th><th>PATIENT_ID</th><th>EVENT</th><th>VALUE</th><th>DATE</th></tr><tr><td>i64</td><td>i64</td><td>str</td><td>f64</td><td>str</td></tr></thead><tbody><tr><td>21515</td><td>10996238121515</td><td>&quot;Serum_HDL_chol…</td><td>1.0</td><td>&quot;2015-01-14&quot;</td></tr><tr><td>21515</td><td>5954186521515</td><td>&quot;Serum_HDL_chol…</td><td>1.9</td><td>&quot;2009-08-04&quot;</td></tr><tr><td>21515</td><td>5954186521515</td><td>&quot;Serum_HDL_chol…</td><td>1.9</td><td>&quot;2020-09-02&quot;</td></tr><tr><td>21515</td><td>5954186521515</td><td>&quot;Serum_HDL_chol…</td><td>null</td><td>&quot;2020-09-02&quot;</td></tr><tr><td>21515</td><td>5954187021515</td><td>&quot;Serum_HDL_chol…</td><td>1.78</td><td>&quot;2004-12-10&quot;</td></tr></tbody></table></div>"
      ],
      "text/plain": [
       "shape: (5, 5)\n",
       "┌─────────────┬────────────────┬─────────────────────────────────┬───────┬────────────┐\n",
       "│ PRACTICE_ID ┆ PATIENT_ID     ┆ EVENT                           ┆ VALUE ┆ DATE       │\n",
       "│ ---         ┆ ---            ┆ ---                             ┆ ---   ┆ ---        │\n",
       "│ i64         ┆ i64            ┆ str                             ┆ f64   ┆ str        │\n",
       "╞═════════════╪════════════════╪═════════════════════════════════╪═══════╪════════════╡\n",
       "│ 21515       ┆ 10996238121515 ┆ Serum_HDL_cholesterol_level_100 ┆ 1.0   ┆ 2015-01-14 │\n",
       "│ 21515       ┆ 5954186521515  ┆ Serum_HDL_cholesterol_level_100 ┆ 1.9   ┆ 2009-08-04 │\n",
       "│ 21515       ┆ 5954186521515  ┆ Serum_HDL_cholesterol_level_100 ┆ 1.9   ┆ 2020-09-02 │\n",
       "│ 21515       ┆ 5954186521515  ┆ Serum_HDL_cholesterol_level_100 ┆ null  ┆ 2020-09-02 │\n",
       "│ 21515       ┆ 5954187021515  ┆ Serum_HDL_cholesterol_level_100 ┆ 1.78  ┆ 2004-12-10 │\n",
       "└─────────────┴────────────────┴─────────────────────────────────┴───────┴────────────┘"
      ]
     },
     "metadata": {},
     "output_type": "display_data"
    },
    {
     "name": "stdout",
     "output_type": "stream",
     "text": [
      "lazy_measurement_Serum_LDL_cholesterol_level_102\n"
     ]
    },
    {
     "data": {
      "text/html": [
       "<div><style>\n",
       ".dataframe > thead > tr > th,\n",
       ".dataframe > tbody > tr > td {\n",
       "  text-align: right;\n",
       "}\n",
       "</style>\n",
       "<small>shape: (5, 5)</small><table border=\"1\" class=\"dataframe\"><thead><tr><th>PRACTICE_ID</th><th>PATIENT_ID</th><th>EVENT</th><th>VALUE</th><th>DATE</th></tr><tr><td>i64</td><td>i64</td><td>str</td><td>f64</td><td>str</td></tr></thead><tbody><tr><td>21515</td><td>10996238121515</td><td>&quot;Serum_LDL_chol…</td><td>3.5</td><td>&quot;2015-01-14&quot;</td></tr><tr><td>21515</td><td>5954186521515</td><td>&quot;Serum_LDL_chol…</td><td>2.8</td><td>&quot;2009-08-04&quot;</td></tr><tr><td>21515</td><td>5954187021515</td><td>&quot;Serum_LDL_chol…</td><td>3.7</td><td>&quot;2004-12-10&quot;</td></tr><tr><td>21515</td><td>5954187021515</td><td>&quot;Serum_LDL_chol…</td><td>4.3</td><td>&quot;2008-10-10&quot;</td></tr><tr><td>21515</td><td>5954187021515</td><td>&quot;Serum_LDL_chol…</td><td>null</td><td>&quot;2015-04-17&quot;</td></tr></tbody></table></div>"
      ],
      "text/plain": [
       "shape: (5, 5)\n",
       "┌─────────────┬────────────────┬─────────────────────────────────┬───────┬────────────┐\n",
       "│ PRACTICE_ID ┆ PATIENT_ID     ┆ EVENT                           ┆ VALUE ┆ DATE       │\n",
       "│ ---         ┆ ---            ┆ ---                             ┆ ---   ┆ ---        │\n",
       "│ i64         ┆ i64            ┆ str                             ┆ f64   ┆ str        │\n",
       "╞═════════════╪════════════════╪═════════════════════════════════╪═══════╪════════════╡\n",
       "│ 21515       ┆ 10996238121515 ┆ Serum_LDL_cholesterol_level_102 ┆ 3.5   ┆ 2015-01-14 │\n",
       "│ 21515       ┆ 5954186521515  ┆ Serum_LDL_cholesterol_level_102 ┆ 2.8   ┆ 2009-08-04 │\n",
       "│ 21515       ┆ 5954187021515  ┆ Serum_LDL_cholesterol_level_102 ┆ 3.7   ┆ 2004-12-10 │\n",
       "│ 21515       ┆ 5954187021515  ┆ Serum_LDL_cholesterol_level_102 ┆ 4.3   ┆ 2008-10-10 │\n",
       "│ 21515       ┆ 5954187021515  ┆ Serum_LDL_cholesterol_level_102 ┆ null  ┆ 2015-04-17 │\n",
       "└─────────────┴────────────────┴─────────────────────────────────┴───────┴────────────┘"
      ]
     },
     "metadata": {},
     "output_type": "display_data"
    },
    {
     "name": "stdout",
     "output_type": "stream",
     "text": [
      "lazy_measurement_Serum_N_terminal_pro_B_type_natriuretic_peptide_conc_68\n"
     ]
    },
    {
     "data": {
      "text/html": [
       "<div><style>\n",
       ".dataframe > thead > tr > th,\n",
       ".dataframe > tbody > tr > td {\n",
       "  text-align: right;\n",
       "}\n",
       "</style>\n",
       "<small>shape: (5, 5)</small><table border=\"1\" class=\"dataframe\"><thead><tr><th>PRACTICE_ID</th><th>PATIENT_ID</th><th>EVENT</th><th>VALUE</th><th>DATE</th></tr><tr><td>i64</td><td>i64</td><td>str</td><td>f64</td><td>str</td></tr></thead><tbody><tr><td>21515</td><td>5954208721515</td><td>&quot;Serum_N_termin…</td><td>293.0</td><td>&quot;2019-12-23&quot;</td></tr><tr><td>21515</td><td>5954208821515</td><td>&quot;Serum_N_termin…</td><td>79.0</td><td>&quot;2021-08-18&quot;</td></tr><tr><td>21515</td><td>5954236321515</td><td>&quot;Serum_N_termin…</td><td>50.0</td><td>&quot;2018-01-26&quot;</td></tr><tr><td>21515</td><td>5954309821515</td><td>&quot;Serum_N_termin…</td><td>266.0</td><td>&quot;2017-06-19&quot;</td></tr><tr><td>21515</td><td>5954310721515</td><td>&quot;Serum_N_termin…</td><td>3509.0</td><td>&quot;2016-09-14&quot;</td></tr></tbody></table></div>"
      ],
      "text/plain": [
       "shape: (5, 5)\n",
       "┌─────────────┬───────────────┬───────────────────────────────────┬────────┬────────────┐\n",
       "│ PRACTICE_ID ┆ PATIENT_ID    ┆ EVENT                             ┆ VALUE  ┆ DATE       │\n",
       "│ ---         ┆ ---           ┆ ---                               ┆ ---    ┆ ---        │\n",
       "│ i64         ┆ i64           ┆ str                               ┆ f64    ┆ str        │\n",
       "╞═════════════╪═══════════════╪═══════════════════════════════════╪════════╪════════════╡\n",
       "│ 21515       ┆ 5954208721515 ┆ Serum_N_terminal_pro_B_type_natr… ┆ 293.0  ┆ 2019-12-23 │\n",
       "│ 21515       ┆ 5954208821515 ┆ Serum_N_terminal_pro_B_type_natr… ┆ 79.0   ┆ 2021-08-18 │\n",
       "│ 21515       ┆ 5954236321515 ┆ Serum_N_terminal_pro_B_type_natr… ┆ 50.0   ┆ 2018-01-26 │\n",
       "│ 21515       ┆ 5954309821515 ┆ Serum_N_terminal_pro_B_type_natr… ┆ 266.0  ┆ 2017-06-19 │\n",
       "│ 21515       ┆ 5954310721515 ┆ Serum_N_terminal_pro_B_type_natr… ┆ 3509.0 ┆ 2016-09-14 │\n",
       "└─────────────┴───────────────┴───────────────────────────────────┴────────┴────────────┘"
      ]
     },
     "metadata": {},
     "output_type": "display_data"
    },
    {
     "name": "stdout",
     "output_type": "stream",
     "text": [
      "lazy_measurement_Serum_T4_level_78\n"
     ]
    },
    {
     "data": {
      "text/html": [
       "<div><style>\n",
       ".dataframe > thead > tr > th,\n",
       ".dataframe > tbody > tr > td {\n",
       "  text-align: right;\n",
       "}\n",
       "</style>\n",
       "<small>shape: (5, 5)</small><table border=\"1\" class=\"dataframe\"><thead><tr><th>PRACTICE_ID</th><th>PATIENT_ID</th><th>EVENT</th><th>VALUE</th><th>DATE</th></tr><tr><td>i64</td><td>i64</td><td>str</td><td>f64</td><td>str</td></tr></thead><tbody><tr><td>21515</td><td>5954196521515</td><td>&quot;Serum_T4_level…</td><td>null</td><td>&quot;2004-12-13&quot;</td></tr><tr><td>21515</td><td>5954196521515</td><td>&quot;Serum_T4_level…</td><td>11.3</td><td>&quot;2010-03-23&quot;</td></tr><tr><td>21515</td><td>5954230521515</td><td>&quot;Serum_T4_level…</td><td>14.2</td><td>&quot;2007-03-19&quot;</td></tr><tr><td>21515</td><td>5954230521515</td><td>&quot;Serum_T4_level…</td><td>9.7</td><td>&quot;2008-07-23&quot;</td></tr><tr><td>21515</td><td>5954260021515</td><td>&quot;Serum_T4_level…</td><td>141.1</td><td>&quot;2004-01-26&quot;</td></tr></tbody></table></div>"
      ],
      "text/plain": [
       "shape: (5, 5)\n",
       "┌─────────────┬───────────────┬───────────────────┬───────┬────────────┐\n",
       "│ PRACTICE_ID ┆ PATIENT_ID    ┆ EVENT             ┆ VALUE ┆ DATE       │\n",
       "│ ---         ┆ ---           ┆ ---               ┆ ---   ┆ ---        │\n",
       "│ i64         ┆ i64           ┆ str               ┆ f64   ┆ str        │\n",
       "╞═════════════╪═══════════════╪═══════════════════╪═══════╪════════════╡\n",
       "│ 21515       ┆ 5954196521515 ┆ Serum_T4_level_78 ┆ null  ┆ 2004-12-13 │\n",
       "│ 21515       ┆ 5954196521515 ┆ Serum_T4_level_78 ┆ 11.3  ┆ 2010-03-23 │\n",
       "│ 21515       ┆ 5954230521515 ┆ Serum_T4_level_78 ┆ 14.2  ┆ 2007-03-19 │\n",
       "│ 21515       ┆ 5954230521515 ┆ Serum_T4_level_78 ┆ 9.7   ┆ 2008-07-23 │\n",
       "│ 21515       ┆ 5954260021515 ┆ Serum_T4_level_78 ┆ 141.1 ┆ 2004-01-26 │\n",
       "└─────────────┴───────────────┴───────────────────┴───────┴────────────┘"
      ]
     },
     "metadata": {},
     "output_type": "display_data"
    },
    {
     "name": "stdout",
     "output_type": "stream",
     "text": [
      "lazy_measurement_Serum_TSH_level_71\n"
     ]
    },
    {
     "data": {
      "text/html": [
       "<div><style>\n",
       ".dataframe > thead > tr > th,\n",
       ".dataframe > tbody > tr > td {\n",
       "  text-align: right;\n",
       "}\n",
       "</style>\n",
       "<small>shape: (5, 5)</small><table border=\"1\" class=\"dataframe\"><thead><tr><th>PRACTICE_ID</th><th>PATIENT_ID</th><th>EVENT</th><th>VALUE</th><th>DATE</th></tr><tr><td>i64</td><td>i64</td><td>str</td><td>f64</td><td>str</td></tr></thead><tbody><tr><td>21515</td><td>10995640321515</td><td>&quot;Serum_TSH_leve…</td><td>0.61</td><td>&quot;2022-01-13&quot;</td></tr><tr><td>21515</td><td>10996238121515</td><td>&quot;Serum_TSH_leve…</td><td>3.13</td><td>&quot;2015-01-14&quot;</td></tr><tr><td>21515</td><td>10996238121515</td><td>&quot;Serum_TSH_leve…</td><td>1.25</td><td>&quot;2018-08-03&quot;</td></tr><tr><td>21515</td><td>5954184321515</td><td>&quot;Serum_TSH_leve…</td><td>1.89</td><td>&quot;2005-02-04&quot;</td></tr><tr><td>21515</td><td>5954184321515</td><td>&quot;Serum_TSH_leve…</td><td>2.8</td><td>&quot;2008-04-02&quot;</td></tr></tbody></table></div>"
      ],
      "text/plain": [
       "shape: (5, 5)\n",
       "┌─────────────┬────────────────┬────────────────────┬───────┬────────────┐\n",
       "│ PRACTICE_ID ┆ PATIENT_ID     ┆ EVENT              ┆ VALUE ┆ DATE       │\n",
       "│ ---         ┆ ---            ┆ ---                ┆ ---   ┆ ---        │\n",
       "│ i64         ┆ i64            ┆ str                ┆ f64   ┆ str        │\n",
       "╞═════════════╪════════════════╪════════════════════╪═══════╪════════════╡\n",
       "│ 21515       ┆ 10995640321515 ┆ Serum_TSH_level_71 ┆ 0.61  ┆ 2022-01-13 │\n",
       "│ 21515       ┆ 10996238121515 ┆ Serum_TSH_level_71 ┆ 3.13  ┆ 2015-01-14 │\n",
       "│ 21515       ┆ 10996238121515 ┆ Serum_TSH_level_71 ┆ 1.25  ┆ 2018-08-03 │\n",
       "│ 21515       ┆ 5954184321515  ┆ Serum_TSH_level_71 ┆ 1.89  ┆ 2005-02-04 │\n",
       "│ 21515       ┆ 5954184321515  ┆ Serum_TSH_level_71 ┆ 2.8   ┆ 2008-04-02 │\n",
       "└─────────────┴────────────────┴────────────────────┴───────┴────────────┘"
      ]
     },
     "metadata": {},
     "output_type": "display_data"
    },
    {
     "name": "stdout",
     "output_type": "stream",
     "text": [
      "lazy_measurement_Serum_alanine_aminotransferase_level_45\n"
     ]
    },
    {
     "data": {
      "text/html": [
       "<div><style>\n",
       ".dataframe > thead > tr > th,\n",
       ".dataframe > tbody > tr > td {\n",
       "  text-align: right;\n",
       "}\n",
       "</style>\n",
       "<small>shape: (5, 5)</small><table border=\"1\" class=\"dataframe\"><thead><tr><th>PRACTICE_ID</th><th>PATIENT_ID</th><th>EVENT</th><th>VALUE</th><th>DATE</th></tr><tr><td>i64</td><td>i64</td><td>str</td><td>f64</td><td>str</td></tr></thead><tbody><tr><td>21515</td><td>10996238121515</td><td>&quot;Serum_alanine_…</td><td>106.0</td><td>&quot;2013-06-06&quot;</td></tr><tr><td>21515</td><td>10996238121515</td><td>&quot;Serum_alanine_…</td><td>123.0</td><td>&quot;2015-01-14&quot;</td></tr><tr><td>21515</td><td>10996238121515</td><td>&quot;Serum_alanine_…</td><td>38.0</td><td>&quot;2015-01-27&quot;</td></tr><tr><td>21515</td><td>10996238121515</td><td>&quot;Serum_alanine_…</td><td>29.0</td><td>&quot;2015-11-03&quot;</td></tr><tr><td>21515</td><td>10996238121515</td><td>&quot;Serum_alanine_…</td><td>36.0</td><td>&quot;2016-07-22&quot;</td></tr></tbody></table></div>"
      ],
      "text/plain": [
       "shape: (5, 5)\n",
       "┌─────────────┬────────────────┬───────────────────────────────────┬───────┬────────────┐\n",
       "│ PRACTICE_ID ┆ PATIENT_ID     ┆ EVENT                             ┆ VALUE ┆ DATE       │\n",
       "│ ---         ┆ ---            ┆ ---                               ┆ ---   ┆ ---        │\n",
       "│ i64         ┆ i64            ┆ str                               ┆ f64   ┆ str        │\n",
       "╞═════════════╪════════════════╪═══════════════════════════════════╪═══════╪════════════╡\n",
       "│ 21515       ┆ 10996238121515 ┆ Serum_alanine_aminotransferase_l… ┆ 106.0 ┆ 2013-06-06 │\n",
       "│ 21515       ┆ 10996238121515 ┆ Serum_alanine_aminotransferase_l… ┆ 123.0 ┆ 2015-01-14 │\n",
       "│ 21515       ┆ 10996238121515 ┆ Serum_alanine_aminotransferase_l… ┆ 38.0  ┆ 2015-01-27 │\n",
       "│ 21515       ┆ 10996238121515 ┆ Serum_alanine_aminotransferase_l… ┆ 29.0  ┆ 2015-11-03 │\n",
       "│ 21515       ┆ 10996238121515 ┆ Serum_alanine_aminotransferase_l… ┆ 36.0  ┆ 2016-07-22 │\n",
       "└─────────────┴────────────────┴───────────────────────────────────┴───────┴────────────┘"
      ]
     },
     "metadata": {},
     "output_type": "display_data"
    },
    {
     "name": "stdout",
     "output_type": "stream",
     "text": [
      "lazy_measurement_Serum_albumin_51\n"
     ]
    },
    {
     "data": {
      "text/html": [
       "<div><style>\n",
       ".dataframe > thead > tr > th,\n",
       ".dataframe > tbody > tr > td {\n",
       "  text-align: right;\n",
       "}\n",
       "</style>\n",
       "<small>shape: (5, 5)</small><table border=\"1\" class=\"dataframe\"><thead><tr><th>PRACTICE_ID</th><th>PATIENT_ID</th><th>EVENT</th><th>VALUE</th><th>DATE</th></tr><tr><td>i64</td><td>i64</td><td>str</td><td>f64</td><td>str</td></tr></thead><tbody><tr><td>21515</td><td>10996238121515</td><td>&quot;Serum_albumin_…</td><td>50.0</td><td>&quot;2006-08-25&quot;</td></tr><tr><td>21515</td><td>10996238121515</td><td>&quot;Serum_albumin_…</td><td>41.0</td><td>&quot;2013-06-06&quot;</td></tr><tr><td>21515</td><td>10996238121515</td><td>&quot;Serum_albumin_…</td><td>46.0</td><td>&quot;2015-01-14&quot;</td></tr><tr><td>21515</td><td>10996238121515</td><td>&quot;Serum_albumin_…</td><td>46.0</td><td>&quot;2015-01-27&quot;</td></tr><tr><td>21515</td><td>10996238121515</td><td>&quot;Serum_albumin_…</td><td>44.0</td><td>&quot;2015-11-03&quot;</td></tr></tbody></table></div>"
      ],
      "text/plain": [
       "shape: (5, 5)\n",
       "┌─────────────┬────────────────┬──────────────────┬───────┬────────────┐\n",
       "│ PRACTICE_ID ┆ PATIENT_ID     ┆ EVENT            ┆ VALUE ┆ DATE       │\n",
       "│ ---         ┆ ---            ┆ ---              ┆ ---   ┆ ---        │\n",
       "│ i64         ┆ i64            ┆ str              ┆ f64   ┆ str        │\n",
       "╞═════════════╪════════════════╪══════════════════╪═══════╪════════════╡\n",
       "│ 21515       ┆ 10996238121515 ┆ Serum_albumin_51 ┆ 50.0  ┆ 2006-08-25 │\n",
       "│ 21515       ┆ 10996238121515 ┆ Serum_albumin_51 ┆ 41.0  ┆ 2013-06-06 │\n",
       "│ 21515       ┆ 10996238121515 ┆ Serum_albumin_51 ┆ 46.0  ┆ 2015-01-14 │\n",
       "│ 21515       ┆ 10996238121515 ┆ Serum_albumin_51 ┆ 46.0  ┆ 2015-01-27 │\n",
       "│ 21515       ┆ 10996238121515 ┆ Serum_albumin_51 ┆ 44.0  ┆ 2015-11-03 │\n",
       "└─────────────┴────────────────┴──────────────────┴───────┴────────────┘"
      ]
     },
     "metadata": {},
     "output_type": "display_data"
    },
    {
     "name": "stdout",
     "output_type": "stream",
     "text": [
      "lazy_measurement_Serum_alkaline_phosphatase_50\n"
     ]
    },
    {
     "data": {
      "text/html": [
       "<div><style>\n",
       ".dataframe > thead > tr > th,\n",
       ".dataframe > tbody > tr > td {\n",
       "  text-align: right;\n",
       "}\n",
       "</style>\n",
       "<small>shape: (5, 5)</small><table border=\"1\" class=\"dataframe\"><thead><tr><th>PRACTICE_ID</th><th>PATIENT_ID</th><th>EVENT</th><th>VALUE</th><th>DATE</th></tr><tr><td>i64</td><td>i64</td><td>str</td><td>f64</td><td>str</td></tr></thead><tbody><tr><td>21515</td><td>10996238121515</td><td>&quot;Serum_alkaline…</td><td>78.0</td><td>&quot;2006-08-25&quot;</td></tr><tr><td>21515</td><td>10996238121515</td><td>&quot;Serum_alkaline…</td><td>64.0</td><td>&quot;2013-06-06&quot;</td></tr><tr><td>21515</td><td>10996238121515</td><td>&quot;Serum_alkaline…</td><td>90.0</td><td>&quot;2015-01-14&quot;</td></tr><tr><td>21515</td><td>10996238121515</td><td>&quot;Serum_alkaline…</td><td>107.0</td><td>&quot;2015-01-27&quot;</td></tr><tr><td>21515</td><td>10996238121515</td><td>&quot;Serum_alkaline…</td><td>82.0</td><td>&quot;2015-11-03&quot;</td></tr></tbody></table></div>"
      ],
      "text/plain": [
       "shape: (5, 5)\n",
       "┌─────────────┬────────────────┬───────────────────────────────┬───────┬────────────┐\n",
       "│ PRACTICE_ID ┆ PATIENT_ID     ┆ EVENT                         ┆ VALUE ┆ DATE       │\n",
       "│ ---         ┆ ---            ┆ ---                           ┆ ---   ┆ ---        │\n",
       "│ i64         ┆ i64            ┆ str                           ┆ f64   ┆ str        │\n",
       "╞═════════════╪════════════════╪═══════════════════════════════╪═══════╪════════════╡\n",
       "│ 21515       ┆ 10996238121515 ┆ Serum_alkaline_phosphatase_50 ┆ 78.0  ┆ 2006-08-25 │\n",
       "│ 21515       ┆ 10996238121515 ┆ Serum_alkaline_phosphatase_50 ┆ 64.0  ┆ 2013-06-06 │\n",
       "│ 21515       ┆ 10996238121515 ┆ Serum_alkaline_phosphatase_50 ┆ 90.0  ┆ 2015-01-14 │\n",
       "│ 21515       ┆ 10996238121515 ┆ Serum_alkaline_phosphatase_50 ┆ 107.0 ┆ 2015-01-27 │\n",
       "│ 21515       ┆ 10996238121515 ┆ Serum_alkaline_phosphatase_50 ┆ 82.0  ┆ 2015-11-03 │\n",
       "└─────────────┴────────────────┴───────────────────────────────┴───────┴────────────┘"
      ]
     },
     "metadata": {},
     "output_type": "display_data"
    },
    {
     "name": "stdout",
     "output_type": "stream",
     "text": [
      "lazy_measurement_Serum_bilirubin_level_53\n"
     ]
    },
    {
     "data": {
      "text/html": [
       "<div><style>\n",
       ".dataframe > thead > tr > th,\n",
       ".dataframe > tbody > tr > td {\n",
       "  text-align: right;\n",
       "}\n",
       "</style>\n",
       "<small>shape: (5, 5)</small><table border=\"1\" class=\"dataframe\"><thead><tr><th>PRACTICE_ID</th><th>PATIENT_ID</th><th>EVENT</th><th>VALUE</th><th>DATE</th></tr><tr><td>i64</td><td>i64</td><td>str</td><td>f64</td><td>str</td></tr></thead><tbody><tr><td>21515</td><td>5954189221515</td><td>&quot;Serum_bilirubi…</td><td>11.0</td><td>&quot;2001-01-18&quot;</td></tr><tr><td>21515</td><td>5954189221515</td><td>&quot;Serum_bilirubi…</td><td>9.0</td><td>&quot;2001-02-03&quot;</td></tr><tr><td>21515</td><td>5954222521515</td><td>&quot;Serum_bilirubi…</td><td>6.0</td><td>&quot;2000-12-29&quot;</td></tr><tr><td>21515</td><td>5954236621515</td><td>&quot;Serum_bilirubi…</td><td>9.0</td><td>&quot;2017-08-23&quot;</td></tr><tr><td>21515</td><td>5954236621515</td><td>&quot;Serum_bilirubi…</td><td>7.0</td><td>&quot;2017-12-29&quot;</td></tr></tbody></table></div>"
      ],
      "text/plain": [
       "shape: (5, 5)\n",
       "┌─────────────┬───────────────┬──────────────────────────┬───────┬────────────┐\n",
       "│ PRACTICE_ID ┆ PATIENT_ID    ┆ EVENT                    ┆ VALUE ┆ DATE       │\n",
       "│ ---         ┆ ---           ┆ ---                      ┆ ---   ┆ ---        │\n",
       "│ i64         ┆ i64           ┆ str                      ┆ f64   ┆ str        │\n",
       "╞═════════════╪═══════════════╪══════════════════════════╪═══════╪════════════╡\n",
       "│ 21515       ┆ 5954189221515 ┆ Serum_bilirubin_level_53 ┆ 11.0  ┆ 2001-01-18 │\n",
       "│ 21515       ┆ 5954189221515 ┆ Serum_bilirubin_level_53 ┆ 9.0   ┆ 2001-02-03 │\n",
       "│ 21515       ┆ 5954222521515 ┆ Serum_bilirubin_level_53 ┆ 6.0   ┆ 2000-12-29 │\n",
       "│ 21515       ┆ 5954236621515 ┆ Serum_bilirubin_level_53 ┆ 9.0   ┆ 2017-08-23 │\n",
       "│ 21515       ┆ 5954236621515 ┆ Serum_bilirubin_level_53 ┆ 7.0   ┆ 2017-12-29 │\n",
       "└─────────────┴───────────────┴──────────────────────────┴───────┴────────────┘"
      ]
     },
     "metadata": {},
     "output_type": "display_data"
    },
    {
     "name": "stdout",
     "output_type": "stream",
     "text": [
      "lazy_measurement_Serum_calcium_39\n"
     ]
    },
    {
     "data": {
      "text/html": [
       "<div><style>\n",
       ".dataframe > thead > tr > th,\n",
       ".dataframe > tbody > tr > td {\n",
       "  text-align: right;\n",
       "}\n",
       "</style>\n",
       "<small>shape: (5, 5)</small><table border=\"1\" class=\"dataframe\"><thead><tr><th>PRACTICE_ID</th><th>PATIENT_ID</th><th>EVENT</th><th>VALUE</th><th>DATE</th></tr><tr><td>i64</td><td>i64</td><td>str</td><td>f64</td><td>str</td></tr></thead><tbody><tr><td>21515</td><td>10996238121515</td><td>&quot;Serum_calcium_…</td><td>2.48</td><td>&quot;2006-08-25&quot;</td></tr><tr><td>21515</td><td>10996238121515</td><td>&quot;Serum_calcium_…</td><td>null</td><td>&quot;2006-08-25&quot;</td></tr><tr><td>21515</td><td>10996238121515</td><td>&quot;Serum_calcium_…</td><td>2.44</td><td>&quot;2018-08-03&quot;</td></tr><tr><td>21515</td><td>5954187021515</td><td>&quot;Serum_calcium_…</td><td>2.25</td><td>&quot;2013-10-09&quot;</td></tr><tr><td>21515</td><td>5954187021515</td><td>&quot;Serum_calcium_…</td><td>2.31</td><td>&quot;2015-04-17&quot;</td></tr></tbody></table></div>"
      ],
      "text/plain": [
       "shape: (5, 5)\n",
       "┌─────────────┬────────────────┬──────────────────┬───────┬────────────┐\n",
       "│ PRACTICE_ID ┆ PATIENT_ID     ┆ EVENT            ┆ VALUE ┆ DATE       │\n",
       "│ ---         ┆ ---            ┆ ---              ┆ ---   ┆ ---        │\n",
       "│ i64         ┆ i64            ┆ str              ┆ f64   ┆ str        │\n",
       "╞═════════════╪════════════════╪══════════════════╪═══════╪════════════╡\n",
       "│ 21515       ┆ 10996238121515 ┆ Serum_calcium_39 ┆ 2.48  ┆ 2006-08-25 │\n",
       "│ 21515       ┆ 10996238121515 ┆ Serum_calcium_39 ┆ null  ┆ 2006-08-25 │\n",
       "│ 21515       ┆ 10996238121515 ┆ Serum_calcium_39 ┆ 2.44  ┆ 2018-08-03 │\n",
       "│ 21515       ┆ 5954187021515  ┆ Serum_calcium_39 ┆ 2.25  ┆ 2013-10-09 │\n",
       "│ 21515       ┆ 5954187021515  ┆ Serum_calcium_39 ┆ 2.31  ┆ 2015-04-17 │\n",
       "└─────────────┴────────────────┴──────────────────┴───────┴────────────┘"
      ]
     },
     "metadata": {},
     "output_type": "display_data"
    },
    {
     "name": "stdout",
     "output_type": "stream",
     "text": [
      "lazy_measurement_Serum_cholesterol_97\n"
     ]
    },
    {
     "data": {
      "text/html": [
       "<div><style>\n",
       ".dataframe > thead > tr > th,\n",
       ".dataframe > tbody > tr > td {\n",
       "  text-align: right;\n",
       "}\n",
       "</style>\n",
       "<small>shape: (5, 5)</small><table border=\"1\" class=\"dataframe\"><thead><tr><th>PRACTICE_ID</th><th>PATIENT_ID</th><th>EVENT</th><th>VALUE</th><th>DATE</th></tr><tr><td>i64</td><td>i64</td><td>str</td><td>f64</td><td>str</td></tr></thead><tbody><tr><td>21515</td><td>10996238121515</td><td>&quot;Serum_choleste…</td><td>5.3</td><td>&quot;2006-08-25&quot;</td></tr><tr><td>21515</td><td>10996238121515</td><td>&quot;Serum_choleste…</td><td>5.6</td><td>&quot;2015-01-14&quot;</td></tr><tr><td>21515</td><td>5954186521515</td><td>&quot;Serum_choleste…</td><td>5.0</td><td>&quot;2009-08-04&quot;</td></tr><tr><td>21515</td><td>5954186521515</td><td>&quot;Serum_choleste…</td><td>5.5</td><td>&quot;2020-09-02&quot;</td></tr><tr><td>21515</td><td>5954186521515</td><td>&quot;Serum_choleste…</td><td>null</td><td>&quot;2020-09-02&quot;</td></tr></tbody></table></div>"
      ],
      "text/plain": [
       "shape: (5, 5)\n",
       "┌─────────────┬────────────────┬──────────────────────┬───────┬────────────┐\n",
       "│ PRACTICE_ID ┆ PATIENT_ID     ┆ EVENT                ┆ VALUE ┆ DATE       │\n",
       "│ ---         ┆ ---            ┆ ---                  ┆ ---   ┆ ---        │\n",
       "│ i64         ┆ i64            ┆ str                  ┆ f64   ┆ str        │\n",
       "╞═════════════╪════════════════╪══════════════════════╪═══════╪════════════╡\n",
       "│ 21515       ┆ 10996238121515 ┆ Serum_cholesterol_97 ┆ 5.3   ┆ 2006-08-25 │\n",
       "│ 21515       ┆ 10996238121515 ┆ Serum_cholesterol_97 ┆ 5.6   ┆ 2015-01-14 │\n",
       "│ 21515       ┆ 5954186521515  ┆ Serum_cholesterol_97 ┆ 5.0   ┆ 2009-08-04 │\n",
       "│ 21515       ┆ 5954186521515  ┆ Serum_cholesterol_97 ┆ 5.5   ┆ 2020-09-02 │\n",
       "│ 21515       ┆ 5954186521515  ┆ Serum_cholesterol_97 ┆ null  ┆ 2020-09-02 │\n",
       "└─────────────┴────────────────┴──────────────────────┴───────┴────────────┘"
      ]
     },
     "metadata": {},
     "output_type": "display_data"
    },
    {
     "name": "stdout",
     "output_type": "stream",
     "text": [
      "lazy_measurement_Serum_cholesterol_HDL_ratio_94\n"
     ]
    },
    {
     "data": {
      "text/html": [
       "<div><style>\n",
       ".dataframe > thead > tr > th,\n",
       ".dataframe > tbody > tr > td {\n",
       "  text-align: right;\n",
       "}\n",
       "</style>\n",
       "<small>shape: (5, 5)</small><table border=\"1\" class=\"dataframe\"><thead><tr><th>PRACTICE_ID</th><th>PATIENT_ID</th><th>EVENT</th><th>VALUE</th><th>DATE</th></tr><tr><td>i64</td><td>i64</td><td>str</td><td>f64</td><td>str</td></tr></thead><tbody><tr><td>21515</td><td>10996238121515</td><td>&quot;Serum_choleste…</td><td>5.6</td><td>&quot;2015-01-14&quot;</td></tr><tr><td>21515</td><td>5954186521515</td><td>&quot;Serum_choleste…</td><td>2.89</td><td>&quot;2020-09-02&quot;</td></tr><tr><td>21515</td><td>5954186521515</td><td>&quot;Serum_choleste…</td><td>null</td><td>&quot;2020-09-02&quot;</td></tr><tr><td>21515</td><td>5954187021515</td><td>&quot;Serum_choleste…</td><td>2.95</td><td>&quot;2015-04-17&quot;</td></tr><tr><td>21515</td><td>5954187021515</td><td>&quot;Serum_choleste…</td><td>3.0</td><td>&quot;2018-03-26&quot;</td></tr></tbody></table></div>"
      ],
      "text/plain": [
       "shape: (5, 5)\n",
       "┌─────────────┬────────────────┬────────────────────────────────┬───────┬────────────┐\n",
       "│ PRACTICE_ID ┆ PATIENT_ID     ┆ EVENT                          ┆ VALUE ┆ DATE       │\n",
       "│ ---         ┆ ---            ┆ ---                            ┆ ---   ┆ ---        │\n",
       "│ i64         ┆ i64            ┆ str                            ┆ f64   ┆ str        │\n",
       "╞═════════════╪════════════════╪════════════════════════════════╪═══════╪════════════╡\n",
       "│ 21515       ┆ 10996238121515 ┆ Serum_cholesterol_HDL_ratio_94 ┆ 5.6   ┆ 2015-01-14 │\n",
       "│ 21515       ┆ 5954186521515  ┆ Serum_cholesterol_HDL_ratio_94 ┆ 2.89  ┆ 2020-09-02 │\n",
       "│ 21515       ┆ 5954186521515  ┆ Serum_cholesterol_HDL_ratio_94 ┆ null  ┆ 2020-09-02 │\n",
       "│ 21515       ┆ 5954187021515  ┆ Serum_cholesterol_HDL_ratio_94 ┆ 2.95  ┆ 2015-04-17 │\n",
       "│ 21515       ┆ 5954187021515  ┆ Serum_cholesterol_HDL_ratio_94 ┆ 3.0   ┆ 2018-03-26 │\n",
       "└─────────────┴────────────────┴────────────────────────────────┴───────┴────────────┘"
      ]
     },
     "metadata": {},
     "output_type": "display_data"
    },
    {
     "name": "stdout",
     "output_type": "stream",
     "text": [
      "lazy_measurement_Serum_creatinine_31\n"
     ]
    },
    {
     "data": {
      "text/html": [
       "<div><style>\n",
       ".dataframe > thead > tr > th,\n",
       ".dataframe > tbody > tr > td {\n",
       "  text-align: right;\n",
       "}\n",
       "</style>\n",
       "<small>shape: (5, 5)</small><table border=\"1\" class=\"dataframe\"><thead><tr><th>PRACTICE_ID</th><th>PATIENT_ID</th><th>EVENT</th><th>VALUE</th><th>DATE</th></tr><tr><td>i64</td><td>i64</td><td>str</td><td>f64</td><td>str</td></tr></thead><tbody><tr><td>21515</td><td>10995640321515</td><td>&quot;Serum_creatini…</td><td>46.0</td><td>&quot;2022-01-13&quot;</td></tr><tr><td>21515</td><td>10996238121515</td><td>&quot;Serum_creatini…</td><td>116.0</td><td>&quot;2006-08-25&quot;</td></tr><tr><td>21515</td><td>10996238121515</td><td>&quot;Serum_creatini…</td><td>105.0</td><td>&quot;2013-06-06&quot;</td></tr><tr><td>21515</td><td>10996238121515</td><td>&quot;Serum_creatini…</td><td>108.0</td><td>&quot;2015-01-14&quot;</td></tr><tr><td>21515</td><td>10996238121515</td><td>&quot;Serum_creatini…</td><td>91.0</td><td>&quot;2015-11-03&quot;</td></tr></tbody></table></div>"
      ],
      "text/plain": [
       "shape: (5, 5)\n",
       "┌─────────────┬────────────────┬─────────────────────┬───────┬────────────┐\n",
       "│ PRACTICE_ID ┆ PATIENT_ID     ┆ EVENT               ┆ VALUE ┆ DATE       │\n",
       "│ ---         ┆ ---            ┆ ---                 ┆ ---   ┆ ---        │\n",
       "│ i64         ┆ i64            ┆ str                 ┆ f64   ┆ str        │\n",
       "╞═════════════╪════════════════╪═════════════════════╪═══════╪════════════╡\n",
       "│ 21515       ┆ 10995640321515 ┆ Serum_creatinine_31 ┆ 46.0  ┆ 2022-01-13 │\n",
       "│ 21515       ┆ 10996238121515 ┆ Serum_creatinine_31 ┆ 116.0 ┆ 2006-08-25 │\n",
       "│ 21515       ┆ 10996238121515 ┆ Serum_creatinine_31 ┆ 105.0 ┆ 2013-06-06 │\n",
       "│ 21515       ┆ 10996238121515 ┆ Serum_creatinine_31 ┆ 108.0 ┆ 2015-01-14 │\n",
       "│ 21515       ┆ 10996238121515 ┆ Serum_creatinine_31 ┆ 91.0  ┆ 2015-11-03 │\n",
       "└─────────────┴────────────────┴─────────────────────┴───────┴────────────┘"
      ]
     },
     "metadata": {},
     "output_type": "display_data"
    },
    {
     "name": "stdout",
     "output_type": "stream",
     "text": [
      "lazy_measurement_Serum_ferritin_63\n"
     ]
    },
    {
     "data": {
      "text/html": [
       "<div><style>\n",
       ".dataframe > thead > tr > th,\n",
       ".dataframe > tbody > tr > td {\n",
       "  text-align: right;\n",
       "}\n",
       "</style>\n",
       "<small>shape: (5, 5)</small><table border=\"1\" class=\"dataframe\"><thead><tr><th>PRACTICE_ID</th><th>PATIENT_ID</th><th>EVENT</th><th>VALUE</th><th>DATE</th></tr><tr><td>i64</td><td>i64</td><td>str</td><td>f64</td><td>str</td></tr></thead><tbody><tr><td>21515</td><td>10996238121515</td><td>&quot;Serum_ferritin…</td><td>122.5</td><td>&quot;2015-01-27&quot;</td></tr><tr><td>21515</td><td>5954184321515</td><td>&quot;Serum_ferritin…</td><td>13.5</td><td>&quot;2015-12-21&quot;</td></tr><tr><td>21515</td><td>5954184321515</td><td>&quot;Serum_ferritin…</td><td>14.8</td><td>&quot;2016-12-16&quot;</td></tr><tr><td>21515</td><td>5954184321515</td><td>&quot;Serum_ferritin…</td><td>8.0</td><td>&quot;2018-05-31&quot;</td></tr><tr><td>21515</td><td>5954184321515</td><td>&quot;Serum_ferritin…</td><td>21.2</td><td>&quot;2020-10-30&quot;</td></tr></tbody></table></div>"
      ],
      "text/plain": [
       "shape: (5, 5)\n",
       "┌─────────────┬────────────────┬───────────────────┬───────┬────────────┐\n",
       "│ PRACTICE_ID ┆ PATIENT_ID     ┆ EVENT             ┆ VALUE ┆ DATE       │\n",
       "│ ---         ┆ ---            ┆ ---               ┆ ---   ┆ ---        │\n",
       "│ i64         ┆ i64            ┆ str               ┆ f64   ┆ str        │\n",
       "╞═════════════╪════════════════╪═══════════════════╪═══════╪════════════╡\n",
       "│ 21515       ┆ 10996238121515 ┆ Serum_ferritin_63 ┆ 122.5 ┆ 2015-01-27 │\n",
       "│ 21515       ┆ 5954184321515  ┆ Serum_ferritin_63 ┆ 13.5  ┆ 2015-12-21 │\n",
       "│ 21515       ┆ 5954184321515  ┆ Serum_ferritin_63 ┆ 14.8  ┆ 2016-12-16 │\n",
       "│ 21515       ┆ 5954184321515  ┆ Serum_ferritin_63 ┆ 8.0   ┆ 2018-05-31 │\n",
       "│ 21515       ┆ 5954184321515  ┆ Serum_ferritin_63 ┆ 21.2  ┆ 2020-10-30 │\n",
       "└─────────────┴────────────────┴───────────────────┴───────┴────────────┘"
      ]
     },
     "metadata": {},
     "output_type": "display_data"
    },
    {
     "name": "stdout",
     "output_type": "stream",
     "text": [
      "lazy_measurement_Serum_folate_80\n"
     ]
    },
    {
     "data": {
      "text/html": [
       "<div><style>\n",
       ".dataframe > thead > tr > th,\n",
       ".dataframe > tbody > tr > td {\n",
       "  text-align: right;\n",
       "}\n",
       "</style>\n",
       "<small>shape: (5, 5)</small><table border=\"1\" class=\"dataframe\"><thead><tr><th>PRACTICE_ID</th><th>PATIENT_ID</th><th>EVENT</th><th>VALUE</th><th>DATE</th></tr><tr><td>i64</td><td>i64</td><td>str</td><td>f64</td><td>str</td></tr></thead><tbody><tr><td>21515</td><td>10996238121515</td><td>&quot;Serum_folate_8…</td><td>6.5</td><td>&quot;2006-09-08&quot;</td></tr><tr><td>21515</td><td>10996238121515</td><td>&quot;Serum_folate_8…</td><td>6.1</td><td>&quot;2015-01-27&quot;</td></tr><tr><td>21515</td><td>5954184321515</td><td>&quot;Serum_folate_8…</td><td>5.3</td><td>&quot;2015-12-21&quot;</td></tr><tr><td>21515</td><td>5954187021515</td><td>&quot;Serum_folate_8…</td><td>6.5</td><td>&quot;2013-10-09&quot;</td></tr><tr><td>21515</td><td>5954187021515</td><td>&quot;Serum_folate_8…</td><td>6.5</td><td>&quot;2017-05-05&quot;</td></tr></tbody></table></div>"
      ],
      "text/plain": [
       "shape: (5, 5)\n",
       "┌─────────────┬────────────────┬─────────────────┬───────┬────────────┐\n",
       "│ PRACTICE_ID ┆ PATIENT_ID     ┆ EVENT           ┆ VALUE ┆ DATE       │\n",
       "│ ---         ┆ ---            ┆ ---             ┆ ---   ┆ ---        │\n",
       "│ i64         ┆ i64            ┆ str             ┆ f64   ┆ str        │\n",
       "╞═════════════╪════════════════╪═════════════════╪═══════╪════════════╡\n",
       "│ 21515       ┆ 10996238121515 ┆ Serum_folate_80 ┆ 6.5   ┆ 2006-09-08 │\n",
       "│ 21515       ┆ 10996238121515 ┆ Serum_folate_80 ┆ 6.1   ┆ 2015-01-27 │\n",
       "│ 21515       ┆ 5954184321515  ┆ Serum_folate_80 ┆ 5.3   ┆ 2015-12-21 │\n",
       "│ 21515       ┆ 5954187021515  ┆ Serum_folate_80 ┆ 6.5   ┆ 2013-10-09 │\n",
       "│ 21515       ┆ 5954187021515  ┆ Serum_folate_80 ┆ 6.5   ┆ 2017-05-05 │\n",
       "└─────────────┴────────────────┴─────────────────┴───────┴────────────┘"
      ]
     },
     "metadata": {},
     "output_type": "display_data"
    },
    {
     "name": "stdout",
     "output_type": "stream",
     "text": [
      "lazy_measurement_Serum_free_T4_level_75\n"
     ]
    },
    {
     "data": {
      "text/html": [
       "<div><style>\n",
       ".dataframe > thead > tr > th,\n",
       ".dataframe > tbody > tr > td {\n",
       "  text-align: right;\n",
       "}\n",
       "</style>\n",
       "<small>shape: (5, 5)</small><table border=\"1\" class=\"dataframe\"><thead><tr><th>PRACTICE_ID</th><th>PATIENT_ID</th><th>EVENT</th><th>VALUE</th><th>DATE</th></tr><tr><td>i64</td><td>i64</td><td>str</td><td>f64</td><td>str</td></tr></thead><tbody><tr><td>21515</td><td>10995640321515</td><td>&quot;Serum_free_T4_…</td><td>7.7</td><td>&quot;2022-01-13&quot;</td></tr><tr><td>21515</td><td>10996238121515</td><td>&quot;Serum_free_T4_…</td><td>11.4</td><td>&quot;2015-01-14&quot;</td></tr><tr><td>21515</td><td>10996238121515</td><td>&quot;Serum_free_T4_…</td><td>11.2</td><td>&quot;2018-08-03&quot;</td></tr><tr><td>21515</td><td>5954184321515</td><td>&quot;Serum_free_T4_…</td><td>14.8</td><td>&quot;2005-02-04&quot;</td></tr><tr><td>21515</td><td>5954184321515</td><td>&quot;Serum_free_T4_…</td><td>11.8</td><td>&quot;2008-04-02&quot;</td></tr></tbody></table></div>"
      ],
      "text/plain": [
       "shape: (5, 5)\n",
       "┌─────────────┬────────────────┬────────────────────────┬───────┬────────────┐\n",
       "│ PRACTICE_ID ┆ PATIENT_ID     ┆ EVENT                  ┆ VALUE ┆ DATE       │\n",
       "│ ---         ┆ ---            ┆ ---                    ┆ ---   ┆ ---        │\n",
       "│ i64         ┆ i64            ┆ str                    ┆ f64   ┆ str        │\n",
       "╞═════════════╪════════════════╪════════════════════════╪═══════╪════════════╡\n",
       "│ 21515       ┆ 10995640321515 ┆ Serum_free_T4_level_75 ┆ 7.7   ┆ 2022-01-13 │\n",
       "│ 21515       ┆ 10996238121515 ┆ Serum_free_T4_level_75 ┆ 11.4  ┆ 2015-01-14 │\n",
       "│ 21515       ┆ 10996238121515 ┆ Serum_free_T4_level_75 ┆ 11.2  ┆ 2018-08-03 │\n",
       "│ 21515       ┆ 5954184321515  ┆ Serum_free_T4_level_75 ┆ 14.8  ┆ 2005-02-04 │\n",
       "│ 21515       ┆ 5954184321515  ┆ Serum_free_T4_level_75 ┆ 11.8  ┆ 2008-04-02 │\n",
       "└─────────────┴────────────────┴────────────────────────┴───────┴────────────┘"
      ]
     },
     "metadata": {},
     "output_type": "display_data"
    },
    {
     "name": "stdout",
     "output_type": "stream",
     "text": [
      "lazy_measurement_Serum_gamma_glutamyl_transferase_level_57\n"
     ]
    },
    {
     "data": {
      "text/html": [
       "<div><style>\n",
       ".dataframe > thead > tr > th,\n",
       ".dataframe > tbody > tr > td {\n",
       "  text-align: right;\n",
       "}\n",
       "</style>\n",
       "<small>shape: (5, 5)</small><table border=\"1\" class=\"dataframe\"><thead><tr><th>PRACTICE_ID</th><th>PATIENT_ID</th><th>EVENT</th><th>VALUE</th><th>DATE</th></tr><tr><td>i64</td><td>i64</td><td>str</td><td>f64</td><td>str</td></tr></thead><tbody><tr><td>21515</td><td>10996238121515</td><td>&quot;Serum_gamma_gl…</td><td>16.0</td><td>&quot;2006-08-25&quot;</td></tr><tr><td>21515</td><td>10996238121515</td><td>&quot;Serum_gamma_gl…</td><td>27.0</td><td>&quot;2013-06-06&quot;</td></tr><tr><td>21515</td><td>10996238121515</td><td>&quot;Serum_gamma_gl…</td><td>44.0</td><td>&quot;2015-01-14&quot;</td></tr><tr><td>21515</td><td>10996238121515</td><td>&quot;Serum_gamma_gl…</td><td>35.0</td><td>&quot;2015-01-27&quot;</td></tr><tr><td>21515</td><td>10996238121515</td><td>&quot;Serum_gamma_gl…</td><td>27.0</td><td>&quot;2015-11-03&quot;</td></tr></tbody></table></div>"
      ],
      "text/plain": [
       "shape: (5, 5)\n",
       "┌─────────────┬────────────────┬───────────────────────────────────┬───────┬────────────┐\n",
       "│ PRACTICE_ID ┆ PATIENT_ID     ┆ EVENT                             ┆ VALUE ┆ DATE       │\n",
       "│ ---         ┆ ---            ┆ ---                               ┆ ---   ┆ ---        │\n",
       "│ i64         ┆ i64            ┆ str                               ┆ f64   ┆ str        │\n",
       "╞═════════════╪════════════════╪═══════════════════════════════════╪═══════╪════════════╡\n",
       "│ 21515       ┆ 10996238121515 ┆ Serum_gamma_glutamyl_transferase… ┆ 16.0  ┆ 2006-08-25 │\n",
       "│ 21515       ┆ 10996238121515 ┆ Serum_gamma_glutamyl_transferase… ┆ 27.0  ┆ 2013-06-06 │\n",
       "│ 21515       ┆ 10996238121515 ┆ Serum_gamma_glutamyl_transferase… ┆ 44.0  ┆ 2015-01-14 │\n",
       "│ 21515       ┆ 10996238121515 ┆ Serum_gamma_glutamyl_transferase… ┆ 35.0  ┆ 2015-01-27 │\n",
       "│ 21515       ┆ 10996238121515 ┆ Serum_gamma_glutamyl_transferase… ┆ 27.0  ┆ 2015-11-03 │\n",
       "└─────────────┴────────────────┴───────────────────────────────────┴───────┴────────────┘"
      ]
     },
     "metadata": {},
     "output_type": "display_data"
    },
    {
     "name": "stdout",
     "output_type": "stream",
     "text": [
      "lazy_measurement_Serum_non_high_density_lipoprotein_cholesterol_level_107\n"
     ]
    },
    {
     "data": {
      "text/html": [
       "<div><style>\n",
       ".dataframe > thead > tr > th,\n",
       ".dataframe > tbody > tr > td {\n",
       "  text-align: right;\n",
       "}\n",
       "</style>\n",
       "<small>shape: (5, 5)</small><table border=\"1\" class=\"dataframe\"><thead><tr><th>PRACTICE_ID</th><th>PATIENT_ID</th><th>EVENT</th><th>VALUE</th><th>DATE</th></tr><tr><td>i64</td><td>i64</td><td>str</td><td>f64</td><td>str</td></tr></thead><tbody><tr><td>21515</td><td>5954186521515</td><td>&quot;Serum_non_high…</td><td>3.6</td><td>&quot;2020-09-02&quot;</td></tr><tr><td>21515</td><td>5954186521515</td><td>&quot;Serum_non_high…</td><td>null</td><td>&quot;2020-09-02&quot;</td></tr><tr><td>21515</td><td>5954187021515</td><td>&quot;Serum_non_high…</td><td>3.6</td><td>&quot;2018-03-26&quot;</td></tr><tr><td>21515</td><td>5954187021515</td><td>&quot;Serum_non_high…</td><td>3.8</td><td>&quot;2020-09-29&quot;</td></tr><tr><td>21515</td><td>5954187021515</td><td>&quot;Serum_non_high…</td><td>3.41</td><td>&quot;2021-11-26&quot;</td></tr></tbody></table></div>"
      ],
      "text/plain": [
       "shape: (5, 5)\n",
       "┌─────────────┬───────────────┬───────────────────────────────────┬───────┬────────────┐\n",
       "│ PRACTICE_ID ┆ PATIENT_ID    ┆ EVENT                             ┆ VALUE ┆ DATE       │\n",
       "│ ---         ┆ ---           ┆ ---                               ┆ ---   ┆ ---        │\n",
       "│ i64         ┆ i64           ┆ str                               ┆ f64   ┆ str        │\n",
       "╞═════════════╪═══════════════╪═══════════════════════════════════╪═══════╪════════════╡\n",
       "│ 21515       ┆ 5954186521515 ┆ Serum_non_high_density_lipoprote… ┆ 3.6   ┆ 2020-09-02 │\n",
       "│ 21515       ┆ 5954186521515 ┆ Serum_non_high_density_lipoprote… ┆ null  ┆ 2020-09-02 │\n",
       "│ 21515       ┆ 5954187021515 ┆ Serum_non_high_density_lipoprote… ┆ 3.6   ┆ 2018-03-26 │\n",
       "│ 21515       ┆ 5954187021515 ┆ Serum_non_high_density_lipoprote… ┆ 3.8   ┆ 2020-09-29 │\n",
       "│ 21515       ┆ 5954187021515 ┆ Serum_non_high_density_lipoprote… ┆ 3.41  ┆ 2021-11-26 │\n",
       "└─────────────┴───────────────┴───────────────────────────────────┴───────┴────────────┘"
      ]
     },
     "metadata": {},
     "output_type": "display_data"
    },
    {
     "name": "stdout",
     "output_type": "stream",
     "text": [
      "lazy_measurement_Serum_potassium_26\n"
     ]
    },
    {
     "data": {
      "text/html": [
       "<div><style>\n",
       ".dataframe > thead > tr > th,\n",
       ".dataframe > tbody > tr > td {\n",
       "  text-align: right;\n",
       "}\n",
       "</style>\n",
       "<small>shape: (5, 5)</small><table border=\"1\" class=\"dataframe\"><thead><tr><th>PRACTICE_ID</th><th>PATIENT_ID</th><th>EVENT</th><th>VALUE</th><th>DATE</th></tr><tr><td>i64</td><td>i64</td><td>str</td><td>f64</td><td>str</td></tr></thead><tbody><tr><td>21515</td><td>10995640321515</td><td>&quot;Serum_potassiu…</td><td>4.1</td><td>&quot;2022-01-13&quot;</td></tr><tr><td>21515</td><td>10996238121515</td><td>&quot;Serum_potassiu…</td><td>4.5</td><td>&quot;2006-08-25&quot;</td></tr><tr><td>21515</td><td>10996238121515</td><td>&quot;Serum_potassiu…</td><td>4.1</td><td>&quot;2013-06-06&quot;</td></tr><tr><td>21515</td><td>10996238121515</td><td>&quot;Serum_potassiu…</td><td>4.7</td><td>&quot;2015-01-14&quot;</td></tr><tr><td>21515</td><td>10996238121515</td><td>&quot;Serum_potassiu…</td><td>4.1</td><td>&quot;2015-11-03&quot;</td></tr></tbody></table></div>"
      ],
      "text/plain": [
       "shape: (5, 5)\n",
       "┌─────────────┬────────────────┬────────────────────┬───────┬────────────┐\n",
       "│ PRACTICE_ID ┆ PATIENT_ID     ┆ EVENT              ┆ VALUE ┆ DATE       │\n",
       "│ ---         ┆ ---            ┆ ---                ┆ ---   ┆ ---        │\n",
       "│ i64         ┆ i64            ┆ str                ┆ f64   ┆ str        │\n",
       "╞═════════════╪════════════════╪════════════════════╪═══════╪════════════╡\n",
       "│ 21515       ┆ 10995640321515 ┆ Serum_potassium_26 ┆ 4.1   ┆ 2022-01-13 │\n",
       "│ 21515       ┆ 10996238121515 ┆ Serum_potassium_26 ┆ 4.5   ┆ 2006-08-25 │\n",
       "│ 21515       ┆ 10996238121515 ┆ Serum_potassium_26 ┆ 4.1   ┆ 2013-06-06 │\n",
       "│ 21515       ┆ 10996238121515 ┆ Serum_potassium_26 ┆ 4.7   ┆ 2015-01-14 │\n",
       "│ 21515       ┆ 10996238121515 ┆ Serum_potassium_26 ┆ 4.1   ┆ 2015-11-03 │\n",
       "└─────────────┴────────────────┴────────────────────┴───────┴────────────┘"
      ]
     },
     "metadata": {},
     "output_type": "display_data"
    },
    {
     "name": "stdout",
     "output_type": "stream",
     "text": [
      "lazy_measurement_Serum_pro_brain_natriuretic_peptide_level_65\n"
     ]
    },
    {
     "data": {
      "text/html": [
       "<div><style>\n",
       ".dataframe > thead > tr > th,\n",
       ".dataframe > tbody > tr > td {\n",
       "  text-align: right;\n",
       "}\n",
       "</style>\n",
       "<small>shape: (1, 5)</small><table border=\"1\" class=\"dataframe\"><thead><tr><th>PRACTICE_ID</th><th>PATIENT_ID</th><th>EVENT</th><th>VALUE</th><th>DATE</th></tr><tr><td>i64</td><td>i64</td><td>str</td><td>f64</td><td>str</td></tr></thead><tbody><tr><td>21515</td><td>5954969021515</td><td>&quot;Serum_pro_brai…</td><td>446.0</td><td>&quot;2013-10-24&quot;</td></tr></tbody></table></div>"
      ],
      "text/plain": [
       "shape: (1, 5)\n",
       "┌─────────────┬───────────────┬───────────────────────────────────┬───────┬────────────┐\n",
       "│ PRACTICE_ID ┆ PATIENT_ID    ┆ EVENT                             ┆ VALUE ┆ DATE       │\n",
       "│ ---         ┆ ---           ┆ ---                               ┆ ---   ┆ ---        │\n",
       "│ i64         ┆ i64           ┆ str                               ┆ f64   ┆ str        │\n",
       "╞═════════════╪═══════════════╪═══════════════════════════════════╪═══════╪════════════╡\n",
       "│ 21515       ┆ 5954969021515 ┆ Serum_pro_brain_natriuretic_pept… ┆ 446.0 ┆ 2013-10-24 │\n",
       "└─────────────┴───────────────┴───────────────────────────────────┴───────┴────────────┘"
      ]
     },
     "metadata": {},
     "output_type": "display_data"
    },
    {
     "name": "stdout",
     "output_type": "stream",
     "text": [
      "lazy_measurement_Serum_sodium_24\n"
     ]
    },
    {
     "data": {
      "text/html": [
       "<div><style>\n",
       ".dataframe > thead > tr > th,\n",
       ".dataframe > tbody > tr > td {\n",
       "  text-align: right;\n",
       "}\n",
       "</style>\n",
       "<small>shape: (5, 5)</small><table border=\"1\" class=\"dataframe\"><thead><tr><th>PRACTICE_ID</th><th>PATIENT_ID</th><th>EVENT</th><th>VALUE</th><th>DATE</th></tr><tr><td>i64</td><td>i64</td><td>str</td><td>f64</td><td>str</td></tr></thead><tbody><tr><td>21515</td><td>10995640321515</td><td>&quot;Serum_sodium_2…</td><td>138.0</td><td>&quot;2022-01-13&quot;</td></tr><tr><td>21515</td><td>10996238121515</td><td>&quot;Serum_sodium_2…</td><td>146.0</td><td>&quot;2006-08-25&quot;</td></tr><tr><td>21515</td><td>10996238121515</td><td>&quot;Serum_sodium_2…</td><td>137.0</td><td>&quot;2013-06-06&quot;</td></tr><tr><td>21515</td><td>10996238121515</td><td>&quot;Serum_sodium_2…</td><td>138.0</td><td>&quot;2015-01-14&quot;</td></tr><tr><td>21515</td><td>10996238121515</td><td>&quot;Serum_sodium_2…</td><td>139.0</td><td>&quot;2015-11-03&quot;</td></tr></tbody></table></div>"
      ],
      "text/plain": [
       "shape: (5, 5)\n",
       "┌─────────────┬────────────────┬─────────────────┬───────┬────────────┐\n",
       "│ PRACTICE_ID ┆ PATIENT_ID     ┆ EVENT           ┆ VALUE ┆ DATE       │\n",
       "│ ---         ┆ ---            ┆ ---             ┆ ---   ┆ ---        │\n",
       "│ i64         ┆ i64            ┆ str             ┆ f64   ┆ str        │\n",
       "╞═════════════╪════════════════╪═════════════════╪═══════╪════════════╡\n",
       "│ 21515       ┆ 10995640321515 ┆ Serum_sodium_24 ┆ 138.0 ┆ 2022-01-13 │\n",
       "│ 21515       ┆ 10996238121515 ┆ Serum_sodium_24 ┆ 146.0 ┆ 2006-08-25 │\n",
       "│ 21515       ┆ 10996238121515 ┆ Serum_sodium_24 ┆ 137.0 ┆ 2013-06-06 │\n",
       "│ 21515       ┆ 10996238121515 ┆ Serum_sodium_24 ┆ 138.0 ┆ 2015-01-14 │\n",
       "│ 21515       ┆ 10996238121515 ┆ Serum_sodium_24 ┆ 139.0 ┆ 2015-11-03 │\n",
       "└─────────────┴────────────────┴─────────────────┴───────┴────────────┘"
      ]
     },
     "metadata": {},
     "output_type": "display_data"
    },
    {
     "name": "stdout",
     "output_type": "stream",
     "text": [
      "lazy_measurement_Serum_total_25_hydroxy_vitamin_D_level_87\n"
     ]
    },
    {
     "data": {
      "text/html": [
       "<div><style>\n",
       ".dataframe > thead > tr > th,\n",
       ".dataframe > tbody > tr > td {\n",
       "  text-align: right;\n",
       "}\n",
       "</style>\n",
       "<small>shape: (5, 5)</small><table border=\"1\" class=\"dataframe\"><thead><tr><th>PRACTICE_ID</th><th>PATIENT_ID</th><th>EVENT</th><th>VALUE</th><th>DATE</th></tr><tr><td>i64</td><td>i64</td><td>str</td><td>f64</td><td>str</td></tr></thead><tbody><tr><td>21515</td><td>5954186521515</td><td>&quot;Serum_total_25…</td><td>38.8</td><td>&quot;2016-11-04&quot;</td></tr><tr><td>21515</td><td>5954186721515</td><td>&quot;Serum_total_25…</td><td>51.7</td><td>&quot;2021-06-22&quot;</td></tr><tr><td>21515</td><td>5954187021515</td><td>&quot;Serum_total_25…</td><td>32.0</td><td>&quot;2018-03-26&quot;</td></tr><tr><td>21515</td><td>5954187021515</td><td>&quot;Serum_total_25…</td><td>68.4</td><td>&quot;2021-11-26&quot;</td></tr><tr><td>21515</td><td>5954187021515</td><td>&quot;Serum_total_25…</td><td>null</td><td>&quot;2021-11-26&quot;</td></tr></tbody></table></div>"
      ],
      "text/plain": [
       "shape: (5, 5)\n",
       "┌─────────────┬───────────────┬───────────────────────────────────┬───────┬────────────┐\n",
       "│ PRACTICE_ID ┆ PATIENT_ID    ┆ EVENT                             ┆ VALUE ┆ DATE       │\n",
       "│ ---         ┆ ---           ┆ ---                               ┆ ---   ┆ ---        │\n",
       "│ i64         ┆ i64           ┆ str                               ┆ f64   ┆ str        │\n",
       "╞═════════════╪═══════════════╪═══════════════════════════════════╪═══════╪════════════╡\n",
       "│ 21515       ┆ 5954186521515 ┆ Serum_total_25_hydroxy_vitamin_D… ┆ 38.8  ┆ 2016-11-04 │\n",
       "│ 21515       ┆ 5954186721515 ┆ Serum_total_25_hydroxy_vitamin_D… ┆ 51.7  ┆ 2021-06-22 │\n",
       "│ 21515       ┆ 5954187021515 ┆ Serum_total_25_hydroxy_vitamin_D… ┆ 32.0  ┆ 2018-03-26 │\n",
       "│ 21515       ┆ 5954187021515 ┆ Serum_total_25_hydroxy_vitamin_D… ┆ 68.4  ┆ 2021-11-26 │\n",
       "│ 21515       ┆ 5954187021515 ┆ Serum_total_25_hydroxy_vitamin_D… ┆ null  ┆ 2021-11-26 │\n",
       "└─────────────┴───────────────┴───────────────────────────────────┴───────┴────────────┘"
      ]
     },
     "metadata": {},
     "output_type": "display_data"
    },
    {
     "name": "stdout",
     "output_type": "stream",
     "text": [
      "lazy_measurement_Serum_total_bilirubin_level_56\n"
     ]
    },
    {
     "data": {
      "text/html": [
       "<div><style>\n",
       ".dataframe > thead > tr > th,\n",
       ".dataframe > tbody > tr > td {\n",
       "  text-align: right;\n",
       "}\n",
       "</style>\n",
       "<small>shape: (5, 5)</small><table border=\"1\" class=\"dataframe\"><thead><tr><th>PRACTICE_ID</th><th>PATIENT_ID</th><th>EVENT</th><th>VALUE</th><th>DATE</th></tr><tr><td>i64</td><td>i64</td><td>str</td><td>f64</td><td>str</td></tr></thead><tbody><tr><td>21515</td><td>10996238121515</td><td>&quot;Serum_total_bi…</td><td>13.0</td><td>&quot;2006-08-25&quot;</td></tr><tr><td>21515</td><td>10996238121515</td><td>&quot;Serum_total_bi…</td><td>12.0</td><td>&quot;2013-06-06&quot;</td></tr><tr><td>21515</td><td>10996238121515</td><td>&quot;Serum_total_bi…</td><td>13.0</td><td>&quot;2015-01-14&quot;</td></tr><tr><td>21515</td><td>10996238121515</td><td>&quot;Serum_total_bi…</td><td>6.0</td><td>&quot;2015-01-27&quot;</td></tr><tr><td>21515</td><td>10996238121515</td><td>&quot;Serum_total_bi…</td><td>9.0</td><td>&quot;2015-11-03&quot;</td></tr></tbody></table></div>"
      ],
      "text/plain": [
       "shape: (5, 5)\n",
       "┌─────────────┬────────────────┬────────────────────────────────┬───────┬────────────┐\n",
       "│ PRACTICE_ID ┆ PATIENT_ID     ┆ EVENT                          ┆ VALUE ┆ DATE       │\n",
       "│ ---         ┆ ---            ┆ ---                            ┆ ---   ┆ ---        │\n",
       "│ i64         ┆ i64            ┆ str                            ┆ f64   ┆ str        │\n",
       "╞═════════════╪════════════════╪════════════════════════════════╪═══════╪════════════╡\n",
       "│ 21515       ┆ 10996238121515 ┆ Serum_total_bilirubin_level_56 ┆ 13.0  ┆ 2006-08-25 │\n",
       "│ 21515       ┆ 10996238121515 ┆ Serum_total_bilirubin_level_56 ┆ 12.0  ┆ 2013-06-06 │\n",
       "│ 21515       ┆ 10996238121515 ┆ Serum_total_bilirubin_level_56 ┆ 13.0  ┆ 2015-01-14 │\n",
       "│ 21515       ┆ 10996238121515 ┆ Serum_total_bilirubin_level_56 ┆ 6.0   ┆ 2015-01-27 │\n",
       "│ 21515       ┆ 10996238121515 ┆ Serum_total_bilirubin_level_56 ┆ 9.0   ┆ 2015-11-03 │\n",
       "└─────────────┴────────────────┴────────────────────────────────┴───────┴────────────┘"
      ]
     },
     "metadata": {},
     "output_type": "display_data"
    },
    {
     "name": "stdout",
     "output_type": "stream",
     "text": [
      "lazy_measurement_Serum_total_cholesterol_level_98\n"
     ]
    },
    {
     "data": {
      "text/html": [
       "<div><style>\n",
       ".dataframe > thead > tr > th,\n",
       ".dataframe > tbody > tr > td {\n",
       "  text-align: right;\n",
       "}\n",
       "</style>\n",
       "<small>shape: (5, 5)</small><table border=\"1\" class=\"dataframe\"><thead><tr><th>PRACTICE_ID</th><th>PATIENT_ID</th><th>EVENT</th><th>VALUE</th><th>DATE</th></tr><tr><td>i64</td><td>i64</td><td>str</td><td>f64</td><td>str</td></tr></thead><tbody><tr><td>21515</td><td>5954203021515</td><td>&quot;Serum_total_ch…</td><td>6.4</td><td>&quot;2015-09-03&quot;</td></tr><tr><td>21515</td><td>5954208821515</td><td>&quot;Serum_total_ch…</td><td>5.64</td><td>&quot;2012-11-26&quot;</td></tr><tr><td>21515</td><td>5954219021515</td><td>&quot;Serum_total_ch…</td><td>5.36</td><td>&quot;2013-01-03&quot;</td></tr><tr><td>21515</td><td>5954252421515</td><td>&quot;Serum_total_ch…</td><td>5.83</td><td>&quot;2012-11-20&quot;</td></tr><tr><td>21515</td><td>5954265721515</td><td>&quot;Serum_total_ch…</td><td>5.6</td><td>&quot;2015-07-06&quot;</td></tr></tbody></table></div>"
      ],
      "text/plain": [
       "shape: (5, 5)\n",
       "┌─────────────┬───────────────┬──────────────────────────────────┬───────┬────────────┐\n",
       "│ PRACTICE_ID ┆ PATIENT_ID    ┆ EVENT                            ┆ VALUE ┆ DATE       │\n",
       "│ ---         ┆ ---           ┆ ---                              ┆ ---   ┆ ---        │\n",
       "│ i64         ┆ i64           ┆ str                              ┆ f64   ┆ str        │\n",
       "╞═════════════╪═══════════════╪══════════════════════════════════╪═══════╪════════════╡\n",
       "│ 21515       ┆ 5954203021515 ┆ Serum_total_cholesterol_level_98 ┆ 6.4   ┆ 2015-09-03 │\n",
       "│ 21515       ┆ 5954208821515 ┆ Serum_total_cholesterol_level_98 ┆ 5.64  ┆ 2012-11-26 │\n",
       "│ 21515       ┆ 5954219021515 ┆ Serum_total_cholesterol_level_98 ┆ 5.36  ┆ 2013-01-03 │\n",
       "│ 21515       ┆ 5954252421515 ┆ Serum_total_cholesterol_level_98 ┆ 5.83  ┆ 2012-11-20 │\n",
       "│ 21515       ┆ 5954265721515 ┆ Serum_total_cholesterol_level_98 ┆ 5.6   ┆ 2015-07-06 │\n",
       "└─────────────┴───────────────┴──────────────────────────────────┴───────┴────────────┘"
      ]
     },
     "metadata": {},
     "output_type": "display_data"
    },
    {
     "name": "stdout",
     "output_type": "stream",
     "text": [
      "lazy_measurement_Serum_triglycerides_105\n"
     ]
    },
    {
     "data": {
      "text/html": [
       "<div><style>\n",
       ".dataframe > thead > tr > th,\n",
       ".dataframe > tbody > tr > td {\n",
       "  text-align: right;\n",
       "}\n",
       "</style>\n",
       "<small>shape: (5, 5)</small><table border=\"1\" class=\"dataframe\"><thead><tr><th>PRACTICE_ID</th><th>PATIENT_ID</th><th>EVENT</th><th>VALUE</th><th>DATE</th></tr><tr><td>i64</td><td>i64</td><td>str</td><td>f64</td><td>str</td></tr></thead><tbody><tr><td>21515</td><td>10996238121515</td><td>&quot;Serum_triglyce…</td><td>2.08</td><td>&quot;2006-08-25&quot;</td></tr><tr><td>21515</td><td>10996238121515</td><td>&quot;Serum_triglyce…</td><td>2.5</td><td>&quot;2015-01-14&quot;</td></tr><tr><td>21515</td><td>5954186521515</td><td>&quot;Serum_triglyce…</td><td>0.6</td><td>&quot;2009-08-04&quot;</td></tr><tr><td>21515</td><td>5954186521515</td><td>&quot;Serum_triglyce…</td><td>1.2</td><td>&quot;2020-09-02&quot;</td></tr><tr><td>21515</td><td>5954186521515</td><td>&quot;Serum_triglyce…</td><td>null</td><td>&quot;2020-09-02&quot;</td></tr></tbody></table></div>"
      ],
      "text/plain": [
       "shape: (5, 5)\n",
       "┌─────────────┬────────────────┬─────────────────────────┬───────┬────────────┐\n",
       "│ PRACTICE_ID ┆ PATIENT_ID     ┆ EVENT                   ┆ VALUE ┆ DATE       │\n",
       "│ ---         ┆ ---            ┆ ---                     ┆ ---   ┆ ---        │\n",
       "│ i64         ┆ i64            ┆ str                     ┆ f64   ┆ str        │\n",
       "╞═════════════╪════════════════╪═════════════════════════╪═══════╪════════════╡\n",
       "│ 21515       ┆ 10996238121515 ┆ Serum_triglycerides_105 ┆ 2.08  ┆ 2006-08-25 │\n",
       "│ 21515       ┆ 10996238121515 ┆ Serum_triglycerides_105 ┆ 2.5   ┆ 2015-01-14 │\n",
       "│ 21515       ┆ 5954186521515  ┆ Serum_triglycerides_105 ┆ 0.6   ┆ 2009-08-04 │\n",
       "│ 21515       ┆ 5954186521515  ┆ Serum_triglycerides_105 ┆ 1.2   ┆ 2020-09-02 │\n",
       "│ 21515       ┆ 5954186521515  ┆ Serum_triglycerides_105 ┆ null  ┆ 2020-09-02 │\n",
       "└─────────────┴────────────────┴─────────────────────────┴───────┴────────────┘"
      ]
     },
     "metadata": {},
     "output_type": "display_data"
    },
    {
     "name": "stdout",
     "output_type": "stream",
     "text": [
      "lazy_measurement_Serum_urea_level_29\n"
     ]
    },
    {
     "data": {
      "text/html": [
       "<div><style>\n",
       ".dataframe > thead > tr > th,\n",
       ".dataframe > tbody > tr > td {\n",
       "  text-align: right;\n",
       "}\n",
       "</style>\n",
       "<small>shape: (5, 5)</small><table border=\"1\" class=\"dataframe\"><thead><tr><th>PRACTICE_ID</th><th>PATIENT_ID</th><th>EVENT</th><th>VALUE</th><th>DATE</th></tr><tr><td>i64</td><td>i64</td><td>str</td><td>f64</td><td>str</td></tr></thead><tbody><tr><td>21515</td><td>10995640321515</td><td>&quot;Serum_urea_lev…</td><td>2.8</td><td>&quot;2022-01-13&quot;</td></tr><tr><td>21515</td><td>10996238121515</td><td>&quot;Serum_urea_lev…</td><td>4.8</td><td>&quot;2006-08-25&quot;</td></tr><tr><td>21515</td><td>10996238121515</td><td>&quot;Serum_urea_lev…</td><td>4.9</td><td>&quot;2013-06-06&quot;</td></tr><tr><td>21515</td><td>10996238121515</td><td>&quot;Serum_urea_lev…</td><td>6.0</td><td>&quot;2015-01-14&quot;</td></tr><tr><td>21515</td><td>10996238121515</td><td>&quot;Serum_urea_lev…</td><td>7.0</td><td>&quot;2015-11-03&quot;</td></tr></tbody></table></div>"
      ],
      "text/plain": [
       "shape: (5, 5)\n",
       "┌─────────────┬────────────────┬─────────────────────┬───────┬────────────┐\n",
       "│ PRACTICE_ID ┆ PATIENT_ID     ┆ EVENT               ┆ VALUE ┆ DATE       │\n",
       "│ ---         ┆ ---            ┆ ---                 ┆ ---   ┆ ---        │\n",
       "│ i64         ┆ i64            ┆ str                 ┆ f64   ┆ str        │\n",
       "╞═════════════╪════════════════╪═════════════════════╪═══════╪════════════╡\n",
       "│ 21515       ┆ 10995640321515 ┆ Serum_urea_level_29 ┆ 2.8   ┆ 2022-01-13 │\n",
       "│ 21515       ┆ 10996238121515 ┆ Serum_urea_level_29 ┆ 4.8   ┆ 2006-08-25 │\n",
       "│ 21515       ┆ 10996238121515 ┆ Serum_urea_level_29 ┆ 4.9   ┆ 2013-06-06 │\n",
       "│ 21515       ┆ 10996238121515 ┆ Serum_urea_level_29 ┆ 6.0   ┆ 2015-01-14 │\n",
       "│ 21515       ┆ 10996238121515 ┆ Serum_urea_level_29 ┆ 7.0   ┆ 2015-11-03 │\n",
       "└─────────────┴────────────────┴─────────────────────┴───────┴────────────┘"
      ]
     },
     "metadata": {},
     "output_type": "display_data"
    },
    {
     "name": "stdout",
     "output_type": "stream",
     "text": [
      "lazy_measurement_Serum_vitamin_B12_79\n"
     ]
    },
    {
     "data": {
      "text/html": [
       "<div><style>\n",
       ".dataframe > thead > tr > th,\n",
       ".dataframe > tbody > tr > td {\n",
       "  text-align: right;\n",
       "}\n",
       "</style>\n",
       "<small>shape: (5, 5)</small><table border=\"1\" class=\"dataframe\"><thead><tr><th>PRACTICE_ID</th><th>PATIENT_ID</th><th>EVENT</th><th>VALUE</th><th>DATE</th></tr><tr><td>i64</td><td>i64</td><td>str</td><td>f64</td><td>str</td></tr></thead><tbody><tr><td>21515</td><td>10996238121515</td><td>&quot;Serum_vitamin_…</td><td>676.0</td><td>&quot;2006-09-08&quot;</td></tr><tr><td>21515</td><td>10996238121515</td><td>&quot;Serum_vitamin_…</td><td>250.0</td><td>&quot;2015-01-27&quot;</td></tr><tr><td>21515</td><td>5954184321515</td><td>&quot;Serum_vitamin_…</td><td>165.0</td><td>&quot;2015-12-21&quot;</td></tr><tr><td>21515</td><td>5954184321515</td><td>&quot;Serum_vitamin_…</td><td>null</td><td>&quot;2021-10-19&quot;</td></tr><tr><td>21515</td><td>5954187021515</td><td>&quot;Serum_vitamin_…</td><td>184.0</td><td>&quot;2013-10-09&quot;</td></tr></tbody></table></div>"
      ],
      "text/plain": [
       "shape: (5, 5)\n",
       "┌─────────────┬────────────────┬──────────────────────┬───────┬────────────┐\n",
       "│ PRACTICE_ID ┆ PATIENT_ID     ┆ EVENT                ┆ VALUE ┆ DATE       │\n",
       "│ ---         ┆ ---            ┆ ---                  ┆ ---   ┆ ---        │\n",
       "│ i64         ┆ i64            ┆ str                  ┆ f64   ┆ str        │\n",
       "╞═════════════╪════════════════╪══════════════════════╪═══════╪════════════╡\n",
       "│ 21515       ┆ 10996238121515 ┆ Serum_vitamin_B12_79 ┆ 676.0 ┆ 2006-09-08 │\n",
       "│ 21515       ┆ 10996238121515 ┆ Serum_vitamin_B12_79 ┆ 250.0 ┆ 2015-01-27 │\n",
       "│ 21515       ┆ 5954184321515  ┆ Serum_vitamin_B12_79 ┆ 165.0 ┆ 2015-12-21 │\n",
       "│ 21515       ┆ 5954184321515  ┆ Serum_vitamin_B12_79 ┆ null  ┆ 2021-10-19 │\n",
       "│ 21515       ┆ 5954187021515  ┆ Serum_vitamin_B12_79 ┆ 184.0 ┆ 2013-10-09 │\n",
       "└─────────────┴────────────────┴──────────────────────┴───────┴────────────┘"
      ]
     },
     "metadata": {},
     "output_type": "display_data"
    },
    {
     "name": "stdout",
     "output_type": "stream",
     "text": [
      "lazy_measurement_Serum_vitamin_D2_level_89\n"
     ]
    },
    {
     "data": {
      "text/html": [
       "<div><style>\n",
       ".dataframe > thead > tr > th,\n",
       ".dataframe > tbody > tr > td {\n",
       "  text-align: right;\n",
       "}\n",
       "</style>\n",
       "<small>shape: (5, 5)</small><table border=\"1\" class=\"dataframe\"><thead><tr><th>PRACTICE_ID</th><th>PATIENT_ID</th><th>EVENT</th><th>VALUE</th><th>DATE</th></tr><tr><td>i64</td><td>i64</td><td>str</td><td>f64</td><td>str</td></tr></thead><tbody><tr><td>21515</td><td>5954641121515</td><td>&quot;Serum_vitamin_…</td><td>null</td><td>&quot;2017-12-01&quot;</td></tr><tr><td>21515</td><td>5955520521515</td><td>&quot;Serum_vitamin_…</td><td>10.0</td><td>&quot;2013-06-10&quot;</td></tr><tr><td>21515</td><td>5955813521515</td><td>&quot;Serum_vitamin_…</td><td>7.3</td><td>&quot;2014-01-08&quot;</td></tr><tr><td>21515</td><td>5955983021515</td><td>&quot;Serum_vitamin_…</td><td>null</td><td>&quot;2010-03-08&quot;</td></tr><tr><td>21515</td><td>5956631121515</td><td>&quot;Serum_vitamin_…</td><td>51.0</td><td>&quot;2016-06-28&quot;</td></tr></tbody></table></div>"
      ],
      "text/plain": [
       "shape: (5, 5)\n",
       "┌─────────────┬───────────────┬───────────────────────────┬───────┬────────────┐\n",
       "│ PRACTICE_ID ┆ PATIENT_ID    ┆ EVENT                     ┆ VALUE ┆ DATE       │\n",
       "│ ---         ┆ ---           ┆ ---                       ┆ ---   ┆ ---        │\n",
       "│ i64         ┆ i64           ┆ str                       ┆ f64   ┆ str        │\n",
       "╞═════════════╪═══════════════╪═══════════════════════════╪═══════╪════════════╡\n",
       "│ 21515       ┆ 5954641121515 ┆ Serum_vitamin_D2_level_89 ┆ null  ┆ 2017-12-01 │\n",
       "│ 21515       ┆ 5955520521515 ┆ Serum_vitamin_D2_level_89 ┆ 10.0  ┆ 2013-06-10 │\n",
       "│ 21515       ┆ 5955813521515 ┆ Serum_vitamin_D2_level_89 ┆ 7.3   ┆ 2014-01-08 │\n",
       "│ 21515       ┆ 5955983021515 ┆ Serum_vitamin_D2_level_89 ┆ null  ┆ 2010-03-08 │\n",
       "│ 21515       ┆ 5956631121515 ┆ Serum_vitamin_D2_level_89 ┆ 51.0  ┆ 2016-06-28 │\n",
       "└─────────────┴───────────────┴───────────────────────────┴───────┴────────────┘"
      ]
     },
     "metadata": {},
     "output_type": "display_data"
    },
    {
     "name": "stdout",
     "output_type": "stream",
     "text": [
      "lazy_measurement_Serum_vitamin_D_86\n"
     ]
    },
    {
     "data": {
      "text/html": [
       "<div><style>\n",
       ".dataframe > thead > tr > th,\n",
       ".dataframe > tbody > tr > td {\n",
       "  text-align: right;\n",
       "}\n",
       "</style>\n",
       "<small>shape: (5, 5)</small><table border=\"1\" class=\"dataframe\"><thead><tr><th>PRACTICE_ID</th><th>PATIENT_ID</th><th>EVENT</th><th>VALUE</th><th>DATE</th></tr><tr><td>i64</td><td>i64</td><td>str</td><td>f64</td><td>str</td></tr></thead><tbody><tr><td>21515</td><td>5954189621515</td><td>&quot;Serum_vitamin_…</td><td>null</td><td>&quot;2013-01-30&quot;</td></tr><tr><td>21515</td><td>5954189621515</td><td>&quot;Serum_vitamin_…</td><td>null</td><td>&quot;2013-07-29&quot;</td></tr><tr><td>21515</td><td>5954189621515</td><td>&quot;Serum_vitamin_…</td><td>null</td><td>&quot;2014-02-18&quot;</td></tr><tr><td>21515</td><td>5954516221515</td><td>&quot;Serum_vitamin_…</td><td>null</td><td>&quot;2010-12-02&quot;</td></tr><tr><td>21515</td><td>5954595421515</td><td>&quot;Serum_vitamin_…</td><td>null</td><td>&quot;2017-04-27&quot;</td></tr></tbody></table></div>"
      ],
      "text/plain": [
       "shape: (5, 5)\n",
       "┌─────────────┬───────────────┬────────────────────┬───────┬────────────┐\n",
       "│ PRACTICE_ID ┆ PATIENT_ID    ┆ EVENT              ┆ VALUE ┆ DATE       │\n",
       "│ ---         ┆ ---           ┆ ---                ┆ ---   ┆ ---        │\n",
       "│ i64         ┆ i64           ┆ str                ┆ f64   ┆ str        │\n",
       "╞═════════════╪═══════════════╪════════════════════╪═══════╪════════════╡\n",
       "│ 21515       ┆ 5954189621515 ┆ Serum_vitamin_D_86 ┆ null  ┆ 2013-01-30 │\n",
       "│ 21515       ┆ 5954189621515 ┆ Serum_vitamin_D_86 ┆ null  ┆ 2013-07-29 │\n",
       "│ 21515       ┆ 5954189621515 ┆ Serum_vitamin_D_86 ┆ null  ┆ 2014-02-18 │\n",
       "│ 21515       ┆ 5954516221515 ┆ Serum_vitamin_D_86 ┆ null  ┆ 2010-12-02 │\n",
       "│ 21515       ┆ 5954595421515 ┆ Serum_vitamin_D_86 ┆ null  ┆ 2017-04-27 │\n",
       "└─────────────┴───────────────┴────────────────────┴───────┴────────────┘"
      ]
     },
     "metadata": {},
     "output_type": "display_data"
    },
    {
     "name": "stdout",
     "output_type": "stream",
     "text": [
      "lazy_measurement_Systolic_blood_pressure_4\n"
     ]
    },
    {
     "data": {
      "text/html": [
       "<div><style>\n",
       ".dataframe > thead > tr > th,\n",
       ".dataframe > tbody > tr > td {\n",
       "  text-align: right;\n",
       "}\n",
       "</style>\n",
       "<small>shape: (5, 5)</small><table border=\"1\" class=\"dataframe\"><thead><tr><th>PRACTICE_ID</th><th>PATIENT_ID</th><th>EVENT</th><th>VALUE</th><th>DATE</th></tr><tr><td>i64</td><td>i64</td><td>str</td><td>f64</td><td>str</td></tr></thead><tbody><tr><td>21515</td><td>10995640321515</td><td>&quot;Systolic_blood…</td><td>133.0</td><td>&quot;2022-01-13&quot;</td></tr><tr><td>21515</td><td>10996237721515</td><td>&quot;Systolic_blood…</td><td>117.0</td><td>&quot;2021-09-10&quot;</td></tr><tr><td>21515</td><td>10996238121515</td><td>&quot;Systolic_blood…</td><td>123.0</td><td>&quot;2001-09-18&quot;</td></tr><tr><td>21515</td><td>10996238121515</td><td>&quot;Systolic_blood…</td><td>130.0</td><td>&quot;2011-07-13&quot;</td></tr><tr><td>21515</td><td>10996238121515</td><td>&quot;Systolic_blood…</td><td>130.0</td><td>&quot;2015-01-12&quot;</td></tr></tbody></table></div>"
      ],
      "text/plain": [
       "shape: (5, 5)\n",
       "┌─────────────┬────────────────┬───────────────────────────┬───────┬────────────┐\n",
       "│ PRACTICE_ID ┆ PATIENT_ID     ┆ EVENT                     ┆ VALUE ┆ DATE       │\n",
       "│ ---         ┆ ---            ┆ ---                       ┆ ---   ┆ ---        │\n",
       "│ i64         ┆ i64            ┆ str                       ┆ f64   ┆ str        │\n",
       "╞═════════════╪════════════════╪═══════════════════════════╪═══════╪════════════╡\n",
       "│ 21515       ┆ 10995640321515 ┆ Systolic_blood_pressure_4 ┆ 133.0 ┆ 2022-01-13 │\n",
       "│ 21515       ┆ 10996237721515 ┆ Systolic_blood_pressure_4 ┆ 117.0 ┆ 2021-09-10 │\n",
       "│ 21515       ┆ 10996238121515 ┆ Systolic_blood_pressure_4 ┆ 123.0 ┆ 2001-09-18 │\n",
       "│ 21515       ┆ 10996238121515 ┆ Systolic_blood_pressure_4 ┆ 130.0 ┆ 2011-07-13 │\n",
       "│ 21515       ┆ 10996238121515 ┆ Systolic_blood_pressure_4 ┆ 130.0 ┆ 2015-01-12 │\n",
       "└─────────────┴────────────────┴───────────────────────────┴───────┴────────────┘"
      ]
     },
     "metadata": {},
     "output_type": "display_data"
    },
    {
     "name": "stdout",
     "output_type": "stream",
     "text": [
      "lazy_measurement_TSH___thyroid_stim_hormone_72\n"
     ]
    },
    {
     "data": {
      "text/html": [
       "<div><style>\n",
       ".dataframe > thead > tr > th,\n",
       ".dataframe > tbody > tr > td {\n",
       "  text-align: right;\n",
       "}\n",
       "</style>\n",
       "<small>shape: (5, 5)</small><table border=\"1\" class=\"dataframe\"><thead><tr><th>PRACTICE_ID</th><th>PATIENT_ID</th><th>EVENT</th><th>VALUE</th><th>DATE</th></tr><tr><td>i64</td><td>i64</td><td>str</td><td>f64</td><td>str</td></tr></thead><tbody><tr><td>21515</td><td>5954196521515</td><td>&quot;TSH___thyroid_…</td><td>0.05</td><td>&quot;2001-11-21&quot;</td></tr><tr><td>21515</td><td>5954208821515</td><td>&quot;TSH___thyroid_…</td><td>1.1</td><td>&quot;2002-09-30&quot;</td></tr><tr><td>21515</td><td>5954226421515</td><td>&quot;TSH___thyroid_…</td><td>2.3</td><td>&quot;2000-01-10&quot;</td></tr><tr><td>21515</td><td>5954227621515</td><td>&quot;TSH___thyroid_…</td><td>0.77</td><td>&quot;2001-04-25&quot;</td></tr><tr><td>21515</td><td>5954227621515</td><td>&quot;TSH___thyroid_…</td><td>0.74</td><td>&quot;2001-11-12&quot;</td></tr></tbody></table></div>"
      ],
      "text/plain": [
       "shape: (5, 5)\n",
       "┌─────────────┬───────────────┬───────────────────────────────┬───────┬────────────┐\n",
       "│ PRACTICE_ID ┆ PATIENT_ID    ┆ EVENT                         ┆ VALUE ┆ DATE       │\n",
       "│ ---         ┆ ---           ┆ ---                           ┆ ---   ┆ ---        │\n",
       "│ i64         ┆ i64           ┆ str                           ┆ f64   ┆ str        │\n",
       "╞═════════════╪═══════════════╪═══════════════════════════════╪═══════╪════════════╡\n",
       "│ 21515       ┆ 5954196521515 ┆ TSH___thyroid_stim_hormone_72 ┆ 0.05  ┆ 2001-11-21 │\n",
       "│ 21515       ┆ 5954208821515 ┆ TSH___thyroid_stim_hormone_72 ┆ 1.1   ┆ 2002-09-30 │\n",
       "│ 21515       ┆ 5954226421515 ┆ TSH___thyroid_stim_hormone_72 ┆ 2.3   ┆ 2000-01-10 │\n",
       "│ 21515       ┆ 5954227621515 ┆ TSH___thyroid_stim_hormone_72 ┆ 0.77  ┆ 2001-04-25 │\n",
       "│ 21515       ┆ 5954227621515 ┆ TSH___thyroid_stim_hormone_72 ┆ 0.74  ┆ 2001-11-12 │\n",
       "└─────────────┴───────────────┴───────────────────────────────┴───────┴────────────┘"
      ]
     },
     "metadata": {},
     "output_type": "display_data"
    },
    {
     "name": "stdout",
     "output_type": "stream",
     "text": [
      "lazy_measurement_TSH_level_74\n"
     ]
    },
    {
     "data": {
      "text/html": [
       "<div><style>\n",
       ".dataframe > thead > tr > th,\n",
       ".dataframe > tbody > tr > td {\n",
       "  text-align: right;\n",
       "}\n",
       "</style>\n",
       "<small>shape: (5, 5)</small><table border=\"1\" class=\"dataframe\"><thead><tr><th>PRACTICE_ID</th><th>PATIENT_ID</th><th>EVENT</th><th>VALUE</th><th>DATE</th></tr><tr><td>i64</td><td>i64</td><td>str</td><td>f64</td><td>str</td></tr></thead><tbody><tr><td>21515</td><td>5954236621515</td><td>&quot;TSH_level_74&quot;</td><td>null</td><td>&quot;2012-06-12&quot;</td></tr><tr><td>21515</td><td>5955287921515</td><td>&quot;TSH_level_74&quot;</td><td>null</td><td>&quot;2004-06-01&quot;</td></tr><tr><td>21515</td><td>5955477621515</td><td>&quot;TSH_level_74&quot;</td><td>null</td><td>&quot;2007-07-24&quot;</td></tr><tr><td>21515</td><td>5956881821515</td><td>&quot;TSH_level_74&quot;</td><td>null</td><td>&quot;2002-05-29&quot;</td></tr><tr><td>21515</td><td>5956896521515</td><td>&quot;TSH_level_74&quot;</td><td>null</td><td>&quot;2004-05-19&quot;</td></tr></tbody></table></div>"
      ],
      "text/plain": [
       "shape: (5, 5)\n",
       "┌─────────────┬───────────────┬──────────────┬───────┬────────────┐\n",
       "│ PRACTICE_ID ┆ PATIENT_ID    ┆ EVENT        ┆ VALUE ┆ DATE       │\n",
       "│ ---         ┆ ---           ┆ ---          ┆ ---   ┆ ---        │\n",
       "│ i64         ┆ i64           ┆ str          ┆ f64   ┆ str        │\n",
       "╞═════════════╪═══════════════╪══════════════╪═══════╪════════════╡\n",
       "│ 21515       ┆ 5954236621515 ┆ TSH_level_74 ┆ null  ┆ 2012-06-12 │\n",
       "│ 21515       ┆ 5955287921515 ┆ TSH_level_74 ┆ null  ┆ 2004-06-01 │\n",
       "│ 21515       ┆ 5955477621515 ┆ TSH_level_74 ┆ null  ┆ 2007-07-24 │\n",
       "│ 21515       ┆ 5956881821515 ┆ TSH_level_74 ┆ null  ┆ 2002-05-29 │\n",
       "│ 21515       ┆ 5956896521515 ┆ TSH_level_74 ┆ null  ┆ 2004-05-19 │\n",
       "└─────────────┴───────────────┴──────────────┴───────┴────────────┘"
      ]
     },
     "metadata": {},
     "output_type": "display_data"
    },
    {
     "name": "stdout",
     "output_type": "stream",
     "text": [
      "lazy_measurement_Total_25_hydroxyvitamin_D_level_91\n"
     ]
    },
    {
     "data": {
      "text/html": [
       "<div><style>\n",
       ".dataframe > thead > tr > th,\n",
       ".dataframe > tbody > tr > td {\n",
       "  text-align: right;\n",
       "}\n",
       "</style>\n",
       "<small>shape: (5, 5)</small><table border=\"1\" class=\"dataframe\"><thead><tr><th>PRACTICE_ID</th><th>PATIENT_ID</th><th>EVENT</th><th>VALUE</th><th>DATE</th></tr><tr><td>i64</td><td>i64</td><td>str</td><td>f64</td><td>str</td></tr></thead><tbody><tr><td>21515</td><td>5954189621515</td><td>&quot;Total_25_hydro…</td><td>22.0</td><td>&quot;2013-01-30&quot;</td></tr><tr><td>21515</td><td>5954189621515</td><td>&quot;Total_25_hydro…</td><td>38.0</td><td>&quot;2013-07-29&quot;</td></tr><tr><td>21515</td><td>5954189621515</td><td>&quot;Total_25_hydro…</td><td>54.0</td><td>&quot;2014-02-18&quot;</td></tr><tr><td>21515</td><td>5954855721515</td><td>&quot;Total_25_hydro…</td><td>27.0</td><td>&quot;2015-04-23&quot;</td></tr><tr><td>21515</td><td>5954855721515</td><td>&quot;Total_25_hydro…</td><td>68.0</td><td>&quot;2015-07-24&quot;</td></tr></tbody></table></div>"
      ],
      "text/plain": [
       "shape: (5, 5)\n",
       "┌─────────────┬───────────────┬───────────────────────────────────┬───────┬────────────┐\n",
       "│ PRACTICE_ID ┆ PATIENT_ID    ┆ EVENT                             ┆ VALUE ┆ DATE       │\n",
       "│ ---         ┆ ---           ┆ ---                               ┆ ---   ┆ ---        │\n",
       "│ i64         ┆ i64           ┆ str                               ┆ f64   ┆ str        │\n",
       "╞═════════════╪═══════════════╪═══════════════════════════════════╪═══════╪════════════╡\n",
       "│ 21515       ┆ 5954189621515 ┆ Total_25_hydroxyvitamin_D_level_… ┆ 22.0  ┆ 2013-01-30 │\n",
       "│ 21515       ┆ 5954189621515 ┆ Total_25_hydroxyvitamin_D_level_… ┆ 38.0  ┆ 2013-07-29 │\n",
       "│ 21515       ┆ 5954189621515 ┆ Total_25_hydroxyvitamin_D_level_… ┆ 54.0  ┆ 2014-02-18 │\n",
       "│ 21515       ┆ 5954855721515 ┆ Total_25_hydroxyvitamin_D_level_… ┆ 27.0  ┆ 2015-04-23 │\n",
       "│ 21515       ┆ 5954855721515 ┆ Total_25_hydroxyvitamin_D_level_… ┆ 68.0  ┆ 2015-07-24 │\n",
       "└─────────────┴───────────────┴───────────────────────────────────┴───────┴────────────┘"
      ]
     },
     "metadata": {},
     "output_type": "display_data"
    },
    {
     "name": "stdout",
     "output_type": "stream",
     "text": [
      "lazy_measurement_Total_alkaline_phosphatase_48\n"
     ]
    },
    {
     "data": {
      "text/html": [
       "<div><style>\n",
       ".dataframe > thead > tr > th,\n",
       ".dataframe > tbody > tr > td {\n",
       "  text-align: right;\n",
       "}\n",
       "</style>\n",
       "<small>shape: (5, 5)</small><table border=\"1\" class=\"dataframe\"><thead><tr><th>PRACTICE_ID</th><th>PATIENT_ID</th><th>EVENT</th><th>VALUE</th><th>DATE</th></tr><tr><td>i64</td><td>i64</td><td>str</td><td>f64</td><td>str</td></tr></thead><tbody><tr><td>21515</td><td>5954367221515</td><td>&quot;Total_alkaline…</td><td>115.0</td><td>&quot;2017-10-26&quot;</td></tr><tr><td>21515</td><td>5954516221515</td><td>&quot;Total_alkaline…</td><td>100.0</td><td>&quot;2009-01-06&quot;</td></tr><tr><td>21515</td><td>5954516221515</td><td>&quot;Total_alkaline…</td><td>98.0</td><td>&quot;2009-06-04&quot;</td></tr><tr><td>21515</td><td>5954636321515</td><td>&quot;Total_alkaline…</td><td>76.0</td><td>&quot;2016-03-21&quot;</td></tr><tr><td>21515</td><td>5954636321515</td><td>&quot;Total_alkaline…</td><td>82.0</td><td>&quot;2016-04-19&quot;</td></tr></tbody></table></div>"
      ],
      "text/plain": [
       "shape: (5, 5)\n",
       "┌─────────────┬───────────────┬───────────────────────────────┬───────┬────────────┐\n",
       "│ PRACTICE_ID ┆ PATIENT_ID    ┆ EVENT                         ┆ VALUE ┆ DATE       │\n",
       "│ ---         ┆ ---           ┆ ---                           ┆ ---   ┆ ---        │\n",
       "│ i64         ┆ i64           ┆ str                           ┆ f64   ┆ str        │\n",
       "╞═════════════╪═══════════════╪═══════════════════════════════╪═══════╪════════════╡\n",
       "│ 21515       ┆ 5954367221515 ┆ Total_alkaline_phosphatase_48 ┆ 115.0 ┆ 2017-10-26 │\n",
       "│ 21515       ┆ 5954516221515 ┆ Total_alkaline_phosphatase_48 ┆ 100.0 ┆ 2009-01-06 │\n",
       "│ 21515       ┆ 5954516221515 ┆ Total_alkaline_phosphatase_48 ┆ 98.0  ┆ 2009-06-04 │\n",
       "│ 21515       ┆ 5954636321515 ┆ Total_alkaline_phosphatase_48 ┆ 76.0  ┆ 2016-03-21 │\n",
       "│ 21515       ┆ 5954636321515 ┆ Total_alkaline_phosphatase_48 ┆ 82.0  ┆ 2016-04-19 │\n",
       "└─────────────┴───────────────┴───────────────────────────────┴───────┴────────────┘"
      ]
     },
     "metadata": {},
     "output_type": "display_data"
    },
    {
     "name": "stdout",
     "output_type": "stream",
     "text": [
      "lazy_measurement_Total_bilirubin_55\n"
     ]
    },
    {
     "data": {
      "text/html": [
       "<div><style>\n",
       ".dataframe > thead > tr > th,\n",
       ".dataframe > tbody > tr > td {\n",
       "  text-align: right;\n",
       "}\n",
       "</style>\n",
       "<small>shape: (5, 5)</small><table border=\"1\" class=\"dataframe\"><thead><tr><th>PRACTICE_ID</th><th>PATIENT_ID</th><th>EVENT</th><th>VALUE</th><th>DATE</th></tr><tr><td>i64</td><td>i64</td><td>str</td><td>f64</td><td>str</td></tr></thead><tbody><tr><td>21515</td><td>5954189221515</td><td>&quot;Total_bilirubi…</td><td>19.0</td><td>&quot;1994-06-10&quot;</td></tr><tr><td>21515</td><td>5954189621515</td><td>&quot;Total_bilirubi…</td><td>19.0</td><td>&quot;2004-01-02&quot;</td></tr><tr><td>21515</td><td>5954189621515</td><td>&quot;Total_bilirubi…</td><td>10.0</td><td>&quot;2004-07-19&quot;</td></tr><tr><td>21515</td><td>5954189621515</td><td>&quot;Total_bilirubi…</td><td>13.0</td><td>&quot;2005-02-02&quot;</td></tr><tr><td>21515</td><td>5954189621515</td><td>&quot;Total_bilirubi…</td><td>13.0</td><td>&quot;2006-02-02&quot;</td></tr></tbody></table></div>"
      ],
      "text/plain": [
       "shape: (5, 5)\n",
       "┌─────────────┬───────────────┬────────────────────┬───────┬────────────┐\n",
       "│ PRACTICE_ID ┆ PATIENT_ID    ┆ EVENT              ┆ VALUE ┆ DATE       │\n",
       "│ ---         ┆ ---           ┆ ---                ┆ ---   ┆ ---        │\n",
       "│ i64         ┆ i64           ┆ str                ┆ f64   ┆ str        │\n",
       "╞═════════════╪═══════════════╪════════════════════╪═══════╪════════════╡\n",
       "│ 21515       ┆ 5954189221515 ┆ Total_bilirubin_55 ┆ 19.0  ┆ 1994-06-10 │\n",
       "│ 21515       ┆ 5954189621515 ┆ Total_bilirubin_55 ┆ 19.0  ┆ 2004-01-02 │\n",
       "│ 21515       ┆ 5954189621515 ┆ Total_bilirubin_55 ┆ 10.0  ┆ 2004-07-19 │\n",
       "│ 21515       ┆ 5954189621515 ┆ Total_bilirubin_55 ┆ 13.0  ┆ 2005-02-02 │\n",
       "│ 21515       ┆ 5954189621515 ┆ Total_bilirubin_55 ┆ 13.0  ┆ 2006-02-02 │\n",
       "└─────────────┴───────────────┴────────────────────┴───────┴────────────┘"
      ]
     },
     "metadata": {},
     "output_type": "display_data"
    },
    {
     "name": "stdout",
     "output_type": "stream",
     "text": [
      "lazy_measurement_Total_cholesterol_HDL_ratio_95\n"
     ]
    },
    {
     "data": {
      "text/html": [
       "<div><style>\n",
       ".dataframe > thead > tr > th,\n",
       ".dataframe > tbody > tr > td {\n",
       "  text-align: right;\n",
       "}\n",
       "</style>\n",
       "<small>shape: (5, 5)</small><table border=\"1\" class=\"dataframe\"><thead><tr><th>PRACTICE_ID</th><th>PATIENT_ID</th><th>EVENT</th><th>VALUE</th><th>DATE</th></tr><tr><td>i64</td><td>i64</td><td>str</td><td>f64</td><td>str</td></tr></thead><tbody><tr><td>21515</td><td>5954186521515</td><td>&quot;Total_choleste…</td><td>2.63</td><td>&quot;2009-08-04&quot;</td></tr><tr><td>21515</td><td>5954187021515</td><td>&quot;Total_choleste…</td><td>3.31</td><td>&quot;2004-12-10&quot;</td></tr><tr><td>21515</td><td>5954187021515</td><td>&quot;Total_choleste…</td><td>3.71</td><td>&quot;2008-10-10&quot;</td></tr><tr><td>21515</td><td>5954189621515</td><td>&quot;Total_choleste…</td><td>2.87</td><td>&quot;2010-04-01&quot;</td></tr><tr><td>21515</td><td>5954189621515</td><td>&quot;Total_choleste…</td><td>2.56</td><td>&quot;2011-04-22&quot;</td></tr></tbody></table></div>"
      ],
      "text/plain": [
       "shape: (5, 5)\n",
       "┌─────────────┬───────────────┬────────────────────────────────┬───────┬────────────┐\n",
       "│ PRACTICE_ID ┆ PATIENT_ID    ┆ EVENT                          ┆ VALUE ┆ DATE       │\n",
       "│ ---         ┆ ---           ┆ ---                            ┆ ---   ┆ ---        │\n",
       "│ i64         ┆ i64           ┆ str                            ┆ f64   ┆ str        │\n",
       "╞═════════════╪═══════════════╪════════════════════════════════╪═══════╪════════════╡\n",
       "│ 21515       ┆ 5954186521515 ┆ Total_cholesterol_HDL_ratio_95 ┆ 2.63  ┆ 2009-08-04 │\n",
       "│ 21515       ┆ 5954187021515 ┆ Total_cholesterol_HDL_ratio_95 ┆ 3.31  ┆ 2004-12-10 │\n",
       "│ 21515       ┆ 5954187021515 ┆ Total_cholesterol_HDL_ratio_95 ┆ 3.71  ┆ 2008-10-10 │\n",
       "│ 21515       ┆ 5954189621515 ┆ Total_cholesterol_HDL_ratio_95 ┆ 2.87  ┆ 2010-04-01 │\n",
       "│ 21515       ┆ 5954189621515 ┆ Total_cholesterol_HDL_ratio_95 ┆ 2.56  ┆ 2011-04-22 │\n",
       "└─────────────┴───────────────┴────────────────────────────────┴───────┴────────────┘"
      ]
     },
     "metadata": {},
     "output_type": "display_data"
    },
    {
     "name": "stdout",
     "output_type": "stream",
     "text": [
      "lazy_measurement_Total_white_cell_count_18\n"
     ]
    },
    {
     "data": {
      "text/html": [
       "<div><style>\n",
       ".dataframe > thead > tr > th,\n",
       ".dataframe > tbody > tr > td {\n",
       "  text-align: right;\n",
       "}\n",
       "</style>\n",
       "<small>shape: (5, 5)</small><table border=\"1\" class=\"dataframe\"><thead><tr><th>PRACTICE_ID</th><th>PATIENT_ID</th><th>EVENT</th><th>VALUE</th><th>DATE</th></tr><tr><td>i64</td><td>i64</td><td>str</td><td>f64</td><td>str</td></tr></thead><tbody><tr><td>21515</td><td>10995640321515</td><td>&quot;Total_white_ce…</td><td>14.7</td><td>&quot;2022-01-13&quot;</td></tr><tr><td>21515</td><td>10996238121515</td><td>&quot;Total_white_ce…</td><td>7.3</td><td>&quot;2006-08-24&quot;</td></tr><tr><td>21515</td><td>10996238121515</td><td>&quot;Total_white_ce…</td><td>6.2</td><td>&quot;2013-06-06&quot;</td></tr><tr><td>21515</td><td>10996238121515</td><td>&quot;Total_white_ce…</td><td>6.5</td><td>&quot;2013-08-08&quot;</td></tr><tr><td>21515</td><td>10996238121515</td><td>&quot;Total_white_ce…</td><td>6.4</td><td>&quot;2015-01-14&quot;</td></tr></tbody></table></div>"
      ],
      "text/plain": [
       "shape: (5, 5)\n",
       "┌─────────────┬────────────────┬───────────────────────────┬───────┬────────────┐\n",
       "│ PRACTICE_ID ┆ PATIENT_ID     ┆ EVENT                     ┆ VALUE ┆ DATE       │\n",
       "│ ---         ┆ ---            ┆ ---                       ┆ ---   ┆ ---        │\n",
       "│ i64         ┆ i64            ┆ str                       ┆ f64   ┆ str        │\n",
       "╞═════════════╪════════════════╪═══════════════════════════╪═══════╪════════════╡\n",
       "│ 21515       ┆ 10995640321515 ┆ Total_white_cell_count_18 ┆ 14.7  ┆ 2022-01-13 │\n",
       "│ 21515       ┆ 10996238121515 ┆ Total_white_cell_count_18 ┆ 7.3   ┆ 2006-08-24 │\n",
       "│ 21515       ┆ 10996238121515 ┆ Total_white_cell_count_18 ┆ 6.2   ┆ 2013-06-06 │\n",
       "│ 21515       ┆ 10996238121515 ┆ Total_white_cell_count_18 ┆ 6.5   ┆ 2013-08-08 │\n",
       "│ 21515       ┆ 10996238121515 ┆ Total_white_cell_count_18 ┆ 6.4   ┆ 2015-01-14 │\n",
       "└─────────────┴────────────────┴───────────────────────────┴───────┴────────────┘"
      ]
     },
     "metadata": {},
     "output_type": "display_data"
    },
    {
     "name": "stdout",
     "output_type": "stream",
     "text": [
      "lazy_measurement_Urine_albumin_creatinine_ratio_35\n"
     ]
    },
    {
     "data": {
      "text/html": [
       "<div><style>\n",
       ".dataframe > thead > tr > th,\n",
       ".dataframe > tbody > tr > td {\n",
       "  text-align: right;\n",
       "}\n",
       "</style>\n",
       "<small>shape: (5, 5)</small><table border=\"1\" class=\"dataframe\"><thead><tr><th>PRACTICE_ID</th><th>PATIENT_ID</th><th>EVENT</th><th>VALUE</th><th>DATE</th></tr><tr><td>i64</td><td>i64</td><td>str</td><td>f64</td><td>str</td></tr></thead><tbody><tr><td>21515</td><td>5954187021515</td><td>&quot;Urine_albumin_…</td><td>6.29</td><td>&quot;2021-12-08&quot;</td></tr><tr><td>21515</td><td>5954187521515</td><td>&quot;Urine_albumin_…</td><td>2.11</td><td>&quot;2011-07-15&quot;</td></tr><tr><td>21515</td><td>5954189921515</td><td>&quot;Urine_albumin_…</td><td>2.33</td><td>&quot;2009-04-16&quot;</td></tr><tr><td>21515</td><td>5954189921515</td><td>&quot;Urine_albumin_…</td><td>1.88</td><td>&quot;2010-04-13&quot;</td></tr><tr><td>21515</td><td>5954189921515</td><td>&quot;Urine_albumin_…</td><td>2.11</td><td>&quot;2011-09-16&quot;</td></tr></tbody></table></div>"
      ],
      "text/plain": [
       "shape: (5, 5)\n",
       "┌─────────────┬───────────────┬───────────────────────────────────┬───────┬────────────┐\n",
       "│ PRACTICE_ID ┆ PATIENT_ID    ┆ EVENT                             ┆ VALUE ┆ DATE       │\n",
       "│ ---         ┆ ---           ┆ ---                               ┆ ---   ┆ ---        │\n",
       "│ i64         ┆ i64           ┆ str                               ┆ f64   ┆ str        │\n",
       "╞═════════════╪═══════════════╪═══════════════════════════════════╪═══════╪════════════╡\n",
       "│ 21515       ┆ 5954187021515 ┆ Urine_albumin_creatinine_ratio_3… ┆ 6.29  ┆ 2021-12-08 │\n",
       "│ 21515       ┆ 5954187521515 ┆ Urine_albumin_creatinine_ratio_3… ┆ 2.11  ┆ 2011-07-15 │\n",
       "│ 21515       ┆ 5954189921515 ┆ Urine_albumin_creatinine_ratio_3… ┆ 2.33  ┆ 2009-04-16 │\n",
       "│ 21515       ┆ 5954189921515 ┆ Urine_albumin_creatinine_ratio_3… ┆ 1.88  ┆ 2010-04-13 │\n",
       "│ 21515       ┆ 5954189921515 ┆ Urine_albumin_creatinine_ratio_3… ┆ 2.11  ┆ 2011-09-16 │\n",
       "└─────────────┴───────────────┴───────────────────────────────────┴───────┴────────────┘"
      ]
     },
     "metadata": {},
     "output_type": "display_data"
    },
    {
     "name": "stdout",
     "output_type": "stream",
     "text": [
      "lazy_measurement_Urine_microalbumin_creatinine_ratio_36\n"
     ]
    },
    {
     "data": {
      "text/html": [
       "<div><style>\n",
       ".dataframe > thead > tr > th,\n",
       ".dataframe > tbody > tr > td {\n",
       "  text-align: right;\n",
       "}\n",
       "</style>\n",
       "<small>shape: (5, 5)</small><table border=\"1\" class=\"dataframe\"><thead><tr><th>PRACTICE_ID</th><th>PATIENT_ID</th><th>EVENT</th><th>VALUE</th><th>DATE</th></tr><tr><td>i64</td><td>i64</td><td>str</td><td>f64</td><td>str</td></tr></thead><tbody><tr><td>21515</td><td>5954318021515</td><td>&quot;Urine_microalb…</td><td>null</td><td>&quot;2004-12-29&quot;</td></tr><tr><td>21515</td><td>5955241221515</td><td>&quot;Urine_microalb…</td><td>4.25</td><td>&quot;2013-09-13&quot;</td></tr><tr><td>21515</td><td>5955287921515</td><td>&quot;Urine_microalb…</td><td>1.0</td><td>&quot;2000-12-11&quot;</td></tr><tr><td>21515</td><td>5955287921515</td><td>&quot;Urine_microalb…</td><td>2.9</td><td>&quot;2000-12-16&quot;</td></tr><tr><td>21515</td><td>5955899121515</td><td>&quot;Urine_microalb…</td><td>1.1</td><td>&quot;2014-06-17&quot;</td></tr></tbody></table></div>"
      ],
      "text/plain": [
       "shape: (5, 5)\n",
       "┌─────────────┬───────────────┬───────────────────────────────────┬───────┬────────────┐\n",
       "│ PRACTICE_ID ┆ PATIENT_ID    ┆ EVENT                             ┆ VALUE ┆ DATE       │\n",
       "│ ---         ┆ ---           ┆ ---                               ┆ ---   ┆ ---        │\n",
       "│ i64         ┆ i64           ┆ str                               ┆ f64   ┆ str        │\n",
       "╞═════════════╪═══════════════╪═══════════════════════════════════╪═══════╪════════════╡\n",
       "│ 21515       ┆ 5954318021515 ┆ Urine_microalbumin_creatinine_ra… ┆ null  ┆ 2004-12-29 │\n",
       "│ 21515       ┆ 5955241221515 ┆ Urine_microalbumin_creatinine_ra… ┆ 4.25  ┆ 2013-09-13 │\n",
       "│ 21515       ┆ 5955287921515 ┆ Urine_microalbumin_creatinine_ra… ┆ 1.0   ┆ 2000-12-11 │\n",
       "│ 21515       ┆ 5955287921515 ┆ Urine_microalbumin_creatinine_ra… ┆ 2.9   ┆ 2000-12-16 │\n",
       "│ 21515       ┆ 5955899121515 ┆ Urine_microalbumin_creatinine_ra… ┆ 1.1   ┆ 2014-06-17 │\n",
       "└─────────────┴───────────────┴───────────────────────────────────┴───────┴────────────┘"
      ]
     },
     "metadata": {},
     "output_type": "display_data"
    },
    {
     "name": "stdout",
     "output_type": "stream",
     "text": [
      "lazy_measurement_eGFR_using_creatinine_CKD_EPI_per_1_73_square_metres_33\n"
     ]
    },
    {
     "data": {
      "text/html": [
       "<div><style>\n",
       ".dataframe > thead > tr > th,\n",
       ".dataframe > tbody > tr > td {\n",
       "  text-align: right;\n",
       "}\n",
       "</style>\n",
       "<small>shape: (5, 5)</small><table border=\"1\" class=\"dataframe\"><thead><tr><th>PRACTICE_ID</th><th>PATIENT_ID</th><th>EVENT</th><th>VALUE</th><th>DATE</th></tr><tr><td>i64</td><td>i64</td><td>str</td><td>f64</td><td>str</td></tr></thead><tbody><tr><td>21515</td><td>10995640321515</td><td>&quot;eGFR_using_cre…</td><td>90.0</td><td>&quot;2022-01-13&quot;</td></tr><tr><td>21515</td><td>10995640321515</td><td>&quot;eGFR_using_cre…</td><td>null</td><td>&quot;2022-01-13&quot;</td></tr><tr><td>21515</td><td>5954184321515</td><td>&quot;eGFR_using_cre…</td><td>90.0</td><td>&quot;2020-10-30&quot;</td></tr><tr><td>21515</td><td>5954184321515</td><td>&quot;eGFR_using_cre…</td><td>90.0</td><td>&quot;2021-10-19&quot;</td></tr><tr><td>21515</td><td>5954184321515</td><td>&quot;eGFR_using_cre…</td><td>null</td><td>&quot;2021-10-19&quot;</td></tr></tbody></table></div>"
      ],
      "text/plain": [
       "shape: (5, 5)\n",
       "┌─────────────┬────────────────┬───────────────────────────────────┬───────┬────────────┐\n",
       "│ PRACTICE_ID ┆ PATIENT_ID     ┆ EVENT                             ┆ VALUE ┆ DATE       │\n",
       "│ ---         ┆ ---            ┆ ---                               ┆ ---   ┆ ---        │\n",
       "│ i64         ┆ i64            ┆ str                               ┆ f64   ┆ str        │\n",
       "╞═════════════╪════════════════╪═══════════════════════════════════╪═══════╪════════════╡\n",
       "│ 21515       ┆ 10995640321515 ┆ eGFR_using_creatinine_CKD_EPI_pe… ┆ 90.0  ┆ 2022-01-13 │\n",
       "│ 21515       ┆ 10995640321515 ┆ eGFR_using_creatinine_CKD_EPI_pe… ┆ null  ┆ 2022-01-13 │\n",
       "│ 21515       ┆ 5954184321515  ┆ eGFR_using_creatinine_CKD_EPI_pe… ┆ 90.0  ┆ 2020-10-30 │\n",
       "│ 21515       ┆ 5954184321515  ┆ eGFR_using_creatinine_CKD_EPI_pe… ┆ 90.0  ┆ 2021-10-19 │\n",
       "│ 21515       ┆ 5954184321515  ┆ eGFR_using_creatinine_CKD_EPI_pe… ┆ null  ┆ 2021-10-19 │\n",
       "└─────────────┴────────────────┴───────────────────────────────────┴───────┴────────────┘"
      ]
     },
     "metadata": {},
     "output_type": "display_data"
    }
   ],
   "source": [
    "generator = collector._lazy_generate_by_distinct(distinct_values=practice_ids, \n",
    "                                                 identifier_column=\"PRACTICE_ID\",)\n",
    "start = time.time()\n",
    "for _idx, (chunk_name, lazy_table_frames_dict) in enumerate(generator):\n",
    "    \n",
    "    print(f\"collector took {time.time() - start} seconds\")\n",
    "\n",
    "    start = time.time()\n",
    "    batch = collector._collate_lazy_tables(lazy_table_frames_dict).collect()\n",
    "    print(f\"collating events took {time.time() - start} seconds\")\n",
    "\n",
    "    start = time.time()\n",
    "    if _idx > 5:\n",
    "        break\n",
    "    \n",
    "print(lazy_table_frames_dict)\n",
    "# print(f\"Chunk containing practice ID: {chunk_name}\\n\\n\")\n",
    "for key in lazy_table_frames_dict.keys():\n",
    "    print(key)\n",
    "    display(lazy_table_frames_dict[key].collect().head())\n"
   ]
  },
  {
   "cell_type": "code",
   "execution_count": 15,
   "id": "c7c3a1bd-93ef-4186-bcf4-d37a418d8245",
   "metadata": {},
   "outputs": [
    {
     "data": {
      "text/plain": [
       "{'lazy_static_table': <polars.LazyFrame object at 0x7F653F62A170>}"
      ]
     },
     "metadata": {},
     "output_type": "display_data"
    }
   ],
   "source": [
    "display(lazy_table_frames_dict)"
   ]
  },
  {
   "cell_type": "markdown",
   "id": "db8aa0fd-30fd-43f5-ba8b-8ed6635ed5af",
   "metadata": {},
   "source": [
    "Alternatively, we may which to generate groups/batches of individuals for vectorisation. In that case we can pass in a list of lists. We generate over the outer list, and each call yields all the inner list values.\n",
    "\n",
    "For example, in the below we have an outer list of all practices, and an inner list of patients within the practice. Consequently, each call to generate yields all records of all patients within a practice."
   ]
  },
  {
   "cell_type": "code",
   "execution_count": null,
   "id": "1de5986d-6534-4b5e-b34c-f5f8fd2783f5",
   "metadata": {},
   "outputs": [],
   "source": [
    "# generator = collector._lazy_generate_by_distinct(practice_ids, [\"static_table\", \"measurement_table\", \"diagnosis_table\"], \"PRACTICE_PATIENT_ID\")\n",
    "# for _idx, (chunk_name, lazy_table_frames_dict) in enumerate(generator):\n",
    "#     break\n",
    "    \n",
    "# # print(f\"Chunk containing practice ID: {chunk_name}\\n\\n\")\n",
    "# display(lazy_table_frames_dict[\"lazy_static\"].collect().head())\n",
    "# display(lazy_table_frames_dict[\"lazy_measurement\"].collect().head())\n",
    "# display(lazy_table_frames_dict[\"lazy_diagnosis\"].collect().head())\n"
   ]
  },
  {
   "cell_type": "markdown",
   "id": "c1c10947-2d93-4cff-8483-772231d66a67",
   "metadata": {},
   "source": [
    "### Test collation of generated lazy frames"
   ]
  },
  {
   "cell_type": "code",
   "execution_count": 15,
   "id": "d655d2d4-eac7-46fa-93a8-14445ca69bbb",
   "metadata": {},
   "outputs": [
    {
     "name": "stderr",
     "output_type": "stream",
     "text": [
      "DEBUG:root:Dropping missing measurements\n",
      "DEBUG:root:Removing patients with no observed events\n"
     ]
    }
   ],
   "source": [
    "lazy_batch = collector._collate_lazy_tables(lazy_table_frames_dict)"
   ]
  },
  {
   "cell_type": "markdown",
   "id": "b0982f94-fdcc-4cf9-bb46-854aea12bf68",
   "metadata": {},
   "source": [
    "### View how tables are aligned"
   ]
  },
  {
   "cell_type": "code",
   "execution_count": 16,
   "id": "fff015bd-5247-443f-af90-2871635a0283",
   "metadata": {
    "scrolled": true
   },
   "outputs": [
    {
     "data": {
      "text/html": [
       "<div><style>\n",
       ".dataframe > thead > tr > th,\n",
       ".dataframe > tbody > tr > td {\n",
       "  text-align: right;\n",
       "}\n",
       "</style>\n",
       "<small>shape: (10_849, 13)</small><table border=\"1\" class=\"dataframe\"><thead><tr><th>PRACTICE_ID</th><th>PATIENT_ID</th><th>VALUE</th><th>EVENT</th><th>DAYS_SINCE_BIRTH</th><th>ETHNICITY</th><th>YEAR_OF_BIRTH</th><th>SEX</th><th>COUNTRY</th><th>HEALTH_AUTH</th><th>INDEX_DATE</th><th>START_DATE</th><th>END_DATE</th></tr><tr><td>i64</td><td>i64</td><td>list[f64]</td><td>list[str]</td><td>list[i64]</td><td>str</td><td>datetime[μs]</td><td>str</td><td>str</td><td>str</td><td>datetime[μs]</td><td>datetime[μs]</td><td>datetime[μs]</td></tr></thead><tbody><tr><td>21515</td><td>5954183621515</td><td>[59.5, 5.88]</td><td>[&quot;O_E___height_1&quot;, &quot;O_E___weight_2&quot;]</td><td>[49, 49]</td><td>&quot;WHITE&quot;</td><td>2018-06-15 00:00:00</td><td>&quot;M&quot;</td><td>&quot;E&quot;</td><td>&quot;North West&quot;</td><td>2019-06-18 00:00:00</td><td>2019-06-18 00:00:00</td><td>2022-03-19 00:00:00</td></tr><tr><td>21515</td><td>5954184321515</td><td>[15.9, 161.5, … 12.2]</td><td>[&quot;Body_mass_index_3&quot;, &quot;O_E___height_1&quot;, … &quot;Serum_free_T4_level_75&quot;]</td><td>[5062, 5062, … 11477]</td><td>&quot;WHITE&quot;</td><td>1990-07-15 00:00:00</td><td>&quot;F&quot;</td><td>&quot;E&quot;</td><td>&quot;North West&quot;</td><td>2005-05-14 00:00:00</td><td>2005-05-14 00:00:00</td><td>2022-03-19 00:00:00</td></tr><tr><td>21515</td><td>5954184721515</td><td>[3.9]</td><td>[&quot;O_E___weight_2&quot;]</td><td>[9]</td><td>&quot;WHITE&quot;</td><td>2011-02-15 00:00:00</td><td>&quot;M&quot;</td><td>&quot;E&quot;</td><td>&quot;North West&quot;</td><td>2012-03-22 00:00:00</td><td>2012-03-22 00:00:00</td><td>2013-11-16 00:00:00</td></tr><tr><td>21515</td><td>5954185221515</td><td>[64.0, 110.0]</td><td>[&quot;Diastolic_blood_pressure_5&quot;, &quot;Systolic_blood_pressure_4&quot;]</td><td>[5140, 5140]</td><td>&quot;MISSING&quot;</td><td>2003-07-15 00:00:00</td><td>&quot;M&quot;</td><td>&quot;E&quot;</td><td>&quot;North West&quot;</td><td>2005-01-01 00:00:00</td><td>2005-01-01 00:00:00</td><td>2022-03-19 00:00:00</td></tr><tr><td>21515</td><td>5954185521515</td><td>[29.6, 70.0, … 140.0]</td><td>[&quot;Body_mass_index_3&quot;, &quot;Diastolic_blood_pressure_5&quot;, … &quot;Systolic_blood_pressure_4&quot;]</td><td>[8174, 8174, … 9158]</td><td>&quot;MISSING&quot;</td><td>1979-07-15 00:00:00</td><td>&quot;F&quot;</td><td>&quot;E&quot;</td><td>&quot;North West&quot;</td><td>2005-01-01 00:00:00</td><td>2005-01-01 00:00:00</td><td>2005-01-20 00:00:00</td></tr><tr><td>21515</td><td>5954186221515</td><td>[null, 110.0, 17.0]</td><td>[&quot;ASTHMA_PUSHASTHMA&quot;, &quot;O_E___height_1&quot;, &quot;O_E___weight_2&quot;]</td><td>[1481, 2716, 2716]</td><td>&quot;MISSING&quot;</td><td>1994-07-15 00:00:00</td><td>&quot;M&quot;</td><td>&quot;E&quot;</td><td>&quot;North West&quot;</td><td>2005-01-01 00:00:00</td><td>2005-01-01 00:00:00</td><td>2008-02-07 00:00:00</td></tr><tr><td>21515</td><td>5954186421515</td><td>[null, null]</td><td>[&quot;ATOPICECZEMA&quot;, &quot;ASTHMA_PUSHASTHMA&quot;]</td><td>[392, 3782]</td><td>&quot;WHITE&quot;</td><td>2011-03-15 00:00:00</td><td>&quot;M&quot;</td><td>&quot;E&quot;</td><td>&quot;North West&quot;</td><td>2012-04-01 00:00:00</td><td>2012-04-01 00:00:00</td><td>2022-03-19 00:00:00</td></tr><tr><td>21515</td><td>5954186521515</td><td>[27.5, 60.0, … 11.3]</td><td>[&quot;Body_mass_index_3&quot;, &quot;Diastolic_blood_pressure_5&quot;, … &quot;Serum_free_T4_level_75&quot;]</td><td>[15797, 15797, … 20193]</td><td>&quot;WHITE&quot;</td><td>1965-07-15 00:00:00</td><td>&quot;F&quot;</td><td>&quot;E&quot;</td><td>&quot;North West&quot;</td><td>2009-10-08 00:00:00</td><td>2009-10-08 00:00:00</td><td>2022-03-19 00:00:00</td></tr><tr><td>21515</td><td>5954186721515</td><td>[17.21, 139.5, … 96.0]</td><td>[&quot;Body_mass_index_3&quot;, &quot;O_E___height_1&quot;, … &quot;Systolic_blood_pressure_4&quot;]</td><td>[4331, 4331, … 7514]</td><td>&quot;MISSING&quot;</td><td>2001-07-15 00:00:00</td><td>&quot;F&quot;</td><td>&quot;E&quot;</td><td>&quot;North West&quot;</td><td>2005-01-01 00:00:00</td><td>2005-01-01 00:00:00</td><td>2022-03-19 00:00:00</td></tr><tr><td>21515</td><td>5954187021515</td><td>[25.2, 78.0, … 6.29]</td><td>[&quot;Body_mass_index_3&quot;, &quot;Diastolic_blood_pressure_5&quot;, … &quot;Urine_albumin_creatinine_ratio_35&quot;]</td><td>[23619, 23619, … 31192]</td><td>&quot;MISSING&quot;</td><td>1936-07-15 00:00:00</td><td>&quot;F&quot;</td><td>&quot;E&quot;</td><td>&quot;North West&quot;</td><td>2005-01-01 00:00:00</td><td>2005-01-01 00:00:00</td><td>2022-03-19 00:00:00</td></tr><tr><td>21515</td><td>5954187421515</td><td>[0.1, 0.1, … 5.5]</td><td>[&quot;Basophil_count_22&quot;, &quot;Eosinophil_count_21&quot;, … &quot;Total_white_cell_count_18&quot;]</td><td>[2297, 2297, … 2297]</td><td>&quot;MISSING&quot;</td><td>2015-10-15 00:00:00</td><td>&quot;F&quot;</td><td>&quot;E&quot;</td><td>&quot;North West&quot;</td><td>2017-03-29 00:00:00</td><td>2017-03-29 00:00:00</td><td>2022-03-19 00:00:00</td></tr><tr><td>21515</td><td>5954187521515</td><td>[null, 23.4, … 2.11]</td><td>[&quot;TYPE1DM&quot;, &quot;Body_mass_index_3&quot;, … &quot;Urine_albumin_creatinine_ratio_35&quot;]</td><td>[2482, 6480, … 6574]</td><td>&quot;WHITE&quot;</td><td>1993-07-15 00:00:00</td><td>&quot;M&quot;</td><td>&quot;E&quot;</td><td>&quot;North West&quot;</td><td>2012-04-08 00:00:00</td><td>2012-04-08 00:00:00</td><td>2012-09-20 00:00:00</td></tr><tr><td>&hellip;</td><td>&hellip;</td><td>&hellip;</td><td>&hellip;</td><td>&hellip;</td><td>&hellip;</td><td>&hellip;</td><td>&hellip;</td><td>&hellip;</td><td>&hellip;</td><td>&hellip;</td><td>&hellip;</td><td>&hellip;</td></tr><tr><td>21515</td><td>8994309821515</td><td>[59.9, 5.2, 5290.0]</td><td>[&quot;O_E___height_1&quot;, &quot;O_E___weight_2&quot;, &quot;O_E___weight_2&quot;]</td><td>[35, 35, 44]</td><td>&quot;MISSING&quot;</td><td>2021-03-15 00:00:00</td><td>&quot;F&quot;</td><td>&quot;E&quot;</td><td>&quot;North West&quot;</td><td>2022-03-09 00:00:00</td><td>2022-03-09 00:00:00</td><td>2022-03-19 00:00:00</td></tr><tr><td>21515</td><td>10995640321515</td><td>[28.28, 28.3, … 90.0]</td><td>[&quot;Body_mass_index_3&quot;, &quot;Body_mass_index_3&quot;, … &quot;eGFR_using_creatinine_CKD_EPI_per_1_73_square_metres_33&quot;]</td><td>[9385, 9385, … 9679]</td><td>&quot;MISSING&quot;</td><td>1995-07-15 00:00:00</td><td>&quot;F&quot;</td><td>&quot;E&quot;</td><td>&quot;North West&quot;</td><td>2022-03-12 00:00:00</td><td>2022-03-12 00:00:00</td><td>2022-03-19 00:00:00</td></tr><tr><td>21515</td><td>10996237721515</td><td>[75.0, 117.0]</td><td>[&quot;Diastolic_blood_pressure_5&quot;, &quot;Systolic_blood_pressure_4&quot;]</td><td>[10284, 10284]</td><td>&quot;MISSING&quot;</td><td>1993-07-15 00:00:00</td><td>&quot;F&quot;</td><td>&quot;E&quot;</td><td>&quot;North West&quot;</td><td>2022-03-12 00:00:00</td><td>2022-03-12 00:00:00</td><td>2022-03-19 00:00:00</td></tr><tr><td>21515</td><td>10996238021515</td><td>[31.9, 31.93, … 95.256]</td><td>[&quot;Body_mass_index_3&quot;, &quot;Body_mass_index_3&quot;, … &quot;O_E___weight_2&quot;]</td><td>[18151, 18151, … 18151]</td><td>&quot;MISSING&quot;</td><td>1971-07-15 00:00:00</td><td>&quot;F&quot;</td><td>&quot;E&quot;</td><td>&quot;North West&quot;</td><td>2022-03-12 00:00:00</td><td>2022-03-12 00:00:00</td><td>2022-03-19 00:00:00</td></tr><tr><td>21515</td><td>10996238121515</td><td>[null, 20.4, … 80.0]</td><td>[&quot;ANY_DEAFNESS_HEARING_LOSS_V2&quot;, &quot;Body_mass_index_3&quot;, … &quot;Diastolic_blood_pressure_5&quot;]</td><td>[6718, 8101, … 36695]</td><td>&quot;WHITE&quot;</td><td>1979-07-15 00:00:00</td><td>&quot;M&quot;</td><td>&quot;E&quot;</td><td>&quot;North West&quot;</td><td>2022-03-15 00:00:00</td><td>2022-03-15 00:00:00</td><td>2022-03-19 00:00:00</td></tr><tr><td>21515</td><td>10996238321515</td><td>[null, null, … 76.205]</td><td>[&quot;PSORIASIS&quot;, &quot;ALLERGICRHINITISCONJ&quot;, … &quot;O_E___weight_2&quot;]</td><td>[17599, 18929, … 24364]</td><td>&quot;WHITE&quot;</td><td>1954-07-15 00:00:00</td><td>&quot;M&quot;</td><td>&quot;E&quot;</td><td>&quot;North West&quot;</td><td>2022-03-15 00:00:00</td><td>2022-03-15 00:00:00</td><td>2022-03-19 00:00:00</td></tr><tr><td>21515</td><td>10997984721515</td><td>[55.0, 4.48]</td><td>[&quot;O_E___height_1&quot;, &quot;O_E___weight_2&quot;]</td><td>[60, 60]</td><td>&quot;WHITE&quot;</td><td>2021-02-15 00:00:00</td><td>&quot;F&quot;</td><td>&quot;E&quot;</td><td>&quot;North West&quot;</td><td>2022-03-16 00:00:00</td><td>2022-03-16 00:00:00</td><td>2022-03-19 00:00:00</td></tr><tr><td>21515</td><td>10997984921515</td><td>[14.81, 17.14]</td><td>[&quot;Body_mass_index_3&quot;, &quot;Body_mass_index_3&quot;]</td><td>[69, 328]</td><td>&quot;WHITE&quot;</td><td>2016-10-15 00:00:00</td><td>&quot;F&quot;</td><td>&quot;E&quot;</td><td>&quot;North West&quot;</td><td>2022-03-17 00:00:00</td><td>2022-03-17 00:00:00</td><td>2022-03-19 00:00:00</td></tr><tr><td>21515</td><td>10997985021515</td><td>[54.5, 4.05, … 7.2]</td><td>[&quot;O_E___height_1&quot;, &quot;O_E___weight_2&quot;, … &quot;O_E___weight_2&quot;]</td><td>[74, 74, … 300]</td><td>&quot;WHITE&quot;</td><td>2021-01-15 00:00:00</td><td>&quot;F&quot;</td><td>&quot;E&quot;</td><td>&quot;North West&quot;</td><td>2022-03-17 00:00:00</td><td>2022-03-17 00:00:00</td><td>2022-03-19 00:00:00</td></tr><tr><td>21515</td><td>10997985121515</td><td>[55.5, 4.61]</td><td>[&quot;O_E___height_1&quot;, &quot;O_E___weight_2&quot;]</td><td>[45, 45]</td><td>&quot;WHITE&quot;</td><td>2021-03-15 00:00:00</td><td>&quot;M&quot;</td><td>&quot;E&quot;</td><td>&quot;North West&quot;</td><td>2022-03-17 00:00:00</td><td>2022-03-17 00:00:00</td><td>2022-03-19 00:00:00</td></tr><tr><td>21515</td><td>10997985321515</td><td>[85.0, 11.0]</td><td>[&quot;O_E___height_1&quot;, &quot;O_E___weight_2&quot;]</td><td>[376, 376]</td><td>&quot;WHITE&quot;</td><td>2021-01-15 00:00:00</td><td>&quot;M&quot;</td><td>&quot;E&quot;</td><td>&quot;North West&quot;</td><td>2022-03-17 00:00:00</td><td>2022-03-17 00:00:00</td><td>2022-03-19 00:00:00</td></tr><tr><td>21515</td><td>10998544621515</td><td>[64.0, 5.93]</td><td>[&quot;O_E___height_1&quot;, &quot;O_E___weight_2&quot;]</td><td>[58, 58]</td><td>&quot;WHITE&quot;</td><td>2021-02-15 00:00:00</td><td>&quot;M&quot;</td><td>&quot;E&quot;</td><td>&quot;North West&quot;</td><td>2022-03-18 00:00:00</td><td>2022-03-18 00:00:00</td><td>2022-03-19 00:00:00</td></tr></tbody></table></div>"
      ],
      "text/plain": [
       "shape: (10_849, 13)\n",
       "┌───────────┬──────────┬────────────┬────────────┬───┬───────────┬──────────┬──────────┬───────────┐\n",
       "│ PRACTICE_ ┆ PATIENT_ ┆ VALUE      ┆ EVENT      ┆ … ┆ HEALTH_AU ┆ INDEX_DA ┆ START_DA ┆ END_DATE  │\n",
       "│ ID        ┆ ID       ┆ ---        ┆ ---        ┆   ┆ TH        ┆ TE       ┆ TE       ┆ ---       │\n",
       "│ ---       ┆ ---      ┆ list[f64]  ┆ list[str]  ┆   ┆ ---       ┆ ---      ┆ ---      ┆ datetime[ │\n",
       "│ i64       ┆ i64      ┆            ┆            ┆   ┆ str       ┆ datetime ┆ datetime ┆ μs]       │\n",
       "│           ┆          ┆            ┆            ┆   ┆           ┆ [μs]     ┆ [μs]     ┆           │\n",
       "╞═══════════╪══════════╪════════════╪════════════╪═══╪═══════════╪══════════╪══════════╪═══════════╡\n",
       "│ 21515     ┆ 59541836 ┆ [59.5,     ┆ [\"O_E___he ┆ … ┆ North     ┆ 2019-06- ┆ 2019-06- ┆ 2022-03-1 │\n",
       "│           ┆ 21515    ┆ 5.88]      ┆ ight_1\",   ┆   ┆ West      ┆ 18       ┆ 18       ┆ 9         │\n",
       "│           ┆          ┆            ┆ \"O_E___wei ┆   ┆           ┆ 00:00:00 ┆ 00:00:00 ┆ 00:00:00  │\n",
       "│           ┆          ┆            ┆ ght…       ┆   ┆           ┆          ┆          ┆           │\n",
       "│ 21515     ┆ 59541843 ┆ [15.9,     ┆ [\"Body_mas ┆ … ┆ North     ┆ 2005-05- ┆ 2005-05- ┆ 2022-03-1 │\n",
       "│           ┆ 21515    ┆ 161.5, …   ┆ s_index_3\" ┆   ┆ West      ┆ 14       ┆ 14       ┆ 9         │\n",
       "│           ┆          ┆ 12.2]      ┆ , \"O_E___h ┆   ┆           ┆ 00:00:00 ┆ 00:00:00 ┆ 00:00:00  │\n",
       "│           ┆          ┆            ┆ ei…        ┆   ┆           ┆          ┆          ┆           │\n",
       "│ 21515     ┆ 59541847 ┆ [3.9]      ┆ [\"O_E___we ┆ … ┆ North     ┆ 2012-03- ┆ 2012-03- ┆ 2013-11-1 │\n",
       "│           ┆ 21515    ┆            ┆ ight_2\"]   ┆   ┆ West      ┆ 22       ┆ 22       ┆ 6         │\n",
       "│           ┆          ┆            ┆            ┆   ┆           ┆ 00:00:00 ┆ 00:00:00 ┆ 00:00:00  │\n",
       "│ 21515     ┆ 59541852 ┆ [64.0,     ┆ [\"Diastoli ┆ … ┆ North     ┆ 2005-01- ┆ 2005-01- ┆ 2022-03-1 │\n",
       "│           ┆ 21515    ┆ 110.0]     ┆ c_blood_pr ┆   ┆ West      ┆ 01       ┆ 01       ┆ 9         │\n",
       "│           ┆          ┆            ┆ essure_5\", ┆   ┆           ┆ 00:00:00 ┆ 00:00:00 ┆ 00:00:00  │\n",
       "│           ┆          ┆            ┆ \"…         ┆   ┆           ┆          ┆          ┆           │\n",
       "│ …         ┆ …        ┆ …          ┆ …          ┆ … ┆ …         ┆ …        ┆ …        ┆ …         │\n",
       "│ 21515     ┆ 10997985 ┆ [54.5,     ┆ [\"O_E___he ┆ … ┆ North     ┆ 2022-03- ┆ 2022-03- ┆ 2022-03-1 │\n",
       "│           ┆ 021515   ┆ 4.05, …    ┆ ight_1\",   ┆   ┆ West      ┆ 17       ┆ 17       ┆ 9         │\n",
       "│           ┆          ┆ 7.2]       ┆ \"O_E___wei ┆   ┆           ┆ 00:00:00 ┆ 00:00:00 ┆ 00:00:00  │\n",
       "│           ┆          ┆            ┆ ght…       ┆   ┆           ┆          ┆          ┆           │\n",
       "│ 21515     ┆ 10997985 ┆ [55.5,     ┆ [\"O_E___he ┆ … ┆ North     ┆ 2022-03- ┆ 2022-03- ┆ 2022-03-1 │\n",
       "│           ┆ 121515   ┆ 4.61]      ┆ ight_1\",   ┆   ┆ West      ┆ 17       ┆ 17       ┆ 9         │\n",
       "│           ┆          ┆            ┆ \"O_E___wei ┆   ┆           ┆ 00:00:00 ┆ 00:00:00 ┆ 00:00:00  │\n",
       "│           ┆          ┆            ┆ ght…       ┆   ┆           ┆          ┆          ┆           │\n",
       "│ 21515     ┆ 10997985 ┆ [85.0,     ┆ [\"O_E___he ┆ … ┆ North     ┆ 2022-03- ┆ 2022-03- ┆ 2022-03-1 │\n",
       "│           ┆ 321515   ┆ 11.0]      ┆ ight_1\",   ┆   ┆ West      ┆ 17       ┆ 17       ┆ 9         │\n",
       "│           ┆          ┆            ┆ \"O_E___wei ┆   ┆           ┆ 00:00:00 ┆ 00:00:00 ┆ 00:00:00  │\n",
       "│           ┆          ┆            ┆ ght…       ┆   ┆           ┆          ┆          ┆           │\n",
       "│ 21515     ┆ 10998544 ┆ [64.0,     ┆ [\"O_E___he ┆ … ┆ North     ┆ 2022-03- ┆ 2022-03- ┆ 2022-03-1 │\n",
       "│           ┆ 621515   ┆ 5.93]      ┆ ight_1\",   ┆   ┆ West      ┆ 18       ┆ 18       ┆ 9         │\n",
       "│           ┆          ┆            ┆ \"O_E___wei ┆   ┆           ┆ 00:00:00 ┆ 00:00:00 ┆ 00:00:00  │\n",
       "│           ┆          ┆            ┆ ght…       ┆   ┆           ┆          ┆          ┆           │\n",
       "└───────────┴──────────┴────────────┴────────────┴───┴───────────┴──────────┴──────────┴───────────┘"
      ]
     },
     "metadata": {},
     "output_type": "display_data"
    },
    {
     "data": {
      "text/html": [
       "<pre style=\"white-space:pre;overflow-x:auto;line-height:normal;font-family:Menlo,'DejaVu Sans Mono',consolas,'Courier New',monospace\"><span style=\"color: #800000; text-decoration-color: #800000\">╭─────────────────────────────── </span><span style=\"color: #800000; text-decoration-color: #800000; font-weight: bold\">Traceback </span><span style=\"color: #bf7f7f; text-decoration-color: #bf7f7f; font-weight: bold\">(most recent call last)</span><span style=\"color: #800000; text-decoration-color: #800000\"> ────────────────────────────────╮</span>\n",
       "<span style=\"color: #800000; text-decoration-color: #800000\">│</span> <span style=\"color: #bfbf7f; text-decoration-color: #bfbf7f\">/tmp/ipykernel_2217528/</span><span style=\"color: #808000; text-decoration-color: #808000; font-weight: bold\">1443966763.py</span>:<span style=\"color: #0000ff; text-decoration-color: #0000ff\">4</span> in <span style=\"color: #00ff00; text-decoration-color: #00ff00\">&lt;module&gt;</span>                                               <span style=\"color: #800000; text-decoration-color: #800000\">│</span>\n",
       "<span style=\"color: #800000; text-decoration-color: #800000\">│</span>                                                                                                  <span style=\"color: #800000; text-decoration-color: #800000\">│</span>\n",
       "<span style=\"color: #800000; text-decoration-color: #800000\">│</span> <span style=\"color: #800000; text-decoration-color: #800000; font-style: italic\">[Errno 2] No such file or directory: '/tmp/ipykernel_2217528/1443966763.py'</span>                      <span style=\"color: #800000; text-decoration-color: #800000\">│</span>\n",
       "<span style=\"color: #800000; text-decoration-color: #800000\">│</span>                                                                                                  <span style=\"color: #800000; text-decoration-color: #800000\">│</span>\n",
       "<span style=\"color: #800000; text-decoration-color: #800000\">│</span> <span style=\"color: #bfbf7f; text-decoration-color: #bfbf7f\">/rds/bear-apps/2022a/EL8-ice/software/polars/0.17.12-foss-2022a/lib/python3.10/site-packages/pol</span> <span style=\"color: #800000; text-decoration-color: #800000\">│</span>\n",
       "<span style=\"color: #800000; text-decoration-color: #800000\">│</span> <span style=\"color: #bfbf7f; text-decoration-color: #bfbf7f\">ars/dataframe/</span><span style=\"color: #808000; text-decoration-color: #808000; font-weight: bold\">frame.py</span>:<span style=\"color: #0000ff; text-decoration-color: #0000ff\">1612</span> in <span style=\"color: #00ff00; text-decoration-color: #00ff00\">__getitem__</span>                                                       <span style=\"color: #800000; text-decoration-color: #800000\">│</span>\n",
       "<span style=\"color: #800000; text-decoration-color: #800000\">│</span>                                                                                                  <span style=\"color: #800000; text-decoration-color: #800000\">│</span>\n",
       "<span style=\"color: #800000; text-decoration-color: #800000\">│</span>   <span style=\"color: #7f7f7f; text-decoration-color: #7f7f7f\">1609 │   │   # select single column</span>                                                            <span style=\"color: #800000; text-decoration-color: #800000\">│</span>\n",
       "<span style=\"color: #800000; text-decoration-color: #800000\">│</span>   <span style=\"color: #7f7f7f; text-decoration-color: #7f7f7f\">1610 │   │   # df[\"foo\"]</span>                                                                       <span style=\"color: #800000; text-decoration-color: #800000\">│</span>\n",
       "<span style=\"color: #800000; text-decoration-color: #800000\">│</span>   <span style=\"color: #7f7f7f; text-decoration-color: #7f7f7f\">1611 │   │   </span><span style=\"color: #0000ff; text-decoration-color: #0000ff\">if</span> <span style=\"color: #00ffff; text-decoration-color: #00ffff\">isinstance</span>(item, <span style=\"color: #00ffff; text-decoration-color: #00ffff\">str</span>):                                                         <span style=\"color: #800000; text-decoration-color: #800000\">│</span>\n",
       "<span style=\"color: #800000; text-decoration-color: #800000\">│</span> <span style=\"color: #800000; text-decoration-color: #800000\">❱ </span>1612 <span style=\"color: #7f7f7f; text-decoration-color: #7f7f7f\">│   │   │   </span><span style=\"color: #0000ff; text-decoration-color: #0000ff\">return</span> wrap_s(<span style=\"color: #00ffff; text-decoration-color: #00ffff\">self</span>._df.column(item))                                          <span style=\"color: #800000; text-decoration-color: #800000\">│</span>\n",
       "<span style=\"color: #800000; text-decoration-color: #800000\">│</span>   <span style=\"color: #7f7f7f; text-decoration-color: #7f7f7f\">1613 │   │   </span>                                                                                  <span style=\"color: #800000; text-decoration-color: #800000\">│</span>\n",
       "<span style=\"color: #800000; text-decoration-color: #800000\">│</span>   <span style=\"color: #7f7f7f; text-decoration-color: #7f7f7f\">1614 │   │   # df[idx]</span>                                                                         <span style=\"color: #800000; text-decoration-color: #800000\">│</span>\n",
       "<span style=\"color: #800000; text-decoration-color: #800000\">│</span>   <span style=\"color: #7f7f7f; text-decoration-color: #7f7f7f\">1615 │   │   </span><span style=\"color: #0000ff; text-decoration-color: #0000ff\">if</span> <span style=\"color: #00ffff; text-decoration-color: #00ffff\">isinstance</span>(item, <span style=\"color: #00ffff; text-decoration-color: #00ffff\">int</span>):                                                         <span style=\"color: #800000; text-decoration-color: #800000\">│</span>\n",
       "<span style=\"color: #800000; text-decoration-color: #800000\">╰──────────────────────────────────────────────────────────────────────────────────────────────────╯</span>\n",
       "<span style=\"color: #ff0000; text-decoration-color: #ff0000; font-weight: bold\">ColumnNotFoundError: </span>PRACTICE_PATIENT_ID\n",
       "</pre>\n"
      ],
      "text/plain": [
       "\u001b[31m╭─\u001b[0m\u001b[31m──────────────────────────────\u001b[0m\u001b[31m \u001b[0m\u001b[1;31mTraceback \u001b[0m\u001b[1;2;31m(most recent call last)\u001b[0m\u001b[31m \u001b[0m\u001b[31m───────────────────────────────\u001b[0m\u001b[31m─╮\u001b[0m\n",
       "\u001b[31m│\u001b[0m \u001b[2;33m/tmp/ipykernel_2217528/\u001b[0m\u001b[1;33m1443966763.py\u001b[0m:\u001b[94m4\u001b[0m in \u001b[92m<module>\u001b[0m                                               \u001b[31m│\u001b[0m\n",
       "\u001b[31m│\u001b[0m                                                                                                  \u001b[31m│\u001b[0m\n",
       "\u001b[31m│\u001b[0m \u001b[3;31m[Errno 2] No such file or directory: '/tmp/ipykernel_2217528/1443966763.py'\u001b[0m                      \u001b[31m│\u001b[0m\n",
       "\u001b[31m│\u001b[0m                                                                                                  \u001b[31m│\u001b[0m\n",
       "\u001b[31m│\u001b[0m \u001b[2;33m/rds/bear-apps/2022a/EL8-ice/software/polars/0.17.12-foss-2022a/lib/python3.10/site-packages/pol\u001b[0m \u001b[31m│\u001b[0m\n",
       "\u001b[31m│\u001b[0m \u001b[2;33mars/dataframe/\u001b[0m\u001b[1;33mframe.py\u001b[0m:\u001b[94m1612\u001b[0m in \u001b[92m__getitem__\u001b[0m                                                       \u001b[31m│\u001b[0m\n",
       "\u001b[31m│\u001b[0m                                                                                                  \u001b[31m│\u001b[0m\n",
       "\u001b[31m│\u001b[0m   \u001b[2m1609 \u001b[0m\u001b[2m│   │   \u001b[0m\u001b[2m# select single column\u001b[0m                                                            \u001b[31m│\u001b[0m\n",
       "\u001b[31m│\u001b[0m   \u001b[2m1610 \u001b[0m\u001b[2m│   │   \u001b[0m\u001b[2m# df[\"foo\"]\u001b[0m                                                                       \u001b[31m│\u001b[0m\n",
       "\u001b[31m│\u001b[0m   \u001b[2m1611 \u001b[0m\u001b[2m│   │   \u001b[0m\u001b[94mif\u001b[0m \u001b[96misinstance\u001b[0m(item, \u001b[96mstr\u001b[0m):                                                         \u001b[31m│\u001b[0m\n",
       "\u001b[31m│\u001b[0m \u001b[31m❱ \u001b[0m1612 \u001b[2m│   │   │   \u001b[0m\u001b[94mreturn\u001b[0m wrap_s(\u001b[96mself\u001b[0m._df.column(item))                                          \u001b[31m│\u001b[0m\n",
       "\u001b[31m│\u001b[0m   \u001b[2m1613 \u001b[0m\u001b[2m│   │   \u001b[0m                                                                                  \u001b[31m│\u001b[0m\n",
       "\u001b[31m│\u001b[0m   \u001b[2m1614 \u001b[0m\u001b[2m│   │   \u001b[0m\u001b[2m# df[idx]\u001b[0m                                                                         \u001b[31m│\u001b[0m\n",
       "\u001b[31m│\u001b[0m   \u001b[2m1615 \u001b[0m\u001b[2m│   │   \u001b[0m\u001b[94mif\u001b[0m \u001b[96misinstance\u001b[0m(item, \u001b[96mint\u001b[0m):                                                         \u001b[31m│\u001b[0m\n",
       "\u001b[31m╰──────────────────────────────────────────────────────────────────────────────────────────────────╯\u001b[0m\n",
       "\u001b[1;91mColumnNotFoundError: \u001b[0mPRACTICE_PATIENT_ID\n"
      ]
     },
     "metadata": {},
     "output_type": "display_data"
    }
   ],
   "source": [
    "batch = lazy_batch.collect()\n",
    "display(batch)\n",
    "\n",
    "first_identifier = list(batch[\"PRACTICE_PATIENT_ID\"].unique())[0]\n",
    "display(first_identifier)\n",
    "                        \n",
    "row = batch.filter(pl.col(\"PRACTICE_PATIENT_ID\") == first_identifier)\n",
    "display(row)\n",
    "\n",
    "\n",
    "measur = lazy_table_frames_dict[\"lazy_measurement\"].collect()\n",
    "row = measur.filter(pl.col(\"EVENT\") == \"Diastolic_blood_pressure_5\")\n",
    "display(row)"
   ]
  },
  {
   "cell_type": "markdown",
   "id": "7e3d3e96-1989-4933-968c-b5da485b3162",
   "metadata": {},
   "source": [
    "# Demo wrapper\n",
    "\n",
    "All of this is wrapped together (without the option to filter - add your own wrapper specific to you application)"
   ]
  },
  {
   "cell_type": "code",
   "execution_count": null,
   "id": "745248b8-4fbc-43e6-ae4c-c9383fa28bc4",
   "metadata": {},
   "outputs": [],
   "source": [
    "# for _idx, (chunk_name, lazy_table_frames_dict) in enumerate(collector.generator()):\n",
    "#     lazy_batch = collector._collate_lazy_tables(**lazy_table_frames_dict)\n",
    "#     break\n",
    "# print(_idx)\n",
    "# print(lazy_batch.collect())"
   ]
  },
  {
   "cell_type": "code",
   "execution_count": null,
   "id": "7b93b43e-a670-4113-826c-350d500561fc",
   "metadata": {},
   "outputs": [],
   "source": [
    "!jupyter nbconvert --to html --no-input buildV2.ipynb"
   ]
  },
  {
   "cell_type": "code",
   "execution_count": null,
   "id": "6e9f9ec8-e833-4590-81c1-e185c18ba3b4",
   "metadata": {},
   "outputs": [],
   "source": []
  }
 ],
 "metadata": {
  "kernelspec": {
   "display_name": "Python",
   "language": "python",
   "name": "sys_python"
  },
  "language_info": {
   "codemirror_mode": {
    "name": "ipython",
    "version": 3
   },
   "file_extension": ".py",
   "mimetype": "text/x-python",
   "name": "python",
   "nbconvert_exporter": "python",
   "pygments_lexer": "ipython3",
   "version": "3.10.4"
  }
 },
 "nbformat": 4,
 "nbformat_minor": 5
}
