{
 "cells": [
  {
   "cell_type": "code",
   "execution_count": 1,
   "id": "a671c59b-4428-4e63-a138-7244418a87c5",
   "metadata": {},
   "outputs": [
    {
     "name": "stdout",
     "output_type": "stream",
     "text": [
      "Added path '/rds/homes/g/gaddcz/Projects/CPRD/virtual-env-icelake/lib/python3.10/site-packages' at start of search paths.\n",
      "env: SQLITE_TMPDIR=/rds/projects/g/gokhalkm-optimal/DataforCharles\n",
      "env: TMPDIR=/rds/projects/g/gokhalkm-optimal/DataforCharles\n",
      "/rds/projects/g/gokhalkm-optimal/DataforCharles\n",
      "/rds/projects/g/gokhalkm-optimal/DataforCharles\n",
      "\n"
     ]
    }
   ],
   "source": [
    "import os\n",
    "from pathlib import Path\n",
    "import sys\n",
    "node_type = os.getenv('BB_CPU')\n",
    "venv_dir = f'/rds/homes/g/gaddcz/Projects/CPRD/virtual-env-{node_type}'\n",
    "venv_site_pkgs = Path(venv_dir) / 'lib' / f'python{sys.version_info.major}.{sys.version_info.minor}' / 'site-packages'\n",
    "if venv_site_pkgs.exists():\n",
    "    sys.path.insert(0, str(venv_site_pkgs))\n",
    "    print(f\"Added path '{venv_site_pkgs}' at start of search paths.\")\n",
    "else:\n",
    "    print(f\"Path '{venv_site_pkgs}' not found. Check that it exists and/or that it exists for node-type '{node_type}'.\")\n",
    "\n",
    "# Perform sqlite operations on disk\n",
    "%env SQLITE_TMPDIR=/rds/projects/g/gokhalkm-optimal/DataforCharles\n",
    "%env TMPDIR=/rds/projects/g/gokhalkm-optimal/DataforCharles\n",
    "!echo $SQLITE_TMPDIR\n",
    "!echo $TMPDIR\n",
    "!echo $USERPROFILE"
   ]
  },
  {
   "cell_type": "code",
   "execution_count": 7,
   "id": "d866c7f0-eaa8-4129-b3b1-d4d6b504d0a7",
   "metadata": {},
   "outputs": [
    {
     "name": "stdout",
     "output_type": "stream",
     "text": [
      "cuda\n",
      "/rds/homes/g/gaddcz/Projects/CPRD/examples/data\n"
     ]
    }
   ],
   "source": [
    "import pytorch_lightning \n",
    "import torch\n",
    "import numpy as np\n",
    "import matplotlib.pyplot as plt\n",
    "import random\n",
    "import sqlite3\n",
    "from dataclasses import dataclass\n",
    "import logging\n",
    "from CPRD.data.foundational_loader import FoundationalDataModule\n",
    "from CPRD.src.models.TTE.task_heads.causal import TTETransformerForCausalSequenceModelling\n",
    "from tqdm import tqdm\n",
    "import time\n",
    "import os\n",
    "import polars as pl\n",
    "pl.Config.set_tbl_rows(vocab_size + 1)\n",
    "# TODO:\n",
    "# replace experiment boilerplate with pytorch lightning\n",
    "\n",
    "torch.manual_seed(1337)\n",
    "logging.basicConfig(level=logging.INFO)\n",
    "device = 'cuda' if torch.cuda.is_available() else 'cpu'\n",
    "print(device)\n",
    "\n",
    "# device = \"cpu\"    # if more informative debugging statements are needed\n",
    "!pwd"
   ]
  },
  {
   "cell_type": "code",
   "execution_count": 3,
   "id": "63e00688-1426-4046-910c-45bde94db899",
   "metadata": {},
   "outputs": [],
   "source": [
    "# Set config to be equivalent architecture of kaparthy benchmark, however they are not comparable tasks.\n",
    "@dataclass\n",
    "class DemoConfig:\n",
    "    block_size: int = 256        # what is the maximum context length for predictions?\n",
    "    n_layer: int = 6\n",
    "    n_head: int = 6\n",
    "    n_embd: int = 384\n",
    "    bias: bool = True\n",
    "    attention_type: str = \"global\"    \n",
    "    dropout: float = 0.0\n",
    "    unk_freq_threshold: float = 0.0\n",
    "    TTELayer = \"Exponential\"\n",
    "\n",
    "config = DemoConfig()\n",
    "\n",
    "@dataclass\n",
    "class OptConfig:\n",
    "    batch_size: int = 128\n",
    "    eval_interval: int = 1\n",
    "    learning_rate: float = 3e-4\n",
    "    epochs: int = 3\n",
    "    \n",
    "opt = OptConfig()"
   ]
  },
  {
   "cell_type": "code",
   "execution_count": 5,
   "id": "a8e90c2f-04c5-4f31-86f0-4f3800fa9325",
   "metadata": {},
   "outputs": [
    {
     "name": "stderr",
     "output_type": "stream",
     "text": [
      "INFO:root:Loading Polars dataset from /rds/projects/g/gokhalkm-optimal/OPTIMAL_MASTER_DATASET/data/polars/\n",
      "INFO:root:Using tokenizer tabular\n",
      "INFO:root:Tokenzier created based on 3584.43M tokens\n",
      "INFO:root:Creating split=train/ dataset\n",
      "INFO:root:\t Loading split=train/ hash map for parquet\n",
      "INFO:root:\t Hash map created for split=train/ with 22,912,046 samples\n",
      "INFO:root:Creating split=test/ dataset\n",
      "INFO:root:\t Loading split=test/ hash map for parquet\n",
      "INFO:root:\t Hash map created for split=test/ with 1,207,449 samples\n",
      "INFO:root:Creating split=val/ dataset\n",
      "INFO:root:\t Loading split=val/ hash map for parquet\n",
      "INFO:root:\t Hash map created for split=val/ with 1,226,576 samples\n"
     ]
    },
    {
     "name": "stdout",
     "output_type": "stream",
     "text": [
      "184 vocab elements\n"
     ]
    }
   ],
   "source": [
    "# Get a list of patients which fit a reduced set of criterion\n",
    "# path_to_db = \"/rds/projects/g/gokhalkm-optimal/OPTIMAL_MASTER_DATASET/archive/Version2/\"\n",
    "path_to_db = \"/rds/projects/g/gokhalkm-optimal/OPTIMAL_MASTER_DATASET/data/\"\n",
    "\n",
    "# Build \n",
    "dm = FoundationalDataModule(path_to_db=path_to_db,\n",
    "                            load=True,\n",
    "                            tokenizer=\"tabular\",\n",
    "                            batch_size=opt.batch_size,\n",
    "                            max_seq_length=config.block_size,\n",
    "                            unk_freq_threshold=config.unk_freq_threshold,\n",
    "                            min_workers=20,\n",
    "                           )\n",
    "\n",
    "vocab_size = dm.train_set.tokenizer.vocab_size\n",
    "print(f\"{vocab_size} vocab elements\")"
   ]
  },
  {
   "cell_type": "code",
   "execution_count": 6,
   "id": "16aa22fa-ef08-485f-a948-c4ff8b3aade5",
   "metadata": {},
   "outputs": [
    {
     "name": "stdout",
     "output_type": "stream",
     "text": [
      "Time to retrieve sample index 1 was 0.1088871955871582 seconds\n",
      "\n",
      "SEX                 | F\n",
      "IMD                 | 4.0\n",
      "ETHNICITY           | WHITE\n",
      "birth_year          | 1997.0\n",
      "\n",
      "Token                                                                      | Age               | Standardised value\n",
      "===================================================================================================================\n",
      "O_E___height_1                                                             | 6639              | -0.03             \n",
      "O_E___weight_2                                                             | 6639              | 0.19              \n",
      "Systolic_blood_pressure_4                                                  | 6639              | -0.03             \n",
      "Diastolic_blood_pressure_5                                                 | 6665              | 0.18              \n",
      "Systolic_blood_pressure_4                                                  | 6665              | -0.03             \n",
      "Body_mass_index_3                                                          | 7031              | 0.26              \n",
      "Diastolic_blood_pressure_5                                                 | 7031              | -0.04             \n",
      "O_E___height_1                                                             | 7031              | -0.03             \n",
      "O_E___weight_2                                                             | 7031              | 0.20              \n",
      "Systolic_blood_pressure_4                                                  | 7031              | -0.13             \n",
      "Basophil_count_22                                                          | 7052              | 0.10              \n",
      "Eosinophil_count_21                                                        | 7052              | -0.15             \n"
     ]
    }
   ],
   "source": [
    "dm.train_set.view_sample(1, max_dynamic_events=12, report_time=True)"
   ]
  },
  {
   "cell_type": "code",
   "execution_count": 8,
   "id": "2681e735-82e8-486d-a2a4-8d7c8176098f",
   "metadata": {},
   "outputs": [
    {
     "name": "stdout",
     "output_type": "stream",
     "text": [
      "shape: (183, 3)\n",
      "┌───────────────────────────────────┬───────────┬───────────┐\n",
      "│ EVENT                             ┆ COUNT     ┆ FREQUENCY │\n",
      "│ ---                               ┆ ---       ┆ ---       │\n",
      "│ str                               ┆ u32       ┆ f64       │\n",
      "╞═══════════════════════════════════╪═══════════╪═══════════╡\n",
      "│ UNK                               ┆ 0         ┆ 0.0       │\n",
      "│ ADDISONS_DISEASE                  ┆ 6691      ┆ 0.000002  │\n",
      "│ CYSTICFIBROSIS                    ┆ 7053      ┆ 0.000002  │\n",
      "│ SYSTEMIC_SCLEROSIS                ┆ 8772      ┆ 0.000002  │\n",
      "│ SICKLE_CELL_DISEASE_V2            ┆ 11159     ┆ 0.000003  │\n",
      "│ ADDISON_DISEASE                   ┆ 11794     ┆ 0.000003  │\n",
      "│ DOWNSSYNDROME                     ┆ 17006     ┆ 0.000005  │\n",
      "│ HAEMOCHROMATOSIS_V2               ┆ 18631     ┆ 0.000005  │\n",
      "│ PLASMACELL_NEOPLASM_V2            ┆ 20301     ┆ 0.000006  │\n",
      "│ SJOGRENSSYNDROME                  ┆ 23326     ┆ 0.000007  │\n",
      "│ SYSTEMIC_LUPUS_ERYTHEMATOSUS      ┆ 26820     ┆ 0.000007  │\n",
      "│ HIVAIDS                           ┆ 41951     ┆ 0.000012  │\n",
      "│ PSORIATICARTHRITIS2021            ┆ 51273     ┆ 0.000014  │\n",
      "│ MS                                ┆ 53204     ┆ 0.000015  │\n",
      "│ Plasma_N_terminal_pro_B_type_nat… ┆ 53534     ┆ 0.000015  │\n",
      "│ LEUKAEMIA_PREVALENCEV2            ┆ 54438     ┆ 0.000015  │\n",
      "│ N_terminal_pro_brain_natriuretic… ┆ 57470     ┆ 0.000016  │\n",
      "│ ILD_SH                            ┆ 58104     ┆ 0.000016  │\n",
      "│ CHRONIC_LIVER_DISEASE_ALCOHOL     ┆ 63405     ┆ 0.000018  │\n",
      "│ PERNICIOUSANAEMIA                 ┆ 73331     ┆ 0.00002   │\n",
      "│ MENIERESDISEASE                   ┆ 73688     ┆ 0.000021  │\n",
      "│ LYMPHOMA_PREVALENCE_V2            ┆ 80511     ┆ 0.000022  │\n",
      "│ CROHNS_DISEASE                    ┆ 81250     ┆ 0.000023  │\n",
      "│ Plasma_B_natriuretic_peptide_lev… ┆ 82488     ┆ 0.000023  │\n",
      "│ CHRONICFATIGUESYNDROMEMM_V2       ┆ 82799     ┆ 0.000023  │\n",
      "│ Plasma_pro_brain_natriuretic_pep… ┆ 83343     ┆ 0.000023  │\n",
      "│ STROKE_HAEMRGIC                   ┆ 83609     ┆ 0.000023  │\n",
      "│ PARKINSONS                        ┆ 91718     ┆ 0.000026  │\n",
      "│ AORTICANEURYSM_V2                 ┆ 101134    ┆ 0.000028  │\n",
      "│ BIPOLAR                           ┆ 108852    ┆ 0.00003   │\n",
      "│ BRONCHIECTASIS                    ┆ 112618    ┆ 0.000031  │\n",
      "│ ULCERATIVE_COLITIS                ┆ 120361    ┆ 0.000034  │\n",
      "│ SCHIZOPHRENIAMM_V2                ┆ 125141    ┆ 0.000035  │\n",
      "│ PTSDDIAGNOSIS                     ┆ 126269    ┆ 0.000035  │\n",
      "│ TYPE1DM                           ┆ 145143    ┆ 0.00004   │\n",
      "│ FIBROMYALGIA                      ┆ 153213    ┆ 0.000043  │\n",
      "│ VISUAL_IMPAIRMENT                 ┆ 155707    ┆ 0.000043  │\n",
      "│ AUTISM                            ┆ 156860    ┆ 0.000044  │\n",
      "│ NAFLD_V2                          ┆ 158688    ┆ 0.000044  │\n",
      "│ ISCHAEMICSTROKE_V2                ┆ 178437    ┆ 0.00005   │\n",
      "│ Albumin___creatinine_ratio_37     ┆ 180911    ┆ 0.00005   │\n",
      "│ PVD_V3                            ┆ 185904    ┆ 0.000052  │\n",
      "│ EATINGDISORDERS                   ┆ 191873    ┆ 0.000054  │\n",
      "│ PMRANDGCA                         ┆ 195907    ┆ 0.000055  │\n",
      "│ RHEUMATOIDARTHRITIS               ┆ 197253    ┆ 0.000055  │\n",
      "│ Urine_microalbumin_creatinine_ra… ┆ 201318    ┆ 0.000056  │\n",
      "│ ENDOMETRIOSIS_ADENOMYOSIS_V2      ┆ 209157    ┆ 0.000058  │\n",
      "│ HYPERTHYROIDISM_V2                ┆ 217964    ┆ 0.000061  │\n",
      "│ Plasma_ferritin_level_62          ┆ 220380    ┆ 0.000061  │\n",
      "│ Brain_natriuretic_peptide_level_… ┆ 229202    ┆ 0.000064  │\n",
      "│ OSA                               ┆ 234938    ┆ 0.000066  │\n",
      "│ Serum_pro_brain_natriuretic_pept… ┆ 243565    ┆ 0.000068  │\n",
      "│ Serum_vitamin_D2_level_89         ┆ 249092    ┆ 0.000069  │\n",
      "│ PAD_STRICT                        ┆ 254632    ┆ 0.000071  │\n",
      "│ OTHER_CHRONIC_LIVER_DISEASE_OPTI… ┆ 289252    ┆ 0.000081  │\n",
      "│ POLYCYSTIC_OVARIAN_SYNDROME_PCOS… ┆ 332297    ┆ 0.000093  │\n",
      "│ Total_25_hydroxyvitamin_D_level_… ┆ 333324    ┆ 0.000093  │\n",
      "│ EPILEPSY                          ┆ 377341    ┆ 0.000105  │\n",
      "│ Serum_N_terminal_pro_B_type_natr… ┆ 383790    ┆ 0.000107  │\n",
      "│ VALVULARDISEASES_V2               ┆ 401061    ┆ 0.000112  │\n",
      "│ Blood_calcium_level_38            ┆ 415717    ┆ 0.000116  │\n",
      "│ INR___international_normalised_r… ┆ 426165    ┆ 0.000119  │\n",
      "│ STROKEUNSPECIFIED_V2              ┆ 446046    ┆ 0.000124  │\n",
      "│ Combined_total_vitamin_D2_and_D3… ┆ 452984    ┆ 0.000126  │\n",
      "│ MINFARCTION                       ┆ 477556    ┆ 0.000133  │\n",
      "│ SUBSTANCEMISUSE                   ┆ 502552    ┆ 0.00014   │\n",
      "│ TSH_level_74                      ┆ 507085    ┆ 0.000141  │\n",
      "│ Serum_T4_level_78                 ┆ 524777    ┆ 0.000146  │\n",
      "│ HF_V3                             ┆ 524982    ┆ 0.000146  │\n",
      "│ ALL_DEMENTIA                      ┆ 528602    ┆ 0.000147  │\n",
      "│ Plasma_cholesterol_HDL_ratio_96   ┆ 587483    ┆ 0.000164  │\n",
      "│ OSTEOPOROSIS                      ┆ 628118    ┆ 0.000175  │\n",
      "│ GOUT                              ┆ 632089    ┆ 0.000176  │\n",
      "│ Plasma_free_T4_level_77           ┆ 724108    ┆ 0.000202  │\n",
      "│ AF                                ┆ 731332    ┆ 0.000204  │\n",
      "│ PSORIASIS                         ┆ 743897    ┆ 0.000208  │\n",
      "│ COPD                              ┆ 751320    ┆ 0.00021   │\n",
      "│ 25_Hydroxyvitamin_D2_level_92     ┆ 782791    ┆ 0.000218  │\n",
      "│ Blood_urea_28                     ┆ 785766    ┆ 0.000219  │\n",
      "│ 25_Hydroxyvitamin_D3_level_90     ┆ 809104    ┆ 0.000226  │\n",
      "│ PERIPHERAL_NEUROPATHY             ┆ 840638    ┆ 0.000235  │\n",
      "│ HYPOTHYROIDISM_DRAFT_V1           ┆ 932079    ┆ 0.00026   │\n",
      "│ CKDSTAGE3TO5                      ┆ 1088754   ┆ 0.000304  │\n",
      "│ ALCOHOLMISUSE_V2                  ┆ 1125212   ┆ 0.000314  │\n",
      "│ IHDINCLUDINGMI_OPTIMALV2          ┆ 1162843   ┆ 0.000324  │\n",
      "│ Plasma_corrected_calcium_level_4… ┆ 1168224   ┆ 0.000326  │\n",
      "│ PREVALENT_IBS_V2                  ┆ 1210229   ┆ 0.000338  │\n",
      "│ Serum_25_Hydroxy_vitamin_D3_leve… ┆ 1211141   ┆ 0.000338  │\n",
      "│ Plasma_calcium_level_40           ┆ 1294409   ┆ 0.000361  │\n",
      "│ TYPE2DIABETES                     ┆ 1404325   ┆ 0.000392  │\n",
      "│ Free_T4_level_76                  ┆ 1405341   ┆ 0.000392  │\n",
      "│ Plasma_LDL_cholesterol_level_104  ┆ 1434461   ┆ 0.0004    │\n",
      "│ Calcium_adjusted_level_41         ┆ 1464226   ┆ 0.000408  │\n",
      "│ ALLCANCER_NOHAEM_NOBCC            ┆ 1496973   ┆ 0.000418  │\n",
      "│ Plasma_triglyceride_level_106     ┆ 1573268   ┆ 0.000439  │\n",
      "│ DEATH                             ┆ 1629100   ┆ 0.000454  │\n",
      "│ AST___aspartate_transam_SGOT__46  ┆ 1738489   ┆ 0.000485  │\n",
      "│ Plasma_gamma_glutamyl_transferas… ┆ 1762750   ┆ 0.000492  │\n",
      "│ Plasma_urea_level_30              ┆ 1991274   ┆ 0.000556  │\n",
      "│ Plasma_TSH_level_73               ┆ 2049380   ┆ 0.000572  │\n",
      "│ Plasma_HDL_cholesterol_level_101  ┆ 2173456   ┆ 0.000606  │\n",
      "│ Serum_total_25_hydroxy_vitamin_D… ┆ 2178432   ┆ 0.000608  │\n",
      "│ Total_bilirubin_55                ┆ 2193031   ┆ 0.000612  │\n",
      "│ ANY_DEAFNESS_HEARING_LOSS_V2      ┆ 2282766   ┆ 0.000637  │\n",
      "│ Plasma_total_cholesterol_level_9… ┆ 2331589   ┆ 0.00065   │\n",
      "│ Non_HDL_cholesterol_level_108     ┆ 2408310   ┆ 0.000672  │\n",
      "│ Serum_vitamin_D_86                ┆ 2478806   ┆ 0.000692  │\n",
      "│ OSTEOARTHRITIS                    ┆ 2653242   ┆ 0.00074   │\n",
      "│ Plasma_alkaline_phosphatase_leve… ┆ 3290802   ┆ 0.000918  │\n",
      "│ ALLERGICRHINITISCONJ              ┆ 3291165   ┆ 0.000918  │\n",
      "│ Plasma_total_bilirubin_level_54   ┆ 3443114   ┆ 0.000961  │\n",
      "│ ANXIETY                           ┆ 3560978   ┆ 0.000993  │\n",
      "│ TSH___thyroid_stim_hormone_72     ┆ 3568579   ┆ 0.000996  │\n",
      "│ Plasma_albumin_level_52           ┆ 3719377   ┆ 0.001038  │\n",
      "│ HYPERTENSION                      ┆ 3934473   ┆ 0.001098  │\n",
      "│ Plasma_alanine_aminotransferase_… ┆ 4012790   ┆ 0.00112   │\n",
      "│ DEPRESSION                        ┆ 4109336   ┆ 0.001146  │\n",
      "│ ASTHMA_PUSHASTHMA                 ┆ 4175115   ┆ 0.001165  │\n",
      "│ Haematocrit___PCV_16              ┆ 4346108   ┆ 0.001212  │\n",
      "│ ATOPICECZEMA                      ┆ 4369082   ┆ 0.001219  │\n",
      "│ Plasma_potassium_level_27         ┆ 4445152   ┆ 0.00124   │\n",
      "│ Plasma_sodium_level_25            ┆ 4458632   ┆ 0.001244  │\n",
      "│ Plasma_creatinine_level_32        ┆ 4513054   ┆ 0.001259  │\n",
      "│ Serum_total_cholesterol_level_98  ┆ 5185017   ┆ 0.001447  │\n",
      "│ Total_alkaline_phosphatase_48     ┆ 6461505   ┆ 0.001803  │\n",
      "│ Haemoglobin_A1c_level_8           ┆ 6516701   ┆ 0.001818  │\n",
      "│ Calculated_LDL_cholesterol_level… ┆ 6967780   ┆ 0.001944  │\n",
      "│ Plasma_C_reactive_protein_60      ┆ 9155551   ┆ 0.002554  │\n",
      "│ Current_smoker_83                 ┆ 10592787  ┆ 0.002955  │\n",
      "│ Serum_non_high_density_lipoprote… ┆ 10648096  ┆ 0.002971  │\n",
      "│ AST_serum_level_47                ┆ 10837982  ┆ 0.003024  │\n",
      "│ eGFR_using_creatinine_CKD_EPI_pe… ┆ 12869245  ┆ 0.00359   │\n",
      "│ Serum_folate_80                   ┆ 14643748  ┆ 0.004085  │\n",
      "│ HbA1c_level__DCCT_aligned__7      ┆ 14948615  ┆ 0.00417   │\n",
      "│ Urine_albumin_creatinine_ratio_3… ┆ 15107807  ┆ 0.004215  │\n",
      "│ Total_cholesterol_HDL_ratio_95    ┆ 15760772  ┆ 0.004397  │\n",
      "│ Corrected_serum_calcium_level_42  ┆ 16683796  ┆ 0.004655  │\n",
      "│ Serum_vitamin_B12_79              ┆ 16797696  ┆ 0.004686  │\n",
      "│ Serum_C_reactive_protein_level_5… ┆ 19234068  ┆ 0.005366  │\n",
      "│ Serum_ferritin_63                 ┆ 21412371  ┆ 0.005974  │\n",
      "│ Serum_free_T4_level_75            ┆ 22579062  ┆ 0.006299  │\n",
      "│ Serum_gamma_glutamyl_transferase… ┆ 22592131  ┆ 0.006303  │\n",
      "│ Serum_bilirubin_level_53          ┆ 24090337  ┆ 0.006721  │\n",
      "│ Ex_smoker_84                      ┆ 24891632  ┆ 0.006944  │\n",
      "│ International_normalised_ratio_8… ┆ 27966697  ┆ 0.007802  │\n",
      "│ Serum_calcium_39                  ┆ 28049902  ┆ 0.007825  │\n",
      "│ Serum_cholesterol_HDL_ratio_94    ┆ 28586515  ┆ 0.007975  │\n",
      "│ Erythrocyte_sedimentation_rate_6… ┆ 29892785  ┆ 0.00834   │\n",
      "│ Serum_LDL_cholesterol_level_102   ┆ 30073152  ┆ 0.00839   │\n",
      "│ Haemoglobin_A1c_level___IFCC_sta… ┆ 35091904  ┆ 0.00979   │\n",
      "│ Serum_triglycerides_105           ┆ 42415036  ┆ 0.011833  │\n",
      "│ Serum_alanine_aminotransferase_l… ┆ 46896239  ┆ 0.013083  │\n",
      "│ Red_blood_cell_distribution_widt… ┆ 49751137  ┆ 0.01388   │\n",
      "│ Serum_HDL_cholesterol_level_100   ┆ 50953183  ┆ 0.014215  │\n",
      "│ Serum_total_bilirubin_level_56    ┆ 54098383  ┆ 0.015093  │\n",
      "│ Serum_TSH_level_71                ┆ 55655662  ┆ 0.015527  │\n",
      "│ Serum_cholesterol_97              ┆ 57393841  ┆ 0.016012  │\n",
      "│ Never_smoked_tobacco_85           ┆ 60751822  ┆ 0.016949  │\n",
      "│ O_E___height_1                    ┆ 69089436  ┆ 0.019275  │\n",
      "│ Mean_corpusc_Hb_conc__MCHC__14    ┆ 70867102  ┆ 0.019771  │\n",
      "│ GFR_calculated_abbreviated_MDRD_… ┆ 73709249  ┆ 0.020564  │\n",
      "│ Serum_alkaline_phosphatase_50     ┆ 76052242  ┆ 0.021217  │\n",
      "│ Haematocrit_15                    ┆ 76582325  ┆ 0.021365  │\n",
      "│ Serum_urea_level_29               ┆ 78670253  ┆ 0.021948  │\n",
      "│ Serum_albumin_51                  ┆ 83105055  ┆ 0.023185  │\n",
      "│ Basophil_count_22                 ┆ 86869779  ┆ 0.024235  │\n",
      "│ Mean_corpusc_haemoglobin_MCH__13  ┆ 90498376  ┆ 0.025248  │\n",
      "│ Eosinophil_count_21               ┆ 92193433  ┆ 0.025721  │\n",
      "│ Red_blood_cell__RBC__count_10     ┆ 92326200  ┆ 0.025758  │\n",
      "│ Monocyte_count_23                 ┆ 92489278  ┆ 0.025803  │\n",
      "│ Lymphocyte_count_20               ┆ 92896401  ┆ 0.025917  │\n",
      "│ Neutrophil_count_19               ┆ 93489124  ┆ 0.026082  │\n",
      "│ Mean_corpuscular_volume__MCV__11  ┆ 94723195  ┆ 0.026426  │\n",
      "│ Total_white_cell_count_18         ┆ 94827537  ┆ 0.026455  │\n",
      "│ Platelet_count_12                 ┆ 95904116  ┆ 0.026756  │\n",
      "│ Haemoglobin_estimation_9          ┆ 97391693  ┆ 0.027171  │\n",
      "│ Serum_potassium_26                ┆ 99036754  ┆ 0.02763   │\n",
      "│ Serum_sodium_24                   ┆ 99409745  ┆ 0.027734  │\n",
      "│ Body_mass_index_3                 ┆ 99868822  ┆ 0.027862  │\n",
      "│ Serum_creatinine_31               ┆ 102915170 ┆ 0.028712  │\n",
      "│ O_E___weight_2                    ┆ 117401338 ┆ 0.032753  │\n",
      "│ Diastolic_blood_pressure_5        ┆ 241026671 ┆ 0.067243  │\n",
      "│ Systolic_blood_pressure_4         ┆ 241541988 ┆ 0.067386  │\n",
      "└───────────────────────────────────┴───────────┴───────────┘\n"
     ]
    }
   ],
   "source": [
    "print(dm.tokenizer._event_counts)"
   ]
  },
  {
   "cell_type": "code",
   "execution_count": 9,
   "id": "c9b9f587-96aa-4d96-877d-a8f95b762f7e",
   "metadata": {},
   "outputs": [
    {
     "data": {
      "text/plain": [
       "-4.646246225231446"
      ]
     },
     "metadata": {},
     "output_type": "display_data"
    },
    {
     "data": {
      "text/plain": [
       "-36.374906271016215"
      ]
     },
     "metadata": {},
     "output_type": "display_data"
    },
    {
     "data": {
      "text/plain": [
       "3.4171338038240116"
      ]
     },
     "metadata": {},
     "output_type": "display_data"
    },
    {
     "data": {
      "text/plain": [
       "4.558863141370336"
      ]
     },
     "metadata": {},
     "output_type": "display_data"
    },
    {
     "data": {
      "text/plain": [
       "-4.327567643517323"
      ]
     },
     "metadata": {},
     "output_type": "display_data"
    },
    {
     "data": {
      "text/plain": [
       "-0.09380115366794299"
      ]
     },
     "metadata": {},
     "output_type": "display_data"
    },
    {
     "data": {
      "text/plain": [
       "2.025401527575622"
      ]
     },
     "metadata": {},
     "output_type": "display_data"
    },
    {
     "data": {
      "text/plain": [
       "0.23197832603292756"
      ]
     },
     "metadata": {},
     "output_type": "display_data"
    },
    {
     "data": {
      "text/plain": [
       "10.46932224355399"
      ]
     },
     "metadata": {},
     "output_type": "display_data"
    },
    {
     "data": {
      "text/plain": [
       "-245.08594949475705"
      ]
     },
     "metadata": {},
     "output_type": "display_data"
    },
    {
     "data": {
      "text/plain": [
       "2.0852967482708866"
      ]
     },
     "metadata": {},
     "output_type": "display_data"
    },
    {
     "data": {
      "text/plain": [
       "0.1803616361823952"
      ]
     },
     "metadata": {},
     "output_type": "display_data"
    },
    {
     "data": {
      "text/plain": [
       "-33.97440418922238"
      ]
     },
     "metadata": {},
     "output_type": "display_data"
    },
    {
     "data": {
      "text/plain": [
       "2.049077139786654"
      ]
     },
     "metadata": {},
     "output_type": "display_data"
    },
    {
     "data": {
      "text/plain": [
       "-11.221780004827133"
      ]
     },
     "metadata": {},
     "output_type": "display_data"
    },
    {
     "data": {
      "text/plain": [
       "48.77673642066362"
      ]
     },
     "metadata": {},
     "output_type": "display_data"
    },
    {
     "data": {
      "text/plain": [
       "-0.18513714481306787"
      ]
     },
     "metadata": {},
     "output_type": "display_data"
    },
    {
     "data": {
      "text/plain": [
       "-21.913521168501823"
      ]
     },
     "metadata": {},
     "output_type": "display_data"
    },
    {
     "data": {
      "text/plain": [
       "-2956.165860047326"
      ]
     },
     "metadata": {},
     "output_type": "display_data"
    },
    {
     "data": {
      "text/plain": [
       "5.337434618821507"
      ]
     },
     "metadata": {},
     "output_type": "display_data"
    },
    {
     "data": {
      "text/plain": [
       "25.888325065998195"
      ]
     },
     "metadata": {},
     "output_type": "display_data"
    },
    {
     "data": {
      "text/plain": [
       "0.27568323624704905"
      ]
     },
     "metadata": {},
     "output_type": "display_data"
    },
    {
     "data": {
      "text/plain": [
       "0.29179201759677853"
      ]
     },
     "metadata": {},
     "output_type": "display_data"
    },
    {
     "data": {
      "text/plain": [
       "13.031608961134598"
      ]
     },
     "metadata": {},
     "output_type": "display_data"
    },
    {
     "data": {
      "text/plain": [
       "2.9676883416277944"
      ]
     },
     "metadata": {},
     "output_type": "display_data"
    },
    {
     "data": {
      "text/plain": [
       "96.39517387655162"
      ]
     },
     "metadata": {},
     "output_type": "display_data"
    },
    {
     "data": {
      "text/plain": [
       "3.0213707473470905"
      ]
     },
     "metadata": {},
     "output_type": "display_data"
    },
    {
     "data": {
      "text/plain": [
       "0.6897185519972915"
      ]
     },
     "metadata": {},
     "output_type": "display_data"
    },
    {
     "data": {
      "text/plain": [
       "0.42469387969626915"
      ]
     },
     "metadata": {},
     "output_type": "display_data"
    },
    {
     "data": {
      "text/plain": [
       "0.10592671915519225"
      ]
     },
     "metadata": {},
     "output_type": "display_data"
    },
    {
     "data": {
      "text/plain": [
       "266.316085693917"
      ]
     },
     "metadata": {},
     "output_type": "display_data"
    },
    {
     "data": {
      "text/plain": [
       "24.96548937304727"
      ]
     },
     "metadata": {},
     "output_type": "display_data"
    },
    {
     "data": {
      "text/plain": [
       "74.5955180673202"
      ]
     },
     "metadata": {},
     "output_type": "display_data"
    },
    {
     "data": {
      "text/plain": [
       "-0.015579047822844971"
      ]
     },
     "metadata": {},
     "output_type": "display_data"
    },
    {
     "data": {
      "text/plain": [
       "-608.8215624025"
      ]
     },
     "metadata": {},
     "output_type": "display_data"
    },
    {
     "data": {
      "text/plain": [
       "-0.08415847981411151"
      ]
     },
     "metadata": {},
     "output_type": "display_data"
    },
    {
     "data": {
      "text/plain": [
       "-1101.1510071503315"
      ]
     },
     "metadata": {},
     "output_type": "display_data"
    },
    {
     "data": {
      "text/plain": [
       "0.44082834066354026"
      ]
     },
     "metadata": {},
     "output_type": "display_data"
    },
    {
     "data": {
      "text/plain": [
       "131.9086062119922"
      ]
     },
     "metadata": {},
     "output_type": "display_data"
    },
    {
     "data": {
      "text/plain": [
       "17.514388056157323"
      ]
     },
     "metadata": {},
     "output_type": "display_data"
    },
    {
     "data": {
      "text/plain": [
       "-178.95179427526466"
      ]
     },
     "metadata": {},
     "output_type": "display_data"
    },
    {
     "data": {
      "text/plain": [
       "-11.241276526203777"
      ]
     },
     "metadata": {},
     "output_type": "display_data"
    },
    {
     "data": {
      "text/plain": [
       "0.3410042161093746"
      ]
     },
     "metadata": {},
     "output_type": "display_data"
    },
    {
     "data": {
      "text/plain": [
       "-0.07071026791180035"
      ]
     },
     "metadata": {},
     "output_type": "display_data"
    },
    {
     "data": {
      "text/plain": [
       "-634.2811525461449"
      ]
     },
     "metadata": {},
     "output_type": "display_data"
    },
    {
     "data": {
      "text/plain": [
       "-1.3435911355534242"
      ]
     },
     "metadata": {},
     "output_type": "display_data"
    },
    {
     "data": {
      "text/plain": [
       "-6.462308605404846"
      ]
     },
     "metadata": {},
     "output_type": "display_data"
    },
    {
     "data": {
      "text/plain": [
       "31.29299777566158"
      ]
     },
     "metadata": {},
     "output_type": "display_data"
    },
    {
     "data": {
      "text/plain": [
       "-59.841460829377425"
      ]
     },
     "metadata": {},
     "output_type": "display_data"
    },
    {
     "data": {
      "text/plain": [
       "2.066499658254852"
      ]
     },
     "metadata": {},
     "output_type": "display_data"
    },
    {
     "data": {
      "text/plain": [
       "0.611548432375844"
      ]
     },
     "metadata": {},
     "output_type": "display_data"
    },
    {
     "data": {
      "text/plain": [
       "2.0704853785268815"
      ]
     },
     "metadata": {},
     "output_type": "display_data"
    },
    {
     "data": {
      "text/plain": [
       "29.78406994771627"
      ]
     },
     "metadata": {},
     "output_type": "display_data"
    },
    {
     "data": {
      "text/plain": [
       "-90.0527323030709"
      ]
     },
     "metadata": {},
     "output_type": "display_data"
    },
    {
     "data": {
      "text/plain": [
       "3.87030918674629"
      ]
     },
     "metadata": {},
     "output_type": "display_data"
    },
    {
     "data": {
      "text/plain": [
       "-26.335877811704524"
      ]
     },
     "metadata": {},
     "output_type": "display_data"
    },
    {
     "data": {
      "text/plain": [
       "2.9021453944583095"
      ]
     },
     "metadata": {},
     "output_type": "display_data"
    },
    {
     "data": {
      "text/plain": [
       "-347.07341172914676"
      ]
     },
     "metadata": {},
     "output_type": "display_data"
    },
    {
     "data": {
      "text/plain": [
       "132.4522144388257"
      ]
     },
     "metadata": {},
     "output_type": "display_data"
    },
    {
     "data": {
      "text/plain": [
       "-0.9687525953043634"
      ]
     },
     "metadata": {},
     "output_type": "display_data"
    },
    {
     "data": {
      "text/plain": [
       "1.638190669798231"
      ]
     },
     "metadata": {},
     "output_type": "display_data"
    },
    {
     "data": {
      "text/plain": [
       "-0.4748875165692883"
      ]
     },
     "metadata": {},
     "output_type": "display_data"
    },
    {
     "data": {
      "text/plain": [
       "0.42659851815511507"
      ]
     },
     "metadata": {},
     "output_type": "display_data"
    },
    {
     "data": {
      "text/plain": [
       "75.53188401700393"
      ]
     },
     "metadata": {},
     "output_type": "display_data"
    },
    {
     "data": {
      "text/plain": [
       "3.2771862521066706"
      ]
     },
     "metadata": {},
     "output_type": "display_data"
    },
    {
     "data": {
      "text/plain": [
       "10.41179363867223"
      ]
     },
     "metadata": {},
     "output_type": "display_data"
    },
    {
     "data": {
      "text/plain": [
       "-34.65095292326544"
      ]
     },
     "metadata": {},
     "output_type": "display_data"
    },
    {
     "data": {
      "text/plain": [
       "-7.819155475746674"
      ]
     },
     "metadata": {},
     "output_type": "display_data"
    },
    {
     "data": {
      "text/plain": [
       "0.3326011632094429"
      ]
     },
     "metadata": {},
     "output_type": "display_data"
    },
    {
     "data": {
      "text/plain": [
       "-0.011790829546063808"
      ]
     },
     "metadata": {},
     "output_type": "display_data"
    },
    {
     "data": {
      "text/plain": [
       "-615.9263350979847"
      ]
     },
     "metadata": {},
     "output_type": "display_data"
    },
    {
     "data": {
      "text/plain": [
       "-117.61110071295766"
      ]
     },
     "metadata": {},
     "output_type": "display_data"
    },
    {
     "data": {
      "text/plain": [
       "-1.1587890715552331"
      ]
     },
     "metadata": {},
     "output_type": "display_data"
    },
    {
     "data": {
      "text/plain": [
       "-4.416892478441605"
      ]
     },
     "metadata": {},
     "output_type": "display_data"
    },
    {
     "data": {
      "text/plain": [
       "30.61276663933536"
      ]
     },
     "metadata": {},
     "output_type": "display_data"
    },
    {
     "data": {
      "text/plain": [
       "13.084213334528137"
      ]
     },
     "metadata": {},
     "output_type": "display_data"
    },
    {
     "data": {
      "text/plain": [
       "-1.7519816723332982"
      ]
     },
     "metadata": {},
     "output_type": "display_data"
    },
    {
     "data": {
      "text/plain": [
       "2.0583367066129465"
      ]
     },
     "metadata": {},
     "output_type": "display_data"
    },
    {
     "data": {
      "text/plain": [
       "1.748473038434375"
      ]
     },
     "metadata": {},
     "output_type": "display_data"
    },
    {
     "data": {
      "text/plain": [
       "0.6425251680749247"
      ]
     },
     "metadata": {},
     "output_type": "display_data"
    },
    {
     "data": {
      "text/plain": [
       "23.4382982516102"
      ]
     },
     "metadata": {},
     "output_type": "display_data"
    },
    {
     "data": {
      "text/plain": [
       "-112.64091914730389"
      ]
     },
     "metadata": {},
     "output_type": "display_data"
    },
    {
     "data": {
      "text/plain": [
       "-4.5791376368802"
      ]
     },
     "metadata": {},
     "output_type": "display_data"
    },
    {
     "data": {
      "text/plain": [
       "4.277940480826725"
      ]
     },
     "metadata": {},
     "output_type": "display_data"
    },
    {
     "data": {
      "text/plain": [
       "-29.040429250235967"
      ]
     },
     "metadata": {},
     "output_type": "display_data"
    },
    {
     "data": {
      "text/plain": [
       "0.15515852397669994"
      ]
     },
     "metadata": {},
     "output_type": "display_data"
    },
    {
     "data": {
      "text/plain": [
       "3.1318756077076455"
      ]
     },
     "metadata": {},
     "output_type": "display_data"
    },
    {
     "data": {
      "text/plain": [
       "-500.2572283308142"
      ]
     },
     "metadata": {},
     "output_type": "display_data"
    },
    {
     "data": {
      "text/plain": [
       "132.03160863389553"
      ]
     },
     "metadata": {},
     "output_type": "display_data"
    },
    {
     "data": {
      "text/plain": [
       "-19.637593973229656"
      ]
     },
     "metadata": {},
     "output_type": "display_data"
    },
    {
     "data": {
      "text/plain": [
       "-0.9080738144377101"
      ]
     },
     "metadata": {},
     "output_type": "display_data"
    },
    {
     "data": {
      "text/plain": [
       "1.6670643034994281"
      ]
     },
     "metadata": {},
     "output_type": "display_data"
    },
    {
     "data": {
      "text/plain": [
       "-0.5305374511083958"
      ]
     },
     "metadata": {},
     "output_type": "display_data"
    },
    {
     "data": {
      "text/plain": [
       "0.4114468717090314"
      ]
     },
     "metadata": {},
     "output_type": "display_data"
    },
    {
     "data": {
      "text/plain": [
       "-93.14980914107466"
      ]
     },
     "metadata": {},
     "output_type": "display_data"
    },
    {
     "data": {
      "text/plain": [
       "-7.7969674401202775"
      ]
     },
     "metadata": {},
     "output_type": "display_data"
    },
    {
     "data": {
      "text/plain": [
       "-30.18561580872797"
      ]
     },
     "metadata": {},
     "output_type": "display_data"
    },
    {
     "data": {
      "text/plain": [
       "82.36669364711412"
      ]
     },
     "metadata": {},
     "output_type": "display_data"
    },
    {
     "data": {
      "text/plain": [
       "-1.5387806929769965"
      ]
     },
     "metadata": {},
     "output_type": "display_data"
    },
    {
     "data": {
      "text/plain": [
       "-1.9622082579070372"
      ]
     },
     "metadata": {},
     "output_type": "display_data"
    },
    {
     "data": {
      "text/plain": [
       "-27.585735519352404"
      ]
     },
     "metadata": {},
     "output_type": "display_data"
    },
    {
     "data": {
      "text/plain": [
       "13.39294673862522"
      ]
     },
     "metadata": {},
     "output_type": "display_data"
    },
    {
     "data": {
      "text/plain": [
       "-2.3081087331177175"
      ]
     },
     "metadata": {},
     "output_type": "display_data"
    },
    {
     "data": {
      "text/plain": [
       "0.5039839286086738"
      ]
     },
     "metadata": {},
     "output_type": "display_data"
    },
    {
     "data": {
      "text/plain": [
       "1.5954247277740436"
      ]
     },
     "metadata": {},
     "output_type": "display_data"
    },
    {
     "data": {
      "text/plain": [
       "-3.8672877345805388"
      ]
     },
     "metadata": {},
     "output_type": "display_data"
    },
    {
     "data": {
      "text/plain": [
       "-4.142799746985002"
      ]
     },
     "metadata": {},
     "output_type": "display_data"
    },
    {
     "data": {
      "text/plain": [
       "22.62504211170451"
      ]
     },
     "metadata": {},
     "output_type": "display_data"
    }
   ],
   "source": [
    "meta_measurement = dm.train_set.meta_information[\"measurement_tables\"]\n",
    "# display(meta_measurement)\n",
    "\n",
    "for measurement in dm.train_set.meta_information[\"measurement_tables\"][\"event\"]:\n",
    "    event_meta = meta_measurement[meta_measurement.event == measurement]\n",
    "    display(event_meta.approx_lqr.to_numpy()[0])\n",
    "    # print(event_meta[\"\"])"
   ]
  },
  {
   "cell_type": "code",
   "execution_count": 14,
   "id": "3de9029c-05f6-43f3-8464-aa7767607042",
   "metadata": {},
   "outputs": [
    {
     "data": {
      "text/plain": [
       "{'SEX':   category     count\n",
       " 0        F  14278868\n",
       " 1        I       683\n",
       " 2        M  13841966,\n",
       " 'IMD':    category    count\n",
       " 0       NaN  2442913\n",
       " 1       1.0  4789813\n",
       " 2       2.0  4981882\n",
       " 3       3.0  5072397\n",
       " 4       4.0  5650727\n",
       " 5       5.0  5183785,\n",
       " 'ETHNICITY':   category     count\n",
       " 0    ASIAN   2267997\n",
       " 1    BLACK   1156866\n",
       " 2  MISSING   8058247\n",
       " 3    MIXED    485838\n",
       " 4    OTHER    422374\n",
       " 5    WHITE  15730195}"
      ]
     },
     "metadata": {},
     "output_type": "display_data"
    },
    {
     "data": {
      "text/html": [
       "<div>\n",
       "<style scoped>\n",
       "    .dataframe tbody tr th:only-of-type {\n",
       "        vertical-align: middle;\n",
       "    }\n",
       "\n",
       "    .dataframe tbody tr th {\n",
       "        vertical-align: top;\n",
       "    }\n",
       "\n",
       "    .dataframe thead th {\n",
       "        text-align: right;\n",
       "    }\n",
       "</style>\n",
       "<table border=\"1\" class=\"dataframe\">\n",
       "  <thead>\n",
       "    <tr style=\"text-align: right;\">\n",
       "      <th></th>\n",
       "      <th>event</th>\n",
       "      <th>count</th>\n",
       "    </tr>\n",
       "  </thead>\n",
       "  <tbody>\n",
       "    <tr>\n",
       "      <th>0</th>\n",
       "      <td>ADDISONS_DISEASE</td>\n",
       "      <td>6691</td>\n",
       "    </tr>\n",
       "    <tr>\n",
       "      <th>1</th>\n",
       "      <td>ADDISON_DISEASE</td>\n",
       "      <td>11794</td>\n",
       "    </tr>\n",
       "    <tr>\n",
       "      <th>2</th>\n",
       "      <td>AF</td>\n",
       "      <td>731332</td>\n",
       "    </tr>\n",
       "    <tr>\n",
       "      <th>3</th>\n",
       "      <td>ALCOHOLMISUSE_V2</td>\n",
       "      <td>1125212</td>\n",
       "    </tr>\n",
       "    <tr>\n",
       "      <th>4</th>\n",
       "      <td>ALLCANCER_NOHAEM_NOBCC</td>\n",
       "      <td>1496973</td>\n",
       "    </tr>\n",
       "    <tr>\n",
       "      <th>5</th>\n",
       "      <td>ALLERGICRHINITISCONJ</td>\n",
       "      <td>3291165</td>\n",
       "    </tr>\n",
       "    <tr>\n",
       "      <th>6</th>\n",
       "      <td>ALL_DEMENTIA</td>\n",
       "      <td>528602</td>\n",
       "    </tr>\n",
       "    <tr>\n",
       "      <th>7</th>\n",
       "      <td>ANXIETY</td>\n",
       "      <td>3560978</td>\n",
       "    </tr>\n",
       "    <tr>\n",
       "      <th>8</th>\n",
       "      <td>ANY_DEAFNESS_HEARING_LOSS_V2</td>\n",
       "      <td>2282766</td>\n",
       "    </tr>\n",
       "    <tr>\n",
       "      <th>9</th>\n",
       "      <td>AORTICANEURYSM_V2</td>\n",
       "      <td>101134</td>\n",
       "    </tr>\n",
       "    <tr>\n",
       "      <th>10</th>\n",
       "      <td>ASTHMA_PUSHASTHMA</td>\n",
       "      <td>4175115</td>\n",
       "    </tr>\n",
       "    <tr>\n",
       "      <th>11</th>\n",
       "      <td>ATOPICECZEMA</td>\n",
       "      <td>4369082</td>\n",
       "    </tr>\n",
       "    <tr>\n",
       "      <th>12</th>\n",
       "      <td>AUTISM</td>\n",
       "      <td>156860</td>\n",
       "    </tr>\n",
       "    <tr>\n",
       "      <th>13</th>\n",
       "      <td>BIPOLAR</td>\n",
       "      <td>108852</td>\n",
       "    </tr>\n",
       "    <tr>\n",
       "      <th>14</th>\n",
       "      <td>BRONCHIECTASIS</td>\n",
       "      <td>112618</td>\n",
       "    </tr>\n",
       "    <tr>\n",
       "      <th>15</th>\n",
       "      <td>CHRONICFATIGUESYNDROMEMM_V2</td>\n",
       "      <td>82799</td>\n",
       "    </tr>\n",
       "    <tr>\n",
       "      <th>16</th>\n",
       "      <td>CHRONIC_LIVER_DISEASE_ALCOHOL</td>\n",
       "      <td>63405</td>\n",
       "    </tr>\n",
       "    <tr>\n",
       "      <th>17</th>\n",
       "      <td>CKDSTAGE3TO5</td>\n",
       "      <td>1088754</td>\n",
       "    </tr>\n",
       "    <tr>\n",
       "      <th>18</th>\n",
       "      <td>COPD</td>\n",
       "      <td>751320</td>\n",
       "    </tr>\n",
       "    <tr>\n",
       "      <th>19</th>\n",
       "      <td>CROHNS_DISEASE</td>\n",
       "      <td>81250</td>\n",
       "    </tr>\n",
       "    <tr>\n",
       "      <th>20</th>\n",
       "      <td>CYSTICFIBROSIS</td>\n",
       "      <td>7053</td>\n",
       "    </tr>\n",
       "    <tr>\n",
       "      <th>21</th>\n",
       "      <td>DEATH</td>\n",
       "      <td>1629100</td>\n",
       "    </tr>\n",
       "    <tr>\n",
       "      <th>22</th>\n",
       "      <td>DEPRESSION</td>\n",
       "      <td>4109336</td>\n",
       "    </tr>\n",
       "    <tr>\n",
       "      <th>23</th>\n",
       "      <td>DOWNSSYNDROME</td>\n",
       "      <td>17006</td>\n",
       "    </tr>\n",
       "    <tr>\n",
       "      <th>24</th>\n",
       "      <td>EATINGDISORDERS</td>\n",
       "      <td>191873</td>\n",
       "    </tr>\n",
       "    <tr>\n",
       "      <th>25</th>\n",
       "      <td>ENDOMETRIOSIS_ADENOMYOSIS_V2</td>\n",
       "      <td>209157</td>\n",
       "    </tr>\n",
       "    <tr>\n",
       "      <th>26</th>\n",
       "      <td>EPILEPSY</td>\n",
       "      <td>377341</td>\n",
       "    </tr>\n",
       "    <tr>\n",
       "      <th>27</th>\n",
       "      <td>FIBROMYALGIA</td>\n",
       "      <td>153213</td>\n",
       "    </tr>\n",
       "    <tr>\n",
       "      <th>28</th>\n",
       "      <td>GOUT</td>\n",
       "      <td>632089</td>\n",
       "    </tr>\n",
       "    <tr>\n",
       "      <th>29</th>\n",
       "      <td>HAEMOCHROMATOSIS_V2</td>\n",
       "      <td>18631</td>\n",
       "    </tr>\n",
       "    <tr>\n",
       "      <th>30</th>\n",
       "      <td>HF_V3</td>\n",
       "      <td>524982</td>\n",
       "    </tr>\n",
       "    <tr>\n",
       "      <th>31</th>\n",
       "      <td>HIVAIDS</td>\n",
       "      <td>41951</td>\n",
       "    </tr>\n",
       "    <tr>\n",
       "      <th>32</th>\n",
       "      <td>HYPERTENSION</td>\n",
       "      <td>3934473</td>\n",
       "    </tr>\n",
       "    <tr>\n",
       "      <th>33</th>\n",
       "      <td>HYPERTHYROIDISM_V2</td>\n",
       "      <td>217964</td>\n",
       "    </tr>\n",
       "    <tr>\n",
       "      <th>34</th>\n",
       "      <td>HYPOTHYROIDISM_DRAFT_V1</td>\n",
       "      <td>932079</td>\n",
       "    </tr>\n",
       "    <tr>\n",
       "      <th>35</th>\n",
       "      <td>IHDINCLUDINGMI_OPTIMALV2</td>\n",
       "      <td>1162843</td>\n",
       "    </tr>\n",
       "    <tr>\n",
       "      <th>36</th>\n",
       "      <td>ILD_SH</td>\n",
       "      <td>58104</td>\n",
       "    </tr>\n",
       "    <tr>\n",
       "      <th>37</th>\n",
       "      <td>ISCHAEMICSTROKE_V2</td>\n",
       "      <td>178437</td>\n",
       "    </tr>\n",
       "    <tr>\n",
       "      <th>38</th>\n",
       "      <td>LEUKAEMIA_PREVALENCEV2</td>\n",
       "      <td>54438</td>\n",
       "    </tr>\n",
       "    <tr>\n",
       "      <th>39</th>\n",
       "      <td>LYMPHOMA_PREVALENCE_V2</td>\n",
       "      <td>80511</td>\n",
       "    </tr>\n",
       "    <tr>\n",
       "      <th>40</th>\n",
       "      <td>MENIERESDISEASE</td>\n",
       "      <td>73688</td>\n",
       "    </tr>\n",
       "    <tr>\n",
       "      <th>41</th>\n",
       "      <td>MINFARCTION</td>\n",
       "      <td>477556</td>\n",
       "    </tr>\n",
       "    <tr>\n",
       "      <th>42</th>\n",
       "      <td>MS</td>\n",
       "      <td>53204</td>\n",
       "    </tr>\n",
       "    <tr>\n",
       "      <th>43</th>\n",
       "      <td>NAFLD_V2</td>\n",
       "      <td>158688</td>\n",
       "    </tr>\n",
       "    <tr>\n",
       "      <th>44</th>\n",
       "      <td>OSA</td>\n",
       "      <td>234938</td>\n",
       "    </tr>\n",
       "    <tr>\n",
       "      <th>45</th>\n",
       "      <td>OSTEOARTHRITIS</td>\n",
       "      <td>2653242</td>\n",
       "    </tr>\n",
       "    <tr>\n",
       "      <th>46</th>\n",
       "      <td>OSTEOPOROSIS</td>\n",
       "      <td>628118</td>\n",
       "    </tr>\n",
       "    <tr>\n",
       "      <th>47</th>\n",
       "      <td>OTHER_CHRONIC_LIVER_DISEASE_OPTIMAL</td>\n",
       "      <td>289252</td>\n",
       "    </tr>\n",
       "    <tr>\n",
       "      <th>48</th>\n",
       "      <td>PAD_STRICT</td>\n",
       "      <td>254632</td>\n",
       "    </tr>\n",
       "    <tr>\n",
       "      <th>49</th>\n",
       "      <td>PARKINSONS</td>\n",
       "      <td>91718</td>\n",
       "    </tr>\n",
       "    <tr>\n",
       "      <th>50</th>\n",
       "      <td>PERIPHERAL_NEUROPATHY</td>\n",
       "      <td>840638</td>\n",
       "    </tr>\n",
       "    <tr>\n",
       "      <th>51</th>\n",
       "      <td>PERNICIOUSANAEMIA</td>\n",
       "      <td>73331</td>\n",
       "    </tr>\n",
       "    <tr>\n",
       "      <th>52</th>\n",
       "      <td>PLASMACELL_NEOPLASM_V2</td>\n",
       "      <td>20301</td>\n",
       "    </tr>\n",
       "    <tr>\n",
       "      <th>53</th>\n",
       "      <td>PMRANDGCA</td>\n",
       "      <td>195907</td>\n",
       "    </tr>\n",
       "    <tr>\n",
       "      <th>54</th>\n",
       "      <td>POLYCYSTIC_OVARIAN_SYNDROME_PCOS_V2</td>\n",
       "      <td>332297</td>\n",
       "    </tr>\n",
       "    <tr>\n",
       "      <th>55</th>\n",
       "      <td>PREVALENT_IBS_V2</td>\n",
       "      <td>1210229</td>\n",
       "    </tr>\n",
       "    <tr>\n",
       "      <th>56</th>\n",
       "      <td>PSORIASIS</td>\n",
       "      <td>743897</td>\n",
       "    </tr>\n",
       "    <tr>\n",
       "      <th>57</th>\n",
       "      <td>PSORIATICARTHRITIS2021</td>\n",
       "      <td>51273</td>\n",
       "    </tr>\n",
       "    <tr>\n",
       "      <th>58</th>\n",
       "      <td>PTSDDIAGNOSIS</td>\n",
       "      <td>126269</td>\n",
       "    </tr>\n",
       "    <tr>\n",
       "      <th>59</th>\n",
       "      <td>PVD_V3</td>\n",
       "      <td>185904</td>\n",
       "    </tr>\n",
       "    <tr>\n",
       "      <th>60</th>\n",
       "      <td>RHEUMATOIDARTHRITIS</td>\n",
       "      <td>197253</td>\n",
       "    </tr>\n",
       "    <tr>\n",
       "      <th>61</th>\n",
       "      <td>SCHIZOPHRENIAMM_V2</td>\n",
       "      <td>125141</td>\n",
       "    </tr>\n",
       "    <tr>\n",
       "      <th>62</th>\n",
       "      <td>SICKLE_CELL_DISEASE_V2</td>\n",
       "      <td>11159</td>\n",
       "    </tr>\n",
       "    <tr>\n",
       "      <th>63</th>\n",
       "      <td>SJOGRENSSYNDROME</td>\n",
       "      <td>23326</td>\n",
       "    </tr>\n",
       "    <tr>\n",
       "      <th>64</th>\n",
       "      <td>STROKEUNSPECIFIED_V2</td>\n",
       "      <td>446046</td>\n",
       "    </tr>\n",
       "    <tr>\n",
       "      <th>65</th>\n",
       "      <td>STROKE_HAEMRGIC</td>\n",
       "      <td>83609</td>\n",
       "    </tr>\n",
       "    <tr>\n",
       "      <th>66</th>\n",
       "      <td>SUBSTANCEMISUSE</td>\n",
       "      <td>502552</td>\n",
       "    </tr>\n",
       "    <tr>\n",
       "      <th>67</th>\n",
       "      <td>SYSTEMIC_LUPUS_ERYTHEMATOSUS</td>\n",
       "      <td>26820</td>\n",
       "    </tr>\n",
       "    <tr>\n",
       "      <th>68</th>\n",
       "      <td>SYSTEMIC_SCLEROSIS</td>\n",
       "      <td>8772</td>\n",
       "    </tr>\n",
       "    <tr>\n",
       "      <th>69</th>\n",
       "      <td>TYPE1DM</td>\n",
       "      <td>145143</td>\n",
       "    </tr>\n",
       "    <tr>\n",
       "      <th>70</th>\n",
       "      <td>TYPE2DIABETES</td>\n",
       "      <td>1404325</td>\n",
       "    </tr>\n",
       "    <tr>\n",
       "      <th>71</th>\n",
       "      <td>ULCERATIVE_COLITIS</td>\n",
       "      <td>120361</td>\n",
       "    </tr>\n",
       "    <tr>\n",
       "      <th>72</th>\n",
       "      <td>VALVULARDISEASES_V2</td>\n",
       "      <td>401061</td>\n",
       "    </tr>\n",
       "    <tr>\n",
       "      <th>73</th>\n",
       "      <td>VISUAL_IMPAIRMENT</td>\n",
       "      <td>155707</td>\n",
       "    </tr>\n",
       "  </tbody>\n",
       "</table>\n",
       "</div>"
      ],
      "text/plain": [
       "                                  event    count\n",
       "0                      ADDISONS_DISEASE     6691\n",
       "1                       ADDISON_DISEASE    11794\n",
       "2                                    AF   731332\n",
       "3                      ALCOHOLMISUSE_V2  1125212\n",
       "4                ALLCANCER_NOHAEM_NOBCC  1496973\n",
       "5                  ALLERGICRHINITISCONJ  3291165\n",
       "6                          ALL_DEMENTIA   528602\n",
       "7                               ANXIETY  3560978\n",
       "8          ANY_DEAFNESS_HEARING_LOSS_V2  2282766\n",
       "9                     AORTICANEURYSM_V2   101134\n",
       "10                    ASTHMA_PUSHASTHMA  4175115\n",
       "11                         ATOPICECZEMA  4369082\n",
       "12                               AUTISM   156860\n",
       "13                              BIPOLAR   108852\n",
       "14                       BRONCHIECTASIS   112618\n",
       "15          CHRONICFATIGUESYNDROMEMM_V2    82799\n",
       "16        CHRONIC_LIVER_DISEASE_ALCOHOL    63405\n",
       "17                         CKDSTAGE3TO5  1088754\n",
       "18                                 COPD   751320\n",
       "19                       CROHNS_DISEASE    81250\n",
       "20                       CYSTICFIBROSIS     7053\n",
       "21                                DEATH  1629100\n",
       "22                           DEPRESSION  4109336\n",
       "23                        DOWNSSYNDROME    17006\n",
       "24                      EATINGDISORDERS   191873\n",
       "25         ENDOMETRIOSIS_ADENOMYOSIS_V2   209157\n",
       "26                             EPILEPSY   377341\n",
       "27                         FIBROMYALGIA   153213\n",
       "28                                 GOUT   632089\n",
       "29                  HAEMOCHROMATOSIS_V2    18631\n",
       "30                                HF_V3   524982\n",
       "31                              HIVAIDS    41951\n",
       "32                         HYPERTENSION  3934473\n",
       "33                   HYPERTHYROIDISM_V2   217964\n",
       "34              HYPOTHYROIDISM_DRAFT_V1   932079\n",
       "35             IHDINCLUDINGMI_OPTIMALV2  1162843\n",
       "36                               ILD_SH    58104\n",
       "37                   ISCHAEMICSTROKE_V2   178437\n",
       "38               LEUKAEMIA_PREVALENCEV2    54438\n",
       "39               LYMPHOMA_PREVALENCE_V2    80511\n",
       "40                      MENIERESDISEASE    73688\n",
       "41                          MINFARCTION   477556\n",
       "42                                   MS    53204\n",
       "43                             NAFLD_V2   158688\n",
       "44                                  OSA   234938\n",
       "45                       OSTEOARTHRITIS  2653242\n",
       "46                         OSTEOPOROSIS   628118\n",
       "47  OTHER_CHRONIC_LIVER_DISEASE_OPTIMAL   289252\n",
       "48                           PAD_STRICT   254632\n",
       "49                           PARKINSONS    91718\n",
       "50                PERIPHERAL_NEUROPATHY   840638\n",
       "51                    PERNICIOUSANAEMIA    73331\n",
       "52               PLASMACELL_NEOPLASM_V2    20301\n",
       "53                            PMRANDGCA   195907\n",
       "54  POLYCYSTIC_OVARIAN_SYNDROME_PCOS_V2   332297\n",
       "55                     PREVALENT_IBS_V2  1210229\n",
       "56                            PSORIASIS   743897\n",
       "57               PSORIATICARTHRITIS2021    51273\n",
       "58                        PTSDDIAGNOSIS   126269\n",
       "59                               PVD_V3   185904\n",
       "60                  RHEUMATOIDARTHRITIS   197253\n",
       "61                   SCHIZOPHRENIAMM_V2   125141\n",
       "62               SICKLE_CELL_DISEASE_V2    11159\n",
       "63                     SJOGRENSSYNDROME    23326\n",
       "64                 STROKEUNSPECIFIED_V2   446046\n",
       "65                      STROKE_HAEMRGIC    83609\n",
       "66                      SUBSTANCEMISUSE   502552\n",
       "67         SYSTEMIC_LUPUS_ERYTHEMATOSUS    26820\n",
       "68                   SYSTEMIC_SCLEROSIS     8772\n",
       "69                              TYPE1DM   145143\n",
       "70                        TYPE2DIABETES  1404325\n",
       "71                   ULCERATIVE_COLITIS   120361\n",
       "72                  VALVULARDISEASES_V2   401061\n",
       "73                    VISUAL_IMPAIRMENT   155707"
      ]
     },
     "metadata": {},
     "output_type": "display_data"
    },
    {
     "data": {
      "text/html": [
       "<div>\n",
       "<style scoped>\n",
       "    .dataframe tbody tr th:only-of-type {\n",
       "        vertical-align: middle;\n",
       "    }\n",
       "\n",
       "    .dataframe tbody tr th {\n",
       "        vertical-align: top;\n",
       "    }\n",
       "\n",
       "    .dataframe thead th {\n",
       "        text-align: right;\n",
       "    }\n",
       "</style>\n",
       "<table border=\"1\" class=\"dataframe\">\n",
       "  <thead>\n",
       "    <tr style=\"text-align: right;\">\n",
       "      <th></th>\n",
       "      <th>event</th>\n",
       "      <th>count</th>\n",
       "      <th>count_obs</th>\n",
       "      <th>digest</th>\n",
       "      <th>min</th>\n",
       "      <th>max</th>\n",
       "      <th>mean</th>\n",
       "      <th>approx_lqr</th>\n",
       "      <th>approx_uqr</th>\n",
       "    </tr>\n",
       "  </thead>\n",
       "  <tbody>\n",
       "    <tr>\n",
       "      <th>0</th>\n",
       "      <td>25_Hydroxyvitamin_D2_level_92</td>\n",
       "      <td>782791</td>\n",
       "      <td>693470</td>\n",
       "      <td>({'m': 0.0, 'c': 9.0}, {'m': 0.1, 'c': 112.0},...</td>\n",
       "      <td>0.000000e+00</td>\n",
       "      <td>6.860000e+02</td>\n",
       "      <td>3.908721e+00</td>\n",
       "      <td>-4.646246</td>\n",
       "      <td>10.806670</td>\n",
       "    </tr>\n",
       "    <tr>\n",
       "      <th>1</th>\n",
       "      <td>25_Hydroxyvitamin_D3_level_90</td>\n",
       "      <td>809104</td>\n",
       "      <td>781118</td>\n",
       "      <td>({'m': 0.1, 'c': 3.0}, {'m': 1.0, 'c': 314.0},...</td>\n",
       "      <td>0.000000e+00</td>\n",
       "      <td>9.518000e+02</td>\n",
       "      <td>4.714889e+01</td>\n",
       "      <td>-36.374906</td>\n",
       "      <td>121.281425</td>\n",
       "    </tr>\n",
       "    <tr>\n",
       "      <th>2</th>\n",
       "      <td>AST___aspartate_transam_SGOT__46</td>\n",
       "      <td>1738489</td>\n",
       "      <td>1680613</td>\n",
       "      <td>({'m': 0.0, 'c': 3901.0}, {'m': 0.770571428571...</td>\n",
       "      <td>0.000000e+00</td>\n",
       "      <td>1.533000e+04</td>\n",
       "      <td>2.661963e+01</td>\n",
       "      <td>3.417134</td>\n",
       "      <td>41.771075</td>\n",
       "    </tr>\n",
       "    <tr>\n",
       "      <th>3</th>\n",
       "      <td>AST_serum_level_47</td>\n",
       "      <td>10837982</td>\n",
       "      <td>10485351</td>\n",
       "      <td>({'m': 0.0, 'c': 53.0}, {'m': 1.8, 'c': 1.0}, ...</td>\n",
       "      <td>-5.000000e+00</td>\n",
       "      <td>2.070000e+04</td>\n",
       "      <td>2.725168e+01</td>\n",
       "      <td>4.558863</td>\n",
       "      <td>41.966985</td>\n",
       "    </tr>\n",
       "    <tr>\n",
       "      <th>4</th>\n",
       "      <td>Albumin___creatinine_ratio_37</td>\n",
       "      <td>180911</td>\n",
       "      <td>78420</td>\n",
       "      <td>({'m': -1.0, 'c': 1.0}, {'m': 0.0, 'c': 4213.0...</td>\n",
       "      <td>-1.000000e+00</td>\n",
       "      <td>1.282100e+04</td>\n",
       "      <td>1.067255e+01</td>\n",
       "      <td>-4.327568</td>\n",
       "      <td>8.831512</td>\n",
       "    </tr>\n",
       "    <tr>\n",
       "      <th>5</th>\n",
       "      <td>Basophil_count_22</td>\n",
       "      <td>86869779</td>\n",
       "      <td>85642540</td>\n",
       "      <td>({'m': 0.0, 'c': 37098.0}, {'m': 0.01, 'c': 28...</td>\n",
       "      <td>-1.000000e-01</td>\n",
       "      <td>1.111110e+05</td>\n",
       "      <td>5.008992e-02</td>\n",
       "      <td>-0.093801</td>\n",
       "      <td>0.160919</td>\n",
       "    </tr>\n",
       "    <tr>\n",
       "      <th>6</th>\n",
       "      <td>Blood_calcium_level_38</td>\n",
       "      <td>415717</td>\n",
       "      <td>385464</td>\n",
       "      <td>({'m': 0.0, 'c': 33.0}, {'m': 1.0, 'c': 1.0}, ...</td>\n",
       "      <td>0.000000e+00</td>\n",
       "      <td>4.400000e+02</td>\n",
       "      <td>2.352980e+00</td>\n",
       "      <td>2.025402</td>\n",
       "      <td>2.622520</td>\n",
       "    </tr>\n",
       "    <tr>\n",
       "      <th>7</th>\n",
       "      <td>Blood_urea_28</td>\n",
       "      <td>785766</td>\n",
       "      <td>671861</td>\n",
       "      <td>({'m': 0.0, 'c': 2746.0}, {'m': 0.09, 'c': 1.0...</td>\n",
       "      <td>0.000000e+00</td>\n",
       "      <td>1.265000e+03</td>\n",
       "      <td>6.513018e+00</td>\n",
       "      <td>0.231978</td>\n",
       "      <td>11.019293</td>\n",
       "    </tr>\n",
       "    <tr>\n",
       "      <th>8</th>\n",
       "      <td>Body_mass_index_3</td>\n",
       "      <td>99868822</td>\n",
       "      <td>97759312</td>\n",
       "      <td>({'m': 0.0, 'c': 14.0}, {'m': 0.05, 'c': 1.0},...</td>\n",
       "      <td>-3.268000e+04</td>\n",
       "      <td>2.100000e+09</td>\n",
       "      <td>2.933050e+02</td>\n",
       "      <td>10.469322</td>\n",
       "      <td>43.324813</td>\n",
       "    </tr>\n",
       "    <tr>\n",
       "      <th>9</th>\n",
       "      <td>Brain_natriuretic_peptide_level_66</td>\n",
       "      <td>229202</td>\n",
       "      <td>159318</td>\n",
       "      <td>({'m': 0.0, 'c': 120.0}, {'m': 0.1, 'c': 1.0},...</td>\n",
       "      <td>0.000000e+00</td>\n",
       "      <td>5.001420e+05</td>\n",
       "      <td>4.168786e+02</td>\n",
       "      <td>-245.085949</td>\n",
       "      <td>483.166025</td>\n",
       "    </tr>\n",
       "    <tr>\n",
       "      <th>10</th>\n",
       "      <td>Calcium_adjusted_level_41</td>\n",
       "      <td>1464226</td>\n",
       "      <td>1457911</td>\n",
       "      <td>({'m': 0.99, 'c': 1.0}, {'m': 1.04, 'c': 1.0},...</td>\n",
       "      <td>0.000000e+00</td>\n",
       "      <td>2.790000e+02</td>\n",
       "      <td>2.365999e+00</td>\n",
       "      <td>2.085297</td>\n",
       "      <td>2.628290</td>\n",
       "    </tr>\n",
       "    <tr>\n",
       "      <th>11</th>\n",
       "      <td>Calculated_LDL_cholesterol_level_103</td>\n",
       "      <td>6967780</td>\n",
       "      <td>6719746</td>\n",
       "      <td>({'m': 0.0, 'c': 1.0}, {'m': 0.1, 'c': 15.0}, ...</td>\n",
       "      <td>-8.400000e+00</td>\n",
       "      <td>2.400000e+02</td>\n",
       "      <td>2.819830e+00</td>\n",
       "      <td>0.180362</td>\n",
       "      <td>5.506026</td>\n",
       "    </tr>\n",
       "    <tr>\n",
       "      <th>12</th>\n",
       "      <td>Combined_total_vitamin_D2_and_D3_level_93</td>\n",
       "      <td>452984</td>\n",
       "      <td>424568</td>\n",
       "      <td>({'m': 0.0, 'c': 9.0}, {'m': 2.2, 'c': 1.0}, {...</td>\n",
       "      <td>0.000000e+00</td>\n",
       "      <td>1.222000e+03</td>\n",
       "      <td>5.235274e+01</td>\n",
       "      <td>-33.974404</td>\n",
       "      <td>127.176235</td>\n",
       "    </tr>\n",
       "    <tr>\n",
       "      <th>13</th>\n",
       "      <td>Corrected_serum_calcium_level_42</td>\n",
       "      <td>16683796</td>\n",
       "      <td>16264645</td>\n",
       "      <td>({'m': 0.0, 'c': 4.0}, {'m': 0.16, 'c': 1.0}, ...</td>\n",
       "      <td>-2.580000e+00</td>\n",
       "      <td>1.205201e+07</td>\n",
       "      <td>3.892081e+00</td>\n",
       "      <td>2.049077</td>\n",
       "      <td>2.602211</td>\n",
       "    </tr>\n",
       "    <tr>\n",
       "      <th>14</th>\n",
       "      <td>Current_smoker_83</td>\n",
       "      <td>10592787</td>\n",
       "      <td>2509612</td>\n",
       "      <td>({'m': 0.0, 'c': 893.0}, {'m': 0.2, 'c': 2.0},...</td>\n",
       "      <td>-2.030000e+03</td>\n",
       "      <td>1.710202e+07</td>\n",
       "      <td>6.982623e+01</td>\n",
       "      <td>-11.221780</td>\n",
       "      <td>31.898993</td>\n",
       "    </tr>\n",
       "    <tr>\n",
       "      <th>15</th>\n",
       "      <td>Diastolic_blood_pressure_5</td>\n",
       "      <td>241026671</td>\n",
       "      <td>240724855</td>\n",
       "      <td>({'m': 0.0, 'c': 8.0}, {'m': 5.0, 'c': 1.0}, {...</td>\n",
       "      <td>-1.200000e+02</td>\n",
       "      <td>9.066667e+11</td>\n",
       "      <td>3.849124e+03</td>\n",
       "      <td>48.776736</td>\n",
       "      <td>106.184113</td>\n",
       "    </tr>\n",
       "    <tr>\n",
       "      <th>16</th>\n",
       "      <td>Eosinophil_count_21</td>\n",
       "      <td>92193433</td>\n",
       "      <td>91608967</td>\n",
       "      <td>({'m': 0.0, 'c': 3017.0}, {'m': 0.01, 'c': 255...</td>\n",
       "      <td>-6.000000e-01</td>\n",
       "      <td>4.444440e+05</td>\n",
       "      <td>2.339810e-01</td>\n",
       "      <td>-0.185137</td>\n",
       "      <td>0.578153</td>\n",
       "    </tr>\n",
       "    <tr>\n",
       "      <th>17</th>\n",
       "      <td>Erythrocyte_sedimentation_rate_61</td>\n",
       "      <td>29892785</td>\n",
       "      <td>24659777</td>\n",
       "      <td>({'m': -4.0, 'c': 2.0}, {'m': 0.0, 'c': 127.0}...</td>\n",
       "      <td>-2.000000e+01</td>\n",
       "      <td>1.315371e+07</td>\n",
       "      <td>1.843387e+01</td>\n",
       "      <td>-21.913521</td>\n",
       "      <td>50.017065</td>\n",
       "    </tr>\n",
       "    <tr>\n",
       "      <th>18</th>\n",
       "      <td>Ex_smoker_84</td>\n",
       "      <td>24891632</td>\n",
       "      <td>1988555</td>\n",
       "      <td>({'m': -1.0, 'c': 1.0}, {'m': 0.0, 'c': 3006.0...</td>\n",
       "      <td>-2.030000e+03</td>\n",
       "      <td>2.000000e+08</td>\n",
       "      <td>4.101646e+02</td>\n",
       "      <td>-2956.165860</td>\n",
       "      <td>4927.808836</td>\n",
       "    </tr>\n",
       "    <tr>\n",
       "      <th>19</th>\n",
       "      <td>Free_T4_level_76</td>\n",
       "      <td>1405341</td>\n",
       "      <td>1254654</td>\n",
       "      <td>({'m': -9.1, 'c': 1.0}, {'m': -8.8, 'c': 1.0},...</td>\n",
       "      <td>-1.340000e+02</td>\n",
       "      <td>9.800000e+10</td>\n",
       "      <td>2.859576e+05</td>\n",
       "      <td>5.337435</td>\n",
       "      <td>24.968460</td>\n",
       "    </tr>\n",
       "    <tr>\n",
       "      <th>20</th>\n",
       "      <td>GFR_calculated_abbreviated_MDRD_34</td>\n",
       "      <td>73709249</td>\n",
       "      <td>65832806</td>\n",
       "      <td>({'m': 0.0, 'c': 17.0}, {'m': 1.73, 'c': 1.0},...</td>\n",
       "      <td>-9.000000e+01</td>\n",
       "      <td>1.816032e+07</td>\n",
       "      <td>7.195087e+01</td>\n",
       "      <td>25.888325</td>\n",
       "      <td>111.550543</td>\n",
       "    </tr>\n",
       "    <tr>\n",
       "      <th>21</th>\n",
       "      <td>Haematocrit___PCV_16</td>\n",
       "      <td>4346108</td>\n",
       "      <td>4313923</td>\n",
       "      <td>({'m': -0.29, 'c': 1.0}, {'m': -0.28, 'c': 5.0...</td>\n",
       "      <td>-4.650000e-01</td>\n",
       "      <td>9.385000e+03</td>\n",
       "      <td>5.573050e+00</td>\n",
       "      <td>0.275683</td>\n",
       "      <td>0.544979</td>\n",
       "    </tr>\n",
       "    <tr>\n",
       "      <th>22</th>\n",
       "      <td>Haematocrit_15</td>\n",
       "      <td>76582325</td>\n",
       "      <td>76295018</td>\n",
       "      <td>({'m': 0.003, 'c': 2.0}, {'m': 0.004, 'c': 1.0...</td>\n",
       "      <td>0.000000e+00</td>\n",
       "      <td>2.090678e+05</td>\n",
       "      <td>3.781405e+00</td>\n",
       "      <td>0.291792</td>\n",
       "      <td>0.528275</td>\n",
       "    </tr>\n",
       "    <tr>\n",
       "      <th>23</th>\n",
       "      <td>Haemoglobin_A1c_level___IFCC_standardised_6</td>\n",
       "      <td>35091904</td>\n",
       "      <td>32542190</td>\n",
       "      <td>({'m': 0.0, 'c': 2.0}, {'m': 3.9, 'c': 1.0}, {...</td>\n",
       "      <td>-7.900000e+01</td>\n",
       "      <td>6.000952e+12</td>\n",
       "      <td>1.888003e+05</td>\n",
       "      <td>13.031609</td>\n",
       "      <td>74.376857</td>\n",
       "    </tr>\n",
       "    <tr>\n",
       "      <th>24</th>\n",
       "      <td>Haemoglobin_A1c_level_8</td>\n",
       "      <td>6516701</td>\n",
       "      <td>2279027</td>\n",
       "      <td>({'m': 0.0, 'c': 6.0}, {'m': 0.1, 'c': 1.0}, {...</td>\n",
       "      <td>0.000000e+00</td>\n",
       "      <td>9.999990e+05</td>\n",
       "      <td>1.350703e+01</td>\n",
       "      <td>2.967688</td>\n",
       "      <td>11.229089</td>\n",
       "    </tr>\n",
       "    <tr>\n",
       "      <th>25</th>\n",
       "      <td>Haemoglobin_estimation_9</td>\n",
       "      <td>97391693</td>\n",
       "      <td>96533626</td>\n",
       "      <td>({'m': 1.38, 'c': 1.0}, {'m': 6.9, 'c': 1.0}, ...</td>\n",
       "      <td>-1.120000e+02</td>\n",
       "      <td>1.411201e+07</td>\n",
       "      <td>7.961700e+01</td>\n",
       "      <td>96.395174</td>\n",
       "      <td>177.320646</td>\n",
       "    </tr>\n",
       "    <tr>\n",
       "      <th>26</th>\n",
       "      <td>HbA1c_level__DCCT_aligned__7</td>\n",
       "      <td>14948615</td>\n",
       "      <td>12120543</td>\n",
       "      <td>({'m': 0.0, 'c': 17.0}, {'m': 0.67, 'c': 1.0},...</td>\n",
       "      <td>-4.100000e+01</td>\n",
       "      <td>3.302112e+07</td>\n",
       "      <td>1.169712e+01</td>\n",
       "      <td>3.021371</td>\n",
       "      <td>11.061291</td>\n",
       "    </tr>\n",
       "    <tr>\n",
       "      <th>27</th>\n",
       "      <td>INR___international_normalised_ratio_81</td>\n",
       "      <td>426165</td>\n",
       "      <td>409175</td>\n",
       "      <td>({'m': 0.0, 'c': 22.0}, {'m': 0.1, 'c': 3.0}, ...</td>\n",
       "      <td>0.000000e+00</td>\n",
       "      <td>3.112000e+04</td>\n",
       "      <td>2.775144e+00</td>\n",
       "      <td>0.689719</td>\n",
       "      <td>4.323920</td>\n",
       "    </tr>\n",
       "    <tr>\n",
       "      <th>28</th>\n",
       "      <td>International_normalised_ratio_82</td>\n",
       "      <td>27966697</td>\n",
       "      <td>24573431</td>\n",
       "      <td>({'m': 0.0, 'c': 36.0}, {'m': 0.2, 'c': 2.0}, ...</td>\n",
       "      <td>-3.400000e+01</td>\n",
       "      <td>3.012201e+07</td>\n",
       "      <td>2.391763e+01</td>\n",
       "      <td>0.424694</td>\n",
       "      <td>4.289808</td>\n",
       "    </tr>\n",
       "    <tr>\n",
       "      <th>29</th>\n",
       "      <td>Lymphocyte_count_20</td>\n",
       "      <td>92896401</td>\n",
       "      <td>92370088</td>\n",
       "      <td>({'m': 0.0, 'c': 3.0}, {'m': 0.03, 'c': 2.0}, ...</td>\n",
       "      <td>-3.500000e+01</td>\n",
       "      <td>3.720369e+09</td>\n",
       "      <td>3.650021e+02</td>\n",
       "      <td>0.105927</td>\n",
       "      <td>3.929688</td>\n",
       "    </tr>\n",
       "    <tr>\n",
       "      <th>30</th>\n",
       "      <td>Mean_corpusc_Hb_conc__MCHC__14</td>\n",
       "      <td>70867102</td>\n",
       "      <td>70624255</td>\n",
       "      <td>({'m': 0.0, 'c': 1.0}, {'m': 0.36, 'c': 1.0}, ...</td>\n",
       "      <td>-2.950000e+02</td>\n",
       "      <td>3.512660e+05</td>\n",
       "      <td>1.861975e+02</td>\n",
       "      <td>266.316086</td>\n",
       "      <td>388.669783</td>\n",
       "    </tr>\n",
       "    <tr>\n",
       "      <th>31</th>\n",
       "      <td>Mean_corpusc_haemoglobin_MCH__13</td>\n",
       "      <td>90498376</td>\n",
       "      <td>90220814</td>\n",
       "      <td>({'m': 10.8, 'c': 1.0}, {'m': 12.7, 'c': 2.0},...</td>\n",
       "      <td>-2.890000e+01</td>\n",
       "      <td>3.550000e+07</td>\n",
       "      <td>8.281642e+01</td>\n",
       "      <td>24.965489</td>\n",
       "      <td>35.383949</td>\n",
       "    </tr>\n",
       "    <tr>\n",
       "      <th>32</th>\n",
       "      <td>Mean_corpuscular_volume__MCV__11</td>\n",
       "      <td>94723195</td>\n",
       "      <td>94409919</td>\n",
       "      <td>({'m': 0.3, 'c': 1.0}, {'m': 0.4, 'c': 1.0}, {...</td>\n",
       "      <td>-1.004000e+02</td>\n",
       "      <td>2.000000e+12</td>\n",
       "      <td>2.127458e+04</td>\n",
       "      <td>74.595518</td>\n",
       "      <td>105.847735</td>\n",
       "    </tr>\n",
       "    <tr>\n",
       "      <th>33</th>\n",
       "      <td>Monocyte_count_23</td>\n",
       "      <td>92489278</td>\n",
       "      <td>91979180</td>\n",
       "      <td>({'m': 0.0, 'c': 10.0}, {'m': 0.03, 'c': 2.0},...</td>\n",
       "      <td>-4.000000e+00</td>\n",
       "      <td>3.720369e+09</td>\n",
       "      <td>8.190597e+01</td>\n",
       "      <td>-0.015579</td>\n",
       "      <td>1.095040</td>\n",
       "    </tr>\n",
       "    <tr>\n",
       "      <th>34</th>\n",
       "      <td>N_terminal_pro_brain_natriuretic_peptide_level_67</td>\n",
       "      <td>57470</td>\n",
       "      <td>53401</td>\n",
       "      <td>({'m': 0.0, 'c': 1.0}, {'m': 1.0, 'c': 8.0}, {...</td>\n",
       "      <td>0.000000e+00</td>\n",
       "      <td>7.501200e+04</td>\n",
       "      <td>7.599375e+02</td>\n",
       "      <td>-608.821562</td>\n",
       "      <td>1181.858777</td>\n",
       "    </tr>\n",
       "    <tr>\n",
       "      <th>35</th>\n",
       "      <td>Neutrophil_count_19</td>\n",
       "      <td>93489124</td>\n",
       "      <td>92851403</td>\n",
       "      <td>({'m': 0.0, 'c': 7.0}, {'m': 0.01, 'c': 1.0}, ...</td>\n",
       "      <td>-6.700000e+01</td>\n",
       "      <td>3.720369e+09</td>\n",
       "      <td>8.505009e+01</td>\n",
       "      <td>-0.084158</td>\n",
       "      <td>7.892328</td>\n",
       "    </tr>\n",
       "    <tr>\n",
       "      <th>36</th>\n",
       "      <td>Never_smoked_tobacco_85</td>\n",
       "      <td>60751822</td>\n",
       "      <td>1538646</td>\n",
       "      <td>({'m': -25.0, 'c': 3.0}, {'m': -1.0, 'c': 2.0}...</td>\n",
       "      <td>-2.500000e+01</td>\n",
       "      <td>2.004000e+03</td>\n",
       "      <td>5.093185e+00</td>\n",
       "      <td>-1101.151007</td>\n",
       "      <td>1833.906998</td>\n",
       "    </tr>\n",
       "    <tr>\n",
       "      <th>37</th>\n",
       "      <td>Non_HDL_cholesterol_level_108</td>\n",
       "      <td>2408310</td>\n",
       "      <td>2393900</td>\n",
       "      <td>({'m': -1.6, 'c': 1.0}, {'m': -1.2, 'c': 1.0},...</td>\n",
       "      <td>-1.600000e+00</td>\n",
       "      <td>3.407000e+03</td>\n",
       "      <td>3.447365e+00</td>\n",
       "      <td>0.440828</td>\n",
       "      <td>6.406259</td>\n",
       "    </tr>\n",
       "    <tr>\n",
       "      <th>38</th>\n",
       "      <td>O_E___height_1</td>\n",
       "      <td>69089436</td>\n",
       "      <td>68753070</td>\n",
       "      <td>({'m': 0.0, 'c': 148.0}, {'m': 0.14, 'c': 1.0}...</td>\n",
       "      <td>-1.079000e+05</td>\n",
       "      <td>1.980230e+10</td>\n",
       "      <td>6.643426e+02</td>\n",
       "      <td>131.908606</td>\n",
       "      <td>200.150988</td>\n",
       "    </tr>\n",
       "    <tr>\n",
       "      <th>39</th>\n",
       "      <td>O_E___weight_2</td>\n",
       "      <td>117401338</td>\n",
       "      <td>116811930</td>\n",
       "      <td>({'m': 0.0, 'c': 23.0}, {'m': 0.093, 'c': 1.0}...</td>\n",
       "      <td>-1.170000e+04</td>\n",
       "      <td>4.000000e+12</td>\n",
       "      <td>5.843027e+04</td>\n",
       "      <td>17.514388</td>\n",
       "      <td>128.117937</td>\n",
       "    </tr>\n",
       "    <tr>\n",
       "      <th>40</th>\n",
       "      <td>Plasma_B_natriuretic_peptide_level_69</td>\n",
       "      <td>82488</td>\n",
       "      <td>78777</td>\n",
       "      <td>({'m': 0.0, 'c': 51.0}, {'m': 0.58, 'c': 12.0}...</td>\n",
       "      <td>0.000000e+00</td>\n",
       "      <td>5.711570e+05</td>\n",
       "      <td>2.149659e+02</td>\n",
       "      <td>-178.951794</td>\n",
       "      <td>367.603899</td>\n",
       "    </tr>\n",
       "    <tr>\n",
       "      <th>41</th>\n",
       "      <td>Plasma_C_reactive_protein_60</td>\n",
       "      <td>9155551</td>\n",
       "      <td>7401061</td>\n",
       "      <td>({'m': 0.0, 'c': 17.0}, {'m': 0.1, 'c': 821.0}...</td>\n",
       "      <td>-3.814000e+03</td>\n",
       "      <td>1.255000e+07</td>\n",
       "      <td>1.373701e+01</td>\n",
       "      <td>-11.241277</td>\n",
       "      <td>23.079187</td>\n",
       "    </tr>\n",
       "    <tr>\n",
       "      <th>42</th>\n",
       "      <td>Plasma_HDL_cholesterol_level_101</td>\n",
       "      <td>2173456</td>\n",
       "      <td>2111774</td>\n",
       "      <td>({'m': 0.0, 'c': 4.0}, {'m': 0.05, 'c': 1.0}, ...</td>\n",
       "      <td>0.000000e+00</td>\n",
       "      <td>3.720369e+09</td>\n",
       "      <td>1.763100e+03</td>\n",
       "      <td>0.341004</td>\n",
       "      <td>2.347240</td>\n",
       "    </tr>\n",
       "    <tr>\n",
       "      <th>43</th>\n",
       "      <td>Plasma_LDL_cholesterol_level_104</td>\n",
       "      <td>1434461</td>\n",
       "      <td>1249520</td>\n",
       "      <td>({'m': 0.0, 'c': 37.0}, {'m': 0.1, 'c': 3.0}, ...</td>\n",
       "      <td>0.000000e+00</td>\n",
       "      <td>5.020000e+02</td>\n",
       "      <td>2.839491e+00</td>\n",
       "      <td>-0.070710</td>\n",
       "      <td>5.739754</td>\n",
       "    </tr>\n",
       "    <tr>\n",
       "      <th>44</th>\n",
       "      <td>Plasma_N_terminal_pro_B_type_natriuretic_pepti...</td>\n",
       "      <td>53534</td>\n",
       "      <td>52305</td>\n",
       "      <td>({'m': 0.2, 'c': 1.0}, {'m': 1.0, 'c': 31.0}, ...</td>\n",
       "      <td>2.000000e-01</td>\n",
       "      <td>1.012460e+05</td>\n",
       "      <td>8.320501e+02</td>\n",
       "      <td>-634.281153</td>\n",
       "      <td>1243.613800</td>\n",
       "    </tr>\n",
       "    <tr>\n",
       "      <th>45</th>\n",
       "      <td>Plasma_TSH_level_73</td>\n",
       "      <td>2049380</td>\n",
       "      <td>2017201</td>\n",
       "      <td>({'m': 0.0, 'c': 74.0}, {'m': 0.001, 'c': 1.0}...</td>\n",
       "      <td>-7.800000e+00</td>\n",
       "      <td>2.470000e+04</td>\n",
       "      <td>2.591849e+00</td>\n",
       "      <td>-1.343591</td>\n",
       "      <td>4.967441</td>\n",
       "    </tr>\n",
       "    <tr>\n",
       "      <th>46</th>\n",
       "      <td>Plasma_alanine_aminotransferase_level_44</td>\n",
       "      <td>4012790</td>\n",
       "      <td>3989304</td>\n",
       "      <td>({'m': 0.0, 'c': 13.0}, {'m': 1.0, 'c': 4.0}, ...</td>\n",
       "      <td>0.000000e+00</td>\n",
       "      <td>1.096500e+04</td>\n",
       "      <td>2.680884e+01</td>\n",
       "      <td>-6.462309</td>\n",
       "      <td>51.710100</td>\n",
       "    </tr>\n",
       "    <tr>\n",
       "      <th>47</th>\n",
       "      <td>Plasma_albumin_level_52</td>\n",
       "      <td>3719377</td>\n",
       "      <td>3707409</td>\n",
       "      <td>({'m': 0.0, 'c': 3.0}, {'m': 10.0, 'c': 1.0}, ...</td>\n",
       "      <td>0.000000e+00</td>\n",
       "      <td>4.354350e+04</td>\n",
       "      <td>4.083299e+01</td>\n",
       "      <td>31.292998</td>\n",
       "      <td>50.402634</td>\n",
       "    </tr>\n",
       "    <tr>\n",
       "      <th>48</th>\n",
       "      <td>Plasma_alkaline_phosphatase_level_49</td>\n",
       "      <td>3290802</td>\n",
       "      <td>3281396</td>\n",
       "      <td>({'m': 0.0, 'c': 6.0}, {'m': 0.69, 'c': 1.0}, ...</td>\n",
       "      <td>-2.400000e+01</td>\n",
       "      <td>2.021600e+04</td>\n",
       "      <td>1.284950e+02</td>\n",
       "      <td>-59.841461</td>\n",
       "      <td>281.110518</td>\n",
       "    </tr>\n",
       "    <tr>\n",
       "      <th>49</th>\n",
       "      <td>Plasma_calcium_level_40</td>\n",
       "      <td>1294409</td>\n",
       "      <td>1286874</td>\n",
       "      <td>({'m': 0.0, 'c': 2.0}, {'m': 0.13, 'c': 2.0}, ...</td>\n",
       "      <td>0.000000e+00</td>\n",
       "      <td>3.780000e+02</td>\n",
       "      <td>2.376339e+00</td>\n",
       "      <td>2.066500</td>\n",
       "      <td>2.655478</td>\n",
       "    </tr>\n",
       "    <tr>\n",
       "      <th>50</th>\n",
       "      <td>Plasma_cholesterol_HDL_ratio_96</td>\n",
       "      <td>587483</td>\n",
       "      <td>575593</td>\n",
       "      <td>({'m': 0.0, 'c': 6.0}, {'m': 0.16, 'c': 1.0}, ...</td>\n",
       "      <td>0.000000e+00</td>\n",
       "      <td>9.990000e+02</td>\n",
       "      <td>3.794378e+00</td>\n",
       "      <td>0.611548</td>\n",
       "      <td>6.828527</td>\n",
       "    </tr>\n",
       "    <tr>\n",
       "      <th>51</th>\n",
       "      <td>Plasma_corrected_calcium_level_43</td>\n",
       "      <td>1168224</td>\n",
       "      <td>900092</td>\n",
       "      <td>({'m': 0.0, 'c': 13.0}, {'m': 0.12, 'c': 1.0},...</td>\n",
       "      <td>0.000000e+00</td>\n",
       "      <td>2.480000e+02</td>\n",
       "      <td>2.347791e+00</td>\n",
       "      <td>2.070485</td>\n",
       "      <td>2.603971</td>\n",
       "    </tr>\n",
       "    <tr>\n",
       "      <th>52</th>\n",
       "      <td>Plasma_creatinine_level_32</td>\n",
       "      <td>4513054</td>\n",
       "      <td>4489265</td>\n",
       "      <td>({'m': 0.0, 'c': 7.0}, {'m': 2.42, 'c': 1.0}, ...</td>\n",
       "      <td>0.000000e+00</td>\n",
       "      <td>3.720369e+09</td>\n",
       "      <td>9.151366e+02</td>\n",
       "      <td>29.784070</td>\n",
       "      <td>139.676969</td>\n",
       "    </tr>\n",
       "    <tr>\n",
       "      <th>53</th>\n",
       "      <td>Plasma_ferritin_level_62</td>\n",
       "      <td>220380</td>\n",
       "      <td>167898</td>\n",
       "      <td>({'m': 0.0, 'c': 3655.0}, {'m': 0.1, 'c': 1.0}...</td>\n",
       "      <td>0.000000e+00</td>\n",
       "      <td>2.478000e+04</td>\n",
       "      <td>8.423415e+01</td>\n",
       "      <td>-90.052732</td>\n",
       "      <td>192.319705</td>\n",
       "    </tr>\n",
       "    <tr>\n",
       "      <th>54</th>\n",
       "      <td>Plasma_free_T4_level_77</td>\n",
       "      <td>724108</td>\n",
       "      <td>681695</td>\n",
       "      <td>({'m': 0.0, 'c': 547.0}, {'m': 0.0199999999999...</td>\n",
       "      <td>-7.720000e+01</td>\n",
       "      <td>2.530000e+10</td>\n",
       "      <td>5.727122e+05</td>\n",
       "      <td>3.870309</td>\n",
       "      <td>21.266291</td>\n",
       "    </tr>\n",
       "    <tr>\n",
       "      <th>55</th>\n",
       "      <td>Plasma_gamma_glutamyl_transferase_level_58</td>\n",
       "      <td>1762750</td>\n",
       "      <td>1749440</td>\n",
       "      <td>({'m': 0.0, 'c': 6.0}, {'m': 3.0, 'c': 4.0}, {...</td>\n",
       "      <td>0.000000e+00</td>\n",
       "      <td>1.215100e+04</td>\n",
       "      <td>5.360479e+01</td>\n",
       "      <td>-26.335878</td>\n",
       "      <td>90.693909</td>\n",
       "    </tr>\n",
       "    <tr>\n",
       "      <th>56</th>\n",
       "      <td>Plasma_potassium_level_27</td>\n",
       "      <td>4445152</td>\n",
       "      <td>4402840</td>\n",
       "      <td>({'m': 0.0, 'c': 33.0}, {'m': 1.3, 'c': 1.0}, ...</td>\n",
       "      <td>0.000000e+00</td>\n",
       "      <td>3.720369e+09</td>\n",
       "      <td>8.491083e+02</td>\n",
       "      <td>2.902145</td>\n",
       "      <td>5.292348</td>\n",
       "    </tr>\n",
       "    <tr>\n",
       "      <th>57</th>\n",
       "      <td>Plasma_pro_brain_natriuretic_peptide_level_64</td>\n",
       "      <td>83343</td>\n",
       "      <td>70129</td>\n",
       "      <td>({'m': 0.0, 'c': 12.0}, {'m': 0.01, 'c': 1.0},...</td>\n",
       "      <td>0.000000e+00</td>\n",
       "      <td>6.686000e+04</td>\n",
       "      <td>5.495602e+02</td>\n",
       "      <td>-347.073412</td>\n",
       "      <td>670.153687</td>\n",
       "    </tr>\n",
       "    <tr>\n",
       "      <th>58</th>\n",
       "      <td>Plasma_sodium_level_25</td>\n",
       "      <td>4458632</td>\n",
       "      <td>4425530</td>\n",
       "      <td>({'m': 0.0, 'c': 6.0}, {'m': 4.5, 'c': 1.0}, {...</td>\n",
       "      <td>0.000000e+00</td>\n",
       "      <td>3.720369e+09</td>\n",
       "      <td>9.799688e+02</td>\n",
       "      <td>132.452214</td>\n",
       "      <td>146.099184</td>\n",
       "    </tr>\n",
       "    <tr>\n",
       "      <th>59</th>\n",
       "      <td>Plasma_total_bilirubin_level_54</td>\n",
       "      <td>3443114</td>\n",
       "      <td>3429483</td>\n",
       "      <td>({'m': 0.0, 'c': 36.0}, {'m': 0.9, 'c': 1.0}, ...</td>\n",
       "      <td>0.000000e+00</td>\n",
       "      <td>1.100000e+04</td>\n",
       "      <td>1.104913e+01</td>\n",
       "      <td>-0.968753</td>\n",
       "      <td>19.944682</td>\n",
       "    </tr>\n",
       "    <tr>\n",
       "      <th>60</th>\n",
       "      <td>Plasma_total_cholesterol_level_99</td>\n",
       "      <td>2331589</td>\n",
       "      <td>2302691</td>\n",
       "      <td>({'m': 0.0, 'c': 2073.0}, {'m': 1.01, 'c': 3.0...</td>\n",
       "      <td>0.000000e+00</td>\n",
       "      <td>3.720369e+09</td>\n",
       "      <td>1.620601e+03</td>\n",
       "      <td>1.638191</td>\n",
       "      <td>8.137137</td>\n",
       "    </tr>\n",
       "    <tr>\n",
       "      <th>61</th>\n",
       "      <td>Plasma_triglyceride_level_106</td>\n",
       "      <td>1573268</td>\n",
       "      <td>1548859</td>\n",
       "      <td>({'m': 0.0, 'c': 8.0}, {'m': 0.1, 'c': 2.0}, {...</td>\n",
       "      <td>0.000000e+00</td>\n",
       "      <td>3.720369e+09</td>\n",
       "      <td>2.403661e+03</td>\n",
       "      <td>-0.474888</td>\n",
       "      <td>3.433178</td>\n",
       "    </tr>\n",
       "    <tr>\n",
       "      <th>62</th>\n",
       "      <td>Plasma_urea_level_30</td>\n",
       "      <td>1991274</td>\n",
       "      <td>1968449</td>\n",
       "      <td>({'m': 0.0, 'c': 5.0}, {'m': 0.3, 'c': 3.0}, {...</td>\n",
       "      <td>0.000000e+00</td>\n",
       "      <td>8.080000e+02</td>\n",
       "      <td>5.956689e+00</td>\n",
       "      <td>0.426599</td>\n",
       "      <td>10.133503</td>\n",
       "    </tr>\n",
       "    <tr>\n",
       "      <th>63</th>\n",
       "      <td>Platelet_count_12</td>\n",
       "      <td>95904116</td>\n",
       "      <td>95382243</td>\n",
       "      <td>({'m': 0.0, 'c': 4.0}, {'m': 1.44, 'c': 1.0}, ...</td>\n",
       "      <td>-5.600000e+02</td>\n",
       "      <td>3.720369e+09</td>\n",
       "      <td>2.535123e+04</td>\n",
       "      <td>75.531884</td>\n",
       "      <td>439.259687</td>\n",
       "    </tr>\n",
       "    <tr>\n",
       "      <th>64</th>\n",
       "      <td>Red_blood_cell__RBC__count_10</td>\n",
       "      <td>92326200</td>\n",
       "      <td>91855577</td>\n",
       "      <td>({'m': 0.0, 'c': 3.0}, {'m': 0.81, 'c': 1.0}, ...</td>\n",
       "      <td>-4.460000e+00</td>\n",
       "      <td>3.720369e+09</td>\n",
       "      <td>6.149268e+04</td>\n",
       "      <td>3.277186</td>\n",
       "      <td>5.871597</td>\n",
       "    </tr>\n",
       "    <tr>\n",
       "      <th>65</th>\n",
       "      <td>Red_blood_cell_distribution_width_17</td>\n",
       "      <td>49751137</td>\n",
       "      <td>46387000</td>\n",
       "      <td>({'m': 0.0, 'c': 2.0}, {'m': 5.2, 'c': 1.0}, {...</td>\n",
       "      <td>0.000000e+00</td>\n",
       "      <td>2.603070e+05</td>\n",
       "      <td>1.398563e+01</td>\n",
       "      <td>10.411794</td>\n",
       "      <td>16.548972</td>\n",
       "    </tr>\n",
       "    <tr>\n",
       "      <th>66</th>\n",
       "      <td>Serum_25_Hydroxy_vitamin_D3_level_88</td>\n",
       "      <td>1211141</td>\n",
       "      <td>847628</td>\n",
       "      <td>({'m': 0.0, 'c': 18.0}, {'m': 0.5, 'c': 3.0}, ...</td>\n",
       "      <td>0.000000e+00</td>\n",
       "      <td>2.000000e+04</td>\n",
       "      <td>4.997980e+01</td>\n",
       "      <td>-34.650953</td>\n",
       "      <td>124.392685</td>\n",
       "    </tr>\n",
       "    <tr>\n",
       "      <th>67</th>\n",
       "      <td>Serum_C_reactive_protein_level_59</td>\n",
       "      <td>19234068</td>\n",
       "      <td>16340825</td>\n",
       "      <td>({'m': 0.0, 'c': 21.0}, {'m': 0.1, 'c': 219.0}...</td>\n",
       "      <td>-1.150000e+02</td>\n",
       "      <td>2.104936e+08</td>\n",
       "      <td>2.375269e+01</td>\n",
       "      <td>-7.819155</td>\n",
       "      <td>16.997392</td>\n",
       "    </tr>\n",
       "    <tr>\n",
       "      <th>68</th>\n",
       "      <td>Serum_HDL_cholesterol_level_100</td>\n",
       "      <td>50953183</td>\n",
       "      <td>50016821</td>\n",
       "      <td>({'m': 0.0, 'c': 9.0}, {'m': 0.06, 'c': 1.0}, ...</td>\n",
       "      <td>-3.900000e+01</td>\n",
       "      <td>1.762016e+06</td>\n",
       "      <td>1.506581e+00</td>\n",
       "      <td>0.332601</td>\n",
       "      <td>2.370315</td>\n",
       "    </tr>\n",
       "    <tr>\n",
       "      <th>69</th>\n",
       "      <td>Serum_LDL_cholesterol_level_102</td>\n",
       "      <td>30073152</td>\n",
       "      <td>29091476</td>\n",
       "      <td>({'m': -999994.31, 'c': 2.0}, {'m': -1.1, 'c':...</td>\n",
       "      <td>-9.999943e+05</td>\n",
       "      <td>3.720369e+09</td>\n",
       "      <td>3.871861e+02</td>\n",
       "      <td>-0.011791</td>\n",
       "      <td>5.887797</td>\n",
       "    </tr>\n",
       "    <tr>\n",
       "      <th>70</th>\n",
       "      <td>Serum_N_terminal_pro_B_type_natriuretic_peptid...</td>\n",
       "      <td>383790</td>\n",
       "      <td>335656</td>\n",
       "      <td>({'m': 1.0, 'c': 13.0}, {'m': 1.478, 'c': 1.0}...</td>\n",
       "      <td>0.000000e+00</td>\n",
       "      <td>1.247610e+05</td>\n",
       "      <td>7.859756e+02</td>\n",
       "      <td>-615.926335</td>\n",
       "      <td>1197.932939</td>\n",
       "    </tr>\n",
       "    <tr>\n",
       "      <th>71</th>\n",
       "      <td>Serum_T4_level_78</td>\n",
       "      <td>524777</td>\n",
       "      <td>450988</td>\n",
       "      <td>({'m': -25.0, 'c': 7.0}, {'m': -20.0, 'c': 1.0...</td>\n",
       "      <td>-2.500000e+01</td>\n",
       "      <td>1.550000e+11</td>\n",
       "      <td>5.216837e+06</td>\n",
       "      <td>-117.611101</td>\n",
       "      <td>233.412187</td>\n",
       "    </tr>\n",
       "    <tr>\n",
       "      <th>72</th>\n",
       "      <td>Serum_TSH_level_71</td>\n",
       "      <td>55655662</td>\n",
       "      <td>52458151</td>\n",
       "      <td>({'m': 0.0, 'c': 5.0}, {'m': 0.008, 'c': 12.0}...</td>\n",
       "      <td>-2.143000e+01</td>\n",
       "      <td>1.990000e+07</td>\n",
       "      <td>1.537853e+01</td>\n",
       "      <td>-1.158789</td>\n",
       "      <td>4.926810</td>\n",
       "    </tr>\n",
       "    <tr>\n",
       "      <th>73</th>\n",
       "      <td>Serum_alanine_aminotransferase_level_45</td>\n",
       "      <td>46896239</td>\n",
       "      <td>46118828</td>\n",
       "      <td>({'m': 2.0, 'c': 2.0}, {'m': 3.0, 'c': 12.0}, ...</td>\n",
       "      <td>-4.300000e+01</td>\n",
       "      <td>2.060000e+05</td>\n",
       "      <td>2.705385e+01</td>\n",
       "      <td>-4.416892</td>\n",
       "      <td>48.131274</td>\n",
       "    </tr>\n",
       "    <tr>\n",
       "      <th>74</th>\n",
       "      <td>Serum_albumin_51</td>\n",
       "      <td>83105055</td>\n",
       "      <td>82755894</td>\n",
       "      <td>({'m': 2.14, 'c': 1.0}, {'m': 4.0, 'c': 1.0}, ...</td>\n",
       "      <td>-4.500000e+01</td>\n",
       "      <td>9.000000e+09</td>\n",
       "      <td>7.911712e+02</td>\n",
       "      <td>30.612767</td>\n",
       "      <td>50.919397</td>\n",
       "    </tr>\n",
       "    <tr>\n",
       "      <th>75</th>\n",
       "      <td>Serum_alkaline_phosphatase_50</td>\n",
       "      <td>76052242</td>\n",
       "      <td>75709587</td>\n",
       "      <td>({'m': 0.6, 'c': 1.0}, {'m': 0.77, 'c': 1.0}, ...</td>\n",
       "      <td>-1.650000e+02</td>\n",
       "      <td>1.523013e+07</td>\n",
       "      <td>8.934480e+01</td>\n",
       "      <td>13.084213</td>\n",
       "      <td>146.109293</td>\n",
       "    </tr>\n",
       "    <tr>\n",
       "      <th>76</th>\n",
       "      <td>Serum_bilirubin_level_53</td>\n",
       "      <td>24090337</td>\n",
       "      <td>23943058</td>\n",
       "      <td>({'m': 0.0, 'c': 17.0}, {'m': 0.66, 'c': 1.0},...</td>\n",
       "      <td>-1.912620e+05</td>\n",
       "      <td>1.232190e+08</td>\n",
       "      <td>1.615846e+01</td>\n",
       "      <td>-1.751982</td>\n",
       "      <td>21.545361</td>\n",
       "    </tr>\n",
       "    <tr>\n",
       "      <th>77</th>\n",
       "      <td>Serum_calcium_39</td>\n",
       "      <td>28049902</td>\n",
       "      <td>26929397</td>\n",
       "      <td>({'m': 0.0, 'c': 13.0}, {'m': 0.5, 'c': 1.0}, ...</td>\n",
       "      <td>-2.120000e+00</td>\n",
       "      <td>7.042004e+06</td>\n",
       "      <td>2.638354e+00</td>\n",
       "      <td>2.058337</td>\n",
       "      <td>2.626330</td>\n",
       "    </tr>\n",
       "    <tr>\n",
       "      <th>78</th>\n",
       "      <td>Serum_cholesterol_97</td>\n",
       "      <td>57393841</td>\n",
       "      <td>55137024</td>\n",
       "      <td>({'m': 0.0, 'c': 67.0}, {'m': 0.7, 'c': 1.0}, ...</td>\n",
       "      <td>-7.500000e+01</td>\n",
       "      <td>3.720369e+09</td>\n",
       "      <td>7.465021e+01</td>\n",
       "      <td>1.748473</td>\n",
       "      <td>8.251556</td>\n",
       "    </tr>\n",
       "    <tr>\n",
       "      <th>79</th>\n",
       "      <td>Serum_cholesterol_HDL_ratio_94</td>\n",
       "      <td>28586515</td>\n",
       "      <td>27949257</td>\n",
       "      <td>({'m': 0.0, 'c': 13.0}, {'m': 0.14, 'c': 1.0},...</td>\n",
       "      <td>-3.400000e+00</td>\n",
       "      <td>3.720369e+09</td>\n",
       "      <td>1.368317e+02</td>\n",
       "      <td>0.642525</td>\n",
       "      <td>6.829988</td>\n",
       "    </tr>\n",
       "    <tr>\n",
       "      <th>80</th>\n",
       "      <td>Serum_creatinine_31</td>\n",
       "      <td>102915170</td>\n",
       "      <td>101600210</td>\n",
       "      <td>({'m': 1.0, 'c': 1.0}, {'m': 1.09, 'c': 1.0}, ...</td>\n",
       "      <td>-4.212000e+04</td>\n",
       "      <td>3.720369e+09</td>\n",
       "      <td>5.354401e+02</td>\n",
       "      <td>23.438298</td>\n",
       "      <td>136.812468</td>\n",
       "    </tr>\n",
       "    <tr>\n",
       "      <th>81</th>\n",
       "      <td>Serum_ferritin_63</td>\n",
       "      <td>21412371</td>\n",
       "      <td>18831052</td>\n",
       "      <td>({'m': 0.0, 'c': 10.0}, {'m': 0.1, 'c': 1.0}, ...</td>\n",
       "      <td>-2.810200e+06</td>\n",
       "      <td>1.905228e+08</td>\n",
       "      <td>1.202831e+02</td>\n",
       "      <td>-112.640919</td>\n",
       "      <td>247.002469</td>\n",
       "    </tr>\n",
       "    <tr>\n",
       "      <th>82</th>\n",
       "      <td>Serum_folate_80</td>\n",
       "      <td>14643748</td>\n",
       "      <td>13245269</td>\n",
       "      <td>({'m': 0.0, 'c': 27.0}, {'m': 0.009, 'c': 1.0}...</td>\n",
       "      <td>-2.000000e+01</td>\n",
       "      <td>2.400000e+04</td>\n",
       "      <td>8.601245e+00</td>\n",
       "      <td>-4.579138</td>\n",
       "      <td>20.451140</td>\n",
       "    </tr>\n",
       "    <tr>\n",
       "      <th>83</th>\n",
       "      <td>Serum_free_T4_level_75</td>\n",
       "      <td>22579062</td>\n",
       "      <td>21978910</td>\n",
       "      <td>({'m': 0.0, 'c': 2.0}, {'m': 0.3, 'c': 4.0}, {...</td>\n",
       "      <td>0.000000e+00</td>\n",
       "      <td>1.000000e+11</td>\n",
       "      <td>5.508446e+05</td>\n",
       "      <td>4.277940</td>\n",
       "      <td>20.917435</td>\n",
       "    </tr>\n",
       "    <tr>\n",
       "      <th>84</th>\n",
       "      <td>Serum_gamma_glutamyl_transferase_level_57</td>\n",
       "      <td>22592131</td>\n",
       "      <td>21804090</td>\n",
       "      <td>({'m': 0.0, 'c': 4.0}, {'m': 1.0, 'c': 1.0}, {...</td>\n",
       "      <td>-4.620000e+02</td>\n",
       "      <td>7.022400e+04</td>\n",
       "      <td>5.737895e+01</td>\n",
       "      <td>-29.040429</td>\n",
       "      <td>94.768018</td>\n",
       "    </tr>\n",
       "    <tr>\n",
       "      <th>85</th>\n",
       "      <td>Serum_non_high_density_lipoprotein_cholesterol...</td>\n",
       "      <td>10648096</td>\n",
       "      <td>10620740</td>\n",
       "      <td>({'m': 0.17, 'c': 2.0}, {'m': 0.4, 'c': 2.0}, ...</td>\n",
       "      <td>-2.500000e+00</td>\n",
       "      <td>7.265600e+03</td>\n",
       "      <td>3.402179e+00</td>\n",
       "      <td>0.155159</td>\n",
       "      <td>6.481452</td>\n",
       "    </tr>\n",
       "    <tr>\n",
       "      <th>86</th>\n",
       "      <td>Serum_potassium_26</td>\n",
       "      <td>99036754</td>\n",
       "      <td>97495916</td>\n",
       "      <td>({'m': 1.8, 'c': 1.0}, {'m': 2.0, 'c': 1.0}, {...</td>\n",
       "      <td>-2.179000e+03</td>\n",
       "      <td>3.720369e+09</td>\n",
       "      <td>4.322233e+01</td>\n",
       "      <td>3.131876</td>\n",
       "      <td>5.470935</td>\n",
       "    </tr>\n",
       "    <tr>\n",
       "      <th>87</th>\n",
       "      <td>Serum_pro_brain_natriuretic_peptide_level_65</td>\n",
       "      <td>243565</td>\n",
       "      <td>196058</td>\n",
       "      <td>({'m': 0.0, 'c': 44.0}, {'m': 0.05, 'c': 2.0},...</td>\n",
       "      <td>0.000000e+00</td>\n",
       "      <td>7.700000e+05</td>\n",
       "      <td>7.009120e+02</td>\n",
       "      <td>-500.257228</td>\n",
       "      <td>931.030086</td>\n",
       "    </tr>\n",
       "    <tr>\n",
       "      <th>88</th>\n",
       "      <td>Serum_sodium_24</td>\n",
       "      <td>99409745</td>\n",
       "      <td>98817250</td>\n",
       "      <td>({'m': 1.18, 'c': 1.0}, {'m': 1.32, 'c': 1.0},...</td>\n",
       "      <td>-1.400000e+02</td>\n",
       "      <td>6.910678e+07</td>\n",
       "      <td>1.413177e+02</td>\n",
       "      <td>132.031609</td>\n",
       "      <td>146.183544</td>\n",
       "    </tr>\n",
       "    <tr>\n",
       "      <th>89</th>\n",
       "      <td>Serum_total_25_hydroxy_vitamin_D_level_87</td>\n",
       "      <td>2178432</td>\n",
       "      <td>1882341</td>\n",
       "      <td>({'m': 2.0, 'c': 20.0}, {'m': 5.0, 'c': 15.0},...</td>\n",
       "      <td>0.000000e+00</td>\n",
       "      <td>9.210000e+02</td>\n",
       "      <td>5.323836e+01</td>\n",
       "      <td>-19.637594</td>\n",
       "      <td>123.961126</td>\n",
       "    </tr>\n",
       "    <tr>\n",
       "      <th>90</th>\n",
       "      <td>Serum_total_bilirubin_level_56</td>\n",
       "      <td>54098383</td>\n",
       "      <td>53753453</td>\n",
       "      <td>({'m': 1.0, 'c': 15.0}, {'m': 2.0, 'c': 110.0}...</td>\n",
       "      <td>-2.000000e+00</td>\n",
       "      <td>4.300000e+07</td>\n",
       "      <td>3.203331e+01</td>\n",
       "      <td>-0.908074</td>\n",
       "      <td>25.216474</td>\n",
       "    </tr>\n",
       "    <tr>\n",
       "      <th>91</th>\n",
       "      <td>Serum_total_cholesterol_level_98</td>\n",
       "      <td>5185017</td>\n",
       "      <td>5100659</td>\n",
       "      <td>({'m': 0.0, 'c': 4.0}, {'m': 0.6, 'c': 1.0}, {...</td>\n",
       "      <td>-7.600000e+00</td>\n",
       "      <td>1.010101e+06</td>\n",
       "      <td>5.174581e+00</td>\n",
       "      <td>1.667064</td>\n",
       "      <td>8.129886</td>\n",
       "    </tr>\n",
       "    <tr>\n",
       "      <th>92</th>\n",
       "      <td>Serum_triglycerides_105</td>\n",
       "      <td>42415036</td>\n",
       "      <td>41980818</td>\n",
       "      <td>({'m': 0.0, 'c': 18.0}, {'m': 0.08, 'c': 1.0},...</td>\n",
       "      <td>-3.762000e+02</td>\n",
       "      <td>3.720369e+09</td>\n",
       "      <td>4.449784e+02</td>\n",
       "      <td>-0.530537</td>\n",
       "      <td>3.288755</td>\n",
       "    </tr>\n",
       "    <tr>\n",
       "      <th>93</th>\n",
       "      <td>Serum_urea_level_29</td>\n",
       "      <td>78670253</td>\n",
       "      <td>78276364</td>\n",
       "      <td>({'m': 0.2, 'c': 1.0}, {'m': 0.4, 'c': 1.0}, {...</td>\n",
       "      <td>-2.410000e+01</td>\n",
       "      <td>2.400000e+10</td>\n",
       "      <td>5.770647e+03</td>\n",
       "      <td>0.411447</td>\n",
       "      <td>10.238402</td>\n",
       "    </tr>\n",
       "    <tr>\n",
       "      <th>94</th>\n",
       "      <td>Serum_vitamin_B12_79</td>\n",
       "      <td>16797696</td>\n",
       "      <td>15132281</td>\n",
       "      <td>({'m': 0.0, 'c': 8.0}, {'m': 1.57, 'c': 1.0}, ...</td>\n",
       "      <td>-5.781707e+08</td>\n",
       "      <td>3.720369e+09</td>\n",
       "      <td>7.152044e+02</td>\n",
       "      <td>-93.149809</td>\n",
       "      <td>819.130194</td>\n",
       "    </tr>\n",
       "    <tr>\n",
       "      <th>95</th>\n",
       "      <td>Serum_vitamin_D2_level_89</td>\n",
       "      <td>249092</td>\n",
       "      <td>204719</td>\n",
       "      <td>({'m': -5.0, 'c': 1.0}, {'m': 0.0, 'c': 1786.0...</td>\n",
       "      <td>-5.000000e+00</td>\n",
       "      <td>7.280000e+02</td>\n",
       "      <td>1.481123e+01</td>\n",
       "      <td>-7.796967</td>\n",
       "      <td>20.647832</td>\n",
       "    </tr>\n",
       "    <tr>\n",
       "      <th>96</th>\n",
       "      <td>Serum_vitamin_D_86</td>\n",
       "      <td>2478806</td>\n",
       "      <td>1741767</td>\n",
       "      <td>({'m': 0.0, 'c': 26.0}, {'m': 0.1, 'c': 2.0}, ...</td>\n",
       "      <td>-3.970000e+01</td>\n",
       "      <td>3.000000e+06</td>\n",
       "      <td>5.367082e+01</td>\n",
       "      <td>-30.185616</td>\n",
       "      <td>119.150739</td>\n",
       "    </tr>\n",
       "    <tr>\n",
       "      <th>97</th>\n",
       "      <td>Systolic_blood_pressure_4</td>\n",
       "      <td>241541988</td>\n",
       "      <td>241223179</td>\n",
       "      <td>({'m': 0.0, 'c': 8.0}, {'m': 50.0, 'c': 1.0}, ...</td>\n",
       "      <td>-2.000000e+02</td>\n",
       "      <td>1.111111e+11</td>\n",
       "      <td>6.007336e+02</td>\n",
       "      <td>82.366694</td>\n",
       "      <td>183.856668</td>\n",
       "    </tr>\n",
       "    <tr>\n",
       "      <th>98</th>\n",
       "      <td>TSH___thyroid_stim_hormone_72</td>\n",
       "      <td>3568579</td>\n",
       "      <td>3063531</td>\n",
       "      <td>({'m': -0.36, 'c': 1.0}, {'m': -0.1, 'c': 1.0}...</td>\n",
       "      <td>-5.000000e+01</td>\n",
       "      <td>8.100000e+06</td>\n",
       "      <td>2.560645e+01</td>\n",
       "      <td>-1.538781</td>\n",
       "      <td>5.139688</td>\n",
       "    </tr>\n",
       "    <tr>\n",
       "      <th>99</th>\n",
       "      <td>TSH_level_74</td>\n",
       "      <td>507085</td>\n",
       "      <td>272902</td>\n",
       "      <td>({'m': 0.0, 'c': 2901.0}, {'m': 0.001, 'c': 1....</td>\n",
       "      <td>-5.000000e-01</td>\n",
       "      <td>9.780000e+03</td>\n",
       "      <td>4.040092e+00</td>\n",
       "      <td>-1.962208</td>\n",
       "      <td>5.614803</td>\n",
       "    </tr>\n",
       "    <tr>\n",
       "      <th>100</th>\n",
       "      <td>Total_25_hydroxyvitamin_D_level_91</td>\n",
       "      <td>333324</td>\n",
       "      <td>283455</td>\n",
       "      <td>({'m': 0.0, 'c': 1.0}, {'m': 0.9, 'c': 1.0}, {...</td>\n",
       "      <td>0.000000e+00</td>\n",
       "      <td>1.229000e+03</td>\n",
       "      <td>4.803738e+01</td>\n",
       "      <td>-27.585736</td>\n",
       "      <td>120.402059</td>\n",
       "    </tr>\n",
       "    <tr>\n",
       "      <th>101</th>\n",
       "      <td>Total_alkaline_phosphatase_48</td>\n",
       "      <td>6461505</td>\n",
       "      <td>6422922</td>\n",
       "      <td>({'m': 0.96, 'c': 1.0}, {'m': 1.09, 'c': 1.0},...</td>\n",
       "      <td>0.000000e+00</td>\n",
       "      <td>9.014000e+03</td>\n",
       "      <td>8.453068e+01</td>\n",
       "      <td>13.392947</td>\n",
       "      <td>138.915685</td>\n",
       "    </tr>\n",
       "    <tr>\n",
       "      <th>102</th>\n",
       "      <td>Total_bilirubin_55</td>\n",
       "      <td>2193031</td>\n",
       "      <td>2141609</td>\n",
       "      <td>({'m': 0.0, 'c': 314.0}, {'m': 0.14, 'c': 1.0}...</td>\n",
       "      <td>-7.000000e+00</td>\n",
       "      <td>1.800000e+07</td>\n",
       "      <td>1.466419e+02</td>\n",
       "      <td>-2.308109</td>\n",
       "      <td>22.756147</td>\n",
       "    </tr>\n",
       "    <tr>\n",
       "      <th>103</th>\n",
       "      <td>Total_cholesterol_HDL_ratio_95</td>\n",
       "      <td>15760772</td>\n",
       "      <td>15489099</td>\n",
       "      <td>({'m': 0.0, 'c': 21.0}, {'m': 0.001, 'c': 2.0}...</td>\n",
       "      <td>-3.100000e+00</td>\n",
       "      <td>3.720369e+09</td>\n",
       "      <td>9.647043e+02</td>\n",
       "      <td>0.503984</td>\n",
       "      <td>6.883091</td>\n",
       "    </tr>\n",
       "    <tr>\n",
       "      <th>104</th>\n",
       "      <td>Total_white_cell_count_18</td>\n",
       "      <td>94827537</td>\n",
       "      <td>94179010</td>\n",
       "      <td>({'m': -0.3, 'c': 1.0}, {'m': 0.0, 'c': 3.0}, ...</td>\n",
       "      <td>-1.470000e+01</td>\n",
       "      <td>3.720369e+09</td>\n",
       "      <td>2.501895e+02</td>\n",
       "      <td>1.595425</td>\n",
       "      <td>12.090323</td>\n",
       "    </tr>\n",
       "    <tr>\n",
       "      <th>105</th>\n",
       "      <td>Urine_albumin_creatinine_ratio_35</td>\n",
       "      <td>15107807</td>\n",
       "      <td>10249206</td>\n",
       "      <td>({'m': 0.0, 'c': 213.0}, {'m': 0.01, 'c': 3.0}...</td>\n",
       "      <td>-1.400000e+01</td>\n",
       "      <td>1.000000e+10</td>\n",
       "      <td>9.960699e+02</td>\n",
       "      <td>-3.867288</td>\n",
       "      <td>8.042548</td>\n",
       "    </tr>\n",
       "    <tr>\n",
       "      <th>106</th>\n",
       "      <td>Urine_microalbumin_creatinine_ratio_36</td>\n",
       "      <td>201318</td>\n",
       "      <td>94009</td>\n",
       "      <td>({'m': 0.0, 'c': 5691.0}, {'m': 0.001, 'c': 53...</td>\n",
       "      <td>-5.803000e+00</td>\n",
       "      <td>3.176800e+04</td>\n",
       "      <td>1.077503e+01</td>\n",
       "      <td>-4.142800</td>\n",
       "      <td>8.260179</td>\n",
       "    </tr>\n",
       "    <tr>\n",
       "      <th>107</th>\n",
       "      <td>eGFR_using_creatinine_CKD_EPI_per_1_73_square_...</td>\n",
       "      <td>12869245</td>\n",
       "      <td>11902149</td>\n",
       "      <td>({'m': 0.0, 'c': 1.0}, {'m': 4.0, 'c': 9.0}, {...</td>\n",
       "      <td>-9.000000e+01</td>\n",
       "      <td>8.713000e+04</td>\n",
       "      <td>7.427459e+01</td>\n",
       "      <td>22.625042</td>\n",
       "      <td>130.097152</td>\n",
       "    </tr>\n",
       "  </tbody>\n",
       "</table>\n",
       "</div>"
      ],
      "text/plain": [
       "                                                 event      count  count_obs  \\\n",
       "0                        25_Hydroxyvitamin_D2_level_92     782791     693470   \n",
       "1                        25_Hydroxyvitamin_D3_level_90     809104     781118   \n",
       "2                     AST___aspartate_transam_SGOT__46    1738489    1680613   \n",
       "3                                   AST_serum_level_47   10837982   10485351   \n",
       "4                        Albumin___creatinine_ratio_37     180911      78420   \n",
       "5                                    Basophil_count_22   86869779   85642540   \n",
       "6                               Blood_calcium_level_38     415717     385464   \n",
       "7                                        Blood_urea_28     785766     671861   \n",
       "8                                    Body_mass_index_3   99868822   97759312   \n",
       "9                   Brain_natriuretic_peptide_level_66     229202     159318   \n",
       "10                           Calcium_adjusted_level_41    1464226    1457911   \n",
       "11                Calculated_LDL_cholesterol_level_103    6967780    6719746   \n",
       "12           Combined_total_vitamin_D2_and_D3_level_93     452984     424568   \n",
       "13                    Corrected_serum_calcium_level_42   16683796   16264645   \n",
       "14                                   Current_smoker_83   10592787    2509612   \n",
       "15                          Diastolic_blood_pressure_5  241026671  240724855   \n",
       "16                                 Eosinophil_count_21   92193433   91608967   \n",
       "17                   Erythrocyte_sedimentation_rate_61   29892785   24659777   \n",
       "18                                        Ex_smoker_84   24891632    1988555   \n",
       "19                                    Free_T4_level_76    1405341    1254654   \n",
       "20                  GFR_calculated_abbreviated_MDRD_34   73709249   65832806   \n",
       "21                                Haematocrit___PCV_16    4346108    4313923   \n",
       "22                                      Haematocrit_15   76582325   76295018   \n",
       "23         Haemoglobin_A1c_level___IFCC_standardised_6   35091904   32542190   \n",
       "24                             Haemoglobin_A1c_level_8    6516701    2279027   \n",
       "25                            Haemoglobin_estimation_9   97391693   96533626   \n",
       "26                        HbA1c_level__DCCT_aligned__7   14948615   12120543   \n",
       "27             INR___international_normalised_ratio_81     426165     409175   \n",
       "28                   International_normalised_ratio_82   27966697   24573431   \n",
       "29                                 Lymphocyte_count_20   92896401   92370088   \n",
       "30                      Mean_corpusc_Hb_conc__MCHC__14   70867102   70624255   \n",
       "31                    Mean_corpusc_haemoglobin_MCH__13   90498376   90220814   \n",
       "32                    Mean_corpuscular_volume__MCV__11   94723195   94409919   \n",
       "33                                   Monocyte_count_23   92489278   91979180   \n",
       "34   N_terminal_pro_brain_natriuretic_peptide_level_67      57470      53401   \n",
       "35                                 Neutrophil_count_19   93489124   92851403   \n",
       "36                             Never_smoked_tobacco_85   60751822    1538646   \n",
       "37                       Non_HDL_cholesterol_level_108    2408310    2393900   \n",
       "38                                      O_E___height_1   69089436   68753070   \n",
       "39                                      O_E___weight_2  117401338  116811930   \n",
       "40               Plasma_B_natriuretic_peptide_level_69      82488      78777   \n",
       "41                        Plasma_C_reactive_protein_60    9155551    7401061   \n",
       "42                    Plasma_HDL_cholesterol_level_101    2173456    2111774   \n",
       "43                    Plasma_LDL_cholesterol_level_104    1434461    1249520   \n",
       "44   Plasma_N_terminal_pro_B_type_natriuretic_pepti...      53534      52305   \n",
       "45                                 Plasma_TSH_level_73    2049380    2017201   \n",
       "46            Plasma_alanine_aminotransferase_level_44    4012790    3989304   \n",
       "47                             Plasma_albumin_level_52    3719377    3707409   \n",
       "48                Plasma_alkaline_phosphatase_level_49    3290802    3281396   \n",
       "49                             Plasma_calcium_level_40    1294409    1286874   \n",
       "50                     Plasma_cholesterol_HDL_ratio_96     587483     575593   \n",
       "51                   Plasma_corrected_calcium_level_43    1168224     900092   \n",
       "52                          Plasma_creatinine_level_32    4513054    4489265   \n",
       "53                            Plasma_ferritin_level_62     220380     167898   \n",
       "54                             Plasma_free_T4_level_77     724108     681695   \n",
       "55          Plasma_gamma_glutamyl_transferase_level_58    1762750    1749440   \n",
       "56                           Plasma_potassium_level_27    4445152    4402840   \n",
       "57       Plasma_pro_brain_natriuretic_peptide_level_64      83343      70129   \n",
       "58                              Plasma_sodium_level_25    4458632    4425530   \n",
       "59                     Plasma_total_bilirubin_level_54    3443114    3429483   \n",
       "60                   Plasma_total_cholesterol_level_99    2331589    2302691   \n",
       "61                       Plasma_triglyceride_level_106    1573268    1548859   \n",
       "62                                Plasma_urea_level_30    1991274    1968449   \n",
       "63                                   Platelet_count_12   95904116   95382243   \n",
       "64                       Red_blood_cell__RBC__count_10   92326200   91855577   \n",
       "65                Red_blood_cell_distribution_width_17   49751137   46387000   \n",
       "66                Serum_25_Hydroxy_vitamin_D3_level_88    1211141     847628   \n",
       "67                   Serum_C_reactive_protein_level_59   19234068   16340825   \n",
       "68                     Serum_HDL_cholesterol_level_100   50953183   50016821   \n",
       "69                     Serum_LDL_cholesterol_level_102   30073152   29091476   \n",
       "70   Serum_N_terminal_pro_B_type_natriuretic_peptid...     383790     335656   \n",
       "71                                   Serum_T4_level_78     524777     450988   \n",
       "72                                  Serum_TSH_level_71   55655662   52458151   \n",
       "73             Serum_alanine_aminotransferase_level_45   46896239   46118828   \n",
       "74                                    Serum_albumin_51   83105055   82755894   \n",
       "75                       Serum_alkaline_phosphatase_50   76052242   75709587   \n",
       "76                            Serum_bilirubin_level_53   24090337   23943058   \n",
       "77                                    Serum_calcium_39   28049902   26929397   \n",
       "78                                Serum_cholesterol_97   57393841   55137024   \n",
       "79                      Serum_cholesterol_HDL_ratio_94   28586515   27949257   \n",
       "80                                 Serum_creatinine_31  102915170  101600210   \n",
       "81                                   Serum_ferritin_63   21412371   18831052   \n",
       "82                                     Serum_folate_80   14643748   13245269   \n",
       "83                              Serum_free_T4_level_75   22579062   21978910   \n",
       "84           Serum_gamma_glutamyl_transferase_level_57   22592131   21804090   \n",
       "85   Serum_non_high_density_lipoprotein_cholesterol...   10648096   10620740   \n",
       "86                                  Serum_potassium_26   99036754   97495916   \n",
       "87        Serum_pro_brain_natriuretic_peptide_level_65     243565     196058   \n",
       "88                                     Serum_sodium_24   99409745   98817250   \n",
       "89           Serum_total_25_hydroxy_vitamin_D_level_87    2178432    1882341   \n",
       "90                      Serum_total_bilirubin_level_56   54098383   53753453   \n",
       "91                    Serum_total_cholesterol_level_98    5185017    5100659   \n",
       "92                             Serum_triglycerides_105   42415036   41980818   \n",
       "93                                 Serum_urea_level_29   78670253   78276364   \n",
       "94                                Serum_vitamin_B12_79   16797696   15132281   \n",
       "95                           Serum_vitamin_D2_level_89     249092     204719   \n",
       "96                                  Serum_vitamin_D_86    2478806    1741767   \n",
       "97                           Systolic_blood_pressure_4  241541988  241223179   \n",
       "98                       TSH___thyroid_stim_hormone_72    3568579    3063531   \n",
       "99                                        TSH_level_74     507085     272902   \n",
       "100                 Total_25_hydroxyvitamin_D_level_91     333324     283455   \n",
       "101                      Total_alkaline_phosphatase_48    6461505    6422922   \n",
       "102                                 Total_bilirubin_55    2193031    2141609   \n",
       "103                     Total_cholesterol_HDL_ratio_95   15760772   15489099   \n",
       "104                          Total_white_cell_count_18   94827537   94179010   \n",
       "105                  Urine_albumin_creatinine_ratio_35   15107807   10249206   \n",
       "106             Urine_microalbumin_creatinine_ratio_36     201318      94009   \n",
       "107  eGFR_using_creatinine_CKD_EPI_per_1_73_square_...   12869245   11902149   \n",
       "\n",
       "                                                digest           min  \\\n",
       "0    ({'m': 0.0, 'c': 9.0}, {'m': 0.1, 'c': 112.0},...  0.000000e+00   \n",
       "1    ({'m': 0.1, 'c': 3.0}, {'m': 1.0, 'c': 314.0},...  0.000000e+00   \n",
       "2    ({'m': 0.0, 'c': 3901.0}, {'m': 0.770571428571...  0.000000e+00   \n",
       "3    ({'m': 0.0, 'c': 53.0}, {'m': 1.8, 'c': 1.0}, ... -5.000000e+00   \n",
       "4    ({'m': -1.0, 'c': 1.0}, {'m': 0.0, 'c': 4213.0... -1.000000e+00   \n",
       "5    ({'m': 0.0, 'c': 37098.0}, {'m': 0.01, 'c': 28... -1.000000e-01   \n",
       "6    ({'m': 0.0, 'c': 33.0}, {'m': 1.0, 'c': 1.0}, ...  0.000000e+00   \n",
       "7    ({'m': 0.0, 'c': 2746.0}, {'m': 0.09, 'c': 1.0...  0.000000e+00   \n",
       "8    ({'m': 0.0, 'c': 14.0}, {'m': 0.05, 'c': 1.0},... -3.268000e+04   \n",
       "9    ({'m': 0.0, 'c': 120.0}, {'m': 0.1, 'c': 1.0},...  0.000000e+00   \n",
       "10   ({'m': 0.99, 'c': 1.0}, {'m': 1.04, 'c': 1.0},...  0.000000e+00   \n",
       "11   ({'m': 0.0, 'c': 1.0}, {'m': 0.1, 'c': 15.0}, ... -8.400000e+00   \n",
       "12   ({'m': 0.0, 'c': 9.0}, {'m': 2.2, 'c': 1.0}, {...  0.000000e+00   \n",
       "13   ({'m': 0.0, 'c': 4.0}, {'m': 0.16, 'c': 1.0}, ... -2.580000e+00   \n",
       "14   ({'m': 0.0, 'c': 893.0}, {'m': 0.2, 'c': 2.0},... -2.030000e+03   \n",
       "15   ({'m': 0.0, 'c': 8.0}, {'m': 5.0, 'c': 1.0}, {... -1.200000e+02   \n",
       "16   ({'m': 0.0, 'c': 3017.0}, {'m': 0.01, 'c': 255... -6.000000e-01   \n",
       "17   ({'m': -4.0, 'c': 2.0}, {'m': 0.0, 'c': 127.0}... -2.000000e+01   \n",
       "18   ({'m': -1.0, 'c': 1.0}, {'m': 0.0, 'c': 3006.0... -2.030000e+03   \n",
       "19   ({'m': -9.1, 'c': 1.0}, {'m': -8.8, 'c': 1.0},... -1.340000e+02   \n",
       "20   ({'m': 0.0, 'c': 17.0}, {'m': 1.73, 'c': 1.0},... -9.000000e+01   \n",
       "21   ({'m': -0.29, 'c': 1.0}, {'m': -0.28, 'c': 5.0... -4.650000e-01   \n",
       "22   ({'m': 0.003, 'c': 2.0}, {'m': 0.004, 'c': 1.0...  0.000000e+00   \n",
       "23   ({'m': 0.0, 'c': 2.0}, {'m': 3.9, 'c': 1.0}, {... -7.900000e+01   \n",
       "24   ({'m': 0.0, 'c': 6.0}, {'m': 0.1, 'c': 1.0}, {...  0.000000e+00   \n",
       "25   ({'m': 1.38, 'c': 1.0}, {'m': 6.9, 'c': 1.0}, ... -1.120000e+02   \n",
       "26   ({'m': 0.0, 'c': 17.0}, {'m': 0.67, 'c': 1.0},... -4.100000e+01   \n",
       "27   ({'m': 0.0, 'c': 22.0}, {'m': 0.1, 'c': 3.0}, ...  0.000000e+00   \n",
       "28   ({'m': 0.0, 'c': 36.0}, {'m': 0.2, 'c': 2.0}, ... -3.400000e+01   \n",
       "29   ({'m': 0.0, 'c': 3.0}, {'m': 0.03, 'c': 2.0}, ... -3.500000e+01   \n",
       "30   ({'m': 0.0, 'c': 1.0}, {'m': 0.36, 'c': 1.0}, ... -2.950000e+02   \n",
       "31   ({'m': 10.8, 'c': 1.0}, {'m': 12.7, 'c': 2.0},... -2.890000e+01   \n",
       "32   ({'m': 0.3, 'c': 1.0}, {'m': 0.4, 'c': 1.0}, {... -1.004000e+02   \n",
       "33   ({'m': 0.0, 'c': 10.0}, {'m': 0.03, 'c': 2.0},... -4.000000e+00   \n",
       "34   ({'m': 0.0, 'c': 1.0}, {'m': 1.0, 'c': 8.0}, {...  0.000000e+00   \n",
       "35   ({'m': 0.0, 'c': 7.0}, {'m': 0.01, 'c': 1.0}, ... -6.700000e+01   \n",
       "36   ({'m': -25.0, 'c': 3.0}, {'m': -1.0, 'c': 2.0}... -2.500000e+01   \n",
       "37   ({'m': -1.6, 'c': 1.0}, {'m': -1.2, 'c': 1.0},... -1.600000e+00   \n",
       "38   ({'m': 0.0, 'c': 148.0}, {'m': 0.14, 'c': 1.0}... -1.079000e+05   \n",
       "39   ({'m': 0.0, 'c': 23.0}, {'m': 0.093, 'c': 1.0}... -1.170000e+04   \n",
       "40   ({'m': 0.0, 'c': 51.0}, {'m': 0.58, 'c': 12.0}...  0.000000e+00   \n",
       "41   ({'m': 0.0, 'c': 17.0}, {'m': 0.1, 'c': 821.0}... -3.814000e+03   \n",
       "42   ({'m': 0.0, 'c': 4.0}, {'m': 0.05, 'c': 1.0}, ...  0.000000e+00   \n",
       "43   ({'m': 0.0, 'c': 37.0}, {'m': 0.1, 'c': 3.0}, ...  0.000000e+00   \n",
       "44   ({'m': 0.2, 'c': 1.0}, {'m': 1.0, 'c': 31.0}, ...  2.000000e-01   \n",
       "45   ({'m': 0.0, 'c': 74.0}, {'m': 0.001, 'c': 1.0}... -7.800000e+00   \n",
       "46   ({'m': 0.0, 'c': 13.0}, {'m': 1.0, 'c': 4.0}, ...  0.000000e+00   \n",
       "47   ({'m': 0.0, 'c': 3.0}, {'m': 10.0, 'c': 1.0}, ...  0.000000e+00   \n",
       "48   ({'m': 0.0, 'c': 6.0}, {'m': 0.69, 'c': 1.0}, ... -2.400000e+01   \n",
       "49   ({'m': 0.0, 'c': 2.0}, {'m': 0.13, 'c': 2.0}, ...  0.000000e+00   \n",
       "50   ({'m': 0.0, 'c': 6.0}, {'m': 0.16, 'c': 1.0}, ...  0.000000e+00   \n",
       "51   ({'m': 0.0, 'c': 13.0}, {'m': 0.12, 'c': 1.0},...  0.000000e+00   \n",
       "52   ({'m': 0.0, 'c': 7.0}, {'m': 2.42, 'c': 1.0}, ...  0.000000e+00   \n",
       "53   ({'m': 0.0, 'c': 3655.0}, {'m': 0.1, 'c': 1.0}...  0.000000e+00   \n",
       "54   ({'m': 0.0, 'c': 547.0}, {'m': 0.0199999999999... -7.720000e+01   \n",
       "55   ({'m': 0.0, 'c': 6.0}, {'m': 3.0, 'c': 4.0}, {...  0.000000e+00   \n",
       "56   ({'m': 0.0, 'c': 33.0}, {'m': 1.3, 'c': 1.0}, ...  0.000000e+00   \n",
       "57   ({'m': 0.0, 'c': 12.0}, {'m': 0.01, 'c': 1.0},...  0.000000e+00   \n",
       "58   ({'m': 0.0, 'c': 6.0}, {'m': 4.5, 'c': 1.0}, {...  0.000000e+00   \n",
       "59   ({'m': 0.0, 'c': 36.0}, {'m': 0.9, 'c': 1.0}, ...  0.000000e+00   \n",
       "60   ({'m': 0.0, 'c': 2073.0}, {'m': 1.01, 'c': 3.0...  0.000000e+00   \n",
       "61   ({'m': 0.0, 'c': 8.0}, {'m': 0.1, 'c': 2.0}, {...  0.000000e+00   \n",
       "62   ({'m': 0.0, 'c': 5.0}, {'m': 0.3, 'c': 3.0}, {...  0.000000e+00   \n",
       "63   ({'m': 0.0, 'c': 4.0}, {'m': 1.44, 'c': 1.0}, ... -5.600000e+02   \n",
       "64   ({'m': 0.0, 'c': 3.0}, {'m': 0.81, 'c': 1.0}, ... -4.460000e+00   \n",
       "65   ({'m': 0.0, 'c': 2.0}, {'m': 5.2, 'c': 1.0}, {...  0.000000e+00   \n",
       "66   ({'m': 0.0, 'c': 18.0}, {'m': 0.5, 'c': 3.0}, ...  0.000000e+00   \n",
       "67   ({'m': 0.0, 'c': 21.0}, {'m': 0.1, 'c': 219.0}... -1.150000e+02   \n",
       "68   ({'m': 0.0, 'c': 9.0}, {'m': 0.06, 'c': 1.0}, ... -3.900000e+01   \n",
       "69   ({'m': -999994.31, 'c': 2.0}, {'m': -1.1, 'c':... -9.999943e+05   \n",
       "70   ({'m': 1.0, 'c': 13.0}, {'m': 1.478, 'c': 1.0}...  0.000000e+00   \n",
       "71   ({'m': -25.0, 'c': 7.0}, {'m': -20.0, 'c': 1.0... -2.500000e+01   \n",
       "72   ({'m': 0.0, 'c': 5.0}, {'m': 0.008, 'c': 12.0}... -2.143000e+01   \n",
       "73   ({'m': 2.0, 'c': 2.0}, {'m': 3.0, 'c': 12.0}, ... -4.300000e+01   \n",
       "74   ({'m': 2.14, 'c': 1.0}, {'m': 4.0, 'c': 1.0}, ... -4.500000e+01   \n",
       "75   ({'m': 0.6, 'c': 1.0}, {'m': 0.77, 'c': 1.0}, ... -1.650000e+02   \n",
       "76   ({'m': 0.0, 'c': 17.0}, {'m': 0.66, 'c': 1.0},... -1.912620e+05   \n",
       "77   ({'m': 0.0, 'c': 13.0}, {'m': 0.5, 'c': 1.0}, ... -2.120000e+00   \n",
       "78   ({'m': 0.0, 'c': 67.0}, {'m': 0.7, 'c': 1.0}, ... -7.500000e+01   \n",
       "79   ({'m': 0.0, 'c': 13.0}, {'m': 0.14, 'c': 1.0},... -3.400000e+00   \n",
       "80   ({'m': 1.0, 'c': 1.0}, {'m': 1.09, 'c': 1.0}, ... -4.212000e+04   \n",
       "81   ({'m': 0.0, 'c': 10.0}, {'m': 0.1, 'c': 1.0}, ... -2.810200e+06   \n",
       "82   ({'m': 0.0, 'c': 27.0}, {'m': 0.009, 'c': 1.0}... -2.000000e+01   \n",
       "83   ({'m': 0.0, 'c': 2.0}, {'m': 0.3, 'c': 4.0}, {...  0.000000e+00   \n",
       "84   ({'m': 0.0, 'c': 4.0}, {'m': 1.0, 'c': 1.0}, {... -4.620000e+02   \n",
       "85   ({'m': 0.17, 'c': 2.0}, {'m': 0.4, 'c': 2.0}, ... -2.500000e+00   \n",
       "86   ({'m': 1.8, 'c': 1.0}, {'m': 2.0, 'c': 1.0}, {... -2.179000e+03   \n",
       "87   ({'m': 0.0, 'c': 44.0}, {'m': 0.05, 'c': 2.0},...  0.000000e+00   \n",
       "88   ({'m': 1.18, 'c': 1.0}, {'m': 1.32, 'c': 1.0},... -1.400000e+02   \n",
       "89   ({'m': 2.0, 'c': 20.0}, {'m': 5.0, 'c': 15.0},...  0.000000e+00   \n",
       "90   ({'m': 1.0, 'c': 15.0}, {'m': 2.0, 'c': 110.0}... -2.000000e+00   \n",
       "91   ({'m': 0.0, 'c': 4.0}, {'m': 0.6, 'c': 1.0}, {... -7.600000e+00   \n",
       "92   ({'m': 0.0, 'c': 18.0}, {'m': 0.08, 'c': 1.0},... -3.762000e+02   \n",
       "93   ({'m': 0.2, 'c': 1.0}, {'m': 0.4, 'c': 1.0}, {... -2.410000e+01   \n",
       "94   ({'m': 0.0, 'c': 8.0}, {'m': 1.57, 'c': 1.0}, ... -5.781707e+08   \n",
       "95   ({'m': -5.0, 'c': 1.0}, {'m': 0.0, 'c': 1786.0... -5.000000e+00   \n",
       "96   ({'m': 0.0, 'c': 26.0}, {'m': 0.1, 'c': 2.0}, ... -3.970000e+01   \n",
       "97   ({'m': 0.0, 'c': 8.0}, {'m': 50.0, 'c': 1.0}, ... -2.000000e+02   \n",
       "98   ({'m': -0.36, 'c': 1.0}, {'m': -0.1, 'c': 1.0}... -5.000000e+01   \n",
       "99   ({'m': 0.0, 'c': 2901.0}, {'m': 0.001, 'c': 1.... -5.000000e-01   \n",
       "100  ({'m': 0.0, 'c': 1.0}, {'m': 0.9, 'c': 1.0}, {...  0.000000e+00   \n",
       "101  ({'m': 0.96, 'c': 1.0}, {'m': 1.09, 'c': 1.0},...  0.000000e+00   \n",
       "102  ({'m': 0.0, 'c': 314.0}, {'m': 0.14, 'c': 1.0}... -7.000000e+00   \n",
       "103  ({'m': 0.0, 'c': 21.0}, {'m': 0.001, 'c': 2.0}... -3.100000e+00   \n",
       "104  ({'m': -0.3, 'c': 1.0}, {'m': 0.0, 'c': 3.0}, ... -1.470000e+01   \n",
       "105  ({'m': 0.0, 'c': 213.0}, {'m': 0.01, 'c': 3.0}... -1.400000e+01   \n",
       "106  ({'m': 0.0, 'c': 5691.0}, {'m': 0.001, 'c': 53... -5.803000e+00   \n",
       "107  ({'m': 0.0, 'c': 1.0}, {'m': 4.0, 'c': 9.0}, {... -9.000000e+01   \n",
       "\n",
       "              max          mean   approx_lqr   approx_uqr  \n",
       "0    6.860000e+02  3.908721e+00    -4.646246    10.806670  \n",
       "1    9.518000e+02  4.714889e+01   -36.374906   121.281425  \n",
       "2    1.533000e+04  2.661963e+01     3.417134    41.771075  \n",
       "3    2.070000e+04  2.725168e+01     4.558863    41.966985  \n",
       "4    1.282100e+04  1.067255e+01    -4.327568     8.831512  \n",
       "5    1.111110e+05  5.008992e-02    -0.093801     0.160919  \n",
       "6    4.400000e+02  2.352980e+00     2.025402     2.622520  \n",
       "7    1.265000e+03  6.513018e+00     0.231978    11.019293  \n",
       "8    2.100000e+09  2.933050e+02    10.469322    43.324813  \n",
       "9    5.001420e+05  4.168786e+02  -245.085949   483.166025  \n",
       "10   2.790000e+02  2.365999e+00     2.085297     2.628290  \n",
       "11   2.400000e+02  2.819830e+00     0.180362     5.506026  \n",
       "12   1.222000e+03  5.235274e+01   -33.974404   127.176235  \n",
       "13   1.205201e+07  3.892081e+00     2.049077     2.602211  \n",
       "14   1.710202e+07  6.982623e+01   -11.221780    31.898993  \n",
       "15   9.066667e+11  3.849124e+03    48.776736   106.184113  \n",
       "16   4.444440e+05  2.339810e-01    -0.185137     0.578153  \n",
       "17   1.315371e+07  1.843387e+01   -21.913521    50.017065  \n",
       "18   2.000000e+08  4.101646e+02 -2956.165860  4927.808836  \n",
       "19   9.800000e+10  2.859576e+05     5.337435    24.968460  \n",
       "20   1.816032e+07  7.195087e+01    25.888325   111.550543  \n",
       "21   9.385000e+03  5.573050e+00     0.275683     0.544979  \n",
       "22   2.090678e+05  3.781405e+00     0.291792     0.528275  \n",
       "23   6.000952e+12  1.888003e+05    13.031609    74.376857  \n",
       "24   9.999990e+05  1.350703e+01     2.967688    11.229089  \n",
       "25   1.411201e+07  7.961700e+01    96.395174   177.320646  \n",
       "26   3.302112e+07  1.169712e+01     3.021371    11.061291  \n",
       "27   3.112000e+04  2.775144e+00     0.689719     4.323920  \n",
       "28   3.012201e+07  2.391763e+01     0.424694     4.289808  \n",
       "29   3.720369e+09  3.650021e+02     0.105927     3.929688  \n",
       "30   3.512660e+05  1.861975e+02   266.316086   388.669783  \n",
       "31   3.550000e+07  8.281642e+01    24.965489    35.383949  \n",
       "32   2.000000e+12  2.127458e+04    74.595518   105.847735  \n",
       "33   3.720369e+09  8.190597e+01    -0.015579     1.095040  \n",
       "34   7.501200e+04  7.599375e+02  -608.821562  1181.858777  \n",
       "35   3.720369e+09  8.505009e+01    -0.084158     7.892328  \n",
       "36   2.004000e+03  5.093185e+00 -1101.151007  1833.906998  \n",
       "37   3.407000e+03  3.447365e+00     0.440828     6.406259  \n",
       "38   1.980230e+10  6.643426e+02   131.908606   200.150988  \n",
       "39   4.000000e+12  5.843027e+04    17.514388   128.117937  \n",
       "40   5.711570e+05  2.149659e+02  -178.951794   367.603899  \n",
       "41   1.255000e+07  1.373701e+01   -11.241277    23.079187  \n",
       "42   3.720369e+09  1.763100e+03     0.341004     2.347240  \n",
       "43   5.020000e+02  2.839491e+00    -0.070710     5.739754  \n",
       "44   1.012460e+05  8.320501e+02  -634.281153  1243.613800  \n",
       "45   2.470000e+04  2.591849e+00    -1.343591     4.967441  \n",
       "46   1.096500e+04  2.680884e+01    -6.462309    51.710100  \n",
       "47   4.354350e+04  4.083299e+01    31.292998    50.402634  \n",
       "48   2.021600e+04  1.284950e+02   -59.841461   281.110518  \n",
       "49   3.780000e+02  2.376339e+00     2.066500     2.655478  \n",
       "50   9.990000e+02  3.794378e+00     0.611548     6.828527  \n",
       "51   2.480000e+02  2.347791e+00     2.070485     2.603971  \n",
       "52   3.720369e+09  9.151366e+02    29.784070   139.676969  \n",
       "53   2.478000e+04  8.423415e+01   -90.052732   192.319705  \n",
       "54   2.530000e+10  5.727122e+05     3.870309    21.266291  \n",
       "55   1.215100e+04  5.360479e+01   -26.335878    90.693909  \n",
       "56   3.720369e+09  8.491083e+02     2.902145     5.292348  \n",
       "57   6.686000e+04  5.495602e+02  -347.073412   670.153687  \n",
       "58   3.720369e+09  9.799688e+02   132.452214   146.099184  \n",
       "59   1.100000e+04  1.104913e+01    -0.968753    19.944682  \n",
       "60   3.720369e+09  1.620601e+03     1.638191     8.137137  \n",
       "61   3.720369e+09  2.403661e+03    -0.474888     3.433178  \n",
       "62   8.080000e+02  5.956689e+00     0.426599    10.133503  \n",
       "63   3.720369e+09  2.535123e+04    75.531884   439.259687  \n",
       "64   3.720369e+09  6.149268e+04     3.277186     5.871597  \n",
       "65   2.603070e+05  1.398563e+01    10.411794    16.548972  \n",
       "66   2.000000e+04  4.997980e+01   -34.650953   124.392685  \n",
       "67   2.104936e+08  2.375269e+01    -7.819155    16.997392  \n",
       "68   1.762016e+06  1.506581e+00     0.332601     2.370315  \n",
       "69   3.720369e+09  3.871861e+02    -0.011791     5.887797  \n",
       "70   1.247610e+05  7.859756e+02  -615.926335  1197.932939  \n",
       "71   1.550000e+11  5.216837e+06  -117.611101   233.412187  \n",
       "72   1.990000e+07  1.537853e+01    -1.158789     4.926810  \n",
       "73   2.060000e+05  2.705385e+01    -4.416892    48.131274  \n",
       "74   9.000000e+09  7.911712e+02    30.612767    50.919397  \n",
       "75   1.523013e+07  8.934480e+01    13.084213   146.109293  \n",
       "76   1.232190e+08  1.615846e+01    -1.751982    21.545361  \n",
       "77   7.042004e+06  2.638354e+00     2.058337     2.626330  \n",
       "78   3.720369e+09  7.465021e+01     1.748473     8.251556  \n",
       "79   3.720369e+09  1.368317e+02     0.642525     6.829988  \n",
       "80   3.720369e+09  5.354401e+02    23.438298   136.812468  \n",
       "81   1.905228e+08  1.202831e+02  -112.640919   247.002469  \n",
       "82   2.400000e+04  8.601245e+00    -4.579138    20.451140  \n",
       "83   1.000000e+11  5.508446e+05     4.277940    20.917435  \n",
       "84   7.022400e+04  5.737895e+01   -29.040429    94.768018  \n",
       "85   7.265600e+03  3.402179e+00     0.155159     6.481452  \n",
       "86   3.720369e+09  4.322233e+01     3.131876     5.470935  \n",
       "87   7.700000e+05  7.009120e+02  -500.257228   931.030086  \n",
       "88   6.910678e+07  1.413177e+02   132.031609   146.183544  \n",
       "89   9.210000e+02  5.323836e+01   -19.637594   123.961126  \n",
       "90   4.300000e+07  3.203331e+01    -0.908074    25.216474  \n",
       "91   1.010101e+06  5.174581e+00     1.667064     8.129886  \n",
       "92   3.720369e+09  4.449784e+02    -0.530537     3.288755  \n",
       "93   2.400000e+10  5.770647e+03     0.411447    10.238402  \n",
       "94   3.720369e+09  7.152044e+02   -93.149809   819.130194  \n",
       "95   7.280000e+02  1.481123e+01    -7.796967    20.647832  \n",
       "96   3.000000e+06  5.367082e+01   -30.185616   119.150739  \n",
       "97   1.111111e+11  6.007336e+02    82.366694   183.856668  \n",
       "98   8.100000e+06  2.560645e+01    -1.538781     5.139688  \n",
       "99   9.780000e+03  4.040092e+00    -1.962208     5.614803  \n",
       "100  1.229000e+03  4.803738e+01   -27.585736   120.402059  \n",
       "101  9.014000e+03  8.453068e+01    13.392947   138.915685  \n",
       "102  1.800000e+07  1.466419e+02    -2.308109    22.756147  \n",
       "103  3.720369e+09  9.647043e+02     0.503984     6.883091  \n",
       "104  3.720369e+09  2.501895e+02     1.595425    12.090323  \n",
       "105  1.000000e+10  9.960699e+02    -3.867288     8.042548  \n",
       "106  3.176800e+04  1.077503e+01    -4.142800     8.260179  \n",
       "107  8.713000e+04  7.427459e+01    22.625042   130.097152  "
      ]
     },
     "metadata": {},
     "output_type": "display_data"
    }
   ],
   "source": [
    "import pandas as pd\n",
    "pd.set_option('display.max_rows', 1000) #replace n with the number of columns you want to see completely\n",
    "for _key in dm.train_set.meta_information.keys():\n",
    "    display(dm.train_set.meta_information[_key])\n"
   ]
  }
 ],
 "metadata": {
  "kernelspec": {
   "display_name": "Python",
   "language": "python",
   "name": "sys_python"
  },
  "language_info": {
   "codemirror_mode": {
    "name": "ipython",
    "version": 3
   },
   "file_extension": ".py",
   "mimetype": "text/x-python",
   "name": "python",
   "nbconvert_exporter": "python",
   "pygments_lexer": "ipython3",
   "version": "3.10.4"
  }
 },
 "nbformat": 4,
 "nbformat_minor": 5
}
