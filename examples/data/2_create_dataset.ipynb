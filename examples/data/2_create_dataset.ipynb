{
 "cells": [
  {
   "cell_type": "markdown",
   "id": "3f58899f-4329-4fff-b4cb-cf80a4e7a4e4",
   "metadata": {},
   "source": [
    "# Creating the parquet dataset from SQLite tables"
   ]
  },
  {
   "cell_type": "code",
   "execution_count": 2,
   "id": "d9c70662-7dcf-4a1f-a343-8afd16a58be6",
   "metadata": {},
   "outputs": [
    {
     "name": "stdout",
     "output_type": "stream",
     "text": [
      "Added path '/rds/homes/g/gaddcz/Projects/CPRD/virtual-envTorch2.0-icelake/lib/python3.10/site-packages' at start of search paths.\n",
      "/rds/homes/g/gaddcz/Projects/CPRD/examples/data\n"
     ]
    }
   ],
   "source": [
    "import os\n",
    "from pathlib import Path\n",
    "import sys\n",
    "node_type = os.getenv('BB_CPU')\n",
    "venv_dir = f'/rds/homes/g/gaddcz/Projects/CPRD/virtual-envTorch2.0-{node_type}'\n",
    "venv_site_pkgs = Path(venv_dir) / 'lib' / f'python{sys.version_info.major}.{sys.version_info.minor}' / 'site-packages'\n",
    "if venv_site_pkgs.exists():\n",
    "    sys.path.insert(0, str(venv_site_pkgs))\n",
    "    print(f\"Added path '{venv_site_pkgs}' at start of search paths.\")\n",
    "else:\n",
    "    print(f\"Path '{venv_site_pkgs}' not found. Check that it exists and/or that it exists for node-type '{node_type}'.\")\n",
    "\n",
    "!pwd\n",
    "\n",
    "%load_ext autoreload\n",
    "%autoreload 2"
   ]
  },
  {
   "cell_type": "code",
   "execution_count": 3,
   "id": "f229a9ea-a77b-45ea-b5db-da34e291ccf8",
   "metadata": {},
   "outputs": [
    {
     "name": "stdout",
     "output_type": "stream",
     "text": [
      "Using device: cuda.\n"
     ]
    }
   ],
   "source": [
    "import torch\n",
    "from hydra import compose, initialize\n",
    "from omegaconf import OmegaConf\n",
    "from CPRD.data.foundational_loader import FoundationalDataModule\n",
    "import logging\n",
    "import time\n",
    "\n",
    "torch.manual_seed(1337)\n",
    "\n",
    "logging.basicConfig(level=logging.INFO)\n",
    "device = 'cuda' if torch.cuda.is_available() else 'cpu'\n",
    "# device = \"cpu\"    # if more informative debugging statements are needed\n",
    "print(f\"Using device: {device}.\")\n"
   ]
  },
  {
   "cell_type": "code",
   "execution_count": 4,
   "id": "ff00f74b-f1a5-43d3-8e28-6c302d43b88e",
   "metadata": {},
   "outputs": [
    {
     "name": "stdout",
     "output_type": "stream",
     "text": [
      "is_decoder: true\n",
      "data:\n",
      "  batch_size: 64\n",
      "  unk_freq_threshold: 0.0\n",
      "  min_workers: 20\n",
      "  global_diagnoses: false\n",
      "  path_to_db: /rds/projects/g/gokhalkm-optimal/OPTIMAL_MASTER_DATASET/data/FoundationalModel/\n",
      "  path_to_ds: /rds/projects/g/gokhalkm-optimal/OPTIMAL_MASTER_DATASET/data/FoundationalModel/PreTrain/\n",
      "  meta_information_path: /rds/projects/g/gokhalkm-optimal/OPTIMAL_MASTER_DATASET/data/FoundationalModel/PreTrain/meta_information.pickle\n",
      "experiment:\n",
      "  project_name: SurvStreamGPT_${head.SurvLayer}\n",
      "  run_id: PreTrain_${head.SurvLayer}_129M_${experiment.seed}\n",
      "  train: true\n",
      "  test: true\n",
      "  verbose: true\n",
      "  seed: 1337\n",
      "  log: true\n",
      "  log_dir: /rds/projects/s/subramaa-mum-predict/CharlesGadd_Oxford/FoundationModelOutput/\n",
      "  ckpt_dir: /rds/projects/s/subramaa-mum-predict/CharlesGadd_Oxford/FoundationModelOutput/checkpoints/\n",
      "optim:\n",
      "  num_epochs: 1\n",
      "  learning_rate: 0.0001\n",
      "  scheduler: CAWarmRestarts\n",
      "  scheduler_periods: 5000\n",
      "  scheduler_warmup: true\n",
      "  lr_cosine_decay_period: 10000000.0\n",
      "  val_check_interval: 1000\n",
      "  early_stop: false\n",
      "  early_stop_patience: 5\n",
      "  log_every_n_steps: 20\n",
      "  limit_val_batches: 0.05\n",
      "  limit_test_batches: 0.05\n",
      "transformer:\n",
      "  block_type: Neo\n",
      "  block_size: 128\n",
      "  n_layer: 10\n",
      "  n_head: 8\n",
      "  n_embd: 1024\n",
      "  layer_norm_bias: false\n",
      "  attention_type: global\n",
      "  bias: true\n",
      "  dropout: 0.2\n",
      "  attention_dropout: 0.2\n",
      "  resid_dropout: 0.2\n",
      "head:\n",
      "  SurvLayer: cr\n",
      "  surv_weight: 0.5\n",
      "  tokens_for_univariate_regression: None\n",
      "  value_weight: 0.5\n",
      "\n"
     ]
    }
   ],
   "source": [
    "# load the configuration file, override any settings \n",
    "with initialize(version_base=None, config_path=\"../modelling/SurvStreamGPT/confs\", job_name=\"dataset_creation_notebook\"):\n",
    "    cfg = compose(config_name=\"config_CompetingRisk129M\", overrides=[])\n",
    "print(OmegaConf.to_yaml(cfg))"
   ]
  },
  {
   "cell_type": "code",
   "execution_count": 9,
   "id": "626b7aba-8aca-4859-b0c9-d6a58f4bcd4e",
   "metadata": {},
   "outputs": [
    {
     "name": "stderr",
     "output_type": "stream",
     "text": [
      "INFO:root:Using meta information from /rds/projects/g/gokhalkm-optimal/OPTIMAL_MASTER_DATASET/data/FoundationalModel/PreTrain/meta_information.pickle\n",
      "INFO:root:Using train file-row count dictionary from /rds/projects/g/gokhalkm-optimal/OPTIMAL_MASTER_DATASET/data/FoundationalModel/PreTrain/file_row_count_dict_train.pickle\n",
      "INFO:root:Using test file-row count dictionary from /rds/projects/g/gokhalkm-optimal/OPTIMAL_MASTER_DATASET/data/FoundationalModel/PreTrain/file_row_count_dict_test.pickle\n",
      "INFO:root:Using val file-row count dictionary from /rds/projects/g/gokhalkm-optimal/OPTIMAL_MASTER_DATASET/data/FoundationalModel/PreTrain/file_row_count_dict_val.pickle\n",
      "INFO:root:Tokenzier created based on 3584.43M tokens\n",
      "INFO:root:Using tabular tokenizer, created from meta information and containing 184 tokens\n",
      "INFO:root:Loaded /rds/projects/g/gokhalkm-optimal/OPTIMAL_MASTER_DATASET/data/FoundationalModel/PreTrain/split=train/ dataset, with 23,343,104 samples\n",
      "INFO:root:Loaded /rds/projects/g/gokhalkm-optimal/OPTIMAL_MASTER_DATASET/data/FoundationalModel/PreTrain/split=test/ dataset, with 1,263,168 samples\n",
      "INFO:root:Loaded /rds/projects/g/gokhalkm-optimal/OPTIMAL_MASTER_DATASET/data/FoundationalModel/PreTrain/split=val/ dataset, with 1,233,601 samples\n"
     ]
    },
    {
     "name": "stdout",
     "output_type": "stream",
     "text": [
      "23343104 training patients\n",
      "1233601 validation patients\n",
      "1263168 test patients\n",
      "184 vocab elements\n"
     ]
    }
   ],
   "source": [
    "# Build \n",
    "dm = FoundationalDataModule(path_to_db=cfg.data.path_to_db,\n",
    "                            path_to_ds=cfg.data.path_to_ds,\n",
    "                            load=False,\n",
    "                            include_diagnoses=True,                            \n",
    "                            include_measurements=True,\n",
    "                            drop_missing_data=False,\n",
    "                            drop_empty_dynamic=True,\n",
    "                            tokenizer=\"tabular\",\n",
    "                            practice_inclusion_conditions=[\"COUNTRY = 'E'\"],\n",
    "                            overwrite_meta_information=cfg.data.meta_information_path,\n",
    "                           )\n",
    "\n",
    "vocab_size = dm.train_set.tokenizer.vocab_size\n",
    "\n",
    "print(f\"{len(dm.train_set)} training patients\")\n",
    "print(f\"{len(dm.val_set)} validation patients\")\n",
    "print(f\"{len(dm.test_set)} test patients\")\n",
    "print(f\"{vocab_size} vocab elements\")"
   ]
  },
  {
   "cell_type": "code",
   "execution_count": 7,
   "id": "330f3a17-32a1-4b8c-87e6-c16b489d7cdd",
   "metadata": {},
   "outputs": [
    {
     "name": "stdout",
     "output_type": "stream",
     "text": [
      "shape: (173, 3)\n",
      "┌──────────────────────────────────────────────────────────┬───────────┬───────────┐\n",
      "│ EVENT                                                    ┆ COUNT     ┆ FREQUENCY │\n",
      "│ ---                                                      ┆ ---       ┆ ---       │\n",
      "│ str                                                      ┆ u32       ┆ f64       │\n",
      "╞══════════════════════════════════════════════════════════╪═══════════╪═══════════╡\n",
      "│ UNK                                                      ┆ 151553    ┆ 0.000042  │\n",
      "│ HIVAIDS                                                  ┆ 41951     ┆ 0.000012  │\n",
      "│ PSORIATICARTHRITIS2021                                   ┆ 51273     ┆ 0.000014  │\n",
      "│ MS                                                       ┆ 53204     ┆ 0.000015  │\n",
      "│ Plasma_N_terminal_pro_B_type_natriuretic_peptide_conc_70 ┆ 53534     ┆ 0.000015  │\n",
      "│ LEUKAEMIA_PREVALENCEV2                                   ┆ 54438     ┆ 0.000015  │\n",
      "│ N_terminal_pro_brain_natriuretic_peptide_level_67        ┆ 57470     ┆ 0.000016  │\n",
      "│ ILD_SH                                                   ┆ 58104     ┆ 0.000016  │\n",
      "│ CHRONIC_LIVER_DISEASE_ALCOHOL                            ┆ 63405     ┆ 0.000018  │\n",
      "│ PERNICIOUSANAEMIA                                        ┆ 73331     ┆ 0.00002   │\n",
      "│ MENIERESDISEASE                                          ┆ 73688     ┆ 0.000021  │\n",
      "│ LYMPHOMA_PREVALENCE_V2                                   ┆ 80511     ┆ 0.000022  │\n",
      "│ CROHNS_DISEASE                                           ┆ 81250     ┆ 0.000023  │\n",
      "│ Plasma_B_natriuretic_peptide_level_69                    ┆ 82488     ┆ 0.000023  │\n",
      "│ CHRONICFATIGUESYNDROMEMM_V2                              ┆ 82799     ┆ 0.000023  │\n",
      "│ Plasma_pro_brain_natriuretic_peptide_level_64            ┆ 83343     ┆ 0.000023  │\n",
      "│ STROKE_HAEMRGIC                                          ┆ 83609     ┆ 0.000023  │\n",
      "│ PARKINSONS                                               ┆ 91718     ┆ 0.000026  │\n",
      "│ AORTICANEURYSM_V2                                        ┆ 101134    ┆ 0.000028  │\n",
      "│ BIPOLAR                                                  ┆ 108852    ┆ 0.00003   │\n",
      "│ BRONCHIECTASIS                                           ┆ 112618    ┆ 0.000031  │\n",
      "│ ULCERATIVE_COLITIS                                       ┆ 120361    ┆ 0.000034  │\n",
      "│ SCHIZOPHRENIAMM_V2                                       ┆ 125141    ┆ 0.000035  │\n",
      "│ PTSDDIAGNOSIS                                            ┆ 126269    ┆ 0.000035  │\n",
      "│ TYPE1DM                                                  ┆ 145143    ┆ 0.00004   │\n",
      "│ FIBROMYALGIA                                             ┆ 153213    ┆ 0.000043  │\n",
      "│ VISUAL_IMPAIRMENT                                        ┆ 155707    ┆ 0.000043  │\n",
      "│ AUTISM                                                   ┆ 156860    ┆ 0.000044  │\n",
      "│ NAFLD_V2                                                 ┆ 158688    ┆ 0.000044  │\n",
      "│ ISCHAEMICSTROKE_V2                                       ┆ 178437    ┆ 0.00005   │\n",
      "│ Albumin___creatinine_ratio_37                            ┆ 180911    ┆ 0.00005   │\n",
      "│ PVD_V3                                                   ┆ 185904    ┆ 0.000052  │\n",
      "│ EATINGDISORDERS                                          ┆ 191873    ┆ 0.000054  │\n",
      "│ PMRANDGCA                                                ┆ 195907    ┆ 0.000055  │\n",
      "│ RHEUMATOIDARTHRITIS                                      ┆ 197253    ┆ 0.000055  │\n",
      "│ Urine_microalbumin_creatinine_ratio_36                   ┆ 201318    ┆ 0.000056  │\n",
      "│ ENDOMETRIOSIS_ADENOMYOSIS_V2                             ┆ 209157    ┆ 0.000058  │\n",
      "│ HYPERTHYROIDISM_V2                                       ┆ 217964    ┆ 0.000061  │\n",
      "│ Plasma_ferritin_level_62                                 ┆ 220380    ┆ 0.000061  │\n",
      "│ Brain_natriuretic_peptide_level_66                       ┆ 229202    ┆ 0.000064  │\n",
      "│ OSA                                                      ┆ 234938    ┆ 0.000066  │\n",
      "│ Serum_pro_brain_natriuretic_peptide_level_65             ┆ 243565    ┆ 0.000068  │\n",
      "│ Serum_vitamin_D2_level_89                                ┆ 249092    ┆ 0.000069  │\n",
      "│ PAD_STRICT                                               ┆ 254632    ┆ 0.000071  │\n",
      "│ OTHER_CHRONIC_LIVER_DISEASE_OPTIMAL                      ┆ 289252    ┆ 0.000081  │\n",
      "│ POLYCYSTIC_OVARIAN_SYNDROME_PCOS_V2                      ┆ 332297    ┆ 0.000093  │\n",
      "│ Total_25_hydroxyvitamin_D_level_91                       ┆ 333324    ┆ 0.000093  │\n",
      "│ EPILEPSY                                                 ┆ 377341    ┆ 0.000105  │\n",
      "│ Serum_N_terminal_pro_B_type_natriuretic_peptide_conc_68  ┆ 383790    ┆ 0.000107  │\n",
      "│ VALVULARDISEASES_V2                                      ┆ 401061    ┆ 0.000112  │\n",
      "│ Blood_calcium_level_38                                   ┆ 415717    ┆ 0.000116  │\n",
      "│ INR___international_normalised_ratio_81                  ┆ 426165    ┆ 0.000119  │\n",
      "│ STROKEUNSPECIFIED_V2                                     ┆ 446046    ┆ 0.000124  │\n",
      "│ Combined_total_vitamin_D2_and_D3_level_93                ┆ 452984    ┆ 0.000126  │\n",
      "│ MINFARCTION                                              ┆ 477556    ┆ 0.000133  │\n",
      "│ SUBSTANCEMISUSE                                          ┆ 502552    ┆ 0.00014   │\n",
      "│ TSH_level_74                                             ┆ 507085    ┆ 0.000141  │\n",
      "│ Serum_T4_level_78                                        ┆ 524777    ┆ 0.000146  │\n",
      "│ HF_V3                                                    ┆ 524982    ┆ 0.000146  │\n",
      "│ ALL_DEMENTIA                                             ┆ 528602    ┆ 0.000147  │\n",
      "│ Plasma_cholesterol_HDL_ratio_96                          ┆ 587483    ┆ 0.000164  │\n",
      "│ OSTEOPOROSIS                                             ┆ 628118    ┆ 0.000175  │\n",
      "│ GOUT                                                     ┆ 632089    ┆ 0.000176  │\n",
      "│ Plasma_free_T4_level_77                                  ┆ 724108    ┆ 0.000202  │\n",
      "│ AF                                                       ┆ 731332    ┆ 0.000204  │\n",
      "│ PSORIASIS                                                ┆ 743897    ┆ 0.000208  │\n",
      "│ COPD                                                     ┆ 751320    ┆ 0.00021   │\n",
      "│ 25_Hydroxyvitamin_D2_level_92                            ┆ 782791    ┆ 0.000218  │\n",
      "│ Blood_urea_28                                            ┆ 785766    ┆ 0.000219  │\n",
      "│ 25_Hydroxyvitamin_D3_level_90                            ┆ 809104    ┆ 0.000226  │\n",
      "│ PERIPHERAL_NEUROPATHY                                    ┆ 840638    ┆ 0.000235  │\n",
      "│ HYPOTHYROIDISM_DRAFT_V1                                  ┆ 932079    ┆ 0.00026   │\n",
      "│ CKDSTAGE3TO5                                             ┆ 1088754   ┆ 0.000304  │\n",
      "│ ALCOHOLMISUSE_V2                                         ┆ 1125212   ┆ 0.000314  │\n",
      "│ IHDINCLUDINGMI_OPTIMALV2                                 ┆ 1162843   ┆ 0.000324  │\n",
      "│ Plasma_corrected_calcium_level_43                        ┆ 1168224   ┆ 0.000326  │\n",
      "│ PREVALENT_IBS_V2                                         ┆ 1210229   ┆ 0.000338  │\n",
      "│ Serum_25_Hydroxy_vitamin_D3_level_88                     ┆ 1211141   ┆ 0.000338  │\n",
      "│ Plasma_calcium_level_40                                  ┆ 1294409   ┆ 0.000361  │\n",
      "│ TYPE2DIABETES                                            ┆ 1404325   ┆ 0.000392  │\n",
      "│ Free_T4_level_76                                         ┆ 1405341   ┆ 0.000392  │\n",
      "│ Plasma_LDL_cholesterol_level_104                         ┆ 1434461   ┆ 0.0004    │\n",
      "│ Calcium_adjusted_level_41                                ┆ 1464226   ┆ 0.000408  │\n",
      "│ ALLCANCER_NOHAEM_NOBCC                                   ┆ 1496973   ┆ 0.000418  │\n",
      "│ Plasma_triglyceride_level_106                            ┆ 1573268   ┆ 0.000439  │\n",
      "│ DEATH                                                    ┆ 1629100   ┆ 0.000454  │\n",
      "│ AST___aspartate_transam_SGOT__46                         ┆ 1738489   ┆ 0.000485  │\n",
      "│ Plasma_gamma_glutamyl_transferase_level_58               ┆ 1762750   ┆ 0.000492  │\n",
      "│ Plasma_urea_level_30                                     ┆ 1991274   ┆ 0.000556  │\n",
      "│ Plasma_TSH_level_73                                      ┆ 2049380   ┆ 0.000572  │\n",
      "│ Plasma_HDL_cholesterol_level_101                         ┆ 2173456   ┆ 0.000606  │\n",
      "│ Serum_total_25_hydroxy_vitamin_D_level_87                ┆ 2178432   ┆ 0.000608  │\n",
      "│ Total_bilirubin_55                                       ┆ 2193031   ┆ 0.000612  │\n",
      "│ ANY_DEAFNESS_HEARING_LOSS_V2                             ┆ 2282766   ┆ 0.000637  │\n",
      "│ Plasma_total_cholesterol_level_99                        ┆ 2331589   ┆ 0.00065   │\n",
      "│ Non_HDL_cholesterol_level_108                            ┆ 2408310   ┆ 0.000672  │\n",
      "│ Serum_vitamin_D_86                                       ┆ 2478806   ┆ 0.000692  │\n",
      "│ OSTEOARTHRITIS                                           ┆ 2653242   ┆ 0.00074   │\n",
      "│ Plasma_alkaline_phosphatase_level_49                     ┆ 3290802   ┆ 0.000918  │\n",
      "│ ALLERGICRHINITISCONJ                                     ┆ 3291165   ┆ 0.000918  │\n",
      "│ Plasma_total_bilirubin_level_54                          ┆ 3443114   ┆ 0.000961  │\n",
      "│ ANXIETY                                                  ┆ 3560978   ┆ 0.000993  │\n",
      "│ TSH___thyroid_stim_hormone_72                            ┆ 3568579   ┆ 0.000996  │\n",
      "│ Plasma_albumin_level_52                                  ┆ 3719377   ┆ 0.001038  │\n",
      "│ HYPERTENSION                                             ┆ 3934473   ┆ 0.001098  │\n",
      "│ Plasma_alanine_aminotransferase_level_44                 ┆ 4012790   ┆ 0.00112   │\n",
      "│ DEPRESSION                                               ┆ 4109336   ┆ 0.001146  │\n",
      "│ ASTHMA_PUSHASTHMA                                        ┆ 4175115   ┆ 0.001165  │\n",
      "│ Haematocrit___PCV_16                                     ┆ 4346108   ┆ 0.001212  │\n",
      "│ ATOPICECZEMA                                             ┆ 4369082   ┆ 0.001219  │\n",
      "│ Plasma_potassium_level_27                                ┆ 4445152   ┆ 0.00124   │\n",
      "│ Plasma_sodium_level_25                                   ┆ 4458632   ┆ 0.001244  │\n",
      "│ Plasma_creatinine_level_32                               ┆ 4513054   ┆ 0.001259  │\n",
      "│ Serum_total_cholesterol_level_98                         ┆ 5185017   ┆ 0.001447  │\n",
      "│ Total_alkaline_phosphatase_48                            ┆ 6461505   ┆ 0.001803  │\n",
      "│ Haemoglobin_A1c_level_8                                  ┆ 6516701   ┆ 0.001818  │\n",
      "│ Calculated_LDL_cholesterol_level_103                     ┆ 6967780   ┆ 0.001944  │\n",
      "│ Plasma_C_reactive_protein_60                             ┆ 9155551   ┆ 0.002554  │\n",
      "│ Current_smoker_83                                        ┆ 10592787  ┆ 0.002955  │\n",
      "│ Serum_non_high_density_lipoprotein_cholesterol_level_107 ┆ 10648096  ┆ 0.002971  │\n",
      "│ AST_serum_level_47                                       ┆ 10837982  ┆ 0.003024  │\n",
      "│ eGFR_using_creatinine_CKD_EPI_per_1_73_square_metres_33  ┆ 12869245  ┆ 0.00359   │\n",
      "│ Serum_folate_80                                          ┆ 14643748  ┆ 0.004085  │\n",
      "│ HbA1c_level__DCCT_aligned__7                             ┆ 14948615  ┆ 0.00417   │\n",
      "│ Urine_albumin_creatinine_ratio_35                        ┆ 15107807  ┆ 0.004215  │\n",
      "│ Total_cholesterol_HDL_ratio_95                           ┆ 15760772  ┆ 0.004397  │\n",
      "│ Corrected_serum_calcium_level_42                         ┆ 16683796  ┆ 0.004655  │\n",
      "│ Serum_vitamin_B12_79                                     ┆ 16797696  ┆ 0.004686  │\n",
      "│ Serum_C_reactive_protein_level_59                        ┆ 19234068  ┆ 0.005366  │\n",
      "│ Serum_ferritin_63                                        ┆ 21412371  ┆ 0.005974  │\n",
      "│ Serum_free_T4_level_75                                   ┆ 22579062  ┆ 0.006299  │\n",
      "│ Serum_gamma_glutamyl_transferase_level_57                ┆ 22592131  ┆ 0.006303  │\n",
      "│ Serum_bilirubin_level_53                                 ┆ 24090337  ┆ 0.006721  │\n",
      "│ Ex_smoker_84                                             ┆ 24891632  ┆ 0.006944  │\n",
      "│ International_normalised_ratio_82                        ┆ 27966697  ┆ 0.007802  │\n",
      "│ Serum_calcium_39                                         ┆ 28049902  ┆ 0.007825  │\n",
      "│ Serum_cholesterol_HDL_ratio_94                           ┆ 28586515  ┆ 0.007975  │\n",
      "│ Erythrocyte_sedimentation_rate_61                        ┆ 29892785  ┆ 0.00834   │\n",
      "│ Serum_LDL_cholesterol_level_102                          ┆ 30073152  ┆ 0.00839   │\n",
      "│ Haemoglobin_A1c_level___IFCC_standardised_6              ┆ 35091904  ┆ 0.00979   │\n",
      "│ Serum_triglycerides_105                                  ┆ 42415036  ┆ 0.011833  │\n",
      "│ Serum_alanine_aminotransferase_level_45                  ┆ 46896239  ┆ 0.013083  │\n",
      "│ Red_blood_cell_distribution_width_17                     ┆ 49751137  ┆ 0.01388   │\n",
      "│ Serum_HDL_cholesterol_level_100                          ┆ 50953183  ┆ 0.014215  │\n",
      "│ Serum_total_bilirubin_level_56                           ┆ 54098383  ┆ 0.015093  │\n",
      "│ Serum_TSH_level_71                                       ┆ 55655662  ┆ 0.015527  │\n",
      "│ Serum_cholesterol_97                                     ┆ 57393841  ┆ 0.016012  │\n",
      "│ Never_smoked_tobacco_85                                  ┆ 60751822  ┆ 0.016949  │\n",
      "│ O_E___height_1                                           ┆ 69089436  ┆ 0.019275  │\n",
      "│ Mean_corpusc_Hb_conc__MCHC__14                           ┆ 70867102  ┆ 0.019771  │\n",
      "│ GFR_calculated_abbreviated_MDRD_34                       ┆ 73709249  ┆ 0.020564  │\n",
      "│ Serum_alkaline_phosphatase_50                            ┆ 76052242  ┆ 0.021217  │\n",
      "│ Haematocrit_15                                           ┆ 76582325  ┆ 0.021365  │\n",
      "│ Serum_urea_level_29                                      ┆ 78670253  ┆ 0.021948  │\n",
      "│ Serum_albumin_51                                         ┆ 83105055  ┆ 0.023185  │\n",
      "│ Basophil_count_22                                        ┆ 86869779  ┆ 0.024235  │\n",
      "│ Mean_corpusc_haemoglobin_MCH__13                         ┆ 90498376  ┆ 0.025248  │\n",
      "│ Eosinophil_count_21                                      ┆ 92193433  ┆ 0.025721  │\n",
      "│ Red_blood_cell__RBC__count_10                            ┆ 92326200  ┆ 0.025758  │\n",
      "│ Monocyte_count_23                                        ┆ 92489278  ┆ 0.025803  │\n",
      "│ Lymphocyte_count_20                                      ┆ 92896401  ┆ 0.025917  │\n",
      "│ Neutrophil_count_19                                      ┆ 93489124  ┆ 0.026082  │\n",
      "│ Mean_corpuscular_volume__MCV__11                         ┆ 94723195  ┆ 0.026426  │\n",
      "│ Total_white_cell_count_18                                ┆ 94827537  ┆ 0.026455  │\n",
      "│ Platelet_count_12                                        ┆ 95904116  ┆ 0.026756  │\n",
      "│ Haemoglobin_estimation_9                                 ┆ 97391693  ┆ 0.027171  │\n",
      "│ Serum_potassium_26                                       ┆ 99036754  ┆ 0.02763   │\n",
      "│ Serum_sodium_24                                          ┆ 99409745  ┆ 0.027734  │\n",
      "│ Body_mass_index_3                                        ┆ 99868822  ┆ 0.027862  │\n",
      "│ Serum_creatinine_31                                      ┆ 102915170 ┆ 0.028712  │\n",
      "│ O_E___weight_2                                           ┆ 117401338 ┆ 0.032753  │\n",
      "│ Diastolic_blood_pressure_5                               ┆ 241026671 ┆ 0.067243  │\n",
      "│ Systolic_blood_pressure_4                                ┆ 241541988 ┆ 0.067386  │\n",
      "└──────────────────────────────────────────────────────────┴───────────┴───────────┘\n"
     ]
    }
   ],
   "source": [
    "import polars as pl\n",
    "pl.Config.set_tbl_rows(200)\n",
    "pl.Config.set_fmt_str_lengths(100)\n",
    "print(dm.train_set.tokenizer._event_counts)"
   ]
  },
  {
   "cell_type": "markdown",
   "id": "fe0ae8d6-7899-4f89-ab4a-ff753c1fa9ba",
   "metadata": {},
   "source": [
    "# Test data loading times (so we can optimise cpu usage)"
   ]
  },
  {
   "cell_type": "code",
   "execution_count": 28,
   "id": "7d0164d4-9829-451e-a169-55569f4aaa22",
   "metadata": {},
   "outputs": [
    {
     "name": "stdout",
     "output_type": "stream",
     "text": [
      "/rds/projects/g/gokhalkm-optimal/OPTIMAL_MASTER_DATASET/data/FoundationalModel/PreTrain/split=train/\n"
     ]
    },
    {
     "name": "stderr",
     "output_type": "stream",
     "text": [
      "\n",
      "KeyboardInterrupt\n",
      "\n"
     ]
    }
   ],
   "source": [
    "import pyarrow.parquet as pq\n",
    "import time\n",
    "\n",
    "print(cfg.data.path_to_ds + \"split=train/\")\n",
    "dataset1 = pq.ParquetDataset(cfg.data.path_to_ds + \"split=train/\", \n",
    "                            filters=[('PRACTICE_ID','=','20040')]\n",
    "                            )\n",
    "\n",
    "# Time to read \n",
    "start = time.time()   # starting time\n",
    "df  = dataset1.read().to_pandas()\n",
    "print(df[df[\"row_nr\"] == df.row_nr[0]])\n",
    "print(time.time() - start)\n"
   ]
  },
  {
   "cell_type": "markdown",
   "id": "000ef6c1-4915-4e35-b98c-73dd7bfb4dd8",
   "metadata": {},
   "source": [
    "## Time to load individual samples"
   ]
  },
  {
   "cell_type": "code",
   "execution_count": 24,
   "id": "8bdc9021-702c-4b5f-a77b-6a49eac7e535",
   "metadata": {
    "scrolled": true
   },
   "outputs": [
    {
     "name": "stderr",
     "output_type": "stream",
     "text": [
      "  0%|          | 101/23343104 [00:04<299:32:25, 21.65it/s]"
     ]
    },
    {
     "name": "stdout",
     "output_type": "stream",
     "text": [
      "0.045749325378268375\n"
     ]
    },
    {
     "name": "stderr",
     "output_type": "stream",
     "text": [
      "\n"
     ]
    }
   ],
   "source": [
    "from tqdm import tqdm\n",
    "import numpy as np\n",
    "\n",
    "times = []\n",
    "start = time.time()   # starting time\n",
    "for row_idx, row in enumerate(tqdm(dm.train_set)):\n",
    "    # print(f\"Sample loaded in {time.time()-start} seconds\")\n",
    "    times.append(time.time()-start)\n",
    "    start = time.time()\n",
    "    if row_idx > 100:\n",
    "        break\n",
    "print(np.mean(times))"
   ]
  },
  {
   "cell_type": "markdown",
   "id": "c8c28dd6-0809-4d8e-8e21-caa148aafeea",
   "metadata": {},
   "source": [
    "## Time to load batch (with only one worker)"
   ]
  },
  {
   "cell_type": "code",
   "execution_count": 26,
   "id": "d9a9ee3b-bb5f-4272-94b9-40833d71384a",
   "metadata": {},
   "outputs": [
    {
     "name": "stderr",
     "output_type": "stream",
     "text": [
      "  0%|          | 3/364736 [00:28<954:26:42,  9.42s/it]"
     ]
    },
    {
     "name": "stdout",
     "output_type": "stream",
     "text": [
      "5.817609012126923\n"
     ]
    },
    {
     "name": "stderr",
     "output_type": "stream",
     "text": [
      "\n"
     ]
    }
   ],
   "source": [
    "times = []\n",
    "start = time.time()   # starting time\n",
    "for batch_idx, batch in enumerate(tqdm(dm.train_dataloader())):\n",
    "    # print(f\"batch loaded in {time.time()-start} seconds\")    \n",
    "    times.append(time.time()-start)\n",
    "    start = time.time()\n",
    "    if batch_idx > 2:\n",
    "        break\n",
    "print(np.mean(times))\n",
    "\n",
    "# for key in batch.keys():\n",
    "#     print(f\"{key}\".ljust(20) + f\"{batch[key].shape}\")\n",
    "\n",
    "# tokens = batch[\"tokens\"][0].tolist()    \n",
    "# sentence = dm.decode(tokens).split(\" \")\n",
    "# for token, value in zip(sentence, batch[\"values\"][0].tolist()):\n",
    "#     print(f\"{token}:\".ljust(40) + f\"{value}\")"
   ]
  },
  {
   "cell_type": "code",
   "execution_count": 27,
   "id": "46573a7f-6131-4f27-9877-feb27cc60789",
   "metadata": {},
   "outputs": [
    {
     "name": "stdout",
     "output_type": "stream",
     "text": [
      "Time to retrieve sample index 1236 was 0.0607302188873291 seconds\n",
      "\n",
      "SEX                 | F\n",
      "IMD                 | 4.0\n",
      "ETHNICITY           | ASIAN\n",
      "birth_year          | 2013.0\n",
      "\n",
      "Token                                                                      | Age               | Standardised value\n",
      "===================================================================================================================\n",
      "O_E___height_1                                                             | 47                | nan               \n",
      "O_E___weight_2                                                             | 47                | nan               \n",
      "O_E___weight_2                                                             | 1468              | nan               \n",
      "Body_mass_index_3                                                          | 1503              | -0.39             \n",
      "O_E___height_1                                                             | 1503              | nan               \n",
      "O_E___weight_2                                                             | 1503              | nan               \n",
      "GFR_calculated_abbreviated_MDRD_34                                         | 1520              | nan               \n",
      "Serum_TSH_level_71                                                         | 1520              | -0.02             \n",
      "Serum_alanine_aminotransferase_level_45                                    | 1520              | nan               \n",
      "Serum_albumin_51                                                           | 1520              | -0.04             \n",
      "Serum_creatinine_31                                                        | 1520              | -0.44             \n",
      "Serum_free_T4_level_75                                                     | 1520              | 0.13              \n"
     ]
    }
   ],
   "source": [
    "dm.train_set.view_sample(1236, max_dynamic_events=12, report_time=True)"
   ]
  },
  {
   "cell_type": "code",
   "execution_count": null,
   "id": "7abb3df6-37e5-4e8e-9a4e-3b4fb709a586",
   "metadata": {},
   "outputs": [],
   "source": []
  }
 ],
 "metadata": {
  "kernelspec": {
   "display_name": "Python",
   "language": "python",
   "name": "sys_python"
  },
  "language_info": {
   "codemirror_mode": {
    "name": "ipython",
    "version": 3
   },
   "file_extension": ".py",
   "mimetype": "text/x-python",
   "name": "python",
   "nbconvert_exporter": "python",
   "pygments_lexer": "ipython3",
   "version": "3.10.4"
  }
 },
 "nbformat": 4,
 "nbformat_minor": 5
}
