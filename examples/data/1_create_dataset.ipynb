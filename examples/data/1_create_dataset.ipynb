{
 "cells": [
  {
   "cell_type": "code",
   "execution_count": 1,
   "id": "d9c70662-7dcf-4a1f-a343-8afd16a58be6",
   "metadata": {},
   "outputs": [
    {
     "name": "stdout",
     "output_type": "stream",
     "text": [
      "Added path '/rds/homes/g/gaddcz/Projects/CPRD/virtual-env-icelake/lib/python3.10/site-packages' at start of search paths.\n"
     ]
    }
   ],
   "source": [
    "import os\n",
    "from pathlib import Path\n",
    "import sys\n",
    "node_type = os.getenv('BB_CPU')\n",
    "venv_dir = f'/rds/homes/g/gaddcz/Projects/CPRD/virtual-env-{node_type}'\n",
    "venv_site_pkgs = Path(venv_dir) / 'lib' / f'python{sys.version_info.major}.{sys.version_info.minor}' / 'site-packages'\n",
    "if venv_site_pkgs.exists():\n",
    "    sys.path.insert(0, str(venv_site_pkgs))\n",
    "    print(f\"Added path '{venv_site_pkgs}' at start of search paths.\")\n",
    "else:\n",
    "    print(f\"Path '{venv_site_pkgs}' not found. Check that it exists and/or that it exists for node-type '{node_type}'.\")"
   ]
  },
  {
   "cell_type": "code",
   "execution_count": 2,
   "id": "f229a9ea-a77b-45ea-b5db-da34e291ccf8",
   "metadata": {},
   "outputs": [
    {
     "ename": "ValueError",
     "evalue": "source code string cannot contain null bytes",
     "output_type": "error",
     "traceback": [
      "\u001b[0;31m---------------------------------------------------------------------------\u001b[0m",
      "\u001b[0;31mValueError\u001b[0m                                Traceback (most recent call last)",
      "Cell \u001b[0;32mIn [2], line 3\u001b[0m\n\u001b[1;32m      1\u001b[0m \u001b[38;5;28;01mimport\u001b[39;00m \u001b[38;5;21;01mtorch\u001b[39;00m\n\u001b[1;32m      2\u001b[0m \u001b[38;5;28;01mfrom\u001b[39;00m \u001b[38;5;21;01mdataclasses\u001b[39;00m \u001b[38;5;28;01mimport\u001b[39;00m dataclass\n\u001b[0;32m----> 3\u001b[0m \u001b[38;5;28;01mfrom\u001b[39;00m \u001b[38;5;21;01mCPRD\u001b[39;00m\u001b[38;5;21;01m.\u001b[39;00m\u001b[38;5;21;01mdata\u001b[39;00m\u001b[38;5;21;01m.\u001b[39;00m\u001b[38;5;21;01mfoundational_loader\u001b[39;00m \u001b[38;5;28;01mimport\u001b[39;00m FoundationalDataModule\n\u001b[1;32m      4\u001b[0m \u001b[38;5;28;01mimport\u001b[39;00m \u001b[38;5;21;01mlogging\u001b[39;00m\n\u001b[1;32m      5\u001b[0m \u001b[38;5;28;01mimport\u001b[39;00m \u001b[38;5;21;01mtime\u001b[39;00m\n",
      "File \u001b[0;32m~/Projects/CPRD/__init__.py:1\u001b[0m\n\u001b[0;32m----> 1\u001b[0m \u001b[38;5;28;01mfrom\u001b[39;00m \u001b[38;5;21;01m.\u001b[39;00m \u001b[38;5;28;01mimport\u001b[39;00m data\n\u001b[1;32m      2\u001b[0m \u001b[38;5;28;01mfrom\u001b[39;00m \u001b[38;5;21;01m.\u001b[39;00m \u001b[38;5;28;01mimport\u001b[39;00m examples\n\u001b[1;32m      3\u001b[0m \u001b[38;5;28;01mfrom\u001b[39;00m \u001b[38;5;21;01m.\u001b[39;00m \u001b[38;5;28;01mimport\u001b[39;00m src\n",
      "File \u001b[0;32m~/Projects/CPRD/data/__init__.py:1\u001b[0m\n\u001b[0;32m----> 1\u001b[0m \u001b[38;5;28;01mfrom\u001b[39;00m \u001b[38;5;21;01m.\u001b[39;00m \u001b[38;5;28;01mimport\u001b[39;00m dataset\n\u001b[1;32m      2\u001b[0m \u001b[38;5;28;01mfrom\u001b[39;00m \u001b[38;5;21;01m.\u001b[39;00m \u001b[38;5;28;01mimport\u001b[39;00m database\n",
      "File \u001b[0;32m~/Projects/CPRD/data/dataset/__init__.py:1\u001b[0m\n\u001b[0;32m----> 1\u001b[0m \u001b[38;5;28;01mfrom\u001b[39;00m \u001b[38;5;21;01m.\u001b[39;00m \u001b[38;5;28;01mimport\u001b[39;00m dataset_polars\n",
      "File \u001b[0;32m~/Projects/CPRD/data/dataset/dataset_polars.py:11\u001b[0m\n\u001b[1;32m      9\u001b[0m \u001b[38;5;28;01mimport\u001b[39;00m \u001b[38;5;21;01mpickle\u001b[39;00m\n\u001b[1;32m     10\u001b[0m \u001b[38;5;28;01mimport\u001b[39;00m \u001b[38;5;21;01mnumpy\u001b[39;00m \u001b[38;5;28;01mas\u001b[39;00m \u001b[38;5;21;01mnp\u001b[39;00m\n\u001b[0;32m---> 11\u001b[0m \u001b[38;5;28;01mfrom\u001b[39;00m \u001b[38;5;21;01mCPRD\u001b[39;00m\u001b[38;5;21;01m.\u001b[39;00m\u001b[38;5;21;01mdata\u001b[39;00m\u001b[38;5;21;01m.\u001b[39;00m\u001b[38;5;21;01mdataset\u001b[39;00m\u001b[38;5;21;01m.\u001b[39;00m\u001b[38;5;21;01mcollector\u001b[39;00m \u001b[38;5;28;01mimport\u001b[39;00m SQLiteDataCollector\n\u001b[1;32m     12\u001b[0m \u001b[38;5;28;01mfrom\u001b[39;00m \u001b[38;5;21;01msklearn\u001b[39;00m\u001b[38;5;21;01m.\u001b[39;00m\u001b[38;5;21;01mmodel_selection\u001b[39;00m \u001b[38;5;28;01mimport\u001b[39;00m train_test_split \u001b[38;5;28;01mas\u001b[39;00m sk_split\n\u001b[1;32m     13\u001b[0m \u001b[38;5;28;01mimport\u001b[39;00m \u001b[38;5;21;01mlogging\u001b[39;00m\n",
      "\u001b[0;31mValueError\u001b[0m: source code string cannot contain null bytes"
     ]
    }
   ],
   "source": [
    "import torch\n",
    "from dataclasses import dataclass\n",
    "from CPRD.data.foundational_loader import FoundationalDataModule\n",
    "import logging\n",
    "import time\n",
    "\n",
    "logging.basicConfig(level=logging.DEBUG)\n",
    "# torch.manual_seed(1337)\n",
    "# device = 'cuda' if torch.cuda.is_available() else 'cpu'\n",
    "# print(device)\n",
    "\n",
    "!pwd\n",
    "%load_ext autoreload\n",
    "%autoreload 2"
   ]
  },
  {
   "cell_type": "code",
   "execution_count": null,
   "id": "ff00f74b-f1a5-43d3-8e28-6c302d43b88e",
   "metadata": {},
   "outputs": [],
   "source": [
    "# Set config to be equivalent architecture of kaparthy benchmark, however they are not comparable tasks.\n",
    "@dataclass\n",
    "class DemoConfig:\n",
    "    block_size: int = 128        # what is the maximum context length for predictions?\n",
    "    n_layer: int = 6\n",
    "    n_head: int = 6\n",
    "    n_embd: int = 384\n",
    "    bias: bool = True\n",
    "    attention_type: str = \"global\"    \n",
    "    dropout: float = 0.0\n",
    "    unk_freq_threshold: float = 0.0\n",
    "    TTELayer = \"Exponential\"                                  # \"Geometric\"\n",
    "    tokens_for_univariate_regression = None\n",
    "\n",
    "config = DemoConfig()\n",
    "\n",
    "@dataclass\n",
    "class OptConfig:\n",
    "    batch_size: int = 16\n",
    "    eval_interval: int = 1\n",
    "    learning_rate: float = 3e-4\n",
    "    epochs: int = 50\n",
    "    \n",
    "opt = OptConfig()"
   ]
  },
  {
   "cell_type": "code",
   "execution_count": null,
   "id": "626b7aba-8aca-4859-b0c9-d6a58f4bcd4e",
   "metadata": {},
   "outputs": [
    {
     "name": "stderr",
     "output_type": "stream",
     "text": [
      "INFO:root:Building Polars dataset and saving to /rds/projects/g/gokhalkm-optimal/OPTIMAL_MASTER_DATASET/data/polars/\n",
      "INFO:root:Connected to SQLite database\n",
      "INFO:root:Chunking by unique practice ID: no inclusion conditions\n",
      "DEBUG:root:Query: SELECT DISTINCT SUBSTR(PRACTICE_PATIENT_ID, 1, INSTR(PRACTICE_PATIENT_ID, '_') - 1) FROM static_table WHERE PRACTICE_PATIENT_ID LIKE '%_%'\n",
      "INFO:root:Creating train/test/val splits using practice_patient_ids\n",
      "INFO:root:Collecting meta information of training split for tokenization/standardisation\n",
      "  0%|          | 0/1341 [00:00<?, ?it/s]DEBUG:root:p21199\n",
      "DEBUG:root:Query: SELECT DISTINCT EVENT FROM diagnosis_table;\n",
      "DEBUG:root:unique_diagnoses: ['AF', 'STROKE_HAEMRGIC', 'HYPERTENSION', 'MINFARCTION', 'PAD_STRICT', 'TYPE1DM', 'TYPE2DIABETES', 'CKDSTAGE3TO5', 'DEPRESSION', 'ANXIETY', 'BIPOLAR', 'EATINGDISORDERS', 'AUTISM', 'SUBSTANCEMISUSE', 'CHRONIC_LIVER_DISEASE_ALCOHOL', 'OTHER_CHRONIC_LIVER_DISEASE_OPTIMAL', 'ULCERATIVE_COLITIS', 'CROHNS_DISEASE', 'ALL_DEMENTIA', 'PARKINSONS', 'EPILEPSY', 'ASTHMA_PUSHASTHMA', 'COPD', 'OSA', 'BRONCHIECTASIS', 'CYSTICFIBROSIS', 'ATOPICECZEMA', 'ALLERGICRHINITISCONJ', 'HIVAIDS', 'OSTEOPOROSIS', 'OSTEOARTHRITIS', 'RHEUMATOIDARTHRITIS', 'GOUT', 'SYSTEMIC_LUPUS_ERYTHEMATOSUS', 'SJOGRENSSYNDROME', 'PMRANDGCA', 'HYPOTHYROIDISM_DRAFT_V1', 'HYPERTHYROIDISM_V2', 'ADDISON_DISEASE', 'MS', 'VISUAL_IMPAIRMENT', 'MENIERESDISEASE', 'PERIPHERAL_NEUROPATHY', 'DOWNSSYNDROME', 'PERNICIOUSANAEMIA', 'PSORIASIS', 'PSORIATICARTHRITIS2021', 'ILD_SH', 'PTSDDIAGNOSIS', 'PREVALENT_IBS_V2', 'ANY_DEAFNESS_HEARING_LOSS_V2', 'ENDOMETRIOSIS_ADENOMYOSIS_V2', 'POLYCYSTIC_OVARIAN_SYNDROME_PCOS_V2', 'SICKLE_CELL_DISEASE_V2', 'HAEMOCHROMATOSIS_V2', 'FIBROMYALGIA', 'HF_V3', 'ISCHAEMICSTROKE_V2', 'STROKEUNSPECIFIED_V2', 'IHDINCLUDINGMI_OPTIMALV2', 'PVD_V3', 'VALVULARDISEASES_V2', 'AORTICANEURYSM_V2', 'SCHIZOPHRENIAMM_V2', 'ALCOHOLMISUSE_V2', 'NAFLD_V2', 'ALLCANCER_NOHAEM_NOBCC', 'PLASMACELL_NEOPLASM_V2', 'LEUKAEMIA_PREVALENCEV2', 'LYMPHOMA_PREVALENCE_V2', 'SYSTEMIC_SCLEROSIS', 'CHRONICFATIGUESYNDROMEMM_V2', 'ADDISONS_DISEASE', 'DEATH']\n",
      "DEBUG:root:Query: SELECT DISTINCT EVENT FROM measurement_table;\n"
     ]
    }
   ],
   "source": [
    "# Get a list of patients which fit a reduced set of criterion\n",
    "# path_to_db = \"/rds/projects/g/gokhalkm-optimal/OPTIMAL_MASTER_DATASET/archive/Version2/\"\n",
    "path_to_db = \"/rds/projects/g/gokhalkm-optimal/OPTIMAL_MASTER_DATASET/data/\"\n",
    "\n",
    "# Build \n",
    "dm = FoundationalDataModule(path_to_db=path_to_db,\n",
    "                            load=False,\n",
    "                            include_measurements=True,\n",
    "                            drop_missing_data=True,\n",
    "                            include_diagnoses=True,\n",
    "                            drop_empty_dynamic=True,\n",
    "                            preprocess_measurements=True,\n",
    "                            tokenizer=\"tabular\",\n",
    "                            batch_size=opt.batch_size,\n",
    "                            max_seq_length=config.block_size,\n",
    "                            unk_freq_threshold=config.unk_freq_threshold,\n",
    "                            min_workers=1\n",
    "                           )\n",
    "\n",
    "vocab_size = dm.train_set.tokenizer.vocab_size\n",
    "\n",
    "print(f\"{len(dm.train_set)} training patients\")\n",
    "print(f\"{len(dm.val_set)} validation patients\")\n",
    "print(f\"{len(dm.test_set)} test patients\")\n",
    "print(f\"{vocab_size} vocab elements\")"
   ]
  },
  {
   "cell_type": "code",
   "execution_count": null,
   "id": "7d0164d4-9829-451e-a169-55569f4aaa22",
   "metadata": {},
   "outputs": [],
   "source": [
    "import pyarrow.parquet as pq\n",
    "\n",
    "dataset1 = pq.ParquetDataset(path_to_db + \"polars/split=train/\", \n",
    "                            filters=[('PRACTICE_ID','=','p20763')]\n",
    "                            )\n",
    "\n",
    "import time\n",
    "\n",
    "start = time.time()   # starting time\n",
    "df  = dataset1.read().to_pandas()\n",
    "df = df[df[\"row_nr\"] == 100]\n",
    "print(df)\n",
    "print(time.time() - start)\n"
   ]
  },
  {
   "cell_type": "code",
   "execution_count": null,
   "id": "8bdc9021-702c-4b5f-a77b-6a49eac7e535",
   "metadata": {},
   "outputs": [],
   "source": [
    "\n",
    "start = time.time()   # starting time\n",
    "for row_idx, row in enumerate(dm.train_set):\n",
    "    if row_idx >= opt.batch_size:\n",
    "        break\n",
    "print(f\"batch loaded in {time.time()-start} seconds\")"
   ]
  },
  {
   "cell_type": "code",
   "execution_count": null,
   "id": "d9a9ee3b-bb5f-4272-94b9-40833d71384a",
   "metadata": {},
   "outputs": [],
   "source": [
    "start = time.time()   # starting time\n",
    "for batch in dm.train_dataloader():\n",
    "    break\n",
    "print(f\"batch loaded in {time.time()-start} seconds\")    \n",
    "    \n",
    "for key in batch.keys():\n",
    "    print(f\"{key}\".ljust(20) + f\"{batch[key].shape}\")\n",
    "\n",
    "tokens = batch[\"tokens\"][0].tolist()    \n",
    "sentence = dm.decode(tokens).split(\" \")\n",
    "for token, value in zip(sentence, batch[\"values\"][0].tolist()):\n",
    "    print(f\"{token}:\".ljust(40) + f\"{value}\")"
   ]
  },
  {
   "cell_type": "code",
   "execution_count": null,
   "id": "46573a7f-6131-4f27-9877-feb27cc60789",
   "metadata": {},
   "outputs": [],
   "source": []
  }
 ],
 "metadata": {
  "kernelspec": {
   "display_name": "Python",
   "language": "python",
   "name": "sys_python"
  },
  "language_info": {
   "codemirror_mode": {
    "name": "ipython",
    "version": 3
   },
   "file_extension": ".py",
   "mimetype": "text/x-python",
   "name": "python",
   "nbconvert_exporter": "python",
   "pygments_lexer": "ipython3",
   "version": "3.10.4"
  }
 },
 "nbformat": 4,
 "nbformat_minor": 5
}
