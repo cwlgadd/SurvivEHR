{
 "cells": [
  {
   "cell_type": "markdown",
   "id": "3f58899f-4329-4fff-b4cb-cf80a4e7a4e4",
   "metadata": {},
   "source": [
    "# Creating the parquet dataset from SQLite tables"
   ]
  },
  {
   "cell_type": "code",
   "execution_count": 1,
   "id": "d9c70662-7dcf-4a1f-a343-8afd16a58be6",
   "metadata": {},
   "outputs": [
    {
     "name": "stdout",
     "output_type": "stream",
     "text": [
      "Added path '/rds/homes/g/gaddcz/Projects/CPRD/virtual-envTorch2.0-icelake/lib/python3.10/site-packages' at start of search paths.\n",
      "/rds/homes/g/gaddcz/Projects/CPRD/examples/data/1_build_database\n"
     ]
    }
   ],
   "source": [
    "import os\n",
    "from pathlib import Path\n",
    "import sys\n",
    "\n",
    "node_type = os.getenv('BB_CPU')\n",
    "venv_dir = f'/rds/homes/g/gaddcz/Projects/CPRD/virtual-envTorch2.0-{node_type}'\n",
    "venv_site_pkgs = Path(venv_dir) / 'lib' / f'python{sys.version_info.major}.{sys.version_info.minor}' / 'site-packages'\n",
    "if venv_site_pkgs.exists():\n",
    "    sys.path.insert(0, str(venv_site_pkgs))\n",
    "    print(f\"Added path '{venv_site_pkgs}' at start of search paths.\")\n",
    "else:\n",
    "    print(f\"Path '{venv_site_pkgs}' not found. Check that it exists and/or that it exists for node-type '{node_type}'.\")\n",
    "\n",
    "!pwd\n",
    "\n",
    "%load_ext autoreload\n",
    "%autoreload 2"
   ]
  },
  {
   "cell_type": "code",
   "execution_count": 4,
   "id": "f229a9ea-a77b-45ea-b5db-da34e291ccf8",
   "metadata": {},
   "outputs": [
    {
     "name": "stdout",
     "output_type": "stream",
     "text": [
      "Using device: cuda.\n"
     ]
    }
   ],
   "source": [
    "import pytorch_lightning\n",
    "import torch\n",
    "import numpy as np\n",
    "import matplotlib.pyplot as plt\n",
    "import random\n",
    "import sqlite3\n",
    "import logging\n",
    "from FastEHR.database.build_static_table import Static\n",
    "from FastEHR.database.build_diagnosis_table import Diagnoses\n",
    "from FastEHR.database.build_valued_event_tables import Measurements\n",
    "\n",
    "torch.manual_seed(1337)\n",
    "\n",
    "logging.basicConfig(level=logging.INFO)\n",
    "device = 'cuda' if torch.cuda.is_available() else 'cpu'\n",
    "# device = \"cpu\"    # if more informative debugging statements are needed\n",
    "print(f\"Using device: {device}.\")\n"
   ]
  },
  {
   "cell_type": "code",
   "execution_count": 5,
   "id": "ff00f74b-f1a5-43d3-8e28-6c302d43b88e",
   "metadata": {},
   "outputs": [],
   "source": [
    "# # load the configuration file, override any settings \n",
    "# with initialize(version_base=None, config_path=\"../modelling/SurvStreamGPT/confs\", job_name=\"dataset_creation_notebook\"):\n",
    "#     cfg = compose(config_name=\"config_CompetingRisk129M\", overrides=[])\n",
    "# print(OmegaConf.to_yaml(cfg))\n",
    "\n",
    "\n",
    "PATH_TO_DB = \"/rds/projects/g/gokhalkm-optimal/OPTIMAL_MASTER_DATASET/data/FoundationalModel/cprd_tmp.db\"\n",
    "PATH_TO_STATIC = \"/rds/projects/g/gokhalkm-optimal/OPTIMAL_MASTER_DATASET/data/baseline/masterDataOptimalWithIMD_v3.csv\"\n",
    "PATH_TO_DIAGNOSIS = \"/rds/projects/g/gokhalkm-optimal/OPTIMAL_MASTER_DATASET/data/baseline/masterDataOptimalWithIMD_v3.csv\"\n",
    "PATH_TO_MEASUREMENTS = \"/rds/projects/g/gokhalkm-optimal/OPTIMAL_MASTER_DATASET/data/timeseries/measurement_and_tests/lab_measurements/\"\n",
    "PATH_TO_MEDICATIONS = \"/rds/projects/g/gokhalkm-optimal/OPTIMAL_MASTER_DATASET/data/timeseries/medications/\"\n"
   ]
  },
  {
   "cell_type": "code",
   "execution_count": 11,
   "id": "4e6e752d-bbd3-4ffa-88dd-fbd353f4b1dd",
   "metadata": {},
   "outputs": [
    {
     "name": "stderr",
     "output_type": "stream",
     "text": [
      "Adding 25_Hydroxyvitamin_D2_level_92                                  : 0it [00:00, ?it/s]INFO:root:Used event_date_col 25-HYDROXYVITAMIN_D2_LEVEL_92EVENT_DATE, and event_value_col 25-HYDROXYVITAMIN_D2_LEVEL_92Value\n",
      "INFO:root:Selected from available columns ['PRACTICE_PATIENT_ID', 'INDEX_DATE', 'EXIT_DATE', '25-HYDROXYVITAMIN_D2_LEVEL_92EVENT_DATE', '25-HYDROXYVITAMIN_D2_LEVEL_92Value', '25-HYDROXYVITAMIN_D2_LEVEL_92NumUnit', '25-HYDROXYVITAMIN_D2_LEVEL_92LowRange', '25-HYDROXYVITAMIN_D2_LEVEL_92HighRange']\n",
      "Adding 25_Hydroxyvitamin_D2_level_92                                  : 4it [00:10,  2.65s/it]\n",
      "Adding 25_Hydroxyvitamin_D3_level_90                                  : 0it [00:00, ?it/s]INFO:root:Used event_date_col 25-HYDROXYVITAMIN_D3_LEVEL_90EVENT_DATE, and event_value_col 25-HYDROXYVITAMIN_D3_LEVEL_90Value\n",
      "INFO:root:Selected from available columns ['PRACTICE_PATIENT_ID', 'INDEX_DATE', 'EXIT_DATE', '25-HYDROXYVITAMIN_D3_LEVEL_90EVENT_DATE', '25-HYDROXYVITAMIN_D3_LEVEL_90Value', '25-HYDROXYVITAMIN_D3_LEVEL_90NumUnit', '25-HYDROXYVITAMIN_D3_LEVEL_90LowRange', '25-HYDROXYVITAMIN_D3_LEVEL_90HighRange']\n",
      "Adding 25_Hydroxyvitamin_D3_level_90                                  : 5it [00:11,  2.20s/it]\n",
      "Adding AST___aspartate_transam_SGOT__46                               : 0it [00:00, ?it/s]INFO:root:Used event_date_col AST_-_ASPARTATE_TRANSAM.(SGOT)_46EVENT_DATE, and event_value_col AST_-_ASPARTATE_TRANSAM.(SGOT)_46Value\n",
      "INFO:root:Selected from available columns ['PRACTICE_PATIENT_ID', 'INDEX_DATE', 'EXIT_DATE', 'AST_-_ASPARTATE_TRANSAM.(SGOT)_46EVENT_DATE', 'AST_-_ASPARTATE_TRANSAM.(SGOT)_46Value', 'AST_-_ASPARTATE_TRANSAM.(SGOT)_46NumUnit', 'AST_-_ASPARTATE_TRANSAM.(SGOT)_46LowRange', 'AST_-_ASPARTATE_TRANSAM.(SGOT)_46HighRange']\n",
      "Adding AST___aspartate_transam_SGOT__46                               : 3it [00:09,  3.16s/it]\n"
     ]
    },
    {
     "ename": "KeyboardInterrupt",
     "evalue": "",
     "output_type": "error",
     "traceback": [
      "\u001b[0;31m---------------------------------------------------------------------------\u001b[0m",
      "\u001b[0;31mKeyboardInterrupt\u001b[0m                         Traceback (most recent call last)",
      "Cell \u001b[0;32mIn [11], line 8\u001b[0m\n\u001b[1;32m      4\u001b[0m     logging\u001b[38;5;241m.\u001b[39mwarning(\u001b[38;5;124mf\u001b[39m\u001b[38;5;124m\"\u001b[39m\u001b[38;5;124mLoad is true, if you want to re-build database set to False\u001b[39m\u001b[38;5;124m\"\u001b[39m)\n\u001b[1;32m      6\u001b[0m \u001b[38;5;66;03m# static = Static(PATH_TO_DB, PATH_TO_STATIC, load=load)\u001b[39;00m\n\u001b[1;32m      7\u001b[0m \u001b[38;5;66;03m# diagnosis = Diagnoses(PATH_TO_DB, PATH_TO_DIAGNOSIS, load=load)\u001b[39;00m\n\u001b[0;32m----> 8\u001b[0m measurements \u001b[38;5;241m=\u001b[39m \u001b[43mMeasurements\u001b[49m\u001b[43m(\u001b[49m\u001b[43mPATH_TO_DB\u001b[49m\u001b[43m,\u001b[49m\u001b[43m \u001b[49m\u001b[43mPATH_TO_MEASUREMENTS\u001b[49m\u001b[43m,\u001b[49m\u001b[43m \u001b[49m\u001b[43mload\u001b[49m\u001b[38;5;241;43m=\u001b[39;49m\u001b[43mload\u001b[49m\u001b[43m)\u001b[49m\n\u001b[1;32m      9\u001b[0m medications \u001b[38;5;241m=\u001b[39m Measurements(PATH_TO_DB, PATH_TO_MEDICATIONS, load\u001b[38;5;241m=\u001b[39mload)\n\u001b[1;32m     11\u001b[0m \u001b[38;5;28;01mfor\u001b[39;00m table \u001b[38;5;129;01min\u001b[39;00m [static, diagnosis, measurements, medications]:\n",
      "File \u001b[0;32m~/Projects/FastEHR/database/build_valued_event_tables.py:55\u001b[0m, in \u001b[0;36mMeasurements.__init__\u001b[0;34m(self, db_path, path_to_data, load)\u001b[0m\n\u001b[1;32m     52\u001b[0m \u001b[38;5;28mself\u001b[39m\u001b[38;5;241m.\u001b[39mpath_to_data \u001b[38;5;241m=\u001b[39m path_to_data\n\u001b[1;32m     54\u001b[0m \u001b[38;5;28;01mif\u001b[39;00m load \u001b[38;5;129;01mis\u001b[39;00m \u001b[38;5;28;01mFalse\u001b[39;00m:\n\u001b[0;32m---> 55\u001b[0m     \u001b[38;5;28;43mself\u001b[39;49m\u001b[38;5;241;43m.\u001b[39;49m\u001b[43mbuild_table\u001b[49m\u001b[43m(\u001b[49m\u001b[43m)\u001b[49m\n",
      "File \u001b[0;32m~/Projects/FastEHR/database/build_valued_event_tables.py:103\u001b[0m, in \u001b[0;36mMeasurements.build_table\u001b[0;34m(self, unzip, verbose, **kwargs)\u001b[0m\n\u001b[1;32m    100\u001b[0m     measurement_name \u001b[38;5;241m=\u001b[39m \u001b[38;5;28mself\u001b[39m\u001b[38;5;241m.\u001b[39mextract_measurement_name(filename)\n\u001b[1;32m    102\u001b[0m     \u001b[38;5;28mself\u001b[39m\u001b[38;5;241m.\u001b[39m_create_measurement_partition(measurement_name)\n\u001b[0;32m--> 103\u001b[0m     \u001b[38;5;28;43mself\u001b[39;49m\u001b[38;5;241;43m.\u001b[39;49m\u001b[43m_file_to_measurement_table\u001b[49m\u001b[43m(\u001b[49m\u001b[43mfilename\u001b[49m\u001b[43m,\u001b[49m\u001b[43m \u001b[49m\u001b[43mmeasurement_name\u001b[49m\u001b[43m,\u001b[49m\u001b[43m \u001b[49m\u001b[43mverbose\u001b[49m\u001b[38;5;241;43m=\u001b[39;49m\u001b[43mverbose\u001b[49m\u001b[43m,\u001b[49m\u001b[43m \u001b[49m\u001b[38;5;241;43m*\u001b[39;49m\u001b[38;5;241;43m*\u001b[39;49m\u001b[43mkwargs\u001b[49m\u001b[43m)\u001b[49m\n\u001b[1;32m    105\u001b[0m     \u001b[38;5;28mself\u001b[39m\u001b[38;5;241m.\u001b[39mconnection\u001b[38;5;241m.\u001b[39mcommit()\n\u001b[1;32m    107\u001b[0m \u001b[38;5;28mself\u001b[39m\u001b[38;5;241m.\u001b[39mdisconnect()\n",
      "File \u001b[0;32m~/Projects/FastEHR/database/build_valued_event_tables.py:183\u001b[0m, in \u001b[0;36mMeasurements._file_to_measurement_table\u001b[0;34m(self, filename, measurement_name, chunksize, verbose)\u001b[0m\n\u001b[1;32m    180\u001b[0m     logging\u001b[38;5;241m.\u001b[39minfo(\u001b[38;5;124mf\u001b[39m\u001b[38;5;124m\"\u001b[39m\u001b[38;5;124mSelected from available columns \u001b[39m\u001b[38;5;132;01m{\u001b[39;00mfile_columns\u001b[38;5;241m.\u001b[39mtolist()\u001b[38;5;132;01m}\u001b[39;00m\u001b[38;5;124m\"\u001b[39m)\n\u001b[1;32m    181\u001b[0m     \u001b[38;5;66;03m# logging.debug(records)\u001b[39;00m\n\u001b[0;32m--> 183\u001b[0m \u001b[38;5;28;43mself\u001b[39;49m\u001b[38;5;241;43m.\u001b[39;49m\u001b[43m_records_to_table_measurement\u001b[49m\u001b[43m(\u001b[49m\u001b[43mrecords\u001b[49m\u001b[43m,\u001b[49m\u001b[43m \u001b[49m\u001b[43mmeasurement_name\u001b[49m\u001b[43m)\u001b[49m\n",
      "File \u001b[0;32m~/Projects/FastEHR/database/build_valued_event_tables.py:189\u001b[0m, in \u001b[0;36mMeasurements._records_to_table_measurement\u001b[0;34m(self, records, measurement_name, **kwargs)\u001b[0m\n\u001b[1;32m    185\u001b[0m \u001b[38;5;28;01mdef\u001b[39;00m \u001b[38;5;21m_records_to_table_measurement\u001b[39m(\u001b[38;5;28mself\u001b[39m, records, measurement_name, \u001b[38;5;241m*\u001b[39m\u001b[38;5;241m*\u001b[39mkwargs):\n\u001b[1;32m    186\u001b[0m \n\u001b[1;32m    187\u001b[0m         \n\u001b[1;32m    188\u001b[0m     \u001b[38;5;66;03m# Add rows to database....... (practice_id, patient_id, value, event, date) \u001b[39;00m\n\u001b[0;32m--> 189\u001b[0m     \u001b[38;5;28;43mself\u001b[39;49m\u001b[38;5;241;43m.\u001b[39;49m\u001b[43mcursor\u001b[49m\u001b[38;5;241;43m.\u001b[39;49m\u001b[43mexecutemany\u001b[49m\u001b[43m(\u001b[49m\u001b[38;5;124;43m'\u001b[39;49m\u001b[38;5;124;43mINSERT INTO measurement_\u001b[39;49m\u001b[38;5;124;43m'\u001b[39;49m\u001b[43m \u001b[49m\u001b[38;5;241;43m+\u001b[39;49m\u001b[43m \u001b[49m\u001b[43mmeasurement_name\u001b[49m\u001b[43m \u001b[49m\u001b[38;5;241;43m+\u001b[39;49m\u001b[43m \u001b[49m\u001b[38;5;124;43m'\u001b[39;49m\u001b[38;5;124;43m VALUES(?,?,?,?,?);\u001b[39;49m\u001b[38;5;124;43m'\u001b[39;49m\u001b[43m,\u001b[49m\u001b[43m \u001b[49m\u001b[43mrecords\u001b[49m\u001b[43m)\u001b[49m;           \u001b[38;5;66;03m# Add rows to database\u001b[39;00m\n\u001b[1;32m    191\u001b[0m     logging\u001b[38;5;241m.\u001b[39mdebug(\u001b[38;5;124mf\u001b[39m\u001b[38;5;124m'\u001b[39m\u001b[38;5;124mInserted \u001b[39m\u001b[38;5;132;01m{\u001b[39;00m\u001b[38;5;28mself\u001b[39m\u001b[38;5;241m.\u001b[39mcursor\u001b[38;5;241m.\u001b[39mrowcount\u001b[38;5;132;01m}\u001b[39;00m\u001b[38;5;124m records to the table.\u001b[39m\u001b[38;5;124m'\u001b[39m)\n",
      "File \u001b[0;32m/rds/bear-apps/2022a/EL8-ice/software/SciPy-bundle/2022.05-foss-2022a/lib/python3.10/site-packages/numpy/core/records.py:282\u001b[0m, in \u001b[0;36mrecord.__getitem__\u001b[0;34m(self, indx)\u001b[0m\n\u001b[1;32m    281\u001b[0m \u001b[38;5;28;01mdef\u001b[39;00m \u001b[38;5;21m__getitem__\u001b[39m(\u001b[38;5;28mself\u001b[39m, indx):\n\u001b[0;32m--> 282\u001b[0m     obj \u001b[38;5;241m=\u001b[39m \u001b[43mnt\u001b[49m\u001b[38;5;241;43m.\u001b[39;49m\u001b[43mvoid\u001b[49m\u001b[38;5;241;43m.\u001b[39;49m\u001b[38;5;21;43m__getitem__\u001b[39;49m\u001b[43m(\u001b[49m\u001b[38;5;28;43mself\u001b[39;49m\u001b[43m,\u001b[49m\u001b[43m \u001b[49m\u001b[43mindx\u001b[49m\u001b[43m)\u001b[49m\n\u001b[1;32m    284\u001b[0m     \u001b[38;5;66;03m# copy behavior of record.__getattribute__,\u001b[39;00m\n\u001b[1;32m    285\u001b[0m     \u001b[38;5;28;01mif\u001b[39;00m \u001b[38;5;28misinstance\u001b[39m(obj, nt\u001b[38;5;241m.\u001b[39mvoid) \u001b[38;5;129;01mand\u001b[39;00m obj\u001b[38;5;241m.\u001b[39mdtype\u001b[38;5;241m.\u001b[39mnames \u001b[38;5;129;01mis\u001b[39;00m \u001b[38;5;129;01mnot\u001b[39;00m \u001b[38;5;28;01mNone\u001b[39;00m:\n",
      "\u001b[0;31mKeyboardInterrupt\u001b[0m: "
     ]
    }
   ],
   "source": [
    "load = True\n",
    "\n",
    "if load:\n",
    "    logging.warning(f\"Load is true, if you want to re-build database set to False\")\n",
    "\n",
    "static = Static(PATH_TO_DB, PATH_TO_STATIC, load=load)\n",
    "diagnosis = Diagnoses(PATH_TO_DB, PATH_TO_DIAGNOSIS, load=load)\n",
    "measurements = Measurements(PATH_TO_DB, PATH_TO_MEASUREMENTS, load=load)\n",
    "medications = Measurements(PATH_TO_DB, PATH_TO_MEDICATIONS, load=load)\n",
    "\n",
    "for table in [static, diagnosis, measurements, medications]:\n",
    "    print(table)"
   ]
  },
  {
   "cell_type": "code",
   "execution_count": null,
   "id": "e76d6efa-c4d8-4c2a-ad2b-6747a169c5e4",
   "metadata": {},
   "outputs": [],
   "source": []
  }
 ],
 "metadata": {
  "kernelspec": {
   "display_name": "Python",
   "language": "python",
   "name": "sys_python"
  },
  "language_info": {
   "codemirror_mode": {
    "name": "ipython",
    "version": 3
   },
   "file_extension": ".py",
   "mimetype": "text/x-python",
   "name": "python",
   "nbconvert_exporter": "python",
   "pygments_lexer": "ipython3",
   "version": "3.10.4"
  }
 },
 "nbformat": 4,
 "nbformat_minor": 5
}
