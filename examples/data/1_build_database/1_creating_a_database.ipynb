{
 "cells": [
  {
   "cell_type": "markdown",
   "id": "3f58899f-4329-4fff-b4cb-cf80a4e7a4e4",
   "metadata": {},
   "source": [
    "# Creating the parquet dataset from SQLite tables"
   ]
  },
  {
   "cell_type": "code",
   "execution_count": 1,
   "id": "d9c70662-7dcf-4a1f-a343-8afd16a58be6",
   "metadata": {},
   "outputs": [
    {
     "name": "stdout",
     "output_type": "stream",
     "text": [
      "Added path '/rds/homes/g/gaddcz/Projects/CPRD/virtual-envTorch2.0-icelake/lib/python3.10/site-packages' at start of search paths.\n",
      "/rds/homes/g/gaddcz/Projects/CPRD/examples/data/1_build_database\n"
     ]
    }
   ],
   "source": [
    "import os\n",
    "from pathlib import Path\n",
    "import sys\n",
    "\n",
    "node_type = os.getenv('BB_CPU')\n",
    "venv_dir = f'/rds/homes/g/gaddcz/Projects/CPRD/virtual-envTorch2.0-{node_type}'\n",
    "venv_site_pkgs = Path(venv_dir) / 'lib' / f'python{sys.version_info.major}.{sys.version_info.minor}' / 'site-packages'\n",
    "if venv_site_pkgs.exists():\n",
    "    sys.path.insert(0, str(venv_site_pkgs))\n",
    "    print(f\"Added path '{venv_site_pkgs}' at start of search paths.\")\n",
    "else:\n",
    "    print(f\"Path '{venv_site_pkgs}' not found. Check that it exists and/or that it exists for node-type '{node_type}'.\")\n",
    "\n",
    "!pwd\n",
    "\n",
    "%load_ext autoreload\n",
    "%autoreload 2"
   ]
  },
  {
   "cell_type": "code",
   "execution_count": 2,
   "id": "f229a9ea-a77b-45ea-b5db-da34e291ccf8",
   "metadata": {},
   "outputs": [],
   "source": [
    "from FastEHR.database.build_db.build_static_table import Static\n",
    "from FastEHR.database.build_db.build_diagnosis_table import Diagnoses\n",
    "from FastEHR.database.build_db.build_valued_event_tables import Measurements"
   ]
  },
  {
   "cell_type": "markdown",
   "id": "8e7d7613-806b-46b5-b4a5-b869fdfcde8a",
   "metadata": {},
   "source": [
    "# Set paths"
   ]
  },
  {
   "cell_type": "code",
   "execution_count": null,
   "id": "ff00f74b-f1a5-43d3-8e28-6c302d43b88e",
   "metadata": {},
   "outputs": [],
   "source": [
    "PATH_TO_DB = \"/rds/projects/g/gokhalkm-optimal/OPTIMAL_MASTER_DATASET/data/FoundationalModel/cprd_new_example.db\"\n",
    "PATH_TO_STATIC = \"/rds/projects/g/gokhalkm-optimal/OPTIMAL_MASTER_DATASET/data/baseline/masterDataOptimalWithIMD_v3.csv\"\n",
    "PATH_TO_DIAGNOSIS = \"/rds/projects/g/gokhalkm-optimal/OPTIMAL_MASTER_DATASET/data/baseline/masterDataOptimalWithIMD_v3.csv\"\n",
    "PATH_TO_MEASUREMENTS = \"/rds/projects/g/gokhalkm-optimal/OPTIMAL_MASTER_DATASET/data/timeseries/measurement_and_tests/lab_measurements/\"\n",
    "PATH_TO_MEDICATIONS = \"/rds/projects/g/gokhalkm-optimal/OPTIMAL_MASTER_DATASET/data/timeseries/medications/\""
   ]
  },
  {
   "cell_type": "code",
   "execution_count": null,
   "id": "4e6e752d-bbd3-4ffa-88dd-fbd353f4b1dd",
   "metadata": {},
   "outputs": [],
   "source": [
    "load = False\n",
    "\n",
    "static = Static(PATH_TO_DB, PATH_TO_STATIC, load=load)\n",
    "diagnosis = Diagnoses(PATH_TO_DB, PATH_TO_DIAGNOSIS, load=load)\n",
    "measurements = Measurements(PATH_TO_DB, PATH_TO_MEASUREMENTS, load=load)\n",
    "medications = Measurements(PATH_TO_DB, PATH_TO_MEDICATIONS, load=load)\n",
    "\n",
    "for table in [static, diagnosis, measurements, medications]:\n",
    "    print(table)"
   ]
  },
  {
   "cell_type": "code",
   "execution_count": null,
   "id": "e76d6efa-c4d8-4c2a-ad2b-6747a169c5e4",
   "metadata": {},
   "outputs": [],
   "source": []
  }
 ],
 "metadata": {
  "kernelspec": {
   "display_name": "Python",
   "language": "python",
   "name": "sys_python"
  },
  "language_info": {
   "codemirror_mode": {
    "name": "ipython",
    "version": 3
   },
   "file_extension": ".py",
   "mimetype": "text/x-python",
   "name": "python",
   "nbconvert_exporter": "python",
   "pygments_lexer": "ipython3",
   "version": "3.10.4"
  }
 },
 "nbformat": 4,
 "nbformat_minor": 5
}
