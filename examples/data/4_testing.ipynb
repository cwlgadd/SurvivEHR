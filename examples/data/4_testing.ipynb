{
 "cells": [
  {
   "cell_type": "code",
   "execution_count": 1,
   "id": "5a050a1b-be44-4ca6-88dd-70c7da59979e",
   "metadata": {},
   "outputs": [
    {
     "name": "stdout",
     "output_type": "stream",
     "text": [
      "Added path '/rds/homes/g/gaddcz/Projects/CPRD/virtual-envTorch2.0-icelake/lib/python3.10/site-packages' at start of search paths.\n",
      "/rds/homes/g/gaddcz/Projects/CPRD/examples/data\n"
     ]
    }
   ],
   "source": [
    "import os\n",
    "from pathlib import Path\n",
    "import sys\n",
    "node_type = os.getenv('BB_CPU')\n",
    "venv_dir = f'/rds/homes/g/gaddcz/Projects/CPRD/virtual-envTorch2.0-{node_type}'\n",
    "venv_site_pkgs = Path(venv_dir) / 'lib' / f'python{sys.version_info.major}.{sys.version_info.minor}' / 'site-packages'\n",
    "if venv_site_pkgs.exists():\n",
    "    sys.path.insert(0, str(venv_site_pkgs))\n",
    "    print(f\"Added path '{venv_site_pkgs}' at start of search paths.\")\n",
    "else:\n",
    "    print(f\"Path '{venv_site_pkgs}' not found. Check that it exists and/or that it exists for node-type '{node_type}'.\")\n",
    "\n",
    "!pwd\n",
    "\n",
    "%load_ext autoreload\n",
    "%autoreload 2"
   ]
  },
  {
   "cell_type": "code",
   "execution_count": 2,
   "id": "d777c7cb-dd32-4370-bb24-1d05a8d415e3",
   "metadata": {},
   "outputs": [
    {
     "name": "stdout",
     "output_type": "stream",
     "text": [
      "Using device: cuda.\n"
     ]
    }
   ],
   "source": [
    "import torch\n",
    "import numpy as np\n",
    "import matplotlib.pyplot as plt\n",
    "import logging\n",
    "from tqdm import tqdm\n",
    "import pickle\n",
    "from hydra import compose, initialize\n",
    "from omegaconf import OmegaConf\n",
    "from CPRD.examples.modelling.SurvStreamGPT.experiment import run\n",
    "from CPRD.data.foundational_loader import FoundationalDataModule\n",
    "from CPRD.src.models.survival.task_heads.causal import SurvStreamGPTForCausalModelling\n",
    "\n",
    "import time\n",
    "import pyarrow.dataset as ds\n",
    "import pyarrow.parquet as pq\n",
    "import os\n",
    "import polars as pl\n",
    "pl.Config.set_tbl_rows(10000)\n",
    "import pandas as pd\n",
    "pd.options.display.max_rows = 10000\n",
    "\n",
    "torch.manual_seed(1337)\n",
    "torch.set_float32_matmul_precision('medium')\n",
    "\n",
    "logging.basicConfig(level=logging.INFO)\n",
    "device = 'cuda' if torch.cuda.is_available() else 'cpu'\n",
    "# device = \"cpu\"    # if more informative debugging statements are needed\n",
    "print(f\"Using device: {device}.\")\n",
    "\n",
    "path_to_dataset = \"/rds/projects/g/gokhalkm-optimal/OPTIMAL_MASTER_DATASET/data/polars/split=train/\""
   ]
  },
  {
   "cell_type": "markdown",
   "id": "5a46e746-6d76-4a16-a8e8-0335ce138662",
   "metadata": {},
   "source": [
    "# check how fast PyArrow/Dask is in comparison"
   ]
  },
  {
   "cell_type": "code",
   "execution_count": null,
   "id": "9928fdc2-2d10-4341-a24f-f027e32545be",
   "metadata": {},
   "outputs": [],
   "source": [
    "\n",
    "# start_time = time.time()\n",
    "# dataset = ds.dataset(path_to_dataset, format=\"parquet\", partitioning=\"hive\")\n",
    "# print(f\"Time to create dataset: {time.time() - start_time:.1f} seconds\")\n",
    "\n",
    "# start_time = time.time()\n",
    "# dataset = pq.ParquetDataset(path_to_dataset, validate_schema=False)\n",
    "# print(f\"Time to create dataset: {time.time() - start_time:.1f} seconds\")\n",
    "\n",
    "import dask.dataframe as dd\n",
    "# import pyarrow\n",
    "# schema = pyarrow.schema([\n",
    "#     ('HEALTH_AUTH', pyarrow.string())  # Replace with the correct type of HEALTH_AUTH\n",
    "# ])\n",
    "start_time = time.time()\n",
    "dataset = dd.read_parquet(path_to_dataset, engine='pyarrow')\n",
    "print(f\"Time to create dataset: {time.time() - start_time:.1f} seconds\")\n",
    "\n",
    "\n",
    "# print(dataset.schema.to_string(show_field_metadata=False))"
   ]
  },
  {
   "cell_type": "code",
   "execution_count": null,
   "id": "97febabc-7dae-4c08-8df6-f37c521ff223",
   "metadata": {},
   "outputs": [],
   "source": [
    "# ds.dataset (10s of seconds)\n",
    "start_time = time.time()\n",
    "display(dataset.take([1.5e6]).to_pandas())\n",
    "print(f\"Time to sample: {time.time() - start_time:.4f} seconds\")\n",
    "\n",
    "# predictate filtering (0.5 seconds)\n",
    "for index in range(100, 10000, 1002):\n",
    "    chunk = int(index / 500)\n",
    "    expression = ( ds.field('CHUNK') == chunk ) & (ds.field('row_nr') == index)\n",
    "    \n",
    "    start_time = time.time()\n",
    "    table = dataset.to_table(filter=expression).to_pandas()\n",
    "    print(time.time() - start_time)\n",
    "\n",
    "print(table)"
   ]
  },
  {
   "cell_type": "code",
   "execution_count": null,
   "id": "9307edc9-0272-4472-8840-ea0b52e9bb60",
   "metadata": {},
   "outputs": [],
   "source": [
    "# dask\n",
    "print(dataset.head())\n",
    "# index = 12345\n",
    "# chunk = int(index / 500)\n",
    "filtered_ddf = dataset.loc[index]\n",
    "result = filtered_ddf.compute()\n",
    "print(result)"
   ]
  },
  {
   "cell_type": "code",
   "execution_count": null,
   "id": "c1ac55aa-1c4a-4cd3-9c2e-ddc3052e5907",
   "metadata": {},
   "outputs": [],
   "source": []
  }
 ],
 "metadata": {
  "kernelspec": {
   "display_name": "Python",
   "language": "python",
   "name": "sys_python"
  },
  "language_info": {
   "codemirror_mode": {
    "name": "ipython",
    "version": 3
   },
   "file_extension": ".py",
   "mimetype": "text/x-python",
   "name": "python",
   "nbconvert_exporter": "python",
   "pygments_lexer": "ipython3",
   "version": "3.10.4"
  }
 },
 "nbformat": 4,
 "nbformat_minor": 5
}
