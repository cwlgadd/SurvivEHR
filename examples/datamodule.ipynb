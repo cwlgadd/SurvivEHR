{
 "cells": [
  {
   "cell_type": "markdown",
   "metadata": {
    "id": "wJpXpmjEYC_T"
   },
   "source": [
    "# Dataloader tutorial"
   ]
  },
  {
   "cell_type": "markdown",
   "metadata": {},
   "source": [
    "# Setup"
   ]
  },
  {
   "cell_type": "code",
   "execution_count": 1,
   "metadata": {},
   "outputs": [
    {
     "name": "stdout",
     "output_type": "stream",
     "text": [
      "cuda\n"
     ]
    }
   ],
   "source": [
    "import pytorch_lightning \n",
    "import torch\n",
    "import numpy as np\n",
    "import matplotlib.pyplot as plt\n",
    "import random\n",
    "import sqlite3\n",
    "from dataclasses import dataclass\n",
    "import logging\n",
    "\n",
    "import CPRD\n",
    "from CPRD.data.foundational_loader import FoundationalDataModule\n",
    "\n",
    "torch.manual_seed(1337)\n",
    "logging.basicConfig(level=logging.INFO)\n",
    "device = 'cuda' if torch.cuda.is_available() else 'cpu'\n",
    "print(device)\n",
    "\n",
    "# device = \"cpu\"    # just for debug errors"
   ]
  },
  {
   "cell_type": "code",
   "execution_count": 20,
   "metadata": {},
   "outputs": [],
   "source": [
    "# Set GPT config to be equivalent\n",
    "@dataclass\n",
    "class DemoConfig:\n",
    "    block_size: int = 32             # what is the maximum context length for predictions?\n",
    "    # n_layer: int = 6\n",
    "    # n_head: int = 6\n",
    "    # n_embd: int = 384\n",
    "    # pos_encoding: str = \"index-embedding\"                 # Manually adding later\n",
    "    # bias: bool = True\n",
    "    # attention_type: str = \"global\"    \n",
    "    # dropout: float = 0.0\n",
    "    unk_freq_threshold: float = 0.0\n",
    "\n",
    "config = DemoConfig()\n",
    "\n",
    "@dataclass\n",
    "class OptConfig:\n",
    "    batch_size: int = 64\n",
    "    # eval_interval: int = 1\n",
    "    # learning_rate: float = 3e-4\n",
    "    # epochs: int = 10\n",
    "    \n",
    "opt = OptConfig()"
   ]
  },
  {
   "cell_type": "markdown",
   "metadata": {},
   "source": [
    "# Data processing"
   ]
  },
  {
   "cell_type": "markdown",
   "metadata": {},
   "source": [
    "Data is first extracted from CPRD using [DExtER](https://link.springer.com/article/10.1007/s10654-020-00677-6) and is available within the optimal project master dataset. Some outlier filtering has already been done in this extraction, and the ICD diagnostic codes in CPRD have been summarised and processed."
   ]
  },
  {
   "cell_type": "code",
   "execution_count": 21,
   "metadata": {},
   "outputs": [
    {
     "name": "stdout",
     "output_type": "stream",
     "text": [
      "total 69K\n",
      "drwx--S--- 6 nobody nobody  16K Nov 13 10:25 \u001b[0m\u001b[01;34m.\u001b[0m\n",
      "drwx--S--- 7 nobody nobody 4.0K Nov 10 11:51 \u001b[01;34m..\u001b[0m\n",
      "drwx--S--- 2 nobody nobody 4.0K Nov 14 10:44 \u001b[01;34mbaseline\u001b[0m\n",
      "-rwx------ 1 nobody nobody 4.0K Oct 23 08:26 \u001b[01;32m._.DS_Store\u001b[0m\n",
      "-rwx------ 1 nobody nobody 6.1K Nov  4 13:01 \u001b[01;32m.DS_Store\u001b[0m\n",
      "drwx--S--- 2 nobody nobody 4.0K Nov 13 10:27 \u001b[01;34mmetadata\u001b[0m\n",
      "drwx--S--- 4 nobody nobody 4.0K Nov  4 12:57 \u001b[01;34mtimeseries\u001b[0m\n",
      "drwx--S--- 2 nobody nobody 4.0K Nov 13 10:28 \u001b[01;34mzip\u001b[0m\n",
      "total 30G\n",
      "drwx--S--- 2 nobody nobody 4.0K Nov 14 10:44 \u001b[0m\u001b[01;34m.\u001b[0m\n",
      "drwx--S--- 6 nobody nobody  16K Nov 13 10:25 \u001b[01;34m..\u001b[0m\n",
      "-rwx------ 1 nobody nobody  15G Nov 10 15:43 \u001b[01;32mmasterDataOptimal_v3.csv\u001b[0m\n",
      "-rwx------ 1 nobody nobody  15G Nov 14 10:27 \u001b[01;32mmasterDataOptimalWithIMD_v3.csv\u001b[0m\n",
      "total 98K\n",
      "drwx--S--- 4 nobody nobody 4.0K Nov  4 12:57 \u001b[0m\u001b[01;34m.\u001b[0m\n",
      "drwx--S--- 6 nobody nobody  16K Nov 13 10:25 \u001b[01;34m..\u001b[0m\n",
      "-rwx------ 1 nobody nobody 4.0K Nov  4 12:57 \u001b[01;32m._.DS_Store\u001b[0m\n",
      "-rwx------ 1 nobody nobody 6.1K Nov  4 19:11 \u001b[01;32m.DS_Store\u001b[0m\n",
      "drwx--S--- 2 nobody nobody  16K Nov 13 10:27 \u001b[01;34mmeasurement_and_tests\u001b[0m\n",
      "drwx--S--- 2 nobody nobody 4.0K Nov 13 10:27 \u001b[01;34mmedication\u001b[0m\n"
     ]
    }
   ],
   "source": [
    "!ls --color -lah /rds/projects/g/gokhalkm-optimal/OPTIMAL_MASTER_DATASET/data\n",
    "!ls --color -lah /rds/projects/g/gokhalkm-optimal/OPTIMAL_MASTER_DATASET/data/baseline\n",
    "!ls --color -lah /rds/projects/g/gokhalkm-optimal/OPTIMAL_MASTER_DATASET/data/timeseries"
   ]
  },
  {
   "cell_type": "markdown",
   "metadata": {},
   "source": [
    "These are pre-processed further in R to obtain three .csv files which are in turn compiled into an SQLite database within the `CPRD.data` module. \n",
    "\n",
    "* TODO: Replace R filtering with in-built python script\n",
    "* TODO: It is future work to combine these steps into DExtER"
   ]
  },
  {
   "cell_type": "code",
   "execution_count": 22,
   "metadata": {},
   "outputs": [
    {
     "name": "stdout",
     "output_type": "stream",
     "text": [
      "total 67K\n",
      "drwx--S---  3 gaddcz nobody 4.0K Sep 28 11:12 \u001b[0m\u001b[01;34m.\u001b[0m\n",
      "drwx--S---. 5 gaddcz nobody 4.0K Oct 24 11:21 \u001b[01;34m..\u001b[0m\n",
      "drwx--S---  2 gaddcz nobody  16K Oct 18 15:48 \u001b[01;34mprocessed\u001b[0m\n",
      "-rwx------  1 gaddcz nobody 7.5K Sep 28 15:22 \u001b[01;32mprocessing_diagnoses.R\u001b[0m\n",
      "-rwx------. 1 gaddcz nobody  14K Oct 18 16:10 \u001b[01;32mprocessing_measurements_and_tests.R\u001b[0m\n",
      "-rwx------  1 gaddcz nobody 2.2K Sep 19 11:00 \u001b[01;32mprocessing_static.R\u001b[0m\n",
      "total 2.0G\n",
      "drwx--S--- 2 gaddcz nobody  16K Oct 18 15:48 \u001b[0m\u001b[01;34m.\u001b[0m\n",
      "drwx--S--- 3 gaddcz nobody 4.0K Sep 28 11:12 \u001b[01;34m..\u001b[0m\n",
      "-rwx------ 1 gaddcz nobody 983M Oct 18 15:48 \u001b[01;32mcprd.db\u001b[0m\n",
      "-rwx------ 1 gaddcz nobody 128M Oct  2 15:06 \u001b[01;32mdiagnosis_history.csv\u001b[0m\n",
      "-rwx------ 1 gaddcz nobody 874M Sep 28 15:38 \u001b[01;32mmeasurements.csv\u001b[0m\n",
      "-rwx------ 1 gaddcz nobody  42M Sep 20 12:06 \u001b[01;32mstatic.csv\u001b[0m\n"
     ]
    }
   ],
   "source": [
    "!ls --color -lah /rds/projects/s/subramaa-mum-predict/CharlesGadd_Oxford/FoundationModel/preprocessing\n",
    "!ls --color -lah /rds/projects/s/subramaa-mum-predict/CharlesGadd_Oxford/FoundationModel/preprocessing/processed"
   ]
  },
  {
   "cell_type": "markdown",
   "metadata": {},
   "source": [
    "In doing this we convert each of these files into an SQL table."
   ]
  },
  {
   "cell_type": "markdown",
   "metadata": {},
   "source": [
    "# SQL tables"
   ]
  },
  {
   "cell_type": "markdown",
   "metadata": {},
   "source": [
    "## Static table\n",
    "<div align=\"justify\">\n",
    "The static table has one row per data owner. \n",
    "\n",
    "* PRACTICE_PATIENT_ID: The data owner identifier,\n",
    "* ETHNICITY, SEX, etc: The static variables which remain constant throughout a lifetime.\n",
    "* INDEX_AGE / START_AGE / END_AGE: \n",
    "</div>\n",
    "\n",
    "\n",
    "<div align=\"center\">\n",
    "TODO: \n",
    "</div>\n",
    "\n",
    "* Repace missing with nans or some other unique value so these can be masked later\n",
    "* Add filtering to only include events after index age\n",
    "\n"
   ]
  },
  {
   "cell_type": "code",
   "execution_count": 23,
   "metadata": {},
   "outputs": [
    {
     "name": "stdout",
     "output_type": "stream",
     "text": [
      "`Static table` docstring:\n",
      "\n",
      "    \n",
      "    Produced anonymized table:\n",
      "    ┌──────────────────────┬─────┬───────────┬───────────────┬─────────────┬─────────────┬───────────────┐\n",
      "    │ PRACTICE_PATIENT_ID  ┆ SEX ┆ ETHNICITY ┆ YEAR_OF_BIRTH ┆ INDEX_AGE   ┆ START_AGE   ┆ END_AGE       │\n",
      "    │ ---                  ┆ --- ┆ ---       ┆ ---           ┆ ---         ┆ ---         ┆ ---           │\n",
      "    │ str                  ┆ str ┆ str       ┆ str           ┆ i64 (days)  ┆ i64 (days)  ┆ i64 (days)    │\n",
      "    ╞══════════════════════╪═════╪═══════════╪═══════════════╪═════════════╪═════════════╪═══════════════╡\n",
      "    │ <anonymous 1>        ┆ M   ┆ WHITE     ┆ yyyy--mm-dd   ┆ dd          ┆ dd          ┆ dd            │\n",
      "    │ <anonymous 2>        ┆ F   ┆ MISSING   ┆ yyyy--mm-dd   ┆ dd          ┆ dd          ┆ dd            │\n",
      "    │ …                    ┆ …   ┆ …         ┆ …             ┆             ┆             ┆               │\n",
      "    │ <anonymous N>        ┆ M   ┆ WHITE     ┆ yyyy--mm-dd   ┆ dd          ┆ dd          ┆ dd            │\n",
      "    └──────────────────────┴─────┴───────────┴───────────────┴─────────────┴─────────────┴───────────────┘\n",
      "        \n",
      "    \n"
     ]
    }
   ],
   "source": [
    "print(f\"`Static table` docstring:\\n{CPRD.data.database.build_static_db.build_static_table.__doc__}\")"
   ]
  },
  {
   "cell_type": "markdown",
   "metadata": {},
   "source": [
    "## Diagnosis table\n",
    "<div align=\"justify\">\n",
    "The diagnosis table has one row per diagnosis. \n",
    "\n",
    "* PRACTICE_PATIENT_ID: The data owner identifier,\n",
    "* EVENT: The categorical event\n",
    "* AGE_AT_EVENT: Number if days between subject birth and the day of event\n",
    "* VALUE: to be removed\n",
    "* EVENT_TYPE: to be removed\n",
    "</div>\n",
    "\n",
    "\n",
    "<div align=\"center\">\n",
    "  TODO: \n",
    "</div>\n",
    "\n",
    "* We could embed based on subgroups. For example each of these conditions are categorical, but they could be further sub categories. For example, diabetes can be one category and types further divide this."
   ]
  },
  {
   "cell_type": "code",
   "execution_count": 24,
   "metadata": {},
   "outputs": [
    {
     "name": "stdout",
     "output_type": "stream",
     "text": [
      "`Diagnosis table` docstring:\n",
      "\n",
      "    Build measurements and tests table in database\n",
      "\n",
      "    Produced anonymized table:\n",
      "    ┌──────────────────────┬───────┬──────────────┬──────────────┬────────────────────────────┐\n",
      "    │ PRACTICE_PATIENT_ID  ┆ VALUE ┆ EVENT        ┆ AGE_AT_EVENT ┆ EVENT_TYPE                 │\n",
      "    │ ---                  ┆ ---   ┆ ---          ┆ ---          ┆ ---                        │\n",
      "    │ str                  ┆ f64   ┆ str          ┆ i64 (days)   ┆ str                        │\n",
      "    ╞══════════════════════╪═══════╪══════════════╪══════════════╪════════════════════════════╡\n",
      "    │ <anonymous 1>        ┆ null  ┆ HF           ┆ 11632        ┆ categorical                │\n",
      "    │ <anonymous 2>        ┆ null  ┆ HF           ┆ 25635        ┆ categorical                │\n",
      "    │ …                    ┆ …     ┆ …            ┆ …            ┆ …                          │\n",
      "    │ <anonymous N>        ┆ null  ┆ FIBROMYALGIA ┆ 8546         ┆ categorical                │\n",
      "    └──────────────────────┴───────┴──────────────┴──────────────┴────────────────────────────┘\n",
      "    \n"
     ]
    }
   ],
   "source": [
    "print(f\"`Diagnosis table` docstring:\\n{CPRD.data.database.build_diagnosis_db.build_diagnosis_table.__doc__}\")"
   ]
  },
  {
   "cell_type": "markdown",
   "metadata": {},
   "source": [
    "## Measurements and tests table\n",
    "<div align=\"justify\">\n",
    "The measurements table has one row per diagnosis. \n",
    "\n",
    "* PRACTICE_PATIENT_ID: The data owner identifier,\n",
    "* EVENT: The categorical event\n",
    "* AGE_AT_EVENT: Number if days between subject birth and the day of event\n",
    "* VALUE: The measurement/test record\n",
    "* EVENT_TYPE: whether the value is categorical (e.g. EVENT==\"smoking\", value=\"ex-smoker\"), or continuous (e.g. EVENT==\"bmi\", value=23.3)\n",
    "</div>\n",
    "\n",
    "\n",
    "<div align=\"center\">\n",
    "  TODO: \n",
    "</div>\n",
    "\n"
   ]
  },
  {
   "cell_type": "code",
   "execution_count": 25,
   "metadata": {},
   "outputs": [
    {
     "name": "stdout",
     "output_type": "stream",
     "text": [
      "`Measurements and tests table` docstring:\n",
      " \n",
      "    Build measurements and tests table in database\n",
      "\n",
      "    Produced anonymized table:\n",
      "    ┌──────────────────────┬───────┬──────────────────┬──────────────┬───────────────────────┐\n",
      "    │ PRACTICE_PATIENT_ID  ┆ VALUE ┆ EVENT            ┆ AGE_AT_EVENT ┆ EVENT_TYPE            │\n",
      "    │ ---                  ┆ ---   ┆ ---              ┆ ---          ┆ ---                   │\n",
      "    │ str                  ┆ f64   ┆ str              ┆ i64 (days)   ┆ str                   │\n",
      "    ╞══════════════════════╪═══════╪══════════════════╪══════════════╪═══════════════════════╡\n",
      "    │ <anonymous 1>        ┆ 23.3  ┆ bmi              ┆ 10254        ┆ univariate_regression │\n",
      "    │ <anonymous 1>        ┆ 24.1  ┆ bmi              ┆ 11829        ┆ univariate_regression │\n",
      "    │ …                    ┆ …     ┆ …                ┆ …            ┆ …                     │\n",
      "    │ <anonymous N>        ┆ 0.17  ┆ eosinophil_count ┆ 12016        ┆ univariate_regression │\n",
      "    └──────────────────────┴───────┴──────────────────┴──────────────┴───────────────────────┘\n",
      "    \n"
     ]
    }
   ],
   "source": [
    "print(f\"`Measurements and tests table` docstring:\\n{CPRD.data.database.build_measurements_and_tests_db.build_measurements_table.__doc__}\")"
   ]
  },
  {
   "cell_type": "markdown",
   "metadata": {},
   "source": [
    "# Filtering\n",
    "\n",
    "We can query the SQL tables separately to find the set of patients that fit the study criteria. \n",
    "\n",
    "First we can connect directly to the database using sqlite3\n",
    "\n",
    "<div align=\"center\">\n",
    "  TODO: \n",
    "</div>\n",
    "\n",
    "* The db shouldn't really be interfaced with like this, this is mostly for demonstration and a "
   ]
  },
  {
   "cell_type": "code",
   "execution_count": 26,
   "metadata": {},
   "outputs": [],
   "source": [
    "PATH_TO_DB = \"/rds/projects/s/subramaa-mum-predict/CharlesGadd_Oxford/FoundationModel/preprocessing/processed/cprd.db\"\n",
    "conn = sqlite3.connect(PATH_TO_DB)\n",
    "cursor = conn.cursor()"
   ]
  },
  {
   "cell_type": "markdown",
   "metadata": {},
   "source": [
    "Performing a look-up directly on the tables shows what diagnoses, measurements and tests are available"
   ]
  },
  {
   "cell_type": "code",
   "execution_count": 27,
   "metadata": {},
   "outputs": [
    {
     "name": "stdout",
     "output_type": "stream",
     "text": [
      "We have access to measurements and tests:\n",
      " *bmi\n",
      " *hydroxyvitamin2\n",
      " *hydroxyvitamin3\n",
      " *aspartate_transam\n",
      " *serum_level\n",
      " *creatinine_ratio\n",
      " *basophil_count\n",
      " *blood_calcium\n",
      " *blood_urea\n",
      " *brain_natriuretic_peptide_level\n",
      " *calcium_adjusted_level\n",
      " *calculated_LDL_cholesterol_level\n",
      " *combined_total_vitamin_D2_and_D3_level\n",
      " *corrected_serum_calcium_level\n",
      " *diastolic_blood_pressure\n",
      " *eosinophil_count\n",
      "\n",
      "Additionally, we have access to diagnoses:\n",
      " *HF\n",
      " *AF\n",
      " *ISCHAEMICSTROKE\n",
      " *STROKEUNSPECIFIED\n",
      " *STROKE_HAEMRGIC\n",
      " *HYPERTENSION\n",
      " *MINFARCTION\n",
      " *IHD_NOMI\n",
      " *PAD_STRICT\n",
      " *VALVULARDISEASES\n",
      " *AORTICANEURYSM\n",
      " *TYPE1DM\n",
      " *TYPE2DIABETES\n",
      " *CKDSTAGE3TO5\n",
      " *DEPRESSION\n",
      " *ANXIETY\n",
      " *BIPOLAR\n",
      " *EATINGDISORDERS\n",
      " *SCHIZOPHRENIAMM\n",
      " *AUTISM\n",
      " *ALCOHOLMISUSE\n",
      " *SUBSTANCEMISUSE\n",
      " *CHRONIC_LIVER_DISEASE_ALCOHOL\n",
      " *NAFLD\n",
      " *OTHER_CHRONIC_LIVER_DISEASE_OPTIMAL\n",
      " *ULCERATIVE_COLITIS\n",
      " *CROHNS_DISEASE\n",
      " *ALL_DEMENTIA\n",
      " *PARKINSONS\n",
      " *EPILEPSY\n",
      " *ALLCA_NOBCC_VFINAL\n",
      " *LYMPHOMA_PREVALENCE\n",
      " *LEUKAEMIA_PREVALENCE\n",
      " *PLASMACELL_NEOPLASM\n",
      " *ASTHMA_PUSHASTHMA\n",
      " *COPD\n",
      " *OSA\n",
      " *BRONCHIECTASIS\n",
      " *CYSTICFIBROSIS\n",
      " *ATOPICECZEMA\n",
      " *ALLERGICRHINITISCONJ\n",
      " *HIVAIDS\n",
      " *OSTEOPOROSIS\n",
      " *OSTEOARTHRITIS\n",
      " *RHEUMATOIDARTHRITIS\n",
      " *GOUT\n",
      " *SYSTEMIC_LUPUS_ERYTHEMATOSUS\n",
      " *SJOGRENSSYNDROME\n",
      " *SYSTEMIC_SCLEROSIS\n",
      " *PMRANDGCA\n",
      " *CHRONICFATIGUESYNDROMEMM\n",
      " *HYPOTHYROIDISM_DRAFT_V1\n",
      " *HYPERTHYROIDISM\n",
      " *ADDISON_DISEASE\n",
      " *MS\n",
      " *VISUAL_IMPAIRMENT\n",
      " *MENIERESDISEASE\n",
      " *PERIPHERAL_NEUROPATHY\n",
      " *DOWNSSYNDROME\n",
      " *PERNICIOUSANAEMIA\n",
      " *PSORIASIS\n",
      " *PSORIATICARTHRITIS2021\n",
      " *ILD_SH\n",
      " *PTSDDIAGNOSIS\n",
      " *PREVALENT_IBS\n",
      " *ANY_DEAFNESS_HEARING_LOSS\n",
      " *LEARNINGDISABILITY\n",
      " *ENDOMETRIOSIS_ADENOMYOSIS_V2\n",
      " *POLYCYSTIC_OVARIAN_SYNDROME_PCOS\n",
      " *SICKLE_CELL_DISEASE\n",
      " *HAEMOCHROMATOSIS\n",
      " *FIBROMYALGIA\n"
     ]
    }
   ],
   "source": [
    "# Check what measurements are available\n",
    "cursor.execute(\"SELECT DISTINCT EVENT FROM measurement_table\")\n",
    "measurements = [_item[0] for _item in cursor.fetchall()]\n",
    "print(\"We have access to measurements and tests:\\n *\" + '\\n *'.join(measurements))\n",
    "\n",
    "# Check what diagnoses are available\n",
    "cursor.execute(\"SELECT DISTINCT EVENT FROM diagnosis_table\")\n",
    "diagnoses = [_item[0] for _item in cursor.fetchall()]\n",
    "print(\"\\nAdditionally, we have access to diagnoses:\\n *\" + '\\n *'.join(diagnoses))\n",
    "\n"
   ]
  },
  {
   "cell_type": "markdown",
   "metadata": {},
   "source": [
    "Given some subset of these we can query the database to find those subjects who have at least one entry of a list of measurements, tests or diagnoses"
   ]
  },
  {
   "cell_type": "code",
   "execution_count": 28,
   "metadata": {},
   "outputs": [],
   "source": [
    "identifiers1 = CPRD.data.database.queries.query_measurement([\"bmi\", \"diastolic_blood_pressure\"], cursor)        \n",
    "identifiers2 = CPRD.data.database.queries.query_diagnosis([\"DEPRESSION\", \"TYPE1DM\", \"TYPE2DIABETES\"], cursor)    #  \"DEPRESSION\"  ,  \"ANXIETY\"\n",
    "all_identifiers = list(set(identifiers1).intersection(identifiers2))    # Turn smaller list into the set"
   ]
  },
  {
   "cell_type": "code",
   "execution_count": 29,
   "metadata": {},
   "outputs": [
    {
     "name": "stdout",
     "output_type": "stream",
     "text": [
      "Using N=10000 random samples, from the available 117102\n"
     ]
    }
   ],
   "source": [
    "# For now, lets take only the first 10,000\n",
    "N = np.min((len(all_identifiers), 10000))\n",
    "print(f\"Using N={N} random samples, from the available {len(all_identifiers)}\")\n",
    "\n",
    "identifiers = random.choices(all_identifiers, k=N)"
   ]
  },
  {
   "cell_type": "markdown",
   "metadata": {},
   "source": [
    "# Make PyTorch dataloader\n",
    "\n",
    "We can now initialise our DL friendly datasets. This is done within the DataModule initialisation. \n",
    "\n",
    "Initialisation takes one required argument, which is the set of patient `identifiers` we wish to build into our dataset. The remaining arguments are optional and explained in the docstring\n",
    "\n",
    "\n",
    "<div align=\"center\">\n",
    "  TODO: \n",
    "</div>\n",
    "\n",
    "* Add option of saving and loading initialised train/test/val splits"
   ]
  },
  {
   "cell_type": "code",
   "execution_count": 30,
   "metadata": {},
   "outputs": [
    {
     "name": "stdout",
     "output_type": "stream",
     "text": [
      "`FoundationalDataModule` docstring:\n",
      "\n",
      "    PyTorch-Lightning datamodule for foundational models\n",
      "    \n",
      "    ARGS:\n",
      "        practice_patient_id (list[str])\n",
      "            List of practice patient identifiers which satisfy study criteria.\n",
      "            \n",
      "    KWARGS:\n",
      "        batch_size (int): \n",
      "        \n",
      "        unk_freq_threshold (float). \n",
      "            Value between 0 and 1, controlling at what level of frequency rare tokens (equiv. conditions/measurements \n",
      "            with this tokenizer) are mapped to the UNK token. Used to reduce vocabulary size\n",
      "            \n",
      "        min_workers (int):\n",
      "            \n",
      "        weighted_sampler (bool):\n",
      "            NotImplemented. \n",
      "        load_event_stream (optional, str):\n",
      "        \n",
      "        save_event_stream (optional, str):\n",
      "        \n",
      "    \n"
     ]
    }
   ],
   "source": [
    "print(f\"`FoundationalDataModule` docstring:\\n{FoundationalDataModule.__doc__}\")"
   ]
  },
  {
   "cell_type": "code",
   "execution_count": 31,
   "metadata": {},
   "outputs": [
    {
     "name": "stderr",
     "output_type": "stream",
     "text": [
      "INFO:root:Building DL-friendly representation\n",
      "INFO:root:Dropping samples with no dynamic events\n"
     ]
    },
    {
     "name": "stdout",
     "output_type": "stream",
     "text": [
      "8623 training samples\n",
      "480 validation samples\n",
      "479 test samples\n"
     ]
    }
   ],
   "source": [
    "dm = FoundationalDataModule(identifiers=identifiers,\n",
    "                            batch_size=opt.batch_size,\n",
    "                            max_seq_length=config.block_size,\n",
    "                            unk_freq_threshold=config.unk_freq_threshold)\n",
    "\n",
    "print(f\"{len(dm.train_set)} training samples\")\n",
    "print(f\"{len(dm.val_set)} validation samples\")\n",
    "print(f\"{len(dm.test_set)} test samples\")"
   ]
  },
  {
   "cell_type": "markdown",
   "metadata": {},
   "source": [
    "## Dataset\n",
    "\n",
    "Each dataset within the DataModule is a ``cprd.data.dataset.dataset_polars.EventStreamDataset`` object. Within this class we process the SQL tables from a form in which each patient (static) or record (dianosis/measurement/test) has its own row, into a ragged form where each patient has their own row in every case. This does not change the form of the static table. However, the form of the diagnoses and measurements/tests changes - and during the same update we combine these frames to one frame which contains dynamic information.\n",
    "\n",
    "This is all wrapped in the method ``fit()``, but we can see the separate steps below:"
   ]
  },
  {
   "cell_type": "code",
   "execution_count": 32,
   "metadata": {},
   "outputs": [
    {
     "name": "stdout",
     "output_type": "stream",
     "text": [
      "`_load_dynamic` docstring:\n",
      "    \n",
      "        Load and merge dynamic tables from SQL\n",
      "        \n",
      "        ARGS:\n",
      "            practice_patient_id (list[str])\n",
      "                List of practice patient identifiers which satisfy study criteria.\n",
      "            \n",
      "        KWARGS:\n",
      "        \n",
      "        \n",
      "        RETURNS:\n",
      "            Polars lazy frame, of the (anonymized) form:\n",
      "            ┌──────────────────────┬───────────────────────┬───────────────────────────────────┬─────────────────────────┬───────────────────────────────────┐\n",
      "            │ PRACTICE_PATIENT_ID  ┆ VALUE                 ┆ EVENT                             ┆ AGE_AT_EVENT            ┆ EVENT_TYPE                        │\n",
      "            │ ---                  ┆ ---                   ┆ ---                               ┆ ---                     ┆ ---                               │\n",
      "            │ str                  ┆ list[f64]             ┆ list[str]                         ┆ list[i64]   (in days)   ┆ list[str]                         │\n",
      "            ╞══════════════════════╪═══════════════════════╪═══════════════════════════════════╪═════════════════════════╪═══════════════════════════════════╡\n",
      "            │ <anonymous 1>        ┆ [null, 21.92]         ┆ [\"diagnosis name\", \"record name\"  ┆ [age 1, age 2]          ┆ [\"categorical\", \"univariate_regre │\n",
      "            │ <anonymous 2>        ┆ [27.1, 75.0, … 91.0]  ┆ [\"record name\", ...]              ┆ [age 1, age 2, … ]      ┆ [\"univariate_regression\", \"univa… │\n",
      "            │ …                    ┆ …                     ┆ …                                 ┆ …                       ┆ …                                 │\n",
      "            │ <anonymous N2>       ┆ [70.0, 0.1, … 80.0]   ┆ [\"record name\", ...]              ┆ [age 1, age 2, … ]      ┆ [\"univariate_regression\", \"univa… │\n",
      "            └──────────────────────┴───────────────────────┴───────────────────────────────────┴─────────────────────────┴───────────────────────────────────┘\n",
      "        \n"
     ]
    }
   ],
   "source": [
    "print(f\"`_load_dynamic` docstring:\\n{CPRD.data.dataset.dataset_polars.EventStreamDataset._load_dynamic.__doc__}\")"
   ]
  },
  {
   "cell_type": "markdown",
   "metadata": {},
   "source": [
    "This is then combined into one DL friendly representation, which our DataModule uses"
   ]
  },
  {
   "cell_type": "code",
   "execution_count": 33,
   "metadata": {},
   "outputs": [
    {
     "name": "stdout",
     "output_type": "stream",
     "text": [
      "`_build_DL_representation` docstring:\n",
      "\n",
      "        Build the DL-friendly representation in polars given the list of `practice_patient_id`s which fit study criteria\n",
      "                \n",
      "        ARGS:\n",
      "            practice_patient_id (list[str])\n",
      "                List of practice patient identifiers which satisfy study criteria.\n",
      "            \n",
      "        KWARGS:\n",
      "        \n",
      "        \n",
      "        RETURNS:\n",
      "            Polars lazy frame, of the (anonymized) form:\n",
      "            ┌──────────────────────┬─────┬─────────────┬───────────────┬──────────────────────┬─────────────────────────┬─────────────────────┬────────────────────────┐\n",
      "            │ PRACTICE_PATIENT_ID  ┆ SEX ┆ ETHNICITY   ┆ YEAR_OF_BIRTH ┆ VALUE                ┆ EVENT                   ┆ AGE_AT_EVENT        ┆ EVENT_TYPE             │\n",
      "            │ ---                  ┆ --- ┆ ---         ┆ ---           ┆ ---                  ┆ ---                     ┆ ---                 ┆ ---                    │\n",
      "            │ str                  ┆ str ┆ str         ┆ str           ┆ list[f64]            ┆ list[str]               ┆ list[i64]           ┆ list[str]              │\n",
      "            ╞══════════════════════╪═════╪═════════════╪═══════════════╪══════════════════════╪═════════════════════════╪═════════════════════╪════════════════════════╡\n",
      "            │ <anonymous 1>        ┆ M   ┆ MISSING     ┆ yyy-mm-dd     ┆ [null, 21.92]        ┆ [\"diagnosis name\", ...] ┆ [age 1, age 2]      ┆ [\"multi_label_cl...\", ]│\n",
      "            │ <anonymous 2>        ┆ F   ┆ WHITE       ┆ yyy-mm-dd     ┆ [27.1, 75.0, … 91.0] ┆ [\"record name\", ...]    ┆ [age 1, age 2, … ]  ┆ [\"univariate_reg...\", ]│\n",
      "            │ …                    ┆ …                 ┆ …             ┆ …                    ┆ …                       ┆ …                   ┆ …                      │\n",
      "            │ <anonymous N>        ┆ F   ┆ SOUTH_ASIAN ┆ yyy-mm-dd     ┆ [70.0, 0.1, … 80.0]  ┆ [\"record name\", ...]    ┆ [age 1, age 2, … ]  ┆ [\"univariate_reg...\", ]│\n",
      "            └──────────────────────┴─────┴─────────────┴───────────────┴──────────────────────┴─────────────────────────┴─────────────────────┴────────────────────────┘\n",
      "            with index cols: (age at index, age at start, age at end)\n",
      "\n",
      "        \n"
     ]
    }
   ],
   "source": [
    "print(f\"`_build_DL_representation` docstring:\\n{CPRD.data.dataset.dataset_polars.EventStreamDataset._build_DL_representation.__doc__}\")"
   ]
  },
  {
   "cell_type": "markdown",
   "metadata": {},
   "source": [
    "The ``__getitem__`` within the dataset class then retrieves rows of this table and performs the relevant processing such as tokenization. Speed ups could be obtained by pre-processing this tokenization.\n",
    "\n",
    "As these are ragged lists for memory efficiency, we also provide a ``collate_fn`` in the DataModule. This performs padding - and by performing padding this way we can avoid excessive padding."
   ]
  },
  {
   "cell_type": "markdown",
   "metadata": {},
   "source": [
    "# Data iterators"
   ]
  },
  {
   "cell_type": "markdown",
   "metadata": {},
   "source": [
    "## Using \\_\\_getitem__"
   ]
  },
  {
   "cell_type": "code",
   "execution_count": 34,
   "metadata": {},
   "outputs": [
    {
     "name": "stdout",
     "output_type": "stream",
     "text": [
      "A single element of the dataset contains:\n",
      "  * identifier\n",
      "  * sex\n",
      "  * ethnicity\n",
      "  * year_of_birth\n",
      "  * input_ids\n",
      "  * input_pos\n",
      "  * input_ages\n",
      "  * target_ids\n",
      "  * target_pos\n",
      "  * target_ages\n",
      "{'identifier': 'p20389_944530620389', 'sex': 'F', 'ethnicity': 'WHITE', 'year_of_birth': '1975-07-15', 'input_ids': tensor([18, 14,  4,  3, 12,  4, 13,  9,  2, 12,  2, 13,  8, 11, 12,  2, 13,  7,\n",
      "         9, 12,  2, 26, 13,  8,  9, 12,  2, 13,  9,  9, 12]), 'input_pos': tensor([ 0,  1,  2,  3,  4,  5,  6,  7,  8,  9, 10, 11, 12, 13, 14, 15, 16, 17,\n",
      "        18, 19, 20, 21, 22, 23, 24, 25, 26, 27, 28, 29, 30]), 'input_ages': tensor([10046, 11609, 11609, 11609, 11609, 11609, 11609, 11609, 11609, 11609,\n",
      "        11609, 11738, 11738, 11738, 11738, 11738, 11748, 11748, 11748, 11748,\n",
      "        11748, 11826, 12161, 12161, 12161, 12161, 12161, 12392, 12392, 12392,\n",
      "        12392]), 'target_ids': tensor([14,  4,  3, 12,  4, 13,  9,  2, 12,  2, 13,  8, 11, 12,  2, 13,  7,  9,\n",
      "        12,  2, 26, 13,  8,  9, 12,  2, 13,  9,  9, 12,  2]), 'target_pos': tensor([ 1,  2,  3,  4,  5,  6,  7,  8,  9, 10, 11, 12, 13, 14, 15, 16, 17, 18,\n",
      "        19, 20, 21, 22, 23, 24, 25, 26, 27, 28, 29, 30, 31]), 'target_ages': tensor([11609, 11609, 11609, 11609, 11609, 11609, 11609, 11609, 11609, 11609,\n",
      "        11738, 11738, 11738, 11738, 11738, 11748, 11748, 11748, 11748, 11748,\n",
      "        11826, 12161, 12161, 12161, 12161, 12161, 12392, 12392, 12392, 12392,\n",
      "        12392])}\n"
     ]
    }
   ],
   "source": [
    "# print(dm.train_set[0])\n",
    "print(\"A single element of the dataset contains:\\n  * \" + '\\n  * '.join(dm.train_set[0].keys()))\n",
    "\n",
    "print(dm.train_set[0])\n"
   ]
  },
  {
   "cell_type": "markdown",
   "metadata": {},
   "source": [
    "## Collating into batches"
   ]
  },
  {
   "cell_type": "code",
   "execution_count": 35,
   "metadata": {},
   "outputs": [
    {
     "name": "stdout",
     "output_type": "stream",
     "text": [
      "A sample from the dataloader batch gives:\n",
      "Batch Dataframe Columns:\n",
      "  * input_ids\n",
      "  * target_ids\n",
      "  * input_pos\n",
      "  * target_pos\n",
      "  * input_ages\n",
      "  * target_ages\n",
      "  * attention_mask\n",
      "\n",
      "The position index of inputs and targets: \n",
      "inputs: tensor([404, 405, 406, 407, 408, 409, 410, 411, 412, 413])  \n",
      "targets: tensor([405, 406, 407, 408, 409, 410, 411, 412, 413, 414])\n",
      "\n",
      "The time of event (in days since birth) of event of inputs and targets: \n",
      "inputs: tensor([16699, 16708, 16708, 16708, 16708, 16708, 16718, 16718, 16718, 16718])  \n",
      "targets: tensor([16708, 16708, 16708, 16708, 16708, 16718, 16718, 16718, 16718, 16718])\n",
      "\n",
      "The shifted next-step, tokenized and padded (within batch), representation from a block of a patient's sequence for events: \n",
      "inputs: tensor([11, 14,  6,  5, 12,  9, 14,  6,  5, 12]) \n",
      "targets: tensor([14,  6,  5, 12,  9, 14,  6,  5, 12,  4])\n",
      "\n",
      "Which can be decoded. E.g. first sample's first 10 block tokens: \n",
      "inputs: 9 bmi 4 3 . 7 bmi 4 3 .  \n",
      "targets: bmi 4 3 . 7 bmi 4 3 . 2\n",
      "\n",
      "The attention mask (torch.Size([64, 32])) for padding: \n",
      "tensor([[1, 1, 1,  ..., 1, 1, 1],\n",
      "        [1, 1, 1,  ..., 1, 1, 1],\n",
      "        [1, 1, 1,  ..., 1, 1, 1],\n",
      "        ...,\n",
      "        [1, 1, 1,  ..., 1, 1, 1],\n",
      "        [1, 1, 1,  ..., 1, 1, 1],\n",
      "        [1, 1, 1,  ..., 1, 1, 1]])\n"
     ]
    }
   ],
   "source": [
    "for idx, batch in enumerate(dm.train_dataloader()):\n",
    "    break\n",
    "print(\"A sample from the dataloader batch gives:\")\n",
    "print(\"Batch Dataframe Columns:\\n  * \" + '\\n  * '.join(batch.keys()))\n",
    "\n",
    "print(f\"\\nThe position index of inputs and targets: \\ninputs: {batch['input_pos'][0,:10]}  \\ntargets: {batch['target_pos'][0,:10]}\")\n",
    "print(f\"\\nThe time of event (in days since birth) of event of inputs and targets: \\ninputs: {batch['input_ages'][0,:10]}  \\ntargets: {batch['target_ages'][0,:10]}\")\n",
    "print(f\"\\nThe shifted next-step, tokenized and padded (within batch), representation from a block of a patient's sequence for events: \\ninputs: {batch['input_ids'][0,:10]} \\ntargets: {batch['target_ids'][0,:10]}\")\n",
    "print(f\"\\nWhich can be decoded. E.g. first sample's first 10 block tokens: \\ninputs: {dm.decode(batch['input_ids'][0,:10].tolist())}  \\ntargets: {dm.decode(batch['target_ids'][0,:10].tolist())}\")\n",
    "print(f\"\\nThe attention mask ({batch['attention_mask'].shape}) for padding: \\n{batch['attention_mask']}\")\n"
   ]
  },
  {
   "cell_type": "code",
   "execution_count": 36,
   "metadata": {},
   "outputs": [
    {
     "name": "stdout",
     "output_type": "stream",
     "text": [
      "101\n",
      "{0: 'PAD', 1: 'UNK', 2: '0', 3: '1', 4: '2', 5: '3', 6: '4', 7: '5', 8: '6', 9: '7', 10: '8', 11: '9', 12: '.', 13: 'diastolic_blood_pressure', 14: 'bmi', 15: 'eosinophil_count', 16: 'basophil_count', 17: 'corrected_serum_calcium_level', 18: 'DEPRESSION', 19: 'serum_level', 20: 'calculated_LDL_cholesterol_level', 21: 'ANXIETY', 22: 'HYPERTENSION', 23: 'TYPE2DIABETES', 24: 'OSTEOARTHRITIS', 25: 'ASTHMA_PUSHASTHMA', 26: 'ATOPICECZEMA', 27: 'ALLERGICRHINITISCONJ', 28: 'ANY_DEAFNESS_HEARING_LOSS', 29: 'aspartate_transam', 30: 'ALLCA_NOBCC_VFINAL', 31: 'PREVALENT_IBS', 32: 'IHD_NOMI', 33: 'CKDSTAGE3TO5', 34: 'ALCOHOLMISUSE', 35: 'blood_urea', 36: 'PERIPHERAL_NEUROPATHY', 37: 'COPD', 38: 'calcium_adjusted_level', 39: 'HYPOTHYROIDISM_DRAFT_V1', 40: 'AF', 41: 'GOUT', 42: 'OSTEOPOROSIS', 43: 'HF', 44: 'PSORIASIS', 45: 'SUBSTANCEMISUSE', 46: 'MINFARCTION', 47: 'combined_total_vitamin_D2_and_D3_level', 48: 'STROKEUNSPECIFIED', 49: 'ALL_DEMENTIA', 50: 'hydroxyvitamin3', 51: 'VALVULARDISEASES', 52: 'hydroxyvitamin2', 53: 'PAD_STRICT', 54: 'OTHER_CHRONIC_LIVER_DISEASE_OPTIMAL', 55: 'TYPE1DM', 56: 'EPILEPSY', 57: 'OSA', 58: 'FIBROMYALGIA', 59: 'NAFLD', 60: 'POLYCYSTIC_OVARIAN_SYNDROME_PCOS', 61: 'RHEUMATOIDARTHRITIS', 62: 'PMRANDGCA', 63: 'ENDOMETRIOSIS_ADENOMYOSIS_V2', 64: 'EATINGDISORDERS', 65: 'HYPERTHYROIDISM', 66: 'PTSDDIAGNOSIS', 67: 'VISUAL_IMPAIRMENT', 68: 'BIPOLAR', 69: 'ISCHAEMICSTROKE', 70: 'SCHIZOPHRENIAMM', 71: 'creatinine_ratio', 72: 'CHRONIC_LIVER_DISEASE_ALCOHOL', 73: 'AORTICANEURYSM', 74: 'PARKINSONS', 75: 'BRONCHIECTASIS', 76: 'CHRONICFATIGUESYNDROMEMM', 77: 'MENIERESDISEASE', 78: 'LEARNINGDISABILITY', 79: 'ULCERATIVE_COLITIS', 80: 'STROKE_HAEMRGIC', 81: 'PERNICIOUSANAEMIA', 82: 'brain_natriuretic_peptide_level', 83: 'LYMPHOMA_PREVALENCE', 84: 'ILD_SH', 85: 'CROHNS_DISEASE', 86: 'AUTISM', 87: 'PSORIATICARTHRITIS2021', 88: 'MS', 89: 'LEUKAEMIA_PREVALENCE', 90: 'HIVAIDS', 91: 'SYSTEMIC_LUPUS_ERYTHEMATOSUS', 92: 'blood_calcium', 93: 'HAEMOCHROMATOSIS', 94: 'SYSTEMIC_SCLEROSIS', 95: 'PLASMACELL_NEOPLASM', 96: 'SJOGRENSSYNDROME', 97: 'SICKLE_CELL_DISEASE', 98: 'ADDISON_DISEASE', 99: 'DOWNSSYNDROME', 100: 'CYSTICFIBROSIS'}\n"
     ]
    }
   ],
   "source": [
    "vocab_size = dm.train_set.tokenizer.vocab_size\n",
    "\n",
    "print(vocab_size)\n",
    "print(dm.train_set.tokenizer._itos)"
   ]
  },
  {
   "cell_type": "code",
   "execution_count": null,
   "metadata": {},
   "outputs": [],
   "source": []
  }
 ],
 "metadata": {
  "colab": {
   "provenance": []
  },
  "kernelspec": {
   "display_name": "Python",
   "language": "python",
   "name": "sys_python"
  },
  "language_info": {
   "codemirror_mode": {
    "name": "ipython",
    "version": 3
   },
   "file_extension": ".py",
   "mimetype": "text/x-python",
   "name": "python",
   "nbconvert_exporter": "python",
   "pygments_lexer": "ipython3",
   "version": "3.10.4"
  }
 },
 "nbformat": 4,
 "nbformat_minor": 4
}
