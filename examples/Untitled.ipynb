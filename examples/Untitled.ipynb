{
 "cells": [
  {
   "cell_type": "code",
   "execution_count": 11,
   "id": "8c009fd1-fd8c-49a7-a482-acfa836e53dd",
   "metadata": {},
   "outputs": [],
   "source": [
    "# Replace this by adding the repository to your Python path\n",
    "import os\n",
    "os.chdir('/rds/homes/g/gaddcz/Projects/CPRD/')\n",
    "\n",
    "import sqlite3\n",
    "from datasets.foundational import loaders"
   ]
  },
  {
   "cell_type": "code",
   "execution_count": 17,
   "id": "2b561b8f-3a0e-4261-8071-80086972dfa8",
   "metadata": {},
   "outputs": [
    {
     "data": {
      "text/plain": [
       "('movie',)"
      ]
     },
     "execution_count": 17,
     "metadata": {},
     "output_type": "execute_result"
    }
   ],
   "source": [
    "con = sqlite3.connect(\"tutorial.db\")\n",
    "cur = con.cursor()\n",
    "res = cur.execute(\"SELECT name FROM sqlite_master\")\n",
    "res.fetchone()"
   ]
  }
 ],
 "metadata": {
  "kernelspec": {
   "display_name": "Python",
   "language": "python",
   "name": "sys_python"
  },
  "language_info": {
   "codemirror_mode": {
    "name": "ipython",
    "version": 3
   },
   "file_extension": ".py",
   "mimetype": "text/x-python",
   "name": "python",
   "nbconvert_exporter": "python",
   "pygments_lexer": "ipython3",
   "version": "3.10.4"
  }
 },
 "nbformat": 4,
 "nbformat_minor": 5
}
