{
 "cells": [
  {
   "cell_type": "markdown",
   "metadata": {
    "id": "wJpXpmjEYC_T"
   },
   "source": [
    "## GPT - demo on subset of CPRD"
   ]
  },
  {
   "cell_type": "code",
   "execution_count": 1,
   "metadata": {},
   "outputs": [
    {
     "name": "stdout",
     "output_type": "stream",
     "text": [
      "cuda\n"
     ]
    }
   ],
   "source": [
    "import pytorch_lightning \n",
    "import torch\n",
    "import torch.nn as nn\n",
    "from torch.nn import functional as F\n",
    "import numpy as np\n",
    "import matplotlib.pyplot as plt\n",
    "import random\n",
    "import sqlite3\n",
    "from dataclasses import dataclass\n",
    "import logging\n",
    "from CPRD.data.foundational_loader import FoundationalDataModule\n",
    "from CPRD.src.models.gpt_pico.transformer import GPTLanguageModel\n",
    "from CPRD.src.models.gpt_simple.task_heads import GPTModelForCausalLM\n",
    "\n",
    "# TODO:\n",
    "# replace boilerplate with pytorch lightning\n",
    "\n",
    "torch.manual_seed(1337)\n",
    "logging.basicConfig(level=logging.INFO)\n",
    "device = 'cuda' if torch.cuda.is_available() else 'cpu'\n",
    "print(device)\n",
    "\n",
    "# device = \"cpu\"    # just for debug errors"
   ]
  },
  {
   "cell_type": "markdown",
   "metadata": {},
   "source": [
    "## Build configurations"
   ]
  },
  {
   "cell_type": "code",
   "execution_count": 2,
   "metadata": {},
   "outputs": [],
   "source": [
    "# Set GPT config to be equivalent\n",
    "@dataclass\n",
    "class DemoConfig:\n",
    "    block_size: int = 256             # what is the maximum context length for predictions?\n",
    "    n_layer: int = 6\n",
    "    n_head: int = 6\n",
    "    n_embd: int = 384\n",
    "    pos_encoding: str = \"index-embedding\"                 # Manually adding later\n",
    "    bias: bool = True\n",
    "    attention_type: str = \"global\"    \n",
    "    dropout: float = 0.0\n",
    "    unk_freq_threshold: float = 0.0\n",
    "\n",
    "config = DemoConfig()\n",
    "\n",
    "@dataclass\n",
    "class OptConfig:\n",
    "    batch_size: int = 64\n",
    "    eval_interval: int = 1\n",
    "    learning_rate: float = 3e-4\n",
    "    epochs: int = 10\n",
    "    \n",
    "opt = OptConfig()"
   ]
  },
  {
   "cell_type": "markdown",
   "metadata": {},
   "source": [
    "## Demonstrate on a reduced cohort"
   ]
  },
  {
   "cell_type": "code",
   "execution_count": 3,
   "metadata": {},
   "outputs": [],
   "source": [
    "from CPRD.data.database import queries\n",
    "\n",
    "PATH_TO_DB = \"/rds/projects/s/subramaa-mum-predict/CharlesGadd_Oxford/FoundationModel/preprocessing/processed/cprd.db\"\n",
    "conn = sqlite3.connect(PATH_TO_DB)\n",
    "cursor = conn.cursor()\n",
    "\n",
    "# # Check what measurements are available\n",
    "# cursor.execute(\"SELECT DISTINCT * FROM measurement_table\")\n",
    "# measurements = cursor.fetchall()\n",
    "# print(measurements)\n",
    "\n",
    "# Check what diagnoses are available\n",
    "# cursor.execute(\"SELECT DISTINCT * FROM diagnosis_table\")\n",
    "# diagnoses = cursor.fetchall()\n",
    "# print(diagnoses)\n",
    "\n",
    "# Get a list of patients which fit a reduced set of criterion\n",
    "identifiers1 = queries.query_measurement([\"bmi\", \"diastolic_blood_pressure\"], cursor)        \n",
    "identifiers2 = queries.query_diagnosis([\"DEPRESSION\", \"TYPE1DM\", \"TYPE2DIABETES\"], cursor)    #  \"DEPRESSION\"  ,  \"ANXIETY\"\n",
    "all_identifiers = list(set(identifiers1).intersection(identifiers2))    # Turn smaller list into the set"
   ]
  },
  {
   "cell_type": "code",
   "execution_count": 4,
   "metadata": {},
   "outputs": [
    {
     "name": "stdout",
     "output_type": "stream",
     "text": [
      "Using N=10000 random samples, from the available 117102\n"
     ]
    }
   ],
   "source": [
    "# Lets take only the first N for faster development\n",
    "N = np.min((len(all_identifiers), 10000))\n",
    "print(f\"Using N={N} random samples, from the available {len(all_identifiers)}\")\n",
    "\n",
    "identifiers = random.choices(all_identifiers, k=N)"
   ]
  },
  {
   "cell_type": "markdown",
   "metadata": {},
   "source": [
    "## Make dataloader\n"
   ]
  },
  {
   "cell_type": "code",
   "execution_count": 5,
   "metadata": {},
   "outputs": [
    {
     "name": "stderr",
     "output_type": "stream",
     "text": [
      "INFO:root:Building DL-friendly representation\n",
      "INFO:root:Dropping samples with no dynamic events\n"
     ]
    },
    {
     "name": "stdout",
     "output_type": "stream",
     "text": [
      "8640 training samples\n",
      "481 validation samples\n",
      "480 test samples\n"
     ]
    }
   ],
   "source": [
    "dm = FoundationalDataModule(identifiers=identifiers,\n",
    "                            batch_size=opt.batch_size,\n",
    "                            max_seq_length=config.block_size,\n",
    "                            unk_freq_threshold=config.unk_freq_threshold)\n",
    "\n",
    "print(f\"{len(dm.train_set)} training samples\")\n",
    "print(f\"{len(dm.val_set)} validation samples\")\n",
    "print(f\"{len(dm.test_set)} test samples\")"
   ]
  },
  {
   "cell_type": "markdown",
   "metadata": {},
   "source": [
    "#### Visualise a sample"
   ]
  },
  {
   "cell_type": "code",
   "execution_count": 6,
   "metadata": {},
   "outputs": [
    {
     "name": "stdout",
     "output_type": "stream",
     "text": [
      "A single element of the dataset contains:\n",
      "  * identifier\n",
      "  * sex\n",
      "  * ethnicity\n",
      "  * year_of_birth\n",
      "  * input_ids\n",
      "  * input_pos\n",
      "  * input_ages\n",
      "  * target_ids\n",
      "  * target_pos\n",
      "  * target_ages\n",
      "{'identifier': 'p20389_944538320389', 'sex': 'M', 'ethnicity': 'WHITE', 'year_of_birth': '1972-07-15', 'input_ids': tensor([18, 14,  4,  6, 12,  5, 13,  8,  7, 12,  2, 45, 14,  4,  9, 12,  4, 13,\n",
      "         9, 10, 12,  2, 15,  2, 12,  7, 17,  4, 12,  3, 10, 15,  2, 12,  5, 13,\n",
      "         9,  4, 12,  2, 14,  4, 10, 12,  5, 16,  2, 12,  3, 15,  2, 12,  7, 14,\n",
      "         5,  3, 12,  5, 13,  9, 11, 12]), 'input_pos': tensor([ 0,  1,  2,  3,  4,  5,  6,  7,  8,  9, 10, 11, 12, 13, 14, 15, 16, 17,\n",
      "        18, 19, 20, 21, 22, 23, 24, 25, 26, 27, 28, 29, 30, 31, 32, 33, 34, 35,\n",
      "        36, 37, 38, 39, 40, 41, 42, 43, 44, 45, 46, 47, 48, 49, 50, 51, 52, 53,\n",
      "        54, 55, 56, 57, 58, 59, 60, 61]), 'input_ages': tensor([12861, 12990, 12990, 12990, 12990, 12990, 12990, 12990, 12990, 12990,\n",
      "        12990, 12990, 13242, 13242, 13242, 13242, 13242, 13242, 13242, 13242,\n",
      "        13242, 13242, 13268, 13268, 13268, 13268, 13270, 13270, 13270, 13270,\n",
      "        13270, 13270, 13270, 13270, 13270, 14977, 14977, 14977, 14977, 14977,\n",
      "        15622, 15622, 15622, 15622, 15622, 16852, 16852, 16852, 16852, 16852,\n",
      "        16852, 16852, 16852, 16854, 16854, 16854, 16854, 16854, 16854, 16854,\n",
      "        16854, 16854]), 'target_ids': tensor([14,  4,  6, 12,  5, 13,  8,  7, 12,  2, 45, 14,  4,  9, 12,  4, 13,  9,\n",
      "        10, 12,  2, 15,  2, 12,  7, 17,  4, 12,  3, 10, 15,  2, 12,  5, 13,  9,\n",
      "         4, 12,  2, 14,  4, 10, 12,  5, 16,  2, 12,  3, 15,  2, 12,  7, 14,  5,\n",
      "         3, 12,  5, 13,  9, 11, 12,  2]), 'target_pos': tensor([ 1,  2,  3,  4,  5,  6,  7,  8,  9, 10, 11, 12, 13, 14, 15, 16, 17, 18,\n",
      "        19, 20, 21, 22, 23, 24, 25, 26, 27, 28, 29, 30, 31, 32, 33, 34, 35, 36,\n",
      "        37, 38, 39, 40, 41, 42, 43, 44, 45, 46, 47, 48, 49, 50, 51, 52, 53, 54,\n",
      "        55, 56, 57, 58, 59, 60, 61, 62]), 'target_ages': tensor([12990, 12990, 12990, 12990, 12990, 12990, 12990, 12990, 12990, 12990,\n",
      "        12990, 13242, 13242, 13242, 13242, 13242, 13242, 13242, 13242, 13242,\n",
      "        13242, 13268, 13268, 13268, 13268, 13270, 13270, 13270, 13270, 13270,\n",
      "        13270, 13270, 13270, 13270, 14977, 14977, 14977, 14977, 14977, 15622,\n",
      "        15622, 15622, 15622, 15622, 16852, 16852, 16852, 16852, 16852, 16852,\n",
      "        16852, 16852, 16854, 16854, 16854, 16854, 16854, 16854, 16854, 16854,\n",
      "        16854, 16854])}\n"
     ]
    }
   ],
   "source": [
    "# print(dm.train_set[0])\n",
    "print(\"A single element of the dataset contains:\\n  * \" + '\\n  * '.join(dm.train_set[0].keys()))\n",
    "print(dm.train_set[0])"
   ]
  },
  {
   "cell_type": "markdown",
   "metadata": {},
   "source": [
    "#### Visualise a batch"
   ]
  },
  {
   "cell_type": "code",
   "execution_count": 10,
   "metadata": {},
   "outputs": [
    {
     "name": "stdout",
     "output_type": "stream",
     "text": [
      "A sample from the dataloader batch gives:\n",
      "Batch Dataframe Columns:\n",
      "  * input_ids\n",
      "  * target_ids\n",
      "  * input_pos\n",
      "  * target_pos\n",
      "  * input_ages\n",
      "  * target_ages\n",
      "  * attention_mask\n",
      "\n",
      "The position index of inputs and targets: \n",
      "inputs: tensor([0, 1, 2, 3, 4, 5, 6, 7, 8, 9])  \n",
      "targets: tensor([ 1,  2,  3,  4,  5,  6,  7,  8,  9, 10])\n",
      "\n",
      "The time of event (in days since birth) of event of inputs and targets: \n",
      "inputs: tensor([8034, 8117, 8117, 8117, 8117, 8117, 8117, 8117, 8117, 8117])  \n",
      "targets: tensor([8117, 8117, 8117, 8117, 8117, 8117, 8117, 8117, 8117, 8117])\n",
      "\n",
      "The shifted next-step, tokenized and padded (within batch), representation from a block of a patient's sequence for events: \n",
      "inputs: tensor([18, 14,  4,  5, 12,  7, 13,  9,  2, 12]) \n",
      "targets: tensor([14,  4,  5, 12,  7, 13,  9,  2, 12,  2])\n",
      "\n",
      "Which can be decoded. E.g. first sample's first 10 block tokens: \n",
      "inputs: DEPRESSION bmi 2 3 . 5 diastolic_blood_pressure 7 0 .  \n",
      "targets: bmi 2 3 . 5 diastolic_blood_pressure 7 0 . 0\n",
      "\n",
      "The attention mask (torch.Size([64, 256])) for padding: \n",
      "tensor([[1, 1, 1,  ..., 0, 0, 0],\n",
      "        [1, 1, 1,  ..., 1, 1, 1],\n",
      "        [1, 1, 1,  ..., 1, 1, 1],\n",
      "        ...,\n",
      "        [1, 1, 1,  ..., 0, 0, 0],\n",
      "        [1, 1, 1,  ..., 0, 0, 0],\n",
      "        [1, 1, 1,  ..., 0, 0, 0]])\n"
     ]
    }
   ],
   "source": [
    "for idx, batch in enumerate(dm.train_dataloader()):\n",
    "    break\n",
    "print(\"A sample from the dataloader batch gives:\")\n",
    "print(\"Batch Dataframe Columns:\\n  * \" + '\\n  * '.join(batch.keys()))\n",
    "print(f\"\\nThe position index of inputs and targets: \\ninputs: {batch['input_pos'][0,:10]}  \\ntargets: {batch['target_pos'][0,:10]}\")\n",
    "print(f\"\\nThe time of event (in days since birth) of event of inputs and targets: \\ninputs: {batch['input_ages'][0,:10]}  \\ntargets: {batch['target_ages'][0,:10]}\")\n",
    "print(f\"\\nThe shifted next-step, tokenized and padded (within batch), representation from a block of a patient's sequence for events: \\ninputs: {batch['input_ids'][0,:10]} \\ntargets: {batch['target_ids'][0,:10]}\")\n",
    "print(f\"\\nWhich can be decoded. E.g. first sample's first 10 block tokens: \\ninputs: {dm.decode(batch['input_ids'][0,:10].tolist())}  \\ntargets: {dm.decode(batch['target_ids'][0,:10].tolist())}\")\n",
    "print(f\"\\nThe attention mask ({batch['attention_mask'].shape}) for padding: \\n{batch['attention_mask']}\")\n"
   ]
  },
  {
   "cell_type": "code",
   "execution_count": 11,
   "metadata": {},
   "outputs": [
    {
     "name": "stdout",
     "output_type": "stream",
     "text": [
      "100\n",
      "{0: 'PAD', 1: 'UNK', 2: '0', 3: '1', 4: '2', 5: '3', 6: '4', 7: '5', 8: '6', 9: '7', 10: '8', 11: '9', 12: '.', 13: 'diastolic_blood_pressure', 14: 'bmi', 15: 'eosinophil_count', 16: 'basophil_count', 17: 'corrected_serum_calcium_level', 18: 'DEPRESSION', 19: 'serum_level', 20: 'calculated_LDL_cholesterol_level', 21: 'ANXIETY', 22: 'HYPERTENSION', 23: 'TYPE2DIABETES', 24: 'ASTHMA_PUSHASTHMA', 25: 'OSTEOARTHRITIS', 26: 'ATOPICECZEMA', 27: 'ANY_DEAFNESS_HEARING_LOSS', 28: 'ALLERGICRHINITISCONJ', 29: 'aspartate_transam', 30: 'PREVALENT_IBS', 31: 'ALLCA_NOBCC_VFINAL', 32: 'ALCOHOLMISUSE', 33: 'IHD_NOMI', 34: 'CKDSTAGE3TO5', 35: 'blood_urea', 36: 'PERIPHERAL_NEUROPATHY', 37: 'calcium_adjusted_level', 38: 'HYPOTHYROIDISM_DRAFT_V1', 39: 'COPD', 40: 'PSORIASIS', 41: 'AF', 42: 'combined_total_vitamin_D2_and_D3_level', 43: 'OSTEOPOROSIS', 44: 'HF', 45: 'SUBSTANCEMISUSE', 46: 'GOUT', 47: 'MINFARCTION', 48: 'STROKEUNSPECIFIED', 49: 'ALL_DEMENTIA', 50: 'hydroxyvitamin3', 51: 'hydroxyvitamin2', 52: 'PAD_STRICT', 53: 'OTHER_CHRONIC_LIVER_DISEASE_OPTIMAL', 54: 'VALVULARDISEASES', 55: 'TYPE1DM', 56: 'OSA', 57: 'EPILEPSY', 58: 'RHEUMATOIDARTHRITIS', 59: 'NAFLD', 60: 'FIBROMYALGIA', 61: 'POLYCYSTIC_OVARIAN_SYNDROME_PCOS', 62: 'EATINGDISORDERS', 63: 'HYPERTHYROIDISM', 64: 'PMRANDGCA', 65: 'creatinine_ratio', 66: 'PTSDDIAGNOSIS', 67: 'ENDOMETRIOSIS_ADENOMYOSIS_V2', 68: 'ISCHAEMICSTROKE', 69: 'VISUAL_IMPAIRMENT', 70: 'BIPOLAR', 71: 'BRONCHIECTASIS', 72: 'SCHIZOPHRENIAMM', 73: 'CHRONIC_LIVER_DISEASE_ALCOHOL', 74: 'CHRONICFATIGUESYNDROMEMM', 75: 'AORTICANEURYSM', 76: 'ULCERATIVE_COLITIS', 77: 'PERNICIOUSANAEMIA', 78: 'AUTISM', 79: 'ILD_SH', 80: 'LEARNINGDISABILITY', 81: 'STROKE_HAEMRGIC', 82: 'MENIERESDISEASE', 83: 'PARKINSONS', 84: 'CROHNS_DISEASE', 85: 'LYMPHOMA_PREVALENCE', 86: 'brain_natriuretic_peptide_level', 87: 'LEUKAEMIA_PREVALENCE', 88: 'PSORIATICARTHRITIS2021', 89: 'MS', 90: 'HIVAIDS', 91: 'SJOGRENSSYNDROME', 92: 'SYSTEMIC_LUPUS_ERYTHEMATOSUS', 93: 'HAEMOCHROMATOSIS', 94: 'blood_calcium', 95: 'PLASMACELL_NEOPLASM', 96: 'ADDISON_DISEASE', 97: 'SYSTEMIC_SCLEROSIS', 98: 'CYSTICFIBROSIS', 99: 'DOWNSSYNDROME'}\n"
     ]
    }
   ],
   "source": [
    "vocab_size = dm.train_set.tokenizer.vocab_size\n",
    "\n",
    "print(vocab_size)\n",
    "print(dm.train_set.tokenizer._itos)"
   ]
  },
  {
   "cell_type": "markdown",
   "metadata": {},
   "source": [
    "## Create models and train"
   ]
  },
  {
   "cell_type": "code",
   "execution_count": 12,
   "metadata": {},
   "outputs": [
    {
     "name": "stderr",
     "output_type": "stream",
     "text": [
      "INFO:root:Using Positional Embedding. This module uses the index position of an event within the block of events.\n",
      "INFO:root:Using Positional Encoding. This module uses the index position of an event within the block of events.\n",
      "INFO:root:Using Temporal Positional Encoding. This module uses the patient's age at an event within their time series.\n"
     ]
    }
   ],
   "source": [
    "models = []\n",
    "\n",
    "# Baseline model to test my changes against\n",
    "#   Note: this benchmark model uses index position along the batch\n",
    "models.append(GPTLanguageModel(config, vocab_size).to(device))\n",
    "\n",
    "# My development model\n",
    "# Handle positional vs. temporal encoding/embedding\n",
    "# Cases: \n",
    "#     index-embedding:       use index position along the batch\n",
    "#     index-encoding:        use index position along the batch\n",
    "#     temporal-encoding:     use age along a patient's timeline\n",
    "pos_encodings = [\"index-embedding\", \"index-encoding\", \"temporal-encoding\"]\n",
    "for pe in pos_encodings:\n",
    "    config = DemoConfig()\n",
    "    config.pos_encoding = pe\n",
    "    models.append(GPTModelForCausalLM(config, vocab_size).to(device))\n",
    "\n",
    "m_names = [\"kaparthy benchmark\"] + pos_encodings"
   ]
  },
  {
   "cell_type": "code",
   "execution_count": 13,
   "metadata": {},
   "outputs": [],
   "source": [
    "loss_curves_train = [[] for _ in models]\n",
    "loss_curves_val = [[] for _ in models]"
   ]
  },
  {
   "cell_type": "code",
   "execution_count": 14,
   "metadata": {
    "colab": {
     "base_uri": "https://localhost:8080/"
    },
    "id": "hoelkOrFY8bN",
    "outputId": "961304cd-e379-40d4-dd56-8de0b91d2861"
   },
   "outputs": [
    {
     "name": "stdout",
     "output_type": "stream",
     "text": [
      "10.815844 M parameters\n",
      "Epoch 0:\tTrain loss 1.20. Val loss 1.21\n",
      "Epoch 1:\tTrain loss 0.92. Val loss 0.88\n",
      "Epoch 2:\tTrain loss 0.71. Val loss 0.78\n",
      "Epoch 3:\tTrain loss 0.66. Val loss 0.76\n",
      "Epoch 4:\tTrain loss 0.64. Val loss 0.73\n",
      "Epoch 5:\tTrain loss 0.63. Val loss 0.72\n",
      "Epoch 6:\tTrain loss 0.62. Val loss 0.71\n",
      "Epoch 7:\tTrain loss 0.61. Val loss 0.71\n",
      "Epoch 8:\tTrain loss 0.61. Val loss 0.71\n",
      "Epoch 9:\tTrain loss 0.61. Val loss 0.70\n",
      "DEPRESSION diastolic_blood_pressure 7 0 . 0 bmi 2 0 . 5 diastolic_blood_pressure 6 0 . 0 POLYCYSTIC_OVARIAN_SYNDROME_PCOS diastolic_blood_pressure 7 0 . 0 ANY_DEAFNESS_HEARING_LOSS diastolic_blood_pressure 7 0 . 0 eosinophil_count 0 .\n",
      "10.777444 M parameters\n",
      "Epoch 0:\tTrain loss 1.21. Val loss 1.00\n",
      "Epoch 1:\tTrain loss 0.74. Val loss 0.78\n",
      "Epoch 2:\tTrain loss 0.66. Val loss 0.73\n",
      "Epoch 3:\tTrain loss 0.63. Val loss 0.71\n",
      "Epoch 4:\tTrain loss 0.61. Val loss 0.71\n",
      "Epoch 5:\tTrain loss 0.61. Val loss 0.70\n",
      "Epoch 6:\tTrain loss 0.61. Val loss 0.70\n",
      "Epoch 7:\tTrain loss 0.60. Val loss 0.70\n",
      "Epoch 8:\tTrain loss 0.60. Val loss 0.70\n",
      "Epoch 9:\tTrain loss 0.60. Val loss 0.70\n",
      "DEPRESSION ANXIETY bmi 2 0 . 9 diastolic_blood_pressure 8 0 . 0 diastolic_blood_pressure 7 0 . 0 eosinophil_count 0 . 2 bmi 2 5 . 7 2 diastolic_blood_pressure 8 0 .\n",
      "10.67914 M parameters\n",
      "Epoch 0:\tTrain loss 1.65. Val loss 1.56\n",
      "Epoch 1:\tTrain loss 1.12. Val loss 1.10\n",
      "Epoch 2:\tTrain loss 1.01. Val loss 1.02\n",
      "Epoch 3:\tTrain loss 0.80. Val loss 0.89\n",
      "Epoch 4:\tTrain loss 0.95. Val loss 0.87\n",
      "Epoch 5:\tTrain loss 0.74. Val loss 0.85\n",
      "Epoch 6:\tTrain loss 0.72. Val loss 0.81\n",
      "Epoch 7:\tTrain loss 0.70. Val loss 0.81\n",
      "Epoch 8:\tTrain loss 0.69. Val loss 0.79\n",
      "Epoch 9:\tTrain loss 0.68. Val loss 0.78\n",
      "DEPRESSION SUBSTANCEMISUSE bmi 3 3 . 5 PERIPHERAL_NEUROPATHY DEPRESSION basophil_count 0 . 0 2 eosinophil_count 0 . 2 3 basophil_count 0 . 0 4 eosinophil_count 0 . 2 5 basophil_count 0\n",
      "10.679332 M parameters\n",
      "Epoch 0:\tTrain loss 1.61. Val loss 1.79\n",
      "Epoch 1:\tTrain loss 1.48. Val loss 1.49\n",
      "Epoch 2:\tTrain loss 1.05. Val loss 0.97\n",
      "Epoch 3:\tTrain loss 0.81. Val loss 0.91\n",
      "Epoch 4:\tTrain loss 0.73. Val loss 0.83\n",
      "Epoch 5:\tTrain loss 0.70. Val loss 0.81\n",
      "Epoch 6:\tTrain loss 0.68. Val loss 0.78\n",
      "Epoch 7:\tTrain loss 0.66. Val loss 0.76\n",
      "Epoch 8:\tTrain loss 0.64. Val loss 0.75\n"
     ]
    },
    {
     "name": "stderr",
     "output_type": "stream",
     "text": [
      "WARNING:root:Using positional temporal-encoding requires ages, \n",
      "                                but this head has no way of sampling age at next event.\n",
      "                                Using 50 days as intervals\n"
     ]
    },
    {
     "name": "stdout",
     "output_type": "stream",
     "text": [
      "Epoch 9:\tTrain loss 0.63. Val loss 0.75\n",
      "DEPRESSION diastolic_blood_pressure 8 PERIPHERAL_NEUROPATHY diastolic_blood_pressure 6 basophil_count 0 COPD diastolic_blood_pressure 4 diastolic_blood_pressure 7 POLYCYSTIC_OVARIAN_SYNDROME_PCOS diastolic_blood_pressure 6 diastolic_blood_pressure 7 basophil_count 0 diastolic_blood_pressure 7 bmi 1 basophil_count 0 diastolic_blood_pressure 8 diastolic_blood_pressure 7 diastolic_blood_pressure\n"
     ]
    }
   ],
   "source": [
    "for m_idx, model in enumerate(models):\n",
    "    model = model.to(device)\n",
    "\n",
    "    # print the number of parameters in the model\n",
    "    print(sum(p.numel() for p in model.parameters())/1e6, 'M parameters')\n",
    "\n",
    "    # create a PyTorch optimizer\n",
    "    optimizer = torch.optim.AdamW(model.parameters(), lr=opt.learning_rate)\n",
    "\n",
    "    best_val, best_iter = np.inf, 0\n",
    "    for epoch in range(opt.epochs):\n",
    "        epoch_loss = 0\n",
    "        model.train()\n",
    "        for i, batch in enumerate(dm.train_dataloader()):\n",
    "            # evaluate the loss\n",
    "            logits, loss = model(batch['input_ids'].to(device),\n",
    "                                 ages=batch['input_ages'].to(device),\n",
    "                                 targets=batch['target_ids'].to(device),\n",
    "                                 attention_mask=batch['attention_mask'].to(device)\n",
    "                                 )\n",
    "            optimizer.zero_grad(set_to_none=True)\n",
    "            loss.backward()\n",
    "            optimizer.step()\n",
    "            epoch_loss += loss.item()\n",
    "        epoch_loss /= i\n",
    "        loss_curves_train[m_idx].append(epoch_loss)\n",
    "\n",
    "        # evaluate the loss on val set\n",
    "        with torch.no_grad(): \n",
    "            model.eval()\n",
    "            if epoch % opt.eval_interval == 0 or epoch == opt.epochs - 1:\n",
    "                val_loss = 0\n",
    "                for j, batch in enumerate(dm.val_dataloader()):\n",
    "                    _, loss = model(batch['input_ids'].to(device), \n",
    "                                    ages=batch['input_ages'].to(device), \n",
    "                                    targets=batch['target_ids'].to(device),\n",
    "                                    attention_mask=batch['attention_mask'].to(device)   \n",
    "                                   )\n",
    "                    val_loss += loss.item()\n",
    "                val_loss /= j\n",
    "                loss_curves_val[m_idx].append(val_loss)\n",
    "                print(f\"Epoch {epoch}:\\tTrain loss {epoch_loss:.2f}. Val loss {val_loss:.2f}\")          \n",
    "                # TODO: Note not fully accurate as last batch is likely not the same size, will be fixed with lightning\n",
    "        \n",
    "            if val_loss >= best_val:\n",
    "                best_iter += 1\n",
    "                if best_iter > 2:\n",
    "                    break\n",
    "            else:\n",
    "                best_val = val_loss\n",
    "                best_iter = 0\n",
    "                \n",
    "    prompt = [\"DEPRESSION\"]\n",
    "    context = torch.from_numpy(np.array(dm.encode(prompt)).reshape((1,-1))).to(device)\n",
    "    fut_tokens, fut_ages = model.generate(context, max_new_tokens=30)\n",
    "    fut_words = dm.decode(fut_tokens[0].tolist())\n",
    "    print(fut_words)\n"
   ]
  },
  {
   "cell_type": "code",
   "execution_count": 15,
   "metadata": {},
   "outputs": [],
   "source": [
    "cols = [\"k\", \"r\", \"b\", \"y\"]\n",
    "\n",
    "# Plot loss\n",
    "plt.figure()\n",
    "for m_idx, _ in enumerate(models):\n",
    "    # Training\n",
    "    iterations = np.linspace(0, len(loss_curves_train[m_idx]), len(loss_curves_train[m_idx])) * opt.eval_interval\n",
    "    plt.plot(iterations, loss_curves_train[m_idx], label=f\"{m_names[m_idx]}-train\", c=cols[m_idx], linestyle='dashed')\n",
    "    # Validation\n",
    "    iterations = np.linspace(0, len(loss_curves_val[m_idx]), len(loss_curves_val[m_idx])) * opt.eval_interval\n",
    "    plt.plot(iterations, loss_curves_val[m_idx], label=f\"{m_names[m_idx]}-val\", c=cols[m_idx])\n",
    "plt.legend()\n",
    "plt.savefig(\"figs/loss_curves.png\")"
   ]
  },
  {
   "cell_type": "markdown",
   "metadata": {},
   "source": [
    "## Prompt testing"
   ]
  },
  {
   "cell_type": "markdown",
   "metadata": {},
   "source": [
    "Probability of type II diabetes before and after a type I diagnosis\n",
    "\n",
    "keys: \n",
    "\n",
    "    70: 'TYPE1DM'\n",
    "    31: 'TYPE2DIABETES'"
   ]
  },
  {
   "cell_type": "markdown",
   "metadata": {},
   "source": [
    "Small context comparison, high bmi and blood pressure vs low for diabetes risk"
   ]
  },
  {
   "cell_type": "code",
   "execution_count": 16,
   "metadata": {},
   "outputs": [],
   "source": [
    "low_risk_prompt = [\"bmi\", \"2\", \"2\", \".\", \"5\", \"diastolic_blood_pressure\", \"7\", \"9\", \".\", \"0\"]\n",
    "high_risk_prompt = [\"bmi\", \"3\", \"7\", \".\", \"5\", \"diastolic_blood_pressure\", \"9\", \"9\", \".\", \"0\"]\n",
    "ages_in_years = [18, 19, 19, 19, 19, 20, 20, 20, 20, 20]\n",
    "\n",
    "to_days = lambda a_list: torch.FloatTensor([365 * _a for _a in a_list]).reshape((1,-1)).to(device)"
   ]
  },
  {
   "cell_type": "code",
   "execution_count": 17,
   "metadata": {},
   "outputs": [
    {
     "name": "stdout",
     "output_type": "stream",
     "text": [
      "\n",
      "\n",
      "MODEL_IDX 0\n",
      "==================\n",
      "\n",
      "Control: Low risk: \n",
      "\t (bmi,2,2,.,5,diastolic_blood_pressure,7,9,.,0): \n",
      "probability of type I diabetes 0.0003%\n",
      "probability of type II diabetes 0.0008%\n",
      "\n",
      "Control: High risk: \n",
      "\t (bmi,3,7,.,5,diastolic_blood_pressure,9,9,.,0): \n",
      "probability of type I diabetes 0.0003%\n",
      "probability of type II diabetes 0.0008%\n",
      "\n",
      "Control: Low risk + depression: \n",
      "\t (DEPRESSION,bmi,2,2,.,5,diastolic_blood_pressure,7,9,.,0): \n",
      "probability of type I diabetes 0.2829%\n",
      "probability of type II diabetes 0.7801%\n",
      "\n",
      "Low risk context: Type 1 diagnosis in prompt: \n",
      "\t (TYPE1DM,bmi,2,2,.,5,diastolic_blood_pressure,7,9,.,0): \n",
      "probability of type I diabetes 0.1048%\n",
      "probability of type II diabetes 0.4623%\n",
      "\n",
      "Low risk context: Type 1I diagnosis in prompt: \n",
      "\t (TYPE2DIABETES,bmi,2,2,.,5,diastolic_blood_pressure,7,9,.,0): \n",
      "probability of type I diabetes 0.1897%\n",
      "probability of type II diabetes 1.2209%\n",
      "\n",
      "\n",
      "MODEL_IDX 1\n",
      "==================\n",
      "\n",
      "Control: Low risk: \n",
      "\t (bmi,2,2,.,5,diastolic_blood_pressure,7,9,.,0): \n",
      "probability of type I diabetes 0.0010%\n",
      "probability of type II diabetes 0.0017%\n",
      "\n",
      "Control: High risk: \n",
      "\t (bmi,3,7,.,5,diastolic_blood_pressure,9,9,.,0): \n",
      "probability of type I diabetes 0.0010%\n",
      "probability of type II diabetes 0.0017%\n",
      "\n",
      "Control: Low risk + depression: \n",
      "\t (DEPRESSION,bmi,2,2,.,5,diastolic_blood_pressure,7,9,.,0): \n",
      "probability of type I diabetes 0.2925%\n",
      "probability of type II diabetes 0.6459%\n",
      "\n",
      "Low risk context: Type 1 diagnosis in prompt: \n",
      "\t (TYPE1DM,bmi,2,2,.,5,diastolic_blood_pressure,7,9,.,0): \n",
      "probability of type I diabetes 0.1500%\n",
      "probability of type II diabetes 1.0196%\n",
      "\n",
      "Low risk context: Type 1I diagnosis in prompt: \n",
      "\t (TYPE2DIABETES,bmi,2,2,.,5,diastolic_blood_pressure,7,9,.,0): \n",
      "probability of type I diabetes 0.1264%\n",
      "probability of type II diabetes 1.5590%\n",
      "\n",
      "\n",
      "MODEL_IDX 2\n",
      "==================\n",
      "\n",
      "Control: Low risk: \n",
      "\t (bmi,2,2,.,5,diastolic_blood_pressure,7,9,.,0): \n",
      "probability of type I diabetes 0.0015%\n",
      "probability of type II diabetes 0.0015%\n",
      "\n",
      "Control: High risk: \n",
      "\t (bmi,3,7,.,5,diastolic_blood_pressure,9,9,.,0): \n",
      "probability of type I diabetes 0.0015%\n",
      "probability of type II diabetes 0.0015%\n",
      "\n",
      "Control: Low risk + depression: \n",
      "\t (DEPRESSION,bmi,2,2,.,5,diastolic_blood_pressure,7,9,.,0): \n",
      "probability of type I diabetes 0.2051%\n",
      "probability of type II diabetes 0.6537%\n",
      "\n",
      "Low risk context: Type 1 diagnosis in prompt: \n",
      "\t (TYPE1DM,bmi,2,2,.,5,diastolic_blood_pressure,7,9,.,0): \n",
      "probability of type I diabetes 0.1282%\n",
      "probability of type II diabetes 0.5424%\n",
      "\n",
      "Low risk context: Type 1I diagnosis in prompt: \n",
      "\t (TYPE2DIABETES,bmi,2,2,.,5,diastolic_blood_pressure,7,9,.,0): \n",
      "probability of type I diabetes 0.1296%\n",
      "probability of type II diabetes 0.5319%\n",
      "\n",
      "\n",
      "MODEL_IDX 3\n",
      "==================\n",
      "\n",
      "Control: Low risk: \n",
      "\t (bmi,2,2,.,5,diastolic_blood_pressure,7,9,.,0): \n",
      "probability of type I diabetes 0.0028%\n",
      "probability of type II diabetes 0.0012%\n",
      "\n",
      "Control: High risk: \n",
      "\t (bmi,3,7,.,5,diastolic_blood_pressure,9,9,.,0): \n",
      "probability of type I diabetes 0.0028%\n",
      "probability of type II diabetes 0.0012%\n",
      "\n",
      "Control: Low risk + depression: \n",
      "\t (DEPRESSION,bmi,2,2,.,5,diastolic_blood_pressure,7,9,.,0): \n",
      "probability of type I diabetes 0.2316%\n",
      "probability of type II diabetes 0.1325%\n",
      "\n",
      "Low risk context: Type 1 diagnosis in prompt: \n",
      "\t (TYPE1DM,bmi,2,2,.,5,diastolic_blood_pressure,7,9,.,0): \n",
      "probability of type I diabetes 0.2021%\n",
      "probability of type II diabetes 0.1241%\n",
      "\n",
      "Low risk context: Type 1I diagnosis in prompt: \n",
      "\t (TYPE2DIABETES,bmi,2,2,.,5,diastolic_blood_pressure,7,9,.,0): \n",
      "probability of type I diabetes 0.2102%\n",
      "probability of type II diabetes 0.1470%\n"
     ]
    }
   ],
   "source": [
    "prompts, ages, desc = [], [], []\n",
    "\n",
    "desc.append(\"Control: Low risk\")\n",
    "prompts.append(low_risk_prompt)\n",
    "ages.append(ages_in_years)\n",
    "\n",
    "desc.append(\"Control: High risk\")\n",
    "prompts.append(high_risk_prompt)\n",
    "ages.append(ages_in_years)\n",
    "\n",
    "desc.append(\"Control: Low risk + depression\")\n",
    "prompts.append([\"DEPRESSION\"] + low_risk_prompt)\n",
    "ages.append([17] + ages_in_years)\n",
    "\n",
    "desc.append(\"Low risk context: Type 1 diagnosis in prompt\")\n",
    "prompts.append([\"TYPE1DM\"] + low_risk_prompt)\n",
    "ages.append([17] + ages_in_years)\n",
    "\n",
    "desc.append(\"Low risk context: Type 1I diagnosis in prompt\")\n",
    "prompts.append([\"TYPE2DIABETES\"] + low_risk_prompt)\n",
    "ages.append([17] + ages_in_years)\n",
    "\n",
    "for model_idx in range(len(pos_encodings)+1):\n",
    "    print(f\"\\n\\nMODEL_IDX {model_idx}\\n==================\")\n",
    "    \n",
    "    for p_idx, (prompt, age) in enumerate(zip(prompts, ages)):\n",
    "        print(f\"\\n{desc[p_idx]}: \\n\\t ({','.join(prompt)}): \")\n",
    "        encoded_prompt = torch.from_numpy(np.array(dm.encode(prompt)).reshape((1,-1))).to(device)\n",
    "        lgts, _ = models[model_idx](encoded_prompt,\n",
    "                                    ages=to_days(age))\n",
    "        probs = torch.nn.functional.softmax(lgts, dim=2)\n",
    "        print(f\"probability of type I diabetes {100*float(probs[0, 0, 70].cpu().detach().numpy()):.4f}%\")\n",
    "        print(f\"probability of type II diabetes {100*float(probs[0, 0, 31].cpu().detach().numpy()):.4f}%\")\n",
    "\n",
    "# Note: adding a diagnosis (even if potentially orthogonal) at the beginning of the prompt increases probability of either type"
   ]
  },
  {
   "cell_type": "code",
   "execution_count": null,
   "metadata": {},
   "outputs": [],
   "source": []
  }
 ],
 "metadata": {
  "colab": {
   "provenance": []
  },
  "kernelspec": {
   "display_name": "Python",
   "language": "python",
   "name": "sys_python"
  },
  "language_info": {
   "codemirror_mode": {
    "name": "ipython",
    "version": 3
   },
   "file_extension": ".py",
   "mimetype": "text/x-python",
   "name": "python",
   "nbconvert_exporter": "python",
   "pygments_lexer": "ipython3",
   "version": "3.10.4"
  }
 },
 "nbformat": 4,
 "nbformat_minor": 4
}
