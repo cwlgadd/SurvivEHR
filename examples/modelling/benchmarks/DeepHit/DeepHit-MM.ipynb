{
 "cells": [
  {
   "cell_type": "markdown",
   "metadata": {
    "id": "wJpXpmjEYC_T"
   },
   "source": [
    "# Demo Notebook:\n",
    "## DeepHit\n",
    "\n"
   ]
  },
  {
   "cell_type": "markdown",
   "metadata": {},
   "source": [
    "Note: requires additional modules\n",
    "* tensorflow"
   ]
  },
  {
   "cell_type": "code",
   "execution_count": 2,
   "metadata": {},
   "outputs": [
    {
     "name": "stdout",
     "output_type": "stream",
     "text": [
      "Added path '/rds/homes/g/gaddcz/Projects/CPRD/virtual-envTorch2.0-icelake/lib/python3.10/site-packages' at start of search paths.\n"
     ]
    }
   ],
   "source": [
    "import os\n",
    "from pathlib import Path\n",
    "import sys\n",
    "node_type = os.getenv('BB_CPU')\n",
    "venv_dir = f'/rds/homes/g/gaddcz/Projects/CPRD/virtual-envTorch2.0-{node_type}'\n",
    "venv_site_pkgs = Path(venv_dir) / 'lib' / f'python{sys.version_info.major}.{sys.version_info.minor}' / 'site-packages'\n",
    "if venv_site_pkgs.exists():\n",
    "    sys.path.insert(0, str(venv_site_pkgs))\n",
    "    print(f\"Added path '{venv_site_pkgs}' at start of search paths.\")\n",
    "else:\n",
    "    print(f\"Path '{venv_site_pkgs}' not found. Check that it exists and/or that it exists for node-type '{node_type}'.\")\n",
    "\n",
    "%load_ext autoreload\n",
    "%autoreload 2"
   ]
  },
  {
   "cell_type": "code",
   "execution_count": 11,
   "metadata": {},
   "outputs": [
    {
     "name": "stdout",
     "output_type": "stream",
     "text": [
      "Using device: cpu.\n"
     ]
    }
   ],
   "source": [
    "import torch\n",
    "import pandas as pd\n",
    "import numpy as np\n",
    "import matplotlib.pyplot as plt\n",
    "import logging\n",
    "from tqdm import tqdm\n",
    "from hydra import compose, initialize\n",
    "from omegaconf import OmegaConf\n",
    "\n",
    "# from pycox.evaluation import EvalSurv\n",
    "# from scipy.integrate import trapz\n",
    "# import math\n",
    "\n",
    "from FastEHR.dataloader import FoundationalDataModule\n",
    "\n",
    "from CPRD.examples.modelling.benchmarks.make_method_loaders import get_dataloaders\n",
    "from CPRD.examples.modelling.SurvivEHR.custom_outcome_methods import custom_mm_outcomes\n",
    "from CPRD.examples.modelling.benchmarks.DeepHit.train_deephit import run_experiment\n",
    "\n",
    "# import torchtuples as tt # Some useful functions\n",
    "# from pycox.models import DeepHitSingle\n",
    "\n",
    "torch.manual_seed(1337)\n",
    "logging.basicConfig(level=logging.INFO)\n",
    "device = 'cuda' if torch.cuda.is_available() else 'cpu'\n",
    "# device = \"cpu\"    # if more informative debugging statements are needed\n",
    "print(f\"Using device: {device}.\")"
   ]
  },
  {
   "cell_type": "markdown",
   "metadata": {},
   "source": [
    "# Extract the indicies which relate to the diagnoses"
   ]
  },
  {
   "cell_type": "code",
   "execution_count": 9,
   "metadata": {},
   "outputs": [
    {
     "name": "stderr",
     "output_type": "stream",
     "text": [
      "INFO:root:Creating unsupervised collator for DataModule\n",
      "INFO:root:Using meta information from /rds/projects/g/gokhalkm-optimal/OPTIMAL_MASTER_DATASET/data/FoundationalModel/PreTrain/meta_information_QuantJenny.pickle\n",
      "INFO:root:Using train file-row count dictionary from /rds/projects/g/gokhalkm-optimal/OPTIMAL_MASTER_DATASET/data/FoundationalModel/FineTune_MultiMorbidity50+/file_row_count_dict_train.pickle\n",
      "INFO:root:Using test file-row count dictionary from /rds/projects/g/gokhalkm-optimal/OPTIMAL_MASTER_DATASET/data/FoundationalModel/FineTune_MultiMorbidity50+/file_row_count_dict_test.pickle\n",
      "INFO:root:Using val file-row count dictionary from /rds/projects/g/gokhalkm-optimal/OPTIMAL_MASTER_DATASET/data/FoundationalModel/FineTune_MultiMorbidity50+/file_row_count_dict_val.pickle\n",
      "INFO:root:Tokenzier created based on 7,555,415,275 tokens\n",
      "INFO:root:Using tabular tokenizer, created from meta information and containing 265 tokens\n",
      "INFO:root:Set seed to 42\n",
      "INFO:root:Loaded /rds/projects/g/gokhalkm-optimal/OPTIMAL_MASTER_DATASET/data/FoundationalModel/FineTune_MultiMorbidity50+/split=train/ dataset, with 1,650,998 samples\n",
      "INFO:root:Set seed to 42\n",
      "INFO:root:Loaded /rds/projects/g/gokhalkm-optimal/OPTIMAL_MASTER_DATASET/data/FoundationalModel/FineTune_MultiMorbidity50+/split=test/ dataset, with 107,557 samples\n",
      "INFO:root:Set seed to 42\n",
      "INFO:root:Loaded /rds/projects/g/gokhalkm-optimal/OPTIMAL_MASTER_DATASET/data/FoundationalModel/FineTune_MultiMorbidity50+/split=val/ dataset, with 91,487 samples\n"
     ]
    },
    {
     "name": "stdout",
     "output_type": "stream",
     "text": [
      "[17, 18, 19, 20, 21, 22, 23, 24, 25, 26, 27, 28, 29, 31, 33, 34, 35, 36, 37, 38, 41, 43, 44, 45, 46, 47, 48, 49, 50, 51, 52, 53, 54, 55, 56, 58, 59, 60, 61, 63, 64, 67, 71, 72, 73, 75, 77, 80, 82, 85, 89, 90, 93, 94, 96, 97, 98, 104, 106, 108, 109, 110, 112, 115, 119, 121, 129, 135, 138, 141, 144, 148, 149, 151]\n"
     ]
    }
   ],
   "source": [
    "with initialize(version_base=None, config_path=\"../../SurvivEHR/confs\", job_name=\"deephit-mm-notebook\"):\n",
    "    cfg = compose(config_name=\"config_CompetingRisk11M\")\n",
    "\n",
    "dm = FoundationalDataModule(path_to_db=cfg.data.path_to_db,\n",
    "                            path_to_ds=\"/rds/projects/g/gokhalkm-optimal/OPTIMAL_MASTER_DATASET/data/FoundationalModel/FineTune_MultiMorbidity50+/\",\n",
    "                            overwrite_meta_information=cfg.data.meta_information_path,\n",
    "                            load=True)\n",
    "\n",
    "print(get_tokens_for_stratification(dm, custom_mm_outcomes))"
   ]
  },
  {
   "cell_type": "markdown",
   "metadata": {},
   "source": [
    "# Train model"
   ]
  },
  {
   "cell_type": "code",
   "execution_count": 18,
   "metadata": {},
   "outputs": [
    {
     "name": "stdout",
     "output_type": "stream",
     "text": [
      "Loading training dataset from /rds/projects/g/gokhalkm-optimal/OPTIMAL_MASTER_DATASET/data/FoundationalModel/FineTune_MultiMorbidity50+/benchmark_data/N=20000_seed1.pickle\n",
      "Loading validation/test datasets from /rds/projects/g/gokhalkm-optimal/OPTIMAL_MASTER_DATASET/data/FoundationalModel/FineTune_MultiMorbidity50+/benchmark_data/all.pickle\n",
      "lr_finder best lr: 0.0001\n",
      "setting to lr: 0.001\n",
      "0:\t[9s / 9s],\t\ttrain_loss: 0.7848,\tval_loss: 0.7548\n",
      "1:\t[7s / 16s],\t\ttrain_loss: 0.7697,\tval_loss: 0.7470\n",
      "2:\t[2s / 19s],\t\ttrain_loss: 0.7576,\tval_loss: 0.7425\n",
      "3:\t[7s / 27s],\t\ttrain_loss: 0.7518,\tval_loss: 0.7391\n",
      "4:\t[3s / 30s],\t\ttrain_loss: 0.7492,\tval_loss: 0.7353\n",
      "5:\t[2s / 32s],\t\ttrain_loss: 0.7374,\tval_loss: 0.7323\n",
      "6:\t[2s / 34s],\t\ttrain_loss: 0.7356,\tval_loss: 0.7313\n",
      "7:\t[2s / 36s],\t\ttrain_loss: 0.7324,\tval_loss: 0.7303\n",
      "8:\t[2s / 39s],\t\ttrain_loss: 0.7287,\tval_loss: 0.7298\n",
      "9:\t[3s / 42s],\t\ttrain_loss: 0.7290,\tval_loss: 0.7307\n",
      "10:\t[2s / 44s],\t\ttrain_loss: 0.7239,\tval_loss: 0.7302\n",
      "11:\t[2s / 46s],\t\ttrain_loss: 0.7202,\tval_loss: 0.7305\n",
      "12:\t[2s / 48s],\t\ttrain_loss: 0.7189,\tval_loss: 0.7306\n",
      "13:\t[5s / 54s],\t\ttrain_loss: 0.7158,\tval_loss: 0.7317\n",
      "14:\t[12s / 1m:7s],\t\ttrain_loss: 0.7149,\tval_loss: 0.7334\n",
      "15:\t[6s / 1m:13s],\t\ttrain_loss: 0.7123,\tval_loss: 0.7344\n",
      "16:\t[5s / 1m:19s],\t\ttrain_loss: 0.7126,\tval_loss: 0.7362\n",
      "17:\t[5s / 1m:24s],\t\ttrain_loss: 0.7089,\tval_loss: 0.7382\n",
      "18:\t[3s / 1m:28s],\t\ttrain_loss: 0.7086,\tval_loss: 0.7368\n",
      "{'ctd': 0.5818326767063089, 'ibs': 0.16023643682632224, 'inbll': 0.48353716767547356, 'pred_RMST': [0.8110374814904826, 0.8032818830271059, 0.7993691611820651, 0.7958749355715841, 0.7916451222014189, 0.7870885162237452, 0.7832409376311275, 0.7824003911968892, 0.7840313083938845, 0.7749891987029189, 0.7705965011462307, 0.7578231647094702, 0.7781805171209267, 0.7313539371421497, 0.7566431924627217, nan, nan, nan, nan, nan, nan, nan, nan, nan, nan, nan, nan, nan, nan, nan, nan, nan, nan, nan, nan, nan, nan, nan, nan, nan, nan, nan, nan, nan, nan, nan, nan, nan, nan, nan, nan, nan, nan, nan, nan, nan, nan, nan, nan, nan, nan, nan, nan, nan, nan, nan, nan, nan, nan, nan, nan, nan, nan, nan], 'approx_obs_RMST': [0.44871454691690793, 0.43175508834891985, 0.43852463778280726, 0.42806871037231337, 0.4272330507560173, 0.39713599507860414, 0.38781744012465846, 0.3490439909290893, 0.38343580349071604, 0.3631099236978067, 0.41089804967244464, 0.4807830538068499, 0.4986305236816406, 0.16575336456298828, 0.18520545959472656, nan, nan, nan, nan, nan, nan, nan, nan, nan, nan, nan, nan, nan, nan, nan, nan, nan, nan, nan, nan, nan, nan, nan, nan, nan, nan, nan, nan, nan, nan, nan, nan, nan, nan, nan, nan, nan, nan, nan, nan, nan, nan, nan, nan, nan, nan, nan, nan, nan, nan, nan, nan, nan, nan, nan, nan, nan, nan, nan]}\n",
      "Loading training dataset from /rds/projects/g/gokhalkm-optimal/OPTIMAL_MASTER_DATASET/data/FoundationalModel/FineTune_MultiMorbidity50+/benchmark_data/N=20000_seed2.pickle\n",
      "Loading validation/test datasets from /rds/projects/g/gokhalkm-optimal/OPTIMAL_MASTER_DATASET/data/FoundationalModel/FineTune_MultiMorbidity50+/benchmark_data/all.pickle\n",
      "lr_finder best lr: 0.029150530628251937\n",
      "setting to lr: 0.01\n",
      "0:\t[12s / 12s],\t\ttrain_loss: 0.7753,\tval_loss: 0.7255\n",
      "1:\t[6s / 18s],\t\ttrain_loss: 0.7504,\tval_loss: 0.7215\n",
      "2:\t[11s / 30s],\t\ttrain_loss: 0.7482,\tval_loss: 0.7226\n",
      "3:\t[4s / 34s],\t\ttrain_loss: 0.7439,\tval_loss: 0.7248\n",
      "4:\t[2s / 36s],\t\ttrain_loss: 0.7429,\tval_loss: 0.7250\n",
      "5:\t[2s / 38s],\t\ttrain_loss: 0.7381,\tval_loss: 0.7253\n",
      "6:\t[2s / 41s],\t\ttrain_loss: 0.7346,\tval_loss: 0.7287\n",
      "7:\t[2s / 43s],\t\ttrain_loss: 0.7331,\tval_loss: 0.7306\n",
      "8:\t[2s / 45s],\t\ttrain_loss: 0.7291,\tval_loss: 0.7317\n",
      "9:\t[2s / 47s],\t\ttrain_loss: 0.7266,\tval_loss: 0.7335\n",
      "10:\t[2s / 49s],\t\ttrain_loss: 0.7242,\tval_loss: 0.7389\n",
      "11:\t[2s / 51s],\t\ttrain_loss: 0.7217,\tval_loss: 0.7417\n",
      "{'ctd': 0.5911173163264286, 'ibs': 0.15867046909223004, 'inbll': 0.4796767125363692, 'pred_RMST': [0.7912972073869557, 0.7861456573117749, 0.7850823244894899, 0.7827343003208305, 0.7780760814474191, 0.7719946816845478, 0.7667134431385587, 0.7632227584577113, 0.7612375203567681, 0.7508002725246584, 0.7530949233492271, 0.7518341746484641, 0.7530978821353124, 0.7291404991118955, 0.7296088912570757, nan, nan, nan, nan, nan, nan, nan, nan, nan, nan, nan, nan, nan, nan, nan, nan, nan, nan, nan, nan, nan, nan, nan, nan, nan, nan, nan, nan, nan, nan, nan, nan, nan, nan, nan, nan, nan, nan, nan, nan, nan, nan, nan, nan, nan, nan, nan, nan, nan, nan, nan, nan, nan, nan, nan, nan, nan, nan, nan], 'approx_obs_RMST': [0.44871454691690793, 0.43175508834891985, 0.43852463778280726, 0.42806871037231337, 0.4272330507560173, 0.39713599507860414, 0.38781744012465846, 0.3490439909290893, 0.38343580349071604, 0.3631099236978067, 0.41089804967244464, 0.4807830538068499, 0.4986305236816406, 0.16575336456298828, 0.18520545959472656, nan, nan, nan, nan, nan, nan, nan, nan, nan, nan, nan, nan, nan, nan, nan, nan, nan, nan, nan, nan, nan, nan, nan, nan, nan, nan, nan, nan, nan, nan, nan, nan, nan, nan, nan, nan, nan, nan, nan, nan, nan, nan, nan, nan, nan, nan, nan, nan, nan, nan, nan, nan, nan, nan, nan, nan, nan, nan, nan]}\n",
      "Loading training dataset from /rds/projects/g/gokhalkm-optimal/OPTIMAL_MASTER_DATASET/data/FoundationalModel/FineTune_MultiMorbidity50+/benchmark_data/N=20000_seed3.pickle\n",
      "Loading validation/test datasets from /rds/projects/g/gokhalkm-optimal/OPTIMAL_MASTER_DATASET/data/FoundationalModel/FineTune_MultiMorbidity50+/benchmark_data/all.pickle\n",
      "lr_finder best lr: 0.0001\n",
      "setting to lr: 0.001\n",
      "0:\t[2s / 2s],\t\ttrain_loss: 0.7990,\tval_loss: 0.7515\n",
      "1:\t[4s / 6s],\t\ttrain_loss: 0.7793,\tval_loss: 0.7444\n",
      "2:\t[2s / 8s],\t\ttrain_loss: 0.7686,\tval_loss: 0.7392\n",
      "3:\t[6s / 14s],\t\ttrain_loss: 0.7585,\tval_loss: 0.7352\n",
      "4:\t[7s / 21s],\t\ttrain_loss: 0.7519,\tval_loss: 0.7324\n",
      "5:\t[5s / 27s],\t\ttrain_loss: 0.7440,\tval_loss: 0.7305\n",
      "6:\t[2s / 29s],\t\ttrain_loss: 0.7391,\tval_loss: 0.7297\n",
      "7:\t[2s / 32s],\t\ttrain_loss: 0.7349,\tval_loss: 0.7284\n",
      "8:\t[2s / 34s],\t\ttrain_loss: 0.7344,\tval_loss: 0.7285\n",
      "9:\t[2s / 36s],\t\ttrain_loss: 0.7309,\tval_loss: 0.7287\n",
      "10:\t[2s / 38s],\t\ttrain_loss: 0.7290,\tval_loss: 0.7292\n",
      "11:\t[2s / 41s],\t\ttrain_loss: 0.7269,\tval_loss: 0.7302\n",
      "12:\t[8s / 49s],\t\ttrain_loss: 0.7253,\tval_loss: 0.7306\n",
      "13:\t[18s / 1m:7s],\t\ttrain_loss: 0.7218,\tval_loss: 0.7319\n",
      "14:\t[11s / 1m:19s],\t\ttrain_loss: 0.7196,\tval_loss: 0.7321\n",
      "15:\t[8s / 1m:28s],\t\ttrain_loss: 0.7180,\tval_loss: 0.7340\n",
      "16:\t[13s / 1m:41s],\t\ttrain_loss: 0.7177,\tval_loss: 0.7336\n",
      "17:\t[4s / 1m:45s],\t\ttrain_loss: 0.7144,\tval_loss: 0.7353\n",
      "{'ctd': 0.5845637820436194, 'ibs': 0.1590815187357439, 'inbll': 0.4804648720253997, 'pred_RMST': [0.7962984794007688, 0.7902609809929937, 0.7872084745265792, 0.7842240377553779, 0.7796740683223575, 0.7744023595036484, 0.7695385936066591, 0.7659897188298949, 0.7630587919385657, 0.7521402093582025, 0.7538629451999905, 0.7417022221468631, 0.7495221822895783, 0.7241204474022813, 0.7198651077923102, nan, nan, nan, nan, nan, nan, nan, nan, nan, nan, nan, nan, nan, nan, nan, nan, nan, nan, nan, nan, nan, nan, nan, nan, nan, nan, nan, nan, nan, nan, nan, nan, nan, nan, nan, nan, nan, nan, nan, nan, nan, nan, nan, nan, nan, nan, nan, nan, nan, nan, nan, nan, nan, nan, nan, nan, nan, nan, nan], 'approx_obs_RMST': [0.44871454691690793, 0.43175508834891985, 0.43852463778280726, 0.42806871037231337, 0.4272330507560173, 0.39713599507860414, 0.38781744012465846, 0.3490439909290893, 0.38343580349071604, 0.3631099236978067, 0.41089804967244464, 0.4807830538068499, 0.4986305236816406, 0.16575336456298828, 0.18520545959472656, nan, nan, nan, nan, nan, nan, nan, nan, nan, nan, nan, nan, nan, nan, nan, nan, nan, nan, nan, nan, nan, nan, nan, nan, nan, nan, nan, nan, nan, nan, nan, nan, nan, nan, nan, nan, nan, nan, nan, nan, nan, nan, nan, nan, nan, nan, nan, nan, nan, nan, nan, nan, nan, nan, nan, nan, nan, nan, nan]}\n",
      "Loading training dataset from /rds/projects/g/gokhalkm-optimal/OPTIMAL_MASTER_DATASET/data/FoundationalModel/FineTune_MultiMorbidity50+/benchmark_data/N=20000_seed4.pickle\n",
      "Loading validation/test datasets from /rds/projects/g/gokhalkm-optimal/OPTIMAL_MASTER_DATASET/data/FoundationalModel/FineTune_MultiMorbidity50+/benchmark_data/all.pickle\n",
      "lr_finder best lr: 0.0001\n",
      "setting to lr: 0.001\n",
      "0:\t[4s / 4s],\t\ttrain_loss: 0.7933,\tval_loss: 0.7536\n",
      "1:\t[11s / 15s],\t\ttrain_loss: 0.7731,\tval_loss: 0.7452\n",
      "2:\t[5s / 20s],\t\ttrain_loss: 0.7637,\tval_loss: 0.7399\n",
      "3:\t[3s / 24s],\t\ttrain_loss: 0.7549,\tval_loss: 0.7363\n",
      "4:\t[2s / 26s],\t\ttrain_loss: 0.7503,\tval_loss: 0.7335\n",
      "5:\t[2s / 28s],\t\ttrain_loss: 0.7437,\tval_loss: 0.7314\n",
      "6:\t[2s / 30s],\t\ttrain_loss: 0.7402,\tval_loss: 0.7304\n",
      "7:\t[2s / 32s],\t\ttrain_loss: 0.7348,\tval_loss: 0.7293\n",
      "8:\t[3s / 36s],\t\ttrain_loss: 0.7353,\tval_loss: 0.7297\n",
      "9:\t[4s / 40s],\t\ttrain_loss: 0.7292,\tval_loss: 0.7289\n",
      "10:\t[3s / 43s],\t\ttrain_loss: 0.7281,\tval_loss: 0.7298\n",
      "11:\t[2s / 46s],\t\ttrain_loss: 0.7241,\tval_loss: 0.7292\n",
      "12:\t[4s / 50s],\t\ttrain_loss: 0.7241,\tval_loss: 0.7311\n",
      "13:\t[7s / 58s],\t\ttrain_loss: 0.7225,\tval_loss: 0.7323\n",
      "14:\t[5s / 1m:3s],\t\ttrain_loss: 0.7185,\tval_loss: 0.7321\n",
      "15:\t[8s / 1m:11s],\t\ttrain_loss: 0.7181,\tval_loss: 0.7327\n",
      "16:\t[7s / 1m:19s],\t\ttrain_loss: 0.7153,\tval_loss: 0.7329\n",
      "17:\t[12s / 1m:32s],\t\ttrain_loss: 0.7160,\tval_loss: 0.7355\n",
      "18:\t[6s / 1m:38s],\t\ttrain_loss: 0.7119,\tval_loss: 0.7363\n",
      "19:\t[1s / 1m:40s],\t\ttrain_loss: 0.7074,\tval_loss: 0.7353\n",
      "{'ctd': 0.5850652007633599, 'ibs': 0.15989433650507592, 'inbll': 0.4825145500373174, 'pred_RMST': [0.8019899341601543, 0.7966188722049712, 0.794025109588878, 0.7915403829924116, 0.7878635223841381, 0.7820931723709516, 0.7794231160545401, 0.7772876354371595, 0.7729766533681667, 0.7624880691028572, 0.7553874605889649, 0.7636704364507556, 0.7599512907750623, 0.6965426556413614, 0.7057645388801336, nan, nan, nan, nan, nan, nan, nan, nan, nan, nan, nan, nan, nan, nan, nan, nan, nan, nan, nan, nan, nan, nan, nan, nan, nan, nan, nan, nan, nan, nan, nan, nan, nan, nan, nan, nan, nan, nan, nan, nan, nan, nan, nan, nan, nan, nan, nan, nan, nan, nan, nan, nan, nan, nan, nan, nan, nan, nan, nan], 'approx_obs_RMST': [0.44871454691690793, 0.43175508834891985, 0.43852463778280726, 0.42806871037231337, 0.4272330507560173, 0.39713599507860414, 0.38781744012465846, 0.3490439909290893, 0.38343580349071604, 0.3631099236978067, 0.41089804967244464, 0.4807830538068499, 0.4986305236816406, 0.16575336456298828, 0.18520545959472656, nan, nan, nan, nan, nan, nan, nan, nan, nan, nan, nan, nan, nan, nan, nan, nan, nan, nan, nan, nan, nan, nan, nan, nan, nan, nan, nan, nan, nan, nan, nan, nan, nan, nan, nan, nan, nan, nan, nan, nan, nan, nan, nan, nan, nan, nan, nan, nan, nan, nan, nan, nan, nan, nan, nan, nan, nan, nan, nan]}\n",
      "Loading training dataset from /rds/projects/g/gokhalkm-optimal/OPTIMAL_MASTER_DATASET/data/FoundationalModel/FineTune_MultiMorbidity50+/benchmark_data/N=20000_seed5.pickle\n",
      "Loading validation/test datasets from /rds/projects/g/gokhalkm-optimal/OPTIMAL_MASTER_DATASET/data/FoundationalModel/FineTune_MultiMorbidity50+/benchmark_data/all.pickle\n",
      "lr_finder best lr: 0.0001\n",
      "setting to lr: 0.001\n",
      "0:\t[8s / 8s],\t\ttrain_loss: 0.7907,\tval_loss: 0.7549\n",
      "1:\t[15s / 23s],\t\ttrain_loss: 0.7747,\tval_loss: 0.7475\n",
      "2:\t[2s / 26s],\t\ttrain_loss: 0.7636,\tval_loss: 0.7417\n",
      "3:\t[2s / 28s],\t\ttrain_loss: 0.7559,\tval_loss: 0.7374\n",
      "4:\t[2s / 30s],\t\ttrain_loss: 0.7485,\tval_loss: 0.7347\n",
      "5:\t[2s / 32s],\t\ttrain_loss: 0.7426,\tval_loss: 0.7324\n",
      "6:\t[2s / 35s],\t\ttrain_loss: 0.7372,\tval_loss: 0.7310\n",
      "7:\t[7s / 42s],\t\ttrain_loss: 0.7349,\tval_loss: 0.7300\n",
      "8:\t[1s / 44s],\t\ttrain_loss: 0.7302,\tval_loss: 0.7298\n",
      "9:\t[2s / 46s],\t\ttrain_loss: 0.7266,\tval_loss: 0.7297\n",
      "10:\t[1s / 48s],\t\ttrain_loss: 0.7259,\tval_loss: 0.7303\n",
      "11:\t[4s / 53s],\t\ttrain_loss: 0.7256,\tval_loss: 0.7301\n",
      "12:\t[7s / 1m:0s],\t\ttrain_loss: 0.7178,\tval_loss: 0.7303\n",
      "13:\t[7s / 1m:7s],\t\ttrain_loss: 0.7188,\tval_loss: 0.7326\n",
      "14:\t[3s / 1m:11s],\t\ttrain_loss: 0.7163,\tval_loss: 0.7344\n",
      "15:\t[7s / 1m:19s],\t\ttrain_loss: 0.7155,\tval_loss: 0.7348\n",
      "16:\t[7s / 1m:26s],\t\ttrain_loss: 0.7103,\tval_loss: 0.7343\n",
      "17:\t[7s / 1m:34s],\t\ttrain_loss: 0.7110,\tval_loss: 0.7350\n",
      "18:\t[11s / 1m:45s],\t\ttrain_loss: 0.7093,\tval_loss: 0.7377\n",
      "19:\t[2s / 1m:47s],\t\ttrain_loss: 0.7090,\tval_loss: 0.7380\n",
      "{'ctd': 0.5830521175448752, 'ibs': 0.1597400461723558, 'inbll': 0.4823717039865247, 'pred_RMST': [0.8052250328350333, 0.7980161617420273, 0.7949198385092332, 0.7924552902378365, 0.7884615551212447, 0.7834697711781162, 0.7797203921082086, 0.777783904188602, 0.7756388416696458, 0.7625176654280811, 0.767788559752405, 0.7615322748955207, 0.7647493404538647, 0.7155717079635815, 0.733754029111885, nan, nan, nan, nan, nan, nan, nan, nan, nan, nan, nan, nan, nan, nan, nan, nan, nan, nan, nan, nan, nan, nan, nan, nan, nan, nan, nan, nan, nan, nan, nan, nan, nan, nan, nan, nan, nan, nan, nan, nan, nan, nan, nan, nan, nan, nan, nan, nan, nan, nan, nan, nan, nan, nan, nan, nan, nan, nan, nan], 'approx_obs_RMST': [0.44871454691690793, 0.43175508834891985, 0.43852463778280726, 0.42806871037231337, 0.4272330507560173, 0.39713599507860414, 0.38781744012465846, 0.3490439909290893, 0.38343580349071604, 0.3631099236978067, 0.41089804967244464, 0.4807830538068499, 0.4986305236816406, 0.16575336456298828, 0.18520545959472656, nan, nan, nan, nan, nan, nan, nan, nan, nan, nan, nan, nan, nan, nan, nan, nan, nan, nan, nan, nan, nan, nan, nan, nan, nan, nan, nan, nan, nan, nan, nan, nan, nan, nan, nan, nan, nan, nan, nan, nan, nan, nan, nan, nan, nan, nan, nan, nan, nan, nan, nan, nan, nan, nan, nan, nan, nan, nan, nan]}\n"
     ]
    }
   ],
   "source": [
    "num_nodes = [32, 32]\n",
    "batch_norm = True\n",
    "dropout = 0.1\n",
    "epochs = 100\n",
    "batch_size = 256\n",
    "bins = 200                                                   # Default of 10: did very poorly. Increasing, improving results.\n",
    "seeds = [1,2,3,4,5]\n",
    "# t_eval = np.linspace(0, 1, 1000)                           # the time grid which we generate over\n",
    "time_grid = np.linspace(start=0, stop=1 , num=300)           # the time grid which we calculate scores over\n",
    "\n",
    "model_names = []\n",
    "all_ctd = []\n",
    "all_ibs = []\n",
    "all_inbll = []\n",
    "all_obs_RMST = [] \n",
    "all_pred_RMST = []\n",
    "for seed in seeds:\n",
    "\n",
    "    # Load data\n",
    "    dataset_train, dataset_val, dataset_test, meta_information = get_dataloaders(\"MultiMorbidity50+\", False, \"deephit\", sample_size=20000, seed=seed, bins=bins)\n",
    "\n",
    "    # Train benchmark\n",
    "    result_dict = run_experiment(dataset_train, dataset_val, dataset_test, meta_information,\n",
    "                                 dm=dm, custom_outcomes_method=custom_mm_outcomes)\n",
    "    \n",
    "    print(result_dict)\n",
    "\n",
    "    # Record\n",
    "    model_names.append( f\"DeepHit-SR-MultiMorbidity50+-Ns{20000}-seed{seed}\")\n",
    "    all_ctd.append(result_dict[\"ctd\"])\n",
    "    all_ibs.append(result_dict[\"ibs\"])\n",
    "    all_inbll.append(result_dict[\"inbll\"])\n",
    "    all_pred_RMST.append(result_dict[\"pred_RMST\"])\n",
    "    all_obs_RMST.append(result_dict[\"approx_obs_RMST\"])\n",
    "    \n"
   ]
  },
  {
   "cell_type": "code",
   "execution_count": 21,
   "metadata": {
    "scrolled": true
   },
   "outputs": [],
   "source": [
    "num_pre_existing = np.arange(len(all_obs_RMST[0]))\n",
    "\n",
    "plt.figure()\n",
    "for pred_RMST_seed in all_pred_RMST:\n",
    "    plt.plot(num_pre_existing[:10], pred_RMST_seed[:10], color='b')\n",
    "    \n",
    "plt.plot(num_pre_existing[:10], all_obs_RMST[0][:10], color='k')   # these are evaluated on the `all` the test data - which is shared across subsampled datasets \n",
    "plt.xlabel(\"Number of pre-existing conditions\")\n",
    "plt.ylabel(\"Survival time\")\n",
    "plt.savefig(\"figs/calibration_deephit.png\")"
   ]
  },
  {
   "cell_type": "code",
   "execution_count": 22,
   "metadata": {},
   "outputs": [
    {
     "name": "stdout",
     "output_type": "stream",
     "text": [
      "(0.5851262186769184, 0.58067685718006, 0.5895755801737768, 0.004449361496858366)\n",
      "(0.15952456146634558, 0.15873542210751018, 0.16031370082518098, 0.0007891393588354023)\n",
      "(0.4817130012522169, 0.47973916052329973, 0.48368684198113404, 0.0019738407289171295)\n"
     ]
    }
   ],
   "source": [
    "import scipy.stats\n",
    "\n",
    "def mean_confidence_interval(data, confidence=0.95):\n",
    "    a = 1.0 * np.array(data)\n",
    "    n = len(a)\n",
    "    m, se = np.mean(a), scipy.stats.sem(a)\n",
    "    h = se * scipy.stats.t.ppf((1 + confidence) / 2., n-1)\n",
    "    return m, m-h, m+h, h\n",
    "    \n",
    "print(mean_confidence_interval(all_ctd))\n",
    "print(mean_confidence_interval(all_ibs))\n",
    "print(mean_confidence_interval(all_inbll))"
   ]
  },
  {
   "cell_type": "code",
   "execution_count": null,
   "metadata": {},
   "outputs": [],
   "source": []
  },
  {
   "cell_type": "code",
   "execution_count": null,
   "metadata": {},
   "outputs": [],
   "source": []
  }
 ],
 "metadata": {
  "colab": {
   "provenance": []
  },
  "kernelspec": {
   "display_name": "Python",
   "language": "python",
   "name": "sys_python"
  },
  "language_info": {
   "codemirror_mode": {
    "name": "ipython",
    "version": 3
   },
   "file_extension": ".py",
   "mimetype": "text/x-python",
   "name": "python",
   "nbconvert_exporter": "python",
   "pygments_lexer": "ipython3",
   "version": "3.10.4"
  }
 },
 "nbformat": 4,
 "nbformat_minor": 4
}
