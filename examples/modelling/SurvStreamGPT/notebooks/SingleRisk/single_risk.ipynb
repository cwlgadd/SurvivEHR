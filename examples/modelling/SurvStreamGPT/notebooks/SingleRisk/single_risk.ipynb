{
 "cells": [
  {
   "cell_type": "markdown",
   "metadata": {
    "id": "wJpXpmjEYC_T"
   },
   "source": [
    "# Demo Notebook:\n",
    "## Single Risk Survival Transformer For Causal Sequence Modelling \n",
    "\n",
    "Including time, tabular values"
   ]
  },
  {
   "cell_type": "code",
   "execution_count": 1,
   "metadata": {},
   "outputs": [
    {
     "name": "stdout",
     "output_type": "stream",
     "text": [
      "Added path '/rds/homes/g/gaddcz/Projects/CPRD/virtual-envTorch2.0-icelake/lib/python3.10/site-packages' at start of search paths.\n",
      "/rds/homes/g/gaddcz/Projects/CPRD/examples/modelling/SurvStreamGPT/notebooks/SingleRisk\n"
     ]
    }
   ],
   "source": [
    "import os\n",
    "from pathlib import Path\n",
    "import sys\n",
    "node_type = os.getenv('BB_CPU')\n",
    "venv_dir = f'/rds/homes/g/gaddcz/Projects/CPRD/virtual-envTorch2.0-{node_type}'\n",
    "venv_site_pkgs = Path(venv_dir) / 'lib' / f'python{sys.version_info.major}.{sys.version_info.minor}' / 'site-packages'\n",
    "if venv_site_pkgs.exists():\n",
    "    sys.path.insert(0, str(venv_site_pkgs))\n",
    "    print(f\"Added path '{venv_site_pkgs}' at start of search paths.\")\n",
    "else:\n",
    "    print(f\"Path '{venv_site_pkgs}' not found. Check that it exists and/or that it exists for node-type '{node_type}'.\")\n",
    "\n",
    "!pwd\n",
    "\n",
    "%load_ext autoreload\n",
    "%autoreload 2"
   ]
  },
  {
   "cell_type": "code",
   "execution_count": 3,
   "metadata": {},
   "outputs": [
    {
     "name": "stdout",
     "output_type": "stream",
     "text": [
      "Using device: cuda.\n"
     ]
    }
   ],
   "source": [
    "import torch\n",
    "import numpy as np\n",
    "import matplotlib.pyplot as plt\n",
    "import logging\n",
    "from pycox.evaluation import EvalSurv\n",
    "from tqdm import tqdm\n",
    "from hydra import compose, initialize\n",
    "from omegaconf import OmegaConf\n",
    "from CPRD.examples.modelling.SurvStreamGPT.experiment import run\n",
    "from CPRD.data.foundational_loader import FoundationalDataModule\n",
    "from CPRD.src.models.survival.task_heads.causal import SurvStreamGPTForCausalModelling\n",
    "\n",
    "torch.manual_seed(1337)\n",
    "torch.set_float32_matmul_precision('medium')\n",
    "\n",
    "logging.basicConfig(level=logging.INFO)\n",
    "device = 'cuda' if torch.cuda.is_available() else 'cpu'\n",
    "# device = \"cpu\"    # if more informative debugging statements are needed\n",
    "print(f\"Using device: {device}.\")"
   ]
  },
  {
   "cell_type": "markdown",
   "metadata": {},
   "source": [
    "# Demo Version of SurvStreamGPT"
   ]
  },
  {
   "cell_type": "markdown",
   "metadata": {},
   "source": [
    "## Build configurations"
   ]
  },
  {
   "cell_type": "code",
   "execution_count": 6,
   "metadata": {},
   "outputs": [],
   "source": [
    "# load the configuration file, override any settings \n",
    "with initialize(version_base=None, config_path=\"../../confs\", job_name=\"testing_notebook\"):\n",
    "    cfg = compose(config_name=\"config_SingleRisk11M\", overrides=[])\n",
    "\n",
    "\n",
    "# cfg.data.batch_size = 16\n",
    "# cfg.transformer.block_size = 32\n",
    "# # cfg.transformer.n_layer = 10"
   ]
  },
  {
   "cell_type": "code",
   "execution_count": 5,
   "metadata": {},
   "outputs": [
    {
     "name": "stdout",
     "output_type": "stream",
     "text": [
      "is_decoder: true\n",
      "data:\n",
      "  batch_size: 64\n",
      "  unk_freq_threshold: 0.0\n",
      "  min_workers: 20\n",
      "experiment:\n",
      "  project_name: SurvStreamGPT_${head.SurvLayer}\n",
      "  run_id: PreTrain_${head.SurvLayer}_11M_${experiment.seed}\n",
      "  train: true\n",
      "  test: true\n",
      "  verbose: true\n",
      "  seed: 1337\n",
      "  log: true\n",
      "  log_dir: /rds/projects/s/subramaa-mum-predict/CharlesGadd_Oxford/FoundationModelOutput/\n",
      "  ckpt_dir: /rds/projects/s/subramaa-mum-predict/CharlesGadd_Oxford/FoundationModelOutput/checkpoints/\n",
      "optim:\n",
      "  num_epochs: 1\n",
      "  learning_rate: 0.0003\n",
      "  val_check_interval: 1000\n",
      "  early_stop_patience: 5\n",
      "  log_every_n_steps: 20\n",
      "  limit_val_batches: 0.05\n",
      "  limit_test_batches: 0.05\n",
      "transformer:\n",
      "  block_type: Neo\n",
      "  block_size: 128\n",
      "  n_layer: 6\n",
      "  n_head: 6\n",
      "  n_embd: 384\n",
      "  layer_norm_bias: false\n",
      "  attention_type: global\n",
      "  bias: true\n",
      "  dropout: 0.0\n",
      "  attention_dropout: 0.0\n",
      "  resid_dropout: 0.0\n",
      "head:\n",
      "  SurvLayer: cr\n",
      "  surv_weight: 0.5\n",
      "  tokens_for_univariate_regression: None\n",
      "  value_weight: 0.5\n",
      "\n"
     ]
    }
   ],
   "source": [
    "print(OmegaConf.to_yaml(cfg))"
   ]
  },
  {
   "cell_type": "code",
   "execution_count": 7,
   "metadata": {},
   "outputs": [
    {
     "name": "stdout",
     "output_type": "stream",
     "text": [
      "env: SLURM_NTASKS_PER_NODE=28\n"
     ]
    }
   ],
   "source": [
    " # TODO: define an env variable to fix for a local hpc environment issue, this shouldn't be needed\n",
    "%env SLURM_NTASKS_PER_NODE=28      \n",
    "\n",
    "# TODO: with above this trains, but due to widgets issue on hpc it does not print progress to notebook\n",
    "# cfg.experiment.train = False\n",
    "# cfg.experiment.test = False\n",
    "# cfg.experiment.log = False\n",
    "# model, dm = run(cfg)     \n"
   ]
  },
  {
   "cell_type": "markdown",
   "metadata": {},
   "source": [
    "## Or define training process by hand\n",
    "### Create data loader"
   ]
  },
  {
   "cell_type": "code",
   "execution_count": 8,
   "metadata": {},
   "outputs": [
    {
     "name": "stderr",
     "output_type": "stream",
     "text": [
      "INFO:root:Loading Polars dataset from /rds/projects/g/gokhalkm-optimal/OPTIMAL_MASTER_DATASET/data/polars/\n",
      "INFO:root:Using tokenizer tabular\n",
      "INFO:root:Tokenzier created based on 3584.43M tokens\n",
      "INFO:root:Creating split=train/ dataset\n",
      "INFO:root:\t Loading split=train/ hash map for parquet\n",
      "INFO:root:\t Hash map created for split=train/ with 22,912,046 samples\n",
      "INFO:root:Creating split=test/ dataset\n",
      "INFO:root:\t Loading split=test/ hash map for parquet\n",
      "INFO:root:\t Hash map created for split=test/ with 1,207,449 samples\n",
      "INFO:root:Creating split=val/ dataset\n",
      "INFO:root:\t Loading split=val/ hash map for parquet\n",
      "INFO:root:\t Hash map created for split=val/ with 1,226,576 samples\n"
     ]
    },
    {
     "name": "stdout",
     "output_type": "stream",
     "text": [
      "184 vocab elements\n"
     ]
    }
   ],
   "source": [
    "# Build \n",
    "path_to_db = \"/rds/projects/g/gokhalkm-optimal/OPTIMAL_MASTER_DATASET/data/\"\n",
    "dm = FoundationalDataModule(path_to_db=path_to_db,\n",
    "                            load=True,\n",
    "                            tokenizer=\"tabular\",\n",
    "                            batch_size=cfg.data.batch_size,\n",
    "                            max_seq_length=cfg.transformer.block_size,\n",
    "                            unk_freq_threshold=cfg.data.unk_freq_threshold,\n",
    "                            min_workers=cfg.data.min_workers,\n",
    "                            inclusion_conditions=[\"COUNTRY = 'E'\"],\n",
    "                           )\n",
    "\n",
    "vocab_size = dm.train_set.tokenizer.vocab_size\n",
    "print(f\"{vocab_size} vocab elements\")\n",
    "\n",
    "# list of univariate measurements to model with Normal distribution\n",
    "# Extract the measurements, using the fact that the diagnoses are all up upper case.\n",
    "measurements_for_univariate_regression = [record for record in dm.tokenizer._event_counts[\"EVENT\"] if record.upper() != record]\n",
    "cfg.head.tokens_for_univariate_regression = dm.encode(measurements_for_univariate_regression) \n",
    "# display(measurements_for_univariate_regression)\n"
   ]
  },
  {
   "cell_type": "code",
   "execution_count": 10,
   "metadata": {},
   "outputs": [
    {
     "name": "stdout",
     "output_type": "stream",
     "text": [
      "Time to retrieve sample index 1000 was 0.18506836891174316 seconds\n",
      "\n",
      "SEX                 | F\n",
      "IMD                 | 3.0\n",
      "ETHNICITY           | WHITE\n",
      "birth_year          | 1966.0\n",
      "\n",
      "Token                                                                      | Age               | Standardised value\n",
      "===================================================================================================================\n",
      "PSORIASIS                                                                  | 535               | nan               \n",
      "ULCERATIVE_COLITIS                                                         | 9179              | nan               \n",
      "DEPRESSION                                                                 | 9614              | nan               \n",
      "ANXIETY                                                                    | 9614              | nan               \n",
      "CROHNS_DISEASE                                                             | 10590             | nan               \n",
      "Systolic_blood_pressure_4                                                  | 18200             | 0.03              \n",
      "Diastolic_blood_pressure_5                                                 | 18203             | 0.39              \n",
      "Systolic_blood_pressure_4                                                  | 18203             | 0.06              \n",
      "Diastolic_blood_pressure_5                                                 | 18218             | 0.22              \n",
      "Systolic_blood_pressure_4                                                  | 18218             | -0.04             \n",
      "HYPERTENSION                                                               | 18218             | nan               \n",
      "Diastolic_blood_pressure_5                                                 | 18322             | 0.13              \n",
      "Systolic_blood_pressure_4                                                  | 18322             | 0.07              \n",
      "Basophil_count_22                                                          | 18479             | 0.14              \n",
      "Eosinophil_count_21                                                        | 18479             | 0.00              \n",
      "GFR_calculated_abbreviated_MDRD_34                                         | 18479             | 0.25              \n",
      "Haematocrit_15                                                             | 18479             | -0.00             \n",
      "Haemoglobin_A1c_level___IFCC_standardised_6                                | 18479             | -0.04             \n",
      "Haemoglobin_estimation_9                                                   | 18479             | 0.00              \n",
      "HbA1c_level__DCCT_aligned__7                                               | 18479             | -0.14             \n",
      "Lymphocyte_count_20                                                        | 18479             | 0.26              \n",
      "Mean_corpusc_haemoglobin_MCH__13                                           | 18479             | -0.07             \n",
      "Mean_corpuscular_volume__MCV__11                                           | 18479             | -0.08             \n",
      "Monocyte_count_23                                                          | 18479             | 0.30              \n",
      "Neutrophil_count_19                                                        | 18479             | 0.19              \n",
      "Platelet_count_12                                                          | 18479             | 0.10              \n",
      "Red_blood_cell__RBC__count_10                                              | 18479             | 0.03              \n",
      "Serum_creatinine_31                                                        | 18479             | -0.17             \n",
      "Serum_potassium_26                                                         | 18479             | -0.09             \n",
      "Serum_sodium_24                                                            | 18479             | 0.06              \n",
      "Serum_urea_level_29                                                        | 18479             | -0.45             \n",
      "Total_white_cell_count_18                                                  | 18479             | 0.26              \n",
      "GFR_calculated_abbreviated_MDRD_34                                         | 18486             | 0.25              \n",
      "Serum_creatinine_31                                                        | 18486             | -0.18             \n",
      "Serum_potassium_26                                                         | 18486             | -0.13             \n",
      "Serum_sodium_24                                                            | 18486             | -0.01             \n",
      "Serum_urea_level_29                                                        | 18486             | 0.03              \n",
      "Diastolic_blood_pressure_5                                                 | 18618             | 0.22              \n",
      "Systolic_blood_pressure_4                                                  | 18618             | -0.04             \n",
      "Diastolic_blood_pressure_5                                                 | 18806             | 0.13              \n",
      "Systolic_blood_pressure_4                                                  | 18806             | 0.07              \n",
      "Diastolic_blood_pressure_5                                                 | 18980             | 0.18              \n",
      "Systolic_blood_pressure_4                                                  | 18980             | -0.18             \n",
      "Erythrocyte_sedimentation_rate_61                                          | 19173             | -0.00             \n",
      "GFR_calculated_abbreviated_MDRD_34                                         | 19173             | 0.24              \n",
      "Haematocrit_15                                                             | 19173             | 0.04              \n",
      "Haemoglobin_estimation_9                                                   | 19173             | 0.06              \n",
      "Mean_corpusc_haemoglobin_MCH__13                                           | 19173             | 0.03              \n",
      "Mean_corpuscular_volume__MCV__11                                           | 19173             | -0.02             \n",
      "Platelet_count_12                                                          | 19173             | 0.19              \n",
      "Red_blood_cell__RBC__count_10                                              | 19173             | 0.03              \n",
      "Serum_C_reactive_protein_level_59                                          | 19173             | 0.15              \n",
      "Serum_alanine_aminotransferase_level_45                                    | 19173             | -0.13             \n",
      "Serum_albumin_51                                                           | 19173             | -0.14             \n",
      "Serum_creatinine_31                                                        | 19173             | -0.17             \n",
      "Serum_gamma_glutamyl_transferase_level_57                                  | 19173             | -0.02             \n",
      "Serum_potassium_26                                                         | 19173             | -0.09             \n",
      "Serum_sodium_24                                                            | 19173             | 0.28              \n",
      "Serum_total_bilirubin_level_56                                             | 19173             | -0.24             \n",
      "Serum_urea_level_29                                                        | 19173             | -0.05             \n",
      "Total_white_cell_count_18                                                  | 19173             | 0.18              \n",
      "RHEUMATOIDARTHRITIS                                                        | 19173             | nan               \n",
      "GFR_calculated_abbreviated_MDRD_34                                         | 19193             | 0.21              \n",
      "Haematocrit_15                                                             | 19193             | 0.04              \n",
      "Haemoglobin_estimation_9                                                   | 19193             | 0.04              \n",
      "Mean_corpusc_haemoglobin_MCH__13                                           | 19193             | -0.04             \n",
      "Mean_corpuscular_volume__MCV__11                                           | 19193             | -0.06             \n",
      "Platelet_count_12                                                          | 19193             | 0.17              \n",
      "Red_blood_cell__RBC__count_10                                              | 19193             | 0.04              \n",
      "Serum_alanine_aminotransferase_level_45                                    | 19193             | -0.05             \n",
      "Serum_albumin_51                                                           | 19193             | -0.04             \n",
      "Serum_creatinine_31                                                        | 19193             | -0.16             \n",
      "Serum_gamma_glutamyl_transferase_level_57                                  | 19193             | 0.02              \n",
      "Serum_potassium_26                                                         | 19193             | -0.17             \n",
      "Serum_sodium_24                                                            | 19193             | -0.01             \n",
      "Serum_total_bilirubin_level_56                                             | 19193             | -0.31             \n",
      "Serum_urea_level_29                                                        | 19193             | 0.06              \n",
      "Total_white_cell_count_18                                                  | 19193             | 0.41              \n",
      "Diastolic_blood_pressure_5                                                 | 19212             | 0.18              \n",
      "Systolic_blood_pressure_4                                                  | 19212             | -0.14             \n",
      "Erythrocyte_sedimentation_rate_61                                          | 19333             | 0.32              \n",
      "GFR_calculated_abbreviated_MDRD_34                                         | 19333             | 0.25              \n",
      "Haematocrit_15                                                             | 19333             | -0.13             \n",
      "Haemoglobin_estimation_9                                                   | 19333             | -0.12             \n",
      "Mean_corpusc_haemoglobin_MCH__13                                           | 19333             | -0.01             \n",
      "Mean_corpuscular_volume__MCV__11                                           | 19333             | -0.03             \n",
      "Platelet_count_12                                                          | 19333             | 0.12              \n",
      "Red_blood_cell__RBC__count_10                                              | 19333             | -0.13             \n",
      "Serum_C_reactive_protein_level_59                                          | 19333             | 0.30              \n",
      "Serum_alanine_aminotransferase_level_45                                    | 19333             | -0.15             \n",
      "Serum_albumin_51                                                           | 19333             | -0.28             \n",
      "Serum_creatinine_31                                                        | 19333             | -0.21             \n",
      "Serum_gamma_glutamyl_transferase_level_57                                  | 19333             | 0.02              \n",
      "Serum_potassium_26                                                         | 19333             | -0.26             \n",
      "Serum_sodium_24                                                            | 19333             | -0.01             \n",
      "Serum_total_bilirubin_level_56                                             | 19333             | -0.27             \n",
      "Serum_urea_level_29                                                        | 19333             | -0.13             \n",
      "Total_white_cell_count_18                                                  | 19333             | 0.06              \n",
      "Diastolic_blood_pressure_5                                                 | 19402             | 0.29              \n",
      "Systolic_blood_pressure_4                                                  | 19402             | 0.01              \n",
      "Erythrocyte_sedimentation_rate_61                                          | 19408             | 0.08              \n",
      "GFR_calculated_abbreviated_MDRD_34                                         | 19408             | 0.24              \n",
      "Haematocrit_15                                                             | 19408             | -0.04             \n",
      "Haemoglobin_estimation_9                                                   | 19408             | -0.02             \n",
      "Mean_corpusc_haemoglobin_MCH__13                                           | 19408             | 0.02              \n",
      "Mean_corpuscular_volume__MCV__11                                           | 19408             | 0.01              \n",
      "Platelet_count_12                                                          | 19408             | 0.19              \n",
      "Red_blood_cell__RBC__count_10                                              | 19408             | -0.06             \n",
      "Serum_C_reactive_protein_level_59                                          | 19408             | 0.29              \n",
      "Serum_alanine_aminotransferase_level_45                                    | 19408             | -0.13             \n",
      "Serum_albumin_51                                                           | 19408             | -0.14             \n",
      "Serum_creatinine_31                                                        | 19408             | -0.17             \n",
      "Serum_gamma_glutamyl_transferase_level_57                                  | 19408             | 0.09              \n",
      "Serum_potassium_26                                                         | 19408             | -0.26             \n",
      "Serum_sodium_24                                                            | 19408             | 0.06              \n",
      "Serum_total_bilirubin_level_56                                             | 19408             | -0.31             \n",
      "Serum_urea_level_29                                                        | 19408             | -0.02             \n",
      "Total_white_cell_count_18                                                  | 19408             | 0.19              \n",
      "Erythrocyte_sedimentation_rate_61                                          | 19466             | 0.18              \n",
      "GFR_calculated_abbreviated_MDRD_34                                         | 19466             | 0.25              \n",
      "Haematocrit_15                                                             | 19466             | -0.08             \n",
      "Haemoglobin_estimation_9                                                   | 19466             | -0.04             \n",
      "Mean_corpusc_haemoglobin_MCH__13                                           | 19466             | 0.05              \n",
      "Mean_corpuscular_volume__MCV__11                                           | 19466             | -0.01             \n",
      "Platelet_count_12                                                          | 19466             | 0.16              \n",
      "Red_blood_cell__RBC__count_10                                              | 19466             | -0.07             \n",
      "Serum_C_reactive_protein_level_59                                          | 19466             | 0.20              \n",
      "Serum_alanine_aminotransferase_level_45                                    | 19466             | -0.13             \n"
     ]
    }
   ],
   "source": [
    "dm.train_set.view_sample(1000, report_time=True) # max_dynamic_events=120,\n",
    "\n",
    "# import time\n",
    "# start_time = time.time()\n",
    "# for _idx, batch in enumerate(tqdm(dm.train_dataloader())):\n",
    "#     if _idx > 100:\n",
    "#         break\n",
    "# print(time.time() - start_time)\n",
    "# print(dm.meta_information.keys())\n"
   ]
  },
  {
   "cell_type": "markdown",
   "metadata": {},
   "source": [
    "### Train"
   ]
  },
  {
   "cell_type": "code",
   "execution_count": null,
   "metadata": {
    "scrolled": true
   },
   "outputs": [
    {
     "name": "stderr",
     "output_type": "stream",
     "text": [
      "INFO:root:Using Temporal Positional Encoding. This module uses the patient's age at an event within their time series.\n",
      "INFO:root:Using Single-Risk DeSurvival head. This module predicts a separate survival curve for each possible future event\n",
      "INFO:root:Internally scaling time in survival head by 1825 days\n",
      "INFO:root:In generation forwarding DeSurv on the grid between [0.0, 1825.0]\n",
      "INFO:root:with 1826 intervals of delta=1.0\n"
     ]
    },
    {
     "name": "stdout",
     "output_type": "stream",
     "text": [
      "Training model with 11.167512 M parameters\n"
     ]
    },
    {
     "name": "stderr",
     "output_type": "stream",
     "text": [
      "Training epoch 0:   0%|          | 422/358001 [04:29<60:44:29,  1.64it/s]"
     ]
    }
   ],
   "source": [
    "model = SurvStreamGPTForCausalModelling(cfg, vocab_size).to(device)\n",
    "model = model.to(device)\n",
    "\n",
    "loss_curves_train = []\n",
    "loss_curves_train_surv = []\n",
    "loss_curves_train_values = []\n",
    "\n",
    "loss_curves_val = []\n",
    "loss_curves_val_surv = []\n",
    "loss_curves_val_values = []    \n",
    "print(f\"Training model with {sum(p.numel() for p in model.parameters())/1e6} M parameters\")\n",
    "\n",
    "# create a PyTorch optimizer\n",
    "optimizer = torch.optim.AdamW(model.parameters(), lr=cfg.optim.learning_rate)\n",
    "\n",
    "best_val, epochs_since_best = np.inf, 0\n",
    "for epoch in range(10):\n",
    "    \n",
    "    epoch_loss, epoch_surv_loss, epoch_values_loss = 0, 0, 0\n",
    "    model.train()\n",
    "    for i, batch in tqdm(enumerate(dm.train_dataloader()), desc=f\"Training epoch {epoch}\", total=len(dm.train_dataloader())):\n",
    "        \n",
    "            \n",
    "        # evaluate the loss\n",
    "        _, (losses_desurv, loss_values), loss = model(tokens=batch['tokens'].to(device), \n",
    "                                                      ages=batch['ages'].to(device), \n",
    "                                                      values=batch['values'].to(device),\n",
    "                                                      covariates=batch[\"static_covariates\"].to(device),\n",
    "                                                      attention_mask=batch['attention_mask'].to(device)   \n",
    "                                                      )\n",
    "        optimizer.zero_grad(set_to_none=True)\n",
    "        loss.backward()\n",
    "        optimizer.step()\n",
    "\n",
    "        # record\n",
    "        epoch_loss += loss.item()            \n",
    "        epoch_surv_loss += torch.sum(losses_desurv).item()\n",
    "        epoch_values_loss += loss_values.item()\n",
    "\n",
    "        if i > 1000:\n",
    "            break\n",
    "    \n",
    "    epoch_loss /= i\n",
    "    epoch_surv_loss /= i\n",
    "    epoch_values_loss /= i\n",
    "    loss_curves_train.append(epoch_loss)\n",
    "    loss_curves_train_surv.append(epoch_surv_loss)\n",
    "    loss_curves_train_values.append(epoch_values_loss)\n",
    "\n",
    "    # evaluate the loss on val set\n",
    "    with torch.no_grad(): \n",
    "        model.eval()\n",
    "        if epoch % 1 == 0 or epoch == cfg.optim.num_epochs - 1:\n",
    "            val_loss, val_surv_loss, val_values_loss = 0, 0, 0\n",
    "            for j, batch in tqdm(enumerate(dm.val_dataloader()), desc=f\"Validation epoch {epoch}\", total=len(dm.val_dataloader())):\n",
    "                if j > 100:\n",
    "                    break\n",
    "                _, (losses_desurv, loss_values), loss = model(tokens=batch['tokens'].to(device), \n",
    "                                                              ages=batch['ages'].to(device),\n",
    "                                                              values=batch['values'].to(device),\n",
    "                                                              covariates=batch[\"static_covariates\"].to(device),\n",
    "                                                              attention_mask=batch['attention_mask'].to(device)   \n",
    "                                                              )\n",
    "                # record\n",
    "                val_loss += loss.item()                    \n",
    "                val_surv_loss += torch.sum(losses_desurv).item()\n",
    "                val_values_loss += loss_values.item()\n",
    "                \n",
    "            val_loss /= j\n",
    "            val_surv_loss /= j\n",
    "            val_values_loss /= j\n",
    "            loss_curves_val.append(val_loss)\n",
    "            loss_curves_val_surv.append(val_surv_loss)\n",
    "            loss_curves_val_values.append(val_values_loss)\n",
    "\n",
    "            print(f\"Epoch {epoch}:\\tTrain loss {epoch_loss:.2f}: ({epoch_surv_loss:.2f}, {epoch_values_loss:.2f}). Val loss {val_loss:.2f}: ({val_surv_loss:.2f}, {val_values_loss:.2f})\")          \n",
    "            # TODO: Note not fully accurate as last batch is likely not the same size, will be fixed with lightning\n",
    "\n",
    "        if val_loss >= best_val:\n",
    "            epochs_since_best += 1\n",
    "            if epochs_since_best >= 5:\n",
    "                break\n",
    "        else:\n",
    "            best_val = val_loss\n",
    "            epochs_since_best = 0\n",
    "\n",
    "            # Save best seen model\n",
    "            # torch.save(model.state_dict(), path_to_db + \"polars/CR.pt\")\n",
    "            "
   ]
  },
  {
   "cell_type": "code",
   "execution_count": null,
   "metadata": {},
   "outputs": [],
   "source": [
    "# Plot loss\n",
    "plt.figure()\n",
    "# Training\n",
    "iterations = np.linspace(0, len(loss_curves_train), len(loss_curves_train)) * opt.eval_interval\n",
    "plt.plot(iterations, loss_curves_train, label=\"train\")\n",
    "# Validation\n",
    "iterations = np.linspace(0, len(loss_curves_val), len(loss_curves_val)) * opt.eval_interval\n",
    "plt.plot(iterations, loss_curves_val, label=\"val\", linestyle='dashed')\n",
    "plt.legend()\n",
    "plt.savefig(f\"figs/loss.png\")\n",
    "\n",
    "# Plot DeSurv loss\n",
    "plt.figure()\n",
    "# Training\n",
    "iterations = np.linspace(0, len(loss_curves_train_surv), len(loss_curves_train_surv)) * opt.eval_interval\n",
    "plt.plot(iterations, loss_curves_train_surv, label=\"train\")\n",
    "# Validation\n",
    "iterations = np.linspace(0, len(loss_curves_val_surv), len(loss_curves_val_surv)) * opt.eval_interval\n",
    "plt.plot(iterations, loss_curves_val_surv, label=\"val\", linestyle='dashed')\n",
    "plt.legend()\n",
    "plt.savefig(f\"figs/loss_desurv.png\")\n",
    "\n",
    "# Plot value loss\n",
    "plt.figure()\n",
    "# Training\n",
    "iterations = np.linspace(0, len(loss_curves_train_values), len(loss_curves_train_values)) * opt.eval_interval\n",
    "plt.plot(iterations, loss_curves_train_values, label=\"train\", )\n",
    "# Validation\n",
    "iterations = np.linspace(0, len(loss_curves_val_values), len(loss_curves_val_values)) * opt.eval_interval\n",
    "plt.plot(iterations, loss_curves_val_values, label=\"val\", linestyle='dashed')\n",
    "plt.legend()\n",
    "plt.savefig(f\"figs/loss_val.png\")"
   ]
  },
  {
   "cell_type": "markdown",
   "metadata": {},
   "source": [
    "# Appendix: model architectures"
   ]
  },
  {
   "cell_type": "code",
   "execution_count": null,
   "metadata": {},
   "outputs": [],
   "source": [
    "display(model)"
   ]
  },
  {
   "cell_type": "code",
   "execution_count": null,
   "metadata": {},
   "outputs": [],
   "source": [
    "!jupyter nbconvert --to html --no-input single_risk.ipynb"
   ]
  },
  {
   "cell_type": "code",
   "execution_count": null,
   "metadata": {},
   "outputs": [],
   "source": []
  }
 ],
 "metadata": {
  "colab": {
   "provenance": []
  },
  "kernelspec": {
   "display_name": "Python",
   "language": "python",
   "name": "sys_python"
  },
  "language_info": {
   "codemirror_mode": {
    "name": "ipython",
    "version": 3
   },
   "file_extension": ".py",
   "mimetype": "text/x-python",
   "name": "python",
   "nbconvert_exporter": "python",
   "pygments_lexer": "ipython3",
   "version": "3.10.4"
  }
 },
 "nbformat": 4,
 "nbformat_minor": 4
}
