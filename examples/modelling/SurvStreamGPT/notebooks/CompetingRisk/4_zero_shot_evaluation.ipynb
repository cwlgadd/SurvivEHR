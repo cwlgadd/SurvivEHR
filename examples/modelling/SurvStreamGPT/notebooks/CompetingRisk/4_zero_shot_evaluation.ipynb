{
 "cells": [
  {
   "cell_type": "markdown",
   "id": "4921342e-8ff8-45d4-b1f6-9fe480c2ee1d",
   "metadata": {},
   "source": [
    "# Demo Notebook:\n",
    "## Zero-shot evaluation the Competing Risk Survival Transformer For Causal Sequence Modelling.\n",
    "\n",
    "Evaluating the pre-trained model on a cohort study for predicting Cardiovascular Disease in a Type 2 Diabetes Mellitus population."
   ]
  },
  {
   "cell_type": "code",
   "execution_count": 1,
   "id": "a671c59b-4428-4e63-a138-7244418a87c5",
   "metadata": {},
   "outputs": [
    {
     "name": "stdout",
     "output_type": "stream",
     "text": [
      "Added path '/rds/homes/g/gaddcz/Projects/CPRD/virtual-envTorch2.0-icelake/lib/python3.10/site-packages' at start of search paths.\n"
     ]
    }
   ],
   "source": [
    "import os\n",
    "from pathlib import Path\n",
    "import sys\n",
    "node_type = os.getenv('BB_CPU')\n",
    "venv_dir = f'/rds/homes/g/gaddcz/Projects/CPRD/virtual-envTorch2.0-{node_type}'\n",
    "venv_site_pkgs = Path(venv_dir) / 'lib' / f'python{sys.version_info.major}.{sys.version_info.minor}' / 'site-packages'\n",
    "if venv_site_pkgs.exists():\n",
    "    sys.path.insert(0, str(venv_site_pkgs))\n",
    "    print(f\"Added path '{venv_site_pkgs}' at start of search paths.\")\n",
    "else:\n",
    "    print(f\"Path '{venv_site_pkgs}' not found. Check that it exists and/or that it exists for node-type '{node_type}'.\")\n",
    "\n",
    "%load_ext autoreload\n",
    "%autoreload 2"
   ]
  },
  {
   "cell_type": "code",
   "execution_count": 2,
   "id": "d866c7f0-eaa8-4129-b3b1-d4d6b504d0a7",
   "metadata": {},
   "outputs": [
    {
     "name": "stdout",
     "output_type": "stream",
     "text": [
      "Using device: cuda.\n",
      "env: SLURM_NTASKS_PER_NODE=28\n"
     ]
    }
   ],
   "source": [
    "import torch\n",
    "import numpy as np\n",
    "import matplotlib.pyplot as plt\n",
    "import logging\n",
    "from tqdm import tqdm\n",
    "import pickle\n",
    "from hydra import compose, initialize\n",
    "from omegaconf import OmegaConf\n",
    "from CPRD.examples.modelling.SurvStreamGPT.run_experiment import run\n",
    "from CPRD.data.foundational_loader import FoundationalDataModule, convert_batch_to_none_causal\n",
    "from CPRD.src.models.survival.task_heads.causal import SurvStreamGPTForCausalModelling\n",
    "from CPRD.examples.modelling.SurvStreamGPT.setup_zeroshot_experiment import setup_zeroshot_experiment, ZeroShotExperiment\n",
    "\n",
    "import time\n",
    "import pyarrow.dataset as ds\n",
    "import pyarrow.parquet as pq\n",
    "import os\n",
    "import polars as pl\n",
    "pl.Config.set_tbl_rows(10000)\n",
    "import pandas as pd\n",
    "pd.options.display.max_rows = 10000\n",
    "\n",
    "torch.manual_seed(1337)\n",
    "torch.set_float32_matmul_precision('medium')\n",
    "\n",
    "logging.basicConfig(level=logging.INFO)\n",
    "device = 'cuda' if torch.cuda.is_available() else 'cpu'\n",
    "# device = \"cpu\"    # if more informative debugging statements are needed\n",
    "print(f\"Using device: {device}.\")\n",
    "\n",
    " # TODO: define an env variable to fix for a local hpc environment issue, this shouldn't be needed\n",
    "%env SLURM_NTASKS_PER_NODE=28   "
   ]
  },
  {
   "cell_type": "markdown",
   "id": "d316b39b-7bd9-43dd-84e5-561c70351a45",
   "metadata": {},
   "source": [
    "## Load configurations\n",
    "Modifying as necesssary for zero-shot application. \n",
    "\n",
    "Here we choose to load in the configuration for a small **pre-trained** 11M parameter model, named \"CR_11M\". We specfiy the zero-shot experiment type, which will lead to running the ```ZeroShotExperiment```. \n",
    "We tell this experiment that no further training is needed. Additionally, we do choose to perform testing. As this is a causal model, this would not test the ability to predict the outcomes of interest, but to perform the causal modelling task on the new dataset. This also allows us to implement outcome predictions as a callback hook at the end of testing.\n",
    "\n",
    "Instead, we want to test the pre-trained model's capacity to predict the relative risk of outcomes. Here, this is to test will check for the pre-trained model's capacity to predict ```COPD``` and ```SUBSTANCEMISUSE```. To do this we point the experiment to the ```FineTune_CVD``` dataset, and set the outcomes of interest. This is performed internally in ```setup_zeroshot_experiment``` through callbacks, in the next cell."
   ]
  },
  {
   "cell_type": "code",
   "execution_count": 3,
   "id": "63e00688-1426-4046-910c-45bde94db899",
   "metadata": {},
   "outputs": [
    {
     "name": "stdout",
     "output_type": "stream",
     "text": [
      "is_decoder: true\n",
      "data:\n",
      "  batch_size: 1024\n",
      "  unk_freq_threshold: 0.0\n",
      "  min_workers: 20\n",
      "  global_diagnoses: false\n",
      "  path_to_db: /rds/projects/g/gokhalkm-optimal/OPTIMAL_MASTER_DATASET/data/FoundationalModel/\n",
      "  path_to_ds: /rds/projects/g/gokhalkm-optimal/OPTIMAL_MASTER_DATASET/data/FoundationalModel/FineTune_CVD/\n",
      "  meta_information_path: /rds/projects/g/gokhalkm-optimal/OPTIMAL_MASTER_DATASET/data/FoundationalModel/PreTrain/meta_information_QuantJenny.pickle\n",
      "experiment:\n",
      "  type: zero-shot\n",
      "  project_name: SurvStreamGPT_${head.SurvLayer}\n",
      "  run_id: CR_11M\n",
      "  train: false\n",
      "  test: true\n",
      "  verbose: true\n",
      "  seed: 1337\n",
      "  log: true\n",
      "  log_dir: /rds/projects/s/subramaa-mum-predict/CharlesGadd_Oxford/FoundationModelOutput/\n",
      "  ckpt_dir: /rds/projects/s/subramaa-mum-predict/CharlesGadd_Oxford/FoundationModelOutput/checkpoints/\n",
      "  fine_tune_outcomes:\n",
      "  - IHDINCLUDINGMI_OPTIMALV2\n",
      "  - ISCHAEMICSTROKE_V2\n",
      "  - MINFARCTION\n",
      "  - STROKEUNSPECIFIED_V2\n",
      "  - STROKE_HAEMRGIC\n",
      "optim:\n",
      "  num_epochs: 1\n",
      "  learning_rate: 0.0003\n",
      "  scheduler: CAWarmRestarts\n",
      "  scheduler_periods: 5000\n",
      "  scheduler_warmup: true\n",
      "  lr_cosine_decay_period: 10000000.0\n",
      "  val_check_interval: 1000\n",
      "  early_stop: false\n",
      "  early_stop_patience: 5\n",
      "  log_every_n_steps: 20\n",
      "  limit_val_batches: 0.05\n",
      "  limit_test_batches: null\n",
      "transformer:\n",
      "  block_type: Neo\n",
      "  block_size: 128\n",
      "  n_layer: 6\n",
      "  n_head: 6\n",
      "  n_embd: 384\n",
      "  layer_norm_bias: false\n",
      "  attention_type: global\n",
      "  bias: true\n",
      "  dropout: 0.0\n",
      "  attention_dropout: 0.0\n",
      "  resid_dropout: 0.0\n",
      "head:\n",
      "  SurvLayer: cr\n",
      "  surv_weight: 0.5\n",
      "  tokens_for_univariate_regression: None\n",
      "  value_weight: 0.5\n",
      "\n"
     ]
    }
   ],
   "source": [
    "# load the configuration file, override any settings \n",
    "with initialize(version_base=None, config_path=\"../../confs\", job_name=\"testing_notebook\"):\n",
    "    cfg = compose(config_name=\"config_CompetingRisk11M\", \n",
    "                  overrides=[\"experiment.type='zero-shot'\",\n",
    "                             \"experiment.run_id='CR_11M'\",\n",
    "                             \"experiment.train=False\",\n",
    "                             \"experiment.test=True\",\n",
    "                             'experiment.fine_tune_outcomes=[\"IHDINCLUDINGMI_OPTIMALV2\", \"ISCHAEMICSTROKE_V2\", \"MINFARCTION\", \"STROKEUNSPECIFIED_V2\", \"STROKE_HAEMRGIC\"]',\n",
    "                             \"data.path_to_ds=/rds/projects/g/gokhalkm-optimal/OPTIMAL_MASTER_DATASET/data/FoundationalModel/FineTune_CVD/\",\n",
    "                             \"optim.limit_test_batches=null\"\n",
    "                            ]\n",
    "                 )     \n",
    "\n",
    "cfg.data.batch_size=1024\n",
    "\n",
    "print(OmegaConf.to_yaml(cfg))\n",
    "\n",
    "save_path = f\"/rds/projects/s/subramaa-mum-predict/CharlesGadd_Oxford/FoundationModelOutput/checkpoints/{cfg.experiment.run_id}/\""
   ]
  },
  {
   "cell_type": "markdown",
   "id": "fd2e0a69-cc78-43d6-8e6c-bac2194a3f1b",
   "metadata": {},
   "source": [
    "# Load Experiment"
   ]
  },
  {
   "cell_type": "code",
   "execution_count": 19,
   "id": "b018c920-1f4d-40a5-b6a9-a6877430385d",
   "metadata": {
    "scrolled": true
   },
   "outputs": [
    {
     "name": "stderr",
     "output_type": "stream",
     "text": [
      "INFO:root:Running cr on 72 CPUs and 1 GPUs\n",
      "INFO:root:Using meta information from /rds/projects/g/gokhalkm-optimal/OPTIMAL_MASTER_DATASET/data/FoundationalModel/PreTrain/meta_information_QuantJenny.pickle\n",
      "INFO:root:Using train file-row count dictionary from /rds/projects/g/gokhalkm-optimal/OPTIMAL_MASTER_DATASET/data/FoundationalModel/FineTune_CVD/file_row_count_dict_train.pickle\n",
      "INFO:root:Using test file-row count dictionary from /rds/projects/g/gokhalkm-optimal/OPTIMAL_MASTER_DATASET/data/FoundationalModel/FineTune_CVD/file_row_count_dict_test.pickle\n",
      "INFO:root:Using val file-row count dictionary from /rds/projects/g/gokhalkm-optimal/OPTIMAL_MASTER_DATASET/data/FoundationalModel/FineTune_CVD/file_row_count_dict_val.pickle\n",
      "INFO:root:Tokenzier created based on 7,555,415,275 tokens\n",
      "INFO:root:Using tabular tokenizer, created from meta information and containing 265 tokens\n",
      "INFO:root:Loaded /rds/projects/g/gokhalkm-optimal/OPTIMAL_MASTER_DATASET/data/FoundationalModel/FineTune_CVD/split=train/ dataset, with 572,096 samples\n",
      "INFO:root:Loaded /rds/projects/g/gokhalkm-optimal/OPTIMAL_MASTER_DATASET/data/FoundationalModel/FineTune_CVD/split=test/ dataset, with 35,758 samples\n",
      "INFO:root:Loaded /rds/projects/g/gokhalkm-optimal/OPTIMAL_MASTER_DATASET/data/FoundationalModel/FineTune_CVD/split=val/ dataset, with 33,280 samples\n",
      "INFO:root:265 vocab elements\n",
      "INFO:root:Running Zero-Shot experiment. This will evaluate the pre-trained Foundation Model on a clinical prediction model task.\n",
      "INFO:root:Using Temporal Positional Encoding. This module uses the patient's age at an event within their time series.\n",
      "INFO:root:Using Competing-Risk DeSurv head.\n",
      "INFO:root:Internally scaling time in survival head by 1825 days\n",
      "INFO:root:In generation forwarding DeSurv on the grid between [0.0, 1825.0] with 1826 time-points of delta=1.0\n",
      "/rds/bear-apps/2022a/EL8-ice/software/PyTorch/2.0.1-foss-2022a-CUDA-11.7.0/lib/python3.10/site-packages/torch/utils/data/dataloader.py:560: UserWarning: This DataLoader will create 20 worker processes in total. Our suggested max number of worker in current system is 12, which is smaller than what this DataLoader is going to create. Please be aware that excessive worker creation might get DataLoader running slow or even freeze, lower the worker number to avoid potential slowness/freeze if necessary.\n",
      "  warnings.warn(_create_warning_msg(\n",
      "INFO:root:Creating Embedding callback\n",
      "INFO:root:Creating Clinical Prediction Model callbacks\n",
      "INFO:root:Using outcomes ['IHDINCLUDINGMI_OPTIMALV2', 'ISCHAEMICSTROKE_V2', 'MINFARCTION', 'STROKEUNSPECIFIED_V2', 'STROKE_HAEMRGIC']\n",
      "GPU available: True (cuda), used: True\n",
      "TPU available: False, using: 0 TPU cores\n",
      "IPU available: False, using: 0 IPUs\n",
      "HPU available: False, using: 0 HPUs\n",
      "INFO:root:Loading from cached checkpoint /rds/projects/s/subramaa-mum-predict/CharlesGadd_Oxford/FoundationModelOutput/checkpoints/CR_11M.ckpt\n",
      "INFO:root:Using Temporal Positional Encoding. This module uses the patient's age at an event within their time series.\n",
      "INFO:root:Using Competing-Risk DeSurv head.\n",
      "INFO:root:Internally scaling time in survival head by 1825 days\n",
      "INFO:root:In generation forwarding DeSurv on the grid between [0.0, 1825.0] with 1826 time-points of delta=1.0\n",
      "INFO:root:Testing model.\n",
      "ERROR:wandb.jupyter:Failed to detect the name of this notebook, you can set it manually with the WANDB_NOTEBOOK_NAME environment variable to enable code saving.\n",
      "\u001b[34m\u001b[1mwandb\u001b[0m: Currently logged in as: \u001b[33mcwlgadd\u001b[0m. Use \u001b[1m`wandb login --relogin`\u001b[0m to force relogin\n"
     ]
    },
    {
     "data": {
      "text/html": [
       "wandb version 0.17.6 is available!  To upgrade, please run:\n",
       " $ pip install wandb --upgrade"
      ],
      "text/plain": [
       "<IPython.core.display.HTML object>"
      ]
     },
     "metadata": {},
     "output_type": "display_data"
    },
    {
     "data": {
      "text/html": [
       "Tracking run with wandb version 0.13.6"
      ],
      "text/plain": [
       "<IPython.core.display.HTML object>"
      ]
     },
     "metadata": {},
     "output_type": "display_data"
    },
    {
     "data": {
      "text/html": [
       "Run data is saved locally in <code>/rds/projects/s/subramaa-mum-predict/CharlesGadd_Oxford/FoundationModelOutput/wandb/run-20240815_110203-2v97uv8x</code>"
      ],
      "text/plain": [
       "<IPython.core.display.HTML object>"
      ]
     },
     "metadata": {},
     "output_type": "display_data"
    },
    {
     "data": {
      "text/html": [
       "Syncing run <strong><a href=\"https://wandb.ai/cwlgadd/SurvStreamGPT_cr/runs/2v97uv8x\" target=\"_blank\">CR_11M</a></strong> to <a href=\"https://wandb.ai/cwlgadd/SurvStreamGPT_cr\" target=\"_blank\">Weights & Biases</a> (<a href=\"https://wandb.me/run\" target=\"_blank\">docs</a>)<br/>"
      ],
      "text/plain": [
       "<IPython.core.display.HTML object>"
      ]
     },
     "metadata": {},
     "output_type": "display_data"
    },
    {
     "name": "stderr",
     "output_type": "stream",
     "text": [
      "LOCAL_RANK: 0 - CUDA_VISIBLE_DEVICES: [0]\n",
      "SLURM auto-requeueing enabled. Setting signal handlers.\n",
      "/rds/bear-apps/2022a/EL8-ice/software/PyTorch/2.0.1-foss-2022a-CUDA-11.7.0/lib/python3.10/site-packages/torch/utils/data/dataloader.py:560: UserWarning: This DataLoader will create 20 worker processes in total. Our suggested max number of worker in current system is 12, which is smaller than what this DataLoader is going to create. Please be aware that excessive worker creation might get DataLoader running slow or even freeze, lower the worker number to avoid potential slowness/freeze if necessary.\n",
      "  warnings.warn(_create_warning_msg(\n"
     ]
    },
    {
     "data": {
      "application/vnd.jupyter.widget-view+json": {
       "model_id": "4709af55aa7343d1b7ec92d70390d593",
       "version_major": 2,
       "version_minor": 0
      },
      "text/plain": [
       "Testing: |          | 0/? [00:00<?, ?it/s]"
      ]
     },
     "metadata": {},
     "output_type": "display_data"
    },
    {
     "name": "stderr",
     "output_type": "stream",
     "text": [
      "WARNING:root:This batch has already been converted to none-causal. Skipping conversion.\n",
      "WARNING:root:This batch has already been converted to none-causal. Skipping conversion.\n",
      "WARNING:root:This batch has already been converted to none-causal. Skipping conversion.\n",
      "WARNING:root:This batch has already been converted to none-causal. Skipping conversion.\n",
      "WARNING:root:This batch has already been converted to none-causal. Skipping conversion.\n",
      "WARNING:root:This batch has already been converted to none-causal. Skipping conversion.\n",
      "WARNING:root:This batch has already been converted to none-causal. Skipping conversion.\n",
      "WARNING:root:This batch has already been converted to none-causal. Skipping conversion.\n",
      "WARNING:root:This batch has already been converted to none-causal. Skipping conversion.\n",
      "WARNING:root:This batch has already been converted to none-causal. Skipping conversion.\n",
      "WARNING:root:This batch has already been converted to none-causal. Skipping conversion.\n",
      "WARNING:root:This batch has already been converted to none-causal. Skipping conversion.\n",
      "WARNING:root:This batch has already been converted to none-causal. Skipping conversion.\n",
      "WARNING:root:This batch has already been converted to none-causal. Skipping conversion.\n",
      "WARNING:root:This batch has already been converted to none-causal. Skipping conversion.\n",
      "WARNING:root:This batch has already been converted to none-causal. Skipping conversion.\n",
      "WARNING:root:This batch has already been converted to none-causal. Skipping conversion.\n",
      "WARNING:root:This batch has already been converted to none-causal. Skipping conversion.\n",
      "WARNING:root:This batch has already been converted to none-causal. Skipping conversion.\n",
      "WARNING:root:This batch has already been converted to none-causal. Skipping conversion.\n",
      "/rds/bear-apps/2022a/EL8-ice/software/SciPy-bundle/2022.05-foss-2022a/lib/python3.10/site-packages/pandas/plotting/_matplotlib/core.py:386: RuntimeWarning: More than 20 figures have been opened. Figures created through the pyplot interface (`matplotlib.pyplot.figure`) are retained until explicitly closed and may consume too much memory. (To control this warning, see the rcParam `figure.max_open_warning`).\n",
      "  fig = self.plt.figure(figsize=self.figsize)\n",
      "WARNING:root:This batch has already been converted to none-causal. Skipping conversion.\n",
      "/rds/homes/g/gaddcz/Projects/CPRD/src/models/survival/custom_callbacks/clinical_prediction_model.py:92: RuntimeWarning: More than 20 figures have been opened. Figures created through the pyplot interface (`matplotlib.pyplot.figure`) are retained until explicitly closed and may consume too much memory. (To control this warning, see the rcParam `figure.max_open_warning`).\n",
      "  fig, ax = plt.subplots(1, 1)\n",
      "WARNING:root:This batch has already been converted to none-causal. Skipping conversion.\n",
      "WARNING:root:This batch has already been converted to none-causal. Skipping conversion.\n",
      "WARNING:root:This batch has already been converted to none-causal. Skipping conversion.\n",
      "WARNING:root:This batch has already been converted to none-causal. Skipping conversion.\n",
      "WARNING:root:This batch has already been converted to none-causal. Skipping conversion.\n",
      "WARNING:root:This batch has already been converted to none-causal. Skipping conversion.\n",
      "WARNING:root:This batch has already been converted to none-causal. Skipping conversion.\n",
      "WARNING:root:This batch has already been converted to none-causal. Skipping conversion.\n",
      "WARNING:root:This batch has already been converted to none-causal. Skipping conversion.\n",
      "WARNING:root:This batch has already been converted to none-causal. Skipping conversion.\n",
      "WARNING:root:This batch has already been converted to none-causal. Skipping conversion.\n",
      "WARNING:root:This batch has already been converted to none-causal. Skipping conversion.\n",
      "WARNING:root:This batch has already been converted to none-causal. Skipping conversion.\n",
      "WARNING:root:This batch has already been converted to none-causal. Skipping conversion.\n"
     ]
    },
    {
     "data": {
      "text/html": [
       "<pre style=\"white-space:pre;overflow-x:auto;line-height:normal;font-family:Menlo,'DejaVu Sans Mono',consolas,'Courier New',monospace\">┏━━━━━━━━━━━━━━━━━━━━━━━━━━━━━━━━━━━━━┳━━━━━━━━━━━━━━━━━━━━━━━━━━━━━━━━━━━━━┓\n",
       "┃<span style=\"font-weight: bold\">             Test metric             </span>┃<span style=\"font-weight: bold\">            DataLoader 0             </span>┃\n",
       "┡━━━━━━━━━━━━━━━━━━━━━━━━━━━━━━━━━━━━━╇━━━━━━━━━━━━━━━━━━━━━━━━━━━━━━━━━━━━━┩\n",
       "│<span style=\"color: #008080; text-decoration-color: #008080\">  Test:OutcomePerformanceMetricsctd  </span>│<span style=\"color: #800080; text-decoration-color: #800080\">         0.6081758737564087          </span>│\n",
       "│<span style=\"color: #008080; text-decoration-color: #008080\">  Test:OutcomePerformanceMetricsibs  </span>│<span style=\"color: #800080; text-decoration-color: #800080\">        0.035494111241426166         </span>│\n",
       "│<span style=\"color: #008080; text-decoration-color: #008080\"> Test:OutcomePerformanceMetricsinbll </span>│<span style=\"color: #800080; text-decoration-color: #800080\">         0.2303457017292325          </span>│\n",
       "│<span style=\"color: #008080; text-decoration-color: #008080\">              test_loss              </span>│<span style=\"color: #800080; text-decoration-color: #800080\">         -30.167741775512695         </span>│\n",
       "│<span style=\"color: #008080; text-decoration-color: #008080\">          test_loss_desurv           </span>│<span style=\"color: #800080; text-decoration-color: #800080\">         -3.281827449798584          </span>│\n",
       "│<span style=\"color: #008080; text-decoration-color: #008080\">          test_loss_values           </span>│<span style=\"color: #800080; text-decoration-color: #800080\">         -57.05365753173828          </span>│\n",
       "└─────────────────────────────────────┴─────────────────────────────────────┘\n",
       "</pre>\n"
      ],
      "text/plain": [
       "┏━━━━━━━━━━━━━━━━━━━━━━━━━━━━━━━━━━━━━┳━━━━━━━━━━━━━━━━━━━━━━━━━━━━━━━━━━━━━┓\n",
       "┃\u001b[1m \u001b[0m\u001b[1m            Test metric            \u001b[0m\u001b[1m \u001b[0m┃\u001b[1m \u001b[0m\u001b[1m           DataLoader 0            \u001b[0m\u001b[1m \u001b[0m┃\n",
       "┡━━━━━━━━━━━━━━━━━━━━━━━━━━━━━━━━━━━━━╇━━━━━━━━━━━━━━━━━━━━━━━━━━━━━━━━━━━━━┩\n",
       "│\u001b[36m \u001b[0m\u001b[36m Test:OutcomePerformanceMetricsctd \u001b[0m\u001b[36m \u001b[0m│\u001b[35m \u001b[0m\u001b[35m        0.6081758737564087         \u001b[0m\u001b[35m \u001b[0m│\n",
       "│\u001b[36m \u001b[0m\u001b[36m Test:OutcomePerformanceMetricsibs \u001b[0m\u001b[36m \u001b[0m│\u001b[35m \u001b[0m\u001b[35m       0.035494111241426166        \u001b[0m\u001b[35m \u001b[0m│\n",
       "│\u001b[36m \u001b[0m\u001b[36mTest:OutcomePerformanceMetricsinbll\u001b[0m\u001b[36m \u001b[0m│\u001b[35m \u001b[0m\u001b[35m        0.2303457017292325         \u001b[0m\u001b[35m \u001b[0m│\n",
       "│\u001b[36m \u001b[0m\u001b[36m             test_loss             \u001b[0m\u001b[36m \u001b[0m│\u001b[35m \u001b[0m\u001b[35m        -30.167741775512695        \u001b[0m\u001b[35m \u001b[0m│\n",
       "│\u001b[36m \u001b[0m\u001b[36m         test_loss_desurv          \u001b[0m\u001b[36m \u001b[0m│\u001b[35m \u001b[0m\u001b[35m        -3.281827449798584         \u001b[0m\u001b[35m \u001b[0m│\n",
       "│\u001b[36m \u001b[0m\u001b[36m         test_loss_values          \u001b[0m\u001b[36m \u001b[0m│\u001b[35m \u001b[0m\u001b[35m        -57.05365753173828         \u001b[0m\u001b[35m \u001b[0m│\n",
       "└─────────────────────────────────────┴─────────────────────────────────────┘\n"
      ]
     },
     "metadata": {},
     "output_type": "display_data"
    },
    {
     "name": "stdout",
     "output_type": "stream",
     "text": [
      "Loaded model with 11.433294 M parameters\n"
     ]
    }
   ],
   "source": [
    "model, dm = run(cfg)\n",
    "print(f\"Loaded model with {sum(p.numel() for p in model.parameters())/1e6} M parameters\")"
   ]
  },
  {
   "cell_type": "code",
   "execution_count": null,
   "id": "ab4e2467-bfc5-47cf-8e26-7a38cc093965",
   "metadata": {
    "scrolled": true
   },
   "outputs": [],
   "source": [
    "import wandb\n",
    "wandb.finish()"
   ]
  },
  {
   "cell_type": "code",
   "execution_count": null,
   "id": "d078715e-c1dc-4726-bf06-0d6cba9261fb",
   "metadata": {},
   "outputs": [],
   "source": [
    "dm.encode(['Diastolic_blood_pressure_5.png'])\n",
    "display(dm.decode([95, 175, 263,249]).split(\" \"))"
   ]
  },
  {
   "cell_type": "code",
   "execution_count": null,
   "id": "9aa0352a-f7cc-40ea-b456-97f1e59adcf3",
   "metadata": {},
   "outputs": [],
   "source": [
    "dm.tokenizer._event_counts[\"EVENT\"][-5:].to_list()"
   ]
  },
  {
   "cell_type": "code",
   "execution_count": null,
   "id": "655e044f-4d3a-4c03-a3aa-c460e1ffd662",
   "metadata": {},
   "outputs": [],
   "source": []
  },
  {
   "cell_type": "code",
   "execution_count": null,
   "id": "8a9d7a7c-242a-4ba1-ae98-2a5ac7ed8d22",
   "metadata": {},
   "outputs": [],
   "source": []
  },
  {
   "cell_type": "code",
   "execution_count": null,
   "id": "42a8bb11-e10a-4319-8050-2703af0e4d33",
   "metadata": {},
   "outputs": [],
   "source": []
  },
  {
   "cell_type": "code",
   "execution_count": null,
   "id": "7644335f-9a9e-49be-963a-6ed1ca22adf5",
   "metadata": {},
   "outputs": [],
   "source": []
  },
  {
   "cell_type": "markdown",
   "id": "2db2b285-c23f-4fd2-8e66-e20159e8e271",
   "metadata": {},
   "source": [
    "# Load Pre-Trained model"
   ]
  },
  {
   "cell_type": "code",
   "execution_count": null,
   "id": "b6f37089-e294-46c0-bc4a-ce3ae00300b5",
   "metadata": {
    "scrolled": true
   },
   "outputs": [],
   "source": [
    "ckpt_path = cfg.experiment.log_dir + f'checkpoints/{cfg.experiment.run_id}.ckpt'\n",
    "model = SurvivalExperiment.load_from_checkpoint(ckpt_path)"
   ]
  },
  {
   "cell_type": "markdown",
   "id": "53ae57fb-6ca7-4e7f-9b79-b99bb5a10b52",
   "metadata": {},
   "source": [
    "# Initialise fine-tuning data module"
   ]
  },
  {
   "cell_type": "code",
   "execution_count": 35,
   "id": "a8e90c2f-04c5-4f31-86f0-4f3800fa9325",
   "metadata": {
    "scrolled": true
   },
   "outputs": [
    {
     "name": "stderr",
     "output_type": "stream",
     "text": [
      "INFO:root:Using meta information from /rds/projects/g/gokhalkm-optimal/OPTIMAL_MASTER_DATASET/data/FoundationalModel/PreTrain/meta_information_QuantJenny.pickle\n",
      "INFO:root:Using train file-row count dictionary from /rds/projects/g/gokhalkm-optimal/OPTIMAL_MASTER_DATASET/data/FoundationalModel/FineTune_CVD/file_row_count_dict_train.pickle\n",
      "INFO:root:Using test file-row count dictionary from /rds/projects/g/gokhalkm-optimal/OPTIMAL_MASTER_DATASET/data/FoundationalModel/FineTune_CVD/file_row_count_dict_test.pickle\n",
      "INFO:root:Using val file-row count dictionary from /rds/projects/g/gokhalkm-optimal/OPTIMAL_MASTER_DATASET/data/FoundationalModel/FineTune_CVD/file_row_count_dict_val.pickle\n",
      "INFO:root:Tokenzier created based on 7,555,415,275 tokens\n",
      "INFO:root:Using tabular tokenizer, created from meta information and containing 265 tokens\n",
      "INFO:root:Loaded /rds/projects/g/gokhalkm-optimal/OPTIMAL_MASTER_DATASET/data/FoundationalModel/FineTune_CVD/split=train/ dataset, with 572,096 samples\n",
      "INFO:root:Loaded /rds/projects/g/gokhalkm-optimal/OPTIMAL_MASTER_DATASET/data/FoundationalModel/FineTune_CVD/split=test/ dataset, with 35,758 samples\n",
      "INFO:root:Loaded /rds/projects/g/gokhalkm-optimal/OPTIMAL_MASTER_DATASET/data/FoundationalModel/FineTune_CVD/split=val/ dataset, with 33,280 samples\n"
     ]
    },
    {
     "name": "stdout",
     "output_type": "stream",
     "text": [
      "265 vocab elements\n"
     ]
    }
   ],
   "source": [
    "# Update dataset path to point to the new dataset \n",
    "cfg.data.path_to_ds = \"/rds/projects/g/gokhalkm-optimal/OPTIMAL_MASTER_DATASET/data/FoundationalModel/FineTune_CVD/\"\n",
    "\n",
    "# Build \n",
    "dm = FoundationalDataModule(path_to_db=cfg.data.path_to_db,\n",
    "                            path_to_ds=cfg.data.path_to_ds,\n",
    "                            load=True,\n",
    "                            tokenizer=\"tabular\",\n",
    "                            batch_size=cfg.data.batch_size,\n",
    "                            max_seq_length=cfg.transformer.block_size,\n",
    "                            freq_threshold=cfg.data.unk_freq_threshold,\n",
    "                            min_workers=cfg.data.min_workers,\n",
    "                            overwrite_meta_information=cfg.data.meta_information_path,\n",
    "                           )\n",
    "\n",
    "vocab_size = dm.train_set.tokenizer.vocab_size\n",
    "print(f\"{vocab_size} vocab elements\")\n",
    "\n",
    "# list of univariate measurements to model with Normal distribution\n",
    "# Extract the measurements, using the fact that the diagnoses are all up upper case.\n",
    "measurements_for_univariate_regression = [record for record in dm.tokenizer._event_counts[\"EVENT\"] if record.upper() != record]\n",
    "cfg.head.tokens_for_univariate_regression = dm.encode(measurements_for_univariate_regression) \n",
    "# display(measurements_for_univariate_regression)"
   ]
  },
  {
   "cell_type": "code",
   "execution_count": 36,
   "id": "13a7a64a-4a5b-4811-847a-5ad8abe04c61",
   "metadata": {
    "scrolled": true
   },
   "outputs": [
    {
     "data": {
      "text/plain": [
       "{'COUNTRY=E/HEALTH_AUTH=London/PRACTICE_ID=20970/CHUNK=0/2dc5b5a54aa64f95a2a4c92b2ba9c028-0.parquet': 250,\n",
       " 'COUNTRY=E/HEALTH_AUTH=London/PRACTICE_ID=20970/CHUNK=1/2dc5b5a54aa64f95a2a4c92b2ba9c028-0.parquet': 239,\n",
       " 'COUNTRY=E/HEALTH_AUTH=London/PRACTICE_ID=21042/CHUNK=2/9a01eaef3eb24368a21a17e0e1de4db3-0.parquet': 250,\n",
       " 'COUNTRY=E/HEALTH_AUTH=London/PRACTICE_ID=21042/CHUNK=0/9a01eaef3eb24368a21a17e0e1de4db3-0.parquet': 250,\n",
       " 'COUNTRY=E/HEALTH_AUTH=London/PRACTICE_ID=21042/CHUNK=1/9a01eaef3eb24368a21a17e0e1de4db3-0.parquet': 250,\n",
       " 'COUNTRY=E/HEALTH_AUTH=London/PRACTICE_ID=21042/CHUNK=3/9a01eaef3eb24368a21a17e0e1de4db3-0.parquet': 140,\n",
       " 'COUNTRY=E/HEALTH_AUTH=London/PRACTICE_ID=21329/CHUNK=0/ef8a981c5661426e88bfc6e36fdaf9ef-0.parquet': 250,\n",
       " 'COUNTRY=E/HEALTH_AUTH=London/PRACTICE_ID=21329/CHUNK=1/ef8a981c5661426e88bfc6e36fdaf9ef-0.parquet': 55,\n",
       " 'COUNTRY=E/HEALTH_AUTH=London/PRACTICE_ID=21212/CHUNK=0/169da7213e7b4c768a44585f7c0c3543-0.parquet': 158,\n",
       " 'COUNTRY=E/HEALTH_AUTH=London/PRACTICE_ID=20810/CHUNK=0/d58626b8fc6b4b4db92f47ca9deb89ec-0.parquet': 250,\n",
       " 'COUNTRY=E/HEALTH_AUTH=London/PRACTICE_ID=20810/CHUNK=1/d58626b8fc6b4b4db92f47ca9deb89ec-0.parquet': 81,\n",
       " 'COUNTRY=E/HEALTH_AUTH=London/PRACTICE_ID=20409/CHUNK=0/330c5a8db7d24b0d813432d87cbf19c5-0.parquet': 250,\n",
       " 'COUNTRY=E/HEALTH_AUTH=London/PRACTICE_ID=20409/CHUNK=1/330c5a8db7d24b0d813432d87cbf19c5-0.parquet': 111,\n",
       " 'COUNTRY=E/HEALTH_AUTH=London/PRACTICE_ID=20112/CHUNK=2/fcda738216a8422aa7c1f496e89ab0b5-0.parquet': 246,\n",
       " 'COUNTRY=E/HEALTH_AUTH=London/PRACTICE_ID=20112/CHUNK=0/fcda738216a8422aa7c1f496e89ab0b5-0.parquet': 250,\n",
       " 'COUNTRY=E/HEALTH_AUTH=London/PRACTICE_ID=20112/CHUNK=1/fcda738216a8422aa7c1f496e89ab0b5-0.parquet': 250,\n",
       " 'COUNTRY=E/HEALTH_AUTH=London/PRACTICE_ID=20079/CHUNK=2/e90719cfef154e1583e016772abcb78a-0.parquet': 32,\n",
       " 'COUNTRY=E/HEALTH_AUTH=London/PRACTICE_ID=20079/CHUNK=0/e90719cfef154e1583e016772abcb78a-0.parquet': 250,\n",
       " 'COUNTRY=E/HEALTH_AUTH=London/PRACTICE_ID=20079/CHUNK=1/e90719cfef154e1583e016772abcb78a-0.parquet': 250,\n",
       " 'COUNTRY=E/HEALTH_AUTH=London/PRACTICE_ID=20128/CHUNK=0/a8d7c3f67d3347789baecb2927b2e7ac-0.parquet': 250,\n",
       " 'COUNTRY=E/HEALTH_AUTH=London/PRACTICE_ID=20128/CHUNK=1/a8d7c3f67d3347789baecb2927b2e7ac-0.parquet': 132,\n",
       " 'COUNTRY=E/HEALTH_AUTH=London/PRACTICE_ID=20921/CHUNK=0/86844082bdfe4a5b81b75b507457ffb3-0.parquet': 250,\n",
       " 'COUNTRY=E/HEALTH_AUTH=London/PRACTICE_ID=20921/CHUNK=1/86844082bdfe4a5b81b75b507457ffb3-0.parquet': 3,\n",
       " 'COUNTRY=E/HEALTH_AUTH=London/PRACTICE_ID=21556/CHUNK=0/031121864add46539c89074539d153fb-0.parquet': 250,\n",
       " 'COUNTRY=E/HEALTH_AUTH=London/PRACTICE_ID=21556/CHUNK=1/031121864add46539c89074539d153fb-0.parquet': 182,\n",
       " 'COUNTRY=E/HEALTH_AUTH=London/PRACTICE_ID=20108/CHUNK=0/4c36ebc147fc47e693dcc299cd0bf48e-0.parquet': 250,\n",
       " 'COUNTRY=E/HEALTH_AUTH=London/PRACTICE_ID=20108/CHUNK=1/4c36ebc147fc47e693dcc299cd0bf48e-0.parquet': 237,\n",
       " 'COUNTRY=E/HEALTH_AUTH=East Midlands/PRACTICE_ID=20041/CHUNK=2/ea7979fac0b540e0a5b881e680fb2abe-0.parquet': 148,\n",
       " 'COUNTRY=E/HEALTH_AUTH=East Midlands/PRACTICE_ID=20041/CHUNK=0/ea7979fac0b540e0a5b881e680fb2abe-0.parquet': 250,\n",
       " 'COUNTRY=E/HEALTH_AUTH=East Midlands/PRACTICE_ID=20041/CHUNK=1/ea7979fac0b540e0a5b881e680fb2abe-0.parquet': 250,\n",
       " 'COUNTRY=E/HEALTH_AUTH=Yorkshire & The Humber/PRACTICE_ID=20038/CHUNK=0/65f824ce5f0b49d29eeb519e1e08cd9c-0.parquet': 163,\n",
       " 'COUNTRY=E/HEALTH_AUTH=West Midlands/PRACTICE_ID=20259/CHUNK=2/a9fa7b7c66a2494c865ba4d5a0775c94-0.parquet': 250,\n",
       " 'COUNTRY=E/HEALTH_AUTH=West Midlands/PRACTICE_ID=20259/CHUNK=0/a9fa7b7c66a2494c865ba4d5a0775c94-0.parquet': 250,\n",
       " 'COUNTRY=E/HEALTH_AUTH=West Midlands/PRACTICE_ID=20259/CHUNK=1/a9fa7b7c66a2494c865ba4d5a0775c94-0.parquet': 250,\n",
       " 'COUNTRY=E/HEALTH_AUTH=West Midlands/PRACTICE_ID=20259/CHUNK=3/a9fa7b7c66a2494c865ba4d5a0775c94-0.parquet': 124,\n",
       " 'COUNTRY=E/HEALTH_AUTH=West Midlands/PRACTICE_ID=21569/CHUNK=2/79ee03dc6aaf4d0eae42fd0ede7cb509-0.parquet': 231,\n",
       " 'COUNTRY=E/HEALTH_AUTH=West Midlands/PRACTICE_ID=21569/CHUNK=0/79ee03dc6aaf4d0eae42fd0ede7cb509-0.parquet': 250,\n",
       " 'COUNTRY=E/HEALTH_AUTH=West Midlands/PRACTICE_ID=21569/CHUNK=1/79ee03dc6aaf4d0eae42fd0ede7cb509-0.parquet': 250,\n",
       " 'COUNTRY=E/HEALTH_AUTH=West Midlands/PRACTICE_ID=20779/CHUNK=0/89bed978194141e0be135c8497b19b7b-0.parquet': 250,\n",
       " 'COUNTRY=E/HEALTH_AUTH=West Midlands/PRACTICE_ID=20779/CHUNK=1/89bed978194141e0be135c8497b19b7b-0.parquet': 82,\n",
       " 'COUNTRY=E/HEALTH_AUTH=West Midlands/PRACTICE_ID=20685/CHUNK=2/17bb8f687c244fa7920f09b75ad5d691-0.parquet': 124,\n",
       " 'COUNTRY=E/HEALTH_AUTH=West Midlands/PRACTICE_ID=20685/CHUNK=0/17bb8f687c244fa7920f09b75ad5d691-0.parquet': 250,\n",
       " 'COUNTRY=E/HEALTH_AUTH=West Midlands/PRACTICE_ID=20685/CHUNK=1/17bb8f687c244fa7920f09b75ad5d691-0.parquet': 250,\n",
       " 'COUNTRY=E/HEALTH_AUTH=West Midlands/PRACTICE_ID=20775/CHUNK=0/7f036460b8984d41a427dfbb660bd4f5-0.parquet': 129,\n",
       " 'COUNTRY=E/HEALTH_AUTH=West Midlands/PRACTICE_ID=20904/CHUNK=2/de6c4636fea34132b966855a21a26dfc-0.parquet': 250,\n",
       " 'COUNTRY=E/HEALTH_AUTH=West Midlands/PRACTICE_ID=20904/CHUNK=5/de6c4636fea34132b966855a21a26dfc-0.parquet': 250,\n",
       " 'COUNTRY=E/HEALTH_AUTH=West Midlands/PRACTICE_ID=20904/CHUNK=0/de6c4636fea34132b966855a21a26dfc-0.parquet': 250,\n",
       " 'COUNTRY=E/HEALTH_AUTH=West Midlands/PRACTICE_ID=20904/CHUNK=4/de6c4636fea34132b966855a21a26dfc-0.parquet': 250,\n",
       " 'COUNTRY=E/HEALTH_AUTH=West Midlands/PRACTICE_ID=20904/CHUNK=7/de6c4636fea34132b966855a21a26dfc-0.parquet': 15,\n",
       " 'COUNTRY=E/HEALTH_AUTH=West Midlands/PRACTICE_ID=20904/CHUNK=6/de6c4636fea34132b966855a21a26dfc-0.parquet': 250,\n",
       " 'COUNTRY=E/HEALTH_AUTH=West Midlands/PRACTICE_ID=20904/CHUNK=1/de6c4636fea34132b966855a21a26dfc-0.parquet': 250,\n",
       " 'COUNTRY=E/HEALTH_AUTH=West Midlands/PRACTICE_ID=20904/CHUNK=3/de6c4636fea34132b966855a21a26dfc-0.parquet': 250,\n",
       " 'COUNTRY=E/HEALTH_AUTH=West Midlands/PRACTICE_ID=21235/CHUNK=0/4ce1aa6153984d14bf871ec0f680b44d-0.parquet': 250,\n",
       " 'COUNTRY=E/HEALTH_AUTH=West Midlands/PRACTICE_ID=20980/CHUNK=0/9ba94e9c96f746daa791ef6c92dc2c87-0.parquet': 250,\n",
       " 'COUNTRY=E/HEALTH_AUTH=West Midlands/PRACTICE_ID=20980/CHUNK=1/9ba94e9c96f746daa791ef6c92dc2c87-0.parquet': 167,\n",
       " 'COUNTRY=E/HEALTH_AUTH=West Midlands/PRACTICE_ID=20276/CHUNK=2/89edbcd8b7624f638d3aacd15187e92d-0.parquet': 146,\n",
       " 'COUNTRY=E/HEALTH_AUTH=West Midlands/PRACTICE_ID=20276/CHUNK=0/89edbcd8b7624f638d3aacd15187e92d-0.parquet': 250,\n",
       " 'COUNTRY=E/HEALTH_AUTH=West Midlands/PRACTICE_ID=20276/CHUNK=1/89edbcd8b7624f638d3aacd15187e92d-0.parquet': 250,\n",
       " 'COUNTRY=E/HEALTH_AUTH=West Midlands/PRACTICE_ID=21218/CHUNK=0/8d70e328febf4a05bf2e382d3edec4a7-0.parquet': 250,\n",
       " 'COUNTRY=E/HEALTH_AUTH=West Midlands/PRACTICE_ID=21218/CHUNK=1/8d70e328febf4a05bf2e382d3edec4a7-0.parquet': 10,\n",
       " 'COUNTRY=E/HEALTH_AUTH=West Midlands/PRACTICE_ID=21308/CHUNK=0/85bda380d7a941168eea4f735ecd3185-0.parquet': 148,\n",
       " 'COUNTRY=E/HEALTH_AUTH=West Midlands/PRACTICE_ID=21318/CHUNK=2/d0c34f797cac4435988c42c497d15d9e-0.parquet': 250,\n",
       " 'COUNTRY=E/HEALTH_AUTH=West Midlands/PRACTICE_ID=21318/CHUNK=5/d0c34f797cac4435988c42c497d15d9e-0.parquet': 250,\n",
       " 'COUNTRY=E/HEALTH_AUTH=West Midlands/PRACTICE_ID=21318/CHUNK=9/d0c34f797cac4435988c42c497d15d9e-0.parquet': 90,\n",
       " 'COUNTRY=E/HEALTH_AUTH=West Midlands/PRACTICE_ID=21318/CHUNK=0/d0c34f797cac4435988c42c497d15d9e-0.parquet': 250,\n",
       " 'COUNTRY=E/HEALTH_AUTH=West Midlands/PRACTICE_ID=21318/CHUNK=4/d0c34f797cac4435988c42c497d15d9e-0.parquet': 250,\n",
       " 'COUNTRY=E/HEALTH_AUTH=West Midlands/PRACTICE_ID=21318/CHUNK=7/d0c34f797cac4435988c42c497d15d9e-0.parquet': 250,\n",
       " 'COUNTRY=E/HEALTH_AUTH=West Midlands/PRACTICE_ID=21318/CHUNK=6/d0c34f797cac4435988c42c497d15d9e-0.parquet': 250,\n",
       " 'COUNTRY=E/HEALTH_AUTH=West Midlands/PRACTICE_ID=21318/CHUNK=1/d0c34f797cac4435988c42c497d15d9e-0.parquet': 250,\n",
       " 'COUNTRY=E/HEALTH_AUTH=West Midlands/PRACTICE_ID=21318/CHUNK=8/d0c34f797cac4435988c42c497d15d9e-0.parquet': 250,\n",
       " 'COUNTRY=E/HEALTH_AUTH=West Midlands/PRACTICE_ID=21318/CHUNK=3/d0c34f797cac4435988c42c497d15d9e-0.parquet': 250,\n",
       " 'COUNTRY=E/HEALTH_AUTH=West Midlands/PRACTICE_ID=21151/CHUNK=0/38392a607dee4d0b84ed1fea71f4db5b-0.parquet': 250,\n",
       " 'COUNTRY=E/HEALTH_AUTH=West Midlands/PRACTICE_ID=21151/CHUNK=1/38392a607dee4d0b84ed1fea71f4db5b-0.parquet': 115,\n",
       " 'COUNTRY=E/HEALTH_AUTH=South West/PRACTICE_ID=20869/CHUNK=2/6ab28ac07b2942519f58ac54771e6ba5-0.parquet': 250,\n",
       " 'COUNTRY=E/HEALTH_AUTH=South West/PRACTICE_ID=20869/CHUNK=0/6ab28ac07b2942519f58ac54771e6ba5-0.parquet': 250,\n",
       " 'COUNTRY=E/HEALTH_AUTH=South West/PRACTICE_ID=20869/CHUNK=1/6ab28ac07b2942519f58ac54771e6ba5-0.parquet': 250,\n",
       " 'COUNTRY=E/HEALTH_AUTH=South West/PRACTICE_ID=20869/CHUNK=3/6ab28ac07b2942519f58ac54771e6ba5-0.parquet': 55,\n",
       " 'COUNTRY=E/HEALTH_AUTH=South West/PRACTICE_ID=20877/CHUNK=0/bc7c3cae7a6d411687a648fa7211e322-0.parquet': 250,\n",
       " 'COUNTRY=E/HEALTH_AUTH=South West/PRACTICE_ID=20877/CHUNK=1/bc7c3cae7a6d411687a648fa7211e322-0.parquet': 239,\n",
       " 'COUNTRY=E/HEALTH_AUTH=South West/PRACTICE_ID=20918/CHUNK=0/bde993c894d74bcba4466e1d1c02c9dd-0.parquet': 250,\n",
       " 'COUNTRY=E/HEALTH_AUTH=South West/PRACTICE_ID=20918/CHUNK=1/bde993c894d74bcba4466e1d1c02c9dd-0.parquet': 134,\n",
       " 'COUNTRY=E/HEALTH_AUTH=South West/PRACTICE_ID=20222/CHUNK=2/3ff2d176b2e14011b43496b26804fdae-0.parquet': 250,\n",
       " 'COUNTRY=E/HEALTH_AUTH=South West/PRACTICE_ID=20222/CHUNK=5/3ff2d176b2e14011b43496b26804fdae-0.parquet': 250,\n",
       " 'COUNTRY=E/HEALTH_AUTH=South West/PRACTICE_ID=20222/CHUNK=0/3ff2d176b2e14011b43496b26804fdae-0.parquet': 250,\n",
       " 'COUNTRY=E/HEALTH_AUTH=South West/PRACTICE_ID=20222/CHUNK=4/3ff2d176b2e14011b43496b26804fdae-0.parquet': 250,\n",
       " 'COUNTRY=E/HEALTH_AUTH=South West/PRACTICE_ID=20222/CHUNK=7/3ff2d176b2e14011b43496b26804fdae-0.parquet': 65,\n",
       " 'COUNTRY=E/HEALTH_AUTH=South West/PRACTICE_ID=20222/CHUNK=6/3ff2d176b2e14011b43496b26804fdae-0.parquet': 250,\n",
       " 'COUNTRY=E/HEALTH_AUTH=South West/PRACTICE_ID=20222/CHUNK=1/3ff2d176b2e14011b43496b26804fdae-0.parquet': 250,\n",
       " 'COUNTRY=E/HEALTH_AUTH=South West/PRACTICE_ID=20222/CHUNK=3/3ff2d176b2e14011b43496b26804fdae-0.parquet': 250,\n",
       " 'COUNTRY=E/HEALTH_AUTH=South West/PRACTICE_ID=20577/CHUNK=0/1779b1cd9ad943958465fa4036557312-0.parquet': 250,\n",
       " 'COUNTRY=E/HEALTH_AUTH=South West/PRACTICE_ID=20577/CHUNK=1/1779b1cd9ad943958465fa4036557312-0.parquet': 212,\n",
       " 'COUNTRY=E/HEALTH_AUTH=South West/PRACTICE_ID=21367/CHUNK=2/a5a576faf40b4f5e88b28b1cecec49bd-0.parquet': 41,\n",
       " 'COUNTRY=E/HEALTH_AUTH=South West/PRACTICE_ID=21367/CHUNK=0/a5a576faf40b4f5e88b28b1cecec49bd-0.parquet': 250,\n",
       " 'COUNTRY=E/HEALTH_AUTH=South West/PRACTICE_ID=21367/CHUNK=1/a5a576faf40b4f5e88b28b1cecec49bd-0.parquet': 250,\n",
       " 'COUNTRY=E/HEALTH_AUTH=South West/PRACTICE_ID=20228/CHUNK=0/c5aa15beb3734104af3e31a92e21a826-0.parquet': 103,\n",
       " 'COUNTRY=E/HEALTH_AUTH=South West/PRACTICE_ID=20215/CHUNK=2/4858dbce6f46460cb3b0bf6346aed344-0.parquet': 121,\n",
       " 'COUNTRY=E/HEALTH_AUTH=South West/PRACTICE_ID=20215/CHUNK=0/4858dbce6f46460cb3b0bf6346aed344-0.parquet': 250,\n",
       " 'COUNTRY=E/HEALTH_AUTH=South West/PRACTICE_ID=20215/CHUNK=1/4858dbce6f46460cb3b0bf6346aed344-0.parquet': 250,\n",
       " 'COUNTRY=E/HEALTH_AUTH=South West/PRACTICE_ID=21402/CHUNK=0/bc45ff925d5649ce81cf46028e5cfea4-0.parquet': 250,\n",
       " 'COUNTRY=E/HEALTH_AUTH=South West/PRACTICE_ID=21402/CHUNK=1/bc45ff925d5649ce81cf46028e5cfea4-0.parquet': 114,\n",
       " 'COUNTRY=E/HEALTH_AUTH=South West/PRACTICE_ID=21021/CHUNK=0/e2b4cbeb7bc840439e9221cef92e9ef9-0.parquet': 250,\n",
       " 'COUNTRY=E/HEALTH_AUTH=South West/PRACTICE_ID=21021/CHUNK=1/e2b4cbeb7bc840439e9221cef92e9ef9-0.parquet': 84,\n",
       " 'COUNTRY=E/HEALTH_AUTH=South West/PRACTICE_ID=20697/CHUNK=2/b918ac13baac401f81919beb9729ef34-0.parquet': 250,\n",
       " 'COUNTRY=E/HEALTH_AUTH=South West/PRACTICE_ID=20697/CHUNK=0/b918ac13baac401f81919beb9729ef34-0.parquet': 250,\n",
       " 'COUNTRY=E/HEALTH_AUTH=South West/PRACTICE_ID=20697/CHUNK=1/b918ac13baac401f81919beb9729ef34-0.parquet': 250,\n",
       " 'COUNTRY=E/HEALTH_AUTH=South West/PRACTICE_ID=20697/CHUNK=3/b918ac13baac401f81919beb9729ef34-0.parquet': 231,\n",
       " 'COUNTRY=E/HEALTH_AUTH=South West/PRACTICE_ID=20204/CHUNK=2/1bd4352808a34db5b94c40e670736d2d-0.parquet': 54,\n",
       " 'COUNTRY=E/HEALTH_AUTH=South West/PRACTICE_ID=20204/CHUNK=0/1bd4352808a34db5b94c40e670736d2d-0.parquet': 250,\n",
       " 'COUNTRY=E/HEALTH_AUTH=South West/PRACTICE_ID=20204/CHUNK=1/1bd4352808a34db5b94c40e670736d2d-0.parquet': 250,\n",
       " 'COUNTRY=E/HEALTH_AUTH=North West/PRACTICE_ID=20554/CHUNK=0/326160cb0f244e529a12b9474d45fec7-0.parquet': 164,\n",
       " 'COUNTRY=E/HEALTH_AUTH=North West/PRACTICE_ID=21322/CHUNK=0/edf4faa64d7c454988f770d19b78852f-0.parquet': 250,\n",
       " 'COUNTRY=E/HEALTH_AUTH=North West/PRACTICE_ID=21322/CHUNK=1/edf4faa64d7c454988f770d19b78852f-0.parquet': 92,\n",
       " 'COUNTRY=E/HEALTH_AUTH=North West/PRACTICE_ID=21169/CHUNK=2/b32ed6585d5f4323af3c5bfc61dc4c79-0.parquet': 29,\n",
       " 'COUNTRY=E/HEALTH_AUTH=North West/PRACTICE_ID=21169/CHUNK=0/b32ed6585d5f4323af3c5bfc61dc4c79-0.parquet': 250,\n",
       " 'COUNTRY=E/HEALTH_AUTH=North West/PRACTICE_ID=21169/CHUNK=1/b32ed6585d5f4323af3c5bfc61dc4c79-0.parquet': 250,\n",
       " 'COUNTRY=E/HEALTH_AUTH=North West/PRACTICE_ID=21174/CHUNK=0/4fd9fcd2d3424db28757b0b07672b253-0.parquet': 243,\n",
       " 'COUNTRY=E/HEALTH_AUTH=North West/PRACTICE_ID=20815/CHUNK=0/e3c2983665f3424995d06205c9785514-0.parquet': 144,\n",
       " 'COUNTRY=E/HEALTH_AUTH=North West/PRACTICE_ID=21128/CHUNK=0/dd05ed4deb6340d28d94fcc6d8d87daf-0.parquet': 250,\n",
       " 'COUNTRY=E/HEALTH_AUTH=North West/PRACTICE_ID=21128/CHUNK=1/dd05ed4deb6340d28d94fcc6d8d87daf-0.parquet': 150,\n",
       " 'COUNTRY=E/HEALTH_AUTH=North West/PRACTICE_ID=21224/CHUNK=0/cffd5ad23dc84835b23c316cdf292200-0.parquet': 235,\n",
       " 'COUNTRY=E/HEALTH_AUTH=North West/PRACTICE_ID=21515/CHUNK=0/72366b8277be452e94267cec60b59ca4-0.parquet': 213,\n",
       " 'COUNTRY=E/HEALTH_AUTH=North West/PRACTICE_ID=20989/CHUNK=0/df98397636b4486ba1d818541827154e-0.parquet': 134,\n",
       " 'COUNTRY=E/HEALTH_AUTH=North West/PRACTICE_ID=21566/CHUNK=0/99e03d05db00421c83a4b205364f7702-0.parquet': 250,\n",
       " 'COUNTRY=E/HEALTH_AUTH=North West/PRACTICE_ID=21566/CHUNK=1/99e03d05db00421c83a4b205364f7702-0.parquet': 135,\n",
       " 'COUNTRY=E/HEALTH_AUTH=North West/PRACTICE_ID=21229/CHUNK=0/daa3d03d8b364e8bbfa0bfa9ef34b6bc-0.parquet': 177,\n",
       " 'COUNTRY=E/HEALTH_AUTH=North West/PRACTICE_ID=21474/CHUNK=0/9cdccb3e66f14ab780b4958e6161c833-0.parquet': 216,\n",
       " 'COUNTRY=E/HEALTH_AUTH=North East/PRACTICE_ID=20764/CHUNK=2/e03ddbe781eb461986fc28a53cb7b43a-0.parquet': 65,\n",
       " 'COUNTRY=E/HEALTH_AUTH=North East/PRACTICE_ID=20764/CHUNK=0/e03ddbe781eb461986fc28a53cb7b43a-0.parquet': 250,\n",
       " 'COUNTRY=E/HEALTH_AUTH=North East/PRACTICE_ID=20764/CHUNK=1/e03ddbe781eb461986fc28a53cb7b43a-0.parquet': 250,\n",
       " 'COUNTRY=E/HEALTH_AUTH=North East/PRACTICE_ID=20010/CHUNK=0/946bfb596d6c45ffbcd3d050b3b7d438-0.parquet': 250,\n",
       " 'COUNTRY=E/HEALTH_AUTH=North East/PRACTICE_ID=20010/CHUNK=1/946bfb596d6c45ffbcd3d050b3b7d438-0.parquet': 172,\n",
       " 'COUNTRY=E/HEALTH_AUTH=North East/PRACTICE_ID=20011/CHUNK=0/d905257478ce443b934f81c53956ec90-0.parquet': 111,\n",
       " 'COUNTRY=E/HEALTH_AUTH=North East/PRACTICE_ID=21551/CHUNK=2/500d8bad910e4fbaad3ab1c7c9e41898-0.parquet': 98,\n",
       " 'COUNTRY=E/HEALTH_AUTH=North East/PRACTICE_ID=21551/CHUNK=0/500d8bad910e4fbaad3ab1c7c9e41898-0.parquet': 250,\n",
       " 'COUNTRY=E/HEALTH_AUTH=North East/PRACTICE_ID=21551/CHUNK=1/500d8bad910e4fbaad3ab1c7c9e41898-0.parquet': 250,\n",
       " 'COUNTRY=E/HEALTH_AUTH=South East/PRACTICE_ID=21378/CHUNK=0/c53bb502efd14998b0776d71b1efdd32-0.parquet': 250,\n",
       " 'COUNTRY=E/HEALTH_AUTH=South East/PRACTICE_ID=21378/CHUNK=1/c53bb502efd14998b0776d71b1efdd32-0.parquet': 154,\n",
       " 'COUNTRY=E/HEALTH_AUTH=South East/PRACTICE_ID=20967/CHUNK=0/f4645969b9f349fc9c5bfb41a97376cc-0.parquet': 250,\n",
       " 'COUNTRY=E/HEALTH_AUTH=South East/PRACTICE_ID=20967/CHUNK=1/f4645969b9f349fc9c5bfb41a97376cc-0.parquet': 44,\n",
       " 'COUNTRY=E/HEALTH_AUTH=South East/PRACTICE_ID=21413/CHUNK=0/b56f0ea195bd4b8dbca7d3d1428d952a-0.parquet': 182,\n",
       " 'COUNTRY=E/HEALTH_AUTH=South East/PRACTICE_ID=20196/CHUNK=2/f966d318a0f64294b7c4da533b7e3e81-0.parquet': 167,\n",
       " 'COUNTRY=E/HEALTH_AUTH=South East/PRACTICE_ID=20196/CHUNK=0/f966d318a0f64294b7c4da533b7e3e81-0.parquet': 250,\n",
       " 'COUNTRY=E/HEALTH_AUTH=South East/PRACTICE_ID=20196/CHUNK=1/f966d318a0f64294b7c4da533b7e3e81-0.parquet': 250,\n",
       " 'COUNTRY=E/HEALTH_AUTH=South East/PRACTICE_ID=20730/CHUNK=2/6c53031df1864b388212ce67e49c268c-0.parquet': 154,\n",
       " 'COUNTRY=E/HEALTH_AUTH=South East/PRACTICE_ID=20730/CHUNK=0/6c53031df1864b388212ce67e49c268c-0.parquet': 250,\n",
       " 'COUNTRY=E/HEALTH_AUTH=South East/PRACTICE_ID=20730/CHUNK=1/6c53031df1864b388212ce67e49c268c-0.parquet': 250,\n",
       " 'COUNTRY=E/HEALTH_AUTH=South East/PRACTICE_ID=21237/CHUNK=0/c61f3a3b00a04f148a72e5b1c796437d-0.parquet': 250,\n",
       " 'COUNTRY=E/HEALTH_AUTH=South East/PRACTICE_ID=21237/CHUNK=1/c61f3a3b00a04f148a72e5b1c796437d-0.parquet': 105,\n",
       " 'COUNTRY=E/HEALTH_AUTH=South East/PRACTICE_ID=20173/CHUNK=0/6dbb321aa6a443af811535e35c7d0354-0.parquet': 250,\n",
       " 'COUNTRY=E/HEALTH_AUTH=South East/PRACTICE_ID=20173/CHUNK=1/6dbb321aa6a443af811535e35c7d0354-0.parquet': 152,\n",
       " 'COUNTRY=E/HEALTH_AUTH=South East/PRACTICE_ID=21341/CHUNK=0/a7f3241562144658b5b67b3934b1134c-0.parquet': 250,\n",
       " 'COUNTRY=E/HEALTH_AUTH=South East/PRACTICE_ID=21341/CHUNK=1/a7f3241562144658b5b67b3934b1134c-0.parquet': 205,\n",
       " 'COUNTRY=E/HEALTH_AUTH=South East/PRACTICE_ID=20181/CHUNK=0/f4e55d6e8fa443fd8fc0542a660d162b-0.parquet': 250,\n",
       " 'COUNTRY=E/HEALTH_AUTH=South East/PRACTICE_ID=20181/CHUNK=1/f4e55d6e8fa443fd8fc0542a660d162b-0.parquet': 43,\n",
       " 'COUNTRY=E/HEALTH_AUTH=South East/PRACTICE_ID=21578/CHUNK=0/acc740c9d9244ba580b67db101c89685-0.parquet': 250,\n",
       " 'COUNTRY=E/HEALTH_AUTH=South East/PRACTICE_ID=21578/CHUNK=1/acc740c9d9244ba580b67db101c89685-0.parquet': 39,\n",
       " 'COUNTRY=E/HEALTH_AUTH=South East/PRACTICE_ID=20457/CHUNK=2/62c891012f22420fbcc415c480586a92-0.parquet': 110,\n",
       " 'COUNTRY=E/HEALTH_AUTH=South East/PRACTICE_ID=20457/CHUNK=0/62c891012f22420fbcc415c480586a92-0.parquet': 250,\n",
       " 'COUNTRY=E/HEALTH_AUTH=South East/PRACTICE_ID=20457/CHUNK=1/62c891012f22420fbcc415c480586a92-0.parquet': 250,\n",
       " 'COUNTRY=E/HEALTH_AUTH=South East/PRACTICE_ID=21443/CHUNK=0/4a934395f30741358f3887a20bfbd7fe-0.parquet': 122,\n",
       " 'COUNTRY=E/HEALTH_AUTH=South East/PRACTICE_ID=20446/CHUNK=0/ced0d9779c27446ca058e8c1cc23b491-0.parquet': 250,\n",
       " 'COUNTRY=E/HEALTH_AUTH=South East/PRACTICE_ID=20446/CHUNK=1/ced0d9779c27446ca058e8c1cc23b491-0.parquet': 5,\n",
       " 'COUNTRY=E/HEALTH_AUTH=South East/PRACTICE_ID=21094/CHUNK=2/40941947083147dda20e7463c23f449f-0.parquet': 41,\n",
       " 'COUNTRY=E/HEALTH_AUTH=South East/PRACTICE_ID=21094/CHUNK=0/40941947083147dda20e7463c23f449f-0.parquet': 250,\n",
       " 'COUNTRY=E/HEALTH_AUTH=South East/PRACTICE_ID=21094/CHUNK=1/40941947083147dda20e7463c23f449f-0.parquet': 250,\n",
       " 'COUNTRY=E/HEALTH_AUTH=South East/PRACTICE_ID=20597/CHUNK=0/6a9fa18d9ea144a48d941cff66de9688-0.parquet': 250,\n",
       " 'COUNTRY=E/HEALTH_AUTH=South East/PRACTICE_ID=20597/CHUNK=1/6a9fa18d9ea144a48d941cff66de9688-0.parquet': 93,\n",
       " 'COUNTRY=E/HEALTH_AUTH=South East/PRACTICE_ID=20797/CHUNK=2/8e94d245f55743b381cdc1dc7204c5db-0.parquet': 29,\n",
       " 'COUNTRY=E/HEALTH_AUTH=South East/PRACTICE_ID=20797/CHUNK=0/8e94d245f55743b381cdc1dc7204c5db-0.parquet': 250,\n",
       " 'COUNTRY=E/HEALTH_AUTH=South East/PRACTICE_ID=20797/CHUNK=1/8e94d245f55743b381cdc1dc7204c5db-0.parquet': 250,\n",
       " 'COUNTRY=E/HEALTH_AUTH=South East/PRACTICE_ID=20720/CHUNK=0/b5b11d32e2fe4160a07152d2e7862656-0.parquet': 250,\n",
       " 'COUNTRY=E/HEALTH_AUTH=South East/PRACTICE_ID=20720/CHUNK=1/b5b11d32e2fe4160a07152d2e7862656-0.parquet': 59,\n",
       " 'COUNTRY=E/HEALTH_AUTH=South East/PRACTICE_ID=20924/CHUNK=2/3608d99cf9744c82ad459c3b8657d8ab-0.parquet': 250,\n",
       " 'COUNTRY=E/HEALTH_AUTH=South East/PRACTICE_ID=20924/CHUNK=0/3608d99cf9744c82ad459c3b8657d8ab-0.parquet': 250,\n",
       " 'COUNTRY=E/HEALTH_AUTH=South East/PRACTICE_ID=20924/CHUNK=1/3608d99cf9744c82ad459c3b8657d8ab-0.parquet': 250,\n",
       " 'COUNTRY=E/HEALTH_AUTH=South East/PRACTICE_ID=20924/CHUNK=3/3608d99cf9744c82ad459c3b8657d8ab-0.parquet': 95,\n",
       " 'COUNTRY=E/HEALTH_AUTH=South East/PRACTICE_ID=21532/CHUNK=2/6abc46304c45480f95df0103e199fab0-0.parquet': 250,\n",
       " 'COUNTRY=E/HEALTH_AUTH=South East/PRACTICE_ID=21532/CHUNK=0/6abc46304c45480f95df0103e199fab0-0.parquet': 250,\n",
       " 'COUNTRY=E/HEALTH_AUTH=South East/PRACTICE_ID=21532/CHUNK=1/6abc46304c45480f95df0103e199fab0-0.parquet': 250,\n",
       " 'COUNTRY=E/HEALTH_AUTH=South East/PRACTICE_ID=21532/CHUNK=3/6abc46304c45480f95df0103e199fab0-0.parquet': 70}"
      ]
     },
     "metadata": {},
     "output_type": "display_data"
    }
   ],
   "source": [
    "# import pickle as pkl\n",
    "# import pathlib\n",
    "\n",
    "pkl_file_to_amend = \"/rds/projects/g/gokhalkm-optimal/OPTIMAL_MASTER_DATASET/data/FoundationalModel/FineTune_CVD/file_row_count_dict_test.pickle\"\n",
    "\n",
    "with open(pkl_file_to_amend, 'rb') as pickle_file:\n",
    "    content = pickle.load(pickle_file)\n",
    "display(content)\n",
    "\n",
    "# new_dictionary = {}\n",
    "# for key in content.keys():\n",
    "#     str_to_remove = \"/rds/projects/g/gokhalkm-optimal/OPTIMAL_MASTER_DATASET/data/FoundationalModel/FineTune_CVD/split=val/\"\n",
    "#     new_key = str(key)[len(str_to_remove):]\n",
    "#     new_dictionary[new_key] = content[key]\n",
    "# display(new_dictionary)\n",
    "\n",
    "\n",
    "# with open(pkl_file_to_amend, 'wb') as handle:\n",
    "#     pickle.dump(new_dictionary, handle, protocol=pickle.HIGHEST_PROTOCOL)\n"
   ]
  },
  {
   "cell_type": "code",
   "execution_count": null,
   "id": "39e3bd66-0f95-4d0f-9e85-b05bf609037e",
   "metadata": {},
   "outputs": [],
   "source": [
    "# new_dictionary"
   ]
  },
  {
   "cell_type": "code",
   "execution_count": 37,
   "id": "3a3a45cf-dcbe-4d66-a8fa-34fcc1e4a4de",
   "metadata": {
    "scrolled": true
   },
   "outputs": [
    {
     "name": "stderr",
     "output_type": "stream",
     "text": [
      "/rds/bear-apps/2022a/EL8-ice/software/PyTorch/2.0.1-foss-2022a-CUDA-11.7.0/lib/python3.10/site-packages/torch/utils/data/dataloader.py:560: UserWarning: This DataLoader will create 20 worker processes in total. Our suggested max number of worker in current system is 12, which is smaller than what this DataLoader is going to create. Please be aware that excessive worker creation might get DataLoader running slow or even freeze, lower the worker number to avoid potential slowness/freeze if necessary.\n",
      "  warnings.warn(_create_warning_msg(\n"
     ]
    },
    {
     "name": "stdout",
     "output_type": "stream",
     "text": [
      "batch loaded in 128.71263647079468 seconds\n"
     ]
    }
   ],
   "source": [
    "start = time.time()   # starting time\n",
    "for batch in dm.train_dataloader():\n",
    "    break\n",
    "print(f\"batch loaded in {time.time()-start} seconds\")    \n",
    "    \n",
    "# for key in batch.keys():\n",
    "#     print(f\"{key}\".ljust(20) + f\"{batch[key].shape}\")\n",
    "\n",
    "# tokens = batch[\"tokens\"][0].tolist()    \n",
    "# sentence = dm.decode(tokens).split(\" \")\n",
    "# for token, value in zip(sentence, batch[\"values\"][0].tolist()):\n",
    "#     print(f\"{token}:\".ljust(40) + f\"{value}\")"
   ]
  },
  {
   "cell_type": "code",
   "execution_count": 38,
   "id": "85a4c5b5-2121-4d10-8f8e-11a88ed16cc3",
   "metadata": {},
   "outputs": [
    {
     "data": {
      "text/plain": [
       "dict_keys(['static_covariates', 'tokens', 'ages', 'values', 'attention_mask'])"
      ]
     },
     "metadata": {},
     "output_type": "display_data"
    },
    {
     "data": {
      "text/plain": [
       "dict_keys(['static_covariates', 'tokens', 'ages', 'values', 'attention_mask', 'target_token', 'target_age_delta', 'target_value'])"
      ]
     },
     "metadata": {},
     "output_type": "display_data"
    },
    {
     "name": "stdout",
     "output_type": "stream",
     "text": [
      "torch.Size([1024, 16])\n",
      "{'SEX': OneHotEncoder(), 'IMD': OneHotEncoder(), 'ETHNICITY': OneHotEncoder()}\n",
      "[array(['F', 'I', 'M'], dtype=object)]\n",
      "[array([ 1.,  2.,  3.,  4.,  5., nan])]\n",
      "[array(['ASIAN', 'BLACK', 'MISSING', 'MIXED', 'OTHER', 'WHITE'],\n",
      "      dtype=object)]\n"
     ]
    }
   ],
   "source": [
    "display(batch.keys())\n",
    "display(convert_batch_to_none_causal(batch).keys())\n",
    "\n",
    "print(batch[\"static_covariates\"].shape)\n",
    "\n",
    "print(dm.train_set.static_1hot)\n",
    "print(dm.train_set.static_1hot[\"SEX\"].categories_)\n",
    "print(dm.train_set.static_1hot[\"IMD\"].categories_)\n",
    "print(dm.train_set.static_1hot[\"ETHNICITY\"].categories_)"
   ]
  },
  {
   "cell_type": "markdown",
   "id": "60e3e15f-1b7c-466b-825e-a84100d224a0",
   "metadata": {},
   "source": [
    "## View an example sample"
   ]
  },
  {
   "cell_type": "code",
   "execution_count": 43,
   "id": "16aa22fa-ef08-485f-a948-c4ff8b3aade5",
   "metadata": {
    "scrolled": true
   },
   "outputs": [
    {
     "name": "stdout",
     "output_type": "stream",
     "text": [
      "Time to retrieve sample index 1354 was 0.01406550407409668 seconds\n",
      "\n",
      "SEX                 | M\n",
      "IMD                 | 4.0\n",
      "ETHNICITY           | ASIAN\n",
      "birth_year          | 1966.0\n",
      "Sequence of 31 events\n",
      "\n",
      "Token                                                                      | Age               | Standardised value\n",
      "===================================================================================================================\n",
      "Diastolic_blood_pressure_5                                                 | 14056             | -0.30             \n",
      "Systolic_blood_pressure_4                                                  | 14056             | -0.15             \n",
      "AST___aspartate_transam_SGOT__46                                           | 14061             | -0.50             \n",
      "Haemoglobin_estimation_9                                                   | 14061             | -0.06             \n",
      "Serum_albumin_51                                                           | 14061             | -0.26             \n",
      "Serum_alkaline_phosphatase_50                                              | 14061             | -0.49             \n",
      "Serum_bilirubin_level_53                                                   | 14061             | -0.48             \n",
      "Serum_creatinine_31                                                        | 14061             | -0.49             \n",
      "Total_white_cell_count_18                                                  | 14061             | -0.50             \n",
      "Body_mass_index_3                                                          | 14152             | -0.26             \n",
      "Diastolic_blood_pressure_5                                                 | 14152             | -0.32             \n",
      "O_E___height_1                                                             | 14152             | 0.16              \n",
      "O_E___weight_2                                                             | 14152             | -0.32             \n",
      "Systolic_blood_pressure_4                                                  | 14152             | -0.20             \n",
      "Diastolic_blood_pressure_5                                                 | 14158             | -0.33             \n",
      "Systolic_blood_pressure_4                                                  | 14158             | -0.23             \n",
      "HYPERTENSION                                                               | 14158             | nan               \n",
      "Serum_HDL_cholesterol_level_100                                            | 14163             | -0.29             \n",
      "Serum_LDL_cholesterol_level_102                                            | 14163             | -0.43             \n",
      "Serum_albumin_51                                                           | 14163             | -0.27             \n",
      "Serum_alkaline_phosphatase_50                                              | 14163             | -0.49             \n",
      "Serum_bilirubin_level_53                                                   | 14163             | -0.48             \n",
      "Serum_cholesterol_97                                                       | 14163             | -0.44             \n",
      "Serum_creatinine_31                                                        | 14163             | -0.49             \n",
      "Serum_potassium_26                                                         | 14163             | -0.03             \n",
      "Serum_sodium_24                                                            | 14163             | -0.04             \n",
      "Serum_triglycerides_105                                                    | 14163             | -0.46             \n",
      "Serum_urea_level_29                                                        | 14163             | -0.01             \n",
      "Total_cholesterol_HDL_ratio_95                                             | 14163             | -0.48             \n",
      "TYPE2DIABETES                                                              | 14163             | nan               \n",
      "phosphodiesterasetype5inhibitor_OPTIMAL                                    | 19506             | nan               \n"
     ]
    }
   ],
   "source": [
    "dm.test_set.view_sample(1354, max_dynamic_events=None, report_time=True)"
   ]
  },
  {
   "cell_type": "markdown",
   "id": "d1943eec-f491-4a94-92d9-65b9cedbd433",
   "metadata": {},
   "source": [
    "# Custom wrapper prediction last token\n",
    "\n",
    "To begin with, I will just loop over samples individually to test the zero-shot capacity of SurvivEHR. "
   ]
  },
  {
   "cell_type": "code",
   "execution_count": null,
   "id": "439343da-a813-4ffa-b0a6-26074e80d11e",
   "metadata": {
    "scrolled": true
   },
   "outputs": [],
   "source": [
    "\n",
    "\n",
    "# Verifying on datamodule \n",
    "for _idx, batch in enumerate(dm.test_dataloader()):\n",
    "    if _idx > 10:\n",
    "        break\n",
    "    print(_idx)\n",
    "    print(torch.stack([batch[\"tokens\"][10,:5], \n",
    "                       batch[\"values\"][10,:5],  \n",
    "                       batch[\"ages\"][10,:5],\n",
    "                       batch[\"attention_mask\"][10,:5]]))\n",
    "    batch = replace_last_non_pad_with_pad(batch)\n",
    "    print(torch.stack([batch[\"tokens\"][10,:5], \n",
    "                       batch[\"values\"][10,:5],  \n",
    "                       batch[\"ages\"][10,:5],\n",
    "                       batch[\"attention_mask\"][10,:5]]))"
   ]
  },
  {
   "cell_type": "code",
   "execution_count": null,
   "id": "f2c069ad-f41d-420e-819e-cf2c5a390baf",
   "metadata": {},
   "outputs": [],
   "source": [
    "outcome_of_interest = [\"COPD\", \"SUBSTANCEMISUSE\"]\n",
    "outcome_token = dm.encode(outcome_of_interest)[0]\n",
    "print(outcome_token)\n",
    "# print(model(batch))"
   ]
  },
  {
   "cell_type": "code",
   "execution_count": null,
   "id": "e17f35b1-02d3-4db9-b376-ca44d9c1f770",
   "metadata": {
    "scrolled": true
   },
   "outputs": [],
   "source": [
    "Hs, labels = [], []\n",
    "mins,maxes=[],[]\n",
    "for _idx, batch in enumerate(dm.test_dataloader()):\n",
    "\n",
    "    batch = replace_last_non_pad_with_pad(batch)\n",
    "    print(batch[\"tokens\".shape)\n",
    "    outputs, _, hidden_states = model(batch, is_generation=True)\n",
    "    print(outputs)\n",
    "    \n",
    "    hidden_states = hidden_states.cpu().detach().numpy()                           # (64, 128, 384) \n",
    "    Hs.append( hidden_states.reshape(hidden_states.shape[0], -1) )\n",
    "    labels.append((batch[\"target_token\"] == outcome_token).long().numpy())\n",
    "\n",
    "    if _idx == 9:\n",
    "        break\n",
    "\n"
   ]
  },
  {
   "cell_type": "markdown",
   "id": "fc2bf156-cc66-4276-8c8d-23caec948e2d",
   "metadata": {},
   "source": [
    "# Visualise hidden dimension labelled by target"
   ]
  },
  {
   "cell_type": "code",
   "execution_count": null,
   "id": "5a2d857d-dbb0-487b-8278-42c04bcbea15",
   "metadata": {},
   "outputs": [],
   "source": [
    "import umap\n",
    "from sklearn.preprocessing import StandardScaler\n",
    "\n",
    "H = np.concatenate(Hs, 0)\n",
    "lbl = np.concatenate(labels, 0)\n",
    "\n",
    "H = StandardScaler().fit_transform(H)\n",
    "reducer = umap.UMAP()\n",
    "H_proj = reducer.fit_transform(H)\n",
    "\n",
    "plt.close()\n",
    "plt.scatter(H_proj[:,0], H_proj[:,1], c=lbl)\n",
    "plt.savefig(save_path + f\"zero_shot/hidden_umap.png\")"
   ]
  },
  {
   "cell_type": "code",
   "execution_count": null,
   "id": "ea5e686a-ebe9-43d4-8a14-b88df279ca9d",
   "metadata": {},
   "outputs": [],
   "source": [
    "print(outputs[\"surv\"][\"surv_CDF\"][outcome_token].shape)\n",
    "\n",
    "# The first two tokens in the vocab correspond to the PAD and UNK tokens. There is no CDF corresponding to the PAD token, so the indexing for surv_CDF begins as [\"UNK\", \"ADDISONS_DISEASE\", ...]\n",
    "# print(dm.decode([0,1,2]))\n",
    "\n",
    "outcomes = [\"COPD\", \"SUBSTANCEMISUSE\"]\n",
    "outcome_tokens = dm.encode(outcomes)\n",
    "\n",
    "# for outcome in outcomes:\n",
    "    # observed_outcome_token = dm.encode([outcome])[0]\n",
    "cdf = np.zeros_like(outputs[\"surv\"][\"surv_CDF\"][0])\n",
    "lbls = np.zeros_like(batch[\"target_token\"])\n",
    "\n",
    "for _outcome_token in outcome_tokens:\n",
    "    cdf += outputs[\"surv\"][\"surv_CDF\"][_outcome_token - 1] \n",
    "    lbls += (batch[\"target_token\"] == _outcome_token).long().numpy()\n",
    "\n",
    "plt.close()\n",
    "cdf_true = cdf[lbls==1,:]\n",
    "cdf_false = cdf[lbls==0,:]\n",
    "for i in range(cdf_true.shape[0]):\n",
    "    plt.plot(np.linspace(1,1826,1826), cdf_true[i,:], c=\"r\", label=\"outcome occurred next\" if i == 0 else None, alpha=1)\n",
    "for i in range(cdf_false.shape[0]):\n",
    "    plt.plot(np.linspace(1,1826,1826), cdf_false[i,:], c=\"k\", label=\"outcome did not occur next\" if i == 0 else None, alpha=0.3)\n",
    "\n",
    "plt.legend(loc=2)\n",
    "plt.xlabel(\"days\")\n",
    "plt.ylabel(f\"P(t>T) - outcomes={','.join(outcomes)}\")\n",
    "plt.savefig(save_path + f\"zero_shot/cdf_outcomes.png\")"
   ]
  },
  {
   "cell_type": "code",
   "execution_count": null,
   "id": "619c2049-56bc-47ff-bcea-ce2e529266e2",
   "metadata": {},
   "outputs": [],
   "source": [
    "print(batch[\"target_token\"].unique())\n",
    "print(len(outputs[\"surv\"][\"surv_CDF\"]))"
   ]
  },
  {
   "cell_type": "code",
   "execution_count": null,
   "id": "ecb3417a-d3c7-42f9-b288-82ab49ddb69b",
   "metadata": {},
   "outputs": [],
   "source": [
    "dm.decode([2])"
   ]
  },
  {
   "cell_type": "code",
   "execution_count": null,
   "id": "90115137-0805-4f93-877b-2d98e51439d0",
   "metadata": {},
   "outputs": [],
   "source": [
    "outputs[\"surv\"][\"surv_CDF\"][observed_outcome_token - 1]"
   ]
  },
  {
   "cell_type": "code",
   "execution_count": null,
   "id": "9bacadcc-f857-45e2-94e8-0ca43ccbd196",
   "metadata": {},
   "outputs": [],
   "source": []
  }
 ],
 "metadata": {
  "kernelspec": {
   "display_name": "Python",
   "language": "python",
   "name": "sys_python"
  },
  "language_info": {
   "codemirror_mode": {
    "name": "ipython",
    "version": 3
   },
   "file_extension": ".py",
   "mimetype": "text/x-python",
   "name": "python",
   "nbconvert_exporter": "python",
   "pygments_lexer": "ipython3",
   "version": "3.10.4"
  }
 },
 "nbformat": 4,
 "nbformat_minor": 5
}
