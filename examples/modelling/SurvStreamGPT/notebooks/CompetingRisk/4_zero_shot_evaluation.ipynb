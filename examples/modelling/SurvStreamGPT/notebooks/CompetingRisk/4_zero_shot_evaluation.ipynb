{
 "cells": [
  {
   "cell_type": "markdown",
   "id": "4921342e-8ff8-45d4-b1f6-9fe480c2ee1d",
   "metadata": {},
   "source": [
    "# Demo Notebook:\n",
    "## Zero-shot evaluation the Competing Risk Survival Transformer For Causal Sequence Modelling.\n",
    "\n",
    "Evaluating the pre-trained model on a cohort study for predicting Cardiovascular Disease in a Type 2 Diabetes Mellitus population."
   ]
  },
  {
   "cell_type": "code",
   "execution_count": 1,
   "id": "a671c59b-4428-4e63-a138-7244418a87c5",
   "metadata": {},
   "outputs": [
    {
     "name": "stdout",
     "output_type": "stream",
     "text": [
      "Added path '/rds/homes/g/gaddcz/Projects/CPRD/virtual-envTorch2.0-icelake/lib/python3.10/site-packages' at start of search paths.\n"
     ]
    }
   ],
   "source": [
    "import os\n",
    "from pathlib import Path\n",
    "import sys\n",
    "node_type = os.getenv('BB_CPU')\n",
    "venv_dir = f'/rds/homes/g/gaddcz/Projects/CPRD/virtual-envTorch2.0-{node_type}'\n",
    "venv_site_pkgs = Path(venv_dir) / 'lib' / f'python{sys.version_info.major}.{sys.version_info.minor}' / 'site-packages'\n",
    "if venv_site_pkgs.exists():\n",
    "    sys.path.insert(0, str(venv_site_pkgs))\n",
    "    print(f\"Added path '{venv_site_pkgs}' at start of search paths.\")\n",
    "else:\n",
    "    print(f\"Path '{venv_site_pkgs}' not found. Check that it exists and/or that it exists for node-type '{node_type}'.\")\n",
    "\n",
    "%load_ext autoreload\n",
    "%autoreload 2"
   ]
  },
  {
   "cell_type": "code",
   "execution_count": 2,
   "id": "d866c7f0-eaa8-4129-b3b1-d4d6b504d0a7",
   "metadata": {},
   "outputs": [
    {
     "name": "stdout",
     "output_type": "stream",
     "text": [
      "Using device: cuda.\n",
      "env: SLURM_NTASKS_PER_NODE=28\n"
     ]
    }
   ],
   "source": [
    "import torch\n",
    "import numpy as np\n",
    "import matplotlib.pyplot as plt\n",
    "import logging\n",
    "from tqdm import tqdm\n",
    "import pickle\n",
    "from hydra import compose, initialize\n",
    "from omegaconf import OmegaConf\n",
    "from CPRD.examples.modelling.SurvStreamGPT.run_experiment import run\n",
    "from CPRD.data.foundational_loader import FoundationalDataModule, convert_batch_to_none_causal\n",
    "from CPRD.src.models.survival.task_heads.causal import SurvStreamGPTForCausalModelling\n",
    "from CPRD.examples.modelling.SurvStreamGPT.setup_zeroshot_experiment import setup_zeroshot_experiment, ZeroShotExperiment\n",
    "\n",
    "import time\n",
    "import pyarrow.dataset as ds\n",
    "import pyarrow.parquet as pq\n",
    "import os\n",
    "import polars as pl\n",
    "pl.Config.set_tbl_rows(10000)\n",
    "import pandas as pd\n",
    "pd.options.display.max_rows = 10000\n",
    "\n",
    "torch.manual_seed(1337)\n",
    "torch.set_float32_matmul_precision('medium')\n",
    "\n",
    "logging.basicConfig(level=logging.INFO)\n",
    "device = 'cuda' if torch.cuda.is_available() else 'cpu'\n",
    "# device = \"cpu\"    # if more informative debugging statements are needed\n",
    "print(f\"Using device: {device}.\")\n",
    "\n",
    " # TODO: define an env variable to fix for a local hpc environment issue, this shouldn't be needed\n",
    "%env SLURM_NTASKS_PER_NODE=28   "
   ]
  },
  {
   "cell_type": "markdown",
   "id": "d316b39b-7bd9-43dd-84e5-561c70351a45",
   "metadata": {},
   "source": [
    "## Load configurations\n",
    "Modifying as necesssary for zero-shot application. \n",
    "\n",
    "Here we choose to load in the configuration for a small **pre-trained** 11M parameter model, named \"CR_11M\". We specfiy the zero-shot experiment type, which will lead to running the ```ZeroShotExperiment```. \n",
    "We tell this experiment that no further training is needed. Additionally, we do choose to perform testing. As this is a causal model, this would not test the ability to predict the outcomes of interest, but to perform the causal modelling task on the new dataset. This also allows us to implement outcome predictions as a callback hook at the end of testing.\n",
    "\n",
    "Instead, we want to test the pre-trained model's capacity to predict the relative risk of outcomes. Here, this is to test will check for the pre-trained model's capacity to predict ```COPD``` and ```SUBSTANCEMISUSE```. To do this we point the experiment to the ```FineTune_CVD``` dataset, and set the outcomes of interest. This is performed internally in ```setup_zeroshot_experiment``` through callbacks, in the next cell."
   ]
  },
  {
   "cell_type": "code",
   "execution_count": 3,
   "id": "63e00688-1426-4046-910c-45bde94db899",
   "metadata": {},
   "outputs": [
    {
     "name": "stdout",
     "output_type": "stream",
     "text": [
      "is_decoder: true\n",
      "data:\n",
      "  batch_size: 1024\n",
      "  unk_freq_threshold: 0.0\n",
      "  min_workers: 20\n",
      "  global_diagnoses: false\n",
      "  path_to_db: /rds/projects/g/gokhalkm-optimal/OPTIMAL_MASTER_DATASET/data/FoundationalModel/\n",
      "  path_to_ds: /rds/projects/g/gokhalkm-optimal/OPTIMAL_MASTER_DATASET/data/FoundationalModel/FineTune_CVD_stillwithsingleeventpatients/\n",
      "  meta_information_path: /rds/projects/g/gokhalkm-optimal/OPTIMAL_MASTER_DATASET/data/FoundationalModel/PreTrain/meta_information_QuantJenny.pickle\n",
      "experiment:\n",
      "  type: zero-shot\n",
      "  project_name: SurvStreamGPT_${head.SurvLayer}\n",
      "  run_id: CR_11M\n",
      "  train: false\n",
      "  test: true\n",
      "  verbose: true\n",
      "  seed: 1337\n",
      "  log: true\n",
      "  log_dir: /rds/projects/s/subramaa-mum-predict/CharlesGadd_Oxford/FoundationModelOutput/\n",
      "  ckpt_dir: /rds/projects/s/subramaa-mum-predict/CharlesGadd_Oxford/FoundationModelOutput/checkpoints/\n",
      "  fine_tune_outcomes:\n",
      "  - IHDINCLUDINGMI_OPTIMALV2\n",
      "  - ISCHAEMICSTROKE_V2\n",
      "  - MINFARCTION\n",
      "  - STROKEUNSPECIFIED_V2\n",
      "  - STROKE_HAEMRGIC\n",
      "optim:\n",
      "  num_epochs: 1\n",
      "  learning_rate: 0.0003\n",
      "  scheduler: CAWarmRestarts\n",
      "  scheduler_periods: 5000\n",
      "  scheduler_warmup: true\n",
      "  lr_cosine_decay_period: 10000000.0\n",
      "  val_check_interval: 1000\n",
      "  early_stop: false\n",
      "  early_stop_patience: 5\n",
      "  log_every_n_steps: 20\n",
      "  limit_val_batches: 0.05\n",
      "  limit_test_batches: null\n",
      "transformer:\n",
      "  block_type: Neo\n",
      "  block_size: 128\n",
      "  n_layer: 6\n",
      "  n_head: 6\n",
      "  n_embd: 384\n",
      "  layer_norm_bias: false\n",
      "  attention_type: global\n",
      "  bias: true\n",
      "  dropout: 0.0\n",
      "  attention_dropout: 0.0\n",
      "  resid_dropout: 0.0\n",
      "head:\n",
      "  SurvLayer: cr\n",
      "  surv_weight: 0.5\n",
      "  tokens_for_univariate_regression: None\n",
      "  value_weight: 0.5\n",
      "\n"
     ]
    }
   ],
   "source": [
    "# load the configuration file, override any settings \n",
    "with initialize(version_base=None, config_path=\"../../confs\", job_name=\"testing_notebook\"):\n",
    "    cfg = compose(config_name=\"config_CompetingRisk11M\", \n",
    "                  overrides=[\"experiment.type='zero-shot'\",\n",
    "                             \"experiment.run_id='CR_11M'\",\n",
    "                             \"experiment.train=False\",\n",
    "                             \"experiment.test=True\",\n",
    "                             'experiment.fine_tune_outcomes=[\"IHDINCLUDINGMI_OPTIMALV2\", \"ISCHAEMICSTROKE_V2\", \"MINFARCTION\", \"STROKEUNSPECIFIED_V2\", \"STROKE_HAEMRGIC\"]',\n",
    "                             \"data.path_to_ds=/rds/projects/g/gokhalkm-optimal/OPTIMAL_MASTER_DATASET/data/FoundationalModel/FineTune_CVD_stillwithsingleeventpatients/\",\n",
    "                             \"optim.limit_test_batches=null\"\n",
    "                            ]\n",
    "                 )     \n",
    "\n",
    "cfg.data.batch_size=1024\n",
    "\n",
    "print(OmegaConf.to_yaml(cfg))\n",
    "\n",
    "save_path = f\"/rds/projects/s/subramaa-mum-predict/CharlesGadd_Oxford/FoundationModelOutput/checkpoints/{cfg.experiment.run_id}/\""
   ]
  },
  {
   "cell_type": "markdown",
   "id": "fd2e0a69-cc78-43d6-8e6c-bac2194a3f1b",
   "metadata": {},
   "source": [
    "# Load Experiment"
   ]
  },
  {
   "cell_type": "code",
   "execution_count": 17,
   "id": "b018c920-1f4d-40a5-b6a9-a6877430385d",
   "metadata": {
    "scrolled": true
   },
   "outputs": [
    {
     "name": "stderr",
     "output_type": "stream",
     "text": [
      "INFO:root:Running cr on 72 CPUs and 1 GPUs\n",
      "INFO:root:Using meta information from /rds/projects/g/gokhalkm-optimal/OPTIMAL_MASTER_DATASET/data/FoundationalModel/PreTrain/meta_information_QuantJenny.pickle\n",
      "INFO:root:Using train file-row count dictionary from /rds/projects/g/gokhalkm-optimal/OPTIMAL_MASTER_DATASET/data/FoundationalModel/FineTune_CVD_stillwithsingleeventpatients/file_row_count_dict_train.pickle\n",
      "INFO:root:Using test file-row count dictionary from /rds/projects/g/gokhalkm-optimal/OPTIMAL_MASTER_DATASET/data/FoundationalModel/FineTune_CVD_stillwithsingleeventpatients/file_row_count_dict_test.pickle\n",
      "INFO:root:Using val file-row count dictionary from /rds/projects/g/gokhalkm-optimal/OPTIMAL_MASTER_DATASET/data/FoundationalModel/FineTune_CVD_stillwithsingleeventpatients/file_row_count_dict_val.pickle\n",
      "INFO:root:Tokenzier created based on 7,555,415,275 tokens\n",
      "INFO:root:Using tabular tokenizer, created from meta information and containing 265 tokens\n",
      "INFO:root:Loaded /rds/projects/g/gokhalkm-optimal/OPTIMAL_MASTER_DATASET/data/FoundationalModel/FineTune_CVD_stillwithsingleeventpatients/split=train/ dataset, with 691,452 samples\n",
      "INFO:root:Loaded /rds/projects/g/gokhalkm-optimal/OPTIMAL_MASTER_DATASET/data/FoundationalModel/FineTune_CVD_stillwithsingleeventpatients/split=test/ dataset, with 43,142 samples\n",
      "INFO:root:Loaded /rds/projects/g/gokhalkm-optimal/OPTIMAL_MASTER_DATASET/data/FoundationalModel/FineTune_CVD_stillwithsingleeventpatients/split=val/ dataset, with 40,437 samples\n",
      "INFO:root:265 vocab elements\n",
      "INFO:root:Running Zero-Shot experiment. This will evaluate the pre-trained Foundation Model on a clinical prediction model task.\n",
      "INFO:root:Using Temporal Positional Encoding. This module uses the patient's age at an event within their time series.\n",
      "INFO:root:Using Competing-Risk DeSurv head.\n",
      "INFO:root:Internally scaling time in survival head by 1825 days\n",
      "INFO:root:In generation forwarding DeSurv on the grid between [0.0, 1825.0] with 1826 time-points of delta=1.0\n",
      "INFO:root:Creating Embedding callback\n",
      "INFO:root:Creating Clinical Prediction Model callbacks\n",
      "INFO:root:Using outcomes ['IHDINCLUDINGMI_OPTIMALV2', 'ISCHAEMICSTROKE_V2', 'MINFARCTION', 'STROKEUNSPECIFIED_V2', 'STROKE_HAEMRGIC']\n",
      "GPU available: True (cuda), used: True\n",
      "TPU available: False, using: 0 TPU cores\n",
      "IPU available: False, using: 0 IPUs\n",
      "HPU available: False, using: 0 HPUs\n",
      "INFO:root:Loading from cached checkpoint /rds/projects/s/subramaa-mum-predict/CharlesGadd_Oxford/FoundationModelOutput/checkpoints/CR_11M.ckpt\n",
      "INFO:root:Using Temporal Positional Encoding. This module uses the patient's age at an event within their time series.\n",
      "INFO:root:Using Competing-Risk DeSurv head.\n",
      "INFO:root:Internally scaling time in survival head by 1825 days\n",
      "INFO:root:In generation forwarding DeSurv on the grid between [0.0, 1825.0] with 1826 time-points of delta=1.0\n",
      "INFO:root:Testing model.\n",
      "/rds/bear-apps/2022a/EL8-ice/software/PyTorch-Lightning/2.1.0-foss-2022a-CUDA-11.7.0/lib/python3.10/site-packages/pytorch_lightning/loggers/wandb.py:389: There is a wandb run already in progress and newly created instances of `WandbLogger` will reuse this run. If this is not desired, call `wandb.finish()` before instantiating `WandbLogger`.\n",
      "LOCAL_RANK: 0 - CUDA_VISIBLE_DEVICES: [0]\n",
      "SLURM auto-requeueing enabled. Setting signal handlers.\n"
     ]
    },
    {
     "data": {
      "application/vnd.jupyter.widget-view+json": {
       "model_id": "3a2a233cfb28405192beb8a95504d310",
       "version_major": 2,
       "version_minor": 0
      },
      "text/plain": [
       "Testing: |          | 0/? [00:00<?, ?it/s]"
      ]
     },
     "metadata": {},
     "output_type": "display_data"
    },
    {
     "name": "stderr",
     "output_type": "stream",
     "text": [
      "WARNING:root:This batch has already been converted to none-causal. Skipping conversion.\n",
      "WARNING:root:Fine-tuning batch has 2 samples without at least two events.\n",
      "WARNING:root:\tContinuing by removing singular samples, but these should be removed from the dataset.\n",
      "                                \t\t Bad sample tokens: tensor([[ 95,   0,   0,   0,   0],\n",
      "        [175,   0,   0,   0,   0]], device='cuda:0')\n",
      "                                \t\t and corresponding ages tensor([[22467,     0,     0,     0,     0],\n",
      "        [33030,     0,     0,     0,     0]], device='cuda:0')\n",
      "WARNING:root:This batch has already been converted to none-causal. Skipping conversion.\n",
      "WARNING:root:This batch has already been converted to none-causal. Skipping conversion.\n",
      "WARNING:root:This batch has already been converted to none-causal. Skipping conversion.\n",
      "WARNING:root:This batch has already been converted to none-causal. Skipping conversion.\n",
      "WARNING:root:This batch has already been converted to none-causal. Skipping conversion.\n",
      "WARNING:root:This batch has already been converted to none-causal. Skipping conversion.\n",
      "WARNING:root:This batch has already been converted to none-causal. Skipping conversion.\n",
      "WARNING:root:This batch has already been converted to none-causal. Skipping conversion.\n",
      "WARNING:root:This batch has already been converted to none-causal. Skipping conversion.\n",
      "WARNING:root:This batch has already been converted to none-causal. Skipping conversion.\n",
      "WARNING:root:This batch has already been converted to none-causal. Skipping conversion.\n",
      "WARNING:root:This batch has already been converted to none-causal. Skipping conversion.\n",
      "WARNING:root:This batch has already been converted to none-causal. Skipping conversion.\n",
      "WARNING:root:This batch has already been converted to none-causal. Skipping conversion.\n",
      "WARNING:root:This batch has already been converted to none-causal. Skipping conversion.\n",
      "WARNING:root:This batch has already been converted to none-causal. Skipping conversion.\n",
      "WARNING:root:This batch has already been converted to none-causal. Skipping conversion.\n",
      "WARNING:root:This batch has already been converted to none-causal. Skipping conversion.\n",
      "WARNING:root:This batch has already been converted to none-causal. Skipping conversion.\n",
      "WARNING:root:This batch has already been converted to none-causal. Skipping conversion.\n",
      "WARNING:root:This batch has already been converted to none-causal. Skipping conversion.\n",
      "WARNING:root:This batch has already been converted to none-causal. Skipping conversion.\n",
      "WARNING:root:Fine-tuning batch has 1 samples without at least two events.\n",
      "WARNING:root:\tContinuing by removing singular samples, but these should be removed from the dataset.\n",
      "                                \t\t Bad sample tokens: tensor([[106,   0,   0,   0,   0]], device='cuda:0')\n",
      "                                \t\t and corresponding ages tensor([[24484,     0,     0,     0,     0]], device='cuda:0')\n",
      "WARNING:root:This batch has already been converted to none-causal. Skipping conversion.\n",
      "WARNING:root:This batch has already been converted to none-causal. Skipping conversion.\n",
      "WARNING:root:Fine-tuning batch has 1 samples without at least two events.\n",
      "WARNING:root:\tContinuing by removing singular samples, but these should be removed from the dataset.\n",
      "                                \t\t Bad sample tokens: tensor([[263,   0,   0,   0,   0]], device='cuda:0')\n",
      "                                \t\t and corresponding ages tensor([[30467,     0,     0,     0,     0]], device='cuda:0')\n",
      "WARNING:root:This batch has already been converted to none-causal. Skipping conversion.\n",
      "WARNING:root:This batch has already been converted to none-causal. Skipping conversion.\n",
      "WARNING:root:This batch has already been converted to none-causal. Skipping conversion.\n",
      "WARNING:root:This batch has already been converted to none-causal. Skipping conversion.\n",
      "WARNING:root:This batch has already been converted to none-causal. Skipping conversion.\n",
      "WARNING:root:This batch has already been converted to none-causal. Skipping conversion.\n",
      "WARNING:root:This batch has already been converted to none-causal. Skipping conversion.\n",
      "WARNING:root:This batch has already been converted to none-causal. Skipping conversion.\n",
      "WARNING:root:Fine-tuning batch has 1 samples without at least two events.\n",
      "WARNING:root:\tContinuing by removing singular samples, but these should be removed from the dataset.\n",
      "                                \t\t Bad sample tokens: tensor([[249,   0,   0,   0,   0]], device='cuda:0')\n",
      "                                \t\t and corresponding ages tensor([[29741,     0,     0,     0,     0]], device='cuda:0')\n",
      "WARNING:root:This batch has already been converted to none-causal. Skipping conversion.\n",
      "WARNING:root:This batch has already been converted to none-causal. Skipping conversion.\n",
      "WARNING:root:This batch has already been converted to none-causal. Skipping conversion.\n",
      "WARNING:root:This batch has already been converted to none-causal. Skipping conversion.\n",
      "WARNING:root:This batch has already been converted to none-causal. Skipping conversion.\n",
      "WARNING:root:This batch has already been converted to none-causal. Skipping conversion.\n",
      "WARNING:root:This batch has already been converted to none-causal. Skipping conversion.\n",
      "WARNING:root:This batch has already been converted to none-causal. Skipping conversion.\n",
      "WARNING:root:This batch has already been converted to none-causal. Skipping conversion.\n",
      "WARNING:root:This batch has already been converted to none-causal. Skipping conversion.\n"
     ]
    },
    {
     "data": {
      "text/html": [
       "<pre style=\"white-space:pre;overflow-x:auto;line-height:normal;font-family:Menlo,'DejaVu Sans Mono',consolas,'Courier New',monospace\">┏━━━━━━━━━━━━━━━━━━━━━━━━━━━━━━━━━━━━━┳━━━━━━━━━━━━━━━━━━━━━━━━━━━━━━━━━━━━━┓\n",
       "┃<span style=\"font-weight: bold\">             Test metric             </span>┃<span style=\"font-weight: bold\">            DataLoader 0             </span>┃\n",
       "┡━━━━━━━━━━━━━━━━━━━━━━━━━━━━━━━━━━━━━╇━━━━━━━━━━━━━━━━━━━━━━━━━━━━━━━━━━━━━┩\n",
       "│<span style=\"color: #008080; text-decoration-color: #008080\">  Test:OutcomePerformanceMetricsctd  </span>│<span style=\"color: #800080; text-decoration-color: #800080\">         0.6068585515022278          </span>│\n",
       "│<span style=\"color: #008080; text-decoration-color: #008080\">  Test:OutcomePerformanceMetricsibs  </span>│<span style=\"color: #800080; text-decoration-color: #800080\">         0.03527577923133065         </span>│\n",
       "│<span style=\"color: #008080; text-decoration-color: #008080\"> Test:OutcomePerformanceMetricsinbll </span>│<span style=\"color: #800080; text-decoration-color: #800080\">         0.22775016423562935         </span>│\n",
       "│<span style=\"color: #008080; text-decoration-color: #008080\">              test_loss              </span>│<span style=\"color: #800080; text-decoration-color: #800080\">         -24.423446655273438         </span>│\n",
       "│<span style=\"color: #008080; text-decoration-color: #008080\">          test_loss_desurv           </span>│<span style=\"color: #800080; text-decoration-color: #800080\">         -3.0923924446105957         </span>│\n",
       "│<span style=\"color: #008080; text-decoration-color: #008080\">          test_loss_values           </span>│<span style=\"color: #800080; text-decoration-color: #800080\">         -45.75449752807617          </span>│\n",
       "└─────────────────────────────────────┴─────────────────────────────────────┘\n",
       "</pre>\n"
      ],
      "text/plain": [
       "┏━━━━━━━━━━━━━━━━━━━━━━━━━━━━━━━━━━━━━┳━━━━━━━━━━━━━━━━━━━━━━━━━━━━━━━━━━━━━┓\n",
       "┃\u001b[1m \u001b[0m\u001b[1m            Test metric            \u001b[0m\u001b[1m \u001b[0m┃\u001b[1m \u001b[0m\u001b[1m           DataLoader 0            \u001b[0m\u001b[1m \u001b[0m┃\n",
       "┡━━━━━━━━━━━━━━━━━━━━━━━━━━━━━━━━━━━━━╇━━━━━━━━━━━━━━━━━━━━━━━━━━━━━━━━━━━━━┩\n",
       "│\u001b[36m \u001b[0m\u001b[36m Test:OutcomePerformanceMetricsctd \u001b[0m\u001b[36m \u001b[0m│\u001b[35m \u001b[0m\u001b[35m        0.6068585515022278         \u001b[0m\u001b[35m \u001b[0m│\n",
       "│\u001b[36m \u001b[0m\u001b[36m Test:OutcomePerformanceMetricsibs \u001b[0m\u001b[36m \u001b[0m│\u001b[35m \u001b[0m\u001b[35m        0.03527577923133065        \u001b[0m\u001b[35m \u001b[0m│\n",
       "│\u001b[36m \u001b[0m\u001b[36mTest:OutcomePerformanceMetricsinbll\u001b[0m\u001b[36m \u001b[0m│\u001b[35m \u001b[0m\u001b[35m        0.22775016423562935        \u001b[0m\u001b[35m \u001b[0m│\n",
       "│\u001b[36m \u001b[0m\u001b[36m             test_loss             \u001b[0m\u001b[36m \u001b[0m│\u001b[35m \u001b[0m\u001b[35m        -24.423446655273438        \u001b[0m\u001b[35m \u001b[0m│\n",
       "│\u001b[36m \u001b[0m\u001b[36m         test_loss_desurv          \u001b[0m\u001b[36m \u001b[0m│\u001b[35m \u001b[0m\u001b[35m        -3.0923924446105957        \u001b[0m\u001b[35m \u001b[0m│\n",
       "│\u001b[36m \u001b[0m\u001b[36m         test_loss_values          \u001b[0m\u001b[36m \u001b[0m│\u001b[35m \u001b[0m\u001b[35m        -45.75449752807617         \u001b[0m\u001b[35m \u001b[0m│\n",
       "└─────────────────────────────────────┴─────────────────────────────────────┘\n"
      ]
     },
     "metadata": {},
     "output_type": "display_data"
    },
    {
     "name": "stdout",
     "output_type": "stream",
     "text": [
      "Loaded model with 11.433294 M parameters\n"
     ]
    }
   ],
   "source": [
    "model, dm = run(cfg)\n",
    "print(f\"Loaded model with {sum(p.numel() for p in model.parameters())/1e6} M parameters\")"
   ]
  },
  {
   "cell_type": "code",
   "execution_count": null,
   "id": "ab4e2467-bfc5-47cf-8e26-7a38cc093965",
   "metadata": {
    "scrolled": true
   },
   "outputs": [],
   "source": [
    "import wandb\n",
    "wandb.finish()"
   ]
  },
  {
   "cell_type": "code",
   "execution_count": 13,
   "id": "d078715e-c1dc-4726-bf06-0d6cba9261fb",
   "metadata": {},
   "outputs": [
    {
     "data": {
      "text/plain": [
       "['IHDINCLUDINGMI_OPTIMALV2',\n",
       " 'Gabapentin_Oral_OPTIMAL',\n",
       " 'Statins',\n",
       " 'Thiazide_Diuretics_v2']"
      ]
     },
     "metadata": {},
     "output_type": "display_data"
    }
   ],
   "source": [
    "dm.encode(['Diastolic_blood_pressure_5.png'])\n",
    "display(dm.decode([95, 175, 263,249]).split(\" \"))"
   ]
  },
  {
   "cell_type": "code",
   "execution_count": null,
   "id": "9aa0352a-f7cc-40ea-b456-97f1e59adcf3",
   "metadata": {},
   "outputs": [],
   "source": [
    "dm.tokenizer._event_counts[\"EVENT\"][-5:].to_list()"
   ]
  },
  {
   "cell_type": "code",
   "execution_count": null,
   "id": "655e044f-4d3a-4c03-a3aa-c460e1ffd662",
   "metadata": {},
   "outputs": [],
   "source": []
  },
  {
   "cell_type": "code",
   "execution_count": null,
   "id": "8a9d7a7c-242a-4ba1-ae98-2a5ac7ed8d22",
   "metadata": {},
   "outputs": [],
   "source": []
  },
  {
   "cell_type": "code",
   "execution_count": null,
   "id": "42a8bb11-e10a-4319-8050-2703af0e4d33",
   "metadata": {},
   "outputs": [],
   "source": []
  },
  {
   "cell_type": "code",
   "execution_count": null,
   "id": "7644335f-9a9e-49be-963a-6ed1ca22adf5",
   "metadata": {},
   "outputs": [],
   "source": []
  },
  {
   "cell_type": "markdown",
   "id": "2db2b285-c23f-4fd2-8e66-e20159e8e271",
   "metadata": {},
   "source": [
    "# Load Pre-Trained model"
   ]
  },
  {
   "cell_type": "code",
   "execution_count": null,
   "id": "b6f37089-e294-46c0-bc4a-ce3ae00300b5",
   "metadata": {
    "scrolled": true
   },
   "outputs": [],
   "source": [
    "ckpt_path = cfg.experiment.log_dir + f'checkpoints/{cfg.experiment.run_id}.ckpt'\n",
    "model = SurvivalExperiment.load_from_checkpoint(ckpt_path)"
   ]
  },
  {
   "cell_type": "markdown",
   "id": "53ae57fb-6ca7-4e7f-9b79-b99bb5a10b52",
   "metadata": {},
   "source": [
    "# Initialise fine-tuning data module"
   ]
  },
  {
   "cell_type": "code",
   "execution_count": 4,
   "id": "a8e90c2f-04c5-4f31-86f0-4f3800fa9325",
   "metadata": {
    "scrolled": true
   },
   "outputs": [
    {
     "name": "stderr",
     "output_type": "stream",
     "text": [
      "INFO:root:Using meta information from /rds/projects/g/gokhalkm-optimal/OPTIMAL_MASTER_DATASET/data/FoundationalModel/PreTrain/meta_information_QuantJenny.pickle\n",
      "INFO:root:Using train file-row count dictionary from /rds/projects/g/gokhalkm-optimal/OPTIMAL_MASTER_DATASET/data/FoundationalModel/FineTune_CVD_badoutcomelist/file_row_count_dict_train.pickle\n",
      "INFO:root:Using test file-row count dictionary from /rds/projects/g/gokhalkm-optimal/OPTIMAL_MASTER_DATASET/data/FoundationalModel/FineTune_CVD_badoutcomelist/file_row_count_dict_test.pickle\n",
      "INFO:root:Using val file-row count dictionary from /rds/projects/g/gokhalkm-optimal/OPTIMAL_MASTER_DATASET/data/FoundationalModel/FineTune_CVD_badoutcomelist/file_row_count_dict_val.pickle\n",
      "INFO:root:Tokenzier created based on 7,555,415,275 tokens\n",
      "INFO:root:Using tabular tokenizer, created from meta information and containing 265 tokens\n",
      "INFO:root:Loaded /rds/projects/g/gokhalkm-optimal/OPTIMAL_MASTER_DATASET/data/FoundationalModel/FineTune_CVD_badoutcomelist/split=train/ dataset, with 601,506 samples\n",
      "INFO:root:Loaded /rds/projects/g/gokhalkm-optimal/OPTIMAL_MASTER_DATASET/data/FoundationalModel/FineTune_CVD_badoutcomelist/split=test/ dataset, with 37,390 samples\n",
      "INFO:root:Loaded /rds/projects/g/gokhalkm-optimal/OPTIMAL_MASTER_DATASET/data/FoundationalModel/FineTune_CVD_badoutcomelist/split=val/ dataset, with 35,466 samples\n"
     ]
    },
    {
     "name": "stdout",
     "output_type": "stream",
     "text": [
      "265 vocab elements\n"
     ]
    }
   ],
   "source": [
    "# Update dataset path to point to the new dataset \n",
    "cfg.data.path_to_ds = \"/rds/projects/g/gokhalkm-optimal/OPTIMAL_MASTER_DATASET/data/FoundationalModel/FineTune_CVD_badoutcomelist/\"\n",
    "\n",
    "# Build \n",
    "dm = FoundationalDataModule(path_to_db=cfg.data.path_to_db,\n",
    "                            path_to_ds=cfg.data.path_to_ds,\n",
    "                            load=True,\n",
    "                            tokenizer=\"tabular\",\n",
    "                            batch_size=cfg.data.batch_size,\n",
    "                            max_seq_length=cfg.transformer.block_size,\n",
    "                            freq_threshold=cfg.data.unk_freq_threshold,\n",
    "                            min_workers=cfg.data.min_workers,\n",
    "                            overwrite_meta_information=cfg.data.meta_information_path,\n",
    "                           )\n",
    "\n",
    "vocab_size = dm.train_set.tokenizer.vocab_size\n",
    "print(f\"{vocab_size} vocab elements\")\n",
    "\n",
    "# list of univariate measurements to model with Normal distribution\n",
    "# Extract the measurements, using the fact that the diagnoses are all up upper case.\n",
    "measurements_for_univariate_regression = [record for record in dm.tokenizer._event_counts[\"EVENT\"] if record.upper() != record]\n",
    "cfg.head.tokens_for_univariate_regression = dm.encode(measurements_for_univariate_regression) \n",
    "# display(measurements_for_univariate_regression)"
   ]
  },
  {
   "cell_type": "code",
   "execution_count": 20,
   "id": "13a7a64a-4a5b-4811-847a-5ad8abe04c61",
   "metadata": {
    "scrolled": true
   },
   "outputs": [
    {
     "data": {
      "text/plain": [
       "{'COUNTRY=E/HEALTH_AUTH=London/PRACTICE_ID=20970/CHUNK=135/cbc791c7ef9b43cfaf4dbeea2624abb1-0.parquet': 69,\n",
       " 'COUNTRY=E/HEALTH_AUTH=London/PRACTICE_ID=20970/CHUNK=132/cbc791c7ef9b43cfaf4dbeea2624abb1-0.parquet': 39,\n",
       " 'COUNTRY=E/HEALTH_AUTH=London/PRACTICE_ID=20970/CHUNK=133/cbc791c7ef9b43cfaf4dbeea2624abb1-0.parquet': 250,\n",
       " 'COUNTRY=E/HEALTH_AUTH=London/PRACTICE_ID=20970/CHUNK=134/cbc791c7ef9b43cfaf4dbeea2624abb1-0.parquet': 250,\n",
       " 'COUNTRY=E/HEALTH_AUTH=London/PRACTICE_ID=21042/CHUNK=58/87a120eadabc4d95ae45ca9b8c79d017-0.parquet': 215,\n",
       " 'COUNTRY=E/HEALTH_AUTH=London/PRACTICE_ID=21042/CHUNK=59/87a120eadabc4d95ae45ca9b8c79d017-0.parquet': 250,\n",
       " 'COUNTRY=E/HEALTH_AUTH=London/PRACTICE_ID=21042/CHUNK=61/87a120eadabc4d95ae45ca9b8c79d017-0.parquet': 250,\n",
       " 'COUNTRY=E/HEALTH_AUTH=London/PRACTICE_ID=21042/CHUNK=62/87a120eadabc4d95ae45ca9b8c79d017-0.parquet': 250,\n",
       " 'COUNTRY=E/HEALTH_AUTH=London/PRACTICE_ID=21042/CHUNK=63/87a120eadabc4d95ae45ca9b8c79d017-0.parquet': 35,\n",
       " 'COUNTRY=E/HEALTH_AUTH=London/PRACTICE_ID=21042/CHUNK=60/87a120eadabc4d95ae45ca9b8c79d017-0.parquet': 250,\n",
       " 'COUNTRY=E/HEALTH_AUTH=London/PRACTICE_ID=21329/CHUNK=118/b6cede36925e46958b458f122588badd-0.parquet': 250,\n",
       " 'COUNTRY=E/HEALTH_AUTH=London/PRACTICE_ID=21329/CHUNK=117/b6cede36925e46958b458f122588badd-0.parquet': 1,\n",
       " 'COUNTRY=E/HEALTH_AUTH=London/PRACTICE_ID=21329/CHUNK=119/b6cede36925e46958b458f122588badd-0.parquet': 183,\n",
       " 'COUNTRY=E/HEALTH_AUTH=London/PRACTICE_ID=21212/CHUNK=80/cc7491729ae740f68844bfd611b67334-0.parquet': 174,\n",
       " 'COUNTRY=E/HEALTH_AUTH=London/PRACTICE_ID=21212/CHUNK=79/cc7491729ae740f68844bfd611b67334-0.parquet': 10,\n",
       " 'COUNTRY=E/HEALTH_AUTH=London/PRACTICE_ID=20810/CHUNK=111/d2a2044aad4f417ea03f8e602dff07d9-0.parquet': 119,\n",
       " 'COUNTRY=E/HEALTH_AUTH=London/PRACTICE_ID=20810/CHUNK=110/d2a2044aad4f417ea03f8e602dff07d9-0.parquet': 179,\n",
       " 'COUNTRY=E/HEALTH_AUTH=London/PRACTICE_ID=20409/CHUNK=116/b624aeda762240b19e176c8c633420b3-0.parquet': 212,\n",
       " 'COUNTRY=E/HEALTH_AUTH=London/PRACTICE_ID=20409/CHUNK=117/b624aeda762240b19e176c8c633420b3-0.parquet': 249,\n",
       " 'COUNTRY=E/HEALTH_AUTH=London/PRACTICE_ID=20112/CHUNK=77/4abfdf297a724d78856daef207acb4fb-0.parquet': 250,\n",
       " 'COUNTRY=E/HEALTH_AUTH=London/PRACTICE_ID=20112/CHUNK=78/4abfdf297a724d78856daef207acb4fb-0.parquet': 250,\n",
       " 'COUNTRY=E/HEALTH_AUTH=London/PRACTICE_ID=20112/CHUNK=79/4abfdf297a724d78856daef207acb4fb-0.parquet': 240,\n",
       " 'COUNTRY=E/HEALTH_AUTH=London/PRACTICE_ID=20112/CHUNK=75/4abfdf297a724d78856daef207acb4fb-0.parquet': 56,\n",
       " 'COUNTRY=E/HEALTH_AUTH=London/PRACTICE_ID=20112/CHUNK=76/4abfdf297a724d78856daef207acb4fb-0.parquet': 250,\n",
       " 'COUNTRY=E/HEALTH_AUTH=London/PRACTICE_ID=20079/CHUNK=159/026513a9bf344b16800ec3d45338946a-0.parquet': 159,\n",
       " 'COUNTRY=E/HEALTH_AUTH=London/PRACTICE_ID=20079/CHUNK=158/026513a9bf344b16800ec3d45338946a-0.parquet': 250,\n",
       " 'COUNTRY=E/HEALTH_AUTH=London/PRACTICE_ID=20079/CHUNK=157/026513a9bf344b16800ec3d45338946a-0.parquet': 190,\n",
       " 'COUNTRY=E/HEALTH_AUTH=London/PRACTICE_ID=20128/CHUNK=170/2e963d5e50d34cd6a78868d7c24cff86-0.parquet': 250,\n",
       " 'COUNTRY=E/HEALTH_AUTH=London/PRACTICE_ID=20128/CHUNK=169/2e963d5e50d34cd6a78868d7c24cff86-0.parquet': 86,\n",
       " 'COUNTRY=E/HEALTH_AUTH=London/PRACTICE_ID=20128/CHUNK=171/2e963d5e50d34cd6a78868d7c24cff86-0.parquet': 91,\n",
       " 'COUNTRY=E/HEALTH_AUTH=London/PRACTICE_ID=20921/CHUNK=116/1f4a9349b0e44aa3ae91735e2087c7cd-0.parquet': 38,\n",
       " 'COUNTRY=E/HEALTH_AUTH=London/PRACTICE_ID=20921/CHUNK=114/1f4a9349b0e44aa3ae91735e2087c7cd-0.parquet': 26,\n",
       " 'COUNTRY=E/HEALTH_AUTH=London/PRACTICE_ID=20921/CHUNK=115/1f4a9349b0e44aa3ae91735e2087c7cd-0.parquet': 250,\n",
       " 'COUNTRY=E/HEALTH_AUTH=London/PRACTICE_ID=21556/CHUNK=40/8aa46ca1577a476faa89df1213d2298b-0.parquet': 140,\n",
       " 'COUNTRY=E/HEALTH_AUTH=London/PRACTICE_ID=21556/CHUNK=41/8aa46ca1577a476faa89df1213d2298b-0.parquet': 250,\n",
       " 'COUNTRY=E/HEALTH_AUTH=London/PRACTICE_ID=21556/CHUNK=42/8aa46ca1577a476faa89df1213d2298b-0.parquet': 157,\n",
       " 'COUNTRY=E/HEALTH_AUTH=London/PRACTICE_ID=20108/CHUNK=9/3376721cb22d4b52b3526c2a400bf026-0.parquet': 123,\n",
       " 'COUNTRY=E/HEALTH_AUTH=London/PRACTICE_ID=20108/CHUNK=7/3376721cb22d4b52b3526c2a400bf026-0.parquet': 250,\n",
       " 'COUNTRY=E/HEALTH_AUTH=London/PRACTICE_ID=20108/CHUNK=6/3376721cb22d4b52b3526c2a400bf026-0.parquet': 5,\n",
       " 'COUNTRY=E/HEALTH_AUTH=London/PRACTICE_ID=20108/CHUNK=8/3376721cb22d4b52b3526c2a400bf026-0.parquet': 250,\n",
       " 'COUNTRY=E/HEALTH_AUTH=East Midlands/PRACTICE_ID=20041/CHUNK=33/8702e7eb40274c938c84cfa83ef4dbfd-0.parquet': 250,\n",
       " 'COUNTRY=E/HEALTH_AUTH=East Midlands/PRACTICE_ID=20041/CHUNK=34/8702e7eb40274c938c84cfa83ef4dbfd-0.parquet': 250,\n",
       " 'COUNTRY=E/HEALTH_AUTH=East Midlands/PRACTICE_ID=20041/CHUNK=35/8702e7eb40274c938c84cfa83ef4dbfd-0.parquet': 90,\n",
       " 'COUNTRY=E/HEALTH_AUTH=East Midlands/PRACTICE_ID=20041/CHUNK=32/8702e7eb40274c938c84cfa83ef4dbfd-0.parquet': 182,\n",
       " 'COUNTRY=E/HEALTH_AUTH=Yorkshire & The Humber/PRACTICE_ID=20038/CHUNK=38/ab03a7cb86c24c818c1ccb5f27a6ae0c-0.parquet': 199,\n",
       " 'COUNTRY=E/HEALTH_AUTH=West Midlands/PRACTICE_ID=20259/CHUNK=144/c280d6181e1d46adb52bb01d0c00ec9b-0.parquet': 250,\n",
       " 'COUNTRY=E/HEALTH_AUTH=West Midlands/PRACTICE_ID=20259/CHUNK=143/c280d6181e1d46adb52bb01d0c00ec9b-0.parquet': 230,\n",
       " 'COUNTRY=E/HEALTH_AUTH=West Midlands/PRACTICE_ID=20259/CHUNK=146/c280d6181e1d46adb52bb01d0c00ec9b-0.parquet': 250,\n",
       " 'COUNTRY=E/HEALTH_AUTH=West Midlands/PRACTICE_ID=20259/CHUNK=145/c280d6181e1d46adb52bb01d0c00ec9b-0.parquet': 250,\n",
       " 'COUNTRY=E/HEALTH_AUTH=West Midlands/PRACTICE_ID=20259/CHUNK=147/c280d6181e1d46adb52bb01d0c00ec9b-0.parquet': 122,\n",
       " 'COUNTRY=E/HEALTH_AUTH=West Midlands/PRACTICE_ID=21569/CHUNK=111/eef8baedbc654f2781c5bf033285e5f0-0.parquet': 131,\n",
       " 'COUNTRY=E/HEALTH_AUTH=West Midlands/PRACTICE_ID=21569/CHUNK=114/eef8baedbc654f2781c5bf033285e5f0-0.parquet': 224,\n",
       " 'COUNTRY=E/HEALTH_AUTH=West Midlands/PRACTICE_ID=21569/CHUNK=113/eef8baedbc654f2781c5bf033285e5f0-0.parquet': 250,\n",
       " 'COUNTRY=E/HEALTH_AUTH=West Midlands/PRACTICE_ID=21569/CHUNK=112/eef8baedbc654f2781c5bf033285e5f0-0.parquet': 250,\n",
       " 'COUNTRY=E/HEALTH_AUTH=West Midlands/PRACTICE_ID=20779/CHUNK=74/9cdb63e80cbd4223b2f71babd9776b61-0.parquet': 225,\n",
       " 'COUNTRY=E/HEALTH_AUTH=West Midlands/PRACTICE_ID=20779/CHUNK=75/9cdb63e80cbd4223b2f71babd9776b61-0.parquet': 194,\n",
       " 'COUNTRY=E/HEALTH_AUTH=West Midlands/PRACTICE_ID=20685/CHUNK=167/bd4fa75419ac475eb96c4b223c00b851-0.parquet': 250,\n",
       " 'COUNTRY=E/HEALTH_AUTH=West Midlands/PRACTICE_ID=20685/CHUNK=166/bd4fa75419ac475eb96c4b223c00b851-0.parquet': 53,\n",
       " 'COUNTRY=E/HEALTH_AUTH=West Midlands/PRACTICE_ID=20685/CHUNK=168/bd4fa75419ac475eb96c4b223c00b851-0.parquet': 250,\n",
       " 'COUNTRY=E/HEALTH_AUTH=West Midlands/PRACTICE_ID=20685/CHUNK=169/bd4fa75419ac475eb96c4b223c00b851-0.parquet': 164,\n",
       " 'COUNTRY=E/HEALTH_AUTH=West Midlands/PRACTICE_ID=20775/CHUNK=100/fa51ee27293f4cd9ba4cf98754846b97-0.parquet': 135,\n",
       " 'COUNTRY=E/HEALTH_AUTH=West Midlands/PRACTICE_ID=20904/CHUNK=45/5afa61aad7da474bb7cb82ca2641c1c0-0.parquet': 97,\n",
       " 'COUNTRY=E/HEALTH_AUTH=West Midlands/PRACTICE_ID=20904/CHUNK=52/5afa61aad7da474bb7cb82ca2641c1c0-0.parquet': 250,\n",
       " 'COUNTRY=E/HEALTH_AUTH=West Midlands/PRACTICE_ID=20904/CHUNK=46/5afa61aad7da474bb7cb82ca2641c1c0-0.parquet': 250,\n",
       " 'COUNTRY=E/HEALTH_AUTH=West Midlands/PRACTICE_ID=20904/CHUNK=53/5afa61aad7da474bb7cb82ca2641c1c0-0.parquet': 102,\n",
       " 'COUNTRY=E/HEALTH_AUTH=West Midlands/PRACTICE_ID=20904/CHUNK=47/5afa61aad7da474bb7cb82ca2641c1c0-0.parquet': 250,\n",
       " 'COUNTRY=E/HEALTH_AUTH=West Midlands/PRACTICE_ID=20904/CHUNK=50/5afa61aad7da474bb7cb82ca2641c1c0-0.parquet': 250,\n",
       " 'COUNTRY=E/HEALTH_AUTH=West Midlands/PRACTICE_ID=20904/CHUNK=51/5afa61aad7da474bb7cb82ca2641c1c0-0.parquet': 250,\n",
       " 'COUNTRY=E/HEALTH_AUTH=West Midlands/PRACTICE_ID=20904/CHUNK=48/5afa61aad7da474bb7cb82ca2641c1c0-0.parquet': 250,\n",
       " 'COUNTRY=E/HEALTH_AUTH=West Midlands/PRACTICE_ID=20904/CHUNK=49/5afa61aad7da474bb7cb82ca2641c1c0-0.parquet': 250,\n",
       " 'COUNTRY=E/HEALTH_AUTH=West Midlands/PRACTICE_ID=21235/CHUNK=57/6039cc7f71d3463283d041bbcc4c5242-0.parquet': 250,\n",
       " 'COUNTRY=E/HEALTH_AUTH=West Midlands/PRACTICE_ID=21235/CHUNK=58/6039cc7f71d3463283d041bbcc4c5242-0.parquet': 35,\n",
       " 'COUNTRY=E/HEALTH_AUTH=West Midlands/PRACTICE_ID=21235/CHUNK=56/6039cc7f71d3463283d041bbcc4c5242-0.parquet': 42,\n",
       " 'COUNTRY=E/HEALTH_AUTH=West Midlands/PRACTICE_ID=20980/CHUNK=101/8a64a64197134872917367c69653a02a-0.parquet': 250,\n",
       " 'COUNTRY=E/HEALTH_AUTH=West Midlands/PRACTICE_ID=20980/CHUNK=102/8a64a64197134872917367c69653a02a-0.parquet': 148,\n",
       " 'COUNTRY=E/HEALTH_AUTH=West Midlands/PRACTICE_ID=20980/CHUNK=100/8a64a64197134872917367c69653a02a-0.parquet': 82,\n",
       " 'COUNTRY=E/HEALTH_AUTH=West Midlands/PRACTICE_ID=20276/CHUNK=131/6145aecd956d430b839644b8c0f480ea-0.parquet': 250,\n",
       " 'COUNTRY=E/HEALTH_AUTH=West Midlands/PRACTICE_ID=20276/CHUNK=129/6145aecd956d430b839644b8c0f480ea-0.parquet': 110,\n",
       " 'COUNTRY=E/HEALTH_AUTH=West Midlands/PRACTICE_ID=20276/CHUNK=130/6145aecd956d430b839644b8c0f480ea-0.parquet': 250,\n",
       " 'COUNTRY=E/HEALTH_AUTH=West Midlands/PRACTICE_ID=20276/CHUNK=132/6145aecd956d430b839644b8c0f480ea-0.parquet': 211,\n",
       " 'COUNTRY=E/HEALTH_AUTH=West Midlands/PRACTICE_ID=21218/CHUNK=106/83d1d686203a4a0b9ee046487f03a08d-0.parquet': 175,\n",
       " 'COUNTRY=E/HEALTH_AUTH=West Midlands/PRACTICE_ID=21218/CHUNK=105/83d1d686203a4a0b9ee046487f03a08d-0.parquet': 75,\n",
       " 'COUNTRY=E/HEALTH_AUTH=West Midlands/PRACTICE_ID=21308/CHUNK=39/57073ca597be460d80bb043c38aee4b1-0.parquet': 137,\n",
       " 'COUNTRY=E/HEALTH_AUTH=West Midlands/PRACTICE_ID=21308/CHUNK=38/57073ca597be460d80bb043c38aee4b1-0.parquet': 41,\n",
       " 'COUNTRY=E/HEALTH_AUTH=West Midlands/PRACTICE_ID=21318/CHUNK=22/a71d0096435a4ac79b5cc1167b07d8c1-0.parquet': 250,\n",
       " 'COUNTRY=E/HEALTH_AUTH=West Midlands/PRACTICE_ID=21318/CHUNK=23/a71d0096435a4ac79b5cc1167b07d8c1-0.parquet': 83,\n",
       " 'COUNTRY=E/HEALTH_AUTH=West Midlands/PRACTICE_ID=21318/CHUNK=19/a71d0096435a4ac79b5cc1167b07d8c1-0.parquet': 250,\n",
       " 'COUNTRY=E/HEALTH_AUTH=West Midlands/PRACTICE_ID=21318/CHUNK=15/a71d0096435a4ac79b5cc1167b07d8c1-0.parquet': 250,\n",
       " 'COUNTRY=E/HEALTH_AUTH=West Midlands/PRACTICE_ID=21318/CHUNK=16/a71d0096435a4ac79b5cc1167b07d8c1-0.parquet': 250,\n",
       " 'COUNTRY=E/HEALTH_AUTH=West Midlands/PRACTICE_ID=21318/CHUNK=17/a71d0096435a4ac79b5cc1167b07d8c1-0.parquet': 250,\n",
       " 'COUNTRY=E/HEALTH_AUTH=West Midlands/PRACTICE_ID=21318/CHUNK=12/a71d0096435a4ac79b5cc1167b07d8c1-0.parquet': 123,\n",
       " 'COUNTRY=E/HEALTH_AUTH=West Midlands/PRACTICE_ID=21318/CHUNK=18/a71d0096435a4ac79b5cc1167b07d8c1-0.parquet': 250,\n",
       " 'COUNTRY=E/HEALTH_AUTH=West Midlands/PRACTICE_ID=21318/CHUNK=13/a71d0096435a4ac79b5cc1167b07d8c1-0.parquet': 250,\n",
       " 'COUNTRY=E/HEALTH_AUTH=West Midlands/PRACTICE_ID=21318/CHUNK=20/a71d0096435a4ac79b5cc1167b07d8c1-0.parquet': 250,\n",
       " 'COUNTRY=E/HEALTH_AUTH=West Midlands/PRACTICE_ID=21318/CHUNK=14/a71d0096435a4ac79b5cc1167b07d8c1-0.parquet': 250,\n",
       " 'COUNTRY=E/HEALTH_AUTH=West Midlands/PRACTICE_ID=21318/CHUNK=21/a71d0096435a4ac79b5cc1167b07d8c1-0.parquet': 250,\n",
       " 'COUNTRY=E/HEALTH_AUTH=West Midlands/PRACTICE_ID=21151/CHUNK=63/ba8ca3ec869945999ed16631dff4fb41-0.parquet': 215,\n",
       " 'COUNTRY=E/HEALTH_AUTH=West Midlands/PRACTICE_ID=21151/CHUNK=64/ba8ca3ec869945999ed16631dff4fb41-0.parquet': 208,\n",
       " 'COUNTRY=E/HEALTH_AUTH=South West/PRACTICE_ID=20869/CHUNK=65/69f352b7708b4485999ec5ed05ed3164-0.parquet': 250,\n",
       " 'COUNTRY=E/HEALTH_AUTH=South West/PRACTICE_ID=20869/CHUNK=66/69f352b7708b4485999ec5ed05ed3164-0.parquet': 250,\n",
       " 'COUNTRY=E/HEALTH_AUTH=South West/PRACTICE_ID=20869/CHUNK=67/69f352b7708b4485999ec5ed05ed3164-0.parquet': 250,\n",
       " 'COUNTRY=E/HEALTH_AUTH=South West/PRACTICE_ID=20869/CHUNK=68/69f352b7708b4485999ec5ed05ed3164-0.parquet': 250,\n",
       " 'COUNTRY=E/HEALTH_AUTH=South West/PRACTICE_ID=20869/CHUNK=64/69f352b7708b4485999ec5ed05ed3164-0.parquet': 42,\n",
       " 'COUNTRY=E/HEALTH_AUTH=South West/PRACTICE_ID=20877/CHUNK=96/f90611a7dad547e9a029dd945742260e-0.parquet': 250,\n",
       " 'COUNTRY=E/HEALTH_AUTH=South West/PRACTICE_ID=20877/CHUNK=97/f90611a7dad547e9a029dd945742260e-0.parquet': 141,\n",
       " 'COUNTRY=E/HEALTH_AUTH=South West/PRACTICE_ID=20877/CHUNK=95/f90611a7dad547e9a029dd945742260e-0.parquet': 247,\n",
       " 'COUNTRY=E/HEALTH_AUTH=South West/PRACTICE_ID=20918/CHUNK=106/cf36677525f34daa8e79569608480147-0.parquet': 75,\n",
       " 'COUNTRY=E/HEALTH_AUTH=South West/PRACTICE_ID=20918/CHUNK=108/cf36677525f34daa8e79569608480147-0.parquet': 167,\n",
       " 'COUNTRY=E/HEALTH_AUTH=South West/PRACTICE_ID=20918/CHUNK=107/cf36677525f34daa8e79569608480147-0.parquet': 250,\n",
       " 'COUNTRY=E/HEALTH_AUTH=South West/PRACTICE_ID=20222/CHUNK=27/2a76c88d2e3443129ebaa8e90293d9c0-0.parquet': 250,\n",
       " 'COUNTRY=E/HEALTH_AUTH=South West/PRACTICE_ID=20222/CHUNK=23/2a76c88d2e3443129ebaa8e90293d9c0-0.parquet': 167,\n",
       " 'COUNTRY=E/HEALTH_AUTH=South West/PRACTICE_ID=20222/CHUNK=30/2a76c88d2e3443129ebaa8e90293d9c0-0.parquet': 250,\n",
       " 'COUNTRY=E/HEALTH_AUTH=South West/PRACTICE_ID=20222/CHUNK=31/2a76c88d2e3443129ebaa8e90293d9c0-0.parquet': 250,\n",
       " 'COUNTRY=E/HEALTH_AUTH=South West/PRACTICE_ID=20222/CHUNK=28/2a76c88d2e3443129ebaa8e90293d9c0-0.parquet': 250,\n",
       " 'COUNTRY=E/HEALTH_AUTH=South West/PRACTICE_ID=20222/CHUNK=29/2a76c88d2e3443129ebaa8e90293d9c0-0.parquet': 250,\n",
       " 'COUNTRY=E/HEALTH_AUTH=South West/PRACTICE_ID=20222/CHUNK=24/2a76c88d2e3443129ebaa8e90293d9c0-0.parquet': 250,\n",
       " 'COUNTRY=E/HEALTH_AUTH=South West/PRACTICE_ID=20222/CHUNK=25/2a76c88d2e3443129ebaa8e90293d9c0-0.parquet': 250,\n",
       " 'COUNTRY=E/HEALTH_AUTH=South West/PRACTICE_ID=20222/CHUNK=32/2a76c88d2e3443129ebaa8e90293d9c0-0.parquet': 68,\n",
       " 'COUNTRY=E/HEALTH_AUTH=South West/PRACTICE_ID=20222/CHUNK=26/2a76c88d2e3443129ebaa8e90293d9c0-0.parquet': 250,\n",
       " 'COUNTRY=E/HEALTH_AUTH=South West/PRACTICE_ID=20577/CHUNK=69/d76a434d198448feb0af1a599a06301e-0.parquet': 250,\n",
       " 'COUNTRY=E/HEALTH_AUTH=South West/PRACTICE_ID=20577/CHUNK=70/d76a434d198448feb0af1a599a06301e-0.parquet': 250,\n",
       " 'COUNTRY=E/HEALTH_AUTH=South West/PRACTICE_ID=20577/CHUNK=71/d76a434d198448feb0af1a599a06301e-0.parquet': 38,\n",
       " 'COUNTRY=E/HEALTH_AUTH=South West/PRACTICE_ID=21367/CHUNK=140/aeb528529e3d4ae4bc901f158bcaf4bc-0.parquet': 233,\n",
       " 'COUNTRY=E/HEALTH_AUTH=South West/PRACTICE_ID=21367/CHUNK=143/aeb528529e3d4ae4bc901f158bcaf4bc-0.parquet': 20,\n",
       " 'COUNTRY=E/HEALTH_AUTH=South West/PRACTICE_ID=21367/CHUNK=141/aeb528529e3d4ae4bc901f158bcaf4bc-0.parquet': 250,\n",
       " 'COUNTRY=E/HEALTH_AUTH=South West/PRACTICE_ID=21367/CHUNK=142/aeb528529e3d4ae4bc901f158bcaf4bc-0.parquet': 250,\n",
       " 'COUNTRY=E/HEALTH_AUTH=South West/PRACTICE_ID=20228/CHUNK=129/412c3c6581084929b644077a5e2197f5-0.parquet': 122,\n",
       " 'COUNTRY=E/HEALTH_AUTH=South West/PRACTICE_ID=20215/CHUNK=73/8373aacd06ba471c880c55b24535e9f0-0.parquet': 250,\n",
       " 'COUNTRY=E/HEALTH_AUTH=South West/PRACTICE_ID=20215/CHUNK=74/8373aacd06ba471c880c55b24535e9f0-0.parquet': 25,\n",
       " 'COUNTRY=E/HEALTH_AUTH=South West/PRACTICE_ID=20215/CHUNK=71/8373aacd06ba471c880c55b24535e9f0-0.parquet': 212,\n",
       " 'COUNTRY=E/HEALTH_AUTH=South West/PRACTICE_ID=20215/CHUNK=72/8373aacd06ba471c880c55b24535e9f0-0.parquet': 250,\n",
       " 'COUNTRY=E/HEALTH_AUTH=South West/PRACTICE_ID=21402/CHUNK=85/65725db0e2fa4f6ab463211acb79c7a0-0.parquet': 192,\n",
       " 'COUNTRY=E/HEALTH_AUTH=South West/PRACTICE_ID=21402/CHUNK=86/65725db0e2fa4f6ab463211acb79c7a0-0.parquet': 250,\n",
       " 'COUNTRY=E/HEALTH_AUTH=South West/PRACTICE_ID=21402/CHUNK=87/65725db0e2fa4f6ab463211acb79c7a0-0.parquet': 2,\n",
       " 'COUNTRY=E/HEALTH_AUTH=South West/PRACTICE_ID=21021/CHUNK=97/fb169304fc1c448fb5341d47258ca8b4-0.parquet': 109,\n",
       " 'COUNTRY=E/HEALTH_AUTH=South West/PRACTICE_ID=21021/CHUNK=98/fb169304fc1c448fb5341d47258ca8b4-0.parquet': 250,\n",
       " 'COUNTRY=E/HEALTH_AUTH=South West/PRACTICE_ID=21021/CHUNK=99/fb169304fc1c448fb5341d47258ca8b4-0.parquet': 62,\n",
       " 'COUNTRY=E/HEALTH_AUTH=South West/PRACTICE_ID=20697/CHUNK=136/577c4525746a4c3e9f9b41d79cbfa4dc-0.parquet': 250,\n",
       " 'COUNTRY=E/HEALTH_AUTH=South West/PRACTICE_ID=20697/CHUNK=135/577c4525746a4c3e9f9b41d79cbfa4dc-0.parquet': 181,\n",
       " 'COUNTRY=E/HEALTH_AUTH=South West/PRACTICE_ID=20697/CHUNK=140/577c4525746a4c3e9f9b41d79cbfa4dc-0.parquet': 17,\n",
       " 'COUNTRY=E/HEALTH_AUTH=South West/PRACTICE_ID=20697/CHUNK=137/577c4525746a4c3e9f9b41d79cbfa4dc-0.parquet': 250,\n",
       " 'COUNTRY=E/HEALTH_AUTH=South West/PRACTICE_ID=20697/CHUNK=138/577c4525746a4c3e9f9b41d79cbfa4dc-0.parquet': 250,\n",
       " 'COUNTRY=E/HEALTH_AUTH=South West/PRACTICE_ID=20697/CHUNK=139/577c4525746a4c3e9f9b41d79cbfa4dc-0.parquet': 250,\n",
       " 'COUNTRY=E/HEALTH_AUTH=South West/PRACTICE_ID=20204/CHUNK=152/0367dec311b0418f9ca82f917d135267-0.parquet': 88,\n",
       " 'COUNTRY=E/HEALTH_AUTH=South West/PRACTICE_ID=20204/CHUNK=154/0367dec311b0418f9ca82f917d135267-0.parquet': 250,\n",
       " 'COUNTRY=E/HEALTH_AUTH=South West/PRACTICE_ID=20204/CHUNK=153/0367dec311b0418f9ca82f917d135267-0.parquet': 250,\n",
       " 'COUNTRY=E/HEALTH_AUTH=South West/PRACTICE_ID=20204/CHUNK=155/0367dec311b0418f9ca82f917d135267-0.parquet': 53,\n",
       " 'COUNTRY=E/HEALTH_AUTH=North West/PRACTICE_ID=20554/CHUNK=100/d792c7cce0784e66953d0bc5b979c801-0.parquet': 33,\n",
       " 'COUNTRY=E/HEALTH_AUTH=North West/PRACTICE_ID=20554/CHUNK=99/d792c7cce0784e66953d0bc5b979c801-0.parquet': 188,\n",
       " 'COUNTRY=E/HEALTH_AUTH=North West/PRACTICE_ID=21322/CHUNK=109/d0ab85a0dc0a4c40a8a0b6fb00fb3827-0.parquet': 250,\n",
       " 'COUNTRY=E/HEALTH_AUTH=North West/PRACTICE_ID=21322/CHUNK=108/d0ab85a0dc0a4c40a8a0b6fb00fb3827-0.parquet': 83,\n",
       " 'COUNTRY=E/HEALTH_AUTH=North West/PRACTICE_ID=21322/CHUNK=110/d0ab85a0dc0a4c40a8a0b6fb00fb3827-0.parquet': 71,\n",
       " 'COUNTRY=E/HEALTH_AUTH=North West/PRACTICE_ID=21169/CHUNK=125/43d71519fac648a4b8095d9b5749c1f0-0.parquet': 250,\n",
       " 'COUNTRY=E/HEALTH_AUTH=North West/PRACTICE_ID=21169/CHUNK=124/43d71519fac648a4b8095d9b5749c1f0-0.parquet': 250,\n",
       " 'COUNTRY=E/HEALTH_AUTH=North West/PRACTICE_ID=21169/CHUNK=126/43d71519fac648a4b8095d9b5749c1f0-0.parquet': 58,\n",
       " 'COUNTRY=E/HEALTH_AUTH=North West/PRACTICE_ID=21169/CHUNK=123/43d71519fac648a4b8095d9b5749c1f0-0.parquet': 82,\n",
       " 'COUNTRY=E/HEALTH_AUTH=North West/PRACTICE_ID=21174/CHUNK=10/bb22c19e155d49999f05e1d50633378f-0.parquet': 147,\n",
       " 'COUNTRY=E/HEALTH_AUTH=North West/PRACTICE_ID=21174/CHUNK=9/bb22c19e155d49999f05e1d50633378f-0.parquet': 127,\n",
       " 'COUNTRY=E/HEALTH_AUTH=North West/PRACTICE_ID=20815/CHUNK=151/a768050f85aa4fbeb786df882942aec9-0.parquet': 41,\n",
       " 'COUNTRY=E/HEALTH_AUTH=North West/PRACTICE_ID=20815/CHUNK=152/a768050f85aa4fbeb786df882942aec9-0.parquet': 162,\n",
       " 'COUNTRY=E/HEALTH_AUTH=North West/PRACTICE_ID=21128/CHUNK=10/58206321bd5e4395b797c6def5b3e5d0-0.parquet': 103,\n",
       " 'COUNTRY=E/HEALTH_AUTH=North West/PRACTICE_ID=21128/CHUNK=11/58206321bd5e4395b797c6def5b3e5d0-0.parquet': 250,\n",
       " 'COUNTRY=E/HEALTH_AUTH=North West/PRACTICE_ID=21128/CHUNK=12/58206321bd5e4395b797c6def5b3e5d0-0.parquet': 127,\n",
       " 'COUNTRY=E/HEALTH_AUTH=North West/PRACTICE_ID=21224/CHUNK=53/a1403bac069847ddb6fa18c03ef36e18-0.parquet': 148,\n",
       " 'COUNTRY=E/HEALTH_AUTH=North West/PRACTICE_ID=21224/CHUNK=54/a1403bac069847ddb6fa18c03ef36e18-0.parquet': 146,\n",
       " 'COUNTRY=E/HEALTH_AUTH=North West/PRACTICE_ID=21515/CHUNK=148/35f3d66294f842f9aaa976241cafdafd-0.parquet': 99,\n",
       " 'COUNTRY=E/HEALTH_AUTH=North West/PRACTICE_ID=21515/CHUNK=147/35f3d66294f842f9aaa976241cafdafd-0.parquet': 128,\n",
       " 'COUNTRY=E/HEALTH_AUTH=North West/PRACTICE_ID=20989/CHUNK=156/0467b235d1794669a1c5f1ba1c3d9452-0.parquet': 106,\n",
       " 'COUNTRY=E/HEALTH_AUTH=North West/PRACTICE_ID=20989/CHUNK=157/0467b235d1794669a1c5f1ba1c3d9452-0.parquet': 60,\n",
       " 'COUNTRY=E/HEALTH_AUTH=North West/PRACTICE_ID=21566/CHUNK=91/7575ce65aec54b82a9dc6b619536c592-0.parquet': 129,\n",
       " 'COUNTRY=E/HEALTH_AUTH=North West/PRACTICE_ID=21566/CHUNK=89/7575ce65aec54b82a9dc6b619536c592-0.parquet': 83,\n",
       " 'COUNTRY=E/HEALTH_AUTH=North West/PRACTICE_ID=21566/CHUNK=90/7575ce65aec54b82a9dc6b619536c592-0.parquet': 250,\n",
       " 'COUNTRY=E/HEALTH_AUTH=North West/PRACTICE_ID=21229/CHUNK=40/653b797054b146b1893ce418543e3c9a-0.parquet': 110,\n",
       " 'COUNTRY=E/HEALTH_AUTH=North West/PRACTICE_ID=21229/CHUNK=39/653b797054b146b1893ce418543e3c9a-0.parquet': 113,\n",
       " 'COUNTRY=E/HEALTH_AUTH=North West/PRACTICE_ID=21474/CHUNK=54/20a3ec7abe2e4a4b84fd7e65811940aa-0.parquet': 104,\n",
       " 'COUNTRY=E/HEALTH_AUTH=North West/PRACTICE_ID=21474/CHUNK=55/20a3ec7abe2e4a4b84fd7e65811940aa-0.parquet': 137,\n",
       " 'COUNTRY=E/HEALTH_AUTH=North East/PRACTICE_ID=20764/CHUNK=35/bdae84397a6046078007f213eeb43263-0.parquet': 160,\n",
       " 'COUNTRY=E/HEALTH_AUTH=North East/PRACTICE_ID=20764/CHUNK=36/bdae84397a6046078007f213eeb43263-0.parquet': 250,\n",
       " 'COUNTRY=E/HEALTH_AUTH=North East/PRACTICE_ID=20764/CHUNK=37/bdae84397a6046078007f213eeb43263-0.parquet': 250,\n",
       " 'COUNTRY=E/HEALTH_AUTH=North East/PRACTICE_ID=20764/CHUNK=38/bdae84397a6046078007f213eeb43263-0.parquet': 10,\n",
       " 'COUNTRY=E/HEALTH_AUTH=North East/PRACTICE_ID=20010/CHUNK=42/436e6132bed344629bba6204f347789a-0.parquet': 93,\n",
       " 'COUNTRY=E/HEALTH_AUTH=North East/PRACTICE_ID=20010/CHUNK=43/436e6132bed344629bba6204f347789a-0.parquet': 250,\n",
       " 'COUNTRY=E/HEALTH_AUTH=North East/PRACTICE_ID=20010/CHUNK=44/436e6132bed344629bba6204f347789a-0.parquet': 188,\n",
       " 'COUNTRY=E/HEALTH_AUTH=North East/PRACTICE_ID=20011/CHUNK=151/0347b9e80f104b8a84443d0cdfe31af3-0.parquet': 116,\n",
       " 'COUNTRY=E/HEALTH_AUTH=North East/PRACTICE_ID=21551/CHUNK=84/2f0eb86676ef490da4573f712c7ebfec-0.parquet': 250,\n",
       " 'COUNTRY=E/HEALTH_AUTH=North East/PRACTICE_ID=21551/CHUNK=85/2f0eb86676ef490da4573f712c7ebfec-0.parquet': 58,\n",
       " 'COUNTRY=E/HEALTH_AUTH=North East/PRACTICE_ID=21551/CHUNK=82/2f0eb86676ef490da4573f712c7ebfec-0.parquet': 106,\n",
       " 'COUNTRY=E/HEALTH_AUTH=North East/PRACTICE_ID=21551/CHUNK=83/2f0eb86676ef490da4573f712c7ebfec-0.parquet': 250,\n",
       " 'COUNTRY=E/HEALTH_AUTH=South East/PRACTICE_ID=21378/CHUNK=91/fdd6156522384b3eba6d9be235857679-0.parquet': 121,\n",
       " 'COUNTRY=E/HEALTH_AUTH=South East/PRACTICE_ID=21378/CHUNK=92/fdd6156522384b3eba6d9be235857679-0.parquet': 250,\n",
       " 'COUNTRY=E/HEALTH_AUTH=South East/PRACTICE_ID=21378/CHUNK=93/fdd6156522384b3eba6d9be235857679-0.parquet': 105,\n",
       " 'COUNTRY=E/HEALTH_AUTH=South East/PRACTICE_ID=20967/CHUNK=55/4a598accf8a948b888861c84602e7ee0-0.parquet': 113,\n",
       " 'COUNTRY=E/HEALTH_AUTH=South East/PRACTICE_ID=20967/CHUNK=56/4a598accf8a948b888861c84602e7ee0-0.parquet': 208,\n",
       " 'COUNTRY=E/HEALTH_AUTH=South East/PRACTICE_ID=21413/CHUNK=45/83514f1c49f54b21bbbe167c5a6caf64-0.parquet': 153,\n",
       " 'COUNTRY=E/HEALTH_AUTH=South East/PRACTICE_ID=21413/CHUNK=44/83514f1c49f54b21bbbe167c5a6caf64-0.parquet': 62,\n",
       " 'COUNTRY=E/HEALTH_AUTH=South East/PRACTICE_ID=20196/CHUNK=161/15fb0ab0110d46398051ccaaca009267-0.parquet': 115,\n",
       " 'COUNTRY=E/HEALTH_AUTH=South East/PRACTICE_ID=20196/CHUNK=162/15fb0ab0110d46398051ccaaca009267-0.parquet': 250,\n",
       " 'COUNTRY=E/HEALTH_AUTH=South East/PRACTICE_ID=20196/CHUNK=163/15fb0ab0110d46398051ccaaca009267-0.parquet': 250,\n",
       " 'COUNTRY=E/HEALTH_AUTH=South East/PRACTICE_ID=20196/CHUNK=164/15fb0ab0110d46398051ccaaca009267-0.parquet': 116,\n",
       " 'COUNTRY=E/HEALTH_AUTH=South East/PRACTICE_ID=20730/CHUNK=104/3be23aabfa914deb92e7fb64a2eab1d7-0.parquet': 250,\n",
       " 'COUNTRY=E/HEALTH_AUTH=South East/PRACTICE_ID=20730/CHUNK=105/3be23aabfa914deb92e7fb64a2eab1d7-0.parquet': 175,\n",
       " 'COUNTRY=E/HEALTH_AUTH=South East/PRACTICE_ID=20730/CHUNK=103/3be23aabfa914deb92e7fb64a2eab1d7-0.parquet': 250,\n",
       " 'COUNTRY=E/HEALTH_AUTH=South East/PRACTICE_ID=20730/CHUNK=102/3be23aabfa914deb92e7fb64a2eab1d7-0.parquet': 102,\n",
       " 'COUNTRY=E/HEALTH_AUTH=South East/PRACTICE_ID=21237/CHUNK=80/2e842caa94a34e34a228b285ab0f9169-0.parquet': 76,\n",
       " 'COUNTRY=E/HEALTH_AUTH=South East/PRACTICE_ID=21237/CHUNK=81/2e842caa94a34e34a228b285ab0f9169-0.parquet': 250,\n",
       " 'COUNTRY=E/HEALTH_AUTH=South East/PRACTICE_ID=21237/CHUNK=82/2e842caa94a34e34a228b285ab0f9169-0.parquet': 144,\n",
       " 'COUNTRY=E/HEALTH_AUTH=South East/PRACTICE_ID=20173/CHUNK=161/aab2da441a8b43dd8f5b6ebab8cb6566-0.parquet': 135,\n",
       " 'COUNTRY=E/HEALTH_AUTH=South East/PRACTICE_ID=20173/CHUNK=160/aab2da441a8b43dd8f5b6ebab8cb6566-0.parquet': 250,\n",
       " 'COUNTRY=E/HEALTH_AUTH=South East/PRACTICE_ID=20173/CHUNK=159/aab2da441a8b43dd8f5b6ebab8cb6566-0.parquet': 91,\n",
       " 'COUNTRY=E/HEALTH_AUTH=South East/PRACTICE_ID=21341/CHUNK=127/00ed9fc417934868b178570092377c2e-0.parquet': 250,\n",
       " 'COUNTRY=E/HEALTH_AUTH=South East/PRACTICE_ID=21341/CHUNK=128/00ed9fc417934868b178570092377c2e-0.parquet': 250,\n",
       " 'COUNTRY=E/HEALTH_AUTH=South East/PRACTICE_ID=21341/CHUNK=129/00ed9fc417934868b178570092377c2e-0.parquet': 18,\n",
       " 'COUNTRY=E/HEALTH_AUTH=South East/PRACTICE_ID=21341/CHUNK=126/00ed9fc417934868b178570092377c2e-0.parquet': 45,\n",
       " 'COUNTRY=E/HEALTH_AUTH=South East/PRACTICE_ID=20181/CHUNK=151/c6811db5a8994c9682880d3c3298997b-0.parquet': 93,\n",
       " 'COUNTRY=E/HEALTH_AUTH=South East/PRACTICE_ID=20181/CHUNK=149/c6811db5a8994c9682880d3c3298997b-0.parquet': 42,\n",
       " 'COUNTRY=E/HEALTH_AUTH=South East/PRACTICE_ID=20181/CHUNK=150/c6811db5a8994c9682880d3c3298997b-0.parquet': 250,\n",
       " 'COUNTRY=E/HEALTH_AUTH=South East/PRACTICE_ID=21578/CHUNK=156/53370f0707e94ecb8356acb72a64a6b7-0.parquet': 144,\n",
       " 'COUNTRY=E/HEALTH_AUTH=South East/PRACTICE_ID=21578/CHUNK=155/53370f0707e94ecb8356acb72a64a6b7-0.parquet': 197,\n",
       " 'COUNTRY=E/HEALTH_AUTH=South East/PRACTICE_ID=20457/CHUNK=5/e087827d6f684d90a469849d1826259c-0.parquet': 250,\n",
       " 'COUNTRY=E/HEALTH_AUTH=South East/PRACTICE_ID=20457/CHUNK=4/e087827d6f684d90a469849d1826259c-0.parquet': 235,\n",
       " 'COUNTRY=E/HEALTH_AUTH=South East/PRACTICE_ID=20457/CHUNK=6/e087827d6f684d90a469849d1826259c-0.parquet': 245,\n",
       " 'COUNTRY=E/HEALTH_AUTH=South East/PRACTICE_ID=21443/CHUNK=126/2914f3eaf7fa4d65adb843b25dac78ab-0.parquet': 147,\n",
       " 'COUNTRY=E/HEALTH_AUTH=South East/PRACTICE_ID=20446/CHUNK=172/af97f24233fd4df597a5c5e8b64f3d2a-0.parquet': 142,\n",
       " 'COUNTRY=E/HEALTH_AUTH=South East/PRACTICE_ID=20446/CHUNK=171/af97f24233fd4df597a5c5e8b64f3d2a-0.parquet': 159,\n",
       " 'COUNTRY=E/HEALTH_AUTH=South East/PRACTICE_ID=21094/CHUNK=89/b3a2d296f04f455ea91ed15608d623a2-0.parquet': 167,\n",
       " 'COUNTRY=E/HEALTH_AUTH=South East/PRACTICE_ID=21094/CHUNK=87/b3a2d296f04f455ea91ed15608d623a2-0.parquet': 248,\n",
       " 'COUNTRY=E/HEALTH_AUTH=South East/PRACTICE_ID=21094/CHUNK=88/b3a2d296f04f455ea91ed15608d623a2-0.parquet': 250,\n",
       " 'COUNTRY=E/HEALTH_AUTH=South East/PRACTICE_ID=20597/CHUNK=93/185f1f191f1f42398f411fa6cb4c0db8-0.parquet': 145,\n",
       " 'COUNTRY=E/HEALTH_AUTH=South East/PRACTICE_ID=20597/CHUNK=94/185f1f191f1f42398f411fa6cb4c0db8-0.parquet': 250,\n",
       " 'COUNTRY=E/HEALTH_AUTH=South East/PRACTICE_ID=20597/CHUNK=95/185f1f191f1f42398f411fa6cb4c0db8-0.parquet': 3,\n",
       " 'COUNTRY=E/HEALTH_AUTH=South East/PRACTICE_ID=20797/CHUNK=166/550fc698477b40ac87e686fdcaeb98b2-0.parquet': 197,\n",
       " 'COUNTRY=E/HEALTH_AUTH=South East/PRACTICE_ID=20797/CHUNK=164/550fc698477b40ac87e686fdcaeb98b2-0.parquet': 134,\n",
       " 'COUNTRY=E/HEALTH_AUTH=South East/PRACTICE_ID=20797/CHUNK=165/550fc698477b40ac87e686fdcaeb98b2-0.parquet': 250,\n",
       " 'COUNTRY=E/HEALTH_AUTH=South East/PRACTICE_ID=20720/CHUNK=148/6315ec5fe0d94502b9f7c911535c5883-0.parquet': 151,\n",
       " 'COUNTRY=E/HEALTH_AUTH=South East/PRACTICE_ID=20720/CHUNK=149/6315ec5fe0d94502b9f7c911535c5883-0.parquet': 208,\n",
       " 'COUNTRY=E/HEALTH_AUTH=South East/PRACTICE_ID=20924/CHUNK=2/3c51086ff59247f09f0a30ea408ec5a0-0.parquet': 250,\n",
       " 'COUNTRY=E/HEALTH_AUTH=South East/PRACTICE_ID=20924/CHUNK=0/3c51086ff59247f09f0a30ea408ec5a0-0.parquet': 250,\n",
       " 'COUNTRY=E/HEALTH_AUTH=South East/PRACTICE_ID=20924/CHUNK=4/3c51086ff59247f09f0a30ea408ec5a0-0.parquet': 15,\n",
       " 'COUNTRY=E/HEALTH_AUTH=South East/PRACTICE_ID=20924/CHUNK=1/3c51086ff59247f09f0a30ea408ec5a0-0.parquet': 250,\n",
       " 'COUNTRY=E/HEALTH_AUTH=South East/PRACTICE_ID=20924/CHUNK=3/3c51086ff59247f09f0a30ea408ec5a0-0.parquet': 250,\n",
       " 'COUNTRY=E/HEALTH_AUTH=South East/PRACTICE_ID=21532/CHUNK=121/7773a02c8f944ee2bb0f47d2d717b5f5-0.parquet': 250,\n",
       " 'COUNTRY=E/HEALTH_AUTH=South East/PRACTICE_ID=21532/CHUNK=122/7773a02c8f944ee2bb0f47d2d717b5f5-0.parquet': 250,\n",
       " 'COUNTRY=E/HEALTH_AUTH=South East/PRACTICE_ID=21532/CHUNK=119/7773a02c8f944ee2bb0f47d2d717b5f5-0.parquet': 67,\n",
       " 'COUNTRY=E/HEALTH_AUTH=South East/PRACTICE_ID=21532/CHUNK=120/7773a02c8f944ee2bb0f47d2d717b5f5-0.parquet': 250,\n",
       " 'COUNTRY=E/HEALTH_AUTH=South East/PRACTICE_ID=21532/CHUNK=123/7773a02c8f944ee2bb0f47d2d717b5f5-0.parquet': 168}"
      ]
     },
     "metadata": {},
     "output_type": "display_data"
    }
   ],
   "source": [
    "# import pickle as pkl\n",
    "# import pathlib\n",
    "\n",
    "pkl_file_to_amend = \"/rds/projects/g/gokhalkm-optimal/OPTIMAL_MASTER_DATASET/data/FoundationalModel/FineTune_CVD/file_row_count_dict_test.pickle\"\n",
    "\n",
    "with open(pkl_file_to_amend, 'rb') as pickle_file:\n",
    "    content = pickle.load(pickle_file)\n",
    "display(content)\n",
    "\n",
    "# new_dictionary = {}\n",
    "# for key in content.keys():\n",
    "#     str_to_remove = \"/rds/projects/g/gokhalkm-optimal/OPTIMAL_MASTER_DATASET/data/FoundationalModel/FineTune_CVD/split=val/\"\n",
    "#     new_key = str(key)[len(str_to_remove):]\n",
    "#     new_dictionary[new_key] = content[key]\n",
    "# display(new_dictionary)\n",
    "\n",
    "\n",
    "# with open(pkl_file_to_amend, 'wb') as handle:\n",
    "#     pickle.dump(new_dictionary, handle, protocol=pickle.HIGHEST_PROTOCOL)\n"
   ]
  },
  {
   "cell_type": "code",
   "execution_count": null,
   "id": "39e3bd66-0f95-4d0f-9e85-b05bf609037e",
   "metadata": {},
   "outputs": [],
   "source": [
    "# new_dictionary"
   ]
  },
  {
   "cell_type": "code",
   "execution_count": 5,
   "id": "3a3a45cf-dcbe-4d66-a8fa-34fcc1e4a4de",
   "metadata": {
    "scrolled": true
   },
   "outputs": [
    {
     "name": "stdout",
     "output_type": "stream",
     "text": [
      "batch loaded in 104.21096539497375 seconds\n"
     ]
    }
   ],
   "source": [
    "start = time.time()   # starting time\n",
    "for batch in dm.train_dataloader():\n",
    "    break\n",
    "print(f\"batch loaded in {time.time()-start} seconds\")    \n",
    "    \n",
    "# for key in batch.keys():\n",
    "#     print(f\"{key}\".ljust(20) + f\"{batch[key].shape}\")\n",
    "\n",
    "# tokens = batch[\"tokens\"][0].tolist()    \n",
    "# sentence = dm.decode(tokens).split(\" \")\n",
    "# for token, value in zip(sentence, batch[\"values\"][0].tolist()):\n",
    "#     print(f\"{token}:\".ljust(40) + f\"{value}\")"
   ]
  },
  {
   "cell_type": "code",
   "execution_count": 16,
   "id": "85a4c5b5-2121-4d10-8f8e-11a88ed16cc3",
   "metadata": {},
   "outputs": [
    {
     "data": {
      "text/plain": [
       "dict_keys(['static_covariates', 'tokens', 'ages', 'values', 'attention_mask', 'target_token', 'target_age_delta', 'target_value'])"
      ]
     },
     "metadata": {},
     "output_type": "display_data"
    },
    {
     "name": "stderr",
     "output_type": "stream",
     "text": [
      "WARNING:root:This batch has already been converted to none-causal. Skipping conversion.\n"
     ]
    },
    {
     "data": {
      "text/plain": [
       "dict_keys(['static_covariates', 'tokens', 'ages', 'values', 'attention_mask', 'target_token', 'target_age_delta', 'target_value'])"
      ]
     },
     "metadata": {},
     "output_type": "display_data"
    },
    {
     "name": "stdout",
     "output_type": "stream",
     "text": [
      "torch.Size([1022, 16])\n",
      "{'SEX': OneHotEncoder(), 'IMD': OneHotEncoder(), 'ETHNICITY': OneHotEncoder()}\n",
      "[array(['F', 'I', 'M'], dtype=object)]\n",
      "[array([ 1.,  2.,  3.,  4.,  5., nan])]\n",
      "[array(['ASIAN', 'BLACK', 'MISSING', 'MIXED', 'OTHER', 'WHITE'],\n",
      "      dtype=object)]\n"
     ]
    }
   ],
   "source": [
    "display(batch.keys())\n",
    "display(convert_batch_to_none_causal(batch).keys())\n",
    "\n",
    "print(batch[\"static_covariates\"].shape)\n",
    "\n",
    "print(dm.train_set.static_1hot)\n",
    "print(dm.train_set.static_1hot[\"SEX\"].categories_)\n",
    "print(dm.train_set.static_1hot[\"IMD\"].categories_)\n",
    "print(dm.train_set.static_1hot[\"ETHNICITY\"].categories_)"
   ]
  },
  {
   "cell_type": "markdown",
   "id": "60e3e15f-1b7c-466b-825e-a84100d224a0",
   "metadata": {},
   "source": [
    "## View an example sample"
   ]
  },
  {
   "cell_type": "code",
   "execution_count": 9,
   "id": "16aa22fa-ef08-485f-a948-c4ff8b3aade5",
   "metadata": {
    "scrolled": true
   },
   "outputs": [
    {
     "name": "stdout",
     "output_type": "stream",
     "text": [
      "SEX\n",
      "IMD\n",
      "ETHNICITY\n",
      "Time to retrieve sample index 11003 was 0.22292256355285645 seconds\n",
      "\n",
      "SEX                 | M\n",
      "IMD                 | 4.0\n",
      "ETHNICITY           | WHITE\n",
      "birth_year          | 1959.0\n",
      "Sequence of 128 events\n",
      "\n",
      "Token                                                                      | Age               | Standardised value\n",
      "===================================================================================================================\n",
      "Pregabalin_Optimal                                                         | 21650             | nan               \n",
      "Diastolic_blood_pressure_5                                                 | 21663             | -0.29             \n",
      "International_normalised_ratio_82                                          | 21663             | -0.49             \n",
      "Systolic_blood_pressure_4                                                  | 21663             | -0.12             \n",
      "Anticonvulsants_OPTIMAL                                                    | 21670             | nan               \n",
      "Pregabalin_Optimal                                                         | 21670             | nan               \n",
      "SSRIs_Optimal                                                              | 21670             | nan               \n",
      "Warfarin_                                                                  | 21670             | nan               \n",
      "Weak_Opioids_Final                                                         | 21670             | nan               \n",
      "Diastolic_blood_pressure_5                                                 | 21672             | -0.30             \n",
      "Ex_smoker_84                                                               | 21672             | nan               \n",
      "Systolic_blood_pressure_4                                                  | 21672             | -0.15             \n",
      "ARBs_Luyuan                                                                | 21672             | nan               \n",
      "GFR_calculated_abbreviated_MDRD_34                                         | 21684             | -0.23             \n",
      "Haemoglobin_A1c_level___IFCC_standardised_6                                | 21684             | -0.32             \n",
      "International_normalised_ratio_82                                          | 21684             | -0.48             \n",
      "Non_HDL_cholesterol_level_108                                              | 21684             | 0.20              \n",
      "Serum_HDL_cholesterol_level_100                                            | 21684             | -0.16             \n",
      "Serum_cholesterol_97                                                       | 21684             | -0.42             \n",
      "Serum_cholesterol_HDL_ratio_94                                             | 21684             | -0.49             \n",
      "Serum_creatinine_31                                                        | 21684             | -0.49             \n",
      "Serum_potassium_26                                                         | 21684             | -0.07             \n",
      "Serum_sodium_24                                                            | 21684             | -0.03             \n",
      "Serum_triglycerides_105                                                    | 21684             | -0.46             \n",
      "Serum_urea_level_29                                                        | 21684             | 0.12              \n",
      "Anticonvulsants_OPTIMAL                                                    | 21687             | nan               \n",
      "CalciumChannelBlck_D2T                                                     | 21687             | nan               \n",
      "Pregabalin_Optimal                                                         | 21687             | nan               \n",
      "SABA_PUSHAsthma                                                            | 21687             | nan               \n",
      "SSRIs_Optimal                                                              | 21687             | nan               \n",
      "Weak_Opioids_Final                                                         | 21687             | nan               \n",
      "Diastolic_blood_pressure_5                                                 | 21698             | -0.34             \n",
      "Haemoglobin_A1c_level___IFCC_standardised_6                                | 21698             | -0.33             \n",
      "International_normalised_ratio_82                                          | 21698             | -0.48             \n",
      "Systolic_blood_pressure_4                                                  | 21698             | -0.20             \n",
      "Anticonvulsants_OPTIMAL                                                    | 21715             | nan               \n",
      "Pregabalin_Optimal                                                         | 21715             | nan               \n",
      "International_normalised_ratio_82                                          | 21719             | -0.49             \n",
      "International_normalised_ratio_82                                          | 21726             | -0.48             \n",
      "ARBs_Luyuan                                                                | 21726             | nan               \n",
      "Anticonvulsants_OPTIMAL                                                    | 21726             | nan               \n",
      "Pregabalin_Optimal                                                         | 21726             | nan               \n",
      "SSRIs_Optimal                                                              | 21726             | nan               \n",
      "Warfarin_                                                                  | 21726             | nan               \n",
      "International_normalised_ratio_82                                          | 21740             | -0.49             \n",
      "International_normalised_ratio_82                                          | 21751             | -0.48             \n",
      "Anticonvulsants_OPTIMAL                                                    | 21751             | nan               \n",
      "CalciumChannelBlck_D2T                                                     | 21751             | nan               \n",
      "Pregabalin_Optimal                                                         | 21751             | nan               \n",
      "SSRIs_Optimal                                                              | 21751             | nan               \n",
      "Warfarin_                                                                  | 21751             | nan               \n",
      "Warfarin_                                                                  | 21751             | nan               \n",
      "Weak_Opioids_Final                                                         | 21751             | nan               \n",
      "International_normalised_ratio_82                                          | 21765             | -0.47             \n",
      "International_normalised_ratio_82                                          | 21771             | -0.48             \n",
      "Anticonvulsants_OPTIMAL                                                    | 21779             | nan               \n",
      "Pregabalin_Optimal                                                         | 21779             | nan               \n",
      "SSRIs_Optimal                                                              | 21782             | nan               \n",
      "Weak_Opioids_Final                                                         | 21782             | nan               \n",
      "International_normalised_ratio_82                                          | 21786             | -0.46             \n",
      "CalciumChannelBlck_D2T                                                     | 21786             | nan               \n",
      "International_normalised_ratio_82                                          | 21792             | -0.46             \n",
      "International_normalised_ratio_82                                          | 21798             | -0.47             \n",
      "ARBs_Luyuan                                                                | 21799             | nan               \n",
      "International_normalised_ratio_82                                          | 21806             | -0.48             \n",
      "Anticonvulsants_OPTIMAL                                                    | 21810             | nan               \n",
      "Pregabalin_Optimal                                                         | 21810             | nan               \n",
      "SSRIs_Optimal                                                              | 21810             | nan               \n",
      "Weak_Opioids_Final                                                         | 21810             | nan               \n",
      "International_normalised_ratio_82                                          | 21820             | -0.47             \n",
      "International_normalised_ratio_82                                          | 21827             | -0.49             \n",
      "International_normalised_ratio_82                                          | 21838             | -0.49             \n",
      "Anticonvulsants_OPTIMAL                                                    | 21839             | nan               \n",
      "CalciumChannelBlck_D2T                                                     | 21839             | nan               \n",
      "Pregabalin_Optimal                                                         | 21839             | nan               \n",
      "SSRIs_Optimal                                                              | 21839             | nan               \n",
      "Warfarin_                                                                  | 21839             | nan               \n",
      "International_normalised_ratio_82                                          | 21846             | -0.48             \n",
      "ARBs_Luyuan                                                                | 21853             | nan               \n",
      "International_normalised_ratio_82                                          | 21854             | -0.49             \n",
      "International_normalised_ratio_82                                          | 21861             | -0.49             \n",
      "International_normalised_ratio_82                                          | 21867             | -0.49             \n",
      "Anticonvulsants_OPTIMAL                                                    | 21869             | nan               \n",
      "Pregabalin_Optimal                                                         | 21869             | nan               \n",
      "SSRIs_Optimal                                                              | 21869             | nan               \n",
      "International_normalised_ratio_82                                          | 21875             | -0.49             \n",
      "International_normalised_ratio_82                                          | 21883             | -0.49             \n",
      "International_normalised_ratio_82                                          | 21889             | -0.49             \n",
      "SSRIs_Optimal                                                              | 21896             | nan               \n",
      "Warfarin_                                                                  | 21896             | nan               \n",
      "Weak_Opioids_Final                                                         | 21896             | nan               \n",
      "International_normalised_ratio_82                                          | 21897             | -0.49             \n",
      "ARBs_Luyuan                                                                | 21902             | nan               \n",
      "Anticonvulsants_OPTIMAL                                                    | 21902             | nan               \n",
      "Pregabalin_Optimal                                                         | 21902             | nan               \n",
      "International_normalised_ratio_82                                          | 21903             | -0.48             \n",
      "Basophil_count_22                                                          | 21909             | -0.48             \n",
      "Eosinophil_count_21                                                        | 21909             | -0.47             \n",
      "GFR_calculated_abbreviated_MDRD_34                                         | 21909             | -0.20             \n",
      "Haemoglobin_A1c_level___IFCC_standardised_6                                | 21909             | -0.35             \n",
      "Haemoglobin_estimation_9                                                   | 21909             | -0.00             \n",
      "International_normalised_ratio_82                                          | 21909             | -0.48             \n",
      "Lymphocyte_count_20                                                        | 21909             | -0.49             \n",
      "Mean_corpusc_haemoglobin_MCH__13                                           | 21909             | -0.20             \n",
      "Mean_corpuscular_volume__MCV__11                                           | 21909             | -0.15             \n",
      "Monocyte_count_23                                                          | 21909             | -0.47             \n",
      "Neutrophil_count_19                                                        | 21909             | -0.46             \n",
      "Non_HDL_cholesterol_level_108                                              | 21909             | 0.05              \n",
      "Platelet_count_12                                                          | 21909             | -0.50             \n",
      "Red_blood_cell__RBC__count_10                                              | 21909             | -0.49             \n",
      "Red_blood_cell_distribution_width_17                                       | 21909             | -0.48             \n",
      "Serum_HDL_cholesterol_level_100                                            | 21909             | -0.19             \n",
      "Serum_LDL_cholesterol_level_102                                            | 21909             | -0.40             \n",
      "Serum_cholesterol_97                                                       | 21909             | -0.44             \n",
      "Serum_cholesterol_HDL_ratio_94                                             | 21909             | -0.49             \n",
      "Serum_creatinine_31                                                        | 21909             | -0.49             \n",
      "Serum_potassium_26                                                         | 21909             | -0.06             \n",
      "Serum_sodium_24                                                            | 21909             | -0.05             \n",
      "Serum_triglycerides_105                                                    | 21909             | -0.49             \n",
      "Serum_urea_level_29                                                        | 21909             | 0.16              \n",
      "Total_white_cell_count_18                                                  | 21909             | -0.50             \n",
      "International_normalised_ratio_82                                          | 21916             | -0.48             \n",
      "CalciumChannelBlck_D2T                                                     | 21924             | nan               \n",
      "SSRIs_Optimal                                                              | 21924             | nan               \n",
      "Weak_Opioids_Final                                                         | 21924             | nan               \n",
      "International_normalised_ratio_82                                          | 21929             | -0.46             \n",
      "TYPE2DIABETES                                                              | 21930             | nan               \n",
      "Weak_Opioids_Final                                                         | 22045             | nan               \n"
     ]
    }
   ],
   "source": [
    "dm.test_set.view_sample(11003, max_dynamic_events=None, report_time=True)"
   ]
  },
  {
   "cell_type": "markdown",
   "id": "d1943eec-f491-4a94-92d9-65b9cedbd433",
   "metadata": {},
   "source": [
    "# Custom wrapper prediction last token\n",
    "\n",
    "To begin with, I will just loop over samples individually to test the zero-shot capacity of SurvivEHR. "
   ]
  },
  {
   "cell_type": "code",
   "execution_count": null,
   "id": "439343da-a813-4ffa-b0a6-26074e80d11e",
   "metadata": {
    "scrolled": true
   },
   "outputs": [],
   "source": [
    "\n",
    "\n",
    "# Verifying on datamodule \n",
    "for _idx, batch in enumerate(dm.test_dataloader()):\n",
    "    if _idx > 10:\n",
    "        break\n",
    "    print(_idx)\n",
    "    print(torch.stack([batch[\"tokens\"][10,:5], \n",
    "                       batch[\"values\"][10,:5],  \n",
    "                       batch[\"ages\"][10,:5],\n",
    "                       batch[\"attention_mask\"][10,:5]]))\n",
    "    batch = replace_last_non_pad_with_pad(batch)\n",
    "    print(torch.stack([batch[\"tokens\"][10,:5], \n",
    "                       batch[\"values\"][10,:5],  \n",
    "                       batch[\"ages\"][10,:5],\n",
    "                       batch[\"attention_mask\"][10,:5]]))"
   ]
  },
  {
   "cell_type": "code",
   "execution_count": null,
   "id": "f2c069ad-f41d-420e-819e-cf2c5a390baf",
   "metadata": {},
   "outputs": [],
   "source": [
    "outcome_of_interest = [\"COPD\", \"SUBSTANCEMISUSE\"]\n",
    "outcome_token = dm.encode(outcome_of_interest)[0]\n",
    "print(outcome_token)\n",
    "# print(model(batch))"
   ]
  },
  {
   "cell_type": "code",
   "execution_count": null,
   "id": "e17f35b1-02d3-4db9-b376-ca44d9c1f770",
   "metadata": {
    "scrolled": true
   },
   "outputs": [],
   "source": [
    "Hs, labels = [], []\n",
    "mins,maxes=[],[]\n",
    "for _idx, batch in enumerate(dm.test_dataloader()):\n",
    "\n",
    "    batch = replace_last_non_pad_with_pad(batch)\n",
    "    print(batch[\"tokens\".shape)\n",
    "    outputs, _, hidden_states = model(batch, is_generation=True)\n",
    "    print(outputs)\n",
    "    \n",
    "    hidden_states = hidden_states.cpu().detach().numpy()                           # (64, 128, 384) \n",
    "    Hs.append( hidden_states.reshape(hidden_states.shape[0], -1) )\n",
    "    labels.append((batch[\"target_token\"] == outcome_token).long().numpy())\n",
    "\n",
    "    if _idx == 9:\n",
    "        break\n",
    "\n"
   ]
  },
  {
   "cell_type": "markdown",
   "id": "fc2bf156-cc66-4276-8c8d-23caec948e2d",
   "metadata": {},
   "source": [
    "# Visualise hidden dimension labelled by target"
   ]
  },
  {
   "cell_type": "code",
   "execution_count": null,
   "id": "5a2d857d-dbb0-487b-8278-42c04bcbea15",
   "metadata": {},
   "outputs": [],
   "source": [
    "import umap\n",
    "from sklearn.preprocessing import StandardScaler\n",
    "\n",
    "H = np.concatenate(Hs, 0)\n",
    "lbl = np.concatenate(labels, 0)\n",
    "\n",
    "H = StandardScaler().fit_transform(H)\n",
    "reducer = umap.UMAP()\n",
    "H_proj = reducer.fit_transform(H)\n",
    "\n",
    "plt.close()\n",
    "plt.scatter(H_proj[:,0], H_proj[:,1], c=lbl)\n",
    "plt.savefig(save_path + f\"zero_shot/hidden_umap.png\")"
   ]
  },
  {
   "cell_type": "code",
   "execution_count": null,
   "id": "ea5e686a-ebe9-43d4-8a14-b88df279ca9d",
   "metadata": {},
   "outputs": [],
   "source": [
    "print(outputs[\"surv\"][\"surv_CDF\"][outcome_token].shape)\n",
    "\n",
    "# The first two tokens in the vocab correspond to the PAD and UNK tokens. There is no CDF corresponding to the PAD token, so the indexing for surv_CDF begins as [\"UNK\", \"ADDISONS_DISEASE\", ...]\n",
    "# print(dm.decode([0,1,2]))\n",
    "\n",
    "outcomes = [\"COPD\", \"SUBSTANCEMISUSE\"]\n",
    "outcome_tokens = dm.encode(outcomes)\n",
    "\n",
    "# for outcome in outcomes:\n",
    "    # observed_outcome_token = dm.encode([outcome])[0]\n",
    "cdf = np.zeros_like(outputs[\"surv\"][\"surv_CDF\"][0])\n",
    "lbls = np.zeros_like(batch[\"target_token\"])\n",
    "\n",
    "for _outcome_token in outcome_tokens:\n",
    "    cdf += outputs[\"surv\"][\"surv_CDF\"][_outcome_token - 1] \n",
    "    lbls += (batch[\"target_token\"] == _outcome_token).long().numpy()\n",
    "\n",
    "plt.close()\n",
    "cdf_true = cdf[lbls==1,:]\n",
    "cdf_false = cdf[lbls==0,:]\n",
    "for i in range(cdf_true.shape[0]):\n",
    "    plt.plot(np.linspace(1,1826,1826), cdf_true[i,:], c=\"r\", label=\"outcome occurred next\" if i == 0 else None, alpha=1)\n",
    "for i in range(cdf_false.shape[0]):\n",
    "    plt.plot(np.linspace(1,1826,1826), cdf_false[i,:], c=\"k\", label=\"outcome did not occur next\" if i == 0 else None, alpha=0.3)\n",
    "\n",
    "plt.legend(loc=2)\n",
    "plt.xlabel(\"days\")\n",
    "plt.ylabel(f\"P(t>T) - outcomes={','.join(outcomes)}\")\n",
    "plt.savefig(save_path + f\"zero_shot/cdf_outcomes.png\")"
   ]
  },
  {
   "cell_type": "code",
   "execution_count": null,
   "id": "619c2049-56bc-47ff-bcea-ce2e529266e2",
   "metadata": {},
   "outputs": [],
   "source": [
    "print(batch[\"target_token\"].unique())\n",
    "print(len(outputs[\"surv\"][\"surv_CDF\"]))"
   ]
  },
  {
   "cell_type": "code",
   "execution_count": null,
   "id": "ecb3417a-d3c7-42f9-b288-82ab49ddb69b",
   "metadata": {},
   "outputs": [],
   "source": [
    "dm.decode([2])"
   ]
  },
  {
   "cell_type": "code",
   "execution_count": null,
   "id": "90115137-0805-4f93-877b-2d98e51439d0",
   "metadata": {},
   "outputs": [],
   "source": [
    "outputs[\"surv\"][\"surv_CDF\"][observed_outcome_token - 1]"
   ]
  },
  {
   "cell_type": "code",
   "execution_count": null,
   "id": "9bacadcc-f857-45e2-94e8-0ca43ccbd196",
   "metadata": {},
   "outputs": [],
   "source": []
  }
 ],
 "metadata": {
  "kernelspec": {
   "display_name": "Python",
   "language": "python",
   "name": "sys_python"
  },
  "language_info": {
   "codemirror_mode": {
    "name": "ipython",
    "version": 3
   },
   "file_extension": ".py",
   "mimetype": "text/x-python",
   "name": "python",
   "nbconvert_exporter": "python",
   "pygments_lexer": "ipython3",
   "version": "3.10.4"
  }
 },
 "nbformat": 4,
 "nbformat_minor": 5
}
