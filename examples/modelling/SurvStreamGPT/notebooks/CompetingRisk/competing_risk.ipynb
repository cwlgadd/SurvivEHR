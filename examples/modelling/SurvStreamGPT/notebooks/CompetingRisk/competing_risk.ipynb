{
 "cells": [
  {
   "cell_type": "markdown",
   "metadata": {
    "id": "wJpXpmjEYC_T"
   },
   "source": [
    "# Demo Notebook:\n",
    "## Competing Risk Survival Transformer For Causal Sequence Modelling \n",
    "\n",
    "Including time, tabular values"
   ]
  },
  {
   "cell_type": "code",
   "execution_count": 4,
   "metadata": {},
   "outputs": [
    {
     "name": "stdout",
     "output_type": "stream",
     "text": [
      "Added path '/rds/homes/g/gaddcz/Projects/CPRD/virtual-envTorch2.0-icelake/lib/python3.10/site-packages' at start of search paths.\n",
      "/rds/homes/g/gaddcz/Projects/CPRD/examples/modelling/SurvStreamGPT/notebooks/CompetingRisk\n",
      "The autoreload extension is already loaded. To reload it, use:\n",
      "  %reload_ext autoreload\n"
     ]
    }
   ],
   "source": [
    "import os\n",
    "from pathlib import Path\n",
    "import sys\n",
    "node_type = os.getenv('BB_CPU')\n",
    "venv_dir = f'/rds/homes/g/gaddcz/Projects/CPRD/virtual-envTorch2.0-{node_type}'\n",
    "venv_site_pkgs = Path(venv_dir) / 'lib' / f'python{sys.version_info.major}.{sys.version_info.minor}' / 'site-packages'\n",
    "if venv_site_pkgs.exists():\n",
    "    sys.path.insert(0, str(venv_site_pkgs))\n",
    "    print(f\"Added path '{venv_site_pkgs}' at start of search paths.\")\n",
    "else:\n",
    "    print(f\"Path '{venv_site_pkgs}' not found. Check that it exists and/or that it exists for node-type '{node_type}'.\")\n",
    "\n",
    "!pwd\n",
    "\n",
    "%load_ext autoreload\n",
    "%autoreload 2"
   ]
  },
  {
   "cell_type": "code",
   "execution_count": 5,
   "metadata": {},
   "outputs": [
    {
     "name": "stdout",
     "output_type": "stream",
     "text": [
      "Using device: cuda.\n"
     ]
    }
   ],
   "source": [
    "import torch\n",
    "import numpy as np\n",
    "import matplotlib.pyplot as plt\n",
    "import logging\n",
    "from pycox.evaluation import EvalSurv\n",
    "from tqdm import tqdm\n",
    "from hydra import compose, initialize\n",
    "from omegaconf import OmegaConf\n",
    "from CPRD.examples.modelling.SurvStreamGPT.experiment import run\n",
    "from CPRD.data.foundational_loader import FoundationalDataModule\n",
    "from CPRD.src.models.survival.task_heads.causal import SurvStreamGPTForCausalModelling\n",
    "\n",
    "torch.manual_seed(1337)\n",
    "torch.set_float32_matmul_precision('medium')\n",
    "\n",
    "logging.basicConfig(level=logging.INFO)\n",
    "device = 'cuda' if torch.cuda.is_available() else 'cpu'\n",
    "# device = \"cpu\"    # if more informative debugging statements are needed\n",
    "print(f\"Using device: {device}.\")"
   ]
  },
  {
   "cell_type": "markdown",
   "metadata": {},
   "source": [
    "# Demo Version of SurvStreamGPT"
   ]
  },
  {
   "cell_type": "markdown",
   "metadata": {},
   "source": [
    "## Build configurations"
   ]
  },
  {
   "cell_type": "code",
   "execution_count": 30,
   "metadata": {
    "scrolled": true
   },
   "outputs": [],
   "source": [
    "# load the configuration file, override any settings \n",
    "with initialize(version_base=None, config_path=\"../../confs\", job_name=\"testing_notebook\"):\n",
    "    cfg = compose(config_name=\"config_CompetingRisk129M\", overrides=[])\n",
    "\n",
    "\n",
    "# cfg.data.batch_size = 16\n",
    "# cfg.transformer.block_size = 32\n",
    "# # cfg.transformer.n_layer = 10"
   ]
  },
  {
   "cell_type": "code",
   "execution_count": 31,
   "metadata": {},
   "outputs": [
    {
     "name": "stdout",
     "output_type": "stream",
     "text": [
      "is_decoder: true\n",
      "data:\n",
      "  batch_size: 64\n",
      "  unk_freq_threshold: 0.0\n",
      "  min_workers: 20\n",
      "experiment:\n",
      "  project_name: SurvStreamGPT_${head.SurvLayer}\n",
      "  run_id: PreTrain_${head.SurvLayer}_129M_${experiment.seed}\n",
      "  train: true\n",
      "  test: true\n",
      "  verbose: true\n",
      "  seed: 1337\n",
      "  log: true\n",
      "  log_dir: /rds/projects/s/subramaa-mum-predict/CharlesGadd_Oxford/FoundationModelOutput/\n",
      "  ckpt_dir: /rds/projects/s/subramaa-mum-predict/CharlesGadd_Oxford/FoundationModelOutput/checkpoints/\n",
      "optim:\n",
      "  num_epochs: 1\n",
      "  learning_rate: 0.0001\n",
      "  val_check_interval: 1000\n",
      "  early_stop_patience: 5\n",
      "  log_every_n_steps: 20\n",
      "  limit_val_batches: 0.05\n",
      "  limit_test_batches: 0.05\n",
      "transformer:\n",
      "  block_type: Neo\n",
      "  block_size: 128\n",
      "  n_layer: 10\n",
      "  n_head: 8\n",
      "  n_embd: 1024\n",
      "  layer_norm_bias: false\n",
      "  attention_type: global\n",
      "  bias: true\n",
      "  dropout: 0.2\n",
      "  attention_dropout: 0.2\n",
      "  resid_dropout: 0.2\n",
      "head:\n",
      "  SurvLayer: cr\n",
      "  surv_weight: 0.5\n",
      "  tokens_for_univariate_regression: None\n",
      "  value_weight: 0.5\n",
      "\n"
     ]
    }
   ],
   "source": [
    "print(OmegaConf.to_yaml(cfg))"
   ]
  },
  {
   "cell_type": "code",
   "execution_count": 32,
   "metadata": {
    "scrolled": true
   },
   "outputs": [
    {
     "name": "stdout",
     "output_type": "stream",
     "text": [
      "env: SLURM_NTASKS_PER_NODE=28\n"
     ]
    }
   ],
   "source": [
    " # TODO: define an env variable to fix for a local hpc environment issue, this shouldn't be needed\n",
    "%env SLURM_NTASKS_PER_NODE=28      \n",
    "\n",
    "# TODO: with above this trains, but due to widgets issue on hpc it does not print progress to notebook\n",
    "# cfg.experiment.train = False\n",
    "# cfg.experiment.test = False\n",
    "# cfg.experiment.log = False\n",
    "# model, dm = run(cfg)     \n"
   ]
  },
  {
   "cell_type": "markdown",
   "metadata": {},
   "source": [
    "## Or define training process by hand\n",
    "### Create data loader"
   ]
  },
  {
   "cell_type": "code",
   "execution_count": 33,
   "metadata": {},
   "outputs": [
    {
     "name": "stderr",
     "output_type": "stream",
     "text": [
      "INFO:root:Loading Polars dataset from /rds/projects/g/gokhalkm-optimal/OPTIMAL_MASTER_DATASET/data/polars/\n",
      "INFO:root:Using tokenizer tabular\n",
      "INFO:root:Tokenzier created based on 3584.43M tokens\n",
      "INFO:root:Creating split=train/ dataset\n",
      "INFO:root:\t Loading split=train/ hash map for parquet\n",
      "INFO:root:\t Hash map created for split=train/ with 22,912,046 samples\n",
      "INFO:root:Creating split=test/ dataset\n",
      "INFO:root:\t Loading split=test/ hash map for parquet\n",
      "INFO:root:\t Hash map created for split=test/ with 1,207,449 samples\n",
      "INFO:root:Creating split=val/ dataset\n",
      "INFO:root:\t Loading split=val/ hash map for parquet\n",
      "INFO:root:\t Hash map created for split=val/ with 1,226,576 samples\n"
     ]
    },
    {
     "name": "stdout",
     "output_type": "stream",
     "text": [
      "184 vocab elements\n"
     ]
    }
   ],
   "source": [
    "# Build \n",
    "path_to_db = \"/rds/projects/g/gokhalkm-optimal/OPTIMAL_MASTER_DATASET/data/\"\n",
    "dm = FoundationalDataModule(path_to_db=path_to_db,\n",
    "                            load=True,\n",
    "                            tokenizer=\"tabular\",\n",
    "                            batch_size=cfg.data.batch_size,\n",
    "                            max_seq_length=cfg.transformer.block_size,\n",
    "                            unk_freq_threshold=cfg.data.unk_freq_threshold,\n",
    "                            min_workers=cfg.data.min_workers,\n",
    "                            inclusion_conditions=[\"COUNTRY = 'E'\"],\n",
    "                           )\n",
    "\n",
    "vocab_size = dm.train_set.tokenizer.vocab_size\n",
    "print(f\"{vocab_size} vocab elements\")\n",
    "\n",
    "# list of univariate measurements to model with Normal distribution\n",
    "# Extract the measurements, using the fact that the diagnoses are all up upper case.\n",
    "measurements_for_univariate_regression = [record for record in dm.tokenizer._event_counts[\"EVENT\"] if record.upper() != record]\n",
    "cfg.head.tokens_for_univariate_regression = dm.encode(measurements_for_univariate_regression) \n",
    "# display(measurements_for_univariate_regression)\n"
   ]
  },
  {
   "cell_type": "code",
   "execution_count": 42,
   "metadata": {},
   "outputs": [
    {
     "name": "stdout",
     "output_type": "stream",
     "text": [
      "Time to retrieve sample index 1000 was 0.23534679412841797 seconds\n",
      "\n",
      "SEX                 | F\n",
      "IMD                 | 3.0\n",
      "ETHNICITY           | WHITE\n",
      "birth_year          | 1966.0\n",
      "\n",
      "Token                                                                      | Age               | Standardised value\n",
      "===================================================================================================================\n",
      "PSORIASIS                                                                  | 535               | nan               \n",
      "ULCERATIVE_COLITIS                                                         | 9179              | nan               \n",
      "DEPRESSION                                                                 | 9614              | nan               \n",
      "ANXIETY                                                                    | 9614              | nan               \n",
      "CROHNS_DISEASE                                                             | 10590             | nan               \n",
      "Serum_free_T4_level_75                                                     | 15603             | 0.08              \n",
      "Total_white_cell_count_18                                                  | 15603             | -0.21             \n",
      "Diastolic_blood_pressure_5                                                 | 15618             | 0.22              \n",
      "Systolic_blood_pressure_4                                                  | 15618             | 0.07              \n",
      "Diastolic_blood_pressure_5                                                 | 15636             | 0.22              \n",
      "Systolic_blood_pressure_4                                                  | 15636             | -0.03             \n",
      "Basophil_count_22                                                          | 15859             | -0.05             \n",
      "Eosinophil_count_21                                                        | 15859             | 0.17              \n",
      "Haematocrit_15                                                             | 15859             | -0.10             \n",
      "Haemoglobin_estimation_9                                                   | 15859             | nan               \n",
      "Lymphocyte_count_20                                                        | 15859             | 0.10              \n",
      "Mean_corpusc_Hb_conc__MCHC__14                                             | 15859             | nan               \n",
      "Mean_corpusc_haemoglobin_MCH__13                                           | 15859             | -0.24             \n",
      "Mean_corpuscular_volume__MCV__11                                           | 15859             | -0.15             \n",
      "Monocyte_count_23                                                          | 15859             | -0.02             \n",
      "Neutrophil_count_19                                                        | 15859             | 0.00              \n",
      "Platelet_count_12                                                          | 15859             | 0.19              \n",
      "Red_blood_cell__RBC__count_10                                              | 15859             | -0.02             \n",
      "Total_white_cell_count_18                                                  | 15859             | 0.03              \n",
      "Body_mass_index_3                                                          | 15993             | 0.04              \n",
      "Diastolic_blood_pressure_5                                                 | 15993             | 0.15              \n",
      "O_E___height_1                                                             | 15993             | 0.08              \n",
      "O_E___weight_2                                                             | 15993             | 0.09              \n",
      "Systolic_blood_pressure_4                                                  | 15993             | -0.13             \n",
      "Diastolic_blood_pressure_5                                                 | 16300             | 0.04              \n",
      "Systolic_blood_pressure_4                                                  | 16300             | 0.17              \n",
      "Diastolic_blood_pressure_5                                                 | 16642             | 0.13              \n",
      "Systolic_blood_pressure_4                                                  | 16642             | 0.12              \n",
      "Basophil_count_22                                                          | 16684             | 0.22              \n",
      "Eosinophil_count_21                                                        | 16684             | -0.07             \n",
      "Erythrocyte_sedimentation_rate_61                                          | 16684             | -0.07             \n",
      "Haematocrit_15                                                             | 16684             | -0.04             \n",
      "Haemoglobin_estimation_9                                                   | 16684             | nan               \n",
      "Lymphocyte_count_20                                                        | 16684             | 0.18              \n",
      "Mean_corpusc_Hb_conc__MCHC__14                                             | 16684             | nan               \n",
      "Mean_corpusc_haemoglobin_MCH__13                                           | 16684             | 0.10              \n",
      "Mean_corpuscular_volume__MCV__11                                           | 16684             | 0.00              \n",
      "Monocyte_count_23                                                          | 16684             | 0.13              \n",
      "Neutrophil_count_19                                                        | 16684             | 0.19              \n",
      "Platelet_count_12                                                          | 16684             | 0.06              \n",
      "Red_blood_cell__RBC__count_10                                              | 16684             | -0.07             \n",
      "Total_white_cell_count_18                                                  | 16684             | 0.21              \n",
      "Body_mass_index_3                                                          | 17092             | -0.03             \n",
      "Diastolic_blood_pressure_5                                                 | 17092             | 0.04              \n",
      "O_E___height_1                                                             | 17092             | 0.08              \n",
      "O_E___weight_2                                                             | 17092             | 0.03              \n",
      "Systolic_blood_pressure_4                                                  | 17092             | 0.07              \n",
      "Diastolic_blood_pressure_5                                                 | 17111             | 0.04              \n",
      "Systolic_blood_pressure_4                                                  | 17111             | 0.17              \n",
      "Diastolic_blood_pressure_5                                                 | 17195             | 0.31              \n",
      "Systolic_blood_pressure_4                                                  | 17195             | 0.12              \n",
      "Diastolic_blood_pressure_5                                                 | 17385             | 0.22              \n",
      "Systolic_blood_pressure_4                                                  | 17385             | 0.07              \n",
      "Body_mass_index_3                                                          | 17560             | 0.15              \n",
      "Body_mass_index_3                                                          | 17560             | 0.16              \n",
      "Diastolic_blood_pressure_5                                                 | 17560             | 0.22              \n",
      "O_E___height_1                                                             | 17560             | 0.08              \n",
      "O_E___weight_2                                                             | 17560             | 0.19              \n",
      "Systolic_blood_pressure_4                                                  | 17560             | 0.07              \n",
      "Basophil_count_22                                                          | 17562             | 0.34              \n",
      "Eosinophil_count_21                                                        | 17562             | 0.00              \n",
      "GFR_calculated_abbreviated_MDRD_34                                         | 17562             | 0.25              \n",
      "Haematocrit_15                                                             | 17562             | -0.13             \n",
      "Haemoglobin_estimation_9                                                   | 17562             | -0.07             \n",
      "Lymphocyte_count_20                                                        | 17562             | 0.24              \n",
      "Mean_corpusc_haemoglobin_MCH__13                                           | 17562             | 0.02              \n",
      "Mean_corpuscular_volume__MCV__11                                           | 17562             | -0.04             \n",
      "Monocyte_count_23                                                          | 17562             | 0.24              \n",
      "Neutrophil_count_19                                                        | 17562             | 0.14              \n",
      "Platelet_count_12                                                          | 17562             | 0.05              \n",
      "Red_blood_cell__RBC__count_10                                              | 17562             | -0.10             \n",
      "Serum_HDL_cholesterol_level_100                                            | 17562             | -0.10             \n",
      "Serum_LDL_cholesterol_level_102                                            | 17562             | 0.06              \n",
      "Serum_TSH_level_71                                                         | 17562             | -0.08             \n",
      "Serum_alanine_aminotransferase_level_45                                    | 17562             | -0.07             \n",
      "Serum_albumin_51                                                           | 17562             | -0.09             \n",
      "Serum_cholesterol_97                                                       | 17562             | 0.12              \n",
      "Serum_cholesterol_HDL_ratio_94                                             | 17562             | 0.22              \n",
      "Serum_creatinine_31                                                        | 17562             | -0.17             \n",
      "Serum_free_T4_level_75                                                     | 17562             | -0.01             \n",
      "Serum_gamma_glutamyl_transferase_level_57                                  | 17562             | -0.04             \n",
      "Serum_potassium_26                                                         | 17562             | -0.13             \n",
      "Serum_sodium_24                                                            | 17562             | 0.06              \n",
      "Serum_total_bilirubin_level_56                                             | 17562             | -0.31             \n",
      "Serum_triglycerides_105                                                    | 17562             | 0.41              \n",
      "Serum_urea_level_29                                                        | 17562             | 0.14              \n",
      "Total_white_cell_count_18                                                  | 17562             | 0.22              \n",
      "Diastolic_blood_pressure_5                                                 | 17736             | 0.32              \n",
      "Systolic_blood_pressure_4                                                  | 17736             | 0.12              \n",
      "Basophil_count_22                                                          | 17737             | 0.30              \n",
      "Eosinophil_count_21                                                        | 17737             | 0.06              \n",
      "GFR_calculated_abbreviated_MDRD_34                                         | 17737             | 0.24              \n",
      "Haematocrit_15                                                             | 17737             | 0.17              \n",
      "Haemoglobin_estimation_9                                                   | 17737             | 0.08              \n",
      "Lymphocyte_count_20                                                        | 17737             | 0.18              \n",
      "Mean_corpusc_haemoglobin_MCH__13                                           | 17737             | -0.06             \n",
      "Mean_corpuscular_volume__MCV__11                                           | 17737             | 0.07              \n",
      "Monocyte_count_23                                                          | 17737             | -0.01             \n",
      "Neutrophil_count_19                                                        | 17737             | 0.18              \n",
      "Platelet_count_12                                                          | 17737             | 0.11              \n",
      "Red_blood_cell__RBC__count_10                                              | 17737             | 0.11              \n",
      "Serum_C_reactive_protein_level_59                                          | 17737             | 0.31              \n",
      "Serum_HDL_cholesterol_level_100                                            | 17737             | -0.10             \n",
      "Serum_LDL_cholesterol_level_102                                            | 17737             | 0.12              \n",
      "Serum_TSH_level_71                                                         | 17737             | 0.04              \n",
      "Serum_alanine_aminotransferase_level_45                                    | 17737             | 0.10              \n",
      "Serum_albumin_51                                                           | 17737             | 0.06              \n",
      "Serum_cholesterol_97                                                       | 17737             | 0.17              \n",
      "Serum_cholesterol_HDL_ratio_94                                             | 17737             | 0.25              \n",
      "Serum_creatinine_31                                                        | 17737             | -0.16             \n",
      "Serum_free_T4_level_75                                                     | 17737             | 0.01              \n",
      "Serum_gamma_glutamyl_transferase_level_57                                  | 17737             | -0.02             \n",
      "Serum_potassium_26                                                         | 17737             | 0.04              \n",
      "Serum_sodium_24                                                            | 17737             | 0.20              \n",
      "Serum_total_bilirubin_level_56                                             | 17737             | -0.08             \n",
      "Serum_triglycerides_105                                                    | 17737             | 0.38              \n",
      "Serum_urea_level_29                                                        | 17737             | -0.00             \n",
      "Total_white_cell_count_18                                                  | 17737             | 0.20              \n",
      "Body_mass_index_3                                                          | 17745             | 0.16              \n",
      "Diastolic_blood_pressure_5                                                 | 17745             | 0.22              \n",
      "Systolic_blood_pressure_4                                                  | 17745             | 0.07              \n",
      "Basophil_count_22                                                          | 17791             | 0.22              \n",
      "Eosinophil_count_21                                                        | 17791             | 0.06              \n"
     ]
    }
   ],
   "source": [
    "dm.train_set.view_sample(1000, report_time=True) # max_dynamic_events=120,\n",
    "\n",
    "# import time\n",
    "# start_time = time.time()\n",
    "# for _idx, batch in enumerate(tqdm(dm.train_dataloader())):\n",
    "#     if _idx > 100:\n",
    "#         break\n",
    "# print(time.time() - start_time)\n",
    "# print(dm.meta_information.keys())\n"
   ]
  },
  {
   "cell_type": "markdown",
   "metadata": {},
   "source": [
    "### Train"
   ]
  },
  {
   "cell_type": "code",
   "execution_count": 14,
   "metadata": {
    "colab": {
     "base_uri": "https://localhost:8080/"
    },
    "id": "hoelkOrFY8bN",
    "outputId": "961304cd-e379-40d4-dd56-8de0b91d2861",
    "scrolled": true
   },
   "outputs": [
    {
     "name": "stderr",
     "output_type": "stream",
     "text": [
      "INFO:root:Using Temporal Positional Encoding. This module uses the patient's age at an event within their time series.\n",
      "INFO:root:Using Competing-Risk DeSurv head.\n",
      "INFO:root:Internally scaling time in survival head by 1825 days\n",
      "INFO:root:In generation forwarding DeSurv on the grid between [0.0, 1825.0] with 1826 intervals of delta=1.0\n"
     ]
    },
    {
     "name": "stdout",
     "output_type": "stream",
     "text": [
      "Training model with 129.024283 M parameters\n"
     ]
    },
    {
     "name": "stderr",
     "output_type": "stream",
     "text": [
      "Training epoch 0:   0%|          | 1001/358001 [05:57<35:24:23,  2.80it/s]\n",
      "Validation epoch 0:   1%|          | 101/19166 [00:23<1:14:17,  4.28it/s]\n"
     ]
    },
    {
     "name": "stdout",
     "output_type": "stream",
     "text": [
      "Epoch 0:\tTrain loss -0.71: (1.43, -2.85). Val loss -2.85: (0.64, -6.35)\n"
     ]
    },
    {
     "name": "stderr",
     "output_type": "stream",
     "text": [
      "Training epoch 1:   0%|          | 667/358001 [03:59<35:39:33,  2.78it/s]\n",
      "Exception ignored in: <function _MultiProcessingDataLoaderIter.__del__ at 0x7f0f23f7c4c0>\n",
      "Traceback (most recent call last):\n",
      "  File \"/rds/bear-apps/2022a/EL8-ice/software/PyTorch/2.0.1-foss-2022a-CUDA-11.7.0/lib/python3.10/site-packages/torch/utils/data/dataloader.py\", line 1478, in __del__\n",
      "  File \"/rds/bear-apps/2022a/EL8-ice/software/PyTorch/2.0.1-foss-2022a-CUDA-11.7.0/lib/python3.10/site-packages/torch/utils/data/dataloader.py\", line 1442, in _shutdown_workers\n",
      "    w.join(timeout=_utils.MP_STATUS_CHECK_INTERVAL)\n",
      "  File \"/rds/bear-apps/2022a/EL8-ice/software/Python/3.10.4-GCCcore-11.3.0/lib/python3.10/multiprocessing/process.py\", line 149, in join\n",
      "    res = self._popen.wait(timeout)\n",
      "  File \"/rds/bear-apps/2022a/EL8-ice/software/Python/3.10.4-GCCcore-11.3.0/lib/python3.10/multiprocessing/popen_fork.py\", line 40, in wait\n",
      "    if not wait([self.sentinel], timeout):\n",
      "  File \"/rds/bear-apps/2022a/EL8-ice/software/Python/3.10.4-GCCcore-11.3.0/lib/python3.10/multiprocessing/connection.py\", line 936, in wait\n",
      "    ready = selector.select(timeout)\n",
      "  File \"/rds/bear-apps/2022a/EL8-ice/software/Python/3.10.4-GCCcore-11.3.0/lib/python3.10/selectors.py\", line 416, in select\n",
      "    fd_event_list = self._selector.poll(timeout)\n",
      "KeyboardInterrupt: \n"
     ]
    },
    {
     "ename": "KeyboardInterrupt",
     "evalue": "",
     "output_type": "error",
     "traceback": [
      "\u001b[0;31m---------------------------------------------------------------------------\u001b[0m",
      "\u001b[0;31mKeyboardInterrupt\u001b[0m                         Traceback (most recent call last)",
      "Cell \u001b[0;32mIn [14], line 25\u001b[0m\n\u001b[1;32m     20\u001b[0m model\u001b[38;5;241m.\u001b[39mtrain()\n\u001b[1;32m     21\u001b[0m \u001b[38;5;28;01mfor\u001b[39;00m i, batch \u001b[38;5;129;01min\u001b[39;00m tqdm(\u001b[38;5;28menumerate\u001b[39m(dm\u001b[38;5;241m.\u001b[39mtrain_dataloader()), desc\u001b[38;5;241m=\u001b[39m\u001b[38;5;124mf\u001b[39m\u001b[38;5;124m\"\u001b[39m\u001b[38;5;124mTraining epoch \u001b[39m\u001b[38;5;132;01m{\u001b[39;00mepoch\u001b[38;5;132;01m}\u001b[39;00m\u001b[38;5;124m\"\u001b[39m, total\u001b[38;5;241m=\u001b[39m\u001b[38;5;28mlen\u001b[39m(dm\u001b[38;5;241m.\u001b[39mtrain_dataloader())):\n\u001b[1;32m     22\u001b[0m     \n\u001b[1;32m     23\u001b[0m         \n\u001b[1;32m     24\u001b[0m     \u001b[38;5;66;03m# evaluate the loss\u001b[39;00m\n\u001b[0;32m---> 25\u001b[0m     _, (losses_desurv, loss_values), loss \u001b[38;5;241m=\u001b[39m \u001b[43mmodel\u001b[49m\u001b[43m(\u001b[49m\u001b[43mtokens\u001b[49m\u001b[38;5;241;43m=\u001b[39;49m\u001b[43mbatch\u001b[49m\u001b[43m[\u001b[49m\u001b[38;5;124;43m'\u001b[39;49m\u001b[38;5;124;43mtokens\u001b[39;49m\u001b[38;5;124;43m'\u001b[39;49m\u001b[43m]\u001b[49m\u001b[38;5;241;43m.\u001b[39;49m\u001b[43mto\u001b[49m\u001b[43m(\u001b[49m\u001b[43mdevice\u001b[49m\u001b[43m)\u001b[49m\u001b[43m,\u001b[49m\u001b[43m \u001b[49m\n\u001b[1;32m     26\u001b[0m \u001b[43m                                                  \u001b[49m\u001b[43mages\u001b[49m\u001b[38;5;241;43m=\u001b[39;49m\u001b[43mbatch\u001b[49m\u001b[43m[\u001b[49m\u001b[38;5;124;43m'\u001b[39;49m\u001b[38;5;124;43mages\u001b[39;49m\u001b[38;5;124;43m'\u001b[39;49m\u001b[43m]\u001b[49m\u001b[38;5;241;43m.\u001b[39;49m\u001b[43mto\u001b[49m\u001b[43m(\u001b[49m\u001b[43mdevice\u001b[49m\u001b[43m)\u001b[49m\u001b[43m,\u001b[49m\u001b[43m \u001b[49m\n\u001b[1;32m     27\u001b[0m \u001b[43m                                                  \u001b[49m\u001b[43mvalues\u001b[49m\u001b[38;5;241;43m=\u001b[39;49m\u001b[43mbatch\u001b[49m\u001b[43m[\u001b[49m\u001b[38;5;124;43m'\u001b[39;49m\u001b[38;5;124;43mvalues\u001b[39;49m\u001b[38;5;124;43m'\u001b[39;49m\u001b[43m]\u001b[49m\u001b[38;5;241;43m.\u001b[39;49m\u001b[43mto\u001b[49m\u001b[43m(\u001b[49m\u001b[43mdevice\u001b[49m\u001b[43m)\u001b[49m\u001b[43m,\u001b[49m\n\u001b[1;32m     28\u001b[0m \u001b[43m                                                  \u001b[49m\u001b[43mcovariates\u001b[49m\u001b[38;5;241;43m=\u001b[39;49m\u001b[43mbatch\u001b[49m\u001b[43m[\u001b[49m\u001b[38;5;124;43m\"\u001b[39;49m\u001b[38;5;124;43mstatic_covariates\u001b[39;49m\u001b[38;5;124;43m\"\u001b[39;49m\u001b[43m]\u001b[49m\u001b[38;5;241;43m.\u001b[39;49m\u001b[43mto\u001b[49m\u001b[43m(\u001b[49m\u001b[43mdevice\u001b[49m\u001b[43m)\u001b[49m\u001b[43m,\u001b[49m\n\u001b[1;32m     29\u001b[0m \u001b[43m                                                  \u001b[49m\u001b[43mattention_mask\u001b[49m\u001b[38;5;241;43m=\u001b[39;49m\u001b[43mbatch\u001b[49m\u001b[43m[\u001b[49m\u001b[38;5;124;43m'\u001b[39;49m\u001b[38;5;124;43mattention_mask\u001b[39;49m\u001b[38;5;124;43m'\u001b[39;49m\u001b[43m]\u001b[49m\u001b[38;5;241;43m.\u001b[39;49m\u001b[43mto\u001b[49m\u001b[43m(\u001b[49m\u001b[43mdevice\u001b[49m\u001b[43m)\u001b[49m\u001b[43m   \u001b[49m\n\u001b[1;32m     30\u001b[0m \u001b[43m                                                  \u001b[49m\u001b[43m)\u001b[49m\n\u001b[1;32m     31\u001b[0m     optimizer\u001b[38;5;241m.\u001b[39mzero_grad(set_to_none\u001b[38;5;241m=\u001b[39m\u001b[38;5;28;01mTrue\u001b[39;00m)\n\u001b[1;32m     32\u001b[0m     loss\u001b[38;5;241m.\u001b[39mbackward()\n",
      "File \u001b[0;32m/rds/bear-apps/2022a/EL8-ice/software/PyTorch/2.0.1-foss-2022a-CUDA-11.7.0/lib/python3.10/site-packages/torch/nn/modules/module.py:1501\u001b[0m, in \u001b[0;36mModule._call_impl\u001b[0;34m(self, *args, **kwargs)\u001b[0m\n\u001b[1;32m   1496\u001b[0m \u001b[38;5;66;03m# If we don't have any hooks, we want to skip the rest of the logic in\u001b[39;00m\n\u001b[1;32m   1497\u001b[0m \u001b[38;5;66;03m# this function, and just call forward.\u001b[39;00m\n\u001b[1;32m   1498\u001b[0m \u001b[38;5;28;01mif\u001b[39;00m \u001b[38;5;129;01mnot\u001b[39;00m (\u001b[38;5;28mself\u001b[39m\u001b[38;5;241m.\u001b[39m_backward_hooks \u001b[38;5;129;01mor\u001b[39;00m \u001b[38;5;28mself\u001b[39m\u001b[38;5;241m.\u001b[39m_backward_pre_hooks \u001b[38;5;129;01mor\u001b[39;00m \u001b[38;5;28mself\u001b[39m\u001b[38;5;241m.\u001b[39m_forward_hooks \u001b[38;5;129;01mor\u001b[39;00m \u001b[38;5;28mself\u001b[39m\u001b[38;5;241m.\u001b[39m_forward_pre_hooks\n\u001b[1;32m   1499\u001b[0m         \u001b[38;5;129;01mor\u001b[39;00m _global_backward_pre_hooks \u001b[38;5;129;01mor\u001b[39;00m _global_backward_hooks\n\u001b[1;32m   1500\u001b[0m         \u001b[38;5;129;01mor\u001b[39;00m _global_forward_hooks \u001b[38;5;129;01mor\u001b[39;00m _global_forward_pre_hooks):\n\u001b[0;32m-> 1501\u001b[0m     \u001b[38;5;28;01mreturn\u001b[39;00m \u001b[43mforward_call\u001b[49m\u001b[43m(\u001b[49m\u001b[38;5;241;43m*\u001b[39;49m\u001b[43margs\u001b[49m\u001b[43m,\u001b[49m\u001b[43m \u001b[49m\u001b[38;5;241;43m*\u001b[39;49m\u001b[38;5;241;43m*\u001b[39;49m\u001b[43mkwargs\u001b[49m\u001b[43m)\u001b[49m\n\u001b[1;32m   1502\u001b[0m \u001b[38;5;66;03m# Do not call functions when jit is used\u001b[39;00m\n\u001b[1;32m   1503\u001b[0m full_backward_hooks, non_full_backward_hooks \u001b[38;5;241m=\u001b[39m [], []\n",
      "File \u001b[0;32m~/Projects/CPRD/src/models/survival/task_heads/causal.py:103\u001b[0m, in \u001b[0;36mSurvStreamGPTForCausalModelling.forward\u001b[0;34m(self, tokens, ages, values, covariates, attention_mask, is_generation)\u001b[0m\n\u001b[1;32m     96\u001b[0m surv, losses_desurv \u001b[38;5;241m=\u001b[39m \u001b[38;5;28mself\u001b[39m\u001b[38;5;241m.\u001b[39msurv_layer\u001b[38;5;241m.\u001b[39mpredict(hidden_states,\n\u001b[1;32m     97\u001b[0m                                               target_tokens\u001b[38;5;241m=\u001b[39mtokens,\n\u001b[1;32m     98\u001b[0m                                               target_ages\u001b[38;5;241m=\u001b[39mages, \n\u001b[1;32m     99\u001b[0m                                               attention_mask\u001b[38;5;241m=\u001b[39mattention_mask,\n\u001b[1;32m    100\u001b[0m                                               is_generation\u001b[38;5;241m=\u001b[39mis_generation)\n\u001b[1;32m    102\u001b[0m \u001b[38;5;66;03m# regression head (values of next token if applicable)\u001b[39;00m\n\u001b[0;32m--> 103\u001b[0m values_dist, loss_values \u001b[38;5;241m=\u001b[39m \u001b[38;5;28;43mself\u001b[39;49m\u001b[38;5;241;43m.\u001b[39;49m\u001b[43mvalue_layer\u001b[49m\u001b[38;5;241;43m.\u001b[39;49m\u001b[43mpredict\u001b[49m\u001b[43m(\u001b[49m\u001b[43mhidden_states\u001b[49m\u001b[43m,\u001b[49m\n\u001b[1;32m    104\u001b[0m \u001b[43m                                                    \u001b[49m\u001b[43mtarget_tokens\u001b[49m\u001b[38;5;241;43m=\u001b[39;49m\u001b[43mtokens\u001b[49m\u001b[43m,\u001b[49m\n\u001b[1;32m    105\u001b[0m \u001b[43m                                                    \u001b[49m\u001b[43mtarget_values\u001b[49m\u001b[38;5;241;43m=\u001b[39;49m\u001b[43mvalues\u001b[49m\u001b[43m,\u001b[49m\n\u001b[1;32m    106\u001b[0m \u001b[43m                                                    \u001b[49m\u001b[43mattention_mask\u001b[49m\u001b[38;5;241;43m=\u001b[39;49m\u001b[43mattention_mask\u001b[49m\u001b[43m,\u001b[49m\n\u001b[1;32m    107\u001b[0m \u001b[43m                                                    \u001b[49m\u001b[43mis_generation\u001b[49m\u001b[38;5;241;43m=\u001b[39;49m\u001b[43mis_generation\u001b[49m\u001b[43m,\u001b[49m\n\u001b[1;32m    108\u001b[0m \u001b[43m                                                    \u001b[49m\u001b[43m)\u001b[49m\n\u001b[1;32m    110\u001b[0m \u001b[38;5;28;01mif\u001b[39;00m \u001b[38;5;129;01mnot\u001b[39;00m is_generation:\n\u001b[1;32m    111\u001b[0m     loss \u001b[38;5;241m=\u001b[39m (\u001b[38;5;28mself\u001b[39m\u001b[38;5;241m.\u001b[39msurv_weight \u001b[38;5;241m*\u001b[39m torch\u001b[38;5;241m.\u001b[39msum(losses_desurv)) \u001b[38;5;241m+\u001b[39m (\u001b[38;5;28mself\u001b[39m\u001b[38;5;241m.\u001b[39mvalue_weight \u001b[38;5;241m*\u001b[39m loss_values)\n",
      "File \u001b[0;32m~/Projects/CPRD/src/modules/head_layers/value_layers.py:109\u001b[0m, in \u001b[0;36mGaussianRegressionLayer.predict\u001b[0;34m(self, hidden_states, target_tokens, target_values, attention_mask, is_generation)\u001b[0m\n\u001b[1;32m    105\u001b[0m         token_ll_per_patient \u001b[38;5;241m=\u001b[39m (log_prob \u001b[38;5;241m*\u001b[39m token_mask\u001b[38;5;241m.\u001b[39mfloat())\u001b[38;5;241m.\u001b[39msum(\u001b[38;5;241m-\u001b[39m\u001b[38;5;241m1\u001b[39m) \u001b[38;5;241m/\u001b[39m (token_mask\u001b[38;5;241m.\u001b[39mfloat()\u001b[38;5;241m.\u001b[39msum(\u001b[38;5;241m-\u001b[39m\u001b[38;5;241m1\u001b[39m) \u001b[38;5;241m+\u001b[39m \u001b[38;5;241m1e-5\u001b[39m)  \u001b[38;5;66;03m# shape: torch.Size([bsz])\u001b[39;00m\n\u001b[1;32m    106\u001b[0m         \u001b[38;5;66;03m# print(token_ll_per_patient.shape)\u001b[39;00m\n\u001b[1;32m    107\u001b[0m         \n\u001b[1;32m    108\u001b[0m         \u001b[38;5;66;03m# average across batch\u001b[39;00m\n\u001b[0;32m--> 109\u001b[0m         loss \u001b[38;5;241m+\u001b[39m\u001b[38;5;241m=\u001b[39m \u001b[38;5;241m-\u001b[39m\u001b[43mtoken_ll_per_patient\u001b[49m\u001b[38;5;241;43m.\u001b[39;49m\u001b[43mmean\u001b[49m\u001b[43m(\u001b[49m\u001b[43m)\u001b[49m \n\u001b[1;32m    111\u001b[0m     \u001b[38;5;66;03m# loss /= len(self.measurement_tokens)\u001b[39;00m\n\u001b[1;32m    112\u001b[0m \n\u001b[1;32m    113\u001b[0m \u001b[38;5;28;01melse\u001b[39;00m:  \n\u001b[1;32m    115\u001b[0m     value_dist \u001b[38;5;241m=\u001b[39m {}\n",
      "\u001b[0;31mKeyboardInterrupt\u001b[0m: "
     ]
    }
   ],
   "source": [
    "model = SurvStreamGPTForCausalModelling(cfg, vocab_size).to(device)\n",
    "model = model.to(device)\n",
    "\n",
    "loss_curves_train = []\n",
    "loss_curves_train_surv = []\n",
    "loss_curves_train_values = []\n",
    "\n",
    "loss_curves_val = []\n",
    "loss_curves_val_surv = []\n",
    "loss_curves_val_values = []    \n",
    "print(f\"Training model with {sum(p.numel() for p in model.parameters())/1e6} M parameters\")\n",
    "\n",
    "# create a PyTorch optimizer\n",
    "optimizer = torch.optim.AdamW(model.parameters(), lr=cfg.optim.learning_rate)\n",
    "\n",
    "best_val, epochs_since_best = np.inf, 0\n",
    "for epoch in range(10):\n",
    "    \n",
    "    epoch_loss, epoch_surv_loss, epoch_values_loss = 0, 0, 0\n",
    "    model.train()\n",
    "    for i, batch in tqdm(enumerate(dm.train_dataloader()), desc=f\"Training epoch {epoch}\", total=len(dm.train_dataloader())):\n",
    "        \n",
    "            \n",
    "        # evaluate the loss\n",
    "        _, (losses_desurv, loss_values), loss = model(tokens=batch['tokens'].to(device), \n",
    "                                                      ages=batch['ages'].to(device), \n",
    "                                                      values=batch['values'].to(device),\n",
    "                                                      covariates=batch[\"static_covariates\"].to(device),\n",
    "                                                      attention_mask=batch['attention_mask'].to(device)   \n",
    "                                                      )\n",
    "        optimizer.zero_grad(set_to_none=True)\n",
    "        loss.backward()\n",
    "        optimizer.step()\n",
    "\n",
    "        # record\n",
    "        epoch_loss += loss.item()            \n",
    "        epoch_surv_loss += torch.sum(losses_desurv).item()\n",
    "        epoch_values_loss += loss_values.item()\n",
    "\n",
    "        if i > 1000:\n",
    "            break\n",
    "    \n",
    "    epoch_loss /= i\n",
    "    epoch_surv_loss /= i\n",
    "    epoch_values_loss /= i\n",
    "    loss_curves_train.append(epoch_loss)\n",
    "    loss_curves_train_surv.append(epoch_surv_loss)\n",
    "    loss_curves_train_values.append(epoch_values_loss)\n",
    "\n",
    "    # evaluate the loss on val set\n",
    "    with torch.no_grad(): \n",
    "        model.eval()\n",
    "        if epoch % 1 == 0 or epoch == cfg.optim.num_epochs - 1:\n",
    "            val_loss, val_surv_loss, val_values_loss = 0, 0, 0\n",
    "            for j, batch in tqdm(enumerate(dm.val_dataloader()), desc=f\"Validation epoch {epoch}\", total=len(dm.val_dataloader())):\n",
    "                if j > 100:\n",
    "                    break\n",
    "                _, (losses_desurv, loss_values), loss = model(tokens=batch['tokens'].to(device), \n",
    "                                                              ages=batch['ages'].to(device),\n",
    "                                                              values=batch['values'].to(device),\n",
    "                                                              covariates=batch[\"static_covariates\"].to(device),\n",
    "                                                              attention_mask=batch['attention_mask'].to(device)   \n",
    "                                                              )\n",
    "                # record\n",
    "                val_loss += loss.item()                    \n",
    "                val_surv_loss += torch.sum(losses_desurv).item()\n",
    "                val_values_loss += loss_values.item()\n",
    "                \n",
    "            val_loss /= j\n",
    "            val_surv_loss /= j\n",
    "            val_values_loss /= j\n",
    "            loss_curves_val.append(val_loss)\n",
    "            loss_curves_val_surv.append(val_surv_loss)\n",
    "            loss_curves_val_values.append(val_values_loss)\n",
    "\n",
    "            print(f\"Epoch {epoch}:\\tTrain loss {epoch_loss:.2f}: ({epoch_surv_loss:.2f}, {epoch_values_loss:.2f}). Val loss {val_loss:.2f}: ({val_surv_loss:.2f}, {val_values_loss:.2f})\")          \n",
    "            # TODO: Note not fully accurate as last batch is likely not the same size, will be fixed with lightning\n",
    "\n",
    "        if val_loss >= best_val:\n",
    "            epochs_since_best += 1\n",
    "            if epochs_since_best >= 5:\n",
    "                break\n",
    "        else:\n",
    "            best_val = val_loss\n",
    "            epochs_since_best = 0\n",
    "\n",
    "            # Save best seen model\n",
    "            # torch.save(model.state_dict(), path_to_db + \"polars/CR.pt\")\n",
    "            "
   ]
  },
  {
   "cell_type": "code",
   "execution_count": null,
   "metadata": {},
   "outputs": [],
   "source": [
    "# Plot loss\n",
    "plt.figure()\n",
    "# Training\n",
    "iterations = np.linspace(0, len(loss_curves_train), len(loss_curves_train)) * opt.eval_interval\n",
    "plt.plot(iterations, loss_curves_train, label=\"train\")\n",
    "# Validation\n",
    "iterations = np.linspace(0, len(loss_curves_val), len(loss_curves_val)) * opt.eval_interval\n",
    "plt.plot(iterations, loss_curves_val, label=\"val\", linestyle='dashed')\n",
    "plt.legend()\n",
    "plt.savefig(f\"figs/competing_risk/loss.png\")\n",
    "\n",
    "# Plot DeSurv loss\n",
    "plt.figure()\n",
    "# Training\n",
    "iterations = np.linspace(0, len(loss_curves_train_surv), len(loss_curves_train_surv)) * opt.eval_interval\n",
    "plt.plot(iterations, loss_curves_train_surv, label=\"train\")\n",
    "# Validation\n",
    "iterations = np.linspace(0, len(loss_curves_val_surv), len(loss_curves_val_surv)) * opt.eval_interval\n",
    "plt.plot(iterations, loss_curves_val_surv, label=\"val\", linestyle='dashed')\n",
    "plt.legend()\n",
    "plt.savefig(f\"figs/competing_risk/loss_desurv.png\")\n",
    "\n",
    "# Plot value loss\n",
    "plt.figure()\n",
    "# Training\n",
    "iterations = np.linspace(0, len(loss_curves_train_values), len(loss_curves_train_values)) * opt.eval_interval\n",
    "plt.plot(iterations, loss_curves_train_values, label=\"train\", )\n",
    "# Validation\n",
    "iterations = np.linspace(0, len(loss_curves_val_values), len(loss_curves_val_values)) * opt.eval_interval\n",
    "plt.plot(iterations, loss_curves_val_values, label=\"val\", linestyle='dashed')\n",
    "plt.legend()\n",
    "plt.savefig(f\"figs/competing_risk/loss_val.png\")"
   ]
  },
  {
   "cell_type": "markdown",
   "metadata": {},
   "source": [
    "# Appendix: model architectures"
   ]
  },
  {
   "cell_type": "code",
   "execution_count": null,
   "metadata": {
    "scrolled": true
   },
   "outputs": [],
   "source": [
    "display(model)"
   ]
  },
  {
   "cell_type": "code",
   "execution_count": null,
   "metadata": {},
   "outputs": [],
   "source": [
    "!jupyter nbconvert --to html --no-input competing_risk.ipynb"
   ]
  },
  {
   "cell_type": "code",
   "execution_count": null,
   "metadata": {},
   "outputs": [],
   "source": []
  }
 ],
 "metadata": {
  "colab": {
   "provenance": []
  },
  "kernelspec": {
   "display_name": "Python",
   "language": "python",
   "name": "sys_python"
  },
  "language_info": {
   "codemirror_mode": {
    "name": "ipython",
    "version": 3
   },
   "file_extension": ".py",
   "mimetype": "text/x-python",
   "name": "python",
   "nbconvert_exporter": "python",
   "pygments_lexer": "ipython3",
   "version": "3.10.4"
  }
 },
 "nbformat": 4,
 "nbformat_minor": 4
}
