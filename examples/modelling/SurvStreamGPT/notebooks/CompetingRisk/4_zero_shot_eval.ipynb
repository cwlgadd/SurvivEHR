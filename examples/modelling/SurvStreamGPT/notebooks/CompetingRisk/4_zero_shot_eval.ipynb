{
 "cells": [
  {
   "cell_type": "markdown",
   "id": "4921342e-8ff8-45d4-b1f6-9fe480c2ee1d",
   "metadata": {},
   "source": [
    "# CPRD Notebook:\n",
    "## Evaluation of the pre-trained SurvivEHR-CR model on a supervised cohort study, with no additional training (zero-shot).\n",
    "\n",
    "Cohort study: predicting Cardiovascular Disease in a Type 2 Diabetes Mellitus population.\n",
    "\n",
    "This notebook quantifies the performance obtained when applying the pre-trained model to a sub-population, without fine-tuning"
   ]
  },
  {
   "cell_type": "code",
   "execution_count": 14,
   "id": "a671c59b-4428-4e63-a138-7244418a87c5",
   "metadata": {},
   "outputs": [
    {
     "name": "stdout",
     "output_type": "stream",
     "text": [
      "Added path '/rds/homes/g/gaddcz/Projects/CPRD/virtual-envTorch2.0-icelake/lib/python3.10/site-packages' at start of search paths.\n",
      "The autoreload extension is already loaded. To reload it, use:\n",
      "  %reload_ext autoreload\n"
     ]
    }
   ],
   "source": [
    "import os\n",
    "from pathlib import Path\n",
    "import sys\n",
    "node_type = os.getenv('BB_CPU')\n",
    "venv_dir = f'/rds/homes/g/gaddcz/Projects/CPRD/virtual-envTorch2.0-{node_type}'\n",
    "venv_site_pkgs = Path(venv_dir) / 'lib' / f'python{sys.version_info.major}.{sys.version_info.minor}' / 'site-packages'\n",
    "if venv_site_pkgs.exists():\n",
    "    sys.path.insert(0, str(venv_site_pkgs))\n",
    "    print(f\"Added path '{venv_site_pkgs}' at start of search paths.\")\n",
    "else:\n",
    "    print(f\"Path '{venv_site_pkgs}' not found. Check that it exists and/or that it exists for node-type '{node_type}'.\")\n",
    "\n",
    "%load_ext autoreload\n",
    "%autoreload 2"
   ]
  },
  {
   "cell_type": "code",
   "execution_count": 13,
   "id": "d866c7f0-eaa8-4129-b3b1-d4d6b504d0a7",
   "metadata": {},
   "outputs": [
    {
     "name": "stdout",
     "output_type": "stream",
     "text": [
      "Using device: cuda.\n",
      "env: SLURM_NTASKS_PER_NODE=28\n"
     ]
    }
   ],
   "source": [
    "import torch\n",
    "import numpy as np\n",
    "import matplotlib.pyplot as plt\n",
    "import logging\n",
    "import wandb\n",
    "from tqdm import tqdm\n",
    "import pickle\n",
    "from hydra import compose, initialize\n",
    "from omegaconf import OmegaConf\n",
    "from CPRD.examples.modelling.SurvStreamGPT.run_experiment import run\n",
    "from CPRD.data.foundational_loader import FoundationalDataModule\n",
    "from CPRD.src.models.survival.task_heads.causal import SurvStreamGPTForCausalModelling\n",
    "\n",
    "import time\n",
    "import pyarrow.dataset as ds\n",
    "import pyarrow.parquet as pq\n",
    "import os\n",
    "import polars as pl\n",
    "pl.Config.set_tbl_rows(10000)\n",
    "import pandas as pd\n",
    "pd.options.display.max_rows = 10000\n",
    "\n",
    "torch.manual_seed(1337)\n",
    "torch.set_float32_matmul_precision('medium')\n",
    "\n",
    "logging.basicConfig(level=logging.INFO)\n",
    "device = 'cuda' if torch.cuda.is_available() else 'cpu'\n",
    "# device = \"cpu\"    # if more informative debugging statements are needed\n",
    "print(f\"Using device: {device}.\")\n",
    "\n",
    " # TODO: define an env variable to fix for a local hpc environment issue, this shouldn't be needed\n",
    "%env SLURM_NTASKS_PER_NODE=28   "
   ]
  },
  {
   "cell_type": "markdown",
   "id": "d870f65b-d6e5-4716-a5f2-61a2131dad43",
   "metadata": {},
   "source": [
    "## Choosing configurations\n",
    "The default configuration is for pre-training. Here we modify as necesssary\n",
    "\n",
    "Here we choose to load in the configuration for a small **pre-trained** 11.4M parameter model, named \"CR_11M\". We specfiy the `zero-shot` experiment type, which will lead to running the ```SupervisedExperiment```. \n",
    "\n",
    "We tell this experiment that no further training is needed. Additionally, we do choose to perform testing (true by default). As this is a supervised model, this tests the ability to predict the outcomes of interest. In this notebook, this is chosen to be those of the cohort study for predicting Cardiovascular Disease in a Type 2 Diabetes Mellitus population, and we add the folder containing this dataset to the configuration. \n",
    "\n",
    "```Note: As this is a supervised dataset, we need to tell the DataModule that the last event observed is a target and must be stripped. This is done by passing a list of targets to the configuration, overriding the null default. This lets the DataModule know that it should process batches as supervised.```\n",
    "\n",
    "We set the number of workers to be appropriate for the number of CPUs available to reduce bottlenecking, and tell the experiment that we do not want to limit the number of testing batches. In addition, we specify where we want any checkpoints to be saved to avoid bloating the repository."
   ]
  },
  {
   "cell_type": "markdown",
   "id": "00071773-72ba-418f-bfcf-b27eece1421f",
   "metadata": {},
   "source": [
    "# Run small (11M) model experiment\n",
    "\n",
    "```\n",
    "Small 11M model\n",
    "\n",
    "┏━━━━━━━━━━━━━━━━━━━━━━━━━━━━━━━━━━━━━┳━━━━━━━━━━━━━━━━━━━━━━━━━━━━━━━━━━━━━┓\n",
    "┃             Test metric             ┃            DataLoader 0             ┃\n",
    "┡━━━━━━━━━━━━━━━━━━━━━━━━━━━━━━━━━━━━━╇━━━━━━━━━━━━━━━━━━━━━━━━━━━━━━━━━━━━━┩\n",
    "│  Test:OutcomePerformanceMetricsctd  │         0.6068708896636963          │\n",
    "│  Test:OutcomePerformanceMetricsibs  │        0.035581761215435055         │\n",
    "│ Test:OutcomePerformanceMetricsinbll │         0.25309925866451416         │\n",
    "│              test_loss              │          8.996182441711426          │\n",
    "│          test_loss_desurv           │         18.201364517211914          │\n",
    "│          test_loss_values           │        -0.20899981260299683         │\n",
    "└─────────────────────────────────────┴─────────────────────────────────────┘\n",
    "\n",
    "annealed scheduler\n",
    "┏━━━━━━━━━━━━━━━━━━━━━━━━━━━━━━━━━━━━━┳━━━━━━━━━━━━━━━━━━━━━━━━━━━━━━━━━━━━━┓\n",
    "┃             Test metric             ┃            DataLoader 0             ┃\n",
    "┡━━━━━━━━━━━━━━━━━━━━━━━━━━━━━━━━━━━━━╇━━━━━━━━━━━━━━━━━━━━━━━━━━━━━━━━━━━━━┩\n",
    "│  Test:OutcomePerformanceMetricsctd  │          0.614702582359314          │\n",
    "│  Test:OutcomePerformanceMetricsibs  │         0.03559818346555152         │\n",
    "│ Test:OutcomePerformanceMetricsinbll │         0.26287718977162844         │\n",
    "│              test_loss              │          9.010758399963379          │\n",
    "│          test_loss_desurv           │         18.226964950561523          │\n",
    "│          test_loss_values           │        -0.20544125139713287         │\n",
    "└─────────────────────────────────────┴─────────────────────────────────────┘\n",
    "\n",
    "\n",
    "```"
   ]
  },
  {
   "cell_type": "code",
   "execution_count": 15,
   "id": "63e00688-1426-4046-910c-45bde94db899",
   "metadata": {},
   "outputs": [
    {
     "name": "stderr",
     "output_type": "stream",
     "text": [
      "INFO:root:Running cr on 72 CPUs and 1 GPUs\n",
      "INFO:root:====================================================================================================\n",
      "INFO:root:# Loading DataModule for dataset /rds/projects/g/gokhalkm-optimal/OPTIMAL_MASTER_DATASET/data/FoundationalModel/FineTune_CVD/. This will be loaded in supervised form.\n",
      "INFO:root:====================================================================================================\n",
      "INFO:root:Creating supervised collator for DataModule\n",
      "INFO:root:Using meta information from /rds/projects/g/gokhalkm-optimal/OPTIMAL_MASTER_DATASET/data/FoundationalModel/PreTrain/meta_information_QuantJenny.pickle\n",
      "INFO:root:Using train file-row count dictionary from /rds/projects/g/gokhalkm-optimal/OPTIMAL_MASTER_DATASET/data/FoundationalModel/FineTune_CVD/file_row_count_dict_train.pickle\n",
      "INFO:root:Using test file-row count dictionary from /rds/projects/g/gokhalkm-optimal/OPTIMAL_MASTER_DATASET/data/FoundationalModel/FineTune_CVD/file_row_count_dict_test.pickle\n",
      "INFO:root:Using val file-row count dictionary from /rds/projects/g/gokhalkm-optimal/OPTIMAL_MASTER_DATASET/data/FoundationalModel/FineTune_CVD/file_row_count_dict_val.pickle\n",
      "INFO:root:Tokenzier created based on 7,555,415,275 tokens\n",
      "INFO:root:Using tabular tokenizer, created from meta information and containing 265 tokens\n",
      "INFO:root:Loaded /rds/projects/g/gokhalkm-optimal/OPTIMAL_MASTER_DATASET/data/FoundationalModel/FineTune_CVD/split=train/ dataset, with 572,096 samples\n",
      "INFO:root:Loaded /rds/projects/g/gokhalkm-optimal/OPTIMAL_MASTER_DATASET/data/FoundationalModel/FineTune_CVD/split=test/ dataset, with 35,758 samples\n",
      "INFO:root:Loaded /rds/projects/g/gokhalkm-optimal/OPTIMAL_MASTER_DATASET/data/FoundationalModel/FineTune_CVD/split=val/ dataset, with 33,280 samples\n",
      "INFO:root:is_decoder: true\n",
      "data:\n",
      "  batch_size: 64\n",
      "  unk_freq_threshold: 0.0\n",
      "  min_workers: 12\n",
      "  global_diagnoses: false\n",
      "  path_to_db: /rds/projects/g/gokhalkm-optimal/OPTIMAL_MASTER_DATASET/data/FoundationalModel/\n",
      "  path_to_ds: /rds/projects/g/gokhalkm-optimal/OPTIMAL_MASTER_DATASET/data/FoundationalModel/FineTune_CVD/\n",
      "  meta_information_path: /rds/projects/g/gokhalkm-optimal/OPTIMAL_MASTER_DATASET/data/FoundationalModel/PreTrain/meta_information_QuantJenny.pickle\n",
      "experiment:\n",
      "  type: zeroshot\n",
      "  project_name: SurvEHR_${head.SurvLayer}\n",
      "  run_id: CR_11M\n",
      "  fine_tune_id: CVD_0shot\n",
      "  train: false\n",
      "  test: true\n",
      "  verbose: true\n",
      "  seed: 1337\n",
      "  log: true\n",
      "  log_dir: /rds/projects/s/subramaa-mum-predict/CharlesGadd_Oxford/FoundationModelOutput/\n",
      "  ckpt_dir: /rds/projects/s/subramaa-mum-predict/CharlesGadd_Oxford/FoundationModelOutput/checkpoints/\n",
      "  fine_tune_outcomes:\n",
      "  - IHDINCLUDINGMI_OPTIMALV2\n",
      "  - ISCHAEMICSTROKE_V2\n",
      "  - MINFARCTION\n",
      "  - STROKEUNSPECIFIED_V2\n",
      "  - STROKE_HAEMRGIC\n",
      "optim:\n",
      "  num_epochs: 5\n",
      "  learning_rate: 0.0003\n",
      "  scheduler_warmup: true\n",
      "  scheduler: CAWarmRestarts\n",
      "  scheduler_periods: 10000\n",
      "  learning_rate_decay: 0.8\n",
      "  val_check_interval: 1000\n",
      "  early_stop: true\n",
      "  early_stop_patience: 30\n",
      "  log_every_n_steps: 20\n",
      "  limit_val_batches: 0.025\n",
      "  limit_test_batches: null\n",
      "transformer:\n",
      "  block_type: Neo\n",
      "  block_size: 256\n",
      "  n_layer: 6\n",
      "  n_head: 6\n",
      "  n_embd: 384\n",
      "  layer_norm_bias: false\n",
      "  attention_type: global\n",
      "  bias: true\n",
      "  dropout: 0.0\n",
      "  attention_dropout: 0.0\n",
      "  resid_dropout: 0.0\n",
      "  private_heads: 0\n",
      "head:\n",
      "  SurvLayer: cr\n",
      "  surv_weight: 0.5\n",
      "  tokens_for_univariate_regression:\n",
      "  - 84\n",
      "  - 86\n",
      "  - 107\n",
      "  - 154\n",
      "  - 42\n",
      "  - 231\n",
      "  - 63\n",
      "  - 85\n",
      "  - 247\n",
      "  - 51\n",
      "  - 103\n",
      "  - 146\n",
      "  - 66\n",
      "  - 172\n",
      "  - 152\n",
      "  - 261\n",
      "  - 235\n",
      "  - 193\n",
      "  - 184\n",
      "  - 101\n",
      "  - 223\n",
      "  - 135\n",
      "  - 226\n",
      "  - 202\n",
      "  - 145\n",
      "  - 244\n",
      "  - 165\n",
      "  - 64\n",
      "  - 185\n",
      "  - 238\n",
      "  - 220\n",
      "  - 232\n",
      "  - 240\n",
      "  - 237\n",
      "  - 17\n",
      "  - 239\n",
      "  - 217\n",
      "  - 118\n",
      "  - 219\n",
      "  - 251\n",
      "  - 25\n",
      "  - 150\n",
      "  - 111\n",
      "  - 102\n",
      "  - 15\n",
      "  - 110\n",
      "  - 130\n",
      "  - 128\n",
      "  - 122\n",
      "  - 99\n",
      "  - 77\n",
      "  - 96\n",
      "  - 140\n",
      "  - 50\n",
      "  - 80\n",
      "  - 108\n",
      "  - 138\n",
      "  - 27\n",
      "  - 139\n",
      "  - 125\n",
      "  - 117\n",
      "  - 105\n",
      "  - 109\n",
      "  - 243\n",
      "  - 236\n",
      "  - 208\n",
      "  - 98\n",
      "  - 176\n",
      "  - 209\n",
      "  - 194\n",
      "  - 61\n",
      "  - 73\n",
      "  - 214\n",
      "  - 206\n",
      "  - 229\n",
      "  - 225\n",
      "  - 183\n",
      "  - 186\n",
      "  - 215\n",
      "  - 187\n",
      "  - 248\n",
      "  - 179\n",
      "  - 163\n",
      "  - 180\n",
      "  - 181\n",
      "  - 153\n",
      "  - 245\n",
      "  - 54\n",
      "  - 246\n",
      "  - 112\n",
      "  - 212\n",
      "  - 141\n",
      "  - 204\n",
      "  - 227\n",
      "  - 173\n",
      "  - 55\n",
      "  - 119\n",
      "  - 262\n",
      "  - 127\n",
      "  - 71\n",
      "  - 59\n",
      "  - 144\n",
      "  - 113\n",
      "  - 170\n",
      "  - 241\n",
      "  - 168\n",
      "  - 47\n",
      "  - 159\n",
      "  value_weight: 0.5\n",
      "\n",
      "INFO:root:====================================================================================================\n",
      "INFO:root:# Loading a pre-trained model with the checkpoint path /rds/projects/s/subramaa-mum-predict/CharlesGadd_Oxford/FoundationModelOutput/checkpoints/CR_11M.ckpt. Evaluating supervised performance\n",
      "INFO:root:====================================================================================================\n",
      "INFO:root:Using Temporal Positional Encoding. This module uses the patient's age at an event within their time series.\n",
      "INFO:root:Using Competing-Risk DeSurv head.\n",
      "INFO:root:Internally scaling time in survival head by 1825 days\n",
      "INFO:root:In generation forwarding DeSurv on the grid between [0.0, 1825.0] with 1826 time-points of delta=1.0\n",
      "INFO:root:Trainable parameters: all parameters\n",
      "GPU available: True (cuda), used: True\n",
      "TPU available: False, using: 0 TPU cores\n",
      "IPU available: False, using: 0 IPUs\n",
      "HPU available: False, using: 0 HPUs\n",
      "INFO:root:Testing model.\n"
     ]
    },
    {
     "data": {
      "text/html": [
       "wandb version 0.18.3 is available!  To upgrade, please run:\n",
       " $ pip install wandb --upgrade"
      ],
      "text/plain": [
       "<IPython.core.display.HTML object>"
      ]
     },
     "metadata": {},
     "output_type": "display_data"
    },
    {
     "data": {
      "text/html": [
       "Tracking run with wandb version 0.13.6"
      ],
      "text/plain": [
       "<IPython.core.display.HTML object>"
      ]
     },
     "metadata": {},
     "output_type": "display_data"
    },
    {
     "data": {
      "text/html": [
       "Run data is saved locally in <code>/rds/projects/s/subramaa-mum-predict/CharlesGadd_Oxford/FoundationModelOutput/wandb/run-20241014_132913-2pplg4el</code>"
      ],
      "text/plain": [
       "<IPython.core.display.HTML object>"
      ]
     },
     "metadata": {},
     "output_type": "display_data"
    },
    {
     "data": {
      "text/html": [
       "Syncing run <strong><a href=\"https://wandb.ai/cwlgadd/SurvEHR_cr/runs/2pplg4el\" target=\"_blank\">CR_11M_CVD_0shot</a></strong> to <a href=\"https://wandb.ai/cwlgadd/SurvEHR_cr\" target=\"_blank\">Weights & Biases</a> (<a href=\"https://wandb.me/run\" target=\"_blank\">docs</a>)<br/>"
      ],
      "text/plain": [
       "<IPython.core.display.HTML object>"
      ]
     },
     "metadata": {},
     "output_type": "display_data"
    },
    {
     "name": "stderr",
     "output_type": "stream",
     "text": [
      "LOCAL_RANK: 0 - CUDA_VISIBLE_DEVICES: [0]\n",
      "SLURM auto-requeueing enabled. Setting signal handlers.\n"
     ]
    },
    {
     "data": {
      "application/vnd.jupyter.widget-view+json": {
       "model_id": "029c7ca7452642b48e196fe741b7f733",
       "version_major": 2,
       "version_minor": 0
      },
      "text/plain": [
       "Testing: |          | 0/? [00:00<?, ?it/s]"
      ]
     },
     "metadata": {},
     "output_type": "display_data"
    },
    {
     "data": {
      "text/html": [
       "<pre style=\"white-space:pre;overflow-x:auto;line-height:normal;font-family:Menlo,'DejaVu Sans Mono',consolas,'Courier New',monospace\">┏━━━━━━━━━━━━━━━━━━━━━━━━━━━━━━━━━━━━━┳━━━━━━━━━━━━━━━━━━━━━━━━━━━━━━━━━━━━━┓\n",
       "┃<span style=\"font-weight: bold\">             Test metric             </span>┃<span style=\"font-weight: bold\">            DataLoader 0             </span>┃\n",
       "┡━━━━━━━━━━━━━━━━━━━━━━━━━━━━━━━━━━━━━╇━━━━━━━━━━━━━━━━━━━━━━━━━━━━━━━━━━━━━┩\n",
       "│<span style=\"color: #008080; text-decoration-color: #008080\">  Test:OutcomePerformanceMetricsctd  </span>│<span style=\"color: #800080; text-decoration-color: #800080\">         0.6127204895019531          </span>│\n",
       "│<span style=\"color: #008080; text-decoration-color: #008080\">  Test:OutcomePerformanceMetricsibs  </span>│<span style=\"color: #800080; text-decoration-color: #800080\">         0.03558166821578663         </span>│\n",
       "│<span style=\"color: #008080; text-decoration-color: #008080\"> Test:OutcomePerformanceMetricsinbll </span>│<span style=\"color: #800080; text-decoration-color: #800080\">         0.2495998501393419          </span>│\n",
       "│<span style=\"color: #008080; text-decoration-color: #008080\">              test_loss              </span>│<span style=\"color: #800080; text-decoration-color: #800080\">          9.032392501831055          </span>│\n",
       "│<span style=\"color: #008080; text-decoration-color: #008080\">          test_loss_desurv           </span>│<span style=\"color: #800080; text-decoration-color: #800080\">         18.286590576171875          </span>│\n",
       "│<span style=\"color: #008080; text-decoration-color: #008080\">          test_loss_values           </span>│<span style=\"color: #800080; text-decoration-color: #800080\">         -0.2218271940946579         </span>│\n",
       "└─────────────────────────────────────┴─────────────────────────────────────┘\n",
       "</pre>\n"
      ],
      "text/plain": [
       "┏━━━━━━━━━━━━━━━━━━━━━━━━━━━━━━━━━━━━━┳━━━━━━━━━━━━━━━━━━━━━━━━━━━━━━━━━━━━━┓\n",
       "┃\u001b[1m \u001b[0m\u001b[1m            Test metric            \u001b[0m\u001b[1m \u001b[0m┃\u001b[1m \u001b[0m\u001b[1m           DataLoader 0            \u001b[0m\u001b[1m \u001b[0m┃\n",
       "┡━━━━━━━━━━━━━━━━━━━━━━━━━━━━━━━━━━━━━╇━━━━━━━━━━━━━━━━━━━━━━━━━━━━━━━━━━━━━┩\n",
       "│\u001b[36m \u001b[0m\u001b[36m Test:OutcomePerformanceMetricsctd \u001b[0m\u001b[36m \u001b[0m│\u001b[35m \u001b[0m\u001b[35m        0.6127204895019531         \u001b[0m\u001b[35m \u001b[0m│\n",
       "│\u001b[36m \u001b[0m\u001b[36m Test:OutcomePerformanceMetricsibs \u001b[0m\u001b[36m \u001b[0m│\u001b[35m \u001b[0m\u001b[35m        0.03558166821578663        \u001b[0m\u001b[35m \u001b[0m│\n",
       "│\u001b[36m \u001b[0m\u001b[36mTest:OutcomePerformanceMetricsinbll\u001b[0m\u001b[36m \u001b[0m│\u001b[35m \u001b[0m\u001b[35m        0.2495998501393419         \u001b[0m\u001b[35m \u001b[0m│\n",
       "│\u001b[36m \u001b[0m\u001b[36m             test_loss             \u001b[0m\u001b[36m \u001b[0m│\u001b[35m \u001b[0m\u001b[35m         9.032392501831055         \u001b[0m\u001b[35m \u001b[0m│\n",
       "│\u001b[36m \u001b[0m\u001b[36m         test_loss_desurv          \u001b[0m\u001b[36m \u001b[0m│\u001b[35m \u001b[0m\u001b[35m        18.286590576171875         \u001b[0m\u001b[35m \u001b[0m│\n",
       "│\u001b[36m \u001b[0m\u001b[36m         test_loss_values          \u001b[0m\u001b[36m \u001b[0m│\u001b[35m \u001b[0m\u001b[35m        -0.2218271940946579        \u001b[0m\u001b[35m \u001b[0m│\n",
       "└─────────────────────────────────────┴─────────────────────────────────────┘\n"
      ]
     },
     "metadata": {},
     "output_type": "display_data"
    },
    {
     "name": "stdout",
     "output_type": "stream",
     "text": [
      "Loaded model with 11.433294 M parameters\n"
     ]
    },
    {
     "data": {
      "text/html": [
       "Waiting for W&B process to finish... <strong style=\"color:green\">(success).</strong>"
      ],
      "text/plain": [
       "<IPython.core.display.HTML object>"
      ]
     },
     "metadata": {},
     "output_type": "display_data"
    },
    {
     "data": {
      "text/html": [
       "<style>\n",
       "    table.wandb td:nth-child(1) { padding: 0 10px; text-align: left ; width: auto;} td:nth-child(2) {text-align: left ; width: 100%}\n",
       "    .wandb-row { display: flex; flex-direction: row; flex-wrap: wrap; justify-content: flex-start; width: 100% }\n",
       "    .wandb-col { display: flex; flex-direction: column; flex-basis: 100%; flex: 1; padding: 10px; }\n",
       "    </style>\n",
       "<div class=\"wandb-row\"><div class=\"wandb-col\"><h3>Run history:</h3><br/><table class=\"wandb\"><tr><td>Test:OutcomePerformanceMetricsctd</td><td>▁</td></tr><tr><td>Test:OutcomePerformanceMetricsibs</td><td>▁</td></tr><tr><td>Test:OutcomePerformanceMetricsinbll</td><td>▁</td></tr><tr><td>epoch</td><td>▁</td></tr><tr><td>test_loss</td><td>▁</td></tr><tr><td>test_loss_desurv</td><td>▁</td></tr><tr><td>test_loss_values</td><td>▁</td></tr><tr><td>trainer/global_step</td><td>▁</td></tr></table><br/></div><div class=\"wandb-col\"><h3>Run summary:</h3><br/><table class=\"wandb\"><tr><td>Test:OutcomePerformanceMetricsctd</td><td>0.61272</td></tr><tr><td>Test:OutcomePerformanceMetricsibs</td><td>0.03558</td></tr><tr><td>Test:OutcomePerformanceMetricsinbll</td><td>0.2496</td></tr><tr><td>epoch</td><td>0</td></tr><tr><td>test_loss</td><td>9.03239</td></tr><tr><td>test_loss_desurv</td><td>18.28659</td></tr><tr><td>test_loss_values</td><td>-0.22183</td></tr><tr><td>trainer/global_step</td><td>0</td></tr></table><br/></div></div>"
      ],
      "text/plain": [
       "<IPython.core.display.HTML object>"
      ]
     },
     "metadata": {},
     "output_type": "display_data"
    },
    {
     "data": {
      "text/html": [
       "Synced <strong style=\"color:#cdcd00\">CR_11M_CVD_0shot</strong>: <a href=\"https://wandb.ai/cwlgadd/SurvEHR_cr/runs/2pplg4el\" target=\"_blank\">https://wandb.ai/cwlgadd/SurvEHR_cr/runs/2pplg4el</a><br/>Synced 5 W&B file(s), 1 media file(s), 0 artifact file(s) and 0 other file(s)"
      ],
      "text/plain": [
       "<IPython.core.display.HTML object>"
      ]
     },
     "metadata": {},
     "output_type": "display_data"
    },
    {
     "data": {
      "text/html": [
       "Find logs at: <code>/rds/projects/s/subramaa-mum-predict/CharlesGadd_Oxford/FoundationModelOutput/wandb/run-20241014_132913-2pplg4el/logs</code>"
      ],
      "text/plain": [
       "<IPython.core.display.HTML object>"
      ]
     },
     "metadata": {},
     "output_type": "display_data"
    }
   ],
   "source": [
    "# load the configuration file, override any settings \n",
    "with initialize(version_base=None, config_path=\"../../confs\", job_name=\"testing_notebook\"):\n",
    "    cfg = compose(config_name=\"config_CompetingRisk11M\", \n",
    "                  overrides=[# Experiment setup\n",
    "                             \"experiment.type='zeroshot'\",\n",
    "                             \"experiment.run_id='CR_11M'\",\n",
    "                             \"experiment.fine_tune_id='CVD_0shot'\",\n",
    "                             \"experiment.train=False\",\n",
    "                             \"experiment.test=True\",\n",
    "                             'experiment.fine_tune_outcomes=[\"IHDINCLUDINGMI_OPTIMALV2\", \"ISCHAEMICSTROKE_V2\", \"MINFARCTION\", \"STROKEUNSPECIFIED_V2\", \"STROKE_HAEMRGIC\"]',\n",
    "                             # Dataloader\n",
    "                             \"data.path_to_ds=/rds/projects/g/gokhalkm-optimal/OPTIMAL_MASTER_DATASET/data/FoundationalModel/FineTune_CVD/\",\n",
    "                             \"data.meta_information_path=/rds/projects/g/gokhalkm-optimal/OPTIMAL_MASTER_DATASET/data/FoundationalModel/PreTrain/meta_information_QuantJenny.pickle\",\n",
    "                             \"data.min_workers=12\",\n",
    "                             # Optimiser\n",
    "                             \"optim.limit_test_batches=null\",\n",
    "                            ]\n",
    "                 )     \n",
    "\n",
    "# print(OmegaConf.to_yaml(cfg))\n",
    "model, dm = run(cfg)\n",
    "print(f\"Loaded model with {sum(p.numel() for p in model.parameters())/1e6} M parameters\")\n",
    "\n",
    "wandb.finish()\n"
   ]
  },
  {
   "cell_type": "markdown",
   "id": "df92d070-3a41-47f5-9480-4489d0e5818d",
   "metadata": {},
   "source": [
    "# Repeat this for the 37M parameter model\n",
    "\n",
    "```\n",
    "partial completion of new 129M model\n",
    "┏━━━━━━━━━━━━━━━━━━━━━━━━━━━━━━━━━━━━━┳━━━━━━━━━━━━━━━━━━━━━━━━━━━━━━━━━━━━━┓\n",
    "┃             Test metric             ┃            DataLoader 0             ┃\n",
    "┡━━━━━━━━━━━━━━━━━━━━━━━━━━━━━━━━━━━━━╇━━━━━━━━━━━━━━━━━━━━━━━━━━━━━━━━━━━━━┩\n",
    "│  Test:OutcomePerformanceMetricsctd  │          0.601206362247467          │\n",
    "│  Test:OutcomePerformanceMetricsibs  │        0.035615343504889076         │\n",
    "│ Test:OutcomePerformanceMetricsinbll │         0.2714460757858094          │\n",
    "│              test_loss              │          8.885648727416992          │\n",
    "│          test_loss_desurv           │          17.97450828552246          │\n",
    "│          test_loss_values           │         -0.2032042294740677         │\n",
    "└─────────────────────────────────────┴─────────────────────────────────────┘\n",
    "```"
   ]
  },
  {
   "cell_type": "code",
   "execution_count": 3,
   "id": "bbc92292-4fa9-4ce9-b960-2d4b6c84f90f",
   "metadata": {},
   "outputs": [
    {
     "name": "stderr",
     "output_type": "stream",
     "text": [
      "INFO:root:Running cr on 72 CPUs and 1 GPUs\n",
      "INFO:root:====================================================================================================\n",
      "INFO:root:# Loading DataModule for dataset /rds/projects/g/gokhalkm-optimal/OPTIMAL_MASTER_DATASET/data/FoundationalModel/FineTune_CVD/. This will be loaded in supervised form.\n",
      "INFO:root:====================================================================================================\n",
      "INFO:root:Creating supervised collator for DataModule\n",
      "INFO:root:Using meta information from /rds/projects/g/gokhalkm-optimal/OPTIMAL_MASTER_DATASET/data/FoundationalModel/PreTrain/meta_information_QuantJenny.pickle\n",
      "INFO:root:Using train file-row count dictionary from /rds/projects/g/gokhalkm-optimal/OPTIMAL_MASTER_DATASET/data/FoundationalModel/FineTune_CVD/file_row_count_dict_train.pickle\n",
      "INFO:root:Using test file-row count dictionary from /rds/projects/g/gokhalkm-optimal/OPTIMAL_MASTER_DATASET/data/FoundationalModel/FineTune_CVD/file_row_count_dict_test.pickle\n",
      "INFO:root:Using val file-row count dictionary from /rds/projects/g/gokhalkm-optimal/OPTIMAL_MASTER_DATASET/data/FoundationalModel/FineTune_CVD/file_row_count_dict_val.pickle\n",
      "INFO:root:Tokenzier created based on 7,555,415,275 tokens\n",
      "INFO:root:Using tabular tokenizer, created from meta information and containing 265 tokens\n",
      "INFO:root:Loaded /rds/projects/g/gokhalkm-optimal/OPTIMAL_MASTER_DATASET/data/FoundationalModel/FineTune_CVD/split=train/ dataset, with 572,096 samples\n",
      "INFO:root:Loaded /rds/projects/g/gokhalkm-optimal/OPTIMAL_MASTER_DATASET/data/FoundationalModel/FineTune_CVD/split=test/ dataset, with 35,758 samples\n",
      "INFO:root:Loaded /rds/projects/g/gokhalkm-optimal/OPTIMAL_MASTER_DATASET/data/FoundationalModel/FineTune_CVD/split=val/ dataset, with 33,280 samples\n",
      "INFO:root:is_decoder: true\n",
      "data:\n",
      "  batch_size: 64\n",
      "  unk_freq_threshold: 0.0\n",
      "  min_workers: 12\n",
      "  global_diagnoses: false\n",
      "  path_to_db: /rds/projects/g/gokhalkm-optimal/OPTIMAL_MASTER_DATASET/data/FoundationalModel/\n",
      "  path_to_ds: /rds/projects/g/gokhalkm-optimal/OPTIMAL_MASTER_DATASET/data/FoundationalModel/FineTune_CVD/\n",
      "  meta_information_path: /rds/projects/g/gokhalkm-optimal/OPTIMAL_MASTER_DATASET/data/FoundationalModel/PreTrain/meta_information_QuantJenny.pickle\n",
      "experiment:\n",
      "  type: zeroshot\n",
      "  project_name: SurvEHR_${head.SurvLayer}\n",
      "  run_id: CR_37M\n",
      "  fine_tune_id: CVD_0shot\n",
      "  train: false\n",
      "  test: true\n",
      "  verbose: true\n",
      "  seed: 1337\n",
      "  log: true\n",
      "  log_dir: /rds/projects/s/subramaa-mum-predict/CharlesGadd_Oxford/FoundationModelOutput/\n",
      "  ckpt_dir: /rds/projects/s/subramaa-mum-predict/CharlesGadd_Oxford/FoundationModelOutput/checkpoints/\n",
      "  fine_tune_outcomes:\n",
      "  - IHDINCLUDINGMI_OPTIMALV2\n",
      "  - ISCHAEMICSTROKE_V2\n",
      "  - MINFARCTION\n",
      "  - STROKEUNSPECIFIED_V2\n",
      "  - STROKE_HAEMRGIC\n",
      "optim:\n",
      "  num_epochs: 5\n",
      "  learning_rate: 0.0003\n",
      "  scheduler_warmup: true\n",
      "  scheduler: CAWarmRestarts\n",
      "  scheduler_periods: 10000\n",
      "  learning_rate_decay: 0.8\n",
      "  val_check_interval: 2500\n",
      "  early_stop: true\n",
      "  early_stop_patience: 30\n",
      "  log_every_n_steps: 20\n",
      "  limit_val_batches: 0.025\n",
      "  limit_test_batches: null\n",
      "transformer:\n",
      "  block_type: Neo\n",
      "  block_size: 256\n",
      "  n_layer: 10\n",
      "  n_head: 8\n",
      "  n_embd: 384\n",
      "  layer_norm_bias: false\n",
      "  attention_type: global\n",
      "  bias: true\n",
      "  dropout: 0\n",
      "  attention_dropout: 0\n",
      "  resid_dropout: 0\n",
      "head:\n",
      "  SurvLayer: cr\n",
      "  surv_weight: 0.9\n",
      "  tokens_for_univariate_regression:\n",
      "  - 84\n",
      "  - 86\n",
      "  - 107\n",
      "  - 154\n",
      "  - 42\n",
      "  - 231\n",
      "  - 63\n",
      "  - 85\n",
      "  - 247\n",
      "  - 51\n",
      "  - 103\n",
      "  - 146\n",
      "  - 66\n",
      "  - 172\n",
      "  - 152\n",
      "  - 261\n",
      "  - 235\n",
      "  - 193\n",
      "  - 184\n",
      "  - 101\n",
      "  - 223\n",
      "  - 135\n",
      "  - 226\n",
      "  - 202\n",
      "  - 145\n",
      "  - 244\n",
      "  - 165\n",
      "  - 64\n",
      "  - 185\n",
      "  - 238\n",
      "  - 220\n",
      "  - 232\n",
      "  - 240\n",
      "  - 237\n",
      "  - 17\n",
      "  - 239\n",
      "  - 217\n",
      "  - 118\n",
      "  - 219\n",
      "  - 251\n",
      "  - 25\n",
      "  - 150\n",
      "  - 111\n",
      "  - 102\n",
      "  - 15\n",
      "  - 110\n",
      "  - 130\n",
      "  - 128\n",
      "  - 122\n",
      "  - 99\n",
      "  - 77\n",
      "  - 96\n",
      "  - 140\n",
      "  - 50\n",
      "  - 80\n",
      "  - 108\n",
      "  - 138\n",
      "  - 27\n",
      "  - 139\n",
      "  - 125\n",
      "  - 117\n",
      "  - 105\n",
      "  - 109\n",
      "  - 243\n",
      "  - 236\n",
      "  - 208\n",
      "  - 98\n",
      "  - 176\n",
      "  - 209\n",
      "  - 194\n",
      "  - 61\n",
      "  - 73\n",
      "  - 214\n",
      "  - 206\n",
      "  - 229\n",
      "  - 225\n",
      "  - 183\n",
      "  - 186\n",
      "  - 215\n",
      "  - 187\n",
      "  - 248\n",
      "  - 179\n",
      "  - 163\n",
      "  - 180\n",
      "  - 181\n",
      "  - 153\n",
      "  - 245\n",
      "  - 54\n",
      "  - 246\n",
      "  - 112\n",
      "  - 212\n",
      "  - 141\n",
      "  - 204\n",
      "  - 227\n",
      "  - 173\n",
      "  - 55\n",
      "  - 119\n",
      "  - 262\n",
      "  - 127\n",
      "  - 71\n",
      "  - 59\n",
      "  - 144\n",
      "  - 113\n",
      "  - 170\n",
      "  - 241\n",
      "  - 168\n",
      "  - 47\n",
      "  - 159\n",
      "  value_weight: 0.1\n",
      "\n",
      "INFO:root:====================================================================================================\n",
      "INFO:root:# Loading a pre-trained model with the checkpoint path /rds/projects/s/subramaa-mum-predict/CharlesGadd_Oxford/FoundationModelOutput/checkpoints/CR_37M.ckpt. Evaluating supervised performance\n",
      "INFO:root:====================================================================================================\n",
      "INFO:torch.distributed.nn.jit.instantiator:Created a temporary directory at /tmp/tmp7j31n7mn\n",
      "INFO:torch.distributed.nn.jit.instantiator:Writing /tmp/tmp7j31n7mn/_remote_module_non_scriptable.py\n",
      "INFO:root:Using Temporal Positional Encoding. This module uses the patient's age at an event within their time series.\n",
      "INFO:root:Using Competing-Risk DeSurv head.\n",
      "INFO:root:Internally scaling time in survival head by 1825 days\n",
      "INFO:root:In generation forwarding DeSurv on the grid between [0.0, 1825.0] with 1826 time-points of delta=1.0\n",
      "INFO:root:Trainable parameters: all parameters\n",
      "GPU available: True (cuda), used: True\n",
      "TPU available: False, using: 0 TPU cores\n",
      "IPU available: False, using: 0 IPUs\n",
      "HPU available: False, using: 0 HPUs\n",
      "INFO:root:Testing model.\n",
      "ERROR:wandb.jupyter:Failed to detect the name of this notebook, you can set it manually with the WANDB_NOTEBOOK_NAME environment variable to enable code saving.\n",
      "\u001b[34m\u001b[1mwandb\u001b[0m: Currently logged in as: \u001b[33mcwlgadd\u001b[0m. Use \u001b[1m`wandb login --relogin`\u001b[0m to force relogin\n"
     ]
    },
    {
     "data": {
      "text/html": [
       "wandb version 0.18.3 is available!  To upgrade, please run:\n",
       " $ pip install wandb --upgrade"
      ],
      "text/plain": [
       "<IPython.core.display.HTML object>"
      ]
     },
     "metadata": {},
     "output_type": "display_data"
    },
    {
     "data": {
      "text/html": [
       "Tracking run with wandb version 0.13.6"
      ],
      "text/plain": [
       "<IPython.core.display.HTML object>"
      ]
     },
     "metadata": {},
     "output_type": "display_data"
    },
    {
     "data": {
      "text/html": [
       "Run data is saved locally in <code>/rds/projects/s/subramaa-mum-predict/CharlesGadd_Oxford/FoundationModelOutput/wandb/run-20241012_170936-bssi3qs9</code>"
      ],
      "text/plain": [
       "<IPython.core.display.HTML object>"
      ]
     },
     "metadata": {},
     "output_type": "display_data"
    },
    {
     "data": {
      "text/html": [
       "Syncing run <strong><a href=\"https://wandb.ai/cwlgadd/SurvEHR_cr/runs/bssi3qs9\" target=\"_blank\">CR_37M_CVD_0shot</a></strong> to <a href=\"https://wandb.ai/cwlgadd/SurvEHR_cr\" target=\"_blank\">Weights & Biases</a> (<a href=\"https://wandb.me/run\" target=\"_blank\">docs</a>)<br/>"
      ],
      "text/plain": [
       "<IPython.core.display.HTML object>"
      ]
     },
     "metadata": {},
     "output_type": "display_data"
    },
    {
     "name": "stderr",
     "output_type": "stream",
     "text": [
      "LOCAL_RANK: 0 - CUDA_VISIBLE_DEVICES: [0]\n",
      "SLURM auto-requeueing enabled. Setting signal handlers.\n"
     ]
    },
    {
     "data": {
      "application/vnd.jupyter.widget-view+json": {
       "model_id": "174e65ff02304290ad31ca7f28290287",
       "version_major": 2,
       "version_minor": 0
      },
      "text/plain": [
       "Testing: |          | 0/? [00:00<?, ?it/s]"
      ]
     },
     "metadata": {},
     "output_type": "display_data"
    },
    {
     "data": {
      "text/html": [
       "<pre style=\"white-space:pre;overflow-x:auto;line-height:normal;font-family:Menlo,'DejaVu Sans Mono',consolas,'Courier New',monospace\">┏━━━━━━━━━━━━━━━━━━━━━━━━━━━━━━━━━━━━━┳━━━━━━━━━━━━━━━━━━━━━━━━━━━━━━━━━━━━━┓\n",
       "┃<span style=\"font-weight: bold\">             Test metric             </span>┃<span style=\"font-weight: bold\">            DataLoader 0             </span>┃\n",
       "┡━━━━━━━━━━━━━━━━━━━━━━━━━━━━━━━━━━━━━╇━━━━━━━━━━━━━━━━━━━━━━━━━━━━━━━━━━━━━┩\n",
       "│<span style=\"color: #008080; text-decoration-color: #008080\">  Test:OutcomePerformanceMetricsctd  </span>│<span style=\"color: #800080; text-decoration-color: #800080\">          0.58172208070755           </span>│\n",
       "│<span style=\"color: #008080; text-decoration-color: #008080\">  Test:OutcomePerformanceMetricsibs  </span>│<span style=\"color: #800080; text-decoration-color: #800080\">        0.035216640838986284         </span>│\n",
       "│<span style=\"color: #008080; text-decoration-color: #008080\"> Test:OutcomePerformanceMetricsinbll </span>│<span style=\"color: #800080; text-decoration-color: #800080\">         0.19741412818471304         </span>│\n",
       "│<span style=\"color: #008080; text-decoration-color: #008080\">              test_loss              </span>│<span style=\"color: #800080; text-decoration-color: #800080\">         15.430459976196289          </span>│\n",
       "│<span style=\"color: #008080; text-decoration-color: #008080\">          test_loss_desurv           </span>│<span style=\"color: #800080; text-decoration-color: #800080\">          17.1679630279541           </span>│\n",
       "│<span style=\"color: #008080; text-decoration-color: #008080\">          test_loss_values           </span>│<span style=\"color: #800080; text-decoration-color: #800080\">        -0.20718777179718018         </span>│\n",
       "└─────────────────────────────────────┴─────────────────────────────────────┘\n",
       "</pre>\n"
      ],
      "text/plain": [
       "┏━━━━━━━━━━━━━━━━━━━━━━━━━━━━━━━━━━━━━┳━━━━━━━━━━━━━━━━━━━━━━━━━━━━━━━━━━━━━┓\n",
       "┃\u001b[1m \u001b[0m\u001b[1m            Test metric            \u001b[0m\u001b[1m \u001b[0m┃\u001b[1m \u001b[0m\u001b[1m           DataLoader 0            \u001b[0m\u001b[1m \u001b[0m┃\n",
       "┡━━━━━━━━━━━━━━━━━━━━━━━━━━━━━━━━━━━━━╇━━━━━━━━━━━━━━━━━━━━━━━━━━━━━━━━━━━━━┩\n",
       "│\u001b[36m \u001b[0m\u001b[36m Test:OutcomePerformanceMetricsctd \u001b[0m\u001b[36m \u001b[0m│\u001b[35m \u001b[0m\u001b[35m         0.58172208070755          \u001b[0m\u001b[35m \u001b[0m│\n",
       "│\u001b[36m \u001b[0m\u001b[36m Test:OutcomePerformanceMetricsibs \u001b[0m\u001b[36m \u001b[0m│\u001b[35m \u001b[0m\u001b[35m       0.035216640838986284        \u001b[0m\u001b[35m \u001b[0m│\n",
       "│\u001b[36m \u001b[0m\u001b[36mTest:OutcomePerformanceMetricsinbll\u001b[0m\u001b[36m \u001b[0m│\u001b[35m \u001b[0m\u001b[35m        0.19741412818471304        \u001b[0m\u001b[35m \u001b[0m│\n",
       "│\u001b[36m \u001b[0m\u001b[36m             test_loss             \u001b[0m\u001b[36m \u001b[0m│\u001b[35m \u001b[0m\u001b[35m        15.430459976196289         \u001b[0m\u001b[35m \u001b[0m│\n",
       "│\u001b[36m \u001b[0m\u001b[36m         test_loss_desurv          \u001b[0m\u001b[36m \u001b[0m│\u001b[35m \u001b[0m\u001b[35m         17.1679630279541          \u001b[0m\u001b[35m \u001b[0m│\n",
       "│\u001b[36m \u001b[0m\u001b[36m         test_loss_values          \u001b[0m\u001b[36m \u001b[0m│\u001b[35m \u001b[0m\u001b[35m       -0.20718777179718018        \u001b[0m\u001b[35m \u001b[0m│\n",
       "└─────────────────────────────────────┴─────────────────────────────────────┘\n"
      ]
     },
     "metadata": {},
     "output_type": "display_data"
    },
    {
     "name": "stdout",
     "output_type": "stream",
     "text": [
      "Loaded model with 18.455118 M parameters\n"
     ]
    },
    {
     "data": {
      "text/html": [
       "Waiting for W&B process to finish... <strong style=\"color:green\">(success).</strong>"
      ],
      "text/plain": [
       "<IPython.core.display.HTML object>"
      ]
     },
     "metadata": {},
     "output_type": "display_data"
    },
    {
     "data": {
      "text/html": [
       "<style>\n",
       "    table.wandb td:nth-child(1) { padding: 0 10px; text-align: left ; width: auto;} td:nth-child(2) {text-align: left ; width: 100%}\n",
       "    .wandb-row { display: flex; flex-direction: row; flex-wrap: wrap; justify-content: flex-start; width: 100% }\n",
       "    .wandb-col { display: flex; flex-direction: column; flex-basis: 100%; flex: 1; padding: 10px; }\n",
       "    </style>\n",
       "<div class=\"wandb-row\"><div class=\"wandb-col\"><h3>Run history:</h3><br/><table class=\"wandb\"><tr><td>Test:OutcomePerformanceMetricsctd</td><td>▁</td></tr><tr><td>Test:OutcomePerformanceMetricsibs</td><td>▁</td></tr><tr><td>Test:OutcomePerformanceMetricsinbll</td><td>▁</td></tr><tr><td>epoch</td><td>▁</td></tr><tr><td>test_loss</td><td>▁</td></tr><tr><td>test_loss_desurv</td><td>▁</td></tr><tr><td>test_loss_values</td><td>▁</td></tr><tr><td>trainer/global_step</td><td>▁</td></tr></table><br/></div><div class=\"wandb-col\"><h3>Run summary:</h3><br/><table class=\"wandb\"><tr><td>Test:OutcomePerformanceMetricsctd</td><td>0.58172</td></tr><tr><td>Test:OutcomePerformanceMetricsibs</td><td>0.03522</td></tr><tr><td>Test:OutcomePerformanceMetricsinbll</td><td>0.19741</td></tr><tr><td>epoch</td><td>0</td></tr><tr><td>test_loss</td><td>15.43046</td></tr><tr><td>test_loss_desurv</td><td>17.16796</td></tr><tr><td>test_loss_values</td><td>-0.20719</td></tr><tr><td>trainer/global_step</td><td>0</td></tr></table><br/></div></div>"
      ],
      "text/plain": [
       "<IPython.core.display.HTML object>"
      ]
     },
     "metadata": {},
     "output_type": "display_data"
    },
    {
     "data": {
      "text/html": [
       "Synced <strong style=\"color:#cdcd00\">CR_37M_CVD_0shot</strong>: <a href=\"https://wandb.ai/cwlgadd/SurvEHR_cr/runs/bssi3qs9\" target=\"_blank\">https://wandb.ai/cwlgadd/SurvEHR_cr/runs/bssi3qs9</a><br/>Synced 5 W&B file(s), 1 media file(s), 0 artifact file(s) and 0 other file(s)"
      ],
      "text/plain": [
       "<IPython.core.display.HTML object>"
      ]
     },
     "metadata": {},
     "output_type": "display_data"
    },
    {
     "data": {
      "text/html": [
       "Find logs at: <code>/rds/projects/s/subramaa-mum-predict/CharlesGadd_Oxford/FoundationModelOutput/wandb/run-20241012_170936-bssi3qs9/logs</code>"
      ],
      "text/plain": [
       "<IPython.core.display.HTML object>"
      ]
     },
     "metadata": {},
     "output_type": "display_data"
    }
   ],
   "source": [
    "# load the configuration file, override any settings \n",
    "with initialize(version_base=None, config_path=\"../../confs\", job_name=\"testing_notebook\"):\n",
    "    cfg = compose(config_name=\"config_CompetingRisk37M\", \n",
    "                  overrides=[# Experiment setup\n",
    "                             \"experiment.type='zeroshot'\",\n",
    "                             \"experiment.run_id='CR_37M'\",\n",
    "                             \"experiment.fine_tune_id='CVD_0shot'\",\n",
    "                             \"experiment.train=False\",\n",
    "                             \"experiment.test=True\",\n",
    "                             'experiment.fine_tune_outcomes=[\"IHDINCLUDINGMI_OPTIMALV2\", \"ISCHAEMICSTROKE_V2\", \"MINFARCTION\", \"STROKEUNSPECIFIED_V2\", \"STROKE_HAEMRGIC\"]',\n",
    "                             # Dataloader\n",
    "                             \"data.path_to_ds=/rds/projects/g/gokhalkm-optimal/OPTIMAL_MASTER_DATASET/data/FoundationalModel/FineTune_CVD/\",\n",
    "                             \"data.meta_information_path=/rds/projects/g/gokhalkm-optimal/OPTIMAL_MASTER_DATASET/data/FoundationalModel/PreTrain/meta_information_QuantJenny.pickle\",\n",
    "                             \"data.min_workers=12\",\n",
    "                             # Optimiser\n",
    "                             \"optim.limit_test_batches=null\",\n",
    "                            ]\n",
    "                 )     \n",
    "\n",
    "model, dm = run(cfg)\n",
    "print(f\"Loaded model with {sum(p.numel() for p in model.parameters())/1e6} M parameters\")\n",
    "\n",
    "wandb.finish()"
   ]
  },
  {
   "cell_type": "code",
   "execution_count": 8,
   "id": "ab4e2467-bfc5-47cf-8e26-7a38cc093965",
   "metadata": {
    "scrolled": true
   },
   "outputs": [
    {
     "name": "stdout",
     "output_type": "stream",
     "text": [
      "SurvStreamGPTForCausalModelling(\n",
      "  (transformer): TTETransformer(\n",
      "    (wpe): TemporalPositionalEncoding()\n",
      "    (wte): DataEmbeddingLayer(\n",
      "      (static_proj): Linear(in_features=16, out_features=1024, bias=True)\n",
      "      (dynamic_embedding_layer): SplitDynamicEmbeddingLayer(\n",
      "        (cat_event_embed_layer): Embedding(265, 1024, padding_idx=0)\n",
      "        (cat_event_proj): Linear(in_features=1024, out_features=1024, bias=True)\n",
      "        (num_value_embed_layer): EmbeddingBag(265, 1024, mode='sum', padding_idx=0)\n",
      "        (num_value_proj): Linear(in_features=1024, out_features=1024, bias=True)\n",
      "      )\n",
      "    )\n",
      "    (drop): Dropout(p=0.2, inplace=False)\n",
      "    (blocks): ModuleList(\n",
      "      (0-9): 10 x Block(\n",
      "        (ln_1): LayerNorm((1024,), eps=1e-05, elementwise_affine=True)\n",
      "        (attn): MultiHeadedSelfAttention(\n",
      "          (attn_dropout): Dropout(p=0.2, inplace=False)\n",
      "          (resid_dropout): Dropout(p=0.2, inplace=False)\n",
      "          (k_proj): Linear(in_features=1024, out_features=1024, bias=False)\n",
      "          (v_proj): Linear(in_features=1024, out_features=1024, bias=False)\n",
      "          (q_proj): Linear(in_features=1024, out_features=1024, bias=False)\n",
      "          (out_proj): Linear(in_features=1024, out_features=1024, bias=True)\n",
      "        )\n",
      "        (ln_2): LayerNorm((1024,), eps=1e-05, elementwise_affine=True)\n",
      "        (mlp): MLP(\n",
      "          (c_fc): Linear(in_features=1024, out_features=4096, bias=True)\n",
      "          (acti): ReLU()\n",
      "          (c_proj): Linear(in_features=4096, out_features=1024, bias=True)\n",
      "          (dropout): Dropout(p=0.2, inplace=False)\n",
      "        )\n",
      "      )\n",
      "    )\n",
      "    (ln_f): LayerNorm((1024,), eps=1e-05, elementwise_affine=True)\n",
      "  )\n",
      "  (surv_layer): ODESurvCompetingRiskLayer(\n",
      "    (sr_ode): ODESurvMultiple(\n",
      "      (pinet): FCNet(\n",
      "        (mapping): Sequential(\n",
      "          (0): Linear(in_features=1024, out_features=264, bias=True)\n",
      "          (1): Softmax(dim=1)\n",
      "        )\n",
      "      )\n",
      "      (odenet): CondODENet(\n",
      "        (BaseNet): FCNet(\n",
      "          (mapping): Sequential(\n",
      "            (0): Linear(in_features=1025, out_features=264, bias=True)\n",
      "            (1): Softplus(beta=1, threshold=20)\n",
      "          )\n",
      "        )\n",
      "      )\n",
      "    )\n",
      "  )\n",
      "  (value_layer): GaussianRegressionLayer(\n",
      "    (regression_layers): ModuleDict(\n",
      "      (Token 84): Linear(in_features=1024, out_features=2, bias=True)\n",
      "      (Token 86): Linear(in_features=1024, out_features=2, bias=True)\n",
      "      (Token 107): Linear(in_features=1024, out_features=2, bias=True)\n",
      "      (Token 154): Linear(in_features=1024, out_features=2, bias=True)\n",
      "      (Token 42): Linear(in_features=1024, out_features=2, bias=True)\n",
      "      (Token 231): Linear(in_features=1024, out_features=2, bias=True)\n",
      "      (Token 63): Linear(in_features=1024, out_features=2, bias=True)\n",
      "      (Token 85): Linear(in_features=1024, out_features=2, bias=True)\n",
      "      (Token 247): Linear(in_features=1024, out_features=2, bias=True)\n",
      "      (Token 51): Linear(in_features=1024, out_features=2, bias=True)\n",
      "      (Token 103): Linear(in_features=1024, out_features=2, bias=True)\n",
      "      (Token 146): Linear(in_features=1024, out_features=2, bias=True)\n",
      "      (Token 66): Linear(in_features=1024, out_features=2, bias=True)\n",
      "      (Token 172): Linear(in_features=1024, out_features=2, bias=True)\n",
      "      (Token 152): Linear(in_features=1024, out_features=2, bias=True)\n",
      "      (Token 261): Linear(in_features=1024, out_features=2, bias=True)\n",
      "      (Token 235): Linear(in_features=1024, out_features=2, bias=True)\n",
      "      (Token 193): Linear(in_features=1024, out_features=2, bias=True)\n",
      "      (Token 184): Linear(in_features=1024, out_features=2, bias=True)\n",
      "      (Token 101): Linear(in_features=1024, out_features=2, bias=True)\n",
      "      (Token 223): Linear(in_features=1024, out_features=2, bias=True)\n",
      "      (Token 135): Linear(in_features=1024, out_features=2, bias=True)\n",
      "      (Token 226): Linear(in_features=1024, out_features=2, bias=True)\n",
      "      (Token 202): Linear(in_features=1024, out_features=2, bias=True)\n",
      "      (Token 145): Linear(in_features=1024, out_features=2, bias=True)\n",
      "      (Token 244): Linear(in_features=1024, out_features=2, bias=True)\n",
      "      (Token 165): Linear(in_features=1024, out_features=2, bias=True)\n",
      "      (Token 64): Linear(in_features=1024, out_features=2, bias=True)\n",
      "      (Token 185): Linear(in_features=1024, out_features=2, bias=True)\n",
      "      (Token 238): Linear(in_features=1024, out_features=2, bias=True)\n",
      "      (Token 220): Linear(in_features=1024, out_features=2, bias=True)\n",
      "      (Token 232): Linear(in_features=1024, out_features=2, bias=True)\n",
      "      (Token 240): Linear(in_features=1024, out_features=2, bias=True)\n",
      "      (Token 237): Linear(in_features=1024, out_features=2, bias=True)\n",
      "      (Token 17): Linear(in_features=1024, out_features=2, bias=True)\n",
      "      (Token 239): Linear(in_features=1024, out_features=2, bias=True)\n",
      "      (Token 217): Linear(in_features=1024, out_features=2, bias=True)\n",
      "      (Token 118): Linear(in_features=1024, out_features=2, bias=True)\n",
      "      (Token 219): Linear(in_features=1024, out_features=2, bias=True)\n",
      "      (Token 251): Linear(in_features=1024, out_features=2, bias=True)\n",
      "      (Token 25): Linear(in_features=1024, out_features=2, bias=True)\n",
      "      (Token 150): Linear(in_features=1024, out_features=2, bias=True)\n",
      "      (Token 111): Linear(in_features=1024, out_features=2, bias=True)\n",
      "      (Token 102): Linear(in_features=1024, out_features=2, bias=True)\n",
      "      (Token 15): Linear(in_features=1024, out_features=2, bias=True)\n",
      "      (Token 110): Linear(in_features=1024, out_features=2, bias=True)\n",
      "      (Token 130): Linear(in_features=1024, out_features=2, bias=True)\n",
      "      (Token 128): Linear(in_features=1024, out_features=2, bias=True)\n",
      "      (Token 122): Linear(in_features=1024, out_features=2, bias=True)\n",
      "      (Token 99): Linear(in_features=1024, out_features=2, bias=True)\n",
      "      (Token 77): Linear(in_features=1024, out_features=2, bias=True)\n",
      "      (Token 96): Linear(in_features=1024, out_features=2, bias=True)\n",
      "      (Token 140): Linear(in_features=1024, out_features=2, bias=True)\n",
      "      (Token 50): Linear(in_features=1024, out_features=2, bias=True)\n",
      "      (Token 80): Linear(in_features=1024, out_features=2, bias=True)\n",
      "      (Token 108): Linear(in_features=1024, out_features=2, bias=True)\n",
      "      (Token 138): Linear(in_features=1024, out_features=2, bias=True)\n",
      "      (Token 27): Linear(in_features=1024, out_features=2, bias=True)\n",
      "      (Token 139): Linear(in_features=1024, out_features=2, bias=True)\n",
      "      (Token 125): Linear(in_features=1024, out_features=2, bias=True)\n",
      "      (Token 117): Linear(in_features=1024, out_features=2, bias=True)\n",
      "      (Token 105): Linear(in_features=1024, out_features=2, bias=True)\n",
      "      (Token 109): Linear(in_features=1024, out_features=2, bias=True)\n",
      "      (Token 243): Linear(in_features=1024, out_features=2, bias=True)\n",
      "      (Token 236): Linear(in_features=1024, out_features=2, bias=True)\n",
      "      (Token 208): Linear(in_features=1024, out_features=2, bias=True)\n",
      "      (Token 98): Linear(in_features=1024, out_features=2, bias=True)\n",
      "      (Token 176): Linear(in_features=1024, out_features=2, bias=True)\n",
      "      (Token 209): Linear(in_features=1024, out_features=2, bias=True)\n",
      "      (Token 194): Linear(in_features=1024, out_features=2, bias=True)\n",
      "      (Token 61): Linear(in_features=1024, out_features=2, bias=True)\n",
      "      (Token 73): Linear(in_features=1024, out_features=2, bias=True)\n",
      "      (Token 214): Linear(in_features=1024, out_features=2, bias=True)\n",
      "      (Token 206): Linear(in_features=1024, out_features=2, bias=True)\n",
      "      (Token 229): Linear(in_features=1024, out_features=2, bias=True)\n",
      "      (Token 225): Linear(in_features=1024, out_features=2, bias=True)\n",
      "      (Token 183): Linear(in_features=1024, out_features=2, bias=True)\n",
      "      (Token 186): Linear(in_features=1024, out_features=2, bias=True)\n",
      "      (Token 215): Linear(in_features=1024, out_features=2, bias=True)\n",
      "      (Token 187): Linear(in_features=1024, out_features=2, bias=True)\n",
      "      (Token 248): Linear(in_features=1024, out_features=2, bias=True)\n",
      "      (Token 179): Linear(in_features=1024, out_features=2, bias=True)\n",
      "      (Token 163): Linear(in_features=1024, out_features=2, bias=True)\n",
      "      (Token 180): Linear(in_features=1024, out_features=2, bias=True)\n",
      "      (Token 181): Linear(in_features=1024, out_features=2, bias=True)\n",
      "      (Token 153): Linear(in_features=1024, out_features=2, bias=True)\n",
      "      (Token 245): Linear(in_features=1024, out_features=2, bias=True)\n",
      "      (Token 54): Linear(in_features=1024, out_features=2, bias=True)\n",
      "      (Token 246): Linear(in_features=1024, out_features=2, bias=True)\n",
      "      (Token 112): Linear(in_features=1024, out_features=2, bias=True)\n",
      "      (Token 212): Linear(in_features=1024, out_features=2, bias=True)\n",
      "      (Token 141): Linear(in_features=1024, out_features=2, bias=True)\n",
      "      (Token 204): Linear(in_features=1024, out_features=2, bias=True)\n",
      "      (Token 227): Linear(in_features=1024, out_features=2, bias=True)\n",
      "      (Token 173): Linear(in_features=1024, out_features=2, bias=True)\n",
      "      (Token 55): Linear(in_features=1024, out_features=2, bias=True)\n",
      "      (Token 119): Linear(in_features=1024, out_features=2, bias=True)\n",
      "      (Token 262): Linear(in_features=1024, out_features=2, bias=True)\n",
      "      (Token 127): Linear(in_features=1024, out_features=2, bias=True)\n",
      "      (Token 71): Linear(in_features=1024, out_features=2, bias=True)\n",
      "      (Token 59): Linear(in_features=1024, out_features=2, bias=True)\n",
      "      (Token 144): Linear(in_features=1024, out_features=2, bias=True)\n",
      "      (Token 113): Linear(in_features=1024, out_features=2, bias=True)\n",
      "      (Token 170): Linear(in_features=1024, out_features=2, bias=True)\n",
      "      (Token 241): Linear(in_features=1024, out_features=2, bias=True)\n",
      "      (Token 168): Linear(in_features=1024, out_features=2, bias=True)\n",
      "      (Token 47): Linear(in_features=1024, out_features=2, bias=True)\n",
      "      (Token 159): Linear(in_features=1024, out_features=2, bias=True)\n",
      "    )\n",
      "  )\n",
      ")\n"
     ]
    }
   ],
   "source": [
    "# import wandb\n",
    "print(model)\n",
    "# wandb.finish()"
   ]
  },
  {
   "cell_type": "code",
   "execution_count": null,
   "id": "d078715e-c1dc-4726-bf06-0d6cba9261fb",
   "metadata": {},
   "outputs": [],
   "source": [
    "dm.encode(['IHDINCLUDINGMI_OPTIMALV2', 'ISCHAEMICSTROKE_V2', 'MINFARCTION', 'STROKEUNSPECIFIED_V2', 'STROKE_HAEMRGIC'])\n",
    "# display(dm.decode([95, 175, 263,249]).split(\" \"))"
   ]
  },
  {
   "cell_type": "code",
   "execution_count": null,
   "id": "9aa0352a-f7cc-40ea-b456-97f1e59adcf3",
   "metadata": {},
   "outputs": [],
   "source": [
    "dm.tokenizer._event_counts[\"EVENT\"][-5:].to_list()"
   ]
  },
  {
   "cell_type": "code",
   "execution_count": null,
   "id": "655e044f-4d3a-4c03-a3aa-c460e1ffd662",
   "metadata": {},
   "outputs": [],
   "source": []
  },
  {
   "cell_type": "code",
   "execution_count": null,
   "id": "8a9d7a7c-242a-4ba1-ae98-2a5ac7ed8d22",
   "metadata": {},
   "outputs": [],
   "source": []
  },
  {
   "cell_type": "code",
   "execution_count": null,
   "id": "42a8bb11-e10a-4319-8050-2703af0e4d33",
   "metadata": {},
   "outputs": [],
   "source": []
  },
  {
   "cell_type": "code",
   "execution_count": 15,
   "id": "7644335f-9a9e-49be-963a-6ed1ca22adf5",
   "metadata": {},
   "outputs": [],
   "source": [
    "save_path = f\"/rds/projects/s/subramaa-mum-predict/CharlesGadd_Oxford/FoundationModelOutput/checkpoints/{cfg.experiment.run_id}/\""
   ]
  },
  {
   "cell_type": "markdown",
   "id": "2db2b285-c23f-4fd2-8e66-e20159e8e271",
   "metadata": {},
   "source": [
    "# Load Pre-Trained model"
   ]
  },
  {
   "cell_type": "code",
   "execution_count": null,
   "id": "b6f37089-e294-46c0-bc4a-ce3ae00300b5",
   "metadata": {
    "scrolled": true
   },
   "outputs": [],
   "source": [
    "ckpt_path = cfg.experiment.log_dir + f'checkpoints/{cfg.experiment.run_id}.ckpt'\n",
    "model = SurvivalExperiment.load_from_checkpoint(ckpt_path)"
   ]
  },
  {
   "cell_type": "markdown",
   "id": "53ae57fb-6ca7-4e7f-9b79-b99bb5a10b52",
   "metadata": {},
   "source": [
    "# Initialise fine-tuning data module"
   ]
  },
  {
   "cell_type": "code",
   "execution_count": 5,
   "id": "a8e90c2f-04c5-4f31-86f0-4f3800fa9325",
   "metadata": {
    "scrolled": true
   },
   "outputs": [
    {
     "name": "stderr",
     "output_type": "stream",
     "text": [
      "INFO:root:Creating unsupervised collator for DataModule\n",
      "INFO:root:Using meta information from /rds/projects/g/gokhalkm-optimal/OPTIMAL_MASTER_DATASET/data/FoundationalModel/PreTrain/meta_information_QuantJenny.pickle\n",
      "INFO:root:Using train file-row count dictionary from /rds/projects/g/gokhalkm-optimal/OPTIMAL_MASTER_DATASET/data/FoundationalModel/FineTune_CVD/file_row_count_dict_train.pickle\n",
      "INFO:root:Using test file-row count dictionary from /rds/projects/g/gokhalkm-optimal/OPTIMAL_MASTER_DATASET/data/FoundationalModel/FineTune_CVD/file_row_count_dict_test.pickle\n",
      "INFO:root:Using val file-row count dictionary from /rds/projects/g/gokhalkm-optimal/OPTIMAL_MASTER_DATASET/data/FoundationalModel/FineTune_CVD/file_row_count_dict_val.pickle\n",
      "INFO:root:Tokenzier created based on 7,555,415,275 tokens\n",
      "INFO:root:Using tabular tokenizer, created from meta information and containing 265 tokens\n",
      "INFO:root:Loaded /rds/projects/g/gokhalkm-optimal/OPTIMAL_MASTER_DATASET/data/FoundationalModel/FineTune_CVD/split=train/ dataset, with 572,096 samples\n",
      "INFO:root:Loaded /rds/projects/g/gokhalkm-optimal/OPTIMAL_MASTER_DATASET/data/FoundationalModel/FineTune_CVD/split=test/ dataset, with 35,758 samples\n",
      "INFO:root:Loaded /rds/projects/g/gokhalkm-optimal/OPTIMAL_MASTER_DATASET/data/FoundationalModel/FineTune_CVD/split=val/ dataset, with 33,280 samples\n"
     ]
    },
    {
     "name": "stdout",
     "output_type": "stream",
     "text": [
      "265 vocab elements\n"
     ]
    }
   ],
   "source": [
    "# Update dataset path to point to the new dataset \n",
    "cfg.data.path_to_ds = \"/rds/projects/g/gokhalkm-optimal/OPTIMAL_MASTER_DATASET/data/FoundationalModel/FineTune_CVD/\"\n",
    "\n",
    "# Build \n",
    "dm = FoundationalDataModule(path_to_db=cfg.data.path_to_db,\n",
    "                            path_to_ds=cfg.data.path_to_ds,\n",
    "                            load=True,\n",
    "                            tokenizer=\"tabular\",\n",
    "                            batch_size=cfg.data.batch_size,\n",
    "                            max_seq_length=cfg.transformer.block_size,\n",
    "                            freq_threshold=cfg.data.unk_freq_threshold,\n",
    "                            min_workers=cfg.data.min_workers,\n",
    "                            overwrite_meta_information=cfg.data.meta_information_path,\n",
    "                           )\n",
    "\n",
    "vocab_size = dm.train_set.tokenizer.vocab_size\n",
    "print(f\"{vocab_size} vocab elements\")\n",
    "\n",
    "# list of univariate measurements to model with Normal distribution\n",
    "# Extract the measurements, using the fact that the diagnoses are all up upper case.\n",
    "measurements_for_univariate_regression = [record for record in dm.tokenizer._event_counts[\"EVENT\"] if record.upper() != record]\n",
    "cfg.head.tokens_for_univariate_regression = dm.encode(measurements_for_univariate_regression) \n",
    "# display(measurements_for_univariate_regression)"
   ]
  },
  {
   "cell_type": "code",
   "execution_count": 37,
   "id": "1f982ce1-7d8d-4eca-960d-8866ac757c8a",
   "metadata": {},
   "outputs": [
    {
     "name": "stdout",
     "output_type": "stream",
     "text": [
      "51,003,640 diagnoses of 74 types\n",
      "3,970,984,804 medications of 81 types\n",
      "3,364,437,065 measurements and tests of 108 types\n",
      "7,335,421,943\n",
      "3,364,437,065\n",
      "shape: (264, 3)\n",
      "┌───────────────────────────────────┬───────────┬───────────┐\n",
      "│ EVENT                             ┆ COUNT     ┆ FREQUENCY │\n",
      "│ ---                               ┆ ---       ┆ ---       │\n",
      "│ str                               ┆ u32       ┆ f64       │\n",
      "╞═══════════════════════════════════╪═══════════╪═══════════╡\n",
      "│ UNK                               ┆ 0         ┆ 0.0       │\n",
      "│ ADDISONS_DISEASE                  ┆ 6691      ┆ 8.8559e-7 │\n",
      "│ CYSTICFIBROSIS                    ┆ 7053      ┆ 9.3350e-7 │\n",
      "│ SYSTEMIC_SCLEROSIS                ┆ 8772      ┆ 0.000001  │\n",
      "│ SICKLE_CELL_DISEASE_V2            ┆ 11159     ┆ 0.000001  │\n",
      "│ ADDISON_DISEASE                   ┆ 11794     ┆ 0.000002  │\n",
      "│ DOWNSSYNDROME                     ┆ 17006     ┆ 0.000002  │\n",
      "│ HAEMOCHROMATOSIS_V2               ┆ 18631     ┆ 0.000002  │\n",
      "│ PLASMACELL_NEOPLASM_V2            ┆ 20301     ┆ 0.000003  │\n",
      "│ SJOGRENSSYNDROME                  ┆ 23326     ┆ 0.000003  │\n",
      "│ SYSTEMIC_LUPUS_ERYTHEMATOSUS      ┆ 26820     ┆ 0.000004  │\n",
      "│ HIVAIDS                           ┆ 41951     ┆ 0.000006  │\n",
      "│ PSORIATICARTHRITIS2021            ┆ 51273     ┆ 0.000007  │\n",
      "│ MS                                ┆ 53204     ┆ 0.000007  │\n",
      "│ Plasma_N_terminal_pro_B_type_nat… ┆ 53534     ┆ 0.000007  │\n",
      "│ LEUKAEMIA_PREVALENCEV2            ┆ 54438     ┆ 0.000007  │\n",
      "│ N_terminal_pro_brain_natriuretic… ┆ 57470     ┆ 0.000008  │\n",
      "│ ILD_SH                            ┆ 58104     ┆ 0.000008  │\n",
      "│ CHRONIC_LIVER_DISEASE_ALCOHOL     ┆ 63405     ┆ 0.000008  │\n",
      "│ PERNICIOUSANAEMIA                 ┆ 73331     ┆ 0.00001   │\n",
      "│ MENIERESDISEASE                   ┆ 73688     ┆ 0.00001   │\n",
      "│ LYMPHOMA_PREVALENCE_V2            ┆ 80511     ┆ 0.000011  │\n",
      "│ CROHNS_DISEASE                    ┆ 81250     ┆ 0.000011  │\n",
      "│ AllHIVdrugs_HIV                   ┆ 82262     ┆ 0.000011  │\n",
      "│ Plasma_B_natriuretic_peptide_lev… ┆ 82488     ┆ 0.000011  │\n",
      "│ CHRONICFATIGUESYNDROMEMM_V2       ┆ 82799     ┆ 0.000011  │\n",
      "│ Plasma_pro_brain_natriuretic_pep… ┆ 83343     ┆ 0.000011  │\n",
      "│ STROKE_HAEMRGIC                   ┆ 83609     ┆ 0.000011  │\n",
      "│ PARKINSONS                        ┆ 91718     ┆ 0.000012  │\n",
      "│ AORTICANEURYSM_V2                 ┆ 101134    ┆ 0.000013  │\n",
      "│ BIPOLAR                           ┆ 108852    ┆ 0.000014  │\n",
      "│ BRONCHIECTASIS                    ┆ 112618    ┆ 0.000015  │\n",
      "│ ULCERATIVE_COLITIS                ┆ 120361    ┆ 0.000016  │\n",
      "│ SCHIZOPHRENIAMM_V2                ┆ 125141    ┆ 0.000017  │\n",
      "│ PTSDDIAGNOSIS                     ┆ 126269    ┆ 0.000017  │\n",
      "│ TYPE1DM                           ┆ 145143    ┆ 0.000019  │\n",
      "│ FIBROMYALGIA                      ┆ 153213    ┆ 0.00002   │\n",
      "│ VISUAL_IMPAIRMENT                 ┆ 155707    ┆ 0.000021  │\n",
      "│ AUTISM                            ┆ 156860    ┆ 0.000021  │\n",
      "│ NAFLD_V2                          ┆ 158688    ┆ 0.000021  │\n",
      "│ ISCHAEMICSTROKE_V2                ┆ 178437    ┆ 0.000024  │\n",
      "│ Albumin___creatinine_ratio_37     ┆ 180911    ┆ 0.000024  │\n",
      "│ PVD_V3                            ┆ 185904    ┆ 0.000025  │\n",
      "│ EATINGDISORDERS                   ┆ 191873    ┆ 0.000025  │\n",
      "│ PMRANDGCA                         ┆ 195907    ┆ 0.000026  │\n",
      "│ RHEUMATOIDARTHRITIS               ┆ 197253    ┆ 0.000026  │\n",
      "│ Urine_microalbumin_creatinine_ra… ┆ 201318    ┆ 0.000027  │\n",
      "│ ENDOMETRIOSIS_ADENOMYOSIS_V2      ┆ 209157    ┆ 0.000028  │\n",
      "│ HYPERTHYROIDISM_V2                ┆ 217964    ┆ 0.000029  │\n",
      "│ Plasma_ferritin_level_62          ┆ 220380    ┆ 0.000029  │\n",
      "│ Brain_natriuretic_peptide_level_… ┆ 229202    ┆ 0.00003   │\n",
      "│ OSA                               ┆ 234938    ┆ 0.000031  │\n",
      "│ Monoamine_Oxidase_Inhibitors_OPT… ┆ 236966    ┆ 0.000031  │\n",
      "│ Serum_pro_brain_natriuretic_pept… ┆ 243565    ┆ 0.000032  │\n",
      "│ Serum_vitamin_D2_level_89         ┆ 249092    ┆ 0.000033  │\n",
      "│ PAD_STRICT                        ┆ 254632    ┆ 0.000034  │\n",
      "│ OTHER_CHRONIC_LIVER_DISEASE_OPTI… ┆ 289252    ┆ 0.000038  │\n",
      "│ POLYCYSTIC_OVARIAN_SYNDROME_PCOS… ┆ 332297    ┆ 0.000044  │\n",
      "│ Total_25_hydroxyvitamin_D_level_… ┆ 333324    ┆ 0.000044  │\n",
      "│ EPILEPSY                          ┆ 377341    ┆ 0.00005   │\n",
      "│ Serum_N_terminal_pro_B_type_natr… ┆ 383790    ┆ 0.000051  │\n",
      "│ VALVULARDISEASES_V2               ┆ 401061    ┆ 0.000053  │\n",
      "│ Blood_calcium_level_38            ┆ 415717    ┆ 0.000055  │\n",
      "│ INR___international_normalised_r… ┆ 426165    ┆ 0.000056  │\n",
      "│ STROKEUNSPECIFIED_V2              ┆ 446046    ┆ 0.000059  │\n",
      "│ Combined_total_vitamin_D2_and_D3… ┆ 452984    ┆ 0.00006   │\n",
      "│ MINFARCTION                       ┆ 477556    ┆ 0.000063  │\n",
      "│ Amantadine                        ┆ 479791    ┆ 0.000064  │\n",
      "│ Meglitinides_Aurum                ┆ 486644    ┆ 0.000064  │\n",
      "│ SUBSTANCEMISUSE                   ┆ 502552    ┆ 0.000067  │\n",
      "│ TSH_level_74                      ┆ 507085    ┆ 0.000067  │\n",
      "│ Acarbose_AURUM                    ┆ 507434    ┆ 0.000067  │\n",
      "│ Serum_T4_level_78                 ┆ 524777    ┆ 0.000069  │\n",
      "│ HF_V3                             ┆ 524982    ┆ 0.000069  │\n",
      "│ ALL_DEMENTIA                      ┆ 528602    ┆ 0.00007   │\n",
      "│ LeflunomideAURUM_Zhaonan          ┆ 586799    ┆ 0.000078  │\n",
      "│ Plasma_cholesterol_HDL_ratio_96   ┆ 587483    ┆ 0.000078  │\n",
      "│ OSTEOPOROSIS                      ┆ 628118    ┆ 0.000083  │\n",
      "│ GOUT                              ┆ 632089    ┆ 0.000084  │\n",
      "│ Plasma_free_T4_level_77           ┆ 724108    ┆ 0.000096  │\n",
      "│ AF                                ┆ 731332    ┆ 0.000097  │\n",
      "│ PSORIASIS                         ┆ 743897    ┆ 0.000098  │\n",
      "│ COPD                              ┆ 751320    ┆ 0.000099  │\n",
      "│ 25_Hydroxyvitamin_D2_level_92     ┆ 782791    ┆ 0.000104  │\n",
      "│ Blood_urea_28                     ┆ 785766    ┆ 0.000104  │\n",
      "│ 25_Hydroxyvitamin_D3_level_90     ┆ 809104    ┆ 0.000107  │\n",
      "│ MAO_B_Optimal                     ┆ 829174    ┆ 0.00011   │\n",
      "│ Galantamine_NEW                   ┆ 830429    ┆ 0.00011   │\n",
      "│ PERIPHERAL_NEUROPATHY             ┆ 840638    ┆ 0.000111  │\n",
      "│ COMT_Optimal                      ┆ 886259    ┆ 0.000117  │\n",
      "│ HYPOTHYROIDISM_DRAFT_V1           ┆ 932079    ┆ 0.000123  │\n",
      "│ Rivastigmine                      ┆ 963471    ┆ 0.000128  │\n",
      "│ CKDSTAGE3TO5                      ┆ 1088754   ┆ 0.000144  │\n",
      "│ ALCOHOLMISUSE_V2                  ┆ 1125212   ┆ 0.000149  │\n",
      "│ IHDINCLUDINGMI_OPTIMALV2          ┆ 1162843   ┆ 0.000154  │\n",
      "│ Plasma_corrected_calcium_level_4… ┆ 1168224   ┆ 0.000155  │\n",
      "│ PREVALENT_IBS_V2                  ┆ 1210229   ┆ 0.00016   │\n",
      "│ Serum_25_Hydroxy_vitamin_D3_leve… ┆ 1211141   ┆ 0.00016   │\n",
      "│ Plasma_calcium_level_40           ┆ 1294409   ┆ 0.000171  │\n",
      "│ TYPE2DIABETES                     ┆ 1404325   ┆ 0.000186  │\n",
      "│ Free_T4_level_76                  ┆ 1405341   ┆ 0.000186  │\n",
      "│ Plasma_LDL_cholesterol_level_104  ┆ 1434461   ┆ 0.00019   │\n",
      "│ Calcium_adjusted_level_41         ┆ 1464226   ┆ 0.000194  │\n",
      "│ ALLCANCER_NOHAEM_NOBCC            ┆ 1496973   ┆ 0.000198  │\n",
      "│ Plasma_triglyceride_level_106     ┆ 1573268   ┆ 0.000208  │\n",
      "│ DEATH                             ┆ 1629100   ┆ 0.000216  │\n",
      "│ AST___aspartate_transam_SGOT__46  ┆ 1738489   ┆ 0.00023   │\n",
      "│ Plasma_gamma_glutamyl_transferas… ┆ 1762750   ┆ 0.000233  │\n",
      "│ Plasma_urea_level_30              ┆ 1991274   ┆ 0.000264  │\n",
      "│ Plasma_TSH_level_73               ┆ 2049380   ┆ 0.000271  │\n",
      "│ Plasma_HDL_cholesterol_level_101  ┆ 2173456   ┆ 0.000288  │\n",
      "│ Serum_total_25_hydroxy_vitamin_D… ┆ 2178432   ┆ 0.000288  │\n",
      "│ Total_bilirubin_55                ┆ 2193031   ┆ 0.00029   │\n",
      "│ ANY_DEAFNESS_HEARING_LOSS_V2      ┆ 2282766   ┆ 0.000302  │\n",
      "│ Fibrate_FenofibrateOnly           ┆ 2305308   ┆ 0.000305  │\n",
      "│ AMD_DH_Memantine                  ┆ 2309471   ┆ 0.000306  │\n",
      "│ Plasma_total_cholesterol_level_9… ┆ 2331589   ┆ 0.000309  │\n",
      "│ Non_HDL_cholesterol_level_108     ┆ 2408310   ┆ 0.000319  │\n",
      "│ Serum_vitamin_D_86                ┆ 2478806   ┆ 0.000328  │\n",
      "│ OSTEOARTHRITIS                    ┆ 2653242   ┆ 0.000351  │\n",
      "│ GLP_1Aurum                        ┆ 2676211   ┆ 0.000354  │\n",
      "│ Plasma_alkaline_phosphatase_leve… ┆ 3290802   ┆ 0.000436  │\n",
      "│ ALLERGICRHINITISCONJ              ┆ 3291165   ┆ 0.000436  │\n",
      "│ HydroxychloroquineAURUM_Zhaonan   ┆ 3312310   ┆ 0.000438  │\n",
      "│ Plasma_total_bilirubin_level_54   ┆ 3443114   ┆ 0.000456  │\n",
      "│ ANXIETY                           ┆ 3560978   ┆ 0.000471  │\n",
      "│ TSH___thyroid_stim_hormone_72     ┆ 3568579   ┆ 0.000472  │\n",
      "│ Plasma_albumin_level_52           ┆ 3719377   ┆ 0.000492  │\n",
      "│ HYPERTENSION                      ┆ 3934473   ┆ 0.000521  │\n",
      "│ Plasma_alanine_aminotransferase_… ┆ 4012790   ┆ 0.000531  │\n",
      "│ SGLT2inhibitors_Optimal           ┆ 4059940   ┆ 0.000537  │\n",
      "│ SulfasalazineAURUM_Zhaonan        ┆ 4084855   ┆ 0.000541  │\n",
      "│ DEPRESSION                        ┆ 4109336   ┆ 0.000544  │\n",
      "│ ASTHMA_PUSHASTHMA                 ┆ 4175115   ┆ 0.000553  │\n",
      "│ Haematocrit___PCV_16              ┆ 4346108   ┆ 0.000575  │\n",
      "│ ATOPICECZEMA                      ┆ 4369082   ┆ 0.000578  │\n",
      "│ Lithium_OPTIMAL                   ┆ 4395155   ┆ 0.000582  │\n",
      "│ Plasma_potassium_level_27         ┆ 4445152   ┆ 0.000588  │\n",
      "│ Plasma_sodium_level_25            ┆ 4458632   ┆ 0.00059   │\n",
      "│ Plasma_creatinine_level_32        ┆ 4513054   ┆ 0.000597  │\n",
      "│ Serum_total_cholesterol_level_98  ┆ 5185017   ┆ 0.000686  │\n",
      "│ AMD_DH_Donepezil                  ┆ 5635153   ┆ 0.000746  │\n",
      "│ Thiazolidinediones_Aurum_JC       ┆ 6191596   ┆ 0.000819  │\n",
      "│ Total_alkaline_phosphatase_48     ┆ 6461505   ┆ 0.000855  │\n",
      "│ Haemoglobin_A1c_level_8           ┆ 6516701   ┆ 0.000863  │\n",
      "│ Calculated_LDL_cholesterol_level… ┆ 6967780   ┆ 0.000922  │\n",
      "│ MethotrexateAURUM_Zhaonan         ┆ 7884622   ┆ 0.001044  │\n",
      "│ levodopa_Optimal                  ┆ 8483033   ┆ 0.001123  │\n",
      "│ LKA_PUSHAsthma                    ┆ 8537907   ┆ 0.00113   │\n",
      "│ Plasma_C_reactive_protein_60      ┆ 9155551   ┆ 0.001212  │\n",
      "│ Dementia                          ┆ 9738544   ┆ 0.001289  │\n",
      "│ Current_smoker_83                 ┆ 10592787  ┆ 0.001402  │\n",
      "│ Serum_non_high_density_lipoprote… ┆ 10648096  ┆ 0.001409  │\n",
      "│ AST_serum_level_47                ┆ 10837982  ┆ 0.001434  │\n",
      "│ AldosteroneAntagonist_D2T         ┆ 11182704  ┆ 0.00148   │\n",
      "│ DPP4inhibitors_OPTIMAL            ┆ 12000147  ┆ 0.001588  │\n",
      "│ POP_reg_contraceptive             ┆ 12186107  ┆ 0.001613  │\n",
      "│ Carbamazepine_Optimal             ┆ 12812897  ┆ 0.001696  │\n",
      "│ eGFR_using_creatinine_CKD_EPI_pe… ┆ 12869245  ┆ 0.001703  │\n",
      "│ PropranololAnxiety_mumpredict     ┆ 12924874  ┆ 0.001711  │\n",
      "│ ValproateMigraine                 ┆ 13594697  ┆ 0.001799  │\n",
      "│ Pregabalin_Optimal                ┆ 14497547  ┆ 0.001919  │\n",
      "│ Serum_folate_80                   ┆ 14643748  ┆ 0.001938  │\n",
      "│ Direct_Acting_Oral_Anticoagulant… ┆ 14815747  ┆ 0.001961  │\n",
      "│ HbA1c_level__DCCT_aligned__7      ┆ 14948615  ┆ 0.001979  │\n",
      "│ LABA_PUSH_Asthma                  ┆ 14958767  ┆ 0.00198   │\n",
      "│ phosphodiesterasetype5inhibitor_… ┆ 15057609  ┆ 0.001993  │\n",
      "│ Urine_albumin_creatinine_ratio_3… ┆ 15107807  ┆ 0.002     │\n",
      "│ LAMA_PUSHAsthma                   ┆ 15239995  ┆ 0.002017  │\n",
      "│ Total_cholesterol_HDL_ratio_95    ┆ 15760772  ┆ 0.002086  │\n",
      "│ First_gen_H1_antihistamines       ┆ 16181607  ┆ 0.002142  │\n",
      "│ Corrected_serum_calcium_level_42  ┆ 16683796  ┆ 0.002208  │\n",
      "│ Serum_vitamin_B12_79              ┆ 16797696  ┆ 0.002223  │\n",
      "│ Digoxin_                          ┆ 17497910  ┆ 0.002316  │\n",
      "│ Gabapentin_Oral_OPTIMAL           ┆ 17508445  ┆ 0.002317  │\n",
      "│ Serum_C_reactive_protein_level_5… ┆ 19234068  ┆ 0.002546  │\n",
      "│ UricAcid_LoweringDrugs_optimal    ┆ 20559558  ┆ 0.002721  │\n",
      "│ SNRIs_OPTIMAL                     ┆ 21379065  ┆ 0.00283   │\n",
      "│ Serum_ferritin_63                 ┆ 21412371  ┆ 0.002834  │\n",
      "│ Serum_free_T4_level_75            ┆ 22579062  ┆ 0.002988  │\n",
      "│ Serum_gamma_glutamyl_transferase… ┆ 22592131  ┆ 0.00299   │\n",
      "│ Mirtazapine                       ┆ 23524446  ┆ 0.003114  │\n",
      "│ Serum_bilirubin_level_53          ┆ 24090337  ┆ 0.003188  │\n",
      "│ Ex_smoker_84                      ┆ 24891632  ┆ 0.003295  │\n",
      "│ International_normalised_ratio_8… ┆ 27966697  ┆ 0.003702  │\n",
      "│ Serum_calcium_39                  ┆ 28049902  ┆ 0.003713  │\n",
      "│ Serum_cholesterol_HDL_ratio_94    ┆ 28586515  ┆ 0.003784  │\n",
      "│ Insulin_Aurum_v2                  ┆ 28641496  ┆ 0.003791  │\n",
      "│ Nasal_steroids_optimal            ┆ 29010523  ┆ 0.00384   │\n",
      "│ asthma_combined_inhalers          ┆ 29469516  ┆ 0.0039    │\n",
      "│ All_AntiArrhythmics_D2T           ┆ 29502352  ┆ 0.003905  │\n",
      "│ OCS_PUSHAsthma2                   ┆ 29568929  ┆ 0.003914  │\n",
      "│ Erythrocyte_sedimentation_rate_6… ┆ 29892785  ┆ 0.003956  │\n",
      "│ Serum_LDL_cholesterol_level_102   ┆ 30073152  ┆ 0.00398   │\n",
      "│ Bisphosphonates_osteoporosis      ┆ 30294675  ┆ 0.00401   │\n",
      "│ Antipsychotics_OPTIMAL            ┆ 31658166  ┆ 0.00419   │\n",
      "│ Strong_Opioids_2022_Final         ┆ 31728471  ┆ 0.004199  │\n",
      "│ Anxiolytics_mumpredict            ┆ 32874923  ┆ 0.004351  │\n",
      "│ Systemic_oral_corticosteroids_op… ┆ 33516650  ┆ 0.004436  │\n",
      "│ Sulphonylureas_Aurum              ┆ 34289555  ┆ 0.004538  │\n",
      "│ COCP_reg_contraception            ┆ 34316525  ┆ 0.004542  │\n",
      "│ Haemoglobin_A1c_level___IFCC_sta… ┆ 35091904  ┆ 0.004645  │\n",
      "│ Warfarin_                         ┆ 37353354  ┆ 0.004944  │\n",
      "│ Serum_triglycerides_105           ┆ 42415036  ┆ 0.005614  │\n",
      "│ Amitriptyline_optimal             ┆ 46415710  ┆ 0.006143  │\n",
      "│ Serum_alanine_aminotransferase_l… ┆ 46896239  ┆ 0.006207  │\n",
      "│ Antihistamines_second_generation… ┆ 47308115  ┆ 0.006261  │\n",
      "│ Red_blood_cell_distribution_widt… ┆ 49751137  ┆ 0.006585  │\n",
      "│ Serum_HDL_cholesterol_level_100   ┆ 50953183  ┆ 0.006744  │\n",
      "│ AlphaBlocker                      ┆ 51635379  ┆ 0.006834  │\n",
      "│ all_contraceptive                 ┆ 53655141  ┆ 0.007102  │\n",
      "│ Serum_total_bilirubin_level_56    ┆ 54098383  ┆ 0.00716   │\n",
      "│ Benzodiazepines                   ┆ 55608827  ┆ 0.00736   │\n",
      "│ Serum_TSH_level_71                ┆ 55655662  ┆ 0.007366  │\n",
      "│ Serum_cholesterol_97              ┆ 57393841  ┆ 0.007596  │\n",
      "│ Calcium_supplements_Optimal       ┆ 57542223  ┆ 0.007616  │\n",
      "│ Never_smoked_tobacco_85           ┆ 60751822  ┆ 0.008041  │\n",
      "│ Tricyclic_Antidepressants_final   ┆ 68893019  ┆ 0.009118  │\n",
      "│ O_E___height_1                    ┆ 69089436  ┆ 0.009144  │\n",
      "│ Mean_corpusc_Hb_conc__MCHC__14    ┆ 70867102  ┆ 0.00938   │\n",
      "│ ARBs_Luyuan                       ┆ 72329278  ┆ 0.009573  │\n",
      "│ Vitamin_D                         ┆ 72657845  ┆ 0.009617  │\n",
      "│ GFR_calculated_abbreviated_MDRD_… ┆ 73709249  ┆ 0.009756  │\n",
      "│ Metformin_612_A10BD2              ┆ 74162080  ┆ 0.009816  │\n",
      "│ Serum_alkaline_phosphatase_50     ┆ 76052242  ┆ 0.010066  │\n",
      "│ Haematocrit_15                    ┆ 76582325  ┆ 0.010136  │\n",
      "│ Serum_urea_level_29               ┆ 78670253  ┆ 0.010412  │\n",
      "│ BetaBlockers_OPTIMAL              ┆ 79374522  ┆ 0.010506  │\n",
      "│ Serum_albumin_51                  ┆ 83105055  ┆ 0.010999  │\n",
      "│ Paracetamol_OPTIMAL               ┆ 85242874  ┆ 0.011282  │\n",
      "│ Basophil_count_22                 ┆ 86869779  ┆ 0.011498  │\n",
      "│ Mean_corpusc_haemoglobin_MCH__13  ┆ 90498376  ┆ 0.011978  │\n",
      "│ Anticonvulsants_OPTIMAL           ┆ 90774779  ┆ 0.012015  │\n",
      "│ SABA_PUSHAsthma                   ┆ 91182585  ┆ 0.012069  │\n",
      "│ Eosinophil_count_21               ┆ 92193433  ┆ 0.012202  │\n",
      "│ Red_blood_cell__RBC__count_10     ┆ 92326200  ┆ 0.01222   │\n",
      "│ Monocyte_count_23                 ┆ 92489278  ┆ 0.012241  │\n",
      "│ Lymphocyte_count_20               ┆ 92896401  ┆ 0.012295  │\n",
      "│ Neutrophil_count_19               ┆ 93489124  ┆ 0.012374  │\n",
      "│ Mean_corpuscular_volume__MCV__11  ┆ 94723195  ┆ 0.012537  │\n",
      "│ Total_white_cell_count_18         ┆ 94827537  ┆ 0.012551  │\n",
      "│ ICS_PUSHAsthma                    ┆ 94873269  ┆ 0.012557  │\n",
      "│ Platelet_count_12                 ┆ 95904116  ┆ 0.012693  │\n",
      "│ Haemoglobin_estimation_9          ┆ 97391693  ┆ 0.01289   │\n",
      "│ Serum_potassium_26                ┆ 99036754  ┆ 0.013108  │\n",
      "│ Serum_sodium_24                   ┆ 99409745  ┆ 0.013157  │\n",
      "│ Body_mass_index_3                 ┆ 99868822  ┆ 0.013218  │\n",
      "│ Serum_creatinine_31               ┆ 102915170 ┆ 0.013621  │\n",
      "│ Thiazide_Diuretics_v2             ┆ 105228802 ┆ 0.013928  │\n",
      "│ CalciumChannelBlck_D2T            ┆ 108721302 ┆ 0.01439   │\n",
      "│ O_E___weight_2                    ┆ 117401338 ┆ 0.015539  │\n",
      "│ Levothyroxine_                    ┆ 117844926 ┆ 0.015597  │\n",
      "│ Aspirin_OPTIMAL                   ┆ 131327634 ┆ 0.017382  │\n",
      "│ SSRIs_Optimal                     ┆ 132417423 ┆ 0.017526  │\n",
      "│ Weak_Opioids_Final                ┆ 140622354 ┆ 0.018612  │\n",
      "│ All_Antiplatelets                 ┆ 162940629 ┆ 0.021566  │\n",
      "│ All_Diuretics_D2T                 ┆ 176070847 ┆ 0.023304  │\n",
      "│ All_Diuretics_ExclLactones_D2T    ┆ 176070847 ┆ 0.023304  │\n",
      "│ ACE_Inhibitors_D2T                ┆ 191462111 ┆ 0.025341  │\n",
      "│ NSAIDS_oral_OPTIMAL_final         ┆ 219183349 ┆ 0.02901   │\n",
      "│ Diastolic_blood_pressure_5        ┆ 241026671 ┆ 0.031901  │\n",
      "│ Systolic_blood_pressure_4         ┆ 241541988 ┆ 0.031969  │\n",
      "│ Statins                           ┆ 249911634 ┆ 0.033077  │\n",
      "│ Lipid_lowering_drugs_Optimal      ┆ 263876709 ┆ 0.034926  │\n",
      "└───────────────────────────────────┴───────────┴───────────┘\n"
     ]
    }
   ],
   "source": [
    "num_diagnoses = len(dm.train_set.meta_information[\"diagnosis_table\"][\"count\"])\n",
    "num_diagnosis_events = sum(dm.train_set.meta_information[\"diagnosis_table\"][\"count\"])\n",
    "\n",
    "is_medication = dm.train_set.meta_information[\"measurement_tables\"][\"count_obs\"] == 0\n",
    "\n",
    "num_medications = sum(is_medication)\n",
    "num_medication_events = sum(dm.train_set.meta_information[\"measurement_tables\"][is_medication][\"count\"])\n",
    "num_measurement_test = sum(~is_medication)\n",
    "num_measurement_test_events = sum(dm.train_set.meta_information[\"measurement_tables\"][~is_medication][\"count\"])\n",
    "\n",
    "num_measurement_test_events = sum(dm.train_set.meta_information[\"measurement_tables\"][~is_medication][\"count_obs\"])\n",
    "\n",
    "print(f'{num_diagnosis_events:,} diagnoses of {num_diagnoses} types')\n",
    "print(f'{num_medication_events:,} medications of {num_medications} types')\n",
    "print(f'{num_measurement_test_events:,} measurements and tests of {num_measurement_test} types')\n",
    "print(f'{num_diagnoses+num_medication_events+num_measurement_test_events:,}')\n",
    "\n",
    "print(f'{num_measurement_test_events:,}')\n",
    "dm.train_set.meta_information.keys()\n",
    "\n",
    "print(dm.train_set.tokenizer._event_counts)"
   ]
  },
  {
   "cell_type": "code",
   "execution_count": null,
   "id": "13a7a64a-4a5b-4811-847a-5ad8abe04c61",
   "metadata": {
    "scrolled": true
   },
   "outputs": [],
   "source": [
    "# # import pickle as pkl\n",
    "# # import pathlib\n",
    "\n",
    "# pkl_file_to_amend = \"/rds/projects/g/gokhalkm-optimal/OPTIMAL_MASTER_DATASET/data/FoundationalModel/FineTune_CVD/file_row_count_dict_test.pickle\"\n",
    "\n",
    "# with open(pkl_file_to_amend, 'rb') as pickle_file:\n",
    "#     content = pickle.load(pickle_file)\n",
    "# display(content)\n",
    "\n",
    "# # new_dictionary = {}\n",
    "# # for key in content.keys():\n",
    "# #     str_to_remove = \"/rds/projects/g/gokhalkm-optimal/OPTIMAL_MASTER_DATASET/data/FoundationalModel/FineTune_CVD/split=val/\"\n",
    "# #     new_key = str(key)[len(str_to_remove):]\n",
    "# #     new_dictionary[new_key] = content[key]\n",
    "# # display(new_dictionary)\n",
    "\n",
    "\n",
    "# # with open(pkl_file_to_amend, 'wb') as handle:\n",
    "# #     pickle.dump(new_dictionary, handle, protocol=pickle.HIGHEST_PROTOCOL)\n"
   ]
  },
  {
   "cell_type": "code",
   "execution_count": null,
   "id": "39e3bd66-0f95-4d0f-9e85-b05bf609037e",
   "metadata": {},
   "outputs": [],
   "source": [
    "# new_dictionary"
   ]
  },
  {
   "cell_type": "code",
   "execution_count": null,
   "id": "3a3a45cf-dcbe-4d66-a8fa-34fcc1e4a4de",
   "metadata": {
    "scrolled": true
   },
   "outputs": [],
   "source": [
    "import copy\n",
    "start = time.time()   # starting time\n",
    "for batch in dm.train_dataloader():\n",
    "    # print(batch[\"tokens\"][1,:])\n",
    "    \n",
    "    c_batch = convert_batch_to_none_causal(batch)\n",
    "    # print(c_batch[\"tokens\"][1,:])\n",
    "    # print(c_batch[\"target_token\"][1])\n",
    "\n",
    "    # print(batch[\"tokens\"][1,:])\n",
    "    \n",
    "    break\n",
    "    \n",
    "print(f\"batch loaded in {time.time()-start} seconds\")    \n",
    "    \n",
    "# for key in batch.keys():\n",
    "#     print(f\"{key}\".ljust(20) + f\"{batch[key].shape}\")\n",
    "\n",
    "# tokens = batch[\"tokens\"][0].tolist()    \n",
    "# sentence = dm.decode(tokens).split(\" \")\n",
    "# for token, value in zip(sentence, batch[\"values\"][0].tolist()):\n",
    "#     print(f\"{token}:\".ljust(40) + f\"{value}\")"
   ]
  },
  {
   "cell_type": "code",
   "execution_count": null,
   "id": "85a4c5b5-2121-4d10-8f8e-11a88ed16cc3",
   "metadata": {},
   "outputs": [],
   "source": [
    "display(batch.keys())\n",
    "display(c_batch.keys())\n",
    "\n",
    "print(batch[\"static_covariates\"].shape)\n",
    "\n",
    "# print(dm.train_set.static_1hot)\n",
    "# print(dm.train_set.static_1hot[\"SEX\"].categories_)\n",
    "# print(dm.train_set.static_1hot[\"IMD\"].categories_)\n",
    "# print(dm.train_set.static_1hot[\"ETHNICITY\"].categories_)\n",
    "\n",
    "print(batch[\"tokens\"][1,:])\n",
    "print(c_batch[\"tokens\"][1,:])\n",
    "print(c_batch[\"target_token\"][1])"
   ]
  },
  {
   "cell_type": "markdown",
   "id": "60e3e15f-1b7c-466b-825e-a84100d224a0",
   "metadata": {},
   "source": [
    "## View an example sample"
   ]
  },
  {
   "cell_type": "code",
   "execution_count": null,
   "id": "16aa22fa-ef08-485f-a948-c4ff8b3aade5",
   "metadata": {
    "scrolled": true
   },
   "outputs": [],
   "source": [
    "dm.test_set.view_sample(11003, max_dynamic_events=None, report_time=True)"
   ]
  },
  {
   "cell_type": "markdown",
   "id": "d1943eec-f491-4a94-92d9-65b9cedbd433",
   "metadata": {},
   "source": [
    "# Custom wrapper prediction last token\n",
    "\n",
    "To begin with, I will just loop over samples individually to test the zero-shot capacity of SurvivEHR. "
   ]
  },
  {
   "cell_type": "code",
   "execution_count": null,
   "id": "439343da-a813-4ffa-b0a6-26074e80d11e",
   "metadata": {
    "scrolled": true
   },
   "outputs": [],
   "source": [
    "\n",
    "\n",
    "# Verifying on datamodule \n",
    "for _idx, batch in enumerate(dm.test_dataloader()):\n",
    "    if _idx > 10:\n",
    "        break\n",
    "    print(_idx)\n",
    "    print(torch.stack([batch[\"tokens\"][10,:5], \n",
    "                       batch[\"values\"][10,:5],  \n",
    "                       batch[\"ages\"][10,:5],\n",
    "                       batch[\"attention_mask\"][10,:5]]))\n",
    "    batch = replace_last_non_pad_with_pad(batch)\n",
    "    print(torch.stack([batch[\"tokens\"][10,:5], \n",
    "                       batch[\"values\"][10,:5],  \n",
    "                       batch[\"ages\"][10,:5],\n",
    "                       batch[\"attention_mask\"][10,:5]]))"
   ]
  },
  {
   "cell_type": "code",
   "execution_count": null,
   "id": "f2c069ad-f41d-420e-819e-cf2c5a390baf",
   "metadata": {},
   "outputs": [],
   "source": [
    "outcome_of_interest = [\"COPD\", \"SUBSTANCEMISUSE\"]\n",
    "outcome_token = dm.encode(outcome_of_interest)[0]\n",
    "print(outcome_token)\n",
    "# print(model(batch))"
   ]
  },
  {
   "cell_type": "code",
   "execution_count": null,
   "id": "e17f35b1-02d3-4db9-b376-ca44d9c1f770",
   "metadata": {
    "scrolled": true
   },
   "outputs": [],
   "source": [
    "Hs, labels = [], []\n",
    "mins,maxes=[],[]\n",
    "for _idx, batch in enumerate(dm.test_dataloader()):\n",
    "\n",
    "    batch = replace_last_non_pad_with_pad(batch)\n",
    "    print(batch[\"tokens\".shape)\n",
    "    outputs, _, hidden_states = model(batch, is_generation=True)\n",
    "    print(outputs)\n",
    "    \n",
    "    hidden_states = hidden_states.cpu().detach().numpy()                           # (64, 128, 384) \n",
    "    Hs.append( hidden_states.reshape(hidden_states.shape[0], -1) )\n",
    "    labels.append((batch[\"target_token\"] == outcome_token).long().numpy())\n",
    "\n",
    "    if _idx == 9:\n",
    "        break\n",
    "\n"
   ]
  },
  {
   "cell_type": "markdown",
   "id": "fc2bf156-cc66-4276-8c8d-23caec948e2d",
   "metadata": {},
   "source": [
    "# Visualise hidden dimension labelled by target"
   ]
  },
  {
   "cell_type": "code",
   "execution_count": null,
   "id": "5a2d857d-dbb0-487b-8278-42c04bcbea15",
   "metadata": {},
   "outputs": [],
   "source": [
    "import umap\n",
    "from sklearn.preprocessing import StandardScaler\n",
    "\n",
    "H = np.concatenate(Hs, 0)\n",
    "lbl = np.concatenate(labels, 0)\n",
    "\n",
    "H = StandardScaler().fit_transform(H)\n",
    "reducer = umap.UMAP()\n",
    "H_proj = reducer.fit_transform(H)\n",
    "\n",
    "plt.close()\n",
    "plt.scatter(H_proj[:,0], H_proj[:,1], c=lbl)\n",
    "plt.savefig(save_path + f\"zero_shot/hidden_umap.png\")"
   ]
  },
  {
   "cell_type": "code",
   "execution_count": null,
   "id": "ea5e686a-ebe9-43d4-8a14-b88df279ca9d",
   "metadata": {},
   "outputs": [],
   "source": [
    "print(outputs[\"surv\"][\"surv_CDF\"][outcome_token].shape)\n",
    "\n",
    "# The first two tokens in the vocab correspond to the PAD and UNK tokens. There is no CDF corresponding to the PAD token, so the indexing for surv_CDF begins as [\"UNK\", \"ADDISONS_DISEASE\", ...]\n",
    "# print(dm.decode([0,1,2]))\n",
    "\n",
    "outcomes = [\"COPD\", \"SUBSTANCEMISUSE\"]\n",
    "outcome_tokens = dm.encode(outcomes)\n",
    "\n",
    "# for outcome in outcomes:\n",
    "    # observed_outcome_token = dm.encode([outcome])[0]\n",
    "cdf = np.zeros_like(outputs[\"surv\"][\"surv_CDF\"][0])\n",
    "lbls = np.zeros_like(batch[\"target_token\"])\n",
    "\n",
    "for _outcome_token in outcome_tokens:\n",
    "    cdf += outputs[\"surv\"][\"surv_CDF\"][_outcome_token - 1] \n",
    "    lbls += (batch[\"target_token\"] == _outcome_token).long().numpy()\n",
    "\n",
    "plt.close()\n",
    "cdf_true = cdf[lbls==1,:]\n",
    "cdf_false = cdf[lbls==0,:]\n",
    "for i in range(cdf_true.shape[0]):\n",
    "    plt.plot(np.linspace(1,1826,1826), cdf_true[i,:], c=\"r\", label=\"outcome occurred next\" if i == 0 else None, alpha=1)\n",
    "for i in range(cdf_false.shape[0]):\n",
    "    plt.plot(np.linspace(1,1826,1826), cdf_false[i,:], c=\"k\", label=\"outcome did not occur next\" if i == 0 else None, alpha=0.3)\n",
    "\n",
    "plt.legend(loc=2)\n",
    "plt.xlabel(\"days\")\n",
    "plt.ylabel(f\"P(t>T) - outcomes={','.join(outcomes)}\")\n",
    "plt.savefig(save_path + f\"zero_shot/cdf_outcomes.png\")"
   ]
  },
  {
   "cell_type": "code",
   "execution_count": null,
   "id": "619c2049-56bc-47ff-bcea-ce2e529266e2",
   "metadata": {},
   "outputs": [],
   "source": [
    "print(batch[\"target_token\"].unique())\n",
    "print(len(outputs[\"surv\"][\"surv_CDF\"]))"
   ]
  },
  {
   "cell_type": "code",
   "execution_count": null,
   "id": "ecb3417a-d3c7-42f9-b288-82ab49ddb69b",
   "metadata": {},
   "outputs": [],
   "source": [
    "dm.decode([2])"
   ]
  },
  {
   "cell_type": "code",
   "execution_count": null,
   "id": "90115137-0805-4f93-877b-2d98e51439d0",
   "metadata": {},
   "outputs": [],
   "source": [
    "outputs[\"surv\"][\"surv_CDF\"][observed_outcome_token - 1]"
   ]
  },
  {
   "cell_type": "code",
   "execution_count": null,
   "id": "9bacadcc-f857-45e2-94e8-0ca43ccbd196",
   "metadata": {},
   "outputs": [],
   "source": []
  }
 ],
 "metadata": {
  "kernelspec": {
   "display_name": "Python",
   "language": "python",
   "name": "sys_python"
  },
  "language_info": {
   "codemirror_mode": {
    "name": "ipython",
    "version": 3
   },
   "file_extension": ".py",
   "mimetype": "text/x-python",
   "name": "python",
   "nbconvert_exporter": "python",
   "pygments_lexer": "ipython3",
   "version": "3.10.4"
  }
 },
 "nbformat": 4,
 "nbformat_minor": 5
}
