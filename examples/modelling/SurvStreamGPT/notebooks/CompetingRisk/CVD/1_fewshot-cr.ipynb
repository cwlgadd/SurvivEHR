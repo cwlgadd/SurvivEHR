{
 "cells": [
  {
   "cell_type": "markdown",
   "id": "4921342e-8ff8-45d4-b1f6-9fe480c2ee1d",
   "metadata": {},
   "source": [
    "# CPRD Notebook:\n",
    "## Evaluation of fine-tuning the pre-trained SurvivEHR-CR model on a supervised cohort study.\n",
    "\n",
    "Cohort study: predicting Cardiovascular Disease in a Type 2 Diabetes Mellitus population.\n",
    "\n",
    "This notebook quantifies the performance obtained when fine-tuning the pre-trained model to a sub-population."
   ]
  },
  {
   "cell_type": "code",
   "execution_count": null,
   "id": "a671c59b-4428-4e63-a138-7244418a87c5",
   "metadata": {},
   "outputs": [],
   "source": [
    "import os\n",
    "from pathlib import Path\n",
    "import sys\n",
    "node_type = os.getenv('BB_CPU')\n",
    "venv_dir = f'/rds/homes/g/gaddcz/Projects/CPRD/virtual-envTorch2.0-{node_type}'\n",
    "venv_site_pkgs = Path(venv_dir) / 'lib' / f'python{sys.version_info.major}.{sys.version_info.minor}' / 'site-packages'\n",
    "if venv_site_pkgs.exists():\n",
    "    sys.path.insert(0, str(venv_site_pkgs))\n",
    "    print(f\"Added path '{venv_site_pkgs}' at start of search paths.\")\n",
    "else:\n",
    "    print(f\"Path '{venv_site_pkgs}' not found. Check that it exists and/or that it exists for node-type '{node_type}'.\")\n",
    "\n",
    "%load_ext autoreload\n",
    "%autoreload 2\n",
    "\n",
    "print(os.getcwd())"
   ]
  },
  {
   "cell_type": "code",
   "execution_count": 3,
   "id": "d866c7f0-eaa8-4129-b3b1-d4d6b504d0a7",
   "metadata": {},
   "outputs": [
    {
     "name": "stdout",
     "output_type": "stream",
     "text": [
      "Using device: cuda.\n",
      "env: SLURM_NTASKS_PER_NODE=28\n"
     ]
    }
   ],
   "source": [
    "import torch\n",
    "import numpy as np\n",
    "import matplotlib.pyplot as plt\n",
    "import logging\n",
    "import wandb\n",
    "from tqdm import tqdm\n",
    "import pickle\n",
    "from hydra import compose, initialize\n",
    "from omegaconf import OmegaConf\n",
    "from CPRD.examples.modelling.SurvStreamGPT.run_experiment import run\n",
    "from CPRD.data.foundational_loader import FoundationalDataModule\n",
    "from CPRD.src.models.survival.task_heads.causal import SurvStreamGPTForCausalModelling\n",
    "\n",
    "import time\n",
    "import pyarrow.dataset as ds\n",
    "import pyarrow.parquet as pq\n",
    "import os\n",
    "import polars as pl\n",
    "pl.Config.set_tbl_rows(10000)\n",
    "import pandas as pd\n",
    "pd.options.display.max_rows = 10000\n",
    "\n",
    "torch.manual_seed(1337)\n",
    "torch.set_float32_matmul_precision('medium')\n",
    "\n",
    "logging.basicConfig(level=logging.INFO)\n",
    "device = 'cuda' if torch.cuda.is_available() else 'cpu'\n",
    "# device = \"cpu\"    # if more informative debugging statements are needed\n",
    "print(f\"Using device: {device}.\")\n",
    "\n",
    " # TODO: define an env variable to fix for a local hpc environment issue, this shouldn't be needed\n",
    "%env SLURM_NTASKS_PER_NODE=28   "
   ]
  },
  {
   "cell_type": "markdown",
   "id": "b9c237f8-679a-4fe4-a570-2c8c7b61da9b",
   "metadata": {},
   "source": [
    "# Choosing configurations\n",
    "The default configuration is for pre-training. Here we modify as necesssary\n",
    "\n",
    "Here we choose to load in the configuration for a small **pre-trained** 11.4M parameter model, named \"CR_11M\". We specfiy the `fine-tune` experiment type, which will lead to running the ```SupervisedExperiment```. \n",
    "\n",
    "We tell this experiment that we want to perform training (true by default). Additionally, we do choose to perform testing (true by default). As this is a supervised model, this tests the ability to predict the outcomes of interest. In this notebook, this is chosen to be those of the cohort study for predicting Cardiovascular Disease in a Type 2 Diabetes Mellitus population, and we add the folder containing this dataset to the configuration. \n",
    "\n",
    "```Note: As this is a supervised dataset, we need to tell the DataModule that the last event observed is a target and must be stripped. This is done by passing a list of targets to the configuration, overriding the null default. This lets the DataModule know that it should process batches as supervised.```\n",
    "\n",
    "We set the number of workers to be appropriate for the number of CPUs available to reduce bottlenecking, and tell the experiment that we do not want to limit the number of testing batches. In addition, we specify where we want any checkpoints to be saved to avoid bloating the repository.\n",
    "\n",
    "We design a new optimisation strategy for fine-tuning. Pre-training was achieved with a warmup and cosine annealing, with rates which are no appropriate for much smaller dataset sizes seen in clinical prediction models (CPMs). We here choose a simpler strategy: of ReduceOnPlateau with no warmup, increasing the number of epochs (default is 1) and reduced validation intervals, and the addition of early stopping. Additionally, as this is not a causal model we can increase the batch size. Finally, as this CPM is not trying to predict the value of any outcomes, we set the value weight to zero allowing the model to focus entirely on optimising survival outcome prediction."
   ]
  },
  {
   "cell_type": "markdown",
   "id": "612bb987-1923-4f44-bf3d-d74952b33380",
   "metadata": {},
   "source": [
    "# Small 11.4M parameter model\n",
    "\n",
    "```\n",
    "┏━━━━━━━━━━━━━━━━━━━━━━━━━━━━━━━━━━━━━┳━━━━━━━━━━━━━━━━━━━━━━━━━━━━━━━━━━━━━┓\n",
    "┃             Test metric             ┃            DataLoader 0             ┃\n",
    "┡━━━━━━━━━━━━━━━━━━━━━━━━━━━━━━━━━━━━━╇━━━━━━━━━━━━━━━━━━━━━━━━━━━━━━━━━━━━━┩\n",
    "│  Test:OutcomePerformanceMetricsctd  │         0.6582537293434143          │\n",
    "│  Test:OutcomePerformanceMetricsibs  │        0.033626483186099766         │\n",
    "│ Test:OutcomePerformanceMetricsinbll │         0.14357818411009718         │\n",
    "│              test_loss              │          9.273333549499512          │\n",
    "│          test_loss_desurv           │          9.273333549499512          │\n",
    "└─────────────────────────────────────┴─────────────────────────────────────┘\n",
    "```"
   ]
  },
  {
   "cell_type": "code",
   "execution_count": 5,
   "id": "5f6e33a0-0c57-4ba5-a4a7-4799ee6b1344",
   "metadata": {},
   "outputs": [
    {
     "name": "stderr",
     "output_type": "stream",
     "text": [
      "INFO:root:Running cr on 72 CPUs and 1 GPUs\n",
      "INFO:root:====================================================================================================\n",
      "INFO:root:# Loading DataModule for dataset /rds/projects/g/gokhalkm-optimal/OPTIMAL_MASTER_DATASET/data/FoundationalModel/FineTune_Hypertension/. This will be loaded in supervised form.\n",
      "INFO:root:====================================================================================================\n",
      "INFO:root:Creating supervised collator for DataModule\n",
      "INFO:root:Using meta information from /rds/projects/g/gokhalkm-optimal/OPTIMAL_MASTER_DATASET/data/FoundationalModel/PreTrain/meta_information_QuantJenny.pickle\n",
      "INFO:root:Using train file-row count dictionary from /rds/projects/g/gokhalkm-optimal/OPTIMAL_MASTER_DATASET/data/FoundationalModel/FineTune_Hypertension/file_row_count_dict_train.pickle\n",
      "INFO:root:Using test file-row count dictionary from /rds/projects/g/gokhalkm-optimal/OPTIMAL_MASTER_DATASET/data/FoundationalModel/FineTune_Hypertension/file_row_count_dict_test.pickle\n",
      "INFO:root:Using val file-row count dictionary from /rds/projects/g/gokhalkm-optimal/OPTIMAL_MASTER_DATASET/data/FoundationalModel/FineTune_Hypertension/file_row_count_dict_val.pickle\n",
      "INFO:root:Tokenzier created based on 7,555,415,275 tokens\n",
      "INFO:root:Using tabular tokenizer, created from meta information and containing 265 tokens\n",
      "INFO:root:Loaded /rds/projects/g/gokhalkm-optimal/OPTIMAL_MASTER_DATASET/data/FoundationalModel/FineTune_Hypertension/split=train/ dataset, with 572,096 samples\n",
      "INFO:root:Loaded /rds/projects/g/gokhalkm-optimal/OPTIMAL_MASTER_DATASET/data/FoundationalModel/FineTune_Hypertension/split=test/ dataset, with 35,758 samples\n",
      "INFO:root:Loaded /rds/projects/g/gokhalkm-optimal/OPTIMAL_MASTER_DATASET/data/FoundationalModel/FineTune_Hypertension/split=val/ dataset, with 33,280 samples\n",
      "INFO:root:is_decoder: true\n",
      "data:\n",
      "  batch_size: 64\n",
      "  unk_freq_threshold: 0.0\n",
      "  min_workers: 12\n",
      "  global_diagnoses: false\n",
      "  path_to_db: /rds/projects/g/gokhalkm-optimal/OPTIMAL_MASTER_DATASET/data/FoundationalModel/\n",
      "  path_to_ds: /rds/projects/g/gokhalkm-optimal/OPTIMAL_MASTER_DATASET/data/FoundationalModel/FineTune_Hypertension/\n",
      "  meta_information_path: /rds/projects/g/gokhalkm-optimal/OPTIMAL_MASTER_DATASET/data/FoundationalModel/PreTrain/meta_information_QuantJenny.pickle\n",
      "  subsample_training: null\n",
      "experiment:\n",
      "  type: few-shot\n",
      "  project_name: SurvivEHR\n",
      "  run_id: CR_11M_24_11_01_big_posencscale_\n",
      "  fine_tune_id: hypertension-few-shot-cr4\n",
      "  train: true\n",
      "  test: true\n",
      "  verbose: true\n",
      "  seed: 1337\n",
      "  log: true\n",
      "  log_dir: /rds/projects/s/subramaa-mum-predict/CharlesGadd_Oxford/FoundationModelOutput/\n",
      "  ckpt_dir: /rds/projects/s/subramaa-mum-predict/CharlesGadd_Oxford/FoundationModelOutput/checkpoints/\n",
      "  fine_tune_outcomes:\n",
      "  - HYPERTENSION\n",
      "optim:\n",
      "  num_epochs: 50\n",
      "  learning_rate: 0.0003\n",
      "  scheduler_warmup: false\n",
      "  scheduler: ReduceOnPlateau\n",
      "  scheduler_periods: 10000\n",
      "  learning_rate_decay: 0.8\n",
      "  val_check_interval: 5\n",
      "  early_stop: true\n",
      "  early_stop_patience: 20\n",
      "  log_every_n_steps: 20\n",
      "  limit_val_batches: 0.025\n",
      "  limit_test_batches: null\n",
      "transformer:\n",
      "  block_type: Neo\n",
      "  block_size: 256\n",
      "  n_layer: 10\n",
      "  n_head: 8\n",
      "  n_embd: 1024\n",
      "  layer_norm_bias: false\n",
      "  attention_type: global\n",
      "  bias: true\n",
      "  dropout: 0.0\n",
      "  attention_dropout: 0.0\n",
      "  resid_dropout: 0.0\n",
      "  private_heads: 0\n",
      "head:\n",
      "  SurvLayer: cr\n",
      "  surv_weight: 1\n",
      "  tokens_for_univariate_regression:\n",
      "  - 84\n",
      "  - 86\n",
      "  - 107\n",
      "  - 154\n",
      "  - 42\n",
      "  - 231\n",
      "  - 63\n",
      "  - 85\n",
      "  - 247\n",
      "  - 51\n",
      "  - 103\n",
      "  - 146\n",
      "  - 66\n",
      "  - 172\n",
      "  - 152\n",
      "  - 261\n",
      "  - 235\n",
      "  - 193\n",
      "  - 184\n",
      "  - 101\n",
      "  - 223\n",
      "  - 135\n",
      "  - 226\n",
      "  - 202\n",
      "  - 145\n",
      "  - 244\n",
      "  - 165\n",
      "  - 64\n",
      "  - 185\n",
      "  - 238\n",
      "  - 220\n",
      "  - 232\n",
      "  - 240\n",
      "  - 237\n",
      "  - 17\n",
      "  - 239\n",
      "  - 217\n",
      "  - 118\n",
      "  - 219\n",
      "  - 251\n",
      "  - 25\n",
      "  - 150\n",
      "  - 111\n",
      "  - 102\n",
      "  - 15\n",
      "  - 110\n",
      "  - 130\n",
      "  - 128\n",
      "  - 122\n",
      "  - 99\n",
      "  - 77\n",
      "  - 96\n",
      "  - 140\n",
      "  - 50\n",
      "  - 80\n",
      "  - 108\n",
      "  - 138\n",
      "  - 27\n",
      "  - 139\n",
      "  - 125\n",
      "  - 117\n",
      "  - 105\n",
      "  - 109\n",
      "  - 243\n",
      "  - 236\n",
      "  - 208\n",
      "  - 98\n",
      "  - 176\n",
      "  - 209\n",
      "  - 194\n",
      "  - 61\n",
      "  - 73\n",
      "  - 214\n",
      "  - 206\n",
      "  - 229\n",
      "  - 225\n",
      "  - 183\n",
      "  - 186\n",
      "  - 215\n",
      "  - 187\n",
      "  - 248\n",
      "  - 179\n",
      "  - 163\n",
      "  - 180\n",
      "  - 181\n",
      "  - 153\n",
      "  - 245\n",
      "  - 54\n",
      "  - 246\n",
      "  - 112\n",
      "  - 212\n",
      "  - 141\n",
      "  - 204\n",
      "  - 227\n",
      "  - 173\n",
      "  - 55\n",
      "  - 119\n",
      "  - 262\n",
      "  - 127\n",
      "  - 71\n",
      "  - 59\n",
      "  - 144\n",
      "  - 113\n",
      "  - 170\n",
      "  - 241\n",
      "  - 168\n",
      "  - 47\n",
      "  - 159\n",
      "  value_weight: 0\n",
      "\n",
      "INFO:root:====================================================================================================\n",
      "INFO:root:# Few-shot learning experiment.\n",
      "INFO:root:====================================================================================================\n",
      "INFO:root:Creating new few-shot model at the path /rds/projects/s/subramaa-mum-predict/CharlesGadd_Oxford/FoundationModelOutput/checkpoints/CR_11M_24_11_01_big_posencscale__hypertension-few-shot-cr4.ckpt. This is initialised from a pre-trained causal model, which can be found at checkpoint /rds/projects/s/subramaa-mum-predict/CharlesGadd_Oxford/FoundationModelOutput/checkpoints/CR_11M_24_11_01_big_posencscale_.ckpt.\n",
      "INFO:root:Running few-shot experiment with outcomes {'HYPERTENSION': 129}\n",
      "INFO:root:Loading from checkpoint\n",
      "INFO:root:Using Temporal Positional Encoding. This module uses the patient's age at an event within their time series.\n",
      "INFO:root:Using Competing-Risk DeSurv head.\n",
      "INFO:root:In generation forwarding DeSurv on the grid between [0.0, 1.0] with 1000 intervals\n",
      "INFO:root:Fixing Transformer parameters and training only head.\n",
      "INFO:root:Re-initialising survival head weights\n",
      "INFO:root:Re-initialising survival head parameters.\n",
      "INFO:root:Created Performance metric callback. Calculating metrics for dict_keys([129]) with map {129: 128}\n",
      "GPU available: True (cuda), used: True\n",
      "TPU available: False, using: 0 TPU cores\n",
      "IPU available: False, using: 0 IPUs\n",
      "HPU available: False, using: 0 HPUs\n",
      "INFO:root:Training model.\n",
      "ERROR:wandb.jupyter:Failed to detect the name of this notebook, you can set it manually with the WANDB_NOTEBOOK_NAME environment variable to enable code saving.\n",
      "\u001b[34m\u001b[1mwandb\u001b[0m: Currently logged in as: \u001b[33mcwlgadd\u001b[0m. Use \u001b[1m`wandb login --relogin`\u001b[0m to force relogin\n"
     ]
    },
    {
     "data": {
      "text/html": [
       "wandb version 0.18.7 is available!  To upgrade, please run:\n",
       " $ pip install wandb --upgrade"
      ],
      "text/plain": [
       "<IPython.core.display.HTML object>"
      ]
     },
     "metadata": {},
     "output_type": "display_data"
    },
    {
     "data": {
      "text/html": [
       "Tracking run with wandb version 0.13.6"
      ],
      "text/plain": [
       "<IPython.core.display.HTML object>"
      ]
     },
     "metadata": {},
     "output_type": "display_data"
    },
    {
     "data": {
      "text/html": [
       "Run data is saved locally in <code>/rds/projects/s/subramaa-mum-predict/CharlesGadd_Oxford/FoundationModelOutput/wandb/run-20241117_125119-i7d74heb</code>"
      ],
      "text/plain": [
       "<IPython.core.display.HTML object>"
      ]
     },
     "metadata": {},
     "output_type": "display_data"
    },
    {
     "data": {
      "text/html": [
       "Syncing run <strong><a href=\"https://wandb.ai/cwlgadd/SurvivEHR/runs/i7d74heb\" target=\"_blank\">CR_11M_24_11_01_big_posencscale__hypertension-few-shot-cr4</a></strong> to <a href=\"https://wandb.ai/cwlgadd/SurvivEHR\" target=\"_blank\">Weights & Biases</a> (<a href=\"https://wandb.me/run\" target=\"_blank\">docs</a>)<br/>"
      ],
      "text/plain": [
       "<IPython.core.display.HTML object>"
      ]
     },
     "metadata": {},
     "output_type": "display_data"
    },
    {
     "name": "stderr",
     "output_type": "stream",
     "text": [
      "/rds/bear-apps/2022a/EL8-ice/software/PyTorch-Lightning/2.1.0-foss-2022a-CUDA-11.7.0/lib/python3.10/site-packages/pytorch_lightning/callbacks/model_checkpoint.py:630: Checkpoint directory /rds/projects/s/subramaa-mum-predict/CharlesGadd_Oxford/FoundationModelOutput/checkpoints exists and is not empty.\n",
      "LOCAL_RANK: 0 - CUDA_VISIBLE_DEVICES: [0]\n",
      "INFO:root:Using ReduceLROnPlateau scheduler\n",
      "INFO:root:Not using warm-up in scheduler\n",
      "\n",
      "  | Name  | Type                            | Params\n",
      "----------------------------------------------------------\n",
      "0 | model | SurvStreamGPTForCausalModelling | 129 M \n",
      "----------------------------------------------------------\n",
      "541 K     Trainable params\n",
      "128 M     Non-trainable params\n",
      "129 M     Total params\n",
      "517.425   Total estimated model params size (MB)\n",
      "SLURM auto-requeueing enabled. Setting signal handlers.\n"
     ]
    },
    {
     "data": {
      "application/vnd.jupyter.widget-view+json": {
       "model_id": "",
       "version_major": 2,
       "version_minor": 0
      },
      "text/plain": [
       "Sanity Checking: |          | 0/? [00:00<?, ?it/s]"
      ]
     },
     "metadata": {},
     "output_type": "display_data"
    },
    {
     "name": "stderr",
     "output_type": "stream",
     "text": [
      "INFO:root:Running callback Val:OutcomePerformanceMetrics\n",
      "INFO:root:log_combined\n",
      "INFO:root:Running callback Val:OutcomePerformanceMetrics\n",
      "INFO:root:log_combined\n"
     ]
    },
    {
     "data": {
      "application/vnd.jupyter.widget-view+json": {
       "model_id": "c546042137af49d8bce7f57c3776fb11",
       "version_major": 2,
       "version_minor": 0
      },
      "text/plain": [
       "Training: |          | 0/? [00:00<?, ?it/s]"
      ]
     },
     "metadata": {},
     "output_type": "display_data"
    },
    {
     "data": {
      "application/vnd.jupyter.widget-view+json": {
       "model_id": "",
       "version_major": 2,
       "version_minor": 0
      },
      "text/plain": [
       "Validation: |          | 0/? [00:00<?, ?it/s]"
      ]
     },
     "metadata": {},
     "output_type": "display_data"
    },
    {
     "name": "stderr",
     "output_type": "stream",
     "text": [
      "INFO:root:Running callback Val:OutcomePerformanceMetrics\n",
      "INFO:root:log_combined\n",
      "INFO:root:Running callback Val:OutcomePerformanceMetrics\n",
      "INFO:root:log_combined\n",
      "INFO:root:Running callback Val:OutcomePerformanceMetrics\n",
      "INFO:root:log_combined\n",
      "INFO:root:Running callback Val:OutcomePerformanceMetrics\n",
      "INFO:root:log_combined\n",
      "INFO:root:Running callback Val:OutcomePerformanceMetrics\n",
      "INFO:root:log_combined\n",
      "INFO:root:Running callback Val:OutcomePerformanceMetrics\n",
      "INFO:root:log_combined\n",
      "INFO:root:Running callback Val:OutcomePerformanceMetrics\n",
      "INFO:root:log_combined\n",
      "INFO:root:Running callback Val:OutcomePerformanceMetrics\n",
      "INFO:root:log_combined\n",
      "INFO:root:Running callback Val:OutcomePerformanceMetrics\n",
      "INFO:root:log_combined\n",
      "INFO:root:Running callback Val:OutcomePerformanceMetrics\n",
      "INFO:root:log_combined\n",
      "INFO:root:Running callback Val:OutcomePerformanceMetrics\n",
      "INFO:root:log_combined\n",
      "INFO:root:Running callback Val:OutcomePerformanceMetrics\n",
      "INFO:root:log_combined\n",
      "INFO:root:Running callback Val:OutcomePerformanceMetrics\n",
      "INFO:root:log_combined\n",
      "Metric val_loss improved. New best score: 6.574\n",
      "Epoch 0, global step 5: 'val_loss' reached 6.57433 (best 6.57433), saving model to '/rds/projects/s/subramaa-mum-predict/CharlesGadd_Oxford/FoundationModelOutput/checkpoints/CR_11M_24_11_01_big_posencscale__hypertension-few-shot-cr4.ckpt' as top 1\n"
     ]
    },
    {
     "data": {
      "application/vnd.jupyter.widget-view+json": {
       "model_id": "",
       "version_major": 2,
       "version_minor": 0
      },
      "text/plain": [
       "Validation: |          | 0/? [00:00<?, ?it/s]"
      ]
     },
     "metadata": {},
     "output_type": "display_data"
    },
    {
     "name": "stderr",
     "output_type": "stream",
     "text": [
      "INFO:root:Running callback Val:OutcomePerformanceMetrics\n",
      "INFO:root:log_combined\n",
      "INFO:root:Running callback Val:OutcomePerformanceMetrics\n",
      "INFO:root:log_combined\n",
      "INFO:root:Running callback Val:OutcomePerformanceMetrics\n",
      "INFO:root:log_combined\n",
      "INFO:root:Running callback Val:OutcomePerformanceMetrics\n",
      "INFO:root:log_combined\n",
      "INFO:root:Running callback Val:OutcomePerformanceMetrics\n",
      "INFO:root:log_combined\n",
      "INFO:root:Running callback Val:OutcomePerformanceMetrics\n",
      "INFO:root:log_combined\n",
      "INFO:root:Running callback Val:OutcomePerformanceMetrics\n",
      "INFO:root:log_combined\n",
      "INFO:root:Running callback Val:OutcomePerformanceMetrics\n",
      "INFO:root:log_combined\n",
      "INFO:root:Running callback Val:OutcomePerformanceMetrics\n",
      "INFO:root:log_combined\n",
      "INFO:root:Running callback Val:OutcomePerformanceMetrics\n",
      "INFO:root:log_combined\n",
      "INFO:root:Running callback Val:OutcomePerformanceMetrics\n",
      "INFO:root:log_combined\n",
      "INFO:root:Running callback Val:OutcomePerformanceMetrics\n",
      "INFO:root:log_combined\n",
      "INFO:root:Running callback Val:OutcomePerformanceMetrics\n",
      "INFO:root:log_combined\n",
      "Metric val_loss improved by 0.279 >= min_delta = 0. New best score: 6.295\n",
      "Epoch 0, global step 10: 'val_loss' reached 6.29531 (best 6.29531), saving model to '/rds/projects/s/subramaa-mum-predict/CharlesGadd_Oxford/FoundationModelOutput/checkpoints/CR_11M_24_11_01_big_posencscale__hypertension-few-shot-cr4.ckpt' as top 1\n"
     ]
    },
    {
     "data": {
      "application/vnd.jupyter.widget-view+json": {
       "model_id": "",
       "version_major": 2,
       "version_minor": 0
      },
      "text/plain": [
       "Validation: |          | 0/? [00:00<?, ?it/s]"
      ]
     },
     "metadata": {},
     "output_type": "display_data"
    },
    {
     "name": "stderr",
     "output_type": "stream",
     "text": [
      "INFO:root:Running callback Val:OutcomePerformanceMetrics\n",
      "INFO:root:log_combined\n",
      "INFO:root:Running callback Val:OutcomePerformanceMetrics\n",
      "INFO:root:log_combined\n",
      "INFO:root:Running callback Val:OutcomePerformanceMetrics\n",
      "INFO:root:log_combined\n",
      "INFO:root:Running callback Val:OutcomePerformanceMetrics\n",
      "INFO:root:log_combined\n",
      "INFO:root:Running callback Val:OutcomePerformanceMetrics\n",
      "INFO:root:log_combined\n",
      "INFO:root:Running callback Val:OutcomePerformanceMetrics\n",
      "INFO:root:log_combined\n",
      "INFO:root:Running callback Val:OutcomePerformanceMetrics\n",
      "INFO:root:log_combined\n",
      "INFO:root:Running callback Val:OutcomePerformanceMetrics\n",
      "INFO:root:log_combined\n",
      "INFO:root:Running callback Val:OutcomePerformanceMetrics\n",
      "INFO:root:log_combined\n",
      "INFO:root:Running callback Val:OutcomePerformanceMetrics\n",
      "INFO:root:log_combined\n",
      "INFO:root:Running callback Val:OutcomePerformanceMetrics\n",
      "INFO:root:log_combined\n",
      "INFO:root:Running callback Val:OutcomePerformanceMetrics\n",
      "INFO:root:log_combined\n",
      "INFO:root:Running callback Val:OutcomePerformanceMetrics\n",
      "INFO:root:log_combined\n",
      "Metric val_loss improved by 0.269 >= min_delta = 0. New best score: 6.026\n",
      "Epoch 0, global step 15: 'val_loss' reached 6.02643 (best 6.02643), saving model to '/rds/projects/s/subramaa-mum-predict/CharlesGadd_Oxford/FoundationModelOutput/checkpoints/CR_11M_24_11_01_big_posencscale__hypertension-few-shot-cr4.ckpt' as top 1\n"
     ]
    },
    {
     "data": {
      "application/vnd.jupyter.widget-view+json": {
       "model_id": "",
       "version_major": 2,
       "version_minor": 0
      },
      "text/plain": [
       "Validation: |          | 0/? [00:00<?, ?it/s]"
      ]
     },
     "metadata": {},
     "output_type": "display_data"
    },
    {
     "name": "stderr",
     "output_type": "stream",
     "text": [
      "INFO:root:Running callback Val:OutcomePerformanceMetrics\n",
      "INFO:root:log_combined\n",
      "INFO:root:Running callback Val:OutcomePerformanceMetrics\n",
      "INFO:root:log_combined\n",
      "INFO:root:Running callback Val:OutcomePerformanceMetrics\n",
      "INFO:root:log_combined\n",
      "INFO:root:Running callback Val:OutcomePerformanceMetrics\n",
      "INFO:root:log_combined\n",
      "INFO:root:Running callback Val:OutcomePerformanceMetrics\n",
      "INFO:root:log_combined\n",
      "INFO:root:Running callback Val:OutcomePerformanceMetrics\n",
      "INFO:root:log_combined\n",
      "INFO:root:Running callback Val:OutcomePerformanceMetrics\n",
      "INFO:root:log_combined\n",
      "INFO:root:Running callback Val:OutcomePerformanceMetrics\n",
      "INFO:root:log_combined\n",
      "INFO:root:Running callback Val:OutcomePerformanceMetrics\n",
      "INFO:root:log_combined\n",
      "INFO:root:Running callback Val:OutcomePerformanceMetrics\n",
      "INFO:root:log_combined\n",
      "INFO:root:Running callback Val:OutcomePerformanceMetrics\n",
      "INFO:root:log_combined\n",
      "INFO:root:Running callback Val:OutcomePerformanceMetrics\n",
      "INFO:root:log_combined\n",
      "INFO:root:Running callback Val:OutcomePerformanceMetrics\n",
      "INFO:root:log_combined\n",
      "Metric val_loss improved by 0.256 >= min_delta = 0. New best score: 5.770\n",
      "Epoch 0, global step 20: 'val_loss' reached 5.77008 (best 5.77008), saving model to '/rds/projects/s/subramaa-mum-predict/CharlesGadd_Oxford/FoundationModelOutput/checkpoints/CR_11M_24_11_01_big_posencscale__hypertension-few-shot-cr4.ckpt' as top 1\n"
     ]
    },
    {
     "data": {
      "application/vnd.jupyter.widget-view+json": {
       "model_id": "",
       "version_major": 2,
       "version_minor": 0
      },
      "text/plain": [
       "Validation: |          | 0/? [00:00<?, ?it/s]"
      ]
     },
     "metadata": {},
     "output_type": "display_data"
    },
    {
     "name": "stderr",
     "output_type": "stream",
     "text": [
      "INFO:root:Running callback Val:OutcomePerformanceMetrics\n",
      "INFO:root:log_combined\n",
      "INFO:root:Running callback Val:OutcomePerformanceMetrics\n",
      "INFO:root:log_combined\n",
      "INFO:root:Running callback Val:OutcomePerformanceMetrics\n",
      "INFO:root:log_combined\n",
      "INFO:root:Running callback Val:OutcomePerformanceMetrics\n",
      "INFO:root:log_combined\n",
      "INFO:root:Running callback Val:OutcomePerformanceMetrics\n",
      "INFO:root:log_combined\n",
      "INFO:root:Running callback Val:OutcomePerformanceMetrics\n",
      "INFO:root:log_combined\n",
      "INFO:root:Running callback Val:OutcomePerformanceMetrics\n",
      "INFO:root:log_combined\n",
      "INFO:root:Running callback Val:OutcomePerformanceMetrics\n",
      "INFO:root:log_combined\n",
      "INFO:root:Running callback Val:OutcomePerformanceMetrics\n",
      "INFO:root:log_combined\n",
      "INFO:root:Running callback Val:OutcomePerformanceMetrics\n",
      "INFO:root:log_combined\n",
      "INFO:root:Running callback Val:OutcomePerformanceMetrics\n",
      "INFO:root:log_combined\n",
      "INFO:root:Running callback Val:OutcomePerformanceMetrics\n",
      "INFO:root:log_combined\n",
      "INFO:root:Running callback Val:OutcomePerformanceMetrics\n",
      "INFO:root:log_combined\n",
      "Metric val_loss improved by 0.244 >= min_delta = 0. New best score: 5.526\n",
      "Epoch 0, global step 25: 'val_loss' reached 5.52605 (best 5.52605), saving model to '/rds/projects/s/subramaa-mum-predict/CharlesGadd_Oxford/FoundationModelOutput/checkpoints/CR_11M_24_11_01_big_posencscale__hypertension-few-shot-cr4.ckpt' as top 1\n"
     ]
    },
    {
     "data": {
      "application/vnd.jupyter.widget-view+json": {
       "model_id": "",
       "version_major": 2,
       "version_minor": 0
      },
      "text/plain": [
       "Validation: |          | 0/? [00:00<?, ?it/s]"
      ]
     },
     "metadata": {},
     "output_type": "display_data"
    },
    {
     "name": "stderr",
     "output_type": "stream",
     "text": [
      "INFO:root:Running callback Val:OutcomePerformanceMetrics\n",
      "INFO:root:log_combined\n",
      "INFO:root:Running callback Val:OutcomePerformanceMetrics\n",
      "INFO:root:log_combined\n",
      "INFO:root:Running callback Val:OutcomePerformanceMetrics\n",
      "INFO:root:log_combined\n",
      "INFO:root:Running callback Val:OutcomePerformanceMetrics\n",
      "INFO:root:log_combined\n",
      "INFO:root:Running callback Val:OutcomePerformanceMetrics\n",
      "INFO:root:log_combined\n",
      "INFO:root:Running callback Val:OutcomePerformanceMetrics\n",
      "INFO:root:log_combined\n",
      "INFO:root:Running callback Val:OutcomePerformanceMetrics\n",
      "INFO:root:log_combined\n",
      "INFO:root:Running callback Val:OutcomePerformanceMetrics\n",
      "INFO:root:log_combined\n",
      "INFO:root:Running callback Val:OutcomePerformanceMetrics\n",
      "INFO:root:log_combined\n",
      "INFO:root:Running callback Val:OutcomePerformanceMetrics\n",
      "INFO:root:log_combined\n",
      "INFO:root:Running callback Val:OutcomePerformanceMetrics\n",
      "INFO:root:log_combined\n",
      "INFO:root:Running callback Val:OutcomePerformanceMetrics\n",
      "INFO:root:log_combined\n",
      "INFO:root:Running callback Val:OutcomePerformanceMetrics\n",
      "INFO:root:log_combined\n",
      "Metric val_loss improved by 0.230 >= min_delta = 0. New best score: 5.296\n",
      "Epoch 0, global step 30: 'val_loss' reached 5.29643 (best 5.29643), saving model to '/rds/projects/s/subramaa-mum-predict/CharlesGadd_Oxford/FoundationModelOutput/checkpoints/CR_11M_24_11_01_big_posencscale__hypertension-few-shot-cr4.ckpt' as top 1\n"
     ]
    },
    {
     "data": {
      "application/vnd.jupyter.widget-view+json": {
       "model_id": "",
       "version_major": 2,
       "version_minor": 0
      },
      "text/plain": [
       "Validation: |          | 0/? [00:00<?, ?it/s]"
      ]
     },
     "metadata": {},
     "output_type": "display_data"
    },
    {
     "name": "stderr",
     "output_type": "stream",
     "text": [
      "INFO:root:Running callback Val:OutcomePerformanceMetrics\n",
      "INFO:root:log_combined\n",
      "INFO:root:Running callback Val:OutcomePerformanceMetrics\n",
      "INFO:root:log_combined\n",
      "INFO:root:Running callback Val:OutcomePerformanceMetrics\n",
      "INFO:root:log_combined\n",
      "INFO:root:Running callback Val:OutcomePerformanceMetrics\n",
      "INFO:root:log_combined\n",
      "INFO:root:Running callback Val:OutcomePerformanceMetrics\n",
      "INFO:root:log_combined\n",
      "INFO:root:Running callback Val:OutcomePerformanceMetrics\n",
      "INFO:root:log_combined\n",
      "INFO:root:Running callback Val:OutcomePerformanceMetrics\n",
      "INFO:root:log_combined\n",
      "INFO:root:Running callback Val:OutcomePerformanceMetrics\n",
      "INFO:root:log_combined\n",
      "INFO:root:Running callback Val:OutcomePerformanceMetrics\n",
      "INFO:root:log_combined\n",
      "INFO:root:Running callback Val:OutcomePerformanceMetrics\n",
      "INFO:root:log_combined\n",
      "INFO:root:Running callback Val:OutcomePerformanceMetrics\n",
      "INFO:root:log_combined\n",
      "INFO:root:Running callback Val:OutcomePerformanceMetrics\n",
      "INFO:root:log_combined\n",
      "INFO:root:Running callback Val:OutcomePerformanceMetrics\n",
      "INFO:root:log_combined\n",
      "Metric val_loss improved by 0.217 >= min_delta = 0. New best score: 5.079\n",
      "Epoch 0, global step 35: 'val_loss' reached 5.07911 (best 5.07911), saving model to '/rds/projects/s/subramaa-mum-predict/CharlesGadd_Oxford/FoundationModelOutput/checkpoints/CR_11M_24_11_01_big_posencscale__hypertension-few-shot-cr4.ckpt' as top 1\n"
     ]
    },
    {
     "data": {
      "application/vnd.jupyter.widget-view+json": {
       "model_id": "",
       "version_major": 2,
       "version_minor": 0
      },
      "text/plain": [
       "Validation: |          | 0/? [00:00<?, ?it/s]"
      ]
     },
     "metadata": {},
     "output_type": "display_data"
    },
    {
     "name": "stderr",
     "output_type": "stream",
     "text": [
      "INFO:root:Running callback Val:OutcomePerformanceMetrics\n",
      "INFO:root:log_combined\n",
      "INFO:root:Running callback Val:OutcomePerformanceMetrics\n",
      "INFO:root:log_combined\n",
      "INFO:root:Running callback Val:OutcomePerformanceMetrics\n",
      "INFO:root:log_combined\n",
      "INFO:root:Running callback Val:OutcomePerformanceMetrics\n",
      "INFO:root:log_combined\n",
      "INFO:root:Running callback Val:OutcomePerformanceMetrics\n",
      "INFO:root:log_combined\n",
      "INFO:root:Running callback Val:OutcomePerformanceMetrics\n",
      "INFO:root:log_combined\n",
      "INFO:root:Running callback Val:OutcomePerformanceMetrics\n",
      "INFO:root:log_combined\n",
      "INFO:root:Running callback Val:OutcomePerformanceMetrics\n",
      "INFO:root:log_combined\n",
      "INFO:root:Running callback Val:OutcomePerformanceMetrics\n",
      "INFO:root:log_combined\n",
      "INFO:root:Running callback Val:OutcomePerformanceMetrics\n",
      "INFO:root:log_combined\n",
      "INFO:root:Running callback Val:OutcomePerformanceMetrics\n",
      "INFO:root:log_combined\n",
      "INFO:root:Running callback Val:OutcomePerformanceMetrics\n",
      "INFO:root:log_combined\n",
      "INFO:root:Running callback Val:OutcomePerformanceMetrics\n",
      "INFO:root:log_combined\n",
      "Metric val_loss improved by 0.205 >= min_delta = 0. New best score: 4.874\n",
      "Epoch 0, global step 40: 'val_loss' reached 4.87432 (best 4.87432), saving model to '/rds/projects/s/subramaa-mum-predict/CharlesGadd_Oxford/FoundationModelOutput/checkpoints/CR_11M_24_11_01_big_posencscale__hypertension-few-shot-cr4.ckpt' as top 1\n"
     ]
    },
    {
     "data": {
      "application/vnd.jupyter.widget-view+json": {
       "model_id": "",
       "version_major": 2,
       "version_minor": 0
      },
      "text/plain": [
       "Validation: |          | 0/? [00:00<?, ?it/s]"
      ]
     },
     "metadata": {},
     "output_type": "display_data"
    },
    {
     "name": "stderr",
     "output_type": "stream",
     "text": [
      "INFO:root:Running callback Val:OutcomePerformanceMetrics\n",
      "INFO:root:log_combined\n",
      "INFO:root:Running callback Val:OutcomePerformanceMetrics\n",
      "INFO:root:log_combined\n",
      "INFO:root:Running callback Val:OutcomePerformanceMetrics\n",
      "INFO:root:log_combined\n",
      "INFO:root:Running callback Val:OutcomePerformanceMetrics\n",
      "INFO:root:log_combined\n",
      "INFO:root:Running callback Val:OutcomePerformanceMetrics\n",
      "INFO:root:log_combined\n",
      "INFO:root:Running callback Val:OutcomePerformanceMetrics\n",
      "INFO:root:log_combined\n",
      "INFO:root:Running callback Val:OutcomePerformanceMetrics\n",
      "INFO:root:log_combined\n",
      "INFO:root:Running callback Val:OutcomePerformanceMetrics\n",
      "INFO:root:log_combined\n",
      "INFO:root:Running callback Val:OutcomePerformanceMetrics\n",
      "INFO:root:log_combined\n",
      "INFO:root:Running callback Val:OutcomePerformanceMetrics\n",
      "INFO:root:log_combined\n",
      "INFO:root:Running callback Val:OutcomePerformanceMetrics\n",
      "INFO:root:log_combined\n",
      "INFO:root:Running callback Val:OutcomePerformanceMetrics\n",
      "INFO:root:log_combined\n",
      "INFO:root:Running callback Val:OutcomePerformanceMetrics\n",
      "INFO:root:log_combined\n",
      "Metric val_loss improved by 0.191 >= min_delta = 0. New best score: 4.684\n",
      "Epoch 0, global step 45: 'val_loss' reached 4.68353 (best 4.68353), saving model to '/rds/projects/s/subramaa-mum-predict/CharlesGadd_Oxford/FoundationModelOutput/checkpoints/CR_11M_24_11_01_big_posencscale__hypertension-few-shot-cr4.ckpt' as top 1\n"
     ]
    },
    {
     "data": {
      "application/vnd.jupyter.widget-view+json": {
       "model_id": "",
       "version_major": 2,
       "version_minor": 0
      },
      "text/plain": [
       "Validation: |          | 0/? [00:00<?, ?it/s]"
      ]
     },
     "metadata": {},
     "output_type": "display_data"
    },
    {
     "name": "stderr",
     "output_type": "stream",
     "text": [
      "INFO:root:Running callback Val:OutcomePerformanceMetrics\n",
      "INFO:root:log_combined\n",
      "INFO:root:Running callback Val:OutcomePerformanceMetrics\n",
      "INFO:root:log_combined\n",
      "INFO:root:Running callback Val:OutcomePerformanceMetrics\n",
      "INFO:root:log_combined\n",
      "INFO:root:Running callback Val:OutcomePerformanceMetrics\n",
      "INFO:root:log_combined\n",
      "INFO:root:Running callback Val:OutcomePerformanceMetrics\n",
      "INFO:root:log_combined\n",
      "INFO:root:Running callback Val:OutcomePerformanceMetrics\n",
      "INFO:root:log_combined\n",
      "INFO:root:Running callback Val:OutcomePerformanceMetrics\n",
      "INFO:root:log_combined\n",
      "INFO:root:Running callback Val:OutcomePerformanceMetrics\n",
      "INFO:root:log_combined\n",
      "INFO:root:Running callback Val:OutcomePerformanceMetrics\n",
      "INFO:root:log_combined\n",
      "INFO:root:Running callback Val:OutcomePerformanceMetrics\n",
      "INFO:root:log_combined\n",
      "INFO:root:Running callback Val:OutcomePerformanceMetrics\n",
      "INFO:root:log_combined\n",
      "INFO:root:Running callback Val:OutcomePerformanceMetrics\n",
      "INFO:root:log_combined\n",
      "INFO:root:Running callback Val:OutcomePerformanceMetrics\n",
      "INFO:root:log_combined\n",
      "Metric val_loss improved by 0.178 >= min_delta = 0. New best score: 4.506\n",
      "Epoch 0, global step 50: 'val_loss' reached 4.50554 (best 4.50554), saving model to '/rds/projects/s/subramaa-mum-predict/CharlesGadd_Oxford/FoundationModelOutput/checkpoints/CR_11M_24_11_01_big_posencscale__hypertension-few-shot-cr4.ckpt' as top 1\n"
     ]
    },
    {
     "data": {
      "application/vnd.jupyter.widget-view+json": {
       "model_id": "",
       "version_major": 2,
       "version_minor": 0
      },
      "text/plain": [
       "Validation: |          | 0/? [00:00<?, ?it/s]"
      ]
     },
     "metadata": {},
     "output_type": "display_data"
    },
    {
     "name": "stderr",
     "output_type": "stream",
     "text": [
      "INFO:root:Running callback Val:OutcomePerformanceMetrics\n",
      "INFO:root:log_combined\n",
      "INFO:root:Running callback Val:OutcomePerformanceMetrics\n",
      "INFO:root:log_combined\n",
      "INFO:root:Running callback Val:OutcomePerformanceMetrics\n",
      "INFO:root:log_combined\n",
      "INFO:root:Running callback Val:OutcomePerformanceMetrics\n",
      "INFO:root:log_combined\n",
      "INFO:root:Running callback Val:OutcomePerformanceMetrics\n",
      "INFO:root:log_combined\n",
      "INFO:root:Running callback Val:OutcomePerformanceMetrics\n",
      "INFO:root:log_combined\n",
      "INFO:root:Running callback Val:OutcomePerformanceMetrics\n",
      "INFO:root:log_combined\n",
      "INFO:root:Running callback Val:OutcomePerformanceMetrics\n",
      "INFO:root:log_combined\n",
      "INFO:root:Running callback Val:OutcomePerformanceMetrics\n",
      "INFO:root:log_combined\n",
      "INFO:root:Running callback Val:OutcomePerformanceMetrics\n",
      "INFO:root:log_combined\n",
      "INFO:root:Running callback Val:OutcomePerformanceMetrics\n",
      "INFO:root:log_combined\n",
      "INFO:root:Running callback Val:OutcomePerformanceMetrics\n",
      "INFO:root:log_combined\n",
      "INFO:root:Running callback Val:OutcomePerformanceMetrics\n",
      "INFO:root:log_combined\n",
      "Metric val_loss improved by 0.164 >= min_delta = 0. New best score: 4.341\n",
      "Epoch 0, global step 55: 'val_loss' reached 4.34120 (best 4.34120), saving model to '/rds/projects/s/subramaa-mum-predict/CharlesGadd_Oxford/FoundationModelOutput/checkpoints/CR_11M_24_11_01_big_posencscale__hypertension-few-shot-cr4.ckpt' as top 1\n"
     ]
    },
    {
     "data": {
      "application/vnd.jupyter.widget-view+json": {
       "model_id": "",
       "version_major": 2,
       "version_minor": 0
      },
      "text/plain": [
       "Validation: |          | 0/? [00:00<?, ?it/s]"
      ]
     },
     "metadata": {},
     "output_type": "display_data"
    },
    {
     "name": "stderr",
     "output_type": "stream",
     "text": [
      "INFO:root:Running callback Val:OutcomePerformanceMetrics\n",
      "INFO:root:log_combined\n",
      "INFO:root:Running callback Val:OutcomePerformanceMetrics\n",
      "INFO:root:log_combined\n",
      "INFO:root:Running callback Val:OutcomePerformanceMetrics\n",
      "INFO:root:log_combined\n",
      "INFO:root:Running callback Val:OutcomePerformanceMetrics\n",
      "INFO:root:log_combined\n",
      "INFO:root:Running callback Val:OutcomePerformanceMetrics\n",
      "INFO:root:log_combined\n",
      "INFO:root:Running callback Val:OutcomePerformanceMetrics\n",
      "INFO:root:log_combined\n",
      "INFO:root:Running callback Val:OutcomePerformanceMetrics\n",
      "INFO:root:log_combined\n",
      "INFO:root:Running callback Val:OutcomePerformanceMetrics\n",
      "INFO:root:log_combined\n",
      "INFO:root:Running callback Val:OutcomePerformanceMetrics\n",
      "INFO:root:log_combined\n",
      "INFO:root:Running callback Val:OutcomePerformanceMetrics\n",
      "INFO:root:log_combined\n",
      "INFO:root:Running callback Val:OutcomePerformanceMetrics\n",
      "INFO:root:log_combined\n",
      "INFO:root:Running callback Val:OutcomePerformanceMetrics\n",
      "INFO:root:log_combined\n",
      "INFO:root:Running callback Val:OutcomePerformanceMetrics\n",
      "INFO:root:log_combined\n",
      "Metric val_loss improved by 0.152 >= min_delta = 0. New best score: 4.189\n",
      "Epoch 0, global step 60: 'val_loss' reached 4.18874 (best 4.18874), saving model to '/rds/projects/s/subramaa-mum-predict/CharlesGadd_Oxford/FoundationModelOutput/checkpoints/CR_11M_24_11_01_big_posencscale__hypertension-few-shot-cr4.ckpt' as top 1\n"
     ]
    },
    {
     "data": {
      "application/vnd.jupyter.widget-view+json": {
       "model_id": "",
       "version_major": 2,
       "version_minor": 0
      },
      "text/plain": [
       "Validation: |          | 0/? [00:00<?, ?it/s]"
      ]
     },
     "metadata": {},
     "output_type": "display_data"
    },
    {
     "name": "stderr",
     "output_type": "stream",
     "text": [
      "INFO:root:Running callback Val:OutcomePerformanceMetrics\n",
      "INFO:root:log_combined\n",
      "INFO:root:Running callback Val:OutcomePerformanceMetrics\n",
      "INFO:root:log_combined\n",
      "INFO:root:Running callback Val:OutcomePerformanceMetrics\n",
      "INFO:root:log_combined\n",
      "INFO:root:Running callback Val:OutcomePerformanceMetrics\n",
      "INFO:root:log_combined\n",
      "INFO:root:Running callback Val:OutcomePerformanceMetrics\n",
      "INFO:root:log_combined\n",
      "INFO:root:Running callback Val:OutcomePerformanceMetrics\n",
      "INFO:root:log_combined\n",
      "INFO:root:Running callback Val:OutcomePerformanceMetrics\n",
      "INFO:root:log_combined\n",
      "INFO:root:Running callback Val:OutcomePerformanceMetrics\n",
      "INFO:root:log_combined\n",
      "INFO:root:Running callback Val:OutcomePerformanceMetrics\n",
      "INFO:root:log_combined\n",
      "INFO:root:Running callback Val:OutcomePerformanceMetrics\n",
      "INFO:root:log_combined\n",
      "INFO:root:Running callback Val:OutcomePerformanceMetrics\n",
      "INFO:root:log_combined\n",
      "INFO:root:Running callback Val:OutcomePerformanceMetrics\n",
      "INFO:root:log_combined\n",
      "INFO:root:Running callback Val:OutcomePerformanceMetrics\n",
      "INFO:root:log_combined\n",
      "Metric val_loss improved by 0.138 >= min_delta = 0. New best score: 4.051\n",
      "Epoch 0, global step 65: 'val_loss' reached 4.05081 (best 4.05081), saving model to '/rds/projects/s/subramaa-mum-predict/CharlesGadd_Oxford/FoundationModelOutput/checkpoints/CR_11M_24_11_01_big_posencscale__hypertension-few-shot-cr4.ckpt' as top 1\n"
     ]
    },
    {
     "data": {
      "application/vnd.jupyter.widget-view+json": {
       "model_id": "",
       "version_major": 2,
       "version_minor": 0
      },
      "text/plain": [
       "Validation: |          | 0/? [00:00<?, ?it/s]"
      ]
     },
     "metadata": {},
     "output_type": "display_data"
    },
    {
     "name": "stderr",
     "output_type": "stream",
     "text": [
      "INFO:root:Running callback Val:OutcomePerformanceMetrics\n",
      "INFO:root:log_combined\n",
      "INFO:root:Running callback Val:OutcomePerformanceMetrics\n",
      "INFO:root:log_combined\n",
      "INFO:root:Running callback Val:OutcomePerformanceMetrics\n",
      "INFO:root:log_combined\n",
      "INFO:root:Running callback Val:OutcomePerformanceMetrics\n",
      "INFO:root:log_combined\n",
      "INFO:root:Running callback Val:OutcomePerformanceMetrics\n",
      "INFO:root:log_combined\n",
      "INFO:root:Running callback Val:OutcomePerformanceMetrics\n",
      "INFO:root:log_combined\n",
      "INFO:root:Running callback Val:OutcomePerformanceMetrics\n",
      "INFO:root:log_combined\n",
      "INFO:root:Running callback Val:OutcomePerformanceMetrics\n",
      "INFO:root:log_combined\n",
      "INFO:root:Running callback Val:OutcomePerformanceMetrics\n",
      "INFO:root:log_combined\n",
      "INFO:root:Running callback Val:OutcomePerformanceMetrics\n",
      "INFO:root:log_combined\n",
      "INFO:root:Running callback Val:OutcomePerformanceMetrics\n",
      "INFO:root:log_combined\n",
      "INFO:root:Running callback Val:OutcomePerformanceMetrics\n",
      "INFO:root:log_combined\n",
      "INFO:root:Running callback Val:OutcomePerformanceMetrics\n",
      "INFO:root:log_combined\n",
      "Metric val_loss improved by 0.126 >= min_delta = 0. New best score: 3.925\n",
      "Epoch 0, global step 70: 'val_loss' reached 3.92474 (best 3.92474), saving model to '/rds/projects/s/subramaa-mum-predict/CharlesGadd_Oxford/FoundationModelOutput/checkpoints/CR_11M_24_11_01_big_posencscale__hypertension-few-shot-cr4.ckpt' as top 1\n"
     ]
    },
    {
     "data": {
      "application/vnd.jupyter.widget-view+json": {
       "model_id": "",
       "version_major": 2,
       "version_minor": 0
      },
      "text/plain": [
       "Validation: |          | 0/? [00:00<?, ?it/s]"
      ]
     },
     "metadata": {},
     "output_type": "display_data"
    },
    {
     "name": "stderr",
     "output_type": "stream",
     "text": [
      "INFO:root:Running callback Val:OutcomePerformanceMetrics\n",
      "INFO:root:log_combined\n",
      "INFO:root:Running callback Val:OutcomePerformanceMetrics\n",
      "INFO:root:log_combined\n",
      "INFO:root:Running callback Val:OutcomePerformanceMetrics\n",
      "INFO:root:log_combined\n",
      "INFO:root:Running callback Val:OutcomePerformanceMetrics\n",
      "INFO:root:log_combined\n",
      "INFO:root:Running callback Val:OutcomePerformanceMetrics\n",
      "INFO:root:log_combined\n",
      "INFO:root:Running callback Val:OutcomePerformanceMetrics\n",
      "INFO:root:log_combined\n",
      "INFO:root:Running callback Val:OutcomePerformanceMetrics\n",
      "INFO:root:log_combined\n",
      "INFO:root:Running callback Val:OutcomePerformanceMetrics\n",
      "INFO:root:log_combined\n",
      "INFO:root:Running callback Val:OutcomePerformanceMetrics\n",
      "INFO:root:log_combined\n",
      "INFO:root:Running callback Val:OutcomePerformanceMetrics\n",
      "INFO:root:log_combined\n",
      "INFO:root:Running callback Val:OutcomePerformanceMetrics\n",
      "INFO:root:log_combined\n",
      "INFO:root:Running callback Val:OutcomePerformanceMetrics\n",
      "INFO:root:log_combined\n",
      "INFO:root:Running callback Val:OutcomePerformanceMetrics\n",
      "INFO:root:log_combined\n",
      "Metric val_loss improved by 0.117 >= min_delta = 0. New best score: 3.808\n",
      "Epoch 0, global step 75: 'val_loss' reached 3.80773 (best 3.80773), saving model to '/rds/projects/s/subramaa-mum-predict/CharlesGadd_Oxford/FoundationModelOutput/checkpoints/CR_11M_24_11_01_big_posencscale__hypertension-few-shot-cr4.ckpt' as top 1\n"
     ]
    },
    {
     "data": {
      "application/vnd.jupyter.widget-view+json": {
       "model_id": "",
       "version_major": 2,
       "version_minor": 0
      },
      "text/plain": [
       "Validation: |          | 0/? [00:00<?, ?it/s]"
      ]
     },
     "metadata": {},
     "output_type": "display_data"
    },
    {
     "name": "stderr",
     "output_type": "stream",
     "text": [
      "INFO:root:Running callback Val:OutcomePerformanceMetrics\n",
      "INFO:root:log_combined\n",
      "INFO:root:Running callback Val:OutcomePerformanceMetrics\n",
      "INFO:root:log_combined\n",
      "INFO:root:Running callback Val:OutcomePerformanceMetrics\n",
      "INFO:root:log_combined\n",
      "INFO:root:Running callback Val:OutcomePerformanceMetrics\n",
      "INFO:root:log_combined\n",
      "INFO:root:Running callback Val:OutcomePerformanceMetrics\n",
      "INFO:root:log_combined\n",
      "INFO:root:Running callback Val:OutcomePerformanceMetrics\n",
      "INFO:root:log_combined\n",
      "INFO:root:Running callback Val:OutcomePerformanceMetrics\n",
      "INFO:root:log_combined\n",
      "INFO:root:Running callback Val:OutcomePerformanceMetrics\n",
      "INFO:root:log_combined\n",
      "INFO:root:Running callback Val:OutcomePerformanceMetrics\n",
      "INFO:root:log_combined\n",
      "INFO:root:Running callback Val:OutcomePerformanceMetrics\n",
      "INFO:root:log_combined\n",
      "INFO:root:Running callback Val:OutcomePerformanceMetrics\n",
      "INFO:root:log_combined\n",
      "INFO:root:Running callback Val:OutcomePerformanceMetrics\n",
      "INFO:root:log_combined\n",
      "INFO:root:Running callback Val:OutcomePerformanceMetrics\n",
      "INFO:root:log_combined\n",
      "Metric val_loss improved by 0.105 >= min_delta = 0. New best score: 3.703\n",
      "Epoch 0, global step 80: 'val_loss' reached 3.70262 (best 3.70262), saving model to '/rds/projects/s/subramaa-mum-predict/CharlesGadd_Oxford/FoundationModelOutput/checkpoints/CR_11M_24_11_01_big_posencscale__hypertension-few-shot-cr4.ckpt' as top 1\n"
     ]
    },
    {
     "data": {
      "application/vnd.jupyter.widget-view+json": {
       "model_id": "",
       "version_major": 2,
       "version_minor": 0
      },
      "text/plain": [
       "Validation: |          | 0/? [00:00<?, ?it/s]"
      ]
     },
     "metadata": {},
     "output_type": "display_data"
    },
    {
     "name": "stderr",
     "output_type": "stream",
     "text": [
      "INFO:root:Running callback Val:OutcomePerformanceMetrics\n",
      "INFO:root:log_combined\n",
      "INFO:root:Running callback Val:OutcomePerformanceMetrics\n",
      "INFO:root:log_combined\n",
      "INFO:root:Running callback Val:OutcomePerformanceMetrics\n",
      "INFO:root:log_combined\n",
      "INFO:root:Running callback Val:OutcomePerformanceMetrics\n",
      "INFO:root:log_combined\n",
      "INFO:root:Running callback Val:OutcomePerformanceMetrics\n",
      "INFO:root:log_combined\n",
      "INFO:root:Running callback Val:OutcomePerformanceMetrics\n",
      "INFO:root:log_combined\n",
      "INFO:root:Running callback Val:OutcomePerformanceMetrics\n",
      "INFO:root:log_combined\n",
      "INFO:root:Running callback Val:OutcomePerformanceMetrics\n",
      "INFO:root:log_combined\n",
      "INFO:root:Running callback Val:OutcomePerformanceMetrics\n",
      "INFO:root:log_combined\n",
      "INFO:root:Running callback Val:OutcomePerformanceMetrics\n",
      "INFO:root:log_combined\n",
      "INFO:root:Running callback Val:OutcomePerformanceMetrics\n",
      "INFO:root:log_combined\n",
      "INFO:root:Running callback Val:OutcomePerformanceMetrics\n",
      "INFO:root:log_combined\n",
      "INFO:root:Running callback Val:OutcomePerformanceMetrics\n",
      "INFO:root:log_combined\n",
      "Metric val_loss improved by 0.095 >= min_delta = 0. New best score: 3.607\n",
      "Epoch 0, global step 85: 'val_loss' reached 3.60716 (best 3.60716), saving model to '/rds/projects/s/subramaa-mum-predict/CharlesGadd_Oxford/FoundationModelOutput/checkpoints/CR_11M_24_11_01_big_posencscale__hypertension-few-shot-cr4.ckpt' as top 1\n"
     ]
    },
    {
     "data": {
      "application/vnd.jupyter.widget-view+json": {
       "model_id": "",
       "version_major": 2,
       "version_minor": 0
      },
      "text/plain": [
       "Validation: |          | 0/? [00:00<?, ?it/s]"
      ]
     },
     "metadata": {},
     "output_type": "display_data"
    },
    {
     "name": "stderr",
     "output_type": "stream",
     "text": [
      "INFO:root:Running callback Val:OutcomePerformanceMetrics\n",
      "INFO:root:log_combined\n",
      "INFO:root:Running callback Val:OutcomePerformanceMetrics\n",
      "INFO:root:log_combined\n",
      "INFO:root:Running callback Val:OutcomePerformanceMetrics\n",
      "INFO:root:log_combined\n",
      "INFO:root:Running callback Val:OutcomePerformanceMetrics\n",
      "INFO:root:log_combined\n",
      "INFO:root:Running callback Val:OutcomePerformanceMetrics\n",
      "INFO:root:log_combined\n",
      "INFO:root:Running callback Val:OutcomePerformanceMetrics\n",
      "INFO:root:log_combined\n",
      "INFO:root:Running callback Val:OutcomePerformanceMetrics\n",
      "INFO:root:log_combined\n",
      "INFO:root:Running callback Val:OutcomePerformanceMetrics\n",
      "INFO:root:log_combined\n",
      "INFO:root:Running callback Val:OutcomePerformanceMetrics\n",
      "INFO:root:log_combined\n",
      "INFO:root:Running callback Val:OutcomePerformanceMetrics\n",
      "INFO:root:log_combined\n",
      "INFO:root:Running callback Val:OutcomePerformanceMetrics\n",
      "INFO:root:log_combined\n",
      "INFO:root:Running callback Val:OutcomePerformanceMetrics\n",
      "INFO:root:log_combined\n",
      "INFO:root:Running callback Val:OutcomePerformanceMetrics\n",
      "INFO:root:log_combined\n",
      "Metric val_loss improved by 0.087 >= min_delta = 0. New best score: 3.520\n",
      "Epoch 0, global step 90: 'val_loss' reached 3.52019 (best 3.52019), saving model to '/rds/projects/s/subramaa-mum-predict/CharlesGadd_Oxford/FoundationModelOutput/checkpoints/CR_11M_24_11_01_big_posencscale__hypertension-few-shot-cr4.ckpt' as top 1\n"
     ]
    },
    {
     "data": {
      "application/vnd.jupyter.widget-view+json": {
       "model_id": "",
       "version_major": 2,
       "version_minor": 0
      },
      "text/plain": [
       "Validation: |          | 0/? [00:00<?, ?it/s]"
      ]
     },
     "metadata": {},
     "output_type": "display_data"
    },
    {
     "name": "stderr",
     "output_type": "stream",
     "text": [
      "INFO:root:Running callback Val:OutcomePerformanceMetrics\n",
      "INFO:root:log_combined\n",
      "INFO:root:Running callback Val:OutcomePerformanceMetrics\n",
      "INFO:root:log_combined\n",
      "INFO:root:Running callback Val:OutcomePerformanceMetrics\n",
      "INFO:root:log_combined\n",
      "INFO:root:Running callback Val:OutcomePerformanceMetrics\n",
      "INFO:root:log_combined\n",
      "INFO:root:Running callback Val:OutcomePerformanceMetrics\n",
      "INFO:root:log_combined\n",
      "INFO:root:Running callback Val:OutcomePerformanceMetrics\n",
      "INFO:root:log_combined\n",
      "INFO:root:Running callback Val:OutcomePerformanceMetrics\n",
      "INFO:root:log_combined\n",
      "INFO:root:Running callback Val:OutcomePerformanceMetrics\n",
      "INFO:root:log_combined\n",
      "INFO:root:Running callback Val:OutcomePerformanceMetrics\n",
      "INFO:root:log_combined\n",
      "INFO:root:Running callback Val:OutcomePerformanceMetrics\n",
      "INFO:root:log_combined\n",
      "INFO:root:Running callback Val:OutcomePerformanceMetrics\n",
      "INFO:root:log_combined\n",
      "INFO:root:Running callback Val:OutcomePerformanceMetrics\n",
      "INFO:root:log_combined\n",
      "INFO:root:Running callback Val:OutcomePerformanceMetrics\n",
      "INFO:root:log_combined\n",
      "Metric val_loss improved by 0.078 >= min_delta = 0. New best score: 3.442\n",
      "Epoch 0, global step 95: 'val_loss' reached 3.44181 (best 3.44181), saving model to '/rds/projects/s/subramaa-mum-predict/CharlesGadd_Oxford/FoundationModelOutput/checkpoints/CR_11M_24_11_01_big_posencscale__hypertension-few-shot-cr4.ckpt' as top 1\n"
     ]
    },
    {
     "data": {
      "application/vnd.jupyter.widget-view+json": {
       "model_id": "",
       "version_major": 2,
       "version_minor": 0
      },
      "text/plain": [
       "Validation: |          | 0/? [00:00<?, ?it/s]"
      ]
     },
     "metadata": {},
     "output_type": "display_data"
    },
    {
     "name": "stderr",
     "output_type": "stream",
     "text": [
      "INFO:root:Running callback Val:OutcomePerformanceMetrics\n",
      "INFO:root:log_combined\n",
      "INFO:root:Running callback Val:OutcomePerformanceMetrics\n",
      "INFO:root:log_combined\n",
      "INFO:root:Running callback Val:OutcomePerformanceMetrics\n",
      "INFO:root:log_combined\n",
      "INFO:root:Running callback Val:OutcomePerformanceMetrics\n",
      "INFO:root:log_combined\n",
      "INFO:root:Running callback Val:OutcomePerformanceMetrics\n",
      "INFO:root:log_combined\n",
      "INFO:root:Running callback Val:OutcomePerformanceMetrics\n",
      "INFO:root:log_combined\n",
      "INFO:root:Running callback Val:OutcomePerformanceMetrics\n",
      "INFO:root:log_combined\n",
      "INFO:root:Running callback Val:OutcomePerformanceMetrics\n",
      "INFO:root:log_combined\n",
      "INFO:root:Running callback Val:OutcomePerformanceMetrics\n",
      "INFO:root:log_combined\n",
      "INFO:root:Running callback Val:OutcomePerformanceMetrics\n",
      "INFO:root:log_combined\n",
      "INFO:root:Running callback Val:OutcomePerformanceMetrics\n",
      "INFO:root:log_combined\n",
      "INFO:root:Running callback Val:OutcomePerformanceMetrics\n",
      "INFO:root:log_combined\n",
      "INFO:root:Running callback Val:OutcomePerformanceMetrics\n",
      "INFO:root:log_combined\n",
      "Metric val_loss improved by 0.072 >= min_delta = 0. New best score: 3.370\n",
      "Epoch 0, global step 100: 'val_loss' reached 3.36966 (best 3.36966), saving model to '/rds/projects/s/subramaa-mum-predict/CharlesGadd_Oxford/FoundationModelOutput/checkpoints/CR_11M_24_11_01_big_posencscale__hypertension-few-shot-cr4.ckpt' as top 1\n"
     ]
    },
    {
     "data": {
      "application/vnd.jupyter.widget-view+json": {
       "model_id": "",
       "version_major": 2,
       "version_minor": 0
      },
      "text/plain": [
       "Validation: |          | 0/? [00:00<?, ?it/s]"
      ]
     },
     "metadata": {},
     "output_type": "display_data"
    },
    {
     "name": "stderr",
     "output_type": "stream",
     "text": [
      "INFO:root:Running callback Val:OutcomePerformanceMetrics\n",
      "INFO:root:log_combined\n",
      "INFO:root:Running callback Val:OutcomePerformanceMetrics\n",
      "INFO:root:log_combined\n",
      "INFO:root:Running callback Val:OutcomePerformanceMetrics\n",
      "INFO:root:log_combined\n",
      "INFO:root:Running callback Val:OutcomePerformanceMetrics\n",
      "INFO:root:log_combined\n",
      "INFO:root:Running callback Val:OutcomePerformanceMetrics\n",
      "INFO:root:log_combined\n",
      "INFO:root:Running callback Val:OutcomePerformanceMetrics\n",
      "INFO:root:log_combined\n",
      "INFO:root:Running callback Val:OutcomePerformanceMetrics\n",
      "INFO:root:log_combined\n",
      "INFO:root:Running callback Val:OutcomePerformanceMetrics\n",
      "INFO:root:log_combined\n",
      "INFO:root:Running callback Val:OutcomePerformanceMetrics\n",
      "INFO:root:log_combined\n",
      "INFO:root:Running callback Val:OutcomePerformanceMetrics\n",
      "INFO:root:log_combined\n",
      "INFO:root:Running callback Val:OutcomePerformanceMetrics\n",
      "INFO:root:log_combined\n",
      "INFO:root:Running callback Val:OutcomePerformanceMetrics\n",
      "INFO:root:log_combined\n",
      "INFO:root:Running callback Val:OutcomePerformanceMetrics\n",
      "INFO:root:log_combined\n",
      "Metric val_loss improved by 0.065 >= min_delta = 0. New best score: 3.304\n",
      "Epoch 0, global step 105: 'val_loss' reached 3.30428 (best 3.30428), saving model to '/rds/projects/s/subramaa-mum-predict/CharlesGadd_Oxford/FoundationModelOutput/checkpoints/CR_11M_24_11_01_big_posencscale__hypertension-few-shot-cr4.ckpt' as top 1\n"
     ]
    },
    {
     "data": {
      "application/vnd.jupyter.widget-view+json": {
       "model_id": "1398d013aa344cf69f7517082266668e",
       "version_major": 2,
       "version_minor": 0
      },
      "text/plain": [
       "Validation: |          | 0/? [00:00<?, ?it/s]"
      ]
     },
     "metadata": {},
     "output_type": "display_data"
    },
    {
     "name": "stderr",
     "output_type": "stream",
     "text": [
      "INFO:root:Running callback Val:OutcomePerformanceMetrics\n",
      "INFO:root:log_combined\n",
      "INFO:root:Running callback Val:OutcomePerformanceMetrics\n",
      "INFO:root:log_combined\n",
      "INFO:root:Running callback Val:OutcomePerformanceMetrics\n",
      "INFO:root:log_combined\n",
      "INFO:root:Running callback Val:OutcomePerformanceMetrics\n",
      "INFO:root:log_combined\n",
      "INFO:root:Running callback Val:OutcomePerformanceMetrics\n",
      "INFO:root:log_combined\n",
      "INFO:root:Running callback Val:OutcomePerformanceMetrics\n",
      "INFO:root:log_combined\n",
      "INFO:root:Running callback Val:OutcomePerformanceMetrics\n",
      "INFO:root:log_combined\n",
      "INFO:root:Running callback Val:OutcomePerformanceMetrics\n",
      "INFO:root:log_combined\n",
      "INFO:root:Running callback Val:OutcomePerformanceMetrics\n",
      "INFO:root:log_combined\n",
      "INFO:root:Running callback Val:OutcomePerformanceMetrics\n",
      "INFO:root:log_combined\n",
      "INFO:root:Running callback Val:OutcomePerformanceMetrics\n",
      "INFO:root:log_combined\n",
      "INFO:root:Running callback Val:OutcomePerformanceMetrics\n",
      "INFO:root:log_combined\n",
      "INFO:root:Running callback Val:OutcomePerformanceMetrics\n",
      "INFO:root:log_combined\n",
      "Metric val_loss improved by 0.058 >= min_delta = 0. New best score: 3.246\n",
      "Epoch 0, global step 110: 'val_loss' reached 3.24591 (best 3.24591), saving model to '/rds/projects/s/subramaa-mum-predict/CharlesGadd_Oxford/FoundationModelOutput/checkpoints/CR_11M_24_11_01_big_posencscale__hypertension-few-shot-cr4.ckpt' as top 1\n"
     ]
    },
    {
     "data": {
      "application/vnd.jupyter.widget-view+json": {
       "model_id": "de7f3752800b479393be5de425915e5f",
       "version_major": 2,
       "version_minor": 0
      },
      "text/plain": [
       "Validation: |          | 0/? [00:00<?, ?it/s]"
      ]
     },
     "metadata": {},
     "output_type": "display_data"
    },
    {
     "name": "stderr",
     "output_type": "stream",
     "text": [
      "INFO:root:Running callback Val:OutcomePerformanceMetrics\n",
      "INFO:root:log_combined\n",
      "INFO:root:Running callback Val:OutcomePerformanceMetrics\n",
      "INFO:root:log_combined\n",
      "INFO:root:Running callback Val:OutcomePerformanceMetrics\n",
      "INFO:root:log_combined\n",
      "INFO:root:Running callback Val:OutcomePerformanceMetrics\n",
      "INFO:root:log_combined\n",
      "INFO:root:Running callback Val:OutcomePerformanceMetrics\n",
      "INFO:root:log_combined\n",
      "INFO:root:Running callback Val:OutcomePerformanceMetrics\n",
      "INFO:root:log_combined\n",
      "INFO:root:Running callback Val:OutcomePerformanceMetrics\n",
      "INFO:root:log_combined\n",
      "INFO:root:Running callback Val:OutcomePerformanceMetrics\n",
      "INFO:root:log_combined\n",
      "INFO:root:Running callback Val:OutcomePerformanceMetrics\n",
      "INFO:root:log_combined\n",
      "INFO:root:Running callback Val:OutcomePerformanceMetrics\n",
      "INFO:root:log_combined\n",
      "INFO:root:Running callback Val:OutcomePerformanceMetrics\n",
      "INFO:root:log_combined\n",
      "INFO:root:Running callback Val:OutcomePerformanceMetrics\n",
      "INFO:root:log_combined\n",
      "INFO:root:Running callback Val:OutcomePerformanceMetrics\n",
      "INFO:root:log_combined\n",
      "Metric val_loss improved by 0.053 >= min_delta = 0. New best score: 3.192\n",
      "Epoch 0, global step 115: 'val_loss' reached 3.19241 (best 3.19241), saving model to '/rds/projects/s/subramaa-mum-predict/CharlesGadd_Oxford/FoundationModelOutput/checkpoints/CR_11M_24_11_01_big_posencscale__hypertension-few-shot-cr4.ckpt' as top 1\n"
     ]
    },
    {
     "data": {
      "application/vnd.jupyter.widget-view+json": {
       "model_id": "dc4e12bbfa334b9180ec3b32eb7b7ecf",
       "version_major": 2,
       "version_minor": 0
      },
      "text/plain": [
       "Validation: |          | 0/? [00:00<?, ?it/s]"
      ]
     },
     "metadata": {},
     "output_type": "display_data"
    },
    {
     "name": "stderr",
     "output_type": "stream",
     "text": [
      "INFO:root:Running callback Val:OutcomePerformanceMetrics\n",
      "INFO:root:log_combined\n",
      "INFO:root:Running callback Val:OutcomePerformanceMetrics\n",
      "INFO:root:log_combined\n",
      "INFO:root:Running callback Val:OutcomePerformanceMetrics\n",
      "INFO:root:log_combined\n",
      "INFO:root:Running callback Val:OutcomePerformanceMetrics\n",
      "INFO:root:log_combined\n",
      "INFO:root:Running callback Val:OutcomePerformanceMetrics\n",
      "INFO:root:log_combined\n",
      "INFO:root:Running callback Val:OutcomePerformanceMetrics\n",
      "INFO:root:log_combined\n",
      "INFO:root:Running callback Val:OutcomePerformanceMetrics\n",
      "INFO:root:log_combined\n",
      "INFO:root:Running callback Val:OutcomePerformanceMetrics\n",
      "INFO:root:log_combined\n",
      "INFO:root:Running callback Val:OutcomePerformanceMetrics\n",
      "INFO:root:log_combined\n",
      "INFO:root:Running callback Val:OutcomePerformanceMetrics\n",
      "INFO:root:log_combined\n",
      "INFO:root:Running callback Val:OutcomePerformanceMetrics\n",
      "INFO:root:log_combined\n",
      "INFO:root:Running callback Val:OutcomePerformanceMetrics\n",
      "INFO:root:log_combined\n",
      "INFO:root:Running callback Val:OutcomePerformanceMetrics\n",
      "INFO:root:log_combined\n",
      "Metric val_loss improved by 0.051 >= min_delta = 0. New best score: 3.141\n",
      "Epoch 0, global step 120: 'val_loss' reached 3.14147 (best 3.14147), saving model to '/rds/projects/s/subramaa-mum-predict/CharlesGadd_Oxford/FoundationModelOutput/checkpoints/CR_11M_24_11_01_big_posencscale__hypertension-few-shot-cr4.ckpt' as top 1\n"
     ]
    },
    {
     "data": {
      "application/vnd.jupyter.widget-view+json": {
       "model_id": "1ba0bbfa49bd4bceb333c9167c0b9698",
       "version_major": 2,
       "version_minor": 0
      },
      "text/plain": [
       "Validation: |          | 0/? [00:00<?, ?it/s]"
      ]
     },
     "metadata": {},
     "output_type": "display_data"
    },
    {
     "name": "stderr",
     "output_type": "stream",
     "text": [
      "INFO:root:Running callback Val:OutcomePerformanceMetrics\n",
      "INFO:root:log_combined\n",
      "INFO:root:Running callback Val:OutcomePerformanceMetrics\n",
      "INFO:root:log_combined\n",
      "INFO:root:Running callback Val:OutcomePerformanceMetrics\n",
      "INFO:root:log_combined\n",
      "INFO:root:Running callback Val:OutcomePerformanceMetrics\n",
      "INFO:root:log_combined\n",
      "INFO:root:Running callback Val:OutcomePerformanceMetrics\n",
      "INFO:root:log_combined\n",
      "INFO:root:Running callback Val:OutcomePerformanceMetrics\n",
      "INFO:root:log_combined\n",
      "INFO:root:Running callback Val:OutcomePerformanceMetrics\n",
      "INFO:root:log_combined\n",
      "INFO:root:Running callback Val:OutcomePerformanceMetrics\n",
      "INFO:root:log_combined\n",
      "INFO:root:Running callback Val:OutcomePerformanceMetrics\n",
      "INFO:root:log_combined\n",
      "INFO:root:Running callback Val:OutcomePerformanceMetrics\n",
      "INFO:root:log_combined\n",
      "INFO:root:Running callback Val:OutcomePerformanceMetrics\n",
      "INFO:root:log_combined\n",
      "INFO:root:Running callback Val:OutcomePerformanceMetrics\n",
      "INFO:root:log_combined\n",
      "INFO:root:Running callback Val:OutcomePerformanceMetrics\n",
      "INFO:root:log_combined\n",
      "Metric val_loss improved by 0.048 >= min_delta = 0. New best score: 3.093\n",
      "Epoch 0, global step 125: 'val_loss' reached 3.09304 (best 3.09304), saving model to '/rds/projects/s/subramaa-mum-predict/CharlesGadd_Oxford/FoundationModelOutput/checkpoints/CR_11M_24_11_01_big_posencscale__hypertension-few-shot-cr4.ckpt' as top 1\n"
     ]
    },
    {
     "data": {
      "application/vnd.jupyter.widget-view+json": {
       "model_id": "94337dfcffea4d67ab1fe376db5141f7",
       "version_major": 2,
       "version_minor": 0
      },
      "text/plain": [
       "Validation: |          | 0/? [00:00<?, ?it/s]"
      ]
     },
     "metadata": {},
     "output_type": "display_data"
    },
    {
     "name": "stderr",
     "output_type": "stream",
     "text": [
      "INFO:root:Running callback Val:OutcomePerformanceMetrics\n",
      "INFO:root:log_combined\n",
      "INFO:root:Running callback Val:OutcomePerformanceMetrics\n",
      "INFO:root:log_combined\n",
      "INFO:root:Running callback Val:OutcomePerformanceMetrics\n",
      "INFO:root:log_combined\n",
      "INFO:root:Running callback Val:OutcomePerformanceMetrics\n",
      "INFO:root:log_combined\n",
      "INFO:root:Running callback Val:OutcomePerformanceMetrics\n",
      "INFO:root:log_combined\n",
      "INFO:root:Running callback Val:OutcomePerformanceMetrics\n",
      "INFO:root:log_combined\n",
      "INFO:root:Running callback Val:OutcomePerformanceMetrics\n",
      "INFO:root:log_combined\n",
      "INFO:root:Running callback Val:OutcomePerformanceMetrics\n",
      "INFO:root:log_combined\n",
      "INFO:root:Running callback Val:OutcomePerformanceMetrics\n",
      "INFO:root:log_combined\n",
      "INFO:root:Running callback Val:OutcomePerformanceMetrics\n",
      "INFO:root:log_combined\n",
      "INFO:root:Running callback Val:OutcomePerformanceMetrics\n",
      "INFO:root:log_combined\n",
      "INFO:root:Running callback Val:OutcomePerformanceMetrics\n",
      "INFO:root:log_combined\n",
      "INFO:root:Running callback Val:OutcomePerformanceMetrics\n",
      "INFO:root:log_combined\n",
      "Metric val_loss improved by 0.044 >= min_delta = 0. New best score: 3.049\n",
      "Epoch 0, global step 130: 'val_loss' reached 3.04880 (best 3.04880), saving model to '/rds/projects/s/subramaa-mum-predict/CharlesGadd_Oxford/FoundationModelOutput/checkpoints/CR_11M_24_11_01_big_posencscale__hypertension-few-shot-cr4.ckpt' as top 1\n"
     ]
    },
    {
     "data": {
      "application/vnd.jupyter.widget-view+json": {
       "model_id": "8ce9cf7c21dc44e8b59f1a213b9956d1",
       "version_major": 2,
       "version_minor": 0
      },
      "text/plain": [
       "Validation: |          | 0/? [00:00<?, ?it/s]"
      ]
     },
     "metadata": {},
     "output_type": "display_data"
    },
    {
     "name": "stderr",
     "output_type": "stream",
     "text": [
      "INFO:root:Running callback Val:OutcomePerformanceMetrics\n",
      "INFO:root:log_combined\n",
      "INFO:root:Running callback Val:OutcomePerformanceMetrics\n",
      "INFO:root:log_combined\n",
      "INFO:root:Running callback Val:OutcomePerformanceMetrics\n",
      "INFO:root:log_combined\n",
      "INFO:root:Running callback Val:OutcomePerformanceMetrics\n",
      "INFO:root:log_combined\n",
      "INFO:root:Running callback Val:OutcomePerformanceMetrics\n",
      "INFO:root:log_combined\n",
      "INFO:root:Running callback Val:OutcomePerformanceMetrics\n",
      "INFO:root:log_combined\n",
      "INFO:root:Running callback Val:OutcomePerformanceMetrics\n",
      "INFO:root:log_combined\n",
      "INFO:root:Running callback Val:OutcomePerformanceMetrics\n",
      "INFO:root:log_combined\n",
      "INFO:root:Running callback Val:OutcomePerformanceMetrics\n",
      "INFO:root:log_combined\n",
      "INFO:root:Running callback Val:OutcomePerformanceMetrics\n",
      "INFO:root:log_combined\n",
      "INFO:root:Running callback Val:OutcomePerformanceMetrics\n",
      "INFO:root:log_combined\n",
      "INFO:root:Running callback Val:OutcomePerformanceMetrics\n",
      "INFO:root:log_combined\n",
      "INFO:root:Running callback Val:OutcomePerformanceMetrics\n",
      "INFO:root:log_combined\n",
      "Metric val_loss improved by 0.041 >= min_delta = 0. New best score: 3.008\n",
      "Epoch 0, global step 135: 'val_loss' reached 3.00768 (best 3.00768), saving model to '/rds/projects/s/subramaa-mum-predict/CharlesGadd_Oxford/FoundationModelOutput/checkpoints/CR_11M_24_11_01_big_posencscale__hypertension-few-shot-cr4.ckpt' as top 1\n"
     ]
    },
    {
     "data": {
      "application/vnd.jupyter.widget-view+json": {
       "model_id": "1aecd69b0f504ba39c42d50ebe0f61b6",
       "version_major": 2,
       "version_minor": 0
      },
      "text/plain": [
       "Validation: |          | 0/? [00:00<?, ?it/s]"
      ]
     },
     "metadata": {},
     "output_type": "display_data"
    },
    {
     "name": "stderr",
     "output_type": "stream",
     "text": [
      "INFO:root:Running callback Val:OutcomePerformanceMetrics\n",
      "INFO:root:log_combined\n",
      "INFO:root:Running callback Val:OutcomePerformanceMetrics\n",
      "INFO:root:log_combined\n",
      "INFO:root:Running callback Val:OutcomePerformanceMetrics\n",
      "INFO:root:log_combined\n",
      "INFO:root:Running callback Val:OutcomePerformanceMetrics\n",
      "INFO:root:log_combined\n",
      "INFO:root:Running callback Val:OutcomePerformanceMetrics\n",
      "INFO:root:log_combined\n",
      "INFO:root:Running callback Val:OutcomePerformanceMetrics\n",
      "INFO:root:log_combined\n",
      "INFO:root:Running callback Val:OutcomePerformanceMetrics\n",
      "INFO:root:log_combined\n",
      "INFO:root:Running callback Val:OutcomePerformanceMetrics\n",
      "INFO:root:log_combined\n",
      "INFO:root:Running callback Val:OutcomePerformanceMetrics\n",
      "INFO:root:log_combined\n",
      "INFO:root:Running callback Val:OutcomePerformanceMetrics\n",
      "INFO:root:log_combined\n",
      "INFO:root:Running callback Val:OutcomePerformanceMetrics\n",
      "INFO:root:log_combined\n",
      "INFO:root:Running callback Val:OutcomePerformanceMetrics\n",
      "INFO:root:log_combined\n",
      "INFO:root:Running callback Val:OutcomePerformanceMetrics\n",
      "INFO:root:log_combined\n",
      "Metric val_loss improved by 0.038 >= min_delta = 0. New best score: 2.970\n",
      "Epoch 0, global step 140: 'val_loss' reached 2.96972 (best 2.96972), saving model to '/rds/projects/s/subramaa-mum-predict/CharlesGadd_Oxford/FoundationModelOutput/checkpoints/CR_11M_24_11_01_big_posencscale__hypertension-few-shot-cr4.ckpt' as top 1\n"
     ]
    },
    {
     "data": {
      "application/vnd.jupyter.widget-view+json": {
       "model_id": "2d08974c7a39479c9b397703ded17a2a",
       "version_major": 2,
       "version_minor": 0
      },
      "text/plain": [
       "Validation: |          | 0/? [00:00<?, ?it/s]"
      ]
     },
     "metadata": {},
     "output_type": "display_data"
    },
    {
     "name": "stderr",
     "output_type": "stream",
     "text": [
      "INFO:root:Running callback Val:OutcomePerformanceMetrics\n",
      "INFO:root:log_combined\n",
      "INFO:root:Running callback Val:OutcomePerformanceMetrics\n",
      "INFO:root:log_combined\n",
      "INFO:root:Running callback Val:OutcomePerformanceMetrics\n",
      "INFO:root:log_combined\n",
      "INFO:root:Running callback Val:OutcomePerformanceMetrics\n",
      "INFO:root:log_combined\n",
      "INFO:root:Running callback Val:OutcomePerformanceMetrics\n",
      "INFO:root:log_combined\n",
      "INFO:root:Running callback Val:OutcomePerformanceMetrics\n",
      "INFO:root:log_combined\n",
      "INFO:root:Running callback Val:OutcomePerformanceMetrics\n",
      "INFO:root:log_combined\n",
      "INFO:root:Running callback Val:OutcomePerformanceMetrics\n",
      "INFO:root:log_combined\n",
      "INFO:root:Running callback Val:OutcomePerformanceMetrics\n",
      "INFO:root:log_combined\n",
      "INFO:root:Running callback Val:OutcomePerformanceMetrics\n",
      "INFO:root:log_combined\n",
      "INFO:root:Running callback Val:OutcomePerformanceMetrics\n",
      "INFO:root:log_combined\n",
      "INFO:root:Running callback Val:OutcomePerformanceMetrics\n",
      "INFO:root:log_combined\n",
      "INFO:root:Running callback Val:OutcomePerformanceMetrics\n",
      "INFO:root:log_combined\n",
      "Metric val_loss improved by 0.034 >= min_delta = 0. New best score: 2.936\n",
      "Epoch 0, global step 145: 'val_loss' reached 2.93557 (best 2.93557), saving model to '/rds/projects/s/subramaa-mum-predict/CharlesGadd_Oxford/FoundationModelOutput/checkpoints/CR_11M_24_11_01_big_posencscale__hypertension-few-shot-cr4.ckpt' as top 1\n"
     ]
    },
    {
     "data": {
      "application/vnd.jupyter.widget-view+json": {
       "model_id": "ff90ea49c8b6422abdcd4aae2865e8ff",
       "version_major": 2,
       "version_minor": 0
      },
      "text/plain": [
       "Validation: |          | 0/? [00:00<?, ?it/s]"
      ]
     },
     "metadata": {},
     "output_type": "display_data"
    },
    {
     "name": "stderr",
     "output_type": "stream",
     "text": [
      "INFO:root:Running callback Val:OutcomePerformanceMetrics\n",
      "INFO:root:log_combined\n",
      "INFO:root:Running callback Val:OutcomePerformanceMetrics\n",
      "INFO:root:log_combined\n",
      "INFO:root:Running callback Val:OutcomePerformanceMetrics\n",
      "INFO:root:log_combined\n",
      "INFO:root:Running callback Val:OutcomePerformanceMetrics\n",
      "INFO:root:log_combined\n",
      "INFO:root:Running callback Val:OutcomePerformanceMetrics\n",
      "INFO:root:log_combined\n",
      "INFO:root:Running callback Val:OutcomePerformanceMetrics\n",
      "INFO:root:log_combined\n",
      "INFO:root:Running callback Val:OutcomePerformanceMetrics\n",
      "INFO:root:log_combined\n",
      "INFO:root:Running callback Val:OutcomePerformanceMetrics\n",
      "INFO:root:log_combined\n",
      "INFO:root:Running callback Val:OutcomePerformanceMetrics\n",
      "INFO:root:log_combined\n",
      "INFO:root:Running callback Val:OutcomePerformanceMetrics\n",
      "INFO:root:log_combined\n",
      "INFO:root:Running callback Val:OutcomePerformanceMetrics\n",
      "INFO:root:log_combined\n",
      "INFO:root:Running callback Val:OutcomePerformanceMetrics\n",
      "INFO:root:log_combined\n",
      "INFO:root:Running callback Val:OutcomePerformanceMetrics\n",
      "INFO:root:log_combined\n",
      "Metric val_loss improved by 0.031 >= min_delta = 0. New best score: 2.904\n",
      "Epoch 0, global step 150: 'val_loss' reached 2.90424 (best 2.90424), saving model to '/rds/projects/s/subramaa-mum-predict/CharlesGadd_Oxford/FoundationModelOutput/checkpoints/CR_11M_24_11_01_big_posencscale__hypertension-few-shot-cr4.ckpt' as top 1\n"
     ]
    },
    {
     "data": {
      "application/vnd.jupyter.widget-view+json": {
       "model_id": "b7318d50fdca45088d388edcca5f08e8",
       "version_major": 2,
       "version_minor": 0
      },
      "text/plain": [
       "Validation: |          | 0/? [00:00<?, ?it/s]"
      ]
     },
     "metadata": {},
     "output_type": "display_data"
    },
    {
     "name": "stderr",
     "output_type": "stream",
     "text": [
      "INFO:root:Running callback Val:OutcomePerformanceMetrics\n",
      "INFO:root:log_combined\n",
      "INFO:root:Running callback Val:OutcomePerformanceMetrics\n",
      "INFO:root:log_combined\n",
      "INFO:root:Running callback Val:OutcomePerformanceMetrics\n",
      "INFO:root:log_combined\n",
      "INFO:root:Running callback Val:OutcomePerformanceMetrics\n",
      "INFO:root:log_combined\n",
      "INFO:root:Running callback Val:OutcomePerformanceMetrics\n",
      "INFO:root:log_combined\n",
      "INFO:root:Running callback Val:OutcomePerformanceMetrics\n",
      "INFO:root:log_combined\n",
      "INFO:root:Running callback Val:OutcomePerformanceMetrics\n",
      "INFO:root:log_combined\n",
      "INFO:root:Running callback Val:OutcomePerformanceMetrics\n",
      "INFO:root:log_combined\n",
      "INFO:root:Running callback Val:OutcomePerformanceMetrics\n",
      "INFO:root:log_combined\n",
      "INFO:root:Running callback Val:OutcomePerformanceMetrics\n",
      "INFO:root:log_combined\n",
      "INFO:root:Running callback Val:OutcomePerformanceMetrics\n",
      "INFO:root:log_combined\n",
      "INFO:root:Running callback Val:OutcomePerformanceMetrics\n",
      "INFO:root:log_combined\n",
      "INFO:root:Running callback Val:OutcomePerformanceMetrics\n",
      "INFO:root:log_combined\n",
      "Metric val_loss improved by 0.029 >= min_delta = 0. New best score: 2.875\n",
      "Epoch 0, global step 155: 'val_loss' reached 2.87534 (best 2.87534), saving model to '/rds/projects/s/subramaa-mum-predict/CharlesGadd_Oxford/FoundationModelOutput/checkpoints/CR_11M_24_11_01_big_posencscale__hypertension-few-shot-cr4.ckpt' as top 1\n"
     ]
    },
    {
     "data": {
      "application/vnd.jupyter.widget-view+json": {
       "model_id": "979a959038a14b93b25235be764b3f37",
       "version_major": 2,
       "version_minor": 0
      },
      "text/plain": [
       "Validation: |          | 0/? [00:00<?, ?it/s]"
      ]
     },
     "metadata": {},
     "output_type": "display_data"
    },
    {
     "name": "stderr",
     "output_type": "stream",
     "text": [
      "INFO:root:Running callback Val:OutcomePerformanceMetrics\n",
      "INFO:root:log_combined\n",
      "INFO:root:Running callback Val:OutcomePerformanceMetrics\n",
      "INFO:root:log_combined\n",
      "INFO:root:Running callback Val:OutcomePerformanceMetrics\n",
      "INFO:root:log_combined\n",
      "INFO:root:Running callback Val:OutcomePerformanceMetrics\n",
      "INFO:root:log_combined\n",
      "INFO:root:Running callback Val:OutcomePerformanceMetrics\n",
      "INFO:root:log_combined\n",
      "INFO:root:Running callback Val:OutcomePerformanceMetrics\n",
      "INFO:root:log_combined\n",
      "INFO:root:Running callback Val:OutcomePerformanceMetrics\n",
      "INFO:root:log_combined\n",
      "INFO:root:Running callback Val:OutcomePerformanceMetrics\n",
      "INFO:root:log_combined\n",
      "INFO:root:Running callback Val:OutcomePerformanceMetrics\n",
      "INFO:root:log_combined\n",
      "INFO:root:Running callback Val:OutcomePerformanceMetrics\n",
      "INFO:root:log_combined\n",
      "INFO:root:Running callback Val:OutcomePerformanceMetrics\n",
      "INFO:root:log_combined\n",
      "INFO:root:Running callback Val:OutcomePerformanceMetrics\n",
      "INFO:root:log_combined\n",
      "INFO:root:Running callback Val:OutcomePerformanceMetrics\n",
      "INFO:root:log_combined\n",
      "Metric val_loss improved by 0.029 >= min_delta = 0. New best score: 2.847\n",
      "Epoch 0, global step 160: 'val_loss' reached 2.84671 (best 2.84671), saving model to '/rds/projects/s/subramaa-mum-predict/CharlesGadd_Oxford/FoundationModelOutput/checkpoints/CR_11M_24_11_01_big_posencscale__hypertension-few-shot-cr4.ckpt' as top 1\n"
     ]
    },
    {
     "data": {
      "application/vnd.jupyter.widget-view+json": {
       "model_id": "1218e2ba9b1748d293397d733f1c8ac1",
       "version_major": 2,
       "version_minor": 0
      },
      "text/plain": [
       "Validation: |          | 0/? [00:00<?, ?it/s]"
      ]
     },
     "metadata": {},
     "output_type": "display_data"
    },
    {
     "name": "stderr",
     "output_type": "stream",
     "text": [
      "INFO:root:Running callback Val:OutcomePerformanceMetrics\n",
      "INFO:root:log_combined\n",
      "INFO:root:Running callback Val:OutcomePerformanceMetrics\n",
      "INFO:root:log_combined\n",
      "INFO:root:Running callback Val:OutcomePerformanceMetrics\n",
      "INFO:root:log_combined\n",
      "INFO:root:Running callback Val:OutcomePerformanceMetrics\n",
      "INFO:root:log_combined\n",
      "INFO:root:Running callback Val:OutcomePerformanceMetrics\n",
      "INFO:root:log_combined\n",
      "INFO:root:Running callback Val:OutcomePerformanceMetrics\n",
      "INFO:root:log_combined\n",
      "INFO:root:Running callback Val:OutcomePerformanceMetrics\n",
      "INFO:root:log_combined\n",
      "INFO:root:Running callback Val:OutcomePerformanceMetrics\n",
      "INFO:root:log_combined\n",
      "INFO:root:Running callback Val:OutcomePerformanceMetrics\n",
      "INFO:root:log_combined\n",
      "INFO:root:Running callback Val:OutcomePerformanceMetrics\n",
      "INFO:root:log_combined\n",
      "INFO:root:Running callback Val:OutcomePerformanceMetrics\n",
      "INFO:root:log_combined\n",
      "INFO:root:Running callback Val:OutcomePerformanceMetrics\n",
      "INFO:root:log_combined\n",
      "INFO:root:Running callback Val:OutcomePerformanceMetrics\n",
      "INFO:root:log_combined\n",
      "Metric val_loss improved by 0.027 >= min_delta = 0. New best score: 2.820\n",
      "Epoch 0, global step 165: 'val_loss' reached 2.81983 (best 2.81983), saving model to '/rds/projects/s/subramaa-mum-predict/CharlesGadd_Oxford/FoundationModelOutput/checkpoints/CR_11M_24_11_01_big_posencscale__hypertension-few-shot-cr4.ckpt' as top 1\n"
     ]
    },
    {
     "data": {
      "application/vnd.jupyter.widget-view+json": {
       "model_id": "1f97aa5c8c2548d0a5412c9bad24e6c3",
       "version_major": 2,
       "version_minor": 0
      },
      "text/plain": [
       "Validation: |          | 0/? [00:00<?, ?it/s]"
      ]
     },
     "metadata": {},
     "output_type": "display_data"
    },
    {
     "name": "stderr",
     "output_type": "stream",
     "text": [
      "INFO:root:Running callback Val:OutcomePerformanceMetrics\n",
      "INFO:root:log_combined\n",
      "INFO:root:Running callback Val:OutcomePerformanceMetrics\n",
      "INFO:root:log_combined\n",
      "INFO:root:Running callback Val:OutcomePerformanceMetrics\n",
      "INFO:root:log_combined\n",
      "INFO:root:Running callback Val:OutcomePerformanceMetrics\n",
      "INFO:root:log_combined\n",
      "INFO:root:Running callback Val:OutcomePerformanceMetrics\n",
      "INFO:root:log_combined\n",
      "INFO:root:Running callback Val:OutcomePerformanceMetrics\n",
      "INFO:root:log_combined\n",
      "INFO:root:Running callback Val:OutcomePerformanceMetrics\n",
      "INFO:root:log_combined\n",
      "INFO:root:Running callback Val:OutcomePerformanceMetrics\n",
      "INFO:root:log_combined\n",
      "INFO:root:Running callback Val:OutcomePerformanceMetrics\n",
      "INFO:root:log_combined\n",
      "INFO:root:Running callback Val:OutcomePerformanceMetrics\n",
      "INFO:root:log_combined\n",
      "INFO:root:Running callback Val:OutcomePerformanceMetrics\n",
      "INFO:root:log_combined\n",
      "INFO:root:Running callback Val:OutcomePerformanceMetrics\n",
      "INFO:root:log_combined\n",
      "INFO:root:Running callback Val:OutcomePerformanceMetrics\n",
      "INFO:root:log_combined\n",
      "Metric val_loss improved by 0.025 >= min_delta = 0. New best score: 2.795\n",
      "Epoch 0, global step 170: 'val_loss' reached 2.79474 (best 2.79474), saving model to '/rds/projects/s/subramaa-mum-predict/CharlesGadd_Oxford/FoundationModelOutput/checkpoints/CR_11M_24_11_01_big_posencscale__hypertension-few-shot-cr4.ckpt' as top 1\n"
     ]
    },
    {
     "data": {
      "application/vnd.jupyter.widget-view+json": {
       "model_id": "ba872a3225e541cd8063fd3448aee864",
       "version_major": 2,
       "version_minor": 0
      },
      "text/plain": [
       "Validation: |          | 0/? [00:00<?, ?it/s]"
      ]
     },
     "metadata": {},
     "output_type": "display_data"
    },
    {
     "name": "stderr",
     "output_type": "stream",
     "text": [
      "INFO:root:Running callback Val:OutcomePerformanceMetrics\n",
      "INFO:root:log_combined\n",
      "INFO:root:Running callback Val:OutcomePerformanceMetrics\n",
      "INFO:root:log_combined\n",
      "INFO:root:Running callback Val:OutcomePerformanceMetrics\n",
      "INFO:root:log_combined\n",
      "INFO:root:Running callback Val:OutcomePerformanceMetrics\n",
      "INFO:root:log_combined\n",
      "INFO:root:Running callback Val:OutcomePerformanceMetrics\n",
      "INFO:root:log_combined\n",
      "INFO:root:Running callback Val:OutcomePerformanceMetrics\n",
      "INFO:root:log_combined\n",
      "INFO:root:Running callback Val:OutcomePerformanceMetrics\n",
      "INFO:root:log_combined\n",
      "INFO:root:Running callback Val:OutcomePerformanceMetrics\n",
      "INFO:root:log_combined\n",
      "INFO:root:Running callback Val:OutcomePerformanceMetrics\n",
      "INFO:root:log_combined\n",
      "INFO:root:Running callback Val:OutcomePerformanceMetrics\n",
      "INFO:root:log_combined\n",
      "INFO:root:Running callback Val:OutcomePerformanceMetrics\n",
      "INFO:root:log_combined\n",
      "INFO:root:Running callback Val:OutcomePerformanceMetrics\n",
      "INFO:root:log_combined\n",
      "INFO:root:Running callback Val:OutcomePerformanceMetrics\n",
      "INFO:root:log_combined\n",
      "Metric val_loss improved by 0.023 >= min_delta = 0. New best score: 2.771\n",
      "Epoch 0, global step 175: 'val_loss' reached 2.77127 (best 2.77127), saving model to '/rds/projects/s/subramaa-mum-predict/CharlesGadd_Oxford/FoundationModelOutput/checkpoints/CR_11M_24_11_01_big_posencscale__hypertension-few-shot-cr4.ckpt' as top 1\n"
     ]
    },
    {
     "data": {
      "application/vnd.jupyter.widget-view+json": {
       "model_id": "948fd74e463c472683dee564e8364c37",
       "version_major": 2,
       "version_minor": 0
      },
      "text/plain": [
       "Validation: |          | 0/? [00:00<?, ?it/s]"
      ]
     },
     "metadata": {},
     "output_type": "display_data"
    },
    {
     "name": "stderr",
     "output_type": "stream",
     "text": [
      "INFO:root:Running callback Val:OutcomePerformanceMetrics\n",
      "INFO:root:log_combined\n",
      "INFO:root:Running callback Val:OutcomePerformanceMetrics\n",
      "INFO:root:log_combined\n",
      "INFO:root:Running callback Val:OutcomePerformanceMetrics\n",
      "INFO:root:log_combined\n",
      "INFO:root:Running callback Val:OutcomePerformanceMetrics\n",
      "INFO:root:log_combined\n",
      "INFO:root:Running callback Val:OutcomePerformanceMetrics\n",
      "INFO:root:log_combined\n",
      "INFO:root:Running callback Val:OutcomePerformanceMetrics\n",
      "INFO:root:log_combined\n",
      "INFO:root:Running callback Val:OutcomePerformanceMetrics\n",
      "INFO:root:log_combined\n",
      "INFO:root:Running callback Val:OutcomePerformanceMetrics\n",
      "INFO:root:log_combined\n",
      "INFO:root:Running callback Val:OutcomePerformanceMetrics\n",
      "INFO:root:log_combined\n",
      "INFO:root:Running callback Val:OutcomePerformanceMetrics\n",
      "INFO:root:log_combined\n",
      "INFO:root:Running callback Val:OutcomePerformanceMetrics\n",
      "INFO:root:log_combined\n",
      "INFO:root:Running callback Val:OutcomePerformanceMetrics\n",
      "INFO:root:log_combined\n",
      "INFO:root:Running callback Val:OutcomePerformanceMetrics\n",
      "INFO:root:log_combined\n",
      "Metric val_loss improved by 0.022 >= min_delta = 0. New best score: 2.750\n",
      "Epoch 0, global step 180: 'val_loss' reached 2.74953 (best 2.74953), saving model to '/rds/projects/s/subramaa-mum-predict/CharlesGadd_Oxford/FoundationModelOutput/checkpoints/CR_11M_24_11_01_big_posencscale__hypertension-few-shot-cr4.ckpt' as top 1\n"
     ]
    },
    {
     "data": {
      "application/vnd.jupyter.widget-view+json": {
       "model_id": "0ef827c1465e43f6b6b95e0e023fab35",
       "version_major": 2,
       "version_minor": 0
      },
      "text/plain": [
       "Validation: |          | 0/? [00:00<?, ?it/s]"
      ]
     },
     "metadata": {},
     "output_type": "display_data"
    },
    {
     "name": "stderr",
     "output_type": "stream",
     "text": [
      "INFO:root:Running callback Val:OutcomePerformanceMetrics\n",
      "INFO:root:log_combined\n",
      "INFO:root:Running callback Val:OutcomePerformanceMetrics\n",
      "INFO:root:log_combined\n",
      "INFO:root:Running callback Val:OutcomePerformanceMetrics\n",
      "INFO:root:log_combined\n",
      "INFO:root:Running callback Val:OutcomePerformanceMetrics\n",
      "INFO:root:log_combined\n",
      "INFO:root:Running callback Val:OutcomePerformanceMetrics\n",
      "INFO:root:log_combined\n",
      "INFO:root:Running callback Val:OutcomePerformanceMetrics\n",
      "INFO:root:log_combined\n",
      "INFO:root:Running callback Val:OutcomePerformanceMetrics\n",
      "INFO:root:log_combined\n",
      "INFO:root:Running callback Val:OutcomePerformanceMetrics\n",
      "INFO:root:log_combined\n",
      "INFO:root:Running callback Val:OutcomePerformanceMetrics\n",
      "INFO:root:log_combined\n",
      "INFO:root:Running callback Val:OutcomePerformanceMetrics\n",
      "INFO:root:log_combined\n",
      "INFO:root:Running callback Val:OutcomePerformanceMetrics\n",
      "INFO:root:log_combined\n",
      "INFO:root:Running callback Val:OutcomePerformanceMetrics\n",
      "INFO:root:log_combined\n",
      "INFO:root:Running callback Val:OutcomePerformanceMetrics\n",
      "INFO:root:log_combined\n",
      "Metric val_loss improved by 0.021 >= min_delta = 0. New best score: 2.729\n",
      "Epoch 0, global step 185: 'val_loss' reached 2.72852 (best 2.72852), saving model to '/rds/projects/s/subramaa-mum-predict/CharlesGadd_Oxford/FoundationModelOutput/checkpoints/CR_11M_24_11_01_big_posencscale__hypertension-few-shot-cr4.ckpt' as top 1\n"
     ]
    },
    {
     "data": {
      "application/vnd.jupyter.widget-view+json": {
       "model_id": "5b88e194cbc94417bd0c88e4fde5ce91",
       "version_major": 2,
       "version_minor": 0
      },
      "text/plain": [
       "Validation: |          | 0/? [00:00<?, ?it/s]"
      ]
     },
     "metadata": {},
     "output_type": "display_data"
    },
    {
     "name": "stderr",
     "output_type": "stream",
     "text": [
      "INFO:root:Running callback Val:OutcomePerformanceMetrics\n",
      "INFO:root:log_combined\n",
      "INFO:root:Running callback Val:OutcomePerformanceMetrics\n",
      "INFO:root:log_combined\n",
      "INFO:root:Running callback Val:OutcomePerformanceMetrics\n",
      "INFO:root:log_combined\n",
      "INFO:root:Running callback Val:OutcomePerformanceMetrics\n",
      "INFO:root:log_combined\n",
      "INFO:root:Running callback Val:OutcomePerformanceMetrics\n",
      "INFO:root:log_combined\n",
      "INFO:root:Running callback Val:OutcomePerformanceMetrics\n",
      "INFO:root:log_combined\n",
      "INFO:root:Running callback Val:OutcomePerformanceMetrics\n",
      "INFO:root:log_combined\n",
      "INFO:root:Running callback Val:OutcomePerformanceMetrics\n",
      "INFO:root:log_combined\n",
      "INFO:root:Running callback Val:OutcomePerformanceMetrics\n",
      "INFO:root:log_combined\n",
      "INFO:root:Running callback Val:OutcomePerformanceMetrics\n",
      "INFO:root:log_combined\n",
      "INFO:root:Running callback Val:OutcomePerformanceMetrics\n",
      "INFO:root:log_combined\n",
      "INFO:root:Running callback Val:OutcomePerformanceMetrics\n",
      "INFO:root:log_combined\n",
      "INFO:root:Running callback Val:OutcomePerformanceMetrics\n",
      "INFO:root:log_combined\n",
      "Metric val_loss improved by 0.020 >= min_delta = 0. New best score: 2.709\n",
      "Epoch 0, global step 190: 'val_loss' reached 2.70889 (best 2.70889), saving model to '/rds/projects/s/subramaa-mum-predict/CharlesGadd_Oxford/FoundationModelOutput/checkpoints/CR_11M_24_11_01_big_posencscale__hypertension-few-shot-cr4.ckpt' as top 1\n"
     ]
    },
    {
     "data": {
      "application/vnd.jupyter.widget-view+json": {
       "model_id": "cd120ccd482b4e968bade6eedae4be82",
       "version_major": 2,
       "version_minor": 0
      },
      "text/plain": [
       "Validation: |          | 0/? [00:00<?, ?it/s]"
      ]
     },
     "metadata": {},
     "output_type": "display_data"
    },
    {
     "name": "stderr",
     "output_type": "stream",
     "text": [
      "INFO:root:Running callback Val:OutcomePerformanceMetrics\n",
      "INFO:root:log_combined\n",
      "INFO:root:Running callback Val:OutcomePerformanceMetrics\n",
      "INFO:root:log_combined\n",
      "INFO:root:Running callback Val:OutcomePerformanceMetrics\n",
      "INFO:root:log_combined\n",
      "INFO:root:Running callback Val:OutcomePerformanceMetrics\n",
      "INFO:root:log_combined\n",
      "INFO:root:Running callback Val:OutcomePerformanceMetrics\n",
      "INFO:root:log_combined\n",
      "INFO:root:Running callback Val:OutcomePerformanceMetrics\n",
      "INFO:root:log_combined\n",
      "INFO:root:Running callback Val:OutcomePerformanceMetrics\n",
      "INFO:root:log_combined\n",
      "INFO:root:Running callback Val:OutcomePerformanceMetrics\n",
      "INFO:root:log_combined\n",
      "INFO:root:Running callback Val:OutcomePerformanceMetrics\n",
      "INFO:root:log_combined\n",
      "INFO:root:Running callback Val:OutcomePerformanceMetrics\n",
      "INFO:root:log_combined\n",
      "INFO:root:Running callback Val:OutcomePerformanceMetrics\n",
      "INFO:root:log_combined\n",
      "INFO:root:Running callback Val:OutcomePerformanceMetrics\n",
      "INFO:root:log_combined\n",
      "INFO:root:Running callback Val:OutcomePerformanceMetrics\n",
      "INFO:root:log_combined\n",
      "Metric val_loss improved by 0.018 >= min_delta = 0. New best score: 2.691\n",
      "Epoch 0, global step 195: 'val_loss' reached 2.69137 (best 2.69137), saving model to '/rds/projects/s/subramaa-mum-predict/CharlesGadd_Oxford/FoundationModelOutput/checkpoints/CR_11M_24_11_01_big_posencscale__hypertension-few-shot-cr4.ckpt' as top 1\n"
     ]
    },
    {
     "data": {
      "application/vnd.jupyter.widget-view+json": {
       "model_id": "1195e94ae25a464b8f02e37072e97ade",
       "version_major": 2,
       "version_minor": 0
      },
      "text/plain": [
       "Validation: |          | 0/? [00:00<?, ?it/s]"
      ]
     },
     "metadata": {},
     "output_type": "display_data"
    },
    {
     "name": "stderr",
     "output_type": "stream",
     "text": [
      "INFO:root:Running callback Val:OutcomePerformanceMetrics\n",
      "INFO:root:log_combined\n",
      "INFO:root:Running callback Val:OutcomePerformanceMetrics\n",
      "INFO:root:log_combined\n",
      "INFO:root:Running callback Val:OutcomePerformanceMetrics\n",
      "INFO:root:log_combined\n",
      "INFO:root:Running callback Val:OutcomePerformanceMetrics\n",
      "INFO:root:log_combined\n",
      "INFO:root:Running callback Val:OutcomePerformanceMetrics\n",
      "INFO:root:log_combined\n",
      "INFO:root:Running callback Val:OutcomePerformanceMetrics\n",
      "INFO:root:log_combined\n",
      "INFO:root:Running callback Val:OutcomePerformanceMetrics\n",
      "INFO:root:log_combined\n",
      "INFO:root:Running callback Val:OutcomePerformanceMetrics\n",
      "INFO:root:log_combined\n",
      "INFO:root:Running callback Val:OutcomePerformanceMetrics\n",
      "INFO:root:log_combined\n",
      "INFO:root:Running callback Val:OutcomePerformanceMetrics\n",
      "INFO:root:log_combined\n",
      "INFO:root:Running callback Val:OutcomePerformanceMetrics\n",
      "INFO:root:log_combined\n",
      "INFO:root:Running callback Val:OutcomePerformanceMetrics\n",
      "INFO:root:log_combined\n",
      "INFO:root:Running callback Val:OutcomePerformanceMetrics\n",
      "INFO:root:log_combined\n",
      "Metric val_loss improved by 0.017 >= min_delta = 0. New best score: 2.675\n",
      "Epoch 0, global step 200: 'val_loss' reached 2.67486 (best 2.67486), saving model to '/rds/projects/s/subramaa-mum-predict/CharlesGadd_Oxford/FoundationModelOutput/checkpoints/CR_11M_24_11_01_big_posencscale__hypertension-few-shot-cr4.ckpt' as top 1\n"
     ]
    },
    {
     "data": {
      "application/vnd.jupyter.widget-view+json": {
       "model_id": "5afc223964e642cf9cb079555880e4ae",
       "version_major": 2,
       "version_minor": 0
      },
      "text/plain": [
       "Validation: |          | 0/? [00:00<?, ?it/s]"
      ]
     },
     "metadata": {},
     "output_type": "display_data"
    },
    {
     "name": "stderr",
     "output_type": "stream",
     "text": [
      "INFO:root:Running callback Val:OutcomePerformanceMetrics\n",
      "INFO:root:log_combined\n",
      "INFO:root:Running callback Val:OutcomePerformanceMetrics\n",
      "INFO:root:log_combined\n",
      "INFO:root:Running callback Val:OutcomePerformanceMetrics\n",
      "INFO:root:log_combined\n",
      "INFO:root:Running callback Val:OutcomePerformanceMetrics\n",
      "INFO:root:log_combined\n",
      "INFO:root:Running callback Val:OutcomePerformanceMetrics\n",
      "INFO:root:log_combined\n",
      "INFO:root:Running callback Val:OutcomePerformanceMetrics\n",
      "INFO:root:log_combined\n",
      "INFO:root:Running callback Val:OutcomePerformanceMetrics\n",
      "INFO:root:log_combined\n",
      "INFO:root:Running callback Val:OutcomePerformanceMetrics\n",
      "INFO:root:log_combined\n",
      "INFO:root:Running callback Val:OutcomePerformanceMetrics\n",
      "INFO:root:log_combined\n",
      "INFO:root:Running callback Val:OutcomePerformanceMetrics\n",
      "INFO:root:log_combined\n",
      "INFO:root:Running callback Val:OutcomePerformanceMetrics\n",
      "INFO:root:log_combined\n",
      "INFO:root:Running callback Val:OutcomePerformanceMetrics\n",
      "INFO:root:log_combined\n",
      "INFO:root:Running callback Val:OutcomePerformanceMetrics\n",
      "INFO:root:log_combined\n",
      "Metric val_loss improved by 0.017 >= min_delta = 0. New best score: 2.658\n",
      "Epoch 0, global step 205: 'val_loss' reached 2.65831 (best 2.65831), saving model to '/rds/projects/s/subramaa-mum-predict/CharlesGadd_Oxford/FoundationModelOutput/checkpoints/CR_11M_24_11_01_big_posencscale__hypertension-few-shot-cr4.ckpt' as top 1\n"
     ]
    },
    {
     "data": {
      "application/vnd.jupyter.widget-view+json": {
       "model_id": "f4dae017009d449fa5eafc8d38580a70",
       "version_major": 2,
       "version_minor": 0
      },
      "text/plain": [
       "Validation: |          | 0/? [00:00<?, ?it/s]"
      ]
     },
     "metadata": {},
     "output_type": "display_data"
    },
    {
     "name": "stderr",
     "output_type": "stream",
     "text": [
      "INFO:root:Running callback Val:OutcomePerformanceMetrics\n",
      "INFO:root:log_combined\n",
      "INFO:root:Running callback Val:OutcomePerformanceMetrics\n",
      "INFO:root:log_combined\n",
      "INFO:root:Running callback Val:OutcomePerformanceMetrics\n",
      "INFO:root:log_combined\n",
      "INFO:root:Running callback Val:OutcomePerformanceMetrics\n",
      "INFO:root:log_combined\n",
      "INFO:root:Running callback Val:OutcomePerformanceMetrics\n",
      "INFO:root:log_combined\n",
      "INFO:root:Running callback Val:OutcomePerformanceMetrics\n",
      "INFO:root:log_combined\n",
      "INFO:root:Running callback Val:OutcomePerformanceMetrics\n",
      "INFO:root:log_combined\n",
      "INFO:root:Running callback Val:OutcomePerformanceMetrics\n",
      "INFO:root:log_combined\n",
      "INFO:root:Running callback Val:OutcomePerformanceMetrics\n",
      "INFO:root:log_combined\n",
      "INFO:root:Running callback Val:OutcomePerformanceMetrics\n",
      "INFO:root:log_combined\n",
      "INFO:root:Running callback Val:OutcomePerformanceMetrics\n",
      "INFO:root:log_combined\n",
      "INFO:root:Running callback Val:OutcomePerformanceMetrics\n",
      "INFO:root:log_combined\n",
      "INFO:root:Running callback Val:OutcomePerformanceMetrics\n",
      "INFO:root:log_combined\n",
      "Metric val_loss improved by 0.017 >= min_delta = 0. New best score: 2.641\n",
      "Epoch 0, global step 210: 'val_loss' reached 2.64104 (best 2.64104), saving model to '/rds/projects/s/subramaa-mum-predict/CharlesGadd_Oxford/FoundationModelOutput/checkpoints/CR_11M_24_11_01_big_posencscale__hypertension-few-shot-cr4.ckpt' as top 1\n"
     ]
    },
    {
     "data": {
      "application/vnd.jupyter.widget-view+json": {
       "model_id": "d4cb9da69b3b40ea9c705dfd36f5ab6c",
       "version_major": 2,
       "version_minor": 0
      },
      "text/plain": [
       "Validation: |          | 0/? [00:00<?, ?it/s]"
      ]
     },
     "metadata": {},
     "output_type": "display_data"
    },
    {
     "name": "stderr",
     "output_type": "stream",
     "text": [
      "INFO:root:Running callback Val:OutcomePerformanceMetrics\n",
      "INFO:root:log_combined\n",
      "INFO:root:Running callback Val:OutcomePerformanceMetrics\n",
      "INFO:root:log_combined\n",
      "INFO:root:Running callback Val:OutcomePerformanceMetrics\n",
      "INFO:root:log_combined\n",
      "INFO:root:Running callback Val:OutcomePerformanceMetrics\n",
      "INFO:root:log_combined\n",
      "INFO:root:Running callback Val:OutcomePerformanceMetrics\n",
      "INFO:root:log_combined\n",
      "INFO:root:Running callback Val:OutcomePerformanceMetrics\n",
      "INFO:root:log_combined\n",
      "INFO:root:Running callback Val:OutcomePerformanceMetrics\n",
      "INFO:root:log_combined\n",
      "INFO:root:Running callback Val:OutcomePerformanceMetrics\n",
      "INFO:root:log_combined\n",
      "INFO:root:Running callback Val:OutcomePerformanceMetrics\n",
      "INFO:root:log_combined\n",
      "INFO:root:Running callback Val:OutcomePerformanceMetrics\n",
      "INFO:root:log_combined\n",
      "INFO:root:Running callback Val:OutcomePerformanceMetrics\n",
      "INFO:root:log_combined\n",
      "INFO:root:Running callback Val:OutcomePerformanceMetrics\n",
      "INFO:root:log_combined\n",
      "INFO:root:Running callback Val:OutcomePerformanceMetrics\n",
      "INFO:root:log_combined\n",
      "Metric val_loss improved by 0.016 >= min_delta = 0. New best score: 2.625\n",
      "Epoch 0, global step 215: 'val_loss' reached 2.62496 (best 2.62496), saving model to '/rds/projects/s/subramaa-mum-predict/CharlesGadd_Oxford/FoundationModelOutput/checkpoints/CR_11M_24_11_01_big_posencscale__hypertension-few-shot-cr4.ckpt' as top 1\n"
     ]
    },
    {
     "data": {
      "application/vnd.jupyter.widget-view+json": {
       "model_id": "8bf73a824e52430d85db61641f8d08dc",
       "version_major": 2,
       "version_minor": 0
      },
      "text/plain": [
       "Validation: |          | 0/? [00:00<?, ?it/s]"
      ]
     },
     "metadata": {},
     "output_type": "display_data"
    },
    {
     "name": "stderr",
     "output_type": "stream",
     "text": [
      "INFO:root:Running callback Val:OutcomePerformanceMetrics\n",
      "INFO:root:log_combined\n",
      "INFO:root:Running callback Val:OutcomePerformanceMetrics\n",
      "INFO:root:log_combined\n",
      "INFO:root:Running callback Val:OutcomePerformanceMetrics\n",
      "INFO:root:log_combined\n",
      "INFO:root:Running callback Val:OutcomePerformanceMetrics\n",
      "INFO:root:log_combined\n",
      "INFO:root:Running callback Val:OutcomePerformanceMetrics\n",
      "INFO:root:log_combined\n",
      "INFO:root:Running callback Val:OutcomePerformanceMetrics\n",
      "INFO:root:log_combined\n",
      "INFO:root:Running callback Val:OutcomePerformanceMetrics\n",
      "INFO:root:log_combined\n",
      "INFO:root:Running callback Val:OutcomePerformanceMetrics\n",
      "INFO:root:log_combined\n",
      "INFO:root:Running callback Val:OutcomePerformanceMetrics\n",
      "INFO:root:log_combined\n",
      "INFO:root:Running callback Val:OutcomePerformanceMetrics\n",
      "INFO:root:log_combined\n",
      "INFO:root:Running callback Val:OutcomePerformanceMetrics\n",
      "INFO:root:log_combined\n",
      "INFO:root:Running callback Val:OutcomePerformanceMetrics\n",
      "INFO:root:log_combined\n",
      "INFO:root:Running callback Val:OutcomePerformanceMetrics\n",
      "INFO:root:log_combined\n",
      "Metric val_loss improved by 0.016 >= min_delta = 0. New best score: 2.609\n",
      "Epoch 0, global step 220: 'val_loss' reached 2.60944 (best 2.60944), saving model to '/rds/projects/s/subramaa-mum-predict/CharlesGadd_Oxford/FoundationModelOutput/checkpoints/CR_11M_24_11_01_big_posencscale__hypertension-few-shot-cr4.ckpt' as top 1\n"
     ]
    },
    {
     "data": {
      "application/vnd.jupyter.widget-view+json": {
       "model_id": "fbcd6ec091ad4d4897184b714052034a",
       "version_major": 2,
       "version_minor": 0
      },
      "text/plain": [
       "Validation: |          | 0/? [00:00<?, ?it/s]"
      ]
     },
     "metadata": {},
     "output_type": "display_data"
    },
    {
     "name": "stderr",
     "output_type": "stream",
     "text": [
      "INFO:root:Running callback Val:OutcomePerformanceMetrics\n",
      "INFO:root:log_combined\n",
      "INFO:root:Running callback Val:OutcomePerformanceMetrics\n",
      "INFO:root:log_combined\n",
      "INFO:root:Running callback Val:OutcomePerformanceMetrics\n",
      "INFO:root:log_combined\n",
      "INFO:root:Running callback Val:OutcomePerformanceMetrics\n",
      "INFO:root:log_combined\n",
      "INFO:root:Running callback Val:OutcomePerformanceMetrics\n",
      "INFO:root:log_combined\n",
      "INFO:root:Running callback Val:OutcomePerformanceMetrics\n",
      "INFO:root:log_combined\n",
      "INFO:root:Running callback Val:OutcomePerformanceMetrics\n",
      "INFO:root:log_combined\n",
      "INFO:root:Running callback Val:OutcomePerformanceMetrics\n",
      "INFO:root:log_combined\n",
      "INFO:root:Running callback Val:OutcomePerformanceMetrics\n",
      "INFO:root:log_combined\n",
      "INFO:root:Running callback Val:OutcomePerformanceMetrics\n",
      "INFO:root:log_combined\n",
      "INFO:root:Running callback Val:OutcomePerformanceMetrics\n",
      "INFO:root:log_combined\n",
      "INFO:root:Running callback Val:OutcomePerformanceMetrics\n",
      "INFO:root:log_combined\n",
      "INFO:root:Running callback Val:OutcomePerformanceMetrics\n",
      "INFO:root:log_combined\n",
      "Metric val_loss improved by 0.015 >= min_delta = 0. New best score: 2.594\n",
      "Epoch 0, global step 225: 'val_loss' reached 2.59448 (best 2.59448), saving model to '/rds/projects/s/subramaa-mum-predict/CharlesGadd_Oxford/FoundationModelOutput/checkpoints/CR_11M_24_11_01_big_posencscale__hypertension-few-shot-cr4.ckpt' as top 1\n"
     ]
    },
    {
     "data": {
      "application/vnd.jupyter.widget-view+json": {
       "model_id": "287e5880af38455d9f883da45230faf3",
       "version_major": 2,
       "version_minor": 0
      },
      "text/plain": [
       "Validation: |          | 0/? [00:00<?, ?it/s]"
      ]
     },
     "metadata": {},
     "output_type": "display_data"
    },
    {
     "name": "stderr",
     "output_type": "stream",
     "text": [
      "INFO:root:Running callback Val:OutcomePerformanceMetrics\n",
      "INFO:root:log_combined\n",
      "INFO:root:Running callback Val:OutcomePerformanceMetrics\n",
      "INFO:root:log_combined\n",
      "INFO:root:Running callback Val:OutcomePerformanceMetrics\n",
      "INFO:root:log_combined\n",
      "INFO:root:Running callback Val:OutcomePerformanceMetrics\n",
      "INFO:root:log_combined\n",
      "INFO:root:Running callback Val:OutcomePerformanceMetrics\n",
      "INFO:root:log_combined\n",
      "INFO:root:Running callback Val:OutcomePerformanceMetrics\n",
      "INFO:root:log_combined\n",
      "INFO:root:Running callback Val:OutcomePerformanceMetrics\n",
      "INFO:root:log_combined\n",
      "INFO:root:Running callback Val:OutcomePerformanceMetrics\n",
      "INFO:root:log_combined\n",
      "INFO:root:Running callback Val:OutcomePerformanceMetrics\n",
      "INFO:root:log_combined\n",
      "INFO:root:Running callback Val:OutcomePerformanceMetrics\n",
      "INFO:root:log_combined\n",
      "INFO:root:Running callback Val:OutcomePerformanceMetrics\n",
      "INFO:root:log_combined\n",
      "INFO:root:Running callback Val:OutcomePerformanceMetrics\n",
      "INFO:root:log_combined\n",
      "INFO:root:Running callback Val:OutcomePerformanceMetrics\n",
      "INFO:root:log_combined\n",
      "Metric val_loss improved by 0.014 >= min_delta = 0. New best score: 2.580\n",
      "Epoch 0, global step 230: 'val_loss' reached 2.58014 (best 2.58014), saving model to '/rds/projects/s/subramaa-mum-predict/CharlesGadd_Oxford/FoundationModelOutput/checkpoints/CR_11M_24_11_01_big_posencscale__hypertension-few-shot-cr4.ckpt' as top 1\n"
     ]
    },
    {
     "data": {
      "application/vnd.jupyter.widget-view+json": {
       "model_id": "b2a1ecdbb0204c8ab79da926961a5541",
       "version_major": 2,
       "version_minor": 0
      },
      "text/plain": [
       "Validation: |          | 0/? [00:00<?, ?it/s]"
      ]
     },
     "metadata": {},
     "output_type": "display_data"
    },
    {
     "name": "stderr",
     "output_type": "stream",
     "text": [
      "INFO:root:Running callback Val:OutcomePerformanceMetrics\n",
      "INFO:root:log_combined\n",
      "INFO:root:Running callback Val:OutcomePerformanceMetrics\n",
      "INFO:root:log_combined\n",
      "INFO:root:Running callback Val:OutcomePerformanceMetrics\n",
      "INFO:root:log_combined\n",
      "INFO:root:Running callback Val:OutcomePerformanceMetrics\n",
      "INFO:root:log_combined\n",
      "INFO:root:Running callback Val:OutcomePerformanceMetrics\n",
      "INFO:root:log_combined\n",
      "INFO:root:Running callback Val:OutcomePerformanceMetrics\n",
      "INFO:root:log_combined\n",
      "INFO:root:Running callback Val:OutcomePerformanceMetrics\n",
      "INFO:root:log_combined\n",
      "INFO:root:Running callback Val:OutcomePerformanceMetrics\n",
      "INFO:root:log_combined\n",
      "INFO:root:Running callback Val:OutcomePerformanceMetrics\n",
      "INFO:root:log_combined\n",
      "INFO:root:Running callback Val:OutcomePerformanceMetrics\n",
      "INFO:root:log_combined\n",
      "INFO:root:Running callback Val:OutcomePerformanceMetrics\n",
      "INFO:root:log_combined\n",
      "INFO:root:Running callback Val:OutcomePerformanceMetrics\n",
      "INFO:root:log_combined\n",
      "INFO:root:Running callback Val:OutcomePerformanceMetrics\n",
      "INFO:root:log_combined\n",
      "Metric val_loss improved by 0.015 >= min_delta = 0. New best score: 2.565\n",
      "Epoch 0, global step 235: 'val_loss' reached 2.56531 (best 2.56531), saving model to '/rds/projects/s/subramaa-mum-predict/CharlesGadd_Oxford/FoundationModelOutput/checkpoints/CR_11M_24_11_01_big_posencscale__hypertension-few-shot-cr4.ckpt' as top 1\n"
     ]
    },
    {
     "data": {
      "application/vnd.jupyter.widget-view+json": {
       "model_id": "26e32f12481e4893a7f8ff8568d4e20d",
       "version_major": 2,
       "version_minor": 0
      },
      "text/plain": [
       "Validation: |          | 0/? [00:00<?, ?it/s]"
      ]
     },
     "metadata": {},
     "output_type": "display_data"
    },
    {
     "name": "stderr",
     "output_type": "stream",
     "text": [
      "INFO:root:Running callback Val:OutcomePerformanceMetrics\n",
      "INFO:root:log_combined\n",
      "INFO:root:Running callback Val:OutcomePerformanceMetrics\n",
      "INFO:root:log_combined\n",
      "INFO:root:Running callback Val:OutcomePerformanceMetrics\n",
      "INFO:root:log_combined\n",
      "INFO:root:Running callback Val:OutcomePerformanceMetrics\n",
      "INFO:root:log_combined\n",
      "INFO:root:Running callback Val:OutcomePerformanceMetrics\n",
      "INFO:root:log_combined\n",
      "INFO:root:Running callback Val:OutcomePerformanceMetrics\n",
      "INFO:root:log_combined\n",
      "INFO:root:Running callback Val:OutcomePerformanceMetrics\n",
      "INFO:root:log_combined\n",
      "INFO:root:Running callback Val:OutcomePerformanceMetrics\n",
      "INFO:root:log_combined\n",
      "INFO:root:Running callback Val:OutcomePerformanceMetrics\n",
      "INFO:root:log_combined\n",
      "INFO:root:Running callback Val:OutcomePerformanceMetrics\n",
      "INFO:root:log_combined\n",
      "INFO:root:Running callback Val:OutcomePerformanceMetrics\n",
      "INFO:root:log_combined\n",
      "INFO:root:Running callback Val:OutcomePerformanceMetrics\n",
      "INFO:root:log_combined\n",
      "INFO:root:Running callback Val:OutcomePerformanceMetrics\n",
      "INFO:root:log_combined\n",
      "Metric val_loss improved by 0.014 >= min_delta = 0. New best score: 2.552\n",
      "Epoch 0, global step 240: 'val_loss' reached 2.55155 (best 2.55155), saving model to '/rds/projects/s/subramaa-mum-predict/CharlesGadd_Oxford/FoundationModelOutput/checkpoints/CR_11M_24_11_01_big_posencscale__hypertension-few-shot-cr4.ckpt' as top 1\n"
     ]
    },
    {
     "data": {
      "application/vnd.jupyter.widget-view+json": {
       "model_id": "f602e7ac4d164761865f1540d58ba649",
       "version_major": 2,
       "version_minor": 0
      },
      "text/plain": [
       "Validation: |          | 0/? [00:00<?, ?it/s]"
      ]
     },
     "metadata": {},
     "output_type": "display_data"
    },
    {
     "name": "stderr",
     "output_type": "stream",
     "text": [
      "INFO:root:Running callback Val:OutcomePerformanceMetrics\n",
      "INFO:root:log_combined\n",
      "INFO:root:Running callback Val:OutcomePerformanceMetrics\n",
      "INFO:root:log_combined\n",
      "INFO:root:Running callback Val:OutcomePerformanceMetrics\n",
      "INFO:root:log_combined\n",
      "INFO:root:Running callback Val:OutcomePerformanceMetrics\n",
      "INFO:root:log_combined\n",
      "INFO:root:Running callback Val:OutcomePerformanceMetrics\n",
      "INFO:root:log_combined\n",
      "INFO:root:Running callback Val:OutcomePerformanceMetrics\n",
      "INFO:root:log_combined\n",
      "INFO:root:Running callback Val:OutcomePerformanceMetrics\n",
      "INFO:root:log_combined\n",
      "INFO:root:Running callback Val:OutcomePerformanceMetrics\n",
      "INFO:root:log_combined\n",
      "INFO:root:Running callback Val:OutcomePerformanceMetrics\n",
      "INFO:root:log_combined\n",
      "INFO:root:Running callback Val:OutcomePerformanceMetrics\n",
      "INFO:root:log_combined\n",
      "INFO:root:Running callback Val:OutcomePerformanceMetrics\n",
      "INFO:root:log_combined\n",
      "INFO:root:Running callback Val:OutcomePerformanceMetrics\n",
      "INFO:root:log_combined\n",
      "INFO:root:Running callback Val:OutcomePerformanceMetrics\n",
      "INFO:root:log_combined\n",
      "Metric val_loss improved by 0.012 >= min_delta = 0. New best score: 2.540\n",
      "Epoch 0, global step 245: 'val_loss' reached 2.53957 (best 2.53957), saving model to '/rds/projects/s/subramaa-mum-predict/CharlesGadd_Oxford/FoundationModelOutput/checkpoints/CR_11M_24_11_01_big_posencscale__hypertension-few-shot-cr4.ckpt' as top 1\n"
     ]
    },
    {
     "data": {
      "application/vnd.jupyter.widget-view+json": {
       "model_id": "cf7f4aea4d1742d6a04dde3961b6f680",
       "version_major": 2,
       "version_minor": 0
      },
      "text/plain": [
       "Validation: |          | 0/? [00:00<?, ?it/s]"
      ]
     },
     "metadata": {},
     "output_type": "display_data"
    },
    {
     "name": "stderr",
     "output_type": "stream",
     "text": [
      "INFO:root:Running callback Val:OutcomePerformanceMetrics\n",
      "INFO:root:log_combined\n",
      "INFO:root:Running callback Val:OutcomePerformanceMetrics\n",
      "INFO:root:log_combined\n",
      "INFO:root:Running callback Val:OutcomePerformanceMetrics\n",
      "INFO:root:log_combined\n",
      "INFO:root:Running callback Val:OutcomePerformanceMetrics\n",
      "INFO:root:log_combined\n",
      "INFO:root:Running callback Val:OutcomePerformanceMetrics\n",
      "INFO:root:log_combined\n",
      "INFO:root:Running callback Val:OutcomePerformanceMetrics\n",
      "INFO:root:log_combined\n",
      "INFO:root:Running callback Val:OutcomePerformanceMetrics\n",
      "INFO:root:log_combined\n",
      "INFO:root:Running callback Val:OutcomePerformanceMetrics\n",
      "INFO:root:log_combined\n",
      "INFO:root:Running callback Val:OutcomePerformanceMetrics\n",
      "INFO:root:log_combined\n",
      "INFO:root:Running callback Val:OutcomePerformanceMetrics\n",
      "INFO:root:log_combined\n",
      "INFO:root:Running callback Val:OutcomePerformanceMetrics\n",
      "INFO:root:log_combined\n",
      "INFO:root:Running callback Val:OutcomePerformanceMetrics\n",
      "INFO:root:log_combined\n",
      "INFO:root:Running callback Val:OutcomePerformanceMetrics\n",
      "INFO:root:log_combined\n",
      "Metric val_loss improved by 0.011 >= min_delta = 0. New best score: 2.529\n",
      "Epoch 0, global step 250: 'val_loss' reached 2.52892 (best 2.52892), saving model to '/rds/projects/s/subramaa-mum-predict/CharlesGadd_Oxford/FoundationModelOutput/checkpoints/CR_11M_24_11_01_big_posencscale__hypertension-few-shot-cr4.ckpt' as top 1\n"
     ]
    },
    {
     "data": {
      "application/vnd.jupyter.widget-view+json": {
       "model_id": "e9afd3b1743b4af1ac1299c76c6a24d9",
       "version_major": 2,
       "version_minor": 0
      },
      "text/plain": [
       "Validation: |          | 0/? [00:00<?, ?it/s]"
      ]
     },
     "metadata": {},
     "output_type": "display_data"
    },
    {
     "name": "stderr",
     "output_type": "stream",
     "text": [
      "INFO:root:Running callback Val:OutcomePerformanceMetrics\n",
      "INFO:root:log_combined\n",
      "INFO:root:Running callback Val:OutcomePerformanceMetrics\n",
      "INFO:root:log_combined\n",
      "INFO:root:Running callback Val:OutcomePerformanceMetrics\n",
      "INFO:root:log_combined\n",
      "INFO:root:Running callback Val:OutcomePerformanceMetrics\n",
      "INFO:root:log_combined\n",
      "INFO:root:Running callback Val:OutcomePerformanceMetrics\n",
      "INFO:root:log_combined\n",
      "INFO:root:Running callback Val:OutcomePerformanceMetrics\n",
      "INFO:root:log_combined\n",
      "INFO:root:Running callback Val:OutcomePerformanceMetrics\n",
      "INFO:root:log_combined\n",
      "INFO:root:Running callback Val:OutcomePerformanceMetrics\n",
      "INFO:root:log_combined\n",
      "INFO:root:Running callback Val:OutcomePerformanceMetrics\n",
      "INFO:root:log_combined\n",
      "INFO:root:Running callback Val:OutcomePerformanceMetrics\n",
      "INFO:root:log_combined\n",
      "INFO:root:Running callback Val:OutcomePerformanceMetrics\n",
      "INFO:root:log_combined\n",
      "INFO:root:Running callback Val:OutcomePerformanceMetrics\n",
      "INFO:root:log_combined\n",
      "INFO:root:Running callback Val:OutcomePerformanceMetrics\n",
      "INFO:root:log_combined\n",
      "Metric val_loss improved by 0.010 >= min_delta = 0. New best score: 2.519\n",
      "Epoch 0, global step 255: 'val_loss' reached 2.51879 (best 2.51879), saving model to '/rds/projects/s/subramaa-mum-predict/CharlesGadd_Oxford/FoundationModelOutput/checkpoints/CR_11M_24_11_01_big_posencscale__hypertension-few-shot-cr4.ckpt' as top 1\n"
     ]
    },
    {
     "data": {
      "application/vnd.jupyter.widget-view+json": {
       "model_id": "13e0eaae99d24623934b6af3539d40a7",
       "version_major": 2,
       "version_minor": 0
      },
      "text/plain": [
       "Validation: |          | 0/? [00:00<?, ?it/s]"
      ]
     },
     "metadata": {},
     "output_type": "display_data"
    },
    {
     "name": "stderr",
     "output_type": "stream",
     "text": [
      "INFO:root:Running callback Val:OutcomePerformanceMetrics\n",
      "INFO:root:log_combined\n",
      "INFO:root:Running callback Val:OutcomePerformanceMetrics\n",
      "INFO:root:log_combined\n",
      "INFO:root:Running callback Val:OutcomePerformanceMetrics\n",
      "INFO:root:log_combined\n",
      "INFO:root:Running callback Val:OutcomePerformanceMetrics\n",
      "INFO:root:log_combined\n",
      "INFO:root:Running callback Val:OutcomePerformanceMetrics\n",
      "INFO:root:log_combined\n",
      "INFO:root:Running callback Val:OutcomePerformanceMetrics\n",
      "INFO:root:log_combined\n",
      "INFO:root:Running callback Val:OutcomePerformanceMetrics\n",
      "INFO:root:log_combined\n",
      "INFO:root:Running callback Val:OutcomePerformanceMetrics\n",
      "INFO:root:log_combined\n",
      "INFO:root:Running callback Val:OutcomePerformanceMetrics\n",
      "INFO:root:log_combined\n",
      "INFO:root:Running callback Val:OutcomePerformanceMetrics\n",
      "INFO:root:log_combined\n",
      "INFO:root:Running callback Val:OutcomePerformanceMetrics\n",
      "INFO:root:log_combined\n",
      "INFO:root:Running callback Val:OutcomePerformanceMetrics\n",
      "INFO:root:log_combined\n",
      "INFO:root:Running callback Val:OutcomePerformanceMetrics\n",
      "INFO:root:log_combined\n",
      "Metric val_loss improved by 0.009 >= min_delta = 0. New best score: 2.510\n",
      "Epoch 0, global step 260: 'val_loss' reached 2.50967 (best 2.50967), saving model to '/rds/projects/s/subramaa-mum-predict/CharlesGadd_Oxford/FoundationModelOutput/checkpoints/CR_11M_24_11_01_big_posencscale__hypertension-few-shot-cr4.ckpt' as top 1\n"
     ]
    },
    {
     "data": {
      "application/vnd.jupyter.widget-view+json": {
       "model_id": "daf346ea956c4b3cac91f5693b13b986",
       "version_major": 2,
       "version_minor": 0
      },
      "text/plain": [
       "Validation: |          | 0/? [00:00<?, ?it/s]"
      ]
     },
     "metadata": {},
     "output_type": "display_data"
    },
    {
     "name": "stderr",
     "output_type": "stream",
     "text": [
      "INFO:root:Running callback Val:OutcomePerformanceMetrics\n",
      "INFO:root:log_combined\n",
      "INFO:root:Running callback Val:OutcomePerformanceMetrics\n",
      "INFO:root:log_combined\n",
      "INFO:root:Running callback Val:OutcomePerformanceMetrics\n",
      "INFO:root:log_combined\n",
      "INFO:root:Running callback Val:OutcomePerformanceMetrics\n",
      "INFO:root:log_combined\n",
      "INFO:root:Running callback Val:OutcomePerformanceMetrics\n",
      "INFO:root:log_combined\n",
      "INFO:root:Running callback Val:OutcomePerformanceMetrics\n",
      "INFO:root:log_combined\n",
      "INFO:root:Running callback Val:OutcomePerformanceMetrics\n",
      "INFO:root:log_combined\n",
      "INFO:root:Running callback Val:OutcomePerformanceMetrics\n",
      "INFO:root:log_combined\n",
      "INFO:root:Running callback Val:OutcomePerformanceMetrics\n",
      "INFO:root:log_combined\n",
      "INFO:root:Running callback Val:OutcomePerformanceMetrics\n",
      "INFO:root:log_combined\n",
      "INFO:root:Running callback Val:OutcomePerformanceMetrics\n",
      "INFO:root:log_combined\n",
      "INFO:root:Running callback Val:OutcomePerformanceMetrics\n",
      "INFO:root:log_combined\n",
      "INFO:root:Running callback Val:OutcomePerformanceMetrics\n",
      "INFO:root:log_combined\n",
      "Metric val_loss improved by 0.009 >= min_delta = 0. New best score: 2.501\n",
      "Epoch 0, global step 265: 'val_loss' reached 2.50051 (best 2.50051), saving model to '/rds/projects/s/subramaa-mum-predict/CharlesGadd_Oxford/FoundationModelOutput/checkpoints/CR_11M_24_11_01_big_posencscale__hypertension-few-shot-cr4.ckpt' as top 1\n"
     ]
    },
    {
     "data": {
      "application/vnd.jupyter.widget-view+json": {
       "model_id": "fa87bb72192d449483b91677a548ab26",
       "version_major": 2,
       "version_minor": 0
      },
      "text/plain": [
       "Validation: |          | 0/? [00:00<?, ?it/s]"
      ]
     },
     "metadata": {},
     "output_type": "display_data"
    },
    {
     "name": "stderr",
     "output_type": "stream",
     "text": [
      "INFO:root:Running callback Val:OutcomePerformanceMetrics\n",
      "INFO:root:log_combined\n",
      "INFO:root:Running callback Val:OutcomePerformanceMetrics\n",
      "INFO:root:log_combined\n",
      "INFO:root:Running callback Val:OutcomePerformanceMetrics\n",
      "INFO:root:log_combined\n",
      "INFO:root:Running callback Val:OutcomePerformanceMetrics\n",
      "INFO:root:log_combined\n",
      "INFO:root:Running callback Val:OutcomePerformanceMetrics\n",
      "INFO:root:log_combined\n",
      "INFO:root:Running callback Val:OutcomePerformanceMetrics\n",
      "INFO:root:log_combined\n",
      "INFO:root:Running callback Val:OutcomePerformanceMetrics\n",
      "INFO:root:log_combined\n",
      "INFO:root:Running callback Val:OutcomePerformanceMetrics\n",
      "INFO:root:log_combined\n",
      "INFO:root:Running callback Val:OutcomePerformanceMetrics\n",
      "INFO:root:log_combined\n",
      "INFO:root:Running callback Val:OutcomePerformanceMetrics\n",
      "INFO:root:log_combined\n",
      "INFO:root:Running callback Val:OutcomePerformanceMetrics\n",
      "INFO:root:log_combined\n",
      "INFO:root:Running callback Val:OutcomePerformanceMetrics\n",
      "INFO:root:log_combined\n",
      "INFO:root:Running callback Val:OutcomePerformanceMetrics\n",
      "INFO:root:log_combined\n",
      "Metric val_loss improved by 0.009 >= min_delta = 0. New best score: 2.491\n",
      "Epoch 0, global step 270: 'val_loss' reached 2.49142 (best 2.49142), saving model to '/rds/projects/s/subramaa-mum-predict/CharlesGadd_Oxford/FoundationModelOutput/checkpoints/CR_11M_24_11_01_big_posencscale__hypertension-few-shot-cr4.ckpt' as top 1\n"
     ]
    },
    {
     "data": {
      "application/vnd.jupyter.widget-view+json": {
       "model_id": "c4d53c793d44405d89b4d58f648d7b81",
       "version_major": 2,
       "version_minor": 0
      },
      "text/plain": [
       "Validation: |          | 0/? [00:00<?, ?it/s]"
      ]
     },
     "metadata": {},
     "output_type": "display_data"
    },
    {
     "name": "stderr",
     "output_type": "stream",
     "text": [
      "INFO:root:Running callback Val:OutcomePerformanceMetrics\n",
      "INFO:root:log_combined\n",
      "INFO:root:Running callback Val:OutcomePerformanceMetrics\n",
      "INFO:root:log_combined\n",
      "INFO:root:Running callback Val:OutcomePerformanceMetrics\n",
      "INFO:root:log_combined\n",
      "INFO:root:Running callback Val:OutcomePerformanceMetrics\n",
      "INFO:root:log_combined\n",
      "INFO:root:Running callback Val:OutcomePerformanceMetrics\n",
      "INFO:root:log_combined\n",
      "INFO:root:Running callback Val:OutcomePerformanceMetrics\n",
      "INFO:root:log_combined\n",
      "INFO:root:Running callback Val:OutcomePerformanceMetrics\n",
      "INFO:root:log_combined\n",
      "INFO:root:Running callback Val:OutcomePerformanceMetrics\n",
      "INFO:root:log_combined\n",
      "INFO:root:Running callback Val:OutcomePerformanceMetrics\n",
      "INFO:root:log_combined\n",
      "INFO:root:Running callback Val:OutcomePerformanceMetrics\n",
      "INFO:root:log_combined\n",
      "INFO:root:Running callback Val:OutcomePerformanceMetrics\n",
      "INFO:root:log_combined\n",
      "INFO:root:Running callback Val:OutcomePerformanceMetrics\n",
      "INFO:root:log_combined\n",
      "INFO:root:Running callback Val:OutcomePerformanceMetrics\n",
      "INFO:root:log_combined\n",
      "Metric val_loss improved by 0.009 >= min_delta = 0. New best score: 2.482\n",
      "Epoch 0, global step 275: 'val_loss' reached 2.48209 (best 2.48209), saving model to '/rds/projects/s/subramaa-mum-predict/CharlesGadd_Oxford/FoundationModelOutput/checkpoints/CR_11M_24_11_01_big_posencscale__hypertension-few-shot-cr4.ckpt' as top 1\n"
     ]
    },
    {
     "data": {
      "application/vnd.jupyter.widget-view+json": {
       "model_id": "84ae4cfebb5c46518fe159cf339fc456",
       "version_major": 2,
       "version_minor": 0
      },
      "text/plain": [
       "Validation: |          | 0/? [00:00<?, ?it/s]"
      ]
     },
     "metadata": {},
     "output_type": "display_data"
    },
    {
     "name": "stderr",
     "output_type": "stream",
     "text": [
      "INFO:root:Running callback Val:OutcomePerformanceMetrics\n",
      "INFO:root:log_combined\n",
      "INFO:root:Running callback Val:OutcomePerformanceMetrics\n",
      "INFO:root:log_combined\n",
      "INFO:root:Running callback Val:OutcomePerformanceMetrics\n",
      "INFO:root:log_combined\n",
      "INFO:root:Running callback Val:OutcomePerformanceMetrics\n",
      "INFO:root:log_combined\n",
      "INFO:root:Running callback Val:OutcomePerformanceMetrics\n",
      "INFO:root:log_combined\n",
      "INFO:root:Running callback Val:OutcomePerformanceMetrics\n",
      "INFO:root:log_combined\n",
      "INFO:root:Running callback Val:OutcomePerformanceMetrics\n",
      "INFO:root:log_combined\n",
      "INFO:root:Running callback Val:OutcomePerformanceMetrics\n",
      "INFO:root:log_combined\n",
      "INFO:root:Running callback Val:OutcomePerformanceMetrics\n",
      "INFO:root:log_combined\n",
      "INFO:root:Running callback Val:OutcomePerformanceMetrics\n",
      "INFO:root:log_combined\n",
      "INFO:root:Running callback Val:OutcomePerformanceMetrics\n",
      "INFO:root:log_combined\n",
      "INFO:root:Running callback Val:OutcomePerformanceMetrics\n",
      "INFO:root:log_combined\n",
      "INFO:root:Running callback Val:OutcomePerformanceMetrics\n",
      "INFO:root:log_combined\n",
      "Metric val_loss improved by 0.008 >= min_delta = 0. New best score: 2.474\n",
      "Epoch 0, global step 280: 'val_loss' reached 2.47392 (best 2.47392), saving model to '/rds/projects/s/subramaa-mum-predict/CharlesGadd_Oxford/FoundationModelOutput/checkpoints/CR_11M_24_11_01_big_posencscale__hypertension-few-shot-cr4.ckpt' as top 1\n"
     ]
    },
    {
     "data": {
      "application/vnd.jupyter.widget-view+json": {
       "model_id": "790835c0b69b4e0f8b942b39981be95d",
       "version_major": 2,
       "version_minor": 0
      },
      "text/plain": [
       "Validation: |          | 0/? [00:00<?, ?it/s]"
      ]
     },
     "metadata": {},
     "output_type": "display_data"
    },
    {
     "name": "stderr",
     "output_type": "stream",
     "text": [
      "INFO:root:Running callback Val:OutcomePerformanceMetrics\n",
      "INFO:root:log_combined\n",
      "INFO:root:Running callback Val:OutcomePerformanceMetrics\n",
      "INFO:root:log_combined\n",
      "INFO:root:Running callback Val:OutcomePerformanceMetrics\n",
      "INFO:root:log_combined\n",
      "INFO:root:Running callback Val:OutcomePerformanceMetrics\n",
      "INFO:root:log_combined\n",
      "INFO:root:Running callback Val:OutcomePerformanceMetrics\n",
      "INFO:root:log_combined\n",
      "INFO:root:Running callback Val:OutcomePerformanceMetrics\n",
      "INFO:root:log_combined\n",
      "INFO:root:Running callback Val:OutcomePerformanceMetrics\n",
      "INFO:root:log_combined\n",
      "INFO:root:Running callback Val:OutcomePerformanceMetrics\n",
      "INFO:root:log_combined\n",
      "INFO:root:Running callback Val:OutcomePerformanceMetrics\n",
      "INFO:root:log_combined\n",
      "INFO:root:Running callback Val:OutcomePerformanceMetrics\n",
      "INFO:root:log_combined\n",
      "INFO:root:Running callback Val:OutcomePerformanceMetrics\n",
      "INFO:root:log_combined\n",
      "INFO:root:Running callback Val:OutcomePerformanceMetrics\n",
      "INFO:root:log_combined\n",
      "INFO:root:Running callback Val:OutcomePerformanceMetrics\n",
      "INFO:root:log_combined\n",
      "Metric val_loss improved by 0.008 >= min_delta = 0. New best score: 2.466\n",
      "Epoch 0, global step 285: 'val_loss' reached 2.46626 (best 2.46626), saving model to '/rds/projects/s/subramaa-mum-predict/CharlesGadd_Oxford/FoundationModelOutput/checkpoints/CR_11M_24_11_01_big_posencscale__hypertension-few-shot-cr4.ckpt' as top 1\n"
     ]
    },
    {
     "data": {
      "application/vnd.jupyter.widget-view+json": {
       "model_id": "bf768e3232914affb8c3c666ad2e072f",
       "version_major": 2,
       "version_minor": 0
      },
      "text/plain": [
       "Validation: |          | 0/? [00:00<?, ?it/s]"
      ]
     },
     "metadata": {},
     "output_type": "display_data"
    },
    {
     "name": "stderr",
     "output_type": "stream",
     "text": [
      "INFO:root:Running callback Val:OutcomePerformanceMetrics\n",
      "INFO:root:log_combined\n",
      "INFO:root:Running callback Val:OutcomePerformanceMetrics\n",
      "INFO:root:log_combined\n",
      "INFO:root:Running callback Val:OutcomePerformanceMetrics\n",
      "INFO:root:log_combined\n",
      "INFO:root:Running callback Val:OutcomePerformanceMetrics\n",
      "INFO:root:log_combined\n",
      "INFO:root:Running callback Val:OutcomePerformanceMetrics\n",
      "INFO:root:log_combined\n",
      "INFO:root:Running callback Val:OutcomePerformanceMetrics\n",
      "INFO:root:log_combined\n",
      "INFO:root:Running callback Val:OutcomePerformanceMetrics\n",
      "INFO:root:log_combined\n",
      "INFO:root:Running callback Val:OutcomePerformanceMetrics\n",
      "INFO:root:log_combined\n",
      "INFO:root:Running callback Val:OutcomePerformanceMetrics\n",
      "INFO:root:log_combined\n",
      "INFO:root:Running callback Val:OutcomePerformanceMetrics\n",
      "INFO:root:log_combined\n",
      "INFO:root:Running callback Val:OutcomePerformanceMetrics\n",
      "INFO:root:log_combined\n",
      "INFO:root:Running callback Val:OutcomePerformanceMetrics\n",
      "INFO:root:log_combined\n",
      "INFO:root:Running callback Val:OutcomePerformanceMetrics\n",
      "INFO:root:log_combined\n",
      "Metric val_loss improved by 0.007 >= min_delta = 0. New best score: 2.460\n",
      "Epoch 0, global step 290: 'val_loss' reached 2.45968 (best 2.45968), saving model to '/rds/projects/s/subramaa-mum-predict/CharlesGadd_Oxford/FoundationModelOutput/checkpoints/CR_11M_24_11_01_big_posencscale__hypertension-few-shot-cr4.ckpt' as top 1\n"
     ]
    },
    {
     "data": {
      "application/vnd.jupyter.widget-view+json": {
       "model_id": "62f9b391285c44dab667d11f12b9b9df",
       "version_major": 2,
       "version_minor": 0
      },
      "text/plain": [
       "Validation: |          | 0/? [00:00<?, ?it/s]"
      ]
     },
     "metadata": {},
     "output_type": "display_data"
    },
    {
     "name": "stderr",
     "output_type": "stream",
     "text": [
      "INFO:root:Running callback Val:OutcomePerformanceMetrics\n",
      "INFO:root:log_combined\n",
      "INFO:root:Running callback Val:OutcomePerformanceMetrics\n",
      "INFO:root:log_combined\n",
      "INFO:root:Running callback Val:OutcomePerformanceMetrics\n",
      "INFO:root:log_combined\n",
      "INFO:root:Running callback Val:OutcomePerformanceMetrics\n",
      "INFO:root:log_combined\n",
      "INFO:root:Running callback Val:OutcomePerformanceMetrics\n",
      "INFO:root:log_combined\n",
      "INFO:root:Running callback Val:OutcomePerformanceMetrics\n",
      "INFO:root:log_combined\n",
      "INFO:root:Running callback Val:OutcomePerformanceMetrics\n",
      "INFO:root:log_combined\n",
      "INFO:root:Running callback Val:OutcomePerformanceMetrics\n",
      "INFO:root:log_combined\n",
      "INFO:root:Running callback Val:OutcomePerformanceMetrics\n",
      "INFO:root:log_combined\n",
      "INFO:root:Running callback Val:OutcomePerformanceMetrics\n",
      "INFO:root:log_combined\n",
      "INFO:root:Running callback Val:OutcomePerformanceMetrics\n",
      "INFO:root:log_combined\n",
      "INFO:root:Running callback Val:OutcomePerformanceMetrics\n",
      "INFO:root:log_combined\n",
      "INFO:root:Running callback Val:OutcomePerformanceMetrics\n",
      "INFO:root:log_combined\n",
      "Metric val_loss improved by 0.007 >= min_delta = 0. New best score: 2.453\n",
      "Epoch 0, global step 295: 'val_loss' reached 2.45298 (best 2.45298), saving model to '/rds/projects/s/subramaa-mum-predict/CharlesGadd_Oxford/FoundationModelOutput/checkpoints/CR_11M_24_11_01_big_posencscale__hypertension-few-shot-cr4.ckpt' as top 1\n"
     ]
    },
    {
     "data": {
      "application/vnd.jupyter.widget-view+json": {
       "model_id": "b95154df8c694b45bc8ea3f3039ec9a4",
       "version_major": 2,
       "version_minor": 0
      },
      "text/plain": [
       "Validation: |          | 0/? [00:00<?, ?it/s]"
      ]
     },
     "metadata": {},
     "output_type": "display_data"
    },
    {
     "name": "stderr",
     "output_type": "stream",
     "text": [
      "INFO:root:Running callback Val:OutcomePerformanceMetrics\n",
      "INFO:root:log_combined\n",
      "INFO:root:Running callback Val:OutcomePerformanceMetrics\n",
      "INFO:root:log_combined\n",
      "INFO:root:Running callback Val:OutcomePerformanceMetrics\n",
      "INFO:root:log_combined\n",
      "INFO:root:Running callback Val:OutcomePerformanceMetrics\n",
      "INFO:root:log_combined\n",
      "INFO:root:Running callback Val:OutcomePerformanceMetrics\n",
      "INFO:root:log_combined\n",
      "INFO:root:Running callback Val:OutcomePerformanceMetrics\n",
      "INFO:root:log_combined\n",
      "INFO:root:Running callback Val:OutcomePerformanceMetrics\n",
      "INFO:root:log_combined\n",
      "INFO:root:Running callback Val:OutcomePerformanceMetrics\n",
      "INFO:root:log_combined\n",
      "INFO:root:Running callback Val:OutcomePerformanceMetrics\n",
      "INFO:root:log_combined\n",
      "INFO:root:Running callback Val:OutcomePerformanceMetrics\n",
      "INFO:root:log_combined\n",
      "INFO:root:Running callback Val:OutcomePerformanceMetrics\n",
      "INFO:root:log_combined\n",
      "INFO:root:Running callback Val:OutcomePerformanceMetrics\n",
      "INFO:root:log_combined\n",
      "INFO:root:Running callback Val:OutcomePerformanceMetrics\n",
      "INFO:root:log_combined\n",
      "Metric val_loss improved by 0.007 >= min_delta = 0. New best score: 2.446\n",
      "Epoch 0, global step 300: 'val_loss' reached 2.44594 (best 2.44594), saving model to '/rds/projects/s/subramaa-mum-predict/CharlesGadd_Oxford/FoundationModelOutput/checkpoints/CR_11M_24_11_01_big_posencscale__hypertension-few-shot-cr4.ckpt' as top 1\n"
     ]
    },
    {
     "data": {
      "application/vnd.jupyter.widget-view+json": {
       "model_id": "6209cb20ac0e49058aa50b99fe24e134",
       "version_major": 2,
       "version_minor": 0
      },
      "text/plain": [
       "Validation: |          | 0/? [00:00<?, ?it/s]"
      ]
     },
     "metadata": {},
     "output_type": "display_data"
    },
    {
     "name": "stderr",
     "output_type": "stream",
     "text": [
      "INFO:root:Running callback Val:OutcomePerformanceMetrics\n",
      "INFO:root:log_combined\n",
      "INFO:root:Running callback Val:OutcomePerformanceMetrics\n",
      "INFO:root:log_combined\n",
      "INFO:root:Running callback Val:OutcomePerformanceMetrics\n",
      "INFO:root:log_combined\n",
      "INFO:root:Running callback Val:OutcomePerformanceMetrics\n",
      "INFO:root:log_combined\n",
      "INFO:root:Running callback Val:OutcomePerformanceMetrics\n",
      "INFO:root:log_combined\n",
      "INFO:root:Running callback Val:OutcomePerformanceMetrics\n",
      "INFO:root:log_combined\n",
      "INFO:root:Running callback Val:OutcomePerformanceMetrics\n",
      "INFO:root:log_combined\n",
      "INFO:root:Running callback Val:OutcomePerformanceMetrics\n",
      "INFO:root:log_combined\n",
      "INFO:root:Running callback Val:OutcomePerformanceMetrics\n",
      "INFO:root:log_combined\n",
      "INFO:root:Running callback Val:OutcomePerformanceMetrics\n",
      "INFO:root:log_combined\n",
      "INFO:root:Running callback Val:OutcomePerformanceMetrics\n",
      "INFO:root:log_combined\n",
      "INFO:root:Running callback Val:OutcomePerformanceMetrics\n",
      "INFO:root:log_combined\n",
      "INFO:root:Running callback Val:OutcomePerformanceMetrics\n",
      "INFO:root:log_combined\n",
      "Metric val_loss improved by 0.009 >= min_delta = 0. New best score: 2.437\n",
      "Epoch 0, global step 305: 'val_loss' reached 2.43664 (best 2.43664), saving model to '/rds/projects/s/subramaa-mum-predict/CharlesGadd_Oxford/FoundationModelOutput/checkpoints/CR_11M_24_11_01_big_posencscale__hypertension-few-shot-cr4.ckpt' as top 1\n",
      "Exception ignored in: <function _MultiProcessingDataLoaderIter.__del__ at 0x7f6d30bab250>\n",
      "Traceback (most recent call last):\n",
      "  File \"/rds/bear-apps/2022a/EL8-ice/software/PyTorch/2.0.1-foss-2022a-CUDA-11.7.0/lib/python3.10/site-packages/torch/utils/data/dataloader.py\", line 1478, in __del__\n",
      "  File \"/rds/bear-apps/2022a/EL8-ice/software/PyTorch/2.0.1-foss-2022a-CUDA-11.7.0/lib/python3.10/site-packages/torch/utils/data/dataloader.py\", line 1442, in _shutdown_workers\n",
      "    w.join(timeout=_utils.MP_STATUS_CHECK_INTERVAL)\n",
      "  File \"/rds/bear-apps/2022a/EL8-ice/software/Python/3.10.4-GCCcore-11.3.0/lib/python3.10/multiprocessing/process.py\", line 149, in join\n",
      "    res = self._popen.wait(timeout)\n",
      "  File \"/rds/bear-apps/2022a/EL8-ice/software/Python/3.10.4-GCCcore-11.3.0/lib/python3.10/multiprocessing/popen_fork.py\", line 40, in wait\n",
      "    if not wait([self.sentinel], timeout):\n",
      "  File \"/rds/bear-apps/2022a/EL8-ice/software/Python/3.10.4-GCCcore-11.3.0/lib/python3.10/multiprocessing/connection.py\", line 936, in wait\n",
      "    ready = selector.select(timeout)\n",
      "  File \"/rds/bear-apps/2022a/EL8-ice/software/Python/3.10.4-GCCcore-11.3.0/lib/python3.10/selectors.py\", line 416, in select\n",
      "    fd_event_list = self._selector.poll(timeout)\n",
      "KeyboardInterrupt: \n"
     ]
    },
    {
     "data": {
      "application/vnd.jupyter.widget-view+json": {
       "model_id": "14166f1749c04501a796d49c9ea8ff26",
       "version_major": 2,
       "version_minor": 0
      },
      "text/plain": [
       "Validation: |          | 0/? [00:00<?, ?it/s]"
      ]
     },
     "metadata": {},
     "output_type": "display_data"
    },
    {
     "ename": "RuntimeError",
     "evalue": "DataLoader worker (pid(s) 1327186, 1327249, 1327312, 1327375, 1327438, 1327501, 1327564, 1327627, 1327690, 1327753, 1327816, 1327879) exited unexpectedly",
     "output_type": "error",
     "traceback": [
      "\u001b[0;31m---------------------------------------------------------------------------\u001b[0m",
      "\u001b[0;31mEmpty\u001b[0m                                     Traceback (most recent call last)",
      "File \u001b[0;32m/rds/bear-apps/2022a/EL8-ice/software/PyTorch/2.0.1-foss-2022a-CUDA-11.7.0/lib/python3.10/site-packages/torch/utils/data/dataloader.py:1132\u001b[0m, in \u001b[0;36m_MultiProcessingDataLoaderIter._try_get_data\u001b[0;34m(self, timeout)\u001b[0m\n\u001b[1;32m   1131\u001b[0m \u001b[38;5;28;01mtry\u001b[39;00m:\n\u001b[0;32m-> 1132\u001b[0m     data \u001b[38;5;241m=\u001b[39m \u001b[38;5;28;43mself\u001b[39;49m\u001b[38;5;241;43m.\u001b[39;49m\u001b[43m_data_queue\u001b[49m\u001b[38;5;241;43m.\u001b[39;49m\u001b[43mget\u001b[49m\u001b[43m(\u001b[49m\u001b[43mtimeout\u001b[49m\u001b[38;5;241;43m=\u001b[39;49m\u001b[43mtimeout\u001b[49m\u001b[43m)\u001b[49m\n\u001b[1;32m   1133\u001b[0m     \u001b[38;5;28;01mreturn\u001b[39;00m (\u001b[38;5;28;01mTrue\u001b[39;00m, data)\n",
      "File \u001b[0;32m/rds/bear-apps/2022a/EL8-ice/software/Python/3.10.4-GCCcore-11.3.0/lib/python3.10/multiprocessing/queues.py:114\u001b[0m, in \u001b[0;36mQueue.get\u001b[0;34m(self, block, timeout)\u001b[0m\n\u001b[1;32m    113\u001b[0m     \u001b[38;5;28;01mif\u001b[39;00m \u001b[38;5;129;01mnot\u001b[39;00m \u001b[38;5;28mself\u001b[39m\u001b[38;5;241m.\u001b[39m_poll(timeout):\n\u001b[0;32m--> 114\u001b[0m         \u001b[38;5;28;01mraise\u001b[39;00m Empty\n\u001b[1;32m    115\u001b[0m \u001b[38;5;28;01melif\u001b[39;00m \u001b[38;5;129;01mnot\u001b[39;00m \u001b[38;5;28mself\u001b[39m\u001b[38;5;241m.\u001b[39m_poll():\n",
      "\u001b[0;31mEmpty\u001b[0m: ",
      "\nThe above exception was the direct cause of the following exception:\n",
      "\u001b[0;31mRuntimeError\u001b[0m                              Traceback (most recent call last)",
      "Cell \u001b[0;32mIn [5], line 46\u001b[0m\n\u001b[1;32m     37\u001b[0m \u001b[38;5;28;01mmatch\u001b[39;00m experiment\u001b[38;5;241m.\u001b[39mlower():\n\u001b[1;32m     38\u001b[0m     \u001b[38;5;28;01mcase\u001b[39;00m \u001b[38;5;124m\"\u001b[39m\u001b[38;5;124mcvd\u001b[39m\u001b[38;5;124m\"\u001b[39m:\n\u001b[1;32m     39\u001b[0m         cfg\u001b[38;5;241m.\u001b[39mdata\u001b[38;5;241m.\u001b[39mpath_to_ds\u001b[38;5;241m=\u001b[39m\u001b[38;5;124m\"\u001b[39m\u001b[38;5;124m/rds/projects/g/gokhalkm-optimal/OPTIMAL_MASTER_DATASET/data/FoundationalModel/FineTune_CVD/\u001b[39m\u001b[38;5;124m\"\u001b[39m\n\u001b[0;32m   (...)\u001b[0m\n\u001b[1;32m     42\u001b[0m         cfg\u001b[38;5;241m.\u001b[39mdata\u001b[38;5;241m.\u001b[39mpath_to_ds\u001b[38;5;241m=\u001b[39m\u001b[38;5;124m\"\u001b[39m\u001b[38;5;124m/rds/projects/g/gokhalkm-optimal/OPTIMAL_MASTER_DATASET/data/FoundationalModel/FineTune_Hypertension/\u001b[39m\u001b[38;5;124m\"\u001b[39m\n\u001b[1;32m     43\u001b[0m         cfg\u001b[38;5;241m.\u001b[39mexperiment\u001b[38;5;241m.\u001b[39mfine_tune_outcomes\u001b[38;5;241m=\u001b[39m[\u001b[38;5;124m\"\u001b[39m\u001b[38;5;124mHYPERTENSION\u001b[39m\u001b[38;5;124m\"\u001b[39m]\n\u001b[1;32m     45\u001b[0m wandb\u001b[38;5;241m.\u001b[39mfinish()\n\u001b[0;32m---> 46\u001b[0m experiment, dm \u001b[38;5;241m=\u001b[39m \u001b[43mrun\u001b[49m\u001b[43m(\u001b[49m\u001b[43mcfg\u001b[49m\u001b[43m)\u001b[49m\n\u001b[1;32m     47\u001b[0m \u001b[38;5;28mprint\u001b[39m(\u001b[38;5;124mf\u001b[39m\u001b[38;5;124m\"\u001b[39m\u001b[38;5;124mLoaded model with \u001b[39m\u001b[38;5;132;01m{\u001b[39;00m\u001b[38;5;28msum\u001b[39m(p\u001b[38;5;241m.\u001b[39mnumel() \u001b[38;5;28;01mfor\u001b[39;00m p \u001b[38;5;129;01min\u001b[39;00m experiment\u001b[38;5;241m.\u001b[39mmodel\u001b[38;5;241m.\u001b[39mparameters())\u001b[38;5;241m/\u001b[39m\u001b[38;5;241m1e6\u001b[39m\u001b[38;5;132;01m}\u001b[39;00m\u001b[38;5;124m M parameters\u001b[39m\u001b[38;5;124m\"\u001b[39m)\n\u001b[1;32m     48\u001b[0m wandb\u001b[38;5;241m.\u001b[39mfinish()\n",
      "File \u001b[0;32m/rds/bear-apps/2022a/EL8-ice/software/Hydra/1.3.2-GCCcore-11.3.0/lib/python3.10/site-packages/hydra/main.py:83\u001b[0m, in \u001b[0;36mmain.<locals>.main_decorator.<locals>.decorated_main\u001b[0;34m(cfg_passthrough)\u001b[0m\n\u001b[1;32m     80\u001b[0m \u001b[38;5;129m@functools\u001b[39m\u001b[38;5;241m.\u001b[39mwraps(task_function)\n\u001b[1;32m     81\u001b[0m \u001b[38;5;28;01mdef\u001b[39;00m \u001b[38;5;21mdecorated_main\u001b[39m(cfg_passthrough: Optional[DictConfig] \u001b[38;5;241m=\u001b[39m \u001b[38;5;28;01mNone\u001b[39;00m) \u001b[38;5;241m-\u001b[39m\u001b[38;5;241m>\u001b[39m Any:\n\u001b[1;32m     82\u001b[0m     \u001b[38;5;28;01mif\u001b[39;00m cfg_passthrough \u001b[38;5;129;01mis\u001b[39;00m \u001b[38;5;129;01mnot\u001b[39;00m \u001b[38;5;28;01mNone\u001b[39;00m:\n\u001b[0;32m---> 83\u001b[0m         \u001b[38;5;28;01mreturn\u001b[39;00m \u001b[43mtask_function\u001b[49m\u001b[43m(\u001b[49m\u001b[43mcfg_passthrough\u001b[49m\u001b[43m)\u001b[49m\n\u001b[1;32m     84\u001b[0m     \u001b[38;5;28;01melse\u001b[39;00m:\n\u001b[1;32m     85\u001b[0m         args_parser \u001b[38;5;241m=\u001b[39m get_args_parser()\n",
      "File \u001b[0;32m~/Projects/CPRD/examples/modelling/SurvStreamGPT/run_experiment.py:234\u001b[0m, in \u001b[0;36mrun\u001b[0;34m(cfg)\u001b[0m\n\u001b[1;32m    232\u001b[0m \u001b[38;5;28;01mif\u001b[39;00m cfg\u001b[38;5;241m.\u001b[39mexperiment\u001b[38;5;241m.\u001b[39mtrain:\n\u001b[1;32m    233\u001b[0m     logging\u001b[38;5;241m.\u001b[39minfo(\u001b[38;5;124mf\u001b[39m\u001b[38;5;124m\"\u001b[39m\u001b[38;5;124mTraining model.\u001b[39m\u001b[38;5;124m\"\u001b[39m)\n\u001b[0;32m--> 234\u001b[0m     \u001b[43mtrainer\u001b[49m\u001b[38;5;241;43m.\u001b[39;49m\u001b[43mfit\u001b[49m\u001b[43m(\u001b[49m\u001b[43mexperiment_instance\u001b[49m\u001b[43m,\u001b[49m\u001b[43m \u001b[49m\u001b[43mdatamodule\u001b[49m\u001b[38;5;241;43m=\u001b[39;49m\u001b[43mdm\u001b[49m\u001b[43m)\u001b[49m\n\u001b[1;32m    236\u001b[0m     \u001b[38;5;66;03m# Ensure we evaluate on the best/latest version of the model - particularly if we just trained then load the new best checkpoint\u001b[39;00m\n\u001b[1;32m    237\u001b[0m     logging\u001b[38;5;241m.\u001b[39minfo(\u001b[38;5;124mf\u001b[39m\u001b[38;5;124m\"\u001b[39m\u001b[38;5;124mRe-loading from best cached checkpoint \u001b[39m\u001b[38;5;132;01m{\u001b[39;00mnew_checkpoint\u001b[38;5;132;01m}\u001b[39;00m\u001b[38;5;124m\"\u001b[39m)\n",
      "File \u001b[0;32m/rds/bear-apps/2022a/EL8-ice/software/PyTorch-Lightning/2.1.0-foss-2022a-CUDA-11.7.0/lib/python3.10/site-packages/pytorch_lightning/trainer/trainer.py:545\u001b[0m, in \u001b[0;36mTrainer.fit\u001b[0;34m(self, model, train_dataloaders, val_dataloaders, datamodule, ckpt_path)\u001b[0m\n\u001b[1;32m    543\u001b[0m \u001b[38;5;28mself\u001b[39m\u001b[38;5;241m.\u001b[39mstate\u001b[38;5;241m.\u001b[39mstatus \u001b[38;5;241m=\u001b[39m TrainerStatus\u001b[38;5;241m.\u001b[39mRUNNING\n\u001b[1;32m    544\u001b[0m \u001b[38;5;28mself\u001b[39m\u001b[38;5;241m.\u001b[39mtraining \u001b[38;5;241m=\u001b[39m \u001b[38;5;28;01mTrue\u001b[39;00m\n\u001b[0;32m--> 545\u001b[0m \u001b[43mcall\u001b[49m\u001b[38;5;241;43m.\u001b[39;49m\u001b[43m_call_and_handle_interrupt\u001b[49m\u001b[43m(\u001b[49m\n\u001b[1;32m    546\u001b[0m \u001b[43m    \u001b[49m\u001b[38;5;28;43mself\u001b[39;49m\u001b[43m,\u001b[49m\u001b[43m \u001b[49m\u001b[38;5;28;43mself\u001b[39;49m\u001b[38;5;241;43m.\u001b[39;49m\u001b[43m_fit_impl\u001b[49m\u001b[43m,\u001b[49m\u001b[43m \u001b[49m\u001b[43mmodel\u001b[49m\u001b[43m,\u001b[49m\u001b[43m \u001b[49m\u001b[43mtrain_dataloaders\u001b[49m\u001b[43m,\u001b[49m\u001b[43m \u001b[49m\u001b[43mval_dataloaders\u001b[49m\u001b[43m,\u001b[49m\u001b[43m \u001b[49m\u001b[43mdatamodule\u001b[49m\u001b[43m,\u001b[49m\u001b[43m \u001b[49m\u001b[43mckpt_path\u001b[49m\n\u001b[1;32m    547\u001b[0m \u001b[43m\u001b[49m\u001b[43m)\u001b[49m\n",
      "File \u001b[0;32m/rds/bear-apps/2022a/EL8-ice/software/PyTorch-Lightning/2.1.0-foss-2022a-CUDA-11.7.0/lib/python3.10/site-packages/pytorch_lightning/trainer/call.py:44\u001b[0m, in \u001b[0;36m_call_and_handle_interrupt\u001b[0;34m(trainer, trainer_fn, *args, **kwargs)\u001b[0m\n\u001b[1;32m     42\u001b[0m     \u001b[38;5;28;01mif\u001b[39;00m trainer\u001b[38;5;241m.\u001b[39mstrategy\u001b[38;5;241m.\u001b[39mlauncher \u001b[38;5;129;01mis\u001b[39;00m \u001b[38;5;129;01mnot\u001b[39;00m \u001b[38;5;28;01mNone\u001b[39;00m:\n\u001b[1;32m     43\u001b[0m         \u001b[38;5;28;01mreturn\u001b[39;00m trainer\u001b[38;5;241m.\u001b[39mstrategy\u001b[38;5;241m.\u001b[39mlauncher\u001b[38;5;241m.\u001b[39mlaunch(trainer_fn, \u001b[38;5;241m*\u001b[39margs, trainer\u001b[38;5;241m=\u001b[39mtrainer, \u001b[38;5;241m*\u001b[39m\u001b[38;5;241m*\u001b[39mkwargs)\n\u001b[0;32m---> 44\u001b[0m     \u001b[38;5;28;01mreturn\u001b[39;00m \u001b[43mtrainer_fn\u001b[49m\u001b[43m(\u001b[49m\u001b[38;5;241;43m*\u001b[39;49m\u001b[43margs\u001b[49m\u001b[43m,\u001b[49m\u001b[43m \u001b[49m\u001b[38;5;241;43m*\u001b[39;49m\u001b[38;5;241;43m*\u001b[39;49m\u001b[43mkwargs\u001b[49m\u001b[43m)\u001b[49m\n\u001b[1;32m     46\u001b[0m \u001b[38;5;28;01mexcept\u001b[39;00m _TunerExitException:\n\u001b[1;32m     47\u001b[0m     _call_teardown_hook(trainer)\n",
      "File \u001b[0;32m/rds/bear-apps/2022a/EL8-ice/software/PyTorch-Lightning/2.1.0-foss-2022a-CUDA-11.7.0/lib/python3.10/site-packages/pytorch_lightning/trainer/trainer.py:581\u001b[0m, in \u001b[0;36mTrainer._fit_impl\u001b[0;34m(self, model, train_dataloaders, val_dataloaders, datamodule, ckpt_path)\u001b[0m\n\u001b[1;32m    574\u001b[0m \u001b[38;5;28;01massert\u001b[39;00m \u001b[38;5;28mself\u001b[39m\u001b[38;5;241m.\u001b[39mstate\u001b[38;5;241m.\u001b[39mfn \u001b[38;5;129;01mis\u001b[39;00m \u001b[38;5;129;01mnot\u001b[39;00m \u001b[38;5;28;01mNone\u001b[39;00m\n\u001b[1;32m    575\u001b[0m ckpt_path \u001b[38;5;241m=\u001b[39m \u001b[38;5;28mself\u001b[39m\u001b[38;5;241m.\u001b[39m_checkpoint_connector\u001b[38;5;241m.\u001b[39m_select_ckpt_path(\n\u001b[1;32m    576\u001b[0m     \u001b[38;5;28mself\u001b[39m\u001b[38;5;241m.\u001b[39mstate\u001b[38;5;241m.\u001b[39mfn,\n\u001b[1;32m    577\u001b[0m     ckpt_path,\n\u001b[1;32m    578\u001b[0m     model_provided\u001b[38;5;241m=\u001b[39m\u001b[38;5;28;01mTrue\u001b[39;00m,\n\u001b[1;32m    579\u001b[0m     model_connected\u001b[38;5;241m=\u001b[39m\u001b[38;5;28mself\u001b[39m\u001b[38;5;241m.\u001b[39mlightning_module \u001b[38;5;129;01mis\u001b[39;00m \u001b[38;5;129;01mnot\u001b[39;00m \u001b[38;5;28;01mNone\u001b[39;00m,\n\u001b[1;32m    580\u001b[0m )\n\u001b[0;32m--> 581\u001b[0m \u001b[38;5;28;43mself\u001b[39;49m\u001b[38;5;241;43m.\u001b[39;49m\u001b[43m_run\u001b[49m\u001b[43m(\u001b[49m\u001b[43mmodel\u001b[49m\u001b[43m,\u001b[49m\u001b[43m \u001b[49m\u001b[43mckpt_path\u001b[49m\u001b[38;5;241;43m=\u001b[39;49m\u001b[43mckpt_path\u001b[49m\u001b[43m)\u001b[49m\n\u001b[1;32m    583\u001b[0m \u001b[38;5;28;01massert\u001b[39;00m \u001b[38;5;28mself\u001b[39m\u001b[38;5;241m.\u001b[39mstate\u001b[38;5;241m.\u001b[39mstopped\n\u001b[1;32m    584\u001b[0m \u001b[38;5;28mself\u001b[39m\u001b[38;5;241m.\u001b[39mtraining \u001b[38;5;241m=\u001b[39m \u001b[38;5;28;01mFalse\u001b[39;00m\n",
      "File \u001b[0;32m/rds/bear-apps/2022a/EL8-ice/software/PyTorch-Lightning/2.1.0-foss-2022a-CUDA-11.7.0/lib/python3.10/site-packages/pytorch_lightning/trainer/trainer.py:990\u001b[0m, in \u001b[0;36mTrainer._run\u001b[0;34m(self, model, ckpt_path)\u001b[0m\n\u001b[1;32m    985\u001b[0m \u001b[38;5;28mself\u001b[39m\u001b[38;5;241m.\u001b[39m_signal_connector\u001b[38;5;241m.\u001b[39mregister_signal_handlers()\n\u001b[1;32m    987\u001b[0m \u001b[38;5;66;03m# ----------------------------\u001b[39;00m\n\u001b[1;32m    988\u001b[0m \u001b[38;5;66;03m# RUN THE TRAINER\u001b[39;00m\n\u001b[1;32m    989\u001b[0m \u001b[38;5;66;03m# ----------------------------\u001b[39;00m\n\u001b[0;32m--> 990\u001b[0m results \u001b[38;5;241m=\u001b[39m \u001b[38;5;28;43mself\u001b[39;49m\u001b[38;5;241;43m.\u001b[39;49m\u001b[43m_run_stage\u001b[49m\u001b[43m(\u001b[49m\u001b[43m)\u001b[49m\n\u001b[1;32m    992\u001b[0m \u001b[38;5;66;03m# ----------------------------\u001b[39;00m\n\u001b[1;32m    993\u001b[0m \u001b[38;5;66;03m# POST-Training CLEAN UP\u001b[39;00m\n\u001b[1;32m    994\u001b[0m \u001b[38;5;66;03m# ----------------------------\u001b[39;00m\n\u001b[1;32m    995\u001b[0m log\u001b[38;5;241m.\u001b[39mdebug(\u001b[38;5;124mf\u001b[39m\u001b[38;5;124m\"\u001b[39m\u001b[38;5;132;01m{\u001b[39;00m\u001b[38;5;28mself\u001b[39m\u001b[38;5;241m.\u001b[39m\u001b[38;5;18m__class__\u001b[39m\u001b[38;5;241m.\u001b[39m\u001b[38;5;18m__name__\u001b[39m\u001b[38;5;132;01m}\u001b[39;00m\u001b[38;5;124m: trainer tearing down\u001b[39m\u001b[38;5;124m\"\u001b[39m)\n",
      "File \u001b[0;32m/rds/bear-apps/2022a/EL8-ice/software/PyTorch-Lightning/2.1.0-foss-2022a-CUDA-11.7.0/lib/python3.10/site-packages/pytorch_lightning/trainer/trainer.py:1036\u001b[0m, in \u001b[0;36mTrainer._run_stage\u001b[0;34m(self)\u001b[0m\n\u001b[1;32m   1034\u001b[0m         \u001b[38;5;28mself\u001b[39m\u001b[38;5;241m.\u001b[39m_run_sanity_check()\n\u001b[1;32m   1035\u001b[0m     \u001b[38;5;28;01mwith\u001b[39;00m torch\u001b[38;5;241m.\u001b[39mautograd\u001b[38;5;241m.\u001b[39mset_detect_anomaly(\u001b[38;5;28mself\u001b[39m\u001b[38;5;241m.\u001b[39m_detect_anomaly):\n\u001b[0;32m-> 1036\u001b[0m         \u001b[38;5;28;43mself\u001b[39;49m\u001b[38;5;241;43m.\u001b[39;49m\u001b[43mfit_loop\u001b[49m\u001b[38;5;241;43m.\u001b[39;49m\u001b[43mrun\u001b[49m\u001b[43m(\u001b[49m\u001b[43m)\u001b[49m\n\u001b[1;32m   1037\u001b[0m     \u001b[38;5;28;01mreturn\u001b[39;00m \u001b[38;5;28;01mNone\u001b[39;00m\n\u001b[1;32m   1038\u001b[0m \u001b[38;5;28;01mraise\u001b[39;00m \u001b[38;5;167;01mRuntimeError\u001b[39;00m(\u001b[38;5;124mf\u001b[39m\u001b[38;5;124m\"\u001b[39m\u001b[38;5;124mUnexpected state \u001b[39m\u001b[38;5;132;01m{\u001b[39;00m\u001b[38;5;28mself\u001b[39m\u001b[38;5;241m.\u001b[39mstate\u001b[38;5;132;01m}\u001b[39;00m\u001b[38;5;124m\"\u001b[39m)\n",
      "File \u001b[0;32m/rds/bear-apps/2022a/EL8-ice/software/PyTorch-Lightning/2.1.0-foss-2022a-CUDA-11.7.0/lib/python3.10/site-packages/pytorch_lightning/loops/fit_loop.py:202\u001b[0m, in \u001b[0;36m_FitLoop.run\u001b[0;34m(self)\u001b[0m\n\u001b[1;32m    200\u001b[0m \u001b[38;5;28;01mtry\u001b[39;00m:\n\u001b[1;32m    201\u001b[0m     \u001b[38;5;28mself\u001b[39m\u001b[38;5;241m.\u001b[39mon_advance_start()\n\u001b[0;32m--> 202\u001b[0m     \u001b[38;5;28;43mself\u001b[39;49m\u001b[38;5;241;43m.\u001b[39;49m\u001b[43madvance\u001b[49m\u001b[43m(\u001b[49m\u001b[43m)\u001b[49m\n\u001b[1;32m    203\u001b[0m     \u001b[38;5;28mself\u001b[39m\u001b[38;5;241m.\u001b[39mon_advance_end()\n\u001b[1;32m    204\u001b[0m     \u001b[38;5;28mself\u001b[39m\u001b[38;5;241m.\u001b[39m_restarting \u001b[38;5;241m=\u001b[39m \u001b[38;5;28;01mFalse\u001b[39;00m\n",
      "File \u001b[0;32m/rds/bear-apps/2022a/EL8-ice/software/PyTorch-Lightning/2.1.0-foss-2022a-CUDA-11.7.0/lib/python3.10/site-packages/pytorch_lightning/loops/fit_loop.py:359\u001b[0m, in \u001b[0;36m_FitLoop.advance\u001b[0;34m(self)\u001b[0m\n\u001b[1;32m    357\u001b[0m \u001b[38;5;28;01mwith\u001b[39;00m \u001b[38;5;28mself\u001b[39m\u001b[38;5;241m.\u001b[39mtrainer\u001b[38;5;241m.\u001b[39mprofiler\u001b[38;5;241m.\u001b[39mprofile(\u001b[38;5;124m\"\u001b[39m\u001b[38;5;124mrun_training_epoch\u001b[39m\u001b[38;5;124m\"\u001b[39m):\n\u001b[1;32m    358\u001b[0m     \u001b[38;5;28;01massert\u001b[39;00m \u001b[38;5;28mself\u001b[39m\u001b[38;5;241m.\u001b[39m_data_fetcher \u001b[38;5;129;01mis\u001b[39;00m \u001b[38;5;129;01mnot\u001b[39;00m \u001b[38;5;28;01mNone\u001b[39;00m\n\u001b[0;32m--> 359\u001b[0m     \u001b[38;5;28;43mself\u001b[39;49m\u001b[38;5;241;43m.\u001b[39;49m\u001b[43mepoch_loop\u001b[49m\u001b[38;5;241;43m.\u001b[39;49m\u001b[43mrun\u001b[49m\u001b[43m(\u001b[49m\u001b[38;5;28;43mself\u001b[39;49m\u001b[38;5;241;43m.\u001b[39;49m\u001b[43m_data_fetcher\u001b[49m\u001b[43m)\u001b[49m\n",
      "File \u001b[0;32m/rds/bear-apps/2022a/EL8-ice/software/PyTorch-Lightning/2.1.0-foss-2022a-CUDA-11.7.0/lib/python3.10/site-packages/pytorch_lightning/loops/training_epoch_loop.py:137\u001b[0m, in \u001b[0;36m_TrainingEpochLoop.run\u001b[0;34m(self, data_fetcher)\u001b[0m\n\u001b[1;32m    135\u001b[0m \u001b[38;5;28;01mtry\u001b[39;00m:\n\u001b[1;32m    136\u001b[0m     \u001b[38;5;28mself\u001b[39m\u001b[38;5;241m.\u001b[39madvance(data_fetcher)\n\u001b[0;32m--> 137\u001b[0m     \u001b[38;5;28;43mself\u001b[39;49m\u001b[38;5;241;43m.\u001b[39;49m\u001b[43mon_advance_end\u001b[49m\u001b[43m(\u001b[49m\u001b[43mdata_fetcher\u001b[49m\u001b[43m)\u001b[49m\n\u001b[1;32m    138\u001b[0m     \u001b[38;5;28mself\u001b[39m\u001b[38;5;241m.\u001b[39m_restarting \u001b[38;5;241m=\u001b[39m \u001b[38;5;28;01mFalse\u001b[39;00m\n\u001b[1;32m    139\u001b[0m \u001b[38;5;28;01mexcept\u001b[39;00m \u001b[38;5;167;01mStopIteration\u001b[39;00m:\n",
      "File \u001b[0;32m/rds/bear-apps/2022a/EL8-ice/software/PyTorch-Lightning/2.1.0-foss-2022a-CUDA-11.7.0/lib/python3.10/site-packages/pytorch_lightning/loops/training_epoch_loop.py:285\u001b[0m, in \u001b[0;36m_TrainingEpochLoop.on_advance_end\u001b[0;34m(self, data_fetcher)\u001b[0m\n\u001b[1;32m    281\u001b[0m \u001b[38;5;28;01mif\u001b[39;00m \u001b[38;5;129;01mnot\u001b[39;00m \u001b[38;5;28mself\u001b[39m\u001b[38;5;241m.\u001b[39m_should_accumulate():\n\u001b[1;32m    282\u001b[0m     \u001b[38;5;66;03m# clear gradients to not leave any unused memory during validation\u001b[39;00m\n\u001b[1;32m    283\u001b[0m     call\u001b[38;5;241m.\u001b[39m_call_lightning_module_hook(\u001b[38;5;28mself\u001b[39m\u001b[38;5;241m.\u001b[39mtrainer, \u001b[38;5;124m\"\u001b[39m\u001b[38;5;124mon_validation_model_zero_grad\u001b[39m\u001b[38;5;124m\"\u001b[39m)\n\u001b[0;32m--> 285\u001b[0m \u001b[38;5;28;43mself\u001b[39;49m\u001b[38;5;241;43m.\u001b[39;49m\u001b[43mval_loop\u001b[49m\u001b[38;5;241;43m.\u001b[39;49m\u001b[43mrun\u001b[49m\u001b[43m(\u001b[49m\u001b[43m)\u001b[49m\n\u001b[1;32m    286\u001b[0m \u001b[38;5;28mself\u001b[39m\u001b[38;5;241m.\u001b[39mtrainer\u001b[38;5;241m.\u001b[39mtraining \u001b[38;5;241m=\u001b[39m \u001b[38;5;28;01mTrue\u001b[39;00m\n\u001b[1;32m    287\u001b[0m \u001b[38;5;28mself\u001b[39m\u001b[38;5;241m.\u001b[39mtrainer\u001b[38;5;241m.\u001b[39m_logger_connector\u001b[38;5;241m.\u001b[39m_first_loop_iter \u001b[38;5;241m=\u001b[39m first_loop_iter\n",
      "File \u001b[0;32m/rds/bear-apps/2022a/EL8-ice/software/PyTorch-Lightning/2.1.0-foss-2022a-CUDA-11.7.0/lib/python3.10/site-packages/pytorch_lightning/loops/utilities.py:181\u001b[0m, in \u001b[0;36m_no_grad_context.<locals>._decorator\u001b[0;34m(self, *args, **kwargs)\u001b[0m\n\u001b[1;32m    179\u001b[0m     context_manager \u001b[38;5;241m=\u001b[39m torch\u001b[38;5;241m.\u001b[39mno_grad\n\u001b[1;32m    180\u001b[0m \u001b[38;5;28;01mwith\u001b[39;00m context_manager():\n\u001b[0;32m--> 181\u001b[0m     \u001b[38;5;28;01mreturn\u001b[39;00m \u001b[43mloop_run\u001b[49m\u001b[43m(\u001b[49m\u001b[38;5;28;43mself\u001b[39;49m\u001b[43m,\u001b[49m\u001b[43m \u001b[49m\u001b[38;5;241;43m*\u001b[39;49m\u001b[43margs\u001b[49m\u001b[43m,\u001b[49m\u001b[43m \u001b[49m\u001b[38;5;241;43m*\u001b[39;49m\u001b[38;5;241;43m*\u001b[39;49m\u001b[43mkwargs\u001b[49m\u001b[43m)\u001b[49m\n",
      "File \u001b[0;32m/rds/bear-apps/2022a/EL8-ice/software/PyTorch-Lightning/2.1.0-foss-2022a-CUDA-11.7.0/lib/python3.10/site-packages/pytorch_lightning/loops/evaluation_loop.py:127\u001b[0m, in \u001b[0;36m_EvaluationLoop.run\u001b[0;34m(self)\u001b[0m\n\u001b[1;32m    125\u001b[0m \u001b[38;5;28;01melse\u001b[39;00m:\n\u001b[1;32m    126\u001b[0m     dataloader_iter \u001b[38;5;241m=\u001b[39m \u001b[38;5;28;01mNone\u001b[39;00m\n\u001b[0;32m--> 127\u001b[0m     batch, batch_idx, dataloader_idx \u001b[38;5;241m=\u001b[39m \u001b[38;5;28;43mnext\u001b[39;49m\u001b[43m(\u001b[49m\u001b[43mdata_fetcher\u001b[49m\u001b[43m)\u001b[49m\n\u001b[1;32m    128\u001b[0m \u001b[38;5;28;01mif\u001b[39;00m previous_dataloader_idx \u001b[38;5;241m!=\u001b[39m dataloader_idx:\n\u001b[1;32m    129\u001b[0m     \u001b[38;5;66;03m# the dataloader has changed, notify the logger connector\u001b[39;00m\n\u001b[1;32m    130\u001b[0m     \u001b[38;5;28mself\u001b[39m\u001b[38;5;241m.\u001b[39m_store_dataloader_outputs()\n",
      "File \u001b[0;32m/rds/bear-apps/2022a/EL8-ice/software/PyTorch-Lightning/2.1.0-foss-2022a-CUDA-11.7.0/lib/python3.10/site-packages/pytorch_lightning/loops/fetchers.py:127\u001b[0m, in \u001b[0;36m_PrefetchDataFetcher.__next__\u001b[0;34m(self)\u001b[0m\n\u001b[1;32m    124\u001b[0m         \u001b[38;5;28mself\u001b[39m\u001b[38;5;241m.\u001b[39mdone \u001b[38;5;241m=\u001b[39m \u001b[38;5;129;01mnot\u001b[39;00m \u001b[38;5;28mself\u001b[39m\u001b[38;5;241m.\u001b[39mbatches\n\u001b[1;32m    125\u001b[0m \u001b[38;5;28;01melif\u001b[39;00m \u001b[38;5;129;01mnot\u001b[39;00m \u001b[38;5;28mself\u001b[39m\u001b[38;5;241m.\u001b[39mdone:\n\u001b[1;32m    126\u001b[0m     \u001b[38;5;66;03m# this will run only when no pre-fetching was done.\u001b[39;00m\n\u001b[0;32m--> 127\u001b[0m     batch \u001b[38;5;241m=\u001b[39m \u001b[38;5;28;43msuper\u001b[39;49m\u001b[43m(\u001b[49m\u001b[43m)\u001b[49m\u001b[38;5;241;43m.\u001b[39;49m\u001b[38;5;21;43m__next__\u001b[39;49m\u001b[43m(\u001b[49m\u001b[43m)\u001b[49m\n\u001b[1;32m    128\u001b[0m \u001b[38;5;28;01melse\u001b[39;00m:\n\u001b[1;32m    129\u001b[0m     \u001b[38;5;66;03m# the iterator is empty\u001b[39;00m\n\u001b[1;32m    130\u001b[0m     \u001b[38;5;28;01mraise\u001b[39;00m \u001b[38;5;167;01mStopIteration\u001b[39;00m\n",
      "File \u001b[0;32m/rds/bear-apps/2022a/EL8-ice/software/PyTorch-Lightning/2.1.0-foss-2022a-CUDA-11.7.0/lib/python3.10/site-packages/pytorch_lightning/loops/fetchers.py:56\u001b[0m, in \u001b[0;36m_DataFetcher.__next__\u001b[0;34m(self)\u001b[0m\n\u001b[1;32m     54\u001b[0m \u001b[38;5;28mself\u001b[39m\u001b[38;5;241m.\u001b[39m_start_profiler()\n\u001b[1;32m     55\u001b[0m \u001b[38;5;28;01mtry\u001b[39;00m:\n\u001b[0;32m---> 56\u001b[0m     batch \u001b[38;5;241m=\u001b[39m \u001b[38;5;28;43mnext\u001b[39;49m\u001b[43m(\u001b[49m\u001b[38;5;28;43mself\u001b[39;49m\u001b[38;5;241;43m.\u001b[39;49m\u001b[43miterator\u001b[49m\u001b[43m)\u001b[49m\n\u001b[1;32m     57\u001b[0m \u001b[38;5;28;01mexcept\u001b[39;00m \u001b[38;5;167;01mStopIteration\u001b[39;00m:\n\u001b[1;32m     58\u001b[0m     \u001b[38;5;28mself\u001b[39m\u001b[38;5;241m.\u001b[39mdone \u001b[38;5;241m=\u001b[39m \u001b[38;5;28;01mTrue\u001b[39;00m\n",
      "File \u001b[0;32m/rds/bear-apps/2022a/EL8-ice/software/PyTorch-Lightning/2.1.0-foss-2022a-CUDA-11.7.0/lib/python3.10/site-packages/pytorch_lightning/utilities/combined_loader.py:326\u001b[0m, in \u001b[0;36mCombinedLoader.__next__\u001b[0;34m(self)\u001b[0m\n\u001b[1;32m    324\u001b[0m \u001b[38;5;28;01mdef\u001b[39;00m \u001b[38;5;21m__next__\u001b[39m(\u001b[38;5;28mself\u001b[39m) \u001b[38;5;241m-\u001b[39m\u001b[38;5;241m>\u001b[39m _ITERATOR_RETURN:\n\u001b[1;32m    325\u001b[0m     \u001b[38;5;28;01massert\u001b[39;00m \u001b[38;5;28mself\u001b[39m\u001b[38;5;241m.\u001b[39m_iterator \u001b[38;5;129;01mis\u001b[39;00m \u001b[38;5;129;01mnot\u001b[39;00m \u001b[38;5;28;01mNone\u001b[39;00m\n\u001b[0;32m--> 326\u001b[0m     out \u001b[38;5;241m=\u001b[39m \u001b[38;5;28;43mnext\u001b[39;49m\u001b[43m(\u001b[49m\u001b[38;5;28;43mself\u001b[39;49m\u001b[38;5;241;43m.\u001b[39;49m\u001b[43m_iterator\u001b[49m\u001b[43m)\u001b[49m\n\u001b[1;32m    327\u001b[0m     \u001b[38;5;28;01mif\u001b[39;00m \u001b[38;5;28misinstance\u001b[39m(\u001b[38;5;28mself\u001b[39m\u001b[38;5;241m.\u001b[39m_iterator, _Sequential):\n\u001b[1;32m    328\u001b[0m         \u001b[38;5;28;01mreturn\u001b[39;00m out\n",
      "File \u001b[0;32m/rds/bear-apps/2022a/EL8-ice/software/PyTorch-Lightning/2.1.0-foss-2022a-CUDA-11.7.0/lib/python3.10/site-packages/pytorch_lightning/utilities/combined_loader.py:132\u001b[0m, in \u001b[0;36m_Sequential.__next__\u001b[0;34m(self)\u001b[0m\n\u001b[1;32m    129\u001b[0m             \u001b[38;5;28;01mraise\u001b[39;00m \u001b[38;5;167;01mStopIteration\u001b[39;00m\n\u001b[1;32m    131\u001b[0m \u001b[38;5;28;01mtry\u001b[39;00m:\n\u001b[0;32m--> 132\u001b[0m     out \u001b[38;5;241m=\u001b[39m \u001b[38;5;28;43mnext\u001b[39;49m\u001b[43m(\u001b[49m\u001b[38;5;28;43mself\u001b[39;49m\u001b[38;5;241;43m.\u001b[39;49m\u001b[43miterators\u001b[49m\u001b[43m[\u001b[49m\u001b[38;5;241;43m0\u001b[39;49m\u001b[43m]\u001b[49m\u001b[43m)\u001b[49m\n\u001b[1;32m    133\u001b[0m \u001b[38;5;28;01mexcept\u001b[39;00m \u001b[38;5;167;01mStopIteration\u001b[39;00m:\n\u001b[1;32m    134\u001b[0m     \u001b[38;5;66;03m# try the next iterator\u001b[39;00m\n\u001b[1;32m    135\u001b[0m     \u001b[38;5;28mself\u001b[39m\u001b[38;5;241m.\u001b[39m_use_next_iterator()\n",
      "File \u001b[0;32m/rds/bear-apps/2022a/EL8-ice/software/PyTorch/2.0.1-foss-2022a-CUDA-11.7.0/lib/python3.10/site-packages/torch/utils/data/dataloader.py:633\u001b[0m, in \u001b[0;36m_BaseDataLoaderIter.__next__\u001b[0;34m(self)\u001b[0m\n\u001b[1;32m    630\u001b[0m \u001b[38;5;28;01mif\u001b[39;00m \u001b[38;5;28mself\u001b[39m\u001b[38;5;241m.\u001b[39m_sampler_iter \u001b[38;5;129;01mis\u001b[39;00m \u001b[38;5;28;01mNone\u001b[39;00m:\n\u001b[1;32m    631\u001b[0m     \u001b[38;5;66;03m# TODO(https://github.com/pytorch/pytorch/issues/76750)\u001b[39;00m\n\u001b[1;32m    632\u001b[0m     \u001b[38;5;28mself\u001b[39m\u001b[38;5;241m.\u001b[39m_reset()  \u001b[38;5;66;03m# type: ignore[call-arg]\u001b[39;00m\n\u001b[0;32m--> 633\u001b[0m data \u001b[38;5;241m=\u001b[39m \u001b[38;5;28;43mself\u001b[39;49m\u001b[38;5;241;43m.\u001b[39;49m\u001b[43m_next_data\u001b[49m\u001b[43m(\u001b[49m\u001b[43m)\u001b[49m\n\u001b[1;32m    634\u001b[0m \u001b[38;5;28mself\u001b[39m\u001b[38;5;241m.\u001b[39m_num_yielded \u001b[38;5;241m+\u001b[39m\u001b[38;5;241m=\u001b[39m \u001b[38;5;241m1\u001b[39m\n\u001b[1;32m    635\u001b[0m \u001b[38;5;28;01mif\u001b[39;00m \u001b[38;5;28mself\u001b[39m\u001b[38;5;241m.\u001b[39m_dataset_kind \u001b[38;5;241m==\u001b[39m _DatasetKind\u001b[38;5;241m.\u001b[39mIterable \u001b[38;5;129;01mand\u001b[39;00m \\\n\u001b[1;32m    636\u001b[0m         \u001b[38;5;28mself\u001b[39m\u001b[38;5;241m.\u001b[39m_IterableDataset_len_called \u001b[38;5;129;01mis\u001b[39;00m \u001b[38;5;129;01mnot\u001b[39;00m \u001b[38;5;28;01mNone\u001b[39;00m \u001b[38;5;129;01mand\u001b[39;00m \\\n\u001b[1;32m    637\u001b[0m         \u001b[38;5;28mself\u001b[39m\u001b[38;5;241m.\u001b[39m_num_yielded \u001b[38;5;241m>\u001b[39m \u001b[38;5;28mself\u001b[39m\u001b[38;5;241m.\u001b[39m_IterableDataset_len_called:\n",
      "File \u001b[0;32m/rds/bear-apps/2022a/EL8-ice/software/PyTorch/2.0.1-foss-2022a-CUDA-11.7.0/lib/python3.10/site-packages/torch/utils/data/dataloader.py:1328\u001b[0m, in \u001b[0;36m_MultiProcessingDataLoaderIter._next_data\u001b[0;34m(self)\u001b[0m\n\u001b[1;32m   1325\u001b[0m     \u001b[38;5;28;01mreturn\u001b[39;00m \u001b[38;5;28mself\u001b[39m\u001b[38;5;241m.\u001b[39m_process_data(data)\n\u001b[1;32m   1327\u001b[0m \u001b[38;5;28;01massert\u001b[39;00m \u001b[38;5;129;01mnot\u001b[39;00m \u001b[38;5;28mself\u001b[39m\u001b[38;5;241m.\u001b[39m_shutdown \u001b[38;5;129;01mand\u001b[39;00m \u001b[38;5;28mself\u001b[39m\u001b[38;5;241m.\u001b[39m_tasks_outstanding \u001b[38;5;241m>\u001b[39m \u001b[38;5;241m0\u001b[39m\n\u001b[0;32m-> 1328\u001b[0m idx, data \u001b[38;5;241m=\u001b[39m \u001b[38;5;28;43mself\u001b[39;49m\u001b[38;5;241;43m.\u001b[39;49m\u001b[43m_get_data\u001b[49m\u001b[43m(\u001b[49m\u001b[43m)\u001b[49m\n\u001b[1;32m   1329\u001b[0m \u001b[38;5;28mself\u001b[39m\u001b[38;5;241m.\u001b[39m_tasks_outstanding \u001b[38;5;241m-\u001b[39m\u001b[38;5;241m=\u001b[39m \u001b[38;5;241m1\u001b[39m\n\u001b[1;32m   1330\u001b[0m \u001b[38;5;28;01mif\u001b[39;00m \u001b[38;5;28mself\u001b[39m\u001b[38;5;241m.\u001b[39m_dataset_kind \u001b[38;5;241m==\u001b[39m _DatasetKind\u001b[38;5;241m.\u001b[39mIterable:\n\u001b[1;32m   1331\u001b[0m     \u001b[38;5;66;03m# Check for _IterableDatasetStopIteration\u001b[39;00m\n",
      "File \u001b[0;32m/rds/bear-apps/2022a/EL8-ice/software/PyTorch/2.0.1-foss-2022a-CUDA-11.7.0/lib/python3.10/site-packages/torch/utils/data/dataloader.py:1294\u001b[0m, in \u001b[0;36m_MultiProcessingDataLoaderIter._get_data\u001b[0;34m(self)\u001b[0m\n\u001b[1;32m   1290\u001b[0m     \u001b[38;5;66;03m# In this case, `self._data_queue` is a `queue.Queue`,. But we don't\u001b[39;00m\n\u001b[1;32m   1291\u001b[0m     \u001b[38;5;66;03m# need to call `.task_done()` because we don't use `.join()`.\u001b[39;00m\n\u001b[1;32m   1292\u001b[0m \u001b[38;5;28;01melse\u001b[39;00m:\n\u001b[1;32m   1293\u001b[0m     \u001b[38;5;28;01mwhile\u001b[39;00m \u001b[38;5;28;01mTrue\u001b[39;00m:\n\u001b[0;32m-> 1294\u001b[0m         success, data \u001b[38;5;241m=\u001b[39m \u001b[38;5;28;43mself\u001b[39;49m\u001b[38;5;241;43m.\u001b[39;49m\u001b[43m_try_get_data\u001b[49m\u001b[43m(\u001b[49m\u001b[43m)\u001b[49m\n\u001b[1;32m   1295\u001b[0m         \u001b[38;5;28;01mif\u001b[39;00m success:\n\u001b[1;32m   1296\u001b[0m             \u001b[38;5;28;01mreturn\u001b[39;00m data\n",
      "File \u001b[0;32m/rds/bear-apps/2022a/EL8-ice/software/PyTorch/2.0.1-foss-2022a-CUDA-11.7.0/lib/python3.10/site-packages/torch/utils/data/dataloader.py:1145\u001b[0m, in \u001b[0;36m_MultiProcessingDataLoaderIter._try_get_data\u001b[0;34m(self, timeout)\u001b[0m\n\u001b[1;32m   1143\u001b[0m \u001b[38;5;28;01mif\u001b[39;00m \u001b[38;5;28mlen\u001b[39m(failed_workers) \u001b[38;5;241m>\u001b[39m \u001b[38;5;241m0\u001b[39m:\n\u001b[1;32m   1144\u001b[0m     pids_str \u001b[38;5;241m=\u001b[39m \u001b[38;5;124m'\u001b[39m\u001b[38;5;124m, \u001b[39m\u001b[38;5;124m'\u001b[39m\u001b[38;5;241m.\u001b[39mjoin(\u001b[38;5;28mstr\u001b[39m(w\u001b[38;5;241m.\u001b[39mpid) \u001b[38;5;28;01mfor\u001b[39;00m w \u001b[38;5;129;01min\u001b[39;00m failed_workers)\n\u001b[0;32m-> 1145\u001b[0m     \u001b[38;5;28;01mraise\u001b[39;00m \u001b[38;5;167;01mRuntimeError\u001b[39;00m(\u001b[38;5;124m'\u001b[39m\u001b[38;5;124mDataLoader worker (pid(s) \u001b[39m\u001b[38;5;132;01m{}\u001b[39;00m\u001b[38;5;124m) exited unexpectedly\u001b[39m\u001b[38;5;124m'\u001b[39m\u001b[38;5;241m.\u001b[39mformat(pids_str)) \u001b[38;5;28;01mfrom\u001b[39;00m \u001b[38;5;21;01me\u001b[39;00m\n\u001b[1;32m   1146\u001b[0m \u001b[38;5;28;01mif\u001b[39;00m \u001b[38;5;28misinstance\u001b[39m(e, queue\u001b[38;5;241m.\u001b[39mEmpty):\n\u001b[1;32m   1147\u001b[0m     \u001b[38;5;28;01mreturn\u001b[39;00m (\u001b[38;5;28;01mFalse\u001b[39;00m, \u001b[38;5;28;01mNone\u001b[39;00m)\n",
      "\u001b[0;31mRuntimeError\u001b[0m: DataLoader worker (pid(s) 1327186, 1327249, 1327312, 1327375, 1327438, 1327501, 1327564, 1327627, 1327690, 1327753, 1327816, 1327879) exited unexpectedly"
     ]
    }
   ],
   "source": [
    "pre_trained_models = [\"CR_11M_24_11_01_big_posencscale_\", \"NULL\"]\n",
    "experiments = [\"hypertension\", \"cvd\"] \n",
    "\n",
    "for pre_trained_model in pre_trained_models:\n",
    "\n",
    "    for experiment in experiments:\n",
    "    \n",
    "        # load the configuration file, override any settings \n",
    "        with initialize(version_base=None, config_path=\"../../../confs\", job_name=\"testing_notebook\"):\n",
    "            cfg = compose(config_name=\"config_CompetingRisk37M\", \n",
    "                          overrides=[# Experiment setup\n",
    "                                     \"experiment.type='few-shot'\",\n",
    "                                     f\"experiment.run_id='{pre_trained_model}'\",\n",
    "                                     f\"experiment.fine_tune_id='{experiment}-few-shot-cr4'\",\n",
    "                                     \"experiment.train=True\",\n",
    "                                     \"experiment.test=True\",\n",
    "                                     # Dataloader\n",
    "                                     \"data.meta_information_path=/rds/projects/g/gokhalkm-optimal/OPTIMAL_MASTER_DATASET/data/FoundationalModel/PreTrain/meta_information_QuantJenny.pickle\",\n",
    "                                     \"data.min_workers=12\",\n",
    "                                     # Optimiser\n",
    "                                     \"optim.num_epochs=50\",\n",
    "                                     \"optim.limit_test_batches=null\",\n",
    "                                     \"optim.scheduler=ReduceOnPlateau\",\n",
    "                                     \"optim.scheduler_warmup=False\",\n",
    "                                     # \"optim.scheduler_periods=250\",\n",
    "                                     \"optim.learning_rate=3e-4\",\n",
    "                                     \"optim.val_check_interval=5\",\n",
    "                                     \"optim.early_stop=True\",\n",
    "                                     \"optim.early_stop_patience=20\",\n",
    "                                     # Head\n",
    "                                     \"head.surv_weight=1\",\n",
    "                                     \"head.value_weight=0\",\n",
    "                                    ]\n",
    "                         )     \n",
    "    \n",
    "        \n",
    "        match experiment.lower():\n",
    "            case \"cvd\":\n",
    "                cfg.data.path_to_ds=\"/rds/projects/g/gokhalkm-optimal/OPTIMAL_MASTER_DATASET/data/FoundationalModel/FineTune_CVD/\"\n",
    "                cfg.experiment.fine_tune_outcomes=[\"IHDINCLUDINGMI_OPTIMALV2\", \"ISCHAEMICSTROKE_V2\", \"MINFARCTION\", \"STROKEUNSPECIFIED_V2\", \"STROKE_HAEMRGIC\"]\n",
    "            case \"hypertension\":\n",
    "                cfg.data.path_to_ds=\"/rds/projects/g/gokhalkm-optimal/OPTIMAL_MASTER_DATASET/data/FoundationalModel/FineTune_Hypertension/\"\n",
    "                cfg.experiment.fine_tune_outcomes=[\"HYPERTENSION\"]\n",
    "                \n",
    "        wandb.finish()\n",
    "        experiment, dm = run(cfg)\n",
    "        print(f\"Loaded model with {sum(p.numel() for p in experiment.model.parameters())/1e6} M parameters\")\n",
    "        wandb.finish()\n"
   ]
  },
  {
   "cell_type": "markdown",
   "id": "16fb99aa-5e7a-4889-9feb-cc20b3c21acf",
   "metadata": {},
   "source": [
    "Subsets of data"
   ]
  },
  {
   "cell_type": "code",
   "execution_count": 6,
   "id": "63e00688-1426-4046-910c-45bde94db899",
   "metadata": {
    "scrolled": true
   },
   "outputs": [
    {
     "data": {
      "text/html": [
       "Waiting for W&B process to finish... <strong style=\"color:green\">(success).</strong>"
      ],
      "text/plain": [
       "<IPython.core.display.HTML object>"
      ]
     },
     "metadata": {},
     "output_type": "display_data"
    },
    {
     "data": {
      "application/vnd.jupyter.widget-view+json": {
       "model_id": "5f661366b7c84095b721f5563d04132b",
       "version_major": 2,
       "version_minor": 0
      },
      "text/plain": [
       "VBox(children=(Label(value='0.008 MB of 0.031 MB uploaded (0.000 MB deduped)\\r'), FloatProgress(value=0.265035…"
      ]
     },
     "metadata": {},
     "output_type": "display_data"
    },
    {
     "data": {
      "text/html": [
       "<style>\n",
       "    table.wandb td:nth-child(1) { padding: 0 10px; text-align: left ; width: auto;} td:nth-child(2) {text-align: left ; width: 100%}\n",
       "    .wandb-row { display: flex; flex-direction: row; flex-wrap: wrap; justify-content: flex-start; width: 100% }\n",
       "    .wandb-col { display: flex; flex-direction: column; flex-basis: 100%; flex: 1; padding: 10px; }\n",
       "    </style>\n",
       "<div class=\"wandb-row\"><div class=\"wandb-col\"><h3>Run history:</h3><br/><table class=\"wandb\"><tr><td>Scheduler</td><td>▁▁▁▁▁▁▁▁▁▁▁</td></tr><tr><td>Val:OutcomePerformanceMetricsctd</td><td>▁▂▂▂▂▂▂▂▂▂▂▂▂▂▂▂▂▃▃▃▃▃▄▄▄▄▅▆▆▆▆▆▇▇▇██▇▇█</td></tr><tr><td>Val:OutcomePerformanceMetricsibs</td><td>████▇▇▇▅▅▄▄▃▃▃▃▃▃▃▃▃▂▂▂▂▂▂▂▂▂▂▁▁▂▂▁▁▁▁▁▁</td></tr><tr><td>Val:OutcomePerformanceMetricsinbll</td><td>█▇▆▅▄▃▃▂▂▂▂▁▁▁▁▁▁▁▁▁▁▁▁▁▁▁▁▁▁▁▁▁▁▁▁▁▁▁▁▁</td></tr><tr><td>epoch</td><td>▁▁▁▁▂▂▂▂▂▃▃▃▃▃▄▄▄▄▄▅▅▅▅▅▅▅▆▆▆▆▆▆▇▇▇▇▇███</td></tr><tr><td>train_loss</td><td>█▄▃▃▂▃▂▃▁▂▂</td></tr><tr><td>trainer/global_step</td><td>▁▁▁▁▂▂▂▂▂▃▃▃▃▃▃▄▄▄▄▄▅▅▅▅▅▅▆▆▆▆▆▆▇▇▇▇▇███</td></tr><tr><td>val_loss</td><td>█▆▅▄▃▃▂▂▂▂▁▁▁▁▁▁▁▁▁▁▁▁▁▁▁▁▁▁▁▁▁▁▁▁▁▁▁▁▁▁</td></tr></table><br/></div><div class=\"wandb-col\"><h3>Run summary:</h3><br/><table class=\"wandb\"><tr><td>Scheduler</td><td>0.001</td></tr><tr><td>Val:OutcomePerformanceMetricsctd</td><td>0.48775</td></tr><tr><td>Val:OutcomePerformanceMetricsibs</td><td>0.08782</td></tr><tr><td>Val:OutcomePerformanceMetricsinbll</td><td>0.33684</td></tr><tr><td>epoch</td><td>22</td></tr><tr><td>train_loss</td><td>1.63691</td></tr><tr><td>trainer/global_step</td><td>229</td></tr><tr><td>val_loss</td><td>2.57015</td></tr></table><br/></div></div>"
      ],
      "text/plain": [
       "<IPython.core.display.HTML object>"
      ]
     },
     "metadata": {},
     "output_type": "display_data"
    },
    {
     "data": {
      "text/html": [
       "Synced <strong style=\"color:#cdcd00\">CR_11M_24_11_01_big_posencscale__hypertension-few-shot-cr2</strong>: <a href=\"https://wandb.ai/cwlgadd/SurvivEHR/runs/1558yhrr\" target=\"_blank\">https://wandb.ai/cwlgadd/SurvivEHR/runs/1558yhrr</a><br/>Synced 5 W&B file(s), 0 media file(s), 0 artifact file(s) and 0 other file(s)"
      ],
      "text/plain": [
       "<IPython.core.display.HTML object>"
      ]
     },
     "metadata": {},
     "output_type": "display_data"
    },
    {
     "data": {
      "text/html": [
       "Find logs at: <code>/rds/projects/s/subramaa-mum-predict/CharlesGadd_Oxford/FoundationModelOutput/wandb/run-20241116_154045-1558yhrr/logs</code>"
      ],
      "text/plain": [
       "<IPython.core.display.HTML object>"
      ]
     },
     "metadata": {},
     "output_type": "display_data"
    },
    {
     "name": "stderr",
     "output_type": "stream",
     "text": [
      "INFO:root:Running cr on 72 CPUs and 1 GPUs\n",
      "INFO:root:====================================================================================================\n",
      "INFO:root:# Loading DataModule for dataset /rds/projects/g/gokhalkm-optimal/OPTIMAL_MASTER_DATASET/data/FoundationalModel/FineTune_Hypertension/. This will be loaded in supervised form.\n",
      "INFO:root:====================================================================================================\n",
      "INFO:root:Creating supervised collator for DataModule\n",
      "INFO:root:Using meta information from /rds/projects/g/gokhalkm-optimal/OPTIMAL_MASTER_DATASET/data/FoundationalModel/PreTrain/meta_information_QuantJenny.pickle\n",
      "INFO:root:Using train file-row count dictionary from /rds/projects/g/gokhalkm-optimal/OPTIMAL_MASTER_DATASET/data/FoundationalModel/FineTune_Hypertension/file_row_count_dict_train.pickle\n",
      "INFO:root:Using test file-row count dictionary from /rds/projects/g/gokhalkm-optimal/OPTIMAL_MASTER_DATASET/data/FoundationalModel/FineTune_Hypertension/file_row_count_dict_test.pickle\n",
      "INFO:root:Using val file-row count dictionary from /rds/projects/g/gokhalkm-optimal/OPTIMAL_MASTER_DATASET/data/FoundationalModel/FineTune_Hypertension/file_row_count_dict_val.pickle\n",
      "INFO:root:Tokenzier created based on 7,555,415,275 tokens\n",
      "INFO:root:Using tabular tokenizer, created from meta information and containing 265 tokens\n",
      "INFO:root:Loaded /rds/projects/g/gokhalkm-optimal/OPTIMAL_MASTER_DATASET/data/FoundationalModel/FineTune_Hypertension/split=train/ dataset, with 600 subsamples\n",
      "INFO:root:Loaded /rds/projects/g/gokhalkm-optimal/OPTIMAL_MASTER_DATASET/data/FoundationalModel/FineTune_Hypertension/split=test/ dataset, with 35,758 samples\n",
      "INFO:root:Loaded /rds/projects/g/gokhalkm-optimal/OPTIMAL_MASTER_DATASET/data/FoundationalModel/FineTune_Hypertension/split=val/ dataset, with 33,280 samples\n",
      "INFO:root:is_decoder: true\n",
      "data:\n",
      "  batch_size: 64\n",
      "  unk_freq_threshold: 0.0\n",
      "  min_workers: 12\n",
      "  global_diagnoses: false\n",
      "  path_to_db: /rds/projects/g/gokhalkm-optimal/OPTIMAL_MASTER_DATASET/data/FoundationalModel/\n",
      "  path_to_ds: /rds/projects/g/gokhalkm-optimal/OPTIMAL_MASTER_DATASET/data/FoundationalModel/FineTune_Hypertension/\n",
      "  meta_information_path: /rds/projects/g/gokhalkm-optimal/OPTIMAL_MASTER_DATASET/data/FoundationalModel/PreTrain/meta_information_QuantJenny.pickle\n",
      "  subsample_training: 600\n",
      "experiment:\n",
      "  type: few-shot\n",
      "  project_name: SurvivEHR\n",
      "  run_id: CR_11M_24_11_01_big_posencscale_\n",
      "  fine_tune_id: hypertension-few-shot-cr3\n",
      "  train: true\n",
      "  test: true\n",
      "  verbose: true\n",
      "  seed: 1337\n",
      "  log: true\n",
      "  log_dir: /rds/projects/s/subramaa-mum-predict/CharlesGadd_Oxford/FoundationModelOutput/\n",
      "  ckpt_dir: /rds/projects/s/subramaa-mum-predict/CharlesGadd_Oxford/FoundationModelOutput/checkpoints/\n",
      "  fine_tune_outcomes:\n",
      "  - HYPERTENSION\n",
      "optim:\n",
      "  num_epochs: 50\n",
      "  learning_rate: 0.0003\n",
      "  scheduler_warmup: false\n",
      "  scheduler: ReduceOnPlateau\n",
      "  scheduler_periods: 10000\n",
      "  learning_rate_decay: 0.8\n",
      "  val_check_interval: 5\n",
      "  early_stop: true\n",
      "  early_stop_patience: 20\n",
      "  log_every_n_steps: 20\n",
      "  limit_val_batches: 0.025\n",
      "  limit_test_batches: null\n",
      "transformer:\n",
      "  block_type: Neo\n",
      "  block_size: 256\n",
      "  n_layer: 10\n",
      "  n_head: 8\n",
      "  n_embd: 1024\n",
      "  layer_norm_bias: false\n",
      "  attention_type: global\n",
      "  bias: true\n",
      "  dropout: 0.0\n",
      "  attention_dropout: 0.0\n",
      "  resid_dropout: 0.0\n",
      "  private_heads: 0\n",
      "head:\n",
      "  SurvLayer: cr\n",
      "  surv_weight: 1\n",
      "  tokens_for_univariate_regression:\n",
      "  - 84\n",
      "  - 86\n",
      "  - 107\n",
      "  - 154\n",
      "  - 42\n",
      "  - 231\n",
      "  - 63\n",
      "  - 85\n",
      "  - 247\n",
      "  - 51\n",
      "  - 103\n",
      "  - 146\n",
      "  - 66\n",
      "  - 172\n",
      "  - 152\n",
      "  - 261\n",
      "  - 235\n",
      "  - 193\n",
      "  - 184\n",
      "  - 101\n",
      "  - 223\n",
      "  - 135\n",
      "  - 226\n",
      "  - 202\n",
      "  - 145\n",
      "  - 244\n",
      "  - 165\n",
      "  - 64\n",
      "  - 185\n",
      "  - 238\n",
      "  - 220\n",
      "  - 232\n",
      "  - 240\n",
      "  - 237\n",
      "  - 17\n",
      "  - 239\n",
      "  - 217\n",
      "  - 118\n",
      "  - 219\n",
      "  - 251\n",
      "  - 25\n",
      "  - 150\n",
      "  - 111\n",
      "  - 102\n",
      "  - 15\n",
      "  - 110\n",
      "  - 130\n",
      "  - 128\n",
      "  - 122\n",
      "  - 99\n",
      "  - 77\n",
      "  - 96\n",
      "  - 140\n",
      "  - 50\n",
      "  - 80\n",
      "  - 108\n",
      "  - 138\n",
      "  - 27\n",
      "  - 139\n",
      "  - 125\n",
      "  - 117\n",
      "  - 105\n",
      "  - 109\n",
      "  - 243\n",
      "  - 236\n",
      "  - 208\n",
      "  - 98\n",
      "  - 176\n",
      "  - 209\n",
      "  - 194\n",
      "  - 61\n",
      "  - 73\n",
      "  - 214\n",
      "  - 206\n",
      "  - 229\n",
      "  - 225\n",
      "  - 183\n",
      "  - 186\n",
      "  - 215\n",
      "  - 187\n",
      "  - 248\n",
      "  - 179\n",
      "  - 163\n",
      "  - 180\n",
      "  - 181\n",
      "  - 153\n",
      "  - 245\n",
      "  - 54\n",
      "  - 246\n",
      "  - 112\n",
      "  - 212\n",
      "  - 141\n",
      "  - 204\n",
      "  - 227\n",
      "  - 173\n",
      "  - 55\n",
      "  - 119\n",
      "  - 262\n",
      "  - 127\n",
      "  - 71\n",
      "  - 59\n",
      "  - 144\n",
      "  - 113\n",
      "  - 170\n",
      "  - 241\n",
      "  - 168\n",
      "  - 47\n",
      "  - 159\n",
      "  value_weight: 0\n",
      "\n",
      "INFO:root:====================================================================================================\n",
      "INFO:root:# Few-shot learning experiment.\n",
      "INFO:root:====================================================================================================\n",
      "INFO:root:Creating new few-shot model at the path /rds/projects/s/subramaa-mum-predict/CharlesGadd_Oxford/FoundationModelOutput/checkpoints/CR_11M_24_11_01_big_posencscale__hypertension-few-shot-cr3.ckpt. This is initialised from a pre-trained causal model, which can be found at checkpoint /rds/projects/s/subramaa-mum-predict/CharlesGadd_Oxford/FoundationModelOutput/checkpoints/CR_11M_24_11_01_big_posencscale_.ckpt.\n",
      "INFO:root:Running few-shot experiment with outcomes {'HYPERTENSION': 129}\n",
      "INFO:root:Loading from checkpoint\n",
      "INFO:root:Using Temporal Positional Encoding. This module uses the patient's age at an event within their time series.\n",
      "INFO:root:Using Competing-Risk DeSurv head.\n",
      "INFO:root:In generation forwarding DeSurv on the grid between [0.0, 1.0] with 1000 intervals\n",
      "INFO:root:Fixing Transformer parameters and training only head.\n",
      "INFO:root:Re-initialising survival head weights\n",
      "INFO:root:Re-initialising survival head parameters.\n",
      "GPU available: True (cuda), used: True\n",
      "TPU available: False, using: 0 TPU cores\n",
      "IPU available: False, using: 0 IPUs\n",
      "HPU available: False, using: 0 HPUs\n",
      "INFO:root:Training model.\n"
     ]
    },
    {
     "data": {
      "text/html": [
       "wandb version 0.18.7 is available!  To upgrade, please run:\n",
       " $ pip install wandb --upgrade"
      ],
      "text/plain": [
       "<IPython.core.display.HTML object>"
      ]
     },
     "metadata": {},
     "output_type": "display_data"
    },
    {
     "data": {
      "text/html": [
       "Tracking run with wandb version 0.13.6"
      ],
      "text/plain": [
       "<IPython.core.display.HTML object>"
      ]
     },
     "metadata": {},
     "output_type": "display_data"
    },
    {
     "data": {
      "text/html": [
       "Run data is saved locally in <code>/rds/projects/s/subramaa-mum-predict/CharlesGadd_Oxford/FoundationModelOutput/wandb/run-20241116_155211-wiqgjjrw</code>"
      ],
      "text/plain": [
       "<IPython.core.display.HTML object>"
      ]
     },
     "metadata": {},
     "output_type": "display_data"
    },
    {
     "data": {
      "text/html": [
       "Syncing run <strong><a href=\"https://wandb.ai/cwlgadd/SurvivEHR/runs/wiqgjjrw\" target=\"_blank\">CR_11M_24_11_01_big_posencscale__hypertension-few-shot-cr3</a></strong> to <a href=\"https://wandb.ai/cwlgadd/SurvivEHR\" target=\"_blank\">Weights & Biases</a> (<a href=\"https://wandb.me/run\" target=\"_blank\">docs</a>)<br/>"
      ],
      "text/plain": [
       "<IPython.core.display.HTML object>"
      ]
     },
     "metadata": {},
     "output_type": "display_data"
    },
    {
     "name": "stderr",
     "output_type": "stream",
     "text": [
      "/rds/bear-apps/2022a/EL8-ice/software/PyTorch-Lightning/2.1.0-foss-2022a-CUDA-11.7.0/lib/python3.10/site-packages/pytorch_lightning/callbacks/model_checkpoint.py:630: Checkpoint directory /rds/projects/s/subramaa-mum-predict/CharlesGadd_Oxford/FoundationModelOutput/checkpoints exists and is not empty.\n",
      "LOCAL_RANK: 0 - CUDA_VISIBLE_DEVICES: [0]\n",
      "INFO:root:Using ReduceLROnPlateau scheduler\n",
      "INFO:root:Not using warm-up in scheduler\n",
      "\n",
      "  | Name  | Type                            | Params\n",
      "----------------------------------------------------------\n",
      "0 | model | SurvStreamGPTForCausalModelling | 129 M \n",
      "----------------------------------------------------------\n",
      "541 K     Trainable params\n",
      "128 M     Non-trainable params\n",
      "129 M     Total params\n",
      "517.425   Total estimated model params size (MB)\n",
      "SLURM auto-requeueing enabled. Setting signal handlers.\n"
     ]
    },
    {
     "data": {
      "application/vnd.jupyter.widget-view+json": {
       "model_id": "",
       "version_major": 2,
       "version_minor": 0
      },
      "text/plain": [
       "Sanity Checking: |          | 0/? [00:00<?, ?it/s]"
      ]
     },
     "metadata": {},
     "output_type": "display_data"
    },
    {
     "name": "stderr",
     "output_type": "stream",
     "text": [
      "/rds/bear-apps/2022a/EL8-ice/software/PyTorch-Lightning/2.1.0-foss-2022a-CUDA-11.7.0/lib/python3.10/site-packages/pytorch_lightning/loops/fit_loop.py:293: The number of training batches (10) is smaller than the logging interval Trainer(log_every_n_steps=20). Set a lower value for log_every_n_steps if you want to see logs for the training epoch.\n"
     ]
    },
    {
     "data": {
      "application/vnd.jupyter.widget-view+json": {
       "model_id": "cef0df80bde74a8db276c2e2cb77d51d",
       "version_major": 2,
       "version_minor": 0
      },
      "text/plain": [
       "Training: |          | 0/? [00:00<?, ?it/s]"
      ]
     },
     "metadata": {},
     "output_type": "display_data"
    },
    {
     "data": {
      "application/vnd.jupyter.widget-view+json": {
       "model_id": "",
       "version_major": 2,
       "version_minor": 0
      },
      "text/plain": [
       "Validation: |          | 0/? [00:00<?, ?it/s]"
      ]
     },
     "metadata": {},
     "output_type": "display_data"
    },
    {
     "name": "stderr",
     "output_type": "stream",
     "text": [
      "Metric val_loss improved. New best score: 6.577\n",
      "Epoch 0, global step 5: 'val_loss' reached 6.57685 (best 6.57685), saving model to '/rds/projects/s/subramaa-mum-predict/CharlesGadd_Oxford/FoundationModelOutput/checkpoints/CR_11M_24_11_01_big_posencscale__hypertension-few-shot-cr3.ckpt' as top 1\n"
     ]
    },
    {
     "data": {
      "application/vnd.jupyter.widget-view+json": {
       "model_id": "",
       "version_major": 2,
       "version_minor": 0
      },
      "text/plain": [
       "Validation: |          | 0/? [00:00<?, ?it/s]"
      ]
     },
     "metadata": {},
     "output_type": "display_data"
    },
    {
     "name": "stderr",
     "output_type": "stream",
     "text": [
      "Metric val_loss improved by 0.280 >= min_delta = 0. New best score: 6.297\n",
      "Epoch 0, global step 10: 'val_loss' reached 6.29693 (best 6.29693), saving model to '/rds/projects/s/subramaa-mum-predict/CharlesGadd_Oxford/FoundationModelOutput/checkpoints/CR_11M_24_11_01_big_posencscale__hypertension-few-shot-cr3.ckpt' as top 1\n"
     ]
    },
    {
     "data": {
      "application/vnd.jupyter.widget-view+json": {
       "model_id": "",
       "version_major": 2,
       "version_minor": 0
      },
      "text/plain": [
       "Validation: |          | 0/? [00:00<?, ?it/s]"
      ]
     },
     "metadata": {},
     "output_type": "display_data"
    },
    {
     "name": "stderr",
     "output_type": "stream",
     "text": [
      "Metric val_loss improved by 0.269 >= min_delta = 0. New best score: 6.028\n",
      "Epoch 1, global step 15: 'val_loss' reached 6.02756 (best 6.02756), saving model to '/rds/projects/s/subramaa-mum-predict/CharlesGadd_Oxford/FoundationModelOutput/checkpoints/CR_11M_24_11_01_big_posencscale__hypertension-few-shot-cr3.ckpt' as top 1\n"
     ]
    },
    {
     "data": {
      "application/vnd.jupyter.widget-view+json": {
       "model_id": "",
       "version_major": 2,
       "version_minor": 0
      },
      "text/plain": [
       "Validation: |          | 0/? [00:00<?, ?it/s]"
      ]
     },
     "metadata": {},
     "output_type": "display_data"
    },
    {
     "name": "stderr",
     "output_type": "stream",
     "text": [
      "Metric val_loss improved by 0.259 >= min_delta = 0. New best score: 5.768\n",
      "Epoch 1, global step 20: 'val_loss' reached 5.76816 (best 5.76816), saving model to '/rds/projects/s/subramaa-mum-predict/CharlesGadd_Oxford/FoundationModelOutput/checkpoints/CR_11M_24_11_01_big_posencscale__hypertension-few-shot-cr3.ckpt' as top 1\n"
     ]
    },
    {
     "data": {
      "application/vnd.jupyter.widget-view+json": {
       "model_id": "",
       "version_major": 2,
       "version_minor": 0
      },
      "text/plain": [
       "Validation: |          | 0/? [00:00<?, ?it/s]"
      ]
     },
     "metadata": {},
     "output_type": "display_data"
    },
    {
     "name": "stderr",
     "output_type": "stream",
     "text": [
      "Metric val_loss improved by 0.245 >= min_delta = 0. New best score: 5.524\n",
      "Epoch 2, global step 25: 'val_loss' reached 5.52360 (best 5.52360), saving model to '/rds/projects/s/subramaa-mum-predict/CharlesGadd_Oxford/FoundationModelOutput/checkpoints/CR_11M_24_11_01_big_posencscale__hypertension-few-shot-cr3.ckpt' as top 1\n"
     ]
    },
    {
     "data": {
      "application/vnd.jupyter.widget-view+json": {
       "model_id": "",
       "version_major": 2,
       "version_minor": 0
      },
      "text/plain": [
       "Validation: |          | 0/? [00:00<?, ?it/s]"
      ]
     },
     "metadata": {},
     "output_type": "display_data"
    },
    {
     "name": "stderr",
     "output_type": "stream",
     "text": [
      "Metric val_loss improved by 0.234 >= min_delta = 0. New best score: 5.290\n",
      "Epoch 2, global step 30: 'val_loss' reached 5.28986 (best 5.28986), saving model to '/rds/projects/s/subramaa-mum-predict/CharlesGadd_Oxford/FoundationModelOutput/checkpoints/CR_11M_24_11_01_big_posencscale__hypertension-few-shot-cr3.ckpt' as top 1\n"
     ]
    },
    {
     "data": {
      "application/vnd.jupyter.widget-view+json": {
       "model_id": "",
       "version_major": 2,
       "version_minor": 0
      },
      "text/plain": [
       "Validation: |          | 0/? [00:00<?, ?it/s]"
      ]
     },
     "metadata": {},
     "output_type": "display_data"
    },
    {
     "name": "stderr",
     "output_type": "stream",
     "text": [
      "Metric val_loss improved by 0.220 >= min_delta = 0. New best score: 5.070\n",
      "Epoch 3, global step 35: 'val_loss' reached 5.07036 (best 5.07036), saving model to '/rds/projects/s/subramaa-mum-predict/CharlesGadd_Oxford/FoundationModelOutput/checkpoints/CR_11M_24_11_01_big_posencscale__hypertension-few-shot-cr3.ckpt' as top 1\n"
     ]
    },
    {
     "data": {
      "application/vnd.jupyter.widget-view+json": {
       "model_id": "",
       "version_major": 2,
       "version_minor": 0
      },
      "text/plain": [
       "Validation: |          | 0/? [00:00<?, ?it/s]"
      ]
     },
     "metadata": {},
     "output_type": "display_data"
    },
    {
     "name": "stderr",
     "output_type": "stream",
     "text": [
      "Metric val_loss improved by 0.206 >= min_delta = 0. New best score: 4.864\n",
      "Epoch 3, global step 40: 'val_loss' reached 4.86434 (best 4.86434), saving model to '/rds/projects/s/subramaa-mum-predict/CharlesGadd_Oxford/FoundationModelOutput/checkpoints/CR_11M_24_11_01_big_posencscale__hypertension-few-shot-cr3.ckpt' as top 1\n"
     ]
    },
    {
     "data": {
      "application/vnd.jupyter.widget-view+json": {
       "model_id": "",
       "version_major": 2,
       "version_minor": 0
      },
      "text/plain": [
       "Validation: |          | 0/? [00:00<?, ?it/s]"
      ]
     },
     "metadata": {},
     "output_type": "display_data"
    },
    {
     "name": "stderr",
     "output_type": "stream",
     "text": [
      "Metric val_loss improved by 0.192 >= min_delta = 0. New best score: 4.673\n",
      "Epoch 4, global step 45: 'val_loss' reached 4.67256 (best 4.67256), saving model to '/rds/projects/s/subramaa-mum-predict/CharlesGadd_Oxford/FoundationModelOutput/checkpoints/CR_11M_24_11_01_big_posencscale__hypertension-few-shot-cr3.ckpt' as top 1\n"
     ]
    },
    {
     "data": {
      "application/vnd.jupyter.widget-view+json": {
       "model_id": "",
       "version_major": 2,
       "version_minor": 0
      },
      "text/plain": [
       "Validation: |          | 0/? [00:00<?, ?it/s]"
      ]
     },
     "metadata": {},
     "output_type": "display_data"
    },
    {
     "name": "stderr",
     "output_type": "stream",
     "text": [
      "Metric val_loss improved by 0.176 >= min_delta = 0. New best score: 4.496\n",
      "Epoch 4, global step 50: 'val_loss' reached 4.49622 (best 4.49622), saving model to '/rds/projects/s/subramaa-mum-predict/CharlesGadd_Oxford/FoundationModelOutput/checkpoints/CR_11M_24_11_01_big_posencscale__hypertension-few-shot-cr3.ckpt' as top 1\n"
     ]
    },
    {
     "data": {
      "application/vnd.jupyter.widget-view+json": {
       "model_id": "",
       "version_major": 2,
       "version_minor": 0
      },
      "text/plain": [
       "Validation: |          | 0/? [00:00<?, ?it/s]"
      ]
     },
     "metadata": {},
     "output_type": "display_data"
    },
    {
     "name": "stderr",
     "output_type": "stream",
     "text": [
      "Metric val_loss improved by 0.161 >= min_delta = 0. New best score: 4.335\n",
      "Epoch 5, global step 55: 'val_loss' reached 4.33534 (best 4.33534), saving model to '/rds/projects/s/subramaa-mum-predict/CharlesGadd_Oxford/FoundationModelOutput/checkpoints/CR_11M_24_11_01_big_posencscale__hypertension-few-shot-cr3.ckpt' as top 1\n"
     ]
    },
    {
     "data": {
      "application/vnd.jupyter.widget-view+json": {
       "model_id": "",
       "version_major": 2,
       "version_minor": 0
      },
      "text/plain": [
       "Validation: |          | 0/? [00:00<?, ?it/s]"
      ]
     },
     "metadata": {},
     "output_type": "display_data"
    },
    {
     "name": "stderr",
     "output_type": "stream",
     "text": [
      "Metric val_loss improved by 0.146 >= min_delta = 0. New best score: 4.190\n",
      "Epoch 5, global step 60: 'val_loss' reached 4.18951 (best 4.18951), saving model to '/rds/projects/s/subramaa-mum-predict/CharlesGadd_Oxford/FoundationModelOutput/checkpoints/CR_11M_24_11_01_big_posencscale__hypertension-few-shot-cr3.ckpt' as top 1\n"
     ]
    },
    {
     "data": {
      "application/vnd.jupyter.widget-view+json": {
       "model_id": "",
       "version_major": 2,
       "version_minor": 0
      },
      "text/plain": [
       "Validation: |          | 0/? [00:00<?, ?it/s]"
      ]
     },
     "metadata": {},
     "output_type": "display_data"
    },
    {
     "name": "stderr",
     "output_type": "stream",
     "text": [
      "Metric val_loss improved by 0.134 >= min_delta = 0. New best score: 4.056\n",
      "Epoch 6, global step 65: 'val_loss' reached 4.05554 (best 4.05554), saving model to '/rds/projects/s/subramaa-mum-predict/CharlesGadd_Oxford/FoundationModelOutput/checkpoints/CR_11M_24_11_01_big_posencscale__hypertension-few-shot-cr3.ckpt' as top 1\n"
     ]
    },
    {
     "data": {
      "application/vnd.jupyter.widget-view+json": {
       "model_id": "",
       "version_major": 2,
       "version_minor": 0
      },
      "text/plain": [
       "Validation: |          | 0/? [00:00<?, ?it/s]"
      ]
     },
     "metadata": {},
     "output_type": "display_data"
    },
    {
     "name": "stderr",
     "output_type": "stream",
     "text": [
      "Metric val_loss improved by 0.121 >= min_delta = 0. New best score: 3.935\n",
      "Epoch 6, global step 70: 'val_loss' reached 3.93478 (best 3.93478), saving model to '/rds/projects/s/subramaa-mum-predict/CharlesGadd_Oxford/FoundationModelOutput/checkpoints/CR_11M_24_11_01_big_posencscale__hypertension-few-shot-cr3.ckpt' as top 1\n"
     ]
    },
    {
     "data": {
      "application/vnd.jupyter.widget-view+json": {
       "model_id": "",
       "version_major": 2,
       "version_minor": 0
      },
      "text/plain": [
       "Validation: |          | 0/? [00:00<?, ?it/s]"
      ]
     },
     "metadata": {},
     "output_type": "display_data"
    },
    {
     "name": "stderr",
     "output_type": "stream",
     "text": [
      "Metric val_loss improved by 0.108 >= min_delta = 0. New best score: 3.827\n",
      "Epoch 7, global step 75: 'val_loss' reached 3.82714 (best 3.82714), saving model to '/rds/projects/s/subramaa-mum-predict/CharlesGadd_Oxford/FoundationModelOutput/checkpoints/CR_11M_24_11_01_big_posencscale__hypertension-few-shot-cr3.ckpt' as top 1\n"
     ]
    },
    {
     "data": {
      "application/vnd.jupyter.widget-view+json": {
       "model_id": "",
       "version_major": 2,
       "version_minor": 0
      },
      "text/plain": [
       "Validation: |          | 0/? [00:00<?, ?it/s]"
      ]
     },
     "metadata": {},
     "output_type": "display_data"
    },
    {
     "name": "stderr",
     "output_type": "stream",
     "text": [
      "Metric val_loss improved by 0.097 >= min_delta = 0. New best score: 3.730\n",
      "Epoch 7, global step 80: 'val_loss' reached 3.72968 (best 3.72968), saving model to '/rds/projects/s/subramaa-mum-predict/CharlesGadd_Oxford/FoundationModelOutput/checkpoints/CR_11M_24_11_01_big_posencscale__hypertension-few-shot-cr3.ckpt' as top 1\n"
     ]
    },
    {
     "data": {
      "application/vnd.jupyter.widget-view+json": {
       "model_id": "",
       "version_major": 2,
       "version_minor": 0
      },
      "text/plain": [
       "Validation: |          | 0/? [00:00<?, ?it/s]"
      ]
     },
     "metadata": {},
     "output_type": "display_data"
    },
    {
     "name": "stderr",
     "output_type": "stream",
     "text": [
      "Metric val_loss improved by 0.088 >= min_delta = 0. New best score: 3.641\n",
      "Epoch 8, global step 85: 'val_loss' reached 3.64122 (best 3.64122), saving model to '/rds/projects/s/subramaa-mum-predict/CharlesGadd_Oxford/FoundationModelOutput/checkpoints/CR_11M_24_11_01_big_posencscale__hypertension-few-shot-cr3.ckpt' as top 1\n"
     ]
    },
    {
     "data": {
      "application/vnd.jupyter.widget-view+json": {
       "model_id": "",
       "version_major": 2,
       "version_minor": 0
      },
      "text/plain": [
       "Validation: |          | 0/? [00:00<?, ?it/s]"
      ]
     },
     "metadata": {},
     "output_type": "display_data"
    },
    {
     "name": "stderr",
     "output_type": "stream",
     "text": [
      "Metric val_loss improved by 0.080 >= min_delta = 0. New best score: 3.561\n",
      "Epoch 8, global step 90: 'val_loss' reached 3.56122 (best 3.56122), saving model to '/rds/projects/s/subramaa-mum-predict/CharlesGadd_Oxford/FoundationModelOutput/checkpoints/CR_11M_24_11_01_big_posencscale__hypertension-few-shot-cr3.ckpt' as top 1\n"
     ]
    },
    {
     "data": {
      "application/vnd.jupyter.widget-view+json": {
       "model_id": "2a0d1a1aa4594ebf8b91878b0cabfbfc",
       "version_major": 2,
       "version_minor": 0
      },
      "text/plain": [
       "Validation: |          | 0/? [00:00<?, ?it/s]"
      ]
     },
     "metadata": {},
     "output_type": "display_data"
    },
    {
     "name": "stderr",
     "output_type": "stream",
     "text": [
      "Metric val_loss improved by 0.074 >= min_delta = 0. New best score: 3.487\n",
      "Epoch 9, global step 95: 'val_loss' reached 3.48682 (best 3.48682), saving model to '/rds/projects/s/subramaa-mum-predict/CharlesGadd_Oxford/FoundationModelOutput/checkpoints/CR_11M_24_11_01_big_posencscale__hypertension-few-shot-cr3.ckpt' as top 1\n"
     ]
    },
    {
     "data": {
      "application/vnd.jupyter.widget-view+json": {
       "model_id": "3c436e46ae684aab8e642f77b8dd5bc8",
       "version_major": 2,
       "version_minor": 0
      },
      "text/plain": [
       "Validation: |          | 0/? [00:00<?, ?it/s]"
      ]
     },
     "metadata": {},
     "output_type": "display_data"
    },
    {
     "name": "stderr",
     "output_type": "stream",
     "text": [
      "Metric val_loss improved by 0.067 >= min_delta = 0. New best score: 3.420\n",
      "Epoch 9, global step 100: 'val_loss' reached 3.41991 (best 3.41991), saving model to '/rds/projects/s/subramaa-mum-predict/CharlesGadd_Oxford/FoundationModelOutput/checkpoints/CR_11M_24_11_01_big_posencscale__hypertension-few-shot-cr3.ckpt' as top 1\n"
     ]
    },
    {
     "data": {
      "application/vnd.jupyter.widget-view+json": {
       "model_id": "23adacd546ac4451a99dff74c7915c77",
       "version_major": 2,
       "version_minor": 0
      },
      "text/plain": [
       "Validation: |          | 0/? [00:00<?, ?it/s]"
      ]
     },
     "metadata": {},
     "output_type": "display_data"
    },
    {
     "name": "stderr",
     "output_type": "stream",
     "text": [
      "Metric val_loss improved by 0.060 >= min_delta = 0. New best score: 3.360\n",
      "Epoch 10, global step 105: 'val_loss' reached 3.36039 (best 3.36039), saving model to '/rds/projects/s/subramaa-mum-predict/CharlesGadd_Oxford/FoundationModelOutput/checkpoints/CR_11M_24_11_01_big_posencscale__hypertension-few-shot-cr3.ckpt' as top 1\n"
     ]
    },
    {
     "data": {
      "application/vnd.jupyter.widget-view+json": {
       "model_id": "e0598035034149a99c05028a57495937",
       "version_major": 2,
       "version_minor": 0
      },
      "text/plain": [
       "Validation: |          | 0/? [00:00<?, ?it/s]"
      ]
     },
     "metadata": {},
     "output_type": "display_data"
    },
    {
     "name": "stderr",
     "output_type": "stream",
     "text": [
      "Metric val_loss improved by 0.054 >= min_delta = 0. New best score: 3.307\n",
      "Epoch 10, global step 110: 'val_loss' reached 3.30663 (best 3.30663), saving model to '/rds/projects/s/subramaa-mum-predict/CharlesGadd_Oxford/FoundationModelOutput/checkpoints/CR_11M_24_11_01_big_posencscale__hypertension-few-shot-cr3.ckpt' as top 1\n"
     ]
    },
    {
     "data": {
      "application/vnd.jupyter.widget-view+json": {
       "model_id": "9c46b28a422443d9a836f0079324ca6d",
       "version_major": 2,
       "version_minor": 0
      },
      "text/plain": [
       "Validation: |          | 0/? [00:00<?, ?it/s]"
      ]
     },
     "metadata": {},
     "output_type": "display_data"
    },
    {
     "name": "stderr",
     "output_type": "stream",
     "text": [
      "Metric val_loss improved by 0.049 >= min_delta = 0. New best score: 3.258\n",
      "Epoch 11, global step 115: 'val_loss' reached 3.25784 (best 3.25784), saving model to '/rds/projects/s/subramaa-mum-predict/CharlesGadd_Oxford/FoundationModelOutput/checkpoints/CR_11M_24_11_01_big_posencscale__hypertension-few-shot-cr3.ckpt' as top 1\n"
     ]
    },
    {
     "data": {
      "application/vnd.jupyter.widget-view+json": {
       "model_id": "89895904d19541219d46a5f9538105dd",
       "version_major": 2,
       "version_minor": 0
      },
      "text/plain": [
       "Validation: |          | 0/? [00:00<?, ?it/s]"
      ]
     },
     "metadata": {},
     "output_type": "display_data"
    },
    {
     "name": "stderr",
     "output_type": "stream",
     "text": [
      "Metric val_loss improved by 0.046 >= min_delta = 0. New best score: 3.212\n",
      "Epoch 11, global step 120: 'val_loss' reached 3.21217 (best 3.21217), saving model to '/rds/projects/s/subramaa-mum-predict/CharlesGadd_Oxford/FoundationModelOutput/checkpoints/CR_11M_24_11_01_big_posencscale__hypertension-few-shot-cr3.ckpt' as top 1\n"
     ]
    },
    {
     "data": {
      "application/vnd.jupyter.widget-view+json": {
       "model_id": "9493a7b78ad54421bf35ce05bfae2625",
       "version_major": 2,
       "version_minor": 0
      },
      "text/plain": [
       "Validation: |          | 0/? [00:00<?, ?it/s]"
      ]
     },
     "metadata": {},
     "output_type": "display_data"
    },
    {
     "name": "stderr",
     "output_type": "stream",
     "text": [
      "Metric val_loss improved by 0.040 >= min_delta = 0. New best score: 3.172\n",
      "Epoch 12, global step 125: 'val_loss' reached 3.17174 (best 3.17174), saving model to '/rds/projects/s/subramaa-mum-predict/CharlesGadd_Oxford/FoundationModelOutput/checkpoints/CR_11M_24_11_01_big_posencscale__hypertension-few-shot-cr3.ckpt' as top 1\n"
     ]
    },
    {
     "data": {
      "application/vnd.jupyter.widget-view+json": {
       "model_id": "1b6a48b7075d4c4985062727480a2828",
       "version_major": 2,
       "version_minor": 0
      },
      "text/plain": [
       "Validation: |          | 0/? [00:00<?, ?it/s]"
      ]
     },
     "metadata": {},
     "output_type": "display_data"
    },
    {
     "name": "stderr",
     "output_type": "stream",
     "text": [
      "Metric val_loss improved by 0.037 >= min_delta = 0. New best score: 3.134\n",
      "Epoch 12, global step 130: 'val_loss' reached 3.13436 (best 3.13436), saving model to '/rds/projects/s/subramaa-mum-predict/CharlesGadd_Oxford/FoundationModelOutput/checkpoints/CR_11M_24_11_01_big_posencscale__hypertension-few-shot-cr3.ckpt' as top 1\n"
     ]
    },
    {
     "data": {
      "application/vnd.jupyter.widget-view+json": {
       "model_id": "1b31d2a421dd4fef917048358e5e8ed0",
       "version_major": 2,
       "version_minor": 0
      },
      "text/plain": [
       "Validation: |          | 0/? [00:00<?, ?it/s]"
      ]
     },
     "metadata": {},
     "output_type": "display_data"
    },
    {
     "name": "stderr",
     "output_type": "stream",
     "text": [
      "Metric val_loss improved by 0.035 >= min_delta = 0. New best score: 3.100\n",
      "Epoch 13, global step 135: 'val_loss' reached 3.09974 (best 3.09974), saving model to '/rds/projects/s/subramaa-mum-predict/CharlesGadd_Oxford/FoundationModelOutput/checkpoints/CR_11M_24_11_01_big_posencscale__hypertension-few-shot-cr3.ckpt' as top 1\n"
     ]
    },
    {
     "data": {
      "application/vnd.jupyter.widget-view+json": {
       "model_id": "0ab7c40e18ea419c80ada7f36409d21f",
       "version_major": 2,
       "version_minor": 0
      },
      "text/plain": [
       "Validation: |          | 0/? [00:00<?, ?it/s]"
      ]
     },
     "metadata": {},
     "output_type": "display_data"
    },
    {
     "name": "stderr",
     "output_type": "stream",
     "text": [
      "Metric val_loss improved by 0.032 >= min_delta = 0. New best score: 3.068\n",
      "Epoch 13, global step 140: 'val_loss' reached 3.06788 (best 3.06788), saving model to '/rds/projects/s/subramaa-mum-predict/CharlesGadd_Oxford/FoundationModelOutput/checkpoints/CR_11M_24_11_01_big_posencscale__hypertension-few-shot-cr3.ckpt' as top 1\n"
     ]
    },
    {
     "data": {
      "application/vnd.jupyter.widget-view+json": {
       "model_id": "3b45ef384d3b48a387394710ad224b2d",
       "version_major": 2,
       "version_minor": 0
      },
      "text/plain": [
       "Validation: |          | 0/? [00:00<?, ?it/s]"
      ]
     },
     "metadata": {},
     "output_type": "display_data"
    },
    {
     "name": "stderr",
     "output_type": "stream",
     "text": [
      "Metric val_loss improved by 0.029 >= min_delta = 0. New best score: 3.039\n",
      "Epoch 14, global step 145: 'val_loss' reached 3.03913 (best 3.03913), saving model to '/rds/projects/s/subramaa-mum-predict/CharlesGadd_Oxford/FoundationModelOutput/checkpoints/CR_11M_24_11_01_big_posencscale__hypertension-few-shot-cr3.ckpt' as top 1\n"
     ]
    },
    {
     "data": {
      "application/vnd.jupyter.widget-view+json": {
       "model_id": "fb1d7a001a2b49cd9c0a2132761c2f2d",
       "version_major": 2,
       "version_minor": 0
      },
      "text/plain": [
       "Validation: |          | 0/? [00:00<?, ?it/s]"
      ]
     },
     "metadata": {},
     "output_type": "display_data"
    },
    {
     "name": "stderr",
     "output_type": "stream",
     "text": [
      "Metric val_loss improved by 0.027 >= min_delta = 0. New best score: 3.013\n",
      "Epoch 14, global step 150: 'val_loss' reached 3.01253 (best 3.01253), saving model to '/rds/projects/s/subramaa-mum-predict/CharlesGadd_Oxford/FoundationModelOutput/checkpoints/CR_11M_24_11_01_big_posencscale__hypertension-few-shot-cr3.ckpt' as top 1\n"
     ]
    },
    {
     "data": {
      "application/vnd.jupyter.widget-view+json": {
       "model_id": "8e44930d49fd4a16873c869c4fc0ad4d",
       "version_major": 2,
       "version_minor": 0
      },
      "text/plain": [
       "Validation: |          | 0/? [00:00<?, ?it/s]"
      ]
     },
     "metadata": {},
     "output_type": "display_data"
    },
    {
     "name": "stderr",
     "output_type": "stream",
     "text": [
      "Metric val_loss improved by 0.026 >= min_delta = 0. New best score: 2.987\n",
      "Epoch 15, global step 155: 'val_loss' reached 2.98654 (best 2.98654), saving model to '/rds/projects/s/subramaa-mum-predict/CharlesGadd_Oxford/FoundationModelOutput/checkpoints/CR_11M_24_11_01_big_posencscale__hypertension-few-shot-cr3.ckpt' as top 1\n"
     ]
    },
    {
     "data": {
      "application/vnd.jupyter.widget-view+json": {
       "model_id": "a59124fcedf44a2797ca59a77b3cbe84",
       "version_major": 2,
       "version_minor": 0
      },
      "text/plain": [
       "Validation: |          | 0/? [00:00<?, ?it/s]"
      ]
     },
     "metadata": {},
     "output_type": "display_data"
    },
    {
     "name": "stderr",
     "output_type": "stream",
     "text": [
      "Metric val_loss improved by 0.023 >= min_delta = 0. New best score: 2.964\n",
      "Epoch 15, global step 160: 'val_loss' reached 2.96354 (best 2.96354), saving model to '/rds/projects/s/subramaa-mum-predict/CharlesGadd_Oxford/FoundationModelOutput/checkpoints/CR_11M_24_11_01_big_posencscale__hypertension-few-shot-cr3.ckpt' as top 1\n"
     ]
    },
    {
     "data": {
      "application/vnd.jupyter.widget-view+json": {
       "model_id": "e3d1a6d91e1f4d69b19ff6d426782758",
       "version_major": 2,
       "version_minor": 0
      },
      "text/plain": [
       "Validation: |          | 0/? [00:00<?, ?it/s]"
      ]
     },
     "metadata": {},
     "output_type": "display_data"
    },
    {
     "name": "stderr",
     "output_type": "stream",
     "text": [
      "Metric val_loss improved by 0.021 >= min_delta = 0. New best score: 2.942\n",
      "Epoch 16, global step 165: 'val_loss' reached 2.94242 (best 2.94242), saving model to '/rds/projects/s/subramaa-mum-predict/CharlesGadd_Oxford/FoundationModelOutput/checkpoints/CR_11M_24_11_01_big_posencscale__hypertension-few-shot-cr3.ckpt' as top 1\n"
     ]
    },
    {
     "data": {
      "application/vnd.jupyter.widget-view+json": {
       "model_id": "91017cc030194181838890451e00d5ba",
       "version_major": 2,
       "version_minor": 0
      },
      "text/plain": [
       "Validation: |          | 0/? [00:00<?, ?it/s]"
      ]
     },
     "metadata": {},
     "output_type": "display_data"
    },
    {
     "name": "stderr",
     "output_type": "stream",
     "text": [
      "Metric val_loss improved by 0.020 >= min_delta = 0. New best score: 2.923\n",
      "Epoch 16, global step 170: 'val_loss' reached 2.92282 (best 2.92282), saving model to '/rds/projects/s/subramaa-mum-predict/CharlesGadd_Oxford/FoundationModelOutput/checkpoints/CR_11M_24_11_01_big_posencscale__hypertension-few-shot-cr3.ckpt' as top 1\n"
     ]
    },
    {
     "data": {
      "application/vnd.jupyter.widget-view+json": {
       "model_id": "2f8c1237e920434eaacbe6da65321437",
       "version_major": 2,
       "version_minor": 0
      },
      "text/plain": [
       "Validation: |          | 0/? [00:00<?, ?it/s]"
      ]
     },
     "metadata": {},
     "output_type": "display_data"
    },
    {
     "name": "stderr",
     "output_type": "stream",
     "text": [
      "Metric val_loss improved by 0.018 >= min_delta = 0. New best score: 2.905\n",
      "Epoch 17, global step 175: 'val_loss' reached 2.90526 (best 2.90526), saving model to '/rds/projects/s/subramaa-mum-predict/CharlesGadd_Oxford/FoundationModelOutput/checkpoints/CR_11M_24_11_01_big_posencscale__hypertension-few-shot-cr3.ckpt' as top 1\n"
     ]
    },
    {
     "data": {
      "application/vnd.jupyter.widget-view+json": {
       "model_id": "0f74d052acdc4c38a2f1474f5a075387",
       "version_major": 2,
       "version_minor": 0
      },
      "text/plain": [
       "Validation: |          | 0/? [00:00<?, ?it/s]"
      ]
     },
     "metadata": {},
     "output_type": "display_data"
    },
    {
     "name": "stderr",
     "output_type": "stream",
     "text": [
      "Metric val_loss improved by 0.017 >= min_delta = 0. New best score: 2.888\n",
      "Epoch 17, global step 180: 'val_loss' reached 2.88807 (best 2.88807), saving model to '/rds/projects/s/subramaa-mum-predict/CharlesGadd_Oxford/FoundationModelOutput/checkpoints/CR_11M_24_11_01_big_posencscale__hypertension-few-shot-cr3.ckpt' as top 1\n"
     ]
    },
    {
     "data": {
      "application/vnd.jupyter.widget-view+json": {
       "model_id": "220e3cfd40eb41b5a581d81071e247c0",
       "version_major": 2,
       "version_minor": 0
      },
      "text/plain": [
       "Validation: |          | 0/? [00:00<?, ?it/s]"
      ]
     },
     "metadata": {},
     "output_type": "display_data"
    },
    {
     "name": "stderr",
     "output_type": "stream",
     "text": [
      "Metric val_loss improved by 0.014 >= min_delta = 0. New best score: 2.874\n",
      "Epoch 18, global step 185: 'val_loss' reached 2.87371 (best 2.87371), saving model to '/rds/projects/s/subramaa-mum-predict/CharlesGadd_Oxford/FoundationModelOutput/checkpoints/CR_11M_24_11_01_big_posencscale__hypertension-few-shot-cr3.ckpt' as top 1\n"
     ]
    },
    {
     "data": {
      "application/vnd.jupyter.widget-view+json": {
       "model_id": "3aa093e321e742448dcb531bfa2e2a81",
       "version_major": 2,
       "version_minor": 0
      },
      "text/plain": [
       "Validation: |          | 0/? [00:00<?, ?it/s]"
      ]
     },
     "metadata": {},
     "output_type": "display_data"
    },
    {
     "name": "stderr",
     "output_type": "stream",
     "text": [
      "Metric val_loss improved by 0.015 >= min_delta = 0. New best score: 2.859\n",
      "Epoch 18, global step 190: 'val_loss' reached 2.85861 (best 2.85861), saving model to '/rds/projects/s/subramaa-mum-predict/CharlesGadd_Oxford/FoundationModelOutput/checkpoints/CR_11M_24_11_01_big_posencscale__hypertension-few-shot-cr3.ckpt' as top 1\n"
     ]
    },
    {
     "data": {
      "application/vnd.jupyter.widget-view+json": {
       "model_id": "1d9c083370c44c5394662a152e90d8ad",
       "version_major": 2,
       "version_minor": 0
      },
      "text/plain": [
       "Validation: |          | 0/? [00:00<?, ?it/s]"
      ]
     },
     "metadata": {},
     "output_type": "display_data"
    },
    {
     "name": "stderr",
     "output_type": "stream",
     "text": [
      "Metric val_loss improved by 0.014 >= min_delta = 0. New best score: 2.845\n",
      "Epoch 19, global step 195: 'val_loss' reached 2.84503 (best 2.84503), saving model to '/rds/projects/s/subramaa-mum-predict/CharlesGadd_Oxford/FoundationModelOutput/checkpoints/CR_11M_24_11_01_big_posencscale__hypertension-few-shot-cr3.ckpt' as top 1\n"
     ]
    },
    {
     "data": {
      "application/vnd.jupyter.widget-view+json": {
       "model_id": "49458a473c4a465e8537420557156844",
       "version_major": 2,
       "version_minor": 0
      },
      "text/plain": [
       "Validation: |          | 0/? [00:00<?, ?it/s]"
      ]
     },
     "metadata": {},
     "output_type": "display_data"
    },
    {
     "name": "stderr",
     "output_type": "stream",
     "text": [
      "Metric val_loss improved by 0.013 >= min_delta = 0. New best score: 2.832\n",
      "Epoch 19, global step 200: 'val_loss' reached 2.83174 (best 2.83174), saving model to '/rds/projects/s/subramaa-mum-predict/CharlesGadd_Oxford/FoundationModelOutput/checkpoints/CR_11M_24_11_01_big_posencscale__hypertension-few-shot-cr3.ckpt' as top 1\n"
     ]
    },
    {
     "data": {
      "application/vnd.jupyter.widget-view+json": {
       "model_id": "dd1d5e8a58a445f39f99a9b13484de59",
       "version_major": 2,
       "version_minor": 0
      },
      "text/plain": [
       "Validation: |          | 0/? [00:00<?, ?it/s]"
      ]
     },
     "metadata": {},
     "output_type": "display_data"
    },
    {
     "name": "stderr",
     "output_type": "stream",
     "text": [
      "Metric val_loss improved by 0.012 >= min_delta = 0. New best score: 2.819\n",
      "Epoch 20, global step 205: 'val_loss' reached 2.81933 (best 2.81933), saving model to '/rds/projects/s/subramaa-mum-predict/CharlesGadd_Oxford/FoundationModelOutput/checkpoints/CR_11M_24_11_01_big_posencscale__hypertension-few-shot-cr3.ckpt' as top 1\n"
     ]
    },
    {
     "data": {
      "application/vnd.jupyter.widget-view+json": {
       "model_id": "996ef76c08624574a3d85552fdf5a734",
       "version_major": 2,
       "version_minor": 0
      },
      "text/plain": [
       "Validation: |          | 0/? [00:00<?, ?it/s]"
      ]
     },
     "metadata": {},
     "output_type": "display_data"
    },
    {
     "name": "stderr",
     "output_type": "stream",
     "text": [
      "Metric val_loss improved by 0.012 >= min_delta = 0. New best score: 2.807\n",
      "Epoch 20, global step 210: 'val_loss' reached 2.80747 (best 2.80747), saving model to '/rds/projects/s/subramaa-mum-predict/CharlesGadd_Oxford/FoundationModelOutput/checkpoints/CR_11M_24_11_01_big_posencscale__hypertension-few-shot-cr3.ckpt' as top 1\n"
     ]
    },
    {
     "data": {
      "application/vnd.jupyter.widget-view+json": {
       "model_id": "87084028ad994488b4d3cc3ed2d32ecf",
       "version_major": 2,
       "version_minor": 0
      },
      "text/plain": [
       "Validation: |          | 0/? [00:00<?, ?it/s]"
      ]
     },
     "metadata": {},
     "output_type": "display_data"
    },
    {
     "name": "stderr",
     "output_type": "stream",
     "text": [
      "Metric val_loss improved by 0.014 >= min_delta = 0. New best score: 2.794\n",
      "Epoch 21, global step 215: 'val_loss' reached 2.79381 (best 2.79381), saving model to '/rds/projects/s/subramaa-mum-predict/CharlesGadd_Oxford/FoundationModelOutput/checkpoints/CR_11M_24_11_01_big_posencscale__hypertension-few-shot-cr3.ckpt' as top 1\n"
     ]
    },
    {
     "data": {
      "application/vnd.jupyter.widget-view+json": {
       "model_id": "67b41928b3d74430a5c78230721ec0e3",
       "version_major": 2,
       "version_minor": 0
      },
      "text/plain": [
       "Validation: |          | 0/? [00:00<?, ?it/s]"
      ]
     },
     "metadata": {},
     "output_type": "display_data"
    },
    {
     "name": "stderr",
     "output_type": "stream",
     "text": [
      "Metric val_loss improved by 0.011 >= min_delta = 0. New best score: 2.783\n",
      "Epoch 21, global step 220: 'val_loss' reached 2.78256 (best 2.78256), saving model to '/rds/projects/s/subramaa-mum-predict/CharlesGadd_Oxford/FoundationModelOutput/checkpoints/CR_11M_24_11_01_big_posencscale__hypertension-few-shot-cr3.ckpt' as top 1\n"
     ]
    },
    {
     "data": {
      "application/vnd.jupyter.widget-view+json": {
       "model_id": "1e7edf3016794d7ea12849ef48b7f2e2",
       "version_major": 2,
       "version_minor": 0
      },
      "text/plain": [
       "Validation: |          | 0/? [00:00<?, ?it/s]"
      ]
     },
     "metadata": {},
     "output_type": "display_data"
    },
    {
     "name": "stderr",
     "output_type": "stream",
     "text": [
      "Metric val_loss improved by 0.008 >= min_delta = 0. New best score: 2.775\n",
      "Epoch 22, global step 225: 'val_loss' reached 2.77457 (best 2.77457), saving model to '/rds/projects/s/subramaa-mum-predict/CharlesGadd_Oxford/FoundationModelOutput/checkpoints/CR_11M_24_11_01_big_posencscale__hypertension-few-shot-cr3.ckpt' as top 1\n"
     ]
    },
    {
     "data": {
      "application/vnd.jupyter.widget-view+json": {
       "model_id": "140c9be28e3949f4b21d3b2865e8eb48",
       "version_major": 2,
       "version_minor": 0
      },
      "text/plain": [
       "Validation: |          | 0/? [00:00<?, ?it/s]"
      ]
     },
     "metadata": {},
     "output_type": "display_data"
    },
    {
     "name": "stderr",
     "output_type": "stream",
     "text": [
      "Metric val_loss improved by 0.009 >= min_delta = 0. New best score: 2.766\n",
      "Epoch 22, global step 230: 'val_loss' reached 2.76572 (best 2.76572), saving model to '/rds/projects/s/subramaa-mum-predict/CharlesGadd_Oxford/FoundationModelOutput/checkpoints/CR_11M_24_11_01_big_posencscale__hypertension-few-shot-cr3.ckpt' as top 1\n"
     ]
    },
    {
     "data": {
      "application/vnd.jupyter.widget-view+json": {
       "model_id": "30c6947d622b46d4a56e24c17e5da8d9",
       "version_major": 2,
       "version_minor": 0
      },
      "text/plain": [
       "Validation: |          | 0/? [00:00<?, ?it/s]"
      ]
     },
     "metadata": {},
     "output_type": "display_data"
    },
    {
     "name": "stderr",
     "output_type": "stream",
     "text": [
      "Metric val_loss improved by 0.010 >= min_delta = 0. New best score: 2.756\n",
      "Epoch 23, global step 235: 'val_loss' reached 2.75600 (best 2.75600), saving model to '/rds/projects/s/subramaa-mum-predict/CharlesGadd_Oxford/FoundationModelOutput/checkpoints/CR_11M_24_11_01_big_posencscale__hypertension-few-shot-cr3.ckpt' as top 1\n"
     ]
    },
    {
     "data": {
      "application/vnd.jupyter.widget-view+json": {
       "model_id": "a0a45bb4ffa742caa9812cf469bd5559",
       "version_major": 2,
       "version_minor": 0
      },
      "text/plain": [
       "Validation: |          | 0/? [00:00<?, ?it/s]"
      ]
     },
     "metadata": {},
     "output_type": "display_data"
    },
    {
     "name": "stderr",
     "output_type": "stream",
     "text": [
      "Metric val_loss improved by 0.008 >= min_delta = 0. New best score: 2.748\n",
      "Epoch 23, global step 240: 'val_loss' reached 2.74786 (best 2.74786), saving model to '/rds/projects/s/subramaa-mum-predict/CharlesGadd_Oxford/FoundationModelOutput/checkpoints/CR_11M_24_11_01_big_posencscale__hypertension-few-shot-cr3.ckpt' as top 1\n"
     ]
    },
    {
     "data": {
      "application/vnd.jupyter.widget-view+json": {
       "model_id": "3e065d9ebfa74fb789d22f1ef4f716eb",
       "version_major": 2,
       "version_minor": 0
      },
      "text/plain": [
       "Validation: |          | 0/? [00:00<?, ?it/s]"
      ]
     },
     "metadata": {},
     "output_type": "display_data"
    },
    {
     "name": "stderr",
     "output_type": "stream",
     "text": [
      "/rds/bear-apps/2022a/EL8-ice/software/PyTorch-Lightning/2.1.0-foss-2022a-CUDA-11.7.0/lib/python3.10/site-packages/pytorch_lightning/trainer/call.py:54: Detected KeyboardInterrupt, attempting graceful shutdown...\n",
      "INFO:root:Re-loading from best cached checkpoint /rds/projects/s/subramaa-mum-predict/CharlesGadd_Oxford/FoundationModelOutput/checkpoints/CR_11M_24_11_01_big_posencscale__hypertension-few-shot-cr3.ckpt\n",
      "\n",
      "KeyboardInterrupt\n",
      "\n",
      "wandb: Network error (ReadTimeout), entering retry loop.\n"
     ]
    }
   ],
   "source": [
    "pre_trained_models = [\"CR_11M_24_11_01_big_posencscale_\", \"NULL\"]\n",
    "experiments = [\"hypertension\", \"cvd\"] \n",
    "\n",
    "for pre_trained_model in pre_trained_models:\n",
    "\n",
    "    for experiment in experiments:\n",
    "    \n",
    "        # load the configuration file, override any settings \n",
    "        with initialize(version_base=None, config_path=\"../../../confs\", job_name=\"testing_notebook\"):\n",
    "            cfg = compose(config_name=\"config_CompetingRisk37M\", \n",
    "                          overrides=[# Experiment setup\n",
    "                                     \"experiment.type='few-shot'\",\n",
    "                                     f\"experiment.run_id='{pre_trained_model}'\",\n",
    "                                     f\"experiment.fine_tune_id='{experiment}-few-shot-cr3'\",\n",
    "                                     \"experiment.train=True\",\n",
    "                                     \"experiment.test=True\",\n",
    "                                     # Dataloader\n",
    "                                     \"data.meta_information_path=/rds/projects/g/gokhalkm-optimal/OPTIMAL_MASTER_DATASET/data/FoundationalModel/PreTrain/meta_information_QuantJenny.pickle\",\n",
    "                                     \"data.min_workers=12\",\n",
    "                                     \"data.subsample_training=600\",\n",
    "                                     # Optimiser\n",
    "                                     \"optim.num_epochs=50\",\n",
    "                                     \"optim.limit_test_batches=null\",\n",
    "                                     \"optim.scheduler=ReduceOnPlateau\",\n",
    "                                     \"optim.scheduler_warmup=False\",\n",
    "                                     # \"optim.scheduler_periods=250\",\n",
    "                                     \"optim.learning_rate=1e-3\",\n",
    "                                     \"optim.val_check_interval=5\",\n",
    "                                     \"optim.early_stop=True\",\n",
    "                                     \"optim.early_stop_patience=20\",\n",
    "                                     # Head\n",
    "                                     \"head.surv_weight=1\",\n",
    "                                     \"head.value_weight=0\",\n",
    "                                    ]\n",
    "                         )     \n",
    "    \n",
    "        \n",
    "        match experiment.lower():\n",
    "            case \"cvd\":\n",
    "                cfg.data.path_to_ds=\"/rds/projects/g/gokhalkm-optimal/OPTIMAL_MASTER_DATASET/data/FoundationalModel/FineTune_CVD/\"\n",
    "                cfg.experiment.fine_tune_outcomes=[\"IHDINCLUDINGMI_OPTIMALV2\", \"ISCHAEMICSTROKE_V2\", \"MINFARCTION\", \"STROKEUNSPECIFIED_V2\", \"STROKE_HAEMRGIC\"]\n",
    "            case \"hypertension\":\n",
    "                cfg.data.path_to_ds=\"/rds/projects/g/gokhalkm-optimal/OPTIMAL_MASTER_DATASET/data/FoundationalModel/FineTune_Hypertension/\"\n",
    "                cfg.experiment.fine_tune_outcomes=[\"HYPERTENSION\"]\n",
    "                \n",
    "        wandb.finish()\n",
    "        experiment, dm = run(cfg)\n",
    "        print(f\"Loaded model with {sum(p.numel() for p in experiment.model.parameters())/1e6} M parameters\")\n",
    "        wandb.finish()\n"
   ]
  },
  {
   "cell_type": "code",
   "execution_count": null,
   "id": "bc84b03c-0a55-4c28-8297-c9cd2abe9adf",
   "metadata": {},
   "outputs": [],
   "source": [
    "\n",
    "\n",
    "for batch in dm.train_dataloader():\n",
    "    break"
   ]
  },
  {
   "cell_type": "code",
   "execution_count": null,
   "id": "667745b2-e16c-49c4-af81-8545d8eb33ab",
   "metadata": {
    "scrolled": true
   },
   "outputs": [],
   "source": [
    "# dm.train_set.view_sample(1, max_dynamic_events=4)\n",
    "\n",
    "display(batch[\"tokens\"][0, :])\n",
    "display(batch[\"target_token\"][0])\n",
    "\n",
    "experiment.forward(batch)"
   ]
  },
  {
   "cell_type": "code",
   "execution_count": null,
   "id": "fb0dc5dd-bfe4-4435-9683-250b6dda92a3",
   "metadata": {},
   "outputs": [],
   "source": [
    "dm.encode(cfg.experiment.fine_tune_outcomes)\n",
    "display(dm.decode([0]))\n",
    "display(len(list(dm.train_set.tokenizer._event_counts[\"EVENT\"])))"
   ]
  },
  {
   "cell_type": "code",
   "execution_count": null,
   "id": "5d59b00d-f391-4500-9acd-1aa6593577e0",
   "metadata": {},
   "outputs": [],
   "source": []
  },
  {
   "cell_type": "code",
   "execution_count": null,
   "id": "ab4e2467-bfc5-47cf-8e26-7a38cc093965",
   "metadata": {
    "scrolled": true
   },
   "outputs": [],
   "source": [
    "# import wandb\n",
    "print(model)\n",
    "# wandb.finish()"
   ]
  },
  {
   "cell_type": "code",
   "execution_count": null,
   "id": "d078715e-c1dc-4726-bf06-0d6cba9261fb",
   "metadata": {},
   "outputs": [],
   "source": [
    "dm.encode(['IHDINCLUDINGMI_OPTIMALV2', 'ISCHAEMICSTROKE_V2', 'MINFARCTION', 'STROKEUNSPECIFIED_V2', 'STROKE_HAEMRGIC'])\n",
    "# display(dm.decode([95, 175, 263,249]).split(\" \"))"
   ]
  },
  {
   "cell_type": "code",
   "execution_count": null,
   "id": "9aa0352a-f7cc-40ea-b456-97f1e59adcf3",
   "metadata": {},
   "outputs": [],
   "source": [
    "dm.tokenizer._event_counts[\"EVENT\"][-5:].to_list()"
   ]
  },
  {
   "cell_type": "code",
   "execution_count": null,
   "id": "655e044f-4d3a-4c03-a3aa-c460e1ffd662",
   "metadata": {},
   "outputs": [],
   "source": []
  },
  {
   "cell_type": "code",
   "execution_count": null,
   "id": "8a9d7a7c-242a-4ba1-ae98-2a5ac7ed8d22",
   "metadata": {},
   "outputs": [],
   "source": []
  },
  {
   "cell_type": "code",
   "execution_count": null,
   "id": "42a8bb11-e10a-4319-8050-2703af0e4d33",
   "metadata": {},
   "outputs": [],
   "source": []
  },
  {
   "cell_type": "code",
   "execution_count": null,
   "id": "7644335f-9a9e-49be-963a-6ed1ca22adf5",
   "metadata": {},
   "outputs": [],
   "source": [
    "save_path = f\"/rds/projects/s/subramaa-mum-predict/CharlesGadd_Oxford/FoundationModelOutput/checkpoints/{cfg.experiment.run_id}/\"\n"
   ]
  },
  {
   "cell_type": "markdown",
   "id": "2db2b285-c23f-4fd2-8e66-e20159e8e271",
   "metadata": {},
   "source": [
    "# Load Pre-Trained model"
   ]
  },
  {
   "cell_type": "code",
   "execution_count": null,
   "id": "b6f37089-e294-46c0-bc4a-ce3ae00300b5",
   "metadata": {
    "scrolled": true
   },
   "outputs": [],
   "source": [
    "ckpt_path = cfg.experiment.log_dir + f'checkpoints/{cfg.experiment.run_id}.ckpt'\n",
    "model = SurvivalExperiment.load_from_checkpoint(ckpt_path)"
   ]
  },
  {
   "cell_type": "markdown",
   "id": "53ae57fb-6ca7-4e7f-9b79-b99bb5a10b52",
   "metadata": {},
   "source": [
    "# Initialise fine-tuning data module"
   ]
  },
  {
   "cell_type": "code",
   "execution_count": null,
   "id": "a8e90c2f-04c5-4f31-86f0-4f3800fa9325",
   "metadata": {
    "scrolled": true
   },
   "outputs": [],
   "source": [
    "# Update dataset path to point to the new dataset \n",
    "cfg.data.path_to_ds = \"/rds/projects/g/gokhalkm-optimal/OPTIMAL_MASTER_DATASET/data/FoundationalModel/FineTune_CVD/\"\n",
    "\n",
    "# Build \n",
    "dm = FoundationalDataModule(path_to_db=cfg.data.path_to_db,\n",
    "                            path_to_ds=cfg.data.path_to_ds,\n",
    "                            load=True,\n",
    "                            tokenizer=\"tabular\",\n",
    "                            batch_size=cfg.data.batch_size,\n",
    "                            max_seq_length=cfg.transformer.block_size,\n",
    "                            freq_threshold=cfg.data.unk_freq_threshold,\n",
    "                            min_workers=cfg.data.min_workers,\n",
    "                            overwrite_meta_information=cfg.data.meta_information_path,\n",
    "                           )\n",
    "\n",
    "vocab_size = dm.train_set.tokenizer.vocab_size\n",
    "print(f\"{vocab_size} vocab elements\")\n",
    "\n",
    "# list of univariate measurements to model with Normal distribution\n",
    "# Extract the measurements, using the fact that the diagnoses are all up upper case.\n",
    "measurements_for_univariate_regression = [record for record in dm.tokenizer._event_counts[\"EVENT\"] if record.upper() != record]\n",
    "cfg.head.tokens_for_univariate_regression = dm.encode(measurements_for_univariate_regression) \n",
    "# display(measurements_for_univariate_regression)"
   ]
  },
  {
   "cell_type": "code",
   "execution_count": null,
   "id": "13a7a64a-4a5b-4811-847a-5ad8abe04c61",
   "metadata": {
    "scrolled": true
   },
   "outputs": [],
   "source": [
    "# # import pickle as pkl\n",
    "# # import pathlib\n",
    "\n",
    "# pkl_file_to_amend = \"/rds/projects/g/gokhalkm-optimal/OPTIMAL_MASTER_DATASET/data/FoundationalModel/FineTune_CVD/file_row_count_dict_test.pickle\"\n",
    "\n",
    "# with open(pkl_file_to_amend, 'rb') as pickle_file:\n",
    "#     content = pickle.load(pickle_file)\n",
    "# display(content)\n",
    "\n",
    "# # new_dictionary = {}\n",
    "# # for key in content.keys():\n",
    "# #     str_to_remove = \"/rds/projects/g/gokhalkm-optimal/OPTIMAL_MASTER_DATASET/data/FoundationalModel/FineTune_CVD/split=val/\"\n",
    "# #     new_key = str(key)[len(str_to_remove):]\n",
    "# #     new_dictionary[new_key] = content[key]\n",
    "# # display(new_dictionary)\n",
    "\n",
    "\n",
    "# # with open(pkl_file_to_amend, 'wb') as handle:\n",
    "# #     pickle.dump(new_dictionary, handle, protocol=pickle.HIGHEST_PROTOCOL)\n"
   ]
  },
  {
   "cell_type": "code",
   "execution_count": null,
   "id": "39e3bd66-0f95-4d0f-9e85-b05bf609037e",
   "metadata": {},
   "outputs": [],
   "source": [
    "# new_dictionary"
   ]
  },
  {
   "cell_type": "code",
   "execution_count": null,
   "id": "3a3a45cf-dcbe-4d66-a8fa-34fcc1e4a4de",
   "metadata": {
    "scrolled": true
   },
   "outputs": [],
   "source": [
    "import copy\n",
    "start = time.time()   # starting time\n",
    "for batch in dm.train_dataloader():\n",
    "    # print(batch[\"tokens\"][1,:])\n",
    "    \n",
    "    c_batch = convert_batch_to_none_causal(batch)\n",
    "    # print(c_batch[\"tokens\"][1,:])\n",
    "    # print(c_batch[\"target_token\"][1])\n",
    "\n",
    "    # print(batch[\"tokens\"][1,:])\n",
    "    \n",
    "    break\n",
    "    \n",
    "print(f\"batch loaded in {time.time()-start} seconds\")    \n",
    "    \n",
    "# for key in batch.keys():\n",
    "#     print(f\"{key}\".ljust(20) + f\"{batch[key].shape}\")\n",
    "\n",
    "# tokens = batch[\"tokens\"][0].tolist()    \n",
    "# sentence = dm.decode(tokens).split(\" \")\n",
    "# for token, value in zip(sentence, batch[\"values\"][0].tolist()):\n",
    "#     print(f\"{token}:\".ljust(40) + f\"{value}\")"
   ]
  },
  {
   "cell_type": "code",
   "execution_count": null,
   "id": "85a4c5b5-2121-4d10-8f8e-11a88ed16cc3",
   "metadata": {},
   "outputs": [],
   "source": [
    "display(batch.keys())\n",
    "display(c_batch.keys())\n",
    "\n",
    "print(batch[\"static_covariates\"].shape)\n",
    "\n",
    "# print(dm.train_set.static_1hot)\n",
    "# print(dm.train_set.static_1hot[\"SEX\"].categories_)\n",
    "# print(dm.train_set.static_1hot[\"IMD\"].categories_)\n",
    "# print(dm.train_set.static_1hot[\"ETHNICITY\"].categories_)\n",
    "\n",
    "print(batch[\"tokens\"][1,:])\n",
    "print(c_batch[\"tokens\"][1,:])\n",
    "print(c_batch[\"target_token\"][1])"
   ]
  },
  {
   "cell_type": "markdown",
   "id": "60e3e15f-1b7c-466b-825e-a84100d224a0",
   "metadata": {},
   "source": [
    "## View an example sample"
   ]
  },
  {
   "cell_type": "code",
   "execution_count": null,
   "id": "16aa22fa-ef08-485f-a948-c4ff8b3aade5",
   "metadata": {
    "scrolled": true
   },
   "outputs": [],
   "source": [
    "dm.test_set.view_sample(11003, max_dynamic_events=None, report_time=True)"
   ]
  },
  {
   "cell_type": "markdown",
   "id": "d1943eec-f491-4a94-92d9-65b9cedbd433",
   "metadata": {},
   "source": [
    "# Custom wrapper prediction last token\n",
    "\n",
    "To begin with, I will just loop over samples individually to test the zero-shot capacity of SurvivEHR. "
   ]
  },
  {
   "cell_type": "code",
   "execution_count": null,
   "id": "439343da-a813-4ffa-b0a6-26074e80d11e",
   "metadata": {
    "scrolled": true
   },
   "outputs": [],
   "source": [
    "\n",
    "\n",
    "# Verifying on datamodule \n",
    "for _idx, batch in enumerate(dm.test_dataloader()):\n",
    "    if _idx > 10:\n",
    "        break\n",
    "    print(_idx)\n",
    "    print(torch.stack([batch[\"tokens\"][10,:5], \n",
    "                       batch[\"values\"][10,:5],  \n",
    "                       batch[\"ages\"][10,:5],\n",
    "                       batch[\"attention_mask\"][10,:5]]))\n",
    "    batch = replace_last_non_pad_with_pad(batch)\n",
    "    print(torch.stack([batch[\"tokens\"][10,:5], \n",
    "                       batch[\"values\"][10,:5],  \n",
    "                       batch[\"ages\"][10,:5],\n",
    "                       batch[\"attention_mask\"][10,:5]]))"
   ]
  },
  {
   "cell_type": "code",
   "execution_count": null,
   "id": "f2c069ad-f41d-420e-819e-cf2c5a390baf",
   "metadata": {},
   "outputs": [],
   "source": [
    "outcome_of_interest = [\"COPD\", \"SUBSTANCEMISUSE\"]\n",
    "outcome_token = dm.encode(outcome_of_interest)[0]\n",
    "print(outcome_token)\n",
    "# print(model(batch))"
   ]
  },
  {
   "cell_type": "code",
   "execution_count": null,
   "id": "e17f35b1-02d3-4db9-b376-ca44d9c1f770",
   "metadata": {
    "scrolled": true
   },
   "outputs": [],
   "source": [
    "Hs, labels = [], []\n",
    "mins,maxes=[],[]\n",
    "for _idx, batch in enumerate(dm.test_dataloader()):\n",
    "\n",
    "    batch = replace_last_non_pad_with_pad(batch)\n",
    "    print(batch[\"tokens\".shape)\n",
    "    outputs, _, hidden_states = model(batch, is_generation=True)\n",
    "    print(outputs)\n",
    "    \n",
    "    hidden_states = hidden_states.cpu().detach().numpy()                           # (64, 128, 384) \n",
    "    Hs.append( hidden_states.reshape(hidden_states.shape[0], -1) )\n",
    "    labels.append((batch[\"target_token\"] == outcome_token).long().numpy())\n",
    "\n",
    "    if _idx == 9:\n",
    "        break\n",
    "\n"
   ]
  },
  {
   "cell_type": "markdown",
   "id": "fc2bf156-cc66-4276-8c8d-23caec948e2d",
   "metadata": {},
   "source": [
    "# Visualise hidden dimension labelled by target"
   ]
  },
  {
   "cell_type": "code",
   "execution_count": null,
   "id": "5a2d857d-dbb0-487b-8278-42c04bcbea15",
   "metadata": {},
   "outputs": [],
   "source": [
    "import umap\n",
    "from sklearn.preprocessing import StandardScaler\n",
    "\n",
    "H = np.concatenate(Hs, 0)\n",
    "lbl = np.concatenate(labels, 0)\n",
    "\n",
    "H = StandardScaler().fit_transform(H)\n",
    "reducer = umap.UMAP()\n",
    "H_proj = reducer.fit_transform(H)\n",
    "\n",
    "plt.close()\n",
    "plt.scatter(H_proj[:,0], H_proj[:,1], c=lbl)\n",
    "plt.savefig(save_path + f\"zero_shot/hidden_umap.png\")"
   ]
  },
  {
   "cell_type": "code",
   "execution_count": null,
   "id": "ea5e686a-ebe9-43d4-8a14-b88df279ca9d",
   "metadata": {},
   "outputs": [],
   "source": [
    "print(outputs[\"surv\"][\"surv_CDF\"][outcome_token].shape)\n",
    "\n",
    "# The first two tokens in the vocab correspond to the PAD and UNK tokens. There is no CDF corresponding to the PAD token, so the indexing for surv_CDF begins as [\"UNK\", \"ADDISONS_DISEASE\", ...]\n",
    "# print(dm.decode([0,1,2]))\n",
    "\n",
    "outcomes = [\"COPD\", \"SUBSTANCEMISUSE\"]\n",
    "outcome_tokens = dm.encode(outcomes)\n",
    "\n",
    "# for outcome in outcomes:\n",
    "    # observed_outcome_token = dm.encode([outcome])[0]\n",
    "cdf = np.zeros_like(outputs[\"surv\"][\"surv_CDF\"][0])\n",
    "lbls = np.zeros_like(batch[\"target_token\"])\n",
    "\n",
    "for _outcome_token in outcome_tokens:\n",
    "    cdf += outputs[\"surv\"][\"surv_CDF\"][_outcome_token - 1] \n",
    "    lbls += (batch[\"target_token\"] == _outcome_token).long().numpy()\n",
    "\n",
    "plt.close()\n",
    "cdf_true = cdf[lbls==1,:]\n",
    "cdf_false = cdf[lbls==0,:]\n",
    "for i in range(cdf_true.shape[0]):\n",
    "    plt.plot(np.linspace(1,1826,1826), cdf_true[i,:], c=\"r\", label=\"outcome occurred next\" if i == 0 else None, alpha=1)\n",
    "for i in range(cdf_false.shape[0]):\n",
    "    plt.plot(np.linspace(1,1826,1826), cdf_false[i,:], c=\"k\", label=\"outcome did not occur next\" if i == 0 else None, alpha=0.3)\n",
    "\n",
    "plt.legend(loc=2)\n",
    "plt.xlabel(\"days\")\n",
    "plt.ylabel(f\"P(t>T) - outcomes={','.join(outcomes)}\")\n",
    "plt.savefig(save_path + f\"zero_shot/cdf_outcomes.png\")"
   ]
  },
  {
   "cell_type": "code",
   "execution_count": null,
   "id": "619c2049-56bc-47ff-bcea-ce2e529266e2",
   "metadata": {},
   "outputs": [],
   "source": [
    "print(batch[\"target_token\"].unique())\n",
    "print(len(outputs[\"surv\"][\"surv_CDF\"]))"
   ]
  },
  {
   "cell_type": "code",
   "execution_count": null,
   "id": "ecb3417a-d3c7-42f9-b288-82ab49ddb69b",
   "metadata": {},
   "outputs": [],
   "source": [
    "dm.decode([2])"
   ]
  },
  {
   "cell_type": "code",
   "execution_count": null,
   "id": "90115137-0805-4f93-877b-2d98e51439d0",
   "metadata": {},
   "outputs": [],
   "source": [
    "outputs[\"surv\"][\"surv_CDF\"][observed_outcome_token - 1]"
   ]
  },
  {
   "cell_type": "code",
   "execution_count": null,
   "id": "9bacadcc-f857-45e2-94e8-0ca43ccbd196",
   "metadata": {},
   "outputs": [],
   "source": []
  }
 ],
 "metadata": {
  "kernelspec": {
   "display_name": "Python",
   "language": "python",
   "name": "sys_python"
  },
  "language_info": {
   "codemirror_mode": {
    "name": "ipython",
    "version": 3
   },
   "file_extension": ".py",
   "mimetype": "text/x-python",
   "name": "python",
   "nbconvert_exporter": "python",
   "pygments_lexer": "ipython3",
   "version": "3.10.4"
  }
 },
 "nbformat": 4,
 "nbformat_minor": 5
}
