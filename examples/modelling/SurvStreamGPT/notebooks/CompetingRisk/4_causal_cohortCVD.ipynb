{
 "cells": [
  {
   "cell_type": "markdown",
   "id": "4921342e-8ff8-45d4-b1f6-9fe480c2ee1d",
   "metadata": {},
   "source": [
    "# CPRD Notebook:\n",
    "## Evaluation of the pre-trained SurvivEHR-CR model for causal sequence modelling on a supervised cohort study.\n",
    "\n",
    "Cohort study: predicting Cardiovascular Disease in a Type 2 Diabetes Mellitus population.\n",
    "\n",
    "This notebook quantifies the degredation in performance (due to distributional shift) observed when applying the pre-trained model to a sub-population."
   ]
  },
  {
   "cell_type": "code",
   "execution_count": 2,
   "id": "a671c59b-4428-4e63-a138-7244418a87c5",
   "metadata": {},
   "outputs": [
    {
     "name": "stdout",
     "output_type": "stream",
     "text": [
      "Added path '/rds/homes/g/gaddcz/Projects/CPRD/virtual-envTorch2.0-icelake/lib/python3.10/site-packages' at start of search paths.\n",
      "The autoreload extension is already loaded. To reload it, use:\n",
      "  %reload_ext autoreload\n"
     ]
    }
   ],
   "source": [
    "import os\n",
    "from pathlib import Path\n",
    "import sys\n",
    "node_type = os.getenv('BB_CPU')\n",
    "venv_dir = f'/rds/homes/g/gaddcz/Projects/CPRD/virtual-envTorch2.0-{node_type}'\n",
    "venv_site_pkgs = Path(venv_dir) / 'lib' / f'python{sys.version_info.major}.{sys.version_info.minor}' / 'site-packages'\n",
    "if venv_site_pkgs.exists():\n",
    "    sys.path.insert(0, str(venv_site_pkgs))\n",
    "    print(f\"Added path '{venv_site_pkgs}' at start of search paths.\")\n",
    "else:\n",
    "    print(f\"Path '{venv_site_pkgs}' not found. Check that it exists and/or that it exists for node-type '{node_type}'.\")\n",
    "\n",
    "%load_ext autoreload\n",
    "%autoreload 2"
   ]
  },
  {
   "cell_type": "code",
   "execution_count": 3,
   "id": "d866c7f0-eaa8-4129-b3b1-d4d6b504d0a7",
   "metadata": {},
   "outputs": [
    {
     "name": "stdout",
     "output_type": "stream",
     "text": [
      "Using device: cuda.\n",
      "env: SLURM_NTASKS_PER_NODE=28\n"
     ]
    }
   ],
   "source": [
    "import torch\n",
    "import numpy as np\n",
    "import matplotlib.pyplot as plt\n",
    "import logging\n",
    "import wandb\n",
    "from tqdm import tqdm\n",
    "import pickle\n",
    "from hydra import compose, initialize\n",
    "from omegaconf import OmegaConf\n",
    "from CPRD.examples.modelling.SurvStreamGPT.run_experiment import run\n",
    "from CPRD.data.foundational_loader import FoundationalDataModule\n",
    "from CPRD.src.models.survival.task_heads.causal import SurvStreamGPTForCausalModelling\n",
    "from CPRD.examples.modelling.SurvStreamGPT.setup_causal_experiment import setup_causal_experiment, CausalExperiment\n",
    "\n",
    "import time\n",
    "import pyarrow.dataset as ds\n",
    "import pyarrow.parquet as pq\n",
    "import os\n",
    "import polars as pl\n",
    "pl.Config.set_tbl_rows(10000)\n",
    "import pandas as pd\n",
    "pd.options.display.max_rows = 10000\n",
    "\n",
    "torch.manual_seed(1337)\n",
    "torch.set_float32_matmul_precision('medium')\n",
    "\n",
    "logging.basicConfig(level=logging.INFO)\n",
    "device = 'cuda' if torch.cuda.is_available() else 'cpu'\n",
    "# device = \"cpu\"    # if more informative debugging statements are needed\n",
    "print(f\"Using device: {device}.\")\n",
    "\n",
    " # TODO: define an env variable to fix for a local hpc environment issue, this shouldn't be needed\n",
    "%env SLURM_NTASKS_PER_NODE=28   "
   ]
  },
  {
   "cell_type": "markdown",
   "id": "d316b39b-7bd9-43dd-84e5-561c70351a45",
   "metadata": {},
   "source": [
    "## Load configurations\n",
    "The default configuration is for pre-training. Here we modify as necesssary\n",
    "\n",
    "Here we choose to load in the configuration for a small **pre-trained** 11.4M parameter model, named \"CR_11M\". We specfiy the `causal` (equivalently `pre-train` or `self-supervised`) experiment type, which will lead to running the ```CausalExperiment```. \n",
    "\n",
    "We tell this experiment that no further training is needed. Additionally, we do choose to perform testing (true by default). As this is a causal model, this would not test the ability to predict the outcomes of interest, but to perform the causal modelling task on the chosen dataset. In this notebook, this is chosen to be the cohort study for predicting Cardiovascular Disease in a Type 2 Diabetes Mellitus population, and we add the folder containing this dataset to the configuration. \n",
    "\n",
    "```Note: As this is a supervised dataset, we need to tell the DataModule that the last event observed is a target and must be stripped. This is done by passing a list of targets to the configuration, overriding the null default. This lets the DataModule know that it should process batches as supervised, even if we are not going to use those targets in this noteobok```\n",
    "\n",
    "Finally, we set the number of workers to be appropriate for the number of CPUs available to reduce bottlenecking, and tell the experiment that we do not want to limit the number of testing batches. In addition, we specify where we want any checkpoints to be saved to avoid bloating the repository."
   ]
  },
  {
   "cell_type": "code",
   "execution_count": 11,
   "id": "63e00688-1426-4046-910c-45bde94db899",
   "metadata": {
    "scrolled": true
   },
   "outputs": [
    {
     "name": "stderr",
     "output_type": "stream",
     "text": [
      "INFO:root:Running cr on 72 CPUs and 1 GPUs\n",
      "INFO:root:====================================================================================================\n",
      "INFO:root:# Loading DataModule for dataset /rds/projects/g/gokhalkm-optimal/OPTIMAL_MASTER_DATASET/data/FoundationalModel/PreTrain/. This will be loaded in causal form.\n",
      "INFO:root:====================================================================================================\n",
      "INFO:root:Creating unsupervised collator for DataModule\n",
      "INFO:root:Using meta information from /rds/projects/g/gokhalkm-optimal/OPTIMAL_MASTER_DATASET/data/FoundationalModel/PreTrain/meta_information_QuantJenny.pickle\n",
      "INFO:root:Using train file-row count dictionary from /rds/projects/g/gokhalkm-optimal/OPTIMAL_MASTER_DATASET/data/FoundationalModel/PreTrain/file_row_count_dict_train.pickle\n",
      "INFO:root:Using test file-row count dictionary from /rds/projects/g/gokhalkm-optimal/OPTIMAL_MASTER_DATASET/data/FoundationalModel/PreTrain/file_row_count_dict_test.pickle\n",
      "INFO:root:Using val file-row count dictionary from /rds/projects/g/gokhalkm-optimal/OPTIMAL_MASTER_DATASET/data/FoundationalModel/PreTrain/file_row_count_dict_val.pickle\n",
      "INFO:root:Tokenzier created based on 7,555,415,275 tokens\n",
      "INFO:root:Using tabular tokenizer, created from meta information and containing 265 tokens\n",
      "INFO:root:Loaded /rds/projects/g/gokhalkm-optimal/OPTIMAL_MASTER_DATASET/data/FoundationalModel/PreTrain/split=train/ dataset, with 23,613,894 samples\n",
      "INFO:root:Loaded /rds/projects/g/gokhalkm-optimal/OPTIMAL_MASTER_DATASET/data/FoundationalModel/PreTrain/split=test/ dataset, with 1,508,320 samples\n",
      "INFO:root:Loaded /rds/projects/g/gokhalkm-optimal/OPTIMAL_MASTER_DATASET/data/FoundationalModel/PreTrain/split=val/ dataset, with 1,426,714 samples\n",
      "INFO:root:is_decoder: true\n",
      "data:\n",
      "  batch_size: 64\n",
      "  unk_freq_threshold: 0.0\n",
      "  min_workers: 12\n",
      "  global_diagnoses: false\n",
      "  path_to_db: /rds/projects/g/gokhalkm-optimal/OPTIMAL_MASTER_DATASET/data/FoundationalModel/\n",
      "  path_to_ds: /rds/projects/g/gokhalkm-optimal/OPTIMAL_MASTER_DATASET/data/FoundationalModel/PreTrain/\n",
      "  meta_information_path: /rds/projects/g/gokhalkm-optimal/OPTIMAL_MASTER_DATASET/data/FoundationalModel/PreTrain/meta_information_QuantJenny.pickle\n",
      "  subsample_training: null\n",
      "experiment:\n",
      "  type: causal\n",
      "  project_name: SurvivEHR\n",
      "  run_id: notebook-test3\n",
      "  fine_tune_id: null\n",
      "  train: false\n",
      "  test: true\n",
      "  verbose: true\n",
      "  seed: 1337\n",
      "  log: true\n",
      "  log_dir: /rds/projects/s/subramaa-mum-predict/CharlesGadd_Oxford/FoundationModelOutput/\n",
      "  ckpt_dir: /rds/projects/s/subramaa-mum-predict/CharlesGadd_Oxford/FoundationModelOutput/checkpoints/\n",
      "  fine_tune_outcomes: null\n",
      "optim:\n",
      "  num_epochs: 5\n",
      "  learning_rate: 0.0003\n",
      "  scheduler_warmup: true\n",
      "  scheduler: CAWarmRestarts\n",
      "  scheduler_periods: 10000\n",
      "  learning_rate_decay: 0.8\n",
      "  val_check_interval: 2500\n",
      "  early_stop: true\n",
      "  early_stop_patience: 30\n",
      "  log_every_n_steps: 20\n",
      "  limit_val_batches: 0.025\n",
      "  limit_test_batches: 0.01\n",
      "transformer:\n",
      "  block_type: Neo\n",
      "  block_size: 256\n",
      "  n_layer: 10\n",
      "  n_head: 8\n",
      "  n_embd: 1024\n",
      "  layer_norm_bias: false\n",
      "  attention_type: global\n",
      "  bias: true\n",
      "  dropout: 0.0\n",
      "  attention_dropout: 0.0\n",
      "  resid_dropout: 0.0\n",
      "  private_heads: 0\n",
      "head:\n",
      "  SurvLayer: cr\n",
      "  surv_weight: 0.5\n",
      "  tokens_for_univariate_regression:\n",
      "  - 84\n",
      "  - 86\n",
      "  - 107\n",
      "  - 154\n",
      "  - 42\n",
      "  - 231\n",
      "  - 63\n",
      "  - 85\n",
      "  - 247\n",
      "  - 51\n",
      "  - 103\n",
      "  - 146\n",
      "  - 66\n",
      "  - 172\n",
      "  - 152\n",
      "  - 261\n",
      "  - 235\n",
      "  - 193\n",
      "  - 184\n",
      "  - 101\n",
      "  - 223\n",
      "  - 135\n",
      "  - 226\n",
      "  - 202\n",
      "  - 145\n",
      "  - 244\n",
      "  - 165\n",
      "  - 64\n",
      "  - 185\n",
      "  - 238\n",
      "  - 220\n",
      "  - 232\n",
      "  - 240\n",
      "  - 237\n",
      "  - 17\n",
      "  - 239\n",
      "  - 217\n",
      "  - 118\n",
      "  - 219\n",
      "  - 251\n",
      "  - 25\n",
      "  - 150\n",
      "  - 111\n",
      "  - 102\n",
      "  - 15\n",
      "  - 110\n",
      "  - 130\n",
      "  - 128\n",
      "  - 122\n",
      "  - 99\n",
      "  - 77\n",
      "  - 96\n",
      "  - 140\n",
      "  - 50\n",
      "  - 80\n",
      "  - 108\n",
      "  - 138\n",
      "  - 27\n",
      "  - 139\n",
      "  - 125\n",
      "  - 117\n",
      "  - 105\n",
      "  - 109\n",
      "  - 243\n",
      "  - 236\n",
      "  - 208\n",
      "  - 98\n",
      "  - 176\n",
      "  - 209\n",
      "  - 194\n",
      "  - 61\n",
      "  - 73\n",
      "  - 214\n",
      "  - 206\n",
      "  - 229\n",
      "  - 225\n",
      "  - 183\n",
      "  - 186\n",
      "  - 215\n",
      "  - 187\n",
      "  - 248\n",
      "  - 179\n",
      "  - 163\n",
      "  - 180\n",
      "  - 181\n",
      "  - 153\n",
      "  - 245\n",
      "  - 54\n",
      "  - 246\n",
      "  - 112\n",
      "  - 212\n",
      "  - 141\n",
      "  - 204\n",
      "  - 227\n",
      "  - 173\n",
      "  - 55\n",
      "  - 119\n",
      "  - 262\n",
      "  - 127\n",
      "  - 71\n",
      "  - 59\n",
      "  - 144\n",
      "  - 113\n",
      "  - 170\n",
      "  - 241\n",
      "  - 168\n",
      "  - 47\n",
      "  - 159\n",
      "  value_weight: 0.5\n",
      "\n",
      "INFO:root:====================================================================================================\n",
      "INFO:root:# Pre-training experiment\n",
      "INFO:root:====================================================================================================\n",
      "INFO:root:Loading a pre-trained model with the checkpoint path /rds/projects/s/subramaa-mum-predict/CharlesGadd_Oxford/FoundationModelOutput/checkpoints/notebook-test3.ckpt.\n",
      "INFO:root:Using Temporal Positional Encoding. This module uses the patient's age at an event within their time series.\n",
      "INFO:root:Using Competing-Risk DeSurv head.\n",
      "INFO:root:In generation forwarding DeSurv on the grid between [0.0, 1.0] with 1000 intervals\n",
      "INFO:root:Creating hidden state embedding callback\n",
      "INFO:root:Created Performance metric callback for causal self-supervised tasks.\n",
      "GPU available: True (cuda), used: True\n",
      "TPU available: False, using: 0 TPU cores\n",
      "IPU available: False, using: 0 IPUs\n",
      "HPU available: False, using: 0 HPUs\n",
      "INFO:root:Testing model.\n"
     ]
    },
    {
     "data": {
      "text/html": [
       "wandb version 0.18.7 is available!  To upgrade, please run:\n",
       " $ pip install wandb --upgrade"
      ],
      "text/plain": [
       "<IPython.core.display.HTML object>"
      ]
     },
     "metadata": {},
     "output_type": "display_data"
    },
    {
     "data": {
      "text/html": [
       "Tracking run with wandb version 0.13.6"
      ],
      "text/plain": [
       "<IPython.core.display.HTML object>"
      ]
     },
     "metadata": {},
     "output_type": "display_data"
    },
    {
     "data": {
      "text/html": [
       "Run data is saved locally in <code>/rds/projects/s/subramaa-mum-predict/CharlesGadd_Oxford/FoundationModelOutput/wandb/run-20241125_212114-1rubver8</code>"
      ],
      "text/plain": [
       "<IPython.core.display.HTML object>"
      ]
     },
     "metadata": {},
     "output_type": "display_data"
    },
    {
     "data": {
      "text/html": [
       "Syncing run <strong><a href=\"https://wandb.ai/cwlgadd/SurvivEHR/runs/1rubver8\" target=\"_blank\">notebook-test3</a></strong> to <a href=\"https://wandb.ai/cwlgadd/SurvivEHR\" target=\"_blank\">Weights & Biases</a> (<a href=\"https://wandb.me/run\" target=\"_blank\">docs</a>)<br/>"
      ],
      "text/plain": [
       "<IPython.core.display.HTML object>"
      ]
     },
     "metadata": {},
     "output_type": "display_data"
    },
    {
     "name": "stderr",
     "output_type": "stream",
     "text": [
      "LOCAL_RANK: 0 - CUDA_VISIBLE_DEVICES: [0]\n",
      "SLURM auto-requeueing enabled. Setting signal handlers.\n"
     ]
    },
    {
     "data": {
      "application/vnd.jupyter.widget-view+json": {
       "model_id": "739197b1106a4dec9ee34d5646d2e812",
       "version_major": 2,
       "version_minor": 0
      },
      "text/plain": [
       "Testing: |          | 0/? [00:00<?, ?it/s]"
      ]
     },
     "metadata": {},
     "output_type": "display_data"
    },
    {
     "data": {
      "text/html": [
       "<pre style=\"white-space:pre;overflow-x:auto;line-height:normal;font-family:Menlo,'DejaVu Sans Mono',consolas,'Courier New',monospace\">┏━━━━━━━━━━━━━━━━━━━━━━━━━━━┳━━━━━━━━━━━━━━━━━━━━━━━━━━━┓\n",
       "┃<span style=\"font-weight: bold\">        Test metric        </span>┃<span style=\"font-weight: bold\">       DataLoader 0        </span>┃\n",
       "┡━━━━━━━━━━━━━━━━━━━━━━━━━━━╇━━━━━━━━━━━━━━━━━━━━━━━━━━━┩\n",
       "│<span style=\"color: #008080; text-decoration-color: #008080\">        Test:Cinter        </span>│<span style=\"color: #800080; text-decoration-color: #800080\">    0.9866194395177743     </span>│\n",
       "│<span style=\"color: #008080; text-decoration-color: #008080\">      Test:Cintra100       </span>│<span style=\"color: #800080; text-decoration-color: #800080\">    0.7414448669201521     </span>│\n",
       "│<span style=\"color: #008080; text-decoration-color: #008080\">      Test:Cintra101       </span>│<span style=\"color: #800080; text-decoration-color: #800080\">    0.9182509505703422     </span>│\n",
       "│<span style=\"color: #008080; text-decoration-color: #008080\">      Test:Cintra104       </span>│<span style=\"color: #800080; text-decoration-color: #800080\">    0.7946768060836502     </span>│\n",
       "│<span style=\"color: #008080; text-decoration-color: #008080\">      Test:Cintra106       </span>│<span style=\"color: #800080; text-decoration-color: #800080\">    0.7675176534492125     </span>│\n",
       "│<span style=\"color: #008080; text-decoration-color: #008080\">      Test:Cintra107       </span>│<span style=\"color: #800080; text-decoration-color: #800080\">    0.6376425855513307     </span>│\n",
       "│<span style=\"color: #008080; text-decoration-color: #008080\">       Test:Cintra11       </span>│<span style=\"color: #800080; text-decoration-color: #800080\">    0.34980988593155893    </span>│\n",
       "│<span style=\"color: #008080; text-decoration-color: #008080\">      Test:Cintra112       </span>│<span style=\"color: #800080; text-decoration-color: #800080\">     0.667300380228137     </span>│\n",
       "│<span style=\"color: #008080; text-decoration-color: #008080\">      Test:Cintra113       </span>│<span style=\"color: #800080; text-decoration-color: #800080\">    0.8517110266159695     </span>│\n",
       "│<span style=\"color: #008080; text-decoration-color: #008080\">      Test:Cintra114       </span>│<span style=\"color: #800080; text-decoration-color: #800080\">    0.8920152091254753     </span>│\n",
       "│<span style=\"color: #008080; text-decoration-color: #008080\">      Test:Cintra118       </span>│<span style=\"color: #800080; text-decoration-color: #800080\">    0.9602488765986863     </span>│\n",
       "│<span style=\"color: #008080; text-decoration-color: #008080\">      Test:Cintra119       </span>│<span style=\"color: #800080; text-decoration-color: #800080\">    0.9546768060836502     </span>│\n",
       "│<span style=\"color: #008080; text-decoration-color: #008080\">      Test:Cintra120       </span>│<span style=\"color: #800080; text-decoration-color: #800080\">    0.7072243346007605     </span>│\n",
       "│<span style=\"color: #008080; text-decoration-color: #008080\">      Test:Cintra123       </span>│<span style=\"color: #800080; text-decoration-color: #800080\">    0.9693282636248415     </span>│\n",
       "│<span style=\"color: #008080; text-decoration-color: #008080\">      Test:Cintra124       </span>│<span style=\"color: #800080; text-decoration-color: #800080\">    0.8783269961977186     </span>│\n",
       "│<span style=\"color: #008080; text-decoration-color: #008080\">      Test:Cintra126       </span>│<span style=\"color: #800080; text-decoration-color: #800080\">    0.9357068786726582     </span>│\n",
       "│<span style=\"color: #008080; text-decoration-color: #008080\">      Test:Cintra127       </span>│<span style=\"color: #800080; text-decoration-color: #800080\">    0.8935361216730038     </span>│\n",
       "│<span style=\"color: #008080; text-decoration-color: #008080\">      Test:Cintra129       </span>│<span style=\"color: #800080; text-decoration-color: #800080\">    0.9225285171102662     </span>│\n",
       "│<span style=\"color: #008080; text-decoration-color: #008080\">      Test:Cintra130       </span>│<span style=\"color: #800080; text-decoration-color: #800080\">    0.9761301225179554     </span>│\n",
       "│<span style=\"color: #008080; text-decoration-color: #008080\">      Test:Cintra131       </span>│<span style=\"color: #800080; text-decoration-color: #800080\">      0.9709336713139      </span>│\n",
       "│<span style=\"color: #008080; text-decoration-color: #008080\">      Test:Cintra133       </span>│<span style=\"color: #800080; text-decoration-color: #800080\">    0.9166954718285517     </span>│\n",
       "│<span style=\"color: #008080; text-decoration-color: #008080\">      Test:Cintra134       </span>│<span style=\"color: #800080; text-decoration-color: #800080\">    0.9093789607097591     </span>│\n",
       "│<span style=\"color: #008080; text-decoration-color: #008080\">      Test:Cintra135       </span>│<span style=\"color: #800080; text-decoration-color: #800080\">     0.923954372623574     </span>│\n",
       "│<span style=\"color: #008080; text-decoration-color: #008080\">      Test:Cintra136       </span>│<span style=\"color: #800080; text-decoration-color: #800080\">     0.939445148570624     </span>│\n",
       "│<span style=\"color: #008080; text-decoration-color: #008080\">      Test:Cintra141       </span>│<span style=\"color: #800080; text-decoration-color: #800080\">    0.7934093789607098     </span>│\n",
       "│<span style=\"color: #008080; text-decoration-color: #008080\">      Test:Cintra143       </span>│<span style=\"color: #800080; text-decoration-color: #800080\">     0.895226024503591     </span>│\n",
       "│<span style=\"color: #008080; text-decoration-color: #008080\">      Test:Cintra144       </span>│<span style=\"color: #800080; text-decoration-color: #800080\">    0.9797211660329531     </span>│\n",
       "│<span style=\"color: #008080; text-decoration-color: #008080\">      Test:Cintra145       </span>│<span style=\"color: #800080; text-decoration-color: #800080\">    0.8598587724063009     </span>│\n",
       "│<span style=\"color: #008080; text-decoration-color: #008080\">      Test:Cintra146       </span>│<span style=\"color: #800080; text-decoration-color: #800080\">    0.9074635792711581     </span>│\n",
       "│<span style=\"color: #008080; text-decoration-color: #008080\">      Test:Cintra148       </span>│<span style=\"color: #800080; text-decoration-color: #800080\">    0.8824217607487571     </span>│\n",
       "│<span style=\"color: #008080; text-decoration-color: #008080\">      Test:Cintra149       </span>│<span style=\"color: #800080; text-decoration-color: #800080\">    0.9368821292775665     </span>│\n",
       "│<span style=\"color: #008080; text-decoration-color: #008080\">      Test:Cintra150       </span>│<span style=\"color: #800080; text-decoration-color: #800080\">    0.9534220532319393     </span>│\n",
       "│<span style=\"color: #008080; text-decoration-color: #008080\">      Test:Cintra152       </span>│<span style=\"color: #800080; text-decoration-color: #800080\">    0.9361759913090714     </span>│\n",
       "│<span style=\"color: #008080; text-decoration-color: #008080\">      Test:Cintra153       </span>│<span style=\"color: #800080; text-decoration-color: #800080\">    0.9932403886776515     </span>│\n",
       "│<span style=\"color: #008080; text-decoration-color: #008080\">      Test:Cintra154       </span>│<span style=\"color: #800080; text-decoration-color: #800080\">    0.9286016054076887     </span>│\n",
       "│<span style=\"color: #008080; text-decoration-color: #008080\">      Test:Cintra155       </span>│<span style=\"color: #800080; text-decoration-color: #800080\">     0.982074959261271     </span>│\n",
       "│<span style=\"color: #008080; text-decoration-color: #008080\">      Test:Cintra156       </span>│<span style=\"color: #800080; text-decoration-color: #800080\">    0.9819804926434127     </span>│\n",
       "│<span style=\"color: #008080; text-decoration-color: #008080\">      Test:Cintra157       </span>│<span style=\"color: #800080; text-decoration-color: #800080\">    0.9839903942365421     </span>│\n",
       "│<span style=\"color: #008080; text-decoration-color: #008080\">      Test:Cintra158       </span>│<span style=\"color: #800080; text-decoration-color: #800080\">    0.9441297431520155     </span>│\n",
       "│<span style=\"color: #008080; text-decoration-color: #008080\">      Test:Cintra159       </span>│<span style=\"color: #800080; text-decoration-color: #800080\">    0.9863117870722432     </span>│\n",
       "│<span style=\"color: #008080; text-decoration-color: #008080\">      Test:Cintra160       </span>│<span style=\"color: #800080; text-decoration-color: #800080\">    0.9489407930472569     </span>│\n",
       "│<span style=\"color: #008080; text-decoration-color: #008080\">      Test:Cintra161       </span>│<span style=\"color: #800080; text-decoration-color: #800080\">    0.9495197118270958     </span>│\n",
       "│<span style=\"color: #008080; text-decoration-color: #008080\">      Test:Cintra162       </span>│<span style=\"color: #800080; text-decoration-color: #800080\">    0.9416983523447402     </span>│\n",
       "│<span style=\"color: #008080; text-decoration-color: #008080\">      Test:Cintra163       </span>│<span style=\"color: #800080; text-decoration-color: #800080\">    0.9619771863117871     </span>│\n",
       "│<span style=\"color: #008080; text-decoration-color: #008080\">      Test:Cintra164       </span>│<span style=\"color: #800080; text-decoration-color: #800080\">    0.9918884664131816     </span>│\n",
       "│<span style=\"color: #008080; text-decoration-color: #008080\">      Test:Cintra165       </span>│<span style=\"color: #800080; text-decoration-color: #800080\">    0.9857414448669202     </span>│\n",
       "│<span style=\"color: #008080; text-decoration-color: #008080\">      Test:Cintra166       </span>│<span style=\"color: #800080; text-decoration-color: #800080\">    0.9864204236827812     </span>│\n",
       "│<span style=\"color: #008080; text-decoration-color: #008080\">      Test:Cintra167       </span>│<span style=\"color: #800080; text-decoration-color: #800080\">    0.9547290874524715     </span>│\n",
       "│<span style=\"color: #008080; text-decoration-color: #008080\">      Test:Cintra168       </span>│<span style=\"color: #800080; text-decoration-color: #800080\">    0.9702039405461464     </span>│\n",
       "│<span style=\"color: #008080; text-decoration-color: #008080\">      Test:Cintra169       </span>│<span style=\"color: #800080; text-decoration-color: #800080\">    0.9628221377270807     </span>│\n",
       "│<span style=\"color: #008080; text-decoration-color: #008080\">      Test:Cintra170       </span>│<span style=\"color: #800080; text-decoration-color: #800080\">    0.9818086930589736     </span>│\n",
       "│<span style=\"color: #008080; text-decoration-color: #008080\">      Test:Cintra171       </span>│<span style=\"color: #800080; text-decoration-color: #800080\">    0.9378357173033983     </span>│\n",
       "│<span style=\"color: #008080; text-decoration-color: #008080\">      Test:Cintra172       </span>│<span style=\"color: #800080; text-decoration-color: #800080\">    0.9246035426133731     </span>│\n",
       "│<span style=\"color: #008080; text-decoration-color: #008080\">      Test:Cintra173       </span>│<span style=\"color: #800080; text-decoration-color: #800080\">    0.9939963978387034     </span>│\n",
       "│<span style=\"color: #008080; text-decoration-color: #008080\">      Test:Cintra174       </span>│<span style=\"color: #800080; text-decoration-color: #800080\">    0.9936628643852979     </span>│\n",
       "│<span style=\"color: #008080; text-decoration-color: #008080\">      Test:Cintra175       </span>│<span style=\"color: #800080; text-decoration-color: #800080\">    0.9881706801858895     </span>│\n",
       "│<span style=\"color: #008080; text-decoration-color: #008080\">      Test:Cintra176       </span>│<span style=\"color: #800080; text-decoration-color: #800080\">    0.9685447632215692     </span>│\n",
       "│<span style=\"color: #008080; text-decoration-color: #008080\">      Test:Cintra177       </span>│<span style=\"color: #800080; text-decoration-color: #800080\">    0.9837045084193375     </span>│\n",
       "│<span style=\"color: #008080; text-decoration-color: #008080\">      Test:Cintra178       </span>│<span style=\"color: #800080; text-decoration-color: #800080\">    0.9401911417120541     </span>│\n",
       "│<span style=\"color: #008080; text-decoration-color: #008080\">      Test:Cintra179       </span>│<span style=\"color: #800080; text-decoration-color: #800080\">    0.9839670468948039     </span>│\n",
       "│<span style=\"color: #008080; text-decoration-color: #008080\">      Test:Cintra180       </span>│<span style=\"color: #800080; text-decoration-color: #800080\">    0.9904942965779469     </span>│\n",
       "│<span style=\"color: #008080; text-decoration-color: #008080\">      Test:Cintra181       </span>│<span style=\"color: #800080; text-decoration-color: #800080\">    0.9902830587241235     </span>│\n",
       "│<span style=\"color: #008080; text-decoration-color: #008080\">      Test:Cintra182       </span>│<span style=\"color: #800080; text-decoration-color: #800080\">    0.9758974028484888     </span>│\n",
       "│<span style=\"color: #008080; text-decoration-color: #008080\">      Test:Cintra183       </span>│<span style=\"color: #800080; text-decoration-color: #800080\">    0.9981547752180724     </span>│\n",
       "│<span style=\"color: #008080; text-decoration-color: #008080\">      Test:Cintra184       </span>│<span style=\"color: #800080; text-decoration-color: #800080\">    0.9769410033116646     </span>│\n",
       "│<span style=\"color: #008080; text-decoration-color: #008080\">      Test:Cintra185       </span>│<span style=\"color: #800080; text-decoration-color: #800080\">    0.8257287705956907     </span>│\n",
       "│<span style=\"color: #008080; text-decoration-color: #008080\">      Test:Cintra186       </span>│<span style=\"color: #800080; text-decoration-color: #800080\">    0.9974322255691083     </span>│\n",
       "│<span style=\"color: #008080; text-decoration-color: #008080\">      Test:Cintra187       </span>│<span style=\"color: #800080; text-decoration-color: #800080\">    0.9990640538169056     </span>│\n",
       "│<span style=\"color: #008080; text-decoration-color: #008080\">      Test:Cintra188       </span>│<span style=\"color: #800080; text-decoration-color: #800080\">    0.9694890104794588     </span>│\n",
       "│<span style=\"color: #008080; text-decoration-color: #008080\">      Test:Cintra189       </span>│<span style=\"color: #800080; text-decoration-color: #800080\">    0.9653449212384574     </span>│\n",
       "│<span style=\"color: #008080; text-decoration-color: #008080\">      Test:Cintra190       </span>│<span style=\"color: #800080; text-decoration-color: #800080\">    0.9902227050516024     </span>│\n",
       "│<span style=\"color: #008080; text-decoration-color: #008080\">      Test:Cintra191       </span>│<span style=\"color: #800080; text-decoration-color: #800080\">    0.9009351556880073     </span>│\n",
       "│<span style=\"color: #008080; text-decoration-color: #008080\">      Test:Cintra192       </span>│<span style=\"color: #800080; text-decoration-color: #800080\">    0.9588662288282059     </span>│\n",
       "│<span style=\"color: #008080; text-decoration-color: #008080\">      Test:Cintra193       </span>│<span style=\"color: #800080; text-decoration-color: #800080\">    0.9635428315813024     </span>│\n",
       "│<span style=\"color: #008080; text-decoration-color: #008080\">      Test:Cintra194       </span>│<span style=\"color: #800080; text-decoration-color: #800080\">    0.9824545329607403     </span>│\n",
       "│<span style=\"color: #008080; text-decoration-color: #008080\">      Test:Cintra195       </span>│<span style=\"color: #800080; text-decoration-color: #800080\">    0.9871213050410893     </span>│\n",
       "│<span style=\"color: #008080; text-decoration-color: #008080\">      Test:Cintra196       </span>│<span style=\"color: #800080; text-decoration-color: #800080\">    0.9348859315589352     </span>│\n",
       "│<span style=\"color: #008080; text-decoration-color: #008080\">      Test:Cintra197       </span>│<span style=\"color: #800080; text-decoration-color: #800080\">    0.9607889733840307     </span>│\n",
       "│<span style=\"color: #008080; text-decoration-color: #008080\">      Test:Cintra198       </span>│<span style=\"color: #800080; text-decoration-color: #800080\">    0.9463455851288552     </span>│\n",
       "│<span style=\"color: #008080; text-decoration-color: #008080\">      Test:Cintra199       </span>│<span style=\"color: #800080; text-decoration-color: #800080\">     0.987959442332066     </span>│\n",
       "│<span style=\"color: #008080; text-decoration-color: #008080\">      Test:Cintra200       </span>│<span style=\"color: #800080; text-decoration-color: #800080\">    0.9847908745247148     </span>│\n",
       "│<span style=\"color: #008080; text-decoration-color: #008080\">      Test:Cintra201       </span>│<span style=\"color: #800080; text-decoration-color: #800080\">    0.9864980212617371     </span>│\n",
       "│<span style=\"color: #008080; text-decoration-color: #008080\">      Test:Cintra202       </span>│<span style=\"color: #800080; text-decoration-color: #800080\">     0.982634356733443     </span>│\n",
       "│<span style=\"color: #008080; text-decoration-color: #008080\">      Test:Cintra204       </span>│<span style=\"color: #800080; text-decoration-color: #800080\">     0.996372536165378     </span>│\n",
       "│<span style=\"color: #008080; text-decoration-color: #008080\">      Test:Cintra205       </span>│<span style=\"color: #800080; text-decoration-color: #800080\">    0.9437262357414449     </span>│\n",
       "│<span style=\"color: #008080; text-decoration-color: #008080\">      Test:Cintra206       </span>│<span style=\"color: #800080; text-decoration-color: #800080\">    0.9901190714428667     </span>│\n",
       "│<span style=\"color: #008080; text-decoration-color: #008080\">      Test:Cintra207       </span>│<span style=\"color: #800080; text-decoration-color: #800080\">    0.9846123636623301     </span>│\n",
       "│<span style=\"color: #008080; text-decoration-color: #008080\">      Test:Cintra208       </span>│<span style=\"color: #800080; text-decoration-color: #800080\">    0.9987374664180749     </span>│\n",
       "│<span style=\"color: #008080; text-decoration-color: #008080\">      Test:Cintra209       </span>│<span style=\"color: #800080; text-decoration-color: #800080\">    0.9852133502323623     </span>│\n",
       "│<span style=\"color: #008080; text-decoration-color: #008080\">      Test:Cintra210       </span>│<span style=\"color: #800080; text-decoration-color: #800080\">    0.9660656609019178     </span>│\n",
       "│<span style=\"color: #008080; text-decoration-color: #008080\">      Test:Cintra211       </span>│<span style=\"color: #800080; text-decoration-color: #800080\">     0.99347586694093      </span>│\n",
       "│<span style=\"color: #008080; text-decoration-color: #008080\">      Test:Cintra212       </span>│<span style=\"color: #800080; text-decoration-color: #800080\">    0.9977871969083093     </span>│\n",
       "│<span style=\"color: #008080; text-decoration-color: #008080\">      Test:Cintra213       </span>│<span style=\"color: #800080; text-decoration-color: #800080\">    0.9653720803910921     </span>│\n",
       "│<span style=\"color: #008080; text-decoration-color: #008080\">      Test:Cintra214       </span>│<span style=\"color: #800080; text-decoration-color: #800080\">    0.9919058731376172     </span>│\n",
       "│<span style=\"color: #008080; text-decoration-color: #008080\">      Test:Cintra215       </span>│<span style=\"color: #800080; text-decoration-color: #800080\">    0.9943172425194254     </span>│\n",
       "│<span style=\"color: #008080; text-decoration-color: #008080\">      Test:Cintra216       </span>│<span style=\"color: #800080; text-decoration-color: #800080\">    0.9833122095479511     </span>│\n",
       "│<span style=\"color: #008080; text-decoration-color: #008080\">      Test:Cintra217       </span>│<span style=\"color: #800080; text-decoration-color: #800080\">    0.9885291751974213     </span>│\n",
       "│<span style=\"color: #008080; text-decoration-color: #008080\">      Test:Cintra218       </span>│<span style=\"color: #800080; text-decoration-color: #800080\">    0.9752851711026617     </span>│\n",
       "│<span style=\"color: #008080; text-decoration-color: #008080\">      Test:Cintra219       </span>│<span style=\"color: #800080; text-decoration-color: #800080\">     0.988355513307984     </span>│\n",
       "│<span style=\"color: #008080; text-decoration-color: #008080\">      Test:Cintra220       </span>│<span style=\"color: #800080; text-decoration-color: #800080\">    0.9998913633894622     </span>│\n",
       "│<span style=\"color: #008080; text-decoration-color: #008080\">      Test:Cintra221       </span>│<span style=\"color: #800080; text-decoration-color: #800080\">    0.9798856413084496     </span>│\n",
       "│<span style=\"color: #008080; text-decoration-color: #008080\">      Test:Cintra222       </span>│<span style=\"color: #800080; text-decoration-color: #800080\">    0.9815826996197726     </span>│\n",
       "│<span style=\"color: #008080; text-decoration-color: #008080\">      Test:Cintra223       </span>│<span style=\"color: #800080; text-decoration-color: #800080\">    0.9859363316734816     </span>│\n",
       "│<span style=\"color: #008080; text-decoration-color: #008080\">      Test:Cintra224       </span>│<span style=\"color: #800080; text-decoration-color: #800080\">    0.9885667511618083     </span>│\n",
       "│<span style=\"color: #008080; text-decoration-color: #008080\">      Test:Cintra225       </span>│<span style=\"color: #800080; text-decoration-color: #800080\">    0.9984790874524716     </span>│\n",
       "│<span style=\"color: #008080; text-decoration-color: #008080\">      Test:Cintra226       </span>│<span style=\"color: #800080; text-decoration-color: #800080\">    0.9980394486692018     </span>│\n",
       "│<span style=\"color: #008080; text-decoration-color: #008080\">      Test:Cintra227       </span>│<span style=\"color: #800080; text-decoration-color: #800080\">    0.9981052176456373     </span>│\n",
       "│<span style=\"color: #008080; text-decoration-color: #008080\">      Test:Cintra228       </span>│<span style=\"color: #800080; text-decoration-color: #800080\">    0.9540930440617319     </span>│\n",
       "│<span style=\"color: #008080; text-decoration-color: #008080\">      Test:Cintra229       </span>│<span style=\"color: #800080; text-decoration-color: #800080\">    0.9930021842892972     </span>│\n",
       "│<span style=\"color: #008080; text-decoration-color: #008080\">      Test:Cintra230       </span>│<span style=\"color: #800080; text-decoration-color: #800080\">     0.986655974627429     </span>│\n",
       "│<span style=\"color: #008080; text-decoration-color: #008080\">      Test:Cintra231       </span>│<span style=\"color: #800080; text-decoration-color: #800080\">    0.9841519665897918     </span>│\n",
       "│<span style=\"color: #008080; text-decoration-color: #008080\">      Test:Cintra232       </span>│<span style=\"color: #800080; text-decoration-color: #800080\">    0.9991105774575852     </span>│\n",
       "│<span style=\"color: #008080; text-decoration-color: #008080\">      Test:Cintra233       </span>│<span style=\"color: #800080; text-decoration-color: #800080\">    0.9863117870722437     </span>│\n",
       "│<span style=\"color: #008080; text-decoration-color: #008080\">      Test:Cintra234       </span>│<span style=\"color: #800080; text-decoration-color: #800080\">    0.9893173999637883     </span>│\n",
       "│<span style=\"color: #008080; text-decoration-color: #008080\">      Test:Cintra235       </span>│<span style=\"color: #800080; text-decoration-color: #800080\">    0.9759188846641319     </span>│\n",
       "│<span style=\"color: #008080; text-decoration-color: #008080\">      Test:Cintra236       </span>│<span style=\"color: #800080; text-decoration-color: #800080\">            1.0            </span>│\n",
       "│<span style=\"color: #008080; text-decoration-color: #008080\">      Test:Cintra237       </span>│<span style=\"color: #800080; text-decoration-color: #800080\">    0.9985784783940274     </span>│\n",
       "│<span style=\"color: #008080; text-decoration-color: #008080\">      Test:Cintra238       </span>│<span style=\"color: #800080; text-decoration-color: #800080\">     0.999200129833998     </span>│\n",
       "│<span style=\"color: #008080; text-decoration-color: #008080\">      Test:Cintra239       </span>│<span style=\"color: #800080; text-decoration-color: #800080\">    0.9977299812723457     </span>│\n",
       "│<span style=\"color: #008080; text-decoration-color: #008080\">      Test:Cintra240       </span>│<span style=\"color: #800080; text-decoration-color: #800080\">    0.9916804783724936     </span>│\n",
       "│<span style=\"color: #008080; text-decoration-color: #008080\">      Test:Cintra241       </span>│<span style=\"color: #800080; text-decoration-color: #800080\">    0.9937957398094759     </span>│\n",
       "│<span style=\"color: #008080; text-decoration-color: #008080\">      Test:Cintra242       </span>│<span style=\"color: #800080; text-decoration-color: #800080\">    0.9842476914720266     </span>│\n",
       "│<span style=\"color: #008080; text-decoration-color: #008080\">      Test:Cintra243       </span>│<span style=\"color: #800080; text-decoration-color: #800080\">    0.9962395019429234     </span>│\n",
       "│<span style=\"color: #008080; text-decoration-color: #008080\">      Test:Cintra244       </span>│<span style=\"color: #800080; text-decoration-color: #800080\">    0.9806429312132726     </span>│\n",
       "│<span style=\"color: #008080; text-decoration-color: #008080\">      Test:Cintra245       </span>│<span style=\"color: #800080; text-decoration-color: #800080\">    0.9976297466791754     </span>│\n",
       "│<span style=\"color: #008080; text-decoration-color: #008080\">      Test:Cintra246       </span>│<span style=\"color: #800080; text-decoration-color: #800080\">     0.99990219211913      </span>│\n",
       "│<span style=\"color: #008080; text-decoration-color: #008080\">      Test:Cintra247       </span>│<span style=\"color: #800080; text-decoration-color: #800080\">    0.9869455006337075     </span>│\n",
       "│<span style=\"color: #008080; text-decoration-color: #008080\">      Test:Cintra248       </span>│<span style=\"color: #800080; text-decoration-color: #800080\">    0.9958940220362237     </span>│\n",
       "│<span style=\"color: #008080; text-decoration-color: #008080\">      Test:Cintra249       </span>│<span style=\"color: #800080; text-decoration-color: #800080\">    0.9934910098601538     </span>│\n",
       "│<span style=\"color: #008080; text-decoration-color: #008080\">       Test:Cintra25       </span>│<span style=\"color: #800080; text-decoration-color: #800080\">    0.9391634980988594     </span>│\n",
       "│<span style=\"color: #008080; text-decoration-color: #008080\">      Test:Cintra250       </span>│<span style=\"color: #800080; text-decoration-color: #800080\">     0.989763088622405     </span>│\n",
       "│<span style=\"color: #008080; text-decoration-color: #008080\">      Test:Cintra251       </span>│<span style=\"color: #800080; text-decoration-color: #800080\">    0.9939163498098794     </span>│\n",
       "│<span style=\"color: #008080; text-decoration-color: #008080\">      Test:Cintra252       </span>│<span style=\"color: #800080; text-decoration-color: #800080\">    0.9898911234290777     </span>│\n",
       "│<span style=\"color: #008080; text-decoration-color: #008080\">      Test:Cintra253       </span>│<span style=\"color: #800080; text-decoration-color: #800080\">    0.9960409235231868     </span>│\n",
       "│<span style=\"color: #008080; text-decoration-color: #008080\">      Test:Cintra254       </span>│<span style=\"color: #800080; text-decoration-color: #800080\">    0.9889243223353374     </span>│\n",
       "│<span style=\"color: #008080; text-decoration-color: #008080\">      Test:Cintra255       </span>│<span style=\"color: #800080; text-decoration-color: #800080\">    0.9810664555730025     </span>│\n",
       "│<span style=\"color: #008080; text-decoration-color: #008080\">      Test:Cintra256       </span>│<span style=\"color: #800080; text-decoration-color: #800080\">    0.9875164036474984     </span>│\n",
       "│<span style=\"color: #008080; text-decoration-color: #008080\">      Test:Cintra257       </span>│<span style=\"color: #800080; text-decoration-color: #800080\">    0.9890928843020106     </span>│\n",
       "│<span style=\"color: #008080; text-decoration-color: #008080\">      Test:Cintra258       </span>│<span style=\"color: #800080; text-decoration-color: #800080\">    0.9997609994568171     </span>│\n",
       "│<span style=\"color: #008080; text-decoration-color: #008080\">      Test:Cintra259       </span>│<span style=\"color: #800080; text-decoration-color: #800080\">    0.9925709271716882     </span>│\n",
       "│<span style=\"color: #008080; text-decoration-color: #008080\">      Test:Cintra260       </span>│<span style=\"color: #800080; text-decoration-color: #800080\">    0.9873451423151451     </span>│\n",
       "│<span style=\"color: #008080; text-decoration-color: #008080\">      Test:Cintra261       </span>│<span style=\"color: #800080; text-decoration-color: #800080\">     0.993905639158137     </span>│\n",
       "│<span style=\"color: #008080; text-decoration-color: #008080\">      Test:Cintra262       </span>│<span style=\"color: #800080; text-decoration-color: #800080\">    0.9977522425057228     </span>│\n",
       "│<span style=\"color: #008080; text-decoration-color: #008080\">      Test:Cintra263       </span>│<span style=\"color: #800080; text-decoration-color: #800080\">     0.998747099262422     </span>│\n",
       "│<span style=\"color: #008080; text-decoration-color: #008080\">      Test:Cintra264       </span>│<span style=\"color: #800080; text-decoration-color: #800080\">    0.9942469829723917     </span>│\n",
       "│<span style=\"color: #008080; text-decoration-color: #008080\">       Test:Cintra27       </span>│<span style=\"color: #800080; text-decoration-color: #800080\">    0.20152091254752852    </span>│\n",
       "│<span style=\"color: #008080; text-decoration-color: #008080\">       Test:Cintra29       </span>│<span style=\"color: #800080; text-decoration-color: #800080\">    0.41825095057034223    </span>│\n",
       "│<span style=\"color: #008080; text-decoration-color: #008080\">       Test:Cintra34       </span>│<span style=\"color: #800080; text-decoration-color: #800080\">    0.5171102661596958     </span>│\n",
       "│<span style=\"color: #008080; text-decoration-color: #008080\">       Test:Cintra35       </span>│<span style=\"color: #800080; text-decoration-color: #800080\">    0.6387832699619772     </span>│\n",
       "│<span style=\"color: #008080; text-decoration-color: #008080\">       Test:Cintra38       </span>│<span style=\"color: #800080; text-decoration-color: #800080\">    0.3269961977186312     </span>│\n",
       "│<span style=\"color: #008080; text-decoration-color: #008080\">       Test:Cintra39       </span>│<span style=\"color: #800080; text-decoration-color: #800080\">    0.8326996197718631     </span>│\n",
       "│<span style=\"color: #008080; text-decoration-color: #008080\">       Test:Cintra40       </span>│<span style=\"color: #800080; text-decoration-color: #800080\">    0.5703422053231939     </span>│\n",
       "│<span style=\"color: #008080; text-decoration-color: #008080\">       Test:Cintra44       </span>│<span style=\"color: #800080; text-decoration-color: #800080\">    0.8669201520912547     </span>│\n",
       "│<span style=\"color: #008080; text-decoration-color: #008080\">       Test:Cintra49       </span>│<span style=\"color: #800080; text-decoration-color: #800080\">    0.6387832699619772     </span>│\n",
       "│<span style=\"color: #008080; text-decoration-color: #008080\">       Test:Cintra51       </span>│<span style=\"color: #800080; text-decoration-color: #800080\">     0.550063371356147     </span>│\n",
       "│<span style=\"color: #008080; text-decoration-color: #008080\">       Test:Cintra58       </span>│<span style=\"color: #800080; text-decoration-color: #800080\">    0.7604562737642586     </span>│\n",
       "│<span style=\"color: #008080; text-decoration-color: #008080\">       Test:Cintra60       </span>│<span style=\"color: #800080; text-decoration-color: #800080\">    0.8288973384030418     </span>│\n",
       "│<span style=\"color: #008080; text-decoration-color: #008080\">       Test:Cintra65       </span>│<span style=\"color: #800080; text-decoration-color: #800080\">    0.6140684410646388     </span>│\n",
       "│<span style=\"color: #008080; text-decoration-color: #008080\">       Test:Cintra67       </span>│<span style=\"color: #800080; text-decoration-color: #800080\">    0.4790874524714829     </span>│\n",
       "│<span style=\"color: #008080; text-decoration-color: #008080\">       Test:Cintra70       </span>│<span style=\"color: #800080; text-decoration-color: #800080\">    0.7870722433460076     </span>│\n",
       "│<span style=\"color: #008080; text-decoration-color: #008080\">       Test:Cintra71       </span>│<span style=\"color: #800080; text-decoration-color: #800080\">    0.7072243346007605     </span>│\n",
       "│<span style=\"color: #008080; text-decoration-color: #008080\">       Test:Cintra75       </span>│<span style=\"color: #800080; text-decoration-color: #800080\">    0.6806083650190115     </span>│\n",
       "│<span style=\"color: #008080; text-decoration-color: #008080\">       Test:Cintra78       </span>│<span style=\"color: #800080; text-decoration-color: #800080\">    0.8174904942965779     </span>│\n",
       "│<span style=\"color: #008080; text-decoration-color: #008080\">       Test:Cintra79       </span>│<span style=\"color: #800080; text-decoration-color: #800080\">     0.790874524714829     </span>│\n",
       "│<span style=\"color: #008080; text-decoration-color: #008080\">       Test:Cintra81       </span>│<span style=\"color: #800080; text-decoration-color: #800080\">    0.5665399239543727     </span>│\n",
       "│<span style=\"color: #008080; text-decoration-color: #008080\">       Test:Cintra82       </span>│<span style=\"color: #800080; text-decoration-color: #800080\">    0.7642585551330798     </span>│\n",
       "│<span style=\"color: #008080; text-decoration-color: #008080\">       Test:Cintra83       </span>│<span style=\"color: #800080; text-decoration-color: #800080\">    0.7414448669201521     </span>│\n",
       "│<span style=\"color: #008080; text-decoration-color: #008080\">       Test:Cintra85       </span>│<span style=\"color: #800080; text-decoration-color: #800080\">    0.5357414448669202     </span>│\n",
       "│<span style=\"color: #008080; text-decoration-color: #008080\">       Test:Cintra89       </span>│<span style=\"color: #800080; text-decoration-color: #800080\">    0.6901140684410646     </span>│\n",
       "│<span style=\"color: #008080; text-decoration-color: #008080\">       Test:Cintra91       </span>│<span style=\"color: #800080; text-decoration-color: #800080\">    0.5399239543726235     </span>│\n",
       "│<span style=\"color: #008080; text-decoration-color: #008080\">       Test:Cintra93       </span>│<span style=\"color: #800080; text-decoration-color: #800080\">    0.8346007604562737     </span>│\n",
       "│<span style=\"color: #008080; text-decoration-color: #008080\">       Test:Cintra94       </span>│<span style=\"color: #800080; text-decoration-color: #800080\">     0.697084917617237     </span>│\n",
       "│<span style=\"color: #008080; text-decoration-color: #008080\">       Test:Cintra95       </span>│<span style=\"color: #800080; text-decoration-color: #800080\">    0.9581749049429658     </span>│\n",
       "│<span style=\"color: #008080; text-decoration-color: #008080\">       Test:Cintra97       </span>│<span style=\"color: #800080; text-decoration-color: #800080\">    0.8418250950570343     </span>│\n",
       "│<span style=\"color: #008080; text-decoration-color: #008080\">       Test:Cintra98       </span>│<span style=\"color: #800080; text-decoration-color: #800080\">    0.9812420785804814     </span>│\n",
       "│<span style=\"color: #008080; text-decoration-color: #008080\">     Test:base_Cinter      </span>│<span style=\"color: #800080; text-decoration-color: #800080\">    0.8714721603262547     </span>│\n",
       "│<span style=\"color: #008080; text-decoration-color: #008080\">         test_loss         </span>│<span style=\"color: #800080; text-decoration-color: #800080\">     770.7119750976562     </span>│\n",
       "│<span style=\"color: #008080; text-decoration-color: #008080\">     test_loss_desurv      </span>│<span style=\"color: #800080; text-decoration-color: #800080\">    -4.682337760925293     </span>│\n",
       "│<span style=\"color: #008080; text-decoration-color: #008080\">     test_loss_values      </span>│<span style=\"color: #800080; text-decoration-color: #800080\">    1546.1060791015625     </span>│\n",
       "└───────────────────────────┴───────────────────────────┘\n",
       "</pre>\n"
      ],
      "text/plain": [
       "┏━━━━━━━━━━━━━━━━━━━━━━━━━━━┳━━━━━━━━━━━━━━━━━━━━━━━━━━━┓\n",
       "┃\u001b[1m \u001b[0m\u001b[1m       Test metric       \u001b[0m\u001b[1m \u001b[0m┃\u001b[1m \u001b[0m\u001b[1m      DataLoader 0       \u001b[0m\u001b[1m \u001b[0m┃\n",
       "┡━━━━━━━━━━━━━━━━━━━━━━━━━━━╇━━━━━━━━━━━━━━━━━━━━━━━━━━━┩\n",
       "│\u001b[36m \u001b[0m\u001b[36m       Test:Cinter       \u001b[0m\u001b[36m \u001b[0m│\u001b[35m \u001b[0m\u001b[35m   0.9866194395177743    \u001b[0m\u001b[35m \u001b[0m│\n",
       "│\u001b[36m \u001b[0m\u001b[36m     Test:Cintra100      \u001b[0m\u001b[36m \u001b[0m│\u001b[35m \u001b[0m\u001b[35m   0.7414448669201521    \u001b[0m\u001b[35m \u001b[0m│\n",
       "│\u001b[36m \u001b[0m\u001b[36m     Test:Cintra101      \u001b[0m\u001b[36m \u001b[0m│\u001b[35m \u001b[0m\u001b[35m   0.9182509505703422    \u001b[0m\u001b[35m \u001b[0m│\n",
       "│\u001b[36m \u001b[0m\u001b[36m     Test:Cintra104      \u001b[0m\u001b[36m \u001b[0m│\u001b[35m \u001b[0m\u001b[35m   0.7946768060836502    \u001b[0m\u001b[35m \u001b[0m│\n",
       "│\u001b[36m \u001b[0m\u001b[36m     Test:Cintra106      \u001b[0m\u001b[36m \u001b[0m│\u001b[35m \u001b[0m\u001b[35m   0.7675176534492125    \u001b[0m\u001b[35m \u001b[0m│\n",
       "│\u001b[36m \u001b[0m\u001b[36m     Test:Cintra107      \u001b[0m\u001b[36m \u001b[0m│\u001b[35m \u001b[0m\u001b[35m   0.6376425855513307    \u001b[0m\u001b[35m \u001b[0m│\n",
       "│\u001b[36m \u001b[0m\u001b[36m      Test:Cintra11      \u001b[0m\u001b[36m \u001b[0m│\u001b[35m \u001b[0m\u001b[35m   0.34980988593155893   \u001b[0m\u001b[35m \u001b[0m│\n",
       "│\u001b[36m \u001b[0m\u001b[36m     Test:Cintra112      \u001b[0m\u001b[36m \u001b[0m│\u001b[35m \u001b[0m\u001b[35m    0.667300380228137    \u001b[0m\u001b[35m \u001b[0m│\n",
       "│\u001b[36m \u001b[0m\u001b[36m     Test:Cintra113      \u001b[0m\u001b[36m \u001b[0m│\u001b[35m \u001b[0m\u001b[35m   0.8517110266159695    \u001b[0m\u001b[35m \u001b[0m│\n",
       "│\u001b[36m \u001b[0m\u001b[36m     Test:Cintra114      \u001b[0m\u001b[36m \u001b[0m│\u001b[35m \u001b[0m\u001b[35m   0.8920152091254753    \u001b[0m\u001b[35m \u001b[0m│\n",
       "│\u001b[36m \u001b[0m\u001b[36m     Test:Cintra118      \u001b[0m\u001b[36m \u001b[0m│\u001b[35m \u001b[0m\u001b[35m   0.9602488765986863    \u001b[0m\u001b[35m \u001b[0m│\n",
       "│\u001b[36m \u001b[0m\u001b[36m     Test:Cintra119      \u001b[0m\u001b[36m \u001b[0m│\u001b[35m \u001b[0m\u001b[35m   0.9546768060836502    \u001b[0m\u001b[35m \u001b[0m│\n",
       "│\u001b[36m \u001b[0m\u001b[36m     Test:Cintra120      \u001b[0m\u001b[36m \u001b[0m│\u001b[35m \u001b[0m\u001b[35m   0.7072243346007605    \u001b[0m\u001b[35m \u001b[0m│\n",
       "│\u001b[36m \u001b[0m\u001b[36m     Test:Cintra123      \u001b[0m\u001b[36m \u001b[0m│\u001b[35m \u001b[0m\u001b[35m   0.9693282636248415    \u001b[0m\u001b[35m \u001b[0m│\n",
       "│\u001b[36m \u001b[0m\u001b[36m     Test:Cintra124      \u001b[0m\u001b[36m \u001b[0m│\u001b[35m \u001b[0m\u001b[35m   0.8783269961977186    \u001b[0m\u001b[35m \u001b[0m│\n",
       "│\u001b[36m \u001b[0m\u001b[36m     Test:Cintra126      \u001b[0m\u001b[36m \u001b[0m│\u001b[35m \u001b[0m\u001b[35m   0.9357068786726582    \u001b[0m\u001b[35m \u001b[0m│\n",
       "│\u001b[36m \u001b[0m\u001b[36m     Test:Cintra127      \u001b[0m\u001b[36m \u001b[0m│\u001b[35m \u001b[0m\u001b[35m   0.8935361216730038    \u001b[0m\u001b[35m \u001b[0m│\n",
       "│\u001b[36m \u001b[0m\u001b[36m     Test:Cintra129      \u001b[0m\u001b[36m \u001b[0m│\u001b[35m \u001b[0m\u001b[35m   0.9225285171102662    \u001b[0m\u001b[35m \u001b[0m│\n",
       "│\u001b[36m \u001b[0m\u001b[36m     Test:Cintra130      \u001b[0m\u001b[36m \u001b[0m│\u001b[35m \u001b[0m\u001b[35m   0.9761301225179554    \u001b[0m\u001b[35m \u001b[0m│\n",
       "│\u001b[36m \u001b[0m\u001b[36m     Test:Cintra131      \u001b[0m\u001b[36m \u001b[0m│\u001b[35m \u001b[0m\u001b[35m     0.9709336713139     \u001b[0m\u001b[35m \u001b[0m│\n",
       "│\u001b[36m \u001b[0m\u001b[36m     Test:Cintra133      \u001b[0m\u001b[36m \u001b[0m│\u001b[35m \u001b[0m\u001b[35m   0.9166954718285517    \u001b[0m\u001b[35m \u001b[0m│\n",
       "│\u001b[36m \u001b[0m\u001b[36m     Test:Cintra134      \u001b[0m\u001b[36m \u001b[0m│\u001b[35m \u001b[0m\u001b[35m   0.9093789607097591    \u001b[0m\u001b[35m \u001b[0m│\n",
       "│\u001b[36m \u001b[0m\u001b[36m     Test:Cintra135      \u001b[0m\u001b[36m \u001b[0m│\u001b[35m \u001b[0m\u001b[35m    0.923954372623574    \u001b[0m\u001b[35m \u001b[0m│\n",
       "│\u001b[36m \u001b[0m\u001b[36m     Test:Cintra136      \u001b[0m\u001b[36m \u001b[0m│\u001b[35m \u001b[0m\u001b[35m    0.939445148570624    \u001b[0m\u001b[35m \u001b[0m│\n",
       "│\u001b[36m \u001b[0m\u001b[36m     Test:Cintra141      \u001b[0m\u001b[36m \u001b[0m│\u001b[35m \u001b[0m\u001b[35m   0.7934093789607098    \u001b[0m\u001b[35m \u001b[0m│\n",
       "│\u001b[36m \u001b[0m\u001b[36m     Test:Cintra143      \u001b[0m\u001b[36m \u001b[0m│\u001b[35m \u001b[0m\u001b[35m    0.895226024503591    \u001b[0m\u001b[35m \u001b[0m│\n",
       "│\u001b[36m \u001b[0m\u001b[36m     Test:Cintra144      \u001b[0m\u001b[36m \u001b[0m│\u001b[35m \u001b[0m\u001b[35m   0.9797211660329531    \u001b[0m\u001b[35m \u001b[0m│\n",
       "│\u001b[36m \u001b[0m\u001b[36m     Test:Cintra145      \u001b[0m\u001b[36m \u001b[0m│\u001b[35m \u001b[0m\u001b[35m   0.8598587724063009    \u001b[0m\u001b[35m \u001b[0m│\n",
       "│\u001b[36m \u001b[0m\u001b[36m     Test:Cintra146      \u001b[0m\u001b[36m \u001b[0m│\u001b[35m \u001b[0m\u001b[35m   0.9074635792711581    \u001b[0m\u001b[35m \u001b[0m│\n",
       "│\u001b[36m \u001b[0m\u001b[36m     Test:Cintra148      \u001b[0m\u001b[36m \u001b[0m│\u001b[35m \u001b[0m\u001b[35m   0.8824217607487571    \u001b[0m\u001b[35m \u001b[0m│\n",
       "│\u001b[36m \u001b[0m\u001b[36m     Test:Cintra149      \u001b[0m\u001b[36m \u001b[0m│\u001b[35m \u001b[0m\u001b[35m   0.9368821292775665    \u001b[0m\u001b[35m \u001b[0m│\n",
       "│\u001b[36m \u001b[0m\u001b[36m     Test:Cintra150      \u001b[0m\u001b[36m \u001b[0m│\u001b[35m \u001b[0m\u001b[35m   0.9534220532319393    \u001b[0m\u001b[35m \u001b[0m│\n",
       "│\u001b[36m \u001b[0m\u001b[36m     Test:Cintra152      \u001b[0m\u001b[36m \u001b[0m│\u001b[35m \u001b[0m\u001b[35m   0.9361759913090714    \u001b[0m\u001b[35m \u001b[0m│\n",
       "│\u001b[36m \u001b[0m\u001b[36m     Test:Cintra153      \u001b[0m\u001b[36m \u001b[0m│\u001b[35m \u001b[0m\u001b[35m   0.9932403886776515    \u001b[0m\u001b[35m \u001b[0m│\n",
       "│\u001b[36m \u001b[0m\u001b[36m     Test:Cintra154      \u001b[0m\u001b[36m \u001b[0m│\u001b[35m \u001b[0m\u001b[35m   0.9286016054076887    \u001b[0m\u001b[35m \u001b[0m│\n",
       "│\u001b[36m \u001b[0m\u001b[36m     Test:Cintra155      \u001b[0m\u001b[36m \u001b[0m│\u001b[35m \u001b[0m\u001b[35m    0.982074959261271    \u001b[0m\u001b[35m \u001b[0m│\n",
       "│\u001b[36m \u001b[0m\u001b[36m     Test:Cintra156      \u001b[0m\u001b[36m \u001b[0m│\u001b[35m \u001b[0m\u001b[35m   0.9819804926434127    \u001b[0m\u001b[35m \u001b[0m│\n",
       "│\u001b[36m \u001b[0m\u001b[36m     Test:Cintra157      \u001b[0m\u001b[36m \u001b[0m│\u001b[35m \u001b[0m\u001b[35m   0.9839903942365421    \u001b[0m\u001b[35m \u001b[0m│\n",
       "│\u001b[36m \u001b[0m\u001b[36m     Test:Cintra158      \u001b[0m\u001b[36m \u001b[0m│\u001b[35m \u001b[0m\u001b[35m   0.9441297431520155    \u001b[0m\u001b[35m \u001b[0m│\n",
       "│\u001b[36m \u001b[0m\u001b[36m     Test:Cintra159      \u001b[0m\u001b[36m \u001b[0m│\u001b[35m \u001b[0m\u001b[35m   0.9863117870722432    \u001b[0m\u001b[35m \u001b[0m│\n",
       "│\u001b[36m \u001b[0m\u001b[36m     Test:Cintra160      \u001b[0m\u001b[36m \u001b[0m│\u001b[35m \u001b[0m\u001b[35m   0.9489407930472569    \u001b[0m\u001b[35m \u001b[0m│\n",
       "│\u001b[36m \u001b[0m\u001b[36m     Test:Cintra161      \u001b[0m\u001b[36m \u001b[0m│\u001b[35m \u001b[0m\u001b[35m   0.9495197118270958    \u001b[0m\u001b[35m \u001b[0m│\n",
       "│\u001b[36m \u001b[0m\u001b[36m     Test:Cintra162      \u001b[0m\u001b[36m \u001b[0m│\u001b[35m \u001b[0m\u001b[35m   0.9416983523447402    \u001b[0m\u001b[35m \u001b[0m│\n",
       "│\u001b[36m \u001b[0m\u001b[36m     Test:Cintra163      \u001b[0m\u001b[36m \u001b[0m│\u001b[35m \u001b[0m\u001b[35m   0.9619771863117871    \u001b[0m\u001b[35m \u001b[0m│\n",
       "│\u001b[36m \u001b[0m\u001b[36m     Test:Cintra164      \u001b[0m\u001b[36m \u001b[0m│\u001b[35m \u001b[0m\u001b[35m   0.9918884664131816    \u001b[0m\u001b[35m \u001b[0m│\n",
       "│\u001b[36m \u001b[0m\u001b[36m     Test:Cintra165      \u001b[0m\u001b[36m \u001b[0m│\u001b[35m \u001b[0m\u001b[35m   0.9857414448669202    \u001b[0m\u001b[35m \u001b[0m│\n",
       "│\u001b[36m \u001b[0m\u001b[36m     Test:Cintra166      \u001b[0m\u001b[36m \u001b[0m│\u001b[35m \u001b[0m\u001b[35m   0.9864204236827812    \u001b[0m\u001b[35m \u001b[0m│\n",
       "│\u001b[36m \u001b[0m\u001b[36m     Test:Cintra167      \u001b[0m\u001b[36m \u001b[0m│\u001b[35m \u001b[0m\u001b[35m   0.9547290874524715    \u001b[0m\u001b[35m \u001b[0m│\n",
       "│\u001b[36m \u001b[0m\u001b[36m     Test:Cintra168      \u001b[0m\u001b[36m \u001b[0m│\u001b[35m \u001b[0m\u001b[35m   0.9702039405461464    \u001b[0m\u001b[35m \u001b[0m│\n",
       "│\u001b[36m \u001b[0m\u001b[36m     Test:Cintra169      \u001b[0m\u001b[36m \u001b[0m│\u001b[35m \u001b[0m\u001b[35m   0.9628221377270807    \u001b[0m\u001b[35m \u001b[0m│\n",
       "│\u001b[36m \u001b[0m\u001b[36m     Test:Cintra170      \u001b[0m\u001b[36m \u001b[0m│\u001b[35m \u001b[0m\u001b[35m   0.9818086930589736    \u001b[0m\u001b[35m \u001b[0m│\n",
       "│\u001b[36m \u001b[0m\u001b[36m     Test:Cintra171      \u001b[0m\u001b[36m \u001b[0m│\u001b[35m \u001b[0m\u001b[35m   0.9378357173033983    \u001b[0m\u001b[35m \u001b[0m│\n",
       "│\u001b[36m \u001b[0m\u001b[36m     Test:Cintra172      \u001b[0m\u001b[36m \u001b[0m│\u001b[35m \u001b[0m\u001b[35m   0.9246035426133731    \u001b[0m\u001b[35m \u001b[0m│\n",
       "│\u001b[36m \u001b[0m\u001b[36m     Test:Cintra173      \u001b[0m\u001b[36m \u001b[0m│\u001b[35m \u001b[0m\u001b[35m   0.9939963978387034    \u001b[0m\u001b[35m \u001b[0m│\n",
       "│\u001b[36m \u001b[0m\u001b[36m     Test:Cintra174      \u001b[0m\u001b[36m \u001b[0m│\u001b[35m \u001b[0m\u001b[35m   0.9936628643852979    \u001b[0m\u001b[35m \u001b[0m│\n",
       "│\u001b[36m \u001b[0m\u001b[36m     Test:Cintra175      \u001b[0m\u001b[36m \u001b[0m│\u001b[35m \u001b[0m\u001b[35m   0.9881706801858895    \u001b[0m\u001b[35m \u001b[0m│\n",
       "│\u001b[36m \u001b[0m\u001b[36m     Test:Cintra176      \u001b[0m\u001b[36m \u001b[0m│\u001b[35m \u001b[0m\u001b[35m   0.9685447632215692    \u001b[0m\u001b[35m \u001b[0m│\n",
       "│\u001b[36m \u001b[0m\u001b[36m     Test:Cintra177      \u001b[0m\u001b[36m \u001b[0m│\u001b[35m \u001b[0m\u001b[35m   0.9837045084193375    \u001b[0m\u001b[35m \u001b[0m│\n",
       "│\u001b[36m \u001b[0m\u001b[36m     Test:Cintra178      \u001b[0m\u001b[36m \u001b[0m│\u001b[35m \u001b[0m\u001b[35m   0.9401911417120541    \u001b[0m\u001b[35m \u001b[0m│\n",
       "│\u001b[36m \u001b[0m\u001b[36m     Test:Cintra179      \u001b[0m\u001b[36m \u001b[0m│\u001b[35m \u001b[0m\u001b[35m   0.9839670468948039    \u001b[0m\u001b[35m \u001b[0m│\n",
       "│\u001b[36m \u001b[0m\u001b[36m     Test:Cintra180      \u001b[0m\u001b[36m \u001b[0m│\u001b[35m \u001b[0m\u001b[35m   0.9904942965779469    \u001b[0m\u001b[35m \u001b[0m│\n",
       "│\u001b[36m \u001b[0m\u001b[36m     Test:Cintra181      \u001b[0m\u001b[36m \u001b[0m│\u001b[35m \u001b[0m\u001b[35m   0.9902830587241235    \u001b[0m\u001b[35m \u001b[0m│\n",
       "│\u001b[36m \u001b[0m\u001b[36m     Test:Cintra182      \u001b[0m\u001b[36m \u001b[0m│\u001b[35m \u001b[0m\u001b[35m   0.9758974028484888    \u001b[0m\u001b[35m \u001b[0m│\n",
       "│\u001b[36m \u001b[0m\u001b[36m     Test:Cintra183      \u001b[0m\u001b[36m \u001b[0m│\u001b[35m \u001b[0m\u001b[35m   0.9981547752180724    \u001b[0m\u001b[35m \u001b[0m│\n",
       "│\u001b[36m \u001b[0m\u001b[36m     Test:Cintra184      \u001b[0m\u001b[36m \u001b[0m│\u001b[35m \u001b[0m\u001b[35m   0.9769410033116646    \u001b[0m\u001b[35m \u001b[0m│\n",
       "│\u001b[36m \u001b[0m\u001b[36m     Test:Cintra185      \u001b[0m\u001b[36m \u001b[0m│\u001b[35m \u001b[0m\u001b[35m   0.8257287705956907    \u001b[0m\u001b[35m \u001b[0m│\n",
       "│\u001b[36m \u001b[0m\u001b[36m     Test:Cintra186      \u001b[0m\u001b[36m \u001b[0m│\u001b[35m \u001b[0m\u001b[35m   0.9974322255691083    \u001b[0m\u001b[35m \u001b[0m│\n",
       "│\u001b[36m \u001b[0m\u001b[36m     Test:Cintra187      \u001b[0m\u001b[36m \u001b[0m│\u001b[35m \u001b[0m\u001b[35m   0.9990640538169056    \u001b[0m\u001b[35m \u001b[0m│\n",
       "│\u001b[36m \u001b[0m\u001b[36m     Test:Cintra188      \u001b[0m\u001b[36m \u001b[0m│\u001b[35m \u001b[0m\u001b[35m   0.9694890104794588    \u001b[0m\u001b[35m \u001b[0m│\n",
       "│\u001b[36m \u001b[0m\u001b[36m     Test:Cintra189      \u001b[0m\u001b[36m \u001b[0m│\u001b[35m \u001b[0m\u001b[35m   0.9653449212384574    \u001b[0m\u001b[35m \u001b[0m│\n",
       "│\u001b[36m \u001b[0m\u001b[36m     Test:Cintra190      \u001b[0m\u001b[36m \u001b[0m│\u001b[35m \u001b[0m\u001b[35m   0.9902227050516024    \u001b[0m\u001b[35m \u001b[0m│\n",
       "│\u001b[36m \u001b[0m\u001b[36m     Test:Cintra191      \u001b[0m\u001b[36m \u001b[0m│\u001b[35m \u001b[0m\u001b[35m   0.9009351556880073    \u001b[0m\u001b[35m \u001b[0m│\n",
       "│\u001b[36m \u001b[0m\u001b[36m     Test:Cintra192      \u001b[0m\u001b[36m \u001b[0m│\u001b[35m \u001b[0m\u001b[35m   0.9588662288282059    \u001b[0m\u001b[35m \u001b[0m│\n",
       "│\u001b[36m \u001b[0m\u001b[36m     Test:Cintra193      \u001b[0m\u001b[36m \u001b[0m│\u001b[35m \u001b[0m\u001b[35m   0.9635428315813024    \u001b[0m\u001b[35m \u001b[0m│\n",
       "│\u001b[36m \u001b[0m\u001b[36m     Test:Cintra194      \u001b[0m\u001b[36m \u001b[0m│\u001b[35m \u001b[0m\u001b[35m   0.9824545329607403    \u001b[0m\u001b[35m \u001b[0m│\n",
       "│\u001b[36m \u001b[0m\u001b[36m     Test:Cintra195      \u001b[0m\u001b[36m \u001b[0m│\u001b[35m \u001b[0m\u001b[35m   0.9871213050410893    \u001b[0m\u001b[35m \u001b[0m│\n",
       "│\u001b[36m \u001b[0m\u001b[36m     Test:Cintra196      \u001b[0m\u001b[36m \u001b[0m│\u001b[35m \u001b[0m\u001b[35m   0.9348859315589352    \u001b[0m\u001b[35m \u001b[0m│\n",
       "│\u001b[36m \u001b[0m\u001b[36m     Test:Cintra197      \u001b[0m\u001b[36m \u001b[0m│\u001b[35m \u001b[0m\u001b[35m   0.9607889733840307    \u001b[0m\u001b[35m \u001b[0m│\n",
       "│\u001b[36m \u001b[0m\u001b[36m     Test:Cintra198      \u001b[0m\u001b[36m \u001b[0m│\u001b[35m \u001b[0m\u001b[35m   0.9463455851288552    \u001b[0m\u001b[35m \u001b[0m│\n",
       "│\u001b[36m \u001b[0m\u001b[36m     Test:Cintra199      \u001b[0m\u001b[36m \u001b[0m│\u001b[35m \u001b[0m\u001b[35m    0.987959442332066    \u001b[0m\u001b[35m \u001b[0m│\n",
       "│\u001b[36m \u001b[0m\u001b[36m     Test:Cintra200      \u001b[0m\u001b[36m \u001b[0m│\u001b[35m \u001b[0m\u001b[35m   0.9847908745247148    \u001b[0m\u001b[35m \u001b[0m│\n",
       "│\u001b[36m \u001b[0m\u001b[36m     Test:Cintra201      \u001b[0m\u001b[36m \u001b[0m│\u001b[35m \u001b[0m\u001b[35m   0.9864980212617371    \u001b[0m\u001b[35m \u001b[0m│\n",
       "│\u001b[36m \u001b[0m\u001b[36m     Test:Cintra202      \u001b[0m\u001b[36m \u001b[0m│\u001b[35m \u001b[0m\u001b[35m    0.982634356733443    \u001b[0m\u001b[35m \u001b[0m│\n",
       "│\u001b[36m \u001b[0m\u001b[36m     Test:Cintra204      \u001b[0m\u001b[36m \u001b[0m│\u001b[35m \u001b[0m\u001b[35m    0.996372536165378    \u001b[0m\u001b[35m \u001b[0m│\n",
       "│\u001b[36m \u001b[0m\u001b[36m     Test:Cintra205      \u001b[0m\u001b[36m \u001b[0m│\u001b[35m \u001b[0m\u001b[35m   0.9437262357414449    \u001b[0m\u001b[35m \u001b[0m│\n",
       "│\u001b[36m \u001b[0m\u001b[36m     Test:Cintra206      \u001b[0m\u001b[36m \u001b[0m│\u001b[35m \u001b[0m\u001b[35m   0.9901190714428667    \u001b[0m\u001b[35m \u001b[0m│\n",
       "│\u001b[36m \u001b[0m\u001b[36m     Test:Cintra207      \u001b[0m\u001b[36m \u001b[0m│\u001b[35m \u001b[0m\u001b[35m   0.9846123636623301    \u001b[0m\u001b[35m \u001b[0m│\n",
       "│\u001b[36m \u001b[0m\u001b[36m     Test:Cintra208      \u001b[0m\u001b[36m \u001b[0m│\u001b[35m \u001b[0m\u001b[35m   0.9987374664180749    \u001b[0m\u001b[35m \u001b[0m│\n",
       "│\u001b[36m \u001b[0m\u001b[36m     Test:Cintra209      \u001b[0m\u001b[36m \u001b[0m│\u001b[35m \u001b[0m\u001b[35m   0.9852133502323623    \u001b[0m\u001b[35m \u001b[0m│\n",
       "│\u001b[36m \u001b[0m\u001b[36m     Test:Cintra210      \u001b[0m\u001b[36m \u001b[0m│\u001b[35m \u001b[0m\u001b[35m   0.9660656609019178    \u001b[0m\u001b[35m \u001b[0m│\n",
       "│\u001b[36m \u001b[0m\u001b[36m     Test:Cintra211      \u001b[0m\u001b[36m \u001b[0m│\u001b[35m \u001b[0m\u001b[35m    0.99347586694093     \u001b[0m\u001b[35m \u001b[0m│\n",
       "│\u001b[36m \u001b[0m\u001b[36m     Test:Cintra212      \u001b[0m\u001b[36m \u001b[0m│\u001b[35m \u001b[0m\u001b[35m   0.9977871969083093    \u001b[0m\u001b[35m \u001b[0m│\n",
       "│\u001b[36m \u001b[0m\u001b[36m     Test:Cintra213      \u001b[0m\u001b[36m \u001b[0m│\u001b[35m \u001b[0m\u001b[35m   0.9653720803910921    \u001b[0m\u001b[35m \u001b[0m│\n",
       "│\u001b[36m \u001b[0m\u001b[36m     Test:Cintra214      \u001b[0m\u001b[36m \u001b[0m│\u001b[35m \u001b[0m\u001b[35m   0.9919058731376172    \u001b[0m\u001b[35m \u001b[0m│\n",
       "│\u001b[36m \u001b[0m\u001b[36m     Test:Cintra215      \u001b[0m\u001b[36m \u001b[0m│\u001b[35m \u001b[0m\u001b[35m   0.9943172425194254    \u001b[0m\u001b[35m \u001b[0m│\n",
       "│\u001b[36m \u001b[0m\u001b[36m     Test:Cintra216      \u001b[0m\u001b[36m \u001b[0m│\u001b[35m \u001b[0m\u001b[35m   0.9833122095479511    \u001b[0m\u001b[35m \u001b[0m│\n",
       "│\u001b[36m \u001b[0m\u001b[36m     Test:Cintra217      \u001b[0m\u001b[36m \u001b[0m│\u001b[35m \u001b[0m\u001b[35m   0.9885291751974213    \u001b[0m\u001b[35m \u001b[0m│\n",
       "│\u001b[36m \u001b[0m\u001b[36m     Test:Cintra218      \u001b[0m\u001b[36m \u001b[0m│\u001b[35m \u001b[0m\u001b[35m   0.9752851711026617    \u001b[0m\u001b[35m \u001b[0m│\n",
       "│\u001b[36m \u001b[0m\u001b[36m     Test:Cintra219      \u001b[0m\u001b[36m \u001b[0m│\u001b[35m \u001b[0m\u001b[35m    0.988355513307984    \u001b[0m\u001b[35m \u001b[0m│\n",
       "│\u001b[36m \u001b[0m\u001b[36m     Test:Cintra220      \u001b[0m\u001b[36m \u001b[0m│\u001b[35m \u001b[0m\u001b[35m   0.9998913633894622    \u001b[0m\u001b[35m \u001b[0m│\n",
       "│\u001b[36m \u001b[0m\u001b[36m     Test:Cintra221      \u001b[0m\u001b[36m \u001b[0m│\u001b[35m \u001b[0m\u001b[35m   0.9798856413084496    \u001b[0m\u001b[35m \u001b[0m│\n",
       "│\u001b[36m \u001b[0m\u001b[36m     Test:Cintra222      \u001b[0m\u001b[36m \u001b[0m│\u001b[35m \u001b[0m\u001b[35m   0.9815826996197726    \u001b[0m\u001b[35m \u001b[0m│\n",
       "│\u001b[36m \u001b[0m\u001b[36m     Test:Cintra223      \u001b[0m\u001b[36m \u001b[0m│\u001b[35m \u001b[0m\u001b[35m   0.9859363316734816    \u001b[0m\u001b[35m \u001b[0m│\n",
       "│\u001b[36m \u001b[0m\u001b[36m     Test:Cintra224      \u001b[0m\u001b[36m \u001b[0m│\u001b[35m \u001b[0m\u001b[35m   0.9885667511618083    \u001b[0m\u001b[35m \u001b[0m│\n",
       "│\u001b[36m \u001b[0m\u001b[36m     Test:Cintra225      \u001b[0m\u001b[36m \u001b[0m│\u001b[35m \u001b[0m\u001b[35m   0.9984790874524716    \u001b[0m\u001b[35m \u001b[0m│\n",
       "│\u001b[36m \u001b[0m\u001b[36m     Test:Cintra226      \u001b[0m\u001b[36m \u001b[0m│\u001b[35m \u001b[0m\u001b[35m   0.9980394486692018    \u001b[0m\u001b[35m \u001b[0m│\n",
       "│\u001b[36m \u001b[0m\u001b[36m     Test:Cintra227      \u001b[0m\u001b[36m \u001b[0m│\u001b[35m \u001b[0m\u001b[35m   0.9981052176456373    \u001b[0m\u001b[35m \u001b[0m│\n",
       "│\u001b[36m \u001b[0m\u001b[36m     Test:Cintra228      \u001b[0m\u001b[36m \u001b[0m│\u001b[35m \u001b[0m\u001b[35m   0.9540930440617319    \u001b[0m\u001b[35m \u001b[0m│\n",
       "│\u001b[36m \u001b[0m\u001b[36m     Test:Cintra229      \u001b[0m\u001b[36m \u001b[0m│\u001b[35m \u001b[0m\u001b[35m   0.9930021842892972    \u001b[0m\u001b[35m \u001b[0m│\n",
       "│\u001b[36m \u001b[0m\u001b[36m     Test:Cintra230      \u001b[0m\u001b[36m \u001b[0m│\u001b[35m \u001b[0m\u001b[35m    0.986655974627429    \u001b[0m\u001b[35m \u001b[0m│\n",
       "│\u001b[36m \u001b[0m\u001b[36m     Test:Cintra231      \u001b[0m\u001b[36m \u001b[0m│\u001b[35m \u001b[0m\u001b[35m   0.9841519665897918    \u001b[0m\u001b[35m \u001b[0m│\n",
       "│\u001b[36m \u001b[0m\u001b[36m     Test:Cintra232      \u001b[0m\u001b[36m \u001b[0m│\u001b[35m \u001b[0m\u001b[35m   0.9991105774575852    \u001b[0m\u001b[35m \u001b[0m│\n",
       "│\u001b[36m \u001b[0m\u001b[36m     Test:Cintra233      \u001b[0m\u001b[36m \u001b[0m│\u001b[35m \u001b[0m\u001b[35m   0.9863117870722437    \u001b[0m\u001b[35m \u001b[0m│\n",
       "│\u001b[36m \u001b[0m\u001b[36m     Test:Cintra234      \u001b[0m\u001b[36m \u001b[0m│\u001b[35m \u001b[0m\u001b[35m   0.9893173999637883    \u001b[0m\u001b[35m \u001b[0m│\n",
       "│\u001b[36m \u001b[0m\u001b[36m     Test:Cintra235      \u001b[0m\u001b[36m \u001b[0m│\u001b[35m \u001b[0m\u001b[35m   0.9759188846641319    \u001b[0m\u001b[35m \u001b[0m│\n",
       "│\u001b[36m \u001b[0m\u001b[36m     Test:Cintra236      \u001b[0m\u001b[36m \u001b[0m│\u001b[35m \u001b[0m\u001b[35m           1.0           \u001b[0m\u001b[35m \u001b[0m│\n",
       "│\u001b[36m \u001b[0m\u001b[36m     Test:Cintra237      \u001b[0m\u001b[36m \u001b[0m│\u001b[35m \u001b[0m\u001b[35m   0.9985784783940274    \u001b[0m\u001b[35m \u001b[0m│\n",
       "│\u001b[36m \u001b[0m\u001b[36m     Test:Cintra238      \u001b[0m\u001b[36m \u001b[0m│\u001b[35m \u001b[0m\u001b[35m    0.999200129833998    \u001b[0m\u001b[35m \u001b[0m│\n",
       "│\u001b[36m \u001b[0m\u001b[36m     Test:Cintra239      \u001b[0m\u001b[36m \u001b[0m│\u001b[35m \u001b[0m\u001b[35m   0.9977299812723457    \u001b[0m\u001b[35m \u001b[0m│\n",
       "│\u001b[36m \u001b[0m\u001b[36m     Test:Cintra240      \u001b[0m\u001b[36m \u001b[0m│\u001b[35m \u001b[0m\u001b[35m   0.9916804783724936    \u001b[0m\u001b[35m \u001b[0m│\n",
       "│\u001b[36m \u001b[0m\u001b[36m     Test:Cintra241      \u001b[0m\u001b[36m \u001b[0m│\u001b[35m \u001b[0m\u001b[35m   0.9937957398094759    \u001b[0m\u001b[35m \u001b[0m│\n",
       "│\u001b[36m \u001b[0m\u001b[36m     Test:Cintra242      \u001b[0m\u001b[36m \u001b[0m│\u001b[35m \u001b[0m\u001b[35m   0.9842476914720266    \u001b[0m\u001b[35m \u001b[0m│\n",
       "│\u001b[36m \u001b[0m\u001b[36m     Test:Cintra243      \u001b[0m\u001b[36m \u001b[0m│\u001b[35m \u001b[0m\u001b[35m   0.9962395019429234    \u001b[0m\u001b[35m \u001b[0m│\n",
       "│\u001b[36m \u001b[0m\u001b[36m     Test:Cintra244      \u001b[0m\u001b[36m \u001b[0m│\u001b[35m \u001b[0m\u001b[35m   0.9806429312132726    \u001b[0m\u001b[35m \u001b[0m│\n",
       "│\u001b[36m \u001b[0m\u001b[36m     Test:Cintra245      \u001b[0m\u001b[36m \u001b[0m│\u001b[35m \u001b[0m\u001b[35m   0.9976297466791754    \u001b[0m\u001b[35m \u001b[0m│\n",
       "│\u001b[36m \u001b[0m\u001b[36m     Test:Cintra246      \u001b[0m\u001b[36m \u001b[0m│\u001b[35m \u001b[0m\u001b[35m    0.99990219211913     \u001b[0m\u001b[35m \u001b[0m│\n",
       "│\u001b[36m \u001b[0m\u001b[36m     Test:Cintra247      \u001b[0m\u001b[36m \u001b[0m│\u001b[35m \u001b[0m\u001b[35m   0.9869455006337075    \u001b[0m\u001b[35m \u001b[0m│\n",
       "│\u001b[36m \u001b[0m\u001b[36m     Test:Cintra248      \u001b[0m\u001b[36m \u001b[0m│\u001b[35m \u001b[0m\u001b[35m   0.9958940220362237    \u001b[0m\u001b[35m \u001b[0m│\n",
       "│\u001b[36m \u001b[0m\u001b[36m     Test:Cintra249      \u001b[0m\u001b[36m \u001b[0m│\u001b[35m \u001b[0m\u001b[35m   0.9934910098601538    \u001b[0m\u001b[35m \u001b[0m│\n",
       "│\u001b[36m \u001b[0m\u001b[36m      Test:Cintra25      \u001b[0m\u001b[36m \u001b[0m│\u001b[35m \u001b[0m\u001b[35m   0.9391634980988594    \u001b[0m\u001b[35m \u001b[0m│\n",
       "│\u001b[36m \u001b[0m\u001b[36m     Test:Cintra250      \u001b[0m\u001b[36m \u001b[0m│\u001b[35m \u001b[0m\u001b[35m    0.989763088622405    \u001b[0m\u001b[35m \u001b[0m│\n",
       "│\u001b[36m \u001b[0m\u001b[36m     Test:Cintra251      \u001b[0m\u001b[36m \u001b[0m│\u001b[35m \u001b[0m\u001b[35m   0.9939163498098794    \u001b[0m\u001b[35m \u001b[0m│\n",
       "│\u001b[36m \u001b[0m\u001b[36m     Test:Cintra252      \u001b[0m\u001b[36m \u001b[0m│\u001b[35m \u001b[0m\u001b[35m   0.9898911234290777    \u001b[0m\u001b[35m \u001b[0m│\n",
       "│\u001b[36m \u001b[0m\u001b[36m     Test:Cintra253      \u001b[0m\u001b[36m \u001b[0m│\u001b[35m \u001b[0m\u001b[35m   0.9960409235231868    \u001b[0m\u001b[35m \u001b[0m│\n",
       "│\u001b[36m \u001b[0m\u001b[36m     Test:Cintra254      \u001b[0m\u001b[36m \u001b[0m│\u001b[35m \u001b[0m\u001b[35m   0.9889243223353374    \u001b[0m\u001b[35m \u001b[0m│\n",
       "│\u001b[36m \u001b[0m\u001b[36m     Test:Cintra255      \u001b[0m\u001b[36m \u001b[0m│\u001b[35m \u001b[0m\u001b[35m   0.9810664555730025    \u001b[0m\u001b[35m \u001b[0m│\n",
       "│\u001b[36m \u001b[0m\u001b[36m     Test:Cintra256      \u001b[0m\u001b[36m \u001b[0m│\u001b[35m \u001b[0m\u001b[35m   0.9875164036474984    \u001b[0m\u001b[35m \u001b[0m│\n",
       "│\u001b[36m \u001b[0m\u001b[36m     Test:Cintra257      \u001b[0m\u001b[36m \u001b[0m│\u001b[35m \u001b[0m\u001b[35m   0.9890928843020106    \u001b[0m\u001b[35m \u001b[0m│\n",
       "│\u001b[36m \u001b[0m\u001b[36m     Test:Cintra258      \u001b[0m\u001b[36m \u001b[0m│\u001b[35m \u001b[0m\u001b[35m   0.9997609994568171    \u001b[0m\u001b[35m \u001b[0m│\n",
       "│\u001b[36m \u001b[0m\u001b[36m     Test:Cintra259      \u001b[0m\u001b[36m \u001b[0m│\u001b[35m \u001b[0m\u001b[35m   0.9925709271716882    \u001b[0m\u001b[35m \u001b[0m│\n",
       "│\u001b[36m \u001b[0m\u001b[36m     Test:Cintra260      \u001b[0m\u001b[36m \u001b[0m│\u001b[35m \u001b[0m\u001b[35m   0.9873451423151451    \u001b[0m\u001b[35m \u001b[0m│\n",
       "│\u001b[36m \u001b[0m\u001b[36m     Test:Cintra261      \u001b[0m\u001b[36m \u001b[0m│\u001b[35m \u001b[0m\u001b[35m    0.993905639158137    \u001b[0m\u001b[35m \u001b[0m│\n",
       "│\u001b[36m \u001b[0m\u001b[36m     Test:Cintra262      \u001b[0m\u001b[36m \u001b[0m│\u001b[35m \u001b[0m\u001b[35m   0.9977522425057228    \u001b[0m\u001b[35m \u001b[0m│\n",
       "│\u001b[36m \u001b[0m\u001b[36m     Test:Cintra263      \u001b[0m\u001b[36m \u001b[0m│\u001b[35m \u001b[0m\u001b[35m    0.998747099262422    \u001b[0m\u001b[35m \u001b[0m│\n",
       "│\u001b[36m \u001b[0m\u001b[36m     Test:Cintra264      \u001b[0m\u001b[36m \u001b[0m│\u001b[35m \u001b[0m\u001b[35m   0.9942469829723917    \u001b[0m\u001b[35m \u001b[0m│\n",
       "│\u001b[36m \u001b[0m\u001b[36m      Test:Cintra27      \u001b[0m\u001b[36m \u001b[0m│\u001b[35m \u001b[0m\u001b[35m   0.20152091254752852   \u001b[0m\u001b[35m \u001b[0m│\n",
       "│\u001b[36m \u001b[0m\u001b[36m      Test:Cintra29      \u001b[0m\u001b[36m \u001b[0m│\u001b[35m \u001b[0m\u001b[35m   0.41825095057034223   \u001b[0m\u001b[35m \u001b[0m│\n",
       "│\u001b[36m \u001b[0m\u001b[36m      Test:Cintra34      \u001b[0m\u001b[36m \u001b[0m│\u001b[35m \u001b[0m\u001b[35m   0.5171102661596958    \u001b[0m\u001b[35m \u001b[0m│\n",
       "│\u001b[36m \u001b[0m\u001b[36m      Test:Cintra35      \u001b[0m\u001b[36m \u001b[0m│\u001b[35m \u001b[0m\u001b[35m   0.6387832699619772    \u001b[0m\u001b[35m \u001b[0m│\n",
       "│\u001b[36m \u001b[0m\u001b[36m      Test:Cintra38      \u001b[0m\u001b[36m \u001b[0m│\u001b[35m \u001b[0m\u001b[35m   0.3269961977186312    \u001b[0m\u001b[35m \u001b[0m│\n",
       "│\u001b[36m \u001b[0m\u001b[36m      Test:Cintra39      \u001b[0m\u001b[36m \u001b[0m│\u001b[35m \u001b[0m\u001b[35m   0.8326996197718631    \u001b[0m\u001b[35m \u001b[0m│\n",
       "│\u001b[36m \u001b[0m\u001b[36m      Test:Cintra40      \u001b[0m\u001b[36m \u001b[0m│\u001b[35m \u001b[0m\u001b[35m   0.5703422053231939    \u001b[0m\u001b[35m \u001b[0m│\n",
       "│\u001b[36m \u001b[0m\u001b[36m      Test:Cintra44      \u001b[0m\u001b[36m \u001b[0m│\u001b[35m \u001b[0m\u001b[35m   0.8669201520912547    \u001b[0m\u001b[35m \u001b[0m│\n",
       "│\u001b[36m \u001b[0m\u001b[36m      Test:Cintra49      \u001b[0m\u001b[36m \u001b[0m│\u001b[35m \u001b[0m\u001b[35m   0.6387832699619772    \u001b[0m\u001b[35m \u001b[0m│\n",
       "│\u001b[36m \u001b[0m\u001b[36m      Test:Cintra51      \u001b[0m\u001b[36m \u001b[0m│\u001b[35m \u001b[0m\u001b[35m    0.550063371356147    \u001b[0m\u001b[35m \u001b[0m│\n",
       "│\u001b[36m \u001b[0m\u001b[36m      Test:Cintra58      \u001b[0m\u001b[36m \u001b[0m│\u001b[35m \u001b[0m\u001b[35m   0.7604562737642586    \u001b[0m\u001b[35m \u001b[0m│\n",
       "│\u001b[36m \u001b[0m\u001b[36m      Test:Cintra60      \u001b[0m\u001b[36m \u001b[0m│\u001b[35m \u001b[0m\u001b[35m   0.8288973384030418    \u001b[0m\u001b[35m \u001b[0m│\n",
       "│\u001b[36m \u001b[0m\u001b[36m      Test:Cintra65      \u001b[0m\u001b[36m \u001b[0m│\u001b[35m \u001b[0m\u001b[35m   0.6140684410646388    \u001b[0m\u001b[35m \u001b[0m│\n",
       "│\u001b[36m \u001b[0m\u001b[36m      Test:Cintra67      \u001b[0m\u001b[36m \u001b[0m│\u001b[35m \u001b[0m\u001b[35m   0.4790874524714829    \u001b[0m\u001b[35m \u001b[0m│\n",
       "│\u001b[36m \u001b[0m\u001b[36m      Test:Cintra70      \u001b[0m\u001b[36m \u001b[0m│\u001b[35m \u001b[0m\u001b[35m   0.7870722433460076    \u001b[0m\u001b[35m \u001b[0m│\n",
       "│\u001b[36m \u001b[0m\u001b[36m      Test:Cintra71      \u001b[0m\u001b[36m \u001b[0m│\u001b[35m \u001b[0m\u001b[35m   0.7072243346007605    \u001b[0m\u001b[35m \u001b[0m│\n",
       "│\u001b[36m \u001b[0m\u001b[36m      Test:Cintra75      \u001b[0m\u001b[36m \u001b[0m│\u001b[35m \u001b[0m\u001b[35m   0.6806083650190115    \u001b[0m\u001b[35m \u001b[0m│\n",
       "│\u001b[36m \u001b[0m\u001b[36m      Test:Cintra78      \u001b[0m\u001b[36m \u001b[0m│\u001b[35m \u001b[0m\u001b[35m   0.8174904942965779    \u001b[0m\u001b[35m \u001b[0m│\n",
       "│\u001b[36m \u001b[0m\u001b[36m      Test:Cintra79      \u001b[0m\u001b[36m \u001b[0m│\u001b[35m \u001b[0m\u001b[35m    0.790874524714829    \u001b[0m\u001b[35m \u001b[0m│\n",
       "│\u001b[36m \u001b[0m\u001b[36m      Test:Cintra81      \u001b[0m\u001b[36m \u001b[0m│\u001b[35m \u001b[0m\u001b[35m   0.5665399239543727    \u001b[0m\u001b[35m \u001b[0m│\n",
       "│\u001b[36m \u001b[0m\u001b[36m      Test:Cintra82      \u001b[0m\u001b[36m \u001b[0m│\u001b[35m \u001b[0m\u001b[35m   0.7642585551330798    \u001b[0m\u001b[35m \u001b[0m│\n",
       "│\u001b[36m \u001b[0m\u001b[36m      Test:Cintra83      \u001b[0m\u001b[36m \u001b[0m│\u001b[35m \u001b[0m\u001b[35m   0.7414448669201521    \u001b[0m\u001b[35m \u001b[0m│\n",
       "│\u001b[36m \u001b[0m\u001b[36m      Test:Cintra85      \u001b[0m\u001b[36m \u001b[0m│\u001b[35m \u001b[0m\u001b[35m   0.5357414448669202    \u001b[0m\u001b[35m \u001b[0m│\n",
       "│\u001b[36m \u001b[0m\u001b[36m      Test:Cintra89      \u001b[0m\u001b[36m \u001b[0m│\u001b[35m \u001b[0m\u001b[35m   0.6901140684410646    \u001b[0m\u001b[35m \u001b[0m│\n",
       "│\u001b[36m \u001b[0m\u001b[36m      Test:Cintra91      \u001b[0m\u001b[36m \u001b[0m│\u001b[35m \u001b[0m\u001b[35m   0.5399239543726235    \u001b[0m\u001b[35m \u001b[0m│\n",
       "│\u001b[36m \u001b[0m\u001b[36m      Test:Cintra93      \u001b[0m\u001b[36m \u001b[0m│\u001b[35m \u001b[0m\u001b[35m   0.8346007604562737    \u001b[0m\u001b[35m \u001b[0m│\n",
       "│\u001b[36m \u001b[0m\u001b[36m      Test:Cintra94      \u001b[0m\u001b[36m \u001b[0m│\u001b[35m \u001b[0m\u001b[35m    0.697084917617237    \u001b[0m\u001b[35m \u001b[0m│\n",
       "│\u001b[36m \u001b[0m\u001b[36m      Test:Cintra95      \u001b[0m\u001b[36m \u001b[0m│\u001b[35m \u001b[0m\u001b[35m   0.9581749049429658    \u001b[0m\u001b[35m \u001b[0m│\n",
       "│\u001b[36m \u001b[0m\u001b[36m      Test:Cintra97      \u001b[0m\u001b[36m \u001b[0m│\u001b[35m \u001b[0m\u001b[35m   0.8418250950570343    \u001b[0m\u001b[35m \u001b[0m│\n",
       "│\u001b[36m \u001b[0m\u001b[36m      Test:Cintra98      \u001b[0m\u001b[36m \u001b[0m│\u001b[35m \u001b[0m\u001b[35m   0.9812420785804814    \u001b[0m\u001b[35m \u001b[0m│\n",
       "│\u001b[36m \u001b[0m\u001b[36m    Test:base_Cinter     \u001b[0m\u001b[36m \u001b[0m│\u001b[35m \u001b[0m\u001b[35m   0.8714721603262547    \u001b[0m\u001b[35m \u001b[0m│\n",
       "│\u001b[36m \u001b[0m\u001b[36m        test_loss        \u001b[0m\u001b[36m \u001b[0m│\u001b[35m \u001b[0m\u001b[35m    770.7119750976562    \u001b[0m\u001b[35m \u001b[0m│\n",
       "│\u001b[36m \u001b[0m\u001b[36m    test_loss_desurv     \u001b[0m\u001b[36m \u001b[0m│\u001b[35m \u001b[0m\u001b[35m   -4.682337760925293    \u001b[0m\u001b[35m \u001b[0m│\n",
       "│\u001b[36m \u001b[0m\u001b[36m    test_loss_values     \u001b[0m\u001b[36m \u001b[0m│\u001b[35m \u001b[0m\u001b[35m   1546.1060791015625    \u001b[0m\u001b[35m \u001b[0m│\n",
       "└───────────────────────────┴───────────────────────────┘\n"
      ]
     },
     "metadata": {},
     "output_type": "display_data"
    },
    {
     "name": "stdout",
     "output_type": "stream",
     "text": [
      "Loaded model with 129.356302 M parameters\n"
     ]
    },
    {
     "data": {
      "text/html": [
       "Waiting for W&B process to finish... <strong style=\"color:green\">(success).</strong>"
      ],
      "text/plain": [
       "<IPython.core.display.HTML object>"
      ]
     },
     "metadata": {},
     "output_type": "display_data"
    },
    {
     "data": {
      "application/vnd.jupyter.widget-view+json": {
       "model_id": "33368e38868943cebce2d9b001647b2f",
       "version_major": 2,
       "version_minor": 0
      },
      "text/plain": [
       "VBox(children=(Label(value='0.008 MB of 0.008 MB uploaded (0.000 MB deduped)\\r'), FloatProgress(value=1.0, max…"
      ]
     },
     "metadata": {},
     "output_type": "display_data"
    },
    {
     "data": {
      "text/html": [
       "<style>\n",
       "    table.wandb td:nth-child(1) { padding: 0 10px; text-align: left ; width: auto;} td:nth-child(2) {text-align: left ; width: 100%}\n",
       "    .wandb-row { display: flex; flex-direction: row; flex-wrap: wrap; justify-content: flex-start; width: 100% }\n",
       "    .wandb-col { display: flex; flex-direction: column; flex-basis: 100%; flex: 1; padding: 10px; }\n",
       "    </style>\n",
       "<div class=\"wandb-row\"><div class=\"wandb-col\"><h3>Run history:</h3><br/><table class=\"wandb\"><tr><td>Test:Cinter</td><td>▁</td></tr><tr><td>Test:Cintra100</td><td>▁</td></tr><tr><td>Test:Cintra101</td><td>▁</td></tr><tr><td>Test:Cintra104</td><td>▁</td></tr><tr><td>Test:Cintra106</td><td>▁</td></tr><tr><td>Test:Cintra107</td><td>▁</td></tr><tr><td>Test:Cintra11</td><td>▁</td></tr><tr><td>Test:Cintra112</td><td>▁</td></tr><tr><td>Test:Cintra113</td><td>▁</td></tr><tr><td>Test:Cintra114</td><td>▁</td></tr><tr><td>Test:Cintra118</td><td>▁</td></tr><tr><td>Test:Cintra119</td><td>▁</td></tr><tr><td>Test:Cintra120</td><td>▁</td></tr><tr><td>Test:Cintra123</td><td>▁</td></tr><tr><td>Test:Cintra124</td><td>▁</td></tr><tr><td>Test:Cintra126</td><td>▁</td></tr><tr><td>Test:Cintra127</td><td>▁</td></tr><tr><td>Test:Cintra129</td><td>▁</td></tr><tr><td>Test:Cintra130</td><td>▁</td></tr><tr><td>Test:Cintra131</td><td>▁</td></tr><tr><td>Test:Cintra133</td><td>▁</td></tr><tr><td>Test:Cintra134</td><td>▁</td></tr><tr><td>Test:Cintra135</td><td>▁</td></tr><tr><td>Test:Cintra136</td><td>▁</td></tr><tr><td>Test:Cintra141</td><td>▁</td></tr><tr><td>Test:Cintra143</td><td>▁</td></tr><tr><td>Test:Cintra144</td><td>▁</td></tr><tr><td>Test:Cintra145</td><td>▁</td></tr><tr><td>Test:Cintra146</td><td>▁</td></tr><tr><td>Test:Cintra148</td><td>▁</td></tr><tr><td>Test:Cintra149</td><td>▁</td></tr><tr><td>Test:Cintra150</td><td>▁</td></tr><tr><td>Test:Cintra152</td><td>▁</td></tr><tr><td>Test:Cintra153</td><td>▁</td></tr><tr><td>Test:Cintra154</td><td>▁</td></tr><tr><td>Test:Cintra155</td><td>▁</td></tr><tr><td>Test:Cintra156</td><td>▁</td></tr><tr><td>Test:Cintra157</td><td>▁</td></tr><tr><td>Test:Cintra158</td><td>▁</td></tr><tr><td>Test:Cintra159</td><td>▁</td></tr><tr><td>Test:Cintra160</td><td>▁</td></tr><tr><td>Test:Cintra161</td><td>▁</td></tr><tr><td>Test:Cintra162</td><td>▁</td></tr><tr><td>Test:Cintra163</td><td>▁</td></tr><tr><td>Test:Cintra164</td><td>▁</td></tr><tr><td>Test:Cintra165</td><td>▁</td></tr><tr><td>Test:Cintra166</td><td>▁</td></tr><tr><td>Test:Cintra167</td><td>▁</td></tr><tr><td>Test:Cintra168</td><td>▁</td></tr><tr><td>Test:Cintra169</td><td>▁</td></tr><tr><td>Test:Cintra170</td><td>▁</td></tr><tr><td>Test:Cintra171</td><td>▁</td></tr><tr><td>Test:Cintra172</td><td>▁</td></tr><tr><td>Test:Cintra173</td><td>▁</td></tr><tr><td>Test:Cintra174</td><td>▁</td></tr><tr><td>Test:Cintra175</td><td>▁</td></tr><tr><td>Test:Cintra176</td><td>▁</td></tr><tr><td>Test:Cintra177</td><td>▁</td></tr><tr><td>Test:Cintra178</td><td>▁</td></tr><tr><td>Test:Cintra179</td><td>▁</td></tr><tr><td>Test:Cintra180</td><td>▁</td></tr><tr><td>Test:Cintra181</td><td>▁</td></tr><tr><td>Test:Cintra182</td><td>▁</td></tr><tr><td>Test:Cintra183</td><td>▁</td></tr><tr><td>Test:Cintra184</td><td>▁</td></tr><tr><td>Test:Cintra185</td><td>▁</td></tr><tr><td>Test:Cintra186</td><td>▁</td></tr><tr><td>Test:Cintra187</td><td>▁</td></tr><tr><td>Test:Cintra188</td><td>▁</td></tr><tr><td>Test:Cintra189</td><td>▁</td></tr><tr><td>Test:Cintra190</td><td>▁</td></tr><tr><td>Test:Cintra191</td><td>▁</td></tr><tr><td>Test:Cintra192</td><td>▁</td></tr><tr><td>Test:Cintra193</td><td>▁</td></tr><tr><td>Test:Cintra194</td><td>▁</td></tr><tr><td>Test:Cintra195</td><td>▁</td></tr><tr><td>Test:Cintra196</td><td>▁</td></tr><tr><td>Test:Cintra197</td><td>▁</td></tr><tr><td>Test:Cintra198</td><td>▁</td></tr><tr><td>Test:Cintra199</td><td>▁</td></tr><tr><td>Test:Cintra200</td><td>▁</td></tr><tr><td>Test:Cintra201</td><td>▁</td></tr><tr><td>Test:Cintra202</td><td>▁</td></tr><tr><td>Test:Cintra204</td><td>▁</td></tr><tr><td>Test:Cintra205</td><td>▁</td></tr><tr><td>Test:Cintra206</td><td>▁</td></tr><tr><td>Test:Cintra207</td><td>▁</td></tr><tr><td>Test:Cintra208</td><td>▁</td></tr><tr><td>Test:Cintra209</td><td>▁</td></tr><tr><td>Test:Cintra210</td><td>▁</td></tr><tr><td>Test:Cintra211</td><td>▁</td></tr><tr><td>Test:Cintra212</td><td>▁</td></tr><tr><td>Test:Cintra213</td><td>▁</td></tr><tr><td>Test:Cintra214</td><td>▁</td></tr><tr><td>Test:Cintra215</td><td>▁</td></tr><tr><td>Test:Cintra216</td><td>▁</td></tr><tr><td>Test:Cintra217</td><td>▁</td></tr><tr><td>Test:Cintra218</td><td>▁</td></tr><tr><td>Test:Cintra219</td><td>▁</td></tr><tr><td>Test:Cintra220</td><td>▁</td></tr><tr><td>Test:Cintra221</td><td>▁</td></tr><tr><td>Test:Cintra222</td><td>▁</td></tr><tr><td>Test:Cintra223</td><td>▁</td></tr><tr><td>Test:Cintra224</td><td>▁</td></tr><tr><td>Test:Cintra225</td><td>▁</td></tr><tr><td>Test:Cintra226</td><td>▁</td></tr><tr><td>Test:Cintra227</td><td>▁</td></tr><tr><td>Test:Cintra228</td><td>▁</td></tr><tr><td>Test:Cintra229</td><td>▁</td></tr><tr><td>Test:Cintra230</td><td>▁</td></tr><tr><td>Test:Cintra231</td><td>▁</td></tr><tr><td>Test:Cintra232</td><td>▁</td></tr><tr><td>Test:Cintra233</td><td>▁</td></tr><tr><td>Test:Cintra234</td><td>▁</td></tr><tr><td>Test:Cintra235</td><td>▁</td></tr><tr><td>Test:Cintra236</td><td>▁</td></tr><tr><td>Test:Cintra237</td><td>▁</td></tr><tr><td>Test:Cintra238</td><td>▁</td></tr><tr><td>Test:Cintra239</td><td>▁</td></tr><tr><td>Test:Cintra240</td><td>▁</td></tr><tr><td>Test:Cintra241</td><td>▁</td></tr><tr><td>Test:Cintra242</td><td>▁</td></tr><tr><td>Test:Cintra243</td><td>▁</td></tr><tr><td>Test:Cintra244</td><td>▁</td></tr><tr><td>Test:Cintra245</td><td>▁</td></tr><tr><td>Test:Cintra246</td><td>▁</td></tr><tr><td>Test:Cintra247</td><td>▁</td></tr><tr><td>Test:Cintra248</td><td>▁</td></tr><tr><td>Test:Cintra249</td><td>▁</td></tr><tr><td>Test:Cintra25</td><td>▁</td></tr><tr><td>Test:Cintra250</td><td>▁</td></tr><tr><td>Test:Cintra251</td><td>▁</td></tr><tr><td>Test:Cintra252</td><td>▁</td></tr><tr><td>Test:Cintra253</td><td>▁</td></tr><tr><td>Test:Cintra254</td><td>▁</td></tr><tr><td>Test:Cintra255</td><td>▁</td></tr><tr><td>Test:Cintra256</td><td>▁</td></tr><tr><td>Test:Cintra257</td><td>▁</td></tr><tr><td>Test:Cintra258</td><td>▁</td></tr><tr><td>Test:Cintra259</td><td>▁</td></tr><tr><td>Test:Cintra260</td><td>▁</td></tr><tr><td>Test:Cintra261</td><td>▁</td></tr><tr><td>Test:Cintra262</td><td>▁</td></tr><tr><td>Test:Cintra263</td><td>▁</td></tr><tr><td>Test:Cintra264</td><td>▁</td></tr><tr><td>Test:Cintra27</td><td>▁</td></tr><tr><td>Test:Cintra29</td><td>▁</td></tr><tr><td>Test:Cintra34</td><td>▁</td></tr><tr><td>Test:Cintra35</td><td>▁</td></tr><tr><td>Test:Cintra38</td><td>▁</td></tr><tr><td>Test:Cintra39</td><td>▁</td></tr><tr><td>Test:Cintra40</td><td>▁</td></tr><tr><td>Test:Cintra44</td><td>▁</td></tr><tr><td>Test:Cintra49</td><td>▁</td></tr><tr><td>Test:Cintra51</td><td>▁</td></tr><tr><td>Test:Cintra58</td><td>▁</td></tr><tr><td>Test:Cintra60</td><td>▁</td></tr><tr><td>Test:Cintra65</td><td>▁</td></tr><tr><td>Test:Cintra67</td><td>▁</td></tr><tr><td>Test:Cintra70</td><td>▁</td></tr><tr><td>Test:Cintra71</td><td>▁</td></tr><tr><td>Test:Cintra75</td><td>▁</td></tr><tr><td>Test:Cintra78</td><td>▁</td></tr><tr><td>Test:Cintra79</td><td>▁</td></tr><tr><td>Test:Cintra81</td><td>▁</td></tr><tr><td>Test:Cintra82</td><td>▁</td></tr><tr><td>Test:Cintra83</td><td>▁</td></tr><tr><td>Test:Cintra85</td><td>▁</td></tr><tr><td>Test:Cintra89</td><td>▁</td></tr><tr><td>Test:Cintra91</td><td>▁</td></tr><tr><td>Test:Cintra93</td><td>▁</td></tr><tr><td>Test:Cintra94</td><td>▁</td></tr><tr><td>Test:Cintra95</td><td>▁</td></tr><tr><td>Test:Cintra97</td><td>▁</td></tr><tr><td>Test:Cintra98</td><td>▁</td></tr><tr><td>Test:base_Cinter</td><td>▁</td></tr><tr><td>epoch</td><td>▁</td></tr><tr><td>test_loss</td><td>▁</td></tr><tr><td>test_loss_desurv</td><td>▁</td></tr><tr><td>test_loss_values</td><td>▁</td></tr><tr><td>trainer/global_step</td><td>▁</td></tr></table><br/></div><div class=\"wandb-col\"><h3>Run summary:</h3><br/><table class=\"wandb\"><tr><td>Test:Cinter</td><td>0.98662</td></tr><tr><td>Test:Cintra100</td><td>0.74144</td></tr><tr><td>Test:Cintra101</td><td>0.91825</td></tr><tr><td>Test:Cintra104</td><td>0.79468</td></tr><tr><td>Test:Cintra106</td><td>0.76752</td></tr><tr><td>Test:Cintra107</td><td>0.63764</td></tr><tr><td>Test:Cintra11</td><td>0.34981</td></tr><tr><td>Test:Cintra112</td><td>0.6673</td></tr><tr><td>Test:Cintra113</td><td>0.85171</td></tr><tr><td>Test:Cintra114</td><td>0.89202</td></tr><tr><td>Test:Cintra118</td><td>0.96025</td></tr><tr><td>Test:Cintra119</td><td>0.95468</td></tr><tr><td>Test:Cintra120</td><td>0.70722</td></tr><tr><td>Test:Cintra123</td><td>0.96933</td></tr><tr><td>Test:Cintra124</td><td>0.87833</td></tr><tr><td>Test:Cintra126</td><td>0.93571</td></tr><tr><td>Test:Cintra127</td><td>0.89354</td></tr><tr><td>Test:Cintra129</td><td>0.92253</td></tr><tr><td>Test:Cintra130</td><td>0.97613</td></tr><tr><td>Test:Cintra131</td><td>0.97093</td></tr><tr><td>Test:Cintra133</td><td>0.9167</td></tr><tr><td>Test:Cintra134</td><td>0.90938</td></tr><tr><td>Test:Cintra135</td><td>0.92395</td></tr><tr><td>Test:Cintra136</td><td>0.93945</td></tr><tr><td>Test:Cintra141</td><td>0.79341</td></tr><tr><td>Test:Cintra143</td><td>0.89523</td></tr><tr><td>Test:Cintra144</td><td>0.97972</td></tr><tr><td>Test:Cintra145</td><td>0.85986</td></tr><tr><td>Test:Cintra146</td><td>0.90746</td></tr><tr><td>Test:Cintra148</td><td>0.88242</td></tr><tr><td>Test:Cintra149</td><td>0.93688</td></tr><tr><td>Test:Cintra150</td><td>0.95342</td></tr><tr><td>Test:Cintra152</td><td>0.93618</td></tr><tr><td>Test:Cintra153</td><td>0.99324</td></tr><tr><td>Test:Cintra154</td><td>0.9286</td></tr><tr><td>Test:Cintra155</td><td>0.98207</td></tr><tr><td>Test:Cintra156</td><td>0.98198</td></tr><tr><td>Test:Cintra157</td><td>0.98399</td></tr><tr><td>Test:Cintra158</td><td>0.94413</td></tr><tr><td>Test:Cintra159</td><td>0.98631</td></tr><tr><td>Test:Cintra160</td><td>0.94894</td></tr><tr><td>Test:Cintra161</td><td>0.94952</td></tr><tr><td>Test:Cintra162</td><td>0.9417</td></tr><tr><td>Test:Cintra163</td><td>0.96198</td></tr><tr><td>Test:Cintra164</td><td>0.99189</td></tr><tr><td>Test:Cintra165</td><td>0.98574</td></tr><tr><td>Test:Cintra166</td><td>0.98642</td></tr><tr><td>Test:Cintra167</td><td>0.95473</td></tr><tr><td>Test:Cintra168</td><td>0.9702</td></tr><tr><td>Test:Cintra169</td><td>0.96282</td></tr><tr><td>Test:Cintra170</td><td>0.98181</td></tr><tr><td>Test:Cintra171</td><td>0.93784</td></tr><tr><td>Test:Cintra172</td><td>0.9246</td></tr><tr><td>Test:Cintra173</td><td>0.994</td></tr><tr><td>Test:Cintra174</td><td>0.99366</td></tr><tr><td>Test:Cintra175</td><td>0.98817</td></tr><tr><td>Test:Cintra176</td><td>0.96854</td></tr><tr><td>Test:Cintra177</td><td>0.9837</td></tr><tr><td>Test:Cintra178</td><td>0.94019</td></tr><tr><td>Test:Cintra179</td><td>0.98397</td></tr><tr><td>Test:Cintra180</td><td>0.99049</td></tr><tr><td>Test:Cintra181</td><td>0.99028</td></tr><tr><td>Test:Cintra182</td><td>0.9759</td></tr><tr><td>Test:Cintra183</td><td>0.99815</td></tr><tr><td>Test:Cintra184</td><td>0.97694</td></tr><tr><td>Test:Cintra185</td><td>0.82573</td></tr><tr><td>Test:Cintra186</td><td>0.99743</td></tr><tr><td>Test:Cintra187</td><td>0.99906</td></tr><tr><td>Test:Cintra188</td><td>0.96949</td></tr><tr><td>Test:Cintra189</td><td>0.96534</td></tr><tr><td>Test:Cintra190</td><td>0.99022</td></tr><tr><td>Test:Cintra191</td><td>0.90094</td></tr><tr><td>Test:Cintra192</td><td>0.95887</td></tr><tr><td>Test:Cintra193</td><td>0.96354</td></tr><tr><td>Test:Cintra194</td><td>0.98245</td></tr><tr><td>Test:Cintra195</td><td>0.98712</td></tr><tr><td>Test:Cintra196</td><td>0.93489</td></tr><tr><td>Test:Cintra197</td><td>0.96079</td></tr><tr><td>Test:Cintra198</td><td>0.94635</td></tr><tr><td>Test:Cintra199</td><td>0.98796</td></tr><tr><td>Test:Cintra200</td><td>0.98479</td></tr><tr><td>Test:Cintra201</td><td>0.9865</td></tr><tr><td>Test:Cintra202</td><td>0.98263</td></tr><tr><td>Test:Cintra204</td><td>0.99637</td></tr><tr><td>Test:Cintra205</td><td>0.94373</td></tr><tr><td>Test:Cintra206</td><td>0.99012</td></tr><tr><td>Test:Cintra207</td><td>0.98461</td></tr><tr><td>Test:Cintra208</td><td>0.99874</td></tr><tr><td>Test:Cintra209</td><td>0.98521</td></tr><tr><td>Test:Cintra210</td><td>0.96607</td></tr><tr><td>Test:Cintra211</td><td>0.99348</td></tr><tr><td>Test:Cintra212</td><td>0.99779</td></tr><tr><td>Test:Cintra213</td><td>0.96537</td></tr><tr><td>Test:Cintra214</td><td>0.99191</td></tr><tr><td>Test:Cintra215</td><td>0.99432</td></tr><tr><td>Test:Cintra216</td><td>0.98331</td></tr><tr><td>Test:Cintra217</td><td>0.98853</td></tr><tr><td>Test:Cintra218</td><td>0.97529</td></tr><tr><td>Test:Cintra219</td><td>0.98836</td></tr><tr><td>Test:Cintra220</td><td>0.99989</td></tr><tr><td>Test:Cintra221</td><td>0.97989</td></tr><tr><td>Test:Cintra222</td><td>0.98158</td></tr><tr><td>Test:Cintra223</td><td>0.98594</td></tr><tr><td>Test:Cintra224</td><td>0.98857</td></tr><tr><td>Test:Cintra225</td><td>0.99848</td></tr><tr><td>Test:Cintra226</td><td>0.99804</td></tr><tr><td>Test:Cintra227</td><td>0.99811</td></tr><tr><td>Test:Cintra228</td><td>0.95409</td></tr><tr><td>Test:Cintra229</td><td>0.993</td></tr><tr><td>Test:Cintra230</td><td>0.98666</td></tr><tr><td>Test:Cintra231</td><td>0.98415</td></tr><tr><td>Test:Cintra232</td><td>0.99911</td></tr><tr><td>Test:Cintra233</td><td>0.98631</td></tr><tr><td>Test:Cintra234</td><td>0.98932</td></tr><tr><td>Test:Cintra235</td><td>0.97592</td></tr><tr><td>Test:Cintra236</td><td>1.0</td></tr><tr><td>Test:Cintra237</td><td>0.99858</td></tr><tr><td>Test:Cintra238</td><td>0.9992</td></tr><tr><td>Test:Cintra239</td><td>0.99773</td></tr><tr><td>Test:Cintra240</td><td>0.99168</td></tr><tr><td>Test:Cintra241</td><td>0.9938</td></tr><tr><td>Test:Cintra242</td><td>0.98425</td></tr><tr><td>Test:Cintra243</td><td>0.99624</td></tr><tr><td>Test:Cintra244</td><td>0.98064</td></tr><tr><td>Test:Cintra245</td><td>0.99763</td></tr><tr><td>Test:Cintra246</td><td>0.9999</td></tr><tr><td>Test:Cintra247</td><td>0.98695</td></tr><tr><td>Test:Cintra248</td><td>0.99589</td></tr><tr><td>Test:Cintra249</td><td>0.99349</td></tr><tr><td>Test:Cintra25</td><td>0.93916</td></tr><tr><td>Test:Cintra250</td><td>0.98976</td></tr><tr><td>Test:Cintra251</td><td>0.99392</td></tr><tr><td>Test:Cintra252</td><td>0.98989</td></tr><tr><td>Test:Cintra253</td><td>0.99604</td></tr><tr><td>Test:Cintra254</td><td>0.98892</td></tr><tr><td>Test:Cintra255</td><td>0.98107</td></tr><tr><td>Test:Cintra256</td><td>0.98752</td></tr><tr><td>Test:Cintra257</td><td>0.98909</td></tr><tr><td>Test:Cintra258</td><td>0.99976</td></tr><tr><td>Test:Cintra259</td><td>0.99257</td></tr><tr><td>Test:Cintra260</td><td>0.98735</td></tr><tr><td>Test:Cintra261</td><td>0.99391</td></tr><tr><td>Test:Cintra262</td><td>0.99775</td></tr><tr><td>Test:Cintra263</td><td>0.99875</td></tr><tr><td>Test:Cintra264</td><td>0.99425</td></tr><tr><td>Test:Cintra27</td><td>0.20152</td></tr><tr><td>Test:Cintra29</td><td>0.41825</td></tr><tr><td>Test:Cintra34</td><td>0.51711</td></tr><tr><td>Test:Cintra35</td><td>0.63878</td></tr><tr><td>Test:Cintra38</td><td>0.327</td></tr><tr><td>Test:Cintra39</td><td>0.8327</td></tr><tr><td>Test:Cintra40</td><td>0.57034</td></tr><tr><td>Test:Cintra44</td><td>0.86692</td></tr><tr><td>Test:Cintra49</td><td>0.63878</td></tr><tr><td>Test:Cintra51</td><td>0.55006</td></tr><tr><td>Test:Cintra58</td><td>0.76046</td></tr><tr><td>Test:Cintra60</td><td>0.8289</td></tr><tr><td>Test:Cintra65</td><td>0.61407</td></tr><tr><td>Test:Cintra67</td><td>0.47909</td></tr><tr><td>Test:Cintra70</td><td>0.78707</td></tr><tr><td>Test:Cintra71</td><td>0.70722</td></tr><tr><td>Test:Cintra75</td><td>0.68061</td></tr><tr><td>Test:Cintra78</td><td>0.81749</td></tr><tr><td>Test:Cintra79</td><td>0.79087</td></tr><tr><td>Test:Cintra81</td><td>0.56654</td></tr><tr><td>Test:Cintra82</td><td>0.76426</td></tr><tr><td>Test:Cintra83</td><td>0.74144</td></tr><tr><td>Test:Cintra85</td><td>0.53574</td></tr><tr><td>Test:Cintra89</td><td>0.69011</td></tr><tr><td>Test:Cintra91</td><td>0.53992</td></tr><tr><td>Test:Cintra93</td><td>0.8346</td></tr><tr><td>Test:Cintra94</td><td>0.69708</td></tr><tr><td>Test:Cintra95</td><td>0.95817</td></tr><tr><td>Test:Cintra97</td><td>0.84183</td></tr><tr><td>Test:Cintra98</td><td>0.98124</td></tr><tr><td>Test:base_Cinter</td><td>0.87147</td></tr><tr><td>epoch</td><td>0</td></tr><tr><td>test_loss</td><td>770.71198</td></tr><tr><td>test_loss_desurv</td><td>-4.68234</td></tr><tr><td>test_loss_values</td><td>1546.10608</td></tr><tr><td>trainer/global_step</td><td>0</td></tr></table><br/></div></div>"
      ],
      "text/plain": [
       "<IPython.core.display.HTML object>"
      ]
     },
     "metadata": {},
     "output_type": "display_data"
    },
    {
     "data": {
      "text/html": [
       "Synced <strong style=\"color:#cdcd00\">notebook-test3</strong>: <a href=\"https://wandb.ai/cwlgadd/SurvivEHR/runs/1rubver8\" target=\"_blank\">https://wandb.ai/cwlgadd/SurvivEHR/runs/1rubver8</a><br/>Synced 5 W&B file(s), 0 media file(s), 0 artifact file(s) and 0 other file(s)"
      ],
      "text/plain": [
       "<IPython.core.display.HTML object>"
      ]
     },
     "metadata": {},
     "output_type": "display_data"
    },
    {
     "data": {
      "text/html": [
       "Find logs at: <code>/rds/projects/s/subramaa-mum-predict/CharlesGadd_Oxford/FoundationModelOutput/wandb/run-20241125_212114-1rubver8/logs</code>"
      ],
      "text/plain": [
       "<IPython.core.display.HTML object>"
      ]
     },
     "metadata": {},
     "output_type": "display_data"
    }
   ],
   "source": [
    "# load the configuration file, override any settings \n",
    "with initialize(version_base=None, config_path=\"../../confs\", job_name=\"testing_zeroshot_notebook\"):\n",
    "    cfg = compose(config_name=\"config_CompetingRisk37M\", \n",
    "                  overrides=[# Experiment setup\n",
    "                             \"experiment.type='causal'\",\n",
    "                             \"experiment.run_id='notebook-test3'\", # CR_11M_24_11_01_big_posencscale_\n",
    "                             \"experiment.train=False\",\n",
    "                             \"experiment.test=True\",\n",
    "                             # Dataloader\n",
    "                             \"data.meta_information_path=/rds/projects/g/gokhalkm-optimal/OPTIMAL_MASTER_DATASET/data/FoundationalModel/PreTrain/meta_information_QuantJenny.pickle\",\n",
    "                             \"data.min_workers=12\",\n",
    "                             # Optimiser\n",
    "                             \"optim.limit_test_batches=0.01\",\n",
    "                            ]\n",
    "                 )    \n",
    "# print(OmegaConf.to_yaml(cfg))\n",
    "\n",
    "wandb.finish()\n",
    "model, dm = run(cfg)\n",
    "print(f\"Loaded model with {sum(p.numel() for p in model.parameters())/1e6} M parameters\")\n",
    "wandb.finish()\n",
    "\n",
    "save_path = f\"/rds/projects/s/subramaa-mum-predict/CharlesGadd_Oxford/FoundationModelOutput/checkpoints/{cfg.experiment.run_id}/\""
   ]
  },
  {
   "cell_type": "markdown",
   "id": "fd2e0a69-cc78-43d6-8e6c-bac2194a3f1b",
   "metadata": {},
   "source": [
    "# Run experiment"
   ]
  },
  {
   "cell_type": "code",
   "execution_count": null,
   "id": "b018c920-1f4d-40a5-b6a9-a6877430385d",
   "metadata": {},
   "outputs": [],
   "source": []
  },
  {
   "cell_type": "code",
   "execution_count": 4,
   "id": "ab4e2467-bfc5-47cf-8e26-7a38cc093965",
   "metadata": {
    "scrolled": true
   },
   "outputs": [],
   "source": [
    "import wandb\n"
   ]
  },
  {
   "cell_type": "code",
   "execution_count": 7,
   "id": "d078715e-c1dc-4726-bf06-0d6cba9261fb",
   "metadata": {},
   "outputs": [
    {
     "data": {
      "text/plain": [
       "['SYSTEMIC_LUPUS_ERYTHEMATOSUS',\n",
       " 'Serum_total_cholesterol_level_98',\n",
       " 'VISUAL_IMPAIRMENT']"
      ]
     },
     "metadata": {},
     "output_type": "display_data"
    }
   ],
   "source": [
    "dm.encode(['Diastolic_blood_pressure_5.png'])\n",
    "display(dm.decode([11, 141,38]).split(\" \"))"
   ]
  },
  {
   "cell_type": "code",
   "execution_count": 6,
   "id": "9aa0352a-f7cc-40ea-b456-97f1e59adcf3",
   "metadata": {},
   "outputs": [
    {
     "data": {
      "text/plain": [
       "['NSAIDS_oral_OPTIMAL_final',\n",
       " 'Diastolic_blood_pressure_5',\n",
       " 'Systolic_blood_pressure_4',\n",
       " 'Statins',\n",
       " 'Lipid_lowering_drugs_Optimal']"
      ]
     },
     "execution_count": 6,
     "metadata": {},
     "output_type": "execute_result"
    }
   ],
   "source": [
    "dm.tokenizer._event_counts[\"EVENT\"][-5:].to_list()"
   ]
  },
  {
   "cell_type": "code",
   "execution_count": null,
   "id": "655e044f-4d3a-4c03-a3aa-c460e1ffd662",
   "metadata": {},
   "outputs": [],
   "source": []
  },
  {
   "cell_type": "code",
   "execution_count": null,
   "id": "8a9d7a7c-242a-4ba1-ae98-2a5ac7ed8d22",
   "metadata": {},
   "outputs": [],
   "source": []
  },
  {
   "cell_type": "code",
   "execution_count": null,
   "id": "42a8bb11-e10a-4319-8050-2703af0e4d33",
   "metadata": {},
   "outputs": [],
   "source": []
  },
  {
   "cell_type": "markdown",
   "id": "3f8c7214-48d4-4daf-b30e-5cd57d2dc52a",
   "metadata": {},
   "source": [
    "# Below is deprecated. Will consolodate it when creating any distribution shift plots"
   ]
  },
  {
   "cell_type": "markdown",
   "id": "2db2b285-c23f-4fd2-8e66-e20159e8e271",
   "metadata": {},
   "source": [
    "# Load Pre-Trained model"
   ]
  },
  {
   "cell_type": "code",
   "execution_count": 7,
   "id": "b6f37089-e294-46c0-bc4a-ce3ae00300b5",
   "metadata": {
    "scrolled": true
   },
   "outputs": [
    {
     "ename": "NameError",
     "evalue": "name 'SurvivalExperiment' is not defined",
     "output_type": "error",
     "traceback": [
      "\u001b[0;31m---------------------------------------------------------------------------\u001b[0m",
      "\u001b[0;31mNameError\u001b[0m                                 Traceback (most recent call last)",
      "Cell \u001b[0;32mIn [7], line 2\u001b[0m\n\u001b[1;32m      1\u001b[0m ckpt_path \u001b[38;5;241m=\u001b[39m cfg\u001b[38;5;241m.\u001b[39mexperiment\u001b[38;5;241m.\u001b[39mlog_dir \u001b[38;5;241m+\u001b[39m \u001b[38;5;124mf\u001b[39m\u001b[38;5;124m'\u001b[39m\u001b[38;5;124mcheckpoints/\u001b[39m\u001b[38;5;132;01m{\u001b[39;00mcfg\u001b[38;5;241m.\u001b[39mexperiment\u001b[38;5;241m.\u001b[39mrun_id\u001b[38;5;132;01m}\u001b[39;00m\u001b[38;5;124m.ckpt\u001b[39m\u001b[38;5;124m'\u001b[39m\n\u001b[0;32m----> 2\u001b[0m model \u001b[38;5;241m=\u001b[39m \u001b[43mSurvivalExperiment\u001b[49m\u001b[38;5;241m.\u001b[39mload_from_checkpoint(ckpt_path)\n",
      "\u001b[0;31mNameError\u001b[0m: name 'SurvivalExperiment' is not defined"
     ]
    }
   ],
   "source": [
    "ckpt_path = cfg.experiment.log_dir + f'checkpoints/{cfg.experiment.run_id}.ckpt'\n",
    "model = SurvivalExperiment.load_from_checkpoint(ckpt_path)"
   ]
  },
  {
   "cell_type": "markdown",
   "id": "53ae57fb-6ca7-4e7f-9b79-b99bb5a10b52",
   "metadata": {},
   "source": [
    "# Initialise fine-tuning data module"
   ]
  },
  {
   "cell_type": "code",
   "execution_count": null,
   "id": "a8e90c2f-04c5-4f31-86f0-4f3800fa9325",
   "metadata": {
    "scrolled": true
   },
   "outputs": [],
   "source": [
    "# Update dataset path to point to the new dataset \n",
    "cfg.data.path_to_ds = \"/rds/projects/g/gokhalkm-optimal/OPTIMAL_MASTER_DATASET/data/FoundationalModel/FineTune_CVD/\"\n",
    "\n",
    "# Build \n",
    "dm = FoundationalDataModule(path_to_db=cfg.data.path_to_db,\n",
    "                            path_to_ds=cfg.data.path_to_ds,\n",
    "                            load=True,\n",
    "                            tokenizer=\"tabular\",\n",
    "                            batch_size=cfg.data.batch_size,\n",
    "                            max_seq_length=cfg.transformer.block_size,\n",
    "                            freq_threshold=cfg.data.unk_freq_threshold,\n",
    "                            min_workers=cfg.data.min_workers,\n",
    "                            overwrite_meta_information=cfg.data.meta_information_path,\n",
    "                           )\n",
    "\n",
    "vocab_size = dm.train_set.tokenizer.vocab_size\n",
    "print(f\"{vocab_size} vocab elements\")\n",
    "\n",
    "# list of univariate measurements to model with Normal distribution\n",
    "# Extract the measurements, using the fact that the diagnoses are all up upper case.\n",
    "measurements_for_univariate_regression = [record for record in dm.tokenizer._event_counts[\"EVENT\"] if record.upper() != record]\n",
    "cfg.head.tokens_for_univariate_regression = dm.encode(measurements_for_univariate_regression) \n",
    "# display(measurements_for_univariate_regression)"
   ]
  },
  {
   "cell_type": "code",
   "execution_count": null,
   "id": "13a7a64a-4a5b-4811-847a-5ad8abe04c61",
   "metadata": {
    "scrolled": true
   },
   "outputs": [],
   "source": [
    "# import pickle as pkl\n",
    "# import pathlib\n",
    "\n",
    "pkl_file_to_amend = \"/rds/projects/g/gokhalkm-optimal/OPTIMAL_MASTER_DATASET/data/FoundationalModel/FineTune_CVD/file_row_count_dict_test.pickle\"\n",
    "\n",
    "with open(pkl_file_to_amend, 'rb') as pickle_file:\n",
    "    content = pickle.load(pickle_file)\n",
    "display(content)\n",
    "\n",
    "# new_dictionary = {}\n",
    "# for key in content.keys():\n",
    "#     str_to_remove = \"/rds/projects/g/gokhalkm-optimal/OPTIMAL_MASTER_DATASET/data/FoundationalModel/FineTune_CVD/split=val/\"\n",
    "#     new_key = str(key)[len(str_to_remove):]\n",
    "#     new_dictionary[new_key] = content[key]\n",
    "# display(new_dictionary)\n",
    "\n",
    "\n",
    "# with open(pkl_file_to_amend, 'wb') as handle:\n",
    "#     pickle.dump(new_dictionary, handle, protocol=pickle.HIGHEST_PROTOCOL)\n"
   ]
  },
  {
   "cell_type": "code",
   "execution_count": null,
   "id": "39e3bd66-0f95-4d0f-9e85-b05bf609037e",
   "metadata": {},
   "outputs": [],
   "source": [
    "# new_dictionary"
   ]
  },
  {
   "cell_type": "code",
   "execution_count": null,
   "id": "3a3a45cf-dcbe-4d66-a8fa-34fcc1e4a4de",
   "metadata": {
    "scrolled": true
   },
   "outputs": [],
   "source": [
    "start = time.time()   # starting time\n",
    "for batch in dm.train_dataloader():\n",
    "    break\n",
    "print(f\"batch loaded in {time.time()-start} seconds\")    \n",
    "    \n",
    "# for key in batch.keys():\n",
    "#     print(f\"{key}\".ljust(20) + f\"{batch[key].shape}\")\n",
    "\n",
    "# tokens = batch[\"tokens\"][0].tolist()    \n",
    "# sentence = dm.decode(tokens).split(\" \")\n",
    "# for token, value in zip(sentence, batch[\"values\"][0].tolist()):\n",
    "#     print(f\"{token}:\".ljust(40) + f\"{value}\")"
   ]
  },
  {
   "cell_type": "code",
   "execution_count": null,
   "id": "85a4c5b5-2121-4d10-8f8e-11a88ed16cc3",
   "metadata": {},
   "outputs": [],
   "source": [
    "display(batch.keys())\n",
    "display(convert_batch_to_none_causal(batch).keys())\n",
    "\n",
    "print(batch[\"static_covariates\"].shape)\n",
    "\n",
    "print(dm.train_set.static_1hot)\n",
    "print(dm.train_set.static_1hot[\"SEX\"].categories_)\n",
    "print(dm.train_set.static_1hot[\"IMD\"].categories_)\n",
    "print(dm.train_set.static_1hot[\"ETHNICITY\"].categories_)"
   ]
  },
  {
   "cell_type": "markdown",
   "id": "60e3e15f-1b7c-466b-825e-a84100d224a0",
   "metadata": {},
   "source": [
    "## View an example sample"
   ]
  },
  {
   "cell_type": "code",
   "execution_count": null,
   "id": "16aa22fa-ef08-485f-a948-c4ff8b3aade5",
   "metadata": {
    "scrolled": true
   },
   "outputs": [],
   "source": [
    "dm.test_set.view_sample(1354, max_dynamic_events=None, report_time=True)"
   ]
  },
  {
   "cell_type": "markdown",
   "id": "d1943eec-f491-4a94-92d9-65b9cedbd433",
   "metadata": {},
   "source": [
    "# Custom wrapper prediction last token\n",
    "\n",
    "To begin with, I will just loop over samples individually to test the zero-shot capacity of SurvivEHR. "
   ]
  },
  {
   "cell_type": "code",
   "execution_count": null,
   "id": "439343da-a813-4ffa-b0a6-26074e80d11e",
   "metadata": {
    "scrolled": true
   },
   "outputs": [],
   "source": [
    "\n",
    "\n",
    "# Verifying on datamodule \n",
    "for _idx, batch in enumerate(dm.test_dataloader()):\n",
    "    if _idx > 10:\n",
    "        break\n",
    "    print(_idx)\n",
    "    print(torch.stack([batch[\"tokens\"][10,:5], \n",
    "                       batch[\"values\"][10,:5],  \n",
    "                       batch[\"ages\"][10,:5],\n",
    "                       batch[\"attention_mask\"][10,:5]]))\n",
    "    batch = replace_last_non_pad_with_pad(batch)\n",
    "    print(torch.stack([batch[\"tokens\"][10,:5], \n",
    "                       batch[\"values\"][10,:5],  \n",
    "                       batch[\"ages\"][10,:5],\n",
    "                       batch[\"attention_mask\"][10,:5]]))"
   ]
  },
  {
   "cell_type": "code",
   "execution_count": null,
   "id": "f2c069ad-f41d-420e-819e-cf2c5a390baf",
   "metadata": {},
   "outputs": [],
   "source": [
    "outcome_of_interest = [\"COPD\", \"SUBSTANCEMISUSE\"]\n",
    "outcome_token = dm.encode(outcome_of_interest)[0]\n",
    "print(outcome_token)\n",
    "# print(model(batch))"
   ]
  },
  {
   "cell_type": "code",
   "execution_count": null,
   "id": "e17f35b1-02d3-4db9-b376-ca44d9c1f770",
   "metadata": {
    "scrolled": true
   },
   "outputs": [],
   "source": [
    "Hs, labels = [], []\n",
    "mins,maxes=[],[]\n",
    "for _idx, batch in enumerate(dm.test_dataloader()):\n",
    "\n",
    "    batch = replace_last_non_pad_with_pad(batch)\n",
    "    print(batch[\"tokens\".shape)\n",
    "    outputs, _, hidden_states = model(batch, is_generation=True)\n",
    "    print(outputs)\n",
    "    \n",
    "    hidden_states = hidden_states.cpu().detach().numpy()                           # (64, 128, 384) \n",
    "    Hs.append( hidden_states.reshape(hidden_states.shape[0], -1) )\n",
    "    labels.append((batch[\"target_token\"] == outcome_token).long().numpy())\n",
    "\n",
    "    if _idx == 9:\n",
    "        break\n",
    "\n"
   ]
  },
  {
   "cell_type": "markdown",
   "id": "fc2bf156-cc66-4276-8c8d-23caec948e2d",
   "metadata": {},
   "source": [
    "# Visualise hidden dimension labelled by target"
   ]
  },
  {
   "cell_type": "code",
   "execution_count": null,
   "id": "5a2d857d-dbb0-487b-8278-42c04bcbea15",
   "metadata": {},
   "outputs": [],
   "source": [
    "import umap\n",
    "from sklearn.preprocessing import StandardScaler\n",
    "\n",
    "H = np.concatenate(Hs, 0)\n",
    "lbl = np.concatenate(labels, 0)\n",
    "\n",
    "H = StandardScaler().fit_transform(H)\n",
    "reducer = umap.UMAP()\n",
    "H_proj = reducer.fit_transform(H)\n",
    "\n",
    "plt.close()\n",
    "plt.scatter(H_proj[:,0], H_proj[:,1], c=lbl)\n",
    "plt.savefig(save_path + f\"zero_shot/hidden_umap.png\")"
   ]
  },
  {
   "cell_type": "code",
   "execution_count": null,
   "id": "ea5e686a-ebe9-43d4-8a14-b88df279ca9d",
   "metadata": {},
   "outputs": [],
   "source": [
    "print(outputs[\"surv\"][\"surv_CDF\"][outcome_token].shape)\n",
    "\n",
    "# The first two tokens in the vocab correspond to the PAD and UNK tokens. There is no CDF corresponding to the PAD token, so the indexing for surv_CDF begins as [\"UNK\", \"ADDISONS_DISEASE\", ...]\n",
    "# print(dm.decode([0,1,2]))\n",
    "\n",
    "outcomes = [\"COPD\", \"SUBSTANCEMISUSE\"]\n",
    "outcome_tokens = dm.encode(outcomes)\n",
    "\n",
    "# for outcome in outcomes:\n",
    "    # observed_outcome_token = dm.encode([outcome])[0]\n",
    "cdf = np.zeros_like(outputs[\"surv\"][\"surv_CDF\"][0])\n",
    "lbls = np.zeros_like(batch[\"target_token\"])\n",
    "\n",
    "for _outcome_token in outcome_tokens:\n",
    "    cdf += outputs[\"surv\"][\"surv_CDF\"][_outcome_token - 1] \n",
    "    lbls += (batch[\"target_token\"] == _outcome_token).long().numpy()\n",
    "\n",
    "plt.close()\n",
    "cdf_true = cdf[lbls==1,:]\n",
    "cdf_false = cdf[lbls==0,:]\n",
    "for i in range(cdf_true.shape[0]):\n",
    "    plt.plot(np.linspace(1,1826,1826), cdf_true[i,:], c=\"r\", label=\"outcome occurred next\" if i == 0 else None, alpha=1)\n",
    "for i in range(cdf_false.shape[0]):\n",
    "    plt.plot(np.linspace(1,1826,1826), cdf_false[i,:], c=\"k\", label=\"outcome did not occur next\" if i == 0 else None, alpha=0.3)\n",
    "\n",
    "plt.legend(loc=2)\n",
    "plt.xlabel(\"days\")\n",
    "plt.ylabel(f\"P(t>T) - outcomes={','.join(outcomes)}\")\n",
    "plt.savefig(save_path + f\"zero_shot/cdf_outcomes.png\")"
   ]
  },
  {
   "cell_type": "code",
   "execution_count": null,
   "id": "619c2049-56bc-47ff-bcea-ce2e529266e2",
   "metadata": {},
   "outputs": [],
   "source": [
    "print(batch[\"target_token\"].unique())\n",
    "print(len(outputs[\"surv\"][\"surv_CDF\"]))"
   ]
  },
  {
   "cell_type": "code",
   "execution_count": null,
   "id": "ecb3417a-d3c7-42f9-b288-82ab49ddb69b",
   "metadata": {},
   "outputs": [],
   "source": [
    "dm.decode([2])"
   ]
  },
  {
   "cell_type": "code",
   "execution_count": null,
   "id": "90115137-0805-4f93-877b-2d98e51439d0",
   "metadata": {},
   "outputs": [],
   "source": [
    "outputs[\"surv\"][\"surv_CDF\"][observed_outcome_token - 1]"
   ]
  },
  {
   "cell_type": "code",
   "execution_count": null,
   "id": "9bacadcc-f857-45e2-94e8-0ca43ccbd196",
   "metadata": {},
   "outputs": [],
   "source": []
  }
 ],
 "metadata": {
  "kernelspec": {
   "display_name": "Python",
   "language": "python",
   "name": "sys_python"
  },
  "language_info": {
   "codemirror_mode": {
    "name": "ipython",
    "version": 3
   },
   "file_extension": ".py",
   "mimetype": "text/x-python",
   "name": "python",
   "nbconvert_exporter": "python",
   "pygments_lexer": "ipython3",
   "version": "3.10.4"
  }
 },
 "nbformat": 4,
 "nbformat_minor": 5
}
