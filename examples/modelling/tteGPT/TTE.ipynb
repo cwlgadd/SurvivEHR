{
 "cells": [
  {
   "cell_type": "markdown",
   "metadata": {
    "id": "wJpXpmjEYC_T"
   },
   "source": [
    "# Demo Notebook:\n",
    "## Time to Event Transformer For Causal Sequence Modelling \n",
    "\n",
    "Including time, and excluding values"
   ]
  },
  {
   "cell_type": "code",
   "execution_count": 1,
   "metadata": {},
   "outputs": [
    {
     "name": "stdout",
     "output_type": "stream",
     "text": [
      "Added path '/rds/homes/g/gaddcz/Projects/CPRD/virtual-env-icelake/lib/python3.10/site-packages' at start of search paths.\n",
      "env: SQLITE_TMPDIR=/rds/projects/g/gokhalkm-optimal/DataforCharles\n",
      "env: TMPDIR=/rds/projects/g/gokhalkm-optimal/DataforCharles\n",
      "/rds/projects/g/gokhalkm-optimal/DataforCharles\n",
      "/rds/projects/g/gokhalkm-optimal/DataforCharles\n",
      "\n"
     ]
    }
   ],
   "source": [
    "import os\n",
    "from pathlib import Path\n",
    "import sys\n",
    "node_type = os.getenv('BB_CPU')\n",
    "venv_dir = f'/rds/homes/g/gaddcz/Projects/CPRD/virtual-env-{node_type}'\n",
    "venv_site_pkgs = Path(venv_dir) / 'lib' / f'python{sys.version_info.major}.{sys.version_info.minor}' / 'site-packages'\n",
    "if venv_site_pkgs.exists():\n",
    "    sys.path.insert(0, str(venv_site_pkgs))\n",
    "    print(f\"Added path '{venv_site_pkgs}' at start of search paths.\")\n",
    "else:\n",
    "    print(f\"Path '{venv_site_pkgs}' not found. Check that it exists and/or that it exists for node-type '{node_type}'.\")\n",
    "\n",
    "# Perform sqlite operations on disk\n",
    "%env SQLITE_TMPDIR=/rds/projects/g/gokhalkm-optimal/DataforCharles\n",
    "%env TMPDIR=/rds/projects/g/gokhalkm-optimal/DataforCharles\n",
    "!echo $SQLITE_TMPDIR\n",
    "!echo $TMPDIR\n",
    "!echo $USERPROFILE"
   ]
  },
  {
   "cell_type": "code",
   "execution_count": 5,
   "metadata": {},
   "outputs": [
    {
     "name": "stdout",
     "output_type": "stream",
     "text": [
      "cuda\n",
      "/rds/homes/g/gaddcz/Projects/CPRD/examples/modelling/tteGPT\n"
     ]
    }
   ],
   "source": [
    "import pytorch_lightning \n",
    "import torch\n",
    "import numpy as np\n",
    "import matplotlib.pyplot as plt\n",
    "import random\n",
    "import sqlite3\n",
    "from dataclasses import dataclass\n",
    "import logging\n",
    "from CPRD.data.foundational_loader import FoundationalDataModule\n",
    "from CPRD.src.models.TTE.task_heads.causal import TTETransformerForCausalSequenceModelling\n",
    "from tqdm import tqdm\n",
    "import time\n",
    "import os\n",
    "# TODO:\n",
    "# replace experiment boilerplate with pytorch lightning\n",
    "\n",
    "torch.manual_seed(1337)\n",
    "logging.basicConfig(level=logging.INFO)\n",
    "device = 'cuda' if torch.cuda.is_available() else 'cpu'\n",
    "print(device)\n",
    "\n",
    "# device = \"cpu\"    # if more informative debugging statements are needed\n",
    "!pwd"
   ]
  },
  {
   "cell_type": "markdown",
   "metadata": {},
   "source": [
    "## Build configurations"
   ]
  },
  {
   "cell_type": "code",
   "execution_count": 6,
   "metadata": {},
   "outputs": [],
   "source": [
    "# Set config to be equivalent architecture of kaparthy benchmark, however they are not comparable tasks.\n",
    "@dataclass\n",
    "class DemoConfig:\n",
    "    block_size: int = 256        # what is the maximum context length for predictions?\n",
    "    n_layer: int = 6\n",
    "    n_head: int = 6\n",
    "    n_embd: int = 384\n",
    "    bias: bool = True\n",
    "    attention_type: str = \"global\"    \n",
    "    dropout: float = 0.0\n",
    "    unk_freq_threshold: float = 0.0\n",
    "    TTELayer = \"Exponential\"\n",
    "\n",
    "config = DemoConfig()\n",
    "\n",
    "@dataclass\n",
    "class OptConfig:\n",
    "    batch_size: int = 128\n",
    "    eval_interval: int = 1\n",
    "    learning_rate: float = 3e-4\n",
    "    epochs: int = 3\n",
    "    \n",
    "opt = OptConfig()"
   ]
  },
  {
   "cell_type": "code",
   "execution_count": 7,
   "metadata": {},
   "outputs": [
    {
     "name": "stdout",
     "output_type": "stream",
     "text": [
      "72\n"
     ]
    }
   ],
   "source": [
    "print(os.cpu_count())"
   ]
  },
  {
   "cell_type": "markdown",
   "metadata": {},
   "source": [
    "## Create data loader on a reduced cohort"
   ]
  },
  {
   "cell_type": "code",
   "execution_count": 34,
   "metadata": {},
   "outputs": [
    {
     "name": "stderr",
     "output_type": "stream",
     "text": [
      "INFO:root:Loading Polars dataset from /rds/projects/g/gokhalkm-optimal/OPTIMAL_MASTER_DATASET/data/polars/\n",
      "INFO:root:Using tokenizer tabular\n",
      "INFO:root:Tokenzier created based on 3584.43M tokens\n",
      "INFO:root:Creating split=train/ dataset\n",
      "INFO:root:\t Loading split=train/ hash map for parquet\n",
      "INFO:root:\t Hash map created for split=train/ with 22,842,428 samples\n",
      "INFO:root:Creating split=test/ dataset\n",
      "INFO:root:\t Loading split=test/ hash map for parquet\n",
      "INFO:root:\t Hash map created for split=test/ with 1,417,644 samples\n",
      "INFO:root:Creating split=val/ dataset\n",
      "INFO:root:\t Loading split=val/ hash map for parquet\n",
      "INFO:root:\t Hash map created for split=val/ with 1,169,583 samples\n"
     ]
    },
    {
     "name": "stdout",
     "output_type": "stream",
     "text": [
      "184 vocab elements\n"
     ]
    }
   ],
   "source": [
    "# Get a list of patients which fit a reduced set of criterion\n",
    "# path_to_db = \"/rds/projects/g/gokhalkm-optimal/OPTIMAL_MASTER_DATASET/archive/Version2/\"\n",
    "path_to_db = \"/rds/projects/g/gokhalkm-optimal/OPTIMAL_MASTER_DATASET/data/\"\n",
    "\n",
    "# Build \n",
    "dm = FoundationalDataModule(path_to_db=path_to_db,\n",
    "                            load=True,\n",
    "                            tokenizer=\"tabular\",\n",
    "                            batch_size=opt.batch_size,\n",
    "                            max_seq_length=config.block_size,\n",
    "                            unk_freq_threshold=config.unk_freq_threshold,\n",
    "                            min_workers=20,\n",
    "                           )\n",
    "\n",
    "vocab_size = dm.train_set.tokenizer.vocab_size\n",
    "print(f\"{vocab_size} vocab elements\")"
   ]
  },
  {
   "cell_type": "markdown",
   "metadata": {},
   "source": [
    "## View a single patient"
   ]
  },
  {
   "cell_type": "code",
   "execution_count": 38,
   "metadata": {
    "scrolled": true
   },
   "outputs": [
    {
     "name": "stdout",
     "output_type": "stream",
     "text": [
      "PTSDDIAGNOSIS                                                              7145                nan                 \n",
      "Body_mass_index_3                                                          7239                0.5944308638572693  \n",
      "Diastolic_blood_pressure_5                                                 7239                0.5438894033432007  \n",
      "O_E___height_1                                                             7239                0.6160584688186646  \n",
      "O_E___weight_2                                                             7239                0.6736569404602051  \n",
      "Systolic_blood_pressure_4                                                  7239                0.27227622270584106 \n",
      "Body_mass_index_3                                                          7347                0.6553252935409546  \n",
      "O_E___height_1                                                             7347                0.6160584688186646  \n",
      "O_E___weight_2                                                             7347                0.7188891768455505  \n",
      "Body_mass_index_3                                                          7694                0.6553252935409546  \n",
      "O_E___height_1                                                             7694                0.6160584688186646  \n",
      "O_E___weight_2                                                             7694                0.7279356122016907  \n",
      "Body_mass_index_3                                                          8312                0.807561457157135   \n",
      "Diastolic_blood_pressure_5                                                 8312                0.630986213684082   \n",
      "O_E___height_1                                                             8312                0.6160584688186646  \n",
      "O_E___weight_2                                                             8312                0.863632321357727   \n",
      "Systolic_blood_pressure_4                                                  8312                0.4693400263786316  \n",
      "Plasma_LDL_cholesterol_level_104                                           8535                0.5580519437789917  \n",
      "Plasma_triglyceride_level_106                                              8535                0.39890921115875244 \n",
      "Serum_HDL_cholesterol_level_100                                            8535                0.5189144015312195  \n",
      "Serum_TSH_level_71                                                         8535                0.6487945318222046  \n",
      "Serum_cholesterol_97                                                       8535                0.5065843462944031  \n",
      "Serum_cholesterol_HDL_ratio_94                                             8535                0.47743600606918335 \n",
      "Serum_free_T4_level_75                                                     8535                0.5722573399543762  \n",
      "Body_mass_index_3                                                          8537                0.8380087018013     \n",
      "Diastolic_blood_pressure_5                                                 8537                0.5438894033432007  \n",
      "O_E___height_1                                                             8537                0.6160584688186646  \n",
      "O_E___weight_2                                                             8537                0.8907716274261475  \n",
      "Systolic_blood_pressure_4                                                  8537                0.37080812454223633 \n",
      "Body_mass_index_3                                                          8576                0.807561457157135   \n",
      "O_E___height_1                                                             8576                0.6160584688186646  \n",
      "O_E___weight_2                                                             8576                0.8817251920700073  \n",
      "0.04996848106384277\n"
     ]
    }
   ],
   "source": [
    "import time\n",
    "\n",
    "start = time.time()   # starting time\n",
    "for row_idx, row in enumerate(dm.train_set):\n",
    "    # print(row)\n",
    "    for idx_event, (token, age, value) in enumerate(zip(dm.decode(row[\"tokens\"].tolist()).split(\" \"), row[\"ages\"], row[\"values\"])):\n",
    "        print(f\"{token}\".ljust(75) + f\"{age}\".ljust(20) + f\"{value}\".ljust(20))\n",
    "        if idx_event > 30:\n",
    "            break\n",
    "    # if row_idx > opt.batch_size - 1:\n",
    "    break\n",
    "print(time.time() - start)\n"
   ]
  },
  {
   "cell_type": "code",
   "execution_count": 39,
   "metadata": {},
   "outputs": [
    {
     "name": "stdout",
     "output_type": "stream",
     "text": [
      "10.796247005462646\n",
      "ANXIETY                                                                    10857               nan                 \n",
      "Calculated_LDL_cholesterol_level_103                                       11337               0.45437267422676086 \n",
      "Serum_HDL_cholesterol_level_100                                            11337               0.621971070766449   \n",
      "Serum_cholesterol_97                                                       11337               0.4234519898891449  \n",
      "Serum_cholesterol_HDL_ratio_94                                             11337               0.3485257625579834  \n",
      "Serum_triglycerides_105                                                    11337               0.2958986163139343  \n",
      "Basophil_count_22                                                          11734               0.36825159192085266 \n",
      "Eosinophil_count_21                                                        11734               0.3735632002353668  \n",
      "Haematocrit_15                                                             11734               0.4618009328842163  \n",
      "Haemoglobin_estimation_9                                                   11734               nan                 \n",
      "International_normalised_ratio_82                                          11734               0.1817295253276825  \n",
      "Lymphocyte_count_20                                                        11734               0.25995171070098877 \n",
      "Mean_corpusc_Hb_conc__MCHC__14                                             11734               nan                 \n",
      "Mean_corpusc_haemoglobin_MCH__13                                           11734               0.5696150064468384  \n",
      "Mean_corpuscular_volume__MCV__11                                           11734               0.5249061584472656  \n",
      "Monocyte_count_23                                                          11734               0.19410711526870728 \n",
      "Neutrophil_count_19                                                        11734               0.4116019010543823  \n",
      "Platelet_count_12                                                          11734               0.32016149163246155 \n",
      "Red_blood_cell__RBC__count_10                                              11734               0.4366362690925598  \n",
      "Red_blood_cell_distribution_width_17                                       11734               0.5357847213745117  \n",
      "Total_white_cell_count_18                                                  11734               0.3052901029586792  \n",
      "Body_mass_index_3                                                          11874               0.2595113217830658  \n",
      "Diastolic_blood_pressure_5                                                 11874               0.1955021172761917  \n",
      "O_E___height_1                                                             11874               0.5283015370368958  \n",
      "O_E___weight_2                                                             11874               0.3208456039428711  \n",
      "Systolic_blood_pressure_4                                                  11874               0.3905144929885864  \n",
      "Diastolic_blood_pressure_5                                                 12002               0.4045344889163971  \n",
      "Systolic_blood_pressure_4                                                  12002               0.35110172629356384 \n",
      "Basophil_count_22                                                          12383               0.36825159192085266 \n",
      "Calculated_LDL_cholesterol_level_103                                       12383               0.4354279339313507  \n",
      "Eosinophil_count_21                                                        12383               0.3735632002353668  \n",
      "GFR_calculated_abbreviated_MDRD_34                                         12383               0.39779967069625854 \n"
     ]
    }
   ],
   "source": [
    "start = time.time()   # starting time\n",
    "for batch_idx, batch in enumerate(dm.train_dataloader()):\n",
    "    print(time.time() - start)\n",
    "\n",
    "    tokens_row = batch[\"tokens\"][0, :]\n",
    "    ages_row = batch[\"ages\"][0, :]\n",
    "    values_row = batch[\"values\"][0, :]\n",
    "    \n",
    "    for idx_event, (token, age, value) in enumerate(zip(dm.decode(tokens_row.tolist()).split(\" \"), ages_row, values_row)):\n",
    "        print(f\"{token}\".ljust(75) + f\"{age}\".ljust(20) + f\"{value}\".ljust(20))\n",
    "        if idx_event > 30:\n",
    "            break\n",
    "    # if row_idx > opt.batch_size - 1:\n",
    "    break\n",
    "    print(time.time() - start)\n",
    "\n",
    "# print(f\"{row} loaded in {time.time()-start} seconds\")"
   ]
  },
  {
   "cell_type": "code",
   "execution_count": 2,
   "metadata": {},
   "outputs": [
    {
     "ename": "NameError",
     "evalue": "name 'batch' is not defined",
     "output_type": "error",
     "traceback": [
      "\u001b[0;31m---------------------------------------------------------------------------\u001b[0m",
      "\u001b[0;31mNameError\u001b[0m                                 Traceback (most recent call last)",
      "Cell \u001b[0;32mIn [2], line 1\u001b[0m\n\u001b[0;32m----> 1\u001b[0m display(\u001b[43mbatch\u001b[49m)\n",
      "\u001b[0;31mNameError\u001b[0m: name 'batch' is not defined"
     ]
    }
   ],
   "source": [
    "display(batch)"
   ]
  },
  {
   "cell_type": "code",
   "execution_count": 8,
   "metadata": {},
   "outputs": [
    {
     "name": "stdout",
     "output_type": "stream",
     "text": [
      "shape: (183, 3)\n",
      "┌───────────────────────────────────┬───────────┬───────────┐\n",
      "│ EVENT                             ┆ COUNT     ┆ FREQUENCY │\n",
      "│ ---                               ┆ ---       ┆ ---       │\n",
      "│ str                               ┆ u32       ┆ f64       │\n",
      "╞═══════════════════════════════════╪═══════════╪═══════════╡\n",
      "│ UNK                               ┆ 0         ┆ 0.0       │\n",
      "│ ADDISONS_DISEASE                  ┆ 6691      ┆ 0.000002  │\n",
      "│ CYSTICFIBROSIS                    ┆ 7053      ┆ 0.000002  │\n",
      "│ SYSTEMIC_SCLEROSIS                ┆ 8772      ┆ 0.000002  │\n",
      "│ SICKLE_CELL_DISEASE_V2            ┆ 11159     ┆ 0.000003  │\n",
      "│ ADDISON_DISEASE                   ┆ 11794     ┆ 0.000003  │\n",
      "│ DOWNSSYNDROME                     ┆ 17006     ┆ 0.000005  │\n",
      "│ HAEMOCHROMATOSIS_V2               ┆ 18631     ┆ 0.000005  │\n",
      "│ PLASMACELL_NEOPLASM_V2            ┆ 20301     ┆ 0.000006  │\n",
      "│ SJOGRENSSYNDROME                  ┆ 23326     ┆ 0.000007  │\n",
      "│ SYSTEMIC_LUPUS_ERYTHEMATOSUS      ┆ 26820     ┆ 0.000007  │\n",
      "│ HIVAIDS                           ┆ 41951     ┆ 0.000012  │\n",
      "│ PSORIATICARTHRITIS2021            ┆ 51273     ┆ 0.000014  │\n",
      "│ MS                                ┆ 53204     ┆ 0.000015  │\n",
      "│ Plasma_N_terminal_pro_B_type_nat… ┆ 53534     ┆ 0.000015  │\n",
      "│ LEUKAEMIA_PREVALENCEV2            ┆ 54438     ┆ 0.000015  │\n",
      "│ N_terminal_pro_brain_natriuretic… ┆ 57470     ┆ 0.000016  │\n",
      "│ ILD_SH                            ┆ 58104     ┆ 0.000016  │\n",
      "│ CHRONIC_LIVER_DISEASE_ALCOHOL     ┆ 63405     ┆ 0.000018  │\n",
      "│ PERNICIOUSANAEMIA                 ┆ 73331     ┆ 0.00002   │\n",
      "│ MENIERESDISEASE                   ┆ 73688     ┆ 0.000021  │\n",
      "│ LYMPHOMA_PREVALENCE_V2            ┆ 80511     ┆ 0.000022  │\n",
      "│ CROHNS_DISEASE                    ┆ 81250     ┆ 0.000023  │\n",
      "│ Plasma_B_natriuretic_peptide_lev… ┆ 82488     ┆ 0.000023  │\n",
      "│ CHRONICFATIGUESYNDROMEMM_V2       ┆ 82799     ┆ 0.000023  │\n",
      "│ Plasma_pro_brain_natriuretic_pep… ┆ 83343     ┆ 0.000023  │\n",
      "│ STROKE_HAEMRGIC                   ┆ 83609     ┆ 0.000023  │\n",
      "│ PARKINSONS                        ┆ 91718     ┆ 0.000026  │\n",
      "│ AORTICANEURYSM_V2                 ┆ 101134    ┆ 0.000028  │\n",
      "│ BIPOLAR                           ┆ 108852    ┆ 0.00003   │\n",
      "│ BRONCHIECTASIS                    ┆ 112618    ┆ 0.000031  │\n",
      "│ ULCERATIVE_COLITIS                ┆ 120361    ┆ 0.000034  │\n",
      "│ SCHIZOPHRENIAMM_V2                ┆ 125141    ┆ 0.000035  │\n",
      "│ PTSDDIAGNOSIS                     ┆ 126269    ┆ 0.000035  │\n",
      "│ TYPE1DM                           ┆ 145143    ┆ 0.00004   │\n",
      "│ FIBROMYALGIA                      ┆ 153213    ┆ 0.000043  │\n",
      "│ VISUAL_IMPAIRMENT                 ┆ 155707    ┆ 0.000043  │\n",
      "│ AUTISM                            ┆ 156860    ┆ 0.000044  │\n",
      "│ NAFLD_V2                          ┆ 158688    ┆ 0.000044  │\n",
      "│ ISCHAEMICSTROKE_V2                ┆ 178437    ┆ 0.00005   │\n",
      "│ Albumin___creatinine_ratio_37     ┆ 180911    ┆ 0.00005   │\n",
      "│ PVD_V3                            ┆ 185904    ┆ 0.000052  │\n",
      "│ EATINGDISORDERS                   ┆ 191873    ┆ 0.000054  │\n",
      "│ PMRANDGCA                         ┆ 195907    ┆ 0.000055  │\n",
      "│ RHEUMATOIDARTHRITIS               ┆ 197253    ┆ 0.000055  │\n",
      "│ Urine_microalbumin_creatinine_ra… ┆ 201318    ┆ 0.000056  │\n",
      "│ ENDOMETRIOSIS_ADENOMYOSIS_V2      ┆ 209157    ┆ 0.000058  │\n",
      "│ HYPERTHYROIDISM_V2                ┆ 217964    ┆ 0.000061  │\n",
      "│ Plasma_ferritin_level_62          ┆ 220380    ┆ 0.000061  │\n",
      "│ Brain_natriuretic_peptide_level_… ┆ 229202    ┆ 0.000064  │\n",
      "│ OSA                               ┆ 234938    ┆ 0.000066  │\n",
      "│ Serum_pro_brain_natriuretic_pept… ┆ 243565    ┆ 0.000068  │\n",
      "│ Serum_vitamin_D2_level_89         ┆ 249092    ┆ 0.000069  │\n",
      "│ PAD_STRICT                        ┆ 254632    ┆ 0.000071  │\n",
      "│ OTHER_CHRONIC_LIVER_DISEASE_OPTI… ┆ 289252    ┆ 0.000081  │\n",
      "│ POLYCYSTIC_OVARIAN_SYNDROME_PCOS… ┆ 332297    ┆ 0.000093  │\n",
      "│ Total_25_hydroxyvitamin_D_level_… ┆ 333324    ┆ 0.000093  │\n",
      "│ EPILEPSY                          ┆ 377341    ┆ 0.000105  │\n",
      "│ Serum_N_terminal_pro_B_type_natr… ┆ 383790    ┆ 0.000107  │\n",
      "│ VALVULARDISEASES_V2               ┆ 401061    ┆ 0.000112  │\n",
      "│ Blood_calcium_level_38            ┆ 415717    ┆ 0.000116  │\n",
      "│ INR___international_normalised_r… ┆ 426165    ┆ 0.000119  │\n",
      "│ STROKEUNSPECIFIED_V2              ┆ 446046    ┆ 0.000124  │\n",
      "│ Combined_total_vitamin_D2_and_D3… ┆ 452984    ┆ 0.000126  │\n",
      "│ MINFARCTION                       ┆ 477556    ┆ 0.000133  │\n",
      "│ SUBSTANCEMISUSE                   ┆ 502552    ┆ 0.00014   │\n",
      "│ TSH_level_74                      ┆ 507085    ┆ 0.000141  │\n",
      "│ Serum_T4_level_78                 ┆ 524777    ┆ 0.000146  │\n",
      "│ HF_V3                             ┆ 524982    ┆ 0.000146  │\n",
      "│ ALL_DEMENTIA                      ┆ 528602    ┆ 0.000147  │\n",
      "│ Plasma_cholesterol_HDL_ratio_96   ┆ 587483    ┆ 0.000164  │\n",
      "│ OSTEOPOROSIS                      ┆ 628118    ┆ 0.000175  │\n",
      "│ GOUT                              ┆ 632089    ┆ 0.000176  │\n",
      "│ Plasma_free_T4_level_77           ┆ 724108    ┆ 0.000202  │\n",
      "│ AF                                ┆ 731332    ┆ 0.000204  │\n",
      "│ PSORIASIS                         ┆ 743897    ┆ 0.000208  │\n",
      "│ COPD                              ┆ 751320    ┆ 0.00021   │\n",
      "│ 25_Hydroxyvitamin_D2_level_92     ┆ 782791    ┆ 0.000218  │\n",
      "│ Blood_urea_28                     ┆ 785766    ┆ 0.000219  │\n",
      "│ 25_Hydroxyvitamin_D3_level_90     ┆ 809104    ┆ 0.000226  │\n",
      "│ PERIPHERAL_NEUROPATHY             ┆ 840638    ┆ 0.000235  │\n",
      "│ HYPOTHYROIDISM_DRAFT_V1           ┆ 932079    ┆ 0.00026   │\n",
      "│ CKDSTAGE3TO5                      ┆ 1088754   ┆ 0.000304  │\n",
      "│ ALCOHOLMISUSE_V2                  ┆ 1125212   ┆ 0.000314  │\n",
      "│ IHDINCLUDINGMI_OPTIMALV2          ┆ 1162843   ┆ 0.000324  │\n",
      "│ Plasma_corrected_calcium_level_4… ┆ 1168224   ┆ 0.000326  │\n",
      "│ PREVALENT_IBS_V2                  ┆ 1210229   ┆ 0.000338  │\n",
      "│ Serum_25_Hydroxy_vitamin_D3_leve… ┆ 1211141   ┆ 0.000338  │\n",
      "│ Plasma_calcium_level_40           ┆ 1294409   ┆ 0.000361  │\n",
      "│ TYPE2DIABETES                     ┆ 1404325   ┆ 0.000392  │\n",
      "│ Free_T4_level_76                  ┆ 1405341   ┆ 0.000392  │\n",
      "│ Plasma_LDL_cholesterol_level_104  ┆ 1434461   ┆ 0.0004    │\n",
      "│ Calcium_adjusted_level_41         ┆ 1464226   ┆ 0.000408  │\n",
      "│ ALLCANCER_NOHAEM_NOBCC            ┆ 1496973   ┆ 0.000418  │\n",
      "│ Plasma_triglyceride_level_106     ┆ 1573268   ┆ 0.000439  │\n",
      "│ DEATH                             ┆ 1629100   ┆ 0.000454  │\n",
      "│ AST___aspartate_transam_SGOT__46  ┆ 1738489   ┆ 0.000485  │\n",
      "│ Plasma_gamma_glutamyl_transferas… ┆ 1762750   ┆ 0.000492  │\n",
      "│ Plasma_urea_level_30              ┆ 1991274   ┆ 0.000556  │\n",
      "│ Plasma_TSH_level_73               ┆ 2049380   ┆ 0.000572  │\n",
      "│ Plasma_HDL_cholesterol_level_101  ┆ 2173456   ┆ 0.000606  │\n",
      "│ Serum_total_25_hydroxy_vitamin_D… ┆ 2178432   ┆ 0.000608  │\n",
      "│ Total_bilirubin_55                ┆ 2193031   ┆ 0.000612  │\n",
      "│ ANY_DEAFNESS_HEARING_LOSS_V2      ┆ 2282766   ┆ 0.000637  │\n",
      "│ Plasma_total_cholesterol_level_9… ┆ 2331589   ┆ 0.00065   │\n",
      "│ Non_HDL_cholesterol_level_108     ┆ 2408310   ┆ 0.000672  │\n",
      "│ Serum_vitamin_D_86                ┆ 2478806   ┆ 0.000692  │\n",
      "│ OSTEOARTHRITIS                    ┆ 2653242   ┆ 0.00074   │\n",
      "│ Plasma_alkaline_phosphatase_leve… ┆ 3290802   ┆ 0.000918  │\n",
      "│ ALLERGICRHINITISCONJ              ┆ 3291165   ┆ 0.000918  │\n",
      "│ Plasma_total_bilirubin_level_54   ┆ 3443114   ┆ 0.000961  │\n",
      "│ ANXIETY                           ┆ 3560978   ┆ 0.000993  │\n",
      "│ TSH___thyroid_stim_hormone_72     ┆ 3568579   ┆ 0.000996  │\n",
      "│ Plasma_albumin_level_52           ┆ 3719377   ┆ 0.001038  │\n",
      "│ HYPERTENSION                      ┆ 3934473   ┆ 0.001098  │\n",
      "│ Plasma_alanine_aminotransferase_… ┆ 4012790   ┆ 0.00112   │\n",
      "│ DEPRESSION                        ┆ 4109336   ┆ 0.001146  │\n",
      "│ ASTHMA_PUSHASTHMA                 ┆ 4175115   ┆ 0.001165  │\n",
      "│ Haematocrit___PCV_16              ┆ 4346108   ┆ 0.001212  │\n",
      "│ ATOPICECZEMA                      ┆ 4369082   ┆ 0.001219  │\n",
      "│ Plasma_potassium_level_27         ┆ 4445152   ┆ 0.00124   │\n",
      "│ Plasma_sodium_level_25            ┆ 4458632   ┆ 0.001244  │\n",
      "│ Plasma_creatinine_level_32        ┆ 4513054   ┆ 0.001259  │\n",
      "│ Serum_total_cholesterol_level_98  ┆ 5185017   ┆ 0.001447  │\n",
      "│ Total_alkaline_phosphatase_48     ┆ 6461505   ┆ 0.001803  │\n",
      "│ Haemoglobin_A1c_level_8           ┆ 6516701   ┆ 0.001818  │\n",
      "│ Calculated_LDL_cholesterol_level… ┆ 6967780   ┆ 0.001944  │\n",
      "│ Plasma_C_reactive_protein_60      ┆ 9155551   ┆ 0.002554  │\n",
      "│ Current_smoker_83                 ┆ 10592787  ┆ 0.002955  │\n",
      "│ Serum_non_high_density_lipoprote… ┆ 10648096  ┆ 0.002971  │\n",
      "│ AST_serum_level_47                ┆ 10837982  ┆ 0.003024  │\n",
      "│ eGFR_using_creatinine_CKD_EPI_pe… ┆ 12869245  ┆ 0.00359   │\n",
      "│ Serum_folate_80                   ┆ 14643748  ┆ 0.004085  │\n",
      "│ HbA1c_level__DCCT_aligned__7      ┆ 14948615  ┆ 0.00417   │\n",
      "│ Urine_albumin_creatinine_ratio_3… ┆ 15107807  ┆ 0.004215  │\n",
      "│ Total_cholesterol_HDL_ratio_95    ┆ 15760772  ┆ 0.004397  │\n",
      "│ Corrected_serum_calcium_level_42  ┆ 16683796  ┆ 0.004655  │\n",
      "│ Serum_vitamin_B12_79              ┆ 16797696  ┆ 0.004686  │\n",
      "│ Serum_C_reactive_protein_level_5… ┆ 19234068  ┆ 0.005366  │\n",
      "│ Serum_ferritin_63                 ┆ 21412371  ┆ 0.005974  │\n",
      "│ Serum_free_T4_level_75            ┆ 22579062  ┆ 0.006299  │\n",
      "│ Serum_gamma_glutamyl_transferase… ┆ 22592131  ┆ 0.006303  │\n",
      "│ Serum_bilirubin_level_53          ┆ 24090337  ┆ 0.006721  │\n",
      "│ Ex_smoker_84                      ┆ 24891632  ┆ 0.006944  │\n",
      "│ International_normalised_ratio_8… ┆ 27966697  ┆ 0.007802  │\n",
      "│ Serum_calcium_39                  ┆ 28049902  ┆ 0.007825  │\n",
      "│ Serum_cholesterol_HDL_ratio_94    ┆ 28586515  ┆ 0.007975  │\n",
      "│ Erythrocyte_sedimentation_rate_6… ┆ 29892785  ┆ 0.00834   │\n",
      "│ Serum_LDL_cholesterol_level_102   ┆ 30073152  ┆ 0.00839   │\n",
      "│ Haemoglobin_A1c_level___IFCC_sta… ┆ 35091904  ┆ 0.00979   │\n",
      "│ Serum_triglycerides_105           ┆ 42415036  ┆ 0.011833  │\n",
      "│ Serum_alanine_aminotransferase_l… ┆ 46896239  ┆ 0.013083  │\n",
      "│ Red_blood_cell_distribution_widt… ┆ 49751137  ┆ 0.01388   │\n",
      "│ Serum_HDL_cholesterol_level_100   ┆ 50953183  ┆ 0.014215  │\n",
      "│ Serum_total_bilirubin_level_56    ┆ 54098383  ┆ 0.015093  │\n",
      "│ Serum_TSH_level_71                ┆ 55655662  ┆ 0.015527  │\n",
      "│ Serum_cholesterol_97              ┆ 57393841  ┆ 0.016012  │\n",
      "│ Never_smoked_tobacco_85           ┆ 60751822  ┆ 0.016949  │\n",
      "│ O_E___height_1                    ┆ 69089436  ┆ 0.019275  │\n",
      "│ Mean_corpusc_Hb_conc__MCHC__14    ┆ 70867102  ┆ 0.019771  │\n",
      "│ GFR_calculated_abbreviated_MDRD_… ┆ 73709249  ┆ 0.020564  │\n",
      "│ Serum_alkaline_phosphatase_50     ┆ 76052242  ┆ 0.021217  │\n",
      "│ Haematocrit_15                    ┆ 76582325  ┆ 0.021365  │\n",
      "│ Serum_urea_level_29               ┆ 78670253  ┆ 0.021948  │\n",
      "│ Serum_albumin_51                  ┆ 83105055  ┆ 0.023185  │\n",
      "│ Basophil_count_22                 ┆ 86869779  ┆ 0.024235  │\n",
      "│ Mean_corpusc_haemoglobin_MCH__13  ┆ 90498376  ┆ 0.025248  │\n",
      "│ Eosinophil_count_21               ┆ 92193433  ┆ 0.025721  │\n",
      "│ Red_blood_cell__RBC__count_10     ┆ 92326200  ┆ 0.025758  │\n",
      "│ Monocyte_count_23                 ┆ 92489278  ┆ 0.025803  │\n",
      "│ Lymphocyte_count_20               ┆ 92896401  ┆ 0.025917  │\n",
      "│ Neutrophil_count_19               ┆ 93489124  ┆ 0.026082  │\n",
      "│ Mean_corpuscular_volume__MCV__11  ┆ 94723195  ┆ 0.026426  │\n",
      "│ Total_white_cell_count_18         ┆ 94827537  ┆ 0.026455  │\n",
      "│ Platelet_count_12                 ┆ 95904116  ┆ 0.026756  │\n",
      "│ Haemoglobin_estimation_9          ┆ 97391693  ┆ 0.027171  │\n",
      "│ Serum_potassium_26                ┆ 99036754  ┆ 0.02763   │\n",
      "│ Serum_sodium_24                   ┆ 99409745  ┆ 0.027734  │\n",
      "│ Body_mass_index_3                 ┆ 99868822  ┆ 0.027862  │\n",
      "│ Serum_creatinine_31               ┆ 102915170 ┆ 0.028712  │\n",
      "│ O_E___weight_2                    ┆ 117401338 ┆ 0.032753  │\n",
      "│ Diastolic_blood_pressure_5        ┆ 241026671 ┆ 0.067243  │\n",
      "│ Systolic_blood_pressure_4         ┆ 241541988 ┆ 0.067386  │\n",
      "└───────────────────────────────────┴───────────┴───────────┘\n"
     ]
    }
   ],
   "source": [
    "import polars as pl\n",
    "pl.Config.set_tbl_rows(vocab_size + 1)\n",
    "print(dm.tokenizer._event_counts)"
   ]
  },
  {
   "cell_type": "markdown",
   "metadata": {},
   "source": [
    "## Create models and train"
   ]
  },
  {
   "cell_type": "code",
   "execution_count": 9,
   "metadata": {},
   "outputs": [
    {
     "name": "stderr",
     "output_type": "stream",
     "text": [
      "INFO:root:Using Temporal Positional Encoding. This module uses the patient's age at an event within their time series.\n",
      "INFO:root:Using ExponentialTTELayer. This module predicts the time until next event as an exponential distribution\n",
      "INFO:root:Using Temporal Positional Encoding. This module uses the patient's age at an event within their time series.\n",
      "INFO:root:Using GeometricTTELayer. This module predicts the time until next event as a geometric distribution, supported on the set {0,1,...}\n"
     ]
    }
   ],
   "source": [
    "models, m_names = [], []\n",
    "\n",
    "# My development model\n",
    "for tte_layer in [\"Exponential\", \"Geometric\"]:\n",
    "    config = DemoConfig()\n",
    "    config.TTELayer = tte_layer\n",
    "    models.append(TTETransformerForCausalSequenceModelling(config, vocab_size).to(device))\n",
    "    m_names.append(f\"TPPTransformerForCausalSequenceModelling: {tte_layer} TTE\")"
   ]
  },
  {
   "cell_type": "code",
   "execution_count": 10,
   "metadata": {},
   "outputs": [],
   "source": [
    "loss_curves_train = [[] for _ in models]\n",
    "loss_curves_train_clf = [[] for _ in models]\n",
    "loss_curves_train_tte = [[] for _ in models]\n",
    "\n",
    "loss_curves_val = [[] for _ in models]\n",
    "loss_curves_val_clf = [[] for _ in models]\n",
    "loss_curves_val_tte = [[] for _ in models]"
   ]
  },
  {
   "cell_type": "code",
   "execution_count": 1,
   "metadata": {
    "colab": {
     "base_uri": "https://localhost:8080/"
    },
    "id": "hoelkOrFY8bN",
    "outputId": "961304cd-e379-40d4-dd56-8de0b91d2861"
   },
   "outputs": [
    {
     "ename": "NameError",
     "evalue": "name 'models' is not defined",
     "output_type": "error",
     "traceback": [
      "\u001b[0;31m---------------------------------------------------------------------------\u001b[0m",
      "\u001b[0;31mNameError\u001b[0m                                 Traceback (most recent call last)",
      "Cell \u001b[0;32mIn [1], line 1\u001b[0m\n\u001b[0;32m----> 1\u001b[0m \u001b[38;5;28;01mfor\u001b[39;00m m_idx, (model, m_name) \u001b[38;5;129;01min\u001b[39;00m \u001b[38;5;28menumerate\u001b[39m(\u001b[38;5;28mzip\u001b[39m(\u001b[43mmodels\u001b[49m, m_names)):\n\u001b[1;32m      3\u001b[0m     \u001b[38;5;28mprint\u001b[39m(\u001b[38;5;124mf\u001b[39m\u001b[38;5;124m\"\u001b[39m\u001b[38;5;124mTraining model `\u001b[39m\u001b[38;5;132;01m{\u001b[39;00mm_name\u001b[38;5;132;01m}\u001b[39;00m\u001b[38;5;124m`, with \u001b[39m\u001b[38;5;132;01m{\u001b[39;00m\u001b[38;5;28msum\u001b[39m(p\u001b[38;5;241m.\u001b[39mnumel() \u001b[38;5;28;01mfor\u001b[39;00m p \u001b[38;5;129;01min\u001b[39;00m model\u001b[38;5;241m.\u001b[39mparameters())\u001b[38;5;241m/\u001b[39m\u001b[38;5;241m1e6\u001b[39m\u001b[38;5;132;01m}\u001b[39;00m\u001b[38;5;124m M parameters\u001b[39m\u001b[38;5;124m\"\u001b[39m)\n\u001b[1;32m      4\u001b[0m     model \u001b[38;5;241m=\u001b[39m model\u001b[38;5;241m.\u001b[39mto(device)\n",
      "\u001b[0;31mNameError\u001b[0m: name 'models' is not defined"
     ]
    }
   ],
   "source": [
    "for m_idx, (model, m_name) in enumerate(zip(models, m_names)):\n",
    "    \n",
    "    print(f\"Training model `{m_name}`, with {sum(p.numel() for p in model.parameters())/1e6} M parameters\")\n",
    "    model = model.to(device)\n",
    "\n",
    "    # create a PyTorch optimizer\n",
    "    optimizer = torch.optim.AdamW(model.parameters(), lr=opt.learning_rate)\n",
    "\n",
    "    best_val, epochs_since_best = np.inf, 0\n",
    "    for epoch in range(opt.epochs):\n",
    "        epoch_loss, epoch_clf_loss, epoch_tte_loss = 0, 0, 0\n",
    "        model.train()\n",
    "        start = time.time()\n",
    "        for i, batch in tqdm(enumerate(dm.train_dataloader()), desc=f\"Training epoch {epoch}\", total=len(dm.train_dataloader())):\n",
    "            # print(f\"Time to load batch {time.time()-start}\")\n",
    "            if i > 50:\n",
    "                break\n",
    "                \n",
    "            # evaluate the loss\n",
    "            _, (loss_clf, loss_tte), loss = model(batch['tokens'].to(device), \n",
    "                                                  ages=batch['ages'].to(device), \n",
    "                                                  attention_mask=batch['attention_mask'].to(device)  \n",
    "                                                  )\n",
    "            optimizer.zero_grad(set_to_none=True)\n",
    "            loss.backward()\n",
    "            optimizer.step()\n",
    "            epoch_loss += loss.item()\n",
    "            # record\n",
    "            epoch_clf_loss += loss_clf.item()\n",
    "            epoch_tte_loss += loss_tte.item()\n",
    "            start = time.time()\n",
    "        epoch_loss /= i\n",
    "        epoch_clf_loss /= i\n",
    "        epoch_tte_loss /= i\n",
    "        loss_curves_train[m_idx].append(epoch_loss)\n",
    "        loss_curves_train_clf[m_idx].append(epoch_clf_loss)\n",
    "        loss_curves_train_tte[m_idx].append(epoch_tte_loss)\n",
    "\n",
    "        # evaluate the loss on val set\n",
    "        with torch.no_grad(): \n",
    "            model.eval()\n",
    "            if epoch % opt.eval_interval == 0 or epoch == opt.epochs - 1:\n",
    "                val_loss, val_clf_loss, val_tte_loss = 0, 0, 0\n",
    "                for j, batch in tqdm(enumerate(dm.val_dataloader()), desc=f\"Validation epoch {epoch}\", total=len(dm.val_dataloader())):\n",
    "                    if j > 20:\n",
    "                        break\n",
    "                    _, (loss_clf, loss_tte), loss = model(batch['tokens'].to(device), \n",
    "                                                          ages=batch['ages'].to(device),\n",
    "                                                          attention_mask=batch['attention_mask'].to(device) \n",
    "                                                          )\n",
    "                    val_loss += loss.item()\n",
    "                    # record\n",
    "                    val_clf_loss += loss_clf.item()\n",
    "                    val_tte_loss += loss_tte.item()\n",
    "                val_loss /= j\n",
    "                val_clf_loss /= j\n",
    "                val_tte_loss /= j\n",
    "                loss_curves_val[m_idx].append(val_loss)\n",
    "                loss_curves_val_clf[m_idx].append(val_clf_loss)\n",
    "                loss_curves_val_tte[m_idx].append(val_tte_loss)\n",
    "                print(f\"Epoch {epoch}:\\tTrain loss {epoch_loss:.2f}  ({epoch_clf_loss:.2f}, {epoch_tte_loss:.2f}). Val loss {val_loss:.2f} ({val_clf_loss:.2f}, {val_tte_loss:.2f})\")          \n",
    "                # TODO: Note not fully accurate as last batch is likely not the same size, will be fixed with lightning\n",
    "        \n",
    "            if val_loss >= best_val:\n",
    "                epochs_since_best += 1\n",
    "                if epochs_since_best >= 5:\n",
    "                    break\n",
    "            else:\n",
    "                best_val = val_loss\n",
    "                epochs_since_best = 0\n",
    "\n",
    "    # Test trained model with a prompt\n",
    "    # ----------------    \n",
    "    # set context: diagnosis of depression at 20 years old\n",
    "    tokens = torch.from_numpy(np.array(dm.encode([\"DEPRESSION\"])).reshape((1,-1))).to(device)\n",
    "    ages = torch.tensor([[20*365]], device=device)\n",
    "    # values = torch.tensor([[torch.nan]], device=device)\n",
    "    # generate: sample the next 10 tokens\n",
    "    new_tokens, new_ages = model.generate(tokens, ages, max_new_tokens=10)\n",
    "    generated = dm.decode(new_tokens[0].tolist())\n",
    "    # report:\n",
    "    #    note, Not considering value yet.\n",
    "    for _cat, _age in zip(generated.split(\" \"), new_ages[0, :]):\n",
    "        print(f\"\\t {_cat} at age {_age/365:.0f} ({_age:.1f} days)\")    # with value {_value}\n"
   ]
  },
  {
   "cell_type": "markdown",
   "metadata": {},
   "source": [
    "## Comparing output to real data"
   ]
  },
  {
   "cell_type": "code",
   "execution_count": 22,
   "metadata": {},
   "outputs": [
    {
     "name": "stdout",
     "output_type": "stream",
     "text": [
      "Diastolic_blood_pressure_5, at age 29 (10762.0 days)\n",
      "Systolic_blood_pressure_4, at age 29 (10762.0 days)\n",
      "ANXIETY, at age 30 (11068.0 days)\n",
      "Diastolic_blood_pressure_5, at age 30 (11109.0 days)\n",
      "Systolic_blood_pressure_4, at age 30 (11109.0 days)\n"
     ]
    }
   ],
   "source": [
    "for batch in dm.train_dataloader():\n",
    "    break\n",
    "conditions = batch[\"tokens\"].numpy().tolist()\n",
    "# delta_ages = batch[\"ages\"][:, 1:] - batch[\"ages\"][:, :-1]\n",
    "for idx, (token, age) in enumerate(zip(conditions[0], batch[\"ages\"][0,:])):\n",
    "    if token == 0 or idx >= 10:\n",
    "        break\n",
    "    print(f\"{dm.decode([token])}, at age {age/365:.0f} ({age:.1f} days)\")"
   ]
  },
  {
   "cell_type": "code",
   "execution_count": 23,
   "metadata": {},
   "outputs": [
    {
     "name": "stderr",
     "output_type": "stream",
     "text": [
      "/tmp/ipykernel_1392332/3200477305.py:38: UserWarning: Data has no positive values, and therefore cannot be log-scaled.\n",
      "  plt.yscale(\"log\")\n"
     ]
    }
   ],
   "source": [
    "cols = [\"k\", \"r\", \"b\", \"y\"]\n",
    "\n",
    "# Plot loss\n",
    "plt.figure()\n",
    "for m_idx, _ in enumerate(models):\n",
    "    # Training\n",
    "    iterations = np.linspace(0, len(loss_curves_train[m_idx]), len(loss_curves_train[m_idx])) * opt.eval_interval\n",
    "    plt.plot(iterations, loss_curves_train[m_idx], label=f\"{m_names[m_idx]}-train\", c=cols[m_idx], linestyle='dashed')\n",
    "    # Validation\n",
    "    iterations = np.linspace(0, len(loss_curves_val[m_idx]), len(loss_curves_val[m_idx])) * opt.eval_interval\n",
    "    plt.plot(iterations, loss_curves_val[m_idx], label=f\"{m_names[m_idx]}-val\", c=cols[m_idx])\n",
    "plt.yscale(\"log\")\n",
    "plt.legend()\n",
    "plt.savefig(f\"figs/TTE/logloss.png\")\n",
    "\n",
    "# Plot classifier loss\n",
    "plt.figure()\n",
    "for m_idx, _ in enumerate(models):\n",
    "    # Training\n",
    "    iterations = np.linspace(0, len(loss_curves_train_clf[m_idx]), len(loss_curves_train_clf[m_idx])) * opt.eval_interval\n",
    "    plt.plot(iterations, loss_curves_train_clf[m_idx], label=f\"{m_names[m_idx]}-train\", c=cols[m_idx], linestyle='dashed')\n",
    "    # Validation\n",
    "    iterations = np.linspace(0, len(loss_curves_val_clf[m_idx]), len(loss_curves_val_clf[m_idx])) * opt.eval_interval\n",
    "    plt.plot(iterations, loss_curves_val_clf[m_idx], label=f\"{m_names[m_idx]}-val\", c=cols[m_idx])\n",
    "plt.yscale(\"log\")\n",
    "plt.legend()\n",
    "plt.savefig(f\"figs/TTE/logloss_clf.png\")\n",
    "\n",
    "# Plot tte loss\n",
    "plt.figure()\n",
    "for m_idx, _ in enumerate(models):\n",
    "    # Training\n",
    "    iterations = np.linspace(0, len(loss_curves_train_tte[m_idx]), len(loss_curves_train_tte[m_idx])) * opt.eval_interval\n",
    "    plt.plot(iterations, loss_curves_train_tte[m_idx], label=f\"{m_names[m_idx]}-train\", c=cols[m_idx], linestyle='dashed')\n",
    "    # Validation\n",
    "    iterations = np.linspace(0, len(loss_curves_val_tte[m_idx]), len(loss_curves_val_tte[m_idx])) * opt.eval_interval\n",
    "    plt.plot(iterations, loss_curves_val_tte[m_idx], label=f\"{m_names[m_idx]}-val\", c=cols[m_idx])\n",
    "plt.yscale(\"log\")\n",
    "plt.legend()\n",
    "plt.savefig(f\"figs/TTE/logloss_tte.png\")"
   ]
  },
  {
   "cell_type": "markdown",
   "metadata": {},
   "source": [
    "# Prompt testing"
   ]
  },
  {
   "cell_type": "markdown",
   "metadata": {},
   "source": [
    "## Diabetes: How related conditions are impacted by each other\n",
    "Probability of type II diabetes before and after a type I diagnosis"
   ]
  },
  {
   "cell_type": "code",
   "execution_count": null,
   "metadata": {},
   "outputs": [],
   "source": [
    "t1_token = dm.tokenizer._stoi[\"TYPE1DM\"]\n",
    "t2_token = dm.tokenizer._stoi[\"TYPE2DIABETES\"]\n",
    "\n",
    "\n",
    "base_prompt = [\"DEPRESSION\"]\n",
    "ages_in_years = [20]\n",
    "\n",
    "to_days = lambda a_list: torch.FloatTensor([365 * _a for _a in a_list]).reshape((1,-1)).to(device)\n",
    "\n",
    "# Create a set of prompts\n",
    "prompts, ages, values, desc = [], [], [], []\n",
    "desc.append(\"Control\")\n",
    "prompts.append(base_prompt)\n",
    "ages.append(ages_in_years)\n",
    "desc.append(\"Type 1\")\n",
    "prompts.append(base_prompt + [\"TYPE1DM\"])\n",
    "ages.append(ages_in_years + [21])\n",
    "desc.append(\"Type 2\")\n",
    "prompts.append(base_prompt + [\"TYPE2DIABETES\"])\n",
    "ages.append(ages_in_years + [21])\n",
    "\n",
    "for model_idx, model in enumerate(models):\n",
    "    print(f\"\\n\\n{m_names[model_idx]}\\n--------------------------------------\")\n",
    "    with torch.no_grad(): \n",
    "            model.eval()\n",
    "    \n",
    "            for p_idx, (prompt, age) in enumerate(zip(prompts, ages)):\n",
    "                print(f\"\\n{desc[p_idx]}: \\t ({','.join(prompt)}): \")\n",
    "                encoded_prompt = torch.from_numpy(np.array(dm.encode(prompt)).reshape((1,-1))).to(device)\n",
    "                (lgts, tte_dist), _, _ = model(encoded_prompt,\n",
    "                                                       # values=torch.tensor(value).to(device),\n",
    "                                                       ages=to_days(age),\n",
    "                                                       is_generation=True)\n",
    "                probs = torch.nn.functional.softmax(lgts, dim=2)\n",
    "                print(f\"\\tprobability of type I diabetes: {100*float(probs[0, 0, t1_token].cpu().detach().numpy()):.4f}%\")\n",
    "                print(f\"\\tprobability of type II diabetes: {100*float(probs[0, 0, t2_token].cpu().detach().numpy()):.4f}%\")\n",
    "\n",
    "# Note: adding a diagnosis (even if potentially orthogonal) at the beginning of the prompt increases probability of either type"
   ]
  },
  {
   "cell_type": "markdown",
   "metadata": {},
   "source": [
    "## Age: How increasing prompt age affects likelihood of age related diagnoses"
   ]
  },
  {
   "cell_type": "code",
   "execution_count": null,
   "metadata": {},
   "outputs": [],
   "source": [
    "prompt = [\"ALLERGICRHINITISCONJ\"]\n",
    "ages = [[4],[8],[20],[30],[60],[80],[90]]\n",
    "\n",
    "# target_conditions=[\"TYPE1DM\"]#, \"TYPE2DIABETES\", \"OSTEOARTHRITIS\", \"ANY_DEAFNESS_HEARING_LOSS\"]\n",
    "\n",
    "for model_idx, model in enumerate(models):\n",
    "    print(f\"\\n\\n{m_names[model_idx]}\\n--------------------------------------\")\n",
    "\n",
    "    # for condition in target_conditions:\n",
    "    #     print(f\"Probability of {condition}\")\n",
    "    #     target_token = dm.tokenizer._stoi[condition]\n",
    "\n",
    "    for p_idx, age in enumerate(ages):\n",
    "        print(f\"\\nAge {age[-1]}\\n======\")\n",
    "        encoded_prompt = torch.from_numpy(np.array(dm.encode(prompt)).reshape((1,-1))).to(device)\n",
    "        (lgts, tte_dist), _, _ = model(encoded_prompt,\n",
    "                                       ages=to_days(age),\n",
    "                                       is_generation=True)\n",
    "        probs = torch.nn.functional.softmax(lgts, dim=2) * 100\n",
    "\n",
    "        # top K\n",
    "        k = 10\n",
    "        print(f\"Top {k}\")\n",
    "        topk_prob, topk_ind = torch.topk(probs[0,0,:], k)\n",
    "        for i, j in zip(dm.decode(topk_ind.tolist()).split(\" \"), topk_prob):\n",
    "            print(f\"\\t{i}: {j:.2f}%\")\n",
    "\n",
    "        # bottom K\n",
    "        k = 30\n",
    "        print(f\"Bottom {k}\")\n",
    "        topk_prob, topk_ind = torch.topk(-probs[0,0,:], k)\n",
    "        for i, j in zip(dm.decode(topk_ind.tolist()).split(\" \"), topk_prob):\n",
    "            print(f\"\\t{i}: {-j:.2f}%\")\n",
    "        \n",
    "            # print(f\"Age: {age[-1]} years old:  {100*float(probs[0, 0, target_token].cpu().detach().numpy()):.4f}%\")\n",
    "\n",
    "# Note: adding a diagnosis (even if potentially orthogonal) at the beginning of the prompt increases probability of either type"
   ]
  },
  {
   "cell_type": "markdown",
   "metadata": {},
   "source": [
    "# Appendix: model architectures"
   ]
  },
  {
   "cell_type": "code",
   "execution_count": null,
   "metadata": {},
   "outputs": [],
   "source": [
    "for model_idx, model in enumerate(models):\n",
    "    print(f\"\\n\\n{m_names[model_idx]}\\n\" + \"=\"*len(m_names[model_idx]))\n",
    "    print(f\"\\n\\n{model}\")"
   ]
  },
  {
   "cell_type": "code",
   "execution_count": null,
   "metadata": {},
   "outputs": [],
   "source": [
    "!jupyter nbconvert --to html --no-input TTE.ipynb"
   ]
  },
  {
   "cell_type": "code",
   "execution_count": null,
   "metadata": {},
   "outputs": [],
   "source": []
  }
 ],
 "metadata": {
  "colab": {
   "provenance": []
  },
  "kernelspec": {
   "display_name": "Python",
   "language": "python",
   "name": "sys_python"
  },
  "language_info": {
   "codemirror_mode": {
    "name": "ipython",
    "version": 3
   },
   "file_extension": ".py",
   "mimetype": "text/x-python",
   "name": "python",
   "nbconvert_exporter": "python",
   "pygments_lexer": "ipython3",
   "version": "3.10.4"
  }
 },
 "nbformat": 4,
 "nbformat_minor": 4
}
