{
 "cells": [
  {
   "cell_type": "markdown",
   "metadata": {
    "id": "wJpXpmjEYC_T"
   },
   "source": [
    "# Demo Notebook:\n",
    "## Time to Event Transformer For Causal Time Series Modelling \n",
    "\n",
    "Including time and tabular values"
   ]
  },
  {
   "cell_type": "code",
   "execution_count": 1,
   "metadata": {},
   "outputs": [
    {
     "name": "stdout",
     "output_type": "stream",
     "text": [
      "Added path '/rds/homes/g/gaddcz/Projects/CPRD/virtual-env-icelake/lib/python3.10/site-packages' at start of search paths.\n",
      "env: SQLITE_TMPDIR=/rds/projects/g/gokhalkm-optimal/DataforCharles\n",
      "env: TMPDIR=/rds/projects/g/gokhalkm-optimal/DataforCharles\n",
      "/rds/projects/g/gokhalkm-optimal/DataforCharles\n",
      "/rds/projects/g/gokhalkm-optimal/DataforCharles\n",
      "\n"
     ]
    }
   ],
   "source": [
    "import os\n",
    "from pathlib import Path\n",
    "import sys\n",
    "node_type = os.getenv('BB_CPU')\n",
    "venv_dir = f'/rds/homes/g/gaddcz/Projects/CPRD/virtual-env-{node_type}'\n",
    "venv_site_pkgs = Path(venv_dir) / 'lib' / f'python{sys.version_info.major}.{sys.version_info.minor}' / 'site-packages'\n",
    "if venv_site_pkgs.exists():\n",
    "    sys.path.insert(0, str(venv_site_pkgs))\n",
    "    print(f\"Added path '{venv_site_pkgs}' at start of search paths.\")\n",
    "else:\n",
    "    print(f\"Path '{venv_site_pkgs}' not found. Check that it exists and/or that it exists for node-type '{node_type}'.\")\n",
    "\n",
    "# Perform sqlite operations on disk\n",
    "%env SQLITE_TMPDIR=/rds/projects/g/gokhalkm-optimal/DataforCharles\n",
    "%env TMPDIR=/rds/projects/g/gokhalkm-optimal/DataforCharles\n",
    "!echo $SQLITE_TMPDIR\n",
    "!echo $TMPDIR\n",
    "!echo $USERPROFILE"
   ]
  },
  {
   "cell_type": "code",
   "execution_count": 2,
   "metadata": {},
   "outputs": [
    {
     "name": "stdout",
     "output_type": "stream",
     "text": [
      "cuda\n",
      "/rds/homes/g/gaddcz/Projects/CPRD/examples/modelling/tteGPT\n"
     ]
    }
   ],
   "source": [
    "import pytorch_lightning\n",
    "import torch\n",
    "import numpy as np\n",
    "import matplotlib.pyplot as plt\n",
    "import random\n",
    "import sqlite3\n",
    "from dataclasses import dataclass\n",
    "import logging\n",
    "from tqdm import tqdm\n",
    "from CPRD.data.foundational_loader import FoundationalDataModule\n",
    "from CPRD.src.models.TTE.task_heads.causal_tabular import TTETransformerForCausalTimeSeriesModelling\n",
    "from tqdm import tqdm\n",
    "\n",
    "torch.manual_seed(1337)\n",
    "logging.basicConfig(level=logging.INFO)\n",
    "device = 'cuda' if torch.cuda.is_available() else 'cpu'\n",
    "# device = \"cpu\"    # if more informative debugging statements are needed\n",
    "print(device)\n",
    "\n",
    "!pwd\n",
    "%load_ext autoreload\n",
    "%autoreload 2"
   ]
  },
  {
   "cell_type": "markdown",
   "metadata": {},
   "source": [
    "## Build configurations"
   ]
  },
  {
   "cell_type": "code",
   "execution_count": 3,
   "metadata": {},
   "outputs": [],
   "source": [
    "# Set config to be equivalent architecture of kaparthy benchmark, however they are not comparable tasks.\n",
    "@dataclass\n",
    "class DemoConfig:\n",
    "    block_size: int = 8        # what is the maximum context length for predictions?\n",
    "    n_layer: int = 6\n",
    "    n_head: int = 6\n",
    "    n_embd: int = 384\n",
    "    bias: bool = True\n",
    "    attention_type: str = \"global\"    \n",
    "    dropout: float = 0.0\n",
    "    unk_freq_threshold: float = 0.0\n",
    "    TTELayer = \"Exponential\"                                  # \"Geometric\"\n",
    "    tokens_for_univariate_regression = None\n",
    "\n",
    "config = DemoConfig()\n",
    "\n",
    "@dataclass\n",
    "class OptConfig:\n",
    "    batch_size: int = 64\n",
    "    eval_interval: int = 1\n",
    "    learning_rate: float = 3e-4\n",
    "    epochs: int = 50\n",
    "    \n",
    "opt = OptConfig()"
   ]
  },
  {
   "cell_type": "markdown",
   "metadata": {},
   "source": [
    "## Create data loader on a reduced cohort"
   ]
  },
  {
   "cell_type": "code",
   "execution_count": 7,
   "metadata": {},
   "outputs": [
    {
     "name": "stderr",
     "output_type": "stream",
     "text": [
      "INFO:root:Loading Polars dataset from /rds/projects/g/gokhalkm-optimal/OPTIMAL_MASTER_DATASET/data/polars/\n",
      "INFO:root:Using tokenizer tabular\n",
      "INFO:root:Tokenzier created based on 3584.43M tokens\n",
      "INFO:root:Creating split=train/ dataset\n",
      "INFO:root:\t Loading split=train/ hash map for parquet\n",
      "INFO:root:\t Hash map created for split=train/ with 22,912,046 samples\n",
      "INFO:root:Creating split=test/ dataset\n",
      "INFO:root:\t Loading split=test/ hash map for parquet\n",
      "INFO:root:\t Hash map created for split=test/ with 1,207,449 samples\n",
      "INFO:root:Creating split=val/ dataset\n",
      "INFO:root:\t Loading split=val/ hash map for parquet\n",
      "INFO:root:\t Hash map created for split=val/ with 1,226,576 samples\n"
     ]
    },
    {
     "name": "stdout",
     "output_type": "stream",
     "text": [
      "184 vocab elements\n"
     ]
    }
   ],
   "source": [
    "# Get a list of patients which fit a reduced set of criterion\n",
    "# path_to_db = \"/rds/projects/g/gokhalkm-optimal/OPTIMAL_MASTER_DATASET/archive/Version2/\"\n",
    "path_to_db = \"/rds/projects/g/gokhalkm-optimal/OPTIMAL_MASTER_DATASET/data/\"\n",
    "\n",
    "# Build \n",
    "dm = FoundationalDataModule(path_to_db=path_to_db,\n",
    "                            load=True,\n",
    "                            tokenizer=\"tabular\",\n",
    "                            batch_size=opt.batch_size,\n",
    "                            max_seq_length=config.block_size,\n",
    "                            unk_freq_threshold=config.unk_freq_threshold,\n",
    "                            min_workers=20,\n",
    "                            inclusion_conditions=[\"COUNTRY = 'E'\"],\n",
    "                           )\n",
    "\n",
    "vocab_size = dm.train_set.tokenizer.vocab_size\n",
    "print(f\"{vocab_size} vocab elements\")\n",
    "\n",
    "# Extract the measurements, using the fact that the diagnoses are all up upper case. This is needed for automatically setting the configuration below\n",
    "measurements_for_univariate_regression = [record for record in dm.tokenizer._event_counts[\"EVENT\"] if record.upper() != record]\n",
    "# display(measurements_for_univariate_regression)\n",
    "# list of univariate measurements to model with Normal distribution\n",
    "config.tokens_for_univariate_regression = dm.encode(measurements_for_univariate_regression) "
   ]
  },
  {
   "cell_type": "markdown",
   "metadata": {},
   "source": [
    "## View a single patient"
   ]
  },
  {
   "cell_type": "code",
   "execution_count": 6,
   "metadata": {},
   "outputs": [
    {
     "name": "stdout",
     "output_type": "stream",
     "text": [
      "Time to retrieve sample index 1 was 0.132338285446167 seconds\n",
      "\n",
      "SEX                 | F\n",
      "IMD                 | 4.0\n",
      "ETHNICITY           | WHITE\n",
      "birth_year          | 1997.0\n",
      "\n",
      "Token                                                                      | Age               | Standardised value\n",
      "===================================================================================================================\n",
      "Body_mass_index_3                                                          | 5564              | 0.24              \n",
      "O_E___height_1                                                             | 5564              | -0.05             \n",
      "O_E___weight_2                                                             | 5564              | 0.17              \n",
      "Body_mass_index_3                                                          | 5687              | 0.26              \n",
      "O_E___height_1                                                             | 5687              | -0.06             \n",
      "O_E___weight_2                                                             | 5687              | 0.18              \n",
      "Basophil_count_22                                                          | 5697              | 0.14              \n",
      "Eosinophil_count_21                                                        | 5697              | 0.24              \n"
     ]
    }
   ],
   "source": [
    "dm.train_set.view_sample(1, max_dynamic_events=12, report_time=True)"
   ]
  },
  {
   "cell_type": "markdown",
   "metadata": {},
   "source": [
    "## Create models and train"
   ]
  },
  {
   "cell_type": "code",
   "execution_count": 9,
   "metadata": {
    "scrolled": true
   },
   "outputs": [
    {
     "name": "stderr",
     "output_type": "stream",
     "text": [
      "INFO:root:Using Temporal Positional Encoding. This module uses the patient's age at an event within their time series.\n",
      "INFO:root:Using ExponentialTTELayer. This module predicts the time until next event as an exponential distribution\n"
     ]
    }
   ],
   "source": [
    "model = TTETransformerForCausalTimeSeriesModelling(config, vocab_size).to(device)\n",
    "\n",
    "loss_curves_train = []\n",
    "loss_curves_train_clf = []\n",
    "loss_curves_train_tte = []\n",
    "loss_curves_train_values = []\n",
    "\n",
    "loss_curves_val = []\n",
    "loss_curves_val_clf = []\n",
    "loss_curves_val_tte = []\n",
    "loss_curves_val_values = []"
   ]
  },
  {
   "cell_type": "code",
   "execution_count": 10,
   "metadata": {
    "colab": {
     "base_uri": "https://localhost:8080/"
    },
    "id": "hoelkOrFY8bN",
    "outputId": "961304cd-e379-40d4-dd56-8de0b91d2861",
    "scrolled": true
   },
   "outputs": [
    {
     "name": "stdout",
     "output_type": "stream",
     "text": [
      "Training model with 11.238553 M parameters\n"
     ]
    },
    {
     "name": "stderr",
     "output_type": "stream",
     "text": [
      "Training epoch 0:   0%|          | 1001/358001 [03:43<22:07:52,  4.48it/s]\n",
      "Validation epoch 0:   1%|          | 101/19166 [00:20<1:02:55,  5.05it/s]\n"
     ]
    },
    {
     "name": "stdout",
     "output_type": "stream",
     "text": [
      "Epoch 0:\tTrain loss -0.14  (2.48, -1.90, -0.99). Val loss -0.79 (1.62, -2.47, -1.51)\n"
     ]
    },
    {
     "name": "stderr",
     "output_type": "stream",
     "text": [
      "Training epoch 1:   0%|          | 432/358001 [01:21<18:45:09,  5.30it/s]\n",
      "Exception ignored in: <function WeakValueDictionary.__init__.<locals>.remove at 0x7f0d06931e10>\n",
      "Traceback (most recent call last):\n",
      "  File \"/rds/bear-apps/2022a/EL8-ice/software/Python/3.10.4-GCCcore-11.3.0/lib/python3.10/weakref.py\", line 106, in remove\n",
      "    def remove(wr, selfref=ref(self), _atomic_removal=_remove_dead_weakref):\n",
      "KeyboardInterrupt: \n"
     ]
    },
    {
     "data": {
      "text/html": [
       "<pre style=\"white-space:pre;overflow-x:auto;line-height:normal;font-family:Menlo,'DejaVu Sans Mono',consolas,'Courier New',monospace\"><span style=\"color: #800000; text-decoration-color: #800000\">╭─────────────────────────────── </span><span style=\"color: #800000; text-decoration-color: #800000; font-weight: bold\">Traceback </span><span style=\"color: #bf7f7f; text-decoration-color: #bf7f7f; font-weight: bold\">(most recent call last)</span><span style=\"color: #800000; text-decoration-color: #800000\"> ────────────────────────────────╮</span>\n",
       "<span style=\"color: #800000; text-decoration-color: #800000\">│</span> <span style=\"color: #bfbf7f; text-decoration-color: #bfbf7f\">/tmp/ipykernel_80064/</span><span style=\"color: #808000; text-decoration-color: #808000; font-weight: bold\">3944378650.py</span>:<span style=\"color: #0000ff; text-decoration-color: #0000ff\">20</span> in <span style=\"color: #00ff00; text-decoration-color: #00ff00\">&lt;module&gt;</span>                                                <span style=\"color: #800000; text-decoration-color: #800000\">│</span>\n",
       "<span style=\"color: #800000; text-decoration-color: #800000\">│</span>                                                                                                  <span style=\"color: #800000; text-decoration-color: #800000\">│</span>\n",
       "<span style=\"color: #800000; text-decoration-color: #800000\">│</span> <span style=\"color: #800000; text-decoration-color: #800000; font-style: italic\">[Errno 2] No such file or directory: '/tmp/ipykernel_80064/3944378650.py'</span>                        <span style=\"color: #800000; text-decoration-color: #800000\">│</span>\n",
       "<span style=\"color: #800000; text-decoration-color: #800000\">│</span>                                                                                                  <span style=\"color: #800000; text-decoration-color: #800000\">│</span>\n",
       "<span style=\"color: #800000; text-decoration-color: #800000\">│</span> <span style=\"color: #bfbf7f; text-decoration-color: #bfbf7f\">/rds/bear-apps/2022a/EL8-ice/software/PyTorch/1.12.1-foss-2022a-CUDA-11.7.0/lib/python3.10/site-</span> <span style=\"color: #800000; text-decoration-color: #800000\">│</span>\n",
       "<span style=\"color: #800000; text-decoration-color: #800000\">│</span> <span style=\"color: #bfbf7f; text-decoration-color: #bfbf7f\">packages/torch/optim/</span><span style=\"color: #808000; text-decoration-color: #808000; font-weight: bold\">optimizer.py</span>:<span style=\"color: #0000ff; text-decoration-color: #0000ff\">216</span> in <span style=\"color: #00ff00; text-decoration-color: #00ff00\">zero_grad</span>                                               <span style=\"color: #800000; text-decoration-color: #800000\">│</span>\n",
       "<span style=\"color: #800000; text-decoration-color: #800000\">│</span>                                                                                                  <span style=\"color: #800000; text-decoration-color: #800000\">│</span>\n",
       "<span style=\"color: #800000; text-decoration-color: #800000\">│</span>   <span style=\"color: #7f7f7f; text-decoration-color: #7f7f7f\">213 │   │   │   </span>update_group(g, ng) <span style=\"color: #0000ff; text-decoration-color: #0000ff\">for</span> g, ng <span style=\"color: #ff00ff; text-decoration-color: #ff00ff\">in</span> <span style=\"color: #00ffff; text-decoration-color: #00ffff\">zip</span>(groups, saved_groups)]                    <span style=\"color: #800000; text-decoration-color: #800000\">│</span>\n",
       "<span style=\"color: #800000; text-decoration-color: #800000\">│</span>   <span style=\"color: #7f7f7f; text-decoration-color: #7f7f7f\">214 │   │   </span><span style=\"color: #00ffff; text-decoration-color: #00ffff\">self</span>.__setstate__({<span style=\"color: #808000; text-decoration-color: #808000\">'state'</span>: state, <span style=\"color: #808000; text-decoration-color: #808000\">'param_groups'</span>: param_groups})                  <span style=\"color: #800000; text-decoration-color: #800000\">│</span>\n",
       "<span style=\"color: #800000; text-decoration-color: #800000\">│</span>   <span style=\"color: #7f7f7f; text-decoration-color: #7f7f7f\">215 │   </span>                                                                                       <span style=\"color: #800000; text-decoration-color: #800000\">│</span>\n",
       "<span style=\"color: #800000; text-decoration-color: #800000\">│</span> <span style=\"color: #800000; text-decoration-color: #800000\">❱ </span>216 <span style=\"color: #7f7f7f; text-decoration-color: #7f7f7f\">│   </span><span style=\"color: #0000ff; text-decoration-color: #0000ff\">def</span> <span style=\"color: #00ff00; text-decoration-color: #00ff00\">zero_grad</span>(<span style=\"color: #00ffff; text-decoration-color: #00ffff\">self</span>, set_to_none: <span style=\"color: #00ffff; text-decoration-color: #00ffff\">bool</span> = <span style=\"color: #0000ff; text-decoration-color: #0000ff\">False</span>):                                        <span style=\"color: #800000; text-decoration-color: #800000\">│</span>\n",
       "<span style=\"color: #800000; text-decoration-color: #800000\">│</span>   <span style=\"color: #7f7f7f; text-decoration-color: #7f7f7f\">217 │   │   </span><span style=\"color: #808000; text-decoration-color: #808000\">r\"\"\"Sets the gradients of all optimized :class:`torch.Tensor` s to zero.</span>           <span style=\"color: #800000; text-decoration-color: #800000\">│</span>\n",
       "<span style=\"color: #800000; text-decoration-color: #800000\">│</span>   <span style=\"color: #7f7f7f; text-decoration-color: #7f7f7f\">218 │   │   </span>                                                                                   <span style=\"color: #800000; text-decoration-color: #800000\">│</span>\n",
       "<span style=\"color: #800000; text-decoration-color: #800000\">│</span>   <span style=\"color: #7f7f7f; text-decoration-color: #7f7f7f\">219 </span><span style=\"color: #bfbf7f; text-decoration-color: #bfbf7f\">│   │   </span><span style=\"color: #808000; text-decoration-color: #808000\">Args:</span>                                                                              <span style=\"color: #800000; text-decoration-color: #800000\">│</span>\n",
       "<span style=\"color: #800000; text-decoration-color: #800000\">╰──────────────────────────────────────────────────────────────────────────────────────────────────╯</span>\n",
       "<span style=\"color: #ff0000; text-decoration-color: #ff0000; font-weight: bold\">KeyboardInterrupt</span>\n",
       "</pre>\n"
      ],
      "text/plain": [
       "\u001b[31m╭─\u001b[0m\u001b[31m──────────────────────────────\u001b[0m\u001b[31m \u001b[0m\u001b[1;31mTraceback \u001b[0m\u001b[1;2;31m(most recent call last)\u001b[0m\u001b[31m \u001b[0m\u001b[31m───────────────────────────────\u001b[0m\u001b[31m─╮\u001b[0m\n",
       "\u001b[31m│\u001b[0m \u001b[2;33m/tmp/ipykernel_80064/\u001b[0m\u001b[1;33m3944378650.py\u001b[0m:\u001b[94m20\u001b[0m in \u001b[92m<module>\u001b[0m                                                \u001b[31m│\u001b[0m\n",
       "\u001b[31m│\u001b[0m                                                                                                  \u001b[31m│\u001b[0m\n",
       "\u001b[31m│\u001b[0m \u001b[3;31m[Errno 2] No such file or directory: '/tmp/ipykernel_80064/3944378650.py'\u001b[0m                        \u001b[31m│\u001b[0m\n",
       "\u001b[31m│\u001b[0m                                                                                                  \u001b[31m│\u001b[0m\n",
       "\u001b[31m│\u001b[0m \u001b[2;33m/rds/bear-apps/2022a/EL8-ice/software/PyTorch/1.12.1-foss-2022a-CUDA-11.7.0/lib/python3.10/site-\u001b[0m \u001b[31m│\u001b[0m\n",
       "\u001b[31m│\u001b[0m \u001b[2;33mpackages/torch/optim/\u001b[0m\u001b[1;33moptimizer.py\u001b[0m:\u001b[94m216\u001b[0m in \u001b[92mzero_grad\u001b[0m                                               \u001b[31m│\u001b[0m\n",
       "\u001b[31m│\u001b[0m                                                                                                  \u001b[31m│\u001b[0m\n",
       "\u001b[31m│\u001b[0m   \u001b[2m213 \u001b[0m\u001b[2m│   │   │   \u001b[0mupdate_group(g, ng) \u001b[94mfor\u001b[0m g, ng \u001b[95min\u001b[0m \u001b[96mzip\u001b[0m(groups, saved_groups)]                    \u001b[31m│\u001b[0m\n",
       "\u001b[31m│\u001b[0m   \u001b[2m214 \u001b[0m\u001b[2m│   │   \u001b[0m\u001b[96mself\u001b[0m.__setstate__({\u001b[33m'\u001b[0m\u001b[33mstate\u001b[0m\u001b[33m'\u001b[0m: state, \u001b[33m'\u001b[0m\u001b[33mparam_groups\u001b[0m\u001b[33m'\u001b[0m: param_groups})                  \u001b[31m│\u001b[0m\n",
       "\u001b[31m│\u001b[0m   \u001b[2m215 \u001b[0m\u001b[2m│   \u001b[0m                                                                                       \u001b[31m│\u001b[0m\n",
       "\u001b[31m│\u001b[0m \u001b[31m❱ \u001b[0m216 \u001b[2m│   \u001b[0m\u001b[94mdef\u001b[0m \u001b[92mzero_grad\u001b[0m(\u001b[96mself\u001b[0m, set_to_none: \u001b[96mbool\u001b[0m = \u001b[94mFalse\u001b[0m):                                        \u001b[31m│\u001b[0m\n",
       "\u001b[31m│\u001b[0m   \u001b[2m217 \u001b[0m\u001b[2m│   │   \u001b[0m\u001b[33mr\u001b[0m\u001b[33m\"\"\"Sets the gradients of all optimized :class:`torch.Tensor` s to zero.\u001b[0m           \u001b[31m│\u001b[0m\n",
       "\u001b[31m│\u001b[0m   \u001b[2m218 \u001b[0m\u001b[2m│   │   \u001b[0m                                                                                   \u001b[31m│\u001b[0m\n",
       "\u001b[31m│\u001b[0m   \u001b[2m219 \u001b[0m\u001b[2;33m│   │   \u001b[0m\u001b[33mArgs:\u001b[0m                                                                              \u001b[31m│\u001b[0m\n",
       "\u001b[31m╰──────────────────────────────────────────────────────────────────────────────────────────────────╯\u001b[0m\n",
       "\u001b[1;91mKeyboardInterrupt\u001b[0m\n"
      ]
     },
     "metadata": {},
     "output_type": "display_data"
    }
   ],
   "source": [
    "print(f\"Training model with {sum(p.numel() for p in model.parameters())/1e6} M parameters\")\n",
    "\n",
    "# create a PyTorch optimizer\n",
    "optimizer = torch.optim.AdamW(model.parameters(), lr=opt.learning_rate)\n",
    "\n",
    "best_val, epochs_since_best = np.inf, 0\n",
    "for epoch in range(opt.epochs):\n",
    "    epoch_loss, epoch_clf_loss, epoch_tte_loss, epoch_values_loss = 0, 0, 0, 0\n",
    "    model.train()\n",
    "    for i, batch in tqdm(enumerate(dm.train_dataloader()), desc=f\"Training epoch {epoch}\", total=len(dm.train_dataloader())):\n",
    "        if i > 1000:\n",
    "            break\n",
    "\n",
    "        # evaluate the loss\n",
    "        _, (loss_clf, loss_tte, loss_values), loss = model(batch['tokens'].to(device), \n",
    "                                                           ages=batch['ages'].to(device), \n",
    "                                                           values=batch['values'].to(device),\n",
    "                                                           attention_mask=batch['attention_mask'].to(device)   \n",
    "                                                           )\n",
    "        optimizer.zero_grad(set_to_none=True)\n",
    "        loss.backward()\n",
    "        optimizer.step()\n",
    "        epoch_loss += loss.item()\n",
    "        \n",
    "        # record\n",
    "        epoch_clf_loss += loss_clf.item()\n",
    "        epoch_tte_loss += loss_tte.item()\n",
    "        epoch_values_loss += loss_values.item()\n",
    "    epoch_loss /= i\n",
    "    epoch_clf_loss /= i\n",
    "    epoch_tte_loss /= i\n",
    "    epoch_values_loss /= i\n",
    "    loss_curves_train.append(epoch_loss)\n",
    "    loss_curves_train_clf.append(epoch_clf_loss)\n",
    "    loss_curves_train_tte.append(epoch_tte_loss)\n",
    "    loss_curves_train_values.append(epoch_values_loss)\n",
    "\n",
    "    # evaluate the loss on val set\n",
    "    with torch.no_grad(): \n",
    "        model.eval()\n",
    "        if epoch % opt.eval_interval == 0 or epoch == opt.epochs - 1:\n",
    "            val_loss, val_clf_loss, val_tte_loss, val_values_loss = 0, 0, 0, 0\n",
    "            for j, batch in tqdm(enumerate(dm.val_dataloader()), desc=f\"Validation epoch {epoch}\", total=len(dm.val_dataloader())):\n",
    "                if j > 100:\n",
    "                    break\n",
    "                _, (loss_clf, loss_tte, loss_values), loss = model(batch['tokens'].to(device), \n",
    "                                                                   ages=batch['ages'].to(device),\n",
    "                                                                   values=batch['values'].to(device),\n",
    "                                                                   attention_mask=batch['attention_mask'].to(device)   \n",
    "                                                                   )\n",
    "            \n",
    "                val_loss += loss.item()\n",
    "                \n",
    "                # record\n",
    "                val_clf_loss += loss_clf.item()\n",
    "                val_tte_loss += loss_tte.item()\n",
    "                val_values_loss += loss_values.item()\n",
    "            val_loss /= j\n",
    "            val_clf_loss /= j\n",
    "            val_tte_loss /= j\n",
    "            val_values_loss /= j\n",
    "            loss_curves_val.append(val_loss)\n",
    "            loss_curves_val_clf.append(val_clf_loss)\n",
    "            loss_curves_val_tte.append(val_tte_loss)\n",
    "            loss_curves_val_values.append(val_values_loss)\n",
    "\n",
    "            print(f\"Epoch {epoch}:\\tTrain loss {epoch_loss:.2f}  ({epoch_clf_loss:.2f}, {epoch_tte_loss:.2f}, {epoch_values_loss:.2f}). Val loss {val_loss:.2f} ({val_clf_loss:.2f}, {val_tte_loss:.2f}, {val_values_loss:.2f})\")          \n",
    "            # TODO: Note not fully accurate as last batch is likely not the same size, will be fixed with lightning\n",
    "    \n",
    "        if val_loss >= best_val:\n",
    "            epochs_since_best += 1\n",
    "            if epochs_since_best >= 5:\n",
    "                break\n",
    "        else:\n",
    "            best_val = val_loss\n",
    "            epochs_since_best = 0\n"
   ]
  },
  {
   "cell_type": "markdown",
   "metadata": {},
   "source": [
    "## Generation"
   ]
  },
  {
   "cell_type": "code",
   "execution_count": 14,
   "metadata": {},
   "outputs": [],
   "source": [
    "# Default context start\n",
    "prompt = [\"O_E___height_1\", \"O_E___weight_2\"]\n",
    "values = [163, 90]\n",
    "ages_in_years = [18.2, 18.2]\n",
    "\n",
    "# define encoding functions (TODO: add this wrap to datamodule\n",
    "encode_prompt = lambda prompt_list: torch.from_numpy(np.array(dm.encode(prompt_list)).reshape((1,-1))).to(device)\n",
    "encode_value = lambda prompt_list, value_list: torch.tensor(np.array([dm.standardise(_cat, _val) for _cat, _val in zip(prompt_list, value_list) ]).reshape((1,-1)), dtype=torch.float32).to(device)\n",
    "encode_age = lambda age_list: torch.tensor([365 * _age for _age in age_list], dtype=torch.int64).reshape((1,-1)).to(device)\n",
    "\n",
    "# Convert for model\n",
    "tokens = encode_prompt(prompt)\n",
    "values_scaled = encode_value(prompt, values)\n",
    "ages_in_days = encode_age(ages_in_years)"
   ]
  },
  {
   "cell_type": "code",
   "execution_count": 15,
   "metadata": {},
   "outputs": [
    {
     "name": "stdout",
     "output_type": "stream",
     "text": [
      "PROMPT:\n",
      "O_E___height_1                                    -0.04          at age 18 (6643.0 days)\n",
      "O_E___weight_2                                    0.16           at age 18 (6643.0 days)\n",
      "==========================================================================================\n",
      "GENERATION\n",
      "O_E___weight_2                                    0.09           at age 18 (6699.0 days)\n",
      "Systolic_blood_pressure_4                         -0.23          at age 19 (6942.3 days)\n",
      "Body_mass_index_3                                 -0.13          at age 21 (7743.8 days)\n",
      "Diastolic_blood_pressure_5                        -0.18          at age 21 (7745.7 days)\n",
      "O_E___height_1                                    0.01           at age 21 (7762.7 days)\n",
      "O_E___weight_2                                    -0.04          at age 21 (7781.6 days)\n",
      "Systolic_blood_pressure_4                         -0.17          at age 21 (7808.5 days)\n",
      "Basophil_count_22                                 0.22           at age 22 (8143.9 days)\n",
      "Eosinophil_count_21                               0.14           at age 22 (8147.8 days)\n",
      "Eosinophil_count_21                               -0.02          at age 22 (8149.4 days)\n"
     ]
    }
   ],
   "source": [
    "# generate: sample the next 10 tokens\n",
    "new_tokens, new_ages, new_values = model.generate(tokens, ages_in_days, values_scaled, max_new_tokens=10)\n",
    "\n",
    "# report:\n",
    "print(f\"PROMPT:\")\n",
    "for _idx, (_cat, _age, _value) in enumerate(zip(dm.decode(new_tokens[0].tolist()).split(\" \"), \n",
    "                                                new_ages[0, :], \n",
    "                                                new_values[0, :]\n",
    "                                               )\n",
    "                                           ):\n",
    "    # _value = dm.unstandardise(_cat, _value)\n",
    "    print(f\"{_cat}\".ljust(50) + f\"{_value:.02f}\".ljust(15) + f\"at age {_age/365:.0f} ({_age:.1f} days)\")    # with value {_value}\n",
    "    if _idx == tokens.shape[-1] - 1:\n",
    "        print(\"=\"*90)\n",
    "        print(f\"GENERATION\")"
   ]
  },
  {
   "cell_type": "markdown",
   "metadata": {},
   "source": [
    "## Comparing generation to real data"
   ]
  },
  {
   "cell_type": "code",
   "execution_count": 16,
   "metadata": {
    "scrolled": true
   },
   "outputs": [
    {
     "name": "stdout",
     "output_type": "stream",
     "text": [
      "Time to retrieve sample index 1 was 0.12309074401855469 seconds\n",
      "\n",
      "SEX                 | F\n",
      "IMD                 | 4.0\n",
      "ETHNICITY           | WHITE\n",
      "birth_year          | 1997.0\n",
      "\n",
      "Token                                                                      | Age               | Standardised value\n",
      "===================================================================================================================\n",
      "Mean_corpuscular_volume__MCV__11                                           | 8000              | -0.20             \n",
      "Monocyte_count_23                                                          | 8000              | 0.20              \n",
      "Neutrophil_count_19                                                        | 8000              | 0.33              \n",
      "Platelet_count_12                                                          | 8000              | 0.13              \n",
      "Red_blood_cell__RBC__count_10                                              | 8000              | -0.05             \n",
      "Serum_C_reactive_protein_level_59                                          | 8000              | 0.02              \n",
      "Serum_TSH_level_71                                                         | 8000              | 0.09              \n",
      "Serum_alanine_aminotransferase_level_45                                    | 8000              | -0.09             \n"
     ]
    }
   ],
   "source": [
    "dm.train_set.view_sample(1, max_dynamic_events=10, report_time=True)"
   ]
  },
  {
   "cell_type": "code",
   "execution_count": 17,
   "metadata": {},
   "outputs": [],
   "source": [
    "\n",
    "# Plot loss\n",
    "plt.figure()\n",
    "# Training\n",
    "iterations = np.linspace(0, len(loss_curves_train), len(loss_curves_train)) * opt.eval_interval\n",
    "plt.plot(iterations, loss_curves_train, label=\"train\")\n",
    "# Validation\n",
    "iterations = np.linspace(0, len(loss_curves_val), len(loss_curves_val)) * opt.eval_interval\n",
    "plt.plot(iterations, loss_curves_val, label=\"val\", linestyle='dashed')\n",
    "plt.legend()\n",
    "plt.savefig(f\"figs/TTE_tab/loss.png\")\n",
    "\n",
    "# Plot Classifier loss\n",
    "plt.figure()\n",
    "# Training\n",
    "iterations = np.linspace(0, len(loss_curves_train_clf), len(loss_curves_train_clf)) * opt.eval_interval\n",
    "plt.plot(iterations, loss_curves_train_clf, label=\"train\")\n",
    "# Validation\n",
    "iterations = np.linspace(0, len(loss_curves_val_clf), len(loss_curves_val_clf)) * opt.eval_interval\n",
    "plt.plot(iterations, loss_curves_val_clf, label=\"val\", linestyle='dashed')\n",
    "plt.legend()\n",
    "plt.savefig(f\"figs/TTE_tab/loss_clf.png\")\n",
    "\n",
    "# Plot TTE loss\n",
    "plt.figure()\n",
    "# Training\n",
    "iterations = np.linspace(0, len(loss_curves_train_tte), len(loss_curves_train_tte)) * opt.eval_interval\n",
    "plt.plot(iterations, loss_curves_train_tte, label=\"train\", )\n",
    "# Validation\n",
    "iterations = np.linspace(0, len(loss_curves_val_tte), len(loss_curves_val_tte)) * opt.eval_interval\n",
    "plt.plot(iterations, loss_curves_val_tte, label=\"val\", linestyle='dashed')\n",
    "plt.legend()\n",
    "plt.savefig(f\"figs/TTE_tab/loss_tte.png\")\n",
    "\n",
    "# Plot value loss\n",
    "plt.figure()\n",
    "# Training\n",
    "iterations = np.linspace(0, len(loss_curves_train_values), len(loss_curves_train_values)) * opt.eval_interval\n",
    "plt.plot(iterations, loss_curves_train_values, label=\"train\", )\n",
    "# Validation\n",
    "iterations = np.linspace(0, len(loss_curves_val_values), len(loss_curves_val_values)) * opt.eval_interval\n",
    "plt.plot(iterations, loss_curves_val_values, label=\"val\", linestyle='dashed')\n",
    "plt.legend()\n",
    "plt.savefig(f\"figs/TTE_tab/loss_values.png\")"
   ]
  },
  {
   "cell_type": "markdown",
   "metadata": {},
   "source": [
    "# Prompt testing"
   ]
  },
  {
   "cell_type": "markdown",
   "metadata": {},
   "source": [
    "## Diabetes: How related conditions are impacted by each other\n",
    "Probability of type II diabetes before and after a type I diagnosis"
   ]
  },
  {
   "cell_type": "code",
   "execution_count": 22,
   "metadata": {},
   "outputs": [
    {
     "name": "stdout",
     "output_type": "stream",
     "text": [
      "\n",
      "Control: \t (DEPRESSION): \n",
      "torch.Size([1, 1])\n",
      "torch.Size([1, 1])\n",
      "\tprobability of type I diabetes: 0.0302%\n",
      "\tprobability of type II diabetes: 0.1716%\n",
      "\n",
      "Type 1: \t (DEPRESSION,TYPE1DM): \n",
      "torch.Size([1, 2])\n",
      "torch.Size([1, 2])\n",
      "\tprobability of type I diabetes: 0.0321%\n",
      "\tprobability of type II diabetes: 0.1864%\n",
      "\n",
      "Type 2: \t (DEPRESSION,TYPE2DIABETES): \n",
      "torch.Size([1, 2])\n",
      "torch.Size([1, 2])\n",
      "\tprobability of type I diabetes: 0.0342%\n",
      "\tprobability of type II diabetes: 0.1831%\n"
     ]
    }
   ],
   "source": [
    "t1_token = dm.tokenizer._stoi[\"TYPE1DM\"]\n",
    "t2_token = dm.tokenizer._stoi[\"TYPE2DIABETES\"]\n",
    "\n",
    "\n",
    "base_prompt = [\"DEPRESSION\"]\n",
    "ages_in_years = [20]\n",
    "base_values = [torch.tensor([torch.nan])]\n",
    "\n",
    "to_days = lambda a_list: torch.FloatTensor([365 * _a for _a in a_list]).reshape((1,-1)).to(device)\n",
    "\n",
    "# Create a set of prompts\n",
    "prompts, ages, values, desc = [], [], [], []\n",
    "# control prompt\n",
    "desc.append(\"Control\")\n",
    "prompts.append(base_prompt)\n",
    "ages.append(ages_in_years)\n",
    "values.append(base_values)\n",
    "# prompt with type 1 diabetes\n",
    "desc.append(\"Type 1\")\n",
    "prompts.append(base_prompt + [\"TYPE1DM\"])\n",
    "ages.append(ages_in_years + [21])\n",
    "values.append(base_values + [torch.tensor([torch.nan])])\n",
    "\n",
    "desc.append(\"Type 2\")\n",
    "prompts.append(base_prompt + [\"TYPE2DIABETES\"])\n",
    "ages.append(ages_in_years + [21])\n",
    "values.append(base_values + [torch.tensor([torch.nan])])\n",
    "\n",
    "with torch.no_grad(): \n",
    "    model.eval()\n",
    "\n",
    "    for p_idx, (prompt, age, value) in enumerate(zip(prompts, ages, values)):\n",
    "        print(f\"\\n{desc[p_idx]}: \\t ({','.join(prompt)}): \")\n",
    "        encoded_prompt = torch.from_numpy(np.array(dm.encode(prompt)).reshape((1,-1))).to(device)\n",
    "        value = torch.tensor(value).reshape((1,-1)).to(device)\n",
    "        (lgts, tte_dist, val_dist), _, _ = model(encoded_prompt,\n",
    "                                                 values=value,\n",
    "                                                 ages=to_days(age),\n",
    "                                                 is_generation=True)\n",
    "        probs = torch.nn.functional.softmax(lgts, dim=2)\n",
    "        print(f\"\\tprobability of type I diabetes: {100*float(probs[0, 0, t1_token].cpu().detach().numpy()):.4f}%\")\n",
    "        print(f\"\\tprobability of type II diabetes: {100*float(probs[0, 0, t2_token].cpu().detach().numpy()):.4f}%\")\n",
    "\n",
    "# Note: adding a diagnosis (even if potentially orthogonal) at the beginning of the prompt increases probability of either type"
   ]
  },
  {
   "cell_type": "markdown",
   "metadata": {},
   "source": [
    "## Values: How increasing BMI affects likelihood of diagnoses"
   ]
  },
  {
   "cell_type": "code",
   "execution_count": 24,
   "metadata": {},
   "outputs": [
    {
     "name": "stdout",
     "output_type": "stream",
     "text": [
      "[tensor([-2.], device='cuda:0'), tensor([-1.5556], device='cuda:0'), tensor([-1.1111], device='cuda:0'), tensor([-0.6667], device='cuda:0'), tensor([-0.2222], device='cuda:0'), tensor([0.2222], device='cuda:0'), tensor([0.6667], device='cuda:0'), tensor([1.1111], device='cuda:0'), tensor([1.5556], device='cuda:0'), tensor([2.], device='cuda:0')]\n",
      "Value tensor([-2.], device='cuda:0')\n",
      "======\n",
      "\tDiastolic_blood_pressure_5: 5.72%\n",
      "\tBody_mass_index_3: 1.66%\n",
      "\tHYPERTENSION: 0.01%\n",
      "\tTYPE2DIABETES: 0.01%\n",
      "\tCKDSTAGE3TO5: 0.00%\n",
      "\tOSTEOARTHRITIS: 0.00%\n",
      "\tTYPE1DM: 0.00%\n",
      "Value tensor([-1.5556], device='cuda:0')\n",
      "======\n",
      "\tDiastolic_blood_pressure_5: 7.37%\n",
      "\tBody_mass_index_3: 1.71%\n",
      "\tTYPE2DIABETES: 0.01%\n",
      "\tHYPERTENSION: 0.01%\n",
      "\tCKDSTAGE3TO5: 0.00%\n",
      "\tOSTEOARTHRITIS: 0.00%\n",
      "\tTYPE1DM: 0.00%\n",
      "Value tensor([-1.1111], device='cuda:0')\n",
      "======\n",
      "\tDiastolic_blood_pressure_5: 10.39%\n",
      "\tBody_mass_index_3: 1.65%\n",
      "\tTYPE2DIABETES: 0.01%\n",
      "\tHYPERTENSION: 0.01%\n",
      "\tCKDSTAGE3TO5: 0.01%\n",
      "\tOSTEOARTHRITIS: 0.00%\n",
      "\tTYPE1DM: 0.00%\n",
      "Value tensor([-0.6667], device='cuda:0')\n",
      "======\n",
      "\tDiastolic_blood_pressure_5: 18.54%\n",
      "\tBody_mass_index_3: 1.45%\n",
      "\tTYPE2DIABETES: 0.01%\n",
      "\tCKDSTAGE3TO5: 0.00%\n",
      "\tHYPERTENSION: 0.00%\n",
      "\tOSTEOARTHRITIS: 0.00%\n",
      "\tTYPE1DM: 0.00%\n",
      "Value tensor([-0.2222], device='cuda:0')\n",
      "======\n",
      "\tDiastolic_blood_pressure_5: 48.46%\n",
      "\tBody_mass_index_3: 0.96%\n",
      "\tTYPE2DIABETES: 0.00%\n",
      "\tHYPERTENSION: 0.00%\n",
      "\tCKDSTAGE3TO5: 0.00%\n",
      "\tOSTEOARTHRITIS: 0.00%\n",
      "\tTYPE1DM: 0.00%\n",
      "Value tensor([0.2222], device='cuda:0')\n",
      "======\n",
      "\tDiastolic_blood_pressure_5: 69.02%\n",
      "\tBody_mass_index_3: 0.91%\n",
      "\tTYPE2DIABETES: 0.01%\n",
      "\tHYPERTENSION: 0.00%\n",
      "\tCKDSTAGE3TO5: 0.00%\n",
      "\tOSTEOARTHRITIS: 0.00%\n",
      "\tTYPE1DM: 0.00%\n",
      "Value tensor([0.6667], device='cuda:0')\n",
      "======\n",
      "\tDiastolic_blood_pressure_5: 60.21%\n",
      "\tBody_mass_index_3: 1.27%\n",
      "\tTYPE2DIABETES: 0.01%\n",
      "\tHYPERTENSION: 0.01%\n",
      "\tCKDSTAGE3TO5: 0.01%\n",
      "\tOSTEOARTHRITIS: 0.01%\n",
      "\tTYPE1DM: 0.00%\n",
      "Value tensor([1.1111], device='cuda:0')\n",
      "======\n",
      "\tDiastolic_blood_pressure_5: 43.97%\n",
      "\tBody_mass_index_3: 1.26%\n",
      "\tTYPE2DIABETES: 0.02%\n",
      "\tHYPERTENSION: 0.01%\n",
      "\tOSTEOARTHRITIS: 0.01%\n",
      "\tCKDSTAGE3TO5: 0.01%\n",
      "\tTYPE1DM: 0.00%\n",
      "Value tensor([1.5556], device='cuda:0')\n",
      "======\n",
      "\tDiastolic_blood_pressure_5: 30.51%\n",
      "\tBody_mass_index_3: 1.08%\n",
      "\tTYPE2DIABETES: 0.03%\n",
      "\tHYPERTENSION: 0.02%\n",
      "\tOSTEOARTHRITIS: 0.02%\n",
      "\tCKDSTAGE3TO5: 0.01%\n",
      "\tTYPE1DM: 0.00%\n",
      "Value tensor([2.], device='cuda:0')\n",
      "======\n",
      "\tDiastolic_blood_pressure_5: 20.37%\n",
      "\tBody_mass_index_3: 0.84%\n",
      "\tTYPE2DIABETES: 0.03%\n",
      "\tOSTEOARTHRITIS: 0.02%\n",
      "\tHYPERTENSION: 0.02%\n",
      "\tCKDSTAGE3TO5: 0.01%\n",
      "\tTYPE1DM: 0.00%\n"
     ]
    }
   ],
   "source": [
    "events_of_interest = [\"Body_mass_index_3\", \"Diastolic_blood_pressure_5\", \n",
    "                      \"TYPE1DM\", \"TYPE2DIABETES\",\n",
    "                      \"HYPERTENSION\", \"OSTEOARTHRITIS\",\n",
    "                      \"CKDSTAGE3TO5\",\n",
    "                      \"HF\", \"ISCHAEMICSTROKE\"\n",
    "                     ]\n",
    "\n",
    "prompt = [\"Body_mass_index_3\"]\n",
    "# values = [torch.tensor([standardise(_cat, v) for _cat in prompt], device=device) for v in [12.,15.,18.,21.,24.,30.,40.]]\n",
    "values = [torch.tensor([float(v) for _cat in prompt], device=device) for v in np.linspace(-2,2,10)]\n",
    "print(values)\n",
    "age = [40]\n",
    "\n",
    "# for condition in target_conditions:\n",
    "#     print(f\"Probability of {condition}\")\n",
    "#     target_token = dm.tokenizer._stoi[condition]\n",
    "\n",
    "for p_idx, value in enumerate(values):\n",
    "    print(f\"Value {value}\\n======\")\n",
    "    \n",
    "    encoded_prompt = torch.from_numpy(np.array(dm.encode(prompt)).reshape((1,-1))).to(device)\n",
    "    value = value.reshape((1,-1))\n",
    "    \n",
    "    (lgts, tte_dist, val_dist), _, _ = model(encoded_prompt,\n",
    "                                              values=value,\n",
    "                                             ages=to_days(age),\n",
    "                                             is_generation=True)\n",
    "    probs = torch.nn.functional.softmax(lgts, dim=2) * 100\n",
    "    \n",
    "    topk_prob, topk_ind = torch.sort(probs[0,0,:], descending=True)\n",
    "    for i, j in zip(dm.decode(topk_ind.tolist()).split(\" \"), topk_prob):\n",
    "        if i in events_of_interest:\n",
    "            print(f\"\\t{i}: {j:.2f}%\")\n"
   ]
  },
  {
   "cell_type": "markdown",
   "metadata": {},
   "source": [
    "## Values: How increasing diastolic_blood_pressure affects likelihood of diagnoses"
   ]
  },
  {
   "cell_type": "code",
   "execution_count": 26,
   "metadata": {},
   "outputs": [
    {
     "name": "stdout",
     "output_type": "stream",
     "text": [
      "Value tensor([-2.], device='cuda:0')\n",
      "======\n",
      "\tDiastolic_blood_pressure_5: 1.46%\n",
      "\tBody_mass_index_3: 1.36%\n",
      "\tTYPE2DIABETES: 0.01%\n",
      "\tCKDSTAGE3TO5: 0.01%\n",
      "\tOSTEOARTHRITIS: 0.00%\n",
      "\tHYPERTENSION: 0.00%\n",
      "\tTYPE1DM: 0.00%\n",
      "Value tensor([-1.5556], device='cuda:0')\n",
      "======\n",
      "\tDiastolic_blood_pressure_5: 1.54%\n",
      "\tBody_mass_index_3: 1.18%\n",
      "\tTYPE2DIABETES: 0.01%\n",
      "\tCKDSTAGE3TO5: 0.01%\n",
      "\tOSTEOARTHRITIS: 0.00%\n",
      "\tHYPERTENSION: 0.00%\n",
      "\tTYPE1DM: 0.00%\n",
      "Value tensor([-1.1111], device='cuda:0')\n",
      "======\n",
      "\tDiastolic_blood_pressure_5: 1.49%\n",
      "\tBody_mass_index_3: 0.89%\n",
      "\tTYPE2DIABETES: 0.00%\n",
      "\tCKDSTAGE3TO5: 0.00%\n",
      "\tOSTEOARTHRITIS: 0.00%\n",
      "\tHYPERTENSION: 0.00%\n",
      "\tTYPE1DM: 0.00%\n",
      "Value tensor([-0.6667], device='cuda:0')\n",
      "======\n",
      "\tDiastolic_blood_pressure_5: 1.21%\n",
      "\tBody_mass_index_3: 0.52%\n",
      "\tTYPE2DIABETES: 0.00%\n",
      "\tCKDSTAGE3TO5: 0.00%\n",
      "\tOSTEOARTHRITIS: 0.00%\n",
      "\tHYPERTENSION: 0.00%\n",
      "\tTYPE1DM: 0.00%\n",
      "Value tensor([-0.2222], device='cuda:0')\n",
      "======\n",
      "\tDiastolic_blood_pressure_5: 0.85%\n",
      "\tBody_mass_index_3: 0.25%\n",
      "\tTYPE2DIABETES: 0.00%\n",
      "\tCKDSTAGE3TO5: 0.00%\n",
      "\tHYPERTENSION: 0.00%\n",
      "\tOSTEOARTHRITIS: 0.00%\n",
      "\tTYPE1DM: 0.00%\n",
      "Value tensor([0.2222], device='cuda:0')\n",
      "======\n",
      "\tDiastolic_blood_pressure_5: 1.07%\n",
      "\tBody_mass_index_3: 0.20%\n",
      "\tTYPE2DIABETES: 0.00%\n",
      "\tHYPERTENSION: 0.00%\n",
      "\tOSTEOARTHRITIS: 0.00%\n",
      "\tCKDSTAGE3TO5: 0.00%\n",
      "\tTYPE1DM: 0.00%\n",
      "Value tensor([0.6667], device='cuda:0')\n",
      "======\n",
      "\tDiastolic_blood_pressure_5: 3.45%\n",
      "\tBody_mass_index_3: 0.45%\n",
      "\tHYPERTENSION: 0.00%\n",
      "\tOSTEOARTHRITIS: 0.00%\n",
      "\tTYPE2DIABETES: 0.00%\n",
      "\tCKDSTAGE3TO5: 0.00%\n",
      "\tTYPE1DM: 0.00%\n",
      "Value tensor([1.1111], device='cuda:0')\n",
      "======\n",
      "\tDiastolic_blood_pressure_5: 11.88%\n",
      "\tBody_mass_index_3: 1.41%\n",
      "\tHYPERTENSION: 0.03%\n",
      "\tOSTEOARTHRITIS: 0.02%\n",
      "\tTYPE2DIABETES: 0.01%\n",
      "\tCKDSTAGE3TO5: 0.01%\n",
      "\tTYPE1DM: 0.00%\n",
      "Value tensor([1.5556], device='cuda:0')\n",
      "======\n",
      "\tDiastolic_blood_pressure_5: 22.09%\n",
      "\tBody_mass_index_3: 2.50%\n",
      "\tHYPERTENSION: 0.07%\n",
      "\tOSTEOARTHRITIS: 0.07%\n",
      "\tTYPE2DIABETES: 0.03%\n",
      "\tCKDSTAGE3TO5: 0.01%\n",
      "\tTYPE1DM: 0.00%\n",
      "Value tensor([2.], device='cuda:0')\n",
      "======\n",
      "\tDiastolic_blood_pressure_5: 28.79%\n",
      "\tBody_mass_index_3: 3.01%\n",
      "\tHYPERTENSION: 0.11%\n",
      "\tOSTEOARTHRITIS: 0.11%\n",
      "\tTYPE2DIABETES: 0.05%\n",
      "\tCKDSTAGE3TO5: 0.02%\n",
      "\tTYPE1DM: 0.00%\n"
     ]
    }
   ],
   "source": [
    "events_of_interest = [\"Body_mass_index_3\", \"Diastolic_blood_pressure_5\", \n",
    "                      \"TYPE1DM\", \"TYPE2DIABETES\",\n",
    "                      \"HYPERTENSION\", \"OSTEOARTHRITIS\",\n",
    "                      \"CKDSTAGE3TO5\",\n",
    "                      \"HF\", \"ISCHAEMICSTROKE\"\n",
    "                     ]\n",
    "\n",
    "prompt = [\"Diastolic_blood_pressure_5\"]\n",
    "# values = [torch.tensor([standardise(_cat, _value) for _cat in prompt], device=device) for _value in [60.,70.,80.,90.,100.,120.]]\n",
    "values = [torch.tensor([float(v) for _cat in prompt], device=device) for v in np.linspace(-2,2,10)]\n",
    "age = [40]\n",
    "\n",
    "\n",
    "# for condition in target_conditions:\n",
    "#     print(f\"Probability of {condition}\")\n",
    "#     target_token = dm.tokenizer._stoi[condition]\n",
    "\n",
    "for p_idx, value in enumerate(values):\n",
    "    print(f\"Value {value}\\n======\")\n",
    "    encoded_prompt = torch.from_numpy(np.array(dm.encode(prompt)).reshape((1,-1))).to(device)\n",
    "    value = value.reshape((1,-1))\n",
    "    \n",
    "    (lgts, tte_dist, val_dist), _, _ = model(encoded_prompt,\n",
    "                                              values=value,\n",
    "                                             ages=to_days(age),\n",
    "                                             is_generation=True)\n",
    "    probs = torch.nn.functional.softmax(lgts, dim=2) * 100\n",
    "    \n",
    "    topk_prob, topk_ind = torch.sort(probs[0,0,:], descending=True)\n",
    "    for i, j in zip(dm.decode(topk_ind.tolist()).split(\" \"), topk_prob):\n",
    "        if i in events_of_interest:\n",
    "            print(f\"\\t{i}: {j:.2f}%\")\n"
   ]
  },
  {
   "cell_type": "markdown",
   "metadata": {},
   "source": [
    "## Values: How varying diagnosis affects value of diastolic_blood_pressure"
   ]
  },
  {
   "cell_type": "code",
   "execution_count": 29,
   "metadata": {},
   "outputs": [
    {
     "name": "stdout",
     "output_type": "stream",
     "text": [
      "\n",
      "Diagnosis ['DEPRESSION']\n",
      "======\n",
      "standardised diastolic_blood_pressure ~ N(-0.1, 0.2)\n",
      "\n",
      "Diagnosis ['TYPE2DIABETES']\n",
      "======\n",
      "standardised diastolic_blood_pressure ~ N(-0.1, 0.2)\n",
      "\n",
      "Diagnosis ['HF']\n",
      "======\n",
      "standardised diastolic_blood_pressure ~ N(-0.1, 0.2)\n",
      "\n",
      "Diagnosis ['HYPERTENSION']\n",
      "======\n",
      "standardised diastolic_blood_pressure ~ N(-0.1, 0.2)\n"
     ]
    }
   ],
   "source": [
    "# display(dm.tokenizer._stoi)\n",
    "t1_token = dm.tokenizer._stoi[\"Diastolic_blood_pressure_5\"]\n",
    "\n",
    "diagnoses = [[\"DEPRESSION\"],[\"TYPE2DIABETES\"], [\"HF\"], [\"HYPERTENSION\"]]\n",
    "values = torch.tensor([torch.nan], device=device)\n",
    "age = [39]\n",
    "\n",
    "\n",
    "# for condition in target_conditions:\n",
    "#     print(f\"Probability of {condition}\")\n",
    "#     target_token = dm.tokenizer._stoi[condition]\n",
    "\n",
    "for p_idx, diagnosis in enumerate(diagnoses):\n",
    "    print(f\"\\nDiagnosis {diagnosis}\\n======\")\n",
    "    encoded_prompt = torch.from_numpy(np.array(dm.encode(diagnosis)).reshape((1,-1))).to(device)\n",
    "    values = values.reshape((1,-1))\n",
    "    (lgts, tte_dist, val_dist), _, _ = model(encoded_prompt,\n",
    "                                              values=values,\n",
    "                                             ages=to_days(age),\n",
    "                                             is_generation=True)\n",
    "    dist = val_dist[model.value_layer.token_key(t1_token)]\n",
    "    print(f\"standardised diastolic_blood_pressure ~ N({dist.loc.item():.1f}, {dist.scale.item():.1f})\")\n",
    "    # print(f\"\\tprobability of type II diabetes: {100*float(probs[0, 0, t2_token].cpu().detach().numpy()):.4f}%\")\n",
    "\n"
   ]
  },
  {
   "cell_type": "markdown",
   "metadata": {},
   "source": [
    "## Values: How increasing bmi affects value of diastolic_blood_pressure"
   ]
  },
  {
   "cell_type": "code",
   "execution_count": 30,
   "metadata": {},
   "outputs": [
    {
     "name": "stdout",
     "output_type": "stream",
     "text": [
      "Values [-2.0]\n",
      "======\n",
      "standardised diastolic_blood_pressure ~ N(-0.5, 0.2)\n",
      "Values [-1.5555555820465088]\n",
      "======\n",
      "standardised diastolic_blood_pressure ~ N(-0.4, 0.2)\n",
      "Values [-1.1111111640930176]\n",
      "======\n",
      "standardised diastolic_blood_pressure ~ N(-0.4, 0.2)\n",
      "Values [-0.6666666865348816]\n",
      "======\n",
      "standardised diastolic_blood_pressure ~ N(-0.3, 0.2)\n",
      "Values [-0.2222222238779068]\n",
      "======\n",
      "standardised diastolic_blood_pressure ~ N(-0.1, 0.2)\n",
      "Values [0.2222222238779068]\n",
      "======\n",
      "standardised diastolic_blood_pressure ~ N(0.0, 0.2)\n",
      "Values [0.6666666865348816]\n",
      "======\n",
      "standardised diastolic_blood_pressure ~ N(0.1, 0.2)\n",
      "Values [1.1111111640930176]\n",
      "======\n",
      "standardised diastolic_blood_pressure ~ N(0.2, 0.2)\n",
      "Values [1.5555555820465088]\n",
      "======\n",
      "standardised diastolic_blood_pressure ~ N(0.3, 0.2)\n",
      "Values [2.0]\n",
      "======\n",
      "standardised diastolic_blood_pressure ~ N(0.3, 0.2)\n"
     ]
    }
   ],
   "source": [
    "t1_token = dm.tokenizer._stoi[\"Diastolic_blood_pressure_5\"]\n",
    "\n",
    "prompt = [\"Body_mass_index_3\"]\n",
    "# values = [torch.tensor([standardise(_cat, _value) for _cat in prompt], device=device) for _value in [12.,15.,18.,21.,24.,30.,40.,50.]]\n",
    "values = [torch.tensor([float(v) for _cat in prompt], device=device) for v in np.linspace(-2,2,10)]\n",
    "age = [40]\n",
    "\n",
    "# for condition in target_conditions:\n",
    "#     print(f\"Probability of {condition}\")\n",
    "#     target_token = dm.tokenizer._stoi[condition]\n",
    "\n",
    "for p_idx, value in enumerate(values):\n",
    "    print(f\"Values {value.tolist()}\\n======\")\n",
    "    encoded_prompt = torch.from_numpy(np.array(dm.encode(prompt)).reshape((1,-1))).to(device)\n",
    "    value = value.reshape((1,-1))\n",
    "\n",
    "    (lgts, tte_dist, val_dist), _, _ = model(encoded_prompt,\n",
    "                                             values=value,\n",
    "                                             ages=to_days(age),\n",
    "                                             is_generation=True)\n",
    "    \n",
    "    dist = val_dist[model.value_layer.token_key(t1_token)]\n",
    "    print(f\"standardised diastolic_blood_pressure ~ N({dist.loc.item():.1f}, {dist.scale.item():.1f})\")\n",
    "    # print(f\"\\tprobability of type II diabetes: {100*float(probs[0, 0, t2_token].cpu().detach().numpy()):.4f}%\")"
   ]
  },
  {
   "cell_type": "markdown",
   "metadata": {},
   "source": [
    "# Appendix: model architectures"
   ]
  },
  {
   "cell_type": "code",
   "execution_count": null,
   "metadata": {},
   "outputs": [],
   "source": [
    "for model_idx, model in enumerate(models):\n",
    "    print(f\"\\n\\n{m_names[model_idx]}\\n\" + \"=\"*len(m_names[model_idx]))\n",
    "    print(f\"\\n\\n{model}\")"
   ]
  },
  {
   "cell_type": "code",
   "execution_count": null,
   "metadata": {},
   "outputs": [],
   "source": [
    "!jupyter nbconvert --to html --no-input TTE_tabular.ipynb"
   ]
  }
 ],
 "metadata": {
  "colab": {
   "provenance": []
  },
  "kernelspec": {
   "display_name": "Python",
   "language": "python",
   "name": "sys_python"
  },
  "language_info": {
   "codemirror_mode": {
    "name": "ipython",
    "version": 3
   },
   "file_extension": ".py",
   "mimetype": "text/x-python",
   "name": "python",
   "nbconvert_exporter": "python",
   "pygments_lexer": "ipython3",
   "version": "3.10.4"
  }
 },
 "nbformat": 4,
 "nbformat_minor": 4
}
