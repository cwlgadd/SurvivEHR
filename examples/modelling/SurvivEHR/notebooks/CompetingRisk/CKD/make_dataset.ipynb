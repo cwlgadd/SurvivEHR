{
 "cells": [
  {
   "cell_type": "raw",
   "id": "92d27f20-f361-4aad-9d2c-0aef89e19e17",
   "metadata": {},
   "source": [
    "#!/bin/bash -l\n",
    "#SBATCH --account=subramaa-mum-predict\n",
    "#SBATCH --qos=bbgpu\n",
    "#SBATCH --gres gpu:a100:1\n",
    "#SBATCH --time=17:30:0\n",
    "#SBATCH --ntasks=1\n",
    "#SBATCH --nodes=1\n",
    "#SBATCH --cpus-per-task=56\n",
    "#SBATCH --output=/rds/homes/g/gaddcz/Projects/CPRD/data/database/output/Version3_BuildFineTuningCKD_Dataset.out\n",
    "\n",
    "# SBATCH --nodes=1\n",
    "# SBATCH --ntasks-per-node=18\n",
    "# SBATCH --mem-per-cpu=4G\n",
    "\n",
    "set -e   # Exit on first error\n",
    "\n",
    "module purge; module load bluebear\n",
    "\n",
    "module load bear-apps/2022a/live \n",
    "module load Transformers/4.24.0-foss-2022a-CUDA-11.7.0\n",
    "module load polars/0.17.12-foss-2022a\n",
    "module load PyTorch-Lightning/1.9.3-foss-2022a-CUDA-11.7.0\n",
    "module load Hydra/1.3.2-GCCcore-11.3.0\n",
    "module load sklearn-pandas/2.2.0-foss-2022a\n",
    "\n",
    "# PyTorch/1.12.1-foss-2022a-CUDA-11.7.0   # which loads cuDNN/8.4.1.50-CUDA-11.7.0\n",
    "\n",
    "export SQLITE_TMPDIR=/rds/projects/g/gokhalkm-optimal/DataforCharles\n",
    "export TMPDIR=/rds/projects/g/gokhalkm-optimal/DataforCharles\n",
    "echo $SQLITE_TMPDIR\n",
    "echo $TMPDIR\n",
    "\n",
    "echo $TERM\n",
    "echo $BB_CPU\n",
    "\n",
    "export VENV_PATH=\"/rds/homes/g/gaddcz/Projects/CPRD/virtual-env-${BB_CPU}\"\n",
    "echo $VENV_PATH\n",
    "\n",
    "# # Check if virtual environment exists and stop submission if not\n",
    "# if [[ ! -d ${VENV_PATH} ]]; then\n",
    "#     exit 1\n",
    "# fi\n",
    "\n",
    "# Activate the virtual environment\n",
    "source ${VENV_PATH}/bin/activate\n",
    "\n",
    "# \n",
    "echo \"Build CVD fine-tuning dataset from CPRD.db database from Version 3 of DeXTER output\"\n",
    "cd /rds/homes/g/gaddcz/Projects/CPRD/examples/data/study_data/\n",
    "\n",
    "# Execute your Python scripts\n",
    "python build_dataset.py;\n",
    "\n"
   ]
  }
 ],
 "metadata": {
  "kernelspec": {
   "display_name": "Python",
   "language": "python",
   "name": "sys_python"
  },
  "language_info": {
   "codemirror_mode": {
    "name": "ipython",
    "version": 3
   },
   "file_extension": ".py",
   "mimetype": "text/x-python",
   "name": "python",
   "nbconvert_exporter": "python",
   "pygments_lexer": "ipython3",
   "version": "3.10.4"
  }
 },
 "nbformat": 4,
 "nbformat_minor": 5
}
