{
 "cells": [
  {
   "cell_type": "markdown",
   "id": "4921342e-8ff8-45d4-b1f6-9fe480c2ee1d",
   "metadata": {},
   "source": [
    "# CPRD Notebook:\n",
    "## Evaluation of fine-tuning the pre-trained SurvivEHR-CR model on a supervised cohort study.\n",
    "\n",
    "Cohort study: predicting Cardiovascular Disease in a Type 2 Diabetes Mellitus population.\n",
    "\n",
    "This notebook quantifies the performance obtained when fine-tuning the pre-trained model to a sub-population."
   ]
  },
  {
   "cell_type": "code",
   "execution_count": null,
   "id": "a671c59b-4428-4e63-a138-7244418a87c5",
   "metadata": {},
   "outputs": [],
   "source": [
    "import os\n",
    "from pathlib import Path\n",
    "import sys\n",
    "node_type = os.getenv('BB_CPU')\n",
    "venv_dir = f'/rds/homes/g/gaddcz/Projects/CPRD/virtual-envTorch2.0-{node_type}'\n",
    "venv_site_pkgs = Path(venv_dir) / 'lib' / f'python{sys.version_info.major}.{sys.version_info.minor}' / 'site-packages'\n",
    "if venv_site_pkgs.exists():\n",
    "    sys.path.insert(0, str(venv_site_pkgs))\n",
    "    print(f\"Added path '{venv_site_pkgs}' at start of search paths.\")\n",
    "else:\n",
    "    print(f\"Path '{venv_site_pkgs}' not found. Check that it exists and/or that it exists for node-type '{node_type}'.\")\n",
    "\n",
    "%load_ext autoreload\n",
    "%autoreload 2\n",
    "\n",
    "print(os.getcwd())"
   ]
  },
  {
   "cell_type": "code",
   "execution_count": 2,
   "id": "d866c7f0-eaa8-4129-b3b1-d4d6b504d0a7",
   "metadata": {},
   "outputs": [
    {
     "name": "stdout",
     "output_type": "stream",
     "text": [
      "env: SLURM_NTASKS_PER_NODE=28\n"
     ]
    }
   ],
   "source": [
    "import torch\n",
    "import numpy as np\n",
    "import matplotlib.pyplot as plt\n",
    "import logging\n",
    "import wandb\n",
    "import pickle\n",
    "from hydra import compose, initialize\n",
    "from omegaconf import OmegaConf\n",
    "\n",
    "from FastEHR.dataloader.foundational_loader import FoundationalDataModule\n",
    "\n",
    "from CPRD.examples.modelling.SurvivEHR.run_experiment import run\n",
    "from CPRD.src.models.survival.task_heads.causal import SurvStreamGPTForCausalModelling\n",
    "\n",
    "import time\n",
    "import polars as pl\n",
    "pl.Config.set_tbl_rows(10000)\n",
    "import pandas as pd\n",
    "pd.options.display.max_rows = 10000\n",
    "\n",
    "\n",
    "# TODO: define an env variable to fix for a local hpc environment issue, this shouldn't be needed\n",
    "%env SLURM_NTASKS_PER_NODE=28   "
   ]
  },
  {
   "cell_type": "markdown",
   "id": "b9c237f8-679a-4fe4-a570-2c8c7b61da9b",
   "metadata": {},
   "source": [
    "# Fine-tuning on full dataset\n",
    "The default configuration is for pre-training. Here we modify as necesssary\n",
    "\n",
    "Here we choose to load in the configuration for a small **pre-trained** 11.4M parameter model, named \"CR_11M\". We specfiy the `fine-tune` experiment type, which will lead to running the ```SupervisedExperiment```. \n",
    "\n",
    "We tell this experiment that we want to perform training (true by default). Additionally, we do choose to perform testing (true by default). As this is a supervised model, this tests the ability to predict the outcomes of interest. In this notebook, this is chosen to be those of the cohort study for predicting Cardiovascular Disease in a Type 2 Diabetes Mellitus population, and we add the folder containing this dataset to the configuration. \n",
    "\n",
    "```Note: As this is a supervised dataset, we need to tell the DataModule that the last event observed is a target and must be stripped. This is done by passing a list of targets to the configuration, overriding the null default. This lets the DataModule know that it should process batches as supervised.```\n",
    "\n",
    "We set the number of workers to be appropriate for the number of CPUs available to reduce bottlenecking, and tell the experiment that we do not want to limit the number of testing batches. In addition, we specify where we want any checkpoints to be saved to avoid bloating the repository.\n",
    "\n",
    "We design a new optimisation strategy for fine-tuning. Pre-training was achieved with a warmup and cosine annealing, with rates which are no appropriate for much smaller dataset sizes seen in clinical prediction models (CPMs). We here choose a simpler strategy: of ReduceOnPlateau with no warmup, increasing the number of epochs (default is 1) and reduced validation intervals, and the addition of early stopping. Additionally, as this is not a causal model we can increase the batch size. Finally, as this CPM is not trying to predict the value of any outcomes, we set the value weight to zero allowing the model to focus entirely on optimising survival outcome prediction."
   ]
  },
  {
   "cell_type": "code",
   "execution_count": 3,
   "id": "c2e42878-b97d-4cba-a4c9-d35f745a1eb0",
   "metadata": {},
   "outputs": [],
   "source": [
    "pre_trained_model_ids = ['SurvivEHR-cr-small', 'SurvivEHR-cr-small-v1', 'SurvivEHR-cr-384', 'SurvivEHR-cr-384-v1', 'crPreTrain_small_1337']\n",
    "experiments = [\"cvd\"] \n",
    "experiment_types = [ \"fine-tune-cr\"] \n",
    "adapter = 8"
   ]
  },
  {
   "cell_type": "code",
   "execution_count": 4,
   "id": "c662c49b-6a1d-4a35-82dc-f00c77d0cfe9",
   "metadata": {
    "scrolled": true
   },
   "outputs": [],
   "source": [
    "if False:\n",
    "    for pre_trained_model in pre_trained_model_ids[1:2]:\n",
    "        print(pre_trained_model)\n",
    "    \n",
    "        for experiment, experiment_type in zip(experiments, experiment_types):\n",
    "        \n",
    "            wandb.finish()\n",
    "            # load the configuration file, override any settings \n",
    "            with initialize(version_base=None, config_path=\"../../../confs\", job_name=\"testing_notebook\"):\n",
    "                cfg = compose(config_name=\"config_CompetingRisk11M\", \n",
    "                              overrides=[# Experiment setup\n",
    "                                         f\"experiment.project_name='SurvivEHR-Study1:CVD'\",\n",
    "                                         f\"experiment.type='{experiment_type}'\",\n",
    "                                         f\"experiment.run_id='{pre_trained_model}'\",\n",
    "                                         f\"experiment.fine_tune_id='{experiment}-{experiment_type}-A{adapter}-notebook'\",\n",
    "                                         \"experiment.train=True\",\n",
    "                                         \"experiment.test=True\",\n",
    "                                         \"experiment.notes=Table result\",\n",
    "                                         # Dataloader\n",
    "                                         \"data.batch_size=128\",\n",
    "                                         \"data.meta_information_path=/rds/projects/g/gokhalkm-optimal/OPTIMAL_MASTER_DATASET/data/FoundationalModel/PreTrain/meta_information_QuantJenny.pickle\",\n",
    "                                         \"data.min_workers=3\",\n",
    "                                         \"data.global_diagnoses=True\",\n",
    "                                         # Optimiser\n",
    "                                         \"optim.num_epochs=20\",\n",
    "                                         \"optim.limit_test_batches=null\",\n",
    "                                         \"optim.scheduler=ReduceOnPlateau\",\n",
    "                                         \"optim.scheduler_warmup=False\",\n",
    "                                         \"optim.learning_rate=1e-3\",\n",
    "                                         \"optim.val_check_interval=50\",\n",
    "                                         \"optim.early_stop=True\",\n",
    "                                         \"optim.early_stop_patience=4\",\n",
    "                                         \"optim.limit_val_batches=0.035\",\n",
    "                                         \"optim.accumulate_grad_batches=4\",\n",
    "                                         # Model\n",
    "                                         # \"transformer.n_embd=384\",\n",
    "                                         f\"transformer.use_fine_tune_adapter={False if adapter is False else True}\",\n",
    "                                         f\"transformer.adapter_dim={8 if adapter is False else adapter}\",\n",
    "                                         \"transformer.block_size=512\", \n",
    "                                         \"transformer.dropout=0.0\",\n",
    "                                         \"transformer.resid_dropout=0.0\",\n",
    "                                         \"transformer.attention_dropout=0.0\",                                  \n",
    "                                        ]\n",
    "                             )\n",
    "            \n",
    "            match experiment.lower():\n",
    "                case \"cvd\":\n",
    "                    cfg.data.path_to_ds=\"/rds/projects/g/gokhalkm-optimal/OPTIMAL_MASTER_DATASET/data/FoundationalModel/FineTune_CVD/\"\n",
    "                    cfg.experiment.fine_tune_outcomes=[\"IHDINCLUDINGMI_OPTIMALV2\", \"ISCHAEMICSTROKE_V2\", \"MINFARCTION\", \"STROKEUNSPECIFIED_V2\", \"STROKE_HAEMRGIC\"]\n",
    "                case \"hypertension\":\n",
    "                    cfg.data.path_to_ds=\"/rds/projects/g/gokhalkm-optimal/OPTIMAL_MASTER_DATASET/data/FoundationalModel/FineTune_Hypertension/\"\n",
    "                    cfg.experiment.fine_tune_outcomes=[\"HYPERTENSION\"]\n",
    "            \n",
    "            \n",
    "            model, dm = run(cfg)\n",
    "            print(f\"Loaded model with {sum(p.numel() for p in model.parameters())/1e6} M parameters\")\n",
    "            wandb.finish()\n",
    "\n"
   ]
  },
  {
   "cell_type": "markdown",
   "id": "a68e4721-b2ca-44c8-9760-55442aa8803f",
   "metadata": {},
   "source": [
    "```\n",
    "┏━━━━━━━━━━━━━━━━━━━━━━━━━━━━━━━━━━━━━┳━━━━━━━━━━━━━━━━━━━━━━━━━━━━━━━━━━━━━┓\n",
    "┃             Test metric             ┃            DataLoader 0             ┃\n",
    "┡━━━━━━━━━━━━━━━━━━━━━━━━━━━━━━━━━━━━━╇━━━━━━━━━━━━━━━━━━━━━━━━━━━━━━━━━━━━━┩\n",
    "└─────────────────────────────────────┴─────────────────────────────────────┘\n",
    "```"
   ]
  },
  {
   "cell_type": "code",
   "execution_count": 5,
   "id": "65799ee6-9462-42a0-a293-dd4cac545d36",
   "metadata": {},
   "outputs": [],
   "source": [
    "# [_i if _i == _i.upper() else 0 for _i in dm.train_set.tokenizer._stoi.keys()]"
   ]
  },
  {
   "cell_type": "markdown",
   "id": "62557fe3-6772-411b-b16a-14edc0d366de",
   "metadata": {},
   "source": [
    "# Fine-tuning on sub-set of data"
   ]
  },
  {
   "cell_type": "code",
   "execution_count": 6,
   "id": "394bdffe-a788-4b32-8563-044daaf283b3",
   "metadata": {},
   "outputs": [
    {
     "name": "stdout",
     "output_type": "stream",
     "text": [
      "[2999, 5296, 9351, 16509, 29148, 51461, 90856, 160407, 283203, 500000]\n"
     ]
    }
   ],
   "source": [
    "sample_sizes = [int(np.exp(_log_n)) for _log_n in np.linspace(np.log(3000), np.log(500000), 10)]\n",
    "print(sample_sizes)"
   ]
  },
  {
   "cell_type": "code",
   "execution_count": null,
   "id": "ac4b72e2-a938-46b0-aea4-f56517283a1e",
   "metadata": {},
   "outputs": [
    {
     "name": "stdout",
     "output_type": "stream",
     "text": [
      "SurvivEHR-cr-small-v1\n"
     ]
    },
    {
     "name": "stderr",
     "output_type": "stream",
     "text": [
      "/rds/bear-apps/2022a/EL8-ice/software/PyTorch-Lightning/2.1.0-foss-2022a-CUDA-11.7.0/lib/python3.10/site-packages/pytorch_lightning/core/saving.py:173: Found keys that are in the model state dict but not in the checkpoint: ['model.transformer.blocks.0.adapter_1.proj.0.weight', 'model.transformer.blocks.0.adapter_1.proj.0.bias', 'model.transformer.blocks.0.adapter_1.proj.2.weight', 'model.transformer.blocks.0.adapter_1.proj.2.bias', 'model.transformer.blocks.0.adapter_2.proj.0.weight', 'model.transformer.blocks.0.adapter_2.proj.0.bias', 'model.transformer.blocks.0.adapter_2.proj.2.weight', 'model.transformer.blocks.0.adapter_2.proj.2.bias', 'model.transformer.blocks.1.adapter_1.proj.0.weight', 'model.transformer.blocks.1.adapter_1.proj.0.bias', 'model.transformer.blocks.1.adapter_1.proj.2.weight', 'model.transformer.blocks.1.adapter_1.proj.2.bias', 'model.transformer.blocks.1.adapter_2.proj.0.weight', 'model.transformer.blocks.1.adapter_2.proj.0.bias', 'model.transformer.blocks.1.adapter_2.proj.2.weight', 'model.transformer.blocks.1.adapter_2.proj.2.bias', 'model.transformer.blocks.2.adapter_1.proj.0.weight', 'model.transformer.blocks.2.adapter_1.proj.0.bias', 'model.transformer.blocks.2.adapter_1.proj.2.weight', 'model.transformer.blocks.2.adapter_1.proj.2.bias', 'model.transformer.blocks.2.adapter_2.proj.0.weight', 'model.transformer.blocks.2.adapter_2.proj.0.bias', 'model.transformer.blocks.2.adapter_2.proj.2.weight', 'model.transformer.blocks.2.adapter_2.proj.2.bias', 'model.transformer.blocks.3.adapter_1.proj.0.weight', 'model.transformer.blocks.3.adapter_1.proj.0.bias', 'model.transformer.blocks.3.adapter_1.proj.2.weight', 'model.transformer.blocks.3.adapter_1.proj.2.bias', 'model.transformer.blocks.3.adapter_2.proj.0.weight', 'model.transformer.blocks.3.adapter_2.proj.0.bias', 'model.transformer.blocks.3.adapter_2.proj.2.weight', 'model.transformer.blocks.3.adapter_2.proj.2.bias', 'model.transformer.blocks.4.adapter_1.proj.0.weight', 'model.transformer.blocks.4.adapter_1.proj.0.bias', 'model.transformer.blocks.4.adapter_1.proj.2.weight', 'model.transformer.blocks.4.adapter_1.proj.2.bias', 'model.transformer.blocks.4.adapter_2.proj.0.weight', 'model.transformer.blocks.4.adapter_2.proj.0.bias', 'model.transformer.blocks.4.adapter_2.proj.2.weight', 'model.transformer.blocks.4.adapter_2.proj.2.bias', 'model.transformer.blocks.5.adapter_1.proj.0.weight', 'model.transformer.blocks.5.adapter_1.proj.0.bias', 'model.transformer.blocks.5.adapter_1.proj.2.weight', 'model.transformer.blocks.5.adapter_1.proj.2.bias', 'model.transformer.blocks.5.adapter_2.proj.0.weight', 'model.transformer.blocks.5.adapter_2.proj.0.bias', 'model.transformer.blocks.5.adapter_2.proj.2.weight', 'model.transformer.blocks.5.adapter_2.proj.2.bias', 'surv_layer.sr_ode.pinet.mapping.0.weight', 'surv_layer.sr_ode.pinet.mapping.0.bias', 'surv_layer.sr_ode.pinet.mapping.2.weight', 'surv_layer.sr_ode.pinet.mapping.2.bias', 'surv_layer.sr_ode.pinet.mapping.4.weight', 'surv_layer.sr_ode.pinet.mapping.4.bias', 'surv_layer.sr_ode.odenet.u', 'surv_layer.sr_ode.odenet.w', 'surv_layer.sr_ode.odenet.BaseNet.mapping.0.weight', 'surv_layer.sr_ode.odenet.BaseNet.mapping.0.bias', 'surv_layer.sr_ode.odenet.BaseNet.mapping.2.weight', 'surv_layer.sr_ode.odenet.BaseNet.mapping.2.bias', 'surv_layer.sr_ode.odenet.BaseNet.mapping.4.weight', 'surv_layer.sr_ode.odenet.BaseNet.mapping.4.bias']\n",
      "GPU available: True (cuda), used: True\n",
      "TPU available: False, using: 0 TPU cores\n",
      "IPU available: False, using: 0 IPUs\n",
      "HPU available: False, using: 0 HPUs\n",
      "ERROR:wandb.jupyter:Failed to detect the name of this notebook, you can set it manually with the WANDB_NOTEBOOK_NAME environment variable to enable code saving.\n",
      "\u001b[34m\u001b[1mwandb\u001b[0m: Currently logged in as: \u001b[33mcwlgadd\u001b[0m. Use \u001b[1m`wandb login --relogin`\u001b[0m to force relogin\n"
     ]
    },
    {
     "data": {
      "text/html": [
       "wandb version 0.19.5 is available!  To upgrade, please run:\n",
       " $ pip install wandb --upgrade"
      ],
      "text/plain": [
       "<IPython.core.display.HTML object>"
      ]
     },
     "metadata": {},
     "output_type": "display_data"
    },
    {
     "data": {
      "text/html": [
       "Tracking run with wandb version 0.13.6"
      ],
      "text/plain": [
       "<IPython.core.display.HTML object>"
      ]
     },
     "metadata": {},
     "output_type": "display_data"
    },
    {
     "data": {
      "text/html": [
       "Run data is saved locally in <code>/rds/projects/s/subramaa-mum-predict/CharlesGadd_Oxford/FoundationModelOutput/wandb/run-20250204_153601-2mvmri8e</code>"
      ],
      "text/plain": [
       "<IPython.core.display.HTML object>"
      ]
     },
     "metadata": {},
     "output_type": "display_data"
    },
    {
     "data": {
      "text/html": [
       "Syncing run <strong><a href=\"https://wandb.ai/cwlgadd/SurvivEHR-Study1-CVD/runs/2mvmri8e\" target=\"_blank\">SurvivEHR-cr-small-v1_cvd-fine-tune-cr-A8-NsNone-500-notebook</a></strong> to <a href=\"https://wandb.ai/cwlgadd/SurvivEHR-Study1-CVD\" target=\"_blank\">Weights & Biases</a> (<a href=\"https://wandb.me/run\" target=\"_blank\">docs</a>)<br/>"
      ],
      "text/plain": [
       "<IPython.core.display.HTML object>"
      ]
     },
     "metadata": {},
     "output_type": "display_data"
    },
    {
     "name": "stderr",
     "output_type": "stream",
     "text": [
      "/rds/bear-apps/2022a/EL8-ice/software/PyTorch-Lightning/2.1.0-foss-2022a-CUDA-11.7.0/lib/python3.10/site-packages/pytorch_lightning/callbacks/model_checkpoint.py:630: Checkpoint directory /rds/projects/s/subramaa-mum-predict/CharlesGadd_Oxford/FoundationModelOutput/checkpoints exists and is not empty.\n",
      "LOCAL_RANK: 0 - CUDA_VISIBLE_DEVICES: [0]\n",
      "\n",
      "  | Name       | Type                            | Params\n",
      "---------------------------------------------------------------\n",
      "0 | model      | SurvStreamGPTForCausalModelling | 11.3 M\n",
      "1 | surv_layer | ODESurvCompetingRiskLayer       | 27.1 K\n",
      "---------------------------------------------------------------\n",
      "115 K     Trainable params\n",
      "11.2 M    Non-trainable params\n",
      "11.3 M    Total params\n",
      "45.268    Total estimated model params size (MB)\n",
      "SLURM auto-requeueing enabled. Setting signal handlers.\n"
     ]
    },
    {
     "data": {
      "application/vnd.jupyter.widget-view+json": {
       "model_id": "",
       "version_major": 2,
       "version_minor": 0
      },
      "text/plain": [
       "Sanity Checking: |          | 0/? [00:00<?, ?it/s]"
      ]
     },
     "metadata": {},
     "output_type": "display_data"
    },
    {
     "data": {
      "application/vnd.jupyter.widget-view+json": {
       "model_id": "239125fa1e7442eab70a876ca06744a9",
       "version_major": 2,
       "version_minor": 0
      },
      "text/plain": [
       "Training: |          | 0/? [00:00<?, ?it/s]"
      ]
     },
     "metadata": {},
     "output_type": "display_data"
    }
   ],
   "source": [
    "sample_sizes = [int(np.exp(_log_n)) for _log_n in np.linspace(np.log(3000), np.log(500000), 10)]      # [3000, 12500, 30000, 60000, 100000]: # 600, 1200, \n",
    "sample_sizes = [None]\n",
    "\n",
    "accumulate_grad_batches = 5\n",
    "\n",
    "\n",
    "for pre_trained_model in pre_trained_model_ids[1:2]:\n",
    "    print(pre_trained_model)\n",
    "\n",
    "    for experiment, experiment_type in zip(experiments, experiment_types):\n",
    "\n",
    "        for sample_size in sample_sizes:\n",
    "\n",
    "            wandb.finish()\n",
    "            # load the configuration file, override any settings \n",
    "            with initialize(version_base=None, config_path=\"../../../confs\", job_name=\"testing_notebook\"):\n",
    "                cfg = compose(config_name=\"config_CompetingRisk11M\", \n",
    "                              overrides=[# Experiment setup\n",
    "                                         f\"experiment.project_name='SurvivEHR-Study1-CVD'\",\n",
    "                                         f\"experiment.type='{experiment_type}'\",\n",
    "                                         f\"experiment.run_id='{pre_trained_model}'\",\n",
    "                                         f\"experiment.fine_tune_id='{experiment}-{experiment_type}-A{adapter}-Ns{sample_size}-500-notebook'\",\n",
    "                                         \"experiment.train=True\",\n",
    "                                         \"experiment.test=True\",\n",
    "                                         \"experiment.notes=Ablation on increasing cohort study size result\",\n",
    "                                         # Dataloader\n",
    "                                         \"data.batch_size=128\",\n",
    "                                         \"data.meta_information_path=/rds/projects/g/gokhalkm-optimal/OPTIMAL_MASTER_DATASET/data/FoundationalModel/PreTrain/meta_information_QuantJenny.pickle\",\n",
    "                                         \"data.min_workers=3\",\n",
    "                                         \"data.global_diagnoses=True\",\n",
    "                                         \"data.repeating_events=False\",\n",
    "                                         # f\"data.subsample_training={sample_size}\",\n",
    "                                         # Optimiser\n",
    "                                         \"optim.num_epochs=500\",\n",
    "                                         \"optim.limit_test_batches=null\",\n",
    "                                         \"optim.scheduler=ReduceOnPlateau\",\n",
    "                                         \"optim.scheduler_warmup=False\",\n",
    "                                         \"optim.learning_rate=1e-3\",\n",
    "                                         \"optim.val_check_interval=0.25\",\n",
    "                                         \"optim.early_stop=True\",\n",
    "                                         \"optim.early_stop_patience=4\",\n",
    "                                         \"optim.limit_val_batches=0.035\",\n",
    "                                         f\"optim.accumulate_grad_batches={accumulate_grad_batches}\",\n",
    "                                         # Model\n",
    "                                         # \"transformer.n_embd=384\",\n",
    "                                         f\"transformer.use_fine_tune_adapter={False if adapter is False else True}\",\n",
    "                                         f\"transformer.adapter_dim={8 if adapter is False else adapter}\",\n",
    "                                         \"transformer.block_size=500\", \n",
    "                                        ]\n",
    "                             )\n",
    "            \n",
    "            \n",
    "            match experiment.lower():\n",
    "                case \"cvd\":\n",
    "                    cfg.data.path_to_ds=\"/rds/projects/g/gokhalkm-optimal/OPTIMAL_MASTER_DATASET/data/FoundationalModel/FineTune_CVD/\"\n",
    "                    cfg.experiment.fine_tune_outcomes=[\"IHDINCLUDINGMI_OPTIMALV2\", \"ISCHAEMICSTROKE_V2\", \"MINFARCTION\", \"STROKEUNSPECIFIED_V2\", \"STROKE_HAEMRGIC\"]\n",
    "                case \"hypertension\":\n",
    "                    cfg.data.path_to_ds=\"/rds/projects/g/gokhalkm-optimal/OPTIMAL_MASTER_DATASET/data/FoundationalModel/FineTune_Hypertension/\"\n",
    "                    cfg.experiment.fine_tune_outcomes=[\"HYPERTENSION\"]\n",
    "            \n",
    "            \n",
    "            model, dm = run(cfg)\n",
    "            print(f\"Loaded model with {sum(p.numel() for p in model.parameters())/1e6} M parameters\")\n",
    "            wandb.finish()\n"
   ]
  },
  {
   "cell_type": "code",
   "execution_count": null,
   "id": "a25b2aed-68b9-49b1-a804-2420199947a8",
   "metadata": {},
   "outputs": [],
   "source": [
    "wandb.finish()"
   ]
  },
  {
   "cell_type": "code",
   "execution_count": null,
   "id": "d1b4322e-5fa7-4079-8439-ca79cd6d1674",
   "metadata": {},
   "outputs": [],
   "source": [
    "dm.tokenizer._event_counts"
   ]
  },
  {
   "cell_type": "code",
   "execution_count": null,
   "id": "6184dc1d-6429-40cb-941a-5b21db8b8ce2",
   "metadata": {},
   "outputs": [],
   "source": [
    "all_CVD = {\n",
    "    \"SurvivEHR-cr-small-v1\": (\n",
    "        \"SurvivEHR-CR\",\n",
    "        [2999, 5296, 9351, 16509, 29148, 51461, 90856, 160407, 283203, 500000]],\n",
    "        [0.6270919442176819],\n",
    "        [0.03389651543792928],\n",
    "        [0.14657540914939907]\n",
    "        ),\n",
    "    \n",
    "}\n",
    "\n"
   ]
  }
 ],
 "metadata": {
  "kernelspec": {
   "display_name": "Python",
   "language": "python",
   "name": "sys_python"
  },
  "language_info": {
   "codemirror_mode": {
    "name": "ipython",
    "version": 3
   },
   "file_extension": ".py",
   "mimetype": "text/x-python",
   "name": "python",
   "nbconvert_exporter": "python",
   "pygments_lexer": "ipython3",
   "version": "3.10.4"
  }
 },
 "nbformat": 4,
 "nbformat_minor": 5
}
