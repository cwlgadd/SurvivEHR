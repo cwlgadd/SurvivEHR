{
 "cells": [
  {
   "cell_type": "code",
   "execution_count": 1,
   "id": "a410195d-71b3-4481-818b-3e78e493b28f",
   "metadata": {},
   "outputs": [
    {
     "name": "stdout",
     "output_type": "stream",
     "text": [
      "Added path '/rds/homes/g/gaddcz/Projects/CPRD/virtual-envTorch2.0-icelake/lib/python3.10/site-packages' at start of search paths.\n",
      "/rds/homes/g/gaddcz/Projects/CPRD/examples/modelling/SurvivEHR/notebooks/CompetingRisk/1_Study3_MultiMorbidity\n"
     ]
    }
   ],
   "source": [
    "import os\n",
    "from pathlib import Path\n",
    "import sys\n",
    "node_type = os.getenv('BB_CPU')\n",
    "venv_dir = f'/rds/homes/g/gaddcz/Projects/CPRD/virtual-envTorch2.0-{node_type}'\n",
    "venv_site_pkgs = Path(venv_dir) / 'lib' / f'python{sys.version_info.major}.{sys.version_info.minor}' / 'site-packages'\n",
    "if venv_site_pkgs.exists():\n",
    "    sys.path.insert(0, str(venv_site_pkgs))\n",
    "    print(f\"Added path '{venv_site_pkgs}' at start of search paths.\")\n",
    "else:\n",
    "    print(f\"Path '{venv_site_pkgs}' not found. Check that it exists and/or that it exists for node-type '{node_type}'.\")\n",
    "\n",
    "%load_ext autoreload\n",
    "%autoreload 2\n",
    "\n",
    "print(os.getcwd())"
   ]
  },
  {
   "cell_type": "code",
   "execution_count": 2,
   "id": "5130aaa1-fb24-4851-912e-016d22947175",
   "metadata": {},
   "outputs": [],
   "source": [
    "# from FastEHR.dataloader import *\n",
    "import FastEHR\n",
    "from FastEHR.dataloader import FoundationalDataModule"
   ]
  },
  {
   "cell_type": "code",
   "execution_count": 3,
   "id": "337a61e9-e3a8-4292-9ac8-6f7ef617fea3",
   "metadata": {},
   "outputs": [
    {
     "name": "stdout",
     "output_type": "stream",
     "text": [
      "env: SLURM_NTASKS_PER_NODE=28\n"
     ]
    }
   ],
   "source": [
    "import torch\n",
    "import numpy as np\n",
    "import matplotlib.pyplot as plt\n",
    "import logging\n",
    "import wandb\n",
    "import pickle\n",
    "from hydra import compose, initialize\n",
    "from omegaconf import OmegaConf\n",
    "\n",
    "from FastEHR.dataloader import FoundationalDataModule\n",
    "\n",
    "from CPRD.examples.modelling.SurvivEHR.run_experiment import run\n",
    "from CPRD.src.models.survival.task_heads.causal import SurvStreamGPTForCausalModelling\n",
    "\n",
    "import time\n",
    "import polars as pl\n",
    "pl.Config.set_tbl_rows(10000)\n",
    "import pandas as pd\n",
    "pd.options.display.max_rows = 10000\n",
    "\n",
    "\n",
    "# TODO: define an env variable to fix for a local hpc environment issue, this shouldn't be needed\n",
    "%env SLURM_NTASKS_PER_NODE=28   "
   ]
  },
  {
   "cell_type": "markdown",
   "id": "7f660d5a-e697-4b1e-93f6-dffaa3d8986e",
   "metadata": {},
   "source": [
    "# ctd = 0.7236599922180176\n",
    "# ibs = 0.1104101305535031\n",
    "# inbll = 0.34205402945594054\n",
    "plt.close()\n",
    "\n",
    "current_diagnoses = [0,1,2,3,4,5,6,7,8,9,10]\n",
    "RMST = [0.7974921060097665,\n",
    "        0.7807423914145325 , \n",
    "        0.762604199063575,\n",
    "        0.7455309041315031,\n",
    "        0.7312270840661624,\n",
    "        0.7175176664645307,\n",
    "        0.7032747673275282,\n",
    "        0.6926341798480199,\n",
    "        0.6706015073433462,\n",
    "        0.6625103828978652,\n",
    "        0.6440878911760254]\n",
    "\n",
    "\n",
    "\n",
    "│     Test:RMST_0 current diagnoses      │           0.7974921060097665           │\n",
    "│     Test:RMST_1 current diagnosis      │           0.7807423914145325           │\n",
    "│     Test:RMST_2 current diagnoses      │           0.762604199063575            │\n",
    "│     Test:RMST_3 current diagnoses      │           0.7455309041315031           │\n",
    "│     Test:RMST_4 current diagnoses      │           0.7312270840661624           │\n",
    "│     Test:RMST_5 current diagnoses      │           0.7175176664645307           │\n",
    "│     Test:RMST_6 current diagnoses      │           0.7032747673275282           │\n",
    "│     Test:RMST_7 current diagnoses      │           0.6926341798480199           │\n",
    "│     Test:RMST_8 current diagnoses      │           0.6706015073433462           │\n",
    "│     Test:RMST_9 current diagnoses      │           0.6625103828978652           │\n",
    "│     Test:RMST_10 current diagnoses     │           0.6440878911760254           │\n",
    "\n",
    "obs_MST = [0.8193886293519516,\n",
    "           0.8064669470307623,\n",
    "           0.7976435723488524,\n",
    "           0.7816793664656079,\n",
    "           0.7664040945019838,\n",
    "           0.7629594680202728,\n",
    "           0.7317382655329833,\n",
    "           0.726904411096962,\n",
    "           0.7239051935624105,\n",
    "           0.632658596392031,\n",
    "           0.7027527945382255]\n",
    "\n",
    "\n",
    "│ observedTest:RMST_0 current diagnoses  │           0.8193886293519516           │\n",
    "│ observedTest:RMST_1 current diagnosis  │           0.8064669470307623           │\n",
    "│ observedTest:RMST_2 current diagnoses  │           0.7976435723488524           │\n",
    "│ observedTest:RMST_3 current diagnoses  │           0.7816793664656079           │\n",
    "│ observedTest:RMST_4 current diagnoses  │           0.7664040945019838           │\n",
    "│ observedTest:RMST_5 current diagnoses  │           0.7629594680202728           │\n",
    "│ observedTest:RMST_6 current diagnoses  │           0.7317382655329833           │\n",
    "│ observedTest:RMST_7 current diagnoses  │           0.726904411096962            │\n",
    "│ observedTest:RMST_8 current diagnoses  │           0.7239051935624105           │\n",
    "│ observedTest:RMST_9 current diagnoses  │           0.632658596392031            │\n",
    "│ observedTest:RMST_10 current diagnoses │           0.7027527945382255           │\n",
    "\n",
    "│               test_loss                │           0.7400515079498291           │\n",
    "\n",
    "plt.plot(current_diagnoses[:8], RMST[:8], label=\"SurvivEHR\")\n",
    "plt.plot(current_diagnoses[:8], obs_MST[:8], label=\"Observed\", color='k')\n",
    "plt.xlabel(f\"Number of prior diagnoses\")\n",
    "plt.ylabel(f\"Predicted RMST\")\n",
    "plt.legend()\n",
    "plt.savefig(\"SurvivEHR.png\")"
   ]
  },
  {
   "cell_type": "code",
   "execution_count": null,
   "id": "b9469a59-59ca-48ee-91db-dececb30ebcc",
   "metadata": {},
   "outputs": [],
   "source": []
  },
  {
   "cell_type": "code",
   "execution_count": null,
   "id": "6abb06ae-1fb0-410c-88f8-f1b5d93fc0c2",
   "metadata": {},
   "outputs": [],
   "source": []
  }
 ],
 "metadata": {
  "kernelspec": {
   "display_name": "Python",
   "language": "python",
   "name": "sys_python"
  },
  "language_info": {
   "codemirror_mode": {
    "name": "ipython",
    "version": 3
   },
   "file_extension": ".py",
   "mimetype": "text/x-python",
   "name": "python",
   "nbconvert_exporter": "python",
   "pygments_lexer": "ipython3",
   "version": "3.10.4"
  }
 },
 "nbformat": 4,
 "nbformat_minor": 5
}
