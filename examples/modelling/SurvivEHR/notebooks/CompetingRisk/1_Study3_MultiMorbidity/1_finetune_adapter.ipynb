{
 "cells": [
  {
   "cell_type": "markdown",
   "id": "4921342e-8ff8-45d4-b1f6-9fe480c2ee1d",
   "metadata": {},
   "source": [
    "# CPRD Notebook:\n",
    "## Evaluation of fine-tuning the pre-trained SurvivEHR-CR model on a supervised cohort study.\n",
    "\n",
    "Cohort study:\n",
    "\n",
    "This notebook quantifies the performance obtained when fine-tuning the pre-trained model"
   ]
  },
  {
   "cell_type": "code",
   "execution_count": 1,
   "id": "a671c59b-4428-4e63-a138-7244418a87c5",
   "metadata": {},
   "outputs": [
    {
     "name": "stdout",
     "output_type": "stream",
     "text": [
      "Added path '/rds/homes/g/gaddcz/Projects/CPRD/virtual-envTorch2.0-icelake/lib/python3.10/site-packages' at start of search paths.\n",
      "/rds/homes/g/gaddcz/Projects/CPRD/examples/modelling/SurvivEHR/notebooks/CompetingRisk/1_Study3_MultiMorbidity\n"
     ]
    }
   ],
   "source": [
    "import os\n",
    "from pathlib import Path\n",
    "import sys\n",
    "node_type = os.getenv('BB_CPU')\n",
    "venv_dir = f'/rds/homes/g/gaddcz/Projects/CPRD/virtual-envTorch2.0-{node_type}'\n",
    "venv_site_pkgs = Path(venv_dir) / 'lib' / f'python{sys.version_info.major}.{sys.version_info.minor}' / 'site-packages'\n",
    "if venv_site_pkgs.exists():\n",
    "    sys.path.insert(0, str(venv_site_pkgs))\n",
    "    print(f\"Added path '{venv_site_pkgs}' at start of search paths.\")\n",
    "else:\n",
    "    print(f\"Path '{venv_site_pkgs}' not found. Check that it exists and/or that it exists for node-type '{node_type}'.\")\n",
    "\n",
    "%load_ext autoreload\n",
    "%autoreload 2\n",
    "\n",
    "print(os.getcwd())"
   ]
  },
  {
   "cell_type": "code",
   "execution_count": 2,
   "id": "d866c7f0-eaa8-4129-b3b1-d4d6b504d0a7",
   "metadata": {},
   "outputs": [
    {
     "name": "stdout",
     "output_type": "stream",
     "text": [
      "env: SLURM_NTASKS_PER_NODE=28\n"
     ]
    }
   ],
   "source": [
    "import torch\n",
    "import numpy as np\n",
    "import matplotlib.pyplot as plt\n",
    "import logging\n",
    "import wandb\n",
    "import pickle\n",
    "from hydra import compose, initialize\n",
    "from omegaconf import OmegaConf\n",
    "\n",
    "from FastEHR.dataloader.foundational_loader import FoundationalDataModule\n",
    "\n",
    "from CPRD.examples.modelling.SurvivEHR.run_experiment import run\n",
    "from CPRD.src.models.survival.task_heads.causal import SurvStreamGPTForCausalModelling\n",
    "\n",
    "import time\n",
    "import polars as pl\n",
    "pl.Config.set_tbl_rows(10000)\n",
    "import pandas as pd\n",
    "pd.options.display.max_rows = 10000\n",
    "\n",
    "\n",
    "# TODO: define an env variable to fix for a local hpc environment issue, this shouldn't be needed\n",
    "%env SLURM_NTASKS_PER_NODE=28   "
   ]
  },
  {
   "cell_type": "markdown",
   "id": "b9c237f8-679a-4fe4-a570-2c8c7b61da9b",
   "metadata": {},
   "source": [
    "# Fine-tuning on full dataset\n",
    "The default configuration is for pre-training. Here we modify as necesssary\n",
    "\n",
    "Here we choose to load in the configuration for a small **pre-trained** 11.4M parameter model, named \"CR_11M\". We specfiy the `fine-tune` experiment type, which will lead to running the ```SupervisedExperiment```. \n",
    "\n",
    "We tell this experiment that we want to perform training (true by default). Additionally, we do choose to perform testing (true by default). As this is a supervised model, this tests the ability to predict the outcomes of interest. In this notebook, this is chosen to be those of the cohort study for predicting Cardiovascular Disease in a Type 2 Diabetes Mellitus population, and we add the folder containing this dataset to the configuration. \n",
    "\n",
    "```Note: As this is a supervised dataset, we need to tell the DataModule that the last event observed is a target and must be stripped. This is done by passing a list of targets to the configuration, overriding the null default. This lets the DataModule know that it should process batches as supervised.```\n",
    "\n",
    "We set the number of workers to be appropriate for the number of CPUs available to reduce bottlenecking, and tell the experiment that we do not want to limit the number of testing batches. In addition, we specify where we want any checkpoints to be saved to avoid bloating the repository.\n",
    "\n",
    "We design a new optimisation strategy for fine-tuning. Pre-training was achieved with a warmup and cosine annealing, with rates which are no appropriate for much smaller dataset sizes seen in clinical prediction models (CPMs). We here choose a simpler strategy: of ReduceOnPlateau with no warmup, increasing the number of epochs (default is 1) and reduced validation intervals, and the addition of early stopping. Additionally, as this is not a causal model we can increase the batch size. Finally, as this CPM is not trying to predict the value of any outcomes, we set the value weight to zero allowing the model to focus entirely on optimising survival outcome prediction."
   ]
  },
  {
   "cell_type": "code",
   "execution_count": 5,
   "id": "c2e42878-b97d-4cba-a4c9-d35f745a1eb0",
   "metadata": {},
   "outputs": [],
   "source": [
    "pre_trained_model_ids = ['SurvivEHR-cr-small', 'SurvivEHR-cr-small-v1', 'SurvivEHR-cr-384', 'SurvivEHR-cr-384-v1', 'crPreTrain_small_1337']\n",
    "experiments = [\"mm\"] \n",
    "experiment_types = [ \"fine-tune-cr\"] \n",
    "adapter = 8"
   ]
  },
  {
   "cell_type": "markdown",
   "id": "fab6b791-c60c-4989-896d-420e4ba6ab4e",
   "metadata": {},
   "source": [
    "## Get outcome list"
   ]
  },
  {
   "cell_type": "code",
   "execution_count": 9,
   "id": "c662c49b-6a1d-4a35-82dc-f00c77d0cfe9",
   "metadata": {},
   "outputs": [
    {
     "name": "stdout",
     "output_type": "stream",
     "text": [
      "SurvivEHR-cr-small-v1\n"
     ]
    },
    {
     "name": "stderr",
     "output_type": "stream",
     "text": [
      "/rds/bear-apps/2022a/EL8-ice/software/PyTorch-Lightning/2.1.0-foss-2022a-CUDA-11.7.0/lib/python3.10/site-packages/pytorch_lightning/core/saving.py:173: Found keys that are in the model state dict but not in the checkpoint: ['model.transformer.blocks.0.adapter_1.proj.0.weight', 'model.transformer.blocks.0.adapter_1.proj.0.bias', 'model.transformer.blocks.0.adapter_1.proj.2.weight', 'model.transformer.blocks.0.adapter_1.proj.2.bias', 'model.transformer.blocks.0.adapter_2.proj.0.weight', 'model.transformer.blocks.0.adapter_2.proj.0.bias', 'model.transformer.blocks.0.adapter_2.proj.2.weight', 'model.transformer.blocks.0.adapter_2.proj.2.bias', 'model.transformer.blocks.1.adapter_1.proj.0.weight', 'model.transformer.blocks.1.adapter_1.proj.0.bias', 'model.transformer.blocks.1.adapter_1.proj.2.weight', 'model.transformer.blocks.1.adapter_1.proj.2.bias', 'model.transformer.blocks.1.adapter_2.proj.0.weight', 'model.transformer.blocks.1.adapter_2.proj.0.bias', 'model.transformer.blocks.1.adapter_2.proj.2.weight', 'model.transformer.blocks.1.adapter_2.proj.2.bias', 'model.transformer.blocks.2.adapter_1.proj.0.weight', 'model.transformer.blocks.2.adapter_1.proj.0.bias', 'model.transformer.blocks.2.adapter_1.proj.2.weight', 'model.transformer.blocks.2.adapter_1.proj.2.bias', 'model.transformer.blocks.2.adapter_2.proj.0.weight', 'model.transformer.blocks.2.adapter_2.proj.0.bias', 'model.transformer.blocks.2.adapter_2.proj.2.weight', 'model.transformer.blocks.2.adapter_2.proj.2.bias', 'model.transformer.blocks.3.adapter_1.proj.0.weight', 'model.transformer.blocks.3.adapter_1.proj.0.bias', 'model.transformer.blocks.3.adapter_1.proj.2.weight', 'model.transformer.blocks.3.adapter_1.proj.2.bias', 'model.transformer.blocks.3.adapter_2.proj.0.weight', 'model.transformer.blocks.3.adapter_2.proj.0.bias', 'model.transformer.blocks.3.adapter_2.proj.2.weight', 'model.transformer.blocks.3.adapter_2.proj.2.bias', 'model.transformer.blocks.4.adapter_1.proj.0.weight', 'model.transformer.blocks.4.adapter_1.proj.0.bias', 'model.transformer.blocks.4.adapter_1.proj.2.weight', 'model.transformer.blocks.4.adapter_1.proj.2.bias', 'model.transformer.blocks.4.adapter_2.proj.0.weight', 'model.transformer.blocks.4.adapter_2.proj.0.bias', 'model.transformer.blocks.4.adapter_2.proj.2.weight', 'model.transformer.blocks.4.adapter_2.proj.2.bias', 'model.transformer.blocks.5.adapter_1.proj.0.weight', 'model.transformer.blocks.5.adapter_1.proj.0.bias', 'model.transformer.blocks.5.adapter_1.proj.2.weight', 'model.transformer.blocks.5.adapter_1.proj.2.bias', 'model.transformer.blocks.5.adapter_2.proj.0.weight', 'model.transformer.blocks.5.adapter_2.proj.0.bias', 'model.transformer.blocks.5.adapter_2.proj.2.weight', 'model.transformer.blocks.5.adapter_2.proj.2.bias', 'surv_layer.sr_ode.pinet.mapping.0.weight', 'surv_layer.sr_ode.pinet.mapping.0.bias', 'surv_layer.sr_ode.pinet.mapping.2.weight', 'surv_layer.sr_ode.pinet.mapping.2.bias', 'surv_layer.sr_ode.pinet.mapping.4.weight', 'surv_layer.sr_ode.pinet.mapping.4.bias', 'surv_layer.sr_ode.odenet.u', 'surv_layer.sr_ode.odenet.w', 'surv_layer.sr_ode.odenet.BaseNet.mapping.0.weight', 'surv_layer.sr_ode.odenet.BaseNet.mapping.0.bias', 'surv_layer.sr_ode.odenet.BaseNet.mapping.2.weight', 'surv_layer.sr_ode.odenet.BaseNet.mapping.2.bias', 'surv_layer.sr_ode.odenet.BaseNet.mapping.4.weight', 'surv_layer.sr_ode.odenet.BaseNet.mapping.4.bias']\n",
      "GPU available: True (cuda), used: True\n",
      "TPU available: False, using: 0 TPU cores\n",
      "IPU available: False, using: 0 IPUs\n",
      "HPU available: False, using: 0 HPUs\n"
     ]
    },
    {
     "data": {
      "text/html": [
       "wandb version 0.19.6 is available!  To upgrade, please run:\n",
       " $ pip install wandb --upgrade"
      ],
      "text/plain": [
       "<IPython.core.display.HTML object>"
      ]
     },
     "metadata": {},
     "output_type": "display_data"
    },
    {
     "data": {
      "text/html": [
       "Tracking run with wandb version 0.13.6"
      ],
      "text/plain": [
       "<IPython.core.display.HTML object>"
      ]
     },
     "metadata": {},
     "output_type": "display_data"
    },
    {
     "data": {
      "text/html": [
       "Run data is saved locally in <code>/rds/projects/s/subramaa-mum-predict/CharlesGadd_Oxford/FoundationModelOutput/wandb/run-20250205_161227-ton64b5l</code>"
      ],
      "text/plain": [
       "<IPython.core.display.HTML object>"
      ]
     },
     "metadata": {},
     "output_type": "display_data"
    },
    {
     "data": {
      "text/html": [
       "Syncing run <strong><a href=\"https://wandb.ai/cwlgadd/SurvivEHR-Study3-MM/runs/ton64b5l\" target=\"_blank\">SurvivEHR-cr-small-v1_mm-fine-tune-cr-A8-notebook</a></strong> to <a href=\"https://wandb.ai/cwlgadd/SurvivEHR-Study3-MM\" target=\"_blank\">Weights & Biases</a> (<a href=\"https://wandb.me/run\" target=\"_blank\">docs</a>)<br/>"
      ],
      "text/plain": [
       "<IPython.core.display.HTML object>"
      ]
     },
     "metadata": {},
     "output_type": "display_data"
    },
    {
     "name": "stderr",
     "output_type": "stream",
     "text": [
      "/rds/bear-apps/2022a/EL8-ice/software/PyTorch-Lightning/2.1.0-foss-2022a-CUDA-11.7.0/lib/python3.10/site-packages/pytorch_lightning/callbacks/model_checkpoint.py:630: Checkpoint directory /rds/projects/s/subramaa-mum-predict/CharlesGadd_Oxford/FoundationModelOutput/checkpoints exists and is not empty.\n",
      "LOCAL_RANK: 0 - CUDA_VISIBLE_DEVICES: [0]\n",
      "\n",
      "  | Name       | Type                            | Params\n",
      "---------------------------------------------------------------\n",
      "0 | model      | SurvStreamGPTForCausalModelling | 11.3 M\n",
      "1 | surv_layer | ODESurvCompetingRiskLayer       | 31.7 K\n",
      "---------------------------------------------------------------\n",
      "120 K     Trainable params\n",
      "11.2 M    Non-trainable params\n",
      "11.3 M    Total params\n",
      "45.286    Total estimated model params size (MB)\n",
      "SLURM auto-requeueing enabled. Setting signal handlers.\n"
     ]
    },
    {
     "data": {
      "application/vnd.jupyter.widget-view+json": {
       "model_id": "",
       "version_major": 2,
       "version_minor": 0
      },
      "text/plain": [
       "Sanity Checking: |          | 0/? [00:00<?, ?it/s]"
      ]
     },
     "metadata": {},
     "output_type": "display_data"
    },
    {
     "data": {
      "application/vnd.jupyter.widget-view+json": {
       "model_id": "82624f9f77034219b3c10fd02f419dd6",
       "version_major": 2,
       "version_minor": 0
      },
      "text/plain": [
       "Training: |          | 0/? [00:00<?, ?it/s]"
      ]
     },
     "metadata": {},
     "output_type": "display_data"
    },
    {
     "name": "stderr",
     "output_type": "stream",
     "text": [
      "WARNING:root:Fine-tuning batch has 1 samples without at least two events.\n",
      "WARNING:root:\tContinuing by removing singular samples, but these should be removed from the dataset.\n",
      "                                    \t\t Bad sample tokens: tensor([[260,   0,   0,   0,   0]])\n",
      "                                    \t\t and corresponding ages tensor([[14.0833,  0.0000,  0.0000,  0.0000,  0.0000]])\n"
     ]
    },
    {
     "data": {
      "application/vnd.jupyter.widget-view+json": {
       "model_id": "",
       "version_major": 2,
       "version_minor": 0
      },
      "text/plain": [
       "Validation: |          | 0/? [00:00<?, ?it/s]"
      ]
     },
     "metadata": {},
     "output_type": "display_data"
    },
    {
     "name": "stderr",
     "output_type": "stream",
     "text": [
      "Metric val_loss improved. New best score: 3.152\n",
      "Epoch 0, global step 12: 'val_loss' reached 3.15236 (best 3.15236), saving model to '/rds/projects/s/subramaa-mum-predict/CharlesGadd_Oxford/FoundationModelOutput/checkpoints/SurvivEHR-cr-small-v1_mm-fine-tune-cr-A8-notebook.ckpt' as top 1\n",
      "WARNING:root:Fine-tuning batch has 1 samples without at least two events.\n",
      "WARNING:root:\tContinuing by removing singular samples, but these should be removed from the dataset.\n",
      "                                    \t\t Bad sample tokens: tensor([[184,   0,   0,   0,   0]])\n",
      "                                    \t\t and corresponding ages tensor([[12.1134,  0.0000,  0.0000,  0.0000,  0.0000]])\n"
     ]
    },
    {
     "data": {
      "application/vnd.jupyter.widget-view+json": {
       "model_id": "",
       "version_major": 2,
       "version_minor": 0
      },
      "text/plain": [
       "Validation: |          | 0/? [00:00<?, ?it/s]"
      ]
     },
     "metadata": {},
     "output_type": "display_data"
    },
    {
     "name": "stderr",
     "output_type": "stream",
     "text": [
      "Metric val_loss improved by 0.189 >= min_delta = 0. New best score: 2.963\n",
      "Epoch 0, global step 25: 'val_loss' reached 2.96288 (best 2.96288), saving model to '/rds/projects/s/subramaa-mum-predict/CharlesGadd_Oxford/FoundationModelOutput/checkpoints/SurvivEHR-cr-small-v1_mm-fine-tune-cr-A8-notebook.ckpt' as top 1\n",
      "WARNING:root:Fine-tuning batch has 1 samples without at least two events.\n",
      "WARNING:root:\tContinuing by removing singular samples, but these should be removed from the dataset.\n",
      "                                    \t\t Bad sample tokens: tensor([[184,   0,   0,   0,   0]])\n",
      "                                    \t\t and corresponding ages tensor([[12.1134,  0.0000,  0.0000,  0.0000,  0.0000]])\n",
      "WARNING:root:Fine-tuning batch has 1 samples without at least two events.\n",
      "WARNING:root:\tContinuing by removing singular samples, but these should be removed from the dataset.\n",
      "                                    \t\t Bad sample tokens: tensor([[260,   0,   0,   0,   0]])\n",
      "                                    \t\t and corresponding ages tensor([[12.7600,  0.0000,  0.0000,  0.0000,  0.0000]])\n",
      "WARNING:root:Fine-tuning batch has 1 samples without at least two events.\n",
      "WARNING:root:\tContinuing by removing singular samples, but these should be removed from the dataset.\n",
      "                                    \t\t Bad sample tokens: tensor([[217,   0,   0,   0,   0]])\n",
      "                                    \t\t and corresponding ages tensor([[11.5375,  0.0000,  0.0000,  0.0000,  0.0000]])\n",
      "WARNING:root:Fine-tuning batch has 1 samples without at least two events.\n",
      "WARNING:root:\tContinuing by removing singular samples, but these should be removed from the dataset.\n",
      "                                    \t\t Bad sample tokens: tensor([[207,   0,   0,   0,   0]])\n",
      "                                    \t\t and corresponding ages tensor([[10.4170,  0.0000,  0.0000,  0.0000,  0.0000]])\n"
     ]
    },
    {
     "data": {
      "application/vnd.jupyter.widget-view+json": {
       "model_id": "",
       "version_major": 2,
       "version_minor": 0
      },
      "text/plain": [
       "Validation: |          | 0/? [00:00<?, ?it/s]"
      ]
     },
     "metadata": {},
     "output_type": "display_data"
    },
    {
     "name": "stderr",
     "output_type": "stream",
     "text": [
      "Metric val_loss improved by 0.111 >= min_delta = 0. New best score: 2.852\n",
      "Epoch 0, global step 37: 'val_loss' reached 2.85193 (best 2.85193), saving model to '/rds/projects/s/subramaa-mum-predict/CharlesGadd_Oxford/FoundationModelOutput/checkpoints/SurvivEHR-cr-small-v1_mm-fine-tune-cr-A8-notebook.ckpt' as top 1\n",
      "WARNING:root:Fine-tuning batch has 1 samples without at least two events.\n",
      "WARNING:root:\tContinuing by removing singular samples, but these should be removed from the dataset.\n",
      "                                    \t\t Bad sample tokens: tensor([[184,   0,   0,   0,   0]])\n",
      "                                    \t\t and corresponding ages tensor([[12.1134,  0.0000,  0.0000,  0.0000,  0.0000]])\n",
      "WARNING:root:Fine-tuning batch has 1 samples without at least two events.\n",
      "WARNING:root:\tContinuing by removing singular samples, but these should be removed from the dataset.\n",
      "                                    \t\t Bad sample tokens: tensor([[215,   0,   0,   0,   0]])\n",
      "                                    \t\t and corresponding ages tensor([[11.8285,  0.0000,  0.0000,  0.0000,  0.0000]])\n",
      "WARNING:root:Fine-tuning batch has 1 samples without at least two events.\n",
      "WARNING:root:\tContinuing by removing singular samples, but these should be removed from the dataset.\n",
      "                                    \t\t Bad sample tokens: tensor([[260,   0,   0,   0,   0]])\n",
      "                                    \t\t and corresponding ages tensor([[11.5233,  0.0000,  0.0000,  0.0000,  0.0000]])\n",
      "WARNING:root:Fine-tuning batch has 1 samples without at least two events.\n",
      "WARNING:root:\tContinuing by removing singular samples, but these should be removed from the dataset.\n",
      "                                    \t\t Bad sample tokens: tensor([[255,   0,   0,   0,   0]])\n",
      "                                    \t\t and corresponding ages tensor([[13.9501,  0.0000,  0.0000,  0.0000,  0.0000]])\n"
     ]
    },
    {
     "data": {
      "application/vnd.jupyter.widget-view+json": {
       "model_id": "",
       "version_major": 2,
       "version_minor": 0
      },
      "text/plain": [
       "Validation: |          | 0/? [00:00<?, ?it/s]"
      ]
     },
     "metadata": {},
     "output_type": "display_data"
    },
    {
     "name": "stderr",
     "output_type": "stream",
     "text": [
      "Metric val_loss improved by 0.066 >= min_delta = 0. New best score: 2.786\n",
      "Epoch 0, global step 50: 'val_loss' reached 2.78634 (best 2.78634), saving model to '/rds/projects/s/subramaa-mum-predict/CharlesGadd_Oxford/FoundationModelOutput/checkpoints/SurvivEHR-cr-small-v1_mm-fine-tune-cr-A8-notebook.ckpt' as top 1\n",
      "WARNING:root:Fine-tuning batch has 1 samples without at least two events.\n",
      "WARNING:root:\tContinuing by removing singular samples, but these should be removed from the dataset.\n",
      "                                    \t\t Bad sample tokens: tensor([[184,   0,   0,   0,   0]])\n",
      "                                    \t\t and corresponding ages tensor([[12.1134,  0.0000,  0.0000,  0.0000,  0.0000]])\n",
      "WARNING:root:Fine-tuning batch has 1 samples without at least two events.\n",
      "WARNING:root:\tContinuing by removing singular samples, but these should be removed from the dataset.\n",
      "                                    \t\t Bad sample tokens: tensor([[184,   0,   0,   0,   0]])\n",
      "                                    \t\t and corresponding ages tensor([[10.2121,  0.0000,  0.0000,  0.0000,  0.0000]])\n",
      "WARNING:root:Fine-tuning batch has 1 samples without at least two events.\n",
      "WARNING:root:\tContinuing by removing singular samples, but these should be removed from the dataset.\n",
      "                                    \t\t Bad sample tokens: tensor([[217,   0,   0,   0,   0]])\n",
      "                                    \t\t and corresponding ages tensor([[10.3375,  0.0000,  0.0000,  0.0000,  0.0000]])\n"
     ]
    },
    {
     "data": {
      "application/vnd.jupyter.widget-view+json": {
       "model_id": "",
       "version_major": 2,
       "version_minor": 0
      },
      "text/plain": [
       "Validation: |          | 0/? [00:00<?, ?it/s]"
      ]
     },
     "metadata": {},
     "output_type": "display_data"
    },
    {
     "name": "stderr",
     "output_type": "stream",
     "text": [
      "Metric val_loss improved by 0.020 >= min_delta = 0. New best score: 2.767\n",
      "Epoch 0, global step 62: 'val_loss' reached 2.76654 (best 2.76654), saving model to '/rds/projects/s/subramaa-mum-predict/CharlesGadd_Oxford/FoundationModelOutput/checkpoints/SurvivEHR-cr-small-v1_mm-fine-tune-cr-A8-notebook.ckpt' as top 1\n",
      "WARNING:root:Fine-tuning batch has 1 samples without at least two events.\n",
      "WARNING:root:\tContinuing by removing singular samples, but these should be removed from the dataset.\n",
      "                                    \t\t Bad sample tokens: tensor([[184,   0,   0,   0,   0]])\n",
      "                                    \t\t and corresponding ages tensor([[12.1134,  0.0000,  0.0000,  0.0000,  0.0000]])\n",
      "WARNING:root:Fine-tuning batch has 1 samples without at least two events.\n",
      "WARNING:root:\tContinuing by removing singular samples, but these should be removed from the dataset.\n",
      "                                    \t\t Bad sample tokens: tensor([[217,   0,   0,   0,   0]])\n",
      "                                    \t\t and corresponding ages tensor([[11.5288,  0.0000,  0.0000,  0.0000,  0.0000]])\n",
      "WARNING:root:Fine-tuning batch has 1 samples without at least two events.\n",
      "WARNING:root:\tContinuing by removing singular samples, but these should be removed from the dataset.\n",
      "                                    \t\t Bad sample tokens: tensor([[217,   0,   0,   0,   0]])\n",
      "                                    \t\t and corresponding ages tensor([[11.5638,  0.0000,  0.0000,  0.0000,  0.0000]])\n",
      "WARNING:root:Fine-tuning batch has 1 samples without at least two events.\n",
      "WARNING:root:\tContinuing by removing singular samples, but these should be removed from the dataset.\n",
      "                                    \t\t Bad sample tokens: tensor([[217,   0,   0,   0,   0]])\n",
      "                                    \t\t and corresponding ages tensor([[10.3222,  0.0000,  0.0000,  0.0000,  0.0000]])\n"
     ]
    },
    {
     "data": {
      "application/vnd.jupyter.widget-view+json": {
       "model_id": "",
       "version_major": 2,
       "version_minor": 0
      },
      "text/plain": [
       "Validation: |          | 0/? [00:00<?, ?it/s]"
      ]
     },
     "metadata": {},
     "output_type": "display_data"
    },
    {
     "name": "stderr",
     "output_type": "stream",
     "text": [
      "Metric val_loss improved by 0.022 >= min_delta = 0. New best score: 2.744\n",
      "Epoch 0, global step 75: 'val_loss' reached 2.74416 (best 2.74416), saving model to '/rds/projects/s/subramaa-mum-predict/CharlesGadd_Oxford/FoundationModelOutput/checkpoints/SurvivEHR-cr-small-v1_mm-fine-tune-cr-A8-notebook.ckpt' as top 1\n",
      "WARNING:root:Fine-tuning batch has 1 samples without at least two events.\n",
      "WARNING:root:\tContinuing by removing singular samples, but these should be removed from the dataset.\n",
      "                                    \t\t Bad sample tokens: tensor([[184,   0,   0,   0,   0]])\n",
      "                                    \t\t and corresponding ages tensor([[12.1134,  0.0000,  0.0000,  0.0000,  0.0000]])\n",
      "WARNING:root:Fine-tuning batch has 1 samples without at least two events.\n",
      "WARNING:root:\tContinuing by removing singular samples, but these should be removed from the dataset.\n",
      "                                    \t\t Bad sample tokens: tensor([[260,   0,   0,   0,   0]])\n",
      "                                    \t\t and corresponding ages tensor([[13.5830,  0.0000,  0.0000,  0.0000,  0.0000]])\n"
     ]
    },
    {
     "data": {
      "application/vnd.jupyter.widget-view+json": {
       "model_id": "",
       "version_major": 2,
       "version_minor": 0
      },
      "text/plain": [
       "Validation: |          | 0/? [00:00<?, ?it/s]"
      ]
     },
     "metadata": {},
     "output_type": "display_data"
    },
    {
     "name": "stderr",
     "output_type": "stream",
     "text": [
      "Metric val_loss improved by 0.014 >= min_delta = 0. New best score: 2.730\n",
      "Epoch 0, global step 87: 'val_loss' reached 2.73019 (best 2.73019), saving model to '/rds/projects/s/subramaa-mum-predict/CharlesGadd_Oxford/FoundationModelOutput/checkpoints/SurvivEHR-cr-small-v1_mm-fine-tune-cr-A8-notebook.ckpt' as top 1\n",
      "WARNING:root:Fine-tuning batch has 1 samples without at least two events.\n",
      "WARNING:root:\tContinuing by removing singular samples, but these should be removed from the dataset.\n",
      "                                    \t\t Bad sample tokens: tensor([[184,   0,   0,   0,   0]])\n",
      "                                    \t\t and corresponding ages tensor([[12.1134,  0.0000,  0.0000,  0.0000,  0.0000]])\n",
      "WARNING:root:Fine-tuning batch has 1 samples without at least two events.\n",
      "WARNING:root:\tContinuing by removing singular samples, but these should be removed from the dataset.\n",
      "                                    \t\t Bad sample tokens: tensor([[260,   0,   0,   0,   0]])\n",
      "                                    \t\t and corresponding ages tensor([[11.4055,  0.0000,  0.0000,  0.0000,  0.0000]])\n"
     ]
    },
    {
     "data": {
      "application/vnd.jupyter.widget-view+json": {
       "model_id": "",
       "version_major": 2,
       "version_minor": 0
      },
      "text/plain": [
       "Validation: |          | 0/? [00:00<?, ?it/s]"
      ]
     },
     "metadata": {},
     "output_type": "display_data"
    },
    {
     "name": "stderr",
     "output_type": "stream",
     "text": [
      "WARNING:root:Fine-tuning batch has 1 samples without at least two events.\n",
      "WARNING:root:\tContinuing by removing singular samples, but these should be removed from the dataset.\n",
      "                                    \t\t Bad sample tokens: tensor([[217,   0,   0,   0,   0]])\n",
      "                                    \t\t and corresponding ages tensor([[11.5101,  0.0000,  0.0000,  0.0000,  0.0000]])\n",
      "Metric val_loss improved by 0.016 >= min_delta = 0. New best score: 2.714\n",
      "Epoch 0, global step 100: 'val_loss' reached 2.71441 (best 2.71441), saving model to '/rds/projects/s/subramaa-mum-predict/CharlesGadd_Oxford/FoundationModelOutput/checkpoints/SurvivEHR-cr-small-v1_mm-fine-tune-cr-A8-notebook.ckpt' as top 1\n",
      "WARNING:root:Fine-tuning batch has 1 samples without at least two events.\n",
      "WARNING:root:\tContinuing by removing singular samples, but these should be removed from the dataset.\n",
      "                                    \t\t Bad sample tokens: tensor([[184,   0,   0,   0,   0]])\n",
      "                                    \t\t and corresponding ages tensor([[12.1134,  0.0000,  0.0000,  0.0000,  0.0000]])\n",
      "WARNING:root:Fine-tuning batch has 1 samples without at least two events.\n",
      "WARNING:root:\tContinuing by removing singular samples, but these should be removed from the dataset.\n",
      "                                    \t\t Bad sample tokens: tensor([[217,   0,   0,   0,   0]])\n",
      "                                    \t\t and corresponding ages tensor([[11.4860,  0.0000,  0.0000,  0.0000,  0.0000]])\n"
     ]
    },
    {
     "data": {
      "application/vnd.jupyter.widget-view+json": {
       "model_id": "",
       "version_major": 2,
       "version_minor": 0
      },
      "text/plain": [
       "Validation: |          | 0/? [00:00<?, ?it/s]"
      ]
     },
     "metadata": {},
     "output_type": "display_data"
    },
    {
     "name": "stderr",
     "output_type": "stream",
     "text": [
      "WARNING:root:Fine-tuning batch has 1 samples without at least two events.\n",
      "WARNING:root:\tContinuing by removing singular samples, but these should be removed from the dataset.\n",
      "                                    \t\t Bad sample tokens: tensor([[260,   0,   0,   0,   0]])\n",
      "                                    \t\t and corresponding ages tensor([[11.4323,  0.0000,  0.0000,  0.0000,  0.0000]])\n",
      "Metric val_loss improved by 0.009 >= min_delta = 0. New best score: 2.705\n",
      "Epoch 0, global step 112: 'val_loss' reached 2.70536 (best 2.70536), saving model to '/rds/projects/s/subramaa-mum-predict/CharlesGadd_Oxford/FoundationModelOutput/checkpoints/SurvivEHR-cr-small-v1_mm-fine-tune-cr-A8-notebook.ckpt' as top 1\n",
      "WARNING:root:Fine-tuning batch has 1 samples without at least two events.\n",
      "WARNING:root:\tContinuing by removing singular samples, but these should be removed from the dataset.\n",
      "                                    \t\t Bad sample tokens: tensor([[184,   0,   0,   0,   0]])\n",
      "                                    \t\t and corresponding ages tensor([[12.1134,  0.0000,  0.0000,  0.0000,  0.0000]])\n",
      "WARNING:root:Fine-tuning batch has 1 samples without at least two events.\n",
      "WARNING:root:\tContinuing by removing singular samples, but these should be removed from the dataset.\n",
      "                                    \t\t Bad sample tokens: tensor([[217,   0,   0,   0,   0]])\n",
      "                                    \t\t and corresponding ages tensor([[10.5244,  0.0000,  0.0000,  0.0000,  0.0000]])\n",
      "WARNING:root:Fine-tuning batch has 1 samples without at least two events.\n",
      "WARNING:root:\tContinuing by removing singular samples, but these should be removed from the dataset.\n",
      "                                    \t\t Bad sample tokens: tensor([[184,   0,   0,   0,   0]])\n",
      "                                    \t\t and corresponding ages tensor([[10.9184,  0.0000,  0.0000,  0.0000,  0.0000]])\n"
     ]
    },
    {
     "data": {
      "application/vnd.jupyter.widget-view+json": {
       "model_id": "",
       "version_major": 2,
       "version_minor": 0
      },
      "text/plain": [
       "Validation: |          | 0/? [00:00<?, ?it/s]"
      ]
     },
     "metadata": {},
     "output_type": "display_data"
    },
    {
     "name": "stderr",
     "output_type": "stream",
     "text": [
      "Metric val_loss improved by 0.006 >= min_delta = 0. New best score: 2.700\n",
      "Epoch 0, global step 125: 'val_loss' reached 2.69967 (best 2.69967), saving model to '/rds/projects/s/subramaa-mum-predict/CharlesGadd_Oxford/FoundationModelOutput/checkpoints/SurvivEHR-cr-small-v1_mm-fine-tune-cr-A8-notebook.ckpt' as top 1\n",
      "WARNING:root:Fine-tuning batch has 1 samples without at least two events.\n",
      "WARNING:root:\tContinuing by removing singular samples, but these should be removed from the dataset.\n",
      "                                    \t\t Bad sample tokens: tensor([[184,   0,   0,   0,   0]])\n",
      "                                    \t\t and corresponding ages tensor([[12.1134,  0.0000,  0.0000,  0.0000,  0.0000]])\n",
      "WARNING:root:Fine-tuning batch has 1 samples without at least two events.\n",
      "WARNING:root:\tContinuing by removing singular samples, but these should be removed from the dataset.\n",
      "                                    \t\t Bad sample tokens: tensor([[207,   0,   0,   0,   0]])\n",
      "                                    \t\t and corresponding ages tensor([[11.1644,  0.0000,  0.0000,  0.0000,  0.0000]])\n",
      "WARNING:root:Fine-tuning batch has 1 samples without at least two events.\n",
      "WARNING:root:\tContinuing by removing singular samples, but these should be removed from the dataset.\n",
      "                                    \t\t Bad sample tokens: tensor([[242,   0,   0,   0,   0]])\n",
      "                                    \t\t and corresponding ages tensor([[11.1156,  0.0000,  0.0000,  0.0000,  0.0000]])\n"
     ]
    },
    {
     "data": {
      "application/vnd.jupyter.widget-view+json": {
       "model_id": "",
       "version_major": 2,
       "version_minor": 0
      },
      "text/plain": [
       "Validation: |          | 0/? [00:00<?, ?it/s]"
      ]
     },
     "metadata": {},
     "output_type": "display_data"
    },
    {
     "name": "stderr",
     "output_type": "stream",
     "text": [
      "Epoch 0, global step 137: 'val_loss' was not in top 1\n",
      "WARNING:root:Fine-tuning batch has 1 samples without at least two events.\n",
      "WARNING:root:\tContinuing by removing singular samples, but these should be removed from the dataset.\n",
      "                                    \t\t Bad sample tokens: tensor([[184,   0,   0,   0,   0]])\n",
      "                                    \t\t and corresponding ages tensor([[12.1134,  0.0000,  0.0000,  0.0000,  0.0000]])\n"
     ]
    },
    {
     "data": {
      "application/vnd.jupyter.widget-view+json": {
       "model_id": "",
       "version_major": 2,
       "version_minor": 0
      },
      "text/plain": [
       "Validation: |          | 0/? [00:00<?, ?it/s]"
      ]
     },
     "metadata": {},
     "output_type": "display_data"
    },
    {
     "name": "stderr",
     "output_type": "stream",
     "text": [
      "Metric val_loss improved by 0.006 >= min_delta = 0. New best score: 2.693\n",
      "Epoch 0, global step 150: 'val_loss' reached 2.69336 (best 2.69336), saving model to '/rds/projects/s/subramaa-mum-predict/CharlesGadd_Oxford/FoundationModelOutput/checkpoints/SurvivEHR-cr-small-v1_mm-fine-tune-cr-A8-notebook.ckpt' as top 1\n",
      "WARNING:root:Fine-tuning batch has 1 samples without at least two events.\n",
      "WARNING:root:\tContinuing by removing singular samples, but these should be removed from the dataset.\n",
      "                                    \t\t Bad sample tokens: tensor([[184,   0,   0,   0,   0]])\n",
      "                                    \t\t and corresponding ages tensor([[12.1134,  0.0000,  0.0000,  0.0000,  0.0000]])\n",
      "WARNING:root:Fine-tuning batch has 1 samples without at least two events.\n",
      "WARNING:root:\tContinuing by removing singular samples, but these should be removed from the dataset.\n",
      "                                    \t\t Bad sample tokens: tensor([[255,   0,   0,   0,   0]])\n",
      "                                    \t\t and corresponding ages tensor([[13.1397,  0.0000,  0.0000,  0.0000,  0.0000]])\n",
      "WARNING:root:Fine-tuning batch has 1 samples without at least two events.\n",
      "WARNING:root:\tContinuing by removing singular samples, but these should be removed from the dataset.\n",
      "                                    \t\t Bad sample tokens: tensor([[217,   0,   0,   0,   0]])\n",
      "                                    \t\t and corresponding ages tensor([[11.6658,  0.0000,  0.0000,  0.0000,  0.0000]])\n"
     ]
    },
    {
     "data": {
      "application/vnd.jupyter.widget-view+json": {
       "model_id": "",
       "version_major": 2,
       "version_minor": 0
      },
      "text/plain": [
       "Validation: |          | 0/? [00:00<?, ?it/s]"
      ]
     },
     "metadata": {},
     "output_type": "display_data"
    },
    {
     "name": "stderr",
     "output_type": "stream",
     "text": [
      "Metric val_loss improved by 0.002 >= min_delta = 0. New best score: 2.692\n",
      "Epoch 0, global step 162: 'val_loss' reached 2.69169 (best 2.69169), saving model to '/rds/projects/s/subramaa-mum-predict/CharlesGadd_Oxford/FoundationModelOutput/checkpoints/SurvivEHR-cr-small-v1_mm-fine-tune-cr-A8-notebook.ckpt' as top 1\n",
      "WARNING:root:Fine-tuning batch has 1 samples without at least two events.\n",
      "WARNING:root:\tContinuing by removing singular samples, but these should be removed from the dataset.\n",
      "                                    \t\t Bad sample tokens: tensor([[184,   0,   0,   0,   0]])\n",
      "                                    \t\t and corresponding ages tensor([[12.1134,  0.0000,  0.0000,  0.0000,  0.0000]])\n",
      "WARNING:root:Fine-tuning batch has 1 samples without at least two events.\n",
      "WARNING:root:\tContinuing by removing singular samples, but these should be removed from the dataset.\n",
      "                                    \t\t Bad sample tokens: tensor([[217,   0,   0,   0,   0]])\n",
      "                                    \t\t and corresponding ages tensor([[10.8033,  0.0000,  0.0000,  0.0000,  0.0000]])\n",
      "WARNING:root:Fine-tuning batch has 1 samples without at least two events.\n",
      "WARNING:root:\tContinuing by removing singular samples, but these should be removed from the dataset.\n",
      "                                    \t\t Bad sample tokens: tensor([[217,   0,   0,   0,   0]])\n",
      "                                    \t\t and corresponding ages tensor([[11.0948,  0.0000,  0.0000,  0.0000,  0.0000]])\n"
     ]
    },
    {
     "data": {
      "application/vnd.jupyter.widget-view+json": {
       "model_id": "",
       "version_major": 2,
       "version_minor": 0
      },
      "text/plain": [
       "Validation: |          | 0/? [00:00<?, ?it/s]"
      ]
     },
     "metadata": {},
     "output_type": "display_data"
    },
    {
     "name": "stderr",
     "output_type": "stream",
     "text": [
      "WARNING:root:Fine-tuning batch has 1 samples without at least two events.\n",
      "WARNING:root:\tContinuing by removing singular samples, but these should be removed from the dataset.\n",
      "                                    \t\t Bad sample tokens: tensor([[217,   0,   0,   0,   0]])\n",
      "                                    \t\t and corresponding ages tensor([[11.0789,  0.0000,  0.0000,  0.0000,  0.0000]])\n",
      "Metric val_loss improved by 0.010 >= min_delta = 0. New best score: 2.681\n",
      "Epoch 0, global step 175: 'val_loss' reached 2.68142 (best 2.68142), saving model to '/rds/projects/s/subramaa-mum-predict/CharlesGadd_Oxford/FoundationModelOutput/checkpoints/SurvivEHR-cr-small-v1_mm-fine-tune-cr-A8-notebook.ckpt' as top 1\n",
      "WARNING:root:Fine-tuning batch has 1 samples without at least two events.\n",
      "WARNING:root:\tContinuing by removing singular samples, but these should be removed from the dataset.\n",
      "                                    \t\t Bad sample tokens: tensor([[184,   0,   0,   0,   0]])\n",
      "                                    \t\t and corresponding ages tensor([[12.1134,  0.0000,  0.0000,  0.0000,  0.0000]])\n",
      "WARNING:root:Fine-tuning batch has 1 samples without at least two events.\n",
      "WARNING:root:\tContinuing by removing singular samples, but these should be removed from the dataset.\n",
      "                                    \t\t Bad sample tokens: tensor([[167,   0,   0,   0,   0]])\n",
      "                                    \t\t and corresponding ages tensor([[10.4592,  0.0000,  0.0000,  0.0000,  0.0000]])\n"
     ]
    },
    {
     "data": {
      "application/vnd.jupyter.widget-view+json": {
       "model_id": "",
       "version_major": 2,
       "version_minor": 0
      },
      "text/plain": [
       "Validation: |          | 0/? [00:00<?, ?it/s]"
      ]
     },
     "metadata": {},
     "output_type": "display_data"
    },
    {
     "name": "stderr",
     "output_type": "stream",
     "text": [
      "WARNING:root:Fine-tuning batch has 1 samples without at least two events.\n",
      "WARNING:root:\tContinuing by removing singular samples, but these should be removed from the dataset.\n",
      "                                    \t\t Bad sample tokens: tensor([[217,   0,   0,   0,   0]])\n",
      "                                    \t\t and corresponding ages tensor([[10.1326,  0.0000,  0.0000,  0.0000,  0.0000]])\n",
      "Metric val_loss improved by 0.009 >= min_delta = 0. New best score: 2.672\n",
      "Epoch 0, global step 187: 'val_loss' reached 2.67201 (best 2.67201), saving model to '/rds/projects/s/subramaa-mum-predict/CharlesGadd_Oxford/FoundationModelOutput/checkpoints/SurvivEHR-cr-small-v1_mm-fine-tune-cr-A8-notebook.ckpt' as top 1\n",
      "WARNING:root:Fine-tuning batch has 1 samples without at least two events.\n",
      "WARNING:root:\tContinuing by removing singular samples, but these should be removed from the dataset.\n",
      "                                    \t\t Bad sample tokens: tensor([[184,   0,   0,   0,   0]])\n",
      "                                    \t\t and corresponding ages tensor([[12.1134,  0.0000,  0.0000,  0.0000,  0.0000]])\n",
      "WARNING:root:Fine-tuning batch has 1 samples without at least two events.\n",
      "WARNING:root:\tContinuing by removing singular samples, but these should be removed from the dataset.\n",
      "                                    \t\t Bad sample tokens: tensor([[217,   0,   0,   0,   0]])\n",
      "                                    \t\t and corresponding ages tensor([[11.0625,  0.0000,  0.0000,  0.0000,  0.0000]])\n",
      "WARNING:root:Fine-tuning batch has 1 samples without at least two events.\n",
      "WARNING:root:\tContinuing by removing singular samples, but these should be removed from the dataset.\n",
      "                                    \t\t Bad sample tokens: tensor([[260,   0,   0,   0,   0]])\n",
      "                                    \t\t and corresponding ages tensor([[12.4252,  0.0000,  0.0000,  0.0000,  0.0000]])\n"
     ]
    },
    {
     "data": {
      "application/vnd.jupyter.widget-view+json": {
       "model_id": "",
       "version_major": 2,
       "version_minor": 0
      },
      "text/plain": [
       "Validation: |          | 0/? [00:00<?, ?it/s]"
      ]
     },
     "metadata": {},
     "output_type": "display_data"
    },
    {
     "name": "stderr",
     "output_type": "stream",
     "text": [
      "Metric val_loss improved by 0.006 >= min_delta = 0. New best score: 2.666\n",
      "Epoch 0, global step 200: 'val_loss' reached 2.66574 (best 2.66574), saving model to '/rds/projects/s/subramaa-mum-predict/CharlesGadd_Oxford/FoundationModelOutput/checkpoints/SurvivEHR-cr-small-v1_mm-fine-tune-cr-A8-notebook.ckpt' as top 1\n",
      "WARNING:root:Fine-tuning batch has 1 samples without at least two events.\n",
      "WARNING:root:\tContinuing by removing singular samples, but these should be removed from the dataset.\n",
      "                                    \t\t Bad sample tokens: tensor([[184,   0,   0,   0,   0]])\n",
      "                                    \t\t and corresponding ages tensor([[12.1134,  0.0000,  0.0000,  0.0000,  0.0000]])\n"
     ]
    },
    {
     "data": {
      "application/vnd.jupyter.widget-view+json": {
       "model_id": "",
       "version_major": 2,
       "version_minor": 0
      },
      "text/plain": [
       "Validation: |          | 0/? [00:00<?, ?it/s]"
      ]
     },
     "metadata": {},
     "output_type": "display_data"
    },
    {
     "name": "stderr",
     "output_type": "stream",
     "text": [
      "Metric val_loss improved by 0.007 >= min_delta = 0. New best score: 2.659\n",
      "Epoch 0, global step 212: 'val_loss' reached 2.65913 (best 2.65913), saving model to '/rds/projects/s/subramaa-mum-predict/CharlesGadd_Oxford/FoundationModelOutput/checkpoints/SurvivEHR-cr-small-v1_mm-fine-tune-cr-A8-notebook.ckpt' as top 1\n",
      "WARNING:root:Fine-tuning batch has 1 samples without at least two events.\n",
      "WARNING:root:\tContinuing by removing singular samples, but these should be removed from the dataset.\n",
      "                                    \t\t Bad sample tokens: tensor([[184,   0,   0,   0,   0]])\n",
      "                                    \t\t and corresponding ages tensor([[12.1134,  0.0000,  0.0000,  0.0000,  0.0000]])\n",
      "WARNING:root:Fine-tuning batch has 1 samples without at least two events.\n",
      "WARNING:root:\tContinuing by removing singular samples, but these should be removed from the dataset.\n",
      "                                    \t\t Bad sample tokens: tensor([[217,   0,   0,   0,   0]])\n",
      "                                    \t\t and corresponding ages tensor([[13.8619,  0.0000,  0.0000,  0.0000,  0.0000]])\n"
     ]
    },
    {
     "data": {
      "application/vnd.jupyter.widget-view+json": {
       "model_id": "",
       "version_major": 2,
       "version_minor": 0
      },
      "text/plain": [
       "Validation: |          | 0/? [00:00<?, ?it/s]"
      ]
     },
     "metadata": {},
     "output_type": "display_data"
    },
    {
     "name": "stderr",
     "output_type": "stream",
     "text": [
      "WARNING:root:Fine-tuning batch has 1 samples without at least two events.\n",
      "WARNING:root:\tContinuing by removing singular samples, but these should be removed from the dataset.\n",
      "                                    \t\t Bad sample tokens: tensor([[167,   0,   0,   0,   0]])\n",
      "                                    \t\t and corresponding ages tensor([[13.2745,  0.0000,  0.0000,  0.0000,  0.0000]])\n",
      "Metric val_loss improved by 0.002 >= min_delta = 0. New best score: 2.657\n",
      "Epoch 0, global step 225: 'val_loss' reached 2.65725 (best 2.65725), saving model to '/rds/projects/s/subramaa-mum-predict/CharlesGadd_Oxford/FoundationModelOutput/checkpoints/SurvivEHR-cr-small-v1_mm-fine-tune-cr-A8-notebook.ckpt' as top 1\n",
      "WARNING:root:Fine-tuning batch has 1 samples without at least two events.\n",
      "WARNING:root:\tContinuing by removing singular samples, but these should be removed from the dataset.\n",
      "                                    \t\t Bad sample tokens: tensor([[184,   0,   0,   0,   0]])\n",
      "                                    \t\t and corresponding ages tensor([[12.1134,  0.0000,  0.0000,  0.0000,  0.0000]])\n",
      "WARNING:root:Fine-tuning batch has 1 samples without at least two events.\n",
      "WARNING:root:\tContinuing by removing singular samples, but these should be removed from the dataset.\n",
      "                                    \t\t Bad sample tokens: tensor([[167,   0,   0,   0,   0]])\n",
      "                                    \t\t and corresponding ages tensor([[13.0871,  0.0000,  0.0000,  0.0000,  0.0000]])\n",
      "WARNING:root:Fine-tuning batch has 1 samples without at least two events.\n",
      "WARNING:root:\tContinuing by removing singular samples, but these should be removed from the dataset.\n",
      "                                    \t\t Bad sample tokens: tensor([[215,   0,   0,   0,   0]])\n",
      "                                    \t\t and corresponding ages tensor([[12.2751,  0.0000,  0.0000,  0.0000,  0.0000]])\n"
     ]
    },
    {
     "data": {
      "application/vnd.jupyter.widget-view+json": {
       "model_id": "",
       "version_major": 2,
       "version_minor": 0
      },
      "text/plain": [
       "Validation: |          | 0/? [00:00<?, ?it/s]"
      ]
     },
     "metadata": {},
     "output_type": "display_data"
    },
    {
     "name": "stderr",
     "output_type": "stream",
     "text": [
      "Metric val_loss improved by 0.007 >= min_delta = 0. New best score: 2.650\n",
      "Epoch 0, global step 237: 'val_loss' reached 2.65046 (best 2.65046), saving model to '/rds/projects/s/subramaa-mum-predict/CharlesGadd_Oxford/FoundationModelOutput/checkpoints/SurvivEHR-cr-small-v1_mm-fine-tune-cr-A8-notebook.ckpt' as top 1\n",
      "WARNING:root:Fine-tuning batch has 1 samples without at least two events.\n",
      "WARNING:root:\tContinuing by removing singular samples, but these should be removed from the dataset.\n",
      "                                    \t\t Bad sample tokens: tensor([[184,   0,   0,   0,   0]])\n",
      "                                    \t\t and corresponding ages tensor([[12.1134,  0.0000,  0.0000,  0.0000,  0.0000]])\n",
      "WARNING:root:Fine-tuning batch has 1 samples without at least two events.\n",
      "WARNING:root:\tContinuing by removing singular samples, but these should be removed from the dataset.\n",
      "                                    \t\t Bad sample tokens: tensor([[217,   0,   0,   0,   0]])\n",
      "                                    \t\t and corresponding ages tensor([[10.6263,  0.0000,  0.0000,  0.0000,  0.0000]])\n"
     ]
    },
    {
     "data": {
      "application/vnd.jupyter.widget-view+json": {
       "model_id": "",
       "version_major": 2,
       "version_minor": 0
      },
      "text/plain": [
       "Validation: |          | 0/? [00:00<?, ?it/s]"
      ]
     },
     "metadata": {},
     "output_type": "display_data"
    },
    {
     "name": "stderr",
     "output_type": "stream",
     "text": [
      "Metric val_loss improved by 0.003 >= min_delta = 0. New best score: 2.648\n",
      "Epoch 0, global step 250: 'val_loss' reached 2.64795 (best 2.64795), saving model to '/rds/projects/s/subramaa-mum-predict/CharlesGadd_Oxford/FoundationModelOutput/checkpoints/SurvivEHR-cr-small-v1_mm-fine-tune-cr-A8-notebook.ckpt' as top 1\n",
      "WARNING:root:Fine-tuning batch has 1 samples without at least two events.\n",
      "WARNING:root:\tContinuing by removing singular samples, but these should be removed from the dataset.\n",
      "                                    \t\t Bad sample tokens: tensor([[184,   0,   0,   0,   0]])\n",
      "                                    \t\t and corresponding ages tensor([[12.1134,  0.0000,  0.0000,  0.0000,  0.0000]])\n",
      "WARNING:root:Fine-tuning batch has 1 samples without at least two events.\n",
      "WARNING:root:\tContinuing by removing singular samples, but these should be removed from the dataset.\n",
      "                                    \t\t Bad sample tokens: tensor([[217,   0,   0,   0,   0]])\n",
      "                                    \t\t and corresponding ages tensor([[13.4959,  0.0000,  0.0000,  0.0000,  0.0000]])\n"
     ]
    },
    {
     "data": {
      "application/vnd.jupyter.widget-view+json": {
       "model_id": "ee4e512f150f4740ae03ec7a003251a5",
       "version_major": 2,
       "version_minor": 0
      },
      "text/plain": [
       "Validation: |          | 0/? [00:00<?, ?it/s]"
      ]
     },
     "metadata": {},
     "output_type": "display_data"
    },
    {
     "name": "stderr",
     "output_type": "stream",
     "text": [
      "Metric val_loss improved by 0.012 >= min_delta = 0. New best score: 2.636\n",
      "Epoch 0, global step 262: 'val_loss' reached 2.63602 (best 2.63602), saving model to '/rds/projects/s/subramaa-mum-predict/CharlesGadd_Oxford/FoundationModelOutput/checkpoints/SurvivEHR-cr-small-v1_mm-fine-tune-cr-A8-notebook.ckpt' as top 1\n",
      "WARNING:root:Fine-tuning batch has 1 samples without at least two events.\n",
      "WARNING:root:\tContinuing by removing singular samples, but these should be removed from the dataset.\n",
      "                                    \t\t Bad sample tokens: tensor([[184,   0,   0,   0,   0]])\n",
      "                                    \t\t and corresponding ages tensor([[12.1134,  0.0000,  0.0000,  0.0000,  0.0000]])\n",
      "WARNING:root:Fine-tuning batch has 1 samples without at least two events.\n",
      "WARNING:root:\tContinuing by removing singular samples, but these should be removed from the dataset.\n",
      "                                    \t\t Bad sample tokens: tensor([[260,   0,   0,   0,   0]])\n",
      "                                    \t\t and corresponding ages tensor([[10.8334,  0.0000,  0.0000,  0.0000,  0.0000]])\n",
      "WARNING:root:Fine-tuning batch has 1 samples without at least two events.\n",
      "WARNING:root:\tContinuing by removing singular samples, but these should be removed from the dataset.\n",
      "                                    \t\t Bad sample tokens: tensor([[217,   0,   0,   0,   0]])\n",
      "                                    \t\t and corresponding ages tensor([[10.3375,  0.0000,  0.0000,  0.0000,  0.0000]])\n"
     ]
    },
    {
     "data": {
      "application/vnd.jupyter.widget-view+json": {
       "model_id": "",
       "version_major": 2,
       "version_minor": 0
      },
      "text/plain": [
       "Validation: |          | 0/? [00:00<?, ?it/s]"
      ]
     },
     "metadata": {},
     "output_type": "display_data"
    },
    {
     "name": "stderr",
     "output_type": "stream",
     "text": [
      "WARNING:root:Fine-tuning batch has 1 samples without at least two events.\n",
      "WARNING:root:\tContinuing by removing singular samples, but these should be removed from the dataset.\n",
      "                                    \t\t Bad sample tokens: tensor([[217,   0,   0,   0,   0]])\n",
      "                                    \t\t and corresponding ages tensor([[10.6784,  0.0000,  0.0000,  0.0000,  0.0000]])\n",
      "Epoch 0, global step 275: 'val_loss' was not in top 1\n",
      "WARNING:root:Fine-tuning batch has 1 samples without at least two events.\n",
      "WARNING:root:\tContinuing by removing singular samples, but these should be removed from the dataset.\n",
      "                                    \t\t Bad sample tokens: tensor([[184,   0,   0,   0,   0]])\n",
      "                                    \t\t and corresponding ages tensor([[12.1134,  0.0000,  0.0000,  0.0000,  0.0000]])\n",
      "WARNING:root:Fine-tuning batch has 1 samples without at least two events.\n",
      "WARNING:root:\tContinuing by removing singular samples, but these should be removed from the dataset.\n",
      "                                    \t\t Bad sample tokens: tensor([[184,   0,   0,   0,   0]])\n",
      "                                    \t\t and corresponding ages tensor([[11.9025,  0.0000,  0.0000,  0.0000,  0.0000]])\n",
      "WARNING:root:Fine-tuning batch has 1 samples without at least two events.\n",
      "WARNING:root:\tContinuing by removing singular samples, but these should be removed from the dataset.\n",
      "                                    \t\t Bad sample tokens: tensor([[184,   0,   0,   0,   0]])\n",
      "                                    \t\t and corresponding ages tensor([[11.5595,  0.0000,  0.0000,  0.0000,  0.0000]])\n",
      "WARNING:root:Fine-tuning batch has 1 samples without at least two events.\n",
      "WARNING:root:\tContinuing by removing singular samples, but these should be removed from the dataset.\n",
      "                                    \t\t Bad sample tokens: tensor([[217,   0,   0,   0,   0]])\n",
      "                                    \t\t and corresponding ages tensor([[10.0548,  0.0000,  0.0000,  0.0000,  0.0000]])\n"
     ]
    },
    {
     "data": {
      "application/vnd.jupyter.widget-view+json": {
       "model_id": "",
       "version_major": 2,
       "version_minor": 0
      },
      "text/plain": [
       "Validation: |          | 0/? [00:00<?, ?it/s]"
      ]
     },
     "metadata": {},
     "output_type": "display_data"
    },
    {
     "name": "stderr",
     "output_type": "stream",
     "text": [
      "Metric val_loss improved by 0.016 >= min_delta = 0. New best score: 2.620\n",
      "Epoch 0, global step 287: 'val_loss' reached 2.62016 (best 2.62016), saving model to '/rds/projects/s/subramaa-mum-predict/CharlesGadd_Oxford/FoundationModelOutput/checkpoints/SurvivEHR-cr-small-v1_mm-fine-tune-cr-A8-notebook.ckpt' as top 1\n",
      "WARNING:root:Fine-tuning batch has 1 samples without at least two events.\n",
      "WARNING:root:\tContinuing by removing singular samples, but these should be removed from the dataset.\n",
      "                                    \t\t Bad sample tokens: tensor([[184,   0,   0,   0,   0]])\n",
      "                                    \t\t and corresponding ages tensor([[12.1134,  0.0000,  0.0000,  0.0000,  0.0000]])\n",
      "WARNING:root:Fine-tuning batch has 1 samples without at least two events.\n",
      "WARNING:root:\tContinuing by removing singular samples, but these should be removed from the dataset.\n",
      "                                    \t\t Bad sample tokens: tensor([[255,   0,   0,   0,   0]])\n",
      "                                    \t\t and corresponding ages tensor([[12.4274,  0.0000,  0.0000,  0.0000,  0.0000]])\n",
      "WARNING:root:Fine-tuning batch has 1 samples without at least two events.\n",
      "WARNING:root:\tContinuing by removing singular samples, but these should be removed from the dataset.\n",
      "                                    \t\t Bad sample tokens: tensor([[217,   0,   0,   0,   0]])\n",
      "                                    \t\t and corresponding ages tensor([[10.1764,  0.0000,  0.0000,  0.0000,  0.0000]])\n"
     ]
    },
    {
     "data": {
      "application/vnd.jupyter.widget-view+json": {
       "model_id": "",
       "version_major": 2,
       "version_minor": 0
      },
      "text/plain": [
       "Validation: |          | 0/? [00:00<?, ?it/s]"
      ]
     },
     "metadata": {},
     "output_type": "display_data"
    },
    {
     "name": "stderr",
     "output_type": "stream",
     "text": [
      "Epoch 0, global step 300: 'val_loss' was not in top 1\n",
      "WARNING:root:Fine-tuning batch has 1 samples without at least two events.\n",
      "WARNING:root:\tContinuing by removing singular samples, but these should be removed from the dataset.\n",
      "                                    \t\t Bad sample tokens: tensor([[184,   0,   0,   0,   0]])\n",
      "                                    \t\t and corresponding ages tensor([[12.1134,  0.0000,  0.0000,  0.0000,  0.0000]])\n",
      "WARNING:root:Fine-tuning batch has 1 samples without at least two events.\n",
      "WARNING:root:\tContinuing by removing singular samples, but these should be removed from the dataset.\n",
      "                                    \t\t Bad sample tokens: tensor([[260,   0,   0,   0,   0]])\n",
      "                                    \t\t and corresponding ages tensor([[11.4153,  0.0000,  0.0000,  0.0000,  0.0000]])\n",
      "WARNING:root:Fine-tuning batch has 1 samples without at least two events.\n",
      "WARNING:root:\tContinuing by removing singular samples, but these should be removed from the dataset.\n",
      "                                    \t\t Bad sample tokens: tensor([[260,   0,   0,   0,   0]])\n",
      "                                    \t\t and corresponding ages tensor([[11.1332,  0.0000,  0.0000,  0.0000,  0.0000]])\n",
      "WARNING:root:Fine-tuning batch has 1 samples without at least two events.\n",
      "WARNING:root:\tContinuing by removing singular samples, but these should be removed from the dataset.\n",
      "                                    \t\t Bad sample tokens: tensor([[260,   0,   0,   0,   0]])\n",
      "                                    \t\t and corresponding ages tensor([[13.6389,  0.0000,  0.0000,  0.0000,  0.0000]])\n"
     ]
    },
    {
     "data": {
      "application/vnd.jupyter.widget-view+json": {
       "model_id": "",
       "version_major": 2,
       "version_minor": 0
      },
      "text/plain": [
       "Validation: |          | 0/? [00:00<?, ?it/s]"
      ]
     },
     "metadata": {},
     "output_type": "display_data"
    },
    {
     "name": "stderr",
     "output_type": "stream",
     "text": [
      "Metric val_loss improved by 0.003 >= min_delta = 0. New best score: 2.617\n",
      "Epoch 0, global step 312: 'val_loss' reached 2.61679 (best 2.61679), saving model to '/rds/projects/s/subramaa-mum-predict/CharlesGadd_Oxford/FoundationModelOutput/checkpoints/SurvivEHR-cr-small-v1_mm-fine-tune-cr-A8-notebook.ckpt' as top 1\n",
      "WARNING:root:Fine-tuning batch has 1 samples without at least two events.\n",
      "WARNING:root:\tContinuing by removing singular samples, but these should be removed from the dataset.\n",
      "                                    \t\t Bad sample tokens: tensor([[184,   0,   0,   0,   0]])\n",
      "                                    \t\t and corresponding ages tensor([[12.1134,  0.0000,  0.0000,  0.0000,  0.0000]])\n",
      "WARNING:root:Fine-tuning batch has 1 samples without at least two events.\n",
      "WARNING:root:\tContinuing by removing singular samples, but these should be removed from the dataset.\n",
      "                                    \t\t Bad sample tokens: tensor([[189,   0,   0,   0,   0]])\n",
      "                                    \t\t and corresponding ages tensor([[10.5293,  0.0000,  0.0000,  0.0000,  0.0000]])\n"
     ]
    },
    {
     "data": {
      "application/vnd.jupyter.widget-view+json": {
       "model_id": "",
       "version_major": 2,
       "version_minor": 0
      },
      "text/plain": [
       "Validation: |          | 0/? [00:00<?, ?it/s]"
      ]
     },
     "metadata": {},
     "output_type": "display_data"
    },
    {
     "name": "stderr",
     "output_type": "stream",
     "text": [
      "Metric val_loss improved by 0.015 >= min_delta = 0. New best score: 2.602\n",
      "Epoch 0, global step 325: 'val_loss' reached 2.60180 (best 2.60180), saving model to '/rds/projects/s/subramaa-mum-predict/CharlesGadd_Oxford/FoundationModelOutput/checkpoints/SurvivEHR-cr-small-v1_mm-fine-tune-cr-A8-notebook.ckpt' as top 1\n",
      "WARNING:root:Fine-tuning batch has 1 samples without at least two events.\n",
      "WARNING:root:\tContinuing by removing singular samples, but these should be removed from the dataset.\n",
      "                                    \t\t Bad sample tokens: tensor([[184,   0,   0,   0,   0]])\n",
      "                                    \t\t and corresponding ages tensor([[12.1134,  0.0000,  0.0000,  0.0000,  0.0000]])\n",
      "WARNING:root:Fine-tuning batch has 1 samples without at least two events.\n",
      "WARNING:root:\tContinuing by removing singular samples, but these should be removed from the dataset.\n",
      "                                    \t\t Bad sample tokens: tensor([[255,   0,   0,   0,   0]])\n",
      "                                    \t\t and corresponding ages tensor([[10.9616,  0.0000,  0.0000,  0.0000,  0.0000]])\n",
      "WARNING:root:Fine-tuning batch has 1 samples without at least two events.\n",
      "WARNING:root:\tContinuing by removing singular samples, but these should be removed from the dataset.\n",
      "                                    \t\t Bad sample tokens: tensor([[184,   0,   0,   0,   0]])\n",
      "                                    \t\t and corresponding ages tensor([[10.9479,  0.0000,  0.0000,  0.0000,  0.0000]])\n",
      "WARNING:root:Fine-tuning batch has 1 samples without at least two events.\n",
      "WARNING:root:\tContinuing by removing singular samples, but these should be removed from the dataset.\n",
      "                                    \t\t Bad sample tokens: tensor([[254,   0,   0,   0,   0]])\n",
      "                                    \t\t and corresponding ages tensor([[11.4849,  0.0000,  0.0000,  0.0000,  0.0000]])\n",
      "WARNING:root:Fine-tuning batch has 1 samples without at least two events.\n",
      "WARNING:root:\tContinuing by removing singular samples, but these should be removed from the dataset.\n",
      "                                    \t\t Bad sample tokens: tensor([[217,   0,   0,   0,   0]])\n",
      "                                    \t\t and corresponding ages tensor([[11.6258,  0.0000,  0.0000,  0.0000,  0.0000]])\n",
      "WARNING:root:Fine-tuning batch has 1 samples without at least two events.\n",
      "WARNING:root:\tContinuing by removing singular samples, but these should be removed from the dataset.\n",
      "                                    \t\t Bad sample tokens: tensor([[152,   0,   0,   0,   0]])\n",
      "                                    \t\t and corresponding ages tensor([[11.2882,  0.0000,  0.0000,  0.0000,  0.0000]])\n"
     ]
    },
    {
     "data": {
      "application/vnd.jupyter.widget-view+json": {
       "model_id": "",
       "version_major": 2,
       "version_minor": 0
      },
      "text/plain": [
       "Validation: |          | 0/? [00:00<?, ?it/s]"
      ]
     },
     "metadata": {},
     "output_type": "display_data"
    },
    {
     "name": "stderr",
     "output_type": "stream",
     "text": [
      "Metric val_loss improved by 0.000 >= min_delta = 0. New best score: 2.601\n",
      "Epoch 0, global step 337: 'val_loss' reached 2.60150 (best 2.60150), saving model to '/rds/projects/s/subramaa-mum-predict/CharlesGadd_Oxford/FoundationModelOutput/checkpoints/SurvivEHR-cr-small-v1_mm-fine-tune-cr-A8-notebook.ckpt' as top 1\n",
      "WARNING:root:Fine-tuning batch has 1 samples without at least two events.\n",
      "WARNING:root:\tContinuing by removing singular samples, but these should be removed from the dataset.\n",
      "                                    \t\t Bad sample tokens: tensor([[184,   0,   0,   0,   0]])\n",
      "                                    \t\t and corresponding ages tensor([[12.1134,  0.0000,  0.0000,  0.0000,  0.0000]])\n",
      "WARNING:root:Fine-tuning batch has 1 samples without at least two events.\n",
      "WARNING:root:\tContinuing by removing singular samples, but these should be removed from the dataset.\n",
      "                                    \t\t Bad sample tokens: tensor([[152,   0,   0,   0,   0]])\n",
      "                                    \t\t and corresponding ages tensor([[10.8937,  0.0000,  0.0000,  0.0000,  0.0000]])\n"
     ]
    },
    {
     "data": {
      "application/vnd.jupyter.widget-view+json": {
       "model_id": "",
       "version_major": 2,
       "version_minor": 0
      },
      "text/plain": [
       "Validation: |          | 0/? [00:00<?, ?it/s]"
      ]
     },
     "metadata": {},
     "output_type": "display_data"
    },
    {
     "name": "stderr",
     "output_type": "stream",
     "text": [
      "Metric val_loss improved by 0.004 >= min_delta = 0. New best score: 2.598\n",
      "Epoch 0, global step 350: 'val_loss' reached 2.59778 (best 2.59778), saving model to '/rds/projects/s/subramaa-mum-predict/CharlesGadd_Oxford/FoundationModelOutput/checkpoints/SurvivEHR-cr-small-v1_mm-fine-tune-cr-A8-notebook.ckpt' as top 1\n",
      "WARNING:root:Fine-tuning batch has 1 samples without at least two events.\n",
      "WARNING:root:\tContinuing by removing singular samples, but these should be removed from the dataset.\n",
      "                                    \t\t Bad sample tokens: tensor([[184,   0,   0,   0,   0]])\n",
      "                                    \t\t and corresponding ages tensor([[12.1134,  0.0000,  0.0000,  0.0000,  0.0000]])\n",
      "WARNING:root:Fine-tuning batch has 1 samples without at least two events.\n",
      "WARNING:root:\tContinuing by removing singular samples, but these should be removed from the dataset.\n",
      "                                    \t\t Bad sample tokens: tensor([[210,   0,   0,   0,   0]])\n",
      "                                    \t\t and corresponding ages tensor([[13.4734,  0.0000,  0.0000,  0.0000,  0.0000]])\n",
      "WARNING:root:Fine-tuning batch has 2 samples without at least two events.\n",
      "WARNING:root:\tContinuing by removing singular samples, but these should be removed from the dataset.\n",
      "                                    \t\t Bad sample tokens: tensor([[184,   0,   0,   0,   0],\n",
      "        [152,   0,   0,   0,   0]])\n",
      "                                    \t\t and corresponding ages tensor([[10.1742,  0.0000,  0.0000,  0.0000,  0.0000],\n",
      "        [10.7145,  0.0000,  0.0000,  0.0000,  0.0000]])\n"
     ]
    },
    {
     "data": {
      "application/vnd.jupyter.widget-view+json": {
       "model_id": "",
       "version_major": 2,
       "version_minor": 0
      },
      "text/plain": [
       "Validation: |          | 0/? [00:00<?, ?it/s]"
      ]
     },
     "metadata": {},
     "output_type": "display_data"
    },
    {
     "name": "stderr",
     "output_type": "stream",
     "text": [
      "WARNING:root:Fine-tuning batch has 1 samples without at least two events.\n",
      "WARNING:root:\tContinuing by removing singular samples, but these should be removed from the dataset.\n",
      "                                    \t\t Bad sample tokens: tensor([[152,   0,   0,   0,   0]])\n",
      "                                    \t\t and corresponding ages tensor([[10.1277,  0.0000,  0.0000,  0.0000,  0.0000]])\n",
      "Metric val_loss improved by 0.015 >= min_delta = 0. New best score: 2.583\n",
      "Epoch 0, global step 362: 'val_loss' reached 2.58251 (best 2.58251), saving model to '/rds/projects/s/subramaa-mum-predict/CharlesGadd_Oxford/FoundationModelOutput/checkpoints/SurvivEHR-cr-small-v1_mm-fine-tune-cr-A8-notebook.ckpt' as top 1\n",
      "WARNING:root:Fine-tuning batch has 1 samples without at least two events.\n",
      "WARNING:root:\tContinuing by removing singular samples, but these should be removed from the dataset.\n",
      "                                    \t\t Bad sample tokens: tensor([[184,   0,   0,   0,   0]])\n",
      "                                    \t\t and corresponding ages tensor([[12.1134,  0.0000,  0.0000,  0.0000,  0.0000]])\n",
      "WARNING:root:Fine-tuning batch has 1 samples without at least two events.\n",
      "WARNING:root:\tContinuing by removing singular samples, but these should be removed from the dataset.\n",
      "                                    \t\t Bad sample tokens: tensor([[217,   0,   0,   0,   0]])\n",
      "                                    \t\t and corresponding ages tensor([[11.1381,  0.0000,  0.0000,  0.0000,  0.0000]])\n",
      "WARNING:root:Fine-tuning batch has 1 samples without at least two events.\n",
      "WARNING:root:\tContinuing by removing singular samples, but these should be removed from the dataset.\n",
      "                                    \t\t Bad sample tokens: tensor([[160,   0,   0,   0,   0]])\n",
      "                                    \t\t and corresponding ages tensor([[11.3381,  0.0000,  0.0000,  0.0000,  0.0000]])\n"
     ]
    },
    {
     "data": {
      "application/vnd.jupyter.widget-view+json": {
       "model_id": "",
       "version_major": 2,
       "version_minor": 0
      },
      "text/plain": [
       "Validation: |          | 0/? [00:00<?, ?it/s]"
      ]
     },
     "metadata": {},
     "output_type": "display_data"
    },
    {
     "name": "stderr",
     "output_type": "stream",
     "text": [
      "Metric val_loss improved by 0.007 >= min_delta = 0. New best score: 2.575\n",
      "Epoch 0, global step 375: 'val_loss' reached 2.57545 (best 2.57545), saving model to '/rds/projects/s/subramaa-mum-predict/CharlesGadd_Oxford/FoundationModelOutput/checkpoints/SurvivEHR-cr-small-v1_mm-fine-tune-cr-A8-notebook.ckpt' as top 1\n",
      "WARNING:root:Fine-tuning batch has 1 samples without at least two events.\n",
      "WARNING:root:\tContinuing by removing singular samples, but these should be removed from the dataset.\n",
      "                                    \t\t Bad sample tokens: tensor([[184,   0,   0,   0,   0]])\n",
      "                                    \t\t and corresponding ages tensor([[12.1134,  0.0000,  0.0000,  0.0000,  0.0000]])\n",
      "WARNING:root:Fine-tuning batch has 1 samples without at least two events.\n",
      "WARNING:root:\tContinuing by removing singular samples, but these should be removed from the dataset.\n",
      "                                    \t\t Bad sample tokens: tensor([[260,   0,   0,   0,   0]])\n",
      "                                    \t\t and corresponding ages tensor([[13.9342,  0.0000,  0.0000,  0.0000,  0.0000]])\n",
      "WARNING:root:Fine-tuning batch has 1 samples without at least two events.\n",
      "WARNING:root:\tContinuing by removing singular samples, but these should be removed from the dataset.\n",
      "                                    \t\t Bad sample tokens: tensor([[217,   0,   0,   0,   0]])\n",
      "                                    \t\t and corresponding ages tensor([[11.6756,  0.0000,  0.0000,  0.0000,  0.0000]])\n"
     ]
    },
    {
     "data": {
      "application/vnd.jupyter.widget-view+json": {
       "model_id": "",
       "version_major": 2,
       "version_minor": 0
      },
      "text/plain": [
       "Validation: |          | 0/? [00:00<?, ?it/s]"
      ]
     },
     "metadata": {},
     "output_type": "display_data"
    },
    {
     "name": "stderr",
     "output_type": "stream",
     "text": [
      "Metric val_loss improved by 0.003 >= min_delta = 0. New best score: 2.573\n",
      "Epoch 0, global step 387: 'val_loss' reached 2.57270 (best 2.57270), saving model to '/rds/projects/s/subramaa-mum-predict/CharlesGadd_Oxford/FoundationModelOutput/checkpoints/SurvivEHR-cr-small-v1_mm-fine-tune-cr-A8-notebook.ckpt' as top 1\n",
      "WARNING:root:Fine-tuning batch has 1 samples without at least two events.\n",
      "WARNING:root:\tContinuing by removing singular samples, but these should be removed from the dataset.\n",
      "                                    \t\t Bad sample tokens: tensor([[184,   0,   0,   0,   0]])\n",
      "                                    \t\t and corresponding ages tensor([[12.1134,  0.0000,  0.0000,  0.0000,  0.0000]])\n",
      "WARNING:root:Fine-tuning batch has 1 samples without at least two events.\n",
      "WARNING:root:\tContinuing by removing singular samples, but these should be removed from the dataset.\n",
      "                                    \t\t Bad sample tokens: tensor([[260,   0,   0,   0,   0]])\n",
      "                                    \t\t and corresponding ages tensor([[12.2904,  0.0000,  0.0000,  0.0000,  0.0000]])\n",
      "WARNING:root:Fine-tuning batch has 1 samples without at least two events.\n",
      "WARNING:root:\tContinuing by removing singular samples, but these should be removed from the dataset.\n",
      "                                    \t\t Bad sample tokens: tensor([[260,   0,   0,   0,   0]])\n",
      "                                    \t\t and corresponding ages tensor([[12.8745,  0.0000,  0.0000,  0.0000,  0.0000]])\n"
     ]
    },
    {
     "data": {
      "application/vnd.jupyter.widget-view+json": {
       "model_id": "",
       "version_major": 2,
       "version_minor": 0
      },
      "text/plain": [
       "Validation: |          | 0/? [00:00<?, ?it/s]"
      ]
     },
     "metadata": {},
     "output_type": "display_data"
    },
    {
     "name": "stderr",
     "output_type": "stream",
     "text": [
      "Metric val_loss improved by 0.003 >= min_delta = 0. New best score: 2.570\n",
      "Epoch 0, global step 400: 'val_loss' reached 2.56961 (best 2.56961), saving model to '/rds/projects/s/subramaa-mum-predict/CharlesGadd_Oxford/FoundationModelOutput/checkpoints/SurvivEHR-cr-small-v1_mm-fine-tune-cr-A8-notebook.ckpt' as top 1\n",
      "WARNING:root:Fine-tuning batch has 1 samples without at least two events.\n",
      "WARNING:root:\tContinuing by removing singular samples, but these should be removed from the dataset.\n",
      "                                    \t\t Bad sample tokens: tensor([[184,   0,   0,   0,   0]])\n",
      "                                    \t\t and corresponding ages tensor([[12.1134,  0.0000,  0.0000,  0.0000,  0.0000]])\n",
      "WARNING:root:Fine-tuning batch has 1 samples without at least two events.\n",
      "WARNING:root:\tContinuing by removing singular samples, but these should be removed from the dataset.\n",
      "                                    \t\t Bad sample tokens: tensor([[255,   0,   0,   0,   0]])\n",
      "                                    \t\t and corresponding ages tensor([[10.5644,  0.0000,  0.0000,  0.0000,  0.0000]])\n",
      "WARNING:root:Fine-tuning batch has 1 samples without at least two events.\n",
      "WARNING:root:\tContinuing by removing singular samples, but these should be removed from the dataset.\n",
      "                                    \t\t Bad sample tokens: tensor([[182,   0,   0,   0,   0]])\n",
      "                                    \t\t and corresponding ages tensor([[10.3414,  0.0000,  0.0000,  0.0000,  0.0000]])\n"
     ]
    },
    {
     "data": {
      "application/vnd.jupyter.widget-view+json": {
       "model_id": "",
       "version_major": 2,
       "version_minor": 0
      },
      "text/plain": [
       "Validation: |          | 0/? [00:00<?, ?it/s]"
      ]
     },
     "metadata": {},
     "output_type": "display_data"
    },
    {
     "name": "stderr",
     "output_type": "stream",
     "text": [
      "Metric val_loss improved by 0.004 >= min_delta = 0. New best score: 2.566\n",
      "Epoch 0, global step 412: 'val_loss' reached 2.56603 (best 2.56603), saving model to '/rds/projects/s/subramaa-mum-predict/CharlesGadd_Oxford/FoundationModelOutput/checkpoints/SurvivEHR-cr-small-v1_mm-fine-tune-cr-A8-notebook.ckpt' as top 1\n",
      "WARNING:root:Fine-tuning batch has 1 samples without at least two events.\n",
      "WARNING:root:\tContinuing by removing singular samples, but these should be removed from the dataset.\n",
      "                                    \t\t Bad sample tokens: tensor([[184,   0,   0,   0,   0]])\n",
      "                                    \t\t and corresponding ages tensor([[12.1134,  0.0000,  0.0000,  0.0000,  0.0000]])\n",
      "WARNING:root:Fine-tuning batch has 1 samples without at least two events.\n",
      "WARNING:root:\tContinuing by removing singular samples, but these should be removed from the dataset.\n",
      "                                    \t\t Bad sample tokens: tensor([[254,   0,   0,   0,   0]])\n",
      "                                    \t\t and corresponding ages tensor([[12.0444,  0.0000,  0.0000,  0.0000,  0.0000]])\n"
     ]
    },
    {
     "data": {
      "application/vnd.jupyter.widget-view+json": {
       "model_id": "",
       "version_major": 2,
       "version_minor": 0
      },
      "text/plain": [
       "Validation: |          | 0/? [00:00<?, ?it/s]"
      ]
     },
     "metadata": {},
     "output_type": "display_data"
    },
    {
     "name": "stderr",
     "output_type": "stream",
     "text": [
      "Metric val_loss improved by 0.000 >= min_delta = 0. New best score: 2.566\n",
      "Epoch 0, global step 425: 'val_loss' reached 2.56601 (best 2.56601), saving model to '/rds/projects/s/subramaa-mum-predict/CharlesGadd_Oxford/FoundationModelOutput/checkpoints/SurvivEHR-cr-small-v1_mm-fine-tune-cr-A8-notebook.ckpt' as top 1\n",
      "WARNING:root:Fine-tuning batch has 1 samples without at least two events.\n",
      "WARNING:root:\tContinuing by removing singular samples, but these should be removed from the dataset.\n",
      "                                    \t\t Bad sample tokens: tensor([[184,   0,   0,   0,   0]])\n",
      "                                    \t\t and corresponding ages tensor([[12.1134,  0.0000,  0.0000,  0.0000,  0.0000]])\n",
      "WARNING:root:Fine-tuning batch has 1 samples without at least two events.\n",
      "WARNING:root:\tContinuing by removing singular samples, but these should be removed from the dataset.\n",
      "                                    \t\t Bad sample tokens: tensor([[217,   0,   0,   0,   0]])\n",
      "                                    \t\t and corresponding ages tensor([[10.7666,  0.0000,  0.0000,  0.0000,  0.0000]])\n"
     ]
    },
    {
     "data": {
      "application/vnd.jupyter.widget-view+json": {
       "model_id": "",
       "version_major": 2,
       "version_minor": 0
      },
      "text/plain": [
       "Validation: |          | 0/? [00:00<?, ?it/s]"
      ]
     },
     "metadata": {},
     "output_type": "display_data"
    },
    {
     "name": "stderr",
     "output_type": "stream",
     "text": [
      "WARNING:root:Fine-tuning batch has 1 samples without at least two events.\n",
      "WARNING:root:\tContinuing by removing singular samples, but these should be removed from the dataset.\n",
      "                                    \t\t Bad sample tokens: tensor([[260,   0,   0,   0,   0]])\n",
      "                                    \t\t and corresponding ages tensor([[10.7578,  0.0000,  0.0000,  0.0000,  0.0000]])\n",
      "Metric val_loss improved by 0.005 >= min_delta = 0. New best score: 2.561\n",
      "Epoch 0, global step 437: 'val_loss' reached 2.56134 (best 2.56134), saving model to '/rds/projects/s/subramaa-mum-predict/CharlesGadd_Oxford/FoundationModelOutput/checkpoints/SurvivEHR-cr-small-v1_mm-fine-tune-cr-A8-notebook.ckpt' as top 1\n",
      "WARNING:root:Fine-tuning batch has 1 samples without at least two events.\n",
      "WARNING:root:\tContinuing by removing singular samples, but these should be removed from the dataset.\n",
      "                                    \t\t Bad sample tokens: tensor([[184,   0,   0,   0,   0]])\n",
      "                                    \t\t and corresponding ages tensor([[12.1134,  0.0000,  0.0000,  0.0000,  0.0000]])\n",
      "WARNING:root:Fine-tuning batch has 1 samples without at least two events.\n",
      "WARNING:root:\tContinuing by removing singular samples, but these should be removed from the dataset.\n",
      "                                    \t\t Bad sample tokens: tensor([[260,   0,   0,   0,   0]])\n",
      "                                    \t\t and corresponding ages tensor([[11.1847,  0.0000,  0.0000,  0.0000,  0.0000]])\n",
      "WARNING:root:Fine-tuning batch has 1 samples without at least two events.\n",
      "WARNING:root:\tContinuing by removing singular samples, but these should be removed from the dataset.\n",
      "                                    \t\t Bad sample tokens: tensor([[255,   0,   0,   0,   0]])\n",
      "                                    \t\t and corresponding ages tensor([[10.9167,  0.0000,  0.0000,  0.0000,  0.0000]])\n"
     ]
    },
    {
     "data": {
      "application/vnd.jupyter.widget-view+json": {
       "model_id": "",
       "version_major": 2,
       "version_minor": 0
      },
      "text/plain": [
       "Validation: |          | 0/? [00:00<?, ?it/s]"
      ]
     },
     "metadata": {},
     "output_type": "display_data"
    },
    {
     "name": "stderr",
     "output_type": "stream",
     "text": [
      "Metric val_loss improved by 0.002 >= min_delta = 0. New best score: 2.560\n",
      "Epoch 0, global step 450: 'val_loss' reached 2.55954 (best 2.55954), saving model to '/rds/projects/s/subramaa-mum-predict/CharlesGadd_Oxford/FoundationModelOutput/checkpoints/SurvivEHR-cr-small-v1_mm-fine-tune-cr-A8-notebook.ckpt' as top 1\n",
      "WARNING:root:Fine-tuning batch has 1 samples without at least two events.\n",
      "WARNING:root:\tContinuing by removing singular samples, but these should be removed from the dataset.\n",
      "                                    \t\t Bad sample tokens: tensor([[184,   0,   0,   0,   0]])\n",
      "                                    \t\t and corresponding ages tensor([[12.1134,  0.0000,  0.0000,  0.0000,  0.0000]])\n"
     ]
    },
    {
     "data": {
      "application/vnd.jupyter.widget-view+json": {
       "model_id": "",
       "version_major": 2,
       "version_minor": 0
      },
      "text/plain": [
       "Validation: |          | 0/? [00:00<?, ?it/s]"
      ]
     },
     "metadata": {},
     "output_type": "display_data"
    },
    {
     "name": "stderr",
     "output_type": "stream",
     "text": [
      "Epoch 0, global step 462: 'val_loss' was not in top 1\n",
      "WARNING:root:Fine-tuning batch has 1 samples without at least two events.\n",
      "WARNING:root:\tContinuing by removing singular samples, but these should be removed from the dataset.\n",
      "                                    \t\t Bad sample tokens: tensor([[184,   0,   0,   0,   0]])\n",
      "                                    \t\t and corresponding ages tensor([[12.1134,  0.0000,  0.0000,  0.0000,  0.0000]])\n",
      "WARNING:root:Fine-tuning batch has 1 samples without at least two events.\n",
      "WARNING:root:\tContinuing by removing singular samples, but these should be removed from the dataset.\n",
      "                                    \t\t Bad sample tokens: tensor([[152,   0,   0,   0,   0]])\n",
      "                                    \t\t and corresponding ages tensor([[11.0027,  0.0000,  0.0000,  0.0000,  0.0000]])\n"
     ]
    },
    {
     "data": {
      "application/vnd.jupyter.widget-view+json": {
       "model_id": "",
       "version_major": 2,
       "version_minor": 0
      },
      "text/plain": [
       "Validation: |          | 0/? [00:00<?, ?it/s]"
      ]
     },
     "metadata": {},
     "output_type": "display_data"
    },
    {
     "name": "stderr",
     "output_type": "stream",
     "text": [
      "WARNING:root:Fine-tuning batch has 1 samples without at least two events.\n",
      "WARNING:root:\tContinuing by removing singular samples, but these should be removed from the dataset.\n",
      "                                    \t\t Bad sample tokens: tensor([[260,   0,   0,   0,   0]])\n",
      "                                    \t\t and corresponding ages tensor([[10.9770,  0.0000,  0.0000,  0.0000,  0.0000]])\n",
      "Metric val_loss improved by 0.001 >= min_delta = 0. New best score: 2.558\n",
      "Epoch 0, global step 475: 'val_loss' reached 2.55808 (best 2.55808), saving model to '/rds/projects/s/subramaa-mum-predict/CharlesGadd_Oxford/FoundationModelOutput/checkpoints/SurvivEHR-cr-small-v1_mm-fine-tune-cr-A8-notebook.ckpt' as top 1\n",
      "WARNING:root:Fine-tuning batch has 1 samples without at least two events.\n",
      "WARNING:root:\tContinuing by removing singular samples, but these should be removed from the dataset.\n",
      "                                    \t\t Bad sample tokens: tensor([[184,   0,   0,   0,   0]])\n",
      "                                    \t\t and corresponding ages tensor([[12.1134,  0.0000,  0.0000,  0.0000,  0.0000]])\n"
     ]
    },
    {
     "data": {
      "application/vnd.jupyter.widget-view+json": {
       "model_id": "",
       "version_major": 2,
       "version_minor": 0
      },
      "text/plain": [
       "Validation: |          | 0/? [00:00<?, ?it/s]"
      ]
     },
     "metadata": {},
     "output_type": "display_data"
    },
    {
     "name": "stderr",
     "output_type": "stream",
     "text": [
      "Epoch 0, global step 487: 'val_loss' was not in top 1\n",
      "WARNING:root:Fine-tuning batch has 1 samples without at least two events.\n",
      "WARNING:root:\tContinuing by removing singular samples, but these should be removed from the dataset.\n",
      "                                    \t\t Bad sample tokens: tensor([[184,   0,   0,   0,   0]])\n",
      "                                    \t\t and corresponding ages tensor([[12.1134,  0.0000,  0.0000,  0.0000,  0.0000]])\n",
      "WARNING:root:Fine-tuning batch has 1 samples without at least two events.\n",
      "WARNING:root:\tContinuing by removing singular samples, but these should be removed from the dataset.\n",
      "                                    \t\t Bad sample tokens: tensor([[217,   0,   0,   0,   0]])\n",
      "                                    \t\t and corresponding ages tensor([[10.3584,  0.0000,  0.0000,  0.0000,  0.0000]])\n",
      "WARNING:root:Fine-tuning batch has 1 samples without at least two events.\n",
      "WARNING:root:\tContinuing by removing singular samples, but these should be removed from the dataset.\n",
      "                                    \t\t Bad sample tokens: tensor([[217,   0,   0,   0,   0]])\n",
      "                                    \t\t and corresponding ages tensor([[10.1414,  0.0000,  0.0000,  0.0000,  0.0000]])\n",
      "WARNING:root:Fine-tuning batch has 1 samples without at least two events.\n",
      "WARNING:root:\tContinuing by removing singular samples, but these should be removed from the dataset.\n",
      "                                    \t\t Bad sample tokens: tensor([[217,   0,   0,   0,   0]])\n",
      "                                    \t\t and corresponding ages tensor([[10.4016,  0.0000,  0.0000,  0.0000,  0.0000]])\n",
      "WARNING:root:Fine-tuning batch has 1 samples without at least two events.\n",
      "WARNING:root:\tContinuing by removing singular samples, but these should be removed from the dataset.\n",
      "                                    \t\t Bad sample tokens: tensor([[217,   0,   0,   0,   0]])\n",
      "                                    \t\t and corresponding ages tensor([[10.2932,  0.0000,  0.0000,  0.0000,  0.0000]])\n"
     ]
    },
    {
     "data": {
      "application/vnd.jupyter.widget-view+json": {
       "model_id": "",
       "version_major": 2,
       "version_minor": 0
      },
      "text/plain": [
       "Validation: |          | 0/? [00:00<?, ?it/s]"
      ]
     },
     "metadata": {},
     "output_type": "display_data"
    },
    {
     "name": "stderr",
     "output_type": "stream",
     "text": [
      "Epoch 0, global step 500: 'val_loss' was not in top 1\n",
      "WARNING:root:Fine-tuning batch has 1 samples without at least two events.\n",
      "WARNING:root:\tContinuing by removing singular samples, but these should be removed from the dataset.\n",
      "                                    \t\t Bad sample tokens: tensor([[184,   0,   0,   0,   0]])\n",
      "                                    \t\t and corresponding ages tensor([[12.1134,  0.0000,  0.0000,  0.0000,  0.0000]])\n",
      "WARNING:root:Fine-tuning batch has 1 samples without at least two events.\n",
      "WARNING:root:\tContinuing by removing singular samples, but these should be removed from the dataset.\n",
      "                                    \t\t Bad sample tokens: tensor([[217,   0,   0,   0,   0]])\n",
      "                                    \t\t and corresponding ages tensor([[10.1375,  0.0000,  0.0000,  0.0000,  0.0000]])\n",
      "WARNING:root:Fine-tuning batch has 1 samples without at least two events.\n",
      "WARNING:root:\tContinuing by removing singular samples, but these should be removed from the dataset.\n",
      "                                    \t\t Bad sample tokens: tensor([[189,   0,   0,   0,   0]])\n",
      "                                    \t\t and corresponding ages tensor([[10.5512,  0.0000,  0.0000,  0.0000,  0.0000]])\n",
      "WARNING:root:Fine-tuning batch has 1 samples without at least two events.\n",
      "WARNING:root:\tContinuing by removing singular samples, but these should be removed from the dataset.\n",
      "                                    \t\t Bad sample tokens: tensor([[260,   0,   0,   0,   0]])\n",
      "                                    \t\t and corresponding ages tensor([[11.4203,  0.0000,  0.0000,  0.0000,  0.0000]])\n"
     ]
    },
    {
     "data": {
      "application/vnd.jupyter.widget-view+json": {
       "model_id": "",
       "version_major": 2,
       "version_minor": 0
      },
      "text/plain": [
       "Validation: |          | 0/? [00:00<?, ?it/s]"
      ]
     },
     "metadata": {},
     "output_type": "display_data"
    },
    {
     "name": "stderr",
     "output_type": "stream",
     "text": [
      "WARNING:root:Fine-tuning batch has 1 samples without at least two events.\n",
      "WARNING:root:\tContinuing by removing singular samples, but these should be removed from the dataset.\n",
      "                                    \t\t Bad sample tokens: tensor([[217,   0,   0,   0,   0]])\n",
      "                                    \t\t and corresponding ages tensor([[11.6099,  0.0000,  0.0000,  0.0000,  0.0000]])\n",
      "Metric val_loss improved by 0.002 >= min_delta = 0. New best score: 2.556\n",
      "Epoch 0, global step 512: 'val_loss' reached 2.55598 (best 2.55598), saving model to '/rds/projects/s/subramaa-mum-predict/CharlesGadd_Oxford/FoundationModelOutput/checkpoints/SurvivEHR-cr-small-v1_mm-fine-tune-cr-A8-notebook.ckpt' as top 1\n",
      "WARNING:root:Fine-tuning batch has 1 samples without at least two events.\n",
      "WARNING:root:\tContinuing by removing singular samples, but these should be removed from the dataset.\n",
      "                                    \t\t Bad sample tokens: tensor([[184,   0,   0,   0,   0]])\n",
      "                                    \t\t and corresponding ages tensor([[12.1134,  0.0000,  0.0000,  0.0000,  0.0000]])\n",
      "WARNING:root:Fine-tuning batch has 1 samples without at least two events.\n",
      "WARNING:root:\tContinuing by removing singular samples, but these should be removed from the dataset.\n",
      "                                    \t\t Bad sample tokens: tensor([[260,   0,   0,   0,   0]])\n",
      "                                    \t\t and corresponding ages tensor([[11.0663,  0.0000,  0.0000,  0.0000,  0.0000]])\n",
      "WARNING:root:Fine-tuning batch has 1 samples without at least two events.\n",
      "WARNING:root:\tContinuing by removing singular samples, but these should be removed from the dataset.\n",
      "                                    \t\t Bad sample tokens: tensor([[184,   0,   0,   0,   0]])\n",
      "                                    \t\t and corresponding ages tensor([[11.2323,  0.0000,  0.0000,  0.0000,  0.0000]])\n"
     ]
    },
    {
     "data": {
      "application/vnd.jupyter.widget-view+json": {
       "model_id": "",
       "version_major": 2,
       "version_minor": 0
      },
      "text/plain": [
       "Validation: |          | 0/? [00:00<?, ?it/s]"
      ]
     },
     "metadata": {},
     "output_type": "display_data"
    },
    {
     "name": "stderr",
     "output_type": "stream",
     "text": [
      "Metric val_loss improved by 0.009 >= min_delta = 0. New best score: 2.547\n",
      "Epoch 0, global step 525: 'val_loss' reached 2.54670 (best 2.54670), saving model to '/rds/projects/s/subramaa-mum-predict/CharlesGadd_Oxford/FoundationModelOutput/checkpoints/SurvivEHR-cr-small-v1_mm-fine-tune-cr-A8-notebook.ckpt' as top 1\n",
      "WARNING:root:Fine-tuning batch has 1 samples without at least two events.\n",
      "WARNING:root:\tContinuing by removing singular samples, but these should be removed from the dataset.\n",
      "                                    \t\t Bad sample tokens: tensor([[184,   0,   0,   0,   0]])\n",
      "                                    \t\t and corresponding ages tensor([[12.1134,  0.0000,  0.0000,  0.0000,  0.0000]])\n",
      "WARNING:root:Fine-tuning batch has 1 samples without at least two events.\n",
      "WARNING:root:\tContinuing by removing singular samples, but these should be removed from the dataset.\n",
      "                                    \t\t Bad sample tokens: tensor([[207,   0,   0,   0,   0]])\n",
      "                                    \t\t and corresponding ages tensor([[10.3814,  0.0000,  0.0000,  0.0000,  0.0000]])\n",
      "WARNING:root:Fine-tuning batch has 1 samples without at least two events.\n",
      "WARNING:root:\tContinuing by removing singular samples, but these should be removed from the dataset.\n",
      "                                    \t\t Bad sample tokens: tensor([[152,   0,   0,   0,   0]])\n",
      "                                    \t\t and corresponding ages tensor([[10.3868,  0.0000,  0.0000,  0.0000,  0.0000]])\n"
     ]
    },
    {
     "data": {
      "application/vnd.jupyter.widget-view+json": {
       "model_id": "",
       "version_major": 2,
       "version_minor": 0
      },
      "text/plain": [
       "Validation: |          | 0/? [00:00<?, ?it/s]"
      ]
     },
     "metadata": {},
     "output_type": "display_data"
    },
    {
     "name": "stderr",
     "output_type": "stream",
     "text": [
      "Epoch 0, global step 537: 'val_loss' was not in top 1\n",
      "WARNING:root:Fine-tuning batch has 1 samples without at least two events.\n",
      "WARNING:root:\tContinuing by removing singular samples, but these should be removed from the dataset.\n",
      "                                    \t\t Bad sample tokens: tensor([[184,   0,   0,   0,   0]])\n",
      "                                    \t\t and corresponding ages tensor([[12.1134,  0.0000,  0.0000,  0.0000,  0.0000]])\n",
      "WARNING:root:Fine-tuning batch has 1 samples without at least two events.\n",
      "WARNING:root:\tContinuing by removing singular samples, but these should be removed from the dataset.\n",
      "                                    \t\t Bad sample tokens: tensor([[177,   0,   0,   0,   0]])\n",
      "                                    \t\t and corresponding ages tensor([[10.0433,  0.0000,  0.0000,  0.0000,  0.0000]])\n",
      "WARNING:root:Fine-tuning batch has 1 samples without at least two events.\n",
      "WARNING:root:\tContinuing by removing singular samples, but these should be removed from the dataset.\n",
      "                                    \t\t Bad sample tokens: tensor([[260,   0,   0,   0,   0]])\n",
      "                                    \t\t and corresponding ages tensor([[10.5233,  0.0000,  0.0000,  0.0000,  0.0000]])\n",
      "WARNING:root:Fine-tuning batch has 1 samples without at least two events.\n",
      "WARNING:root:\tContinuing by removing singular samples, but these should be removed from the dataset.\n",
      "                                    \t\t Bad sample tokens: tensor([[217,   0,   0,   0,   0]])\n",
      "                                    \t\t and corresponding ages tensor([[10.6049,  0.0000,  0.0000,  0.0000,  0.0000]])\n",
      "WARNING:root:Fine-tuning batch has 1 samples without at least two events.\n",
      "WARNING:root:\tContinuing by removing singular samples, but these should be removed from the dataset.\n",
      "                                    \t\t Bad sample tokens: tensor([[217,   0,   0,   0,   0]])\n",
      "                                    \t\t and corresponding ages tensor([[10.9984,  0.0000,  0.0000,  0.0000,  0.0000]])\n"
     ]
    },
    {
     "data": {
      "application/vnd.jupyter.widget-view+json": {
       "model_id": "",
       "version_major": 2,
       "version_minor": 0
      },
      "text/plain": [
       "Validation: |          | 0/? [00:00<?, ?it/s]"
      ]
     },
     "metadata": {},
     "output_type": "display_data"
    },
    {
     "name": "stderr",
     "output_type": "stream",
     "text": [
      "Metric val_loss improved by 0.000 >= min_delta = 0. New best score: 2.547\n",
      "Epoch 0, global step 550: 'val_loss' reached 2.54650 (best 2.54650), saving model to '/rds/projects/s/subramaa-mum-predict/CharlesGadd_Oxford/FoundationModelOutput/checkpoints/SurvivEHR-cr-small-v1_mm-fine-tune-cr-A8-notebook.ckpt' as top 1\n",
      "WARNING:root:Fine-tuning batch has 1 samples without at least two events.\n",
      "WARNING:root:\tContinuing by removing singular samples, but these should be removed from the dataset.\n",
      "                                    \t\t Bad sample tokens: tensor([[184,   0,   0,   0,   0]])\n",
      "                                    \t\t and corresponding ages tensor([[12.1134,  0.0000,  0.0000,  0.0000,  0.0000]])\n",
      "WARNING:root:Fine-tuning batch has 1 samples without at least two events.\n",
      "WARNING:root:\tContinuing by removing singular samples, but these should be removed from the dataset.\n",
      "                                    \t\t Bad sample tokens: tensor([[217,   0,   0,   0,   0]])\n",
      "                                    \t\t and corresponding ages tensor([[10.4493,  0.0000,  0.0000,  0.0000,  0.0000]])\n",
      "WARNING:root:Fine-tuning batch has 1 samples without at least two events.\n",
      "WARNING:root:\tContinuing by removing singular samples, but these should be removed from the dataset.\n",
      "                                    \t\t Bad sample tokens: tensor([[217,   0,   0,   0,   0]])\n",
      "                                    \t\t and corresponding ages tensor([[10.6784,  0.0000,  0.0000,  0.0000,  0.0000]])\n",
      "WARNING:root:Fine-tuning batch has 1 samples without at least two events.\n",
      "WARNING:root:\tContinuing by removing singular samples, but these should be removed from the dataset.\n",
      "                                    \t\t Bad sample tokens: tensor([[217,   0,   0,   0,   0]])\n",
      "                                    \t\t and corresponding ages tensor([[11.1288,  0.0000,  0.0000,  0.0000,  0.0000]])\n"
     ]
    },
    {
     "data": {
      "application/vnd.jupyter.widget-view+json": {
       "model_id": "",
       "version_major": 2,
       "version_minor": 0
      },
      "text/plain": [
       "Validation: |          | 0/? [00:00<?, ?it/s]"
      ]
     },
     "metadata": {},
     "output_type": "display_data"
    },
    {
     "name": "stderr",
     "output_type": "stream",
     "text": [
      "WARNING:root:Fine-tuning batch has 1 samples without at least two events.\n",
      "WARNING:root:\tContinuing by removing singular samples, but these should be removed from the dataset.\n",
      "                                    \t\t Bad sample tokens: tensor([[260,   0,   0,   0,   0]])\n",
      "                                    \t\t and corresponding ages tensor([[11.1644,  0.0000,  0.0000,  0.0000,  0.0000]])\n",
      "Metric val_loss improved by 0.003 >= min_delta = 0. New best score: 2.543\n",
      "Epoch 0, global step 562: 'val_loss' reached 2.54336 (best 2.54336), saving model to '/rds/projects/s/subramaa-mum-predict/CharlesGadd_Oxford/FoundationModelOutput/checkpoints/SurvivEHR-cr-small-v1_mm-fine-tune-cr-A8-notebook.ckpt' as top 1\n",
      "WARNING:root:Fine-tuning batch has 1 samples without at least two events.\n",
      "WARNING:root:\tContinuing by removing singular samples, but these should be removed from the dataset.\n",
      "                                    \t\t Bad sample tokens: tensor([[184,   0,   0,   0,   0]])\n",
      "                                    \t\t and corresponding ages tensor([[12.1134,  0.0000,  0.0000,  0.0000,  0.0000]])\n",
      "WARNING:root:Fine-tuning batch has 1 samples without at least two events.\n",
      "WARNING:root:\tContinuing by removing singular samples, but these should be removed from the dataset.\n",
      "                                    \t\t Bad sample tokens: tensor([[217,   0,   0,   0,   0]])\n",
      "                                    \t\t and corresponding ages tensor([[10.4690,  0.0000,  0.0000,  0.0000,  0.0000]])\n",
      "WARNING:root:Fine-tuning batch has 2 samples without at least two events.\n",
      "WARNING:root:\tContinuing by removing singular samples, but these should be removed from the dataset.\n",
      "                                    \t\t Bad sample tokens: tensor([[255,   0,   0,   0,   0],\n",
      "        [217,   0,   0,   0,   0]])\n",
      "                                    \t\t and corresponding ages tensor([[11.5945,  0.0000,  0.0000,  0.0000,  0.0000],\n",
      "        [12.9370,  0.0000,  0.0000,  0.0000,  0.0000]])\n"
     ]
    },
    {
     "data": {
      "application/vnd.jupyter.widget-view+json": {
       "model_id": "",
       "version_major": 2,
       "version_minor": 0
      },
      "text/plain": [
       "Validation: |          | 0/? [00:00<?, ?it/s]"
      ]
     },
     "metadata": {},
     "output_type": "display_data"
    },
    {
     "name": "stderr",
     "output_type": "stream",
     "text": [
      "Metric val_loss improved by 0.002 >= min_delta = 0. New best score: 2.541\n",
      "Epoch 0, global step 575: 'val_loss' reached 2.54113 (best 2.54113), saving model to '/rds/projects/s/subramaa-mum-predict/CharlesGadd_Oxford/FoundationModelOutput/checkpoints/SurvivEHR-cr-small-v1_mm-fine-tune-cr-A8-notebook.ckpt' as top 1\n",
      "WARNING:root:Fine-tuning batch has 1 samples without at least two events.\n",
      "WARNING:root:\tContinuing by removing singular samples, but these should be removed from the dataset.\n",
      "                                    \t\t Bad sample tokens: tensor([[184,   0,   0,   0,   0]])\n",
      "                                    \t\t and corresponding ages tensor([[12.1134,  0.0000,  0.0000,  0.0000,  0.0000]])\n",
      "WARNING:root:Fine-tuning batch has 1 samples without at least two events.\n",
      "WARNING:root:\tContinuing by removing singular samples, but these should be removed from the dataset.\n",
      "                                    \t\t Bad sample tokens: tensor([[251,   0,   0,   0,   0]])\n",
      "                                    \t\t and corresponding ages tensor([[12.3912,  0.0000,  0.0000,  0.0000,  0.0000]])\n",
      "WARNING:root:Fine-tuning batch has 2 samples without at least two events.\n",
      "WARNING:root:\tContinuing by removing singular samples, but these should be removed from the dataset.\n",
      "                                    \t\t Bad sample tokens: tensor([[217,   0,   0,   0,   0],\n",
      "        [152,   0,   0,   0,   0]])\n",
      "                                    \t\t and corresponding ages tensor([[10.7162,  0.0000,  0.0000,  0.0000,  0.0000],\n",
      "        [10.3260,  0.0000,  0.0000,  0.0000,  0.0000]])\n"
     ]
    },
    {
     "data": {
      "application/vnd.jupyter.widget-view+json": {
       "model_id": "",
       "version_major": 2,
       "version_minor": 0
      },
      "text/plain": [
       "Validation: |          | 0/? [00:00<?, ?it/s]"
      ]
     },
     "metadata": {},
     "output_type": "display_data"
    },
    {
     "name": "stderr",
     "output_type": "stream",
     "text": [
      "WARNING:root:Fine-tuning batch has 1 samples without at least two events.\n",
      "WARNING:root:\tContinuing by removing singular samples, but these should be removed from the dataset.\n",
      "                                    \t\t Bad sample tokens: tensor([[260,   0,   0,   0,   0]])\n",
      "                                    \t\t and corresponding ages tensor([[12.6866,  0.0000,  0.0000,  0.0000,  0.0000]])\n",
      "Metric val_loss improved by 0.001 >= min_delta = 0. New best score: 2.540\n",
      "Epoch 0, global step 587: 'val_loss' reached 2.53979 (best 2.53979), saving model to '/rds/projects/s/subramaa-mum-predict/CharlesGadd_Oxford/FoundationModelOutput/checkpoints/SurvivEHR-cr-small-v1_mm-fine-tune-cr-A8-notebook.ckpt' as top 1\n",
      "WARNING:root:Fine-tuning batch has 1 samples without at least two events.\n",
      "WARNING:root:\tContinuing by removing singular samples, but these should be removed from the dataset.\n",
      "                                    \t\t Bad sample tokens: tensor([[184,   0,   0,   0,   0]])\n",
      "                                    \t\t and corresponding ages tensor([[12.1134,  0.0000,  0.0000,  0.0000,  0.0000]])\n",
      "WARNING:root:Fine-tuning batch has 1 samples without at least two events.\n",
      "WARNING:root:\tContinuing by removing singular samples, but these should be removed from the dataset.\n",
      "                                    \t\t Bad sample tokens: tensor([[255,   0,   0,   0,   0]])\n",
      "                                    \t\t and corresponding ages tensor([[10.6471,  0.0000,  0.0000,  0.0000,  0.0000]])\n",
      "WARNING:root:Fine-tuning batch has 1 samples without at least two events.\n",
      "WARNING:root:\tContinuing by removing singular samples, but these should be removed from the dataset.\n",
      "                                    \t\t Bad sample tokens: tensor([[255,   0,   0,   0,   0]])\n",
      "                                    \t\t and corresponding ages tensor([[10.1463,  0.0000,  0.0000,  0.0000,  0.0000]])\n"
     ]
    },
    {
     "data": {
      "application/vnd.jupyter.widget-view+json": {
       "model_id": "",
       "version_major": 2,
       "version_minor": 0
      },
      "text/plain": [
       "Validation: |          | 0/? [00:00<?, ?it/s]"
      ]
     },
     "metadata": {},
     "output_type": "display_data"
    },
    {
     "name": "stderr",
     "output_type": "stream",
     "text": [
      "Epoch 0, global step 600: 'val_loss' was not in top 1\n",
      "WARNING:root:Fine-tuning batch has 1 samples without at least two events.\n",
      "WARNING:root:\tContinuing by removing singular samples, but these should be removed from the dataset.\n",
      "                                    \t\t Bad sample tokens: tensor([[184,   0,   0,   0,   0]])\n",
      "                                    \t\t and corresponding ages tensor([[12.1134,  0.0000,  0.0000,  0.0000,  0.0000]])\n"
     ]
    },
    {
     "data": {
      "application/vnd.jupyter.widget-view+json": {
       "model_id": "",
       "version_major": 2,
       "version_minor": 0
      },
      "text/plain": [
       "Validation: |          | 0/? [00:00<?, ?it/s]"
      ]
     },
     "metadata": {},
     "output_type": "display_data"
    },
    {
     "name": "stderr",
     "output_type": "stream",
     "text": [
      "Epoch 0, global step 612: 'val_loss' was not in top 1\n",
      "WARNING:root:Fine-tuning batch has 1 samples without at least two events.\n",
      "WARNING:root:\tContinuing by removing singular samples, but these should be removed from the dataset.\n",
      "                                    \t\t Bad sample tokens: tensor([[184,   0,   0,   0,   0]])\n",
      "                                    \t\t and corresponding ages tensor([[12.1134,  0.0000,  0.0000,  0.0000,  0.0000]])\n",
      "WARNING:root:Fine-tuning batch has 1 samples without at least two events.\n",
      "WARNING:root:\tContinuing by removing singular samples, but these should be removed from the dataset.\n",
      "                                    \t\t Bad sample tokens: tensor([[260,   0,   0,   0,   0]])\n",
      "                                    \t\t and corresponding ages tensor([[11.8060,  0.0000,  0.0000,  0.0000,  0.0000]])\n",
      "WARNING:root:Fine-tuning batch has 1 samples without at least two events.\n",
      "WARNING:root:\tContinuing by removing singular samples, but these should be removed from the dataset.\n",
      "                                    \t\t Bad sample tokens: tensor([[167,   0,   0,   0,   0]])\n",
      "                                    \t\t and corresponding ages tensor([[12.3879,  0.0000,  0.0000,  0.0000,  0.0000]])\n"
     ]
    },
    {
     "data": {
      "application/vnd.jupyter.widget-view+json": {
       "model_id": "",
       "version_major": 2,
       "version_minor": 0
      },
      "text/plain": [
       "Validation: |          | 0/? [00:00<?, ?it/s]"
      ]
     },
     "metadata": {},
     "output_type": "display_data"
    },
    {
     "name": "stderr",
     "output_type": "stream",
     "text": [
      "Metric val_loss improved by 0.002 >= min_delta = 0. New best score: 2.538\n",
      "Epoch 0, global step 625: 'val_loss' reached 2.53782 (best 2.53782), saving model to '/rds/projects/s/subramaa-mum-predict/CharlesGadd_Oxford/FoundationModelOutput/checkpoints/SurvivEHR-cr-small-v1_mm-fine-tune-cr-A8-notebook.ckpt' as top 1\n",
      "WARNING:root:Fine-tuning batch has 1 samples without at least two events.\n",
      "WARNING:root:\tContinuing by removing singular samples, but these should be removed from the dataset.\n",
      "                                    \t\t Bad sample tokens: tensor([[184,   0,   0,   0,   0]])\n",
      "                                    \t\t and corresponding ages tensor([[12.1134,  0.0000,  0.0000,  0.0000,  0.0000]])\n"
     ]
    },
    {
     "data": {
      "application/vnd.jupyter.widget-view+json": {
       "model_id": "",
       "version_major": 2,
       "version_minor": 0
      },
      "text/plain": [
       "Validation: |          | 0/? [00:00<?, ?it/s]"
      ]
     },
     "metadata": {},
     "output_type": "display_data"
    },
    {
     "name": "stderr",
     "output_type": "stream",
     "text": [
      "Metric val_loss improved by 0.001 >= min_delta = 0. New best score: 2.536\n",
      "Epoch 0, global step 637: 'val_loss' reached 2.53640 (best 2.53640), saving model to '/rds/projects/s/subramaa-mum-predict/CharlesGadd_Oxford/FoundationModelOutput/checkpoints/SurvivEHR-cr-small-v1_mm-fine-tune-cr-A8-notebook.ckpt' as top 1\n",
      "WARNING:root:Fine-tuning batch has 1 samples without at least two events.\n",
      "WARNING:root:\tContinuing by removing singular samples, but these should be removed from the dataset.\n",
      "                                    \t\t Bad sample tokens: tensor([[184,   0,   0,   0,   0]])\n",
      "                                    \t\t and corresponding ages tensor([[12.1134,  0.0000,  0.0000,  0.0000,  0.0000]])\n",
      "WARNING:root:Fine-tuning batch has 1 samples without at least two events.\n",
      "WARNING:root:\tContinuing by removing singular samples, but these should be removed from the dataset.\n",
      "                                    \t\t Bad sample tokens: tensor([[184,   0,   0,   0,   0]])\n",
      "                                    \t\t and corresponding ages tensor([[10.2153,  0.0000,  0.0000,  0.0000,  0.0000]])\n"
     ]
    },
    {
     "data": {
      "application/vnd.jupyter.widget-view+json": {
       "model_id": "",
       "version_major": 2,
       "version_minor": 0
      },
      "text/plain": [
       "Validation: |          | 0/? [00:00<?, ?it/s]"
      ]
     },
     "metadata": {},
     "output_type": "display_data"
    },
    {
     "name": "stderr",
     "output_type": "stream",
     "text": [
      "Epoch 0, global step 650: 'val_loss' was not in top 1\n",
      "WARNING:root:Fine-tuning batch has 1 samples without at least two events.\n",
      "WARNING:root:\tContinuing by removing singular samples, but these should be removed from the dataset.\n",
      "                                    \t\t Bad sample tokens: tensor([[184,   0,   0,   0,   0]])\n",
      "                                    \t\t and corresponding ages tensor([[12.1134,  0.0000,  0.0000,  0.0000,  0.0000]])\n",
      "WARNING:root:Fine-tuning batch has 1 samples without at least two events.\n",
      "WARNING:root:\tContinuing by removing singular samples, but these should be removed from the dataset.\n",
      "                                    \t\t Bad sample tokens: tensor([[217,   0,   0,   0,   0]])\n",
      "                                    \t\t and corresponding ages tensor([[10.7474,  0.0000,  0.0000,  0.0000,  0.0000]])\n"
     ]
    },
    {
     "data": {
      "application/vnd.jupyter.widget-view+json": {
       "model_id": "",
       "version_major": 2,
       "version_minor": 0
      },
      "text/plain": [
       "Validation: |          | 0/? [00:00<?, ?it/s]"
      ]
     },
     "metadata": {},
     "output_type": "display_data"
    },
    {
     "name": "stderr",
     "output_type": "stream",
     "text": [
      "Metric val_loss improved by 0.003 >= min_delta = 0. New best score: 2.533\n",
      "Epoch 0, global step 662: 'val_loss' reached 2.53329 (best 2.53329), saving model to '/rds/projects/s/subramaa-mum-predict/CharlesGadd_Oxford/FoundationModelOutput/checkpoints/SurvivEHR-cr-small-v1_mm-fine-tune-cr-A8-notebook.ckpt' as top 1\n",
      "WARNING:root:Fine-tuning batch has 1 samples without at least two events.\n",
      "WARNING:root:\tContinuing by removing singular samples, but these should be removed from the dataset.\n",
      "                                    \t\t Bad sample tokens: tensor([[184,   0,   0,   0,   0]])\n",
      "                                    \t\t and corresponding ages tensor([[12.1134,  0.0000,  0.0000,  0.0000,  0.0000]])\n",
      "WARNING:root:Fine-tuning batch has 1 samples without at least two events.\n",
      "WARNING:root:\tContinuing by removing singular samples, but these should be removed from the dataset.\n",
      "                                    \t\t Bad sample tokens: tensor([[260,   0,   0,   0,   0]])\n",
      "                                    \t\t and corresponding ages tensor([[11.9764,  0.0000,  0.0000,  0.0000,  0.0000]])\n",
      "WARNING:root:Fine-tuning batch has 1 samples without at least two events.\n",
      "WARNING:root:\tContinuing by removing singular samples, but these should be removed from the dataset.\n",
      "                                    \t\t Bad sample tokens: tensor([[260,   0,   0,   0,   0]])\n",
      "                                    \t\t and corresponding ages tensor([[11.5074,  0.0000,  0.0000,  0.0000,  0.0000]])\n"
     ]
    },
    {
     "data": {
      "application/vnd.jupyter.widget-view+json": {
       "model_id": "",
       "version_major": 2,
       "version_minor": 0
      },
      "text/plain": [
       "Validation: |          | 0/? [00:00<?, ?it/s]"
      ]
     },
     "metadata": {},
     "output_type": "display_data"
    },
    {
     "name": "stderr",
     "output_type": "stream",
     "text": [
      "Epoch 0, global step 675: 'val_loss' was not in top 1\n",
      "WARNING:root:Fine-tuning batch has 1 samples without at least two events.\n",
      "WARNING:root:\tContinuing by removing singular samples, but these should be removed from the dataset.\n",
      "                                    \t\t Bad sample tokens: tensor([[184,   0,   0,   0,   0]])\n",
      "                                    \t\t and corresponding ages tensor([[12.1134,  0.0000,  0.0000,  0.0000,  0.0000]])\n"
     ]
    },
    {
     "data": {
      "application/vnd.jupyter.widget-view+json": {
       "model_id": "",
       "version_major": 2,
       "version_minor": 0
      },
      "text/plain": [
       "Validation: |          | 0/? [00:00<?, ?it/s]"
      ]
     },
     "metadata": {},
     "output_type": "display_data"
    },
    {
     "name": "stderr",
     "output_type": "stream",
     "text": [
      "Epoch 0, global step 687: 'val_loss' was not in top 1\n",
      "WARNING:root:Fine-tuning batch has 1 samples without at least two events.\n",
      "WARNING:root:\tContinuing by removing singular samples, but these should be removed from the dataset.\n",
      "                                    \t\t Bad sample tokens: tensor([[184,   0,   0,   0,   0]])\n",
      "                                    \t\t and corresponding ages tensor([[12.1134,  0.0000,  0.0000,  0.0000,  0.0000]])\n",
      "WARNING:root:Fine-tuning batch has 1 samples without at least two events.\n",
      "WARNING:root:\tContinuing by removing singular samples, but these should be removed from the dataset.\n",
      "                                    \t\t Bad sample tokens: tensor([[184,   0,   0,   0,   0]])\n",
      "                                    \t\t and corresponding ages tensor([[11.0652,  0.0000,  0.0000,  0.0000,  0.0000]])\n",
      "WARNING:root:Fine-tuning batch has 1 samples without at least two events.\n",
      "WARNING:root:\tContinuing by removing singular samples, but these should be removed from the dataset.\n",
      "                                    \t\t Bad sample tokens: tensor([[217,   0,   0,   0,   0]])\n",
      "                                    \t\t and corresponding ages tensor([[11.6049,  0.0000,  0.0000,  0.0000,  0.0000]])\n",
      "WARNING:root:Fine-tuning batch has 1 samples without at least two events.\n",
      "WARNING:root:\tContinuing by removing singular samples, but these should be removed from the dataset.\n",
      "                                    \t\t Bad sample tokens: tensor([[217,   0,   0,   0,   0]])\n",
      "                                    \t\t and corresponding ages tensor([[10.7386,  0.0000,  0.0000,  0.0000,  0.0000]])\n",
      "WARNING:root:Fine-tuning batch has 1 samples without at least two events.\n",
      "WARNING:root:\tContinuing by removing singular samples, but these should be removed from the dataset.\n",
      "                                    \t\t Bad sample tokens: tensor([[260,   0,   0,   0,   0]])\n",
      "                                    \t\t and corresponding ages tensor([[11.8038,  0.0000,  0.0000,  0.0000,  0.0000]])\n"
     ]
    },
    {
     "data": {
      "application/vnd.jupyter.widget-view+json": {
       "model_id": "",
       "version_major": 2,
       "version_minor": 0
      },
      "text/plain": [
       "Validation: |          | 0/? [00:00<?, ?it/s]"
      ]
     },
     "metadata": {},
     "output_type": "display_data"
    },
    {
     "name": "stderr",
     "output_type": "stream",
     "text": [
      "WARNING:root:Fine-tuning batch has 1 samples without at least two events.\n",
      "WARNING:root:\tContinuing by removing singular samples, but these should be removed from the dataset.\n",
      "                                    \t\t Bad sample tokens: tensor([[207,   0,   0,   0,   0]])\n",
      "                                    \t\t and corresponding ages tensor([[10.0258,  0.0000,  0.0000,  0.0000,  0.0000]])\n",
      "Epoch 0, global step 700: 'val_loss' was not in top 1\n",
      "WARNING:root:Fine-tuning batch has 1 samples without at least two events.\n",
      "WARNING:root:\tContinuing by removing singular samples, but these should be removed from the dataset.\n",
      "                                    \t\t Bad sample tokens: tensor([[184,   0,   0,   0,   0]])\n",
      "                                    \t\t and corresponding ages tensor([[12.1134,  0.0000,  0.0000,  0.0000,  0.0000]])\n"
     ]
    },
    {
     "data": {
      "application/vnd.jupyter.widget-view+json": {
       "model_id": "",
       "version_major": 2,
       "version_minor": 0
      },
      "text/plain": [
       "Validation: |          | 0/? [00:00<?, ?it/s]"
      ]
     },
     "metadata": {},
     "output_type": "display_data"
    },
    {
     "name": "stderr",
     "output_type": "stream",
     "text": [
      "Monitored metric val_loss did not improve in the last 4 records. Best score: 2.533. Signaling Trainer to stop.\n",
      "Epoch 0, global step 712: 'val_loss' was not in top 1\n",
      "WARNING:root:Fine-tuning batch has 1 samples without at least two events.\n",
      "WARNING:root:\tContinuing by removing singular samples, but these should be removed from the dataset.\n",
      "                                    \t\t Bad sample tokens: tensor([[184,   0,   0,   0,   0]])\n",
      "                                    \t\t and corresponding ages tensor([[12.1134,  0.0000,  0.0000,  0.0000,  0.0000]])\n",
      "LOCAL_RANK: 0 - CUDA_VISIBLE_DEVICES: [0]\n",
      "SLURM auto-requeueing enabled. Setting signal handlers.\n"
     ]
    },
    {
     "data": {
      "application/vnd.jupyter.widget-view+json": {
       "model_id": "4d66d9fe129347a88fe1e372f98b1645",
       "version_major": 2,
       "version_minor": 0
      },
      "text/plain": [
       "Testing: |          | 0/? [00:00<?, ?it/s]"
      ]
     },
     "metadata": {},
     "output_type": "display_data"
    },
    {
     "name": "stderr",
     "output_type": "stream",
     "text": [
      "WARNING:root:Fine-tuning batch has 1 samples without at least two events.\n",
      "WARNING:root:\tContinuing by removing singular samples, but these should be removed from the dataset.\n",
      "                                    \t\t Bad sample tokens: tensor([[255,   0,   0,   0,   0]])\n",
      "                                    \t\t and corresponding ages tensor([[10.7184,  0.0000,  0.0000,  0.0000,  0.0000]])\n",
      "WARNING:root:Fine-tuning batch has 1 samples without at least two events.\n",
      "WARNING:root:\tContinuing by removing singular samples, but these should be removed from the dataset.\n",
      "                                    \t\t Bad sample tokens: tensor([[234,   0,   0,   0,   0]])\n",
      "                                    \t\t and corresponding ages tensor([[10.1036,  0.0000,  0.0000,  0.0000,  0.0000]])\n",
      "WARNING:root:Fine-tuning batch has 1 samples without at least two events.\n",
      "WARNING:root:\tContinuing by removing singular samples, but these should be removed from the dataset.\n",
      "                                    \t\t Bad sample tokens: tensor([[152,   0,   0,   0,   0]])\n",
      "                                    \t\t and corresponding ages tensor([[10.2855,  0.0000,  0.0000,  0.0000,  0.0000]])\n",
      "WARNING:root:Fine-tuning batch has 1 samples without at least two events.\n",
      "WARNING:root:\tContinuing by removing singular samples, but these should be removed from the dataset.\n",
      "                                    \t\t Bad sample tokens: tensor([[217,   0,   0,   0,   0]])\n",
      "                                    \t\t and corresponding ages tensor([[10.0384,  0.0000,  0.0000,  0.0000,  0.0000]])\n",
      "WARNING:root:Fine-tuning batch has 1 samples without at least two events.\n",
      "WARNING:root:\tContinuing by removing singular samples, but these should be removed from the dataset.\n",
      "                                    \t\t Bad sample tokens: tensor([[260,   0,   0,   0,   0]])\n",
      "                                    \t\t and corresponding ages tensor([[13.2953,  0.0000,  0.0000,  0.0000,  0.0000]])\n",
      "WARNING:root:Fine-tuning batch has 1 samples without at least two events.\n",
      "WARNING:root:\tContinuing by removing singular samples, but these should be removed from the dataset.\n",
      "                                    \t\t Bad sample tokens: tensor([[260,   0,   0,   0,   0]])\n",
      "                                    \t\t and corresponding ages tensor([[10.4323,  0.0000,  0.0000,  0.0000,  0.0000]])\n",
      "WARNING:root:Fine-tuning batch has 1 samples without at least two events.\n",
      "WARNING:root:\tContinuing by removing singular samples, but these should be removed from the dataset.\n",
      "                                    \t\t Bad sample tokens: tensor([[189,   0,   0,   0,   0]])\n",
      "                                    \t\t and corresponding ages tensor([[12.3458,  0.0000,  0.0000,  0.0000,  0.0000]])\n",
      "WARNING:root:Fine-tuning batch has 1 samples without at least two events.\n",
      "WARNING:root:\tContinuing by removing singular samples, but these should be removed from the dataset.\n",
      "                                    \t\t Bad sample tokens: tensor([[260,   0,   0,   0,   0]])\n",
      "                                    \t\t and corresponding ages tensor([[11.9074,  0.0000,  0.0000,  0.0000,  0.0000]])\n",
      "WARNING:root:Fine-tuning batch has 1 samples without at least two events.\n",
      "WARNING:root:\tContinuing by removing singular samples, but these should be removed from the dataset.\n",
      "                                    \t\t Bad sample tokens: tensor([[260,   0,   0,   0,   0]])\n",
      "                                    \t\t and corresponding ages tensor([[12.1430,  0.0000,  0.0000,  0.0000,  0.0000]])\n",
      "WARNING:root:Fine-tuning batch has 1 samples without at least two events.\n",
      "WARNING:root:\tContinuing by removing singular samples, but these should be removed from the dataset.\n",
      "                                    \t\t Bad sample tokens: tensor([[255,   0,   0,   0,   0]])\n",
      "                                    \t\t and corresponding ages tensor([[10.3589,  0.0000,  0.0000,  0.0000,  0.0000]])\n",
      "WARNING:root:Fine-tuning batch has 1 samples without at least two events.\n",
      "WARNING:root:\tContinuing by removing singular samples, but these should be removed from the dataset.\n",
      "                                    \t\t Bad sample tokens: tensor([[255,   0,   0,   0,   0]])\n",
      "                                    \t\t and corresponding ages tensor([[13.8866,  0.0000,  0.0000,  0.0000,  0.0000]])\n",
      "WARNING:root:Fine-tuning batch has 1 samples without at least two events.\n",
      "WARNING:root:\tContinuing by removing singular samples, but these should be removed from the dataset.\n",
      "                                    \t\t Bad sample tokens: tensor([[260,   0,   0,   0,   0]])\n",
      "                                    \t\t and corresponding ages tensor([[10.4236,  0.0000,  0.0000,  0.0000,  0.0000]])\n",
      "WARNING:root:Fine-tuning batch has 1 samples without at least two events.\n",
      "WARNING:root:\tContinuing by removing singular samples, but these should be removed from the dataset.\n",
      "                                    \t\t Bad sample tokens: tensor([[260,   0,   0,   0,   0]])\n",
      "                                    \t\t and corresponding ages tensor([[10.9918,  0.0000,  0.0000,  0.0000,  0.0000]])\n",
      "WARNING:root:Fine-tuning batch has 1 samples without at least two events.\n",
      "WARNING:root:\tContinuing by removing singular samples, but these should be removed from the dataset.\n",
      "                                    \t\t Bad sample tokens: tensor([[217,   0,   0,   0,   0]])\n",
      "                                    \t\t and corresponding ages tensor([[10.3386,  0.0000,  0.0000,  0.0000,  0.0000]])\n",
      "WARNING:root:Fine-tuning batch has 1 samples without at least two events.\n",
      "WARNING:root:\tContinuing by removing singular samples, but these should be removed from the dataset.\n",
      "                                    \t\t Bad sample tokens: tensor([[152,   0,   0,   0,   0]])\n",
      "                                    \t\t and corresponding ages tensor([[10.9425,  0.0000,  0.0000,  0.0000,  0.0000]])\n",
      "WARNING:root:Fine-tuning batch has 1 samples without at least two events.\n",
      "WARNING:root:\tContinuing by removing singular samples, but these should be removed from the dataset.\n",
      "                                    \t\t Bad sample tokens: tensor([[217,   0,   0,   0,   0]])\n",
      "                                    \t\t and corresponding ages tensor([[11.7929,  0.0000,  0.0000,  0.0000,  0.0000]])\n",
      "WARNING:root:Fine-tuning batch has 1 samples without at least two events.\n",
      "WARNING:root:\tContinuing by removing singular samples, but these should be removed from the dataset.\n",
      "                                    \t\t Bad sample tokens: tensor([[189,   0,   0,   0,   0]])\n",
      "                                    \t\t and corresponding ages tensor([[10.7474,  0.0000,  0.0000,  0.0000,  0.0000]])\n",
      "WARNING:root:Fine-tuning batch has 1 samples without at least two events.\n",
      "WARNING:root:\tContinuing by removing singular samples, but these should be removed from the dataset.\n",
      "                                    \t\t Bad sample tokens: tensor([[217,   0,   0,   0,   0]])\n",
      "                                    \t\t and corresponding ages tensor([[11.6389,  0.0000,  0.0000,  0.0000,  0.0000]])\n",
      "WARNING:root:Fine-tuning batch has 1 samples without at least two events.\n",
      "WARNING:root:\tContinuing by removing singular samples, but these should be removed from the dataset.\n",
      "                                    \t\t Bad sample tokens: tensor([[217,   0,   0,   0,   0]])\n",
      "                                    \t\t and corresponding ages tensor([[10.9896,  0.0000,  0.0000,  0.0000,  0.0000]])\n",
      "WARNING:root:Fine-tuning batch has 1 samples without at least two events.\n",
      "WARNING:root:\tContinuing by removing singular samples, but these should be removed from the dataset.\n",
      "                                    \t\t Bad sample tokens: tensor([[234,   0,   0,   0,   0]])\n",
      "                                    \t\t and corresponding ages tensor([[10.8915,  0.0000,  0.0000,  0.0000,  0.0000]])\n",
      "WARNING:root:Fine-tuning batch has 1 samples without at least two events.\n",
      "WARNING:root:\tContinuing by removing singular samples, but these should be removed from the dataset.\n",
      "                                    \t\t Bad sample tokens: tensor([[260,   0,   0,   0,   0]])\n",
      "                                    \t\t and corresponding ages tensor([[13.3540,  0.0000,  0.0000,  0.0000,  0.0000]])\n",
      "WARNING:root:Fine-tuning batch has 1 samples without at least two events.\n",
      "WARNING:root:\tContinuing by removing singular samples, but these should be removed from the dataset.\n",
      "                                    \t\t Bad sample tokens: tensor([[255,   0,   0,   0,   0]])\n",
      "                                    \t\t and corresponding ages tensor([[11.4466,  0.0000,  0.0000,  0.0000,  0.0000]])\n",
      "WARNING:root:Fine-tuning batch has 1 samples without at least two events.\n",
      "WARNING:root:\tContinuing by removing singular samples, but these should be removed from the dataset.\n",
      "                                    \t\t Bad sample tokens: tensor([[260,   0,   0,   0,   0]])\n",
      "                                    \t\t and corresponding ages tensor([[10.3036,  0.0000,  0.0000,  0.0000,  0.0000]])\n",
      "WARNING:root:Fine-tuning batch has 1 samples without at least two events.\n",
      "WARNING:root:\tContinuing by removing singular samples, but these should be removed from the dataset.\n",
      "                                    \t\t Bad sample tokens: tensor([[217,   0,   0,   0,   0]])\n",
      "                                    \t\t and corresponding ages tensor([[10.7704,  0.0000,  0.0000,  0.0000,  0.0000]])\n",
      "WARNING:root:Fine-tuning batch has 1 samples without at least two events.\n",
      "WARNING:root:\tContinuing by removing singular samples, but these should be removed from the dataset.\n",
      "                                    \t\t Bad sample tokens: tensor([[260,   0,   0,   0,   0]])\n",
      "                                    \t\t and corresponding ages tensor([[12.7627,  0.0000,  0.0000,  0.0000,  0.0000]])\n",
      "WARNING:root:Fine-tuning batch has 1 samples without at least two events.\n",
      "WARNING:root:\tContinuing by removing singular samples, but these should be removed from the dataset.\n",
      "                                    \t\t Bad sample tokens: tensor([[152,   0,   0,   0,   0]])\n",
      "                                    \t\t and corresponding ages tensor([[11.2904,  0.0000,  0.0000,  0.0000,  0.0000]])\n",
      "WARNING:root:Fine-tuning batch has 1 samples without at least two events.\n",
      "WARNING:root:\tContinuing by removing singular samples, but these should be removed from the dataset.\n",
      "                                    \t\t Bad sample tokens: tensor([[217,   0,   0,   0,   0]])\n",
      "                                    \t\t and corresponding ages tensor([[12.8142,  0.0000,  0.0000,  0.0000,  0.0000]])\n",
      "WARNING:root:Fine-tuning batch has 1 samples without at least two events.\n",
      "WARNING:root:\tContinuing by removing singular samples, but these should be removed from the dataset.\n",
      "                                    \t\t Bad sample tokens: tensor([[217,   0,   0,   0,   0]])\n",
      "                                    \t\t and corresponding ages tensor([[11.6164,  0.0000,  0.0000,  0.0000,  0.0000]])\n",
      "WARNING:root:Fine-tuning batch has 1 samples without at least two events.\n",
      "WARNING:root:\tContinuing by removing singular samples, but these should be removed from the dataset.\n",
      "                                    \t\t Bad sample tokens: tensor([[260,   0,   0,   0,   0]])\n",
      "                                    \t\t and corresponding ages tensor([[10.2296,  0.0000,  0.0000,  0.0000,  0.0000]])\n",
      "WARNING:root:Fine-tuning batch has 1 samples without at least two events.\n",
      "WARNING:root:\tContinuing by removing singular samples, but these should be removed from the dataset.\n",
      "                                    \t\t Bad sample tokens: tensor([[217,   0,   0,   0,   0]])\n",
      "                                    \t\t and corresponding ages tensor([[11.0241,  0.0000,  0.0000,  0.0000,  0.0000]])\n",
      "WARNING:root:Fine-tuning batch has 1 samples without at least two events.\n",
      "WARNING:root:\tContinuing by removing singular samples, but these should be removed from the dataset.\n",
      "                                    \t\t Bad sample tokens: tensor([[217,   0,   0,   0,   0]])\n",
      "                                    \t\t and corresponding ages tensor([[10.4263,  0.0000,  0.0000,  0.0000,  0.0000]])\n",
      "WARNING:root:Fine-tuning batch has 2 samples without at least two events.\n",
      "WARNING:root:\tContinuing by removing singular samples, but these should be removed from the dataset.\n",
      "                                    \t\t Bad sample tokens: tensor([[217,   0,   0,   0,   0],\n",
      "        [184,   0,   0,   0,   0]])\n",
      "                                    \t\t and corresponding ages tensor([[11.6384,  0.0000,  0.0000,  0.0000,  0.0000],\n",
      "        [11.0378,  0.0000,  0.0000,  0.0000,  0.0000]])\n",
      "WARNING:root:Fine-tuning batch has 1 samples without at least two events.\n",
      "WARNING:root:\tContinuing by removing singular samples, but these should be removed from the dataset.\n",
      "                                    \t\t Bad sample tokens: tensor([[260,   0,   0,   0,   0]])\n",
      "                                    \t\t and corresponding ages tensor([[12.7868,  0.0000,  0.0000,  0.0000,  0.0000]])\n",
      "WARNING:root:Fine-tuning batch has 1 samples without at least two events.\n",
      "WARNING:root:\tContinuing by removing singular samples, but these should be removed from the dataset.\n",
      "                                    \t\t Bad sample tokens: tensor([[217,   0,   0,   0,   0]])\n",
      "                                    \t\t and corresponding ages tensor([[11.2499,  0.0000,  0.0000,  0.0000,  0.0000]])\n",
      "WARNING:root:Fine-tuning batch has 1 samples without at least two events.\n",
      "WARNING:root:\tContinuing by removing singular samples, but these should be removed from the dataset.\n",
      "                                    \t\t Bad sample tokens: tensor([[184,   0,   0,   0,   0]])\n",
      "                                    \t\t and corresponding ages tensor([[10.7129,  0.0000,  0.0000,  0.0000,  0.0000]])\n",
      "WARNING:root:Fine-tuning batch has 1 samples without at least two events.\n",
      "WARNING:root:\tContinuing by removing singular samples, but these should be removed from the dataset.\n",
      "                                    \t\t Bad sample tokens: tensor([[217,   0,   0,   0,   0]])\n",
      "                                    \t\t and corresponding ages tensor([[10.1627,  0.0000,  0.0000,  0.0000,  0.0000]])\n",
      "WARNING:root:Fine-tuning batch has 1 samples without at least two events.\n",
      "WARNING:root:\tContinuing by removing singular samples, but these should be removed from the dataset.\n",
      "                                    \t\t Bad sample tokens: tensor([[255,   0,   0,   0,   0]])\n",
      "                                    \t\t and corresponding ages tensor([[12.6882,  0.0000,  0.0000,  0.0000,  0.0000]])\n",
      "WARNING:root:Fine-tuning batch has 1 samples without at least two events.\n",
      "WARNING:root:\tContinuing by removing singular samples, but these should be removed from the dataset.\n",
      "                                    \t\t Bad sample tokens: tensor([[255,   0,   0,   0,   0]])\n",
      "                                    \t\t and corresponding ages tensor([[12.1195,  0.0000,  0.0000,  0.0000,  0.0000]])\n",
      "WARNING:root:Fine-tuning batch has 1 samples without at least two events.\n",
      "WARNING:root:\tContinuing by removing singular samples, but these should be removed from the dataset.\n",
      "                                    \t\t Bad sample tokens: tensor([[260,   0,   0,   0,   0]])\n",
      "                                    \t\t and corresponding ages tensor([[12.6904,  0.0000,  0.0000,  0.0000,  0.0000]])\n",
      "WARNING:root:Fine-tuning batch has 1 samples without at least two events.\n",
      "WARNING:root:\tContinuing by removing singular samples, but these should be removed from the dataset.\n",
      "                                    \t\t Bad sample tokens: tensor([[217,   0,   0,   0,   0]])\n",
      "                                    \t\t and corresponding ages tensor([[11.8164,  0.0000,  0.0000,  0.0000,  0.0000]])\n",
      "WARNING:root:Fine-tuning batch has 1 samples without at least two events.\n",
      "WARNING:root:\tContinuing by removing singular samples, but these should be removed from the dataset.\n",
      "                                    \t\t Bad sample tokens: tensor([[189,   0,   0,   0,   0]])\n",
      "                                    \t\t and corresponding ages tensor([[12.0773,  0.0000,  0.0000,  0.0000,  0.0000]])\n",
      "WARNING:root:Fine-tuning batch has 1 samples without at least two events.\n",
      "WARNING:root:\tContinuing by removing singular samples, but these should be removed from the dataset.\n",
      "                                    \t\t Bad sample tokens: tensor([[217,   0,   0,   0,   0]])\n",
      "                                    \t\t and corresponding ages tensor([[10.6948,  0.0000,  0.0000,  0.0000,  0.0000]])\n",
      "WARNING:root:Fine-tuning batch has 1 samples without at least two events.\n",
      "WARNING:root:\tContinuing by removing singular samples, but these should be removed from the dataset.\n",
      "                                    \t\t Bad sample tokens: tensor([[217,   0,   0,   0,   0]])\n",
      "                                    \t\t and corresponding ages tensor([[10.1112,  0.0000,  0.0000,  0.0000,  0.0000]])\n",
      "WARNING:root:Fine-tuning batch has 1 samples without at least two events.\n",
      "WARNING:root:\tContinuing by removing singular samples, but these should be removed from the dataset.\n",
      "                                    \t\t Bad sample tokens: tensor([[177,   0,   0,   0,   0]])\n",
      "                                    \t\t and corresponding ages tensor([[10.2860,  0.0000,  0.0000,  0.0000,  0.0000]])\n",
      "WARNING:root:Fine-tuning batch has 1 samples without at least two events.\n",
      "WARNING:root:\tContinuing by removing singular samples, but these should be removed from the dataset.\n",
      "                                    \t\t Bad sample tokens: tensor([[217,   0,   0,   0,   0]])\n",
      "                                    \t\t and corresponding ages tensor([[10.4690,  0.0000,  0.0000,  0.0000,  0.0000]])\n",
      "WARNING:root:Fine-tuning batch has 1 samples without at least two events.\n",
      "WARNING:root:\tContinuing by removing singular samples, but these should be removed from the dataset.\n",
      "                                    \t\t Bad sample tokens: tensor([[184,   0,   0,   0,   0]])\n",
      "                                    \t\t and corresponding ages tensor([[11.9951,  0.0000,  0.0000,  0.0000,  0.0000]])\n",
      "WARNING:root:Fine-tuning batch has 1 samples without at least two events.\n",
      "WARNING:root:\tContinuing by removing singular samples, but these should be removed from the dataset.\n",
      "                                    \t\t Bad sample tokens: tensor([[217,   0,   0,   0,   0]])\n",
      "                                    \t\t and corresponding ages tensor([[12.2942,  0.0000,  0.0000,  0.0000,  0.0000]])\n",
      "WARNING:root:Fine-tuning batch has 1 samples without at least two events.\n",
      "WARNING:root:\tContinuing by removing singular samples, but these should be removed from the dataset.\n",
      "                                    \t\t Bad sample tokens: tensor([[260,   0,   0,   0,   0]])\n",
      "                                    \t\t and corresponding ages tensor([[12.4049,  0.0000,  0.0000,  0.0000,  0.0000]])\n",
      "WARNING:root:Fine-tuning batch has 1 samples without at least two events.\n",
      "WARNING:root:\tContinuing by removing singular samples, but these should be removed from the dataset.\n",
      "                                    \t\t Bad sample tokens: tensor([[260,   0,   0,   0,   0]])\n",
      "                                    \t\t and corresponding ages tensor([[10.0784,  0.0000,  0.0000,  0.0000,  0.0000]])\n",
      "WARNING:root:Fine-tuning batch has 1 samples without at least two events.\n",
      "WARNING:root:\tContinuing by removing singular samples, but these should be removed from the dataset.\n",
      "                                    \t\t Bad sample tokens: tensor([[218,   0,   0,   0,   0]])\n",
      "                                    \t\t and corresponding ages tensor([[11.8186,  0.0000,  0.0000,  0.0000,  0.0000]])\n",
      "WARNING:root:Fine-tuning batch has 1 samples without at least two events.\n",
      "WARNING:root:\tContinuing by removing singular samples, but these should be removed from the dataset.\n",
      "                                    \t\t Bad sample tokens: tensor([[217,   0,   0,   0,   0]])\n",
      "                                    \t\t and corresponding ages tensor([[11.6427,  0.0000,  0.0000,  0.0000,  0.0000]])\n",
      "WARNING:root:Fine-tuning batch has 1 samples without at least two events.\n",
      "WARNING:root:\tContinuing by removing singular samples, but these should be removed from the dataset.\n",
      "                                    \t\t Bad sample tokens: tensor([[184,   0,   0,   0,   0]])\n",
      "                                    \t\t and corresponding ages tensor([[13.1342,  0.0000,  0.0000,  0.0000,  0.0000]])\n",
      "WARNING:root:Fine-tuning batch has 1 samples without at least two events.\n",
      "WARNING:root:\tContinuing by removing singular samples, but these should be removed from the dataset.\n",
      "                                    \t\t Bad sample tokens: tensor([[260,   0,   0,   0,   0]])\n",
      "                                    \t\t and corresponding ages tensor([[12.6274,  0.0000,  0.0000,  0.0000,  0.0000]])\n",
      "WARNING:root:Fine-tuning batch has 1 samples without at least two events.\n",
      "WARNING:root:\tContinuing by removing singular samples, but these should be removed from the dataset.\n",
      "                                    \t\t Bad sample tokens: tensor([[217,   0,   0,   0,   0]])\n",
      "                                    \t\t and corresponding ages tensor([[10.7156,  0.0000,  0.0000,  0.0000,  0.0000]])\n",
      "WARNING:root:Fine-tuning batch has 1 samples without at least two events.\n",
      "WARNING:root:\tContinuing by removing singular samples, but these should be removed from the dataset.\n",
      "                                    \t\t Bad sample tokens: tensor([[217,   0,   0,   0,   0]])\n",
      "                                    \t\t and corresponding ages tensor([[12.3167,  0.0000,  0.0000,  0.0000,  0.0000]])\n",
      "WARNING:root:Fine-tuning batch has 1 samples without at least two events.\n",
      "WARNING:root:\tContinuing by removing singular samples, but these should be removed from the dataset.\n",
      "                                    \t\t Bad sample tokens: tensor([[217,   0,   0,   0,   0]])\n",
      "                                    \t\t and corresponding ages tensor([[10.9162,  0.0000,  0.0000,  0.0000,  0.0000]])\n",
      "WARNING:root:Fine-tuning batch has 1 samples without at least two events.\n",
      "WARNING:root:\tContinuing by removing singular samples, but these should be removed from the dataset.\n",
      "                                    \t\t Bad sample tokens: tensor([[260,   0,   0,   0,   0]])\n",
      "                                    \t\t and corresponding ages tensor([[10.6307,  0.0000,  0.0000,  0.0000,  0.0000]])\n",
      "WARNING:root:Fine-tuning batch has 1 samples without at least two events.\n",
      "WARNING:root:\tContinuing by removing singular samples, but these should be removed from the dataset.\n",
      "                                    \t\t Bad sample tokens: tensor([[260,   0,   0,   0,   0]])\n",
      "                                    \t\t and corresponding ages tensor([[13.1748,  0.0000,  0.0000,  0.0000,  0.0000]])\n",
      "WARNING:root:Fine-tuning batch has 1 samples without at least two events.\n",
      "WARNING:root:\tContinuing by removing singular samples, but these should be removed from the dataset.\n",
      "                                    \t\t Bad sample tokens: tensor([[217,   0,   0,   0,   0]])\n",
      "                                    \t\t and corresponding ages tensor([[10.9162,  0.0000,  0.0000,  0.0000,  0.0000]])\n",
      "WARNING:root:Fine-tuning batch has 1 samples without at least two events.\n",
      "WARNING:root:\tContinuing by removing singular samples, but these should be removed from the dataset.\n",
      "                                    \t\t Bad sample tokens: tensor([[217,   0,   0,   0,   0]])\n",
      "                                    \t\t and corresponding ages tensor([[10.1156,  0.0000,  0.0000,  0.0000,  0.0000]])\n",
      "WARNING:root:Fine-tuning batch has 1 samples without at least two events.\n",
      "WARNING:root:\tContinuing by removing singular samples, but these should be removed from the dataset.\n",
      "                                    \t\t Bad sample tokens: tensor([[217,   0,   0,   0,   0]])\n",
      "                                    \t\t and corresponding ages tensor([[10.1156,  0.0000,  0.0000,  0.0000,  0.0000]])\n",
      "WARNING:root:Fine-tuning batch has 1 samples without at least two events.\n",
      "WARNING:root:\tContinuing by removing singular samples, but these should be removed from the dataset.\n",
      "                                    \t\t Bad sample tokens: tensor([[217,   0,   0,   0,   0]])\n",
      "                                    \t\t and corresponding ages tensor([[11.8904,  0.0000,  0.0000,  0.0000,  0.0000]])\n",
      "WARNING:root:Fine-tuning batch has 1 samples without at least two events.\n",
      "WARNING:root:\tContinuing by removing singular samples, but these should be removed from the dataset.\n",
      "                                    \t\t Bad sample tokens: tensor([[217,   0,   0,   0,   0]])\n",
      "                                    \t\t and corresponding ages tensor([[10.3408,  0.0000,  0.0000,  0.0000,  0.0000]])\n",
      "WARNING:root:Fine-tuning batch has 1 samples without at least two events.\n",
      "WARNING:root:\tContinuing by removing singular samples, but these should be removed from the dataset.\n",
      "                                    \t\t Bad sample tokens: tensor([[260,   0,   0,   0,   0]])\n",
      "                                    \t\t and corresponding ages tensor([[11.2258,  0.0000,  0.0000,  0.0000,  0.0000]])\n"
     ]
    },
    {
     "data": {
      "text/html": [
       "<pre style=\"white-space:pre;overflow-x:auto;line-height:normal;font-family:Menlo,'DejaVu Sans Mono',consolas,'Courier New',monospace\">┏━━━━━━━━━━━━━━━━━━━━━━━━━━━━━━━━━━━━━┳━━━━━━━━━━━━━━━━━━━━━━━━━━━━━━━━━━━━━┓\n",
       "┃<span style=\"font-weight: bold\">             Test metric             </span>┃<span style=\"font-weight: bold\">            DataLoader 0             </span>┃\n",
       "┡━━━━━━━━━━━━━━━━━━━━━━━━━━━━━━━━━━━━━╇━━━━━━━━━━━━━━━━━━━━━━━━━━━━━━━━━━━━━┩\n",
       "│<span style=\"color: #008080; text-decoration-color: #008080\">  Test:OutcomePerformanceMetricsctd  </span>│<span style=\"color: #800080; text-decoration-color: #800080\">         0.7261480689048767          </span>│\n",
       "│<span style=\"color: #008080; text-decoration-color: #008080\">  Test:OutcomePerformanceMetricsibs  </span>│<span style=\"color: #800080; text-decoration-color: #800080\">         0.10712722074406386         </span>│\n",
       "│<span style=\"color: #008080; text-decoration-color: #008080\"> Test:OutcomePerformanceMetricsinbll </span>│<span style=\"color: #800080; text-decoration-color: #800080\">         0.3345218206705762          </span>│\n",
       "│<span style=\"color: #008080; text-decoration-color: #008080\">              test_loss              </span>│<span style=\"color: #800080; text-decoration-color: #800080\">          2.73171067237854           </span>│\n",
       "└─────────────────────────────────────┴─────────────────────────────────────┘\n",
       "</pre>\n"
      ],
      "text/plain": [
       "┏━━━━━━━━━━━━━━━━━━━━━━━━━━━━━━━━━━━━━┳━━━━━━━━━━━━━━━━━━━━━━━━━━━━━━━━━━━━━┓\n",
       "┃\u001b[1m \u001b[0m\u001b[1m            Test metric            \u001b[0m\u001b[1m \u001b[0m┃\u001b[1m \u001b[0m\u001b[1m           DataLoader 0            \u001b[0m\u001b[1m \u001b[0m┃\n",
       "┡━━━━━━━━━━━━━━━━━━━━━━━━━━━━━━━━━━━━━╇━━━━━━━━━━━━━━━━━━━━━━━━━━━━━━━━━━━━━┩\n",
       "│\u001b[36m \u001b[0m\u001b[36m Test:OutcomePerformanceMetricsctd \u001b[0m\u001b[36m \u001b[0m│\u001b[35m \u001b[0m\u001b[35m        0.7261480689048767         \u001b[0m\u001b[35m \u001b[0m│\n",
       "│\u001b[36m \u001b[0m\u001b[36m Test:OutcomePerformanceMetricsibs \u001b[0m\u001b[36m \u001b[0m│\u001b[35m \u001b[0m\u001b[35m        0.10712722074406386        \u001b[0m\u001b[35m \u001b[0m│\n",
       "│\u001b[36m \u001b[0m\u001b[36mTest:OutcomePerformanceMetricsinbll\u001b[0m\u001b[36m \u001b[0m│\u001b[35m \u001b[0m\u001b[35m        0.3345218206705762         \u001b[0m\u001b[35m \u001b[0m│\n",
       "│\u001b[36m \u001b[0m\u001b[36m             test_loss             \u001b[0m\u001b[36m \u001b[0m│\u001b[35m \u001b[0m\u001b[35m         2.73171067237854          \u001b[0m\u001b[35m \u001b[0m│\n",
       "└─────────────────────────────────────┴─────────────────────────────────────┘\n"
      ]
     },
     "metadata": {},
     "output_type": "display_data"
    },
    {
     "name": "stdout",
     "output_type": "stream",
     "text": [
      "Loaded model with 11.321432 M parameters\n"
     ]
    },
    {
     "data": {
      "text/html": [
       "Waiting for W&B process to finish... <strong style=\"color:green\">(success).</strong>"
      ],
      "text/plain": [
       "<IPython.core.display.HTML object>"
      ]
     },
     "metadata": {},
     "output_type": "display_data"
    },
    {
     "data": {
      "application/vnd.jupyter.widget-view+json": {
       "model_id": "cb9efda045c740f8bc44749d10259328",
       "version_major": 2,
       "version_minor": 0
      },
      "text/plain": [
       "VBox(children=(Label(value='244.416 MB of 244.416 MB uploaded (0.000 MB deduped)\\r'), FloatProgress(value=1.0,…"
      ]
     },
     "metadata": {},
     "output_type": "display_data"
    },
    {
     "data": {
      "text/html": [
       "<style>\n",
       "    table.wandb td:nth-child(1) { padding: 0 10px; text-align: left ; width: auto;} td:nth-child(2) {text-align: left ; width: 100%}\n",
       "    .wandb-row { display: flex; flex-direction: row; flex-wrap: wrap; justify-content: flex-start; width: 100% }\n",
       "    .wandb-col { display: flex; flex-direction: column; flex-basis: 100%; flex: 1; padding: 10px; }\n",
       "    </style>\n",
       "<div class=\"wandb-row\"><div class=\"wandb-col\"><h3>Run history:</h3><br/><table class=\"wandb\"><tr><td>Scheduler</td><td>▁▁▁▁▁▁▁▁▁▁▁▁▁▁▁▁▁▁▁▁▁▁▁▁▁▁▁▁▁▁▁▁▁▁▁▁▁▁▁▁</td></tr><tr><td>Test:OutcomePerformanceMetricsctd</td><td>▁</td></tr><tr><td>Test:OutcomePerformanceMetricsibs</td><td>▁</td></tr><tr><td>Test:OutcomePerformanceMetricsinbll</td><td>▁</td></tr><tr><td>Val:OutcomePerformanceMetricsctd</td><td>▁▂▃▅▅▆▆▆▇▇▇▇▇▇▇▇▇▇██████████████████████</td></tr><tr><td>Val:OutcomePerformanceMetricsibs</td><td>█▆▆▅▅▄▄▄▄▄▃▃▃▃▂▃▂▂▂▃▂▂▁▁▁▁▁▂▂▁▁▁▁▂▁▁▂▁▁▁</td></tr><tr><td>Val:OutcomePerformanceMetricsinbll</td><td>█▇▆▆▆▅▅▅▅▄▄▃▃▄▃▄▂▃▂▃▂▂▂▁▂▁▁▂▂▁▂▁▁▂▂▁▂▁▁▁</td></tr><tr><td>epoch</td><td>▁▁▁▁▁▁▁▁▁▁▁▁▁▁▁▁▁▁▁▁▁▁▁▁▁▁▁▁▁▁▁▁▁▁▁▁▁▁▁█</td></tr><tr><td>test_loss</td><td>▁</td></tr><tr><td>train_loss</td><td>█▇▇▄▆▄▇▅▆▄▆▆▄▅▄▆▄▂▃▄▅▄▃▄▇▅▃▃▇▁▄▄▅▆▃</td></tr><tr><td>trainer/global_step</td><td>▁▂▃▅▆▇██████████████████████████████████</td></tr><tr><td>val_loss</td><td>█▆▅▄▃▃▃▃▃▃▃▂▂▂▂▂▂▂▂▂▂▁▁▁▁▁▁▁▁▁▁▁▁▁▁▁▁▁▁▁</td></tr></table><br/></div><div class=\"wandb-col\"><h3>Run summary:</h3><br/><table class=\"wandb\"><tr><td>Scheduler</td><td>0.001</td></tr><tr><td>Test:OutcomePerformanceMetricsctd</td><td>0.72615</td></tr><tr><td>Test:OutcomePerformanceMetricsibs</td><td>0.10713</td></tr><tr><td>Test:OutcomePerformanceMetricsinbll</td><td>0.33452</td></tr><tr><td>Val:OutcomePerformanceMetricsctd</td><td>0.7278</td></tr><tr><td>Val:OutcomePerformanceMetricsibs</td><td>0.09737</td></tr><tr><td>Val:OutcomePerformanceMetricsinbll</td><td>0.31127</td></tr><tr><td>epoch</td><td>1</td></tr><tr><td>test_loss</td><td>2.73171</td></tr><tr><td>train_loss</td><td>2.51459</td></tr><tr><td>trainer/global_step</td><td>712</td></tr><tr><td>val_loss</td><td>2.53629</td></tr></table><br/></div></div>"
      ],
      "text/plain": [
       "<IPython.core.display.HTML object>"
      ]
     },
     "metadata": {},
     "output_type": "display_data"
    },
    {
     "data": {
      "text/html": [
       "Synced <strong style=\"color:#cdcd00\">SurvivEHR-cr-small-v1_mm-fine-tune-cr-A8-notebook</strong>: <a href=\"https://wandb.ai/cwlgadd/SurvivEHR-Study3-MM/runs/ton64b5l\" target=\"_blank\">https://wandb.ai/cwlgadd/SurvivEHR-Study3-MM/runs/ton64b5l</a><br/>Synced 5 W&B file(s), 1670 media file(s), 0 artifact file(s) and 0 other file(s)"
      ],
      "text/plain": [
       "<IPython.core.display.HTML object>"
      ]
     },
     "metadata": {},
     "output_type": "display_data"
    },
    {
     "data": {
      "text/html": [
       "Find logs at: <code>/rds/projects/s/subramaa-mum-predict/CharlesGadd_Oxford/FoundationModelOutput/wandb/run-20250205_161227-ton64b5l/logs</code>"
      ],
      "text/plain": [
       "<IPython.core.display.HTML object>"
      ]
     },
     "metadata": {},
     "output_type": "display_data"
    }
   ],
   "source": [
    "if True:\n",
    "    for pre_trained_model in pre_trained_model_ids[1:2]:\n",
    "        print(pre_trained_model)\n",
    "    \n",
    "        for experiment, experiment_type in zip(experiments, experiment_types):\n",
    "        \n",
    "            wandb.finish()\n",
    "            # load the configuration file, override any settings \n",
    "            with initialize(version_base=None, config_path=\"../../../confs\", job_name=\"testing_notebook\"):\n",
    "                cfg = compose(config_name=\"config_CompetingRisk11M\", \n",
    "                              overrides=[# Experiment setup\n",
    "                                         f\"experiment.project_name='SurvivEHR-Study3-MM'\",\n",
    "                                         f\"experiment.type='{experiment_type}'\",\n",
    "                                         f\"experiment.run_id='{pre_trained_model}'\",\n",
    "                                         f\"experiment.fine_tune_id='{experiment}-{experiment_type}-A{adapter}-notebook'\",\n",
    "                                         \"experiment.train=True\",\n",
    "                                         \"experiment.test=True\",\n",
    "                                         \"experiment.notes=Table result\",\n",
    "                                         # Dataloader\n",
    "                                         \"data.batch_size=128\",\n",
    "                                         \"data.meta_information_path=/rds/projects/g/gokhalkm-optimal/OPTIMAL_MASTER_DATASET/data/FoundationalModel/PreTrain/meta_information_QuantJenny.pickle\",\n",
    "                                         \"data.min_workers=3\",\n",
    "                                         \"data.global_diagnoses=True\",\n",
    "                                         \"data.repeating_events=False\",\n",
    "                                         # Optimiser\n",
    "                                         \"optim.num_epochs=20\",\n",
    "                                         \"optim.limit_test_batches=null\",\n",
    "                                         \"optim.scheduler=ReduceOnPlateau\",\n",
    "                                         \"optim.scheduler_warmup=False\",\n",
    "                                         \"optim.learning_rate=1e-3\",\n",
    "                                         \"optim.val_check_interval=50\",\n",
    "                                         \"optim.early_stop=True\",\n",
    "                                         \"optim.early_stop_patience=4\",\n",
    "                                         \"optim.limit_val_batches=0.035\",\n",
    "                                         \"optim.accumulate_grad_batches=4\",\n",
    "                                         # Model\n",
    "                                         # \"transformer.n_embd=384\",\n",
    "                                         f\"transformer.use_fine_tune_adapter={False if adapter is False else True}\",\n",
    "                                         f\"transformer.adapter_dim={8 if adapter is False else adapter}\",\n",
    "                                         \"transformer.block_size=512\", \n",
    "                                        ]\n",
    "                             )\n",
    "            \n",
    "            match experiment.lower():\n",
    "                case \"mm\":\n",
    "                    cfg.data.path_to_ds=\"/rds/projects/g/gokhalkm-optimal/OPTIMAL_MASTER_DATASET/data/FoundationalModel/FineTune_MultiMorbidity/\"\n",
    "\n",
    "                    # Load dataset in most minimal form (this isnt used for the experiment - only to extract the token names for the diagnoses)\n",
    "                    dm = FoundationalDataModule(path_to_db=cfg.data.path_to_db,\n",
    "                                                path_to_ds=cfg.data.path_to_ds,\n",
    "                                                overwrite_meta_information=cfg.data.meta_information_path,\n",
    "                                                load=True)\n",
    "                    conditions = (\n",
    "                        dm.tokenizer._event_counts.filter((pl.col(\"COUNT\") > 0) &\n",
    "                            (pl.col(\"EVENT\").str.contains(r'^[A-Z0-9_]+$')))\n",
    "                          .select(\"EVENT\")\n",
    "                          .to_series()\n",
    "                          .to_list()\n",
    "                    )\n",
    "                    cfg.experiment.fine_tune_outcomes=conditions\n",
    "            \n",
    "            \n",
    "            model, dm = run(cfg)\n",
    "            print(f\"Loaded model with {sum(p.numel() for p in model.parameters())/1e6} M parameters\")\n",
    "            wandb.finish()\n",
    "\n"
   ]
  },
  {
   "cell_type": "markdown",
   "id": "a68e4721-b2ca-44c8-9760-55442aa8803f",
   "metadata": {},
   "source": [
    "```\n",
    "┏━━━━━━━━━━━━━━━━━━━━━━━━━━━━━━━━━━━━━┳━━━━━━━━━━━━━━━━━━━━━━━━━━━━━━━━━━━━━┓\n",
    "┃             Test metric             ┃            DataLoader 0             ┃\n",
    "┡━━━━━━━━━━━━━━━━━━━━━━━━━━━━━━━━━━━━━╇━━━━━━━━━━━━━━━━━━━━━━━━━━━━━━━━━━━━━┩\n",
    "└─────────────────────────────────────┴─────────────────────────────────────┘\n",
    "```"
   ]
  },
  {
   "cell_type": "code",
   "execution_count": 5,
   "id": "65799ee6-9462-42a0-a293-dd4cac545d36",
   "metadata": {},
   "outputs": [],
   "source": [
    "# [_i if _i == _i.upper() else 0 for _i in dm.train_set.tokenizer._stoi.keys()]"
   ]
  },
  {
   "cell_type": "markdown",
   "id": "62557fe3-6772-411b-b16a-14edc0d366de",
   "metadata": {},
   "source": [
    "# Fine-tuning on sub-set of data"
   ]
  },
  {
   "cell_type": "code",
   "execution_count": 6,
   "id": "394bdffe-a788-4b32-8563-044daaf283b3",
   "metadata": {},
   "outputs": [
    {
     "name": "stdout",
     "output_type": "stream",
     "text": [
      "[2999, 5296, 9351, 16509, 29148, 51461, 90856, 160407, 283203, 500000]\n"
     ]
    }
   ],
   "source": [
    "sample_sizes = [int(np.exp(_log_n)) for _log_n in np.linspace(np.log(3000), np.log(500000), 10)]\n",
    "print(sample_sizes)"
   ]
  },
  {
   "cell_type": "code",
   "execution_count": null,
   "id": "ac4b72e2-a938-46b0-aea4-f56517283a1e",
   "metadata": {},
   "outputs": [
    {
     "name": "stdout",
     "output_type": "stream",
     "text": [
      "SurvivEHR-cr-small-v1\n"
     ]
    },
    {
     "name": "stderr",
     "output_type": "stream",
     "text": [
      "/rds/bear-apps/2022a/EL8-ice/software/PyTorch-Lightning/2.1.0-foss-2022a-CUDA-11.7.0/lib/python3.10/site-packages/pytorch_lightning/core/saving.py:173: Found keys that are in the model state dict but not in the checkpoint: ['model.transformer.blocks.0.adapter_1.proj.0.weight', 'model.transformer.blocks.0.adapter_1.proj.0.bias', 'model.transformer.blocks.0.adapter_1.proj.2.weight', 'model.transformer.blocks.0.adapter_1.proj.2.bias', 'model.transformer.blocks.0.adapter_2.proj.0.weight', 'model.transformer.blocks.0.adapter_2.proj.0.bias', 'model.transformer.blocks.0.adapter_2.proj.2.weight', 'model.transformer.blocks.0.adapter_2.proj.2.bias', 'model.transformer.blocks.1.adapter_1.proj.0.weight', 'model.transformer.blocks.1.adapter_1.proj.0.bias', 'model.transformer.blocks.1.adapter_1.proj.2.weight', 'model.transformer.blocks.1.adapter_1.proj.2.bias', 'model.transformer.blocks.1.adapter_2.proj.0.weight', 'model.transformer.blocks.1.adapter_2.proj.0.bias', 'model.transformer.blocks.1.adapter_2.proj.2.weight', 'model.transformer.blocks.1.adapter_2.proj.2.bias', 'model.transformer.blocks.2.adapter_1.proj.0.weight', 'model.transformer.blocks.2.adapter_1.proj.0.bias', 'model.transformer.blocks.2.adapter_1.proj.2.weight', 'model.transformer.blocks.2.adapter_1.proj.2.bias', 'model.transformer.blocks.2.adapter_2.proj.0.weight', 'model.transformer.blocks.2.adapter_2.proj.0.bias', 'model.transformer.blocks.2.adapter_2.proj.2.weight', 'model.transformer.blocks.2.adapter_2.proj.2.bias', 'model.transformer.blocks.3.adapter_1.proj.0.weight', 'model.transformer.blocks.3.adapter_1.proj.0.bias', 'model.transformer.blocks.3.adapter_1.proj.2.weight', 'model.transformer.blocks.3.adapter_1.proj.2.bias', 'model.transformer.blocks.3.adapter_2.proj.0.weight', 'model.transformer.blocks.3.adapter_2.proj.0.bias', 'model.transformer.blocks.3.adapter_2.proj.2.weight', 'model.transformer.blocks.3.adapter_2.proj.2.bias', 'model.transformer.blocks.4.adapter_1.proj.0.weight', 'model.transformer.blocks.4.adapter_1.proj.0.bias', 'model.transformer.blocks.4.adapter_1.proj.2.weight', 'model.transformer.blocks.4.adapter_1.proj.2.bias', 'model.transformer.blocks.4.adapter_2.proj.0.weight', 'model.transformer.blocks.4.adapter_2.proj.0.bias', 'model.transformer.blocks.4.adapter_2.proj.2.weight', 'model.transformer.blocks.4.adapter_2.proj.2.bias', 'model.transformer.blocks.5.adapter_1.proj.0.weight', 'model.transformer.blocks.5.adapter_1.proj.0.bias', 'model.transformer.blocks.5.adapter_1.proj.2.weight', 'model.transformer.blocks.5.adapter_1.proj.2.bias', 'model.transformer.blocks.5.adapter_2.proj.0.weight', 'model.transformer.blocks.5.adapter_2.proj.0.bias', 'model.transformer.blocks.5.adapter_2.proj.2.weight', 'model.transformer.blocks.5.adapter_2.proj.2.bias', 'surv_layer.sr_ode.pinet.mapping.0.weight', 'surv_layer.sr_ode.pinet.mapping.0.bias', 'surv_layer.sr_ode.pinet.mapping.2.weight', 'surv_layer.sr_ode.pinet.mapping.2.bias', 'surv_layer.sr_ode.pinet.mapping.4.weight', 'surv_layer.sr_ode.pinet.mapping.4.bias', 'surv_layer.sr_ode.odenet.u', 'surv_layer.sr_ode.odenet.w', 'surv_layer.sr_ode.odenet.BaseNet.mapping.0.weight', 'surv_layer.sr_ode.odenet.BaseNet.mapping.0.bias', 'surv_layer.sr_ode.odenet.BaseNet.mapping.2.weight', 'surv_layer.sr_ode.odenet.BaseNet.mapping.2.bias', 'surv_layer.sr_ode.odenet.BaseNet.mapping.4.weight', 'surv_layer.sr_ode.odenet.BaseNet.mapping.4.bias']\n",
      "GPU available: True (cuda), used: True\n",
      "TPU available: False, using: 0 TPU cores\n",
      "IPU available: False, using: 0 IPUs\n",
      "HPU available: False, using: 0 HPUs\n",
      "ERROR:wandb.jupyter:Failed to detect the name of this notebook, you can set it manually with the WANDB_NOTEBOOK_NAME environment variable to enable code saving.\n",
      "\u001b[34m\u001b[1mwandb\u001b[0m: Currently logged in as: \u001b[33mcwlgadd\u001b[0m. Use \u001b[1m`wandb login --relogin`\u001b[0m to force relogin\n"
     ]
    },
    {
     "data": {
      "text/html": [
       "wandb version 0.19.5 is available!  To upgrade, please run:\n",
       " $ pip install wandb --upgrade"
      ],
      "text/plain": [
       "<IPython.core.display.HTML object>"
      ]
     },
     "metadata": {},
     "output_type": "display_data"
    },
    {
     "data": {
      "text/html": [
       "Tracking run with wandb version 0.13.6"
      ],
      "text/plain": [
       "<IPython.core.display.HTML object>"
      ]
     },
     "metadata": {},
     "output_type": "display_data"
    },
    {
     "data": {
      "text/html": [
       "Run data is saved locally in <code>/rds/projects/s/subramaa-mum-predict/CharlesGadd_Oxford/FoundationModelOutput/wandb/run-20250204_153601-2mvmri8e</code>"
      ],
      "text/plain": [
       "<IPython.core.display.HTML object>"
      ]
     },
     "metadata": {},
     "output_type": "display_data"
    },
    {
     "data": {
      "text/html": [
       "Syncing run <strong><a href=\"https://wandb.ai/cwlgadd/SurvivEHR-Study1-CVD/runs/2mvmri8e\" target=\"_blank\">SurvivEHR-cr-small-v1_cvd-fine-tune-cr-A8-NsNone-500-notebook</a></strong> to <a href=\"https://wandb.ai/cwlgadd/SurvivEHR-Study1-CVD\" target=\"_blank\">Weights & Biases</a> (<a href=\"https://wandb.me/run\" target=\"_blank\">docs</a>)<br/>"
      ],
      "text/plain": [
       "<IPython.core.display.HTML object>"
      ]
     },
     "metadata": {},
     "output_type": "display_data"
    },
    {
     "name": "stderr",
     "output_type": "stream",
     "text": [
      "/rds/bear-apps/2022a/EL8-ice/software/PyTorch-Lightning/2.1.0-foss-2022a-CUDA-11.7.0/lib/python3.10/site-packages/pytorch_lightning/callbacks/model_checkpoint.py:630: Checkpoint directory /rds/projects/s/subramaa-mum-predict/CharlesGadd_Oxford/FoundationModelOutput/checkpoints exists and is not empty.\n",
      "LOCAL_RANK: 0 - CUDA_VISIBLE_DEVICES: [0]\n",
      "\n",
      "  | Name       | Type                            | Params\n",
      "---------------------------------------------------------------\n",
      "0 | model      | SurvStreamGPTForCausalModelling | 11.3 M\n",
      "1 | surv_layer | ODESurvCompetingRiskLayer       | 27.1 K\n",
      "---------------------------------------------------------------\n",
      "115 K     Trainable params\n",
      "11.2 M    Non-trainable params\n",
      "11.3 M    Total params\n",
      "45.268    Total estimated model params size (MB)\n",
      "SLURM auto-requeueing enabled. Setting signal handlers.\n"
     ]
    },
    {
     "data": {
      "application/vnd.jupyter.widget-view+json": {
       "model_id": "",
       "version_major": 2,
       "version_minor": 0
      },
      "text/plain": [
       "Sanity Checking: |          | 0/? [00:00<?, ?it/s]"
      ]
     },
     "metadata": {},
     "output_type": "display_data"
    },
    {
     "data": {
      "application/vnd.jupyter.widget-view+json": {
       "model_id": "239125fa1e7442eab70a876ca06744a9",
       "version_major": 2,
       "version_minor": 0
      },
      "text/plain": [
       "Training: |          | 0/? [00:00<?, ?it/s]"
      ]
     },
     "metadata": {},
     "output_type": "display_data"
    }
   ],
   "source": [
    "sample_sizes = [int(np.exp(_log_n)) for _log_n in np.linspace(np.log(3000), np.log(500000), 10)]      # [3000, 12500, 30000, 60000, 100000]: # 600, 1200, \n",
    "sample_sizes = [None]\n",
    "\n",
    "accumulate_grad_batches = 5\n",
    "\n",
    "\n",
    "for pre_trained_model in pre_trained_model_ids[1:2]:\n",
    "    print(pre_trained_model)\n",
    "\n",
    "    for experiment, experiment_type in zip(experiments, experiment_types):\n",
    "\n",
    "        for sample_size in sample_sizes:\n",
    "\n",
    "            wandb.finish()\n",
    "            # load the configuration file, override any settings \n",
    "            with initialize(version_base=None, config_path=\"../../../confs\", job_name=\"testing_notebook\"):\n",
    "                cfg = compose(config_name=\"config_CompetingRisk11M\", \n",
    "                              overrides=[# Experiment setup\n",
    "                                         f\"experiment.project_name='SurvivEHR-Study1-CVD'\",\n",
    "                                         f\"experiment.type='{experiment_type}'\",\n",
    "                                         f\"experiment.run_id='{pre_trained_model}'\",\n",
    "                                         f\"experiment.fine_tune_id='{experiment}-{experiment_type}-A{adapter}-Ns{sample_size}-500-notebook'\",\n",
    "                                         \"experiment.train=True\",\n",
    "                                         \"experiment.test=True\",\n",
    "                                         \"experiment.notes=Ablation on increasing cohort study size result\",\n",
    "                                         # Dataloader\n",
    "                                         \"data.batch_size=128\",\n",
    "                                         \"data.meta_information_path=/rds/projects/g/gokhalkm-optimal/OPTIMAL_MASTER_DATASET/data/FoundationalModel/PreTrain/meta_information_QuantJenny.pickle\",\n",
    "                                         \"data.min_workers=3\",\n",
    "                                         \"data.global_diagnoses=True\",\n",
    "                                         \"data.repeating_events=False\",\n",
    "                                         # f\"data.subsample_training={sample_size}\",\n",
    "                                         # Optimiser\n",
    "                                         \"optim.num_epochs=500\",\n",
    "                                         \"optim.limit_test_batches=null\",\n",
    "                                         \"optim.scheduler=ReduceOnPlateau\",\n",
    "                                         \"optim.scheduler_warmup=False\",\n",
    "                                         \"optim.learning_rate=1e-3\",\n",
    "                                         \"optim.val_check_interval=0.25\",\n",
    "                                         \"optim.early_stop=True\",\n",
    "                                         \"optim.early_stop_patience=4\",\n",
    "                                         \"optim.limit_val_batches=0.035\",\n",
    "                                         f\"optim.accumulate_grad_batches={accumulate_grad_batches}\",\n",
    "                                         # Model\n",
    "                                         # \"transformer.n_embd=384\",\n",
    "                                         f\"transformer.use_fine_tune_adapter={False if adapter is False else True}\",\n",
    "                                         f\"transformer.adapter_dim={8 if adapter is False else adapter}\",\n",
    "                                         \"transformer.block_size=500\", \n",
    "                                        ]\n",
    "                             )\n",
    "            \n",
    "            \n",
    "            match experiment.lower():\n",
    "                case \"cvd\":\n",
    "                    cfg.data.path_to_ds=\"/rds/projects/g/gokhalkm-optimal/OPTIMAL_MASTER_DATASET/data/FoundationalModel/FineTune_CVD/\"\n",
    "                    cfg.experiment.fine_tune_outcomes=[\"IHDINCLUDINGMI_OPTIMALV2\", \"ISCHAEMICSTROKE_V2\", \"MINFARCTION\", \"STROKEUNSPECIFIED_V2\", \"STROKE_HAEMRGIC\"]\n",
    "                case \"hypertension\":\n",
    "                    cfg.data.path_to_ds=\"/rds/projects/g/gokhalkm-optimal/OPTIMAL_MASTER_DATASET/data/FoundationalModel/FineTune_Hypertension/\"\n",
    "                    cfg.experiment.fine_tune_outcomes=[\"HYPERTENSION\"]\n",
    "            \n",
    "            \n",
    "            model, dm = run(cfg)\n",
    "            print(f\"Loaded model with {sum(p.numel() for p in model.parameters())/1e6} M parameters\")\n",
    "            wandb.finish()\n"
   ]
  },
  {
   "cell_type": "code",
   "execution_count": null,
   "id": "a25b2aed-68b9-49b1-a804-2420199947a8",
   "metadata": {},
   "outputs": [],
   "source": [
    "wandb.finish()"
   ]
  },
  {
   "cell_type": "code",
   "execution_count": null,
   "id": "d1b4322e-5fa7-4079-8439-ca79cd6d1674",
   "metadata": {},
   "outputs": [],
   "source": [
    "dm.tokenizer._event_counts"
   ]
  },
  {
   "cell_type": "code",
   "execution_count": null,
   "id": "6184dc1d-6429-40cb-941a-5b21db8b8ce2",
   "metadata": {},
   "outputs": [],
   "source": [
    "all_CVD = {\n",
    "    \"SurvivEHR-cr-small-v1\": (\n",
    "        \"SurvivEHR-CR\",\n",
    "        [2999, 5296, 9351, 16509, 29148, 51461, 90856, 160407, 283203, 500000]],\n",
    "        [0.6270919442176819],\n",
    "        [0.03389651543792928],\n",
    "        [0.14657540914939907]\n",
    "        ),\n",
    "    \n",
    "}\n",
    "\n"
   ]
  }
 ],
 "metadata": {
  "kernelspec": {
   "display_name": "Python",
   "language": "python",
   "name": "sys_python"
  },
  "language_info": {
   "codemirror_mode": {
    "name": "ipython",
    "version": 3
   },
   "file_extension": ".py",
   "mimetype": "text/x-python",
   "name": "python",
   "nbconvert_exporter": "python",
   "pygments_lexer": "ipython3",
   "version": "3.10.4"
  }
 },
 "nbformat": 4,
 "nbformat_minor": 5
}
